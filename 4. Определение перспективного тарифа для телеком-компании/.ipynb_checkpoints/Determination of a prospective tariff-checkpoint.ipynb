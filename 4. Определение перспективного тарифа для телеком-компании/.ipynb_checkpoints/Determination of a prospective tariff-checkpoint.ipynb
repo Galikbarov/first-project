{
 "cells": [
  {
   "cell_type": "markdown",
   "metadata": {},
   "source": [
    "<font color='DarkBlue' size=+2><b>Комментарий ревьюера</b></font><br>\n",
    "<font color='DarkBlue'>Привет, Роман! <br>Меня зовут Олег Мазуренко, и я буду проверять этот проект. Спасибо за проделанную работу! <br>Предлагаю общаться на «ты».</font><br>\n",
    "<font color='DarkBlue'>Я буду использовать различные цвета, чтобы было удобнее воспринимать мои комментарии:</font><br>\n",
    "<font color='DarkBlue'>Синий текст &mdash; просто текст комментария.</font><br>\n",
    "<font color='DarkGreen'>👌 Зеленый текст &mdash; все отлично.</font><br>\n",
    "<font color='DarkMagenta'>👉 Фиолетовый текст &mdash; сделано все правильно, однако есть рекомендации, на что стоит обратить внимание.</font><br>\n",
    "<font color='Red'>🛠 Красный текст &mdash; есть недочеты, они иногда бывают.</font><br>\n",
    "<font color='DarkBlue'>Пожалуйста, не удаляй мои комментарии в случае возврата работы, так будет проще разобраться, какие были недочеты и сразу увидеть исправленное. </font><br>\n",
    "Ответы на мои комментарии лучше тоже помечать. \n",
    "Например: <font color='Blue'><b>Комментарий студента</b></font><br>\n",
    "<font color='DarkBlue'><b>Давай смотреть, что у нас получилось!</b></font>"
   ]
  },
  {
   "cell_type": "markdown",
   "metadata": {},
   "source": [
    "# Определение перспективного тарифа для телеком-компании"
   ]
  },
  {
   "cell_type": "markdown",
   "metadata": {},
   "source": [
    "Клиентам федерального оператора сотовой связи предлагают два тарифных плана: «Смарт» и «Ультра». Чтобы скорректировать рекламный бюджет, коммерческий департамент хочет понять, какой тариф приносит больше денег. Нам предстоит сделать предварительный анализ тарифов на небольшой выборке клиентов. В нашем распоряжении данные 500 пользователей «Мегалайна»: кто они, откуда, каким тарифом пользуются, сколько звонков и сообщений каждый отправил за 2018 год. Нужно проанализировать поведение клиентов и сделать вывод — какой тариф лучше.\n",
    "\n",
    "Описание тарифов:\n",
    "\n",
    "**Тариф «Смарт»**\n",
    "* Ежемесячная плата: 550 рублей\n",
    "Включено 500 минут разговора, 50 сообщений и 15 Гб интернет-трафика.\n",
    "Стоимость услуг сверх тарифного пакета:\n",
    "минута разговора: 3 рубля\n",
    "сообщение: 3 рубля\n",
    "1 Гб интернет-трафика: 200 рублей\n",
    "\n",
    "**Тариф «Ультра»**\n",
    "* Ежемесячная плата: 1950 рублей\n",
    "Включено 3000 минут разговора, 1000 сообщений и 30 Гб интернет-трафика.\n",
    "Стоимость услуг сверх тарифного пакета:\n",
    "минута разговора: 1 рубль\n",
    "сообщение: 1 рубль\n",
    "1 Гб интернет-трафика: 150 рублей\n",
    "\n",
    "**Цель исследования:**\n",
    "\n",
    "Проанализировать поведение клиентов и сделать вывод какой из двух тарифов лучше.\n",
    "\n",
    "**Ход исследования:** \n",
    "\n",
    "Данные о клиентах получим из файлов `calls.csv`, `internet.csv`, `messages.csv`, `tariffs.csv`, `users.csv`. О качестве данных ничего не известно. Поэтому перед работой с архивом понадобится обзор данных.\n",
    "\n",
    "Таким образом, исследование пройдёт в пять этапов:\n",
    " 1. Изучение данных из файла.\n",
    " 2. Подготовка данных.\n",
    " 3. Анализ данных.\n",
    " 4. Проверка гипотез.\n",
    " 5. Общий вывод.\n",
    "\n",
    "*Примечание:\n",
    "«Мегалайн» всегда округляет секунды до минут, а мегабайты — до гигабайт. Каждый звонок округляется отдельно: даже если он длился всего 1 секунду, будет засчитан как 1 минута.\n",
    "Для веб-трафика отдельные сессии не считаются. Вместо этого общая сумма за месяц округляется в бо́льшую сторону. Если абонент использует 1025 мегабайт в этом месяце, с него возьмут плату за 2 гигабайта.*"
   ]
  },
  {
   "cell_type": "markdown",
   "metadata": {},
   "source": [
    "<font color='DarkBlue'><b>Комментарий ревьюера</b></font><br>\n",
    "<font color='DarkGreen'>👌 Хорошо сделано описание к проекту. 👍</font>"
   ]
  },
  {
   "cell_type": "markdown",
   "metadata": {},
   "source": [
    "##  Откроем файл с данными и изучим общую информацию"
   ]
  },
  {
   "cell_type": "code",
   "execution_count": 1,
   "metadata": {},
   "outputs": [],
   "source": [
    "import pandas as pd\n",
    "import matplotlib.pyplot as plt\n",
    "import numpy as np\n",
    "from matplotlib import cm\n",
    "import seaborn as sns\n",
    "from scipy import stats as st"
   ]
  },
  {
   "cell_type": "code",
   "execution_count": 2,
   "metadata": {},
   "outputs": [],
   "source": [
    "df_calls = pd.read_csv('/datasets/calls.csv', parse_dates=['call_date'])\n",
    "df_internet = pd.read_csv('/datasets/internet.csv', parse_dates=['session_date'])\n",
    "df_messages = pd.read_csv('/datasets/messages.csv', parse_dates=['message_date'])\n",
    "df_users = pd.read_csv('/datasets/users.csv', parse_dates=['reg_date'])\n",
    "\n",
    "df_tariffs = pd.read_csv('/datasets/tariffs.csv')"
   ]
  },
  {
   "cell_type": "code",
   "execution_count": 3,
   "metadata": {},
   "outputs": [
    {
     "data": {
      "text/html": [
       "<div>\n",
       "<style scoped>\n",
       "    .dataframe tbody tr th:only-of-type {\n",
       "        vertical-align: middle;\n",
       "    }\n",
       "\n",
       "    .dataframe tbody tr th {\n",
       "        vertical-align: top;\n",
       "    }\n",
       "\n",
       "    .dataframe thead th {\n",
       "        text-align: right;\n",
       "    }\n",
       "</style>\n",
       "<table border=\"1\" class=\"dataframe\">\n",
       "  <thead>\n",
       "    <tr style=\"text-align: right;\">\n",
       "      <th></th>\n",
       "      <th>id</th>\n",
       "      <th>call_date</th>\n",
       "      <th>duration</th>\n",
       "      <th>user_id</th>\n",
       "    </tr>\n",
       "  </thead>\n",
       "  <tbody>\n",
       "    <tr>\n",
       "      <th>0</th>\n",
       "      <td>1000_0</td>\n",
       "      <td>2018-07-25</td>\n",
       "      <td>0.00</td>\n",
       "      <td>1000</td>\n",
       "    </tr>\n",
       "    <tr>\n",
       "      <th>1</th>\n",
       "      <td>1000_1</td>\n",
       "      <td>2018-08-17</td>\n",
       "      <td>0.00</td>\n",
       "      <td>1000</td>\n",
       "    </tr>\n",
       "    <tr>\n",
       "      <th>2</th>\n",
       "      <td>1000_2</td>\n",
       "      <td>2018-06-11</td>\n",
       "      <td>2.85</td>\n",
       "      <td>1000</td>\n",
       "    </tr>\n",
       "    <tr>\n",
       "      <th>3</th>\n",
       "      <td>1000_3</td>\n",
       "      <td>2018-09-21</td>\n",
       "      <td>13.80</td>\n",
       "      <td>1000</td>\n",
       "    </tr>\n",
       "    <tr>\n",
       "      <th>4</th>\n",
       "      <td>1000_4</td>\n",
       "      <td>2018-12-15</td>\n",
       "      <td>5.18</td>\n",
       "      <td>1000</td>\n",
       "    </tr>\n",
       "    <tr>\n",
       "      <th>...</th>\n",
       "      <td>...</td>\n",
       "      <td>...</td>\n",
       "      <td>...</td>\n",
       "      <td>...</td>\n",
       "    </tr>\n",
       "    <tr>\n",
       "      <th>202602</th>\n",
       "      <td>1499_215</td>\n",
       "      <td>2018-12-26</td>\n",
       "      <td>0.76</td>\n",
       "      <td>1499</td>\n",
       "    </tr>\n",
       "    <tr>\n",
       "      <th>202603</th>\n",
       "      <td>1499_216</td>\n",
       "      <td>2018-10-18</td>\n",
       "      <td>18.83</td>\n",
       "      <td>1499</td>\n",
       "    </tr>\n",
       "    <tr>\n",
       "      <th>202604</th>\n",
       "      <td>1499_217</td>\n",
       "      <td>2018-11-10</td>\n",
       "      <td>10.81</td>\n",
       "      <td>1499</td>\n",
       "    </tr>\n",
       "    <tr>\n",
       "      <th>202605</th>\n",
       "      <td>1499_218</td>\n",
       "      <td>2018-10-06</td>\n",
       "      <td>4.27</td>\n",
       "      <td>1499</td>\n",
       "    </tr>\n",
       "    <tr>\n",
       "      <th>202606</th>\n",
       "      <td>1499_219</td>\n",
       "      <td>2018-12-14</td>\n",
       "      <td>19.62</td>\n",
       "      <td>1499</td>\n",
       "    </tr>\n",
       "  </tbody>\n",
       "</table>\n",
       "<p>202607 rows × 4 columns</p>\n",
       "</div>"
      ],
      "text/plain": [
       "              id  call_date  duration  user_id\n",
       "0         1000_0 2018-07-25      0.00     1000\n",
       "1         1000_1 2018-08-17      0.00     1000\n",
       "2         1000_2 2018-06-11      2.85     1000\n",
       "3         1000_3 2018-09-21     13.80     1000\n",
       "4         1000_4 2018-12-15      5.18     1000\n",
       "...          ...        ...       ...      ...\n",
       "202602  1499_215 2018-12-26      0.76     1499\n",
       "202603  1499_216 2018-10-18     18.83     1499\n",
       "202604  1499_217 2018-11-10     10.81     1499\n",
       "202605  1499_218 2018-10-06      4.27     1499\n",
       "202606  1499_219 2018-12-14     19.62     1499\n",
       "\n",
       "[202607 rows x 4 columns]"
      ]
     },
     "execution_count": 3,
     "metadata": {},
     "output_type": "execute_result"
    }
   ],
   "source": [
    "df_calls"
   ]
  },
  {
   "cell_type": "markdown",
   "metadata": {},
   "source": [
    "Таблица calls (информация о звонках):\n",
    "* `id` — уникальный номер звонка\n",
    "* `call_date` — дата звонка\n",
    "* `duration` — длительность звонка в минутах\n",
    "* `user_id` — идентификатор пользователя, сделавшего звонок"
   ]
  },
  {
   "cell_type": "code",
   "execution_count": 4,
   "metadata": {},
   "outputs": [
    {
     "name": "stdout",
     "output_type": "stream",
     "text": [
      "<class 'pandas.core.frame.DataFrame'>\n",
      "RangeIndex: 202607 entries, 0 to 202606\n",
      "Data columns (total 4 columns):\n",
      " #   Column     Non-Null Count   Dtype         \n",
      "---  ------     --------------   -----         \n",
      " 0   id         202607 non-null  object        \n",
      " 1   call_date  202607 non-null  datetime64[ns]\n",
      " 2   duration   202607 non-null  float64       \n",
      " 3   user_id    202607 non-null  int64         \n",
      "dtypes: datetime64[ns](1), float64(1), int64(1), object(1)\n",
      "memory usage: 6.2+ MB\n"
     ]
    }
   ],
   "source": [
    "df_calls.info()"
   ]
  },
  {
   "cell_type": "code",
   "execution_count": 5,
   "metadata": {},
   "outputs": [
    {
     "data": {
      "text/html": [
       "<div>\n",
       "<style scoped>\n",
       "    .dataframe tbody tr th:only-of-type {\n",
       "        vertical-align: middle;\n",
       "    }\n",
       "\n",
       "    .dataframe tbody tr th {\n",
       "        vertical-align: top;\n",
       "    }\n",
       "\n",
       "    .dataframe thead th {\n",
       "        text-align: right;\n",
       "    }\n",
       "</style>\n",
       "<table border=\"1\" class=\"dataframe\">\n",
       "  <thead>\n",
       "    <tr style=\"text-align: right;\">\n",
       "      <th></th>\n",
       "      <th>Unnamed: 0</th>\n",
       "      <th>id</th>\n",
       "      <th>mb_used</th>\n",
       "      <th>session_date</th>\n",
       "      <th>user_id</th>\n",
       "    </tr>\n",
       "  </thead>\n",
       "  <tbody>\n",
       "    <tr>\n",
       "      <th>0</th>\n",
       "      <td>0</td>\n",
       "      <td>1000_0</td>\n",
       "      <td>112.95</td>\n",
       "      <td>2018-11-25</td>\n",
       "      <td>1000</td>\n",
       "    </tr>\n",
       "    <tr>\n",
       "      <th>1</th>\n",
       "      <td>1</td>\n",
       "      <td>1000_1</td>\n",
       "      <td>1052.81</td>\n",
       "      <td>2018-09-07</td>\n",
       "      <td>1000</td>\n",
       "    </tr>\n",
       "    <tr>\n",
       "      <th>2</th>\n",
       "      <td>2</td>\n",
       "      <td>1000_2</td>\n",
       "      <td>1197.26</td>\n",
       "      <td>2018-06-25</td>\n",
       "      <td>1000</td>\n",
       "    </tr>\n",
       "    <tr>\n",
       "      <th>3</th>\n",
       "      <td>3</td>\n",
       "      <td>1000_3</td>\n",
       "      <td>550.27</td>\n",
       "      <td>2018-08-22</td>\n",
       "      <td>1000</td>\n",
       "    </tr>\n",
       "    <tr>\n",
       "      <th>4</th>\n",
       "      <td>4</td>\n",
       "      <td>1000_4</td>\n",
       "      <td>302.56</td>\n",
       "      <td>2018-09-24</td>\n",
       "      <td>1000</td>\n",
       "    </tr>\n",
       "    <tr>\n",
       "      <th>...</th>\n",
       "      <td>...</td>\n",
       "      <td>...</td>\n",
       "      <td>...</td>\n",
       "      <td>...</td>\n",
       "      <td>...</td>\n",
       "    </tr>\n",
       "    <tr>\n",
       "      <th>149391</th>\n",
       "      <td>149391</td>\n",
       "      <td>1499_152</td>\n",
       "      <td>318.90</td>\n",
       "      <td>2018-10-03</td>\n",
       "      <td>1499</td>\n",
       "    </tr>\n",
       "    <tr>\n",
       "      <th>149392</th>\n",
       "      <td>149392</td>\n",
       "      <td>1499_153</td>\n",
       "      <td>490.13</td>\n",
       "      <td>2018-12-14</td>\n",
       "      <td>1499</td>\n",
       "    </tr>\n",
       "    <tr>\n",
       "      <th>149393</th>\n",
       "      <td>149393</td>\n",
       "      <td>1499_154</td>\n",
       "      <td>0.00</td>\n",
       "      <td>2018-10-27</td>\n",
       "      <td>1499</td>\n",
       "    </tr>\n",
       "    <tr>\n",
       "      <th>149394</th>\n",
       "      <td>149394</td>\n",
       "      <td>1499_155</td>\n",
       "      <td>1246.32</td>\n",
       "      <td>2018-11-26</td>\n",
       "      <td>1499</td>\n",
       "    </tr>\n",
       "    <tr>\n",
       "      <th>149395</th>\n",
       "      <td>149395</td>\n",
       "      <td>1499_156</td>\n",
       "      <td>544.37</td>\n",
       "      <td>2018-10-26</td>\n",
       "      <td>1499</td>\n",
       "    </tr>\n",
       "  </tbody>\n",
       "</table>\n",
       "<p>149396 rows × 5 columns</p>\n",
       "</div>"
      ],
      "text/plain": [
       "        Unnamed: 0        id  mb_used session_date  user_id\n",
       "0                0    1000_0   112.95   2018-11-25     1000\n",
       "1                1    1000_1  1052.81   2018-09-07     1000\n",
       "2                2    1000_2  1197.26   2018-06-25     1000\n",
       "3                3    1000_3   550.27   2018-08-22     1000\n",
       "4                4    1000_4   302.56   2018-09-24     1000\n",
       "...            ...       ...      ...          ...      ...\n",
       "149391      149391  1499_152   318.90   2018-10-03     1499\n",
       "149392      149392  1499_153   490.13   2018-12-14     1499\n",
       "149393      149393  1499_154     0.00   2018-10-27     1499\n",
       "149394      149394  1499_155  1246.32   2018-11-26     1499\n",
       "149395      149395  1499_156   544.37   2018-10-26     1499\n",
       "\n",
       "[149396 rows x 5 columns]"
      ]
     },
     "execution_count": 5,
     "metadata": {},
     "output_type": "execute_result"
    }
   ],
   "source": [
    "df_internet"
   ]
  },
  {
   "cell_type": "markdown",
   "metadata": {},
   "source": [
    "Таблица internet (информация об интернет-сессиях):\n",
    "* `id` — уникальный номер сессии\n",
    "* `mb_used` — объём потраченного за сессию интернет-трафика (в мегабайтах)\n",
    "* `session_date` — дата интернет-сессии\n",
    "* `user_id` — идентификатор пользователя"
   ]
  },
  {
   "cell_type": "code",
   "execution_count": 6,
   "metadata": {},
   "outputs": [
    {
     "name": "stdout",
     "output_type": "stream",
     "text": [
      "<class 'pandas.core.frame.DataFrame'>\n",
      "RangeIndex: 149396 entries, 0 to 149395\n",
      "Data columns (total 5 columns):\n",
      " #   Column        Non-Null Count   Dtype         \n",
      "---  ------        --------------   -----         \n",
      " 0   Unnamed: 0    149396 non-null  int64         \n",
      " 1   id            149396 non-null  object        \n",
      " 2   mb_used       149396 non-null  float64       \n",
      " 3   session_date  149396 non-null  datetime64[ns]\n",
      " 4   user_id       149396 non-null  int64         \n",
      "dtypes: datetime64[ns](1), float64(1), int64(2), object(1)\n",
      "memory usage: 5.7+ MB\n"
     ]
    }
   ],
   "source": [
    "df_internet.info()"
   ]
  },
  {
   "cell_type": "code",
   "execution_count": 7,
   "metadata": {},
   "outputs": [
    {
     "data": {
      "text/html": [
       "<div>\n",
       "<style scoped>\n",
       "    .dataframe tbody tr th:only-of-type {\n",
       "        vertical-align: middle;\n",
       "    }\n",
       "\n",
       "    .dataframe tbody tr th {\n",
       "        vertical-align: top;\n",
       "    }\n",
       "\n",
       "    .dataframe thead th {\n",
       "        text-align: right;\n",
       "    }\n",
       "</style>\n",
       "<table border=\"1\" class=\"dataframe\">\n",
       "  <thead>\n",
       "    <tr style=\"text-align: right;\">\n",
       "      <th></th>\n",
       "      <th>id</th>\n",
       "      <th>message_date</th>\n",
       "      <th>user_id</th>\n",
       "      <th>month</th>\n",
       "    </tr>\n",
       "  </thead>\n",
       "  <tbody>\n",
       "    <tr>\n",
       "      <th>0</th>\n",
       "      <td>1000_0</td>\n",
       "      <td>2018-06-27</td>\n",
       "      <td>1000</td>\n",
       "      <td>6</td>\n",
       "    </tr>\n",
       "    <tr>\n",
       "      <th>1</th>\n",
       "      <td>1000_1</td>\n",
       "      <td>2018-10-08</td>\n",
       "      <td>1000</td>\n",
       "      <td>10</td>\n",
       "    </tr>\n",
       "    <tr>\n",
       "      <th>2</th>\n",
       "      <td>1000_2</td>\n",
       "      <td>2018-08-04</td>\n",
       "      <td>1000</td>\n",
       "      <td>8</td>\n",
       "    </tr>\n",
       "    <tr>\n",
       "      <th>3</th>\n",
       "      <td>1000_3</td>\n",
       "      <td>2018-06-16</td>\n",
       "      <td>1000</td>\n",
       "      <td>6</td>\n",
       "    </tr>\n",
       "    <tr>\n",
       "      <th>4</th>\n",
       "      <td>1000_4</td>\n",
       "      <td>2018-12-05</td>\n",
       "      <td>1000</td>\n",
       "      <td>12</td>\n",
       "    </tr>\n",
       "    <tr>\n",
       "      <th>...</th>\n",
       "      <td>...</td>\n",
       "      <td>...</td>\n",
       "      <td>...</td>\n",
       "      <td>...</td>\n",
       "    </tr>\n",
       "    <tr>\n",
       "      <th>123031</th>\n",
       "      <td>1499_179</td>\n",
       "      <td>2018-12-12</td>\n",
       "      <td>1499</td>\n",
       "      <td>12</td>\n",
       "    </tr>\n",
       "    <tr>\n",
       "      <th>123032</th>\n",
       "      <td>1499_180</td>\n",
       "      <td>2018-09-28</td>\n",
       "      <td>1499</td>\n",
       "      <td>9</td>\n",
       "    </tr>\n",
       "    <tr>\n",
       "      <th>123033</th>\n",
       "      <td>1499_181</td>\n",
       "      <td>2018-09-27</td>\n",
       "      <td>1499</td>\n",
       "      <td>9</td>\n",
       "    </tr>\n",
       "    <tr>\n",
       "      <th>123034</th>\n",
       "      <td>1499_182</td>\n",
       "      <td>2018-11-15</td>\n",
       "      <td>1499</td>\n",
       "      <td>11</td>\n",
       "    </tr>\n",
       "    <tr>\n",
       "      <th>123035</th>\n",
       "      <td>1499_183</td>\n",
       "      <td>2018-11-16</td>\n",
       "      <td>1499</td>\n",
       "      <td>11</td>\n",
       "    </tr>\n",
       "  </tbody>\n",
       "</table>\n",
       "<p>123036 rows × 4 columns</p>\n",
       "</div>"
      ],
      "text/plain": [
       "              id message_date  user_id  month\n",
       "0         1000_0   2018-06-27     1000      6\n",
       "1         1000_1   2018-10-08     1000     10\n",
       "2         1000_2   2018-08-04     1000      8\n",
       "3         1000_3   2018-06-16     1000      6\n",
       "4         1000_4   2018-12-05     1000     12\n",
       "...          ...          ...      ...    ...\n",
       "123031  1499_179   2018-12-12     1499     12\n",
       "123032  1499_180   2018-09-28     1499      9\n",
       "123033  1499_181   2018-09-27     1499      9\n",
       "123034  1499_182   2018-11-15     1499     11\n",
       "123035  1499_183   2018-11-16     1499     11\n",
       "\n",
       "[123036 rows x 4 columns]"
      ]
     },
     "execution_count": 7,
     "metadata": {},
     "output_type": "execute_result"
    }
   ],
   "source": [
    "df_messages['month'] = df_messages['message_date'].dt.month\n",
    "df_messages"
   ]
  },
  {
   "cell_type": "markdown",
   "metadata": {},
   "source": [
    "Таблица internet (информация об интернет-сессиях):\n",
    "* `id` — уникальный номер сессии\n",
    "* `mb_used` — объём потраченного за сессию интернет-трафика (в мегабайтах)\n",
    "* `session_date` — дата интернет-сессии\n",
    "* `user_id` — идентификатор пользователя"
   ]
  },
  {
   "cell_type": "code",
   "execution_count": 8,
   "metadata": {},
   "outputs": [
    {
     "name": "stdout",
     "output_type": "stream",
     "text": [
      "<class 'pandas.core.frame.DataFrame'>\n",
      "RangeIndex: 123036 entries, 0 to 123035\n",
      "Data columns (total 4 columns):\n",
      " #   Column        Non-Null Count   Dtype         \n",
      "---  ------        --------------   -----         \n",
      " 0   id            123036 non-null  object        \n",
      " 1   message_date  123036 non-null  datetime64[ns]\n",
      " 2   user_id       123036 non-null  int64         \n",
      " 3   month         123036 non-null  int64         \n",
      "dtypes: datetime64[ns](1), int64(2), object(1)\n",
      "memory usage: 3.8+ MB\n"
     ]
    }
   ],
   "source": [
    "df_messages.info()"
   ]
  },
  {
   "cell_type": "code",
   "execution_count": 9,
   "metadata": {},
   "outputs": [
    {
     "data": {
      "text/html": [
       "<div>\n",
       "<style scoped>\n",
       "    .dataframe tbody tr th:only-of-type {\n",
       "        vertical-align: middle;\n",
       "    }\n",
       "\n",
       "    .dataframe tbody tr th {\n",
       "        vertical-align: top;\n",
       "    }\n",
       "\n",
       "    .dataframe thead th {\n",
       "        text-align: right;\n",
       "    }\n",
       "</style>\n",
       "<table border=\"1\" class=\"dataframe\">\n",
       "  <thead>\n",
       "    <tr style=\"text-align: right;\">\n",
       "      <th></th>\n",
       "      <th>user_id</th>\n",
       "      <th>age</th>\n",
       "      <th>churn_date</th>\n",
       "      <th>city</th>\n",
       "      <th>first_name</th>\n",
       "      <th>last_name</th>\n",
       "      <th>reg_date</th>\n",
       "      <th>tariff</th>\n",
       "    </tr>\n",
       "  </thead>\n",
       "  <tbody>\n",
       "    <tr>\n",
       "      <th>0</th>\n",
       "      <td>1000</td>\n",
       "      <td>52</td>\n",
       "      <td>NaN</td>\n",
       "      <td>Краснодар</td>\n",
       "      <td>Рафаил</td>\n",
       "      <td>Верещагин</td>\n",
       "      <td>2018-05-25</td>\n",
       "      <td>ultra</td>\n",
       "    </tr>\n",
       "    <tr>\n",
       "      <th>1</th>\n",
       "      <td>1001</td>\n",
       "      <td>41</td>\n",
       "      <td>NaN</td>\n",
       "      <td>Москва</td>\n",
       "      <td>Иван</td>\n",
       "      <td>Ежов</td>\n",
       "      <td>2018-11-01</td>\n",
       "      <td>smart</td>\n",
       "    </tr>\n",
       "    <tr>\n",
       "      <th>2</th>\n",
       "      <td>1002</td>\n",
       "      <td>59</td>\n",
       "      <td>NaN</td>\n",
       "      <td>Стерлитамак</td>\n",
       "      <td>Евгений</td>\n",
       "      <td>Абрамович</td>\n",
       "      <td>2018-06-17</td>\n",
       "      <td>smart</td>\n",
       "    </tr>\n",
       "    <tr>\n",
       "      <th>3</th>\n",
       "      <td>1003</td>\n",
       "      <td>23</td>\n",
       "      <td>NaN</td>\n",
       "      <td>Москва</td>\n",
       "      <td>Белла</td>\n",
       "      <td>Белякова</td>\n",
       "      <td>2018-08-17</td>\n",
       "      <td>ultra</td>\n",
       "    </tr>\n",
       "    <tr>\n",
       "      <th>4</th>\n",
       "      <td>1004</td>\n",
       "      <td>68</td>\n",
       "      <td>NaN</td>\n",
       "      <td>Новокузнецк</td>\n",
       "      <td>Татьяна</td>\n",
       "      <td>Авдеенко</td>\n",
       "      <td>2018-05-14</td>\n",
       "      <td>ultra</td>\n",
       "    </tr>\n",
       "    <tr>\n",
       "      <th>...</th>\n",
       "      <td>...</td>\n",
       "      <td>...</td>\n",
       "      <td>...</td>\n",
       "      <td>...</td>\n",
       "      <td>...</td>\n",
       "      <td>...</td>\n",
       "      <td>...</td>\n",
       "      <td>...</td>\n",
       "    </tr>\n",
       "    <tr>\n",
       "      <th>495</th>\n",
       "      <td>1495</td>\n",
       "      <td>65</td>\n",
       "      <td>NaN</td>\n",
       "      <td>Иркутск</td>\n",
       "      <td>Авксентий</td>\n",
       "      <td>Фокин</td>\n",
       "      <td>2018-08-28</td>\n",
       "      <td>ultra</td>\n",
       "    </tr>\n",
       "    <tr>\n",
       "      <th>496</th>\n",
       "      <td>1496</td>\n",
       "      <td>36</td>\n",
       "      <td>NaN</td>\n",
       "      <td>Вологда</td>\n",
       "      <td>Трифон</td>\n",
       "      <td>Блохин</td>\n",
       "      <td>2018-01-27</td>\n",
       "      <td>smart</td>\n",
       "    </tr>\n",
       "    <tr>\n",
       "      <th>497</th>\n",
       "      <td>1497</td>\n",
       "      <td>32</td>\n",
       "      <td>NaN</td>\n",
       "      <td>Челябинск</td>\n",
       "      <td>Каролина</td>\n",
       "      <td>Агеева</td>\n",
       "      <td>2018-10-09</td>\n",
       "      <td>smart</td>\n",
       "    </tr>\n",
       "    <tr>\n",
       "      <th>498</th>\n",
       "      <td>1498</td>\n",
       "      <td>68</td>\n",
       "      <td>2018-10-25</td>\n",
       "      <td>Владикавказ</td>\n",
       "      <td>Всеволод</td>\n",
       "      <td>Акимчин</td>\n",
       "      <td>2018-07-19</td>\n",
       "      <td>smart</td>\n",
       "    </tr>\n",
       "    <tr>\n",
       "      <th>499</th>\n",
       "      <td>1499</td>\n",
       "      <td>35</td>\n",
       "      <td>NaN</td>\n",
       "      <td>Пермь</td>\n",
       "      <td>Гектор</td>\n",
       "      <td>Корнилов</td>\n",
       "      <td>2018-09-27</td>\n",
       "      <td>smart</td>\n",
       "    </tr>\n",
       "  </tbody>\n",
       "</table>\n",
       "<p>500 rows × 8 columns</p>\n",
       "</div>"
      ],
      "text/plain": [
       "     user_id  age  churn_date         city first_name  last_name   reg_date  \\\n",
       "0       1000   52         NaN    Краснодар     Рафаил  Верещагин 2018-05-25   \n",
       "1       1001   41         NaN       Москва       Иван       Ежов 2018-11-01   \n",
       "2       1002   59         NaN  Стерлитамак    Евгений  Абрамович 2018-06-17   \n",
       "3       1003   23         NaN       Москва      Белла   Белякова 2018-08-17   \n",
       "4       1004   68         NaN  Новокузнецк    Татьяна   Авдеенко 2018-05-14   \n",
       "..       ...  ...         ...          ...        ...        ...        ...   \n",
       "495     1495   65         NaN      Иркутск  Авксентий      Фокин 2018-08-28   \n",
       "496     1496   36         NaN      Вологда     Трифон     Блохин 2018-01-27   \n",
       "497     1497   32         NaN    Челябинск   Каролина     Агеева 2018-10-09   \n",
       "498     1498   68  2018-10-25  Владикавказ   Всеволод    Акимчин 2018-07-19   \n",
       "499     1499   35         NaN        Пермь     Гектор   Корнилов 2018-09-27   \n",
       "\n",
       "    tariff  \n",
       "0    ultra  \n",
       "1    smart  \n",
       "2    smart  \n",
       "3    ultra  \n",
       "4    ultra  \n",
       "..     ...  \n",
       "495  ultra  \n",
       "496  smart  \n",
       "497  smart  \n",
       "498  smart  \n",
       "499  smart  \n",
       "\n",
       "[500 rows x 8 columns]"
      ]
     },
     "execution_count": 9,
     "metadata": {},
     "output_type": "execute_result"
    }
   ],
   "source": [
    "df_users"
   ]
  },
  {
   "cell_type": "code",
   "execution_count": null,
   "metadata": {},
   "outputs": [],
   "source": []
  },
  {
   "cell_type": "markdown",
   "metadata": {},
   "source": [
    "Таблица users (информация о пользователях):\n",
    "* `user_id` — уникальный идентификатор пользователя\n",
    "* `first_name` — имя пользователя\n",
    "* `last_name` — фамилия пользователя\n",
    "* `age` — возраст пользователя (годы)\n",
    "* `reg_date` — дата подключения тарифа (день, месяц, год)\n",
    "* `churn_date` — дата прекращения пользования тарифом (если значение пропущено, то тариф ещё действовал на момент выгрузки данных)\n",
    "* `city` — город проживания пользователя\n",
    "* `tariff` — название тарифного плана"
   ]
  },
  {
   "cell_type": "code",
   "execution_count": 10,
   "metadata": {},
   "outputs": [
    {
     "name": "stdout",
     "output_type": "stream",
     "text": [
      "<class 'pandas.core.frame.DataFrame'>\n",
      "RangeIndex: 500 entries, 0 to 499\n",
      "Data columns (total 8 columns):\n",
      " #   Column      Non-Null Count  Dtype         \n",
      "---  ------      --------------  -----         \n",
      " 0   user_id     500 non-null    int64         \n",
      " 1   age         500 non-null    int64         \n",
      " 2   churn_date  38 non-null     object        \n",
      " 3   city        500 non-null    object        \n",
      " 4   first_name  500 non-null    object        \n",
      " 5   last_name   500 non-null    object        \n",
      " 6   reg_date    500 non-null    datetime64[ns]\n",
      " 7   tariff      500 non-null    object        \n",
      "dtypes: datetime64[ns](1), int64(2), object(5)\n",
      "memory usage: 31.4+ KB\n"
     ]
    }
   ],
   "source": [
    "df_users.info()"
   ]
  },
  {
   "cell_type": "code",
   "execution_count": 11,
   "metadata": {
    "scrolled": true
   },
   "outputs": [
    {
     "data": {
      "text/html": [
       "<div>\n",
       "<style scoped>\n",
       "    .dataframe tbody tr th:only-of-type {\n",
       "        vertical-align: middle;\n",
       "    }\n",
       "\n",
       "    .dataframe tbody tr th {\n",
       "        vertical-align: top;\n",
       "    }\n",
       "\n",
       "    .dataframe thead th {\n",
       "        text-align: right;\n",
       "    }\n",
       "</style>\n",
       "<table border=\"1\" class=\"dataframe\">\n",
       "  <thead>\n",
       "    <tr style=\"text-align: right;\">\n",
       "      <th></th>\n",
       "      <th>messages_included</th>\n",
       "      <th>mb_per_month_included</th>\n",
       "      <th>minutes_included</th>\n",
       "      <th>rub_monthly_fee</th>\n",
       "      <th>rub_per_gb</th>\n",
       "      <th>rub_per_message</th>\n",
       "      <th>rub_per_minute</th>\n",
       "      <th>tariff_name</th>\n",
       "    </tr>\n",
       "  </thead>\n",
       "  <tbody>\n",
       "    <tr>\n",
       "      <th>0</th>\n",
       "      <td>50</td>\n",
       "      <td>15360</td>\n",
       "      <td>500</td>\n",
       "      <td>550</td>\n",
       "      <td>200</td>\n",
       "      <td>3</td>\n",
       "      <td>3</td>\n",
       "      <td>smart</td>\n",
       "    </tr>\n",
       "    <tr>\n",
       "      <th>1</th>\n",
       "      <td>1000</td>\n",
       "      <td>30720</td>\n",
       "      <td>3000</td>\n",
       "      <td>1950</td>\n",
       "      <td>150</td>\n",
       "      <td>1</td>\n",
       "      <td>1</td>\n",
       "      <td>ultra</td>\n",
       "    </tr>\n",
       "  </tbody>\n",
       "</table>\n",
       "</div>"
      ],
      "text/plain": [
       "   messages_included  mb_per_month_included  minutes_included  \\\n",
       "0                 50                  15360               500   \n",
       "1               1000                  30720              3000   \n",
       "\n",
       "   rub_monthly_fee  rub_per_gb  rub_per_message  rub_per_minute tariff_name  \n",
       "0              550         200                3               3       smart  \n",
       "1             1950         150                1               1       ultra  "
      ]
     },
     "execution_count": 11,
     "metadata": {},
     "output_type": "execute_result"
    }
   ],
   "source": [
    "df_tariffs"
   ]
  },
  {
   "cell_type": "markdown",
   "metadata": {},
   "source": [
    "Таблица tariffs (информация о тарифах):\n",
    "* `tariff_name` — название тарифа\n",
    "* `rub_monthly_fee` — ежемесячная абонентская плата в рублях\n",
    "* `minutes_included` — количество минут разговора в месяц, включённых в абонентскую плату\n",
    "* `messages_included` — количество сообщений в месяц, включённых в абонентскую плату\n",
    "* `mb_per_month_included` — объём интернет-трафика, включённого в абонентскую плату (в мегабайтах)\n",
    "* `rub_per_minute` — стоимость минуты разговора сверх тарифного пакета (например, если в тарифе 100 минут разговора в месяц, то со 101 минуты будет взиматься плата)\n",
    "* `rub_per_message` — стоимость отправки сообщения сверх тарифного пакета\n",
    "* `rub_per_gb` — стоимость дополнительного гигабайта интернет-трафика сверх тарифного пакета (1 гигабайт = 1024 мегабайта)"
   ]
  },
  {
   "cell_type": "code",
   "execution_count": 12,
   "metadata": {},
   "outputs": [
    {
     "name": "stdout",
     "output_type": "stream",
     "text": [
      "<class 'pandas.core.frame.DataFrame'>\n",
      "RangeIndex: 2 entries, 0 to 1\n",
      "Data columns (total 8 columns):\n",
      " #   Column                 Non-Null Count  Dtype \n",
      "---  ------                 --------------  ----- \n",
      " 0   messages_included      2 non-null      int64 \n",
      " 1   mb_per_month_included  2 non-null      int64 \n",
      " 2   minutes_included       2 non-null      int64 \n",
      " 3   rub_monthly_fee        2 non-null      int64 \n",
      " 4   rub_per_gb             2 non-null      int64 \n",
      " 5   rub_per_message        2 non-null      int64 \n",
      " 6   rub_per_minute         2 non-null      int64 \n",
      " 7   tariff_name            2 non-null      object\n",
      "dtypes: int64(7), object(1)\n",
      "memory usage: 256.0+ bytes\n"
     ]
    }
   ],
   "source": [
    "df_tariffs.info()"
   ]
  },
  {
   "cell_type": "markdown",
   "metadata": {},
   "source": [
    "### Вывод"
   ]
  },
  {
   "cell_type": "markdown",
   "metadata": {},
   "source": [
    "Датасеты ***calls.csv, internet.csv, messages.csv*** имеют общие столбцы `user_id` и `id`. Дубликаты отсутсвуют.\n",
    "\n",
    "Предварительно можно утверждать, что данных достаточно для исследования. Чтобы двигаться дальше, нужно  исправить ошибки и подготовить данные, напимер, округлить вещественные значения до целых, согласно условиям использования тарифа."
   ]
  },
  {
   "cell_type": "markdown",
   "metadata": {},
   "source": [
    "##  Подготовим данные"
   ]
  },
  {
   "cell_type": "markdown",
   "metadata": {},
   "source": [
    "* Приведём данные к нужным типам."
   ]
  },
  {
   "cell_type": "markdown",
   "metadata": {},
   "source": [
    "Округлим минуты до целых значений в большую сторону, согласно заданным условиям."
   ]
  },
  {
   "cell_type": "code",
   "execution_count": 13,
   "metadata": {},
   "outputs": [
    {
     "data": {
      "text/html": [
       "<div>\n",
       "<style scoped>\n",
       "    .dataframe tbody tr th:only-of-type {\n",
       "        vertical-align: middle;\n",
       "    }\n",
       "\n",
       "    .dataframe tbody tr th {\n",
       "        vertical-align: top;\n",
       "    }\n",
       "\n",
       "    .dataframe thead th {\n",
       "        text-align: right;\n",
       "    }\n",
       "</style>\n",
       "<table border=\"1\" class=\"dataframe\">\n",
       "  <thead>\n",
       "    <tr style=\"text-align: right;\">\n",
       "      <th></th>\n",
       "      <th>id</th>\n",
       "      <th>call_date</th>\n",
       "      <th>duration</th>\n",
       "      <th>user_id</th>\n",
       "      <th>month</th>\n",
       "    </tr>\n",
       "  </thead>\n",
       "  <tbody>\n",
       "    <tr>\n",
       "      <th>0</th>\n",
       "      <td>1000_0</td>\n",
       "      <td>2018-07-25</td>\n",
       "      <td>0</td>\n",
       "      <td>1000</td>\n",
       "      <td>7</td>\n",
       "    </tr>\n",
       "    <tr>\n",
       "      <th>1</th>\n",
       "      <td>1000_1</td>\n",
       "      <td>2018-08-17</td>\n",
       "      <td>0</td>\n",
       "      <td>1000</td>\n",
       "      <td>8</td>\n",
       "    </tr>\n",
       "    <tr>\n",
       "      <th>2</th>\n",
       "      <td>1000_2</td>\n",
       "      <td>2018-06-11</td>\n",
       "      <td>3</td>\n",
       "      <td>1000</td>\n",
       "      <td>6</td>\n",
       "    </tr>\n",
       "    <tr>\n",
       "      <th>3</th>\n",
       "      <td>1000_3</td>\n",
       "      <td>2018-09-21</td>\n",
       "      <td>14</td>\n",
       "      <td>1000</td>\n",
       "      <td>9</td>\n",
       "    </tr>\n",
       "    <tr>\n",
       "      <th>4</th>\n",
       "      <td>1000_4</td>\n",
       "      <td>2018-12-15</td>\n",
       "      <td>6</td>\n",
       "      <td>1000</td>\n",
       "      <td>12</td>\n",
       "    </tr>\n",
       "    <tr>\n",
       "      <th>...</th>\n",
       "      <td>...</td>\n",
       "      <td>...</td>\n",
       "      <td>...</td>\n",
       "      <td>...</td>\n",
       "      <td>...</td>\n",
       "    </tr>\n",
       "    <tr>\n",
       "      <th>202602</th>\n",
       "      <td>1499_215</td>\n",
       "      <td>2018-12-26</td>\n",
       "      <td>1</td>\n",
       "      <td>1499</td>\n",
       "      <td>12</td>\n",
       "    </tr>\n",
       "    <tr>\n",
       "      <th>202603</th>\n",
       "      <td>1499_216</td>\n",
       "      <td>2018-10-18</td>\n",
       "      <td>19</td>\n",
       "      <td>1499</td>\n",
       "      <td>10</td>\n",
       "    </tr>\n",
       "    <tr>\n",
       "      <th>202604</th>\n",
       "      <td>1499_217</td>\n",
       "      <td>2018-11-10</td>\n",
       "      <td>11</td>\n",
       "      <td>1499</td>\n",
       "      <td>11</td>\n",
       "    </tr>\n",
       "    <tr>\n",
       "      <th>202605</th>\n",
       "      <td>1499_218</td>\n",
       "      <td>2018-10-06</td>\n",
       "      <td>5</td>\n",
       "      <td>1499</td>\n",
       "      <td>10</td>\n",
       "    </tr>\n",
       "    <tr>\n",
       "      <th>202606</th>\n",
       "      <td>1499_219</td>\n",
       "      <td>2018-12-14</td>\n",
       "      <td>20</td>\n",
       "      <td>1499</td>\n",
       "      <td>12</td>\n",
       "    </tr>\n",
       "  </tbody>\n",
       "</table>\n",
       "<p>202607 rows × 5 columns</p>\n",
       "</div>"
      ],
      "text/plain": [
       "              id  call_date  duration  user_id  month\n",
       "0         1000_0 2018-07-25         0     1000      7\n",
       "1         1000_1 2018-08-17         0     1000      8\n",
       "2         1000_2 2018-06-11         3     1000      6\n",
       "3         1000_3 2018-09-21        14     1000      9\n",
       "4         1000_4 2018-12-15         6     1000     12\n",
       "...          ...        ...       ...      ...    ...\n",
       "202602  1499_215 2018-12-26         1     1499     12\n",
       "202603  1499_216 2018-10-18        19     1499     10\n",
       "202604  1499_217 2018-11-10        11     1499     11\n",
       "202605  1499_218 2018-10-06         5     1499     10\n",
       "202606  1499_219 2018-12-14        20     1499     12\n",
       "\n",
       "[202607 rows x 5 columns]"
      ]
     },
     "execution_count": 13,
     "metadata": {},
     "output_type": "execute_result"
    }
   ],
   "source": [
    "df_calls['duration'] = np.ceil(df_calls['duration']).astype('int')\n",
    "\n",
    "df_calls['month'] = df_calls['call_date'].dt.month\n",
    "df_calls"
   ]
  },
  {
   "cell_type": "markdown",
   "metadata": {},
   "source": [
    "<font color='DarkBlue'><b>Комментарий ревьюера</b></font><br>\n",
    "<font color='DarkGreen'>👌 Правильно, что для округления используешь np.ceil, так как он работает сразу со всем столбцом. 👍</font><br>\n",
    "<font color='DarkGreen'>👌 Хорошо, добавили колонки с категорией месяца. 😄</font>"
   ]
  },
  {
   "cell_type": "markdown",
   "metadata": {},
   "source": [
    "* Найдём и исправим ошибки в данных, если они есть.\n",
    "Поясним, какие ошибки мы нашли и как их исправили. В данных мы найдём звонки с нулевой продолжительностью. Это не ошибка: нулями обозначены пропущенные звонки, поэтому их не нужно удалять."
   ]
  },
  {
   "cell_type": "markdown",
   "metadata": {},
   "source": [
    "Удалим ошибочный столбец `Unnamed: 0` из датасета df_internet."
   ]
  },
  {
   "cell_type": "code",
   "execution_count": 14,
   "metadata": {},
   "outputs": [
    {
     "data": {
      "text/html": [
       "<div>\n",
       "<style scoped>\n",
       "    .dataframe tbody tr th:only-of-type {\n",
       "        vertical-align: middle;\n",
       "    }\n",
       "\n",
       "    .dataframe tbody tr th {\n",
       "        vertical-align: top;\n",
       "    }\n",
       "\n",
       "    .dataframe thead th {\n",
       "        text-align: right;\n",
       "    }\n",
       "</style>\n",
       "<table border=\"1\" class=\"dataframe\">\n",
       "  <thead>\n",
       "    <tr style=\"text-align: right;\">\n",
       "      <th></th>\n",
       "      <th>id</th>\n",
       "      <th>mb_used</th>\n",
       "      <th>session_date</th>\n",
       "      <th>user_id</th>\n",
       "    </tr>\n",
       "  </thead>\n",
       "  <tbody>\n",
       "    <tr>\n",
       "      <th>0</th>\n",
       "      <td>1000_0</td>\n",
       "      <td>112.95</td>\n",
       "      <td>2018-11-25</td>\n",
       "      <td>1000</td>\n",
       "    </tr>\n",
       "    <tr>\n",
       "      <th>1</th>\n",
       "      <td>1000_1</td>\n",
       "      <td>1052.81</td>\n",
       "      <td>2018-09-07</td>\n",
       "      <td>1000</td>\n",
       "    </tr>\n",
       "    <tr>\n",
       "      <th>2</th>\n",
       "      <td>1000_2</td>\n",
       "      <td>1197.26</td>\n",
       "      <td>2018-06-25</td>\n",
       "      <td>1000</td>\n",
       "    </tr>\n",
       "    <tr>\n",
       "      <th>3</th>\n",
       "      <td>1000_3</td>\n",
       "      <td>550.27</td>\n",
       "      <td>2018-08-22</td>\n",
       "      <td>1000</td>\n",
       "    </tr>\n",
       "    <tr>\n",
       "      <th>4</th>\n",
       "      <td>1000_4</td>\n",
       "      <td>302.56</td>\n",
       "      <td>2018-09-24</td>\n",
       "      <td>1000</td>\n",
       "    </tr>\n",
       "    <tr>\n",
       "      <th>...</th>\n",
       "      <td>...</td>\n",
       "      <td>...</td>\n",
       "      <td>...</td>\n",
       "      <td>...</td>\n",
       "    </tr>\n",
       "    <tr>\n",
       "      <th>149391</th>\n",
       "      <td>1499_152</td>\n",
       "      <td>318.90</td>\n",
       "      <td>2018-10-03</td>\n",
       "      <td>1499</td>\n",
       "    </tr>\n",
       "    <tr>\n",
       "      <th>149392</th>\n",
       "      <td>1499_153</td>\n",
       "      <td>490.13</td>\n",
       "      <td>2018-12-14</td>\n",
       "      <td>1499</td>\n",
       "    </tr>\n",
       "    <tr>\n",
       "      <th>149393</th>\n",
       "      <td>1499_154</td>\n",
       "      <td>0.00</td>\n",
       "      <td>2018-10-27</td>\n",
       "      <td>1499</td>\n",
       "    </tr>\n",
       "    <tr>\n",
       "      <th>149394</th>\n",
       "      <td>1499_155</td>\n",
       "      <td>1246.32</td>\n",
       "      <td>2018-11-26</td>\n",
       "      <td>1499</td>\n",
       "    </tr>\n",
       "    <tr>\n",
       "      <th>149395</th>\n",
       "      <td>1499_156</td>\n",
       "      <td>544.37</td>\n",
       "      <td>2018-10-26</td>\n",
       "      <td>1499</td>\n",
       "    </tr>\n",
       "  </tbody>\n",
       "</table>\n",
       "<p>149396 rows × 4 columns</p>\n",
       "</div>"
      ],
      "text/plain": [
       "              id  mb_used session_date  user_id\n",
       "0         1000_0   112.95   2018-11-25     1000\n",
       "1         1000_1  1052.81   2018-09-07     1000\n",
       "2         1000_2  1197.26   2018-06-25     1000\n",
       "3         1000_3   550.27   2018-08-22     1000\n",
       "4         1000_4   302.56   2018-09-24     1000\n",
       "...          ...      ...          ...      ...\n",
       "149391  1499_152   318.90   2018-10-03     1499\n",
       "149392  1499_153   490.13   2018-12-14     1499\n",
       "149393  1499_154     0.00   2018-10-27     1499\n",
       "149394  1499_155  1246.32   2018-11-26     1499\n",
       "149395  1499_156   544.37   2018-10-26     1499\n",
       "\n",
       "[149396 rows x 4 columns]"
      ]
     },
     "execution_count": 14,
     "metadata": {},
     "output_type": "execute_result"
    }
   ],
   "source": [
    "df_internet.drop(columns=['Unnamed: 0'], inplace=True)\n",
    "df_internet"
   ]
  },
  {
   "cell_type": "markdown",
   "metadata": {},
   "source": [
    "Было принято решение удалить выбросы в виде расхода выше 1550 мб за сеанс."
   ]
  },
  {
   "cell_type": "markdown",
   "metadata": {},
   "source": [
    "<font color='DarkBlue'><b>Комментарий ревьюера</b></font><br>\n",
    "<font color='DarkGreen'>👌 Хорошо, что удалили колонку Unnamed: 0, в принципе, от нее можно было избавиться на этапе загрузки датасета вот таким кодом: <br>`pd.read_csv(..., index_col=False)`. 😉</font>"
   ]
  },
  {
   "cell_type": "markdown",
   "metadata": {},
   "source": [
    "<font color='DarkBlue'><b>Комментарий ревьюера</b></font><br>\n",
    "<font color='Red'>🛠 Было бы правильно сделать анализ аномалий в датасете по интернет-трафику, лучше их визуализировать гистограммой. Необходимо проанализировать их причину и принять решение по обработке. 🙄</font>"
   ]
  },
  {
   "cell_type": "markdown",
   "metadata": {},
   "source": [
    "<font color='Blue'><b>Комментарий студента: Привет! Исправил ниже (в конце 2 пункта). Кстати, а как можно ссылку прекрепить, чтобы сразу к исправлению тебя отправить отсюда по клику? </b></font><br>"
   ]
  },
  {
   "attachments": {
    "image.png": {
     "image/png": "[encoded data removed]"
    }
   },
   "cell_type": "markdown",
   "metadata": {},
   "source": [
    "<font color='DarkBlue'><b>Комментарий ревьюера 2</b></font><br>\n",
    "<font color='DarkMagenta'>👉 Все излазил, но не нашел. Хотел увидеть вот это:</font>\n",
    "![image.png](attachment:image.png)"
   ]
  },
  {
   "cell_type": "markdown",
   "metadata": {},
   "source": [
    "<font color='DarkBlue'><b>Комментарий ревьюера 2</b></font><br>\n",
    "<font color='DarkMagenta'>👉 Таблица содержит идентификатор сессий и идентификатор пользователя. Значит пользователь устанавливал соединение и авторизовался. Но трафик нулевой. И это аномалия, возможно, что она связана с техничесткими проблемами оператора. Нам в данном проекте нулевые сессии не мешают, но в выводах исследования мы должны этот факт указать, так как это не полученная выручка оператора при существующем спросе на услугу пользователей.</font>"
   ]
  },
  {
   "cell_type": "code",
   "execution_count": 15,
   "metadata": {},
   "outputs": [
    {
     "data": {
      "text/html": [
       "<div>\n",
       "<style scoped>\n",
       "    .dataframe tbody tr th:only-of-type {\n",
       "        vertical-align: middle;\n",
       "    }\n",
       "\n",
       "    .dataframe tbody tr th {\n",
       "        vertical-align: top;\n",
       "    }\n",
       "\n",
       "    .dataframe thead th {\n",
       "        text-align: right;\n",
       "    }\n",
       "</style>\n",
       "<table border=\"1\" class=\"dataframe\">\n",
       "  <thead>\n",
       "    <tr style=\"text-align: right;\">\n",
       "      <th></th>\n",
       "      <th>messages_included</th>\n",
       "      <th>gb_per_month_included</th>\n",
       "      <th>minutes_included</th>\n",
       "      <th>rub_monthly_fee</th>\n",
       "      <th>rub_per_gb</th>\n",
       "      <th>rub_per_message</th>\n",
       "      <th>rub_per_minute</th>\n",
       "      <th>tariff_name</th>\n",
       "    </tr>\n",
       "  </thead>\n",
       "  <tbody>\n",
       "    <tr>\n",
       "      <th>0</th>\n",
       "      <td>50</td>\n",
       "      <td>15</td>\n",
       "      <td>500</td>\n",
       "      <td>550</td>\n",
       "      <td>200</td>\n",
       "      <td>3</td>\n",
       "      <td>3</td>\n",
       "      <td>smart</td>\n",
       "    </tr>\n",
       "    <tr>\n",
       "      <th>1</th>\n",
       "      <td>1000</td>\n",
       "      <td>30</td>\n",
       "      <td>3000</td>\n",
       "      <td>1950</td>\n",
       "      <td>150</td>\n",
       "      <td>1</td>\n",
       "      <td>1</td>\n",
       "      <td>ultra</td>\n",
       "    </tr>\n",
       "  </tbody>\n",
       "</table>\n",
       "</div>"
      ],
      "text/plain": [
       "   messages_included  gb_per_month_included  minutes_included  \\\n",
       "0                 50                     15               500   \n",
       "1               1000                     30              3000   \n",
       "\n",
       "   rub_monthly_fee  rub_per_gb  rub_per_message  rub_per_minute tariff_name  \n",
       "0              550         200                3               3       smart  \n",
       "1             1950         150                1               1       ultra  "
      ]
     },
     "execution_count": 15,
     "metadata": {},
     "output_type": "execute_result"
    }
   ],
   "source": [
    "df_tariffs = df_tariffs.rename(columns={'mb_per_month_included' : 'gb_per_month_included'})\n",
    "df_tariffs['gb_per_month_included'] = df_tariffs['gb_per_month_included'] / 1024\n",
    "df_tariffs['gb_per_month_included'] = df_tariffs['gb_per_month_included'].astype('int')\n",
    "\n",
    "df_tariffs"
   ]
  },
  {
   "cell_type": "markdown",
   "metadata": {},
   "source": [
    "Посчитаем для каждого пользователя:\n",
    "* количество сделанных звонков и израсходованных минут разговора по месяцам."
   ]
  },
  {
   "cell_type": "code",
   "execution_count": 16,
   "metadata": {},
   "outputs": [
    {
     "data": {
      "text/html": [
       "<div>\n",
       "<style scoped>\n",
       "    .dataframe tbody tr th:only-of-type {\n",
       "        vertical-align: middle;\n",
       "    }\n",
       "\n",
       "    .dataframe tbody tr th {\n",
       "        vertical-align: top;\n",
       "    }\n",
       "\n",
       "    .dataframe thead th {\n",
       "        text-align: right;\n",
       "    }\n",
       "</style>\n",
       "<table border=\"1\" class=\"dataframe\">\n",
       "  <thead>\n",
       "    <tr style=\"text-align: right;\">\n",
       "      <th></th>\n",
       "      <th>user_id</th>\n",
       "      <th>month</th>\n",
       "      <th>total_calls</th>\n",
       "    </tr>\n",
       "  </thead>\n",
       "  <tbody>\n",
       "    <tr>\n",
       "      <th>0</th>\n",
       "      <td>1000</td>\n",
       "      <td>5</td>\n",
       "      <td>22</td>\n",
       "    </tr>\n",
       "    <tr>\n",
       "      <th>1</th>\n",
       "      <td>1000</td>\n",
       "      <td>6</td>\n",
       "      <td>43</td>\n",
       "    </tr>\n",
       "    <tr>\n",
       "      <th>2</th>\n",
       "      <td>1000</td>\n",
       "      <td>7</td>\n",
       "      <td>47</td>\n",
       "    </tr>\n",
       "    <tr>\n",
       "      <th>3</th>\n",
       "      <td>1000</td>\n",
       "      <td>8</td>\n",
       "      <td>52</td>\n",
       "    </tr>\n",
       "    <tr>\n",
       "      <th>4</th>\n",
       "      <td>1000</td>\n",
       "      <td>9</td>\n",
       "      <td>58</td>\n",
       "    </tr>\n",
       "    <tr>\n",
       "      <th>...</th>\n",
       "      <td>...</td>\n",
       "      <td>...</td>\n",
       "      <td>...</td>\n",
       "    </tr>\n",
       "    <tr>\n",
       "      <th>3169</th>\n",
       "      <td>1498</td>\n",
       "      <td>10</td>\n",
       "      <td>41</td>\n",
       "    </tr>\n",
       "    <tr>\n",
       "      <th>3170</th>\n",
       "      <td>1499</td>\n",
       "      <td>9</td>\n",
       "      <td>9</td>\n",
       "    </tr>\n",
       "    <tr>\n",
       "      <th>3171</th>\n",
       "      <td>1499</td>\n",
       "      <td>10</td>\n",
       "      <td>68</td>\n",
       "    </tr>\n",
       "    <tr>\n",
       "      <th>3172</th>\n",
       "      <td>1499</td>\n",
       "      <td>11</td>\n",
       "      <td>74</td>\n",
       "    </tr>\n",
       "    <tr>\n",
       "      <th>3173</th>\n",
       "      <td>1499</td>\n",
       "      <td>12</td>\n",
       "      <td>69</td>\n",
       "    </tr>\n",
       "  </tbody>\n",
       "</table>\n",
       "<p>3174 rows × 3 columns</p>\n",
       "</div>"
      ],
      "text/plain": [
       "      user_id  month  total_calls\n",
       "0        1000      5           22\n",
       "1        1000      6           43\n",
       "2        1000      7           47\n",
       "3        1000      8           52\n",
       "4        1000      9           58\n",
       "...       ...    ...          ...\n",
       "3169     1498     10           41\n",
       "3170     1499      9            9\n",
       "3171     1499     10           68\n",
       "3172     1499     11           74\n",
       "3173     1499     12           69\n",
       "\n",
       "[3174 rows x 3 columns]"
      ]
     },
     "execution_count": 16,
     "metadata": {},
     "output_type": "execute_result"
    }
   ],
   "source": [
    "calls_total = df_calls.pivot_table(index=['user_id', 'month'], values='id', aggfunc='count').reset_index()\n",
    "calls_total = calls_total.rename(columns={'id' : 'total_calls'}) \n",
    "calls_total"
   ]
  },
  {
   "cell_type": "code",
   "execution_count": 17,
   "metadata": {},
   "outputs": [
    {
     "data": {
      "text/html": [
       "<div>\n",
       "<style scoped>\n",
       "    .dataframe tbody tr th:only-of-type {\n",
       "        vertical-align: middle;\n",
       "    }\n",
       "\n",
       "    .dataframe tbody tr th {\n",
       "        vertical-align: top;\n",
       "    }\n",
       "\n",
       "    .dataframe thead th {\n",
       "        text-align: right;\n",
       "    }\n",
       "</style>\n",
       "<table border=\"1\" class=\"dataframe\">\n",
       "  <thead>\n",
       "    <tr style=\"text-align: right;\">\n",
       "      <th></th>\n",
       "      <th>user_id</th>\n",
       "      <th>month</th>\n",
       "      <th>sum_minut</th>\n",
       "    </tr>\n",
       "  </thead>\n",
       "  <tbody>\n",
       "    <tr>\n",
       "      <th>0</th>\n",
       "      <td>1000</td>\n",
       "      <td>5</td>\n",
       "      <td>159</td>\n",
       "    </tr>\n",
       "    <tr>\n",
       "      <th>1</th>\n",
       "      <td>1000</td>\n",
       "      <td>6</td>\n",
       "      <td>172</td>\n",
       "    </tr>\n",
       "    <tr>\n",
       "      <th>2</th>\n",
       "      <td>1000</td>\n",
       "      <td>7</td>\n",
       "      <td>340</td>\n",
       "    </tr>\n",
       "    <tr>\n",
       "      <th>3</th>\n",
       "      <td>1000</td>\n",
       "      <td>8</td>\n",
       "      <td>408</td>\n",
       "    </tr>\n",
       "    <tr>\n",
       "      <th>4</th>\n",
       "      <td>1000</td>\n",
       "      <td>9</td>\n",
       "      <td>466</td>\n",
       "    </tr>\n",
       "    <tr>\n",
       "      <th>...</th>\n",
       "      <td>...</td>\n",
       "      <td>...</td>\n",
       "      <td>...</td>\n",
       "    </tr>\n",
       "    <tr>\n",
       "      <th>3169</th>\n",
       "      <td>1498</td>\n",
       "      <td>10</td>\n",
       "      <td>247</td>\n",
       "    </tr>\n",
       "    <tr>\n",
       "      <th>3170</th>\n",
       "      <td>1499</td>\n",
       "      <td>9</td>\n",
       "      <td>70</td>\n",
       "    </tr>\n",
       "    <tr>\n",
       "      <th>3171</th>\n",
       "      <td>1499</td>\n",
       "      <td>10</td>\n",
       "      <td>449</td>\n",
       "    </tr>\n",
       "    <tr>\n",
       "      <th>3172</th>\n",
       "      <td>1499</td>\n",
       "      <td>11</td>\n",
       "      <td>612</td>\n",
       "    </tr>\n",
       "    <tr>\n",
       "      <th>3173</th>\n",
       "      <td>1499</td>\n",
       "      <td>12</td>\n",
       "      <td>492</td>\n",
       "    </tr>\n",
       "  </tbody>\n",
       "</table>\n",
       "<p>3174 rows × 3 columns</p>\n",
       "</div>"
      ],
      "text/plain": [
       "      user_id  month  sum_minut\n",
       "0        1000      5        159\n",
       "1        1000      6        172\n",
       "2        1000      7        340\n",
       "3        1000      8        408\n",
       "4        1000      9        466\n",
       "...       ...    ...        ...\n",
       "3169     1498     10        247\n",
       "3170     1499      9         70\n",
       "3171     1499     10        449\n",
       "3172     1499     11        612\n",
       "3173     1499     12        492\n",
       "\n",
       "[3174 rows x 3 columns]"
      ]
     },
     "execution_count": 17,
     "metadata": {},
     "output_type": "execute_result"
    }
   ],
   "source": [
    "calls_minut = df_calls.pivot_table(index=['user_id', 'month'], values='duration', aggfunc='sum').reset_index()\n",
    "calls_minut = calls_minut.rename(columns={'duration' : 'sum_minut'})\n",
    "calls_minut"
   ]
  },
  {
   "cell_type": "code",
   "execution_count": 18,
   "metadata": {},
   "outputs": [],
   "source": [
    "calls = calls_minut.merge(calls_total)"
   ]
  },
  {
   "cell_type": "code",
   "execution_count": 19,
   "metadata": {},
   "outputs": [
    {
     "data": {
      "text/html": [
       "<div>\n",
       "<style scoped>\n",
       "    .dataframe tbody tr th:only-of-type {\n",
       "        vertical-align: middle;\n",
       "    }\n",
       "\n",
       "    .dataframe tbody tr th {\n",
       "        vertical-align: top;\n",
       "    }\n",
       "\n",
       "    .dataframe thead th {\n",
       "        text-align: right;\n",
       "    }\n",
       "</style>\n",
       "<table border=\"1\" class=\"dataframe\">\n",
       "  <thead>\n",
       "    <tr style=\"text-align: right;\">\n",
       "      <th></th>\n",
       "      <th>user_id</th>\n",
       "      <th>month</th>\n",
       "      <th>sum_minut</th>\n",
       "      <th>total_calls</th>\n",
       "    </tr>\n",
       "  </thead>\n",
       "  <tbody>\n",
       "    <tr>\n",
       "      <th>0</th>\n",
       "      <td>1000</td>\n",
       "      <td>5</td>\n",
       "      <td>159</td>\n",
       "      <td>22</td>\n",
       "    </tr>\n",
       "    <tr>\n",
       "      <th>1</th>\n",
       "      <td>1000</td>\n",
       "      <td>6</td>\n",
       "      <td>172</td>\n",
       "      <td>43</td>\n",
       "    </tr>\n",
       "    <tr>\n",
       "      <th>2</th>\n",
       "      <td>1000</td>\n",
       "      <td>7</td>\n",
       "      <td>340</td>\n",
       "      <td>47</td>\n",
       "    </tr>\n",
       "    <tr>\n",
       "      <th>3</th>\n",
       "      <td>1000</td>\n",
       "      <td>8</td>\n",
       "      <td>408</td>\n",
       "      <td>52</td>\n",
       "    </tr>\n",
       "    <tr>\n",
       "      <th>4</th>\n",
       "      <td>1000</td>\n",
       "      <td>9</td>\n",
       "      <td>466</td>\n",
       "      <td>58</td>\n",
       "    </tr>\n",
       "    <tr>\n",
       "      <th>...</th>\n",
       "      <td>...</td>\n",
       "      <td>...</td>\n",
       "      <td>...</td>\n",
       "      <td>...</td>\n",
       "    </tr>\n",
       "    <tr>\n",
       "      <th>3169</th>\n",
       "      <td>1498</td>\n",
       "      <td>10</td>\n",
       "      <td>247</td>\n",
       "      <td>41</td>\n",
       "    </tr>\n",
       "    <tr>\n",
       "      <th>3170</th>\n",
       "      <td>1499</td>\n",
       "      <td>9</td>\n",
       "      <td>70</td>\n",
       "      <td>9</td>\n",
       "    </tr>\n",
       "    <tr>\n",
       "      <th>3171</th>\n",
       "      <td>1499</td>\n",
       "      <td>10</td>\n",
       "      <td>449</td>\n",
       "      <td>68</td>\n",
       "    </tr>\n",
       "    <tr>\n",
       "      <th>3172</th>\n",
       "      <td>1499</td>\n",
       "      <td>11</td>\n",
       "      <td>612</td>\n",
       "      <td>74</td>\n",
       "    </tr>\n",
       "    <tr>\n",
       "      <th>3173</th>\n",
       "      <td>1499</td>\n",
       "      <td>12</td>\n",
       "      <td>492</td>\n",
       "      <td>69</td>\n",
       "    </tr>\n",
       "  </tbody>\n",
       "</table>\n",
       "<p>3174 rows × 4 columns</p>\n",
       "</div>"
      ],
      "text/plain": [
       "      user_id  month  sum_minut  total_calls\n",
       "0        1000      5        159           22\n",
       "1        1000      6        172           43\n",
       "2        1000      7        340           47\n",
       "3        1000      8        408           52\n",
       "4        1000      9        466           58\n",
       "...       ...    ...        ...          ...\n",
       "3169     1498     10        247           41\n",
       "3170     1499      9         70            9\n",
       "3171     1499     10        449           68\n",
       "3172     1499     11        612           74\n",
       "3173     1499     12        492           69\n",
       "\n",
       "[3174 rows x 4 columns]"
      ]
     },
     "execution_count": 19,
     "metadata": {},
     "output_type": "execute_result"
    }
   ],
   "source": [
    "calls"
   ]
  },
  {
   "cell_type": "markdown",
   "metadata": {},
   "source": [
    "<font color='DarkBlue'><b>Комментарий ревьюера</b></font><br>\n",
    "<font color='DarkMagenta'>👉 А почему мы не собрали длительность звонков и их количество в одну таблицу? 😲 Причем мы одну таблицу потеряли, так как у них одно имя. 😢</font>"
   ]
  },
  {
   "cell_type": "markdown",
   "metadata": {},
   "source": [
    "<font color='Blue'><b>Комментарий студента: Собрал </b></font><br>"
   ]
  },
  {
   "cell_type": "markdown",
   "metadata": {},
   "source": [
    "<font color='DarkBlue'><b>Комментарий ревьюера 2</b></font><br>\n",
    "<font color='DarkGreen'>👌 Хорошо. 👍</font>"
   ]
  },
  {
   "cell_type": "markdown",
   "metadata": {},
   "source": [
    "* количество отправленных сообщений по месяцам."
   ]
  },
  {
   "cell_type": "code",
   "execution_count": 20,
   "metadata": {},
   "outputs": [
    {
     "data": {
      "text/html": [
       "<div>\n",
       "<style scoped>\n",
       "    .dataframe tbody tr th:only-of-type {\n",
       "        vertical-align: middle;\n",
       "    }\n",
       "\n",
       "    .dataframe tbody tr th {\n",
       "        vertical-align: top;\n",
       "    }\n",
       "\n",
       "    .dataframe thead th {\n",
       "        text-align: right;\n",
       "    }\n",
       "</style>\n",
       "<table border=\"1\" class=\"dataframe\">\n",
       "  <thead>\n",
       "    <tr style=\"text-align: right;\">\n",
       "      <th></th>\n",
       "      <th>user_id</th>\n",
       "      <th>month</th>\n",
       "      <th>sum_message</th>\n",
       "    </tr>\n",
       "  </thead>\n",
       "  <tbody>\n",
       "    <tr>\n",
       "      <th>0</th>\n",
       "      <td>1000</td>\n",
       "      <td>5</td>\n",
       "      <td>22</td>\n",
       "    </tr>\n",
       "    <tr>\n",
       "      <th>1</th>\n",
       "      <td>1000</td>\n",
       "      <td>6</td>\n",
       "      <td>60</td>\n",
       "    </tr>\n",
       "    <tr>\n",
       "      <th>2</th>\n",
       "      <td>1000</td>\n",
       "      <td>7</td>\n",
       "      <td>75</td>\n",
       "    </tr>\n",
       "    <tr>\n",
       "      <th>3</th>\n",
       "      <td>1000</td>\n",
       "      <td>8</td>\n",
       "      <td>81</td>\n",
       "    </tr>\n",
       "    <tr>\n",
       "      <th>4</th>\n",
       "      <td>1000</td>\n",
       "      <td>9</td>\n",
       "      <td>57</td>\n",
       "    </tr>\n",
       "    <tr>\n",
       "      <th>...</th>\n",
       "      <td>...</td>\n",
       "      <td>...</td>\n",
       "      <td>...</td>\n",
       "    </tr>\n",
       "    <tr>\n",
       "      <th>2712</th>\n",
       "      <td>1498</td>\n",
       "      <td>10</td>\n",
       "      <td>42</td>\n",
       "    </tr>\n",
       "    <tr>\n",
       "      <th>2713</th>\n",
       "      <td>1499</td>\n",
       "      <td>9</td>\n",
       "      <td>11</td>\n",
       "    </tr>\n",
       "    <tr>\n",
       "      <th>2714</th>\n",
       "      <td>1499</td>\n",
       "      <td>10</td>\n",
       "      <td>48</td>\n",
       "    </tr>\n",
       "    <tr>\n",
       "      <th>2715</th>\n",
       "      <td>1499</td>\n",
       "      <td>11</td>\n",
       "      <td>59</td>\n",
       "    </tr>\n",
       "    <tr>\n",
       "      <th>2716</th>\n",
       "      <td>1499</td>\n",
       "      <td>12</td>\n",
       "      <td>66</td>\n",
       "    </tr>\n",
       "  </tbody>\n",
       "</table>\n",
       "<p>2717 rows × 3 columns</p>\n",
       "</div>"
      ],
      "text/plain": [
       "      user_id  month  sum_message\n",
       "0        1000      5           22\n",
       "1        1000      6           60\n",
       "2        1000      7           75\n",
       "3        1000      8           81\n",
       "4        1000      9           57\n",
       "...       ...    ...          ...\n",
       "2712     1498     10           42\n",
       "2713     1499      9           11\n",
       "2714     1499     10           48\n",
       "2715     1499     11           59\n",
       "2716     1499     12           66\n",
       "\n",
       "[2717 rows x 3 columns]"
      ]
     },
     "execution_count": 20,
     "metadata": {},
     "output_type": "execute_result"
    }
   ],
   "source": [
    "messages = df_messages.pivot_table(index=['user_id', 'month'], values='id', aggfunc='count').reset_index()\n",
    "messages = messages.rename(columns={'id' : 'sum_message'})\n",
    "messages"
   ]
  },
  {
   "cell_type": "markdown",
   "metadata": {},
   "source": [
    "* объем израсходованного интернет-трафика по месяцам."
   ]
  },
  {
   "cell_type": "markdown",
   "metadata": {},
   "source": [
    "Создадим таблицу с гигабайтами и округлим её в большую сторону, согласно условиям тарифа."
   ]
  },
  {
   "cell_type": "code",
   "execution_count": 21,
   "metadata": {},
   "outputs": [
    {
     "data": {
      "text/html": [
       "<div>\n",
       "<style scoped>\n",
       "    .dataframe tbody tr th:only-of-type {\n",
       "        vertical-align: middle;\n",
       "    }\n",
       "\n",
       "    .dataframe tbody tr th {\n",
       "        vertical-align: top;\n",
       "    }\n",
       "\n",
       "    .dataframe thead th {\n",
       "        text-align: right;\n",
       "    }\n",
       "</style>\n",
       "<table border=\"1\" class=\"dataframe\">\n",
       "  <thead>\n",
       "    <tr style=\"text-align: right;\">\n",
       "      <th></th>\n",
       "      <th>user_id</th>\n",
       "      <th>month</th>\n",
       "      <th>sum_gb</th>\n",
       "    </tr>\n",
       "  </thead>\n",
       "  <tbody>\n",
       "    <tr>\n",
       "      <th>0</th>\n",
       "      <td>1000</td>\n",
       "      <td>5</td>\n",
       "      <td>3</td>\n",
       "    </tr>\n",
       "    <tr>\n",
       "      <th>1</th>\n",
       "      <td>1000</td>\n",
       "      <td>6</td>\n",
       "      <td>23</td>\n",
       "    </tr>\n",
       "    <tr>\n",
       "      <th>2</th>\n",
       "      <td>1000</td>\n",
       "      <td>7</td>\n",
       "      <td>14</td>\n",
       "    </tr>\n",
       "    <tr>\n",
       "      <th>3</th>\n",
       "      <td>1000</td>\n",
       "      <td>8</td>\n",
       "      <td>14</td>\n",
       "    </tr>\n",
       "    <tr>\n",
       "      <th>4</th>\n",
       "      <td>1000</td>\n",
       "      <td>9</td>\n",
       "      <td>15</td>\n",
       "    </tr>\n",
       "    <tr>\n",
       "      <th>...</th>\n",
       "      <td>...</td>\n",
       "      <td>...</td>\n",
       "      <td>...</td>\n",
       "    </tr>\n",
       "    <tr>\n",
       "      <th>3198</th>\n",
       "      <td>1498</td>\n",
       "      <td>10</td>\n",
       "      <td>21</td>\n",
       "    </tr>\n",
       "    <tr>\n",
       "      <th>3199</th>\n",
       "      <td>1499</td>\n",
       "      <td>9</td>\n",
       "      <td>2</td>\n",
       "    </tr>\n",
       "    <tr>\n",
       "      <th>3200</th>\n",
       "      <td>1499</td>\n",
       "      <td>10</td>\n",
       "      <td>18</td>\n",
       "    </tr>\n",
       "    <tr>\n",
       "      <th>3201</th>\n",
       "      <td>1499</td>\n",
       "      <td>11</td>\n",
       "      <td>18</td>\n",
       "    </tr>\n",
       "    <tr>\n",
       "      <th>3202</th>\n",
       "      <td>1499</td>\n",
       "      <td>12</td>\n",
       "      <td>13</td>\n",
       "    </tr>\n",
       "  </tbody>\n",
       "</table>\n",
       "<p>3203 rows × 3 columns</p>\n",
       "</div>"
      ],
      "text/plain": [
       "      user_id  month  sum_gb\n",
       "0        1000      5       3\n",
       "1        1000      6      23\n",
       "2        1000      7      14\n",
       "3        1000      8      14\n",
       "4        1000      9      15\n",
       "...       ...    ...     ...\n",
       "3198     1498     10      21\n",
       "3199     1499      9       2\n",
       "3200     1499     10      18\n",
       "3201     1499     11      18\n",
       "3202     1499     12      13\n",
       "\n",
       "[3203 rows x 3 columns]"
      ]
     },
     "execution_count": 21,
     "metadata": {},
     "output_type": "execute_result"
    }
   ],
   "source": [
    "df_internet['month'] = df_internet['session_date'].dt.month\n",
    "internet = df_internet.pivot_table(index=['user_id', 'month'], values='mb_used', aggfunc='sum').reset_index()\n",
    "internet = internet.rename(columns={'mb_used' : 'sum_gb'})\n",
    "internet['sum_gb'] = internet['sum_gb'] / 1024\n",
    "internet['sum_gb'] = np.ceil(internet['sum_gb']).astype('int')\n",
    "\n",
    "internet"
   ]
  },
  {
   "cell_type": "markdown",
   "metadata": {},
   "source": [
    "<font color='DarkBlue'><b>Комментарий ревьюера</b></font><br>\n",
    "<font color='DarkGreen'>👌 Хорошо, не забыли округлить трафик до гигабайтов. 👍</font>"
   ]
  },
  {
   "cell_type": "markdown",
   "metadata": {},
   "source": [
    "* помесячную выручку с каждого пользователя (вычтите бесплатный лимит из суммарного количества звонков, сообщений и интернет-трафика; остаток умножим на значение из тарифного плана; прибавим абонентскую плату, соответствующую тарифному плану)."
   ]
  },
  {
   "cell_type": "markdown",
   "metadata": {},
   "source": [
    "Объединим данные в одну таблицу."
   ]
  },
  {
   "cell_type": "code",
   "execution_count": 22,
   "metadata": {},
   "outputs": [
    {
     "data": {
      "text/html": [
       "<div>\n",
       "<style scoped>\n",
       "    .dataframe tbody tr th:only-of-type {\n",
       "        vertical-align: middle;\n",
       "    }\n",
       "\n",
       "    .dataframe tbody tr th {\n",
       "        vertical-align: top;\n",
       "    }\n",
       "\n",
       "    .dataframe thead th {\n",
       "        text-align: right;\n",
       "    }\n",
       "</style>\n",
       "<table border=\"1\" class=\"dataframe\">\n",
       "  <thead>\n",
       "    <tr style=\"text-align: right;\">\n",
       "      <th></th>\n",
       "      <th>user_id</th>\n",
       "      <th>month</th>\n",
       "      <th>sum_minut</th>\n",
       "      <th>total_calls</th>\n",
       "      <th>sum_gb</th>\n",
       "      <th>sum_message</th>\n",
       "      <th>tariff</th>\n",
       "      <th>city</th>\n",
       "    </tr>\n",
       "  </thead>\n",
       "  <tbody>\n",
       "    <tr>\n",
       "      <th>0</th>\n",
       "      <td>1000</td>\n",
       "      <td>5.0</td>\n",
       "      <td>159.0</td>\n",
       "      <td>22.0</td>\n",
       "      <td>3.0</td>\n",
       "      <td>22.0</td>\n",
       "      <td>ultra</td>\n",
       "      <td>Краснодар</td>\n",
       "    </tr>\n",
       "    <tr>\n",
       "      <th>1</th>\n",
       "      <td>1000</td>\n",
       "      <td>6.0</td>\n",
       "      <td>172.0</td>\n",
       "      <td>43.0</td>\n",
       "      <td>23.0</td>\n",
       "      <td>60.0</td>\n",
       "      <td>ultra</td>\n",
       "      <td>Краснодар</td>\n",
       "    </tr>\n",
       "    <tr>\n",
       "      <th>2</th>\n",
       "      <td>1000</td>\n",
       "      <td>7.0</td>\n",
       "      <td>340.0</td>\n",
       "      <td>47.0</td>\n",
       "      <td>14.0</td>\n",
       "      <td>75.0</td>\n",
       "      <td>ultra</td>\n",
       "      <td>Краснодар</td>\n",
       "    </tr>\n",
       "    <tr>\n",
       "      <th>3</th>\n",
       "      <td>1000</td>\n",
       "      <td>8.0</td>\n",
       "      <td>408.0</td>\n",
       "      <td>52.0</td>\n",
       "      <td>14.0</td>\n",
       "      <td>81.0</td>\n",
       "      <td>ultra</td>\n",
       "      <td>Краснодар</td>\n",
       "    </tr>\n",
       "    <tr>\n",
       "      <th>4</th>\n",
       "      <td>1000</td>\n",
       "      <td>9.0</td>\n",
       "      <td>466.0</td>\n",
       "      <td>58.0</td>\n",
       "      <td>15.0</td>\n",
       "      <td>57.0</td>\n",
       "      <td>ultra</td>\n",
       "      <td>Краснодар</td>\n",
       "    </tr>\n",
       "    <tr>\n",
       "      <th>...</th>\n",
       "      <td>...</td>\n",
       "      <td>...</td>\n",
       "      <td>...</td>\n",
       "      <td>...</td>\n",
       "      <td>...</td>\n",
       "      <td>...</td>\n",
       "      <td>...</td>\n",
       "      <td>...</td>\n",
       "    </tr>\n",
       "    <tr>\n",
       "      <th>3211</th>\n",
       "      <td>1489</td>\n",
       "      <td>10.0</td>\n",
       "      <td>NaN</td>\n",
       "      <td>NaN</td>\n",
       "      <td>20.0</td>\n",
       "      <td>21.0</td>\n",
       "      <td>smart</td>\n",
       "      <td>Санкт-Петербург</td>\n",
       "    </tr>\n",
       "    <tr>\n",
       "      <th>3212</th>\n",
       "      <td>1489</td>\n",
       "      <td>11.0</td>\n",
       "      <td>NaN</td>\n",
       "      <td>NaN</td>\n",
       "      <td>18.0</td>\n",
       "      <td>20.0</td>\n",
       "      <td>smart</td>\n",
       "      <td>Санкт-Петербург</td>\n",
       "    </tr>\n",
       "    <tr>\n",
       "      <th>3213</th>\n",
       "      <td>1489</td>\n",
       "      <td>12.0</td>\n",
       "      <td>NaN</td>\n",
       "      <td>NaN</td>\n",
       "      <td>17.0</td>\n",
       "      <td>35.0</td>\n",
       "      <td>smart</td>\n",
       "      <td>Санкт-Петербург</td>\n",
       "    </tr>\n",
       "    <tr>\n",
       "      <th>3214</th>\n",
       "      <td>1128</td>\n",
       "      <td>NaN</td>\n",
       "      <td>NaN</td>\n",
       "      <td>NaN</td>\n",
       "      <td>NaN</td>\n",
       "      <td>NaN</td>\n",
       "      <td>ultra</td>\n",
       "      <td>Волжский</td>\n",
       "    </tr>\n",
       "    <tr>\n",
       "      <th>3215</th>\n",
       "      <td>1371</td>\n",
       "      <td>NaN</td>\n",
       "      <td>NaN</td>\n",
       "      <td>NaN</td>\n",
       "      <td>NaN</td>\n",
       "      <td>NaN</td>\n",
       "      <td>smart</td>\n",
       "      <td>Омск</td>\n",
       "    </tr>\n",
       "  </tbody>\n",
       "</table>\n",
       "<p>3216 rows × 8 columns</p>\n",
       "</div>"
      ],
      "text/plain": [
       "      user_id  month  sum_minut  total_calls  sum_gb  sum_message tariff  \\\n",
       "0        1000    5.0      159.0         22.0     3.0         22.0  ultra   \n",
       "1        1000    6.0      172.0         43.0    23.0         60.0  ultra   \n",
       "2        1000    7.0      340.0         47.0    14.0         75.0  ultra   \n",
       "3        1000    8.0      408.0         52.0    14.0         81.0  ultra   \n",
       "4        1000    9.0      466.0         58.0    15.0         57.0  ultra   \n",
       "...       ...    ...        ...          ...     ...          ...    ...   \n",
       "3211     1489   10.0        NaN          NaN    20.0         21.0  smart   \n",
       "3212     1489   11.0        NaN          NaN    18.0         20.0  smart   \n",
       "3213     1489   12.0        NaN          NaN    17.0         35.0  smart   \n",
       "3214     1128    NaN        NaN          NaN     NaN          NaN  ultra   \n",
       "3215     1371    NaN        NaN          NaN     NaN          NaN  smart   \n",
       "\n",
       "                 city  \n",
       "0           Краснодар  \n",
       "1           Краснодар  \n",
       "2           Краснодар  \n",
       "3           Краснодар  \n",
       "4           Краснодар  \n",
       "...               ...  \n",
       "3211  Санкт-Петербург  \n",
       "3212  Санкт-Петербург  \n",
       "3213  Санкт-Петербург  \n",
       "3214         Волжский  \n",
       "3215             Омск  \n",
       "\n",
       "[3216 rows x 8 columns]"
      ]
     },
     "metadata": {},
     "output_type": "display_data"
    },
    {
     "name": "stdout",
     "output_type": "stream",
     "text": [
      "<class 'pandas.core.frame.DataFrame'>\n",
      "Int64Index: 3216 entries, 0 to 3215\n",
      "Data columns (total 8 columns):\n",
      " #   Column       Non-Null Count  Dtype  \n",
      "---  ------       --------------  -----  \n",
      " 0   user_id      3216 non-null   int64  \n",
      " 1   month        3214 non-null   float64\n",
      " 2   sum_minut    3174 non-null   float64\n",
      " 3   total_calls  3174 non-null   float64\n",
      " 4   sum_gb       3203 non-null   float64\n",
      " 5   sum_message  2717 non-null   float64\n",
      " 6   tariff       3216 non-null   object \n",
      " 7   city         3216 non-null   object \n",
      "dtypes: float64(5), int64(1), object(2)\n",
      "memory usage: 226.1+ KB\n"
     ]
    }
   ],
   "source": [
    "data = calls.merge(internet, on=['user_id', 'month'], how='outer')\n",
    "data = data.merge(messages, on=['user_id', 'month'], how='outer')\n",
    "data = data.merge(df_users[['tariff', 'city', 'user_id']], how='outer')\n",
    "\n",
    "display(data)\n",
    "data.info()"
   ]
  },
  {
   "cell_type": "code",
   "execution_count": 23,
   "metadata": {},
   "outputs": [
    {
     "data": {
      "text/plain": [
       "(500,)"
      ]
     },
     "execution_count": 23,
     "metadata": {},
     "output_type": "execute_result"
    }
   ],
   "source": [
    "data.user_id.unique().shape "
   ]
  },
  {
   "cell_type": "markdown",
   "metadata": {},
   "source": [
    "<font color='DarkBlue'><b>Комментарий ревьюера</b></font><br>\n",
    "<font color='Red'>🛠 Ну вот, в объединенной таблице количества звонков `total_calls` нет. 😢</font>"
   ]
  },
  {
   "cell_type": "markdown",
   "metadata": {},
   "source": [
    "<font color='Blue'><b>Комментарий студента: ура, появилось) </b></font><br>"
   ]
  },
  {
   "cell_type": "markdown",
   "metadata": {},
   "source": [
    "<font color='DarkBlue'><b>Комментарий ревьюера 2</b></font><br>\n",
    "<font color='DarkGreen'>👌 УРА! 😉</font>"
   ]
  },
  {
   "cell_type": "markdown",
   "metadata": {},
   "source": [
    "В итоговой таблице есть попущенные значения и float - Заменим отсутствующие значения на 0 и переведем количественные столбцы в int."
   ]
  },
  {
   "cell_type": "code",
   "execution_count": 24,
   "metadata": {},
   "outputs": [
    {
     "data": {
      "text/html": [
       "<div>\n",
       "<style scoped>\n",
       "    .dataframe tbody tr th:only-of-type {\n",
       "        vertical-align: middle;\n",
       "    }\n",
       "\n",
       "    .dataframe tbody tr th {\n",
       "        vertical-align: top;\n",
       "    }\n",
       "\n",
       "    .dataframe thead th {\n",
       "        text-align: right;\n",
       "    }\n",
       "</style>\n",
       "<table border=\"1\" class=\"dataframe\">\n",
       "  <thead>\n",
       "    <tr style=\"text-align: right;\">\n",
       "      <th></th>\n",
       "      <th>user_id</th>\n",
       "      <th>month</th>\n",
       "      <th>sum_minut</th>\n",
       "      <th>total_calls</th>\n",
       "      <th>sum_gb</th>\n",
       "      <th>sum_message</th>\n",
       "      <th>tariff</th>\n",
       "      <th>city</th>\n",
       "    </tr>\n",
       "  </thead>\n",
       "  <tbody>\n",
       "    <tr>\n",
       "      <th>0</th>\n",
       "      <td>1000</td>\n",
       "      <td>5</td>\n",
       "      <td>159</td>\n",
       "      <td>22</td>\n",
       "      <td>3</td>\n",
       "      <td>22</td>\n",
       "      <td>ultra</td>\n",
       "      <td>Краснодар</td>\n",
       "    </tr>\n",
       "    <tr>\n",
       "      <th>1</th>\n",
       "      <td>1000</td>\n",
       "      <td>6</td>\n",
       "      <td>172</td>\n",
       "      <td>43</td>\n",
       "      <td>23</td>\n",
       "      <td>60</td>\n",
       "      <td>ultra</td>\n",
       "      <td>Краснодар</td>\n",
       "    </tr>\n",
       "    <tr>\n",
       "      <th>2</th>\n",
       "      <td>1000</td>\n",
       "      <td>7</td>\n",
       "      <td>340</td>\n",
       "      <td>47</td>\n",
       "      <td>14</td>\n",
       "      <td>75</td>\n",
       "      <td>ultra</td>\n",
       "      <td>Краснодар</td>\n",
       "    </tr>\n",
       "    <tr>\n",
       "      <th>3</th>\n",
       "      <td>1000</td>\n",
       "      <td>8</td>\n",
       "      <td>408</td>\n",
       "      <td>52</td>\n",
       "      <td>14</td>\n",
       "      <td>81</td>\n",
       "      <td>ultra</td>\n",
       "      <td>Краснодар</td>\n",
       "    </tr>\n",
       "    <tr>\n",
       "      <th>4</th>\n",
       "      <td>1000</td>\n",
       "      <td>9</td>\n",
       "      <td>466</td>\n",
       "      <td>58</td>\n",
       "      <td>15</td>\n",
       "      <td>57</td>\n",
       "      <td>ultra</td>\n",
       "      <td>Краснодар</td>\n",
       "    </tr>\n",
       "    <tr>\n",
       "      <th>...</th>\n",
       "      <td>...</td>\n",
       "      <td>...</td>\n",
       "      <td>...</td>\n",
       "      <td>...</td>\n",
       "      <td>...</td>\n",
       "      <td>...</td>\n",
       "      <td>...</td>\n",
       "      <td>...</td>\n",
       "    </tr>\n",
       "    <tr>\n",
       "      <th>3209</th>\n",
       "      <td>1489</td>\n",
       "      <td>8</td>\n",
       "      <td>0</td>\n",
       "      <td>0</td>\n",
       "      <td>11</td>\n",
       "      <td>17</td>\n",
       "      <td>smart</td>\n",
       "      <td>Санкт-Петербург</td>\n",
       "    </tr>\n",
       "    <tr>\n",
       "      <th>3210</th>\n",
       "      <td>1489</td>\n",
       "      <td>9</td>\n",
       "      <td>0</td>\n",
       "      <td>0</td>\n",
       "      <td>17</td>\n",
       "      <td>32</td>\n",
       "      <td>smart</td>\n",
       "      <td>Санкт-Петербург</td>\n",
       "    </tr>\n",
       "    <tr>\n",
       "      <th>3211</th>\n",
       "      <td>1489</td>\n",
       "      <td>10</td>\n",
       "      <td>0</td>\n",
       "      <td>0</td>\n",
       "      <td>20</td>\n",
       "      <td>21</td>\n",
       "      <td>smart</td>\n",
       "      <td>Санкт-Петербург</td>\n",
       "    </tr>\n",
       "    <tr>\n",
       "      <th>3212</th>\n",
       "      <td>1489</td>\n",
       "      <td>11</td>\n",
       "      <td>0</td>\n",
       "      <td>0</td>\n",
       "      <td>18</td>\n",
       "      <td>20</td>\n",
       "      <td>smart</td>\n",
       "      <td>Санкт-Петербург</td>\n",
       "    </tr>\n",
       "    <tr>\n",
       "      <th>3213</th>\n",
       "      <td>1489</td>\n",
       "      <td>12</td>\n",
       "      <td>0</td>\n",
       "      <td>0</td>\n",
       "      <td>17</td>\n",
       "      <td>35</td>\n",
       "      <td>smart</td>\n",
       "      <td>Санкт-Петербург</td>\n",
       "    </tr>\n",
       "  </tbody>\n",
       "</table>\n",
       "<p>3214 rows × 8 columns</p>\n",
       "</div>"
      ],
      "text/plain": [
       "      user_id  month  sum_minut  total_calls  sum_gb  sum_message tariff  \\\n",
       "0        1000      5        159           22       3           22  ultra   \n",
       "1        1000      6        172           43      23           60  ultra   \n",
       "2        1000      7        340           47      14           75  ultra   \n",
       "3        1000      8        408           52      14           81  ultra   \n",
       "4        1000      9        466           58      15           57  ultra   \n",
       "...       ...    ...        ...          ...     ...          ...    ...   \n",
       "3209     1489      8          0            0      11           17  smart   \n",
       "3210     1489      9          0            0      17           32  smart   \n",
       "3211     1489     10          0            0      20           21  smart   \n",
       "3212     1489     11          0            0      18           20  smart   \n",
       "3213     1489     12          0            0      17           35  smart   \n",
       "\n",
       "                 city  \n",
       "0           Краснодар  \n",
       "1           Краснодар  \n",
       "2           Краснодар  \n",
       "3           Краснодар  \n",
       "4           Краснодар  \n",
       "...               ...  \n",
       "3209  Санкт-Петербург  \n",
       "3210  Санкт-Петербург  \n",
       "3211  Санкт-Петербург  \n",
       "3212  Санкт-Петербург  \n",
       "3213  Санкт-Петербург  \n",
       "\n",
       "[3214 rows x 8 columns]"
      ]
     },
     "metadata": {},
     "output_type": "display_data"
    },
    {
     "name": "stdout",
     "output_type": "stream",
     "text": [
      "<class 'pandas.core.frame.DataFrame'>\n",
      "Int64Index: 3214 entries, 0 to 3213\n",
      "Data columns (total 8 columns):\n",
      " #   Column       Non-Null Count  Dtype \n",
      "---  ------       --------------  ----- \n",
      " 0   user_id      3214 non-null   int64 \n",
      " 1   month        3214 non-null   int64 \n",
      " 2   sum_minut    3214 non-null   int64 \n",
      " 3   total_calls  3214 non-null   int64 \n",
      " 4   sum_gb       3214 non-null   int64 \n",
      " 5   sum_message  3214 non-null   int64 \n",
      " 6   tariff       3214 non-null   object\n",
      " 7   city         3214 non-null   object\n",
      "dtypes: int64(6), object(2)\n",
      "memory usage: 226.0+ KB\n"
     ]
    }
   ],
   "source": [
    "data = data.fillna(\n",
    "    {\n",
    "        'sum_message':0,\n",
    "        'sum_minut':0,\n",
    "        'sum_gb':0,\n",
    "        'month':0,\n",
    "        'total_calls':0\n",
    "    }\n",
    ")\n",
    "\n",
    "data = data.astype(\n",
    "    {\n",
    "        'sum_message': 'int',\n",
    "        'sum_minut': 'int',\n",
    "        'sum_gb': 'int',\n",
    "        'month': 'int',\n",
    "        'total_calls': 'int'\n",
    "    }\n",
    ")\n",
    "\n",
    "data = data.query('month > 0')\n",
    "\n",
    "display(data)\n",
    "data.info()"
   ]
  },
  {
   "cell_type": "markdown",
   "metadata": {},
   "source": [
    "<font color='DarkBlue'><b>Комментарий ревьюера</b></font><br>\n",
    "<font color='DarkGreen'>👌 Хорошо, что заполнили пропуски нулями. 👍</font>"
   ]
  },
  {
   "cell_type": "code",
   "execution_count": 25,
   "metadata": {},
   "outputs": [
    {
     "data": {
      "text/html": [
       "<div>\n",
       "<style scoped>\n",
       "    .dataframe tbody tr th:only-of-type {\n",
       "        vertical-align: middle;\n",
       "    }\n",
       "\n",
       "    .dataframe tbody tr th {\n",
       "        vertical-align: top;\n",
       "    }\n",
       "\n",
       "    .dataframe thead th {\n",
       "        text-align: right;\n",
       "    }\n",
       "</style>\n",
       "<table border=\"1\" class=\"dataframe\">\n",
       "  <thead>\n",
       "    <tr style=\"text-align: right;\">\n",
       "      <th></th>\n",
       "      <th>messages_included</th>\n",
       "      <th>gb_per_month_included</th>\n",
       "      <th>minutes_included</th>\n",
       "      <th>rub_monthly_fee</th>\n",
       "      <th>rub_per_gb</th>\n",
       "      <th>rub_per_message</th>\n",
       "      <th>rub_per_minute</th>\n",
       "      <th>tariff_name</th>\n",
       "    </tr>\n",
       "  </thead>\n",
       "  <tbody>\n",
       "    <tr>\n",
       "      <th>0</th>\n",
       "      <td>50</td>\n",
       "      <td>15</td>\n",
       "      <td>500</td>\n",
       "      <td>550</td>\n",
       "      <td>200</td>\n",
       "      <td>3</td>\n",
       "      <td>3</td>\n",
       "      <td>smart</td>\n",
       "    </tr>\n",
       "    <tr>\n",
       "      <th>1</th>\n",
       "      <td>1000</td>\n",
       "      <td>30</td>\n",
       "      <td>3000</td>\n",
       "      <td>1950</td>\n",
       "      <td>150</td>\n",
       "      <td>1</td>\n",
       "      <td>1</td>\n",
       "      <td>ultra</td>\n",
       "    </tr>\n",
       "  </tbody>\n",
       "</table>\n",
       "</div>"
      ],
      "text/plain": [
       "   messages_included  gb_per_month_included  minutes_included  \\\n",
       "0                 50                     15               500   \n",
       "1               1000                     30              3000   \n",
       "\n",
       "   rub_monthly_fee  rub_per_gb  rub_per_message  rub_per_minute tariff_name  \n",
       "0              550         200                3               3       smart  \n",
       "1             1950         150                1               1       ultra  "
      ]
     },
     "execution_count": 25,
     "metadata": {},
     "output_type": "execute_result"
    }
   ],
   "source": [
    "df_tariffs"
   ]
  },
  {
   "cell_type": "code",
   "execution_count": 26,
   "metadata": {},
   "outputs": [],
   "source": [
    "def price(df):\n",
    "    sum_minut = df['sum_minut']\n",
    "    sum_message = df['sum_message']\n",
    "    sum_gb = df['sum_gb']\n",
    "    tariff = df['tariff']\n",
    "    if tariff == 'smart':\n",
    "        if sum_minut > df_tariffs['minutes_included'][0]:\n",
    "            price_min=(sum_minut-df_tariffs['minutes_included'][0])*df_tariffs['rub_per_message'][0] \n",
    "        else:\n",
    "            price_min = 0\n",
    "        if sum_message > df_tariffs['messages_included'][0]:\n",
    "            price_message=(sum_message-df_tariffs['messages_included'][0])*df_tariffs['rub_per_message'][0] \n",
    "        else:\n",
    "            price_message = 0\n",
    "        if sum_gb > df_tariffs['gb_per_month_included'][0]:\n",
    "            price_gb=(sum_gb-df_tariffs['gb_per_month_included'][0])*df_tariffs['rub_per_gb'][0] \n",
    "        else:\n",
    "            price_gb = 0\n",
    "        return price_min + price_message + price_gb + df_tariffs['rub_monthly_fee'][0] \n",
    "    elif tariff == 'ultra':\n",
    "        if sum_minut > df_tariffs['minutes_included'][1]:\n",
    "            price_min=sum_minut-df_tariffs['minutes_included'][1] \n",
    "        else:\n",
    "            price_min = 0\n",
    "        if sum_message > df_tariffs['messages_included'][1]:\n",
    "            price_message=sum_message-df_tariffs['messages_included'][1] \n",
    "        else:\n",
    "            price_message = 0\n",
    "        if sum_gb > df_tariffs['gb_per_month_included'][1]:\n",
    "            price_gb=(sum_gb-df_tariffs['gb_per_month_included'][1])*df_tariffs['rub_per_gb'][1] \n",
    "        else:\n",
    "            price_gb = 0\n",
    "        return price_min + price_message + price_gb + df_tariffs['rub_monthly_fee'][1] \n",
    "            \n",
    "  \n",
    "   \n",
    "data['price_month'] = data.apply(price, axis=1) "
   ]
  },
  {
   "cell_type": "markdown",
   "metadata": {},
   "source": [
    "<font color='DarkBlue'><b>Комментарий ревьюера</b></font><br>\n",
    "<font color='DarkMagenta'>👉 Рекомендуется не использовать в коде значения переменных, которые есть в датасете. Тогда при изменении тарифов мы можем использовать ранее написанный код при анализе просто загрузив новый датсет. 😲</font>"
   ]
  },
  {
   "cell_type": "markdown",
   "metadata": {},
   "source": [
    "<font color='Blue'><b>Комментарий студента: Понял, исправил </b></font><br>"
   ]
  },
  {
   "cell_type": "markdown",
   "metadata": {},
   "source": [
    "<font color='DarkBlue'><b>Комментарий ревьюера 2</b></font><br>\n",
    "<font color='DarkGreen'>👌 Молодец, правильное решение. 👍</font>"
   ]
  },
  {
   "cell_type": "code",
   "execution_count": 27,
   "metadata": {},
   "outputs": [
    {
     "data": {
      "text/html": [
       "<div>\n",
       "<style scoped>\n",
       "    .dataframe tbody tr th:only-of-type {\n",
       "        vertical-align: middle;\n",
       "    }\n",
       "\n",
       "    .dataframe tbody tr th {\n",
       "        vertical-align: top;\n",
       "    }\n",
       "\n",
       "    .dataframe thead th {\n",
       "        text-align: right;\n",
       "    }\n",
       "</style>\n",
       "<table border=\"1\" class=\"dataframe\">\n",
       "  <thead>\n",
       "    <tr style=\"text-align: right;\">\n",
       "      <th></th>\n",
       "      <th>user_id</th>\n",
       "      <th>month</th>\n",
       "      <th>sum_minut</th>\n",
       "      <th>total_calls</th>\n",
       "      <th>sum_gb</th>\n",
       "      <th>sum_message</th>\n",
       "      <th>tariff</th>\n",
       "      <th>city</th>\n",
       "      <th>price_month</th>\n",
       "    </tr>\n",
       "  </thead>\n",
       "  <tbody>\n",
       "    <tr>\n",
       "      <th>0</th>\n",
       "      <td>1000</td>\n",
       "      <td>5</td>\n",
       "      <td>159</td>\n",
       "      <td>22</td>\n",
       "      <td>3</td>\n",
       "      <td>22</td>\n",
       "      <td>ultra</td>\n",
       "      <td>Краснодар</td>\n",
       "      <td>1950</td>\n",
       "    </tr>\n",
       "    <tr>\n",
       "      <th>1</th>\n",
       "      <td>1000</td>\n",
       "      <td>6</td>\n",
       "      <td>172</td>\n",
       "      <td>43</td>\n",
       "      <td>23</td>\n",
       "      <td>60</td>\n",
       "      <td>ultra</td>\n",
       "      <td>Краснодар</td>\n",
       "      <td>1950</td>\n",
       "    </tr>\n",
       "    <tr>\n",
       "      <th>2</th>\n",
       "      <td>1000</td>\n",
       "      <td>7</td>\n",
       "      <td>340</td>\n",
       "      <td>47</td>\n",
       "      <td>14</td>\n",
       "      <td>75</td>\n",
       "      <td>ultra</td>\n",
       "      <td>Краснодар</td>\n",
       "      <td>1950</td>\n",
       "    </tr>\n",
       "    <tr>\n",
       "      <th>3</th>\n",
       "      <td>1000</td>\n",
       "      <td>8</td>\n",
       "      <td>408</td>\n",
       "      <td>52</td>\n",
       "      <td>14</td>\n",
       "      <td>81</td>\n",
       "      <td>ultra</td>\n",
       "      <td>Краснодар</td>\n",
       "      <td>1950</td>\n",
       "    </tr>\n",
       "    <tr>\n",
       "      <th>4</th>\n",
       "      <td>1000</td>\n",
       "      <td>9</td>\n",
       "      <td>466</td>\n",
       "      <td>58</td>\n",
       "      <td>15</td>\n",
       "      <td>57</td>\n",
       "      <td>ultra</td>\n",
       "      <td>Краснодар</td>\n",
       "      <td>1950</td>\n",
       "    </tr>\n",
       "  </tbody>\n",
       "</table>\n",
       "</div>"
      ],
      "text/plain": [
       "   user_id  month  sum_minut  total_calls  sum_gb  sum_message tariff  \\\n",
       "0     1000      5        159           22       3           22  ultra   \n",
       "1     1000      6        172           43      23           60  ultra   \n",
       "2     1000      7        340           47      14           75  ultra   \n",
       "3     1000      8        408           52      14           81  ultra   \n",
       "4     1000      9        466           58      15           57  ultra   \n",
       "\n",
       "        city  price_month  \n",
       "0  Краснодар         1950  \n",
       "1  Краснодар         1950  \n",
       "2  Краснодар         1950  \n",
       "3  Краснодар         1950  \n",
       "4  Краснодар         1950  "
      ]
     },
     "metadata": {},
     "output_type": "display_data"
    },
    {
     "name": "stdout",
     "output_type": "stream",
     "text": [
      "<class 'pandas.core.frame.DataFrame'>\n",
      "Int64Index: 3214 entries, 0 to 3213\n",
      "Data columns (total 9 columns):\n",
      " #   Column       Non-Null Count  Dtype \n",
      "---  ------       --------------  ----- \n",
      " 0   user_id      3214 non-null   int64 \n",
      " 1   month        3214 non-null   int64 \n",
      " 2   sum_minut    3214 non-null   int64 \n",
      " 3   total_calls  3214 non-null   int64 \n",
      " 4   sum_gb       3214 non-null   int64 \n",
      " 5   sum_message  3214 non-null   int64 \n",
      " 6   tariff       3214 non-null   object\n",
      " 7   city         3214 non-null   object\n",
      " 8   price_month  3214 non-null   int64 \n",
      "dtypes: int64(7), object(2)\n",
      "memory usage: 251.1+ KB\n"
     ]
    }
   ],
   "source": [
    "display(data.head())\n",
    "data.info()"
   ]
  },
  {
   "cell_type": "code",
   "execution_count": 28,
   "metadata": {},
   "outputs": [],
   "source": [
    "data_ultra = data.query('tariff == \"ultra\"')"
   ]
  },
  {
   "cell_type": "code",
   "execution_count": 29,
   "metadata": {},
   "outputs": [
    {
     "data": {
      "image/png": "[encoded data removed]",
      "text/plain": [
       "<Figure size 432x288 with 1 Axes>"
      ]
     },
     "metadata": {
      "needs_background": "light"
     },
     "output_type": "display_data"
    },
    {
     "data": {
      "image/png": "[encoded data removed]",
      "text/plain": [
       "<Figure size 432x288 with 1 Axes>"
      ]
     },
     "metadata": {
      "needs_background": "light"
     },
     "output_type": "display_data"
    }
   ],
   "source": [
    "data_ultra.boxplot(column=['sum_gb'])\n",
    "plt.show()\n",
    "\n",
    "data_ultra.plot(kind='hist',\n",
    "        y='sum_gb',\n",
    "        bins=10,\n",
    "        histtype='step',\n",
    "        linewidth=5,\n",
    "        alpha=0.7,\n",
    "        grid=True,\n",
    "        colormap=cm.cubehelix,\n",
    "        legend=True)\n",
    "plt.xlabel('гигабайты', fontsize=12)\n",
    "plt.ylabel(r'количество пользователей', fontsize=12)\n",
    "plt.title(r'Расход интенета', fontsize=15)\n",
    "plt.show()"
   ]
  },
  {
   "cell_type": "code",
   "execution_count": 30,
   "metadata": {},
   "outputs": [],
   "source": [
    "data_smart = data.query('tariff == \"smart\"')"
   ]
  },
  {
   "cell_type": "code",
   "execution_count": 31,
   "metadata": {},
   "outputs": [
    {
     "data": {
      "image/png": "[encoded data removed]",
      "text/plain": [
       "<Figure size 432x288 with 1 Axes>"
      ]
     },
     "metadata": {
      "needs_background": "light"
     },
     "output_type": "display_data"
    },
    {
     "data": {
      "image/png": "[encoded data removed]",
      "text/plain": [
       "<Figure size 432x288 with 1 Axes>"
      ]
     },
     "metadata": {
      "needs_background": "light"
     },
     "output_type": "display_data"
    }
   ],
   "source": [
    "data_smart.boxplot(column=['sum_gb'])\n",
    "plt.show()\n",
    "\n",
    "data_smart.plot(kind='hist',\n",
    "        y='sum_gb',\n",
    "        bins=10,\n",
    "        histtype='step',\n",
    "        linewidth=5,\n",
    "        alpha=0.7,\n",
    "        grid=True,\n",
    "        colormap=cm.cubehelix,\n",
    "        legend=True)\n",
    "plt.xlabel('гигабайты', fontsize=12)\n",
    "plt.ylabel(r'количество пользователей', fontsize=12)\n",
    "plt.title(r'Расход интенета', fontsize=15)\n",
    "plt.show()"
   ]
  },
  {
   "cell_type": "markdown",
   "metadata": {},
   "source": [
    "Среди значений расхода интентера тарифа \"смарт\" обнаружены значения, выходящие за пределы \"ящика с усами\" - их немного, поэтому отфильтруем их."
   ]
  },
  {
   "cell_type": "code",
   "execution_count": 32,
   "metadata": {},
   "outputs": [],
   "source": [
    "data_smart = data_smart.query('5 < sum_gb < 30')"
   ]
  },
  {
   "cell_type": "markdown",
   "metadata": {},
   "source": [
    "<font color='DarkBlue'><b>Комментарий ревьюера</b></font><br>\n",
    "<font color='Red'>🛠 Надо проанализировать куда у нас пропало два пользователя после объединения таблиц, см. код ниже. 😲 Вот только не надо их сразу включать в сводную таблицу и считать на них выручку. Надо по ним принять правильное решение. </font>"
   ]
  },
  {
   "cell_type": "markdown",
   "metadata": {},
   "source": [
    "<font color='Blue'><b>Комментарий студента: Я убрал on='user_id' из последнего объединения и все стало ОК, но я не понял в чем причина была, ведь если я объединял по стобцу 'user_id', которых было 500, то почему на выходе их стало 498. В целом, даже если бы 2 пользователя затерялись, то это не никак не повлияет на исследование, но причину мне очень интересно узнать\" </b></font><br>"
   ]
  },
  {
   "cell_type": "markdown",
   "metadata": {},
   "source": [
    "<font color='DarkBlue'><b>Комментарий ревьюера 2</b></font><br>\n",
    "<font color='DarkGreen'>👌 Эти два пользователя (user_id 1128 и 1371) через неделю после заключения договора в декабре его расторгли. То есть, у них не было ни каких звонков, смс и интернет трафика.</font>"
   ]
  },
  {
   "cell_type": "code",
   "execution_count": 33,
   "metadata": {},
   "outputs": [
    {
     "data": {
      "text/plain": [
       "(498,)"
      ]
     },
     "execution_count": 33,
     "metadata": {},
     "output_type": "execute_result"
    }
   ],
   "source": [
    "# Комментарий ревьюера\n",
    "data.user_id.unique().shape "
   ]
  },
  {
   "cell_type": "markdown",
   "metadata": {},
   "source": []
  },
  {
   "cell_type": "markdown",
   "metadata": {},
   "source": [
    "### Вывод"
   ]
  },
  {
   "cell_type": "markdown",
   "metadata": {},
   "source": [
    "Таблица готова к анализу."
   ]
  },
  {
   "cell_type": "markdown",
   "metadata": {},
   "source": [
    "##  Проанализируем данные"
   ]
  },
  {
   "cell_type": "markdown",
   "metadata": {},
   "source": [
    "Опишем поведение клиентов оператора, исходя из выборки. Сколько минут разговора, сколько сообщений и какой объём интернет-трафика требуется пользователям каждого тарифа в месяц? Посчитаем среднее количество, дисперсию и стандартное отклонение. Построим гистограммы. Опишим распределения."
   ]
  },
  {
   "cell_type": "code",
   "execution_count": 34,
   "metadata": {},
   "outputs": [
    {
     "data": {
      "text/html": [
       "<div>\n",
       "<style scoped>\n",
       "    .dataframe tbody tr th:only-of-type {\n",
       "        vertical-align: middle;\n",
       "    }\n",
       "\n",
       "    .dataframe tbody tr th {\n",
       "        vertical-align: top;\n",
       "    }\n",
       "\n",
       "    .dataframe thead th {\n",
       "        text-align: right;\n",
       "    }\n",
       "</style>\n",
       "<table border=\"1\" class=\"dataframe\">\n",
       "  <thead>\n",
       "    <tr style=\"text-align: right;\">\n",
       "      <th></th>\n",
       "      <th>messages_included</th>\n",
       "      <th>gb_per_month_included</th>\n",
       "      <th>minutes_included</th>\n",
       "      <th>rub_monthly_fee</th>\n",
       "      <th>rub_per_gb</th>\n",
       "      <th>rub_per_message</th>\n",
       "      <th>rub_per_minute</th>\n",
       "      <th>tariff_name</th>\n",
       "    </tr>\n",
       "  </thead>\n",
       "  <tbody>\n",
       "    <tr>\n",
       "      <th>0</th>\n",
       "      <td>50</td>\n",
       "      <td>15</td>\n",
       "      <td>500</td>\n",
       "      <td>550</td>\n",
       "      <td>200</td>\n",
       "      <td>3</td>\n",
       "      <td>3</td>\n",
       "      <td>smart</td>\n",
       "    </tr>\n",
       "    <tr>\n",
       "      <th>1</th>\n",
       "      <td>1000</td>\n",
       "      <td>30</td>\n",
       "      <td>3000</td>\n",
       "      <td>1950</td>\n",
       "      <td>150</td>\n",
       "      <td>1</td>\n",
       "      <td>1</td>\n",
       "      <td>ultra</td>\n",
       "    </tr>\n",
       "  </tbody>\n",
       "</table>\n",
       "</div>"
      ],
      "text/plain": [
       "   messages_included  gb_per_month_included  minutes_included  \\\n",
       "0                 50                     15               500   \n",
       "1               1000                     30              3000   \n",
       "\n",
       "   rub_monthly_fee  rub_per_gb  rub_per_message  rub_per_minute tariff_name  \n",
       "0              550         200                3               3       smart  \n",
       "1             1950         150                1               1       ultra  "
      ]
     },
     "execution_count": 34,
     "metadata": {},
     "output_type": "execute_result"
    }
   ],
   "source": [
    "df_tariffs"
   ]
  },
  {
   "cell_type": "code",
   "execution_count": 35,
   "metadata": {},
   "outputs": [
    {
     "data": {
      "text/html": [
       "<div>\n",
       "<style scoped>\n",
       "    .dataframe tbody tr th:only-of-type {\n",
       "        vertical-align: middle;\n",
       "    }\n",
       "\n",
       "    .dataframe tbody tr th {\n",
       "        vertical-align: top;\n",
       "    }\n",
       "\n",
       "    .dataframe thead th {\n",
       "        text-align: right;\n",
       "    }\n",
       "</style>\n",
       "<table border=\"1\" class=\"dataframe\">\n",
       "  <thead>\n",
       "    <tr style=\"text-align: right;\">\n",
       "      <th></th>\n",
       "      <th>user_id</th>\n",
       "      <th>month</th>\n",
       "      <th>sum_minut</th>\n",
       "      <th>total_calls</th>\n",
       "      <th>sum_gb</th>\n",
       "      <th>sum_message</th>\n",
       "      <th>price_month</th>\n",
       "    </tr>\n",
       "  </thead>\n",
       "  <tbody>\n",
       "    <tr>\n",
       "      <th>count</th>\n",
       "      <td>985.000000</td>\n",
       "      <td>985.000000</td>\n",
       "      <td>985.000000</td>\n",
       "      <td>985.000000</td>\n",
       "      <td>985.000000</td>\n",
       "      <td>985.000000</td>\n",
       "      <td>985.000000</td>\n",
       "    </tr>\n",
       "    <tr>\n",
       "      <th>mean</th>\n",
       "      <td>1263.094416</td>\n",
       "      <td>8.250761</td>\n",
       "      <td>526.623350</td>\n",
       "      <td>73.392893</td>\n",
       "      <td>19.494416</td>\n",
       "      <td>49.363452</td>\n",
       "      <td>2070.152284</td>\n",
       "    </tr>\n",
       "    <tr>\n",
       "      <th>std</th>\n",
       "      <td>140.694908</td>\n",
       "      <td>2.871762</td>\n",
       "      <td>317.606098</td>\n",
       "      <td>43.916853</td>\n",
       "      <td>9.853511</td>\n",
       "      <td>47.804457</td>\n",
       "      <td>376.187114</td>\n",
       "    </tr>\n",
       "    <tr>\n",
       "      <th>min</th>\n",
       "      <td>1000.000000</td>\n",
       "      <td>1.000000</td>\n",
       "      <td>0.000000</td>\n",
       "      <td>0.000000</td>\n",
       "      <td>0.000000</td>\n",
       "      <td>0.000000</td>\n",
       "      <td>1950.000000</td>\n",
       "    </tr>\n",
       "    <tr>\n",
       "      <th>25%</th>\n",
       "      <td>1143.000000</td>\n",
       "      <td>6.000000</td>\n",
       "      <td>284.000000</td>\n",
       "      <td>41.000000</td>\n",
       "      <td>12.000000</td>\n",
       "      <td>6.000000</td>\n",
       "      <td>1950.000000</td>\n",
       "    </tr>\n",
       "    <tr>\n",
       "      <th>50%</th>\n",
       "      <td>1277.000000</td>\n",
       "      <td>9.000000</td>\n",
       "      <td>518.000000</td>\n",
       "      <td>74.000000</td>\n",
       "      <td>19.000000</td>\n",
       "      <td>38.000000</td>\n",
       "      <td>1950.000000</td>\n",
       "    </tr>\n",
       "    <tr>\n",
       "      <th>75%</th>\n",
       "      <td>1381.000000</td>\n",
       "      <td>11.000000</td>\n",
       "      <td>752.000000</td>\n",
       "      <td>104.000000</td>\n",
       "      <td>27.000000</td>\n",
       "      <td>79.000000</td>\n",
       "      <td>1950.000000</td>\n",
       "    </tr>\n",
       "    <tr>\n",
       "      <th>max</th>\n",
       "      <td>1495.000000</td>\n",
       "      <td>12.000000</td>\n",
       "      <td>1673.000000</td>\n",
       "      <td>244.000000</td>\n",
       "      <td>49.000000</td>\n",
       "      <td>224.000000</td>\n",
       "      <td>4800.000000</td>\n",
       "    </tr>\n",
       "  </tbody>\n",
       "</table>\n",
       "</div>"
      ],
      "text/plain": [
       "           user_id       month    sum_minut  total_calls      sum_gb  \\\n",
       "count   985.000000  985.000000   985.000000   985.000000  985.000000   \n",
       "mean   1263.094416    8.250761   526.623350    73.392893   19.494416   \n",
       "std     140.694908    2.871762   317.606098    43.916853    9.853511   \n",
       "min    1000.000000    1.000000     0.000000     0.000000    0.000000   \n",
       "25%    1143.000000    6.000000   284.000000    41.000000   12.000000   \n",
       "50%    1277.000000    9.000000   518.000000    74.000000   19.000000   \n",
       "75%    1381.000000   11.000000   752.000000   104.000000   27.000000   \n",
       "max    1495.000000   12.000000  1673.000000   244.000000   49.000000   \n",
       "\n",
       "       sum_message  price_month  \n",
       "count   985.000000   985.000000  \n",
       "mean     49.363452  2070.152284  \n",
       "std      47.804457   376.187114  \n",
       "min       0.000000  1950.000000  \n",
       "25%       6.000000  1950.000000  \n",
       "50%      38.000000  1950.000000  \n",
       "75%      79.000000  1950.000000  \n",
       "max     224.000000  4800.000000  "
      ]
     },
     "execution_count": 35,
     "metadata": {},
     "output_type": "execute_result"
    }
   ],
   "source": [
    "data_ultra=data.query('tariff == \"ultra\"')\n",
    "data_ultra.describe()"
   ]
  },
  {
   "cell_type": "code",
   "execution_count": 36,
   "metadata": {},
   "outputs": [
    {
     "data": {
      "text/plain": [
       "134"
      ]
     },
     "execution_count": 36,
     "metadata": {},
     "output_type": "execute_result"
    }
   ],
   "source": [
    "user_ultra_30 = data_ultra.query('sum_gb > 30')['sum_gb'].count()\n",
    "user_ultra_30 "
   ]
  },
  {
   "cell_type": "code",
   "execution_count": 37,
   "metadata": {},
   "outputs": [
    {
     "data": {
      "text/plain": [
       "0.13604060913705585"
      ]
     },
     "execution_count": 37,
     "metadata": {},
     "output_type": "execute_result"
    }
   ],
   "source": [
    "user_ultra_30 / 985"
   ]
  },
  {
   "cell_type": "markdown",
   "metadata": {},
   "source": [
    "**В тариф УЛЬТРА входит 1000 сообщений, 30 гб, 3000 минут, абонет.плата - 1950р.**\n",
    "\n",
    "Максимальное кол-во в месяц сообщений было 224, минут 1673, что не превышает лимит. Максимальное кол-во гб в месяц было 49, Только 13.6 % абонентов не укладываются в лимит интернета. Средний ежемесячный чек 2070 рублей, что чуть больше абоненской платы."
   ]
  },
  {
   "cell_type": "code",
   "execution_count": 38,
   "metadata": {},
   "outputs": [
    {
     "data": {
      "text/html": [
       "<div>\n",
       "<style scoped>\n",
       "    .dataframe tbody tr th:only-of-type {\n",
       "        vertical-align: middle;\n",
       "    }\n",
       "\n",
       "    .dataframe tbody tr th {\n",
       "        vertical-align: top;\n",
       "    }\n",
       "\n",
       "    .dataframe thead th {\n",
       "        text-align: right;\n",
       "    }\n",
       "</style>\n",
       "<table border=\"1\" class=\"dataframe\">\n",
       "  <thead>\n",
       "    <tr style=\"text-align: right;\">\n",
       "      <th></th>\n",
       "      <th>user_id</th>\n",
       "      <th>month</th>\n",
       "      <th>sum_minut</th>\n",
       "      <th>total_calls</th>\n",
       "      <th>sum_gb</th>\n",
       "      <th>sum_message</th>\n",
       "      <th>tariff</th>\n",
       "      <th>city</th>\n",
       "      <th>price_month</th>\n",
       "    </tr>\n",
       "  </thead>\n",
       "  <tbody>\n",
       "    <tr>\n",
       "      <th>0</th>\n",
       "      <td>1000</td>\n",
       "      <td>5</td>\n",
       "      <td>159</td>\n",
       "      <td>22</td>\n",
       "      <td>3</td>\n",
       "      <td>22</td>\n",
       "      <td>ultra</td>\n",
       "      <td>Краснодар</td>\n",
       "      <td>1950</td>\n",
       "    </tr>\n",
       "    <tr>\n",
       "      <th>1</th>\n",
       "      <td>1000</td>\n",
       "      <td>6</td>\n",
       "      <td>172</td>\n",
       "      <td>43</td>\n",
       "      <td>23</td>\n",
       "      <td>60</td>\n",
       "      <td>ultra</td>\n",
       "      <td>Краснодар</td>\n",
       "      <td>1950</td>\n",
       "    </tr>\n",
       "    <tr>\n",
       "      <th>2</th>\n",
       "      <td>1000</td>\n",
       "      <td>7</td>\n",
       "      <td>340</td>\n",
       "      <td>47</td>\n",
       "      <td>14</td>\n",
       "      <td>75</td>\n",
       "      <td>ultra</td>\n",
       "      <td>Краснодар</td>\n",
       "      <td>1950</td>\n",
       "    </tr>\n",
       "    <tr>\n",
       "      <th>3</th>\n",
       "      <td>1000</td>\n",
       "      <td>8</td>\n",
       "      <td>408</td>\n",
       "      <td>52</td>\n",
       "      <td>14</td>\n",
       "      <td>81</td>\n",
       "      <td>ultra</td>\n",
       "      <td>Краснодар</td>\n",
       "      <td>1950</td>\n",
       "    </tr>\n",
       "    <tr>\n",
       "      <th>4</th>\n",
       "      <td>1000</td>\n",
       "      <td>9</td>\n",
       "      <td>466</td>\n",
       "      <td>58</td>\n",
       "      <td>15</td>\n",
       "      <td>57</td>\n",
       "      <td>ultra</td>\n",
       "      <td>Краснодар</td>\n",
       "      <td>1950</td>\n",
       "    </tr>\n",
       "    <tr>\n",
       "      <th>...</th>\n",
       "      <td>...</td>\n",
       "      <td>...</td>\n",
       "      <td>...</td>\n",
       "      <td>...</td>\n",
       "      <td>...</td>\n",
       "      <td>...</td>\n",
       "      <td>...</td>\n",
       "      <td>...</td>\n",
       "      <td>...</td>\n",
       "    </tr>\n",
       "    <tr>\n",
       "      <th>3204</th>\n",
       "      <td>1473</td>\n",
       "      <td>8</td>\n",
       "      <td>0</td>\n",
       "      <td>0</td>\n",
       "      <td>13</td>\n",
       "      <td>17</td>\n",
       "      <td>ultra</td>\n",
       "      <td>Красноярск</td>\n",
       "      <td>1950</td>\n",
       "    </tr>\n",
       "    <tr>\n",
       "      <th>3205</th>\n",
       "      <td>1473</td>\n",
       "      <td>9</td>\n",
       "      <td>0</td>\n",
       "      <td>0</td>\n",
       "      <td>17</td>\n",
       "      <td>19</td>\n",
       "      <td>ultra</td>\n",
       "      <td>Красноярск</td>\n",
       "      <td>1950</td>\n",
       "    </tr>\n",
       "    <tr>\n",
       "      <th>3206</th>\n",
       "      <td>1473</td>\n",
       "      <td>10</td>\n",
       "      <td>0</td>\n",
       "      <td>0</td>\n",
       "      <td>14</td>\n",
       "      <td>20</td>\n",
       "      <td>ultra</td>\n",
       "      <td>Красноярск</td>\n",
       "      <td>1950</td>\n",
       "    </tr>\n",
       "    <tr>\n",
       "      <th>3207</th>\n",
       "      <td>1473</td>\n",
       "      <td>11</td>\n",
       "      <td>0</td>\n",
       "      <td>0</td>\n",
       "      <td>22</td>\n",
       "      <td>14</td>\n",
       "      <td>ultra</td>\n",
       "      <td>Красноярск</td>\n",
       "      <td>1950</td>\n",
       "    </tr>\n",
       "    <tr>\n",
       "      <th>3208</th>\n",
       "      <td>1473</td>\n",
       "      <td>12</td>\n",
       "      <td>0</td>\n",
       "      <td>0</td>\n",
       "      <td>18</td>\n",
       "      <td>20</td>\n",
       "      <td>ultra</td>\n",
       "      <td>Красноярск</td>\n",
       "      <td>1950</td>\n",
       "    </tr>\n",
       "  </tbody>\n",
       "</table>\n",
       "<p>985 rows × 9 columns</p>\n",
       "</div>"
      ],
      "text/plain": [
       "      user_id  month  sum_minut  total_calls  sum_gb  sum_message tariff  \\\n",
       "0        1000      5        159           22       3           22  ultra   \n",
       "1        1000      6        172           43      23           60  ultra   \n",
       "2        1000      7        340           47      14           75  ultra   \n",
       "3        1000      8        408           52      14           81  ultra   \n",
       "4        1000      9        466           58      15           57  ultra   \n",
       "...       ...    ...        ...          ...     ...          ...    ...   \n",
       "3204     1473      8          0            0      13           17  ultra   \n",
       "3205     1473      9          0            0      17           19  ultra   \n",
       "3206     1473     10          0            0      14           20  ultra   \n",
       "3207     1473     11          0            0      22           14  ultra   \n",
       "3208     1473     12          0            0      18           20  ultra   \n",
       "\n",
       "            city  price_month  \n",
       "0      Краснодар         1950  \n",
       "1      Краснодар         1950  \n",
       "2      Краснодар         1950  \n",
       "3      Краснодар         1950  \n",
       "4      Краснодар         1950  \n",
       "...          ...          ...  \n",
       "3204  Красноярск         1950  \n",
       "3205  Красноярск         1950  \n",
       "3206  Красноярск         1950  \n",
       "3207  Красноярск         1950  \n",
       "3208  Красноярск         1950  \n",
       "\n",
       "[985 rows x 9 columns]"
      ]
     },
     "execution_count": 38,
     "metadata": {},
     "output_type": "execute_result"
    }
   ],
   "source": [
    "data_ultra"
   ]
  },
  {
   "cell_type": "markdown",
   "metadata": {},
   "source": [
    "**Анализ ULTRA (минуты).**"
   ]
  },
  {
   "cell_type": "code",
   "execution_count": 39,
   "metadata": {},
   "outputs": [
    {
     "name": "stdout",
     "output_type": "stream",
     "text": [
      "Дисперсия -  100873.63339730098\n",
      "Отклонение -  317.6060978591264\n",
      "Среднее -  526.6233502538071\n"
     ]
    }
   ],
   "source": [
    "variance = np.var(data_ultra['sum_minut'], ddof=1)\n",
    "print('Дисперсия - ', variance)\n",
    "print('Отклонение - ', np.sqrt(variance))\n",
    "print('Среднее - ', data_ultra['sum_minut'].mean())"
   ]
  },
  {
   "cell_type": "code",
   "execution_count": 40,
   "metadata": {},
   "outputs": [
    {
     "name": "stderr",
     "output_type": "stream",
     "text": [
      "/opt/conda/lib/python3.9/site-packages/seaborn/distributions.py:2557: FutureWarning: `distplot` is a deprecated function and will be removed in a future version. Please adapt your code to use either `displot` (a figure-level function with similar flexibility) or `histplot` (an axes-level function for histograms).\n",
      "  warnings.warn(msg, FutureWarning)\n"
     ]
    },
    {
     "data": {
      "text/plain": [
       "Text(0, 0.5, 'Частота')"
      ]
     },
     "execution_count": 40,
     "metadata": {},
     "output_type": "execute_result"
    },
    {
     "data": {
      "image/png": "[encoded data removed]",
      "text/plain": [
       "<Figure size 432x288 with 1 Axes>"
      ]
     },
     "metadata": {
      "needs_background": "light"
     },
     "output_type": "display_data"
    }
   ],
   "source": [
    "sns.distplot(data_ultra['sum_minut'], hist=True, \n",
    "             bins=50, color = 'green', hist_kws={'edgecolor':'black'}).set_title('Анализ минут УЛЬТРА')\n",
    "\n",
    "plt.xlabel(\"Кол-во минут в месяц\")\n",
    "plt.ylabel(\"Частота\")"
   ]
  },
  {
   "cell_type": "markdown",
   "metadata": {},
   "source": [
    "<font color='DarkBlue'><b>Комментарий ревьюера</b></font><br>\n",
    "<font color='DarkMagenta'>👉 При проведении сравнительного анализа лучше на графики выводить данные обоих тарифов в одной координатной сетке с указанием меток тарифов. Сделаем?</font>"
   ]
  },
  {
   "cell_type": "markdown",
   "metadata": {},
   "source": [
    "<font color='Blue'><b>Комментарий студента: Да, это ниже уже было сделано при первой отправке </b></font><br>"
   ]
  },
  {
   "cell_type": "markdown",
   "metadata": {},
   "source": [
    "<font color='DarkBlue'><b>Комментарий ревьюера 2</b></font><br>\n",
    "<font color='DarkGreen'>👌 Когда нашел, я там и написал, что \"Хорошо\". 😉</font>"
   ]
  },
  {
   "cell_type": "markdown",
   "metadata": {},
   "source": [
    "Распределение скошено влево, распределение мультимодальное. Половина абонентов используют до 500 минут в месяц из возможных 3000 минут и 25% абонентов пользуются только 9% минут от лимита. Многие люди заменяют сотовую связь интернетом."
   ]
  },
  {
   "cell_type": "markdown",
   "metadata": {},
   "source": [
    "**Анализ ULTRA (сообщения).**"
   ]
  },
  {
   "cell_type": "code",
   "execution_count": 41,
   "metadata": {},
   "outputs": [
    {
     "name": "stderr",
     "output_type": "stream",
     "text": [
      "/opt/conda/lib/python3.9/site-packages/seaborn/distributions.py:2557: FutureWarning: `distplot` is a deprecated function and will be removed in a future version. Please adapt your code to use either `displot` (a figure-level function with similar flexibility) or `histplot` (an axes-level function for histograms).\n",
      "  warnings.warn(msg, FutureWarning)\n"
     ]
    },
    {
     "data": {
      "text/plain": [
       "Text(0, 0.5, 'Частота')"
      ]
     },
     "execution_count": 41,
     "metadata": {},
     "output_type": "execute_result"
    },
    {
     "data": {
      "image/png": "[encoded data removed]",
      "text/plain": [
       "<Figure size 432x288 with 1 Axes>"
      ]
     },
     "metadata": {
      "needs_background": "light"
     },
     "output_type": "display_data"
    }
   ],
   "source": [
    "import seaborn as sns\n",
    "sns.distplot(data_ultra['sum_message'], hist=True, \n",
    "             bins=50, color = 'blue', hist_kws={'edgecolor':'black'}).set_title('Анализ сообщений УЛЬТРА')\n",
    "\n",
    "plt.xlabel(\"Кол-во сообщений в месяц\")\n",
    "plt.ylabel(\"Частота\")"
   ]
  },
  {
   "cell_type": "code",
   "execution_count": 42,
   "metadata": {},
   "outputs": [
    {
     "name": "stdout",
     "output_type": "stream",
     "text": [
      "Дисперсия -  2285.2661425446736\n",
      "Отклонение -  47.804457350174715\n",
      "Среднее -  49.36345177664975\n"
     ]
    }
   ],
   "source": [
    "variance = np.var(data_ultra['sum_message'], ddof=1)\n",
    "print('Дисперсия - ', variance)\n",
    "print('Отклонение - ', np.sqrt(variance))\n",
    "print('Среднее - ', data_ultra['sum_message'].mean())"
   ]
  },
  {
   "cell_type": "markdown",
   "metadata": {},
   "source": [
    "По тарифу УЛЬТРА лимит сообщений в месяц - 1000 \n",
    "\n",
    "Распределение скошено влево, 50% абонентов используют в месяц до 38 сообщений, что около 4% от лимита. 25% абонентов отправляют до 6 сообщений в месяц, что меньше 1% от лимита. Cообщения часто заменяются интернет-месседжером. Сообщения меньше всего интересуют клиентов."
   ]
  },
  {
   "cell_type": "markdown",
   "metadata": {},
   "source": [
    "**Анализ ULTRA (интернет).**"
   ]
  },
  {
   "cell_type": "code",
   "execution_count": 43,
   "metadata": {},
   "outputs": [
    {
     "name": "stdout",
     "output_type": "stream",
     "text": [
      "Дисперсия -  97.09168626965459\n",
      "Отклонение -  9.853511367510293\n",
      "Среднее -  19.494416243654822\n"
     ]
    }
   ],
   "source": [
    "variance = np.var(data_ultra['sum_gb'], ddof=1)\n",
    "print('Дисперсия - ', variance)\n",
    "print('Отклонение - ', np.sqrt(variance))\n",
    "print('Среднее - ', data_ultra['sum_gb'].mean())"
   ]
  },
  {
   "cell_type": "code",
   "execution_count": 44,
   "metadata": {},
   "outputs": [
    {
     "name": "stderr",
     "output_type": "stream",
     "text": [
      "/opt/conda/lib/python3.9/site-packages/seaborn/distributions.py:2557: FutureWarning: `distplot` is a deprecated function and will be removed in a future version. Please adapt your code to use either `displot` (a figure-level function with similar flexibility) or `histplot` (an axes-level function for histograms).\n",
      "  warnings.warn(msg, FutureWarning)\n"
     ]
    },
    {
     "data": {
      "text/plain": [
       "Text(0, 0.5, 'Частота')"
      ]
     },
     "execution_count": 44,
     "metadata": {},
     "output_type": "execute_result"
    },
    {
     "data": {
      "image/png": "[encoded data removed]",
      "text/plain": [
       "<Figure size 432x288 with 1 Axes>"
      ]
     },
     "metadata": {
      "needs_background": "light"
     },
     "output_type": "display_data"
    }
   ],
   "source": [
    "sns.distplot(data_ultra['sum_gb'], hist=True, \n",
    "             bins=30, color = 'red', hist_kws={'edgecolor':'black'}).set_title('Анализ интернета УЛЬТРА')\n",
    "\n",
    "plt.xlabel(\"Кол-во ГБ в месяц\")\n",
    "plt.ylabel(\"Частота\")"
   ]
  },
  {
   "cell_type": "markdown",
   "metadata": {},
   "source": [
    "**По тарифу УЛЬТРА лимит интернета - 30 гб** \n",
    "Распределение нормальное, т.к. интернетом пользуются полноценно, звонки и сообщения часто через приложения и соответственно при помощи интернета. Около 80% абонентов укладываются лимит.  "
   ]
  },
  {
   "cell_type": "code",
   "execution_count": 45,
   "metadata": {},
   "outputs": [
    {
     "data": {
      "text/plain": [
       "5.804031190230985"
      ]
     },
     "execution_count": 45,
     "metadata": {},
     "output_type": "execute_result"
    }
   ],
   "source": [
    "gb_ultra=(1-1950*(data_ultra['month'].count()) / data_ultra['price_month'].sum())*100\n",
    "gb_ultra"
   ]
  },
  {
   "cell_type": "markdown",
   "metadata": {},
   "source": [
    "5.8% от выручки по тарифу УЛЬТРА составляет дополнительный интернет      - минуты входят в стоимость, никто из абонентов не тратит доп.минуты, сообщения входят в стоимость."
   ]
  },
  {
   "cell_type": "markdown",
   "metadata": {},
   "source": [
    "**Анализ тарифа SMART**"
   ]
  },
  {
   "cell_type": "code",
   "execution_count": 46,
   "metadata": {},
   "outputs": [
    {
     "data": {
      "text/html": [
       "<div>\n",
       "<style scoped>\n",
       "    .dataframe tbody tr th:only-of-type {\n",
       "        vertical-align: middle;\n",
       "    }\n",
       "\n",
       "    .dataframe tbody tr th {\n",
       "        vertical-align: top;\n",
       "    }\n",
       "\n",
       "    .dataframe thead th {\n",
       "        text-align: right;\n",
       "    }\n",
       "</style>\n",
       "<table border=\"1\" class=\"dataframe\">\n",
       "  <thead>\n",
       "    <tr style=\"text-align: right;\">\n",
       "      <th></th>\n",
       "      <th>messages_included</th>\n",
       "      <th>gb_per_month_included</th>\n",
       "      <th>minutes_included</th>\n",
       "      <th>rub_monthly_fee</th>\n",
       "      <th>rub_per_gb</th>\n",
       "      <th>rub_per_message</th>\n",
       "      <th>rub_per_minute</th>\n",
       "      <th>tariff_name</th>\n",
       "    </tr>\n",
       "  </thead>\n",
       "  <tbody>\n",
       "    <tr>\n",
       "      <th>0</th>\n",
       "      <td>50</td>\n",
       "      <td>15</td>\n",
       "      <td>500</td>\n",
       "      <td>550</td>\n",
       "      <td>200</td>\n",
       "      <td>3</td>\n",
       "      <td>3</td>\n",
       "      <td>smart</td>\n",
       "    </tr>\n",
       "    <tr>\n",
       "      <th>1</th>\n",
       "      <td>1000</td>\n",
       "      <td>30</td>\n",
       "      <td>3000</td>\n",
       "      <td>1950</td>\n",
       "      <td>150</td>\n",
       "      <td>1</td>\n",
       "      <td>1</td>\n",
       "      <td>ultra</td>\n",
       "    </tr>\n",
       "  </tbody>\n",
       "</table>\n",
       "</div>"
      ],
      "text/plain": [
       "   messages_included  gb_per_month_included  minutes_included  \\\n",
       "0                 50                     15               500   \n",
       "1               1000                     30              3000   \n",
       "\n",
       "   rub_monthly_fee  rub_per_gb  rub_per_message  rub_per_minute tariff_name  \n",
       "0              550         200                3               3       smart  \n",
       "1             1950         150                1               1       ultra  "
      ]
     },
     "execution_count": 46,
     "metadata": {},
     "output_type": "execute_result"
    }
   ],
   "source": [
    "df_tariffs"
   ]
  },
  {
   "cell_type": "code",
   "execution_count": 47,
   "metadata": {},
   "outputs": [
    {
     "data": {
      "text/html": [
       "<div>\n",
       "<style scoped>\n",
       "    .dataframe tbody tr th:only-of-type {\n",
       "        vertical-align: middle;\n",
       "    }\n",
       "\n",
       "    .dataframe tbody tr th {\n",
       "        vertical-align: top;\n",
       "    }\n",
       "\n",
       "    .dataframe thead th {\n",
       "        text-align: right;\n",
       "    }\n",
       "</style>\n",
       "<table border=\"1\" class=\"dataframe\">\n",
       "  <thead>\n",
       "    <tr style=\"text-align: right;\">\n",
       "      <th></th>\n",
       "      <th>user_id</th>\n",
       "      <th>month</th>\n",
       "      <th>sum_minut</th>\n",
       "      <th>total_calls</th>\n",
       "      <th>sum_gb</th>\n",
       "      <th>sum_message</th>\n",
       "      <th>price_month</th>\n",
       "    </tr>\n",
       "  </thead>\n",
       "  <tbody>\n",
       "    <tr>\n",
       "      <th>count</th>\n",
       "      <td>2229.000000</td>\n",
       "      <td>2229.000000</td>\n",
       "      <td>2229.000000</td>\n",
       "      <td>2229.000000</td>\n",
       "      <td>2229.000000</td>\n",
       "      <td>2229.000000</td>\n",
       "      <td>2229.000000</td>\n",
       "    </tr>\n",
       "    <tr>\n",
       "      <th>mean</th>\n",
       "      <td>1246.506505</td>\n",
       "      <td>8.346792</td>\n",
       "      <td>417.934948</td>\n",
       "      <td>58.463437</td>\n",
       "      <td>16.328847</td>\n",
       "      <td>33.384029</td>\n",
       "      <td>1289.973531</td>\n",
       "    </tr>\n",
       "    <tr>\n",
       "      <th>std</th>\n",
       "      <td>146.119496</td>\n",
       "      <td>2.920316</td>\n",
       "      <td>190.313730</td>\n",
       "      <td>25.939858</td>\n",
       "      <td>5.747061</td>\n",
       "      <td>28.227876</td>\n",
       "      <td>818.404367</td>\n",
       "    </tr>\n",
       "    <tr>\n",
       "      <th>min</th>\n",
       "      <td>1001.000000</td>\n",
       "      <td>1.000000</td>\n",
       "      <td>0.000000</td>\n",
       "      <td>0.000000</td>\n",
       "      <td>0.000000</td>\n",
       "      <td>0.000000</td>\n",
       "      <td>550.000000</td>\n",
       "    </tr>\n",
       "    <tr>\n",
       "      <th>25%</th>\n",
       "      <td>1121.000000</td>\n",
       "      <td>6.000000</td>\n",
       "      <td>282.000000</td>\n",
       "      <td>40.000000</td>\n",
       "      <td>13.000000</td>\n",
       "      <td>10.000000</td>\n",
       "      <td>550.000000</td>\n",
       "    </tr>\n",
       "    <tr>\n",
       "      <th>50%</th>\n",
       "      <td>1239.000000</td>\n",
       "      <td>9.000000</td>\n",
       "      <td>422.000000</td>\n",
       "      <td>60.000000</td>\n",
       "      <td>17.000000</td>\n",
       "      <td>28.000000</td>\n",
       "      <td>1023.000000</td>\n",
       "    </tr>\n",
       "    <tr>\n",
       "      <th>75%</th>\n",
       "      <td>1376.000000</td>\n",
       "      <td>11.000000</td>\n",
       "      <td>545.000000</td>\n",
       "      <td>76.000000</td>\n",
       "      <td>20.000000</td>\n",
       "      <td>51.000000</td>\n",
       "      <td>1750.000000</td>\n",
       "    </tr>\n",
       "    <tr>\n",
       "      <th>max</th>\n",
       "      <td>1499.000000</td>\n",
       "      <td>12.000000</td>\n",
       "      <td>1435.000000</td>\n",
       "      <td>198.000000</td>\n",
       "      <td>38.000000</td>\n",
       "      <td>143.000000</td>\n",
       "      <td>6770.000000</td>\n",
       "    </tr>\n",
       "  </tbody>\n",
       "</table>\n",
       "</div>"
      ],
      "text/plain": [
       "           user_id        month    sum_minut  total_calls       sum_gb  \\\n",
       "count  2229.000000  2229.000000  2229.000000  2229.000000  2229.000000   \n",
       "mean   1246.506505     8.346792   417.934948    58.463437    16.328847   \n",
       "std     146.119496     2.920316   190.313730    25.939858     5.747061   \n",
       "min    1001.000000     1.000000     0.000000     0.000000     0.000000   \n",
       "25%    1121.000000     6.000000   282.000000    40.000000    13.000000   \n",
       "50%    1239.000000     9.000000   422.000000    60.000000    17.000000   \n",
       "75%    1376.000000    11.000000   545.000000    76.000000    20.000000   \n",
       "max    1499.000000    12.000000  1435.000000   198.000000    38.000000   \n",
       "\n",
       "       sum_message  price_month  \n",
       "count  2229.000000  2229.000000  \n",
       "mean     33.384029  1289.973531  \n",
       "std      28.227876   818.404367  \n",
       "min       0.000000   550.000000  \n",
       "25%      10.000000   550.000000  \n",
       "50%      28.000000  1023.000000  \n",
       "75%      51.000000  1750.000000  \n",
       "max     143.000000  6770.000000  "
      ]
     },
     "execution_count": 47,
     "metadata": {},
     "output_type": "execute_result"
    }
   ],
   "source": [
    "data_smart=data.query('tariff == \"smart\"')\n",
    "data_smart.describe()"
   ]
  },
  {
   "cell_type": "code",
   "execution_count": 48,
   "metadata": {},
   "outputs": [
    {
     "data": {
      "text/plain": [
       "1304"
      ]
     },
     "execution_count": 48,
     "metadata": {},
     "output_type": "execute_result"
    }
   ],
   "source": [
    "user_smart_15 = data_smart.query('sum_gb > 15')['sum_gb'].count()\n",
    "user_smart_15"
   ]
  },
  {
   "cell_type": "markdown",
   "metadata": {},
   "source": [
    "1304 раз был превышен лимит 15 ГБ."
   ]
  },
  {
   "cell_type": "code",
   "execution_count": 49,
   "metadata": {},
   "outputs": [
    {
     "data": {
      "text/plain": [
       "0.5850157021085689"
      ]
     },
     "execution_count": 49,
     "metadata": {},
     "output_type": "execute_result"
    }
   ],
   "source": [
    "user_smart_15/2229"
   ]
  },
  {
   "cell_type": "markdown",
   "metadata": {},
   "source": [
    "В 58.5% наблюдений был превышен лимит 15 ГБ    "
   ]
  },
  {
   "cell_type": "code",
   "execution_count": 50,
   "metadata": {},
   "outputs": [
    {
     "data": {
      "text/plain": [
       "18"
      ]
     },
     "execution_count": 50,
     "metadata": {},
     "output_type": "execute_result"
    }
   ],
   "source": [
    "user_smart_30 = data_smart.query('sum_gb > 30')['sum_gb'].count()\n",
    "user_smart_30"
   ]
  },
  {
   "cell_type": "markdown",
   "metadata": {},
   "source": [
    "Всего 18 раз был превышен лимит 30 ГБ."
   ]
  },
  {
   "cell_type": "code",
   "execution_count": 51,
   "metadata": {},
   "outputs": [
    {
     "data": {
      "text/plain": [
       "0.008075370121130552"
      ]
     },
     "execution_count": 51,
     "metadata": {},
     "output_type": "execute_result"
    }
   ],
   "source": [
    "user_smart_30/2229"
   ]
  },
  {
   "cell_type": "markdown",
   "metadata": {},
   "source": [
    "Меньше 1% наблюдений был превышен лимит 30 ГБ     "
   ]
  },
  {
   "cell_type": "markdown",
   "metadata": {},
   "source": [
    "**В тариф СМАРТ входит 50 сообщений, 15 ГБ, 500 минут, абонент плата - 550 руб.**  \n",
    "\n",
    "25% абонентов используют доп.сообщения, 58.5% абонентов используют дополнительный интернет, средний показатель ежемесячного объема интернета немного превышает лимит. Около 35% абонентов используют дополнительные минуты. Средний ежемесячный чек в 2 раз превышает абонентскую плату. \n",
    "\n",
    "58.5% наблюдений тарифа смарт используют больше 15 ГБ, т.е. вышли за лимит, против 1% тарифа юльтра, которые вышли за лимит 30 ГБ."
   ]
  },
  {
   "cell_type": "markdown",
   "metadata": {},
   "source": [
    "**Анализ SMART (минуты)**"
   ]
  },
  {
   "cell_type": "code",
   "execution_count": 52,
   "metadata": {},
   "outputs": [
    {
     "name": "stdout",
     "output_type": "stream",
     "text": [
      "Дисперсия -  36219.31578434428\n",
      "Отклонение -  190.31372988921288\n",
      "Среднее -  417.9349484073576\n"
     ]
    }
   ],
   "source": [
    "variance = np.var(data_smart['sum_minut'], ddof=1)\n",
    "print('Дисперсия - ', variance)\n",
    "print('Отклонение - ', np.sqrt(variance))\n",
    "print('Среднее - ', data_smart['sum_minut'].mean())"
   ]
  },
  {
   "cell_type": "code",
   "execution_count": 53,
   "metadata": {},
   "outputs": [
    {
     "name": "stderr",
     "output_type": "stream",
     "text": [
      "/opt/conda/lib/python3.9/site-packages/seaborn/distributions.py:2557: FutureWarning: `distplot` is a deprecated function and will be removed in a future version. Please adapt your code to use either `displot` (a figure-level function with similar flexibility) or `histplot` (an axes-level function for histograms).\n",
      "  warnings.warn(msg, FutureWarning)\n"
     ]
    },
    {
     "data": {
      "text/plain": [
       "Text(0, 0.5, 'Частота')"
      ]
     },
     "execution_count": 53,
     "metadata": {},
     "output_type": "execute_result"
    },
    {
     "data": {
      "image/png": "[encoded data removed]",
      "text/plain": [
       "<Figure size 432x288 with 1 Axes>"
      ]
     },
     "metadata": {
      "needs_background": "light"
     },
     "output_type": "display_data"
    }
   ],
   "source": [
    "sns.distplot(data_smart['sum_minut'], hist=True, \n",
    "             bins=20, color = 'green',\n",
    "             hist_kws={'edgecolor':'black'}).set_title('Анализ минут СМАРТ')\n",
    "\n",
    "plt.xlabel(\"Кол-во минут в месяц\")\n",
    "plt.ylabel(\"Частота\")"
   ]
  },
  {
   "cell_type": "markdown",
   "metadata": {},
   "source": [
    "Распределение нормальное - cреднее количество минут стремится к ежемесячному лимиту и при этом среднее отклонение составляет 35% от лимита - Абоненты не укладываются в лимит, и оплачивают доп. минуты.   "
   ]
  },
  {
   "cell_type": "markdown",
   "metadata": {},
   "source": [
    "Посчитаем отношение выручки от доп. минут к общей выручке."
   ]
  },
  {
   "cell_type": "code",
   "execution_count": 54,
   "metadata": {},
   "outputs": [
    {
     "name": "stdout",
     "output_type": "stream",
     "text": [
      "92739\n"
     ]
    },
    {
     "data": {
      "text/plain": [
       "9.675931738420806"
      ]
     },
     "execution_count": 54,
     "metadata": {},
     "output_type": "execute_result"
    }
   ],
   "source": [
    "min_smart=data_smart.query('sum_minut > 500')['sum_minut'].sum() - data_smart.query('sum_minut > 500')['sum_minut'].count() * 500\n",
    "print(min_smart)\n",
    "((min_smart*3)/data_smart['price_month'].sum())*100"
   ]
  },
  {
   "cell_type": "markdown",
   "metadata": {},
   "source": [
    "Выручка от доп. минут составляет 9.7% к абоненской плате."
   ]
  },
  {
   "cell_type": "markdown",
   "metadata": {},
   "source": [
    "**Анализ SMART сообщения**"
   ]
  },
  {
   "cell_type": "code",
   "execution_count": 55,
   "metadata": {},
   "outputs": [
    {
     "name": "stdout",
     "output_type": "stream",
     "text": [
      "Дисперсия -  796.8129584480083\n",
      "Отклонение -  28.22787555676141\n",
      "Среднее -  33.384028712427096\n"
     ]
    }
   ],
   "source": [
    "variance = np.var(data_smart['sum_message'], ddof=1)\n",
    "print('Дисперсия - ', variance)\n",
    "print('Отклонение - ', np.sqrt(variance))\n",
    "print('Среднее - ', data_smart['sum_message'].mean())"
   ]
  },
  {
   "cell_type": "code",
   "execution_count": 56,
   "metadata": {},
   "outputs": [
    {
     "name": "stderr",
     "output_type": "stream",
     "text": [
      "/opt/conda/lib/python3.9/site-packages/seaborn/distributions.py:2557: FutureWarning: `distplot` is a deprecated function and will be removed in a future version. Please adapt your code to use either `displot` (a figure-level function with similar flexibility) or `histplot` (an axes-level function for histograms).\n",
      "  warnings.warn(msg, FutureWarning)\n"
     ]
    },
    {
     "data": {
      "text/plain": [
       "Text(0, 0.5, 'Частота')"
      ]
     },
     "execution_count": 56,
     "metadata": {},
     "output_type": "execute_result"
    },
    {
     "data": {
      "image/png": "[encoded data removed]",
      "text/plain": [
       "<Figure size 432x288 with 1 Axes>"
      ]
     },
     "metadata": {
      "needs_background": "light"
     },
     "output_type": "display_data"
    }
   ],
   "source": [
    "sns.distplot(data_smart['sum_message'], hist=True, \n",
    "             bins=20, color = 'blue',\n",
    "             hist_kws={'edgecolor':'black'}).set_title('Анализ сообщений СМАРТ')\n",
    "\n",
    "plt.xlabel(\"Кол-во сообщений в месяц\")\n",
    "plt.ylabel(\"Частота\")"
   ]
  },
  {
   "cell_type": "markdown",
   "metadata": {},
   "source": [
    "Распределение скошено влево - 25% от всех месяцев использовали менее 10 сообщений. 75% - укладывались в лимит 50 сообщений - и только 25% пользовались доп. сообщениями. "
   ]
  },
  {
   "cell_type": "code",
   "execution_count": 57,
   "metadata": {},
   "outputs": [
    {
     "name": "stdout",
     "output_type": "stream",
     "text": [
      "12928\n"
     ]
    },
    {
     "data": {
      "text/plain": [
       "0.03163587421999266"
      ]
     },
     "execution_count": 57,
     "metadata": {},
     "output_type": "execute_result"
    }
   ],
   "source": [
    "mess_smart=data_smart.query('sum_message > 50')['sum_message'].sum() - data_smart.query('sum_message > 50')['sum_message'].count() * 50\n",
    "print(mess_smart)\n",
    "(mess_smart*3)/(2229*550)"
   ]
  },
  {
   "cell_type": "markdown",
   "metadata": {},
   "source": [
    "Выручка от доп. сообщений составляет 3% к абонентской плате."
   ]
  },
  {
   "cell_type": "code",
   "execution_count": 58,
   "metadata": {},
   "outputs": [
    {
     "name": "stdout",
     "output_type": "stream",
     "text": [
      "12928\n"
     ]
    },
    {
     "data": {
      "text/plain": [
       "1.348844019391024"
      ]
     },
     "execution_count": 58,
     "metadata": {},
     "output_type": "execute_result"
    }
   ],
   "source": [
    "mess_smart=data_smart.query('sum_message > 50')['sum_message'].sum() - data_smart.query('sum_message > 50')['sum_message'].count() * 50\n",
    "print(mess_smart)\n",
    "((mess_smart*3)/data_smart['price_month'].sum())*100"
   ]
  },
  {
   "cell_type": "markdown",
   "metadata": {},
   "source": [
    "Выручка от доп.сообщений составляет 1.3% ко всей выручке по тарифу    "
   ]
  },
  {
   "cell_type": "markdown",
   "metadata": {},
   "source": [
    "**Анализ SMART (интернет)**"
   ]
  },
  {
   "cell_type": "code",
   "execution_count": 59,
   "metadata": {},
   "outputs": [
    {
     "name": "stdout",
     "output_type": "stream",
     "text": [
      "Дисперсия -  33.02870517811161\n",
      "Отклонение -  5.7470605685090534\n",
      "Среднее -  16.328847016599372\n"
     ]
    }
   ],
   "source": [
    "variance = np.var(data_smart['sum_gb'], ddof=1)\n",
    "print('Дисперсия - ', variance)\n",
    "print('Отклонение - ', np.sqrt(variance))\n",
    "print('Среднее - ', data_smart['sum_gb'].mean())"
   ]
  },
  {
   "cell_type": "code",
   "execution_count": 60,
   "metadata": {},
   "outputs": [
    {
     "name": "stderr",
     "output_type": "stream",
     "text": [
      "/opt/conda/lib/python3.9/site-packages/seaborn/distributions.py:2557: FutureWarning: `distplot` is a deprecated function and will be removed in a future version. Please adapt your code to use either `displot` (a figure-level function with similar flexibility) or `histplot` (an axes-level function for histograms).\n",
      "  warnings.warn(msg, FutureWarning)\n"
     ]
    },
    {
     "data": {
      "text/plain": [
       "Text(0, 0.5, 'Частота')"
      ]
     },
     "execution_count": 60,
     "metadata": {},
     "output_type": "execute_result"
    },
    {
     "data": {
      "image/png": "[encoded data removed]",
      "text/plain": [
       "<Figure size 432x288 with 1 Axes>"
      ]
     },
     "metadata": {
      "needs_background": "light"
     },
     "output_type": "display_data"
    }
   ],
   "source": [
    "sns.distplot(data_smart['sum_gb'], hist=True, \n",
    "             bins=15, color = 'red',\n",
    "             hist_kws={'edgecolor':'black'}).set_title('Анализ интернета СМАРТ')\n",
    "\n",
    "plt.xlabel(\"Кол-во ГБ в месяц\")\n",
    "plt.ylabel(\"Частота\")"
   ]
  },
  {
   "cell_type": "markdown",
   "metadata": {},
   "source": [
    "Распределение нормальное - 15 гб входящих в лимит ниже среднего, около 40% наблюдений укладываются в лимит, это не очень выгодная ситуация для сотового оператора. Чем ниже среднего лимит, тем больше прибыли. "
   ]
  },
  {
   "cell_type": "code",
   "execution_count": 61,
   "metadata": {
    "scrolled": true
   },
   "outputs": [
    {
     "name": "stdout",
     "output_type": "stream",
     "text": [
      "6662\n"
     ]
    },
    {
     "data": {
      "text/plain": [
       "46.338690476397495"
      ]
     },
     "execution_count": 61,
     "metadata": {},
     "output_type": "execute_result"
    }
   ],
   "source": [
    "gb_smart=data_smart.query('sum_gb > 15')['sum_gb'].sum() - data_smart.query('sum_gb > 15')['sum_gb'].count() * 15\n",
    "print(gb_smart)\n",
    "((gb_smart*200)/data_smart['price_month'].sum())*100"
   ]
  },
  {
   "cell_type": "markdown",
   "metadata": {},
   "source": [
    "Выручка от доп.gb интернета составляет 46% ко всей выручке по тарифу  "
   ]
  },
  {
   "cell_type": "code",
   "execution_count": 62,
   "metadata": {},
   "outputs": [
    {
     "name": "stdout",
     "output_type": "stream",
     "text": [
      "6662\n"
     ]
    },
    {
     "data": {
      "text/plain": [
       "1.0868306211509442"
      ]
     },
     "execution_count": 62,
     "metadata": {},
     "output_type": "execute_result"
    }
   ],
   "source": [
    "gb_smart=data_smart.query('sum_gb > 15')['sum_gb'].sum() - data_smart.query('sum_gb > 15')['sum_gb'].count() * 15\n",
    "print(gb_smart)\n",
    "(gb_smart*200)/(2229*550)"
   ]
  },
  {
   "cell_type": "markdown",
   "metadata": {},
   "source": [
    "Выручка от доп. gb интернета на 8% больше выручки от тарифа по лимиту (2229 мес* 550 руб/мес)  "
   ]
  },
  {
   "cell_type": "markdown",
   "metadata": {},
   "source": [
    "**Сопоставим гистограммы двух тарифов для наглядности:**"
   ]
  },
  {
   "cell_type": "code",
   "execution_count": 63,
   "metadata": {},
   "outputs": [
    {
     "name": "stderr",
     "output_type": "stream",
     "text": [
      "/opt/conda/lib/python3.9/site-packages/seaborn/distributions.py:2557: FutureWarning: `distplot` is a deprecated function and will be removed in a future version. Please adapt your code to use either `displot` (a figure-level function with similar flexibility) or `histplot` (an axes-level function for histograms).\n",
      "  warnings.warn(msg, FutureWarning)\n"
     ]
    },
    {
     "data": {
      "text/plain": [
       "Text(0.5, 1.0, 'Гистограмма звонков')"
      ]
     },
     "execution_count": 63,
     "metadata": {},
     "output_type": "execute_result"
    },
    {
     "data": {
      "image/png": "[encoded data removed]",
      "text/plain": [
       "<Figure size 432x288 with 1 Axes>"
      ]
     },
     "metadata": {
      "needs_background": "light"
     },
     "output_type": "display_data"
    }
   ],
   "source": [
    "smart_all = data.query(\"tariff == 'smart'\")\n",
    "ultra_all = data.query(\"tariff == 'ultra'\")\n",
    "sns.distplot(smart_all['sum_minut'], kde=False)\n",
    "sns.distplot(ultra_all['sum_minut'], kde=False)\n",
    "plt.legend(['smart', 'ultra'])\n",
    "plt.xlabel('количество минут')\n",
    "plt.ylabel('количество пользователей')\n",
    "plt.title('Гистограмма звонков')"
   ]
  },
  {
   "cell_type": "markdown",
   "metadata": {},
   "source": [
    "<font color='DarkBlue'><b>Комментарий ревьюера</b></font><br>\n",
    "<font color='DarkGreen'>👌 Хорошо, что графики обоих тарифов построены в одной координатной сетке и на графиках присутствуют подписи осей и метки. 👍</font>"
   ]
  },
  {
   "cell_type": "code",
   "execution_count": 64,
   "metadata": {},
   "outputs": [
    {
     "data": {
      "text/plain": [
       "Text(0.5, 1.0, 'Гистограмма интернета')"
      ]
     },
     "execution_count": 64,
     "metadata": {},
     "output_type": "execute_result"
    },
    {
     "data": {
      "image/png": "[encoded data removed]",
      "text/plain": [
       "<Figure size 432x288 with 1 Axes>"
      ]
     },
     "metadata": {
      "needs_background": "light"
     },
     "output_type": "display_data"
    }
   ],
   "source": [
    "smart_all = data.query(\"tariff == 'smart'\")\n",
    "ultra_all = data.query(\"tariff == 'ultra'\")\n",
    "sns.distplot(smart_all['sum_gb'], kde=False)\n",
    "sns.distplot(ultra_all['sum_gb'], kde=False)\n",
    "plt.legend(['smart', 'ultra'])\n",
    "plt.xlabel('количество гигабайт')\n",
    "plt.ylabel('количество пользователей')\n",
    "plt.title('Гистограмма интернета')"
   ]
  },
  {
   "cell_type": "code",
   "execution_count": 65,
   "metadata": {},
   "outputs": [
    {
     "data": {
      "text/plain": [
       "Text(0.5, 1.0, 'Гистограмма сообщений')"
      ]
     },
     "execution_count": 65,
     "metadata": {},
     "output_type": "execute_result"
    },
    {
     "data": {
      "image/png": "[encoded data removed]",
      "text/plain": [
       "<Figure size 432x288 with 1 Axes>"
      ]
     },
     "metadata": {
      "needs_background": "light"
     },
     "output_type": "display_data"
    }
   ],
   "source": [
    "smart_all = data.query(\"tariff == 'smart'\")\n",
    "ultra_all = data.query(\"tariff == 'ultra'\")\n",
    "sns.distplot(smart_all['sum_message'], kde=False)\n",
    "sns.distplot(ultra_all['sum_message'], kde=False)\n",
    "plt.legend(['smart', 'ultra'])\n",
    "plt.xlabel('количество сообщений')\n",
    "plt.ylabel('количество пользователей')\n",
    "plt.title('Гистограмма сообщений')"
   ]
  },
  {
   "cell_type": "markdown",
   "metadata": {},
   "source": [
    "### Вывод"
   ]
  },
  {
   "cell_type": "markdown",
   "metadata": {},
   "source": [
    "Отображенные гистаграммы показывают, что дисперсия по Ультра больше, чем у пользователей с тарифом Смарт. Пользователи тарифа Смарт не так активно пользуются телефоном как пользователи тарифа Ультра."
   ]
  },
  {
   "cell_type": "markdown",
   "metadata": {},
   "source": [
    "<font color='DarkBlue'><b>Комментарий ревьюера</b></font><br>\n",
    "<font color='DarkMagenta'>👉 Как инструкция на выполнение проекта, так и технические задания на проведение исследования не всегда содержат всю информацию, что необходимо сделать. Но указывается задача исследования, у нас это: \"коммерческий департамент хочет понять, какой тариф приносит больше денег\". Но мы ограничиваемся в анализе только количеством сообщений, длительностью звонков и интернет-трафиком. При этом у нас уже посчитано сколько пользователи платят за эти услуги, но сам анализ выручки в разрезе тарифа мы не делаем. Тогда, как мы получим ответ на вопрос какой тариф выгоднее?</font><br>\n",
    "<font color='Red'>🛠 Давай сделаем то же самое, но по выручке в разрезе тарифов. Хорошо?</font>"
   ]
  },
  {
   "cell_type": "markdown",
   "metadata": {},
   "source": [
    "<font color='Blue'><b>Комментарий студента: Не совсем понял, что именно нужно сделать. Но сделал как понял) </b></font><br>"
   ]
  },
  {
   "attachments": {
    "image.png": {
     "image/png": "[encoded data removed]"
    }
   },
   "cell_type": "markdown",
   "metadata": {},
   "source": [
    "<font color='DarkBlue'><b>Комментарий ревьюера 2</b></font><br>\n",
    "<font color='DarkMagenta'>👉 Можно было еще по месячную выручку сравнить. Примерно вот так:</font>\n",
    "![image.png](attachment:image.png)"
   ]
  },
  {
   "cell_type": "code",
   "execution_count": 66,
   "metadata": {},
   "outputs": [
    {
     "data": {
      "text/plain": [
       "Text(0.5, 1.0, 'Гистограмма выручки')"
      ]
     },
     "execution_count": 66,
     "metadata": {},
     "output_type": "execute_result"
    },
    {
     "data": {
      "image/png": "[encoded data removed]",
      "text/plain": [
       "<Figure size 432x288 with 1 Axes>"
      ]
     },
     "metadata": {
      "needs_background": "light"
     },
     "output_type": "display_data"
    }
   ],
   "source": [
    "smart_all = data.query(\"tariff == 'smart'\")\n",
    "ultra_all = data.query(\"tariff == 'ultra'\")\n",
    "sns.distplot(smart_all['price_month'], kde=False)\n",
    "sns.distplot(ultra_all['price_month'], kde=False)\n",
    "plt.legend(['smart', 'ultra'])\n",
    "plt.xlabel('Выручка')\n",
    "plt.ylabel('количество пользователей')\n",
    "plt.title('Гистограмма выручки')"
   ]
  },
  {
   "cell_type": "code",
   "execution_count": 67,
   "metadata": {},
   "outputs": [
    {
     "data": {
      "text/plain": [
       "2875351"
      ]
     },
     "execution_count": 67,
     "metadata": {},
     "output_type": "execute_result"
    }
   ],
   "source": [
    "smart_all['price_month'].sum()"
   ]
  },
  {
   "cell_type": "code",
   "execution_count": 68,
   "metadata": {},
   "outputs": [
    {
     "data": {
      "text/plain": [
       "2039100"
      ]
     },
     "execution_count": 68,
     "metadata": {},
     "output_type": "execute_result"
    }
   ],
   "source": [
    "ultra_all['price_month'].sum()"
   ]
  },
  {
   "cell_type": "markdown",
   "metadata": {},
   "source": [
    "## Проверим гипотезы"
   ]
  },
  {
   "cell_type": "markdown",
   "metadata": {},
   "source": [
    "**Средняя выручка Ультра и Смарт**"
   ]
  },
  {
   "cell_type": "markdown",
   "metadata": {},
   "source": [
    "Средняя выручка по тарифам Ультра и Смарт равны 1950 руб. и 1023 руб. - Предположим что это могло произойти случайно. - Пусть нулевая гипотеза звучит так - средние выручки равны - Альтернативная - не равны"
   ]
  },
  {
   "cell_type": "markdown",
   "metadata": {},
   "source": [
    "<font color='DarkBlue'><b>Комментарий ревьюера</b></font><br>\n",
    "<font color='DarkGreen'>👌 Хорошо, правильно сформулированы гипотезы.</font>"
   ]
  },
  {
   "cell_type": "code",
   "execution_count": 69,
   "metadata": {},
   "outputs": [
    {
     "name": "stdout",
     "output_type": "stream",
     "text": [
      "p-значение: 4.2606313931076085e-250\n",
      "Отвергаем нулевую гипотезу\n"
     ]
    }
   ],
   "source": [
    "alpha = 0.05\n",
    "\n",
    "results = st.ttest_ind(data_ultra['price_month'], data_smart['price_month'], equal_var = False)\n",
    "\n",
    "print('p-значение:', results.pvalue)\n",
    "\n",
    "if results.pvalue < alpha:\n",
    "    print('Отвергаем нулевую гипотезу')\n",
    "else:\n",
    "    print('Не получилось отвергнуть нулевую гипотезу') "
   ]
  },
  {
   "cell_type": "markdown",
   "metadata": {},
   "source": [
    "p-значение очень маленькое - 4.2 деленное на 10 в 250 степени -  крайне маленькая вероятность того что средние выручки равны.   "
   ]
  },
  {
   "cell_type": "markdown",
   "metadata": {},
   "source": [
    "**Средняя выручка Москва и другие города**"
   ]
  },
  {
   "cell_type": "code",
   "execution_count": 70,
   "metadata": {},
   "outputs": [
    {
     "data": {
      "text/html": [
       "<div>\n",
       "<style scoped>\n",
       "    .dataframe tbody tr th:only-of-type {\n",
       "        vertical-align: middle;\n",
       "    }\n",
       "\n",
       "    .dataframe tbody tr th {\n",
       "        vertical-align: top;\n",
       "    }\n",
       "\n",
       "    .dataframe thead th {\n",
       "        text-align: right;\n",
       "    }\n",
       "</style>\n",
       "<table border=\"1\" class=\"dataframe\">\n",
       "  <thead>\n",
       "    <tr style=\"text-align: right;\">\n",
       "      <th></th>\n",
       "      <th>user_id</th>\n",
       "      <th>month</th>\n",
       "      <th>sum_minut</th>\n",
       "      <th>total_calls</th>\n",
       "      <th>sum_gb</th>\n",
       "      <th>sum_message</th>\n",
       "      <th>price_month</th>\n",
       "    </tr>\n",
       "  </thead>\n",
       "  <tbody>\n",
       "    <tr>\n",
       "      <th>count</th>\n",
       "      <td>611.000000</td>\n",
       "      <td>611.000000</td>\n",
       "      <td>611.000000</td>\n",
       "      <td>611.000000</td>\n",
       "      <td>611.000000</td>\n",
       "      <td>611.000000</td>\n",
       "      <td>611.000000</td>\n",
       "    </tr>\n",
       "    <tr>\n",
       "      <th>mean</th>\n",
       "      <td>1268.872340</td>\n",
       "      <td>8.432079</td>\n",
       "      <td>469.150573</td>\n",
       "      <td>65.436989</td>\n",
       "      <td>18.050736</td>\n",
       "      <td>37.877250</td>\n",
       "      <td>1546.713584</td>\n",
       "    </tr>\n",
       "    <tr>\n",
       "      <th>std</th>\n",
       "      <td>137.530432</td>\n",
       "      <td>2.888057</td>\n",
       "      <td>241.535044</td>\n",
       "      <td>33.186021</td>\n",
       "      <td>7.645788</td>\n",
       "      <td>37.160304</td>\n",
       "      <td>752.088071</td>\n",
       "    </tr>\n",
       "    <tr>\n",
       "      <th>min</th>\n",
       "      <td>1001.000000</td>\n",
       "      <td>1.000000</td>\n",
       "      <td>0.000000</td>\n",
       "      <td>0.000000</td>\n",
       "      <td>1.000000</td>\n",
       "      <td>0.000000</td>\n",
       "      <td>550.000000</td>\n",
       "    </tr>\n",
       "    <tr>\n",
       "      <th>25%</th>\n",
       "      <td>1171.000000</td>\n",
       "      <td>6.000000</td>\n",
       "      <td>304.000000</td>\n",
       "      <td>42.000000</td>\n",
       "      <td>13.000000</td>\n",
       "      <td>6.500000</td>\n",
       "      <td>780.500000</td>\n",
       "    </tr>\n",
       "    <tr>\n",
       "      <th>50%</th>\n",
       "      <td>1291.000000</td>\n",
       "      <td>9.000000</td>\n",
       "      <td>453.000000</td>\n",
       "      <td>64.000000</td>\n",
       "      <td>18.000000</td>\n",
       "      <td>29.000000</td>\n",
       "      <td>1750.000000</td>\n",
       "    </tr>\n",
       "    <tr>\n",
       "      <th>75%</th>\n",
       "      <td>1385.000000</td>\n",
       "      <td>11.000000</td>\n",
       "      <td>620.500000</td>\n",
       "      <td>85.500000</td>\n",
       "      <td>22.000000</td>\n",
       "      <td>57.000000</td>\n",
       "      <td>1950.000000</td>\n",
       "    </tr>\n",
       "    <tr>\n",
       "      <th>max</th>\n",
       "      <td>1490.000000</td>\n",
       "      <td>12.000000</td>\n",
       "      <td>1321.000000</td>\n",
       "      <td>188.000000</td>\n",
       "      <td>44.000000</td>\n",
       "      <td>191.000000</td>\n",
       "      <td>5321.000000</td>\n",
       "    </tr>\n",
       "  </tbody>\n",
       "</table>\n",
       "</div>"
      ],
      "text/plain": [
       "           user_id       month    sum_minut  total_calls      sum_gb  \\\n",
       "count   611.000000  611.000000   611.000000   611.000000  611.000000   \n",
       "mean   1268.872340    8.432079   469.150573    65.436989   18.050736   \n",
       "std     137.530432    2.888057   241.535044    33.186021    7.645788   \n",
       "min    1001.000000    1.000000     0.000000     0.000000    1.000000   \n",
       "25%    1171.000000    6.000000   304.000000    42.000000   13.000000   \n",
       "50%    1291.000000    9.000000   453.000000    64.000000   18.000000   \n",
       "75%    1385.000000   11.000000   620.500000    85.500000   22.000000   \n",
       "max    1490.000000   12.000000  1321.000000   188.000000   44.000000   \n",
       "\n",
       "       sum_message  price_month  \n",
       "count   611.000000   611.000000  \n",
       "mean     37.877250  1546.713584  \n",
       "std      37.160304   752.088071  \n",
       "min       0.000000   550.000000  \n",
       "25%       6.500000   780.500000  \n",
       "50%      29.000000  1750.000000  \n",
       "75%      57.000000  1950.000000  \n",
       "max     191.000000  5321.000000  "
      ]
     },
     "execution_count": 70,
     "metadata": {},
     "output_type": "execute_result"
    }
   ],
   "source": [
    "data_msk=data.query('city == \"Москва\"')\n",
    "data_msk.describe()"
   ]
  },
  {
   "cell_type": "code",
   "execution_count": 71,
   "metadata": {},
   "outputs": [
    {
     "data": {
      "text/html": [
       "<div>\n",
       "<style scoped>\n",
       "    .dataframe tbody tr th:only-of-type {\n",
       "        vertical-align: middle;\n",
       "    }\n",
       "\n",
       "    .dataframe tbody tr th {\n",
       "        vertical-align: top;\n",
       "    }\n",
       "\n",
       "    .dataframe thead th {\n",
       "        text-align: right;\n",
       "    }\n",
       "</style>\n",
       "<table border=\"1\" class=\"dataframe\">\n",
       "  <thead>\n",
       "    <tr style=\"text-align: right;\">\n",
       "      <th></th>\n",
       "      <th>user_id</th>\n",
       "      <th>month</th>\n",
       "      <th>sum_minut</th>\n",
       "      <th>total_calls</th>\n",
       "      <th>sum_gb</th>\n",
       "      <th>sum_message</th>\n",
       "      <th>price_month</th>\n",
       "    </tr>\n",
       "  </thead>\n",
       "  <tbody>\n",
       "    <tr>\n",
       "      <th>count</th>\n",
       "      <td>2603.000000</td>\n",
       "      <td>2603.000000</td>\n",
       "      <td>2603.000000</td>\n",
       "      <td>2603.000000</td>\n",
       "      <td>2603.000000</td>\n",
       "      <td>2603.000000</td>\n",
       "      <td>2603.000000</td>\n",
       "    </tr>\n",
       "    <tr>\n",
       "      <th>mean</th>\n",
       "      <td>1247.533615</td>\n",
       "      <td>8.290434</td>\n",
       "      <td>447.041875</td>\n",
       "      <td>62.475989</td>\n",
       "      <td>17.122551</td>\n",
       "      <td>38.376104</td>\n",
       "      <td>1524.936227</td>\n",
       "    </tr>\n",
       "    <tr>\n",
       "      <th>std</th>\n",
       "      <td>146.011387</td>\n",
       "      <td>2.909368</td>\n",
       "      <td>241.852152</td>\n",
       "      <td>33.229464</td>\n",
       "      <td>7.332184</td>\n",
       "      <td>35.913289</td>\n",
       "      <td>808.787752</td>\n",
       "    </tr>\n",
       "    <tr>\n",
       "      <th>min</th>\n",
       "      <td>1000.000000</td>\n",
       "      <td>1.000000</td>\n",
       "      <td>0.000000</td>\n",
       "      <td>0.000000</td>\n",
       "      <td>0.000000</td>\n",
       "      <td>0.000000</td>\n",
       "      <td>550.000000</td>\n",
       "    </tr>\n",
       "    <tr>\n",
       "      <th>25%</th>\n",
       "      <td>1120.000000</td>\n",
       "      <td>6.000000</td>\n",
       "      <td>280.500000</td>\n",
       "      <td>40.000000</td>\n",
       "      <td>13.000000</td>\n",
       "      <td>9.500000</td>\n",
       "      <td>750.000000</td>\n",
       "    </tr>\n",
       "    <tr>\n",
       "      <th>50%</th>\n",
       "      <td>1241.000000</td>\n",
       "      <td>9.000000</td>\n",
       "      <td>440.000000</td>\n",
       "      <td>62.000000</td>\n",
       "      <td>17.000000</td>\n",
       "      <td>30.000000</td>\n",
       "      <td>1583.000000</td>\n",
       "    </tr>\n",
       "    <tr>\n",
       "      <th>75%</th>\n",
       "      <td>1377.000000</td>\n",
       "      <td>11.000000</td>\n",
       "      <td>584.000000</td>\n",
       "      <td>82.000000</td>\n",
       "      <td>21.000000</td>\n",
       "      <td>57.000000</td>\n",
       "      <td>1950.000000</td>\n",
       "    </tr>\n",
       "    <tr>\n",
       "      <th>max</th>\n",
       "      <td>1499.000000</td>\n",
       "      <td>12.000000</td>\n",
       "      <td>1673.000000</td>\n",
       "      <td>244.000000</td>\n",
       "      <td>49.000000</td>\n",
       "      <td>224.000000</td>\n",
       "      <td>6770.000000</td>\n",
       "    </tr>\n",
       "  </tbody>\n",
       "</table>\n",
       "</div>"
      ],
      "text/plain": [
       "           user_id        month    sum_minut  total_calls       sum_gb  \\\n",
       "count  2603.000000  2603.000000  2603.000000  2603.000000  2603.000000   \n",
       "mean   1247.533615     8.290434   447.041875    62.475989    17.122551   \n",
       "std     146.011387     2.909368   241.852152    33.229464     7.332184   \n",
       "min    1000.000000     1.000000     0.000000     0.000000     0.000000   \n",
       "25%    1120.000000     6.000000   280.500000    40.000000    13.000000   \n",
       "50%    1241.000000     9.000000   440.000000    62.000000    17.000000   \n",
       "75%    1377.000000    11.000000   584.000000    82.000000    21.000000   \n",
       "max    1499.000000    12.000000  1673.000000   244.000000    49.000000   \n",
       "\n",
       "       sum_message  price_month  \n",
       "count  2603.000000  2603.000000  \n",
       "mean     38.376104  1524.936227  \n",
       "std      35.913289   808.787752  \n",
       "min       0.000000   550.000000  \n",
       "25%       9.500000   750.000000  \n",
       "50%      30.000000  1583.000000  \n",
       "75%      57.000000  1950.000000  \n",
       "max     224.000000  6770.000000  "
      ]
     },
     "execution_count": 71,
     "metadata": {},
     "output_type": "execute_result"
    }
   ],
   "source": [
    "data_no_msk=data.query('city != \"Москва\"')\n",
    "data_no_msk.describe()"
   ]
  },
  {
   "cell_type": "code",
   "execution_count": 72,
   "metadata": {},
   "outputs": [
    {
     "data": {
      "text/plain": [
       "Москва             611\n",
       "Санкт-Петербург    270\n",
       "Новосибирск         98\n",
       "Уфа                 95\n",
       "Краснодар           86\n",
       "Ульяновск           83\n",
       "Казань              77\n",
       "Омск                72\n",
       "Пермь               68\n",
       "Самара              67\n",
       "Name: city, dtype: int64"
      ]
     },
     "execution_count": 72,
     "metadata": {},
     "output_type": "execute_result"
    }
   ],
   "source": [
    "data['city'].value_counts().head(10)"
   ]
  },
  {
   "cell_type": "markdown",
   "metadata": {},
   "source": [
    "Средняя выручка по Москве и др. городам равны 1750 уб. и 1583 руб. Средние выручки немного отличаются. Пусть нулевая гипотеза звучит так - средние выручки равны. Альтернативная - не равны."
   ]
  },
  {
   "cell_type": "code",
   "execution_count": 73,
   "metadata": {},
   "outputs": [
    {
     "name": "stdout",
     "output_type": "stream",
     "text": [
      "p-значение: 0.5440152911670224\n",
      "Не получилось отвергнуть нулевую гипотезу\n"
     ]
    }
   ],
   "source": [
    "alpha = 0.05\n",
    "\n",
    "results = st.ttest_ind(data_msk['price_month'], data_no_msk['price_month'])\n",
    "\n",
    "print('p-значение:', results.pvalue)\n",
    "\n",
    "if results.pvalue < alpha:\n",
    "    print('Отвергаем нулевую гипотезу')\n",
    "else:\n",
    "    print('Не получилось отвергнуть нулевую гипотезу')"
   ]
  },
  {
   "cell_type": "markdown",
   "metadata": {},
   "source": [
    "С вероятностью 54.4 % небольшое различие можно получить случайно. Это значит, что средняя выручка из Москвы не отличается от выручки из других регионов."
   ]
  },
  {
   "cell_type": "markdown",
   "metadata": {},
   "source": [
    "<font color='DarkBlue'><b>Комментарий ревьюера</b></font><br>\n",
    "<font color='DarkMagenta'>👉 Было бы правильным показать дополнительно средние выручки, как иллюстрации не противоречивости нашей проверки гипотез. 🙄</font>"
   ]
  },
  {
   "cell_type": "markdown",
   "metadata": {},
   "source": [
    "## Напишим общий вывод"
   ]
  },
  {
   "cell_type": "markdown",
   "metadata": {},
   "source": [
    "По результатам статистического анализа для оператора доходы от тарифа «Ультра»(1950 р.) больше, чем от тарифа «Смарт»(1023р.).\n",
    "* Сообщения не пользуются популярностью в обоих Тарифах. Максимальное значение сообщений пользователя в тарифе Ультра достигает 24% от доступного объема сообщения в тарифе. \n",
    "* Доплат по тарифу «Ультра» очень мало. В тарифе «Смарт» часто переплачивают за дополнительные пакеты гигабайт.\n",
    "* Судя по гистограммам не все пользователи тарифа «Ультра» выробатывают весь доступный лимит, но это удобно тем кто любит фиксированую стоимость за тариф.\n",
    "* Колличество пользователей тарифа «Смарт» больше в 2 раза, что можно объяснить экнономическим фактором условиями.\n",
    "* Средние доходы от пользователей в Москве не отличаются от доходов в других населенных пунктах.\n",
    "\n",
    "Тариф Ультра выгоден для оператора."
   ]
  },
  {
   "cell_type": "markdown",
   "metadata": {},
   "source": [
    "<font color='DarkBlue'><b>Комментарий ревьюера</b></font><br>\n",
    "<font color='DarkMagenta'>👉 Хорошее обобщение всего исследования. Но явно не хватает графика динамики выручки по месяцам в разрезе тарифов. Есть ли там тренды, выручка по какому-то тарифу растет или падает? 🙄 Сделаем?</font>"
   ]
  },
  {
   "cell_type": "markdown",
   "metadata": {},
   "source": [
    "<font color='DarkBlue'><b>Заключительный комментарий ревьюера</b></font><br><br>\n",
    "<font color='DarkGreen'>👌 Роман, проект очень хорошо и детально проработан. Мы так скоро станем настоящими профессионалами. 😄 И дальше так держать! 😄<br></font>\n",
    "<font color='Red'>🛠 А что бы еще лучше сделать проект нам надо:</font><br>\n",
    "<font color='Red'>🛠 Необходимо проанализировать наличие аномалий. Добавить в объединенную таблицу количество звонков. Проанализировать пропажу пользователей после объединения таблиц. Необходимо провести анализ выручки в разрезе тарифов. <br></font>\n",
    "<font color='DarkMagenta'>👉 Видишь? Совсем не много. 🙄 </font><br>\n",
    "<font color='DarkGreen'>👌 Жду от тебя окончательный вариант! Удачи. 😉</font>"
   ]
  },
  {
   "attachments": {
    "image.png": {
     "image/png": "[encoded data removed]"
    }
   },
   "cell_type": "markdown",
   "metadata": {},
   "source": [
    "Контроль пола! <font color='DarkBlue'><b>Заключительный комментарий ревьюера 2</b></font><br><br>\n",
    "<font color='DarkGreen'>👌 Роман, нам удалось победить проект. <br>Мы научились собирать из отдельных датасетов общую таблицу для дальнейшего анализа. Делать сравнительный анализ, для этого лучше визуализацию делать на одной координатной сетке. Мы молодцы! 👍<br></font>\n",
    "<font color='DarkGreen'>👌 А теперь нас ждут новые знания в новом проекте! Удачи! 😉</font>\n",
    "![image.png](attachment:image.png)"
   ]
  }
 ],
 "metadata": {
  "ExecuteTimeLog": [
   {
    "duration": 1104,
    "start_time": "2022-04-04T12:08:02.245Z"
   },
   {
    "duration": 464,
    "start_time": "2022-04-04T13:31:23.357Z"
   },
   {
    "duration": 24,
    "start_time": "2022-04-04T13:31:27.425Z"
   },
   {
    "duration": 20,
    "start_time": "2022-04-04T13:33:42.222Z"
   },
   {
    "duration": 14,
    "start_time": "2022-04-04T13:33:49.742Z"
   },
   {
    "duration": 12,
    "start_time": "2022-04-04T13:33:55.629Z"
   },
   {
    "duration": 21,
    "start_time": "2022-04-04T13:34:16.837Z"
   },
   {
    "duration": 19,
    "start_time": "2022-04-04T13:46:28.396Z"
   },
   {
    "duration": 23,
    "start_time": "2022-04-04T13:46:43.796Z"
   },
   {
    "duration": 28,
    "start_time": "2022-04-04T13:47:01.764Z"
   },
   {
    "duration": 35,
    "start_time": "2022-04-04T13:47:05.668Z"
   },
   {
    "duration": 23,
    "start_time": "2022-04-04T13:47:09.157Z"
   },
   {
    "duration": 16,
    "start_time": "2022-04-04T13:47:12.772Z"
   },
   {
    "duration": 26,
    "start_time": "2022-04-04T13:47:16.971Z"
   },
   {
    "duration": 15,
    "start_time": "2022-04-04T13:47:22.636Z"
   },
   {
    "duration": 12,
    "start_time": "2022-04-04T13:47:41.819Z"
   },
   {
    "duration": 21,
    "start_time": "2022-04-04T13:47:47.517Z"
   },
   {
    "duration": 20,
    "start_time": "2022-04-04T14:29:54.229Z"
   },
   {
    "duration": 30,
    "start_time": "2022-04-04T14:29:57.533Z"
   },
   {
    "duration": 15,
    "start_time": "2022-04-04T14:29:59.764Z"
   },
   {
    "duration": 27,
    "start_time": "2022-04-04T15:46:19.789Z"
   },
   {
    "duration": 29,
    "start_time": "2022-04-04T15:46:22.212Z"
   },
   {
    "duration": 25,
    "start_time": "2022-04-04T15:46:36.027Z"
   },
   {
    "duration": 13,
    "start_time": "2022-04-04T15:47:07.236Z"
   },
   {
    "duration": 163,
    "start_time": "2022-04-04T15:55:26.244Z"
   },
   {
    "duration": 76,
    "start_time": "2022-04-04T15:55:32.646Z"
   },
   {
    "duration": 67,
    "start_time": "2022-04-04T15:55:48.695Z"
   },
   {
    "duration": 10,
    "start_time": "2022-04-04T15:55:52.718Z"
   },
   {
    "duration": 8,
    "start_time": "2022-04-04T15:55:55.926Z"
   },
   {
    "duration": 132,
    "start_time": "2022-04-04T16:13:55.178Z"
   },
   {
    "duration": 3,
    "start_time": "2022-04-04T16:15:31.277Z"
   },
   {
    "duration": 20,
    "start_time": "2022-04-04T16:15:32.981Z"
   },
   {
    "duration": 22,
    "start_time": "2022-04-04T16:15:37.142Z"
   },
   {
    "duration": 17,
    "start_time": "2022-04-04T16:22:15.575Z"
   },
   {
    "duration": 12,
    "start_time": "2022-04-04T16:22:28.661Z"
   },
   {
    "duration": 2079,
    "start_time": "2022-04-04T16:22:48.412Z"
   },
   {
    "duration": 18,
    "start_time": "2022-04-04T16:23:02.469Z"
   },
   {
    "duration": 847,
    "start_time": "2022-04-04T16:25:16.954Z"
   },
   {
    "duration": 511,
    "start_time": "2022-04-04T16:25:17.804Z"
   },
   {
    "duration": 20,
    "start_time": "2022-04-04T16:25:18.318Z"
   },
   {
    "duration": 29,
    "start_time": "2022-04-04T16:25:18.341Z"
   },
   {
    "duration": 26,
    "start_time": "2022-04-04T16:25:18.373Z"
   },
   {
    "duration": 18,
    "start_time": "2022-04-04T16:25:18.402Z"
   },
   {
    "duration": 80,
    "start_time": "2022-04-04T16:25:18.423Z"
   },
   {
    "duration": 12,
    "start_time": "2022-04-04T16:25:18.505Z"
   },
   {
    "duration": 20,
    "start_time": "2022-04-04T16:25:18.519Z"
   },
   {
    "duration": 14,
    "start_time": "2022-04-04T16:25:58.142Z"
   },
   {
    "duration": 2365,
    "start_time": "2022-04-04T16:53:01.940Z"
   },
   {
    "duration": 805,
    "start_time": "2022-04-04T16:53:26.481Z"
   },
   {
    "duration": 360,
    "start_time": "2022-04-04T16:53:27.289Z"
   },
   {
    "duration": 0,
    "start_time": "2022-04-04T16:53:27.653Z"
   },
   {
    "duration": 0,
    "start_time": "2022-04-04T16:53:27.655Z"
   },
   {
    "duration": 0,
    "start_time": "2022-04-04T16:53:27.657Z"
   },
   {
    "duration": 0,
    "start_time": "2022-04-04T16:53:27.658Z"
   },
   {
    "duration": 0,
    "start_time": "2022-04-04T16:53:27.673Z"
   },
   {
    "duration": 0,
    "start_time": "2022-04-04T16:53:27.675Z"
   },
   {
    "duration": 0,
    "start_time": "2022-04-04T16:53:27.676Z"
   },
   {
    "duration": 0,
    "start_time": "2022-04-04T16:53:27.678Z"
   },
   {
    "duration": 0,
    "start_time": "2022-04-04T16:53:27.680Z"
   },
   {
    "duration": 0,
    "start_time": "2022-04-04T16:53:27.681Z"
   },
   {
    "duration": 902,
    "start_time": "2022-04-04T16:53:53.623Z"
   },
   {
    "duration": 643,
    "start_time": "2022-04-04T16:53:54.528Z"
   },
   {
    "duration": 0,
    "start_time": "2022-04-04T16:53:55.175Z"
   },
   {
    "duration": 0,
    "start_time": "2022-04-04T16:53:55.176Z"
   },
   {
    "duration": 0,
    "start_time": "2022-04-04T16:53:55.178Z"
   },
   {
    "duration": 0,
    "start_time": "2022-04-04T16:53:55.180Z"
   },
   {
    "duration": 0,
    "start_time": "2022-04-04T16:53:55.181Z"
   },
   {
    "duration": 0,
    "start_time": "2022-04-04T16:53:55.183Z"
   },
   {
    "duration": 0,
    "start_time": "2022-04-04T16:53:55.184Z"
   },
   {
    "duration": 0,
    "start_time": "2022-04-04T16:53:55.189Z"
   },
   {
    "duration": 0,
    "start_time": "2022-04-04T16:53:55.191Z"
   },
   {
    "duration": 0,
    "start_time": "2022-04-04T16:53:55.192Z"
   },
   {
    "duration": 862,
    "start_time": "2022-04-04T16:54:14.592Z"
   },
   {
    "duration": 576,
    "start_time": "2022-04-04T16:54:28.799Z"
   },
   {
    "duration": 888,
    "start_time": "2022-04-04T16:54:41.346Z"
   },
   {
    "duration": 569,
    "start_time": "2022-04-04T16:54:42.237Z"
   },
   {
    "duration": 23,
    "start_time": "2022-04-04T16:54:42.813Z"
   },
   {
    "duration": 2122,
    "start_time": "2022-04-04T16:54:42.838Z"
   },
   {
    "duration": 0,
    "start_time": "2022-04-04T16:54:44.962Z"
   },
   {
    "duration": 0,
    "start_time": "2022-04-04T16:54:44.964Z"
   },
   {
    "duration": 0,
    "start_time": "2022-04-04T16:54:44.965Z"
   },
   {
    "duration": 0,
    "start_time": "2022-04-04T16:54:44.968Z"
   },
   {
    "duration": 0,
    "start_time": "2022-04-04T16:54:44.969Z"
   },
   {
    "duration": 0,
    "start_time": "2022-04-04T16:54:44.972Z"
   },
   {
    "duration": 0,
    "start_time": "2022-04-04T16:54:44.975Z"
   },
   {
    "duration": 0,
    "start_time": "2022-04-04T16:54:44.977Z"
   },
   {
    "duration": 31,
    "start_time": "2022-04-04T16:54:57.929Z"
   },
   {
    "duration": 4,
    "start_time": "2022-04-04T16:55:02.777Z"
   },
   {
    "duration": 587,
    "start_time": "2022-04-04T16:55:02.784Z"
   },
   {
    "duration": 27,
    "start_time": "2022-04-04T16:55:03.374Z"
   },
   {
    "duration": 39,
    "start_time": "2022-04-04T16:55:03.404Z"
   },
   {
    "duration": 79,
    "start_time": "2022-04-04T16:55:03.448Z"
   },
   {
    "duration": 49,
    "start_time": "2022-04-04T16:55:03.529Z"
   },
   {
    "duration": 24,
    "start_time": "2022-04-04T16:55:03.581Z"
   },
   {
    "duration": 18,
    "start_time": "2022-04-04T16:55:03.607Z"
   },
   {
    "duration": 73,
    "start_time": "2022-04-04T16:55:03.627Z"
   },
   {
    "duration": 15,
    "start_time": "2022-04-04T16:55:03.703Z"
   },
   {
    "duration": 14,
    "start_time": "2022-04-04T16:55:03.721Z"
   },
   {
    "duration": 48,
    "start_time": "2022-04-04T16:55:03.738Z"
   },
   {
    "duration": 15,
    "start_time": "2022-04-04T16:55:28.136Z"
   },
   {
    "duration": 576,
    "start_time": "2022-04-04T17:02:46.866Z"
   },
   {
    "duration": 100,
    "start_time": "2022-04-04T17:03:03.521Z"
   },
   {
    "duration": 803,
    "start_time": "2022-04-04T17:03:36.508Z"
   },
   {
    "duration": 599,
    "start_time": "2022-04-04T17:03:37.314Z"
   },
   {
    "duration": 23,
    "start_time": "2022-04-04T17:03:37.916Z"
   },
   {
    "duration": 99,
    "start_time": "2022-04-04T17:03:37.942Z"
   },
   {
    "duration": 37,
    "start_time": "2022-04-04T17:03:38.044Z"
   },
   {
    "duration": 61,
    "start_time": "2022-04-04T17:03:38.084Z"
   },
   {
    "duration": 32,
    "start_time": "2022-04-04T17:03:38.147Z"
   },
   {
    "duration": 25,
    "start_time": "2022-04-04T17:03:38.181Z"
   },
   {
    "duration": 15,
    "start_time": "2022-04-04T17:04:06.719Z"
   },
   {
    "duration": 36,
    "start_time": "2022-04-04T17:04:23.464Z"
   },
   {
    "duration": 37,
    "start_time": "2022-04-04T17:04:28.311Z"
   },
   {
    "duration": 116,
    "start_time": "2022-04-04T17:05:39.937Z"
   },
   {
    "duration": 70,
    "start_time": "2022-04-04T17:23:20.701Z"
   },
   {
    "duration": 10,
    "start_time": "2022-04-04T17:25:24.447Z"
   },
   {
    "duration": 30,
    "start_time": "2022-04-04T17:25:31.885Z"
   },
   {
    "duration": 42,
    "start_time": "2022-04-04T17:26:33.225Z"
   },
   {
    "duration": 30,
    "start_time": "2022-04-04T17:26:35.263Z"
   },
   {
    "duration": 34,
    "start_time": "2022-04-04T17:26:37.544Z"
   },
   {
    "duration": 15,
    "start_time": "2022-04-04T17:26:39.840Z"
   },
   {
    "duration": 15,
    "start_time": "2022-04-04T17:27:47.746Z"
   },
   {
    "duration": 51,
    "start_time": "2022-04-07T12:48:27.445Z"
   },
   {
    "duration": 887,
    "start_time": "2022-04-07T12:48:37.018Z"
   },
   {
    "duration": 472,
    "start_time": "2022-04-07T12:48:37.907Z"
   },
   {
    "duration": 18,
    "start_time": "2022-04-07T12:48:38.381Z"
   },
   {
    "duration": 22,
    "start_time": "2022-04-07T12:48:38.401Z"
   },
   {
    "duration": 20,
    "start_time": "2022-04-07T12:48:38.424Z"
   },
   {
    "duration": 19,
    "start_time": "2022-04-07T12:48:38.445Z"
   },
   {
    "duration": 25,
    "start_time": "2022-04-07T12:48:38.465Z"
   },
   {
    "duration": 16,
    "start_time": "2022-04-07T12:48:38.492Z"
   },
   {
    "duration": 16,
    "start_time": "2022-04-07T12:48:38.532Z"
   },
   {
    "duration": 18,
    "start_time": "2022-04-07T12:48:38.551Z"
   },
   {
    "duration": 15,
    "start_time": "2022-04-07T12:48:38.571Z"
   },
   {
    "duration": 13,
    "start_time": "2022-04-07T12:48:38.588Z"
   },
   {
    "duration": 57,
    "start_time": "2022-04-07T12:48:38.603Z"
   },
   {
    "duration": 0,
    "start_time": "2022-04-07T12:48:38.661Z"
   },
   {
    "duration": 0,
    "start_time": "2022-04-07T12:48:38.663Z"
   },
   {
    "duration": 0,
    "start_time": "2022-04-07T12:48:38.664Z"
   },
   {
    "duration": 19,
    "start_time": "2022-04-07T12:48:55.243Z"
   },
   {
    "duration": 13,
    "start_time": "2022-04-07T12:49:01.627Z"
   },
   {
    "duration": 629,
    "start_time": "2022-04-07T12:55:21.882Z"
   },
   {
    "duration": 457,
    "start_time": "2022-04-07T12:55:22.513Z"
   },
   {
    "duration": 16,
    "start_time": "2022-04-07T12:55:22.972Z"
   },
   {
    "duration": 20,
    "start_time": "2022-04-07T12:55:22.990Z"
   },
   {
    "duration": 17,
    "start_time": "2022-04-07T12:55:23.012Z"
   },
   {
    "duration": 17,
    "start_time": "2022-04-07T12:55:23.031Z"
   },
   {
    "duration": 24,
    "start_time": "2022-04-07T12:55:23.049Z"
   },
   {
    "duration": 15,
    "start_time": "2022-04-07T12:55:23.075Z"
   },
   {
    "duration": 41,
    "start_time": "2022-04-07T12:55:23.092Z"
   },
   {
    "duration": 14,
    "start_time": "2022-04-07T12:55:23.134Z"
   },
   {
    "duration": 11,
    "start_time": "2022-04-07T12:55:23.149Z"
   },
   {
    "duration": 13,
    "start_time": "2022-04-07T12:55:23.161Z"
   },
   {
    "duration": 16,
    "start_time": "2022-04-07T12:55:23.176Z"
   },
   {
    "duration": 63,
    "start_time": "2022-04-07T12:55:23.194Z"
   },
   {
    "duration": 53,
    "start_time": "2022-04-07T12:55:23.259Z"
   },
   {
    "duration": 68,
    "start_time": "2022-04-07T12:55:23.331Z"
   },
   {
    "duration": 15,
    "start_time": "2022-04-07T12:55:53.102Z"
   },
   {
    "duration": 662,
    "start_time": "2022-04-07T12:59:11.949Z"
   },
   {
    "duration": 494,
    "start_time": "2022-04-07T12:59:12.613Z"
   },
   {
    "duration": 18,
    "start_time": "2022-04-07T12:59:13.109Z"
   },
   {
    "duration": 20,
    "start_time": "2022-04-07T12:59:13.129Z"
   },
   {
    "duration": 18,
    "start_time": "2022-04-07T12:59:13.151Z"
   },
   {
    "duration": 17,
    "start_time": "2022-04-07T12:59:13.171Z"
   },
   {
    "duration": 50,
    "start_time": "2022-04-07T12:59:13.189Z"
   },
   {
    "duration": 15,
    "start_time": "2022-04-07T12:59:13.241Z"
   },
   {
    "duration": 16,
    "start_time": "2022-04-07T12:59:13.257Z"
   },
   {
    "duration": 16,
    "start_time": "2022-04-07T12:59:13.275Z"
   },
   {
    "duration": 40,
    "start_time": "2022-04-07T12:59:13.293Z"
   },
   {
    "duration": 12,
    "start_time": "2022-04-07T12:59:13.335Z"
   },
   {
    "duration": 84,
    "start_time": "2022-04-07T12:59:13.349Z"
   },
   {
    "duration": 0,
    "start_time": "2022-04-07T12:59:13.435Z"
   },
   {
    "duration": 0,
    "start_time": "2022-04-07T12:59:13.436Z"
   },
   {
    "duration": 0,
    "start_time": "2022-04-07T12:59:13.436Z"
   },
   {
    "duration": 16,
    "start_time": "2022-04-07T12:59:40.906Z"
   },
   {
    "duration": 3,
    "start_time": "2022-04-07T13:06:46.554Z"
   },
   {
    "duration": 12,
    "start_time": "2022-04-07T13:07:58.972Z"
   },
   {
    "duration": 678,
    "start_time": "2022-04-07T13:08:11.253Z"
   },
   {
    "duration": 481,
    "start_time": "2022-04-07T13:08:11.933Z"
   },
   {
    "duration": 17,
    "start_time": "2022-04-07T13:08:12.416Z"
   },
   {
    "duration": 21,
    "start_time": "2022-04-07T13:08:12.435Z"
   },
   {
    "duration": 19,
    "start_time": "2022-04-07T13:08:12.458Z"
   },
   {
    "duration": 18,
    "start_time": "2022-04-07T13:08:12.479Z"
   },
   {
    "duration": 48,
    "start_time": "2022-04-07T13:08:12.499Z"
   },
   {
    "duration": 16,
    "start_time": "2022-04-07T13:08:12.549Z"
   },
   {
    "duration": 15,
    "start_time": "2022-04-07T13:08:12.567Z"
   },
   {
    "duration": 11,
    "start_time": "2022-04-07T13:08:12.584Z"
   },
   {
    "duration": 40,
    "start_time": "2022-04-07T13:08:12.596Z"
   },
   {
    "duration": 13,
    "start_time": "2022-04-07T13:08:12.638Z"
   },
   {
    "duration": 16,
    "start_time": "2022-04-07T13:08:12.652Z"
   },
   {
    "duration": 36,
    "start_time": "2022-04-07T13:08:12.670Z"
   },
   {
    "duration": 74,
    "start_time": "2022-04-07T13:08:12.708Z"
   },
   {
    "duration": 86,
    "start_time": "2022-04-07T13:08:12.783Z"
   },
   {
    "duration": 14,
    "start_time": "2022-04-07T13:08:42.725Z"
   },
   {
    "duration": 13,
    "start_time": "2022-04-07T13:08:45.365Z"
   },
   {
    "duration": 13,
    "start_time": "2022-04-07T13:08:59.550Z"
   },
   {
    "duration": 111,
    "start_time": "2022-04-07T13:09:55.304Z"
   },
   {
    "duration": 8,
    "start_time": "2022-04-07T13:10:47.496Z"
   },
   {
    "duration": 20,
    "start_time": "2022-04-07T13:11:07.087Z"
   },
   {
    "duration": 20,
    "start_time": "2022-04-07T13:11:13.960Z"
   },
   {
    "duration": 15,
    "start_time": "2022-04-07T13:11:40.552Z"
   },
   {
    "duration": 13,
    "start_time": "2022-04-07T13:24:52.462Z"
   },
   {
    "duration": 14,
    "start_time": "2022-04-07T13:24:58.894Z"
   },
   {
    "duration": 731,
    "start_time": "2022-04-07T13:25:12.076Z"
   },
   {
    "duration": 481,
    "start_time": "2022-04-07T13:25:12.809Z"
   },
   {
    "duration": 19,
    "start_time": "2022-04-07T13:25:13.292Z"
   },
   {
    "duration": 22,
    "start_time": "2022-04-07T13:25:13.313Z"
   },
   {
    "duration": 16,
    "start_time": "2022-04-07T13:25:13.339Z"
   },
   {
    "duration": 19,
    "start_time": "2022-04-07T13:25:13.357Z"
   },
   {
    "duration": 26,
    "start_time": "2022-04-07T13:25:13.378Z"
   },
   {
    "duration": 18,
    "start_time": "2022-04-07T13:25:13.431Z"
   },
   {
    "duration": 16,
    "start_time": "2022-04-07T13:25:13.451Z"
   },
   {
    "duration": 19,
    "start_time": "2022-04-07T13:25:13.469Z"
   },
   {
    "duration": 12,
    "start_time": "2022-04-07T13:25:13.490Z"
   },
   {
    "duration": 39,
    "start_time": "2022-04-07T13:25:13.504Z"
   },
   {
    "duration": 19,
    "start_time": "2022-04-07T13:25:13.545Z"
   },
   {
    "duration": 19,
    "start_time": "2022-04-07T13:25:13.568Z"
   },
   {
    "duration": 69,
    "start_time": "2022-04-07T13:25:13.589Z"
   },
   {
    "duration": 54,
    "start_time": "2022-04-07T13:25:13.660Z"
   },
   {
    "duration": 84,
    "start_time": "2022-04-07T13:25:13.716Z"
   },
   {
    "duration": 57,
    "start_time": "2022-04-07T13:42:44.006Z"
   },
   {
    "duration": 56,
    "start_time": "2022-04-07T13:42:49.102Z"
   },
   {
    "duration": 47,
    "start_time": "2022-04-08T06:16:18.291Z"
   },
   {
    "duration": 753,
    "start_time": "2022-04-08T06:16:25.490Z"
   },
   {
    "duration": 425,
    "start_time": "2022-04-08T06:16:26.245Z"
   },
   {
    "duration": 17,
    "start_time": "2022-04-08T06:16:26.671Z"
   },
   {
    "duration": 20,
    "start_time": "2022-04-08T06:16:26.689Z"
   },
   {
    "duration": 13,
    "start_time": "2022-04-08T06:16:26.710Z"
   },
   {
    "duration": 24,
    "start_time": "2022-04-08T06:16:26.725Z"
   },
   {
    "duration": 34,
    "start_time": "2022-04-08T06:16:26.750Z"
   },
   {
    "duration": 15,
    "start_time": "2022-04-08T06:16:26.785Z"
   },
   {
    "duration": 15,
    "start_time": "2022-04-08T06:16:26.802Z"
   },
   {
    "duration": 12,
    "start_time": "2022-04-08T06:16:26.819Z"
   },
   {
    "duration": 31,
    "start_time": "2022-04-08T06:16:26.833Z"
   },
   {
    "duration": 17,
    "start_time": "2022-04-08T06:16:26.865Z"
   },
   {
    "duration": 39,
    "start_time": "2022-04-08T06:16:26.883Z"
   },
   {
    "duration": 18,
    "start_time": "2022-04-08T06:16:26.924Z"
   },
   {
    "duration": 65,
    "start_time": "2022-04-08T06:16:26.944Z"
   },
   {
    "duration": 29,
    "start_time": "2022-04-08T06:16:27.011Z"
   },
   {
    "duration": 61,
    "start_time": "2022-04-08T06:16:27.041Z"
   },
   {
    "duration": 654,
    "start_time": "2022-04-08T06:32:38.057Z"
   },
   {
    "duration": 413,
    "start_time": "2022-04-08T06:32:38.713Z"
   },
   {
    "duration": 15,
    "start_time": "2022-04-08T06:32:39.127Z"
   },
   {
    "duration": 20,
    "start_time": "2022-04-08T06:32:39.143Z"
   },
   {
    "duration": 12,
    "start_time": "2022-04-08T06:32:39.165Z"
   },
   {
    "duration": 17,
    "start_time": "2022-04-08T06:32:39.179Z"
   },
   {
    "duration": 22,
    "start_time": "2022-04-08T06:32:39.198Z"
   },
   {
    "duration": 14,
    "start_time": "2022-04-08T06:32:39.222Z"
   },
   {
    "duration": 15,
    "start_time": "2022-04-08T06:32:39.262Z"
   },
   {
    "duration": 10,
    "start_time": "2022-04-08T06:32:39.279Z"
   },
   {
    "duration": 9,
    "start_time": "2022-04-08T06:32:39.291Z"
   },
   {
    "duration": 11,
    "start_time": "2022-04-08T06:32:39.301Z"
   },
   {
    "duration": 61,
    "start_time": "2022-04-08T06:32:39.313Z"
   },
   {
    "duration": 19,
    "start_time": "2022-04-08T06:32:39.377Z"
   },
   {
    "duration": 52,
    "start_time": "2022-04-08T06:32:39.397Z"
   },
   {
    "duration": 39,
    "start_time": "2022-04-08T06:32:39.450Z"
   },
   {
    "duration": 48,
    "start_time": "2022-04-08T06:32:39.491Z"
   },
   {
    "duration": 25,
    "start_time": "2022-04-08T06:40:26.747Z"
   },
   {
    "duration": 41,
    "start_time": "2022-04-08T06:40:33.643Z"
   },
   {
    "duration": 25,
    "start_time": "2022-04-08T06:40:37.764Z"
   },
   {
    "duration": 28,
    "start_time": "2022-04-08T06:41:23.724Z"
   },
   {
    "duration": 28,
    "start_time": "2022-04-08T06:42:21.733Z"
   },
   {
    "duration": 42,
    "start_time": "2022-04-08T06:42:29.094Z"
   },
   {
    "duration": 38,
    "start_time": "2022-04-08T08:29:58.838Z"
   },
   {
    "duration": 37,
    "start_time": "2022-04-08T08:35:16.915Z"
   },
   {
    "duration": 667,
    "start_time": "2022-04-08T08:37:57.221Z"
   },
   {
    "duration": 405,
    "start_time": "2022-04-08T08:37:57.890Z"
   },
   {
    "duration": 14,
    "start_time": "2022-04-08T08:37:58.297Z"
   },
   {
    "duration": 17,
    "start_time": "2022-04-08T08:37:58.313Z"
   },
   {
    "duration": 11,
    "start_time": "2022-04-08T08:37:58.332Z"
   },
   {
    "duration": 20,
    "start_time": "2022-04-08T08:37:58.344Z"
   },
   {
    "duration": 21,
    "start_time": "2022-04-08T08:37:58.365Z"
   },
   {
    "duration": 14,
    "start_time": "2022-04-08T08:37:58.387Z"
   },
   {
    "duration": 13,
    "start_time": "2022-04-08T08:37:58.403Z"
   },
   {
    "duration": 9,
    "start_time": "2022-04-08T08:37:58.418Z"
   },
   {
    "duration": 40,
    "start_time": "2022-04-08T08:37:58.429Z"
   },
   {
    "duration": 14,
    "start_time": "2022-04-08T08:37:58.471Z"
   },
   {
    "duration": 32,
    "start_time": "2022-04-08T08:37:58.487Z"
   },
   {
    "duration": 18,
    "start_time": "2022-04-08T08:37:58.520Z"
   },
   {
    "duration": 70,
    "start_time": "2022-04-08T08:37:58.540Z"
   },
   {
    "duration": 28,
    "start_time": "2022-04-08T08:37:58.612Z"
   },
   {
    "duration": 45,
    "start_time": "2022-04-08T08:37:58.641Z"
   },
   {
    "duration": 119,
    "start_time": "2022-04-08T08:37:58.687Z"
   },
   {
    "duration": 42,
    "start_time": "2022-04-08T08:40:40.873Z"
   },
   {
    "duration": 598,
    "start_time": "2022-04-08T08:41:41.892Z"
   },
   {
    "duration": 410,
    "start_time": "2022-04-08T08:41:42.491Z"
   },
   {
    "duration": 14,
    "start_time": "2022-04-08T08:41:42.903Z"
   },
   {
    "duration": 17,
    "start_time": "2022-04-08T08:41:42.919Z"
   },
   {
    "duration": 12,
    "start_time": "2022-04-08T08:41:42.938Z"
   },
   {
    "duration": 18,
    "start_time": "2022-04-08T08:41:42.951Z"
   },
   {
    "duration": 21,
    "start_time": "2022-04-08T08:41:42.970Z"
   },
   {
    "duration": 13,
    "start_time": "2022-04-08T08:41:42.993Z"
   },
   {
    "duration": 12,
    "start_time": "2022-04-08T08:41:43.007Z"
   },
   {
    "duration": 11,
    "start_time": "2022-04-08T08:41:43.021Z"
   },
   {
    "duration": 31,
    "start_time": "2022-04-08T08:41:43.033Z"
   },
   {
    "duration": 14,
    "start_time": "2022-04-08T08:41:43.065Z"
   },
   {
    "duration": 33,
    "start_time": "2022-04-08T08:41:43.081Z"
   },
   {
    "duration": 16,
    "start_time": "2022-04-08T08:41:43.117Z"
   },
   {
    "duration": 69,
    "start_time": "2022-04-08T08:41:43.135Z"
   },
   {
    "duration": 28,
    "start_time": "2022-04-08T08:41:43.206Z"
   },
   {
    "duration": 42,
    "start_time": "2022-04-08T08:41:43.236Z"
   },
   {
    "duration": 118,
    "start_time": "2022-04-08T08:41:43.279Z"
   },
   {
    "duration": 28,
    "start_time": "2022-04-08T08:42:37.712Z"
   },
   {
    "duration": 30,
    "start_time": "2022-04-08T08:44:31.427Z"
   },
   {
    "duration": 40,
    "start_time": "2022-04-08T08:48:30.151Z"
   },
   {
    "duration": 41,
    "start_time": "2022-04-08T08:48:45.847Z"
   },
   {
    "duration": 29,
    "start_time": "2022-04-08T08:51:08.122Z"
   },
   {
    "duration": 37,
    "start_time": "2022-04-08T08:51:11.523Z"
   },
   {
    "duration": 39,
    "start_time": "2022-04-08T08:56:45.680Z"
   },
   {
    "duration": 33,
    "start_time": "2022-04-08T08:56:50.017Z"
   },
   {
    "duration": 30,
    "start_time": "2022-04-08T08:56:54.064Z"
   },
   {
    "duration": 46,
    "start_time": "2022-04-08T08:56:59.537Z"
   },
   {
    "duration": 40,
    "start_time": "2022-04-08T08:58:26.731Z"
   },
   {
    "duration": 67,
    "start_time": "2022-04-08T09:10:47.631Z"
   },
   {
    "duration": 15,
    "start_time": "2022-04-08T09:11:31.393Z"
   },
   {
    "duration": 12,
    "start_time": "2022-04-08T09:12:06.234Z"
   },
   {
    "duration": 12,
    "start_time": "2022-04-08T09:12:15.067Z"
   },
   {
    "duration": 12,
    "start_time": "2022-04-08T09:13:11.874Z"
   },
   {
    "duration": 8,
    "start_time": "2022-04-08T09:13:33.827Z"
   },
   {
    "duration": 14,
    "start_time": "2022-04-08T09:13:39.491Z"
   },
   {
    "duration": 12,
    "start_time": "2022-04-08T09:16:20.454Z"
   },
   {
    "duration": 13,
    "start_time": "2022-04-08T09:16:52.063Z"
   },
   {
    "duration": 62,
    "start_time": "2022-04-08T09:17:08.839Z"
   },
   {
    "duration": 13,
    "start_time": "2022-04-08T09:17:21.088Z"
   },
   {
    "duration": 12,
    "start_time": "2022-04-08T09:17:31.344Z"
   },
   {
    "duration": 18,
    "start_time": "2022-04-08T09:18:37.049Z"
   },
   {
    "duration": 662,
    "start_time": "2022-04-08T09:29:25.735Z"
   },
   {
    "duration": 431,
    "start_time": "2022-04-08T09:29:26.399Z"
   },
   {
    "duration": 15,
    "start_time": "2022-04-08T09:29:26.831Z"
   },
   {
    "duration": 18,
    "start_time": "2022-04-08T09:29:26.848Z"
   },
   {
    "duration": 12,
    "start_time": "2022-04-08T09:29:26.867Z"
   },
   {
    "duration": 16,
    "start_time": "2022-04-08T09:29:26.881Z"
   },
   {
    "duration": 22,
    "start_time": "2022-04-08T09:29:26.899Z"
   },
   {
    "duration": 41,
    "start_time": "2022-04-08T09:29:26.922Z"
   },
   {
    "duration": 14,
    "start_time": "2022-04-08T09:29:26.965Z"
   },
   {
    "duration": 15,
    "start_time": "2022-04-08T09:29:26.981Z"
   },
   {
    "duration": 9,
    "start_time": "2022-04-08T09:29:26.998Z"
   },
   {
    "duration": 12,
    "start_time": "2022-04-08T09:29:27.008Z"
   },
   {
    "duration": 59,
    "start_time": "2022-04-08T09:29:27.022Z"
   },
   {
    "duration": 21,
    "start_time": "2022-04-08T09:29:27.083Z"
   },
   {
    "duration": 72,
    "start_time": "2022-04-08T09:29:27.106Z"
   },
   {
    "duration": 34,
    "start_time": "2022-04-08T09:29:27.180Z"
   },
   {
    "duration": 52,
    "start_time": "2022-04-08T09:29:27.216Z"
   },
   {
    "duration": 43,
    "start_time": "2022-04-08T09:29:27.271Z"
   },
   {
    "duration": 17,
    "start_time": "2022-04-08T09:29:27.316Z"
   },
   {
    "duration": 79,
    "start_time": "2022-04-08T09:47:42.089Z"
   },
   {
    "duration": 19,
    "start_time": "2022-04-08T09:47:50.530Z"
   },
   {
    "duration": 19,
    "start_time": "2022-04-08T09:47:56.027Z"
   },
   {
    "duration": 20,
    "start_time": "2022-04-08T09:48:24.379Z"
   },
   {
    "duration": 20,
    "start_time": "2022-04-08T09:49:52.555Z"
   },
   {
    "duration": 21,
    "start_time": "2022-04-08T09:49:59.124Z"
   },
   {
    "duration": 6,
    "start_time": "2022-04-08T10:20:59.662Z"
   },
   {
    "duration": 10,
    "start_time": "2022-04-08T10:21:03.111Z"
   },
   {
    "duration": 6,
    "start_time": "2022-04-08T10:22:43.921Z"
   },
   {
    "duration": 12,
    "start_time": "2022-04-08T10:22:52.929Z"
   },
   {
    "duration": 5,
    "start_time": "2022-04-08T10:23:04.601Z"
   },
   {
    "duration": 12,
    "start_time": "2022-04-08T10:23:07.944Z"
   },
   {
    "duration": 14,
    "start_time": "2022-04-08T10:24:08.046Z"
   },
   {
    "duration": 15,
    "start_time": "2022-04-08T10:25:30.668Z"
   },
   {
    "duration": 12,
    "start_time": "2022-04-08T10:25:37.356Z"
   },
   {
    "duration": 7,
    "start_time": "2022-04-08T10:27:49.207Z"
   },
   {
    "duration": 11,
    "start_time": "2022-04-08T10:28:04.863Z"
   },
   {
    "duration": 9,
    "start_time": "2022-04-08T10:29:28.817Z"
   },
   {
    "duration": 138,
    "start_time": "2022-04-08T10:29:38.873Z"
   },
   {
    "duration": 10,
    "start_time": "2022-04-08T10:29:43.256Z"
   },
   {
    "duration": 10,
    "start_time": "2022-04-08T10:29:58.393Z"
   },
   {
    "duration": 11,
    "start_time": "2022-04-08T10:33:30.405Z"
   },
   {
    "duration": 11,
    "start_time": "2022-04-08T10:34:03.094Z"
   },
   {
    "duration": 11,
    "start_time": "2022-04-08T10:34:27.662Z"
   },
   {
    "duration": 8,
    "start_time": "2022-04-08T10:34:51.638Z"
   },
   {
    "duration": 8,
    "start_time": "2022-04-08T10:35:04.526Z"
   },
   {
    "duration": 7,
    "start_time": "2022-04-08T10:35:27.639Z"
   },
   {
    "duration": 8,
    "start_time": "2022-04-08T10:35:33.751Z"
   },
   {
    "duration": 11,
    "start_time": "2022-04-08T10:35:44.639Z"
   },
   {
    "duration": 12,
    "start_time": "2022-04-08T10:37:05.242Z"
   },
   {
    "duration": 12,
    "start_time": "2022-04-08T10:37:47.810Z"
   },
   {
    "duration": 8,
    "start_time": "2022-04-08T10:38:10.891Z"
   },
   {
    "duration": 11,
    "start_time": "2022-04-08T10:38:17.298Z"
   },
   {
    "duration": 23,
    "start_time": "2022-04-08T11:19:37.562Z"
   },
   {
    "duration": 640,
    "start_time": "2022-04-08T11:19:52.882Z"
   },
   {
    "duration": 445,
    "start_time": "2022-04-08T11:19:53.524Z"
   },
   {
    "duration": 16,
    "start_time": "2022-04-08T11:19:53.971Z"
   },
   {
    "duration": 19,
    "start_time": "2022-04-08T11:19:53.990Z"
   },
   {
    "duration": 13,
    "start_time": "2022-04-08T11:19:54.010Z"
   },
   {
    "duration": 40,
    "start_time": "2022-04-08T11:19:54.024Z"
   },
   {
    "duration": 29,
    "start_time": "2022-04-08T11:19:54.066Z"
   },
   {
    "duration": 22,
    "start_time": "2022-04-08T11:19:54.097Z"
   },
   {
    "duration": 50,
    "start_time": "2022-04-08T11:19:54.121Z"
   },
   {
    "duration": 14,
    "start_time": "2022-04-08T11:19:54.175Z"
   },
   {
    "duration": 24,
    "start_time": "2022-04-08T11:19:54.191Z"
   },
   {
    "duration": 20,
    "start_time": "2022-04-08T11:19:54.216Z"
   },
   {
    "duration": 43,
    "start_time": "2022-04-08T11:19:54.238Z"
   },
   {
    "duration": 19,
    "start_time": "2022-04-08T11:19:54.283Z"
   },
   {
    "duration": 65,
    "start_time": "2022-04-08T11:19:54.303Z"
   },
   {
    "duration": 34,
    "start_time": "2022-04-08T11:19:54.370Z"
   },
   {
    "duration": 33,
    "start_time": "2022-04-08T11:19:54.405Z"
   },
   {
    "duration": 65,
    "start_time": "2022-04-08T11:19:54.440Z"
   },
   {
    "duration": 23,
    "start_time": "2022-04-08T11:19:54.507Z"
   },
   {
    "duration": 33,
    "start_time": "2022-04-08T11:19:54.531Z"
   },
   {
    "duration": 15,
    "start_time": "2022-04-08T11:19:54.565Z"
   },
   {
    "duration": 16,
    "start_time": "2022-04-08T11:19:54.582Z"
   },
   {
    "duration": 137,
    "start_time": "2022-04-08T11:34:45.072Z"
   },
   {
    "duration": 19,
    "start_time": "2022-04-08T11:34:50.582Z"
   },
   {
    "duration": 26,
    "start_time": "2022-04-08T11:34:58.145Z"
   },
   {
    "duration": 23,
    "start_time": "2022-04-08T11:35:07.083Z"
   },
   {
    "duration": 54,
    "start_time": "2022-04-08T11:39:04.551Z"
   },
   {
    "duration": 66,
    "start_time": "2022-04-08T11:39:24.215Z"
   },
   {
    "duration": 8,
    "start_time": "2022-04-08T11:40:30.633Z"
   },
   {
    "duration": 12,
    "start_time": "2022-04-08T11:44:48.829Z"
   },
   {
    "duration": 10,
    "start_time": "2022-04-08T11:45:08.606Z"
   },
   {
    "duration": 6,
    "start_time": "2022-04-08T11:45:57.159Z"
   },
   {
    "duration": 8,
    "start_time": "2022-04-08T11:46:08.030Z"
   },
   {
    "duration": 608,
    "start_time": "2022-04-08T11:46:22.099Z"
   },
   {
    "duration": 467,
    "start_time": "2022-04-08T11:46:22.710Z"
   },
   {
    "duration": 16,
    "start_time": "2022-04-08T11:46:23.179Z"
   },
   {
    "duration": 18,
    "start_time": "2022-04-08T11:46:23.197Z"
   },
   {
    "duration": 11,
    "start_time": "2022-04-08T11:46:23.217Z"
   },
   {
    "duration": 14,
    "start_time": "2022-04-08T11:46:23.230Z"
   },
   {
    "duration": 33,
    "start_time": "2022-04-08T11:46:23.246Z"
   },
   {
    "duration": 14,
    "start_time": "2022-04-08T11:46:23.280Z"
   },
   {
    "duration": 13,
    "start_time": "2022-04-08T11:46:23.296Z"
   },
   {
    "duration": 9,
    "start_time": "2022-04-08T11:46:23.311Z"
   },
   {
    "duration": 39,
    "start_time": "2022-04-08T11:46:23.321Z"
   },
   {
    "duration": 12,
    "start_time": "2022-04-08T11:46:23.361Z"
   },
   {
    "duration": 35,
    "start_time": "2022-04-08T11:46:23.374Z"
   },
   {
    "duration": 18,
    "start_time": "2022-04-08T11:46:23.410Z"
   },
   {
    "duration": 33,
    "start_time": "2022-04-08T11:46:23.429Z"
   },
   {
    "duration": 56,
    "start_time": "2022-04-08T11:46:23.465Z"
   },
   {
    "duration": 49,
    "start_time": "2022-04-08T11:46:23.523Z"
   },
   {
    "duration": 33,
    "start_time": "2022-04-08T11:46:23.573Z"
   },
   {
    "duration": 63,
    "start_time": "2022-04-08T11:46:23.608Z"
   },
   {
    "duration": 22,
    "start_time": "2022-04-08T11:46:23.672Z"
   },
   {
    "duration": 13,
    "start_time": "2022-04-08T11:46:23.695Z"
   },
   {
    "duration": 13,
    "start_time": "2022-04-08T11:46:23.709Z"
   },
   {
    "duration": 43,
    "start_time": "2022-04-08T11:46:23.723Z"
   },
   {
    "duration": 10,
    "start_time": "2022-04-08T11:46:57.220Z"
   },
   {
    "duration": 10,
    "start_time": "2022-04-08T11:47:25.269Z"
   },
   {
    "duration": 680,
    "start_time": "2022-04-08T11:47:32.727Z"
   },
   {
    "duration": 451,
    "start_time": "2022-04-08T11:47:33.409Z"
   },
   {
    "duration": 18,
    "start_time": "2022-04-08T11:47:33.864Z"
   },
   {
    "duration": 20,
    "start_time": "2022-04-08T11:47:33.884Z"
   },
   {
    "duration": 12,
    "start_time": "2022-04-08T11:47:33.906Z"
   },
   {
    "duration": 44,
    "start_time": "2022-04-08T11:47:33.920Z"
   },
   {
    "duration": 25,
    "start_time": "2022-04-08T11:47:33.965Z"
   },
   {
    "duration": 14,
    "start_time": "2022-04-08T11:47:33.992Z"
   },
   {
    "duration": 14,
    "start_time": "2022-04-08T11:47:34.009Z"
   },
   {
    "duration": 15,
    "start_time": "2022-04-08T11:47:34.057Z"
   },
   {
    "duration": 21,
    "start_time": "2022-04-08T11:47:34.074Z"
   },
   {
    "duration": 15,
    "start_time": "2022-04-08T11:47:34.096Z"
   },
   {
    "duration": 37,
    "start_time": "2022-04-08T11:47:34.113Z"
   },
   {
    "duration": 31,
    "start_time": "2022-04-08T11:47:34.152Z"
   },
   {
    "duration": 13,
    "start_time": "2022-04-08T11:47:34.185Z"
   },
   {
    "duration": 65,
    "start_time": "2022-04-08T11:47:34.199Z"
   },
   {
    "duration": 35,
    "start_time": "2022-04-08T11:47:34.266Z"
   },
   {
    "duration": 32,
    "start_time": "2022-04-08T11:47:34.302Z"
   },
   {
    "duration": 62,
    "start_time": "2022-04-08T11:47:34.335Z"
   },
   {
    "duration": 22,
    "start_time": "2022-04-08T11:47:34.398Z"
   },
   {
    "duration": 12,
    "start_time": "2022-04-08T11:47:34.421Z"
   },
   {
    "duration": 38,
    "start_time": "2022-04-08T11:47:34.435Z"
   },
   {
    "duration": 40,
    "start_time": "2022-04-08T11:47:34.474Z"
   },
   {
    "duration": 10,
    "start_time": "2022-04-08T11:47:52.328Z"
   },
   {
    "duration": 652,
    "start_time": "2022-04-08T11:48:11.756Z"
   },
   {
    "duration": 448,
    "start_time": "2022-04-08T11:48:12.410Z"
   },
   {
    "duration": 16,
    "start_time": "2022-04-08T11:48:12.860Z"
   },
   {
    "duration": 20,
    "start_time": "2022-04-08T11:48:12.878Z"
   },
   {
    "duration": 13,
    "start_time": "2022-04-08T11:48:12.899Z"
   },
   {
    "duration": 20,
    "start_time": "2022-04-08T11:48:12.913Z"
   },
   {
    "duration": 42,
    "start_time": "2022-04-08T11:48:12.935Z"
   },
   {
    "duration": 15,
    "start_time": "2022-04-08T11:48:12.979Z"
   },
   {
    "duration": 14,
    "start_time": "2022-04-08T11:48:12.995Z"
   },
   {
    "duration": 17,
    "start_time": "2022-04-08T11:48:13.011Z"
   },
   {
    "duration": 30,
    "start_time": "2022-04-08T11:48:13.030Z"
   },
   {
    "duration": 18,
    "start_time": "2022-04-08T11:48:13.062Z"
   },
   {
    "duration": 39,
    "start_time": "2022-04-08T11:48:13.082Z"
   },
   {
    "duration": 18,
    "start_time": "2022-04-08T11:48:13.123Z"
   },
   {
    "duration": 21,
    "start_time": "2022-04-08T11:48:13.143Z"
   },
   {
    "duration": 54,
    "start_time": "2022-04-08T11:48:13.166Z"
   },
   {
    "duration": 50,
    "start_time": "2022-04-08T11:48:13.222Z"
   },
   {
    "duration": 32,
    "start_time": "2022-04-08T11:48:13.275Z"
   },
   {
    "duration": 56,
    "start_time": "2022-04-08T11:48:13.309Z"
   },
   {
    "duration": 23,
    "start_time": "2022-04-08T11:48:13.367Z"
   },
   {
    "duration": 19,
    "start_time": "2022-04-08T11:48:13.392Z"
   },
   {
    "duration": 39,
    "start_time": "2022-04-08T11:48:13.413Z"
   },
   {
    "duration": 41,
    "start_time": "2022-04-08T11:48:13.457Z"
   },
   {
    "duration": 733,
    "start_time": "2022-04-08T12:26:09.725Z"
   },
   {
    "duration": 448,
    "start_time": "2022-04-08T12:26:10.460Z"
   },
   {
    "duration": 17,
    "start_time": "2022-04-08T12:26:10.910Z"
   },
   {
    "duration": 21,
    "start_time": "2022-04-08T12:26:10.928Z"
   },
   {
    "duration": 16,
    "start_time": "2022-04-08T12:26:10.951Z"
   },
   {
    "duration": 37,
    "start_time": "2022-04-08T12:26:10.968Z"
   },
   {
    "duration": 25,
    "start_time": "2022-04-08T12:26:11.006Z"
   },
   {
    "duration": 16,
    "start_time": "2022-04-08T12:26:11.033Z"
   },
   {
    "duration": 18,
    "start_time": "2022-04-08T12:26:11.058Z"
   },
   {
    "duration": 25,
    "start_time": "2022-04-08T12:26:11.078Z"
   },
   {
    "duration": 28,
    "start_time": "2022-04-08T12:26:11.105Z"
   },
   {
    "duration": 20,
    "start_time": "2022-04-08T12:26:11.135Z"
   },
   {
    "duration": 58,
    "start_time": "2022-04-08T12:26:11.157Z"
   },
   {
    "duration": 21,
    "start_time": "2022-04-08T12:26:11.218Z"
   },
   {
    "duration": 35,
    "start_time": "2022-04-08T12:26:11.241Z"
   },
   {
    "duration": 63,
    "start_time": "2022-04-08T12:26:11.278Z"
   },
   {
    "duration": 35,
    "start_time": "2022-04-08T12:26:11.343Z"
   },
   {
    "duration": 34,
    "start_time": "2022-04-08T12:26:11.380Z"
   },
   {
    "duration": 62,
    "start_time": "2022-04-08T12:26:11.415Z"
   },
   {
    "duration": 27,
    "start_time": "2022-04-08T12:26:11.479Z"
   },
   {
    "duration": 17,
    "start_time": "2022-04-08T12:26:11.507Z"
   },
   {
    "duration": 41,
    "start_time": "2022-04-08T12:26:11.526Z"
   },
   {
    "duration": 15,
    "start_time": "2022-04-08T12:26:11.569Z"
   },
   {
    "duration": 25,
    "start_time": "2022-04-08T12:27:41.502Z"
   },
   {
    "duration": 12,
    "start_time": "2022-04-08T12:27:52.438Z"
   },
   {
    "duration": 25,
    "start_time": "2022-04-08T12:29:52.336Z"
   },
   {
    "duration": 31,
    "start_time": "2022-04-08T12:29:58.841Z"
   },
   {
    "duration": 5,
    "start_time": "2022-04-08T12:31:20.825Z"
   },
   {
    "duration": 637,
    "start_time": "2022-04-08T12:32:22.666Z"
   },
   {
    "duration": 429,
    "start_time": "2022-04-08T12:32:51.868Z"
   },
   {
    "duration": 11,
    "start_time": "2022-04-08T12:34:55.062Z"
   },
   {
    "duration": 15,
    "start_time": "2022-04-08T12:54:32.212Z"
   },
   {
    "duration": 24,
    "start_time": "2022-04-08T12:54:43.109Z"
   },
   {
    "duration": 23,
    "start_time": "2022-04-08T12:55:03.957Z"
   },
   {
    "duration": 7,
    "start_time": "2022-04-08T12:56:50.334Z"
   },
   {
    "duration": 609,
    "start_time": "2022-04-08T13:11:39.101Z"
   },
   {
    "duration": 693,
    "start_time": "2022-04-08T13:11:39.712Z"
   },
   {
    "duration": 16,
    "start_time": "2022-04-08T13:11:40.406Z"
   },
   {
    "duration": 20,
    "start_time": "2022-04-08T13:11:40.424Z"
   },
   {
    "duration": 19,
    "start_time": "2022-04-08T13:11:40.446Z"
   },
   {
    "duration": 19,
    "start_time": "2022-04-08T13:11:40.466Z"
   },
   {
    "duration": 25,
    "start_time": "2022-04-08T13:11:40.486Z"
   },
   {
    "duration": 16,
    "start_time": "2022-04-08T13:11:40.513Z"
   },
   {
    "duration": 16,
    "start_time": "2022-04-08T13:11:40.559Z"
   },
   {
    "duration": 19,
    "start_time": "2022-04-08T13:11:40.577Z"
   },
   {
    "duration": 11,
    "start_time": "2022-04-08T13:11:40.598Z"
   },
   {
    "duration": 14,
    "start_time": "2022-04-08T13:11:40.611Z"
   },
   {
    "duration": 61,
    "start_time": "2022-04-08T13:11:40.627Z"
   },
   {
    "duration": 22,
    "start_time": "2022-04-08T13:11:40.689Z"
   },
   {
    "duration": 15,
    "start_time": "2022-04-08T13:11:40.712Z"
   },
   {
    "duration": 73,
    "start_time": "2022-04-08T13:11:40.729Z"
   },
   {
    "duration": 32,
    "start_time": "2022-04-08T13:11:40.804Z"
   },
   {
    "duration": 49,
    "start_time": "2022-04-08T13:11:40.838Z"
   },
   {
    "duration": 45,
    "start_time": "2022-04-08T13:11:40.888Z"
   },
   {
    "duration": 53,
    "start_time": "2022-04-08T13:11:40.934Z"
   },
   {
    "duration": 25,
    "start_time": "2022-04-08T13:11:40.989Z"
   },
   {
    "duration": 8,
    "start_time": "2022-04-08T13:11:41.016Z"
   },
   {
    "duration": 101,
    "start_time": "2022-04-08T13:11:41.025Z"
   },
   {
    "duration": 661,
    "start_time": "2022-04-08T13:22:26.583Z"
   },
   {
    "duration": 441,
    "start_time": "2022-04-08T13:22:27.247Z"
   },
   {
    "duration": 21,
    "start_time": "2022-04-08T13:22:27.689Z"
   },
   {
    "duration": 20,
    "start_time": "2022-04-08T13:22:27.712Z"
   },
   {
    "duration": 13,
    "start_time": "2022-04-08T13:22:27.734Z"
   },
   {
    "duration": 19,
    "start_time": "2022-04-08T13:22:27.749Z"
   },
   {
    "duration": 22,
    "start_time": "2022-04-08T13:22:27.770Z"
   },
   {
    "duration": 14,
    "start_time": "2022-04-08T13:22:27.794Z"
   },
   {
    "duration": 19,
    "start_time": "2022-04-08T13:22:27.810Z"
   },
   {
    "duration": 30,
    "start_time": "2022-04-08T13:22:27.832Z"
   },
   {
    "duration": 11,
    "start_time": "2022-04-08T13:22:27.864Z"
   },
   {
    "duration": 12,
    "start_time": "2022-04-08T13:22:27.876Z"
   },
   {
    "duration": 35,
    "start_time": "2022-04-08T13:22:27.890Z"
   },
   {
    "duration": 40,
    "start_time": "2022-04-08T13:22:27.927Z"
   },
   {
    "duration": 14,
    "start_time": "2022-04-08T13:22:27.969Z"
   },
   {
    "duration": 53,
    "start_time": "2022-04-08T13:22:27.984Z"
   },
   {
    "duration": 50,
    "start_time": "2022-04-08T13:22:28.039Z"
   },
   {
    "duration": 33,
    "start_time": "2022-04-08T13:22:28.090Z"
   },
   {
    "duration": 69,
    "start_time": "2022-04-08T13:22:28.125Z"
   },
   {
    "duration": 34,
    "start_time": "2022-04-08T13:22:28.196Z"
   },
   {
    "duration": 44,
    "start_time": "2022-04-08T13:22:28.232Z"
   },
   {
    "duration": 8,
    "start_time": "2022-04-08T13:22:28.277Z"
   },
   {
    "duration": 89,
    "start_time": "2022-04-08T13:22:28.286Z"
   },
   {
    "duration": 894,
    "start_time": "2022-04-08T13:23:29.664Z"
   },
   {
    "duration": 702,
    "start_time": "2022-04-08T13:23:30.560Z"
   },
   {
    "duration": 25,
    "start_time": "2022-04-08T13:23:31.265Z"
   },
   {
    "duration": 39,
    "start_time": "2022-04-08T13:23:31.293Z"
   },
   {
    "duration": 39,
    "start_time": "2022-04-08T13:23:31.334Z"
   },
   {
    "duration": 18,
    "start_time": "2022-04-08T13:23:31.375Z"
   },
   {
    "duration": 24,
    "start_time": "2022-04-08T13:23:31.398Z"
   },
   {
    "duration": 42,
    "start_time": "2022-04-08T13:23:31.424Z"
   },
   {
    "duration": 28,
    "start_time": "2022-04-08T13:23:31.468Z"
   },
   {
    "duration": 33,
    "start_time": "2022-04-08T13:23:31.499Z"
   },
   {
    "duration": 27,
    "start_time": "2022-04-08T13:23:31.533Z"
   },
   {
    "duration": 35,
    "start_time": "2022-04-08T13:23:31.562Z"
   },
   {
    "duration": 43,
    "start_time": "2022-04-08T13:23:31.599Z"
   },
   {
    "duration": 24,
    "start_time": "2022-04-08T13:23:31.643Z"
   },
   {
    "duration": 20,
    "start_time": "2022-04-08T13:23:31.669Z"
   },
   {
    "duration": 71,
    "start_time": "2022-04-08T13:23:31.691Z"
   },
   {
    "duration": 35,
    "start_time": "2022-04-08T13:23:31.764Z"
   },
   {
    "duration": 32,
    "start_time": "2022-04-08T13:23:31.801Z"
   },
   {
    "duration": 61,
    "start_time": "2022-04-08T13:23:31.835Z"
   },
   {
    "duration": 39,
    "start_time": "2022-04-08T13:23:31.897Z"
   },
   {
    "duration": 75,
    "start_time": "2022-04-08T13:23:31.958Z"
   },
   {
    "duration": 0,
    "start_time": "2022-04-08T13:23:32.035Z"
   },
   {
    "duration": 0,
    "start_time": "2022-04-08T13:23:32.036Z"
   },
   {
    "duration": 12,
    "start_time": "2022-04-08T13:43:58.342Z"
   },
   {
    "duration": 21,
    "start_time": "2022-04-08T13:44:13.296Z"
   },
   {
    "duration": 51,
    "start_time": "2022-04-08T13:44:22.511Z"
   },
   {
    "duration": 13,
    "start_time": "2022-04-08T13:44:24.816Z"
   },
   {
    "duration": 19,
    "start_time": "2022-04-08T14:03:49.262Z"
   },
   {
    "duration": 53,
    "start_time": "2022-04-08T14:03:55.694Z"
   },
   {
    "duration": 53,
    "start_time": "2022-04-08T14:04:02.927Z"
   },
   {
    "duration": 25,
    "start_time": "2022-04-08T14:14:50.257Z"
   },
   {
    "duration": 8,
    "start_time": "2022-04-08T14:16:45.204Z"
   },
   {
    "duration": 6,
    "start_time": "2022-04-08T14:16:58.900Z"
   },
   {
    "duration": 674,
    "start_time": "2022-04-08T14:17:35.966Z"
   },
   {
    "duration": 574,
    "start_time": "2022-04-08T14:17:36.642Z"
   },
   {
    "duration": 16,
    "start_time": "2022-04-08T14:17:37.221Z"
   },
   {
    "duration": 24,
    "start_time": "2022-04-08T14:17:37.238Z"
   },
   {
    "duration": 19,
    "start_time": "2022-04-08T14:17:37.264Z"
   },
   {
    "duration": 31,
    "start_time": "2022-04-08T14:17:37.286Z"
   },
   {
    "duration": 52,
    "start_time": "2022-04-08T14:17:37.319Z"
   },
   {
    "duration": 27,
    "start_time": "2022-04-08T14:17:37.374Z"
   },
   {
    "duration": 23,
    "start_time": "2022-04-08T14:17:37.405Z"
   },
   {
    "duration": 36,
    "start_time": "2022-04-08T14:17:37.431Z"
   },
   {
    "duration": 14,
    "start_time": "2022-04-08T14:17:37.469Z"
   },
   {
    "duration": 19,
    "start_time": "2022-04-08T14:17:37.485Z"
   },
   {
    "duration": 37,
    "start_time": "2022-04-08T14:17:37.505Z"
   },
   {
    "duration": 29,
    "start_time": "2022-04-08T14:17:37.543Z"
   },
   {
    "duration": 15,
    "start_time": "2022-04-08T14:17:37.574Z"
   },
   {
    "duration": 76,
    "start_time": "2022-04-08T14:17:37.590Z"
   },
   {
    "duration": 37,
    "start_time": "2022-04-08T14:17:37.668Z"
   },
   {
    "duration": 52,
    "start_time": "2022-04-08T14:17:37.706Z"
   },
   {
    "duration": 45,
    "start_time": "2022-04-08T14:17:37.760Z"
   },
   {
    "duration": 31,
    "start_time": "2022-04-08T14:17:37.807Z"
   },
   {
    "duration": 26,
    "start_time": "2022-04-08T14:17:37.857Z"
   },
   {
    "duration": 8,
    "start_time": "2022-04-08T14:17:37.885Z"
   },
   {
    "duration": 76,
    "start_time": "2022-04-08T14:17:37.894Z"
   },
   {
    "duration": 13,
    "start_time": "2022-04-08T14:17:37.972Z"
   },
   {
    "duration": 17,
    "start_time": "2022-04-08T14:17:37.987Z"
   },
   {
    "duration": 28,
    "start_time": "2022-04-08T14:17:38.006Z"
   },
   {
    "duration": 24,
    "start_time": "2022-04-08T14:17:38.039Z"
   },
   {
    "duration": 9,
    "start_time": "2022-04-08T14:17:55.736Z"
   },
   {
    "duration": 6,
    "start_time": "2022-04-08T14:18:01.264Z"
   },
   {
    "duration": 16,
    "start_time": "2022-04-08T14:18:40.906Z"
   },
   {
    "duration": 714,
    "start_time": "2022-04-08T14:29:21.549Z"
   },
   {
    "duration": 434,
    "start_time": "2022-04-08T14:29:22.265Z"
   },
   {
    "duration": 16,
    "start_time": "2022-04-08T14:29:22.700Z"
   },
   {
    "duration": 19,
    "start_time": "2022-04-08T14:29:22.718Z"
   },
   {
    "duration": 12,
    "start_time": "2022-04-08T14:29:22.738Z"
   },
   {
    "duration": 19,
    "start_time": "2022-04-08T14:29:22.758Z"
   },
   {
    "duration": 21,
    "start_time": "2022-04-08T14:29:22.779Z"
   },
   {
    "duration": 14,
    "start_time": "2022-04-08T14:29:22.802Z"
   },
   {
    "duration": 14,
    "start_time": "2022-04-08T14:29:22.817Z"
   },
   {
    "duration": 11,
    "start_time": "2022-04-08T14:29:22.858Z"
   },
   {
    "duration": 11,
    "start_time": "2022-04-08T14:29:22.870Z"
   },
   {
    "duration": 11,
    "start_time": "2022-04-08T14:29:22.883Z"
   },
   {
    "duration": 35,
    "start_time": "2022-04-08T14:29:22.896Z"
   },
   {
    "duration": 40,
    "start_time": "2022-04-08T14:29:22.933Z"
   },
   {
    "duration": 16,
    "start_time": "2022-04-08T14:29:22.975Z"
   },
   {
    "duration": 68,
    "start_time": "2022-04-08T14:29:22.993Z"
   },
   {
    "duration": 35,
    "start_time": "2022-04-08T14:29:23.062Z"
   },
   {
    "duration": 33,
    "start_time": "2022-04-08T14:29:23.099Z"
   },
   {
    "duration": 87,
    "start_time": "2022-04-08T14:29:23.157Z"
   },
   {
    "duration": 42,
    "start_time": "2022-04-08T14:29:23.247Z"
   },
   {
    "duration": 24,
    "start_time": "2022-04-08T14:29:23.290Z"
   },
   {
    "duration": 8,
    "start_time": "2022-04-08T14:29:23.316Z"
   },
   {
    "duration": 80,
    "start_time": "2022-04-08T14:29:23.326Z"
   },
   {
    "duration": 18,
    "start_time": "2022-04-08T14:29:23.408Z"
   },
   {
    "duration": 30,
    "start_time": "2022-04-08T14:29:23.428Z"
   },
   {
    "duration": 27,
    "start_time": "2022-04-08T14:29:23.459Z"
   },
   {
    "duration": 7,
    "start_time": "2022-04-08T14:29:23.489Z"
   },
   {
    "duration": 35,
    "start_time": "2022-04-08T14:35:45.166Z"
   },
   {
    "duration": 7,
    "start_time": "2022-04-08T14:40:07.978Z"
   },
   {
    "duration": 6,
    "start_time": "2022-04-08T14:40:13.186Z"
   },
   {
    "duration": 7,
    "start_time": "2022-04-08T14:40:17.954Z"
   },
   {
    "duration": 4,
    "start_time": "2022-04-08T14:41:31.436Z"
   },
   {
    "duration": 12,
    "start_time": "2022-04-08T14:48:38.270Z"
   },
   {
    "duration": 702,
    "start_time": "2022-04-08T14:49:01.518Z"
   },
   {
    "duration": 462,
    "start_time": "2022-04-08T14:49:02.224Z"
   },
   {
    "duration": 17,
    "start_time": "2022-04-08T14:49:02.687Z"
   },
   {
    "duration": 18,
    "start_time": "2022-04-08T14:49:02.705Z"
   },
   {
    "duration": 11,
    "start_time": "2022-04-08T14:49:02.726Z"
   },
   {
    "duration": 20,
    "start_time": "2022-04-08T14:49:02.738Z"
   },
   {
    "duration": 22,
    "start_time": "2022-04-08T14:49:02.760Z"
   },
   {
    "duration": 16,
    "start_time": "2022-04-08T14:49:02.784Z"
   },
   {
    "duration": 14,
    "start_time": "2022-04-08T14:49:02.802Z"
   },
   {
    "duration": 19,
    "start_time": "2022-04-08T14:49:02.818Z"
   },
   {
    "duration": 10,
    "start_time": "2022-04-08T14:49:02.858Z"
   },
   {
    "duration": 11,
    "start_time": "2022-04-08T14:49:02.870Z"
   },
   {
    "duration": 41,
    "start_time": "2022-04-08T14:49:02.883Z"
   },
   {
    "duration": 31,
    "start_time": "2022-04-08T14:49:02.927Z"
   },
   {
    "duration": 13,
    "start_time": "2022-04-08T14:49:02.960Z"
   },
   {
    "duration": 55,
    "start_time": "2022-04-08T14:49:02.975Z"
   },
   {
    "duration": 52,
    "start_time": "2022-04-08T14:49:03.032Z"
   },
   {
    "duration": 32,
    "start_time": "2022-04-08T14:49:03.086Z"
   },
   {
    "duration": 64,
    "start_time": "2022-04-08T14:49:03.120Z"
   },
   {
    "duration": 36,
    "start_time": "2022-04-08T14:49:03.186Z"
   },
   {
    "duration": 44,
    "start_time": "2022-04-08T14:49:03.224Z"
   },
   {
    "duration": 8,
    "start_time": "2022-04-08T14:49:03.269Z"
   },
   {
    "duration": 51,
    "start_time": "2022-04-08T14:49:03.279Z"
   },
   {
    "duration": 37,
    "start_time": "2022-04-08T14:49:03.331Z"
   },
   {
    "duration": 8,
    "start_time": "2022-04-08T14:49:03.371Z"
   },
   {
    "duration": 32,
    "start_time": "2022-04-08T14:49:03.380Z"
   },
   {
    "duration": 6,
    "start_time": "2022-04-08T14:49:03.413Z"
   },
   {
    "duration": 6,
    "start_time": "2022-04-08T14:49:03.421Z"
   },
   {
    "duration": 13,
    "start_time": "2022-04-08T14:49:03.458Z"
   },
   {
    "duration": 85,
    "start_time": "2022-04-10T12:04:47.174Z"
   },
   {
    "duration": 1239,
    "start_time": "2022-04-10T12:05:02.940Z"
   },
   {
    "duration": 624,
    "start_time": "2022-04-10T12:05:04.184Z"
   },
   {
    "duration": 24,
    "start_time": "2022-04-10T12:05:04.811Z"
   },
   {
    "duration": 30,
    "start_time": "2022-04-10T12:05:04.837Z"
   },
   {
    "duration": 40,
    "start_time": "2022-04-10T12:05:04.870Z"
   },
   {
    "duration": 34,
    "start_time": "2022-04-10T12:05:04.913Z"
   },
   {
    "duration": 55,
    "start_time": "2022-04-10T12:05:04.950Z"
   },
   {
    "duration": 22,
    "start_time": "2022-04-10T12:05:05.007Z"
   },
   {
    "duration": 58,
    "start_time": "2022-04-10T12:05:05.031Z"
   },
   {
    "duration": 17,
    "start_time": "2022-04-10T12:05:05.093Z"
   },
   {
    "duration": 31,
    "start_time": "2022-04-10T12:05:05.112Z"
   },
   {
    "duration": 29,
    "start_time": "2022-04-10T12:05:05.145Z"
   },
   {
    "duration": 62,
    "start_time": "2022-04-10T12:05:05.177Z"
   },
   {
    "duration": 28,
    "start_time": "2022-04-10T12:05:05.241Z"
   },
   {
    "duration": 33,
    "start_time": "2022-04-10T12:05:05.283Z"
   },
   {
    "duration": 70,
    "start_time": "2022-04-10T12:05:05.319Z"
   },
   {
    "duration": 43,
    "start_time": "2022-04-10T12:05:05.392Z"
   },
   {
    "duration": 68,
    "start_time": "2022-04-10T12:05:05.437Z"
   },
   {
    "duration": 76,
    "start_time": "2022-04-10T12:05:05.508Z"
   },
   {
    "duration": 59,
    "start_time": "2022-04-10T12:05:05.593Z"
   },
   {
    "duration": 57,
    "start_time": "2022-04-10T12:05:05.655Z"
   },
   {
    "duration": 11,
    "start_time": "2022-04-10T12:05:05.714Z"
   },
   {
    "duration": 125,
    "start_time": "2022-04-10T12:05:05.728Z"
   },
   {
    "duration": 42,
    "start_time": "2022-04-10T12:05:05.855Z"
   },
   {
    "duration": 14,
    "start_time": "2022-04-10T12:05:05.901Z"
   },
   {
    "duration": 48,
    "start_time": "2022-04-10T12:05:05.918Z"
   },
   {
    "duration": 23,
    "start_time": "2022-04-10T12:05:05.968Z"
   },
   {
    "duration": 29,
    "start_time": "2022-04-10T12:05:05.997Z"
   },
   {
    "duration": 48,
    "start_time": "2022-04-10T12:05:06.030Z"
   },
   {
    "duration": 33,
    "start_time": "2022-04-10T12:05:06.080Z"
   },
   {
    "duration": 706,
    "start_time": "2022-04-10T12:10:15.113Z"
   },
   {
    "duration": 374,
    "start_time": "2022-04-10T12:11:57.307Z"
   },
   {
    "duration": 347,
    "start_time": "2022-04-10T12:12:04.250Z"
   },
   {
    "duration": 151,
    "start_time": "2022-04-10T12:18:28.819Z"
   },
   {
    "duration": 17,
    "start_time": "2022-04-10T12:20:53.629Z"
   },
   {
    "duration": 350,
    "start_time": "2022-04-10T12:23:11.194Z"
   },
   {
    "duration": 342,
    "start_time": "2022-04-10T12:23:45.538Z"
   },
   {
    "duration": 337,
    "start_time": "2022-04-10T12:24:15.457Z"
   },
   {
    "duration": 7,
    "start_time": "2022-04-10T12:25:23.748Z"
   },
   {
    "duration": 8,
    "start_time": "2022-04-10T12:25:27.796Z"
   },
   {
    "duration": 7,
    "start_time": "2022-04-10T12:25:35.379Z"
   },
   {
    "duration": 9,
    "start_time": "2022-04-10T12:25:38.643Z"
   },
   {
    "duration": 8,
    "start_time": "2022-04-10T12:25:42.771Z"
   },
   {
    "duration": 6,
    "start_time": "2022-04-10T12:25:46.252Z"
   },
   {
    "duration": 8,
    "start_time": "2022-04-10T12:36:51.753Z"
   },
   {
    "duration": 286,
    "start_time": "2022-04-10T12:43:01.640Z"
   },
   {
    "duration": 327,
    "start_time": "2022-04-10T12:43:13.216Z"
   },
   {
    "duration": 395,
    "start_time": "2022-04-10T12:43:17.656Z"
   },
   {
    "duration": 7,
    "start_time": "2022-04-10T12:49:07.497Z"
   },
   {
    "duration": 18,
    "start_time": "2022-04-10T13:06:28.884Z"
   },
   {
    "duration": 12,
    "start_time": "2022-04-10T13:06:47.340Z"
   },
   {
    "duration": 39,
    "start_time": "2022-04-10T13:06:52.812Z"
   },
   {
    "duration": 417,
    "start_time": "2022-04-10T13:07:37.565Z"
   },
   {
    "duration": 11,
    "start_time": "2022-04-10T13:08:32.262Z"
   },
   {
    "duration": 5,
    "start_time": "2022-04-10T13:09:24.639Z"
   },
   {
    "duration": 147,
    "start_time": "2022-04-10T13:09:58.679Z"
   },
   {
    "duration": 9,
    "start_time": "2022-04-10T13:13:11.267Z"
   },
   {
    "duration": 10,
    "start_time": "2022-04-10T13:13:27.650Z"
   },
   {
    "duration": 10,
    "start_time": "2022-04-10T13:14:15.404Z"
   },
   {
    "duration": 10,
    "start_time": "2022-04-10T13:14:19.998Z"
   },
   {
    "duration": 10,
    "start_time": "2022-04-10T13:14:24.764Z"
   },
   {
    "duration": 6,
    "start_time": "2022-04-10T13:15:03.445Z"
   },
   {
    "duration": 7,
    "start_time": "2022-04-10T13:38:03.744Z"
   },
   {
    "duration": 287,
    "start_time": "2022-04-10T13:38:12.055Z"
   },
   {
    "duration": 305,
    "start_time": "2022-04-10T13:38:32.240Z"
   },
   {
    "duration": 309,
    "start_time": "2022-04-10T13:38:35.833Z"
   },
   {
    "duration": 312,
    "start_time": "2022-04-10T13:38:39.616Z"
   },
   {
    "duration": 16,
    "start_time": "2022-04-10T13:41:31.948Z"
   },
   {
    "duration": 16,
    "start_time": "2022-04-10T13:41:39.563Z"
   },
   {
    "duration": 7,
    "start_time": "2022-04-10T13:42:58.526Z"
   },
   {
    "duration": 286,
    "start_time": "2022-04-10T13:43:24.639Z"
   },
   {
    "duration": 15,
    "start_time": "2022-04-10T13:45:14.633Z"
   },
   {
    "duration": 19,
    "start_time": "2022-04-10T13:45:18.681Z"
   },
   {
    "duration": 16,
    "start_time": "2022-04-10T13:45:43.449Z"
   },
   {
    "duration": 14,
    "start_time": "2022-04-10T13:45:51.730Z"
   },
   {
    "duration": 129,
    "start_time": "2022-04-10T13:46:49.954Z"
   },
   {
    "duration": 8,
    "start_time": "2022-04-10T14:06:31.145Z"
   },
   {
    "duration": 272,
    "start_time": "2022-04-10T14:06:42.097Z"
   },
   {
    "duration": 271,
    "start_time": "2022-04-10T14:06:49.929Z"
   },
   {
    "duration": 264,
    "start_time": "2022-04-10T14:06:58.008Z"
   },
   {
    "duration": 261,
    "start_time": "2022-04-10T14:07:24.314Z"
   },
   {
    "duration": 503,
    "start_time": "2022-04-10T14:07:31.091Z"
   },
   {
    "duration": 264,
    "start_time": "2022-04-10T14:07:36.602Z"
   },
   {
    "duration": 16,
    "start_time": "2022-04-10T15:09:11.130Z"
   },
   {
    "duration": 16,
    "start_time": "2022-04-10T15:09:30.961Z"
   },
   {
    "duration": 143,
    "start_time": "2022-04-10T15:11:26.883Z"
   },
   {
    "duration": 15,
    "start_time": "2022-04-10T15:11:43.836Z"
   },
   {
    "duration": 12,
    "start_time": "2022-04-10T15:12:10.973Z"
   },
   {
    "duration": 14,
    "start_time": "2022-04-10T15:12:16.028Z"
   },
   {
    "duration": 257,
    "start_time": "2022-04-10T15:14:43.649Z"
   },
   {
    "duration": 13,
    "start_time": "2022-04-10T15:16:14.394Z"
   },
   {
    "duration": 4,
    "start_time": "2022-04-10T15:16:31.010Z"
   },
   {
    "duration": 9,
    "start_time": "2022-04-10T15:16:42.202Z"
   },
   {
    "duration": 121,
    "start_time": "2022-04-10T15:17:12.362Z"
   },
   {
    "duration": 7,
    "start_time": "2022-04-10T15:18:32.732Z"
   },
   {
    "duration": 7,
    "start_time": "2022-04-10T15:18:38.948Z"
   },
   {
    "duration": 13,
    "start_time": "2022-04-10T15:19:16.407Z"
   },
   {
    "duration": 19,
    "start_time": "2022-04-10T15:19:27.381Z"
   },
   {
    "duration": 8,
    "start_time": "2022-04-10T15:19:47.997Z"
   },
   {
    "duration": 8,
    "start_time": "2022-04-10T15:20:00.190Z"
   },
   {
    "duration": 12,
    "start_time": "2022-04-10T15:20:05.326Z"
   },
   {
    "duration": 39,
    "start_time": "2022-04-10T15:20:51.543Z"
   },
   {
    "duration": 41,
    "start_time": "2022-04-10T15:21:05.255Z"
   },
   {
    "duration": 9,
    "start_time": "2022-04-10T15:26:35.378Z"
   },
   {
    "duration": 7,
    "start_time": "2022-04-10T15:27:09.272Z"
   },
   {
    "duration": 394,
    "start_time": "2022-04-10T15:35:07.421Z"
   },
   {
    "duration": 436,
    "start_time": "2022-04-10T15:35:59.291Z"
   },
   {
    "duration": 423,
    "start_time": "2022-04-10T15:36:04.930Z"
   },
   {
    "duration": 388,
    "start_time": "2022-04-10T15:36:58.292Z"
   },
   {
    "duration": 363,
    "start_time": "2022-04-10T15:37:27.660Z"
   },
   {
    "duration": 446,
    "start_time": "2022-04-10T15:38:03.334Z"
   },
   {
    "duration": 1419,
    "start_time": "2022-04-20T16:07:29.312Z"
   },
   {
    "duration": 485,
    "start_time": "2022-04-20T16:07:30.733Z"
   },
   {
    "duration": 17,
    "start_time": "2022-04-20T16:07:31.219Z"
   },
   {
    "duration": 30,
    "start_time": "2022-04-20T16:07:31.237Z"
   },
   {
    "duration": 12,
    "start_time": "2022-04-20T16:07:31.269Z"
   },
   {
    "duration": 20,
    "start_time": "2022-04-20T16:07:31.283Z"
   },
   {
    "duration": 40,
    "start_time": "2022-04-20T16:07:31.305Z"
   },
   {
    "duration": 16,
    "start_time": "2022-04-20T16:07:31.347Z"
   },
   {
    "duration": 15,
    "start_time": "2022-04-20T16:07:31.364Z"
   },
   {
    "duration": 12,
    "start_time": "2022-04-20T16:07:31.380Z"
   },
   {
    "duration": 38,
    "start_time": "2022-04-20T16:07:31.393Z"
   },
   {
    "duration": 13,
    "start_time": "2022-04-20T16:07:31.433Z"
   },
   {
    "duration": 42,
    "start_time": "2022-04-20T16:07:31.447Z"
   },
   {
    "duration": 36,
    "start_time": "2022-04-20T16:07:31.492Z"
   },
   {
    "duration": 13,
    "start_time": "2022-04-20T16:07:31.530Z"
   },
   {
    "duration": 51,
    "start_time": "2022-04-20T16:07:31.545Z"
   },
   {
    "duration": 52,
    "start_time": "2022-04-20T16:07:31.598Z"
   },
   {
    "duration": 31,
    "start_time": "2022-04-20T16:07:31.651Z"
   },
   {
    "duration": 64,
    "start_time": "2022-04-20T16:07:31.683Z"
   },
   {
    "duration": 34,
    "start_time": "2022-04-20T16:07:31.749Z"
   },
   {
    "duration": 39,
    "start_time": "2022-04-20T16:07:31.784Z"
   },
   {
    "duration": 8,
    "start_time": "2022-04-20T16:07:31.825Z"
   },
   {
    "duration": 57,
    "start_time": "2022-04-20T16:07:31.835Z"
   },
   {
    "duration": 37,
    "start_time": "2022-04-20T16:07:31.894Z"
   },
   {
    "duration": 8,
    "start_time": "2022-04-20T16:07:31.933Z"
   },
   {
    "duration": 26,
    "start_time": "2022-04-20T16:07:31.943Z"
   },
   {
    "duration": 7,
    "start_time": "2022-04-20T16:07:31.971Z"
   },
   {
    "duration": 6,
    "start_time": "2022-04-20T16:07:31.979Z"
   },
   {
    "duration": 46,
    "start_time": "2022-04-20T16:07:31.986Z"
   },
   {
    "duration": 5,
    "start_time": "2022-04-20T16:07:32.034Z"
   },
   {
    "duration": 207,
    "start_time": "2022-04-20T16:07:32.040Z"
   },
   {
    "duration": 195,
    "start_time": "2022-04-20T16:07:32.249Z"
   },
   {
    "duration": 4,
    "start_time": "2022-04-20T16:07:32.446Z"
   },
   {
    "duration": 6,
    "start_time": "2022-04-20T16:07:32.452Z"
   },
   {
    "duration": 168,
    "start_time": "2022-04-20T16:07:32.459Z"
   },
   {
    "duration": 4,
    "start_time": "2022-04-20T16:07:32.629Z"
   },
   {
    "duration": 10,
    "start_time": "2022-04-20T16:07:32.635Z"
   },
   {
    "duration": 25,
    "start_time": "2022-04-20T16:07:32.647Z"
   },
   {
    "duration": 7,
    "start_time": "2022-04-20T16:07:32.674Z"
   },
   {
    "duration": 6,
    "start_time": "2022-04-20T16:07:32.682Z"
   },
   {
    "duration": 6,
    "start_time": "2022-04-20T16:07:32.725Z"
   },
   {
    "duration": 6,
    "start_time": "2022-04-20T16:07:32.732Z"
   },
   {
    "duration": 5,
    "start_time": "2022-04-20T16:07:32.740Z"
   },
   {
    "duration": 188,
    "start_time": "2022-04-20T16:07:32.747Z"
   },
   {
    "duration": 10,
    "start_time": "2022-04-20T16:07:32.937Z"
   },
   {
    "duration": 7,
    "start_time": "2022-04-20T16:07:32.949Z"
   },
   {
    "duration": 180,
    "start_time": "2022-04-20T16:07:32.957Z"
   },
   {
    "duration": 9,
    "start_time": "2022-04-20T16:07:33.139Z"
   },
   {
    "duration": 12,
    "start_time": "2022-04-20T16:07:33.149Z"
   },
   {
    "duration": 4,
    "start_time": "2022-04-20T16:07:33.163Z"
   },
   {
    "duration": 177,
    "start_time": "2022-04-20T16:07:33.169Z"
   },
   {
    "duration": 10,
    "start_time": "2022-04-20T16:07:33.347Z"
   },
   {
    "duration": 8,
    "start_time": "2022-04-20T16:07:33.359Z"
   },
   {
    "duration": 316,
    "start_time": "2022-04-20T16:07:33.369Z"
   },
   {
    "duration": 218,
    "start_time": "2022-04-20T16:07:33.686Z"
   },
   {
    "duration": 184,
    "start_time": "2022-04-20T16:07:33.906Z"
   },
   {
    "duration": 5,
    "start_time": "2022-04-20T16:07:34.091Z"
   },
   {
    "duration": 35,
    "start_time": "2022-04-20T16:07:34.098Z"
   },
   {
    "duration": 23,
    "start_time": "2022-04-20T16:07:34.135Z"
   },
   {
    "duration": 6,
    "start_time": "2022-04-20T16:07:34.160Z"
   },
   {
    "duration": 5,
    "start_time": "2022-04-20T16:07:34.167Z"
   },
   {
    "duration": 4,
    "start_time": "2022-04-20T16:21:56.119Z"
   },
   {
    "duration": 69,
    "start_time": "2022-05-08T15:17:51.903Z"
   },
   {
    "duration": 2216,
    "start_time": "2022-05-08T15:18:05.414Z"
   },
   {
    "duration": 699,
    "start_time": "2022-05-08T15:18:07.634Z"
   },
   {
    "duration": 25,
    "start_time": "2022-05-08T15:18:08.335Z"
   },
   {
    "duration": 26,
    "start_time": "2022-05-08T15:18:08.362Z"
   },
   {
    "duration": 26,
    "start_time": "2022-05-08T15:18:08.391Z"
   },
   {
    "duration": 24,
    "start_time": "2022-05-08T15:18:08.419Z"
   },
   {
    "duration": 62,
    "start_time": "2022-05-08T15:18:08.445Z"
   },
   {
    "duration": 30,
    "start_time": "2022-05-08T15:18:08.510Z"
   },
   {
    "duration": 50,
    "start_time": "2022-05-08T15:18:08.543Z"
   },
   {
    "duration": 20,
    "start_time": "2022-05-08T15:18:08.596Z"
   },
   {
    "duration": 14,
    "start_time": "2022-05-08T15:18:08.619Z"
   },
   {
    "duration": 17,
    "start_time": "2022-05-08T15:18:08.636Z"
   },
   {
    "duration": 94,
    "start_time": "2022-05-08T15:18:08.655Z"
   },
   {
    "duration": 49,
    "start_time": "2022-05-08T15:18:08.753Z"
   },
   {
    "duration": 442,
    "start_time": "2022-05-08T15:18:08.805Z"
   },
   {
    "duration": 21,
    "start_time": "2022-05-08T15:18:09.250Z"
   },
   {
    "duration": 105,
    "start_time": "2022-05-08T15:18:09.274Z"
   },
   {
    "duration": 59,
    "start_time": "2022-05-08T15:18:09.393Z"
   },
   {
    "duration": 79,
    "start_time": "2022-05-08T15:18:09.455Z"
   },
   {
    "duration": 74,
    "start_time": "2022-05-08T15:18:09.536Z"
   },
   {
    "duration": 55,
    "start_time": "2022-05-08T15:18:09.613Z"
   },
   {
    "duration": 69,
    "start_time": "2022-05-08T15:18:09.670Z"
   },
   {
    "duration": 12,
    "start_time": "2022-05-08T15:18:09.741Z"
   },
   {
    "duration": 158,
    "start_time": "2022-05-08T15:18:09.755Z"
   },
   {
    "duration": 27,
    "start_time": "2022-05-08T15:18:09.916Z"
   },
   {
    "duration": 8,
    "start_time": "2022-05-08T15:18:09.946Z"
   },
   {
    "duration": 48,
    "start_time": "2022-05-08T15:18:09.956Z"
   },
   {
    "duration": 46,
    "start_time": "2022-05-08T15:18:10.006Z"
   },
   {
    "duration": 10,
    "start_time": "2022-05-08T15:18:10.054Z"
   },
   {
    "duration": 28,
    "start_time": "2022-05-08T15:18:10.067Z"
   },
   {
    "duration": 32,
    "start_time": "2022-05-08T15:18:10.098Z"
   },
   {
    "duration": 12,
    "start_time": "2022-05-08T15:18:10.133Z"
   },
   {
    "duration": 405,
    "start_time": "2022-05-08T15:18:10.149Z"
   },
   {
    "duration": 360,
    "start_time": "2022-05-08T15:18:10.556Z"
   },
   {
    "duration": 8,
    "start_time": "2022-05-08T15:18:10.919Z"
   },
   {
    "duration": 18,
    "start_time": "2022-05-08T15:18:10.930Z"
   },
   {
    "duration": 297,
    "start_time": "2022-05-08T15:18:10.951Z"
   },
   {
    "duration": 6,
    "start_time": "2022-05-08T15:18:11.251Z"
   },
   {
    "duration": 41,
    "start_time": "2022-05-08T15:18:11.259Z"
   },
   {
    "duration": 62,
    "start_time": "2022-05-08T15:18:11.303Z"
   },
   {
    "duration": 11,
    "start_time": "2022-05-08T15:18:11.371Z"
   },
   {
    "duration": 18,
    "start_time": "2022-05-08T15:18:11.384Z"
   },
   {
    "duration": 12,
    "start_time": "2022-05-08T15:18:11.404Z"
   },
   {
    "duration": 17,
    "start_time": "2022-05-08T15:18:11.419Z"
   },
   {
    "duration": 12,
    "start_time": "2022-05-08T15:18:11.439Z"
   },
   {
    "duration": 309,
    "start_time": "2022-05-08T15:18:11.453Z"
   },
   {
    "duration": 28,
    "start_time": "2022-05-08T15:18:11.766Z"
   },
   {
    "duration": 9,
    "start_time": "2022-05-08T15:18:11.796Z"
   },
   {
    "duration": 301,
    "start_time": "2022-05-08T15:18:11.807Z"
   },
   {
    "duration": 15,
    "start_time": "2022-05-08T15:18:12.111Z"
   },
   {
    "duration": 19,
    "start_time": "2022-05-08T15:18:12.129Z"
   },
   {
    "duration": 54,
    "start_time": "2022-05-08T15:18:12.151Z"
   },
   {
    "duration": 271,
    "start_time": "2022-05-08T15:18:12.207Z"
   },
   {
    "duration": 37,
    "start_time": "2022-05-08T15:18:12.482Z"
   },
   {
    "duration": 26,
    "start_time": "2022-05-08T15:18:12.522Z"
   },
   {
    "duration": 710,
    "start_time": "2022-05-08T15:18:12.551Z"
   },
   {
    "duration": 567,
    "start_time": "2022-05-08T15:18:13.264Z"
   },
   {
    "duration": 498,
    "start_time": "2022-05-08T15:18:13.834Z"
   },
   {
    "duration": 9,
    "start_time": "2022-05-08T15:18:14.335Z"
   },
   {
    "duration": 63,
    "start_time": "2022-05-08T15:18:14.347Z"
   },
   {
    "duration": 44,
    "start_time": "2022-05-08T15:18:14.413Z"
   },
   {
    "duration": 9,
    "start_time": "2022-05-08T15:18:14.459Z"
   },
   {
    "duration": 28,
    "start_time": "2022-05-08T15:18:14.470Z"
   },
   {
    "duration": 430,
    "start_time": "2022-05-08T15:19:41.637Z"
   },
   {
    "duration": 280,
    "start_time": "2022-05-08T15:19:49.543Z"
   },
   {
    "duration": 279,
    "start_time": "2022-05-08T15:20:11.008Z"
   },
   {
    "duration": 416,
    "start_time": "2022-05-08T15:21:50.216Z"
   },
   {
    "duration": 574,
    "start_time": "2022-05-08T15:22:00.147Z"
   },
   {
    "duration": 676,
    "start_time": "2022-05-08T15:22:21.570Z"
   },
   {
    "duration": 569,
    "start_time": "2022-05-08T15:22:55.146Z"
   },
   {
    "duration": 945,
    "start_time": "2022-05-08T15:23:15.763Z"
   },
   {
    "duration": 687,
    "start_time": "2022-05-08T15:24:31.621Z"
   },
   {
    "duration": 595,
    "start_time": "2022-05-08T15:25:17.430Z"
   },
   {
    "duration": 25,
    "start_time": "2022-05-08T15:25:46.542Z"
   },
   {
    "duration": 1713,
    "start_time": "2022-05-08T15:25:56.580Z"
   },
   {
    "duration": 618,
    "start_time": "2022-05-08T15:25:58.296Z"
   },
   {
    "duration": 25,
    "start_time": "2022-05-08T15:25:58.916Z"
   },
   {
    "duration": 30,
    "start_time": "2022-05-08T15:25:58.946Z"
   },
   {
    "duration": 20,
    "start_time": "2022-05-08T15:25:58.992Z"
   },
   {
    "duration": 29,
    "start_time": "2022-05-08T15:25:59.015Z"
   },
   {
    "duration": 74,
    "start_time": "2022-05-08T15:25:59.046Z"
   },
   {
    "duration": 23,
    "start_time": "2022-05-08T15:25:59.123Z"
   },
   {
    "duration": 23,
    "start_time": "2022-05-08T15:25:59.149Z"
   },
   {
    "duration": 16,
    "start_time": "2022-05-08T15:25:59.196Z"
   },
   {
    "duration": 20,
    "start_time": "2022-05-08T15:25:59.214Z"
   },
   {
    "duration": 22,
    "start_time": "2022-05-08T15:25:59.236Z"
   },
   {
    "duration": 77,
    "start_time": "2022-05-08T15:25:59.260Z"
   },
   {
    "duration": 29,
    "start_time": "2022-05-08T15:25:59.339Z"
   },
   {
    "duration": 749,
    "start_time": "2022-05-08T15:25:59.393Z"
   },
   {
    "duration": 17,
    "start_time": "2022-05-08T15:26:00.144Z"
   },
   {
    "duration": 41,
    "start_time": "2022-05-08T15:26:00.163Z"
   },
   {
    "duration": 94,
    "start_time": "2022-05-08T15:26:00.207Z"
   },
   {
    "duration": 49,
    "start_time": "2022-05-08T15:26:00.303Z"
   },
   {
    "duration": 72,
    "start_time": "2022-05-08T15:26:00.354Z"
   },
   {
    "duration": 83,
    "start_time": "2022-05-08T15:26:00.430Z"
   },
   {
    "duration": 56,
    "start_time": "2022-05-08T15:26:00.516Z"
   },
   {
    "duration": 44,
    "start_time": "2022-05-08T15:26:00.593Z"
   },
   {
    "duration": 39,
    "start_time": "2022-05-08T15:26:00.640Z"
   },
   {
    "duration": 103,
    "start_time": "2022-05-08T15:26:00.682Z"
   },
   {
    "duration": 27,
    "start_time": "2022-05-08T15:26:00.787Z"
   },
   {
    "duration": 6,
    "start_time": "2022-05-08T15:26:00.817Z"
   },
   {
    "duration": 17,
    "start_time": "2022-05-08T15:26:00.829Z"
   },
   {
    "duration": 95,
    "start_time": "2022-05-08T15:26:00.850Z"
   },
   {
    "duration": 10,
    "start_time": "2022-05-08T15:26:00.947Z"
   },
   {
    "duration": 16,
    "start_time": "2022-05-08T15:26:00.960Z"
   },
   {
    "duration": 33,
    "start_time": "2022-05-08T15:26:00.978Z"
   },
   {
    "duration": 16,
    "start_time": "2022-05-08T15:26:01.014Z"
   },
   {
    "duration": 415,
    "start_time": "2022-05-08T15:26:01.032Z"
   },
   {
    "duration": 383,
    "start_time": "2022-05-08T15:26:01.450Z"
   },
   {
    "duration": 10,
    "start_time": "2022-05-08T15:26:01.835Z"
   },
   {
    "duration": 39,
    "start_time": "2022-05-08T15:26:01.847Z"
   },
   {
    "duration": 322,
    "start_time": "2022-05-08T15:26:01.888Z"
   },
   {
    "duration": 8,
    "start_time": "2022-05-08T15:26:02.213Z"
   },
   {
    "duration": 22,
    "start_time": "2022-05-08T15:26:02.223Z"
   },
   {
    "duration": 56,
    "start_time": "2022-05-08T15:26:02.247Z"
   },
   {
    "duration": 12,
    "start_time": "2022-05-08T15:26:02.306Z"
   },
   {
    "duration": 18,
    "start_time": "2022-05-08T15:26:02.321Z"
   },
   {
    "duration": 12,
    "start_time": "2022-05-08T15:26:02.341Z"
   },
   {
    "duration": 40,
    "start_time": "2022-05-08T15:26:02.355Z"
   },
   {
    "duration": 36,
    "start_time": "2022-05-08T15:26:02.398Z"
   },
   {
    "duration": 354,
    "start_time": "2022-05-08T15:26:02.437Z"
   },
   {
    "duration": 17,
    "start_time": "2022-05-08T15:26:02.794Z"
   },
   {
    "duration": 18,
    "start_time": "2022-05-08T15:26:02.813Z"
   },
   {
    "duration": 303,
    "start_time": "2022-05-08T15:26:02.833Z"
   },
   {
    "duration": 14,
    "start_time": "2022-05-08T15:26:03.139Z"
   },
   {
    "duration": 40,
    "start_time": "2022-05-08T15:26:03.155Z"
   },
   {
    "duration": 8,
    "start_time": "2022-05-08T15:26:03.199Z"
   },
   {
    "duration": 386,
    "start_time": "2022-05-08T15:26:03.210Z"
   },
   {
    "duration": 17,
    "start_time": "2022-05-08T15:26:03.603Z"
   },
   {
    "duration": 17,
    "start_time": "2022-05-08T15:26:03.623Z"
   },
   {
    "duration": 643,
    "start_time": "2022-05-08T15:26:03.643Z"
   },
   {
    "duration": 486,
    "start_time": "2022-05-08T15:26:04.289Z"
   },
   {
    "duration": 421,
    "start_time": "2022-05-08T15:26:04.777Z"
   },
   {
    "duration": 8,
    "start_time": "2022-05-08T15:26:05.201Z"
   },
   {
    "duration": 46,
    "start_time": "2022-05-08T15:26:05.212Z"
   },
   {
    "duration": 72,
    "start_time": "2022-05-08T15:26:05.260Z"
   },
   {
    "duration": 10,
    "start_time": "2022-05-08T15:26:05.335Z"
   },
   {
    "duration": 8,
    "start_time": "2022-05-08T15:26:05.347Z"
   },
   {
    "duration": 289,
    "start_time": "2022-05-08T15:27:17.884Z"
   },
   {
    "duration": 513,
    "start_time": "2022-05-08T15:29:48.959Z"
   },
   {
    "duration": 1820,
    "start_time": "2022-05-08T15:30:28.005Z"
   },
   {
    "duration": 777,
    "start_time": "2022-05-08T15:30:29.828Z"
   },
   {
    "duration": 24,
    "start_time": "2022-05-08T15:30:30.607Z"
   },
   {
    "duration": 26,
    "start_time": "2022-05-08T15:30:30.634Z"
   },
   {
    "duration": 43,
    "start_time": "2022-05-08T15:30:30.663Z"
   },
   {
    "duration": 35,
    "start_time": "2022-05-08T15:30:30.709Z"
   },
   {
    "duration": 67,
    "start_time": "2022-05-08T15:30:30.747Z"
   },
   {
    "duration": 29,
    "start_time": "2022-05-08T15:30:30.816Z"
   },
   {
    "duration": 53,
    "start_time": "2022-05-08T15:30:30.847Z"
   },
   {
    "duration": 16,
    "start_time": "2022-05-08T15:30:30.906Z"
   },
   {
    "duration": 24,
    "start_time": "2022-05-08T15:30:30.924Z"
   },
   {
    "duration": 44,
    "start_time": "2022-05-08T15:30:30.950Z"
   },
   {
    "duration": 58,
    "start_time": "2022-05-08T15:30:30.996Z"
   },
   {
    "duration": 38,
    "start_time": "2022-05-08T15:30:31.057Z"
   },
   {
    "duration": 224,
    "start_time": "2022-05-08T15:30:31.097Z"
   },
   {
    "duration": 0,
    "start_time": "2022-05-08T15:30:31.328Z"
   },
   {
    "duration": 0,
    "start_time": "2022-05-08T15:30:31.333Z"
   },
   {
    "duration": 0,
    "start_time": "2022-05-08T15:30:31.336Z"
   },
   {
    "duration": 0,
    "start_time": "2022-05-08T15:30:31.338Z"
   },
   {
    "duration": 1,
    "start_time": "2022-05-08T15:30:31.339Z"
   },
   {
    "duration": 0,
    "start_time": "2022-05-08T15:30:31.342Z"
   },
   {
    "duration": 0,
    "start_time": "2022-05-08T15:30:31.344Z"
   },
   {
    "duration": 0,
    "start_time": "2022-05-08T15:30:31.346Z"
   },
   {
    "duration": 0,
    "start_time": "2022-05-08T15:30:31.348Z"
   },
   {
    "duration": 0,
    "start_time": "2022-05-08T15:30:31.350Z"
   },
   {
    "duration": 0,
    "start_time": "2022-05-08T15:30:31.352Z"
   },
   {
    "duration": 0,
    "start_time": "2022-05-08T15:30:31.393Z"
   },
   {
    "duration": 0,
    "start_time": "2022-05-08T15:30:31.395Z"
   },
   {
    "duration": 0,
    "start_time": "2022-05-08T15:30:31.398Z"
   },
   {
    "duration": 0,
    "start_time": "2022-05-08T15:30:31.400Z"
   },
   {
    "duration": 0,
    "start_time": "2022-05-08T15:30:31.402Z"
   },
   {
    "duration": 0,
    "start_time": "2022-05-08T15:30:31.404Z"
   },
   {
    "duration": 0,
    "start_time": "2022-05-08T15:30:31.406Z"
   },
   {
    "duration": 0,
    "start_time": "2022-05-08T15:30:31.407Z"
   },
   {
    "duration": 0,
    "start_time": "2022-05-08T15:30:31.409Z"
   },
   {
    "duration": 0,
    "start_time": "2022-05-08T15:30:31.410Z"
   },
   {
    "duration": 0,
    "start_time": "2022-05-08T15:30:31.412Z"
   },
   {
    "duration": 0,
    "start_time": "2022-05-08T15:30:31.413Z"
   },
   {
    "duration": 0,
    "start_time": "2022-05-08T15:30:31.415Z"
   },
   {
    "duration": 0,
    "start_time": "2022-05-08T15:30:31.416Z"
   },
   {
    "duration": 0,
    "start_time": "2022-05-08T15:30:31.418Z"
   },
   {
    "duration": 0,
    "start_time": "2022-05-08T15:30:31.420Z"
   },
   {
    "duration": 1,
    "start_time": "2022-05-08T15:30:31.421Z"
   },
   {
    "duration": 0,
    "start_time": "2022-05-08T15:30:31.423Z"
   },
   {
    "duration": 0,
    "start_time": "2022-05-08T15:30:31.424Z"
   },
   {
    "duration": 1,
    "start_time": "2022-05-08T15:30:31.425Z"
   },
   {
    "duration": 0,
    "start_time": "2022-05-08T15:30:31.428Z"
   },
   {
    "duration": 0,
    "start_time": "2022-05-08T15:30:31.429Z"
   },
   {
    "duration": 0,
    "start_time": "2022-05-08T15:30:31.494Z"
   },
   {
    "duration": 0,
    "start_time": "2022-05-08T15:30:31.496Z"
   },
   {
    "duration": 0,
    "start_time": "2022-05-08T15:30:31.497Z"
   },
   {
    "duration": 0,
    "start_time": "2022-05-08T15:30:31.499Z"
   },
   {
    "duration": 0,
    "start_time": "2022-05-08T15:30:31.501Z"
   },
   {
    "duration": 1,
    "start_time": "2022-05-08T15:30:31.502Z"
   },
   {
    "duration": 0,
    "start_time": "2022-05-08T15:30:31.505Z"
   },
   {
    "duration": 0,
    "start_time": "2022-05-08T15:30:31.506Z"
   },
   {
    "duration": 0,
    "start_time": "2022-05-08T15:30:31.508Z"
   },
   {
    "duration": 0,
    "start_time": "2022-05-08T15:30:31.509Z"
   },
   {
    "duration": 0,
    "start_time": "2022-05-08T15:30:31.511Z"
   },
   {
    "duration": 0,
    "start_time": "2022-05-08T15:30:31.512Z"
   },
   {
    "duration": 0,
    "start_time": "2022-05-08T15:30:31.515Z"
   },
   {
    "duration": 0,
    "start_time": "2022-05-08T15:30:31.516Z"
   },
   {
    "duration": 0,
    "start_time": "2022-05-08T15:30:31.517Z"
   },
   {
    "duration": 0,
    "start_time": "2022-05-08T15:30:31.519Z"
   },
   {
    "duration": 33,
    "start_time": "2022-05-08T15:31:29.182Z"
   },
   {
    "duration": 1665,
    "start_time": "2022-05-08T15:33:06.503Z"
   },
   {
    "duration": 731,
    "start_time": "2022-05-08T15:33:08.171Z"
   },
   {
    "duration": 26,
    "start_time": "2022-05-08T15:33:08.905Z"
   },
   {
    "duration": 27,
    "start_time": "2022-05-08T15:33:08.935Z"
   },
   {
    "duration": 48,
    "start_time": "2022-05-08T15:33:08.964Z"
   },
   {
    "duration": 32,
    "start_time": "2022-05-08T15:33:09.015Z"
   },
   {
    "duration": 67,
    "start_time": "2022-05-08T15:33:09.049Z"
   },
   {
    "duration": 27,
    "start_time": "2022-05-08T15:33:09.119Z"
   },
   {
    "duration": 21,
    "start_time": "2022-05-08T15:33:09.149Z"
   },
   {
    "duration": 18,
    "start_time": "2022-05-08T15:33:09.195Z"
   },
   {
    "duration": 16,
    "start_time": "2022-05-08T15:33:09.216Z"
   },
   {
    "duration": 17,
    "start_time": "2022-05-08T15:33:09.235Z"
   },
   {
    "duration": 85,
    "start_time": "2022-05-08T15:33:09.254Z"
   },
   {
    "duration": 26,
    "start_time": "2022-05-08T15:33:09.341Z"
   },
   {
    "duration": 58,
    "start_time": "2022-05-08T15:33:09.393Z"
   },
   {
    "duration": 504,
    "start_time": "2022-05-08T15:33:09.453Z"
   },
   {
    "duration": 34,
    "start_time": "2022-05-08T15:33:09.960Z"
   },
   {
    "duration": 22,
    "start_time": "2022-05-08T15:33:09.997Z"
   },
   {
    "duration": 120,
    "start_time": "2022-05-08T15:33:10.021Z"
   },
   {
    "duration": 76,
    "start_time": "2022-05-08T15:33:10.144Z"
   },
   {
    "duration": 79,
    "start_time": "2022-05-08T15:33:10.223Z"
   },
   {
    "duration": 23,
    "start_time": "2022-05-08T15:33:10.305Z"
   },
   {
    "duration": 102,
    "start_time": "2022-05-08T15:33:10.331Z"
   },
   {
    "duration": 59,
    "start_time": "2022-05-08T15:33:10.435Z"
   },
   {
    "duration": 14,
    "start_time": "2022-05-08T15:33:10.497Z"
   },
   {
    "duration": 113,
    "start_time": "2022-05-08T15:33:10.514Z"
   },
   {
    "duration": 26,
    "start_time": "2022-05-08T15:33:10.630Z"
   },
   {
    "duration": 5,
    "start_time": "2022-05-08T15:33:10.662Z"
   },
   {
    "duration": 32,
    "start_time": "2022-05-08T15:33:10.669Z"
   },
   {
    "duration": 39,
    "start_time": "2022-05-08T15:33:10.704Z"
   },
   {
    "duration": 9,
    "start_time": "2022-05-08T15:33:10.745Z"
   },
   {
    "duration": 41,
    "start_time": "2022-05-08T15:33:10.756Z"
   },
   {
    "duration": 25,
    "start_time": "2022-05-08T15:33:10.799Z"
   },
   {
    "duration": 10,
    "start_time": "2022-05-08T15:33:10.827Z"
   },
   {
    "duration": 391,
    "start_time": "2022-05-08T15:33:10.840Z"
   },
   {
    "duration": 319,
    "start_time": "2022-05-08T15:33:11.234Z"
   },
   {
    "duration": 8,
    "start_time": "2022-05-08T15:33:11.556Z"
   },
   {
    "duration": 8,
    "start_time": "2022-05-08T15:33:11.566Z"
   },
   {
    "duration": 290,
    "start_time": "2022-05-08T15:33:11.594Z"
   },
   {
    "duration": 12,
    "start_time": "2022-05-08T15:33:11.886Z"
   },
   {
    "duration": 20,
    "start_time": "2022-05-08T15:33:11.900Z"
   },
   {
    "duration": 42,
    "start_time": "2022-05-08T15:33:11.923Z"
   },
   {
    "duration": 14,
    "start_time": "2022-05-08T15:33:11.994Z"
   },
   {
    "duration": 16,
    "start_time": "2022-05-08T15:33:12.010Z"
   },
   {
    "duration": 17,
    "start_time": "2022-05-08T15:33:12.029Z"
   },
   {
    "duration": 11,
    "start_time": "2022-05-08T15:33:12.049Z"
   },
   {
    "duration": 47,
    "start_time": "2022-05-08T15:33:12.062Z"
   },
   {
    "duration": 269,
    "start_time": "2022-05-08T15:33:12.111Z"
   },
   {
    "duration": 24,
    "start_time": "2022-05-08T15:33:12.383Z"
   },
   {
    "duration": 8,
    "start_time": "2022-05-08T15:33:12.410Z"
   },
   {
    "duration": 322,
    "start_time": "2022-05-08T15:33:12.420Z"
   },
   {
    "duration": 15,
    "start_time": "2022-05-08T15:33:12.745Z"
   },
   {
    "duration": 39,
    "start_time": "2022-05-08T15:33:12.763Z"
   },
   {
    "duration": 10,
    "start_time": "2022-05-08T15:33:12.805Z"
   },
   {
    "duration": 362,
    "start_time": "2022-05-08T15:33:12.818Z"
   },
   {
    "duration": 17,
    "start_time": "2022-05-08T15:33:13.183Z"
   },
   {
    "duration": 15,
    "start_time": "2022-05-08T15:33:13.202Z"
   },
   {
    "duration": 427,
    "start_time": "2022-05-08T15:33:13.219Z"
   },
   {
    "duration": 366,
    "start_time": "2022-05-08T15:33:13.648Z"
   },
   {
    "duration": 456,
    "start_time": "2022-05-08T15:33:14.017Z"
   },
   {
    "duration": 16,
    "start_time": "2022-05-08T15:33:14.476Z"
   },
   {
    "duration": 64,
    "start_time": "2022-05-08T15:33:14.496Z"
   },
   {
    "duration": 69,
    "start_time": "2022-05-08T15:33:14.563Z"
   },
   {
    "duration": 11,
    "start_time": "2022-05-08T15:33:14.634Z"
   },
   {
    "duration": 10,
    "start_time": "2022-05-08T15:33:14.647Z"
   },
   {
    "duration": 320,
    "start_time": "2022-05-08T15:34:48.661Z"
   },
   {
    "duration": 1740,
    "start_time": "2022-05-08T15:35:11.146Z"
   },
   {
    "duration": 632,
    "start_time": "2022-05-08T15:35:12.889Z"
   },
   {
    "duration": 26,
    "start_time": "2022-05-08T15:35:13.524Z"
   },
   {
    "duration": 27,
    "start_time": "2022-05-08T15:35:13.553Z"
   },
   {
    "duration": 28,
    "start_time": "2022-05-08T15:35:13.582Z"
   },
   {
    "duration": 24,
    "start_time": "2022-05-08T15:35:13.613Z"
   },
   {
    "duration": 68,
    "start_time": "2022-05-08T15:35:13.640Z"
   },
   {
    "duration": 23,
    "start_time": "2022-05-08T15:35:13.711Z"
   },
   {
    "duration": 23,
    "start_time": "2022-05-08T15:35:13.736Z"
   },
   {
    "duration": 46,
    "start_time": "2022-05-08T15:35:13.763Z"
   },
   {
    "duration": 15,
    "start_time": "2022-05-08T15:35:13.811Z"
   },
   {
    "duration": 18,
    "start_time": "2022-05-08T15:35:13.829Z"
   },
   {
    "duration": 75,
    "start_time": "2022-05-08T15:35:13.849Z"
   },
   {
    "duration": 31,
    "start_time": "2022-05-08T15:35:13.926Z"
   },
   {
    "duration": 96,
    "start_time": "2022-05-08T15:35:13.959Z"
   },
   {
    "duration": 452,
    "start_time": "2022-05-08T15:35:14.058Z"
   },
   {
    "duration": 4,
    "start_time": "2022-05-08T15:35:14.512Z"
   },
   {
    "duration": 18,
    "start_time": "2022-05-08T15:35:14.518Z"
   },
   {
    "duration": 100,
    "start_time": "2022-05-08T15:35:14.539Z"
   },
   {
    "duration": 38,
    "start_time": "2022-05-08T15:35:14.642Z"
   },
   {
    "duration": 43,
    "start_time": "2022-05-08T15:35:14.694Z"
   },
   {
    "duration": 19,
    "start_time": "2022-05-08T15:35:14.739Z"
   },
   {
    "duration": 82,
    "start_time": "2022-05-08T15:35:14.761Z"
   },
   {
    "duration": 64,
    "start_time": "2022-05-08T15:35:14.845Z"
   },
   {
    "duration": 12,
    "start_time": "2022-05-08T15:35:14.911Z"
   },
   {
    "duration": 199,
    "start_time": "2022-05-08T15:35:14.925Z"
   },
   {
    "duration": 86,
    "start_time": "2022-05-08T15:35:15.127Z"
   },
   {
    "duration": 7,
    "start_time": "2022-05-08T15:35:15.223Z"
   },
   {
    "duration": 67,
    "start_time": "2022-05-08T15:35:15.232Z"
   },
   {
    "duration": 95,
    "start_time": "2022-05-08T15:35:15.302Z"
   },
   {
    "duration": 10,
    "start_time": "2022-05-08T15:35:15.399Z"
   },
   {
    "duration": 12,
    "start_time": "2022-05-08T15:35:15.411Z"
   },
   {
    "duration": 82,
    "start_time": "2022-05-08T15:35:15.425Z"
   },
   {
    "duration": 13,
    "start_time": "2022-05-08T15:35:15.510Z"
   },
   {
    "duration": 707,
    "start_time": "2022-05-08T15:35:15.526Z"
   },
   {
    "duration": 891,
    "start_time": "2022-05-08T15:35:16.235Z"
   },
   {
    "duration": 8,
    "start_time": "2022-05-08T15:35:17.129Z"
   },
   {
    "duration": 8,
    "start_time": "2022-05-08T15:35:17.194Z"
   },
   {
    "duration": 622,
    "start_time": "2022-05-08T15:35:17.205Z"
   },
   {
    "duration": 62,
    "start_time": "2022-05-08T15:35:17.830Z"
   },
   {
    "duration": 11,
    "start_time": "2022-05-08T15:35:17.895Z"
   },
   {
    "duration": 92,
    "start_time": "2022-05-08T15:35:17.908Z"
   },
   {
    "duration": 14,
    "start_time": "2022-05-08T15:35:18.002Z"
   },
   {
    "duration": 8,
    "start_time": "2022-05-08T15:35:18.019Z"
   },
   {
    "duration": 11,
    "start_time": "2022-05-08T15:35:18.029Z"
   },
   {
    "duration": 8,
    "start_time": "2022-05-08T15:35:18.094Z"
   },
   {
    "duration": 9,
    "start_time": "2022-05-08T15:35:18.104Z"
   },
   {
    "duration": 378,
    "start_time": "2022-05-08T15:35:18.116Z"
   },
   {
    "duration": 15,
    "start_time": "2022-05-08T15:35:18.497Z"
   },
   {
    "duration": 8,
    "start_time": "2022-05-08T15:35:18.537Z"
   },
   {
    "duration": 390,
    "start_time": "2022-05-08T15:35:18.548Z"
   },
   {
    "duration": 14,
    "start_time": "2022-05-08T15:35:18.940Z"
   },
   {
    "duration": 36,
    "start_time": "2022-05-08T15:35:18.957Z"
   },
   {
    "duration": 7,
    "start_time": "2022-05-08T15:35:18.995Z"
   },
   {
    "duration": 360,
    "start_time": "2022-05-08T15:35:19.004Z"
   },
   {
    "duration": 30,
    "start_time": "2022-05-08T15:35:19.367Z"
   },
   {
    "duration": 14,
    "start_time": "2022-05-08T15:35:19.399Z"
   },
   {
    "duration": 402,
    "start_time": "2022-05-08T15:35:19.416Z"
   },
   {
    "duration": 380,
    "start_time": "2022-05-08T15:35:19.821Z"
   },
   {
    "duration": 327,
    "start_time": "2022-05-08T15:35:20.204Z"
   },
   {
    "duration": 7,
    "start_time": "2022-05-08T15:35:20.533Z"
   },
   {
    "duration": 69,
    "start_time": "2022-05-08T15:35:20.543Z"
   },
   {
    "duration": 44,
    "start_time": "2022-05-08T15:35:20.615Z"
   },
   {
    "duration": 32,
    "start_time": "2022-05-08T15:35:20.663Z"
   },
   {
    "duration": 10,
    "start_time": "2022-05-08T15:35:20.698Z"
   },
   {
    "duration": 469,
    "start_time": "2022-05-08T15:35:33.306Z"
   },
   {
    "duration": 1662,
    "start_time": "2022-05-08T15:35:54.729Z"
   },
   {
    "duration": 631,
    "start_time": "2022-05-08T15:35:56.394Z"
   },
   {
    "duration": 31,
    "start_time": "2022-05-08T15:35:57.028Z"
   },
   {
    "duration": 26,
    "start_time": "2022-05-08T15:35:57.062Z"
   },
   {
    "duration": 27,
    "start_time": "2022-05-08T15:35:57.092Z"
   },
   {
    "duration": 24,
    "start_time": "2022-05-08T15:35:57.122Z"
   },
   {
    "duration": 66,
    "start_time": "2022-05-08T15:35:57.148Z"
   },
   {
    "duration": 25,
    "start_time": "2022-05-08T15:35:57.217Z"
   },
   {
    "duration": 55,
    "start_time": "2022-05-08T15:35:57.244Z"
   },
   {
    "duration": 17,
    "start_time": "2022-05-08T15:35:57.303Z"
   },
   {
    "duration": 16,
    "start_time": "2022-05-08T15:35:57.323Z"
   },
   {
    "duration": 17,
    "start_time": "2022-05-08T15:35:57.342Z"
   },
   {
    "duration": 93,
    "start_time": "2022-05-08T15:35:57.361Z"
   },
   {
    "duration": 37,
    "start_time": "2022-05-08T15:35:57.456Z"
   },
   {
    "duration": 76,
    "start_time": "2022-05-08T15:35:57.496Z"
   },
   {
    "duration": 590,
    "start_time": "2022-05-08T15:35:57.575Z"
   },
   {
    "duration": 4,
    "start_time": "2022-05-08T15:35:58.167Z"
   },
   {
    "duration": 33,
    "start_time": "2022-05-08T15:35:58.173Z"
   },
   {
    "duration": 83,
    "start_time": "2022-05-08T15:35:58.211Z"
   },
   {
    "duration": 43,
    "start_time": "2022-05-08T15:35:58.297Z"
   },
   {
    "duration": 89,
    "start_time": "2022-05-08T15:35:58.343Z"
   },
   {
    "duration": 17,
    "start_time": "2022-05-08T15:35:58.435Z"
   },
   {
    "duration": 83,
    "start_time": "2022-05-08T15:35:58.454Z"
   },
   {
    "duration": 60,
    "start_time": "2022-05-08T15:35:58.540Z"
   },
   {
    "duration": 12,
    "start_time": "2022-05-08T15:35:58.602Z"
   },
   {
    "duration": 169,
    "start_time": "2022-05-08T15:35:58.617Z"
   },
   {
    "duration": 30,
    "start_time": "2022-05-08T15:35:58.789Z"
   },
   {
    "duration": 9,
    "start_time": "2022-05-08T15:35:58.825Z"
   },
   {
    "duration": 11,
    "start_time": "2022-05-08T15:35:58.836Z"
   },
   {
    "duration": 78,
    "start_time": "2022-05-08T15:35:58.850Z"
   },
   {
    "duration": 12,
    "start_time": "2022-05-08T15:35:58.930Z"
   },
   {
    "duration": 18,
    "start_time": "2022-05-08T15:35:58.945Z"
   },
   {
    "duration": 56,
    "start_time": "2022-05-08T15:35:58.965Z"
   },
   {
    "duration": 9,
    "start_time": "2022-05-08T15:35:59.024Z"
   },
   {
    "duration": 489,
    "start_time": "2022-05-08T15:35:59.036Z"
   },
   {
    "duration": 378,
    "start_time": "2022-05-08T15:35:59.528Z"
   },
   {
    "duration": 9,
    "start_time": "2022-05-08T15:35:59.909Z"
   },
   {
    "duration": 11,
    "start_time": "2022-05-08T15:35:59.921Z"
   },
   {
    "duration": 427,
    "start_time": "2022-05-08T15:35:59.935Z"
   },
   {
    "duration": 9,
    "start_time": "2022-05-08T15:36:00.365Z"
   },
   {
    "duration": 33,
    "start_time": "2022-05-08T15:36:00.377Z"
   },
   {
    "duration": 76,
    "start_time": "2022-05-08T15:36:00.413Z"
   },
   {
    "duration": 12,
    "start_time": "2022-05-08T15:36:00.494Z"
   },
   {
    "duration": 44,
    "start_time": "2022-05-08T15:36:00.509Z"
   },
   {
    "duration": 32,
    "start_time": "2022-05-08T15:36:00.556Z"
   },
   {
    "duration": 24,
    "start_time": "2022-05-08T15:36:00.591Z"
   },
   {
    "duration": 29,
    "start_time": "2022-05-08T15:36:00.618Z"
   },
   {
    "duration": 391,
    "start_time": "2022-05-08T15:36:00.650Z"
   },
   {
    "duration": 18,
    "start_time": "2022-05-08T15:36:01.044Z"
   },
   {
    "duration": 32,
    "start_time": "2022-05-08T15:36:01.065Z"
   },
   {
    "duration": 448,
    "start_time": "2022-05-08T15:36:01.100Z"
   },
   {
    "duration": 20,
    "start_time": "2022-05-08T15:36:01.552Z"
   },
   {
    "duration": 36,
    "start_time": "2022-05-08T15:36:01.574Z"
   },
   {
    "duration": 9,
    "start_time": "2022-05-08T15:36:01.613Z"
   },
   {
    "duration": 439,
    "start_time": "2022-05-08T15:36:01.625Z"
   },
   {
    "duration": 27,
    "start_time": "2022-05-08T15:36:02.066Z"
   },
   {
    "duration": 18,
    "start_time": "2022-05-08T15:36:02.095Z"
   },
   {
    "duration": 596,
    "start_time": "2022-05-08T15:36:02.115Z"
   },
   {
    "duration": 396,
    "start_time": "2022-05-08T15:36:02.715Z"
   },
   {
    "duration": 337,
    "start_time": "2022-05-08T15:36:03.114Z"
   },
   {
    "duration": 7,
    "start_time": "2022-05-08T15:36:03.453Z"
   },
   {
    "duration": 79,
    "start_time": "2022-05-08T15:36:03.462Z"
   },
   {
    "duration": 59,
    "start_time": "2022-05-08T15:36:03.544Z"
   },
   {
    "duration": 10,
    "start_time": "2022-05-08T15:36:03.606Z"
   },
   {
    "duration": 10,
    "start_time": "2022-05-08T15:36:03.619Z"
   },
   {
    "duration": 2046,
    "start_time": "2022-05-08T15:51:28.755Z"
   },
   {
    "duration": 726,
    "start_time": "2022-05-08T15:51:30.804Z"
   },
   {
    "duration": 25,
    "start_time": "2022-05-08T15:51:31.533Z"
   },
   {
    "duration": 40,
    "start_time": "2022-05-08T15:51:31.561Z"
   },
   {
    "duration": 29,
    "start_time": "2022-05-08T15:51:31.604Z"
   },
   {
    "duration": 43,
    "start_time": "2022-05-08T15:51:31.635Z"
   },
   {
    "duration": 42,
    "start_time": "2022-05-08T15:51:31.694Z"
   },
   {
    "duration": 22,
    "start_time": "2022-05-08T15:51:31.739Z"
   },
   {
    "duration": 28,
    "start_time": "2022-05-08T15:51:31.793Z"
   },
   {
    "duration": 26,
    "start_time": "2022-05-08T15:51:31.826Z"
   },
   {
    "duration": 21,
    "start_time": "2022-05-08T15:51:31.855Z"
   },
   {
    "duration": 21,
    "start_time": "2022-05-08T15:51:31.894Z"
   },
   {
    "duration": 55,
    "start_time": "2022-05-08T15:51:31.918Z"
   },
   {
    "duration": 35,
    "start_time": "2022-05-08T15:51:31.994Z"
   },
   {
    "duration": 33,
    "start_time": "2022-05-08T15:51:32.032Z"
   },
   {
    "duration": 98,
    "start_time": "2022-05-08T15:51:32.068Z"
   },
   {
    "duration": 49,
    "start_time": "2022-05-08T15:51:32.168Z"
   },
   {
    "duration": 75,
    "start_time": "2022-05-08T15:51:32.220Z"
   },
   {
    "duration": 98,
    "start_time": "2022-05-08T15:51:32.297Z"
   },
   {
    "duration": 78,
    "start_time": "2022-05-08T15:51:32.397Z"
   },
   {
    "duration": 49,
    "start_time": "2022-05-08T15:51:32.494Z"
   },
   {
    "duration": 12,
    "start_time": "2022-05-08T15:51:32.546Z"
   },
   {
    "duration": 121,
    "start_time": "2022-05-08T15:51:32.592Z"
   },
   {
    "duration": 33,
    "start_time": "2022-05-08T15:51:32.716Z"
   },
   {
    "duration": 9,
    "start_time": "2022-05-08T15:51:32.751Z"
   },
   {
    "duration": 3700,
    "start_time": "2022-05-08T15:51:32.762Z"
   },
   {
    "duration": 0,
    "start_time": "2022-05-08T15:51:36.468Z"
   },
   {
    "duration": 0,
    "start_time": "2022-05-08T15:51:36.470Z"
   },
   {
    "duration": 0,
    "start_time": "2022-05-08T15:51:36.472Z"
   },
   {
    "duration": 0,
    "start_time": "2022-05-08T15:51:36.474Z"
   },
   {
    "duration": 0,
    "start_time": "2022-05-08T15:51:36.476Z"
   },
   {
    "duration": 0,
    "start_time": "2022-05-08T15:51:36.478Z"
   },
   {
    "duration": 0,
    "start_time": "2022-05-08T15:51:36.480Z"
   },
   {
    "duration": 0,
    "start_time": "2022-05-08T15:51:36.482Z"
   },
   {
    "duration": 0,
    "start_time": "2022-05-08T15:51:36.484Z"
   },
   {
    "duration": 0,
    "start_time": "2022-05-08T15:51:36.486Z"
   },
   {
    "duration": 0,
    "start_time": "2022-05-08T15:51:36.488Z"
   },
   {
    "duration": 0,
    "start_time": "2022-05-08T15:51:36.490Z"
   },
   {
    "duration": 0,
    "start_time": "2022-05-08T15:51:36.492Z"
   },
   {
    "duration": 0,
    "start_time": "2022-05-08T15:51:36.494Z"
   },
   {
    "duration": 0,
    "start_time": "2022-05-08T15:51:36.496Z"
   },
   {
    "duration": 0,
    "start_time": "2022-05-08T15:51:36.498Z"
   },
   {
    "duration": 0,
    "start_time": "2022-05-08T15:51:36.499Z"
   },
   {
    "duration": 0,
    "start_time": "2022-05-08T15:51:36.503Z"
   },
   {
    "duration": 0,
    "start_time": "2022-05-08T15:51:36.505Z"
   },
   {
    "duration": 0,
    "start_time": "2022-05-08T15:51:36.507Z"
   },
   {
    "duration": 0,
    "start_time": "2022-05-08T15:51:36.508Z"
   },
   {
    "duration": 0,
    "start_time": "2022-05-08T15:51:36.510Z"
   },
   {
    "duration": 0,
    "start_time": "2022-05-08T15:51:36.512Z"
   },
   {
    "duration": 0,
    "start_time": "2022-05-08T15:51:36.514Z"
   },
   {
    "duration": 0,
    "start_time": "2022-05-08T15:51:36.515Z"
   },
   {
    "duration": 0,
    "start_time": "2022-05-08T15:51:36.518Z"
   },
   {
    "duration": 0,
    "start_time": "2022-05-08T15:51:36.520Z"
   },
   {
    "duration": 0,
    "start_time": "2022-05-08T15:51:36.522Z"
   },
   {
    "duration": 0,
    "start_time": "2022-05-08T15:51:36.524Z"
   },
   {
    "duration": 0,
    "start_time": "2022-05-08T15:51:36.526Z"
   },
   {
    "duration": 0,
    "start_time": "2022-05-08T15:51:36.528Z"
   },
   {
    "duration": 0,
    "start_time": "2022-05-08T15:51:36.530Z"
   },
   {
    "duration": 0,
    "start_time": "2022-05-08T15:51:36.532Z"
   },
   {
    "duration": 0,
    "start_time": "2022-05-08T15:51:36.534Z"
   },
   {
    "duration": 0,
    "start_time": "2022-05-08T15:51:36.593Z"
   },
   {
    "duration": 0,
    "start_time": "2022-05-08T15:51:36.595Z"
   },
   {
    "duration": 0,
    "start_time": "2022-05-08T15:51:36.597Z"
   },
   {
    "duration": 0,
    "start_time": "2022-05-08T15:51:36.599Z"
   },
   {
    "duration": 26,
    "start_time": "2022-05-08T15:57:25.777Z"
   },
   {
    "duration": 3244,
    "start_time": "2022-05-08T15:57:34.554Z"
   },
   {
    "duration": 342,
    "start_time": "2022-05-08T15:58:10.732Z"
   },
   {
    "duration": 6,
    "start_time": "2022-05-08T15:59:02.564Z"
   },
   {
    "duration": 430,
    "start_time": "2022-05-08T15:59:29.924Z"
   },
   {
    "duration": 598,
    "start_time": "2022-05-08T15:59:34.204Z"
   },
   {
    "duration": 1529,
    "start_time": "2022-05-08T16:00:11.593Z"
   },
   {
    "duration": 662,
    "start_time": "2022-05-08T16:00:13.125Z"
   },
   {
    "duration": 28,
    "start_time": "2022-05-08T16:00:13.789Z"
   },
   {
    "duration": 30,
    "start_time": "2022-05-08T16:00:13.821Z"
   },
   {
    "duration": 50,
    "start_time": "2022-05-08T16:00:13.853Z"
   },
   {
    "duration": 32,
    "start_time": "2022-05-08T16:00:13.906Z"
   },
   {
    "duration": 58,
    "start_time": "2022-05-08T16:00:13.941Z"
   },
   {
    "duration": 22,
    "start_time": "2022-05-08T16:00:14.001Z"
   },
   {
    "duration": 23,
    "start_time": "2022-05-08T16:00:14.026Z"
   },
   {
    "duration": 50,
    "start_time": "2022-05-08T16:00:14.053Z"
   },
   {
    "duration": 23,
    "start_time": "2022-05-08T16:00:14.106Z"
   },
   {
    "duration": 20,
    "start_time": "2022-05-08T16:00:14.132Z"
   },
   {
    "duration": 69,
    "start_time": "2022-05-08T16:00:14.155Z"
   },
   {
    "duration": 27,
    "start_time": "2022-05-08T16:00:14.226Z"
   },
   {
    "duration": 41,
    "start_time": "2022-05-08T16:00:14.256Z"
   },
   {
    "duration": 94,
    "start_time": "2022-05-08T16:00:14.300Z"
   },
   {
    "duration": 45,
    "start_time": "2022-05-08T16:00:14.397Z"
   },
   {
    "duration": 80,
    "start_time": "2022-05-08T16:00:14.445Z"
   },
   {
    "duration": 77,
    "start_time": "2022-05-08T16:00:14.527Z"
   },
   {
    "duration": 60,
    "start_time": "2022-05-08T16:00:14.607Z"
   },
   {
    "duration": 69,
    "start_time": "2022-05-08T16:00:14.669Z"
   },
   {
    "duration": 11,
    "start_time": "2022-05-08T16:00:14.741Z"
   },
   {
    "duration": 143,
    "start_time": "2022-05-08T16:00:14.754Z"
   },
   {
    "duration": 29,
    "start_time": "2022-05-08T16:00:14.900Z"
   },
   {
    "duration": 10,
    "start_time": "2022-05-08T16:00:14.932Z"
   },
   {
    "duration": 532,
    "start_time": "2022-05-08T16:00:14.944Z"
   },
   {
    "duration": 17,
    "start_time": "2022-05-08T16:00:15.479Z"
   },
   {
    "duration": 578,
    "start_time": "2022-05-08T16:00:15.504Z"
   },
   {
    "duration": 12,
    "start_time": "2022-05-08T16:00:16.085Z"
   },
   {
    "duration": 22,
    "start_time": "2022-05-08T16:00:16.099Z"
   },
   {
    "duration": 43,
    "start_time": "2022-05-08T16:00:16.123Z"
   },
   {
    "duration": 32,
    "start_time": "2022-05-08T16:00:16.169Z"
   },
   {
    "duration": 10,
    "start_time": "2022-05-08T16:00:16.204Z"
   },
   {
    "duration": 25,
    "start_time": "2022-05-08T16:00:16.217Z"
   },
   {
    "duration": 12,
    "start_time": "2022-05-08T16:00:16.245Z"
   },
   {
    "duration": 394,
    "start_time": "2022-05-08T16:00:16.293Z"
   },
   {
    "duration": 376,
    "start_time": "2022-05-08T16:00:16.693Z"
   },
   {
    "duration": 7,
    "start_time": "2022-05-08T16:00:17.072Z"
   },
   {
    "duration": 8,
    "start_time": "2022-05-08T16:00:17.094Z"
   },
   {
    "duration": 340,
    "start_time": "2022-05-08T16:00:17.105Z"
   },
   {
    "duration": 7,
    "start_time": "2022-05-08T16:00:17.447Z"
   },
   {
    "duration": 38,
    "start_time": "2022-05-08T16:00:17.457Z"
   },
   {
    "duration": 57,
    "start_time": "2022-05-08T16:00:17.497Z"
   },
   {
    "duration": 13,
    "start_time": "2022-05-08T16:00:17.557Z"
   },
   {
    "duration": 7,
    "start_time": "2022-05-08T16:00:17.592Z"
   },
   {
    "duration": 18,
    "start_time": "2022-05-08T16:00:17.601Z"
   },
   {
    "duration": 9,
    "start_time": "2022-05-08T16:00:17.621Z"
   },
   {
    "duration": 8,
    "start_time": "2022-05-08T16:00:17.633Z"
   },
   {
    "duration": 414,
    "start_time": "2022-05-08T16:00:17.643Z"
   },
   {
    "duration": 13,
    "start_time": "2022-05-08T16:00:18.060Z"
   },
   {
    "duration": 25,
    "start_time": "2022-05-08T16:00:18.075Z"
   },
   {
    "duration": 435,
    "start_time": "2022-05-08T16:00:18.102Z"
   },
   {
    "duration": 19,
    "start_time": "2022-05-08T16:00:18.540Z"
   },
   {
    "duration": 43,
    "start_time": "2022-05-08T16:00:18.561Z"
   },
   {
    "duration": 14,
    "start_time": "2022-05-08T16:00:18.607Z"
   },
   {
    "duration": 328,
    "start_time": "2022-05-08T16:00:18.624Z"
   },
   {
    "duration": 15,
    "start_time": "2022-05-08T16:00:18.954Z"
   },
   {
    "duration": 37,
    "start_time": "2022-05-08T16:00:18.971Z"
   },
   {
    "duration": 615,
    "start_time": "2022-05-08T16:00:19.011Z"
   },
   {
    "duration": 474,
    "start_time": "2022-05-08T16:00:19.629Z"
   },
   {
    "duration": 466,
    "start_time": "2022-05-08T16:00:20.106Z"
   },
   {
    "duration": 20,
    "start_time": "2022-05-08T16:00:20.574Z"
   },
   {
    "duration": 41,
    "start_time": "2022-05-08T16:00:20.597Z"
   },
   {
    "duration": 73,
    "start_time": "2022-05-08T16:00:20.640Z"
   },
   {
    "duration": 10,
    "start_time": "2022-05-08T16:00:20.716Z"
   },
   {
    "duration": 8,
    "start_time": "2022-05-08T16:00:20.729Z"
   },
   {
    "duration": 8,
    "start_time": "2022-05-08T16:17:38.207Z"
   },
   {
    "duration": 6,
    "start_time": "2022-05-08T16:18:37.047Z"
   },
   {
    "duration": 192,
    "start_time": "2022-05-08T16:18:49.632Z"
   },
   {
    "duration": 2050,
    "start_time": "2022-05-08T16:23:10.447Z"
   },
   {
    "duration": 747,
    "start_time": "2022-05-08T16:23:12.504Z"
   },
   {
    "duration": 22,
    "start_time": "2022-05-08T16:23:13.254Z"
   },
   {
    "duration": 38,
    "start_time": "2022-05-08T16:23:13.278Z"
   },
   {
    "duration": 22,
    "start_time": "2022-05-08T16:23:13.319Z"
   },
   {
    "duration": 58,
    "start_time": "2022-05-08T16:23:13.344Z"
   },
   {
    "duration": 41,
    "start_time": "2022-05-08T16:23:13.404Z"
   },
   {
    "duration": 52,
    "start_time": "2022-05-08T16:23:13.448Z"
   },
   {
    "duration": 25,
    "start_time": "2022-05-08T16:23:13.503Z"
   },
   {
    "duration": 19,
    "start_time": "2022-05-08T16:23:13.533Z"
   },
   {
    "duration": 53,
    "start_time": "2022-05-08T16:23:13.555Z"
   },
   {
    "duration": 16,
    "start_time": "2022-05-08T16:23:13.611Z"
   },
   {
    "duration": 72,
    "start_time": "2022-05-08T16:23:13.630Z"
   },
   {
    "duration": 29,
    "start_time": "2022-05-08T16:23:13.704Z"
   },
   {
    "duration": 20,
    "start_time": "2022-05-08T16:23:13.735Z"
   },
   {
    "duration": 96,
    "start_time": "2022-05-08T16:23:13.757Z"
   },
   {
    "duration": 61,
    "start_time": "2022-05-08T16:23:13.855Z"
   },
   {
    "duration": 46,
    "start_time": "2022-05-08T16:23:13.920Z"
   },
   {
    "duration": 93,
    "start_time": "2022-05-08T16:23:13.969Z"
   },
   {
    "duration": 84,
    "start_time": "2022-05-08T16:23:14.064Z"
   },
   {
    "duration": 200,
    "start_time": "2022-05-08T16:23:14.150Z"
   },
   {
    "duration": 0,
    "start_time": "2022-05-08T16:23:14.354Z"
   },
   {
    "duration": 0,
    "start_time": "2022-05-08T16:23:14.356Z"
   },
   {
    "duration": 0,
    "start_time": "2022-05-08T16:23:14.358Z"
   },
   {
    "duration": 0,
    "start_time": "2022-05-08T16:23:14.359Z"
   },
   {
    "duration": 0,
    "start_time": "2022-05-08T16:23:14.361Z"
   },
   {
    "duration": 0,
    "start_time": "2022-05-08T16:23:14.362Z"
   },
   {
    "duration": 0,
    "start_time": "2022-05-08T16:23:14.364Z"
   },
   {
    "duration": 0,
    "start_time": "2022-05-08T16:23:14.365Z"
   },
   {
    "duration": 0,
    "start_time": "2022-05-08T16:23:14.367Z"
   },
   {
    "duration": 0,
    "start_time": "2022-05-08T16:23:14.369Z"
   },
   {
    "duration": 0,
    "start_time": "2022-05-08T16:23:14.401Z"
   },
   {
    "duration": 0,
    "start_time": "2022-05-08T16:23:14.402Z"
   },
   {
    "duration": 0,
    "start_time": "2022-05-08T16:23:14.404Z"
   },
   {
    "duration": 0,
    "start_time": "2022-05-08T16:23:14.405Z"
   },
   {
    "duration": 0,
    "start_time": "2022-05-08T16:23:14.406Z"
   },
   {
    "duration": 0,
    "start_time": "2022-05-08T16:23:14.408Z"
   },
   {
    "duration": 0,
    "start_time": "2022-05-08T16:23:14.409Z"
   },
   {
    "duration": 0,
    "start_time": "2022-05-08T16:23:14.411Z"
   },
   {
    "duration": 0,
    "start_time": "2022-05-08T16:23:14.412Z"
   },
   {
    "duration": 0,
    "start_time": "2022-05-08T16:23:14.413Z"
   },
   {
    "duration": 0,
    "start_time": "2022-05-08T16:23:14.414Z"
   },
   {
    "duration": 0,
    "start_time": "2022-05-08T16:23:14.416Z"
   },
   {
    "duration": 0,
    "start_time": "2022-05-08T16:23:14.418Z"
   },
   {
    "duration": 0,
    "start_time": "2022-05-08T16:23:14.419Z"
   },
   {
    "duration": 0,
    "start_time": "2022-05-08T16:23:14.421Z"
   },
   {
    "duration": 0,
    "start_time": "2022-05-08T16:23:14.423Z"
   },
   {
    "duration": 0,
    "start_time": "2022-05-08T16:23:14.425Z"
   },
   {
    "duration": 0,
    "start_time": "2022-05-08T16:23:14.426Z"
   },
   {
    "duration": 0,
    "start_time": "2022-05-08T16:23:14.428Z"
   },
   {
    "duration": 0,
    "start_time": "2022-05-08T16:23:14.430Z"
   },
   {
    "duration": 0,
    "start_time": "2022-05-08T16:23:14.431Z"
   },
   {
    "duration": 0,
    "start_time": "2022-05-08T16:23:14.433Z"
   },
   {
    "duration": 0,
    "start_time": "2022-05-08T16:23:14.435Z"
   },
   {
    "duration": 0,
    "start_time": "2022-05-08T16:23:14.437Z"
   },
   {
    "duration": 0,
    "start_time": "2022-05-08T16:23:14.493Z"
   },
   {
    "duration": 0,
    "start_time": "2022-05-08T16:23:14.495Z"
   },
   {
    "duration": 0,
    "start_time": "2022-05-08T16:23:14.496Z"
   },
   {
    "duration": 0,
    "start_time": "2022-05-08T16:23:14.498Z"
   },
   {
    "duration": 0,
    "start_time": "2022-05-08T16:23:14.500Z"
   },
   {
    "duration": 0,
    "start_time": "2022-05-08T16:23:14.501Z"
   },
   {
    "duration": 0,
    "start_time": "2022-05-08T16:23:14.503Z"
   },
   {
    "duration": 0,
    "start_time": "2022-05-08T16:23:14.505Z"
   },
   {
    "duration": 0,
    "start_time": "2022-05-08T16:23:14.506Z"
   },
   {
    "duration": 0,
    "start_time": "2022-05-08T16:23:14.508Z"
   },
   {
    "duration": 0,
    "start_time": "2022-05-08T16:23:14.509Z"
   },
   {
    "duration": 0,
    "start_time": "2022-05-08T16:23:14.510Z"
   },
   {
    "duration": 70,
    "start_time": "2022-05-08T16:29:04.204Z"
   },
   {
    "duration": 51,
    "start_time": "2022-05-08T16:29:07.012Z"
   },
   {
    "duration": 682,
    "start_time": "2022-05-08T16:29:53.438Z"
   },
   {
    "duration": 65,
    "start_time": "2022-05-08T16:30:30.128Z"
   },
   {
    "duration": 145,
    "start_time": "2022-05-08T16:31:35.025Z"
   },
   {
    "duration": 134,
    "start_time": "2022-05-08T16:32:34.753Z"
   },
   {
    "duration": 1059,
    "start_time": "2022-05-08T16:32:47.514Z"
   },
   {
    "duration": 162,
    "start_time": "2022-05-08T16:32:52.850Z"
   },
   {
    "duration": 108,
    "start_time": "2022-05-08T17:06:40.127Z"
   },
   {
    "duration": 73,
    "start_time": "2022-05-08T17:45:22.118Z"
   },
   {
    "duration": 133,
    "start_time": "2022-05-08T17:45:29.381Z"
   },
   {
    "duration": 64,
    "start_time": "2022-05-08T17:48:46.337Z"
   },
   {
    "duration": 49,
    "start_time": "2022-05-08T17:48:58.865Z"
   },
   {
    "duration": 56,
    "start_time": "2022-05-08T17:50:14.026Z"
   },
   {
    "duration": 40,
    "start_time": "2022-05-08T17:50:30.250Z"
   },
   {
    "duration": 12,
    "start_time": "2022-05-08T17:50:57.389Z"
   },
   {
    "duration": 14,
    "start_time": "2022-05-08T17:51:02.219Z"
   },
   {
    "duration": 1585,
    "start_time": "2022-05-08T17:52:43.988Z"
   },
   {
    "duration": 606,
    "start_time": "2022-05-08T17:52:45.575Z"
   },
   {
    "duration": 25,
    "start_time": "2022-05-08T17:52:46.183Z"
   },
   {
    "duration": 27,
    "start_time": "2022-05-08T17:52:46.211Z"
   },
   {
    "duration": 19,
    "start_time": "2022-05-08T17:52:46.241Z"
   },
   {
    "duration": 27,
    "start_time": "2022-05-08T17:52:46.293Z"
   },
   {
    "duration": 36,
    "start_time": "2022-05-08T17:52:46.322Z"
   },
   {
    "duration": 49,
    "start_time": "2022-05-08T17:52:46.361Z"
   },
   {
    "duration": 27,
    "start_time": "2022-05-08T17:52:46.413Z"
   },
   {
    "duration": 15,
    "start_time": "2022-05-08T17:52:46.446Z"
   },
   {
    "duration": 45,
    "start_time": "2022-05-08T17:52:46.463Z"
   },
   {
    "duration": 18,
    "start_time": "2022-05-08T17:52:46.510Z"
   },
   {
    "duration": 77,
    "start_time": "2022-05-08T17:52:46.530Z"
   },
   {
    "duration": 29,
    "start_time": "2022-05-08T17:52:46.609Z"
   },
   {
    "duration": 21,
    "start_time": "2022-05-08T17:52:46.641Z"
   },
   {
    "duration": 66,
    "start_time": "2022-05-08T17:52:46.694Z"
   },
   {
    "duration": 65,
    "start_time": "2022-05-08T17:52:46.763Z"
   },
   {
    "duration": 11,
    "start_time": "2022-05-08T17:52:46.830Z"
   },
   {
    "duration": 15,
    "start_time": "2022-05-08T17:52:46.843Z"
   },
   {
    "duration": 85,
    "start_time": "2022-05-08T17:52:46.861Z"
   },
   {
    "duration": 96,
    "start_time": "2022-05-08T17:52:46.948Z"
   },
   {
    "duration": 72,
    "start_time": "2022-05-08T17:52:47.047Z"
   },
   {
    "duration": 45,
    "start_time": "2022-05-08T17:52:47.122Z"
   },
   {
    "duration": 15,
    "start_time": "2022-05-08T17:52:47.193Z"
   },
   {
    "duration": 111,
    "start_time": "2022-05-08T17:52:47.210Z"
   },
   {
    "duration": 27,
    "start_time": "2022-05-08T17:52:47.323Z"
   },
   {
    "duration": 7,
    "start_time": "2022-05-08T17:52:47.352Z"
   },
   {
    "duration": 395,
    "start_time": "2022-05-08T17:52:47.394Z"
   },
   {
    "duration": 8,
    "start_time": "2022-05-08T17:52:47.793Z"
   },
   {
    "duration": 397,
    "start_time": "2022-05-08T17:52:47.803Z"
   },
   {
    "duration": 9,
    "start_time": "2022-05-08T17:52:48.202Z"
   },
   {
    "duration": 13,
    "start_time": "2022-05-08T17:52:48.213Z"
   },
   {
    "duration": 14,
    "start_time": "2022-05-08T17:52:48.228Z"
   },
   {
    "duration": 83,
    "start_time": "2022-05-08T17:52:48.245Z"
   },
   {
    "duration": 10,
    "start_time": "2022-05-08T17:52:48.330Z"
   },
   {
    "duration": 8,
    "start_time": "2022-05-08T17:52:48.342Z"
   },
   {
    "duration": 23,
    "start_time": "2022-05-08T17:52:48.352Z"
   },
   {
    "duration": 19,
    "start_time": "2022-05-08T17:52:48.377Z"
   },
   {
    "duration": 337,
    "start_time": "2022-05-08T17:52:48.398Z"
   },
   {
    "duration": 366,
    "start_time": "2022-05-08T17:52:48.738Z"
   },
   {
    "duration": 8,
    "start_time": "2022-05-08T17:52:49.106Z"
   },
   {
    "duration": 9,
    "start_time": "2022-05-08T17:52:49.117Z"
   },
   {
    "duration": 346,
    "start_time": "2022-05-08T17:52:49.128Z"
   },
   {
    "duration": 6,
    "start_time": "2022-05-08T17:52:49.476Z"
   },
   {
    "duration": 13,
    "start_time": "2022-05-08T17:52:49.493Z"
   },
   {
    "duration": 43,
    "start_time": "2022-05-08T17:52:49.509Z"
   },
   {
    "duration": 39,
    "start_time": "2022-05-08T17:52:49.554Z"
   },
   {
    "duration": 5,
    "start_time": "2022-05-08T17:52:49.595Z"
   },
   {
    "duration": 11,
    "start_time": "2022-05-08T17:52:49.602Z"
   },
   {
    "duration": 8,
    "start_time": "2022-05-08T17:52:49.616Z"
   },
   {
    "duration": 10,
    "start_time": "2022-05-08T17:52:49.627Z"
   },
   {
    "duration": 399,
    "start_time": "2022-05-08T17:52:49.639Z"
   },
   {
    "duration": 14,
    "start_time": "2022-05-08T17:52:50.040Z"
   },
   {
    "duration": 9,
    "start_time": "2022-05-08T17:52:50.056Z"
   },
   {
    "duration": 298,
    "start_time": "2022-05-08T17:52:50.067Z"
   },
   {
    "duration": 26,
    "start_time": "2022-05-08T17:52:50.367Z"
   },
   {
    "duration": 15,
    "start_time": "2022-05-08T17:52:50.395Z"
   },
   {
    "duration": 7,
    "start_time": "2022-05-08T17:52:50.413Z"
   },
   {
    "duration": 278,
    "start_time": "2022-05-08T17:52:50.422Z"
   },
   {
    "duration": 15,
    "start_time": "2022-05-08T17:52:50.702Z"
   },
   {
    "duration": 16,
    "start_time": "2022-05-08T17:52:50.719Z"
   },
   {
    "duration": 417,
    "start_time": "2022-05-08T17:52:50.738Z"
   },
   {
    "duration": 382,
    "start_time": "2022-05-08T17:52:51.158Z"
   },
   {
    "duration": 323,
    "start_time": "2022-05-08T17:52:51.542Z"
   },
   {
    "duration": 7,
    "start_time": "2022-05-08T17:52:51.868Z"
   },
   {
    "duration": 46,
    "start_time": "2022-05-08T17:52:51.893Z"
   },
   {
    "duration": 74,
    "start_time": "2022-05-08T17:52:51.942Z"
   },
   {
    "duration": 11,
    "start_time": "2022-05-08T17:52:52.019Z"
   },
   {
    "duration": 9,
    "start_time": "2022-05-08T17:52:52.032Z"
   },
   {
    "duration": 1513,
    "start_time": "2022-05-08T18:12:13.039Z"
   },
   {
    "duration": 688,
    "start_time": "2022-05-08T18:12:14.555Z"
   },
   {
    "duration": 22,
    "start_time": "2022-05-08T18:12:15.245Z"
   },
   {
    "duration": 27,
    "start_time": "2022-05-08T18:12:15.270Z"
   },
   {
    "duration": 25,
    "start_time": "2022-05-08T18:12:15.299Z"
   },
   {
    "duration": 22,
    "start_time": "2022-05-08T18:12:15.326Z"
   },
   {
    "duration": 65,
    "start_time": "2022-05-08T18:12:15.350Z"
   },
   {
    "duration": 27,
    "start_time": "2022-05-08T18:12:15.418Z"
   },
   {
    "duration": 22,
    "start_time": "2022-05-08T18:12:15.447Z"
   },
   {
    "duration": 18,
    "start_time": "2022-05-08T18:12:15.496Z"
   },
   {
    "duration": 15,
    "start_time": "2022-05-08T18:12:15.516Z"
   },
   {
    "duration": 15,
    "start_time": "2022-05-08T18:12:15.533Z"
   },
   {
    "duration": 82,
    "start_time": "2022-05-08T18:12:15.550Z"
   },
   {
    "duration": 27,
    "start_time": "2022-05-08T18:12:15.635Z"
   },
   {
    "duration": 51,
    "start_time": "2022-05-08T18:12:15.664Z"
   },
   {
    "duration": 68,
    "start_time": "2022-05-08T18:12:15.717Z"
   },
   {
    "duration": 49,
    "start_time": "2022-05-08T18:12:15.796Z"
   },
   {
    "duration": 10,
    "start_time": "2022-05-08T18:12:15.847Z"
   },
   {
    "duration": 41,
    "start_time": "2022-05-08T18:12:15.859Z"
   },
   {
    "duration": 58,
    "start_time": "2022-05-08T18:12:15.905Z"
   },
   {
    "duration": 82,
    "start_time": "2022-05-08T18:12:15.965Z"
   },
   {
    "duration": 65,
    "start_time": "2022-05-08T18:12:16.050Z"
   },
   {
    "duration": 40,
    "start_time": "2022-05-08T18:12:16.118Z"
   },
   {
    "duration": 38,
    "start_time": "2022-05-08T18:12:16.160Z"
   },
   {
    "duration": 111,
    "start_time": "2022-05-08T18:12:16.201Z"
   },
   {
    "duration": 32,
    "start_time": "2022-05-08T18:12:16.315Z"
   },
   {
    "duration": 8,
    "start_time": "2022-05-08T18:12:16.349Z"
   },
   {
    "duration": 425,
    "start_time": "2022-05-08T18:12:16.364Z"
   },
   {
    "duration": 12,
    "start_time": "2022-05-08T18:12:16.792Z"
   },
   {
    "duration": 397,
    "start_time": "2022-05-08T18:12:16.807Z"
   },
   {
    "duration": 12,
    "start_time": "2022-05-08T18:12:17.206Z"
   },
   {
    "duration": 8,
    "start_time": "2022-05-08T18:12:17.220Z"
   },
   {
    "duration": 11,
    "start_time": "2022-05-08T18:12:17.231Z"
   },
   {
    "duration": 72,
    "start_time": "2022-05-08T18:12:17.244Z"
   },
   {
    "duration": 9,
    "start_time": "2022-05-08T18:12:17.319Z"
   },
   {
    "duration": 7,
    "start_time": "2022-05-08T18:12:17.330Z"
   },
   {
    "duration": 23,
    "start_time": "2022-05-08T18:12:17.339Z"
   },
   {
    "duration": 7,
    "start_time": "2022-05-08T18:12:17.397Z"
   },
   {
    "duration": 330,
    "start_time": "2022-05-08T18:12:17.407Z"
   },
   {
    "duration": 331,
    "start_time": "2022-05-08T18:12:17.740Z"
   },
   {
    "duration": 7,
    "start_time": "2022-05-08T18:12:18.073Z"
   },
   {
    "duration": 20,
    "start_time": "2022-05-08T18:12:18.083Z"
   },
   {
    "duration": 327,
    "start_time": "2022-05-08T18:12:18.106Z"
   },
   {
    "duration": 8,
    "start_time": "2022-05-08T18:12:18.436Z"
   },
   {
    "duration": 13,
    "start_time": "2022-05-08T18:12:18.447Z"
   },
   {
    "duration": 68,
    "start_time": "2022-05-08T18:12:18.463Z"
   },
   {
    "duration": 14,
    "start_time": "2022-05-08T18:12:18.534Z"
   },
   {
    "duration": 7,
    "start_time": "2022-05-08T18:12:18.551Z"
   },
   {
    "duration": 45,
    "start_time": "2022-05-08T18:12:18.560Z"
   },
   {
    "duration": 13,
    "start_time": "2022-05-08T18:12:18.607Z"
   },
   {
    "duration": 9,
    "start_time": "2022-05-08T18:12:18.622Z"
   },
   {
    "duration": 445,
    "start_time": "2022-05-08T18:12:18.634Z"
   },
   {
    "duration": 26,
    "start_time": "2022-05-08T18:12:19.082Z"
   },
   {
    "duration": 24,
    "start_time": "2022-05-08T18:12:19.115Z"
   },
   {
    "duration": 322,
    "start_time": "2022-05-08T18:12:19.143Z"
   },
   {
    "duration": 13,
    "start_time": "2022-05-08T18:12:19.467Z"
   },
   {
    "duration": 18,
    "start_time": "2022-05-08T18:12:19.493Z"
   },
   {
    "duration": 12,
    "start_time": "2022-05-08T18:12:19.514Z"
   },
   {
    "duration": 289,
    "start_time": "2022-05-08T18:12:19.528Z"
   },
   {
    "duration": 15,
    "start_time": "2022-05-08T18:12:19.819Z"
   },
   {
    "duration": 17,
    "start_time": "2022-05-08T18:12:19.836Z"
   },
   {
    "duration": 478,
    "start_time": "2022-05-08T18:12:19.855Z"
   },
   {
    "duration": 439,
    "start_time": "2022-05-08T18:12:20.335Z"
   },
   {
    "duration": 364,
    "start_time": "2022-05-08T18:12:20.776Z"
   },
   {
    "duration": 8,
    "start_time": "2022-05-08T18:12:21.142Z"
   },
   {
    "duration": 68,
    "start_time": "2022-05-08T18:12:21.152Z"
   },
   {
    "duration": 46,
    "start_time": "2022-05-08T18:12:21.223Z"
   },
   {
    "duration": 26,
    "start_time": "2022-05-08T18:12:21.271Z"
   },
   {
    "duration": 27,
    "start_time": "2022-05-08T18:12:21.299Z"
   },
   {
    "duration": 170,
    "start_time": "2022-05-08T18:17:57.832Z"
   },
   {
    "duration": 3226,
    "start_time": "2022-05-08T18:18:07.248Z"
   },
   {
    "duration": 12,
    "start_time": "2022-05-08T18:18:22.172Z"
   },
   {
    "duration": 142,
    "start_time": "2022-05-08T18:18:58.118Z"
   },
   {
    "duration": 303,
    "start_time": "2022-05-08T18:23:27.583Z"
   },
   {
    "duration": 8,
    "start_time": "2022-05-08T18:24:58.472Z"
   },
   {
    "duration": 44,
    "start_time": "2022-05-08T18:29:43.493Z"
   },
   {
    "duration": 2038,
    "start_time": "2022-05-08T18:30:09.272Z"
   },
   {
    "duration": 636,
    "start_time": "2022-05-08T18:30:11.313Z"
   },
   {
    "duration": 24,
    "start_time": "2022-05-08T18:30:11.951Z"
   },
   {
    "duration": 28,
    "start_time": "2022-05-08T18:30:11.978Z"
   },
   {
    "duration": 24,
    "start_time": "2022-05-08T18:30:12.008Z"
   },
   {
    "duration": 23,
    "start_time": "2022-05-08T18:30:12.035Z"
   },
   {
    "duration": 60,
    "start_time": "2022-05-08T18:30:12.060Z"
   },
   {
    "duration": 22,
    "start_time": "2022-05-08T18:30:12.122Z"
   },
   {
    "duration": 49,
    "start_time": "2022-05-08T18:30:12.146Z"
   },
   {
    "duration": 21,
    "start_time": "2022-05-08T18:30:12.200Z"
   },
   {
    "duration": 17,
    "start_time": "2022-05-08T18:30:12.223Z"
   },
   {
    "duration": 21,
    "start_time": "2022-05-08T18:30:12.242Z"
   },
   {
    "duration": 49,
    "start_time": "2022-05-08T18:30:12.294Z"
   },
   {
    "duration": 53,
    "start_time": "2022-05-08T18:30:12.346Z"
   },
   {
    "duration": 21,
    "start_time": "2022-05-08T18:30:12.402Z"
   },
   {
    "duration": 93,
    "start_time": "2022-05-08T18:30:12.426Z"
   },
   {
    "duration": 48,
    "start_time": "2022-05-08T18:30:12.521Z"
   },
   {
    "duration": 30,
    "start_time": "2022-05-08T18:30:12.571Z"
   },
   {
    "duration": 25,
    "start_time": "2022-05-08T18:30:12.603Z"
   },
   {
    "duration": 65,
    "start_time": "2022-05-08T18:30:12.631Z"
   },
   {
    "duration": 63,
    "start_time": "2022-05-08T18:30:12.698Z"
   },
   {
    "duration": 80,
    "start_time": "2022-05-08T18:30:12.764Z"
   },
   {
    "duration": 62,
    "start_time": "2022-05-08T18:30:12.847Z"
   },
   {
    "duration": 12,
    "start_time": "2022-05-08T18:30:12.911Z"
   },
   {
    "duration": 281,
    "start_time": "2022-05-08T18:30:12.925Z"
   },
   {
    "duration": 33,
    "start_time": "2022-05-08T18:30:13.208Z"
   },
   {
    "duration": 8,
    "start_time": "2022-05-08T18:30:13.243Z"
   },
   {
    "duration": 484,
    "start_time": "2022-05-08T18:30:13.257Z"
   },
   {
    "duration": 8,
    "start_time": "2022-05-08T18:30:13.743Z"
   },
   {
    "duration": 466,
    "start_time": "2022-05-08T18:30:13.754Z"
   },
   {
    "duration": 10,
    "start_time": "2022-05-08T18:30:14.223Z"
   },
   {
    "duration": 16,
    "start_time": "2022-05-08T18:30:14.235Z"
   },
   {
    "duration": 13,
    "start_time": "2022-05-08T18:30:14.254Z"
   },
   {
    "duration": 44,
    "start_time": "2022-05-08T18:30:14.294Z"
   },
   {
    "duration": 9,
    "start_time": "2022-05-08T18:30:14.340Z"
   },
   {
    "duration": 10,
    "start_time": "2022-05-08T18:30:14.351Z"
   },
   {
    "duration": 53,
    "start_time": "2022-05-08T18:30:14.363Z"
   },
   {
    "duration": 8,
    "start_time": "2022-05-08T18:30:14.419Z"
   },
   {
    "duration": 348,
    "start_time": "2022-05-08T18:30:14.430Z"
   },
   {
    "duration": 340,
    "start_time": "2022-05-08T18:30:14.781Z"
   },
   {
    "duration": 8,
    "start_time": "2022-05-08T18:30:15.123Z"
   },
   {
    "duration": 15,
    "start_time": "2022-05-08T18:30:15.134Z"
   },
   {
    "duration": 311,
    "start_time": "2022-05-08T18:30:15.152Z"
   },
   {
    "duration": 6,
    "start_time": "2022-05-08T18:30:15.466Z"
   },
   {
    "duration": 30,
    "start_time": "2022-05-08T18:30:15.474Z"
   },
   {
    "duration": 64,
    "start_time": "2022-05-08T18:30:15.506Z"
   },
   {
    "duration": 26,
    "start_time": "2022-05-08T18:30:15.572Z"
   },
   {
    "duration": 9,
    "start_time": "2022-05-08T18:30:15.601Z"
   },
   {
    "duration": 14,
    "start_time": "2022-05-08T18:30:15.613Z"
   },
   {
    "duration": 6,
    "start_time": "2022-05-08T18:30:15.630Z"
   },
   {
    "duration": 11,
    "start_time": "2022-05-08T18:30:15.638Z"
   },
   {
    "duration": 423,
    "start_time": "2022-05-08T18:30:15.651Z"
   },
   {
    "duration": 28,
    "start_time": "2022-05-08T18:30:16.077Z"
   },
   {
    "duration": 15,
    "start_time": "2022-05-08T18:30:16.107Z"
   },
   {
    "duration": 459,
    "start_time": "2022-05-08T18:30:16.125Z"
   },
   {
    "duration": 20,
    "start_time": "2022-05-08T18:30:16.597Z"
   },
   {
    "duration": 23,
    "start_time": "2022-05-08T18:30:16.619Z"
   },
   {
    "duration": 7,
    "start_time": "2022-05-08T18:30:16.645Z"
   },
   {
    "duration": 349,
    "start_time": "2022-05-08T18:30:16.654Z"
   },
   {
    "duration": 19,
    "start_time": "2022-05-08T18:30:17.008Z"
   },
   {
    "duration": 19,
    "start_time": "2022-05-08T18:30:17.030Z"
   },
   {
    "duration": 523,
    "start_time": "2022-05-08T18:30:17.051Z"
   },
   {
    "duration": 478,
    "start_time": "2022-05-08T18:30:17.576Z"
   },
   {
    "duration": 497,
    "start_time": "2022-05-08T18:30:18.057Z"
   },
   {
    "duration": 7,
    "start_time": "2022-05-08T18:30:18.556Z"
   },
   {
    "duration": 79,
    "start_time": "2022-05-08T18:30:18.565Z"
   },
   {
    "duration": 82,
    "start_time": "2022-05-08T18:30:18.647Z"
   },
   {
    "duration": 10,
    "start_time": "2022-05-08T18:30:18.732Z"
   },
   {
    "duration": 8,
    "start_time": "2022-05-08T18:30:18.745Z"
   },
   {
    "duration": 8,
    "start_time": "2022-05-08T18:35:12.378Z"
   },
   {
    "duration": 6,
    "start_time": "2022-05-08T18:41:10.249Z"
   },
   {
    "duration": 8,
    "start_time": "2022-05-08T18:41:24.952Z"
   },
   {
    "duration": 10,
    "start_time": "2022-05-08T18:41:39.307Z"
   },
   {
    "duration": 8,
    "start_time": "2022-05-08T18:41:51.105Z"
   },
   {
    "duration": 7,
    "start_time": "2022-05-08T18:42:25.323Z"
   },
   {
    "duration": 84,
    "start_time": "2022-05-08T18:45:27.479Z"
   },
   {
    "duration": 7,
    "start_time": "2022-05-08T18:45:33.360Z"
   },
   {
    "duration": 62,
    "start_time": "2022-05-08T18:45:48.640Z"
   },
   {
    "duration": 7,
    "start_time": "2022-05-08T18:48:19.225Z"
   },
   {
    "duration": 326,
    "start_time": "2022-05-08T18:54:40.953Z"
   },
   {
    "duration": 395,
    "start_time": "2022-05-08T18:55:08.586Z"
   },
   {
    "duration": 380,
    "start_time": "2022-05-08T18:55:36.138Z"
   },
   {
    "duration": 428,
    "start_time": "2022-05-08T18:55:49.379Z"
   },
   {
    "duration": 2990,
    "start_time": "2022-05-08T18:56:50.244Z"
   },
   {
    "duration": 1702,
    "start_time": "2022-05-08T18:57:22.144Z"
   },
   {
    "duration": 627,
    "start_time": "2022-05-08T18:57:23.848Z"
   },
   {
    "duration": 23,
    "start_time": "2022-05-08T18:57:24.481Z"
   },
   {
    "duration": 30,
    "start_time": "2022-05-08T18:57:24.508Z"
   },
   {
    "duration": 20,
    "start_time": "2022-05-08T18:57:24.541Z"
   },
   {
    "duration": 50,
    "start_time": "2022-05-08T18:57:24.564Z"
   },
   {
    "duration": 34,
    "start_time": "2022-05-08T18:57:24.617Z"
   },
   {
    "duration": 57,
    "start_time": "2022-05-08T18:57:24.654Z"
   },
   {
    "duration": 24,
    "start_time": "2022-05-08T18:57:24.718Z"
   },
   {
    "duration": 16,
    "start_time": "2022-05-08T18:57:24.744Z"
   },
   {
    "duration": 12,
    "start_time": "2022-05-08T18:57:24.793Z"
   },
   {
    "duration": 23,
    "start_time": "2022-05-08T18:57:24.807Z"
   },
   {
    "duration": 71,
    "start_time": "2022-05-08T18:57:24.833Z"
   },
   {
    "duration": 27,
    "start_time": "2022-05-08T18:57:24.907Z"
   },
   {
    "duration": 20,
    "start_time": "2022-05-08T18:57:24.937Z"
   },
   {
    "duration": 94,
    "start_time": "2022-05-08T18:57:24.959Z"
   },
   {
    "duration": 70,
    "start_time": "2022-05-08T18:57:25.055Z"
   },
   {
    "duration": 12,
    "start_time": "2022-05-08T18:57:25.127Z"
   },
   {
    "duration": 20,
    "start_time": "2022-05-08T18:57:25.141Z"
   },
   {
    "duration": 62,
    "start_time": "2022-05-08T18:57:25.163Z"
   },
   {
    "duration": 75,
    "start_time": "2022-05-08T18:57:25.228Z"
   },
   {
    "duration": 56,
    "start_time": "2022-05-08T18:57:25.306Z"
   },
   {
    "duration": 29,
    "start_time": "2022-05-08T18:57:25.365Z"
   },
   {
    "duration": 36,
    "start_time": "2022-05-08T18:57:25.396Z"
   },
   {
    "duration": 11,
    "start_time": "2022-05-08T18:57:25.434Z"
   },
   {
    "duration": 246,
    "start_time": "2022-05-08T18:57:25.447Z"
   },
   {
    "duration": 26,
    "start_time": "2022-05-08T18:57:25.699Z"
   },
   {
    "duration": 8,
    "start_time": "2022-05-08T18:57:25.728Z"
   },
   {
    "duration": 413,
    "start_time": "2022-05-08T18:57:25.739Z"
   },
   {
    "duration": 8,
    "start_time": "2022-05-08T18:57:26.155Z"
   },
   {
    "duration": 388,
    "start_time": "2022-05-08T18:57:26.166Z"
   },
   {
    "duration": 8,
    "start_time": "2022-05-08T18:57:26.557Z"
   },
   {
    "duration": 15,
    "start_time": "2022-05-08T18:57:26.567Z"
   },
   {
    "duration": 11,
    "start_time": "2022-05-08T18:57:26.593Z"
   },
   {
    "duration": 41,
    "start_time": "2022-05-08T18:57:26.606Z"
   },
   {
    "duration": 8,
    "start_time": "2022-05-08T18:57:26.649Z"
   },
   {
    "duration": 6,
    "start_time": "2022-05-08T18:57:26.692Z"
   },
   {
    "duration": 20,
    "start_time": "2022-05-08T18:57:26.700Z"
   },
   {
    "duration": 8,
    "start_time": "2022-05-08T18:57:26.722Z"
   },
   {
    "duration": 345,
    "start_time": "2022-05-08T18:57:26.732Z"
   },
   {
    "duration": 349,
    "start_time": "2022-05-08T18:57:27.080Z"
   },
   {
    "duration": 8,
    "start_time": "2022-05-08T18:57:27.432Z"
   },
   {
    "duration": 12,
    "start_time": "2022-05-08T18:57:27.442Z"
   },
   {
    "duration": 352,
    "start_time": "2022-05-08T18:57:27.457Z"
   },
   {
    "duration": 8,
    "start_time": "2022-05-08T18:57:27.812Z"
   },
   {
    "duration": 24,
    "start_time": "2022-05-08T18:57:27.823Z"
   },
   {
    "duration": 68,
    "start_time": "2022-05-08T18:57:27.849Z"
   },
   {
    "duration": 10,
    "start_time": "2022-05-08T18:57:27.920Z"
   },
   {
    "duration": 11,
    "start_time": "2022-05-08T18:57:27.932Z"
   },
   {
    "duration": 12,
    "start_time": "2022-05-08T18:57:27.945Z"
   },
   {
    "duration": 5,
    "start_time": "2022-05-08T18:57:27.993Z"
   },
   {
    "duration": 14,
    "start_time": "2022-05-08T18:57:28.001Z"
   },
   {
    "duration": 378,
    "start_time": "2022-05-08T18:57:28.018Z"
   },
   {
    "duration": 15,
    "start_time": "2022-05-08T18:57:28.399Z"
   },
   {
    "duration": 15,
    "start_time": "2022-05-08T18:57:28.416Z"
   },
   {
    "duration": 297,
    "start_time": "2022-05-08T18:57:28.434Z"
   },
   {
    "duration": 15,
    "start_time": "2022-05-08T18:57:28.733Z"
   },
   {
    "duration": 57,
    "start_time": "2022-05-08T18:57:28.750Z"
   },
   {
    "duration": 7,
    "start_time": "2022-05-08T18:57:28.809Z"
   },
   {
    "duration": 278,
    "start_time": "2022-05-08T18:57:28.819Z"
   },
   {
    "duration": 19,
    "start_time": "2022-05-08T18:57:29.100Z"
   },
   {
    "duration": 13,
    "start_time": "2022-05-08T18:57:29.122Z"
   },
   {
    "duration": 450,
    "start_time": "2022-05-08T18:57:29.138Z"
   },
   {
    "duration": 377,
    "start_time": "2022-05-08T18:57:29.590Z"
   },
   {
    "duration": 381,
    "start_time": "2022-05-08T18:57:29.970Z"
   },
   {
    "duration": 642,
    "start_time": "2022-05-08T18:57:30.354Z"
   },
   {
    "duration": 9,
    "start_time": "2022-05-08T18:57:30.999Z"
   },
   {
    "duration": 83,
    "start_time": "2022-05-08T18:57:31.011Z"
   },
   {
    "duration": 41,
    "start_time": "2022-05-08T18:57:31.097Z"
   },
   {
    "duration": 11,
    "start_time": "2022-05-08T18:57:31.142Z"
   },
   {
    "duration": 54,
    "start_time": "2022-05-08T18:57:31.155Z"
   },
   {
    "duration": 5,
    "start_time": "2022-05-08T19:22:47.102Z"
   },
   {
    "duration": 6,
    "start_time": "2022-05-08T19:23:01.925Z"
   },
   {
    "duration": 1455,
    "start_time": "2022-05-09T16:49:03.268Z"
   },
   {
    "duration": 622,
    "start_time": "2022-05-09T16:49:04.725Z"
   },
   {
    "duration": 16,
    "start_time": "2022-05-09T16:49:05.349Z"
   },
   {
    "duration": 19,
    "start_time": "2022-05-09T16:49:05.366Z"
   },
   {
    "duration": 23,
    "start_time": "2022-05-09T16:49:05.388Z"
   },
   {
    "duration": 35,
    "start_time": "2022-05-09T16:49:05.413Z"
   },
   {
    "duration": 33,
    "start_time": "2022-05-09T16:49:05.450Z"
   },
   {
    "duration": 30,
    "start_time": "2022-05-09T16:49:05.484Z"
   },
   {
    "duration": 16,
    "start_time": "2022-05-09T16:49:05.516Z"
   },
   {
    "duration": 15,
    "start_time": "2022-05-09T16:49:05.534Z"
   },
   {
    "duration": 13,
    "start_time": "2022-05-09T16:49:05.550Z"
   },
   {
    "duration": 40,
    "start_time": "2022-05-09T16:49:05.565Z"
   },
   {
    "duration": 46,
    "start_time": "2022-05-09T16:49:05.607Z"
   },
   {
    "duration": 19,
    "start_time": "2022-05-09T16:49:05.656Z"
   },
   {
    "duration": 28,
    "start_time": "2022-05-09T16:49:05.677Z"
   },
   {
    "duration": 57,
    "start_time": "2022-05-09T16:49:05.710Z"
   },
   {
    "duration": 48,
    "start_time": "2022-05-09T16:49:05.770Z"
   },
   {
    "duration": 8,
    "start_time": "2022-05-09T16:49:05.819Z"
   },
   {
    "duration": 9,
    "start_time": "2022-05-09T16:49:05.829Z"
   },
   {
    "duration": 61,
    "start_time": "2022-05-09T16:49:05.839Z"
   },
   {
    "duration": 46,
    "start_time": "2022-05-09T16:49:05.903Z"
   },
   {
    "duration": 55,
    "start_time": "2022-05-09T16:49:05.951Z"
   },
   {
    "duration": 11,
    "start_time": "2022-05-09T16:49:06.008Z"
   },
   {
    "duration": 39,
    "start_time": "2022-05-09T16:49:06.021Z"
   },
   {
    "duration": 10,
    "start_time": "2022-05-09T16:49:06.062Z"
   },
   {
    "duration": 246,
    "start_time": "2022-05-09T16:49:06.074Z"
   },
   {
    "duration": 22,
    "start_time": "2022-05-09T16:49:06.322Z"
   },
   {
    "duration": 6,
    "start_time": "2022-05-09T16:49:06.345Z"
   },
   {
    "duration": 305,
    "start_time": "2022-05-09T16:49:06.353Z"
   },
   {
    "duration": 6,
    "start_time": "2022-05-09T16:49:06.660Z"
   },
   {
    "duration": 261,
    "start_time": "2022-05-09T16:49:06.667Z"
   },
   {
    "duration": 6,
    "start_time": "2022-05-09T16:49:06.930Z"
   },
   {
    "duration": 5,
    "start_time": "2022-05-09T16:49:06.938Z"
   },
   {
    "duration": 9,
    "start_time": "2022-05-09T16:49:06.944Z"
   },
   {
    "duration": 56,
    "start_time": "2022-05-09T16:49:06.955Z"
   },
   {
    "duration": 7,
    "start_time": "2022-05-09T16:49:07.013Z"
   },
   {
    "duration": 6,
    "start_time": "2022-05-09T16:49:07.022Z"
   },
   {
    "duration": 19,
    "start_time": "2022-05-09T16:49:07.030Z"
   },
   {
    "duration": 7,
    "start_time": "2022-05-09T16:49:07.051Z"
   },
   {
    "duration": 251,
    "start_time": "2022-05-09T16:49:07.060Z"
   },
   {
    "duration": 219,
    "start_time": "2022-05-09T16:49:07.315Z"
   },
   {
    "duration": 5,
    "start_time": "2022-05-09T16:49:07.536Z"
   },
   {
    "duration": 8,
    "start_time": "2022-05-09T16:49:07.543Z"
   },
   {
    "duration": 204,
    "start_time": "2022-05-09T16:49:07.553Z"
   },
   {
    "duration": 5,
    "start_time": "2022-05-09T16:49:07.759Z"
   },
   {
    "duration": 9,
    "start_time": "2022-05-09T16:49:07.765Z"
   },
   {
    "duration": 50,
    "start_time": "2022-05-09T16:49:07.776Z"
   },
   {
    "duration": 7,
    "start_time": "2022-05-09T16:49:07.828Z"
   },
   {
    "duration": 7,
    "start_time": "2022-05-09T16:49:07.836Z"
   },
   {
    "duration": 16,
    "start_time": "2022-05-09T16:49:07.844Z"
   },
   {
    "duration": 10,
    "start_time": "2022-05-09T16:49:07.862Z"
   },
   {
    "duration": 26,
    "start_time": "2022-05-09T16:49:07.874Z"
   },
   {
    "duration": 271,
    "start_time": "2022-05-09T16:49:07.902Z"
   },
   {
    "duration": 21,
    "start_time": "2022-05-09T16:49:08.175Z"
   },
   {
    "duration": 65,
    "start_time": "2022-05-09T16:49:08.198Z"
   },
   {
    "duration": 184,
    "start_time": "2022-05-09T16:49:08.265Z"
   },
   {
    "duration": 11,
    "start_time": "2022-05-09T16:49:08.450Z"
   },
   {
    "duration": 31,
    "start_time": "2022-05-09T16:49:08.463Z"
   },
   {
    "duration": 10,
    "start_time": "2022-05-09T16:49:08.497Z"
   },
   {
    "duration": 202,
    "start_time": "2022-05-09T16:49:08.509Z"
   },
   {
    "duration": 13,
    "start_time": "2022-05-09T16:49:08.714Z"
   },
   {
    "duration": 12,
    "start_time": "2022-05-09T16:49:08.729Z"
   },
   {
    "duration": 358,
    "start_time": "2022-05-09T16:49:08.743Z"
   },
   {
    "duration": 281,
    "start_time": "2022-05-09T16:49:09.103Z"
   },
   {
    "duration": 208,
    "start_time": "2022-05-09T16:49:09.386Z"
   },
   {
    "duration": 340,
    "start_time": "2022-05-09T16:49:09.596Z"
   },
   {
    "duration": 5,
    "start_time": "2022-05-09T16:49:09.938Z"
   },
   {
    "duration": 6,
    "start_time": "2022-05-09T16:49:09.945Z"
   },
   {
    "duration": 7,
    "start_time": "2022-05-09T16:49:09.953Z"
   },
   {
    "duration": 58,
    "start_time": "2022-05-09T16:49:09.962Z"
   },
   {
    "duration": 38,
    "start_time": "2022-05-09T16:49:10.022Z"
   },
   {
    "duration": 7,
    "start_time": "2022-05-09T16:49:10.063Z"
   },
   {
    "duration": 7,
    "start_time": "2022-05-09T16:49:10.094Z"
   },
   {
    "duration": 11,
    "start_time": "2022-05-09T16:51:39.891Z"
   }
  ],
  "kernelspec": {
   "display_name": "Python 3 (ipykernel)",
   "language": "python",
   "name": "python3"
  },
  "language_info": {
   "codemirror_mode": {
    "name": "ipython",
    "version": 3
   },
   "file_extension": ".py",
   "mimetype": "text/x-python",
   "name": "python",
   "nbconvert_exporter": "python",
   "pygments_lexer": "ipython3",
   "version": "3.9.15"
  },
  "toc": {
   "base_numbering": 1,
   "nav_menu": {},
   "number_sections": true,
   "sideBar": true,
   "skip_h1_title": true,
   "title_cell": "Table of Contents",
   "title_sidebar": "Contents",
   "toc_cell": false,
   "toc_position": {
    "height": "calc(100% - 180px)",
    "left": "10px",
    "top": "150px",
    "width": "250px"
   },
   "toc_section_display": true,
   "toc_window_display": false
  }
 },
 "nbformat": 4,
 "nbformat_minor": 2
}
