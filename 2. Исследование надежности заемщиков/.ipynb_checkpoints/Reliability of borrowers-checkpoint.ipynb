{
 "cells": [
  {
   "cell_type": "markdown",
   "id": "46a11c39",
   "metadata": {},
   "source": [
    "# Исследование надежности заемщиков."
   ]
  },
  {
   "cell_type": "markdown",
   "id": "19ebd3bd",
   "metadata": {},
   "source": [
    "На данных кредитного отдела банка о статистике платёжеспособности клиентов, мы разобремся, оказывает ли влияение семейное положение и количество детей клиента на факт погашения кредита в срок. \n",
    "\n",
    "Результаты исследования будут учтены при построении модели кредитного скоринга — специальной системы, которая оценивает способность потенциального заёмщика вернуть кредит банку.\n",
    "\n",
    "**Цель исследования** — ответить на четыре вопроса:\n",
    "\n",
    "1. Есть ли зависимость между количеством детей и возвратом кредита в срок?\n",
    "2. Есть ли зависимость между семейным положением и возвратом кредита в срок?\n",
    "3. Есть ли зависимость между уровнем дохода и возвратом кредита в срок?\n",
    "4. Как разные цели кредита влияют на его возврат в срок?\n",
    "\n",
    "**Ход исследования**\n",
    "\n",
    "Данные о статистике о платёжеспособности клиентов мы получим из файла `data.csv`. О качестве данных ничего не известно. Поэтому перед проверкой гипотез понадобится обзор данных.\n",
    "\n",
    "Мы проверим данные на ошибки и оценим их влияние на исследование. Затем, на этапе предобработки мы поищем возможность исправить самые критичные ошибки данных.\n",
    " \n",
    "Таким образом, исследование пройдёт в четыре этапа:\n",
    " 1. Обзор данных.\n",
    " 2. Предобработка данных.\n",
    " 3. Ответ на вопросы.\n",
    " 4. Общий вывод."
   ]
  },
  {
   "cell_type": "markdown",
   "id": "065629ab",
   "metadata": {},
   "source": [
    "## Обзор данных"
   ]
  },
  {
   "cell_type": "code",
   "execution_count": 211,
   "id": "b476a544",
   "metadata": {},
   "outputs": [],
   "source": [
    "import pandas as pd"
   ]
  },
  {
   "cell_type": "code",
   "execution_count": 212,
   "id": "57b711bc",
   "metadata": {
    "scrolled": true
   },
   "outputs": [],
   "source": [
    "df = pd.read_csv('/datasets/data.csv')\n"
   ]
  },
  {
   "cell_type": "code",
   "execution_count": 213,
   "id": "78f0800b",
   "metadata": {
    "scrolled": true
   },
   "outputs": [
    {
     "data": {
      "text/html": [
       "<div>\n",
       "<style scoped>\n",
       "    .dataframe tbody tr th:only-of-type {\n",
       "        vertical-align: middle;\n",
       "    }\n",
       "\n",
       "    .dataframe tbody tr th {\n",
       "        vertical-align: top;\n",
       "    }\n",
       "\n",
       "    .dataframe thead th {\n",
       "        text-align: right;\n",
       "    }\n",
       "</style>\n",
       "<table border=\"1\" class=\"dataframe\">\n",
       "  <thead>\n",
       "    <tr style=\"text-align: right;\">\n",
       "      <th></th>\n",
       "      <th>children</th>\n",
       "      <th>days_employed</th>\n",
       "      <th>dob_years</th>\n",
       "      <th>education</th>\n",
       "      <th>education_id</th>\n",
       "      <th>family_status</th>\n",
       "      <th>family_status_id</th>\n",
       "      <th>gender</th>\n",
       "      <th>income_type</th>\n",
       "      <th>debt</th>\n",
       "      <th>total_income</th>\n",
       "      <th>purpose</th>\n",
       "    </tr>\n",
       "  </thead>\n",
       "  <tbody>\n",
       "    <tr>\n",
       "      <td>0</td>\n",
       "      <td>1</td>\n",
       "      <td>-8437.673028</td>\n",
       "      <td>42</td>\n",
       "      <td>высшее</td>\n",
       "      <td>0</td>\n",
       "      <td>женат / замужем</td>\n",
       "      <td>0</td>\n",
       "      <td>F</td>\n",
       "      <td>сотрудник</td>\n",
       "      <td>0</td>\n",
       "      <td>253875.639453</td>\n",
       "      <td>покупка жилья</td>\n",
       "    </tr>\n",
       "    <tr>\n",
       "      <td>1</td>\n",
       "      <td>1</td>\n",
       "      <td>-4024.803754</td>\n",
       "      <td>36</td>\n",
       "      <td>среднее</td>\n",
       "      <td>1</td>\n",
       "      <td>женат / замужем</td>\n",
       "      <td>0</td>\n",
       "      <td>F</td>\n",
       "      <td>сотрудник</td>\n",
       "      <td>0</td>\n",
       "      <td>112080.014102</td>\n",
       "      <td>приобретение автомобиля</td>\n",
       "    </tr>\n",
       "    <tr>\n",
       "      <td>2</td>\n",
       "      <td>0</td>\n",
       "      <td>-5623.422610</td>\n",
       "      <td>33</td>\n",
       "      <td>Среднее</td>\n",
       "      <td>1</td>\n",
       "      <td>женат / замужем</td>\n",
       "      <td>0</td>\n",
       "      <td>M</td>\n",
       "      <td>сотрудник</td>\n",
       "      <td>0</td>\n",
       "      <td>145885.952297</td>\n",
       "      <td>покупка жилья</td>\n",
       "    </tr>\n",
       "    <tr>\n",
       "      <td>3</td>\n",
       "      <td>3</td>\n",
       "      <td>-4124.747207</td>\n",
       "      <td>32</td>\n",
       "      <td>среднее</td>\n",
       "      <td>1</td>\n",
       "      <td>женат / замужем</td>\n",
       "      <td>0</td>\n",
       "      <td>M</td>\n",
       "      <td>сотрудник</td>\n",
       "      <td>0</td>\n",
       "      <td>267628.550329</td>\n",
       "      <td>дополнительное образование</td>\n",
       "    </tr>\n",
       "    <tr>\n",
       "      <td>4</td>\n",
       "      <td>0</td>\n",
       "      <td>340266.072047</td>\n",
       "      <td>53</td>\n",
       "      <td>среднее</td>\n",
       "      <td>1</td>\n",
       "      <td>гражданский брак</td>\n",
       "      <td>1</td>\n",
       "      <td>F</td>\n",
       "      <td>пенсионер</td>\n",
       "      <td>0</td>\n",
       "      <td>158616.077870</td>\n",
       "      <td>сыграть свадьбу</td>\n",
       "    </tr>\n",
       "    <tr>\n",
       "      <td>5</td>\n",
       "      <td>0</td>\n",
       "      <td>-926.185831</td>\n",
       "      <td>27</td>\n",
       "      <td>высшее</td>\n",
       "      <td>0</td>\n",
       "      <td>гражданский брак</td>\n",
       "      <td>1</td>\n",
       "      <td>M</td>\n",
       "      <td>компаньон</td>\n",
       "      <td>0</td>\n",
       "      <td>255763.565419</td>\n",
       "      <td>покупка жилья</td>\n",
       "    </tr>\n",
       "    <tr>\n",
       "      <td>6</td>\n",
       "      <td>0</td>\n",
       "      <td>-2879.202052</td>\n",
       "      <td>43</td>\n",
       "      <td>высшее</td>\n",
       "      <td>0</td>\n",
       "      <td>женат / замужем</td>\n",
       "      <td>0</td>\n",
       "      <td>F</td>\n",
       "      <td>компаньон</td>\n",
       "      <td>0</td>\n",
       "      <td>240525.971920</td>\n",
       "      <td>операции с жильем</td>\n",
       "    </tr>\n",
       "    <tr>\n",
       "      <td>7</td>\n",
       "      <td>0</td>\n",
       "      <td>-152.779569</td>\n",
       "      <td>50</td>\n",
       "      <td>СРЕДНЕЕ</td>\n",
       "      <td>1</td>\n",
       "      <td>женат / замужем</td>\n",
       "      <td>0</td>\n",
       "      <td>M</td>\n",
       "      <td>сотрудник</td>\n",
       "      <td>0</td>\n",
       "      <td>135823.934197</td>\n",
       "      <td>образование</td>\n",
       "    </tr>\n",
       "    <tr>\n",
       "      <td>8</td>\n",
       "      <td>2</td>\n",
       "      <td>-6929.865299</td>\n",
       "      <td>35</td>\n",
       "      <td>ВЫСШЕЕ</td>\n",
       "      <td>0</td>\n",
       "      <td>гражданский брак</td>\n",
       "      <td>1</td>\n",
       "      <td>F</td>\n",
       "      <td>сотрудник</td>\n",
       "      <td>0</td>\n",
       "      <td>95856.832424</td>\n",
       "      <td>на проведение свадьбы</td>\n",
       "    </tr>\n",
       "    <tr>\n",
       "      <td>9</td>\n",
       "      <td>0</td>\n",
       "      <td>-2188.756445</td>\n",
       "      <td>41</td>\n",
       "      <td>среднее</td>\n",
       "      <td>1</td>\n",
       "      <td>женат / замужем</td>\n",
       "      <td>0</td>\n",
       "      <td>M</td>\n",
       "      <td>сотрудник</td>\n",
       "      <td>0</td>\n",
       "      <td>144425.938277</td>\n",
       "      <td>покупка жилья для семьи</td>\n",
       "    </tr>\n",
       "  </tbody>\n",
       "</table>\n",
       "</div>"
      ],
      "text/plain": [
       "   children  days_employed  dob_years education  education_id  \\\n",
       "0         1   -8437.673028         42    высшее             0   \n",
       "1         1   -4024.803754         36   среднее             1   \n",
       "2         0   -5623.422610         33   Среднее             1   \n",
       "3         3   -4124.747207         32   среднее             1   \n",
       "4         0  340266.072047         53   среднее             1   \n",
       "5         0    -926.185831         27    высшее             0   \n",
       "6         0   -2879.202052         43    высшее             0   \n",
       "7         0    -152.779569         50   СРЕДНЕЕ             1   \n",
       "8         2   -6929.865299         35    ВЫСШЕЕ             0   \n",
       "9         0   -2188.756445         41   среднее             1   \n",
       "\n",
       "      family_status  family_status_id gender income_type  debt   total_income  \\\n",
       "0   женат / замужем                 0      F   сотрудник     0  253875.639453   \n",
       "1   женат / замужем                 0      F   сотрудник     0  112080.014102   \n",
       "2   женат / замужем                 0      M   сотрудник     0  145885.952297   \n",
       "3   женат / замужем                 0      M   сотрудник     0  267628.550329   \n",
       "4  гражданский брак                 1      F   пенсионер     0  158616.077870   \n",
       "5  гражданский брак                 1      M   компаньон     0  255763.565419   \n",
       "6   женат / замужем                 0      F   компаньон     0  240525.971920   \n",
       "7   женат / замужем                 0      M   сотрудник     0  135823.934197   \n",
       "8  гражданский брак                 1      F   сотрудник     0   95856.832424   \n",
       "9   женат / замужем                 0      M   сотрудник     0  144425.938277   \n",
       "\n",
       "                      purpose  \n",
       "0               покупка жилья  \n",
       "1     приобретение автомобиля  \n",
       "2               покупка жилья  \n",
       "3  дополнительное образование  \n",
       "4             сыграть свадьбу  \n",
       "5               покупка жилья  \n",
       "6           операции с жильем  \n",
       "7                 образование  \n",
       "8       на проведение свадьбы  \n",
       "9     покупка жилья для семьи  "
      ]
     },
     "metadata": {},
     "output_type": "display_data"
    }
   ],
   "source": [
    "display(df.head(10))"
   ]
  },
  {
   "cell_type": "code",
   "execution_count": 214,
   "id": "5d446849",
   "metadata": {
    "scrolled": true
   },
   "outputs": [
    {
     "name": "stdout",
     "output_type": "stream",
     "text": [
      "<class 'pandas.core.frame.DataFrame'>\n",
      "RangeIndex: 21525 entries, 0 to 21524\n",
      "Data columns (total 12 columns):\n",
      "children            21525 non-null int64\n",
      "days_employed       19351 non-null float64\n",
      "dob_years           21525 non-null int64\n",
      "education           21525 non-null object\n",
      "education_id        21525 non-null int64\n",
      "family_status       21525 non-null object\n",
      "family_status_id    21525 non-null int64\n",
      "gender              21525 non-null object\n",
      "income_type         21525 non-null object\n",
      "debt                21525 non-null int64\n",
      "total_income        19351 non-null float64\n",
      "purpose             21525 non-null object\n",
      "dtypes: float64(2), int64(5), object(5)\n",
      "memory usage: 2.0+ MB\n"
     ]
    }
   ],
   "source": [
    "df.info()"
   ]
  },
  {
   "cell_type": "markdown",
   "id": "bffcc8f7",
   "metadata": {},
   "source": [
    "Итак, в таблице двенадцать столбцов. Тип данных во всех столбцах — `object, int64, float64`.\n",
    "\n",
    "Согласно документации к данным:\n",
    "\n",
    "* `children` — количество детей в семье\n",
    "* `days_employed` — общий трудовой стаж в днях\n",
    "* `dob_years` — возраст клиента в годах\n",
    "* `education` — уровень образования клиента\n",
    "* `education_id` — идентификатор уровня образования\n",
    "* `family_status` — семейное положение\n",
    "* `family_status_id` — идентификатор семейного положения\n",
    "* `gender` — пол клиента\n",
    "* `income_type` — тип занятости\n",
    "* `debt` — имел ли задолженность по возврату кредитов\n",
    "* `total_income` — ежемесячный доход\n",
    "* `purpose` — цель получения кредита\n",
    "\n",
    "Количество значений в столбцах различается. Значит, в данных есть пропущенные значения."
   ]
  },
  {
   "cell_type": "markdown",
   "id": "5e5dfbdc",
   "metadata": {},
   "source": [
    "**Выводы**\n",
    "\n",
    "Предварительно можно утверждать, что, данных достаточно для проверки гипотез, но в столбцах `days_employed` и `total_income` встречаются пропуски в данных.\n",
    "\n",
    "Чтобы двигаться дальше, нужно устранить проблемы в данных."
   ]
  },
  {
   "cell_type": "markdown",
   "id": "e3ee4949",
   "metadata": {},
   "source": [
    "### Шаг 2.1 Заполнение пропусков"
   ]
  },
  {
   "cell_type": "markdown",
   "id": "3a4deb94",
   "metadata": {},
   "source": [
    "Мы обнаружили пропущенные количественные переменные в столбцах `days_employed` и `total_income` в равном количестве. Вычислим какую долю составляют пропущенные значения в каждом из столбцов с пропусками:"
   ]
  },
  {
   "cell_type": "code",
   "execution_count": 215,
   "id": "868f235a",
   "metadata": {
    "scrolled": true
   },
   "outputs": [
    {
     "data": {
      "text/plain": [
       "children               0\n",
       "days_employed       2174\n",
       "dob_years              0\n",
       "education              0\n",
       "education_id           0\n",
       "family_status          0\n",
       "family_status_id       0\n",
       "gender                 0\n",
       "income_type            0\n",
       "debt                   0\n",
       "total_income        2174\n",
       "purpose                0\n",
       "dtype: int64"
      ]
     },
     "execution_count": 215,
     "metadata": {},
     "output_type": "execute_result"
    }
   ],
   "source": [
    "df.isna().sum()"
   ]
  },
  {
   "cell_type": "markdown",
   "id": "66c83cf6",
   "metadata": {},
   "source": [
    "Доля пропущенных значений в столбцах `days_employed` и `total_income` велика, что может отрицательно повлиять на выводы исследования. По возможности необходимо связаться с заказчиком, чтобы свести пропуски в данных к минимуму."
   ]
  },
  {
   "cell_type": "code",
   "execution_count": 216,
   "id": "6671c0f9",
   "metadata": {
    "scrolled": true
   },
   "outputs": [
    {
     "name": "stdout",
     "output_type": "stream",
     "text": [
      "10.1%\n"
     ]
    }
   ],
   "source": [
    "missing_values = len(df[df['days_employed'].isna()]) / len(df)\n",
    "print(f'{missing_values:.1%}')"
   ]
  },
  {
   "cell_type": "markdown",
   "id": "a69d8ce7",
   "metadata": {},
   "source": [
    "К возможным причин появления пропусков в данных стобцах можно отнести:\n",
    "* отсутствие официального дохода и трудового стажа у клиента, которые можно подтвердить документально\n",
    "* нежелание клиента указывать доход и трудовой стаж\n",
    "\n",
    "Стоит отметить, что во всем датафрейме только три таблицы `days_employed`, `total_income` и `income_type` имеют прямое отношение к работе. Однако все `студенты` и `безработые` из таблицы `income_type` имеют данные о доходе и стаже, что исключает гипотезу о том, что пропуски в данных `days_employed`, `total_income` связаны с отсутствием работы у клиента."
   ]
  },
  {
   "cell_type": "code",
   "execution_count": 217,
   "id": "821fed58",
   "metadata": {
    "scrolled": true
   },
   "outputs": [
    {
     "data": {
      "text/plain": [
       "array(['сотрудник', 'пенсионер', 'компаньон', 'госслужащий',\n",
       "       'безработный', 'предприниматель', 'студент', 'в декрете'],\n",
       "      dtype=object)"
      ]
     },
     "execution_count": 217,
     "metadata": {},
     "output_type": "execute_result"
    }
   ],
   "source": [
    "df['income_type'].unique()"
   ]
  },
  {
   "cell_type": "code",
   "execution_count": 218,
   "id": "25020848",
   "metadata": {},
   "outputs": [
    {
     "data": {
      "text/html": [
       "<div>\n",
       "<style scoped>\n",
       "    .dataframe tbody tr th:only-of-type {\n",
       "        vertical-align: middle;\n",
       "    }\n",
       "\n",
       "    .dataframe tbody tr th {\n",
       "        vertical-align: top;\n",
       "    }\n",
       "\n",
       "    .dataframe thead th {\n",
       "        text-align: right;\n",
       "    }\n",
       "</style>\n",
       "<table border=\"1\" class=\"dataframe\">\n",
       "  <thead>\n",
       "    <tr style=\"text-align: right;\">\n",
       "      <th></th>\n",
       "      <th>children</th>\n",
       "      <th>days_employed</th>\n",
       "      <th>dob_years</th>\n",
       "      <th>education</th>\n",
       "      <th>education_id</th>\n",
       "      <th>family_status</th>\n",
       "      <th>family_status_id</th>\n",
       "      <th>gender</th>\n",
       "      <th>income_type</th>\n",
       "      <th>debt</th>\n",
       "      <th>total_income</th>\n",
       "      <th>purpose</th>\n",
       "    </tr>\n",
       "  </thead>\n",
       "  <tbody>\n",
       "    <tr>\n",
       "      <td>9410</td>\n",
       "      <td>0</td>\n",
       "      <td>-578.751554</td>\n",
       "      <td>22</td>\n",
       "      <td>высшее</td>\n",
       "      <td>0</td>\n",
       "      <td>Не женат / не замужем</td>\n",
       "      <td>4</td>\n",
       "      <td>M</td>\n",
       "      <td>студент</td>\n",
       "      <td>0</td>\n",
       "      <td>98201.625314</td>\n",
       "      <td>строительство собственной недвижимости</td>\n",
       "    </tr>\n",
       "  </tbody>\n",
       "</table>\n",
       "</div>"
      ],
      "text/plain": [
       "      children  days_employed  dob_years education  education_id  \\\n",
       "9410         0    -578.751554         22    высшее             0   \n",
       "\n",
       "              family_status  family_status_id gender income_type  debt  \\\n",
       "9410  Не женат / не замужем                 4      M     студент     0   \n",
       "\n",
       "      total_income                                 purpose  \n",
       "9410  98201.625314  строительство собственной недвижимости  "
      ]
     },
     "execution_count": 218,
     "metadata": {},
     "output_type": "execute_result"
    }
   ],
   "source": [
    "df[df['income_type'] == 'студент']"
   ]
  },
  {
   "cell_type": "code",
   "execution_count": 219,
   "id": "71634dfd",
   "metadata": {
    "scrolled": false
   },
   "outputs": [
    {
     "data": {
      "text/html": [
       "<div>\n",
       "<style scoped>\n",
       "    .dataframe tbody tr th:only-of-type {\n",
       "        vertical-align: middle;\n",
       "    }\n",
       "\n",
       "    .dataframe tbody tr th {\n",
       "        vertical-align: top;\n",
       "    }\n",
       "\n",
       "    .dataframe thead th {\n",
       "        text-align: right;\n",
       "    }\n",
       "</style>\n",
       "<table border=\"1\" class=\"dataframe\">\n",
       "  <thead>\n",
       "    <tr style=\"text-align: right;\">\n",
       "      <th></th>\n",
       "      <th>children</th>\n",
       "      <th>days_employed</th>\n",
       "      <th>dob_years</th>\n",
       "      <th>education</th>\n",
       "      <th>education_id</th>\n",
       "      <th>family_status</th>\n",
       "      <th>family_status_id</th>\n",
       "      <th>gender</th>\n",
       "      <th>income_type</th>\n",
       "      <th>debt</th>\n",
       "      <th>total_income</th>\n",
       "      <th>purpose</th>\n",
       "    </tr>\n",
       "  </thead>\n",
       "  <tbody>\n",
       "    <tr>\n",
       "      <td>3133</td>\n",
       "      <td>1</td>\n",
       "      <td>337524.466835</td>\n",
       "      <td>31</td>\n",
       "      <td>среднее</td>\n",
       "      <td>1</td>\n",
       "      <td>женат / замужем</td>\n",
       "      <td>0</td>\n",
       "      <td>M</td>\n",
       "      <td>безработный</td>\n",
       "      <td>1</td>\n",
       "      <td>59956.991984</td>\n",
       "      <td>покупка жилья для сдачи</td>\n",
       "    </tr>\n",
       "    <tr>\n",
       "      <td>14798</td>\n",
       "      <td>0</td>\n",
       "      <td>395302.838654</td>\n",
       "      <td>45</td>\n",
       "      <td>Высшее</td>\n",
       "      <td>0</td>\n",
       "      <td>гражданский брак</td>\n",
       "      <td>1</td>\n",
       "      <td>F</td>\n",
       "      <td>безработный</td>\n",
       "      <td>0</td>\n",
       "      <td>202722.511368</td>\n",
       "      <td>ремонт жилью</td>\n",
       "    </tr>\n",
       "  </tbody>\n",
       "</table>\n",
       "</div>"
      ],
      "text/plain": [
       "       children  days_employed  dob_years education  education_id  \\\n",
       "3133          1  337524.466835         31   среднее             1   \n",
       "14798         0  395302.838654         45    Высшее             0   \n",
       "\n",
       "          family_status  family_status_id gender  income_type  debt  \\\n",
       "3133    женат / замужем                 0      M  безработный     1   \n",
       "14798  гражданский брак                 1      F  безработный     0   \n",
       "\n",
       "        total_income                  purpose  \n",
       "3133    59956.991984  покупка жилья для сдачи  \n",
       "14798  202722.511368             ремонт жилью  "
      ]
     },
     "execution_count": 219,
     "metadata": {},
     "output_type": "execute_result"
    }
   ],
   "source": [
    "df[df['income_type'] == 'безработный']"
   ]
  },
  {
   "cell_type": "markdown",
   "id": "7af1cea5",
   "metadata": {},
   "source": [
    "Числа в таблице `days_employed` имеют как положительные, так и отрицательные значения. Поскольку данные указывают на количество дней трудового стажа, то приведение их к единому положительному значению не появлияет на результаты исследования. Для этого возьмём модуль каждого значения с помощью функцию`abs()`."
   ]
  },
  {
   "cell_type": "code",
   "execution_count": 220,
   "id": "141daaeb",
   "metadata": {
    "scrolled": true
   },
   "outputs": [],
   "source": [
    "employed_median = df['days_employed'].abs().median()"
   ]
  },
  {
   "cell_type": "code",
   "execution_count": 221,
   "id": "d5bb1574",
   "metadata": {},
   "outputs": [],
   "source": [
    "income_median = df['total_income'].median()"
   ]
  },
  {
   "cell_type": "markdown",
   "id": "77b6990c",
   "metadata": {},
   "source": [
    "Заполним пропуски медианным значением - это будет лучшим решением для данных количественных переменных, поскольку это позволит отсеить аномально большие и малые значения, и как следствие получить более точный средний результат."
   ]
  },
  {
   "cell_type": "code",
   "execution_count": 222,
   "id": "b6c718c1",
   "metadata": {},
   "outputs": [],
   "source": [
    "df['days_employed'] = df['days_employed'].fillna(employed_median)"
   ]
  },
  {
   "cell_type": "code",
   "execution_count": 223,
   "id": "58263b01",
   "metadata": {},
   "outputs": [],
   "source": [
    "df['total_income'] = df['total_income'].fillna(income_median)"
   ]
  },
  {
   "cell_type": "markdown",
   "id": "2522ffce",
   "metadata": {},
   "source": [
    "Убедимся, что в таблице не осталось пропусков. Для этого ещё раз посчитаем пропущенные значения."
   ]
  },
  {
   "cell_type": "code",
   "execution_count": 224,
   "id": "3b8bb4c5",
   "metadata": {},
   "outputs": [
    {
     "data": {
      "text/plain": [
       "children            0\n",
       "days_employed       0\n",
       "dob_years           0\n",
       "education           0\n",
       "education_id        0\n",
       "family_status       0\n",
       "family_status_id    0\n",
       "gender              0\n",
       "income_type         0\n",
       "debt                0\n",
       "total_income        0\n",
       "purpose             0\n",
       "dtype: int64"
      ]
     },
     "execution_count": 224,
     "metadata": {},
     "output_type": "execute_result"
    }
   ],
   "source": [
    "df.isna().sum()"
   ]
  },
  {
   "cell_type": "markdown",
   "id": "1133bc2c",
   "metadata": {},
   "source": [
    "### Шаг 2.2 Проверка данных на аномалии и исправления."
   ]
  },
  {
   "cell_type": "markdown",
   "id": "23e050f3",
   "metadata": {},
   "source": [
    "В данных могут встречаться артефакты (аномалии) — значения, которые не отражают действительность и появились по какой-то ошибке. Например, отрицательное количество дней трудового стажа в столбце `days_employed`. Обработаем значения в столбцах с аномалиями и опишем возможные причины появления таких данных."
   ]
  },
  {
   "cell_type": "code",
   "execution_count": 225,
   "id": "11f95cbe",
   "metadata": {},
   "outputs": [
    {
     "data": {
      "text/html": [
       "<div>\n",
       "<style scoped>\n",
       "    .dataframe tbody tr th:only-of-type {\n",
       "        vertical-align: middle;\n",
       "    }\n",
       "\n",
       "    .dataframe tbody tr th {\n",
       "        vertical-align: top;\n",
       "    }\n",
       "\n",
       "    .dataframe thead th {\n",
       "        text-align: right;\n",
       "    }\n",
       "</style>\n",
       "<table border=\"1\" class=\"dataframe\">\n",
       "  <thead>\n",
       "    <tr style=\"text-align: right;\">\n",
       "      <th></th>\n",
       "      <th>children</th>\n",
       "      <th>days_employed</th>\n",
       "      <th>dob_years</th>\n",
       "      <th>education</th>\n",
       "      <th>education_id</th>\n",
       "      <th>family_status</th>\n",
       "      <th>family_status_id</th>\n",
       "      <th>gender</th>\n",
       "      <th>income_type</th>\n",
       "      <th>debt</th>\n",
       "      <th>total_income</th>\n",
       "      <th>purpose</th>\n",
       "    </tr>\n",
       "  </thead>\n",
       "  <tbody>\n",
       "    <tr>\n",
       "      <td>0</td>\n",
       "      <td>1</td>\n",
       "      <td>8437.673028</td>\n",
       "      <td>42</td>\n",
       "      <td>высшее</td>\n",
       "      <td>0</td>\n",
       "      <td>женат / замужем</td>\n",
       "      <td>0</td>\n",
       "      <td>F</td>\n",
       "      <td>сотрудник</td>\n",
       "      <td>0</td>\n",
       "      <td>253875.639453</td>\n",
       "      <td>покупка жилья</td>\n",
       "    </tr>\n",
       "    <tr>\n",
       "      <td>1</td>\n",
       "      <td>1</td>\n",
       "      <td>4024.803754</td>\n",
       "      <td>36</td>\n",
       "      <td>среднее</td>\n",
       "      <td>1</td>\n",
       "      <td>женат / замужем</td>\n",
       "      <td>0</td>\n",
       "      <td>F</td>\n",
       "      <td>сотрудник</td>\n",
       "      <td>0</td>\n",
       "      <td>112080.014102</td>\n",
       "      <td>приобретение автомобиля</td>\n",
       "    </tr>\n",
       "    <tr>\n",
       "      <td>2</td>\n",
       "      <td>0</td>\n",
       "      <td>5623.422610</td>\n",
       "      <td>33</td>\n",
       "      <td>Среднее</td>\n",
       "      <td>1</td>\n",
       "      <td>женат / замужем</td>\n",
       "      <td>0</td>\n",
       "      <td>M</td>\n",
       "      <td>сотрудник</td>\n",
       "      <td>0</td>\n",
       "      <td>145885.952297</td>\n",
       "      <td>покупка жилья</td>\n",
       "    </tr>\n",
       "    <tr>\n",
       "      <td>3</td>\n",
       "      <td>3</td>\n",
       "      <td>4124.747207</td>\n",
       "      <td>32</td>\n",
       "      <td>среднее</td>\n",
       "      <td>1</td>\n",
       "      <td>женат / замужем</td>\n",
       "      <td>0</td>\n",
       "      <td>M</td>\n",
       "      <td>сотрудник</td>\n",
       "      <td>0</td>\n",
       "      <td>267628.550329</td>\n",
       "      <td>дополнительное образование</td>\n",
       "    </tr>\n",
       "    <tr>\n",
       "      <td>4</td>\n",
       "      <td>0</td>\n",
       "      <td>340266.072047</td>\n",
       "      <td>53</td>\n",
       "      <td>среднее</td>\n",
       "      <td>1</td>\n",
       "      <td>гражданский брак</td>\n",
       "      <td>1</td>\n",
       "      <td>F</td>\n",
       "      <td>пенсионер</td>\n",
       "      <td>0</td>\n",
       "      <td>158616.077870</td>\n",
       "      <td>сыграть свадьбу</td>\n",
       "    </tr>\n",
       "  </tbody>\n",
       "</table>\n",
       "</div>"
      ],
      "text/plain": [
       "   children  days_employed  dob_years education  education_id  \\\n",
       "0         1    8437.673028         42    высшее             0   \n",
       "1         1    4024.803754         36   среднее             1   \n",
       "2         0    5623.422610         33   Среднее             1   \n",
       "3         3    4124.747207         32   среднее             1   \n",
       "4         0  340266.072047         53   среднее             1   \n",
       "\n",
       "      family_status  family_status_id gender income_type  debt   total_income  \\\n",
       "0   женат / замужем                 0      F   сотрудник     0  253875.639453   \n",
       "1   женат / замужем                 0      F   сотрудник     0  112080.014102   \n",
       "2   женат / замужем                 0      M   сотрудник     0  145885.952297   \n",
       "3   женат / замужем                 0      M   сотрудник     0  267628.550329   \n",
       "4  гражданский брак                 1      F   пенсионер     0  158616.077870   \n",
       "\n",
       "                      purpose  \n",
       "0               покупка жилья  \n",
       "1     приобретение автомобиля  \n",
       "2               покупка жилья  \n",
       "3  дополнительное образование  \n",
       "4             сыграть свадьбу  "
      ]
     },
     "execution_count": 225,
     "metadata": {},
     "output_type": "execute_result"
    }
   ],
   "source": [
    "df['days_employed'] = df['days_employed'].abs()\n",
    "df['children'] = df['children'].abs()\n",
    "df.head()"
   ]
  },
  {
   "cell_type": "markdown",
   "id": "5a3ade8b",
   "metadata": {},
   "source": [
    "### Шаг 2.3. Изменение типов данных."
   ]
  },
  {
   "cell_type": "markdown",
   "id": "1b0390f0",
   "metadata": {},
   "source": [
    "Заменим вещественный тип данных в столбце `total_income` и `days_employed` на целочисленный с помощью метода `astype()`."
   ]
  },
  {
   "cell_type": "code",
   "execution_count": 226,
   "id": "1893e782",
   "metadata": {},
   "outputs": [
    {
     "data": {
      "text/html": [
       "<div>\n",
       "<style scoped>\n",
       "    .dataframe tbody tr th:only-of-type {\n",
       "        vertical-align: middle;\n",
       "    }\n",
       "\n",
       "    .dataframe tbody tr th {\n",
       "        vertical-align: top;\n",
       "    }\n",
       "\n",
       "    .dataframe thead th {\n",
       "        text-align: right;\n",
       "    }\n",
       "</style>\n",
       "<table border=\"1\" class=\"dataframe\">\n",
       "  <thead>\n",
       "    <tr style=\"text-align: right;\">\n",
       "      <th></th>\n",
       "      <th>children</th>\n",
       "      <th>days_employed</th>\n",
       "      <th>dob_years</th>\n",
       "      <th>education</th>\n",
       "      <th>education_id</th>\n",
       "      <th>family_status</th>\n",
       "      <th>family_status_id</th>\n",
       "      <th>gender</th>\n",
       "      <th>income_type</th>\n",
       "      <th>debt</th>\n",
       "      <th>total_income</th>\n",
       "      <th>purpose</th>\n",
       "    </tr>\n",
       "  </thead>\n",
       "  <tbody>\n",
       "    <tr>\n",
       "      <td>0</td>\n",
       "      <td>1</td>\n",
       "      <td>8437</td>\n",
       "      <td>42</td>\n",
       "      <td>высшее</td>\n",
       "      <td>0</td>\n",
       "      <td>женат / замужем</td>\n",
       "      <td>0</td>\n",
       "      <td>F</td>\n",
       "      <td>сотрудник</td>\n",
       "      <td>0</td>\n",
       "      <td>253875</td>\n",
       "      <td>покупка жилья</td>\n",
       "    </tr>\n",
       "    <tr>\n",
       "      <td>1</td>\n",
       "      <td>1</td>\n",
       "      <td>4024</td>\n",
       "      <td>36</td>\n",
       "      <td>среднее</td>\n",
       "      <td>1</td>\n",
       "      <td>женат / замужем</td>\n",
       "      <td>0</td>\n",
       "      <td>F</td>\n",
       "      <td>сотрудник</td>\n",
       "      <td>0</td>\n",
       "      <td>112080</td>\n",
       "      <td>приобретение автомобиля</td>\n",
       "    </tr>\n",
       "    <tr>\n",
       "      <td>2</td>\n",
       "      <td>0</td>\n",
       "      <td>5623</td>\n",
       "      <td>33</td>\n",
       "      <td>Среднее</td>\n",
       "      <td>1</td>\n",
       "      <td>женат / замужем</td>\n",
       "      <td>0</td>\n",
       "      <td>M</td>\n",
       "      <td>сотрудник</td>\n",
       "      <td>0</td>\n",
       "      <td>145885</td>\n",
       "      <td>покупка жилья</td>\n",
       "    </tr>\n",
       "    <tr>\n",
       "      <td>3</td>\n",
       "      <td>3</td>\n",
       "      <td>4124</td>\n",
       "      <td>32</td>\n",
       "      <td>среднее</td>\n",
       "      <td>1</td>\n",
       "      <td>женат / замужем</td>\n",
       "      <td>0</td>\n",
       "      <td>M</td>\n",
       "      <td>сотрудник</td>\n",
       "      <td>0</td>\n",
       "      <td>267628</td>\n",
       "      <td>дополнительное образование</td>\n",
       "    </tr>\n",
       "    <tr>\n",
       "      <td>4</td>\n",
       "      <td>0</td>\n",
       "      <td>340266</td>\n",
       "      <td>53</td>\n",
       "      <td>среднее</td>\n",
       "      <td>1</td>\n",
       "      <td>гражданский брак</td>\n",
       "      <td>1</td>\n",
       "      <td>F</td>\n",
       "      <td>пенсионер</td>\n",
       "      <td>0</td>\n",
       "      <td>158616</td>\n",
       "      <td>сыграть свадьбу</td>\n",
       "    </tr>\n",
       "  </tbody>\n",
       "</table>\n",
       "</div>"
      ],
      "text/plain": [
       "   children  days_employed  dob_years education  education_id  \\\n",
       "0         1           8437         42    высшее             0   \n",
       "1         1           4024         36   среднее             1   \n",
       "2         0           5623         33   Среднее             1   \n",
       "3         3           4124         32   среднее             1   \n",
       "4         0         340266         53   среднее             1   \n",
       "\n",
       "      family_status  family_status_id gender income_type  debt  total_income  \\\n",
       "0   женат / замужем                 0      F   сотрудник     0        253875   \n",
       "1   женат / замужем                 0      F   сотрудник     0        112080   \n",
       "2   женат / замужем                 0      M   сотрудник     0        145885   \n",
       "3   женат / замужем                 0      M   сотрудник     0        267628   \n",
       "4  гражданский брак                 1      F   пенсионер     0        158616   \n",
       "\n",
       "                      purpose  \n",
       "0               покупка жилья  \n",
       "1     приобретение автомобиля  \n",
       "2               покупка жилья  \n",
       "3  дополнительное образование  \n",
       "4             сыграть свадьбу  "
      ]
     },
     "execution_count": 226,
     "metadata": {},
     "output_type": "execute_result"
    }
   ],
   "source": [
    "df['total_income'] = df['total_income'].astype('int')\n",
    "df['days_employed'] = df['days_employed'].astype('int')\n",
    "df.head()"
   ]
  },
  {
   "cell_type": "code",
   "execution_count": 227,
   "id": "1e500152",
   "metadata": {},
   "outputs": [
    {
     "name": "stdout",
     "output_type": "stream",
     "text": [
      "<class 'pandas.core.frame.DataFrame'>\n",
      "RangeIndex: 21525 entries, 0 to 21524\n",
      "Data columns (total 12 columns):\n",
      "children            21525 non-null int64\n",
      "days_employed       21525 non-null int64\n",
      "dob_years           21525 non-null int64\n",
      "education           21525 non-null object\n",
      "education_id        21525 non-null int64\n",
      "family_status       21525 non-null object\n",
      "family_status_id    21525 non-null int64\n",
      "gender              21525 non-null object\n",
      "income_type         21525 non-null object\n",
      "debt                21525 non-null int64\n",
      "total_income        21525 non-null int64\n",
      "purpose             21525 non-null object\n",
      "dtypes: int64(7), object(5)\n",
      "memory usage: 2.0+ MB\n"
     ]
    }
   ],
   "source": [
    "df.info()"
   ]
  },
  {
   "cell_type": "markdown",
   "id": "661a529e",
   "metadata": {},
   "source": [
    "### Шаг 2.4. Удаление дубликатов."
   ]
  },
  {
   "cell_type": "markdown",
   "id": "3af67244",
   "metadata": {},
   "source": [
    "Также обработаем неявные дубликаты. "
   ]
  },
  {
   "cell_type": "code",
   "execution_count": 228,
   "id": "47f3a7ce",
   "metadata": {},
   "outputs": [
    {
     "data": {
      "text/plain": [
       "array(['ВЫСШЕЕ', 'Высшее', 'НАЧАЛЬНОЕ', 'НЕОКОНЧЕННОЕ ВЫСШЕЕ',\n",
       "       'Начальное', 'Неоконченное высшее', 'СРЕДНЕЕ', 'Среднее',\n",
       "       'УЧЕНАЯ СТЕПЕНЬ', 'Ученая степень', 'высшее', 'начальное',\n",
       "       'неоконченное высшее', 'среднее', 'ученая степень'], dtype=object)"
      ]
     },
     "execution_count": 228,
     "metadata": {},
     "output_type": "execute_result"
    }
   ],
   "source": [
    "df.sort_values(by='education')['education'].unique()"
   ]
  },
  {
   "cell_type": "markdown",
   "id": "9d58e381",
   "metadata": {},
   "source": [
    "Данные дубликаты были образованы в результате разного регистра при заполнении данных. Уберём дубликаты: с помощью метода `lower()` приведём данные к нижнем регистру."
   ]
  },
  {
   "cell_type": "code",
   "execution_count": 229,
   "id": "bfea9d74",
   "metadata": {},
   "outputs": [],
   "source": [
    "df['education'] = df['education'].str.lower()"
   ]
  },
  {
   "cell_type": "code",
   "execution_count": 230,
   "id": "dd554882",
   "metadata": {},
   "outputs": [
    {
     "data": {
      "text/plain": [
       "array(['высшее', 'начальное', 'неоконченное высшее', 'среднее',\n",
       "       'ученая степень'], dtype=object)"
      ]
     },
     "execution_count": 230,
     "metadata": {},
     "output_type": "execute_result"
    }
   ],
   "source": [
    "df.sort_values(by='education')['education'].unique()"
   ]
  },
  {
   "cell_type": "code",
   "execution_count": 231,
   "id": "46309f23",
   "metadata": {},
   "outputs": [
    {
     "data": {
      "text/plain": [
       "array(['Не женат / не замужем', 'в разводе', 'вдовец / вдова',\n",
       "       'гражданский брак', 'женат / замужем'], dtype=object)"
      ]
     },
     "execution_count": 231,
     "metadata": {},
     "output_type": "execute_result"
    }
   ],
   "source": [
    "df.sort_values(by='family_status')['family_status'].unique()"
   ]
  },
  {
   "cell_type": "markdown",
   "id": "5148dc9b",
   "metadata": {},
   "source": [
    "Приведём `family_status` к единому регистру."
   ]
  },
  {
   "cell_type": "code",
   "execution_count": 232,
   "id": "ab7a5339",
   "metadata": {},
   "outputs": [],
   "source": [
    "df['family_status'] = df['family_status'].str.lower()"
   ]
  },
  {
   "cell_type": "markdown",
   "id": "06378ef5",
   "metadata": {},
   "source": [
    "В столбце `purpose` есть неявные дубликаты с подробной целью кредита, однако для более точной информации о сделке их менять мы не будем. Однако ниже мы распределим их по категориям."
   ]
  },
  {
   "cell_type": "code",
   "execution_count": 233,
   "id": "15899367",
   "metadata": {},
   "outputs": [
    {
     "data": {
      "text/plain": [
       "array(['автомобили', 'автомобиль', 'высшее образование',\n",
       "       'дополнительное образование', 'жилье',\n",
       "       'заняться высшим образованием', 'заняться образованием',\n",
       "       'на покупку автомобиля', 'на покупку подержанного автомобиля',\n",
       "       'на покупку своего автомобиля', 'на проведение свадьбы',\n",
       "       'недвижимость', 'образование', 'операции с жильем',\n",
       "       'операции с коммерческой недвижимостью',\n",
       "       'операции с недвижимостью', 'операции со своей недвижимостью',\n",
       "       'покупка жилой недвижимости', 'покупка жилья',\n",
       "       'покупка жилья для сдачи', 'покупка жилья для семьи',\n",
       "       'покупка коммерческой недвижимости', 'покупка недвижимости',\n",
       "       'покупка своего жилья', 'получение высшего образования',\n",
       "       'получение дополнительного образования', 'получение образования',\n",
       "       'приобретение автомобиля', 'профильное образование',\n",
       "       'ремонт жилью', 'свадьба', 'свой автомобиль',\n",
       "       'сделка с автомобилем', 'сделка с подержанным автомобилем',\n",
       "       'строительство жилой недвижимости', 'строительство недвижимости',\n",
       "       'строительство собственной недвижимости', 'сыграть свадьбу'],\n",
       "      dtype=object)"
      ]
     },
     "execution_count": 233,
     "metadata": {},
     "output_type": "execute_result"
    }
   ],
   "source": [
    "df.sort_values(by='purpose')['purpose'].unique()"
   ]
  },
  {
   "cell_type": "code",
   "execution_count": 234,
   "id": "680e287f",
   "metadata": {},
   "outputs": [
    {
     "data": {
      "text/plain": [
       "array(['автомобили', 'автомобиль', 'высшее образование',\n",
       "       'дополнительное образование', 'жилье',\n",
       "       'заняться высшим образованием', 'заняться образованием',\n",
       "       'на покупку автомобиля', 'на покупку подержанного автомобиля',\n",
       "       'на покупку своего автомобиля', 'на проведение свадьбы',\n",
       "       'недвижимость', 'образование', 'операции с жильем',\n",
       "       'операции с коммерческой недвижимостью',\n",
       "       'операции с недвижимостью', 'операции со своей недвижимостью',\n",
       "       'покупка жилой недвижимости', 'покупка жилья',\n",
       "       'покупка жилья для сдачи', 'покупка жилья для семьи',\n",
       "       'покупка коммерческой недвижимости', 'покупка недвижимости',\n",
       "       'покупка своего жилья', 'получение высшего образования',\n",
       "       'получение дополнительного образования', 'получение образования',\n",
       "       'приобретение автомобиля', 'профильное образование',\n",
       "       'ремонт жилью', 'свадьба', 'свой автомобиль',\n",
       "       'сделка с автомобилем', 'сделка с подержанным автомобилем',\n",
       "       'строительство жилой недвижимости', 'строительство недвижимости',\n",
       "       'строительство собственной недвижимости', 'сыграть свадьбу'],\n",
       "      dtype=object)"
      ]
     },
     "execution_count": 234,
     "metadata": {},
     "output_type": "execute_result"
    }
   ],
   "source": [
    "df.sort_values(by='purpose')['purpose'].unique()"
   ]
  },
  {
   "cell_type": "markdown",
   "id": "8331f9b5",
   "metadata": {},
   "source": [
    "Удалим строки-дубликаты. "
   ]
  },
  {
   "cell_type": "code",
   "execution_count": 235,
   "id": "78edf86a",
   "metadata": {
    "scrolled": true
   },
   "outputs": [
    {
     "data": {
      "text/plain": [
       "71"
      ]
     },
     "execution_count": 235,
     "metadata": {},
     "output_type": "execute_result"
    }
   ],
   "source": [
    "df.duplicated().sum()"
   ]
  },
  {
   "cell_type": "code",
   "execution_count": 236,
   "id": "4b6f1113",
   "metadata": {},
   "outputs": [],
   "source": [
    "df = df.drop_duplicates().reset_index(drop=True)"
   ]
  },
  {
   "cell_type": "code",
   "execution_count": 237,
   "id": "f66a2520",
   "metadata": {},
   "outputs": [
    {
     "data": {
      "text/plain": [
       "0"
      ]
     },
     "execution_count": 237,
     "metadata": {},
     "output_type": "execute_result"
    }
   ],
   "source": [
    "df.duplicated().sum()"
   ]
  },
  {
   "cell_type": "code",
   "execution_count": 238,
   "id": "418a04b7",
   "metadata": {
    "scrolled": true
   },
   "outputs": [
    {
     "data": {
      "text/html": [
       "<div>\n",
       "<style scoped>\n",
       "    .dataframe tbody tr th:only-of-type {\n",
       "        vertical-align: middle;\n",
       "    }\n",
       "\n",
       "    .dataframe tbody tr th {\n",
       "        vertical-align: top;\n",
       "    }\n",
       "\n",
       "    .dataframe thead th {\n",
       "        text-align: right;\n",
       "    }\n",
       "</style>\n",
       "<table border=\"1\" class=\"dataframe\">\n",
       "  <thead>\n",
       "    <tr style=\"text-align: right;\">\n",
       "      <th></th>\n",
       "      <th>children</th>\n",
       "      <th>days_employed</th>\n",
       "      <th>dob_years</th>\n",
       "      <th>education</th>\n",
       "      <th>education_id</th>\n",
       "      <th>family_status</th>\n",
       "      <th>family_status_id</th>\n",
       "      <th>gender</th>\n",
       "      <th>income_type</th>\n",
       "      <th>debt</th>\n",
       "      <th>total_income</th>\n",
       "      <th>purpose</th>\n",
       "    </tr>\n",
       "  </thead>\n",
       "  <tbody>\n",
       "    <tr>\n",
       "      <td>0</td>\n",
       "      <td>1</td>\n",
       "      <td>8437</td>\n",
       "      <td>42</td>\n",
       "      <td>высшее</td>\n",
       "      <td>0</td>\n",
       "      <td>женат / замужем</td>\n",
       "      <td>0</td>\n",
       "      <td>F</td>\n",
       "      <td>сотрудник</td>\n",
       "      <td>0</td>\n",
       "      <td>253875</td>\n",
       "      <td>покупка жилья</td>\n",
       "    </tr>\n",
       "    <tr>\n",
       "      <td>1</td>\n",
       "      <td>1</td>\n",
       "      <td>4024</td>\n",
       "      <td>36</td>\n",
       "      <td>среднее</td>\n",
       "      <td>1</td>\n",
       "      <td>женат / замужем</td>\n",
       "      <td>0</td>\n",
       "      <td>F</td>\n",
       "      <td>сотрудник</td>\n",
       "      <td>0</td>\n",
       "      <td>112080</td>\n",
       "      <td>приобретение автомобиля</td>\n",
       "    </tr>\n",
       "    <tr>\n",
       "      <td>2</td>\n",
       "      <td>0</td>\n",
       "      <td>5623</td>\n",
       "      <td>33</td>\n",
       "      <td>среднее</td>\n",
       "      <td>1</td>\n",
       "      <td>женат / замужем</td>\n",
       "      <td>0</td>\n",
       "      <td>M</td>\n",
       "      <td>сотрудник</td>\n",
       "      <td>0</td>\n",
       "      <td>145885</td>\n",
       "      <td>покупка жилья</td>\n",
       "    </tr>\n",
       "    <tr>\n",
       "      <td>3</td>\n",
       "      <td>3</td>\n",
       "      <td>4124</td>\n",
       "      <td>32</td>\n",
       "      <td>среднее</td>\n",
       "      <td>1</td>\n",
       "      <td>женат / замужем</td>\n",
       "      <td>0</td>\n",
       "      <td>M</td>\n",
       "      <td>сотрудник</td>\n",
       "      <td>0</td>\n",
       "      <td>267628</td>\n",
       "      <td>дополнительное образование</td>\n",
       "    </tr>\n",
       "    <tr>\n",
       "      <td>4</td>\n",
       "      <td>0</td>\n",
       "      <td>340266</td>\n",
       "      <td>53</td>\n",
       "      <td>среднее</td>\n",
       "      <td>1</td>\n",
       "      <td>гражданский брак</td>\n",
       "      <td>1</td>\n",
       "      <td>F</td>\n",
       "      <td>пенсионер</td>\n",
       "      <td>0</td>\n",
       "      <td>158616</td>\n",
       "      <td>сыграть свадьбу</td>\n",
       "    </tr>\n",
       "  </tbody>\n",
       "</table>\n",
       "</div>"
      ],
      "text/plain": [
       "   children  days_employed  dob_years education  education_id  \\\n",
       "0         1           8437         42    высшее             0   \n",
       "1         1           4024         36   среднее             1   \n",
       "2         0           5623         33   среднее             1   \n",
       "3         3           4124         32   среднее             1   \n",
       "4         0         340266         53   среднее             1   \n",
       "\n",
       "      family_status  family_status_id gender income_type  debt  total_income  \\\n",
       "0   женат / замужем                 0      F   сотрудник     0        253875   \n",
       "1   женат / замужем                 0      F   сотрудник     0        112080   \n",
       "2   женат / замужем                 0      M   сотрудник     0        145885   \n",
       "3   женат / замужем                 0      M   сотрудник     0        267628   \n",
       "4  гражданский брак                 1      F   пенсионер     0        158616   \n",
       "\n",
       "                      purpose  \n",
       "0               покупка жилья  \n",
       "1     приобретение автомобиля  \n",
       "2               покупка жилья  \n",
       "3  дополнительное образование  \n",
       "4             сыграть свадьбу  "
      ]
     },
     "execution_count": 238,
     "metadata": {},
     "output_type": "execute_result"
    }
   ],
   "source": [
    "df.head()"
   ]
  },
  {
   "cell_type": "markdown",
   "id": "56bf4a3b",
   "metadata": {},
   "source": [
    "Значение `XNA` в столбце `gender` могло появиться в результате того, что клиент не захотел указывать свой пол или по другим причинам. В рамках поставленной задачи это никак не повлияет на результат исследования, однако, если в дальнешем придётся работать с таблицей, то можно уточнить у сотрудников банка, что может означать абривиатура `NXA`."
   ]
  },
  {
   "cell_type": "code",
   "execution_count": 239,
   "id": "beae5ec2",
   "metadata": {},
   "outputs": [
    {
     "data": {
      "text/plain": [
       "array(['F', 'M', 'XNA'], dtype=object)"
      ]
     },
     "execution_count": 239,
     "metadata": {},
     "output_type": "execute_result"
    }
   ],
   "source": [
    "df.sort_values(by='gender')['gender'].unique()"
   ]
  },
  {
   "cell_type": "code",
   "execution_count": 240,
   "id": "a942779f",
   "metadata": {},
   "outputs": [
    {
     "data": {
      "text/html": [
       "<div>\n",
       "<style scoped>\n",
       "    .dataframe tbody tr th:only-of-type {\n",
       "        vertical-align: middle;\n",
       "    }\n",
       "\n",
       "    .dataframe tbody tr th {\n",
       "        vertical-align: top;\n",
       "    }\n",
       "\n",
       "    .dataframe thead th {\n",
       "        text-align: right;\n",
       "    }\n",
       "</style>\n",
       "<table border=\"1\" class=\"dataframe\">\n",
       "  <thead>\n",
       "    <tr style=\"text-align: right;\">\n",
       "      <th></th>\n",
       "      <th>children</th>\n",
       "      <th>days_employed</th>\n",
       "      <th>dob_years</th>\n",
       "      <th>education</th>\n",
       "      <th>education_id</th>\n",
       "      <th>family_status</th>\n",
       "      <th>family_status_id</th>\n",
       "      <th>gender</th>\n",
       "      <th>income_type</th>\n",
       "      <th>debt</th>\n",
       "      <th>total_income</th>\n",
       "      <th>purpose</th>\n",
       "    </tr>\n",
       "  </thead>\n",
       "  <tbody>\n",
       "    <tr>\n",
       "      <td>10684</td>\n",
       "      <td>0</td>\n",
       "      <td>2358</td>\n",
       "      <td>24</td>\n",
       "      <td>неоконченное высшее</td>\n",
       "      <td>2</td>\n",
       "      <td>гражданский брак</td>\n",
       "      <td>1</td>\n",
       "      <td>XNA</td>\n",
       "      <td>компаньон</td>\n",
       "      <td>0</td>\n",
       "      <td>203905</td>\n",
       "      <td>покупка недвижимости</td>\n",
       "    </tr>\n",
       "  </tbody>\n",
       "</table>\n",
       "</div>"
      ],
      "text/plain": [
       "       children  days_employed  dob_years            education  education_id  \\\n",
       "10684         0           2358         24  неоконченное высшее             2   \n",
       "\n",
       "          family_status  family_status_id gender income_type  debt  \\\n",
       "10684  гражданский брак                 1    XNA   компаньон     0   \n",
       "\n",
       "       total_income               purpose  \n",
       "10684        203905  покупка недвижимости  "
      ]
     },
     "execution_count": 240,
     "metadata": {},
     "output_type": "execute_result"
    }
   ],
   "source": [
    "df.query('gender == \"XNA\"').head()"
   ]
  },
  {
   "cell_type": "markdown",
   "id": "bb2d1dac",
   "metadata": {},
   "source": [
    "Есть аномальный возраст 0. Очевидно, что здесь произошла ошибка при заполнении, возможно, клиент забыл указать свой возраст. Однако в рамках поставленной задачи, данная аномалия не искажает результаты исследования."
   ]
  },
  {
   "cell_type": "code",
   "execution_count": 241,
   "id": "6b53f8fb",
   "metadata": {
    "scrolled": true
   },
   "outputs": [
    {
     "data": {
      "text/plain": [
       "array([ 0, 19, 20, 21, 22, 23, 24, 25, 26, 27, 28, 29, 30, 31, 32, 33, 34,\n",
       "       35, 36, 37, 38, 39, 40, 41, 42, 43, 44, 45, 46, 47, 48, 49, 50, 51,\n",
       "       52, 53, 54, 55, 56, 57, 58, 59, 60, 61, 62, 63, 64, 65, 66, 67, 68,\n",
       "       69, 70, 71, 72, 73, 74, 75])"
      ]
     },
     "execution_count": 241,
     "metadata": {},
     "output_type": "execute_result"
    }
   ],
   "source": [
    "df.sort_values(by='dob_years')['dob_years'].unique()"
   ]
  },
  {
   "cell_type": "code",
   "execution_count": 242,
   "id": "81a08463",
   "metadata": {
    "scrolled": true
   },
   "outputs": [
    {
     "data": {
      "text/html": [
       "<div>\n",
       "<style scoped>\n",
       "    .dataframe tbody tr th:only-of-type {\n",
       "        vertical-align: middle;\n",
       "    }\n",
       "\n",
       "    .dataframe tbody tr th {\n",
       "        vertical-align: top;\n",
       "    }\n",
       "\n",
       "    .dataframe thead th {\n",
       "        text-align: right;\n",
       "    }\n",
       "</style>\n",
       "<table border=\"1\" class=\"dataframe\">\n",
       "  <thead>\n",
       "    <tr style=\"text-align: right;\">\n",
       "      <th></th>\n",
       "      <th>children</th>\n",
       "      <th>days_employed</th>\n",
       "      <th>dob_years</th>\n",
       "      <th>education</th>\n",
       "      <th>education_id</th>\n",
       "      <th>family_status</th>\n",
       "      <th>family_status_id</th>\n",
       "      <th>gender</th>\n",
       "      <th>income_type</th>\n",
       "      <th>debt</th>\n",
       "      <th>total_income</th>\n",
       "      <th>purpose</th>\n",
       "    </tr>\n",
       "  </thead>\n",
       "  <tbody>\n",
       "    <tr>\n",
       "      <td>99</td>\n",
       "      <td>0</td>\n",
       "      <td>346541</td>\n",
       "      <td>0</td>\n",
       "      <td>среднее</td>\n",
       "      <td>1</td>\n",
       "      <td>женат / замужем</td>\n",
       "      <td>0</td>\n",
       "      <td>F</td>\n",
       "      <td>пенсионер</td>\n",
       "      <td>0</td>\n",
       "      <td>71291</td>\n",
       "      <td>автомобиль</td>\n",
       "    </tr>\n",
       "    <tr>\n",
       "      <td>149</td>\n",
       "      <td>0</td>\n",
       "      <td>2664</td>\n",
       "      <td>0</td>\n",
       "      <td>среднее</td>\n",
       "      <td>1</td>\n",
       "      <td>в разводе</td>\n",
       "      <td>3</td>\n",
       "      <td>F</td>\n",
       "      <td>сотрудник</td>\n",
       "      <td>0</td>\n",
       "      <td>70176</td>\n",
       "      <td>операции с жильем</td>\n",
       "    </tr>\n",
       "    <tr>\n",
       "      <td>270</td>\n",
       "      <td>3</td>\n",
       "      <td>1872</td>\n",
       "      <td>0</td>\n",
       "      <td>среднее</td>\n",
       "      <td>1</td>\n",
       "      <td>женат / замужем</td>\n",
       "      <td>0</td>\n",
       "      <td>F</td>\n",
       "      <td>сотрудник</td>\n",
       "      <td>0</td>\n",
       "      <td>102166</td>\n",
       "      <td>ремонт жилью</td>\n",
       "    </tr>\n",
       "    <tr>\n",
       "      <td>578</td>\n",
       "      <td>0</td>\n",
       "      <td>397856</td>\n",
       "      <td>0</td>\n",
       "      <td>среднее</td>\n",
       "      <td>1</td>\n",
       "      <td>женат / замужем</td>\n",
       "      <td>0</td>\n",
       "      <td>F</td>\n",
       "      <td>пенсионер</td>\n",
       "      <td>0</td>\n",
       "      <td>97620</td>\n",
       "      <td>строительство собственной недвижимости</td>\n",
       "    </tr>\n",
       "    <tr>\n",
       "      <td>1040</td>\n",
       "      <td>0</td>\n",
       "      <td>1158</td>\n",
       "      <td>0</td>\n",
       "      <td>высшее</td>\n",
       "      <td>0</td>\n",
       "      <td>в разводе</td>\n",
       "      <td>3</td>\n",
       "      <td>F</td>\n",
       "      <td>компаньон</td>\n",
       "      <td>0</td>\n",
       "      <td>303994</td>\n",
       "      <td>свой автомобиль</td>\n",
       "    </tr>\n",
       "  </tbody>\n",
       "</table>\n",
       "</div>"
      ],
      "text/plain": [
       "      children  days_employed  dob_years education  education_id  \\\n",
       "99           0         346541          0   среднее             1   \n",
       "149          0           2664          0   среднее             1   \n",
       "270          3           1872          0   среднее             1   \n",
       "578          0         397856          0   среднее             1   \n",
       "1040         0           1158          0    высшее             0   \n",
       "\n",
       "        family_status  family_status_id gender income_type  debt  \\\n",
       "99    женат / замужем                 0      F   пенсионер     0   \n",
       "149         в разводе                 3      F   сотрудник     0   \n",
       "270   женат / замужем                 0      F   сотрудник     0   \n",
       "578   женат / замужем                 0      F   пенсионер     0   \n",
       "1040        в разводе                 3      F   компаньон     0   \n",
       "\n",
       "      total_income                                 purpose  \n",
       "99           71291                              автомобиль  \n",
       "149          70176                       операции с жильем  \n",
       "270         102166                            ремонт жилью  \n",
       "578          97620  строительство собственной недвижимости  \n",
       "1040        303994                         свой автомобиль  "
      ]
     },
     "execution_count": 242,
     "metadata": {},
     "output_type": "execute_result"
    }
   ],
   "source": [
    "df.query('dob_years == \"0\"').head()"
   ]
  },
  {
   "cell_type": "markdown",
   "id": "c242c544",
   "metadata": {},
   "source": [
    "Так же имеются аномально высокие значения около 1100 лет трудового стажа. В рамках поставленной задачи эти аномалии на результат исследования не влияют. Причиной возникновения может быть неправильный формат записи."
   ]
  },
  {
   "cell_type": "code",
   "execution_count": 243,
   "id": "f5732231",
   "metadata": {},
   "outputs": [
    {
     "data": {
      "text/plain": [
       "array([    24,     30,     33, ..., 401675, 401715, 401755])"
      ]
     },
     "execution_count": 243,
     "metadata": {},
     "output_type": "execute_result"
    }
   ],
   "source": [
    "df.sort_values(by='days_employed')['days_employed'].unique()"
   ]
  },
  {
   "cell_type": "markdown",
   "id": "b250efe1",
   "metadata": {},
   "source": [
    "Данные о зарплате выглядят приемлемо."
   ]
  },
  {
   "cell_type": "code",
   "execution_count": 244,
   "id": "6e3e981b",
   "metadata": {
    "scrolled": true
   },
   "outputs": [
    {
     "data": {
      "text/plain": [
       "array([  20667,   21205,   21367, ..., 1726276, 2200852, 2265604])"
      ]
     },
     "execution_count": 244,
     "metadata": {},
     "output_type": "execute_result"
    }
   ],
   "source": [
    "df.sort_values(by='total_income')['total_income'].unique()"
   ]
  },
  {
   "cell_type": "markdown",
   "id": "4c992b09",
   "metadata": {},
   "source": [
    "### Шаг 2.5. Формирование дополнительных датафреймов словарей, декомпозиция исходного датафрейма."
   ]
  },
  {
   "cell_type": "markdown",
   "id": "85244e83",
   "metadata": {},
   "source": [
    "Создадим два новых датафрейма со столбцами:\n",
    "education_id и education — в первом;\n",
    "family_status_id и family_status — во втором.\n",
    "Удалим из исходного датафрейма столбцы education и family_status, оставив только их идентификаторы: education_id и family_status_id."
   ]
  },
  {
   "cell_type": "code",
   "execution_count": 245,
   "id": "69a2b115",
   "metadata": {},
   "outputs": [
    {
     "data": {
      "text/html": [
       "<div>\n",
       "<style scoped>\n",
       "    .dataframe tbody tr th:only-of-type {\n",
       "        vertical-align: middle;\n",
       "    }\n",
       "\n",
       "    .dataframe tbody tr th {\n",
       "        vertical-align: top;\n",
       "    }\n",
       "\n",
       "    .dataframe thead th {\n",
       "        text-align: right;\n",
       "    }\n",
       "</style>\n",
       "<table border=\"1\" class=\"dataframe\">\n",
       "  <thead>\n",
       "    <tr style=\"text-align: right;\">\n",
       "      <th></th>\n",
       "      <th>education_id</th>\n",
       "      <th>education</th>\n",
       "    </tr>\n",
       "  </thead>\n",
       "  <tbody>\n",
       "    <tr>\n",
       "      <td>0</td>\n",
       "      <td>0</td>\n",
       "      <td>высшее</td>\n",
       "    </tr>\n",
       "    <tr>\n",
       "      <td>1</td>\n",
       "      <td>1</td>\n",
       "      <td>среднее</td>\n",
       "    </tr>\n",
       "    <tr>\n",
       "      <td>2</td>\n",
       "      <td>1</td>\n",
       "      <td>среднее</td>\n",
       "    </tr>\n",
       "    <tr>\n",
       "      <td>3</td>\n",
       "      <td>1</td>\n",
       "      <td>среднее</td>\n",
       "    </tr>\n",
       "    <tr>\n",
       "      <td>4</td>\n",
       "      <td>1</td>\n",
       "      <td>среднее</td>\n",
       "    </tr>\n",
       "    <tr>\n",
       "      <td>...</td>\n",
       "      <td>...</td>\n",
       "      <td>...</td>\n",
       "    </tr>\n",
       "    <tr>\n",
       "      <td>21449</td>\n",
       "      <td>1</td>\n",
       "      <td>среднее</td>\n",
       "    </tr>\n",
       "    <tr>\n",
       "      <td>21450</td>\n",
       "      <td>1</td>\n",
       "      <td>среднее</td>\n",
       "    </tr>\n",
       "    <tr>\n",
       "      <td>21451</td>\n",
       "      <td>1</td>\n",
       "      <td>среднее</td>\n",
       "    </tr>\n",
       "    <tr>\n",
       "      <td>21452</td>\n",
       "      <td>1</td>\n",
       "      <td>среднее</td>\n",
       "    </tr>\n",
       "    <tr>\n",
       "      <td>21453</td>\n",
       "      <td>1</td>\n",
       "      <td>среднее</td>\n",
       "    </tr>\n",
       "  </tbody>\n",
       "</table>\n",
       "<p>21454 rows × 2 columns</p>\n",
       "</div>"
      ],
      "text/plain": [
       "       education_id education\n",
       "0                 0    высшее\n",
       "1                 1   среднее\n",
       "2                 1   среднее\n",
       "3                 1   среднее\n",
       "4                 1   среднее\n",
       "...             ...       ...\n",
       "21449             1   среднее\n",
       "21450             1   среднее\n",
       "21451             1   среднее\n",
       "21452             1   среднее\n",
       "21453             1   среднее\n",
       "\n",
       "[21454 rows x 2 columns]"
      ]
     },
     "metadata": {},
     "output_type": "display_data"
    }
   ],
   "source": [
    "education_dict = df[['education_id', 'education']]\n",
    "display(education_dict)"
   ]
  },
  {
   "cell_type": "code",
   "execution_count": 246,
   "id": "3b74fded",
   "metadata": {},
   "outputs": [
    {
     "data": {
      "text/html": [
       "<div>\n",
       "<style scoped>\n",
       "    .dataframe tbody tr th:only-of-type {\n",
       "        vertical-align: middle;\n",
       "    }\n",
       "\n",
       "    .dataframe tbody tr th {\n",
       "        vertical-align: top;\n",
       "    }\n",
       "\n",
       "    .dataframe thead th {\n",
       "        text-align: right;\n",
       "    }\n",
       "</style>\n",
       "<table border=\"1\" class=\"dataframe\">\n",
       "  <thead>\n",
       "    <tr style=\"text-align: right;\">\n",
       "      <th></th>\n",
       "      <th>family_status_id</th>\n",
       "      <th>family_status</th>\n",
       "    </tr>\n",
       "  </thead>\n",
       "  <tbody>\n",
       "    <tr>\n",
       "      <td>0</td>\n",
       "      <td>0</td>\n",
       "      <td>женат / замужем</td>\n",
       "    </tr>\n",
       "    <tr>\n",
       "      <td>1</td>\n",
       "      <td>0</td>\n",
       "      <td>женат / замужем</td>\n",
       "    </tr>\n",
       "    <tr>\n",
       "      <td>2</td>\n",
       "      <td>0</td>\n",
       "      <td>женат / замужем</td>\n",
       "    </tr>\n",
       "    <tr>\n",
       "      <td>3</td>\n",
       "      <td>0</td>\n",
       "      <td>женат / замужем</td>\n",
       "    </tr>\n",
       "    <tr>\n",
       "      <td>4</td>\n",
       "      <td>1</td>\n",
       "      <td>гражданский брак</td>\n",
       "    </tr>\n",
       "    <tr>\n",
       "      <td>...</td>\n",
       "      <td>...</td>\n",
       "      <td>...</td>\n",
       "    </tr>\n",
       "    <tr>\n",
       "      <td>21449</td>\n",
       "      <td>1</td>\n",
       "      <td>гражданский брак</td>\n",
       "    </tr>\n",
       "    <tr>\n",
       "      <td>21450</td>\n",
       "      <td>0</td>\n",
       "      <td>женат / замужем</td>\n",
       "    </tr>\n",
       "    <tr>\n",
       "      <td>21451</td>\n",
       "      <td>1</td>\n",
       "      <td>гражданский брак</td>\n",
       "    </tr>\n",
       "    <tr>\n",
       "      <td>21452</td>\n",
       "      <td>0</td>\n",
       "      <td>женат / замужем</td>\n",
       "    </tr>\n",
       "    <tr>\n",
       "      <td>21453</td>\n",
       "      <td>0</td>\n",
       "      <td>женат / замужем</td>\n",
       "    </tr>\n",
       "  </tbody>\n",
       "</table>\n",
       "<p>21454 rows × 2 columns</p>\n",
       "</div>"
      ],
      "text/plain": [
       "       family_status_id     family_status\n",
       "0                     0   женат / замужем\n",
       "1                     0   женат / замужем\n",
       "2                     0   женат / замужем\n",
       "3                     0   женат / замужем\n",
       "4                     1  гражданский брак\n",
       "...                 ...               ...\n",
       "21449                 1  гражданский брак\n",
       "21450                 0   женат / замужем\n",
       "21451                 1  гражданский брак\n",
       "21452                 0   женат / замужем\n",
       "21453                 0   женат / замужем\n",
       "\n",
       "[21454 rows x 2 columns]"
      ]
     },
     "metadata": {},
     "output_type": "display_data"
    }
   ],
   "source": [
    "family_status_dict = df[['family_status_id', 'family_status']]\n",
    "display(family_status_dict)"
   ]
  },
  {
   "cell_type": "code",
   "execution_count": 247,
   "id": "5c9e761e",
   "metadata": {
    "scrolled": true
   },
   "outputs": [
    {
     "data": {
      "text/html": [
       "<div>\n",
       "<style scoped>\n",
       "    .dataframe tbody tr th:only-of-type {\n",
       "        vertical-align: middle;\n",
       "    }\n",
       "\n",
       "    .dataframe tbody tr th {\n",
       "        vertical-align: top;\n",
       "    }\n",
       "\n",
       "    .dataframe thead th {\n",
       "        text-align: right;\n",
       "    }\n",
       "</style>\n",
       "<table border=\"1\" class=\"dataframe\">\n",
       "  <thead>\n",
       "    <tr style=\"text-align: right;\">\n",
       "      <th></th>\n",
       "      <th>children</th>\n",
       "      <th>days_employed</th>\n",
       "      <th>dob_years</th>\n",
       "      <th>education_id</th>\n",
       "      <th>family_status_id</th>\n",
       "      <th>gender</th>\n",
       "      <th>income_type</th>\n",
       "      <th>debt</th>\n",
       "      <th>total_income</th>\n",
       "      <th>purpose</th>\n",
       "    </tr>\n",
       "  </thead>\n",
       "  <tbody>\n",
       "    <tr>\n",
       "      <td>0</td>\n",
       "      <td>1</td>\n",
       "      <td>8437</td>\n",
       "      <td>42</td>\n",
       "      <td>0</td>\n",
       "      <td>0</td>\n",
       "      <td>F</td>\n",
       "      <td>сотрудник</td>\n",
       "      <td>0</td>\n",
       "      <td>253875</td>\n",
       "      <td>покупка жилья</td>\n",
       "    </tr>\n",
       "    <tr>\n",
       "      <td>1</td>\n",
       "      <td>1</td>\n",
       "      <td>4024</td>\n",
       "      <td>36</td>\n",
       "      <td>1</td>\n",
       "      <td>0</td>\n",
       "      <td>F</td>\n",
       "      <td>сотрудник</td>\n",
       "      <td>0</td>\n",
       "      <td>112080</td>\n",
       "      <td>приобретение автомобиля</td>\n",
       "    </tr>\n",
       "    <tr>\n",
       "      <td>2</td>\n",
       "      <td>0</td>\n",
       "      <td>5623</td>\n",
       "      <td>33</td>\n",
       "      <td>1</td>\n",
       "      <td>0</td>\n",
       "      <td>M</td>\n",
       "      <td>сотрудник</td>\n",
       "      <td>0</td>\n",
       "      <td>145885</td>\n",
       "      <td>покупка жилья</td>\n",
       "    </tr>\n",
       "    <tr>\n",
       "      <td>3</td>\n",
       "      <td>3</td>\n",
       "      <td>4124</td>\n",
       "      <td>32</td>\n",
       "      <td>1</td>\n",
       "      <td>0</td>\n",
       "      <td>M</td>\n",
       "      <td>сотрудник</td>\n",
       "      <td>0</td>\n",
       "      <td>267628</td>\n",
       "      <td>дополнительное образование</td>\n",
       "    </tr>\n",
       "    <tr>\n",
       "      <td>4</td>\n",
       "      <td>0</td>\n",
       "      <td>340266</td>\n",
       "      <td>53</td>\n",
       "      <td>1</td>\n",
       "      <td>1</td>\n",
       "      <td>F</td>\n",
       "      <td>пенсионер</td>\n",
       "      <td>0</td>\n",
       "      <td>158616</td>\n",
       "      <td>сыграть свадьбу</td>\n",
       "    </tr>\n",
       "    <tr>\n",
       "      <td>...</td>\n",
       "      <td>...</td>\n",
       "      <td>...</td>\n",
       "      <td>...</td>\n",
       "      <td>...</td>\n",
       "      <td>...</td>\n",
       "      <td>...</td>\n",
       "      <td>...</td>\n",
       "      <td>...</td>\n",
       "      <td>...</td>\n",
       "      <td>...</td>\n",
       "    </tr>\n",
       "    <tr>\n",
       "      <td>21449</td>\n",
       "      <td>1</td>\n",
       "      <td>4529</td>\n",
       "      <td>43</td>\n",
       "      <td>1</td>\n",
       "      <td>1</td>\n",
       "      <td>F</td>\n",
       "      <td>компаньон</td>\n",
       "      <td>0</td>\n",
       "      <td>224791</td>\n",
       "      <td>операции с жильем</td>\n",
       "    </tr>\n",
       "    <tr>\n",
       "      <td>21450</td>\n",
       "      <td>0</td>\n",
       "      <td>343937</td>\n",
       "      <td>67</td>\n",
       "      <td>1</td>\n",
       "      <td>0</td>\n",
       "      <td>F</td>\n",
       "      <td>пенсионер</td>\n",
       "      <td>0</td>\n",
       "      <td>155999</td>\n",
       "      <td>сделка с автомобилем</td>\n",
       "    </tr>\n",
       "    <tr>\n",
       "      <td>21451</td>\n",
       "      <td>1</td>\n",
       "      <td>2113</td>\n",
       "      <td>38</td>\n",
       "      <td>1</td>\n",
       "      <td>1</td>\n",
       "      <td>M</td>\n",
       "      <td>сотрудник</td>\n",
       "      <td>1</td>\n",
       "      <td>89672</td>\n",
       "      <td>недвижимость</td>\n",
       "    </tr>\n",
       "    <tr>\n",
       "      <td>21452</td>\n",
       "      <td>3</td>\n",
       "      <td>3112</td>\n",
       "      <td>38</td>\n",
       "      <td>1</td>\n",
       "      <td>0</td>\n",
       "      <td>M</td>\n",
       "      <td>сотрудник</td>\n",
       "      <td>1</td>\n",
       "      <td>244093</td>\n",
       "      <td>на покупку своего автомобиля</td>\n",
       "    </tr>\n",
       "    <tr>\n",
       "      <td>21453</td>\n",
       "      <td>2</td>\n",
       "      <td>1984</td>\n",
       "      <td>40</td>\n",
       "      <td>1</td>\n",
       "      <td>0</td>\n",
       "      <td>F</td>\n",
       "      <td>сотрудник</td>\n",
       "      <td>0</td>\n",
       "      <td>82047</td>\n",
       "      <td>на покупку автомобиля</td>\n",
       "    </tr>\n",
       "  </tbody>\n",
       "</table>\n",
       "<p>21454 rows × 10 columns</p>\n",
       "</div>"
      ],
      "text/plain": [
       "       children  days_employed  dob_years  education_id  family_status_id  \\\n",
       "0             1           8437         42             0                 0   \n",
       "1             1           4024         36             1                 0   \n",
       "2             0           5623         33             1                 0   \n",
       "3             3           4124         32             1                 0   \n",
       "4             0         340266         53             1                 1   \n",
       "...         ...            ...        ...           ...               ...   \n",
       "21449         1           4529         43             1                 1   \n",
       "21450         0         343937         67             1                 0   \n",
       "21451         1           2113         38             1                 1   \n",
       "21452         3           3112         38             1                 0   \n",
       "21453         2           1984         40             1                 0   \n",
       "\n",
       "      gender income_type  debt  total_income                       purpose  \n",
       "0          F   сотрудник     0        253875                 покупка жилья  \n",
       "1          F   сотрудник     0        112080       приобретение автомобиля  \n",
       "2          M   сотрудник     0        145885                 покупка жилья  \n",
       "3          M   сотрудник     0        267628    дополнительное образование  \n",
       "4          F   пенсионер     0        158616               сыграть свадьбу  \n",
       "...      ...         ...   ...           ...                           ...  \n",
       "21449      F   компаньон     0        224791             операции с жильем  \n",
       "21450      F   пенсионер     0        155999          сделка с автомобилем  \n",
       "21451      M   сотрудник     1         89672                  недвижимость  \n",
       "21452      M   сотрудник     1        244093  на покупку своего автомобиля  \n",
       "21453      F   сотрудник     0         82047         на покупку автомобиля  \n",
       "\n",
       "[21454 rows x 10 columns]"
      ]
     },
     "metadata": {},
     "output_type": "display_data"
    }
   ],
   "source": [
    "df = df.drop(['education', 'family_status'], axis=1)\n",
    "display(df)"
   ]
  },
  {
   "cell_type": "code",
   "execution_count": 248,
   "id": "50046239",
   "metadata": {},
   "outputs": [
    {
     "data": {
      "text/plain": [
       "21449"
      ]
     },
     "execution_count": 248,
     "metadata": {},
     "output_type": "execute_result"
    }
   ],
   "source": [
    "education_dict.duplicated().sum()"
   ]
  },
  {
   "cell_type": "code",
   "execution_count": 249,
   "id": "26f68c2e",
   "metadata": {},
   "outputs": [
    {
     "data": {
      "text/plain": [
       "21449"
      ]
     },
     "execution_count": 249,
     "metadata": {},
     "output_type": "execute_result"
    }
   ],
   "source": [
    "family_status_dict.duplicated().sum()"
   ]
  },
  {
   "cell_type": "code",
   "execution_count": 250,
   "id": "ae538488",
   "metadata": {},
   "outputs": [],
   "source": [
    "education_dict = education_dict.drop_duplicates().reset_index(drop=True)"
   ]
  },
  {
   "cell_type": "code",
   "execution_count": 251,
   "id": "b7f83ad1",
   "metadata": {},
   "outputs": [],
   "source": [
    "family_status_dict = family_status_dict.drop_duplicates().reset_index(drop=True)"
   ]
  },
  {
   "cell_type": "code",
   "execution_count": 252,
   "id": "572ffc2e",
   "metadata": {},
   "outputs": [
    {
     "data": {
      "text/plain": [
       "0"
      ]
     },
     "execution_count": 252,
     "metadata": {},
     "output_type": "execute_result"
    }
   ],
   "source": [
    "education_dict.duplicated().sum()"
   ]
  },
  {
   "cell_type": "code",
   "execution_count": 253,
   "id": "e30c9539",
   "metadata": {},
   "outputs": [
    {
     "data": {
      "text/plain": [
       "0"
      ]
     },
     "execution_count": 253,
     "metadata": {},
     "output_type": "execute_result"
    }
   ],
   "source": [
    "family_status_dict.duplicated().sum()"
   ]
  },
  {
   "cell_type": "markdown",
   "id": "8ab25c78",
   "metadata": {},
   "source": [
    "### Шаг 2.6. Категоризация дохода."
   ]
  },
  {
   "cell_type": "markdown",
   "id": "257444a4",
   "metadata": {},
   "source": [
    "На основании диапазонов, указанных ниже, создадим столбец total_income_category с категориями:\n",
    "* 0–30000 — E\n",
    "* 30001–50000 — D\n",
    "* 50001–200000 — C\n",
    "* 200001–1000000 — B\n",
    "* 1000001 и выше — A"
   ]
  },
  {
   "cell_type": "code",
   "execution_count": 254,
   "id": "37e2992e",
   "metadata": {
    "scrolled": true
   },
   "outputs": [
    {
     "data": {
      "text/html": [
       "<div>\n",
       "<style scoped>\n",
       "    .dataframe tbody tr th:only-of-type {\n",
       "        vertical-align: middle;\n",
       "    }\n",
       "\n",
       "    .dataframe tbody tr th {\n",
       "        vertical-align: top;\n",
       "    }\n",
       "\n",
       "    .dataframe thead th {\n",
       "        text-align: right;\n",
       "    }\n",
       "</style>\n",
       "<table border=\"1\" class=\"dataframe\">\n",
       "  <thead>\n",
       "    <tr style=\"text-align: right;\">\n",
       "      <th></th>\n",
       "      <th>children</th>\n",
       "      <th>days_employed</th>\n",
       "      <th>dob_years</th>\n",
       "      <th>education_id</th>\n",
       "      <th>family_status_id</th>\n",
       "      <th>gender</th>\n",
       "      <th>income_type</th>\n",
       "      <th>debt</th>\n",
       "      <th>total_income</th>\n",
       "      <th>purpose</th>\n",
       "      <th>total_income_category</th>\n",
       "    </tr>\n",
       "  </thead>\n",
       "  <tbody>\n",
       "    <tr>\n",
       "      <td>0</td>\n",
       "      <td>1</td>\n",
       "      <td>8437</td>\n",
       "      <td>42</td>\n",
       "      <td>0</td>\n",
       "      <td>0</td>\n",
       "      <td>F</td>\n",
       "      <td>сотрудник</td>\n",
       "      <td>0</td>\n",
       "      <td>253875</td>\n",
       "      <td>покупка жилья</td>\n",
       "      <td>B</td>\n",
       "    </tr>\n",
       "    <tr>\n",
       "      <td>1</td>\n",
       "      <td>1</td>\n",
       "      <td>4024</td>\n",
       "      <td>36</td>\n",
       "      <td>1</td>\n",
       "      <td>0</td>\n",
       "      <td>F</td>\n",
       "      <td>сотрудник</td>\n",
       "      <td>0</td>\n",
       "      <td>112080</td>\n",
       "      <td>приобретение автомобиля</td>\n",
       "      <td>C</td>\n",
       "    </tr>\n",
       "    <tr>\n",
       "      <td>2</td>\n",
       "      <td>0</td>\n",
       "      <td>5623</td>\n",
       "      <td>33</td>\n",
       "      <td>1</td>\n",
       "      <td>0</td>\n",
       "      <td>M</td>\n",
       "      <td>сотрудник</td>\n",
       "      <td>0</td>\n",
       "      <td>145885</td>\n",
       "      <td>покупка жилья</td>\n",
       "      <td>C</td>\n",
       "    </tr>\n",
       "    <tr>\n",
       "      <td>3</td>\n",
       "      <td>3</td>\n",
       "      <td>4124</td>\n",
       "      <td>32</td>\n",
       "      <td>1</td>\n",
       "      <td>0</td>\n",
       "      <td>M</td>\n",
       "      <td>сотрудник</td>\n",
       "      <td>0</td>\n",
       "      <td>267628</td>\n",
       "      <td>дополнительное образование</td>\n",
       "      <td>B</td>\n",
       "    </tr>\n",
       "    <tr>\n",
       "      <td>4</td>\n",
       "      <td>0</td>\n",
       "      <td>340266</td>\n",
       "      <td>53</td>\n",
       "      <td>1</td>\n",
       "      <td>1</td>\n",
       "      <td>F</td>\n",
       "      <td>пенсионер</td>\n",
       "      <td>0</td>\n",
       "      <td>158616</td>\n",
       "      <td>сыграть свадьбу</td>\n",
       "      <td>C</td>\n",
       "    </tr>\n",
       "    <tr>\n",
       "      <td>5</td>\n",
       "      <td>0</td>\n",
       "      <td>926</td>\n",
       "      <td>27</td>\n",
       "      <td>0</td>\n",
       "      <td>1</td>\n",
       "      <td>M</td>\n",
       "      <td>компаньон</td>\n",
       "      <td>0</td>\n",
       "      <td>255763</td>\n",
       "      <td>покупка жилья</td>\n",
       "      <td>B</td>\n",
       "    </tr>\n",
       "    <tr>\n",
       "      <td>6</td>\n",
       "      <td>0</td>\n",
       "      <td>2879</td>\n",
       "      <td>43</td>\n",
       "      <td>0</td>\n",
       "      <td>0</td>\n",
       "      <td>F</td>\n",
       "      <td>компаньон</td>\n",
       "      <td>0</td>\n",
       "      <td>240525</td>\n",
       "      <td>операции с жильем</td>\n",
       "      <td>B</td>\n",
       "    </tr>\n",
       "    <tr>\n",
       "      <td>7</td>\n",
       "      <td>0</td>\n",
       "      <td>152</td>\n",
       "      <td>50</td>\n",
       "      <td>1</td>\n",
       "      <td>0</td>\n",
       "      <td>M</td>\n",
       "      <td>сотрудник</td>\n",
       "      <td>0</td>\n",
       "      <td>135823</td>\n",
       "      <td>образование</td>\n",
       "      <td>C</td>\n",
       "    </tr>\n",
       "    <tr>\n",
       "      <td>8</td>\n",
       "      <td>2</td>\n",
       "      <td>6929</td>\n",
       "      <td>35</td>\n",
       "      <td>0</td>\n",
       "      <td>1</td>\n",
       "      <td>F</td>\n",
       "      <td>сотрудник</td>\n",
       "      <td>0</td>\n",
       "      <td>95856</td>\n",
       "      <td>на проведение свадьбы</td>\n",
       "      <td>C</td>\n",
       "    </tr>\n",
       "    <tr>\n",
       "      <td>9</td>\n",
       "      <td>0</td>\n",
       "      <td>2188</td>\n",
       "      <td>41</td>\n",
       "      <td>1</td>\n",
       "      <td>0</td>\n",
       "      <td>M</td>\n",
       "      <td>сотрудник</td>\n",
       "      <td>0</td>\n",
       "      <td>144425</td>\n",
       "      <td>покупка жилья для семьи</td>\n",
       "      <td>C</td>\n",
       "    </tr>\n",
       "  </tbody>\n",
       "</table>\n",
       "</div>"
      ],
      "text/plain": [
       "   children  days_employed  dob_years  education_id  family_status_id gender  \\\n",
       "0         1           8437         42             0                 0      F   \n",
       "1         1           4024         36             1                 0      F   \n",
       "2         0           5623         33             1                 0      M   \n",
       "3         3           4124         32             1                 0      M   \n",
       "4         0         340266         53             1                 1      F   \n",
       "5         0            926         27             0                 1      M   \n",
       "6         0           2879         43             0                 0      F   \n",
       "7         0            152         50             1                 0      M   \n",
       "8         2           6929         35             0                 1      F   \n",
       "9         0           2188         41             1                 0      M   \n",
       "\n",
       "  income_type  debt  total_income                     purpose  \\\n",
       "0   сотрудник     0        253875               покупка жилья   \n",
       "1   сотрудник     0        112080     приобретение автомобиля   \n",
       "2   сотрудник     0        145885               покупка жилья   \n",
       "3   сотрудник     0        267628  дополнительное образование   \n",
       "4   пенсионер     0        158616             сыграть свадьбу   \n",
       "5   компаньон     0        255763               покупка жилья   \n",
       "6   компаньон     0        240525           операции с жильем   \n",
       "7   сотрудник     0        135823                 образование   \n",
       "8   сотрудник     0         95856       на проведение свадьбы   \n",
       "9   сотрудник     0        144425     покупка жилья для семьи   \n",
       "\n",
       "  total_income_category  \n",
       "0                     B  \n",
       "1                     C  \n",
       "2                     C  \n",
       "3                     B  \n",
       "4                     C  \n",
       "5                     B  \n",
       "6                     B  \n",
       "7                     C  \n",
       "8                     C  \n",
       "9                     C  "
      ]
     },
     "metadata": {},
     "output_type": "display_data"
    }
   ],
   "source": [
    "def total_income_category(income):\n",
    "    if income < 30_000:\n",
    "        return 'E'\n",
    "    if 30_000 < income < 50_000:\n",
    "        return 'D'\n",
    "    if 50_000 < income < 200_000:\n",
    "        return 'C'\n",
    "    if 200_000 < income < 1_000_000:\n",
    "        return 'B'\n",
    "    if income > 1_000_000:\n",
    "        return 'A'    \n",
    "    \n",
    "df['total_income_category'] = df['total_income'].apply(total_income_category)  \n",
    "\n",
    "display(df.head(10))"
   ]
  },
  {
   "cell_type": "markdown",
   "id": "5f2ebf4d",
   "metadata": {},
   "source": [
    "### Шаг 2.7. Категоризация целей кредита."
   ]
  },
  {
   "cell_type": "markdown",
   "id": "29a9ddcb",
   "metadata": {},
   "source": [
    "Создадим функцию, которая на основании данных из столбца purpose сформирует новый столбец purpose_category, в который войдут следующие категории:\n",
    "* операции с автомобилем\n",
    "* операции с недвижимостью\n",
    "* проведение свадьбы\n",
    "* получение образования"
   ]
  },
  {
   "cell_type": "code",
   "execution_count": 255,
   "id": "997344d0",
   "metadata": {},
   "outputs": [
    {
     "data": {
      "text/html": [
       "<div>\n",
       "<style scoped>\n",
       "    .dataframe tbody tr th:only-of-type {\n",
       "        vertical-align: middle;\n",
       "    }\n",
       "\n",
       "    .dataframe tbody tr th {\n",
       "        vertical-align: top;\n",
       "    }\n",
       "\n",
       "    .dataframe thead th {\n",
       "        text-align: right;\n",
       "    }\n",
       "</style>\n",
       "<table border=\"1\" class=\"dataframe\">\n",
       "  <thead>\n",
       "    <tr style=\"text-align: right;\">\n",
       "      <th></th>\n",
       "      <th>children</th>\n",
       "      <th>days_employed</th>\n",
       "      <th>dob_years</th>\n",
       "      <th>education_id</th>\n",
       "      <th>family_status_id</th>\n",
       "      <th>gender</th>\n",
       "      <th>income_type</th>\n",
       "      <th>debt</th>\n",
       "      <th>total_income</th>\n",
       "      <th>purpose</th>\n",
       "      <th>total_income_category</th>\n",
       "      <th>purpose_category</th>\n",
       "    </tr>\n",
       "  </thead>\n",
       "  <tbody>\n",
       "    <tr>\n",
       "      <td>0</td>\n",
       "      <td>1</td>\n",
       "      <td>8437</td>\n",
       "      <td>42</td>\n",
       "      <td>0</td>\n",
       "      <td>0</td>\n",
       "      <td>F</td>\n",
       "      <td>сотрудник</td>\n",
       "      <td>0</td>\n",
       "      <td>253875</td>\n",
       "      <td>покупка жилья</td>\n",
       "      <td>B</td>\n",
       "      <td>операции с недвижимостью</td>\n",
       "    </tr>\n",
       "    <tr>\n",
       "      <td>1</td>\n",
       "      <td>1</td>\n",
       "      <td>4024</td>\n",
       "      <td>36</td>\n",
       "      <td>1</td>\n",
       "      <td>0</td>\n",
       "      <td>F</td>\n",
       "      <td>сотрудник</td>\n",
       "      <td>0</td>\n",
       "      <td>112080</td>\n",
       "      <td>приобретение автомобиля</td>\n",
       "      <td>C</td>\n",
       "      <td>операции с автомобилем</td>\n",
       "    </tr>\n",
       "    <tr>\n",
       "      <td>2</td>\n",
       "      <td>0</td>\n",
       "      <td>5623</td>\n",
       "      <td>33</td>\n",
       "      <td>1</td>\n",
       "      <td>0</td>\n",
       "      <td>M</td>\n",
       "      <td>сотрудник</td>\n",
       "      <td>0</td>\n",
       "      <td>145885</td>\n",
       "      <td>покупка жилья</td>\n",
       "      <td>C</td>\n",
       "      <td>операции с недвижимостью</td>\n",
       "    </tr>\n",
       "    <tr>\n",
       "      <td>3</td>\n",
       "      <td>3</td>\n",
       "      <td>4124</td>\n",
       "      <td>32</td>\n",
       "      <td>1</td>\n",
       "      <td>0</td>\n",
       "      <td>M</td>\n",
       "      <td>сотрудник</td>\n",
       "      <td>0</td>\n",
       "      <td>267628</td>\n",
       "      <td>дополнительное образование</td>\n",
       "      <td>B</td>\n",
       "      <td>операции с недвижимостью</td>\n",
       "    </tr>\n",
       "    <tr>\n",
       "      <td>4</td>\n",
       "      <td>0</td>\n",
       "      <td>340266</td>\n",
       "      <td>53</td>\n",
       "      <td>1</td>\n",
       "      <td>1</td>\n",
       "      <td>F</td>\n",
       "      <td>пенсионер</td>\n",
       "      <td>0</td>\n",
       "      <td>158616</td>\n",
       "      <td>сыграть свадьбу</td>\n",
       "      <td>C</td>\n",
       "      <td>операции с недвижимостью</td>\n",
       "    </tr>\n",
       "  </tbody>\n",
       "</table>\n",
       "</div>"
      ],
      "text/plain": [
       "   children  days_employed  dob_years  education_id  family_status_id gender  \\\n",
       "0         1           8437         42             0                 0      F   \n",
       "1         1           4024         36             1                 0      F   \n",
       "2         0           5623         33             1                 0      M   \n",
       "3         3           4124         32             1                 0      M   \n",
       "4         0         340266         53             1                 1      F   \n",
       "\n",
       "  income_type  debt  total_income                     purpose  \\\n",
       "0   сотрудник     0        253875               покупка жилья   \n",
       "1   сотрудник     0        112080     приобретение автомобиля   \n",
       "2   сотрудник     0        145885               покупка жилья   \n",
       "3   сотрудник     0        267628  дополнительное образование   \n",
       "4   пенсионер     0        158616             сыграть свадьбу   \n",
       "\n",
       "  total_income_category          purpose_category  \n",
       "0                     B  операции с недвижимостью  \n",
       "1                     C    операции с автомобилем  \n",
       "2                     C  операции с недвижимостью  \n",
       "3                     B  операции с недвижимостью  \n",
       "4                     C  операции с недвижимостью  "
      ]
     },
     "execution_count": 255,
     "metadata": {},
     "output_type": "execute_result"
    }
   ],
   "source": [
    "def purpose_category(purpose):\n",
    "    if 'авт' in purpose:\n",
    "        return 'операции с автомобилем'\n",
    "    if 'жиль' or 'недвиж' in purpose:\n",
    "        return 'операции с недвижимостью'\n",
    "    if 'адьб' in purpose:\n",
    "        return 'проведение свадьбы'\n",
    "    if 'образ' in purpose:\n",
    "        return 'получение образования'\n",
    "    \n",
    "    \n",
    "df['purpose_category'] = df['purpose'].apply(purpose_category)\n",
    "df.head()"
   ]
  },
  {
   "cell_type": "code",
   "execution_count": 256,
   "id": "420940c3",
   "metadata": {},
   "outputs": [
    {
     "data": {
      "text/html": [
       "<div>\n",
       "<style scoped>\n",
       "    .dataframe tbody tr th:only-of-type {\n",
       "        vertical-align: middle;\n",
       "    }\n",
       "\n",
       "    .dataframe tbody tr th {\n",
       "        vertical-align: top;\n",
       "    }\n",
       "\n",
       "    .dataframe thead th {\n",
       "        text-align: right;\n",
       "    }\n",
       "</style>\n",
       "<table border=\"1\" class=\"dataframe\">\n",
       "  <thead>\n",
       "    <tr style=\"text-align: right;\">\n",
       "      <th></th>\n",
       "      <th>children</th>\n",
       "      <th>days_employed</th>\n",
       "      <th>dob_years</th>\n",
       "      <th>education_id</th>\n",
       "      <th>family_status_id</th>\n",
       "      <th>gender</th>\n",
       "      <th>income_type</th>\n",
       "      <th>debt</th>\n",
       "      <th>total_income</th>\n",
       "      <th>purpose</th>\n",
       "      <th>total_income_category</th>\n",
       "      <th>purpose_category</th>\n",
       "    </tr>\n",
       "  </thead>\n",
       "  <tbody>\n",
       "    <tr>\n",
       "      <td>0</td>\n",
       "      <td>1</td>\n",
       "      <td>8437</td>\n",
       "      <td>42</td>\n",
       "      <td>0</td>\n",
       "      <td>0</td>\n",
       "      <td>F</td>\n",
       "      <td>сотрудник</td>\n",
       "      <td>0</td>\n",
       "      <td>253875</td>\n",
       "      <td>покупка жилья</td>\n",
       "      <td>B</td>\n",
       "      <td>операции с недвижимостью</td>\n",
       "    </tr>\n",
       "    <tr>\n",
       "      <td>1</td>\n",
       "      <td>1</td>\n",
       "      <td>4024</td>\n",
       "      <td>36</td>\n",
       "      <td>1</td>\n",
       "      <td>0</td>\n",
       "      <td>F</td>\n",
       "      <td>сотрудник</td>\n",
       "      <td>0</td>\n",
       "      <td>112080</td>\n",
       "      <td>приобретение автомобиля</td>\n",
       "      <td>C</td>\n",
       "      <td>операции с автомобилем</td>\n",
       "    </tr>\n",
       "    <tr>\n",
       "      <td>2</td>\n",
       "      <td>0</td>\n",
       "      <td>5623</td>\n",
       "      <td>33</td>\n",
       "      <td>1</td>\n",
       "      <td>0</td>\n",
       "      <td>M</td>\n",
       "      <td>сотрудник</td>\n",
       "      <td>0</td>\n",
       "      <td>145885</td>\n",
       "      <td>покупка жилья</td>\n",
       "      <td>C</td>\n",
       "      <td>операции с недвижимостью</td>\n",
       "    </tr>\n",
       "    <tr>\n",
       "      <td>3</td>\n",
       "      <td>3</td>\n",
       "      <td>4124</td>\n",
       "      <td>32</td>\n",
       "      <td>1</td>\n",
       "      <td>0</td>\n",
       "      <td>M</td>\n",
       "      <td>сотрудник</td>\n",
       "      <td>0</td>\n",
       "      <td>267628</td>\n",
       "      <td>дополнительное образование</td>\n",
       "      <td>B</td>\n",
       "      <td>получение образования</td>\n",
       "    </tr>\n",
       "    <tr>\n",
       "      <td>4</td>\n",
       "      <td>0</td>\n",
       "      <td>340266</td>\n",
       "      <td>53</td>\n",
       "      <td>1</td>\n",
       "      <td>1</td>\n",
       "      <td>F</td>\n",
       "      <td>пенсионер</td>\n",
       "      <td>0</td>\n",
       "      <td>158616</td>\n",
       "      <td>сыграть свадьбу</td>\n",
       "      <td>C</td>\n",
       "      <td>проведение свадьбы</td>\n",
       "    </tr>\n",
       "  </tbody>\n",
       "</table>\n",
       "</div>"
      ],
      "text/plain": [
       "   children  days_employed  dob_years  education_id  family_status_id gender  \\\n",
       "0         1           8437         42             0                 0      F   \n",
       "1         1           4024         36             1                 0      F   \n",
       "2         0           5623         33             1                 0      M   \n",
       "3         3           4124         32             1                 0      M   \n",
       "4         0         340266         53             1                 1      F   \n",
       "\n",
       "  income_type  debt  total_income                     purpose  \\\n",
       "0   сотрудник     0        253875               покупка жилья   \n",
       "1   сотрудник     0        112080     приобретение автомобиля   \n",
       "2   сотрудник     0        145885               покупка жилья   \n",
       "3   сотрудник     0        267628  дополнительное образование   \n",
       "4   пенсионер     0        158616             сыграть свадьбу   \n",
       "\n",
       "  total_income_category          purpose_category  \n",
       "0                     B  операции с недвижимостью  \n",
       "1                     C    операции с автомобилем  \n",
       "2                     C  операции с недвижимостью  \n",
       "3                     B     получение образования  \n",
       "4                     C        проведение свадьбы  "
      ]
     },
     "execution_count": 256,
     "metadata": {},
     "output_type": "execute_result"
    }
   ],
   "source": [
    "def purpose_category(purpose):\n",
    "    if 'авт' in purpose:\n",
    "        return 'операции с автомобилем'\n",
    "    if 'жил' in purpose or 'движ' in purpose:\n",
    "        return 'операции с недвижимостью'\n",
    "    if 'адьб' in purpose:\n",
    "        return 'проведение свадьбы'\n",
    "    if 'образ' in purpose:\n",
    "        return 'получение образования'\n",
    "    \n",
    "    \n",
    "df['purpose_category'] = df['purpose'].apply(purpose_category)\n",
    "df.head()"
   ]
  },
  {
   "cell_type": "markdown",
   "id": "be527a08",
   "metadata": {},
   "source": [
    "### Ответы на вопросы."
   ]
  },
  {
   "cell_type": "markdown",
   "id": "10ebd6af",
   "metadata": {},
   "source": [
    "##### Вопрос 1: Есть ли зависимость между количеством детей и возвратом кредита в срок?"
   ]
  },
  {
   "cell_type": "markdown",
   "id": "e402a67b",
   "metadata": {},
   "source": [
    "Посчитаем количество данных, приходящее на каждую группу людей с детьми."
   ]
  },
  {
   "cell_type": "code",
   "execution_count": 260,
   "id": "51156209",
   "metadata": {},
   "outputs": [
    {
     "data": {
      "text/html": [
       "<div>\n",
       "<style scoped>\n",
       "    .dataframe tbody tr th:only-of-type {\n",
       "        vertical-align: middle;\n",
       "    }\n",
       "\n",
       "    .dataframe tbody tr th {\n",
       "        vertical-align: top;\n",
       "    }\n",
       "\n",
       "    .dataframe thead th {\n",
       "        text-align: right;\n",
       "    }\n",
       "</style>\n",
       "<table border=\"1\" class=\"dataframe\">\n",
       "  <thead>\n",
       "    <tr style=\"text-align: right;\">\n",
       "      <th></th>\n",
       "      <th>debt</th>\n",
       "    </tr>\n",
       "    <tr>\n",
       "      <th>children</th>\n",
       "      <th></th>\n",
       "    </tr>\n",
       "  </thead>\n",
       "  <tbody>\n",
       "    <tr>\n",
       "      <td>0</td>\n",
       "      <td>14091</td>\n",
       "    </tr>\n",
       "    <tr>\n",
       "      <td>1</td>\n",
       "      <td>4855</td>\n",
       "    </tr>\n",
       "    <tr>\n",
       "      <td>2</td>\n",
       "      <td>2052</td>\n",
       "    </tr>\n",
       "    <tr>\n",
       "      <td>3</td>\n",
       "      <td>330</td>\n",
       "    </tr>\n",
       "    <tr>\n",
       "      <td>20</td>\n",
       "      <td>76</td>\n",
       "    </tr>\n",
       "    <tr>\n",
       "      <td>4</td>\n",
       "      <td>41</td>\n",
       "    </tr>\n",
       "    <tr>\n",
       "      <td>5</td>\n",
       "      <td>9</td>\n",
       "    </tr>\n",
       "  </tbody>\n",
       "</table>\n",
       "</div>"
      ],
      "text/plain": [
       "           debt\n",
       "children       \n",
       "0         14091\n",
       "1          4855\n",
       "2          2052\n",
       "3           330\n",
       "20           76\n",
       "4            41\n",
       "5             9"
      ]
     },
     "metadata": {},
     "output_type": "display_data"
    }
   ],
   "source": [
    "children_debt_count = df.pivot_table(index=['children'], values='debt', aggfunc='count')\n",
    "display(children_debt_count.sort_values(by='debt', ascending=False))"
   ]
  },
  {
   "cell_type": "markdown",
   "id": "fd5b3af3",
   "metadata": {},
   "source": [
    "Объективно сравнить можно только бездетные семьи и те, где не более двух детей, поскольку на другие семьи приходится слишком мало данных, что может сильно повлиять на точность полученого результата. Поэтом будем сравнить семьи до 2 детей."
   ]
  },
  {
   "cell_type": "code",
   "execution_count": 261,
   "id": "863921b7",
   "metadata": {},
   "outputs": [],
   "source": [
    "filter_children = df[df['children'] < 3]"
   ]
  },
  {
   "cell_type": "code",
   "execution_count": 262,
   "id": "fa13340d",
   "metadata": {
    "scrolled": true
   },
   "outputs": [
    {
     "data": {
      "text/html": [
       "<div>\n",
       "<style scoped>\n",
       "    .dataframe tbody tr th:only-of-type {\n",
       "        vertical-align: middle;\n",
       "    }\n",
       "\n",
       "    .dataframe tbody tr th {\n",
       "        vertical-align: top;\n",
       "    }\n",
       "\n",
       "    .dataframe thead th {\n",
       "        text-align: right;\n",
       "    }\n",
       "</style>\n",
       "<table border=\"1\" class=\"dataframe\">\n",
       "  <thead>\n",
       "    <tr style=\"text-align: right;\">\n",
       "      <th></th>\n",
       "      <th>debt</th>\n",
       "    </tr>\n",
       "    <tr>\n",
       "      <th>children</th>\n",
       "      <th></th>\n",
       "    </tr>\n",
       "  </thead>\n",
       "  <tbody>\n",
       "    <tr>\n",
       "      <td>0</td>\n",
       "      <td>0.075438</td>\n",
       "    </tr>\n",
       "    <tr>\n",
       "      <td>1</td>\n",
       "      <td>0.091658</td>\n",
       "    </tr>\n",
       "    <tr>\n",
       "      <td>2</td>\n",
       "      <td>0.094542</td>\n",
       "    </tr>\n",
       "  </tbody>\n",
       "</table>\n",
       "</div>"
      ],
      "text/plain": [
       "              debt\n",
       "children          \n",
       "0         0.075438\n",
       "1         0.091658\n",
       "2         0.094542"
      ]
     },
     "metadata": {},
     "output_type": "display_data"
    }
   ],
   "source": [
    "children_debt_mean = filter_children.pivot_table(index='children', values='debt', aggfunc='mean')\n",
    "display(children_debt_mean.sort_values(by='debt'))"
   ]
  },
  {
   "cell_type": "markdown",
   "id": "01108a1a",
   "metadata": {},
   "source": [
    "##### Вывод 1:"
   ]
  },
  {
   "cell_type": "markdown",
   "id": "1fd542b3",
   "metadata": {},
   "source": [
    "Согласно полученным результатам видна обратная зависимость от количества детей и возвратом кредита в срок. Так, семьи где нет детей на 21.5% реже пропускают выплату кредита в срок, в отличие от семей с одним ребенком и на 25.5% в отличие от семей с двумя детьми."
   ]
  },
  {
   "cell_type": "markdown",
   "id": "9fda010b",
   "metadata": {},
   "source": [
    "##### Вопрос 2: Есть ли зависимость между семейным положением и возвратом кредита в срок?"
   ]
  },
  {
   "cell_type": "markdown",
   "id": "891f4337",
   "metadata": {},
   "source": [
    "Посчитаем количество данных, приходящее на каждую группу людей с различным семейным статусом."
   ]
  },
  {
   "cell_type": "code",
   "execution_count": 265,
   "id": "c3278ce0",
   "metadata": {
    "scrolled": true
   },
   "outputs": [
    {
     "data": {
      "text/html": [
       "<div>\n",
       "<style scoped>\n",
       "    .dataframe tbody tr th:only-of-type {\n",
       "        vertical-align: middle;\n",
       "    }\n",
       "\n",
       "    .dataframe tbody tr th {\n",
       "        vertical-align: top;\n",
       "    }\n",
       "\n",
       "    .dataframe thead th {\n",
       "        text-align: right;\n",
       "    }\n",
       "</style>\n",
       "<table border=\"1\" class=\"dataframe\">\n",
       "  <thead>\n",
       "    <tr style=\"text-align: right;\">\n",
       "      <th></th>\n",
       "      <th>debt</th>\n",
       "    </tr>\n",
       "    <tr>\n",
       "      <th>family_status_id</th>\n",
       "      <th></th>\n",
       "    </tr>\n",
       "  </thead>\n",
       "  <tbody>\n",
       "    <tr>\n",
       "      <td>0</td>\n",
       "      <td>12339</td>\n",
       "    </tr>\n",
       "    <tr>\n",
       "      <td>1</td>\n",
       "      <td>4151</td>\n",
       "    </tr>\n",
       "    <tr>\n",
       "      <td>4</td>\n",
       "      <td>2810</td>\n",
       "    </tr>\n",
       "    <tr>\n",
       "      <td>3</td>\n",
       "      <td>1195</td>\n",
       "    </tr>\n",
       "    <tr>\n",
       "      <td>2</td>\n",
       "      <td>959</td>\n",
       "    </tr>\n",
       "  </tbody>\n",
       "</table>\n",
       "</div>"
      ],
      "text/plain": [
       "                   debt\n",
       "family_status_id       \n",
       "0                 12339\n",
       "1                  4151\n",
       "4                  2810\n",
       "3                  1195\n",
       "2                   959"
      ]
     },
     "metadata": {},
     "output_type": "display_data"
    }
   ],
   "source": [
    "family_status_debt_count = df.pivot_table(index=['family_status_id'], values='debt', aggfunc='count')\n",
    "display(family_status_debt_count.sort_values(by='debt', ascending=False))"
   ]
  },
  {
   "cell_type": "markdown",
   "id": "74771a5e",
   "metadata": {},
   "source": [
    "Количество данных отличается, что может отразиться на точности результата, однако данных в каждой категории достаточно, чтобы делать по ним выводы."
   ]
  },
  {
   "cell_type": "code",
   "execution_count": 266,
   "id": "8d781273",
   "metadata": {},
   "outputs": [
    {
     "data": {
      "text/html": [
       "<div>\n",
       "<style scoped>\n",
       "    .dataframe tbody tr th:only-of-type {\n",
       "        vertical-align: middle;\n",
       "    }\n",
       "\n",
       "    .dataframe tbody tr th {\n",
       "        vertical-align: top;\n",
       "    }\n",
       "\n",
       "    .dataframe thead th {\n",
       "        text-align: right;\n",
       "    }\n",
       "</style>\n",
       "<table border=\"1\" class=\"dataframe\">\n",
       "  <thead>\n",
       "    <tr style=\"text-align: right;\">\n",
       "      <th></th>\n",
       "      <th>debt</th>\n",
       "    </tr>\n",
       "    <tr>\n",
       "      <th>family_status_id</th>\n",
       "      <th></th>\n",
       "    </tr>\n",
       "  </thead>\n",
       "  <tbody>\n",
       "    <tr>\n",
       "      <td>2</td>\n",
       "      <td>0.065693</td>\n",
       "    </tr>\n",
       "    <tr>\n",
       "      <td>3</td>\n",
       "      <td>0.071130</td>\n",
       "    </tr>\n",
       "    <tr>\n",
       "      <td>0</td>\n",
       "      <td>0.075452</td>\n",
       "    </tr>\n",
       "    <tr>\n",
       "      <td>1</td>\n",
       "      <td>0.093471</td>\n",
       "    </tr>\n",
       "    <tr>\n",
       "      <td>4</td>\n",
       "      <td>0.097509</td>\n",
       "    </tr>\n",
       "  </tbody>\n",
       "</table>\n",
       "</div>"
      ],
      "text/plain": [
       "                      debt\n",
       "family_status_id          \n",
       "2                 0.065693\n",
       "3                 0.071130\n",
       "0                 0.075452\n",
       "1                 0.093471\n",
       "4                 0.097509"
      ]
     },
     "metadata": {},
     "output_type": "display_data"
    }
   ],
   "source": [
    "family_status_debt_mean = df.pivot_table(index=['family_status_id'], values='debt', aggfunc='mean')\n",
    "display(family_status_debt_mean.sort_values(by='debt'))"
   ]
  },
  {
   "cell_type": "markdown",
   "id": "d9f195ed",
   "metadata": {},
   "source": [
    "Число в таблице `family_status_id\t` соответсвует следующим категориям семейного положения:\n",
    "* 0 — женат/замужем\n",
    "* 1 — гражданский брак\n",
    "* 2 — вдова/вдовец\n",
    "* 3 — в разводе\n",
    "* 4 — не женат/не замужем"
   ]
  },
  {
   "cell_type": "markdown",
   "id": "16e54120",
   "metadata": {},
   "source": [
    "##### Вывод 2:"
   ]
  },
  {
   "cell_type": "markdown",
   "id": "2ce9fe73",
   "metadata": {},
   "source": [
    "Между семейным положением и возвратом кредита в срок есть зависимость:\n",
    "\n",
    "* На первом месте по выплатам в срок стоят люди из катеоргии 2 — вдова/вдовец.\n",
    "* На втором месте по выплатам в срок стоят люди из катеоргии 3 — в разводе.\n",
    "* На третьем месте по выплатам в срок стоят люди из катеоргии 0 — женат/замужем.\n",
    "* На четвертом месте по выплатам в срок стоят люди из катеоргии 1 — гражданский брак.\n",
    "* На пятом месте по выплатам в срок стоят люди из катеоргии 4 — не женат/не замужем.\n"
   ]
  },
  {
   "cell_type": "markdown",
   "id": "c262d4d9",
   "metadata": {},
   "source": [
    "Можно сделать заключение: семейные люди выплачивают кредит в срок чаще, чем люди которые не состоят в каких-либо отношениях."
   ]
  },
  {
   "cell_type": "markdown",
   "id": "b1827e39",
   "metadata": {},
   "source": [
    "##### Вопрос 3: Есть ли зависимость между уровнем дохода и возвратом кредита в срок?"
   ]
  },
  {
   "cell_type": "markdown",
   "id": "d53e9f04",
   "metadata": {},
   "source": [
    "Посчитаем количество данных, приходящее на каждую группу людей с различным финансовым доходом."
   ]
  },
  {
   "cell_type": "code",
   "execution_count": 267,
   "id": "2930646b",
   "metadata": {
    "scrolled": true
   },
   "outputs": [
    {
     "data": {
      "text/html": [
       "<div>\n",
       "<style scoped>\n",
       "    .dataframe tbody tr th:only-of-type {\n",
       "        vertical-align: middle;\n",
       "    }\n",
       "\n",
       "    .dataframe tbody tr th {\n",
       "        vertical-align: top;\n",
       "    }\n",
       "\n",
       "    .dataframe thead th {\n",
       "        text-align: right;\n",
       "    }\n",
       "</style>\n",
       "<table border=\"1\" class=\"dataframe\">\n",
       "  <thead>\n",
       "    <tr style=\"text-align: right;\">\n",
       "      <th></th>\n",
       "      <th>debt</th>\n",
       "    </tr>\n",
       "    <tr>\n",
       "      <th>total_income_category</th>\n",
       "      <th></th>\n",
       "    </tr>\n",
       "  </thead>\n",
       "  <tbody>\n",
       "    <tr>\n",
       "      <td>C</td>\n",
       "      <td>16016</td>\n",
       "    </tr>\n",
       "    <tr>\n",
       "      <td>B</td>\n",
       "      <td>5041</td>\n",
       "    </tr>\n",
       "    <tr>\n",
       "      <td>D</td>\n",
       "      <td>350</td>\n",
       "    </tr>\n",
       "    <tr>\n",
       "      <td>A</td>\n",
       "      <td>25</td>\n",
       "    </tr>\n",
       "    <tr>\n",
       "      <td>E</td>\n",
       "      <td>22</td>\n",
       "    </tr>\n",
       "  </tbody>\n",
       "</table>\n",
       "</div>"
      ],
      "text/plain": [
       "                        debt\n",
       "total_income_category       \n",
       "C                      16016\n",
       "B                       5041\n",
       "D                        350\n",
       "A                         25\n",
       "E                         22"
      ]
     },
     "metadata": {},
     "output_type": "display_data"
    }
   ],
   "source": [
    "total_income_category_debt_count = df.pivot_table(index=['total_income_category'], values='debt', aggfunc='count')\n",
    "display(total_income_category_debt_count.sort_values(by='debt', ascending=False))"
   ]
  },
  {
   "cell_type": "markdown",
   "id": "b44e1a5d",
   "metadata": {},
   "source": [
    "Объективно сравнить можно только категории C и B, поскольку на другие категории приходится слишком мало данных, что может сильно повлиять на точность полученого результата. Поэтом будем сравнить категории C и B."
   ]
  },
  {
   "cell_type": "code",
   "execution_count": 268,
   "id": "6f5e51f9",
   "metadata": {},
   "outputs": [],
   "source": [
    "filter_income = df[(df['total_income_category'] == 'B') | (df['total_income_category'] == 'C')]\n",
    "   "
   ]
  },
  {
   "cell_type": "code",
   "execution_count": 269,
   "id": "902d22d7",
   "metadata": {
    "scrolled": true
   },
   "outputs": [
    {
     "data": {
      "text/html": [
       "<div>\n",
       "<style scoped>\n",
       "    .dataframe tbody tr th:only-of-type {\n",
       "        vertical-align: middle;\n",
       "    }\n",
       "\n",
       "    .dataframe tbody tr th {\n",
       "        vertical-align: top;\n",
       "    }\n",
       "\n",
       "    .dataframe thead th {\n",
       "        text-align: right;\n",
       "    }\n",
       "</style>\n",
       "<table border=\"1\" class=\"dataframe\">\n",
       "  <thead>\n",
       "    <tr style=\"text-align: right;\">\n",
       "      <th></th>\n",
       "      <th>debt</th>\n",
       "    </tr>\n",
       "    <tr>\n",
       "      <th>total_income_category</th>\n",
       "      <th></th>\n",
       "    </tr>\n",
       "  </thead>\n",
       "  <tbody>\n",
       "    <tr>\n",
       "      <td>B</td>\n",
       "      <td>0.070621</td>\n",
       "    </tr>\n",
       "    <tr>\n",
       "      <td>C</td>\n",
       "      <td>0.084915</td>\n",
       "    </tr>\n",
       "  </tbody>\n",
       "</table>\n",
       "</div>"
      ],
      "text/plain": [
       "                           debt\n",
       "total_income_category          \n",
       "B                      0.070621\n",
       "C                      0.084915"
      ]
     },
     "metadata": {},
     "output_type": "display_data"
    }
   ],
   "source": [
    "total_income_category_debt_mean = filter_income.pivot_table(index=['total_income_category'], values='debt', aggfunc='mean')\n",
    "display(total_income_category_debt_mean.sort_values(by='debt'))"
   ]
  },
  {
   "cell_type": "markdown",
   "id": "e3631ea4",
   "metadata": {},
   "source": [
    "##### Вывод 3:"
   ]
  },
  {
   "cell_type": "markdown",
   "id": "3655f7e1",
   "metadata": {},
   "source": [
    "Зависимость между уровнем дохода и возвратом кредита в срок есть:\n",
    "\n",
    "Люди из категории B с более высоким достатком платят исправлнее, чем люди из соседней категории C на 20%."
   ]
  },
  {
   "cell_type": "markdown",
   "id": "e56d4270",
   "metadata": {},
   "source": [
    "##### Вопрос 4: Как разные цели кредита влияют на его возврат в срок?"
   ]
  },
  {
   "cell_type": "markdown",
   "id": "b3d643c8",
   "metadata": {},
   "source": [
    "Посчитаем количество данных, приходящее на каждую группу людей с различными целями."
   ]
  },
  {
   "cell_type": "code",
   "execution_count": 270,
   "id": "269317db",
   "metadata": {
    "scrolled": true
   },
   "outputs": [
    {
     "data": {
      "text/html": [
       "<div>\n",
       "<style scoped>\n",
       "    .dataframe tbody tr th:only-of-type {\n",
       "        vertical-align: middle;\n",
       "    }\n",
       "\n",
       "    .dataframe tbody tr th {\n",
       "        vertical-align: top;\n",
       "    }\n",
       "\n",
       "    .dataframe thead th {\n",
       "        text-align: right;\n",
       "    }\n",
       "</style>\n",
       "<table border=\"1\" class=\"dataframe\">\n",
       "  <thead>\n",
       "    <tr style=\"text-align: right;\">\n",
       "      <th></th>\n",
       "      <th>debt</th>\n",
       "    </tr>\n",
       "    <tr>\n",
       "      <th>purpose_category</th>\n",
       "      <th></th>\n",
       "    </tr>\n",
       "  </thead>\n",
       "  <tbody>\n",
       "    <tr>\n",
       "      <td>операции с недвижимостью</td>\n",
       "      <td>10811</td>\n",
       "    </tr>\n",
       "    <tr>\n",
       "      <td>операции с автомобилем</td>\n",
       "      <td>4306</td>\n",
       "    </tr>\n",
       "    <tr>\n",
       "      <td>получение образования</td>\n",
       "      <td>4013</td>\n",
       "    </tr>\n",
       "    <tr>\n",
       "      <td>проведение свадьбы</td>\n",
       "      <td>2324</td>\n",
       "    </tr>\n",
       "  </tbody>\n",
       "</table>\n",
       "</div>"
      ],
      "text/plain": [
       "                           debt\n",
       "purpose_category               \n",
       "операции с недвижимостью  10811\n",
       "операции с автомобилем     4306\n",
       "получение образования      4013\n",
       "проведение свадьбы         2324"
      ]
     },
     "metadata": {},
     "output_type": "display_data"
    }
   ],
   "source": [
    "purpose_category_debt_count = df.pivot_table(index=['purpose_category'], values='debt', aggfunc='count')\n",
    "display(purpose_category_debt_count.sort_values(by='debt', ascending=False))"
   ]
  },
  {
   "cell_type": "markdown",
   "id": "948ecf7a",
   "metadata": {},
   "source": [
    "Количество данных в каждой категории отличаются, однако их достаточно, чтобы делать по ним выводы."
   ]
  },
  {
   "cell_type": "code",
   "execution_count": 271,
   "id": "88c9a163",
   "metadata": {},
   "outputs": [
    {
     "data": {
      "text/html": [
       "<div>\n",
       "<style scoped>\n",
       "    .dataframe tbody tr th:only-of-type {\n",
       "        vertical-align: middle;\n",
       "    }\n",
       "\n",
       "    .dataframe tbody tr th {\n",
       "        vertical-align: top;\n",
       "    }\n",
       "\n",
       "    .dataframe thead th {\n",
       "        text-align: right;\n",
       "    }\n",
       "</style>\n",
       "<table border=\"1\" class=\"dataframe\">\n",
       "  <thead>\n",
       "    <tr style=\"text-align: right;\">\n",
       "      <th></th>\n",
       "      <th>debt</th>\n",
       "    </tr>\n",
       "    <tr>\n",
       "      <th>purpose_category</th>\n",
       "      <th></th>\n",
       "    </tr>\n",
       "  </thead>\n",
       "  <tbody>\n",
       "    <tr>\n",
       "      <td>операции с недвижимостью</td>\n",
       "      <td>0.072334</td>\n",
       "    </tr>\n",
       "    <tr>\n",
       "      <td>проведение свадьбы</td>\n",
       "      <td>0.080034</td>\n",
       "    </tr>\n",
       "    <tr>\n",
       "      <td>получение образования</td>\n",
       "      <td>0.092200</td>\n",
       "    </tr>\n",
       "    <tr>\n",
       "      <td>операции с автомобилем</td>\n",
       "      <td>0.093590</td>\n",
       "    </tr>\n",
       "  </tbody>\n",
       "</table>\n",
       "</div>"
      ],
      "text/plain": [
       "                              debt\n",
       "purpose_category                  \n",
       "операции с недвижимостью  0.072334\n",
       "проведение свадьбы        0.080034\n",
       "получение образования     0.092200\n",
       "операции с автомобилем    0.093590"
      ]
     },
     "metadata": {},
     "output_type": "display_data"
    }
   ],
   "source": [
    "purpose_category_debt_mean = df.pivot_table(index=['purpose_category'], values='debt', aggfunc='mean')\n",
    "display(purpose_category_debt_mean.sort_values(by='debt'))"
   ]
  },
  {
   "cell_type": "markdown",
   "id": "0c41cacf",
   "metadata": {},
   "source": [
    "#### Вывод 3:"
   ]
  },
  {
   "cell_type": "markdown",
   "id": "8d79a8fc",
   "metadata": {},
   "source": [
    "Разные цели кредита влияют на его возврат в срок:\n",
    "\n",
    "* На первом месте по исправности платежа — операции с недвижимостью.\n",
    "* На втором месте по исправности платежа — проведение свадьбы.\n",
    "* На третьем месте по исправности платежа — получение образования.\n",
    "* На четвертом месте по исправности платежа — операции с автомобилем. "
   ]
  },
  {
   "cell_type": "markdown",
   "id": "dde244f1",
   "metadata": {},
   "source": [
    "## Общий вывод:"
   ]
  },
  {
   "cell_type": "markdown",
   "id": "a544a36e",
   "metadata": {},
   "source": [
    "Мы ответили на четыре вопроса:\n",
    "\n",
    "**1. Есть ли зависимость между количеством детей и возвратом кредита в срок?**\n",
    "\n",
    "Согласно нашему исследованию мы установили обратную зависимость между количеством детей и уплатой кредита в срок.\n",
    "Так, семьи где нет детей на 21.5% реже пропускают выплату кредита в срок, в отличие от семей с одним ребенком и на 25.5% в отличие от семей с двумя детьми.\n",
    "\n",
    "**2. Есть ли зависимость между семейным положением и возвратом кредита в срок?**\n",
    "\n",
    "Зависимость есть. Например, вдовы/вдовцы платят на 48.4% исправнее чем неженатые/незамужние.\n",
    "\n",
    "* На первом месте по выплатам в срок стоят люди из катеоргии 2 — вдова/вдовец.\n",
    "* На втором месте по выплатам в срок стоят люди из катеоргии 3 — в разводе.\n",
    "* На третьем месте по выплатам в срок стоят люди из катеоргии 0 — женат/замужем.\n",
    "* На четвертом месте по выплатам в срок стоят люди из катеоргии 1 — гражданский брак.\n",
    "* На пятом месте по выплатам в срок стоят люди из катеоргии 4 — не женат/не замужем.\n",
    "\n",
    "**3. Есть ли зависимость между уровнем дохода и возвратом кредита в срок?**\n",
    "\n",
    "Зависимость между уровнем дохода и возвратом кредита в срок есть: люди из категории B с более высоким достатком платят исправлнее, чем люди из соседней нижней категории C на 20%.\n",
    "\n",
    "**4. Как разные цели кредита влияют на его возврат в срок?**\n",
    "\n",
    "Разные цели кредита влияют на его возврат в срок:\n",
    "\n",
    "* На первом месте по исправности платежа — операции с недвижимостью.\n",
    "* На втором месте по исправности платежа — проведение свадьбы.\n",
    "* На третьем месте по исправности платежа — получение образования.\n",
    "* На четвертом месте по исправности платежа — операции с автомобилем. "
   ]
  },
  {
   "cell_type": "markdown",
   "id": "6aff62ae",
   "metadata": {},
   "source": [
    "Исходя из нашего исследования предпочтительным клиентом банка по возврату платежа является бездетный вдовец с достатком категории B, который покупает недвижимость.\n",
    "\n",
    "Нежелательным клиентом является человек с двумя детьми, не женатый с достатком категории С, который покупает автомобиль."
   ]
  }
 ],
 "metadata": {
  "ExecuteTimeLog": [
   {
    "duration": 361,
    "start_time": "2022-02-17T16:17:32.202Z"
   },
   {
    "duration": 1004,
    "start_time": "2022-02-17T16:17:36.734Z"
   },
   {
    "duration": 2084,
    "start_time": "2022-02-17T16:17:39.214Z"
   },
   {
    "duration": 2013,
    "start_time": "2022-02-17T16:19:11.728Z"
   },
   {
    "duration": 1845,
    "start_time": "2022-02-17T16:19:38.665Z"
   },
   {
    "duration": 84,
    "start_time": "2022-02-17T16:19:49.074Z"
   },
   {
    "duration": 4,
    "start_time": "2022-02-17T16:20:24.601Z"
   },
   {
    "duration": 60,
    "start_time": "2022-02-17T16:20:26.435Z"
   },
   {
    "duration": 20,
    "start_time": "2022-02-17T16:20:28.537Z"
   },
   {
    "duration": 15,
    "start_time": "2022-02-17T16:21:54.899Z"
   },
   {
    "duration": 112,
    "start_time": "2022-02-17T16:28:55.926Z"
   },
   {
    "duration": 90,
    "start_time": "2022-02-17T16:29:28.732Z"
   },
   {
    "duration": 85,
    "start_time": "2022-02-17T16:29:32.116Z"
   },
   {
    "duration": 347,
    "start_time": "2022-02-18T08:31:30.760Z"
   },
   {
    "duration": 274,
    "start_time": "2022-02-18T08:31:37.760Z"
   },
   {
    "duration": 284,
    "start_time": "2022-02-18T08:32:04.937Z"
   },
   {
    "duration": 761,
    "start_time": "2022-02-18T08:32:12.105Z"
   },
   {
    "duration": 61,
    "start_time": "2022-02-18T08:32:13.664Z"
   },
   {
    "duration": 32,
    "start_time": "2022-02-18T08:32:14.297Z"
   },
   {
    "duration": 17,
    "start_time": "2022-02-18T08:32:17.185Z"
   },
   {
    "duration": 7,
    "start_time": "2022-02-18T08:32:20.384Z"
   },
   {
    "duration": 7,
    "start_time": "2022-02-18T08:32:47.274Z"
   },
   {
    "duration": 9,
    "start_time": "2022-02-18T08:37:12.168Z"
   },
   {
    "duration": 7,
    "start_time": "2022-02-18T08:37:25.695Z"
   },
   {
    "duration": 7,
    "start_time": "2022-02-18T08:39:41.530Z"
   },
   {
    "duration": 7,
    "start_time": "2022-02-18T08:40:02.490Z"
   },
   {
    "duration": 6,
    "start_time": "2022-02-18T08:40:10.859Z"
   },
   {
    "duration": 7,
    "start_time": "2022-02-18T08:40:29.459Z"
   },
   {
    "duration": 10,
    "start_time": "2022-02-18T08:40:35.091Z"
   },
   {
    "duration": 12,
    "start_time": "2022-02-18T08:41:00.436Z"
   },
   {
    "duration": 16,
    "start_time": "2022-02-18T08:41:08.243Z"
   },
   {
    "duration": 60,
    "start_time": "2022-02-18T08:41:24.757Z"
   },
   {
    "duration": 41,
    "start_time": "2022-02-18T08:41:39.967Z"
   },
   {
    "duration": 37,
    "start_time": "2022-02-18T08:41:44.373Z"
   },
   {
    "duration": 9,
    "start_time": "2022-02-18T08:46:22.794Z"
   },
   {
    "duration": 8,
    "start_time": "2022-02-18T08:46:38.714Z"
   },
   {
    "duration": 8,
    "start_time": "2022-02-18T08:46:42.890Z"
   },
   {
    "duration": 8,
    "start_time": "2022-02-18T08:46:50.570Z"
   },
   {
    "duration": 8,
    "start_time": "2022-02-18T08:46:57.530Z"
   },
   {
    "duration": 8,
    "start_time": "2022-02-18T08:47:09.186Z"
   },
   {
    "duration": 8,
    "start_time": "2022-02-18T08:47:15.395Z"
   },
   {
    "duration": 7,
    "start_time": "2022-02-18T08:47:19.835Z"
   },
   {
    "duration": 13,
    "start_time": "2022-02-18T08:59:35.219Z"
   },
   {
    "duration": 8,
    "start_time": "2022-02-18T09:00:38.835Z"
   },
   {
    "duration": 8,
    "start_time": "2022-02-18T09:00:56.268Z"
   },
   {
    "duration": 6,
    "start_time": "2022-02-18T09:01:21.029Z"
   },
   {
    "duration": 8,
    "start_time": "2022-02-18T09:01:32.956Z"
   },
   {
    "duration": 7,
    "start_time": "2022-02-18T09:02:14.670Z"
   },
   {
    "duration": 5,
    "start_time": "2022-02-18T09:02:36.894Z"
   },
   {
    "duration": 5,
    "start_time": "2022-02-18T09:04:13.225Z"
   },
   {
    "duration": 6,
    "start_time": "2022-02-18T09:04:15.312Z"
   },
   {
    "duration": 100,
    "start_time": "2022-02-18T09:04:50.817Z"
   },
   {
    "duration": 86,
    "start_time": "2022-02-18T09:04:59.200Z"
   },
   {
    "duration": 6,
    "start_time": "2022-02-18T09:05:13.745Z"
   },
   {
    "duration": 6,
    "start_time": "2022-02-18T09:21:54.212Z"
   },
   {
    "duration": 5,
    "start_time": "2022-02-18T09:22:58.701Z"
   },
   {
    "duration": 14,
    "start_time": "2022-02-18T09:23:03.678Z"
   },
   {
    "duration": 7,
    "start_time": "2022-02-18T09:23:51.519Z"
   },
   {
    "duration": 5,
    "start_time": "2022-02-18T09:24:07.703Z"
   },
   {
    "duration": 7,
    "start_time": "2022-02-18T09:24:40.807Z"
   },
   {
    "duration": 6,
    "start_time": "2022-02-18T09:24:47.535Z"
   },
   {
    "duration": 7,
    "start_time": "2022-02-18T09:24:53.287Z"
   },
   {
    "duration": 7,
    "start_time": "2022-02-18T09:25:13.908Z"
   },
   {
    "duration": 6,
    "start_time": "2022-02-18T09:25:21.408Z"
   },
   {
    "duration": 5,
    "start_time": "2022-02-18T09:25:33.233Z"
   },
   {
    "duration": 13,
    "start_time": "2022-02-18T09:26:09.105Z"
   },
   {
    "duration": 7,
    "start_time": "2022-02-18T09:26:11.698Z"
   },
   {
    "duration": 6,
    "start_time": "2022-02-18T09:26:13.546Z"
   },
   {
    "duration": 5,
    "start_time": "2022-02-18T09:26:15.617Z"
   },
   {
    "duration": 5,
    "start_time": "2022-02-18T09:26:17.729Z"
   },
   {
    "duration": 20,
    "start_time": "2022-02-18T09:26:46.490Z"
   },
   {
    "duration": 14,
    "start_time": "2022-02-18T09:26:52.298Z"
   },
   {
    "duration": 102,
    "start_time": "2022-02-18T09:32:22.665Z"
   },
   {
    "duration": 307,
    "start_time": "2022-02-18T09:48:21.883Z"
   },
   {
    "duration": 4,
    "start_time": "2022-02-18T09:48:28.644Z"
   },
   {
    "duration": 65,
    "start_time": "2022-02-18T09:48:29.603Z"
   },
   {
    "duration": 20,
    "start_time": "2022-02-18T09:48:30.242Z"
   },
   {
    "duration": 303,
    "start_time": "2022-02-18T09:48:51.941Z"
   },
   {
    "duration": 93,
    "start_time": "2022-02-18T09:50:47.134Z"
   },
   {
    "duration": 26,
    "start_time": "2022-02-18T09:51:04.335Z"
   },
   {
    "duration": 29,
    "start_time": "2022-02-18T09:52:30.200Z"
   },
   {
    "duration": 43,
    "start_time": "2022-02-18T09:52:38.737Z"
   },
   {
    "duration": 6,
    "start_time": "2022-02-18T09:54:17.075Z"
   },
   {
    "duration": 626,
    "start_time": "2022-02-18T10:09:46.575Z"
   },
   {
    "duration": 357,
    "start_time": "2022-02-18T10:10:00.438Z"
   },
   {
    "duration": 373,
    "start_time": "2022-02-18T10:10:11.245Z"
   },
   {
    "duration": 1172,
    "start_time": "2022-02-18T10:10:18.735Z"
   },
   {
    "duration": 597,
    "start_time": "2022-02-18T10:10:33.502Z"
   },
   {
    "duration": 342,
    "start_time": "2022-02-18T10:10:39.334Z"
   },
   {
    "duration": 97,
    "start_time": "2022-02-18T10:10:53.006Z"
   },
   {
    "duration": 351,
    "start_time": "2022-02-18T10:10:57.598Z"
   },
   {
    "duration": 347,
    "start_time": "2022-02-18T10:11:06.351Z"
   },
   {
    "duration": 438,
    "start_time": "2022-02-18T10:11:14.047Z"
   },
   {
    "duration": 5661,
    "start_time": "2022-02-18T10:11:18.335Z"
   },
   {
    "duration": 4,
    "start_time": "2022-02-18T10:11:56.255Z"
   },
   {
    "duration": 60,
    "start_time": "2022-02-18T10:11:56.639Z"
   },
   {
    "duration": 20,
    "start_time": "2022-02-18T10:11:56.911Z"
   },
   {
    "duration": 14,
    "start_time": "2022-02-18T10:11:57.847Z"
   },
   {
    "duration": 13,
    "start_time": "2022-02-18T10:12:30.824Z"
   },
   {
    "duration": 14,
    "start_time": "2022-02-18T10:12:38.504Z"
   },
   {
    "duration": 267,
    "start_time": "2022-02-18T10:12:47.929Z"
   },
   {
    "duration": 290,
    "start_time": "2022-02-18T10:12:53.601Z"
   },
   {
    "duration": 7,
    "start_time": "2022-02-18T10:13:04.312Z"
   },
   {
    "duration": 2447,
    "start_time": "2022-02-18T10:13:48.138Z"
   },
   {
    "duration": 13,
    "start_time": "2022-02-18T10:14:05.234Z"
   },
   {
    "duration": 7,
    "start_time": "2022-02-18T10:15:36.428Z"
   },
   {
    "duration": 6,
    "start_time": "2022-02-18T10:16:37.637Z"
   },
   {
    "duration": 7,
    "start_time": "2022-02-18T10:16:49.285Z"
   },
   {
    "duration": 309,
    "start_time": "2022-02-18T10:21:42.668Z"
   },
   {
    "duration": 35,
    "start_time": "2022-02-18T10:21:58.212Z"
   },
   {
    "duration": 7,
    "start_time": "2022-02-18T10:22:53.222Z"
   },
   {
    "duration": 5,
    "start_time": "2022-02-18T10:23:33.854Z"
   },
   {
    "duration": 7,
    "start_time": "2022-02-18T10:23:41.685Z"
   },
   {
    "duration": 7,
    "start_time": "2022-02-18T10:24:03.759Z"
   },
   {
    "duration": 89,
    "start_time": "2022-02-18T10:32:12.992Z"
   },
   {
    "duration": 87,
    "start_time": "2022-02-18T10:32:23.440Z"
   },
   {
    "duration": 86,
    "start_time": "2022-02-18T10:32:28.216Z"
   },
   {
    "duration": 162,
    "start_time": "2022-02-18T10:34:19.395Z"
   },
   {
    "duration": 89,
    "start_time": "2022-02-18T10:34:22.922Z"
   },
   {
    "duration": 8,
    "start_time": "2022-02-18T10:34:40.339Z"
   },
   {
    "duration": 278,
    "start_time": "2022-02-18T10:35:50.324Z"
   },
   {
    "duration": 8,
    "start_time": "2022-02-18T10:35:55.717Z"
   },
   {
    "duration": 337,
    "start_time": "2022-02-18T10:36:00.204Z"
   },
   {
    "duration": 276,
    "start_time": "2022-02-18T10:36:06.461Z"
   },
   {
    "duration": 7,
    "start_time": "2022-02-18T10:36:10.717Z"
   },
   {
    "duration": 7,
    "start_time": "2022-02-18T10:36:19.573Z"
   },
   {
    "duration": 7,
    "start_time": "2022-02-18T10:36:23.934Z"
   },
   {
    "duration": 7,
    "start_time": "2022-02-18T10:36:34.037Z"
   },
   {
    "duration": 8,
    "start_time": "2022-02-18T10:36:44.790Z"
   },
   {
    "duration": 7,
    "start_time": "2022-02-18T10:37:21.598Z"
   },
   {
    "duration": 7,
    "start_time": "2022-02-18T10:37:24.695Z"
   },
   {
    "duration": 8,
    "start_time": "2022-02-18T10:37:28.224Z"
   },
   {
    "duration": 8,
    "start_time": "2022-02-18T10:37:31.231Z"
   },
   {
    "duration": 9,
    "start_time": "2022-02-18T10:37:35.286Z"
   },
   {
    "duration": 7,
    "start_time": "2022-02-18T10:37:39.286Z"
   },
   {
    "duration": 8,
    "start_time": "2022-02-18T10:38:12.791Z"
   },
   {
    "duration": 5,
    "start_time": "2022-02-18T10:38:37.415Z"
   },
   {
    "duration": 8,
    "start_time": "2022-02-18T10:38:39.343Z"
   },
   {
    "duration": 7,
    "start_time": "2022-02-18T10:40:10.298Z"
   },
   {
    "duration": 12,
    "start_time": "2022-02-18T10:43:49.046Z"
   },
   {
    "duration": 8,
    "start_time": "2022-02-18T10:51:46.220Z"
   },
   {
    "duration": 3560,
    "start_time": "2022-02-18T10:56:25.951Z"
   },
   {
    "duration": 314,
    "start_time": "2022-02-18T10:56:54.689Z"
   },
   {
    "duration": 19,
    "start_time": "2022-02-18T10:56:57.712Z"
   },
   {
    "duration": 19,
    "start_time": "2022-02-18T10:57:38.985Z"
   },
   {
    "duration": 19,
    "start_time": "2022-02-18T10:58:05.986Z"
   },
   {
    "duration": 19,
    "start_time": "2022-02-18T11:05:38.002Z"
   },
   {
    "duration": 19,
    "start_time": "2022-02-18T11:23:51.205Z"
   },
   {
    "duration": 296,
    "start_time": "2022-02-18T11:24:07.319Z"
   },
   {
    "duration": 312,
    "start_time": "2022-02-18T11:24:21.541Z"
   },
   {
    "duration": 294,
    "start_time": "2022-02-18T11:24:36.038Z"
   },
   {
    "duration": 2108,
    "start_time": "2022-02-18T11:24:40.654Z"
   },
   {
    "duration": 20,
    "start_time": "2022-02-18T11:24:48.614Z"
   },
   {
    "duration": 18,
    "start_time": "2022-02-18T11:25:04.390Z"
   },
   {
    "duration": 7,
    "start_time": "2022-02-18T11:26:27.448Z"
   },
   {
    "duration": 37,
    "start_time": "2022-02-18T11:26:45.857Z"
   },
   {
    "duration": 19,
    "start_time": "2022-02-18T11:28:44.588Z"
   },
   {
    "duration": 20,
    "start_time": "2022-02-18T11:28:59.955Z"
   },
   {
    "duration": 8,
    "start_time": "2022-02-18T11:29:46.557Z"
   },
   {
    "duration": 12,
    "start_time": "2022-02-18T11:30:25.774Z"
   },
   {
    "duration": 17,
    "start_time": "2022-02-18T11:30:33.158Z"
   },
   {
    "duration": 8,
    "start_time": "2022-02-18T11:30:51.767Z"
   },
   {
    "duration": 7,
    "start_time": "2022-02-18T11:31:03.951Z"
   },
   {
    "duration": 8,
    "start_time": "2022-02-18T11:32:21.585Z"
   },
   {
    "duration": 5272,
    "start_time": "2022-02-18T11:32:27.225Z"
   },
   {
    "duration": 13,
    "start_time": "2022-02-18T11:32:40.609Z"
   },
   {
    "duration": 29,
    "start_time": "2022-02-18T11:34:08.451Z"
   },
   {
    "duration": 12,
    "start_time": "2022-02-18T11:34:17.284Z"
   },
   {
    "duration": 48,
    "start_time": "2022-02-18T11:34:28.043Z"
   },
   {
    "duration": 29,
    "start_time": "2022-02-18T11:34:58.868Z"
   },
   {
    "duration": 276,
    "start_time": "2022-02-18T11:35:08.733Z"
   },
   {
    "duration": 5,
    "start_time": "2022-02-18T11:36:40.457Z"
   },
   {
    "duration": 73,
    "start_time": "2022-02-18T11:36:40.465Z"
   },
   {
    "duration": 22,
    "start_time": "2022-02-18T11:36:40.541Z"
   },
   {
    "duration": 37,
    "start_time": "2022-02-18T11:36:40.566Z"
   },
   {
    "duration": 11,
    "start_time": "2022-02-18T11:36:40.606Z"
   },
   {
    "duration": 13,
    "start_time": "2022-02-18T11:36:40.620Z"
   },
   {
    "duration": 7,
    "start_time": "2022-02-18T11:36:40.635Z"
   },
   {
    "duration": 62,
    "start_time": "2022-02-18T11:36:40.646Z"
   },
   {
    "duration": 25,
    "start_time": "2022-02-18T11:36:40.711Z"
   },
   {
    "duration": 9,
    "start_time": "2022-02-18T11:36:40.738Z"
   },
   {
    "duration": 7,
    "start_time": "2022-02-18T11:36:40.749Z"
   },
   {
    "duration": 36,
    "start_time": "2022-02-18T11:36:40.758Z"
   },
   {
    "duration": 5,
    "start_time": "2022-02-18T11:36:40.797Z"
   },
   {
    "duration": 14,
    "start_time": "2022-02-18T11:36:40.804Z"
   },
   {
    "duration": 277,
    "start_time": "2022-02-18T12:25:41.737Z"
   },
   {
    "duration": 3,
    "start_time": "2022-02-18T12:26:06.061Z"
   },
   {
    "duration": 69,
    "start_time": "2022-02-18T12:26:06.067Z"
   },
   {
    "duration": 20,
    "start_time": "2022-02-18T12:26:06.139Z"
   },
   {
    "duration": 42,
    "start_time": "2022-02-18T12:26:06.162Z"
   },
   {
    "duration": 35,
    "start_time": "2022-02-18T12:26:06.207Z"
   },
   {
    "duration": 8,
    "start_time": "2022-02-18T12:26:06.245Z"
   },
   {
    "duration": 13,
    "start_time": "2022-02-18T12:26:06.256Z"
   },
   {
    "duration": 42,
    "start_time": "2022-02-18T12:26:06.273Z"
   },
   {
    "duration": 23,
    "start_time": "2022-02-18T12:26:06.318Z"
   },
   {
    "duration": 11,
    "start_time": "2022-02-18T12:26:06.343Z"
   },
   {
    "duration": 6,
    "start_time": "2022-02-18T12:26:06.356Z"
   },
   {
    "duration": 8,
    "start_time": "2022-02-18T12:26:06.393Z"
   },
   {
    "duration": 21,
    "start_time": "2022-02-18T12:26:06.405Z"
   },
   {
    "duration": 16,
    "start_time": "2022-02-18T12:26:06.429Z"
   },
   {
    "duration": 294,
    "start_time": "2022-02-18T12:26:06.447Z"
   },
   {
    "duration": 321,
    "start_time": "2022-02-18T12:26:24.715Z"
   },
   {
    "duration": 4,
    "start_time": "2022-02-18T12:26:32.059Z"
   },
   {
    "duration": 23,
    "start_time": "2022-02-18T12:26:46.259Z"
   },
   {
    "duration": 18,
    "start_time": "2022-02-18T12:30:17.872Z"
   },
   {
    "duration": 4,
    "start_time": "2022-02-18T12:39:39.149Z"
   },
   {
    "duration": 17,
    "start_time": "2022-02-18T12:39:55.252Z"
   },
   {
    "duration": 21,
    "start_time": "2022-02-18T12:47:05.620Z"
   },
   {
    "duration": 19,
    "start_time": "2022-02-18T12:47:31.501Z"
   },
   {
    "duration": 15,
    "start_time": "2022-02-18T12:47:45.021Z"
   },
   {
    "duration": 21,
    "start_time": "2022-02-18T12:47:47.685Z"
   },
   {
    "duration": 35,
    "start_time": "2022-02-18T13:48:43.517Z"
   },
   {
    "duration": 22,
    "start_time": "2022-02-18T13:53:36.498Z"
   },
   {
    "duration": 23,
    "start_time": "2022-02-18T13:53:43.603Z"
   },
   {
    "duration": 22,
    "start_time": "2022-02-18T13:53:45.626Z"
   },
   {
    "duration": 352,
    "start_time": "2022-02-18T13:57:38.984Z"
   },
   {
    "duration": 295,
    "start_time": "2022-02-18T13:57:48.943Z"
   },
   {
    "duration": 3,
    "start_time": "2022-02-18T13:58:12.076Z"
   },
   {
    "duration": 62,
    "start_time": "2022-02-18T13:58:12.082Z"
   },
   {
    "duration": 19,
    "start_time": "2022-02-18T13:58:12.147Z"
   },
   {
    "duration": 32,
    "start_time": "2022-02-18T13:58:12.169Z"
   },
   {
    "duration": 12,
    "start_time": "2022-02-18T13:58:12.204Z"
   },
   {
    "duration": 7,
    "start_time": "2022-02-18T13:58:12.218Z"
   },
   {
    "duration": 8,
    "start_time": "2022-02-18T13:58:12.227Z"
   },
   {
    "duration": 66,
    "start_time": "2022-02-18T13:58:12.240Z"
   },
   {
    "duration": 25,
    "start_time": "2022-02-18T13:58:12.309Z"
   },
   {
    "duration": 7,
    "start_time": "2022-02-18T13:58:12.336Z"
   },
   {
    "duration": 16,
    "start_time": "2022-02-18T13:58:12.346Z"
   },
   {
    "duration": 30,
    "start_time": "2022-02-18T13:58:12.364Z"
   },
   {
    "duration": 5,
    "start_time": "2022-02-18T13:58:12.397Z"
   },
   {
    "duration": 20,
    "start_time": "2022-02-18T13:58:12.405Z"
   },
   {
    "duration": 20,
    "start_time": "2022-02-18T13:58:12.428Z"
   },
   {
    "duration": 49,
    "start_time": "2022-02-18T13:58:12.451Z"
   },
   {
    "duration": 18,
    "start_time": "2022-02-18T13:58:12.502Z"
   },
   {
    "duration": 22,
    "start_time": "2022-02-18T13:58:12.522Z"
   },
   {
    "duration": 54,
    "start_time": "2022-02-18T13:58:12.547Z"
   },
   {
    "duration": 23,
    "start_time": "2022-02-18T13:58:12.603Z"
   },
   {
    "duration": 329,
    "start_time": "2022-02-18T13:58:12.628Z"
   },
   {
    "duration": 37,
    "start_time": "2022-02-18T13:58:53.947Z"
   },
   {
    "duration": 324,
    "start_time": "2022-02-18T14:03:31.897Z"
   },
   {
    "duration": 329,
    "start_time": "2022-02-18T14:04:12.514Z"
   },
   {
    "duration": 16,
    "start_time": "2022-02-18T14:07:36.888Z"
   },
   {
    "duration": 36,
    "start_time": "2022-02-18T14:07:43.519Z"
   },
   {
    "duration": 25,
    "start_time": "2022-02-18T14:15:19.113Z"
   },
   {
    "duration": 18,
    "start_time": "2022-02-18T14:16:55.613Z"
   },
   {
    "duration": 26,
    "start_time": "2022-02-18T14:18:04.646Z"
   },
   {
    "duration": 30,
    "start_time": "2022-02-18T14:19:07.983Z"
   },
   {
    "duration": 4,
    "start_time": "2022-02-18T14:36:48.950Z"
   },
   {
    "duration": 4,
    "start_time": "2022-02-18T14:48:25.483Z"
   },
   {
    "duration": 663,
    "start_time": "2022-02-18T14:48:27.651Z"
   },
   {
    "duration": 4,
    "start_time": "2022-02-18T14:51:17.975Z"
   },
   {
    "duration": 569,
    "start_time": "2022-02-18T14:51:19.703Z"
   },
   {
    "duration": 4,
    "start_time": "2022-02-18T14:51:57.249Z"
   },
   {
    "duration": 71,
    "start_time": "2022-02-18T14:51:57.256Z"
   },
   {
    "duration": 19,
    "start_time": "2022-02-18T14:51:57.330Z"
   },
   {
    "duration": 18,
    "start_time": "2022-02-18T14:51:57.353Z"
   },
   {
    "duration": 12,
    "start_time": "2022-02-18T14:51:57.394Z"
   },
   {
    "duration": 7,
    "start_time": "2022-02-18T14:51:57.408Z"
   },
   {
    "duration": 7,
    "start_time": "2022-02-18T14:51:57.418Z"
   },
   {
    "duration": 17,
    "start_time": "2022-02-18T14:51:57.429Z"
   },
   {
    "duration": 62,
    "start_time": "2022-02-18T14:51:57.449Z"
   },
   {
    "duration": 8,
    "start_time": "2022-02-18T14:51:57.514Z"
   },
   {
    "duration": 6,
    "start_time": "2022-02-18T14:51:57.524Z"
   },
   {
    "duration": 5,
    "start_time": "2022-02-18T14:51:57.532Z"
   },
   {
    "duration": 5,
    "start_time": "2022-02-18T14:51:57.539Z"
   },
   {
    "duration": 54,
    "start_time": "2022-02-18T14:51:57.547Z"
   },
   {
    "duration": 22,
    "start_time": "2022-02-18T14:51:57.603Z"
   },
   {
    "duration": 21,
    "start_time": "2022-02-18T14:51:57.627Z"
   },
   {
    "duration": 54,
    "start_time": "2022-02-18T14:51:57.651Z"
   },
   {
    "duration": 21,
    "start_time": "2022-02-18T14:51:57.708Z"
   },
   {
    "duration": 26,
    "start_time": "2022-02-18T14:51:57.731Z"
   },
   {
    "duration": 54,
    "start_time": "2022-02-18T14:51:57.759Z"
   },
   {
    "duration": 26,
    "start_time": "2022-02-18T14:51:57.816Z"
   },
   {
    "duration": 49,
    "start_time": "2022-02-18T14:51:57.845Z"
   },
   {
    "duration": 37,
    "start_time": "2022-02-18T14:51:57.900Z"
   },
   {
    "duration": 27,
    "start_time": "2022-02-18T14:51:57.940Z"
   },
   {
    "duration": 20,
    "start_time": "2022-02-18T14:51:57.995Z"
   },
   {
    "duration": 34,
    "start_time": "2022-02-18T14:51:58.018Z"
   },
   {
    "duration": 4,
    "start_time": "2022-02-18T14:51:58.054Z"
   },
   {
    "duration": 534,
    "start_time": "2022-02-18T14:51:58.092Z"
   },
   {
    "duration": 4,
    "start_time": "2022-02-18T14:53:34.209Z"
   },
   {
    "duration": 855,
    "start_time": "2022-02-18T14:53:37.066Z"
   },
   {
    "duration": 4,
    "start_time": "2022-02-18T14:54:54.747Z"
   },
   {
    "duration": 45,
    "start_time": "2022-02-18T14:54:57.019Z"
   },
   {
    "duration": 29,
    "start_time": "2022-02-18T14:55:44.469Z"
   },
   {
    "duration": 4,
    "start_time": "2022-02-18T15:07:24.558Z"
   },
   {
    "duration": 46,
    "start_time": "2022-02-18T15:07:26.309Z"
   },
   {
    "duration": 65,
    "start_time": "2022-02-18T15:07:29.222Z"
   },
   {
    "duration": 28,
    "start_time": "2022-02-18T15:07:32.501Z"
   },
   {
    "duration": 142,
    "start_time": "2022-02-18T15:19:49.568Z"
   },
   {
    "duration": 28,
    "start_time": "2022-02-18T15:19:52.400Z"
   },
   {
    "duration": 12,
    "start_time": "2022-02-18T15:20:57.688Z"
   },
   {
    "duration": 29,
    "start_time": "2022-02-18T15:21:00.689Z"
   },
   {
    "duration": 26,
    "start_time": "2022-02-18T15:21:50.521Z"
   },
   {
    "duration": 94,
    "start_time": "2022-02-22T11:39:16.897Z"
   },
   {
    "duration": 241,
    "start_time": "2022-02-22T11:42:24.930Z"
   },
   {
    "duration": 640,
    "start_time": "2022-02-22T11:42:42.287Z"
   },
   {
    "duration": 52,
    "start_time": "2022-02-22T11:42:42.929Z"
   },
   {
    "duration": 25,
    "start_time": "2022-02-22T11:42:42.984Z"
   },
   {
    "duration": 38,
    "start_time": "2022-02-22T11:42:43.012Z"
   },
   {
    "duration": 40,
    "start_time": "2022-02-22T11:42:43.052Z"
   },
   {
    "duration": 33,
    "start_time": "2022-02-22T11:42:43.094Z"
   },
   {
    "duration": 31,
    "start_time": "2022-02-22T11:42:43.129Z"
   },
   {
    "duration": 40,
    "start_time": "2022-02-22T11:42:43.163Z"
   },
   {
    "duration": 41,
    "start_time": "2022-02-22T11:42:43.206Z"
   },
   {
    "duration": 27,
    "start_time": "2022-02-22T11:42:43.249Z"
   },
   {
    "duration": 29,
    "start_time": "2022-02-22T11:42:43.279Z"
   },
   {
    "duration": 29,
    "start_time": "2022-02-22T11:42:43.311Z"
   },
   {
    "duration": 36,
    "start_time": "2022-02-22T11:42:43.342Z"
   },
   {
    "duration": 36,
    "start_time": "2022-02-22T11:42:43.380Z"
   },
   {
    "duration": 30,
    "start_time": "2022-02-22T11:42:43.418Z"
   },
   {
    "duration": 48,
    "start_time": "2022-02-22T11:42:43.450Z"
   },
   {
    "duration": 21,
    "start_time": "2022-02-22T11:42:43.500Z"
   },
   {
    "duration": 19,
    "start_time": "2022-02-22T11:42:43.523Z"
   },
   {
    "duration": 31,
    "start_time": "2022-02-22T11:42:43.544Z"
   },
   {
    "duration": 29,
    "start_time": "2022-02-22T11:42:43.577Z"
   },
   {
    "duration": 38,
    "start_time": "2022-02-22T11:42:43.608Z"
   },
   {
    "duration": 36,
    "start_time": "2022-02-22T11:42:43.649Z"
   },
   {
    "duration": 65,
    "start_time": "2022-02-22T11:42:43.690Z"
   },
   {
    "duration": 30,
    "start_time": "2022-02-22T11:42:43.757Z"
   },
   {
    "duration": 37,
    "start_time": "2022-02-22T11:42:43.789Z"
   },
   {
    "duration": 59,
    "start_time": "2022-02-22T11:42:43.828Z"
   },
   {
    "duration": 21,
    "start_time": "2022-02-22T11:42:43.889Z"
   },
   {
    "duration": 61,
    "start_time": "2022-02-22T11:42:43.912Z"
   },
   {
    "duration": 56,
    "start_time": "2022-02-22T11:42:43.975Z"
   },
   {
    "duration": 117,
    "start_time": "2022-02-22T11:42:44.033Z"
   },
   {
    "duration": 9,
    "start_time": "2022-02-22T11:42:44.152Z"
   },
   {
    "duration": 70,
    "start_time": "2022-02-22T11:42:44.163Z"
   },
   {
    "duration": 39,
    "start_time": "2022-02-22T11:42:44.235Z"
   },
   {
    "duration": 40,
    "start_time": "2022-02-22T12:21:33.816Z"
   },
   {
    "duration": 13,
    "start_time": "2022-02-22T12:53:52.597Z"
   },
   {
    "duration": 26,
    "start_time": "2022-02-22T12:53:59.182Z"
   },
   {
    "duration": 23,
    "start_time": "2022-02-22T12:54:11.470Z"
   },
   {
    "duration": 38,
    "start_time": "2022-02-22T12:54:47.407Z"
   },
   {
    "duration": 235,
    "start_time": "2022-02-22T12:55:27.177Z"
   },
   {
    "duration": 30,
    "start_time": "2022-02-22T12:55:34.904Z"
   },
   {
    "duration": 27,
    "start_time": "2022-02-22T12:55:44.969Z"
   },
   {
    "duration": 69,
    "start_time": "2022-02-22T12:56:50.851Z"
   },
   {
    "duration": 63,
    "start_time": "2022-02-22T12:57:05.298Z"
   },
   {
    "duration": 85,
    "start_time": "2022-02-22T12:57:12.138Z"
   },
   {
    "duration": 29,
    "start_time": "2022-02-22T12:57:15.362Z"
   },
   {
    "duration": 6860,
    "start_time": "2022-02-22T12:59:28.629Z"
   },
   {
    "duration": 28,
    "start_time": "2022-02-22T12:59:48.317Z"
   },
   {
    "duration": 25,
    "start_time": "2022-02-22T12:59:52.621Z"
   },
   {
    "duration": 26,
    "start_time": "2022-02-22T13:00:39.135Z"
   },
   {
    "duration": 27,
    "start_time": "2022-02-22T13:01:24.433Z"
   },
   {
    "duration": 23,
    "start_time": "2022-02-22T13:12:45.421Z"
   },
   {
    "duration": 4,
    "start_time": "2022-02-22T13:12:56.024Z"
   },
   {
    "duration": 63,
    "start_time": "2022-02-22T13:12:56.030Z"
   },
   {
    "duration": 15,
    "start_time": "2022-02-22T13:12:56.096Z"
   },
   {
    "duration": 34,
    "start_time": "2022-02-22T13:12:56.114Z"
   },
   {
    "duration": 23,
    "start_time": "2022-02-22T13:12:56.150Z"
   },
   {
    "duration": 6,
    "start_time": "2022-02-22T13:12:56.175Z"
   },
   {
    "duration": 13,
    "start_time": "2022-02-22T13:12:56.183Z"
   },
   {
    "duration": 22,
    "start_time": "2022-02-22T13:12:56.198Z"
   },
   {
    "duration": 30,
    "start_time": "2022-02-22T13:12:56.224Z"
   },
   {
    "duration": 23,
    "start_time": "2022-02-22T13:12:56.256Z"
   },
   {
    "duration": 19,
    "start_time": "2022-02-22T13:12:56.281Z"
   },
   {
    "duration": 24,
    "start_time": "2022-02-22T13:12:56.302Z"
   },
   {
    "duration": 17,
    "start_time": "2022-02-22T13:12:56.328Z"
   },
   {
    "duration": 21,
    "start_time": "2022-02-22T13:12:56.348Z"
   },
   {
    "duration": 19,
    "start_time": "2022-02-22T13:12:56.370Z"
   },
   {
    "duration": 42,
    "start_time": "2022-02-22T13:12:56.391Z"
   },
   {
    "duration": 26,
    "start_time": "2022-02-22T13:12:56.436Z"
   },
   {
    "duration": 21,
    "start_time": "2022-02-22T13:12:56.464Z"
   },
   {
    "duration": 20,
    "start_time": "2022-02-22T13:12:56.487Z"
   },
   {
    "duration": 31,
    "start_time": "2022-02-22T13:12:56.510Z"
   },
   {
    "duration": 27,
    "start_time": "2022-02-22T13:12:56.543Z"
   },
   {
    "duration": 14,
    "start_time": "2022-02-22T13:12:56.572Z"
   },
   {
    "duration": 43,
    "start_time": "2022-02-22T13:12:56.588Z"
   },
   {
    "duration": 22,
    "start_time": "2022-02-22T13:12:56.633Z"
   },
   {
    "duration": 14,
    "start_time": "2022-02-22T13:12:56.657Z"
   },
   {
    "duration": 55,
    "start_time": "2022-02-22T13:12:56.673Z"
   },
   {
    "duration": 5,
    "start_time": "2022-02-22T13:12:56.733Z"
   },
   {
    "duration": 33,
    "start_time": "2022-02-22T13:12:56.740Z"
   },
   {
    "duration": 9,
    "start_time": "2022-02-22T13:12:56.775Z"
   },
   {
    "duration": 61,
    "start_time": "2022-02-22T13:12:56.786Z"
   },
   {
    "duration": 25,
    "start_time": "2022-02-22T13:53:23.796Z"
   },
   {
    "duration": 23,
    "start_time": "2022-02-22T13:54:23.844Z"
   },
   {
    "duration": 23,
    "start_time": "2022-02-22T14:12:47.138Z"
   },
   {
    "duration": 11,
    "start_time": "2022-02-22T14:13:24.339Z"
   },
   {
    "duration": 29,
    "start_time": "2022-02-22T14:18:03.904Z"
   },
   {
    "duration": 11,
    "start_time": "2022-02-22T14:18:09.449Z"
   },
   {
    "duration": 20,
    "start_time": "2022-02-22T14:47:49.603Z"
   },
   {
    "duration": 216,
    "start_time": "2022-02-22T16:25:15.440Z"
   },
   {
    "duration": 210,
    "start_time": "2022-02-22T16:25:35.576Z"
   },
   {
    "duration": 21,
    "start_time": "2022-02-22T16:25:55.105Z"
   },
   {
    "duration": 36,
    "start_time": "2022-02-22T16:26:43.314Z"
   },
   {
    "duration": 14,
    "start_time": "2022-02-22T16:28:57.423Z"
   },
   {
    "duration": 3,
    "start_time": "2022-02-22T16:29:09.547Z"
   },
   {
    "duration": 55,
    "start_time": "2022-02-22T16:29:09.552Z"
   },
   {
    "duration": 15,
    "start_time": "2022-02-22T16:29:09.609Z"
   },
   {
    "duration": 14,
    "start_time": "2022-02-22T16:29:09.627Z"
   },
   {
    "duration": 12,
    "start_time": "2022-02-22T16:29:09.643Z"
   },
   {
    "duration": 6,
    "start_time": "2022-02-22T16:29:09.657Z"
   },
   {
    "duration": 46,
    "start_time": "2022-02-22T16:29:09.665Z"
   },
   {
    "duration": 17,
    "start_time": "2022-02-22T16:29:09.713Z"
   },
   {
    "duration": 20,
    "start_time": "2022-02-22T16:29:09.735Z"
   },
   {
    "duration": 5,
    "start_time": "2022-02-22T16:29:09.759Z"
   },
   {
    "duration": 5,
    "start_time": "2022-02-22T16:29:09.767Z"
   },
   {
    "duration": 5,
    "start_time": "2022-02-22T16:29:09.807Z"
   },
   {
    "duration": 8,
    "start_time": "2022-02-22T16:29:09.814Z"
   },
   {
    "duration": 31,
    "start_time": "2022-02-22T16:29:09.824Z"
   },
   {
    "duration": 36,
    "start_time": "2022-02-22T16:29:09.856Z"
   },
   {
    "duration": 15,
    "start_time": "2022-02-22T16:29:09.894Z"
   },
   {
    "duration": 14,
    "start_time": "2022-02-22T16:29:09.911Z"
   },
   {
    "duration": 17,
    "start_time": "2022-02-22T16:29:09.927Z"
   },
   {
    "duration": 20,
    "start_time": "2022-02-22T16:29:09.946Z"
   },
   {
    "duration": 53,
    "start_time": "2022-02-22T16:29:09.968Z"
   },
   {
    "duration": 20,
    "start_time": "2022-02-22T16:29:10.022Z"
   },
   {
    "duration": 20,
    "start_time": "2022-02-22T16:29:10.044Z"
   },
   {
    "duration": 56,
    "start_time": "2022-02-22T16:29:10.066Z"
   },
   {
    "duration": 21,
    "start_time": "2022-02-22T16:29:10.124Z"
   },
   {
    "duration": 13,
    "start_time": "2022-02-22T16:29:10.147Z"
   },
   {
    "duration": 52,
    "start_time": "2022-02-22T16:29:10.163Z"
   },
   {
    "duration": 3,
    "start_time": "2022-02-22T16:29:10.220Z"
   },
   {
    "duration": 41,
    "start_time": "2022-02-22T16:29:10.226Z"
   },
   {
    "duration": 12,
    "start_time": "2022-02-22T16:29:10.270Z"
   },
   {
    "duration": 42,
    "start_time": "2022-02-22T16:29:10.284Z"
   },
   {
    "duration": 25,
    "start_time": "2022-02-22T16:29:10.328Z"
   },
   {
    "duration": 24,
    "start_time": "2022-02-22T16:29:10.355Z"
   },
   {
    "duration": 30,
    "start_time": "2022-02-22T16:29:10.380Z"
   },
   {
    "duration": 10,
    "start_time": "2022-02-22T16:29:10.412Z"
   },
   {
    "duration": 218,
    "start_time": "2022-02-22T16:30:14.494Z"
   },
   {
    "duration": 21,
    "start_time": "2022-02-22T16:30:19.374Z"
   },
   {
    "duration": 22,
    "start_time": "2022-02-22T16:30:50.727Z"
   },
   {
    "duration": 20,
    "start_time": "2022-02-22T16:33:46.018Z"
   },
   {
    "duration": 19,
    "start_time": "2022-02-22T16:33:50.330Z"
   },
   {
    "duration": 42,
    "start_time": "2022-02-22T16:33:56.548Z"
   },
   {
    "duration": 20,
    "start_time": "2022-02-22T16:34:08.838Z"
   },
   {
    "duration": 23,
    "start_time": "2022-02-22T16:35:11.412Z"
   },
   {
    "duration": 25,
    "start_time": "2022-02-22T16:35:20.372Z"
   },
   {
    "duration": 21,
    "start_time": "2022-02-22T16:35:24.643Z"
   },
   {
    "duration": 21,
    "start_time": "2022-02-22T16:35:29.611Z"
   },
   {
    "duration": 28,
    "start_time": "2022-02-22T16:35:40.148Z"
   },
   {
    "duration": 197,
    "start_time": "2022-02-22T16:35:51.172Z"
   },
   {
    "duration": 28,
    "start_time": "2022-02-22T16:36:01.029Z"
   },
   {
    "duration": 26,
    "start_time": "2022-02-22T16:36:09.564Z"
   },
   {
    "duration": 22,
    "start_time": "2022-02-22T16:36:26.837Z"
   },
   {
    "duration": 306,
    "start_time": "2022-02-22T16:38:01.335Z"
   },
   {
    "duration": 213,
    "start_time": "2022-02-22T16:38:24.215Z"
   },
   {
    "duration": 32,
    "start_time": "2022-02-22T16:38:36.023Z"
   },
   {
    "duration": 14,
    "start_time": "2022-02-22T16:40:10.377Z"
   },
   {
    "duration": 15,
    "start_time": "2022-02-22T16:40:21.034Z"
   },
   {
    "duration": 13,
    "start_time": "2022-02-22T16:40:23.911Z"
   },
   {
    "duration": 16,
    "start_time": "2022-02-22T16:40:33.545Z"
   },
   {
    "duration": 16,
    "start_time": "2022-02-22T16:40:41.777Z"
   },
   {
    "duration": 20,
    "start_time": "2022-02-22T16:40:47.977Z"
   },
   {
    "duration": 587,
    "start_time": "2022-02-22T16:41:10.490Z"
   },
   {
    "duration": 21,
    "start_time": "2022-02-22T16:41:32.075Z"
   },
   {
    "duration": 14,
    "start_time": "2022-02-22T16:41:48.275Z"
   },
   {
    "duration": 16,
    "start_time": "2022-02-22T16:42:15.189Z"
   },
   {
    "duration": 17,
    "start_time": "2022-02-22T16:44:42.702Z"
   },
   {
    "duration": 15,
    "start_time": "2022-02-22T16:44:49.007Z"
   },
   {
    "duration": 14,
    "start_time": "2022-02-22T16:45:29.127Z"
   },
   {
    "duration": 15,
    "start_time": "2022-02-22T16:47:12.146Z"
   },
   {
    "duration": 21,
    "start_time": "2022-02-22T16:47:24.466Z"
   },
   {
    "duration": 198,
    "start_time": "2022-02-22T16:54:54.370Z"
   },
   {
    "duration": 204,
    "start_time": "2022-02-22T16:55:47.651Z"
   },
   {
    "duration": 198,
    "start_time": "2022-02-22T16:55:53.028Z"
   },
   {
    "duration": 235,
    "start_time": "2022-02-22T16:56:01.717Z"
   },
   {
    "duration": 3,
    "start_time": "2022-02-22T16:56:08.557Z"
   },
   {
    "duration": 51,
    "start_time": "2022-02-22T16:56:08.562Z"
   },
   {
    "duration": 17,
    "start_time": "2022-02-22T16:56:08.616Z"
   },
   {
    "duration": 20,
    "start_time": "2022-02-22T16:56:08.636Z"
   },
   {
    "duration": 16,
    "start_time": "2022-02-22T16:56:08.659Z"
   },
   {
    "duration": 19,
    "start_time": "2022-02-22T16:56:08.677Z"
   },
   {
    "duration": 6,
    "start_time": "2022-02-22T16:56:08.707Z"
   },
   {
    "duration": 22,
    "start_time": "2022-02-22T16:56:08.716Z"
   },
   {
    "duration": 14,
    "start_time": "2022-02-22T16:56:08.740Z"
   },
   {
    "duration": 26,
    "start_time": "2022-02-22T16:56:08.757Z"
   },
   {
    "duration": 21,
    "start_time": "2022-02-22T16:56:08.785Z"
   },
   {
    "duration": 21,
    "start_time": "2022-02-22T16:56:08.808Z"
   },
   {
    "duration": 24,
    "start_time": "2022-02-22T16:56:08.831Z"
   },
   {
    "duration": 30,
    "start_time": "2022-02-22T16:56:08.857Z"
   },
   {
    "duration": 18,
    "start_time": "2022-02-22T16:56:08.888Z"
   },
   {
    "duration": 24,
    "start_time": "2022-02-22T16:56:08.908Z"
   },
   {
    "duration": 19,
    "start_time": "2022-02-22T16:56:08.934Z"
   },
   {
    "duration": 23,
    "start_time": "2022-02-22T16:56:08.956Z"
   },
   {
    "duration": 43,
    "start_time": "2022-02-22T16:56:08.981Z"
   },
   {
    "duration": 19,
    "start_time": "2022-02-22T16:56:09.026Z"
   },
   {
    "duration": 19,
    "start_time": "2022-02-22T16:56:09.047Z"
   },
   {
    "duration": 12,
    "start_time": "2022-02-22T16:56:09.068Z"
   },
   {
    "duration": 52,
    "start_time": "2022-02-22T16:56:09.084Z"
   },
   {
    "duration": 19,
    "start_time": "2022-02-22T16:56:09.138Z"
   },
   {
    "duration": 15,
    "start_time": "2022-02-22T16:56:09.160Z"
   },
   {
    "duration": 60,
    "start_time": "2022-02-22T16:56:09.177Z"
   },
   {
    "duration": 3,
    "start_time": "2022-02-22T16:56:09.240Z"
   },
   {
    "duration": 29,
    "start_time": "2022-02-22T16:56:09.245Z"
   },
   {
    "duration": 38,
    "start_time": "2022-02-22T16:56:09.276Z"
   },
   {
    "duration": 28,
    "start_time": "2022-02-22T16:56:09.316Z"
   },
   {
    "duration": 22,
    "start_time": "2022-02-22T16:56:09.346Z"
   },
   {
    "duration": 39,
    "start_time": "2022-02-22T16:56:09.370Z"
   },
   {
    "duration": 15,
    "start_time": "2022-02-22T16:56:09.410Z"
   },
   {
    "duration": 30,
    "start_time": "2022-02-22T16:56:09.427Z"
   },
   {
    "duration": 319,
    "start_time": "2022-02-22T16:57:02.957Z"
   },
   {
    "duration": 212,
    "start_time": "2022-02-22T16:57:09.861Z"
   },
   {
    "duration": 229,
    "start_time": "2022-02-22T16:57:13.165Z"
   },
   {
    "duration": 199,
    "start_time": "2022-02-22T16:57:16.885Z"
   },
   {
    "duration": 226,
    "start_time": "2022-02-22T16:57:32.654Z"
   },
   {
    "duration": 2,
    "start_time": "2022-02-22T16:57:44.031Z"
   },
   {
    "duration": 60,
    "start_time": "2022-02-22T16:57:44.036Z"
   },
   {
    "duration": 16,
    "start_time": "2022-02-22T16:57:44.098Z"
   },
   {
    "duration": 14,
    "start_time": "2022-02-22T16:57:44.117Z"
   },
   {
    "duration": 13,
    "start_time": "2022-02-22T16:57:44.134Z"
   },
   {
    "duration": 13,
    "start_time": "2022-02-22T16:57:44.149Z"
   },
   {
    "duration": 7,
    "start_time": "2022-02-22T16:57:44.164Z"
   },
   {
    "duration": 40,
    "start_time": "2022-02-22T16:57:44.174Z"
   },
   {
    "duration": 19,
    "start_time": "2022-02-22T16:57:44.216Z"
   },
   {
    "duration": 14,
    "start_time": "2022-02-22T16:57:44.237Z"
   },
   {
    "duration": 10,
    "start_time": "2022-02-22T16:57:44.253Z"
   },
   {
    "duration": 5,
    "start_time": "2022-02-22T16:57:44.265Z"
   },
   {
    "duration": 10,
    "start_time": "2022-02-22T16:57:44.272Z"
   },
   {
    "duration": 29,
    "start_time": "2022-02-22T16:57:44.284Z"
   },
   {
    "duration": 33,
    "start_time": "2022-02-22T16:57:44.317Z"
   },
   {
    "duration": 16,
    "start_time": "2022-02-22T16:57:44.352Z"
   },
   {
    "duration": 14,
    "start_time": "2022-02-22T16:57:44.370Z"
   },
   {
    "duration": 19,
    "start_time": "2022-02-22T16:57:44.406Z"
   },
   {
    "duration": 24,
    "start_time": "2022-02-22T16:57:44.428Z"
   },
   {
    "duration": 25,
    "start_time": "2022-02-22T16:57:44.455Z"
   },
   {
    "duration": 21,
    "start_time": "2022-02-22T16:57:44.507Z"
   },
   {
    "duration": 13,
    "start_time": "2022-02-22T16:57:44.530Z"
   },
   {
    "duration": 38,
    "start_time": "2022-02-22T16:57:44.545Z"
   },
   {
    "duration": 38,
    "start_time": "2022-02-22T16:57:44.586Z"
   },
   {
    "duration": 16,
    "start_time": "2022-02-22T16:57:44.626Z"
   },
   {
    "duration": 29,
    "start_time": "2022-02-22T16:57:44.645Z"
   },
   {
    "duration": 4,
    "start_time": "2022-02-22T16:57:44.676Z"
   },
   {
    "duration": 50,
    "start_time": "2022-02-22T16:57:44.681Z"
   },
   {
    "duration": 20,
    "start_time": "2022-02-22T16:57:44.733Z"
   },
   {
    "duration": 54,
    "start_time": "2022-02-22T16:57:44.755Z"
   },
   {
    "duration": 22,
    "start_time": "2022-02-22T16:57:44.811Z"
   },
   {
    "duration": 17,
    "start_time": "2022-02-22T16:57:44.835Z"
   },
   {
    "duration": 15,
    "start_time": "2022-02-22T16:57:44.854Z"
   },
   {
    "duration": 6,
    "start_time": "2022-02-22T16:57:44.871Z"
   },
   {
    "duration": 270,
    "start_time": "2022-02-22T16:58:33.305Z"
   },
   {
    "duration": 231,
    "start_time": "2022-02-22T16:59:05.896Z"
   },
   {
    "duration": 207,
    "start_time": "2022-02-22T16:59:09.767Z"
   },
   {
    "duration": 192,
    "start_time": "2022-02-22T16:59:15.399Z"
   },
   {
    "duration": 4,
    "start_time": "2022-02-22T16:59:29.801Z"
   },
   {
    "duration": 73,
    "start_time": "2022-02-22T16:59:29.807Z"
   },
   {
    "duration": 35,
    "start_time": "2022-02-22T16:59:29.883Z"
   },
   {
    "duration": 27,
    "start_time": "2022-02-22T16:59:29.921Z"
   },
   {
    "duration": 24,
    "start_time": "2022-02-22T16:59:29.951Z"
   },
   {
    "duration": 11,
    "start_time": "2022-02-22T16:59:29.978Z"
   },
   {
    "duration": 27,
    "start_time": "2022-02-22T16:59:30.013Z"
   },
   {
    "duration": 27,
    "start_time": "2022-02-22T16:59:30.044Z"
   },
   {
    "duration": 22,
    "start_time": "2022-02-22T16:59:30.075Z"
   },
   {
    "duration": 18,
    "start_time": "2022-02-22T16:59:30.099Z"
   },
   {
    "duration": 8,
    "start_time": "2022-02-22T16:59:30.119Z"
   },
   {
    "duration": 10,
    "start_time": "2022-02-22T16:59:30.130Z"
   },
   {
    "duration": 19,
    "start_time": "2022-02-22T16:59:30.142Z"
   },
   {
    "duration": 28,
    "start_time": "2022-02-22T16:59:30.164Z"
   },
   {
    "duration": 24,
    "start_time": "2022-02-22T16:59:30.194Z"
   },
   {
    "duration": 36,
    "start_time": "2022-02-22T16:59:30.220Z"
   },
   {
    "duration": 21,
    "start_time": "2022-02-22T16:59:30.258Z"
   },
   {
    "duration": 34,
    "start_time": "2022-02-22T16:59:30.281Z"
   },
   {
    "duration": 26,
    "start_time": "2022-02-22T16:59:30.318Z"
   },
   {
    "duration": 26,
    "start_time": "2022-02-22T16:59:30.346Z"
   },
   {
    "duration": 34,
    "start_time": "2022-02-22T16:59:30.374Z"
   },
   {
    "duration": 16,
    "start_time": "2022-02-22T16:59:30.410Z"
   },
   {
    "duration": 40,
    "start_time": "2022-02-22T16:59:30.430Z"
   },
   {
    "duration": 43,
    "start_time": "2022-02-22T16:59:30.473Z"
   },
   {
    "duration": 31,
    "start_time": "2022-02-22T16:59:30.519Z"
   },
   {
    "duration": 49,
    "start_time": "2022-02-22T16:59:30.552Z"
   },
   {
    "duration": 14,
    "start_time": "2022-02-22T16:59:30.603Z"
   },
   {
    "duration": 50,
    "start_time": "2022-02-22T16:59:30.620Z"
   },
   {
    "duration": 44,
    "start_time": "2022-02-22T16:59:30.672Z"
   },
   {
    "duration": 33,
    "start_time": "2022-02-22T16:59:30.718Z"
   },
   {
    "duration": 43,
    "start_time": "2022-02-22T16:59:30.753Z"
   },
   {
    "duration": 43,
    "start_time": "2022-02-22T16:59:30.799Z"
   },
   {
    "duration": 63,
    "start_time": "2022-02-22T16:59:30.845Z"
   },
   {
    "duration": 14,
    "start_time": "2022-02-22T16:59:30.910Z"
   },
   {
    "duration": 37,
    "start_time": "2022-02-22T17:02:43.276Z"
   },
   {
    "duration": 3,
    "start_time": "2022-02-22T17:03:04.332Z"
   },
   {
    "duration": 75,
    "start_time": "2022-02-22T17:03:04.338Z"
   },
   {
    "duration": 14,
    "start_time": "2022-02-22T17:03:04.416Z"
   },
   {
    "duration": 16,
    "start_time": "2022-02-22T17:03:04.432Z"
   },
   {
    "duration": 14,
    "start_time": "2022-02-22T17:03:04.450Z"
   },
   {
    "duration": 9,
    "start_time": "2022-02-22T17:03:04.466Z"
   },
   {
    "duration": 33,
    "start_time": "2022-02-22T17:03:04.477Z"
   },
   {
    "duration": 19,
    "start_time": "2022-02-22T17:03:04.513Z"
   },
   {
    "duration": 24,
    "start_time": "2022-02-22T17:03:04.535Z"
   },
   {
    "duration": 12,
    "start_time": "2022-02-22T17:03:04.561Z"
   },
   {
    "duration": 19,
    "start_time": "2022-02-22T17:03:04.575Z"
   },
   {
    "duration": 12,
    "start_time": "2022-02-22T17:03:04.596Z"
   },
   {
    "duration": 4,
    "start_time": "2022-02-22T17:03:04.610Z"
   },
   {
    "duration": 19,
    "start_time": "2022-02-22T17:03:04.616Z"
   },
   {
    "duration": 34,
    "start_time": "2022-02-22T17:03:04.637Z"
   },
   {
    "duration": 14,
    "start_time": "2022-02-22T17:03:04.673Z"
   },
   {
    "duration": 13,
    "start_time": "2022-02-22T17:03:04.708Z"
   },
   {
    "duration": 16,
    "start_time": "2022-02-22T17:03:04.724Z"
   },
   {
    "duration": 26,
    "start_time": "2022-02-22T17:03:04.743Z"
   },
   {
    "duration": 56,
    "start_time": "2022-02-22T17:03:04.772Z"
   },
   {
    "duration": 20,
    "start_time": "2022-02-22T17:03:04.830Z"
   },
   {
    "duration": 12,
    "start_time": "2022-02-22T17:03:04.852Z"
   },
   {
    "duration": 55,
    "start_time": "2022-02-22T17:03:04.868Z"
   },
   {
    "duration": 20,
    "start_time": "2022-02-22T17:03:04.926Z"
   },
   {
    "duration": 26,
    "start_time": "2022-02-22T17:03:04.948Z"
   },
   {
    "duration": 38,
    "start_time": "2022-02-22T17:03:04.976Z"
   },
   {
    "duration": 3,
    "start_time": "2022-02-22T17:03:05.016Z"
   },
   {
    "duration": 37,
    "start_time": "2022-02-22T17:03:05.022Z"
   },
   {
    "duration": 16,
    "start_time": "2022-02-22T17:03:05.061Z"
   },
   {
    "duration": 30,
    "start_time": "2022-02-22T17:03:05.079Z"
   },
   {
    "duration": 21,
    "start_time": "2022-02-22T17:03:05.111Z"
   },
   {
    "duration": 16,
    "start_time": "2022-02-22T17:03:05.135Z"
   },
   {
    "duration": 17,
    "start_time": "2022-02-22T17:03:05.153Z"
   },
   {
    "duration": 37,
    "start_time": "2022-02-22T17:03:05.172Z"
   },
   {
    "duration": 28,
    "start_time": "2022-02-22T17:08:19.395Z"
   },
   {
    "duration": 4969,
    "start_time": "2022-02-22T17:08:33.851Z"
   },
   {
    "duration": 6494,
    "start_time": "2022-02-22T17:08:40.827Z"
   },
   {
    "duration": 16,
    "start_time": "2022-02-22T17:08:49.555Z"
   },
   {
    "duration": 284,
    "start_time": "2022-02-23T07:56:43.748Z"
   },
   {
    "duration": 610,
    "start_time": "2022-02-23T07:56:52.877Z"
   },
   {
    "duration": 55,
    "start_time": "2022-02-23T07:56:53.489Z"
   },
   {
    "duration": 23,
    "start_time": "2022-02-23T07:56:53.546Z"
   },
   {
    "duration": 25,
    "start_time": "2022-02-23T07:56:53.571Z"
   },
   {
    "duration": 10,
    "start_time": "2022-02-23T07:56:53.598Z"
   },
   {
    "duration": 6,
    "start_time": "2022-02-23T07:56:53.610Z"
   },
   {
    "duration": 6,
    "start_time": "2022-02-23T07:56:53.617Z"
   },
   {
    "duration": 13,
    "start_time": "2022-02-23T07:56:53.626Z"
   },
   {
    "duration": 37,
    "start_time": "2022-02-23T07:56:53.641Z"
   },
   {
    "duration": 7,
    "start_time": "2022-02-23T07:56:53.680Z"
   },
   {
    "duration": 6,
    "start_time": "2022-02-23T07:56:53.689Z"
   },
   {
    "duration": 5,
    "start_time": "2022-02-23T07:56:53.697Z"
   },
   {
    "duration": 10,
    "start_time": "2022-02-23T07:56:53.703Z"
   },
   {
    "duration": 17,
    "start_time": "2022-02-23T07:56:53.714Z"
   },
   {
    "duration": 51,
    "start_time": "2022-02-23T07:56:53.733Z"
   },
   {
    "duration": 15,
    "start_time": "2022-02-23T07:56:53.785Z"
   },
   {
    "duration": 13,
    "start_time": "2022-02-23T07:56:53.802Z"
   },
   {
    "duration": 16,
    "start_time": "2022-02-23T07:56:53.817Z"
   },
   {
    "duration": 51,
    "start_time": "2022-02-23T07:56:53.835Z"
   },
   {
    "duration": 17,
    "start_time": "2022-02-23T07:56:53.888Z"
   },
   {
    "duration": 20,
    "start_time": "2022-02-23T07:56:53.907Z"
   },
   {
    "duration": 43,
    "start_time": "2022-02-23T07:56:53.929Z"
   },
   {
    "duration": 30,
    "start_time": "2022-02-23T07:56:53.975Z"
   },
   {
    "duration": 19,
    "start_time": "2022-02-23T07:56:54.008Z"
   },
   {
    "duration": 45,
    "start_time": "2022-02-23T07:56:54.029Z"
   },
   {
    "duration": 24,
    "start_time": "2022-02-23T07:56:54.076Z"
   },
   {
    "duration": 22,
    "start_time": "2022-02-23T07:56:54.102Z"
   },
   {
    "duration": 8,
    "start_time": "2022-02-23T07:56:54.127Z"
   },
   {
    "duration": 49,
    "start_time": "2022-02-23T07:56:54.137Z"
   },
   {
    "duration": 22,
    "start_time": "2022-02-23T07:56:54.189Z"
   },
   {
    "duration": 18,
    "start_time": "2022-02-23T07:56:54.213Z"
   },
   {
    "duration": 36,
    "start_time": "2022-02-23T07:56:54.233Z"
   },
   {
    "duration": 4,
    "start_time": "2022-02-23T07:56:54.271Z"
   },
   {
    "duration": 13,
    "start_time": "2022-02-23T07:57:31.556Z"
   },
   {
    "duration": 13,
    "start_time": "2022-02-23T07:58:00.196Z"
   },
   {
    "duration": 16,
    "start_time": "2022-02-23T07:58:19.204Z"
   },
   {
    "duration": 12,
    "start_time": "2022-02-23T07:59:14.742Z"
   },
   {
    "duration": 17,
    "start_time": "2022-02-23T07:59:28.247Z"
   },
   {
    "duration": 14,
    "start_time": "2022-02-23T07:59:40.758Z"
   },
   {
    "duration": 13,
    "start_time": "2022-02-23T07:59:54.087Z"
   },
   {
    "duration": 16,
    "start_time": "2022-02-23T08:00:00.095Z"
   },
   {
    "duration": 15,
    "start_time": "2022-02-23T08:00:04.918Z"
   },
   {
    "duration": 19,
    "start_time": "2022-02-23T08:00:08.647Z"
   },
   {
    "duration": 19,
    "start_time": "2022-02-23T08:00:24.031Z"
   },
   {
    "duration": 15,
    "start_time": "2022-02-23T08:00:49.608Z"
   },
   {
    "duration": 15,
    "start_time": "2022-02-23T08:01:02.488Z"
   },
   {
    "duration": 18,
    "start_time": "2022-02-23T08:01:08.199Z"
   },
   {
    "duration": 16,
    "start_time": "2022-02-23T08:01:37.425Z"
   },
   {
    "duration": 14,
    "start_time": "2022-02-23T08:01:43.904Z"
   },
   {
    "duration": 11,
    "start_time": "2022-02-23T08:10:54.362Z"
   },
   {
    "duration": 106,
    "start_time": "2022-02-23T08:11:09.828Z"
   },
   {
    "duration": 14,
    "start_time": "2022-02-23T08:11:32.684Z"
   },
   {
    "duration": 15,
    "start_time": "2022-02-23T08:13:34.448Z"
   },
   {
    "duration": 14,
    "start_time": "2022-02-23T08:23:20.819Z"
   },
   {
    "duration": 13,
    "start_time": "2022-02-23T08:23:26.539Z"
   },
   {
    "duration": 14,
    "start_time": "2022-02-23T08:24:03.547Z"
   },
   {
    "duration": 20,
    "start_time": "2022-02-23T08:24:41.077Z"
   },
   {
    "duration": 24,
    "start_time": "2022-02-23T08:24:58.892Z"
   },
   {
    "duration": 14,
    "start_time": "2022-02-23T08:26:25.358Z"
   },
   {
    "duration": 16,
    "start_time": "2022-02-23T08:26:27.655Z"
   },
   {
    "duration": 15,
    "start_time": "2022-02-23T08:38:00.459Z"
   },
   {
    "duration": 12,
    "start_time": "2022-02-23T08:38:13.541Z"
   },
   {
    "duration": 13,
    "start_time": "2022-02-23T08:40:37.536Z"
   },
   {
    "duration": 532,
    "start_time": "2022-02-23T08:43:55.499Z"
   },
   {
    "duration": 15,
    "start_time": "2022-02-23T08:44:04.867Z"
   },
   {
    "duration": 251,
    "start_time": "2022-02-23T08:44:18.235Z"
   },
   {
    "duration": 204,
    "start_time": "2022-02-23T08:44:27.196Z"
   },
   {
    "duration": 546,
    "start_time": "2022-02-23T08:44:55.060Z"
   },
   {
    "duration": 19,
    "start_time": "2022-02-23T08:45:06.212Z"
   },
   {
    "duration": 15,
    "start_time": "2022-02-23T08:46:16.926Z"
   },
   {
    "duration": 3,
    "start_time": "2022-02-23T08:47:03.351Z"
   },
   {
    "duration": 57,
    "start_time": "2022-02-23T08:47:03.356Z"
   },
   {
    "duration": 15,
    "start_time": "2022-02-23T08:47:03.415Z"
   },
   {
    "duration": 37,
    "start_time": "2022-02-23T08:47:03.433Z"
   },
   {
    "duration": 11,
    "start_time": "2022-02-23T08:47:03.472Z"
   },
   {
    "duration": 10,
    "start_time": "2022-02-23T08:47:03.485Z"
   },
   {
    "duration": 8,
    "start_time": "2022-02-23T08:47:03.497Z"
   },
   {
    "duration": 16,
    "start_time": "2022-02-23T08:47:03.508Z"
   },
   {
    "duration": 45,
    "start_time": "2022-02-23T08:47:03.526Z"
   },
   {
    "duration": 13,
    "start_time": "2022-02-23T08:47:03.573Z"
   },
   {
    "duration": 6,
    "start_time": "2022-02-23T08:47:03.588Z"
   },
   {
    "duration": 4,
    "start_time": "2022-02-23T08:47:03.596Z"
   },
   {
    "duration": 5,
    "start_time": "2022-02-23T08:47:03.602Z"
   },
   {
    "duration": 16,
    "start_time": "2022-02-23T08:47:03.609Z"
   },
   {
    "duration": 52,
    "start_time": "2022-02-23T08:47:03.627Z"
   },
   {
    "duration": 15,
    "start_time": "2022-02-23T08:47:03.681Z"
   },
   {
    "duration": 13,
    "start_time": "2022-02-23T08:47:03.698Z"
   },
   {
    "duration": 17,
    "start_time": "2022-02-23T08:47:03.713Z"
   },
   {
    "duration": 50,
    "start_time": "2022-02-23T08:47:03.732Z"
   },
   {
    "duration": 17,
    "start_time": "2022-02-23T08:47:03.784Z"
   },
   {
    "duration": 20,
    "start_time": "2022-02-23T08:47:03.803Z"
   },
   {
    "duration": 44,
    "start_time": "2022-02-23T08:47:03.825Z"
   },
   {
    "duration": 29,
    "start_time": "2022-02-23T08:47:03.873Z"
   },
   {
    "duration": 18,
    "start_time": "2022-02-23T08:47:03.904Z"
   },
   {
    "duration": 16,
    "start_time": "2022-02-23T08:47:03.924Z"
   },
   {
    "duration": 49,
    "start_time": "2022-02-23T08:47:03.942Z"
   },
   {
    "duration": 22,
    "start_time": "2022-02-23T08:47:03.993Z"
   },
   {
    "duration": 9,
    "start_time": "2022-02-23T08:47:04.017Z"
   },
   {
    "duration": 51,
    "start_time": "2022-02-23T08:47:04.028Z"
   },
   {
    "duration": 20,
    "start_time": "2022-02-23T08:47:04.081Z"
   },
   {
    "duration": 19,
    "start_time": "2022-02-23T08:47:04.103Z"
   },
   {
    "duration": 12,
    "start_time": "2022-02-23T08:47:04.124Z"
   },
   {
    "duration": 42,
    "start_time": "2022-02-23T08:47:04.138Z"
   },
   {
    "duration": 12,
    "start_time": "2022-02-23T08:47:04.182Z"
   },
   {
    "duration": 18,
    "start_time": "2022-02-23T08:47:04.196Z"
   },
   {
    "duration": 14,
    "start_time": "2022-02-23T08:47:04.216Z"
   },
   {
    "duration": 16,
    "start_time": "2022-02-23T08:47:04.269Z"
   },
   {
    "duration": 14,
    "start_time": "2022-02-23T08:47:04.288Z"
   },
   {
    "duration": 219,
    "start_time": "2022-02-23T09:19:00.268Z"
   },
   {
    "duration": 222,
    "start_time": "2022-02-23T09:19:58.261Z"
   },
   {
    "duration": 16,
    "start_time": "2022-02-23T09:20:50.614Z"
   },
   {
    "duration": 14,
    "start_time": "2022-02-23T09:21:23.839Z"
   },
   {
    "duration": 14,
    "start_time": "2022-02-23T09:21:35.663Z"
   },
   {
    "duration": 14,
    "start_time": "2022-02-23T09:22:37.944Z"
   },
   {
    "duration": 14,
    "start_time": "2022-02-23T09:23:22.145Z"
   },
   {
    "duration": 14,
    "start_time": "2022-02-23T09:23:44.218Z"
   },
   {
    "duration": 15,
    "start_time": "2022-02-23T09:24:58.779Z"
   },
   {
    "duration": 13,
    "start_time": "2022-02-23T09:25:04.411Z"
   },
   {
    "duration": 15,
    "start_time": "2022-02-23T09:32:36.148Z"
   },
   {
    "duration": 18,
    "start_time": "2022-02-23T09:32:39.533Z"
   },
   {
    "duration": 208,
    "start_time": "2022-02-23T09:51:21.090Z"
   },
   {
    "duration": 15,
    "start_time": "2022-02-23T09:51:29.050Z"
   },
   {
    "duration": 222,
    "start_time": "2022-02-23T09:52:08.955Z"
   },
   {
    "duration": 218,
    "start_time": "2022-02-23T09:52:14.316Z"
   },
   {
    "duration": 215,
    "start_time": "2022-02-23T09:52:17.683Z"
   },
   {
    "duration": 14,
    "start_time": "2022-02-23T09:53:07.837Z"
   },
   {
    "duration": 16,
    "start_time": "2022-02-23T09:53:14.028Z"
   },
   {
    "duration": 17,
    "start_time": "2022-02-23T09:53:25.213Z"
   },
   {
    "duration": 15,
    "start_time": "2022-02-23T09:53:30.380Z"
   },
   {
    "duration": 13,
    "start_time": "2022-02-23T09:53:39.860Z"
   },
   {
    "duration": 8,
    "start_time": "2022-02-23T09:55:14.218Z"
   },
   {
    "duration": 15,
    "start_time": "2022-02-23T09:55:22.463Z"
   },
   {
    "duration": 7,
    "start_time": "2022-02-23T09:55:29.518Z"
   },
   {
    "duration": 14,
    "start_time": "2022-02-23T09:55:31.687Z"
   },
   {
    "duration": 8,
    "start_time": "2022-02-23T09:57:19.569Z"
   },
   {
    "duration": 16,
    "start_time": "2022-02-23T09:57:27.146Z"
   },
   {
    "duration": 237,
    "start_time": "2022-02-23T10:00:56.413Z"
   },
   {
    "duration": 6,
    "start_time": "2022-02-23T10:01:07.670Z"
   },
   {
    "duration": 234,
    "start_time": "2022-02-23T10:01:10.494Z"
   },
   {
    "duration": 212,
    "start_time": "2022-02-23T10:04:41.641Z"
   },
   {
    "duration": 218,
    "start_time": "2022-02-23T10:04:54.241Z"
   },
   {
    "duration": 69,
    "start_time": "2022-02-23T10:05:21.379Z"
   },
   {
    "duration": 218,
    "start_time": "2022-02-23T10:05:24.299Z"
   },
   {
    "duration": 21,
    "start_time": "2022-02-23T10:06:05.084Z"
   },
   {
    "duration": 224,
    "start_time": "2022-02-23T10:06:45.884Z"
   },
   {
    "duration": 5305,
    "start_time": "2022-02-23T10:06:50.748Z"
   },
   {
    "duration": 16,
    "start_time": "2022-02-23T10:07:14.276Z"
   },
   {
    "duration": 216,
    "start_time": "2022-02-23T10:07:21.516Z"
   },
   {
    "duration": 72,
    "start_time": "2022-02-23T10:07:43.853Z"
   },
   {
    "duration": 15,
    "start_time": "2022-02-23T10:07:48.621Z"
   },
   {
    "duration": 16,
    "start_time": "2022-02-23T10:07:53.397Z"
   },
   {
    "duration": 22,
    "start_time": "2022-02-23T10:08:13.414Z"
   },
   {
    "duration": 17,
    "start_time": "2022-02-23T10:08:17.918Z"
   },
   {
    "duration": 16,
    "start_time": "2022-02-23T10:08:21.326Z"
   },
   {
    "duration": 21,
    "start_time": "2022-02-23T10:08:23.962Z"
   },
   {
    "duration": 17,
    "start_time": "2022-02-23T10:08:26.670Z"
   },
   {
    "duration": 17,
    "start_time": "2022-02-23T10:08:29.918Z"
   },
   {
    "duration": 20,
    "start_time": "2022-02-23T10:08:34.159Z"
   },
   {
    "duration": 17,
    "start_time": "2022-02-23T10:08:36.854Z"
   },
   {
    "duration": 16,
    "start_time": "2022-02-23T10:08:40.310Z"
   },
   {
    "duration": 16,
    "start_time": "2022-02-23T10:08:43.222Z"
   },
   {
    "duration": 16,
    "start_time": "2022-02-23T10:08:49.958Z"
   },
   {
    "duration": 16,
    "start_time": "2022-02-23T10:08:52.974Z"
   },
   {
    "duration": 17,
    "start_time": "2022-02-23T10:08:56.718Z"
   },
   {
    "duration": 16,
    "start_time": "2022-02-23T10:09:03.128Z"
   },
   {
    "duration": 20,
    "start_time": "2022-02-23T10:14:36.612Z"
   },
   {
    "duration": 252,
    "start_time": "2022-02-23T10:15:09.494Z"
   },
   {
    "duration": 224,
    "start_time": "2022-02-23T10:15:40.505Z"
   },
   {
    "duration": 219,
    "start_time": "2022-02-23T10:19:00.346Z"
   },
   {
    "duration": 198,
    "start_time": "2022-02-23T10:19:11.994Z"
   },
   {
    "duration": 212,
    "start_time": "2022-02-23T10:19:21.699Z"
   },
   {
    "duration": 23,
    "start_time": "2022-02-23T10:24:46.529Z"
   },
   {
    "duration": 10,
    "start_time": "2022-02-23T10:26:06.843Z"
   },
   {
    "duration": 16,
    "start_time": "2022-02-23T10:26:09.011Z"
   },
   {
    "duration": 9,
    "start_time": "2022-02-23T10:27:21.860Z"
   },
   {
    "duration": 15,
    "start_time": "2022-02-23T10:27:23.844Z"
   },
   {
    "duration": 6,
    "start_time": "2022-02-23T10:27:32.676Z"
   },
   {
    "duration": 14,
    "start_time": "2022-02-23T10:27:34.404Z"
   },
   {
    "duration": 16,
    "start_time": "2022-02-23T10:39:57.164Z"
   },
   {
    "duration": 15,
    "start_time": "2022-02-23T10:42:03.813Z"
   },
   {
    "duration": 3,
    "start_time": "2022-02-23T10:51:39.841Z"
   },
   {
    "duration": 73,
    "start_time": "2022-02-23T10:51:39.847Z"
   },
   {
    "duration": 13,
    "start_time": "2022-02-23T10:51:39.923Z"
   },
   {
    "duration": 36,
    "start_time": "2022-02-23T10:51:39.938Z"
   },
   {
    "duration": 10,
    "start_time": "2022-02-23T10:51:39.976Z"
   },
   {
    "duration": 5,
    "start_time": "2022-02-23T10:51:39.989Z"
   },
   {
    "duration": 8,
    "start_time": "2022-02-23T10:51:39.996Z"
   },
   {
    "duration": 21,
    "start_time": "2022-02-23T10:51:40.007Z"
   },
   {
    "duration": 48,
    "start_time": "2022-02-23T10:51:40.031Z"
   },
   {
    "duration": 5,
    "start_time": "2022-02-23T10:51:40.081Z"
   },
   {
    "duration": 16,
    "start_time": "2022-02-23T10:51:40.089Z"
   },
   {
    "duration": 15,
    "start_time": "2022-02-23T10:51:40.108Z"
   },
   {
    "duration": 7,
    "start_time": "2022-02-23T10:51:40.125Z"
   },
   {
    "duration": 19,
    "start_time": "2022-02-23T10:51:40.134Z"
   },
   {
    "duration": 48,
    "start_time": "2022-02-23T10:51:40.156Z"
   },
   {
    "duration": 14,
    "start_time": "2022-02-23T10:51:40.206Z"
   },
   {
    "duration": 12,
    "start_time": "2022-02-23T10:51:40.222Z"
   },
   {
    "duration": 38,
    "start_time": "2022-02-23T10:51:40.236Z"
   },
   {
    "duration": 19,
    "start_time": "2022-02-23T10:51:40.276Z"
   },
   {
    "duration": 17,
    "start_time": "2022-02-23T10:51:40.297Z"
   },
   {
    "duration": 18,
    "start_time": "2022-02-23T10:51:40.315Z"
   },
   {
    "duration": 12,
    "start_time": "2022-02-23T10:51:40.370Z"
   },
   {
    "duration": 30,
    "start_time": "2022-02-23T10:51:40.386Z"
   },
   {
    "duration": 18,
    "start_time": "2022-02-23T10:51:40.419Z"
   },
   {
    "duration": 40,
    "start_time": "2022-02-23T10:51:40.438Z"
   },
   {
    "duration": 30,
    "start_time": "2022-02-23T10:51:40.479Z"
   },
   {
    "duration": 21,
    "start_time": "2022-02-23T10:51:40.511Z"
   },
   {
    "duration": 10,
    "start_time": "2022-02-23T10:51:40.534Z"
   },
   {
    "duration": 21,
    "start_time": "2022-02-23T10:51:40.570Z"
   },
   {
    "duration": 19,
    "start_time": "2022-02-23T10:51:40.593Z"
   },
   {
    "duration": 20,
    "start_time": "2022-02-23T10:51:40.613Z"
   },
   {
    "duration": 36,
    "start_time": "2022-02-23T10:51:40.635Z"
   },
   {
    "duration": 18,
    "start_time": "2022-02-23T10:51:40.674Z"
   },
   {
    "duration": 17,
    "start_time": "2022-02-23T10:51:40.694Z"
   },
   {
    "duration": 14,
    "start_time": "2022-02-23T10:51:40.713Z"
   },
   {
    "duration": 42,
    "start_time": "2022-02-23T10:51:40.728Z"
   },
   {
    "duration": 8,
    "start_time": "2022-02-23T10:51:40.773Z"
   },
   {
    "duration": 26,
    "start_time": "2022-02-23T10:51:40.783Z"
   },
   {
    "duration": 14,
    "start_time": "2022-02-23T10:51:40.811Z"
   },
   {
    "duration": 44,
    "start_time": "2022-02-23T10:51:40.827Z"
   },
   {
    "duration": 5,
    "start_time": "2022-02-23T10:52:48.474Z"
   },
   {
    "duration": 4,
    "start_time": "2022-02-23T10:52:50.753Z"
   },
   {
    "duration": 13,
    "start_time": "2022-02-23T10:53:11.141Z"
   },
   {
    "duration": 3,
    "start_time": "2022-02-23T10:53:48.125Z"
   },
   {
    "duration": 59,
    "start_time": "2022-02-23T10:53:48.130Z"
   },
   {
    "duration": 13,
    "start_time": "2022-02-23T10:53:48.191Z"
   },
   {
    "duration": 14,
    "start_time": "2022-02-23T10:53:48.206Z"
   },
   {
    "duration": 16,
    "start_time": "2022-02-23T10:53:48.222Z"
   },
   {
    "duration": 30,
    "start_time": "2022-02-23T10:53:48.240Z"
   },
   {
    "duration": 6,
    "start_time": "2022-02-23T10:53:48.272Z"
   },
   {
    "duration": 13,
    "start_time": "2022-02-23T10:53:48.282Z"
   },
   {
    "duration": 16,
    "start_time": "2022-02-23T10:53:48.298Z"
   },
   {
    "duration": 7,
    "start_time": "2022-02-23T10:53:48.317Z"
   },
   {
    "duration": 45,
    "start_time": "2022-02-23T10:53:48.326Z"
   },
   {
    "duration": 5,
    "start_time": "2022-02-23T10:53:48.372Z"
   },
   {
    "duration": 9,
    "start_time": "2022-02-23T10:53:48.379Z"
   },
   {
    "duration": 19,
    "start_time": "2022-02-23T10:53:48.390Z"
   },
   {
    "duration": 21,
    "start_time": "2022-02-23T10:53:48.411Z"
   },
   {
    "duration": 43,
    "start_time": "2022-02-23T10:53:48.434Z"
   },
   {
    "duration": 12,
    "start_time": "2022-02-23T10:53:48.479Z"
   },
   {
    "duration": 20,
    "start_time": "2022-02-23T10:53:48.492Z"
   },
   {
    "duration": 24,
    "start_time": "2022-02-23T10:53:48.514Z"
   },
   {
    "duration": 42,
    "start_time": "2022-02-23T10:53:48.540Z"
   },
   {
    "duration": 18,
    "start_time": "2022-02-23T10:53:48.584Z"
   },
   {
    "duration": 12,
    "start_time": "2022-02-23T10:53:48.604Z"
   },
   {
    "duration": 58,
    "start_time": "2022-02-23T10:53:48.620Z"
   },
   {
    "duration": 19,
    "start_time": "2022-02-23T10:53:48.680Z"
   },
   {
    "duration": 16,
    "start_time": "2022-02-23T10:53:48.701Z"
   },
   {
    "duration": 25,
    "start_time": "2022-02-23T10:53:48.719Z"
   },
   {
    "duration": 46,
    "start_time": "2022-02-23T10:53:48.746Z"
   },
   {
    "duration": 11,
    "start_time": "2022-02-23T10:53:48.794Z"
   },
   {
    "duration": 21,
    "start_time": "2022-02-23T10:53:48.807Z"
   },
   {
    "duration": 52,
    "start_time": "2022-02-23T10:53:48.830Z"
   },
   {
    "duration": 15,
    "start_time": "2022-02-23T10:53:48.884Z"
   },
   {
    "duration": 5,
    "start_time": "2022-02-23T10:53:48.901Z"
   },
   {
    "duration": 17,
    "start_time": "2022-02-23T10:53:48.908Z"
   },
   {
    "duration": 45,
    "start_time": "2022-02-23T10:53:48.927Z"
   },
   {
    "duration": 19,
    "start_time": "2022-02-23T10:53:48.974Z"
   },
   {
    "duration": 17,
    "start_time": "2022-02-23T10:53:48.996Z"
   },
   {
    "duration": 9,
    "start_time": "2022-02-23T10:53:49.015Z"
   },
   {
    "duration": 43,
    "start_time": "2022-02-23T10:53:49.026Z"
   },
   {
    "duration": 15,
    "start_time": "2022-02-23T10:53:49.071Z"
   },
   {
    "duration": 17,
    "start_time": "2022-02-23T10:53:49.088Z"
   },
   {
    "duration": 3,
    "start_time": "2022-02-23T11:27:28.746Z"
   },
   {
    "duration": 57,
    "start_time": "2022-02-23T11:27:28.752Z"
   },
   {
    "duration": 15,
    "start_time": "2022-02-23T11:27:28.811Z"
   },
   {
    "duration": 13,
    "start_time": "2022-02-23T11:27:28.828Z"
   },
   {
    "duration": 10,
    "start_time": "2022-02-23T11:27:28.870Z"
   },
   {
    "duration": 5,
    "start_time": "2022-02-23T11:27:28.882Z"
   },
   {
    "duration": 7,
    "start_time": "2022-02-23T11:27:28.889Z"
   },
   {
    "duration": 14,
    "start_time": "2022-02-23T11:27:28.898Z"
   },
   {
    "duration": 16,
    "start_time": "2022-02-23T11:27:28.914Z"
   },
   {
    "duration": 38,
    "start_time": "2022-02-23T11:27:28.931Z"
   },
   {
    "duration": 9,
    "start_time": "2022-02-23T11:27:28.971Z"
   },
   {
    "duration": 8,
    "start_time": "2022-02-23T11:27:28.982Z"
   },
   {
    "duration": 8,
    "start_time": "2022-02-23T11:27:28.993Z"
   },
   {
    "duration": 11,
    "start_time": "2022-02-23T11:27:29.003Z"
   },
   {
    "duration": 13,
    "start_time": "2022-02-23T11:27:29.016Z"
   },
   {
    "duration": 38,
    "start_time": "2022-02-23T11:27:29.031Z"
   },
   {
    "duration": 13,
    "start_time": "2022-02-23T11:27:29.071Z"
   },
   {
    "duration": 16,
    "start_time": "2022-02-23T11:27:29.086Z"
   },
   {
    "duration": 17,
    "start_time": "2022-02-23T11:27:29.104Z"
   },
   {
    "duration": 16,
    "start_time": "2022-02-23T11:27:29.122Z"
   },
   {
    "duration": 22,
    "start_time": "2022-02-23T11:27:29.169Z"
   },
   {
    "duration": 11,
    "start_time": "2022-02-23T11:27:29.192Z"
   },
   {
    "duration": 29,
    "start_time": "2022-02-23T11:27:29.207Z"
   },
   {
    "duration": 45,
    "start_time": "2022-02-23T11:27:29.238Z"
   },
   {
    "duration": 14,
    "start_time": "2022-02-23T11:27:29.286Z"
   },
   {
    "duration": 25,
    "start_time": "2022-02-23T11:27:29.302Z"
   },
   {
    "duration": 44,
    "start_time": "2022-02-23T11:27:29.329Z"
   },
   {
    "duration": 9,
    "start_time": "2022-02-23T11:27:29.375Z"
   },
   {
    "duration": 25,
    "start_time": "2022-02-23T11:27:29.386Z"
   },
   {
    "duration": 19,
    "start_time": "2022-02-23T11:27:29.413Z"
   },
   {
    "duration": 44,
    "start_time": "2022-02-23T11:27:29.434Z"
   },
   {
    "duration": 5,
    "start_time": "2022-02-23T11:27:29.480Z"
   },
   {
    "duration": 16,
    "start_time": "2022-02-23T11:27:29.486Z"
   },
   {
    "duration": 12,
    "start_time": "2022-02-23T11:27:29.503Z"
   },
   {
    "duration": 15,
    "start_time": "2022-02-23T11:27:29.517Z"
   },
   {
    "duration": 14,
    "start_time": "2022-02-23T11:27:29.569Z"
   },
   {
    "duration": 9,
    "start_time": "2022-02-23T11:27:29.585Z"
   },
   {
    "duration": 19,
    "start_time": "2022-02-23T11:27:29.596Z"
   },
   {
    "duration": 24,
    "start_time": "2022-02-23T11:27:29.617Z"
   },
   {
    "duration": 34,
    "start_time": "2022-02-23T11:27:29.642Z"
   },
   {
    "duration": 750,
    "start_time": "2022-03-05T21:36:18.144Z"
   },
   {
    "duration": 64,
    "start_time": "2022-03-05T21:36:18.896Z"
   },
   {
    "duration": 23,
    "start_time": "2022-03-05T21:36:18.963Z"
   },
   {
    "duration": 18,
    "start_time": "2022-03-05T21:36:18.988Z"
   },
   {
    "duration": 12,
    "start_time": "2022-03-05T21:36:19.008Z"
   },
   {
    "duration": 4,
    "start_time": "2022-03-05T21:36:19.022Z"
   },
   {
    "duration": 9,
    "start_time": "2022-03-05T21:36:19.028Z"
   },
   {
    "duration": 20,
    "start_time": "2022-03-05T21:36:19.039Z"
   },
   {
    "duration": 16,
    "start_time": "2022-03-05T21:36:19.063Z"
   },
   {
    "duration": 4,
    "start_time": "2022-03-05T21:36:19.102Z"
   },
   {
    "duration": 3,
    "start_time": "2022-03-05T21:36:19.108Z"
   },
   {
    "duration": 6,
    "start_time": "2022-03-05T21:36:19.113Z"
   },
   {
    "duration": 9,
    "start_time": "2022-03-05T21:36:19.120Z"
   },
   {
    "duration": 15,
    "start_time": "2022-03-05T21:36:19.131Z"
   },
   {
    "duration": 13,
    "start_time": "2022-03-05T21:36:19.147Z"
   },
   {
    "duration": 12,
    "start_time": "2022-03-05T21:36:19.162Z"
   },
   {
    "duration": 10,
    "start_time": "2022-03-05T21:36:19.175Z"
   },
   {
    "duration": 13,
    "start_time": "2022-03-05T21:36:19.202Z"
   },
   {
    "duration": 15,
    "start_time": "2022-03-05T21:36:19.217Z"
   },
   {
    "duration": 14,
    "start_time": "2022-03-05T21:36:19.233Z"
   },
   {
    "duration": 14,
    "start_time": "2022-03-05T21:36:19.248Z"
   },
   {
    "duration": 9,
    "start_time": "2022-03-05T21:36:19.264Z"
   },
   {
    "duration": 49,
    "start_time": "2022-03-05T21:36:19.274Z"
   },
   {
    "duration": 16,
    "start_time": "2022-03-05T21:36:19.324Z"
   },
   {
    "duration": 11,
    "start_time": "2022-03-05T21:36:19.342Z"
   },
   {
    "duration": 22,
    "start_time": "2022-03-05T21:36:19.355Z"
   },
   {
    "duration": 19,
    "start_time": "2022-03-05T21:36:19.404Z"
   },
   {
    "duration": 6,
    "start_time": "2022-03-05T21:36:19.425Z"
   },
   {
    "duration": 18,
    "start_time": "2022-03-05T21:36:19.433Z"
   },
   {
    "duration": 16,
    "start_time": "2022-03-05T21:36:19.453Z"
   },
   {
    "duration": 45,
    "start_time": "2022-03-05T21:36:19.470Z"
   },
   {
    "duration": 5,
    "start_time": "2022-03-05T21:36:19.516Z"
   },
   {
    "duration": 690,
    "start_time": "2022-03-05T21:36:19.522Z"
   },
   {
    "duration": -2857,
    "start_time": "2022-03-05T21:36:23.071Z"
   },
   {
    "duration": -2858,
    "start_time": "2022-03-05T21:36:23.073Z"
   },
   {
    "duration": -2864,
    "start_time": "2022-03-05T21:36:23.080Z"
   },
   {
    "duration": -2865,
    "start_time": "2022-03-05T21:36:23.081Z"
   },
   {
    "duration": -2865,
    "start_time": "2022-03-05T21:36:23.082Z"
   },
   {
    "duration": -2865,
    "start_time": "2022-03-05T21:36:23.084Z"
   },
   {
    "duration": -2899,
    "start_time": "2022-03-05T21:36:23.118Z"
   },
   {
    "duration": 4,
    "start_time": "2022-03-05T21:43:27.823Z"
   },
   {
    "duration": 11,
    "start_time": "2022-03-05T21:44:54.846Z"
   },
   {
    "duration": 12,
    "start_time": "2022-03-05T21:44:58.312Z"
   },
   {
    "duration": 17,
    "start_time": "2022-03-05T21:45:27.014Z"
   },
   {
    "duration": 8,
    "start_time": "2022-03-05T21:45:27.032Z"
   },
   {
    "duration": 19,
    "start_time": "2022-03-05T21:45:27.042Z"
   },
   {
    "duration": 16,
    "start_time": "2022-03-05T21:45:27.062Z"
   },
   {
    "duration": 32,
    "start_time": "2022-03-05T21:45:27.080Z"
   },
   {
    "duration": 79,
    "start_time": "2022-03-06T06:39:42.043Z"
   },
   {
    "duration": 90,
    "start_time": "2022-03-06T06:40:38.396Z"
   },
   {
    "duration": 85,
    "start_time": "2022-03-06T06:40:46.499Z"
   },
   {
    "duration": 94,
    "start_time": "2022-03-06T06:41:00.643Z"
   },
   {
    "duration": 87,
    "start_time": "2022-03-06T06:43:29.502Z"
   },
   {
    "duration": 504,
    "start_time": "2022-03-06T06:43:52.749Z"
   },
   {
    "duration": 47,
    "start_time": "2022-03-06T06:43:53.255Z"
   },
   {
    "duration": 16,
    "start_time": "2022-03-06T06:43:53.304Z"
   },
   {
    "duration": 10,
    "start_time": "2022-03-06T06:43:53.322Z"
   },
   {
    "duration": 7,
    "start_time": "2022-03-06T06:43:53.334Z"
   },
   {
    "duration": 4,
    "start_time": "2022-03-06T06:43:53.343Z"
   },
   {
    "duration": 4,
    "start_time": "2022-03-06T06:43:53.349Z"
   },
   {
    "duration": 10,
    "start_time": "2022-03-06T06:43:53.355Z"
   },
   {
    "duration": 39,
    "start_time": "2022-03-06T06:43:53.367Z"
   },
   {
    "duration": 4,
    "start_time": "2022-03-06T06:43:53.407Z"
   },
   {
    "duration": 4,
    "start_time": "2022-03-06T06:43:53.412Z"
   },
   {
    "duration": 4,
    "start_time": "2022-03-06T06:43:53.417Z"
   },
   {
    "duration": 7,
    "start_time": "2022-03-06T06:43:53.422Z"
   },
   {
    "duration": 8,
    "start_time": "2022-03-06T06:43:53.431Z"
   },
   {
    "duration": 11,
    "start_time": "2022-03-06T06:43:53.440Z"
   },
   {
    "duration": 10,
    "start_time": "2022-03-06T06:43:53.453Z"
   },
   {
    "duration": 42,
    "start_time": "2022-03-06T06:43:53.464Z"
   },
   {
    "duration": 13,
    "start_time": "2022-03-06T06:43:53.507Z"
   },
   {
    "duration": 13,
    "start_time": "2022-03-06T06:43:53.522Z"
   },
   {
    "duration": 13,
    "start_time": "2022-03-06T06:43:53.537Z"
   },
   {
    "duration": 92,
    "start_time": "2022-03-06T06:43:53.551Z"
   },
   {
    "duration": 43,
    "start_time": "2022-03-06T06:43:53.602Z"
   },
   {
    "duration": 42,
    "start_time": "2022-03-06T06:43:53.604Z"
   },
   {
    "duration": 40,
    "start_time": "2022-03-06T06:43:53.606Z"
   },
   {
    "duration": 39,
    "start_time": "2022-03-06T06:43:53.608Z"
   },
   {
    "duration": 38,
    "start_time": "2022-03-06T06:43:53.610Z"
   },
   {
    "duration": 32,
    "start_time": "2022-03-06T06:43:53.616Z"
   },
   {
    "duration": 30,
    "start_time": "2022-03-06T06:43:53.619Z"
   },
   {
    "duration": 28,
    "start_time": "2022-03-06T06:43:53.622Z"
   },
   {
    "duration": 25,
    "start_time": "2022-03-06T06:43:53.625Z"
   },
   {
    "duration": 9,
    "start_time": "2022-03-06T06:43:53.642Z"
   },
   {
    "duration": 7,
    "start_time": "2022-03-06T06:43:53.645Z"
   },
   {
    "duration": 4,
    "start_time": "2022-03-06T06:43:53.648Z"
   },
   {
    "duration": 3,
    "start_time": "2022-03-06T06:43:53.650Z"
   },
   {
    "duration": 1,
    "start_time": "2022-03-06T06:43:53.653Z"
   },
   {
    "duration": -1,
    "start_time": "2022-03-06T06:43:53.655Z"
   },
   {
    "duration": -3,
    "start_time": "2022-03-06T06:43:53.658Z"
   },
   {
    "duration": -4,
    "start_time": "2022-03-06T06:43:53.660Z"
   },
   {
    "duration": -6,
    "start_time": "2022-03-06T06:43:53.662Z"
   },
   {
    "duration": -7,
    "start_time": "2022-03-06T06:43:53.664Z"
   },
   {
    "duration": -8,
    "start_time": "2022-03-06T06:43:53.666Z"
   },
   {
    "duration": -11,
    "start_time": "2022-03-06T06:43:53.669Z"
   },
   {
    "duration": 85,
    "start_time": "2022-03-06T06:44:22.009Z"
   },
   {
    "duration": 327,
    "start_time": "2022-03-06T06:54:04.603Z"
   },
   {
    "duration": 256,
    "start_time": "2022-03-06T06:54:19.867Z"
   },
   {
    "duration": 5,
    "start_time": "2022-03-06T06:54:29.291Z"
   },
   {
    "duration": 253,
    "start_time": "2022-03-06T06:54:31.332Z"
   },
   {
    "duration": 3,
    "start_time": "2022-03-06T06:55:27.830Z"
   },
   {
    "duration": 51,
    "start_time": "2022-03-06T06:55:27.834Z"
   },
   {
    "duration": 13,
    "start_time": "2022-03-06T06:55:27.887Z"
   },
   {
    "duration": 10,
    "start_time": "2022-03-06T06:55:27.901Z"
   },
   {
    "duration": 7,
    "start_time": "2022-03-06T06:55:27.913Z"
   },
   {
    "duration": 4,
    "start_time": "2022-03-06T06:55:27.921Z"
   },
   {
    "duration": 6,
    "start_time": "2022-03-06T06:55:27.927Z"
   },
   {
    "duration": 10,
    "start_time": "2022-03-06T06:55:27.934Z"
   },
   {
    "duration": 12,
    "start_time": "2022-03-06T06:55:27.946Z"
   },
   {
    "duration": 7,
    "start_time": "2022-03-06T06:55:27.959Z"
   },
   {
    "duration": 6,
    "start_time": "2022-03-06T06:55:27.967Z"
   },
   {
    "duration": 31,
    "start_time": "2022-03-06T06:55:27.974Z"
   },
   {
    "duration": 3,
    "start_time": "2022-03-06T06:55:28.007Z"
   },
   {
    "duration": 12,
    "start_time": "2022-03-06T06:55:28.011Z"
   },
   {
    "duration": 10,
    "start_time": "2022-03-06T06:55:28.025Z"
   },
   {
    "duration": 10,
    "start_time": "2022-03-06T06:55:28.036Z"
   },
   {
    "duration": 9,
    "start_time": "2022-03-06T06:55:28.047Z"
   },
   {
    "duration": 14,
    "start_time": "2022-03-06T06:55:28.057Z"
   },
   {
    "duration": 38,
    "start_time": "2022-03-06T06:55:28.074Z"
   },
   {
    "duration": 25,
    "start_time": "2022-03-06T06:55:28.113Z"
   },
   {
    "duration": 14,
    "start_time": "2022-03-06T06:55:28.139Z"
   },
   {
    "duration": 10,
    "start_time": "2022-03-06T06:55:28.154Z"
   },
   {
    "duration": 20,
    "start_time": "2022-03-06T06:55:28.165Z"
   },
   {
    "duration": 34,
    "start_time": "2022-03-06T06:55:28.186Z"
   },
   {
    "duration": 14,
    "start_time": "2022-03-06T06:55:28.222Z"
   },
   {
    "duration": 15,
    "start_time": "2022-03-06T06:55:28.238Z"
   },
   {
    "duration": 13,
    "start_time": "2022-03-06T06:55:28.254Z"
   },
   {
    "duration": 6,
    "start_time": "2022-03-06T06:55:28.269Z"
   },
   {
    "duration": 43,
    "start_time": "2022-03-06T06:55:28.276Z"
   },
   {
    "duration": 19,
    "start_time": "2022-03-06T06:55:28.321Z"
   },
   {
    "duration": 13,
    "start_time": "2022-03-06T06:55:28.341Z"
   },
   {
    "duration": 4,
    "start_time": "2022-03-06T06:55:28.356Z"
   },
   {
    "duration": 255,
    "start_time": "2022-03-06T06:55:28.361Z"
   },
   {
    "duration": 110,
    "start_time": "2022-03-06T06:55:28.507Z"
   },
   {
    "duration": 108,
    "start_time": "2022-03-06T06:55:28.510Z"
   },
   {
    "duration": 106,
    "start_time": "2022-03-06T06:55:28.513Z"
   },
   {
    "duration": 105,
    "start_time": "2022-03-06T06:55:28.515Z"
   },
   {
    "duration": 104,
    "start_time": "2022-03-06T06:55:28.517Z"
   },
   {
    "duration": 103,
    "start_time": "2022-03-06T06:55:28.519Z"
   },
   {
    "duration": 101,
    "start_time": "2022-03-06T06:55:28.521Z"
   },
   {
    "duration": 9,
    "start_time": "2022-03-06T06:55:46.854Z"
   },
   {
    "duration": 16,
    "start_time": "2022-03-06T06:57:06.950Z"
   },
   {
    "duration": 8,
    "start_time": "2022-03-06T06:58:10.559Z"
   },
   {
    "duration": 9,
    "start_time": "2022-03-06T06:59:43.754Z"
   },
   {
    "duration": 8,
    "start_time": "2022-03-06T07:01:23.740Z"
   },
   {
    "duration": 238,
    "start_time": "2022-03-06T07:04:10.182Z"
   },
   {
    "duration": 256,
    "start_time": "2022-03-06T07:04:18.631Z"
   },
   {
    "duration": 286,
    "start_time": "2022-03-06T07:04:29.088Z"
   },
   {
    "duration": 288,
    "start_time": "2022-03-06T07:04:46.369Z"
   },
   {
    "duration": 10,
    "start_time": "2022-03-06T07:04:59.721Z"
   },
   {
    "duration": 20,
    "start_time": "2022-03-06T07:15:25.228Z"
   },
   {
    "duration": 12,
    "start_time": "2022-03-06T07:16:19.246Z"
   },
   {
    "duration": 12,
    "start_time": "2022-03-06T07:16:29.150Z"
   },
   {
    "duration": 83,
    "start_time": "2022-03-06T07:39:44.624Z"
   },
   {
    "duration": 298,
    "start_time": "2022-03-06T10:50:57.363Z"
   },
   {
    "duration": 2,
    "start_time": "2022-03-06T10:51:10.119Z"
   },
   {
    "duration": 59,
    "start_time": "2022-03-06T10:51:10.123Z"
   },
   {
    "duration": 11,
    "start_time": "2022-03-06T10:51:10.184Z"
   },
   {
    "duration": 11,
    "start_time": "2022-03-06T10:51:10.196Z"
   },
   {
    "duration": 8,
    "start_time": "2022-03-06T10:51:10.209Z"
   },
   {
    "duration": 10,
    "start_time": "2022-03-06T10:51:10.218Z"
   },
   {
    "duration": 3,
    "start_time": "2022-03-06T10:51:10.230Z"
   },
   {
    "duration": 15,
    "start_time": "2022-03-06T10:51:10.235Z"
   },
   {
    "duration": 13,
    "start_time": "2022-03-06T10:51:10.252Z"
   },
   {
    "duration": 5,
    "start_time": "2022-03-06T10:51:10.267Z"
   },
   {
    "duration": 30,
    "start_time": "2022-03-06T10:51:10.275Z"
   },
   {
    "duration": 2,
    "start_time": "2022-03-06T10:51:10.307Z"
   },
   {
    "duration": 5,
    "start_time": "2022-03-06T10:51:10.311Z"
   },
   {
    "duration": 11,
    "start_time": "2022-03-06T10:51:10.318Z"
   },
   {
    "duration": 12,
    "start_time": "2022-03-06T10:51:10.331Z"
   },
   {
    "duration": 10,
    "start_time": "2022-03-06T10:51:10.345Z"
   },
   {
    "duration": 9,
    "start_time": "2022-03-06T10:51:10.356Z"
   },
   {
    "duration": 13,
    "start_time": "2022-03-06T10:51:10.367Z"
   },
   {
    "duration": 9,
    "start_time": "2022-03-06T10:51:10.407Z"
   },
   {
    "duration": 24,
    "start_time": "2022-03-06T10:51:10.418Z"
   },
   {
    "duration": 14,
    "start_time": "2022-03-06T10:51:10.444Z"
   },
   {
    "duration": 10,
    "start_time": "2022-03-06T10:51:10.460Z"
   },
   {
    "duration": 37,
    "start_time": "2022-03-06T10:51:10.471Z"
   },
   {
    "duration": 17,
    "start_time": "2022-03-06T10:51:10.509Z"
   },
   {
    "duration": 14,
    "start_time": "2022-03-06T10:51:10.527Z"
   },
   {
    "duration": 14,
    "start_time": "2022-03-06T10:51:10.543Z"
   },
   {
    "duration": 12,
    "start_time": "2022-03-06T10:51:10.559Z"
   },
   {
    "duration": 36,
    "start_time": "2022-03-06T10:51:10.573Z"
   },
   {
    "duration": 14,
    "start_time": "2022-03-06T10:51:10.611Z"
   },
   {
    "duration": 11,
    "start_time": "2022-03-06T10:51:10.626Z"
   },
   {
    "duration": 8,
    "start_time": "2022-03-06T10:51:10.638Z"
   },
   {
    "duration": 10,
    "start_time": "2022-03-06T10:51:10.647Z"
   },
   {
    "duration": 7,
    "start_time": "2022-03-06T10:51:10.659Z"
   },
   {
    "duration": 39,
    "start_time": "2022-03-06T10:51:10.667Z"
   },
   {
    "duration": 5,
    "start_time": "2022-03-06T10:51:10.708Z"
   },
   {
    "duration": 17,
    "start_time": "2022-03-06T10:51:10.715Z"
   },
   {
    "duration": 16,
    "start_time": "2022-03-06T10:51:10.734Z"
   },
   {
    "duration": 12,
    "start_time": "2022-03-06T10:51:10.751Z"
   },
   {
    "duration": 4,
    "start_time": "2022-03-06T10:51:10.764Z"
   },
   {
    "duration": 237,
    "start_time": "2022-03-06T10:51:10.769Z"
   },
   {
    "duration": 309,
    "start_time": "2022-03-06T10:51:10.698Z"
   },
   {
    "duration": 306,
    "start_time": "2022-03-06T10:51:10.702Z"
   },
   {
    "duration": 303,
    "start_time": "2022-03-06T10:51:10.706Z"
   },
   {
    "duration": 301,
    "start_time": "2022-03-06T10:51:10.709Z"
   },
   {
    "duration": 298,
    "start_time": "2022-03-06T10:51:10.713Z"
   },
   {
    "duration": 296,
    "start_time": "2022-03-06T10:51:10.716Z"
   },
   {
    "duration": 294,
    "start_time": "2022-03-06T10:51:10.719Z"
   },
   {
    "duration": 251,
    "start_time": "2022-03-06T10:55:41.432Z"
   },
   {
    "duration": 3,
    "start_time": "2022-03-06T10:56:03.535Z"
   },
   {
    "duration": 52,
    "start_time": "2022-03-06T10:56:03.539Z"
   },
   {
    "duration": 12,
    "start_time": "2022-03-06T10:56:03.593Z"
   },
   {
    "duration": 10,
    "start_time": "2022-03-06T10:56:03.607Z"
   },
   {
    "duration": 12,
    "start_time": "2022-03-06T10:56:03.618Z"
   },
   {
    "duration": 6,
    "start_time": "2022-03-06T10:56:03.632Z"
   },
   {
    "duration": 6,
    "start_time": "2022-03-06T10:56:03.640Z"
   },
   {
    "duration": 12,
    "start_time": "2022-03-06T10:56:03.648Z"
   },
   {
    "duration": 11,
    "start_time": "2022-03-06T10:56:03.664Z"
   },
   {
    "duration": 28,
    "start_time": "2022-03-06T10:56:03.677Z"
   },
   {
    "duration": 6,
    "start_time": "2022-03-06T10:56:03.707Z"
   },
   {
    "duration": 4,
    "start_time": "2022-03-06T10:56:03.715Z"
   },
   {
    "duration": 8,
    "start_time": "2022-03-06T10:56:03.721Z"
   },
   {
    "duration": 12,
    "start_time": "2022-03-06T10:56:03.731Z"
   },
   {
    "duration": 12,
    "start_time": "2022-03-06T10:56:03.745Z"
   },
   {
    "duration": 11,
    "start_time": "2022-03-06T10:56:03.760Z"
   },
   {
    "duration": 39,
    "start_time": "2022-03-06T10:56:03.773Z"
   },
   {
    "duration": 16,
    "start_time": "2022-03-06T10:56:03.814Z"
   },
   {
    "duration": 11,
    "start_time": "2022-03-06T10:56:03.831Z"
   },
   {
    "duration": 26,
    "start_time": "2022-03-06T10:56:03.844Z"
   },
   {
    "duration": 41,
    "start_time": "2022-03-06T10:56:03.871Z"
   },
   {
    "duration": 12,
    "start_time": "2022-03-06T10:56:03.913Z"
   },
   {
    "duration": 21,
    "start_time": "2022-03-06T10:56:03.926Z"
   },
   {
    "duration": 19,
    "start_time": "2022-03-06T10:56:03.948Z"
   },
   {
    "duration": 43,
    "start_time": "2022-03-06T10:56:03.968Z"
   },
   {
    "duration": 17,
    "start_time": "2022-03-06T10:56:04.012Z"
   },
   {
    "duration": 15,
    "start_time": "2022-03-06T10:56:04.032Z"
   },
   {
    "duration": 11,
    "start_time": "2022-03-06T10:56:04.049Z"
   },
   {
    "duration": 44,
    "start_time": "2022-03-06T10:56:04.061Z"
   },
   {
    "duration": 10,
    "start_time": "2022-03-06T10:56:04.107Z"
   },
   {
    "duration": 7,
    "start_time": "2022-03-06T10:56:04.119Z"
   },
   {
    "duration": 20,
    "start_time": "2022-03-06T10:56:04.128Z"
   },
   {
    "duration": 16,
    "start_time": "2022-03-06T10:56:04.149Z"
   },
   {
    "duration": 9,
    "start_time": "2022-03-06T10:56:04.166Z"
   },
   {
    "duration": 48,
    "start_time": "2022-03-06T10:56:04.176Z"
   },
   {
    "duration": 19,
    "start_time": "2022-03-06T10:56:04.225Z"
   },
   {
    "duration": 17,
    "start_time": "2022-03-06T10:56:04.245Z"
   },
   {
    "duration": 11,
    "start_time": "2022-03-06T10:56:04.264Z"
   },
   {
    "duration": 32,
    "start_time": "2022-03-06T10:56:04.277Z"
   },
   {
    "duration": 258,
    "start_time": "2022-03-06T10:56:04.310Z"
   },
   {
    "duration": 404,
    "start_time": "2022-03-06T10:56:04.166Z"
   },
   {
    "duration": 392,
    "start_time": "2022-03-06T10:56:04.180Z"
   },
   {
    "duration": 388,
    "start_time": "2022-03-06T10:56:04.185Z"
   },
   {
    "duration": 387,
    "start_time": "2022-03-06T10:56:04.188Z"
   },
   {
    "duration": 378,
    "start_time": "2022-03-06T10:56:04.198Z"
   },
   {
    "duration": 375,
    "start_time": "2022-03-06T10:56:04.202Z"
   },
   {
    "duration": 373,
    "start_time": "2022-03-06T10:56:04.206Z"
   },
   {
    "duration": 3,
    "start_time": "2022-03-06T10:56:58.259Z"
   },
   {
    "duration": 50,
    "start_time": "2022-03-06T10:56:58.263Z"
   },
   {
    "duration": 11,
    "start_time": "2022-03-06T10:56:58.315Z"
   },
   {
    "duration": 9,
    "start_time": "2022-03-06T10:56:58.328Z"
   },
   {
    "duration": 8,
    "start_time": "2022-03-06T10:56:58.338Z"
   },
   {
    "duration": 5,
    "start_time": "2022-03-06T10:56:58.347Z"
   },
   {
    "duration": 5,
    "start_time": "2022-03-06T10:56:58.354Z"
   },
   {
    "duration": 45,
    "start_time": "2022-03-06T10:56:58.361Z"
   },
   {
    "duration": 9,
    "start_time": "2022-03-06T10:56:58.408Z"
   },
   {
    "duration": 5,
    "start_time": "2022-03-06T10:56:58.419Z"
   },
   {
    "duration": 7,
    "start_time": "2022-03-06T10:56:58.425Z"
   },
   {
    "duration": 3,
    "start_time": "2022-03-06T10:56:58.434Z"
   },
   {
    "duration": 8,
    "start_time": "2022-03-06T10:56:58.438Z"
   },
   {
    "duration": 10,
    "start_time": "2022-03-06T10:56:58.447Z"
   },
   {
    "duration": 10,
    "start_time": "2022-03-06T10:56:58.458Z"
   },
   {
    "duration": 36,
    "start_time": "2022-03-06T10:56:58.470Z"
   },
   {
    "duration": 10,
    "start_time": "2022-03-06T10:56:58.507Z"
   },
   {
    "duration": 14,
    "start_time": "2022-03-06T10:56:58.518Z"
   },
   {
    "duration": 9,
    "start_time": "2022-03-06T10:56:58.535Z"
   },
   {
    "duration": 22,
    "start_time": "2022-03-06T10:56:58.546Z"
   },
   {
    "duration": 40,
    "start_time": "2022-03-06T10:56:58.570Z"
   },
   {
    "duration": 10,
    "start_time": "2022-03-06T10:56:58.611Z"
   },
   {
    "duration": 20,
    "start_time": "2022-03-06T10:56:58.622Z"
   },
   {
    "duration": 17,
    "start_time": "2022-03-06T10:56:58.644Z"
   },
   {
    "duration": 15,
    "start_time": "2022-03-06T10:56:58.662Z"
   },
   {
    "duration": 35,
    "start_time": "2022-03-06T10:56:58.679Z"
   },
   {
    "duration": 13,
    "start_time": "2022-03-06T10:56:58.716Z"
   },
   {
    "duration": 8,
    "start_time": "2022-03-06T10:56:58.731Z"
   },
   {
    "duration": 19,
    "start_time": "2022-03-06T10:56:58.741Z"
   },
   {
    "duration": 12,
    "start_time": "2022-03-06T10:56:58.761Z"
   },
   {
    "duration": 9,
    "start_time": "2022-03-06T10:56:58.774Z"
   },
   {
    "duration": 11,
    "start_time": "2022-03-06T10:56:58.805Z"
   },
   {
    "duration": 11,
    "start_time": "2022-03-06T10:56:58.817Z"
   },
   {
    "duration": 10,
    "start_time": "2022-03-06T10:56:58.829Z"
   },
   {
    "duration": 10,
    "start_time": "2022-03-06T10:56:58.840Z"
   },
   {
    "duration": 10,
    "start_time": "2022-03-06T10:56:58.852Z"
   },
   {
    "duration": 18,
    "start_time": "2022-03-06T10:56:58.863Z"
   },
   {
    "duration": 39,
    "start_time": "2022-03-06T10:56:58.882Z"
   },
   {
    "duration": 16,
    "start_time": "2022-03-06T10:56:58.923Z"
   },
   {
    "duration": 14,
    "start_time": "2022-03-06T10:56:58.940Z"
   },
   {
    "duration": 4,
    "start_time": "2022-03-06T10:56:58.955Z"
   },
   {
    "duration": 242,
    "start_time": "2022-03-06T10:56:58.960Z"
   },
   {
    "duration": 271,
    "start_time": "2022-03-06T10:56:58.933Z"
   },
   {
    "duration": 269,
    "start_time": "2022-03-06T10:56:58.936Z"
   },
   {
    "duration": 269,
    "start_time": "2022-03-06T10:56:58.938Z"
   },
   {
    "duration": 267,
    "start_time": "2022-03-06T10:56:58.941Z"
   },
   {
    "duration": 266,
    "start_time": "2022-03-06T10:56:58.943Z"
   },
   {
    "duration": 265,
    "start_time": "2022-03-06T10:56:58.946Z"
   },
   {
    "duration": 264,
    "start_time": "2022-03-06T10:56:58.948Z"
   },
   {
    "duration": 15,
    "start_time": "2022-03-06T11:03:06.489Z"
   },
   {
    "duration": 14,
    "start_time": "2022-03-06T11:04:25.243Z"
   },
   {
    "duration": 2,
    "start_time": "2022-03-06T11:20:54.634Z"
   },
   {
    "duration": 46,
    "start_time": "2022-03-06T11:20:54.637Z"
   },
   {
    "duration": 10,
    "start_time": "2022-03-06T11:20:54.685Z"
   },
   {
    "duration": 13,
    "start_time": "2022-03-06T11:20:54.696Z"
   },
   {
    "duration": 8,
    "start_time": "2022-03-06T11:20:54.710Z"
   },
   {
    "duration": 4,
    "start_time": "2022-03-06T11:20:54.719Z"
   },
   {
    "duration": 4,
    "start_time": "2022-03-06T11:20:54.725Z"
   },
   {
    "duration": 13,
    "start_time": "2022-03-06T11:20:54.730Z"
   },
   {
    "duration": 11,
    "start_time": "2022-03-06T11:20:54.744Z"
   },
   {
    "duration": 6,
    "start_time": "2022-03-06T11:20:54.756Z"
   },
   {
    "duration": 4,
    "start_time": "2022-03-06T11:20:54.763Z"
   },
   {
    "duration": 37,
    "start_time": "2022-03-06T11:20:54.768Z"
   },
   {
    "duration": 3,
    "start_time": "2022-03-06T11:20:54.806Z"
   },
   {
    "duration": 8,
    "start_time": "2022-03-06T11:20:54.811Z"
   },
   {
    "duration": 11,
    "start_time": "2022-03-06T11:20:54.820Z"
   },
   {
    "duration": 9,
    "start_time": "2022-03-06T11:20:54.832Z"
   },
   {
    "duration": 9,
    "start_time": "2022-03-06T11:20:54.843Z"
   },
   {
    "duration": 14,
    "start_time": "2022-03-06T11:20:54.853Z"
   },
   {
    "duration": 43,
    "start_time": "2022-03-06T11:20:54.869Z"
   },
   {
    "duration": 24,
    "start_time": "2022-03-06T11:20:54.914Z"
   },
   {
    "duration": 16,
    "start_time": "2022-03-06T11:20:54.939Z"
   },
   {
    "duration": 12,
    "start_time": "2022-03-06T11:20:54.956Z"
   },
   {
    "duration": 45,
    "start_time": "2022-03-06T11:20:54.969Z"
   },
   {
    "duration": 18,
    "start_time": "2022-03-06T11:20:55.015Z"
   },
   {
    "duration": 16,
    "start_time": "2022-03-06T11:20:55.034Z"
   },
   {
    "duration": 16,
    "start_time": "2022-03-06T11:20:55.051Z"
   },
   {
    "duration": 14,
    "start_time": "2022-03-06T11:20:55.068Z"
   },
   {
    "duration": 29,
    "start_time": "2022-03-06T11:20:55.083Z"
   },
   {
    "duration": 14,
    "start_time": "2022-03-06T11:20:55.113Z"
   },
   {
    "duration": 10,
    "start_time": "2022-03-06T11:20:55.128Z"
   },
   {
    "duration": 7,
    "start_time": "2022-03-06T11:20:55.139Z"
   },
   {
    "duration": 14,
    "start_time": "2022-03-06T11:20:55.148Z"
   },
   {
    "duration": 8,
    "start_time": "2022-03-06T11:20:55.163Z"
   },
   {
    "duration": 40,
    "start_time": "2022-03-06T11:20:55.172Z"
   },
   {
    "duration": 8,
    "start_time": "2022-03-06T11:20:55.214Z"
   },
   {
    "duration": 14,
    "start_time": "2022-03-06T11:20:55.224Z"
   },
   {
    "duration": 14,
    "start_time": "2022-03-06T11:20:55.240Z"
   },
   {
    "duration": 17,
    "start_time": "2022-03-06T11:20:55.255Z"
   },
   {
    "duration": 34,
    "start_time": "2022-03-06T11:20:55.273Z"
   },
   {
    "duration": 11,
    "start_time": "2022-03-06T11:20:55.309Z"
   },
   {
    "duration": 5,
    "start_time": "2022-03-06T11:20:55.321Z"
   },
   {
    "duration": 9,
    "start_time": "2022-03-06T11:20:55.327Z"
   },
   {
    "duration": 8,
    "start_time": "2022-03-06T11:20:55.338Z"
   },
   {
    "duration": 9,
    "start_time": "2022-03-06T11:20:55.348Z"
   },
   {
    "duration": 10,
    "start_time": "2022-03-06T11:20:55.358Z"
   },
   {
    "duration": 39,
    "start_time": "2022-03-06T11:20:55.369Z"
   },
   {
    "duration": 12,
    "start_time": "2022-03-06T11:20:55.409Z"
   },
   {
    "duration": 10,
    "start_time": "2022-03-06T11:20:55.422Z"
   },
   {
    "duration": 10,
    "start_time": "2022-03-06T11:20:55.434Z"
   },
   {
    "duration": 2,
    "start_time": "2022-03-06T11:27:18.468Z"
   },
   {
    "duration": 57,
    "start_time": "2022-03-06T11:27:18.472Z"
   },
   {
    "duration": 11,
    "start_time": "2022-03-06T11:27:18.530Z"
   },
   {
    "duration": 13,
    "start_time": "2022-03-06T11:27:18.543Z"
   },
   {
    "duration": 9,
    "start_time": "2022-03-06T11:27:18.557Z"
   },
   {
    "duration": 5,
    "start_time": "2022-03-06T11:27:18.567Z"
   },
   {
    "duration": 34,
    "start_time": "2022-03-06T11:27:18.574Z"
   },
   {
    "duration": 10,
    "start_time": "2022-03-06T11:27:18.609Z"
   },
   {
    "duration": 15,
    "start_time": "2022-03-06T11:27:18.621Z"
   },
   {
    "duration": 4,
    "start_time": "2022-03-06T11:27:18.638Z"
   },
   {
    "duration": 5,
    "start_time": "2022-03-06T11:27:18.644Z"
   },
   {
    "duration": 6,
    "start_time": "2022-03-06T11:27:18.650Z"
   },
   {
    "duration": 6,
    "start_time": "2022-03-06T11:27:18.658Z"
   },
   {
    "duration": 10,
    "start_time": "2022-03-06T11:27:18.665Z"
   },
   {
    "duration": 36,
    "start_time": "2022-03-06T11:27:18.676Z"
   },
   {
    "duration": 10,
    "start_time": "2022-03-06T11:27:18.713Z"
   },
   {
    "duration": 9,
    "start_time": "2022-03-06T11:27:18.725Z"
   },
   {
    "duration": 15,
    "start_time": "2022-03-06T11:27:18.735Z"
   },
   {
    "duration": 9,
    "start_time": "2022-03-06T11:27:18.753Z"
   },
   {
    "duration": 52,
    "start_time": "2022-03-06T11:27:18.764Z"
   },
   {
    "duration": 15,
    "start_time": "2022-03-06T11:27:18.817Z"
   },
   {
    "duration": 11,
    "start_time": "2022-03-06T11:27:18.833Z"
   },
   {
    "duration": 25,
    "start_time": "2022-03-06T11:27:18.845Z"
   },
   {
    "duration": 35,
    "start_time": "2022-03-06T11:27:18.871Z"
   },
   {
    "duration": 17,
    "start_time": "2022-03-06T11:27:18.907Z"
   },
   {
    "duration": 15,
    "start_time": "2022-03-06T11:27:18.925Z"
   },
   {
    "duration": 12,
    "start_time": "2022-03-06T11:27:18.942Z"
   },
   {
    "duration": 9,
    "start_time": "2022-03-06T11:27:18.955Z"
   },
   {
    "duration": 40,
    "start_time": "2022-03-06T11:27:18.966Z"
   },
   {
    "duration": 11,
    "start_time": "2022-03-06T11:27:19.007Z"
   },
   {
    "duration": 9,
    "start_time": "2022-03-06T11:27:19.019Z"
   },
   {
    "duration": 11,
    "start_time": "2022-03-06T11:27:19.029Z"
   },
   {
    "duration": 7,
    "start_time": "2022-03-06T11:27:19.042Z"
   },
   {
    "duration": 7,
    "start_time": "2022-03-06T11:27:19.051Z"
   },
   {
    "duration": 8,
    "start_time": "2022-03-06T11:27:19.059Z"
   },
   {
    "duration": 41,
    "start_time": "2022-03-06T11:27:19.068Z"
   },
   {
    "duration": 13,
    "start_time": "2022-03-06T11:27:19.111Z"
   },
   {
    "duration": 15,
    "start_time": "2022-03-06T11:27:19.126Z"
   },
   {
    "duration": 13,
    "start_time": "2022-03-06T11:27:19.143Z"
   },
   {
    "duration": 14,
    "start_time": "2022-03-06T11:27:19.157Z"
   },
   {
    "duration": 5,
    "start_time": "2022-03-06T11:27:19.172Z"
   },
   {
    "duration": 36,
    "start_time": "2022-03-06T11:27:19.179Z"
   },
   {
    "duration": 10,
    "start_time": "2022-03-06T11:27:19.217Z"
   },
   {
    "duration": 11,
    "start_time": "2022-03-06T11:27:19.229Z"
   },
   {
    "duration": 12,
    "start_time": "2022-03-06T11:27:19.242Z"
   },
   {
    "duration": 7,
    "start_time": "2022-03-06T11:27:19.256Z"
   },
   {
    "duration": 47,
    "start_time": "2022-03-06T11:27:19.265Z"
   },
   {
    "duration": 12,
    "start_time": "2022-03-06T11:27:19.313Z"
   },
   {
    "duration": 13,
    "start_time": "2022-03-06T11:27:19.327Z"
   },
   {
    "duration": 80,
    "start_time": "2022-03-07T04:34:47.906Z"
   },
   {
    "duration": 15,
    "start_time": "2022-03-07T04:34:50.983Z"
   },
   {
    "duration": 5,
    "start_time": "2022-03-07T04:34:59.047Z"
   },
   {
    "duration": 5,
    "start_time": "2022-03-07T04:35:04.449Z"
   },
   {
    "duration": 735,
    "start_time": "2022-03-07T04:35:17.367Z"
   },
   {
    "duration": 56,
    "start_time": "2022-03-07T04:35:18.105Z"
   },
   {
    "duration": 27,
    "start_time": "2022-03-07T04:35:18.164Z"
   },
   {
    "duration": 14,
    "start_time": "2022-03-07T04:35:18.194Z"
   },
   {
    "duration": 11,
    "start_time": "2022-03-07T04:35:18.210Z"
   },
   {
    "duration": 6,
    "start_time": "2022-03-07T04:35:18.224Z"
   },
   {
    "duration": 8,
    "start_time": "2022-03-07T04:35:18.232Z"
   },
   {
    "duration": 18,
    "start_time": "2022-03-07T04:35:18.283Z"
   },
   {
    "duration": 26,
    "start_time": "2022-03-07T04:35:18.305Z"
   },
   {
    "duration": 9,
    "start_time": "2022-03-07T04:35:18.334Z"
   },
   {
    "duration": 7,
    "start_time": "2022-03-07T04:35:18.346Z"
   },
   {
    "duration": 29,
    "start_time": "2022-03-07T04:35:18.355Z"
   },
   {
    "duration": 14,
    "start_time": "2022-03-07T04:35:18.387Z"
   },
   {
    "duration": 53,
    "start_time": "2022-03-07T04:35:18.404Z"
   },
   {
    "duration": 22,
    "start_time": "2022-03-07T04:35:18.459Z"
   },
   {
    "duration": 20,
    "start_time": "2022-03-07T04:35:18.483Z"
   },
   {
    "duration": 21,
    "start_time": "2022-03-07T04:35:18.505Z"
   },
   {
    "duration": 23,
    "start_time": "2022-03-07T04:35:18.529Z"
   },
   {
    "duration": 40,
    "start_time": "2022-03-07T04:35:18.555Z"
   },
   {
    "duration": 34,
    "start_time": "2022-03-07T04:35:18.597Z"
   },
   {
    "duration": 23,
    "start_time": "2022-03-07T04:35:18.633Z"
   },
   {
    "duration": 37,
    "start_time": "2022-03-07T04:35:18.659Z"
   },
   {
    "duration": 31,
    "start_time": "2022-03-07T04:35:18.699Z"
   },
   {
    "duration": 56,
    "start_time": "2022-03-07T04:35:18.733Z"
   },
   {
    "duration": 27,
    "start_time": "2022-03-07T04:35:18.792Z"
   },
   {
    "duration": 25,
    "start_time": "2022-03-07T04:35:18.822Z"
   },
   {
    "duration": 52,
    "start_time": "2022-03-07T04:35:18.853Z"
   },
   {
    "duration": 18,
    "start_time": "2022-03-07T04:35:18.908Z"
   },
   {
    "duration": 54,
    "start_time": "2022-03-07T04:35:18.928Z"
   },
   {
    "duration": 23,
    "start_time": "2022-03-07T04:35:18.984Z"
   },
   {
    "duration": 13,
    "start_time": "2022-03-07T04:35:19.009Z"
   },
   {
    "duration": 18,
    "start_time": "2022-03-07T04:35:19.024Z"
   },
   {
    "duration": 45,
    "start_time": "2022-03-07T04:35:19.044Z"
   },
   {
    "duration": 13,
    "start_time": "2022-03-07T04:35:19.092Z"
   },
   {
    "duration": 14,
    "start_time": "2022-03-07T04:35:19.107Z"
   },
   {
    "duration": 25,
    "start_time": "2022-03-07T04:35:19.123Z"
   },
   {
    "duration": 47,
    "start_time": "2022-03-07T04:35:19.151Z"
   },
   {
    "duration": 30,
    "start_time": "2022-03-07T04:35:19.201Z"
   },
   {
    "duration": 48,
    "start_time": "2022-03-07T04:35:19.233Z"
   },
   {
    "duration": 5,
    "start_time": "2022-03-07T04:35:30.000Z"
   },
   {
    "duration": 5,
    "start_time": "2022-03-07T04:35:38.142Z"
   },
   {
    "duration": 7,
    "start_time": "2022-03-07T04:35:55.862Z"
   },
   {
    "duration": 5,
    "start_time": "2022-03-07T04:37:00.342Z"
   },
   {
    "duration": 6,
    "start_time": "2022-03-07T04:37:05.973Z"
   },
   {
    "duration": 7,
    "start_time": "2022-03-07T04:37:21.835Z"
   },
   {
    "duration": 3,
    "start_time": "2022-03-07T04:40:47.400Z"
   },
   {
    "duration": 86,
    "start_time": "2022-03-07T04:40:47.406Z"
   },
   {
    "duration": 17,
    "start_time": "2022-03-07T04:40:47.495Z"
   },
   {
    "duration": 17,
    "start_time": "2022-03-07T04:40:47.515Z"
   },
   {
    "duration": 11,
    "start_time": "2022-03-07T04:40:47.535Z"
   },
   {
    "duration": 33,
    "start_time": "2022-03-07T04:40:47.549Z"
   },
   {
    "duration": 6,
    "start_time": "2022-03-07T04:40:47.585Z"
   },
   {
    "duration": 16,
    "start_time": "2022-03-07T04:40:47.593Z"
   },
   {
    "duration": 17,
    "start_time": "2022-03-07T04:40:47.613Z"
   },
   {
    "duration": 49,
    "start_time": "2022-03-07T04:40:47.633Z"
   },
   {
    "duration": 5,
    "start_time": "2022-03-07T04:40:47.684Z"
   },
   {
    "duration": 6,
    "start_time": "2022-03-07T04:40:47.692Z"
   },
   {
    "duration": 5,
    "start_time": "2022-03-07T04:40:47.701Z"
   },
   {
    "duration": 14,
    "start_time": "2022-03-07T04:40:47.709Z"
   },
   {
    "duration": 61,
    "start_time": "2022-03-07T04:40:47.726Z"
   },
   {
    "duration": 21,
    "start_time": "2022-03-07T04:40:47.790Z"
   },
   {
    "duration": 16,
    "start_time": "2022-03-07T04:40:47.814Z"
   },
   {
    "duration": 65,
    "start_time": "2022-03-07T04:40:47.833Z"
   },
   {
    "duration": 17,
    "start_time": "2022-03-07T04:40:47.901Z"
   },
   {
    "duration": 63,
    "start_time": "2022-03-07T04:40:47.921Z"
   },
   {
    "duration": 25,
    "start_time": "2022-03-07T04:40:47.986Z"
   },
   {
    "duration": 18,
    "start_time": "2022-03-07T04:40:48.013Z"
   },
   {
    "duration": 61,
    "start_time": "2022-03-07T04:40:48.033Z"
   },
   {
    "duration": 28,
    "start_time": "2022-03-07T04:40:48.097Z"
   },
   {
    "duration": 25,
    "start_time": "2022-03-07T04:40:48.128Z"
   },
   {
    "duration": 50,
    "start_time": "2022-03-07T04:40:48.156Z"
   },
   {
    "duration": 21,
    "start_time": "2022-03-07T04:40:48.213Z"
   },
   {
    "duration": 49,
    "start_time": "2022-03-07T04:40:48.238Z"
   },
   {
    "duration": 26,
    "start_time": "2022-03-07T04:40:48.289Z"
   },
   {
    "duration": 70,
    "start_time": "2022-03-07T04:40:48.317Z"
   },
   {
    "duration": 14,
    "start_time": "2022-03-07T04:40:48.389Z"
   },
   {
    "duration": 18,
    "start_time": "2022-03-07T04:40:48.406Z"
   },
   {
    "duration": 14,
    "start_time": "2022-03-07T04:40:48.482Z"
   },
   {
    "duration": 12,
    "start_time": "2022-03-07T04:40:48.499Z"
   },
   {
    "duration": 13,
    "start_time": "2022-03-07T04:40:48.513Z"
   },
   {
    "duration": 15,
    "start_time": "2022-03-07T04:40:48.583Z"
   },
   {
    "duration": 24,
    "start_time": "2022-03-07T04:40:48.600Z"
   },
   {
    "duration": 29,
    "start_time": "2022-03-07T04:40:48.682Z"
   },
   {
    "duration": 72,
    "start_time": "2022-03-07T04:40:48.713Z"
   },
   {
    "duration": 10,
    "start_time": "2022-03-07T04:40:48.787Z"
   },
   {
    "duration": 5,
    "start_time": "2022-03-07T04:40:48.799Z"
   },
   {
    "duration": 7,
    "start_time": "2022-03-07T04:40:48.807Z"
   },
   {
    "duration": 81,
    "start_time": "2022-03-07T04:40:48.816Z"
   },
   {
    "duration": 9,
    "start_time": "2022-03-07T04:40:48.900Z"
   },
   {
    "duration": 77,
    "start_time": "2022-03-07T04:40:48.912Z"
   },
   {
    "duration": 25,
    "start_time": "2022-03-07T04:40:48.992Z"
   },
   {
    "duration": 76,
    "start_time": "2022-03-07T04:40:49.019Z"
   },
   {
    "duration": 19,
    "start_time": "2022-03-07T04:40:49.098Z"
   },
   {
    "duration": 68,
    "start_time": "2022-03-07T04:40:49.120Z"
   },
   {
    "duration": 22,
    "start_time": "2022-03-07T04:40:49.190Z"
   },
   {
    "duration": 70,
    "start_time": "2022-03-07T04:40:49.214Z"
   },
   {
    "duration": 22,
    "start_time": "2022-03-07T04:40:49.287Z"
   },
   {
    "duration": 20,
    "start_time": "2022-03-07T04:41:48.145Z"
   },
   {
    "duration": 20,
    "start_time": "2022-03-07T04:41:48.335Z"
   },
   {
    "duration": 619,
    "start_time": "2022-03-07T10:36:41.680Z"
   },
   {
    "duration": 62,
    "start_time": "2022-03-07T10:36:42.301Z"
   },
   {
    "duration": 19,
    "start_time": "2022-03-07T10:36:42.365Z"
   },
   {
    "duration": 11,
    "start_time": "2022-03-07T10:36:42.386Z"
   },
   {
    "duration": 10,
    "start_time": "2022-03-07T10:36:42.398Z"
   },
   {
    "duration": 7,
    "start_time": "2022-03-07T10:36:42.409Z"
   },
   {
    "duration": 7,
    "start_time": "2022-03-07T10:36:42.418Z"
   },
   {
    "duration": 14,
    "start_time": "2022-03-07T10:36:42.427Z"
   },
   {
    "duration": 38,
    "start_time": "2022-03-07T10:36:42.443Z"
   },
   {
    "duration": 5,
    "start_time": "2022-03-07T10:36:42.483Z"
   },
   {
    "duration": 5,
    "start_time": "2022-03-07T10:36:42.490Z"
   },
   {
    "duration": 7,
    "start_time": "2022-03-07T10:36:42.497Z"
   },
   {
    "duration": 5,
    "start_time": "2022-03-07T10:36:42.506Z"
   },
   {
    "duration": 12,
    "start_time": "2022-03-07T10:36:42.513Z"
   },
   {
    "duration": 13,
    "start_time": "2022-03-07T10:36:42.527Z"
   },
   {
    "duration": 46,
    "start_time": "2022-03-07T10:36:42.542Z"
   },
   {
    "duration": 12,
    "start_time": "2022-03-07T10:36:42.590Z"
   },
   {
    "duration": 17,
    "start_time": "2022-03-07T10:36:42.604Z"
   },
   {
    "duration": 12,
    "start_time": "2022-03-07T10:36:42.623Z"
   },
   {
    "duration": 60,
    "start_time": "2022-03-07T10:36:42.637Z"
   },
   {
    "duration": 18,
    "start_time": "2022-03-07T10:36:42.698Z"
   },
   {
    "duration": 14,
    "start_time": "2022-03-07T10:36:42.718Z"
   },
   {
    "duration": 43,
    "start_time": "2022-03-07T10:36:42.736Z"
   },
   {
    "duration": 22,
    "start_time": "2022-03-07T10:36:42.781Z"
   },
   {
    "duration": 20,
    "start_time": "2022-03-07T10:36:42.805Z"
   },
   {
    "duration": 20,
    "start_time": "2022-03-07T10:36:42.826Z"
   },
   {
    "duration": 42,
    "start_time": "2022-03-07T10:36:42.847Z"
   },
   {
    "duration": 10,
    "start_time": "2022-03-07T10:36:42.891Z"
   },
   {
    "duration": 19,
    "start_time": "2022-03-07T10:36:42.903Z"
   },
   {
    "duration": 14,
    "start_time": "2022-03-07T10:36:42.924Z"
   },
   {
    "duration": 39,
    "start_time": "2022-03-07T10:36:42.939Z"
   },
   {
    "duration": 13,
    "start_time": "2022-03-07T10:36:42.980Z"
   },
   {
    "duration": 10,
    "start_time": "2022-03-07T10:36:42.995Z"
   },
   {
    "duration": 10,
    "start_time": "2022-03-07T10:36:43.006Z"
   },
   {
    "duration": 10,
    "start_time": "2022-03-07T10:36:43.018Z"
   },
   {
    "duration": 11,
    "start_time": "2022-03-07T10:36:43.029Z"
   },
   {
    "duration": 18,
    "start_time": "2022-03-07T10:36:43.077Z"
   },
   {
    "duration": 25,
    "start_time": "2022-03-07T10:36:43.097Z"
   },
   {
    "duration": 13,
    "start_time": "2022-03-07T10:36:43.124Z"
   },
   {
    "duration": 12,
    "start_time": "2022-03-07T10:36:43.139Z"
   },
   {
    "duration": 40,
    "start_time": "2022-03-07T10:36:43.153Z"
   },
   {
    "duration": 20,
    "start_time": "2022-03-07T10:36:43.195Z"
   },
   {
    "duration": 5,
    "start_time": "2022-03-07T10:36:43.217Z"
   },
   {
    "duration": 5,
    "start_time": "2022-03-07T10:36:43.223Z"
   },
   {
    "duration": 6,
    "start_time": "2022-03-07T10:36:43.229Z"
   },
   {
    "duration": 42,
    "start_time": "2022-03-07T10:36:43.237Z"
   },
   {
    "duration": 5,
    "start_time": "2022-03-07T10:36:43.280Z"
   },
   {
    "duration": 15,
    "start_time": "2022-03-07T10:36:43.287Z"
   },
   {
    "duration": 13,
    "start_time": "2022-03-07T10:36:43.304Z"
   },
   {
    "duration": 12,
    "start_time": "2022-03-07T10:36:43.319Z"
   },
   {
    "duration": 45,
    "start_time": "2022-03-07T10:36:43.333Z"
   },
   {
    "duration": 13,
    "start_time": "2022-03-07T10:36:43.380Z"
   },
   {
    "duration": 13,
    "start_time": "2022-03-07T10:36:43.394Z"
   },
   {
    "duration": 7,
    "start_time": "2022-03-07T10:36:43.409Z"
   },
   {
    "duration": 18,
    "start_time": "2022-03-07T10:36:43.418Z"
   },
   {
    "duration": 46,
    "start_time": "2022-03-07T10:36:43.438Z"
   },
   {
    "duration": 14,
    "start_time": "2022-03-07T10:36:43.486Z"
   },
   {
    "duration": 8,
    "start_time": "2022-03-07T12:07:09.071Z"
   },
   {
    "duration": 7,
    "start_time": "2022-03-07T12:07:41.784Z"
   },
   {
    "duration": 8,
    "start_time": "2022-03-07T12:07:43.535Z"
   },
   {
    "duration": 8,
    "start_time": "2022-03-07T12:08:48.137Z"
   },
   {
    "duration": 8,
    "start_time": "2022-03-07T12:08:50.769Z"
   },
   {
    "duration": 3,
    "start_time": "2022-03-07T16:30:55.307Z"
   },
   {
    "duration": 56,
    "start_time": "2022-03-07T16:30:55.312Z"
   },
   {
    "duration": 19,
    "start_time": "2022-03-07T16:30:55.370Z"
   },
   {
    "duration": 14,
    "start_time": "2022-03-07T16:30:55.392Z"
   },
   {
    "duration": 16,
    "start_time": "2022-03-07T16:30:55.408Z"
   },
   {
    "duration": 7,
    "start_time": "2022-03-07T16:30:55.426Z"
   },
   {
    "duration": 6,
    "start_time": "2022-03-07T16:30:55.435Z"
   },
   {
    "duration": 46,
    "start_time": "2022-03-07T16:30:55.443Z"
   },
   {
    "duration": 13,
    "start_time": "2022-03-07T16:30:55.491Z"
   },
   {
    "duration": 26,
    "start_time": "2022-03-07T16:30:55.506Z"
   },
   {
    "duration": 7,
    "start_time": "2022-03-07T16:30:55.534Z"
   },
   {
    "duration": 6,
    "start_time": "2022-03-07T16:30:55.542Z"
   },
   {
    "duration": 7,
    "start_time": "2022-03-07T16:30:55.550Z"
   },
   {
    "duration": 25,
    "start_time": "2022-03-07T16:30:55.559Z"
   },
   {
    "duration": 15,
    "start_time": "2022-03-07T16:30:55.586Z"
   },
   {
    "duration": 12,
    "start_time": "2022-03-07T16:30:55.602Z"
   },
   {
    "duration": 13,
    "start_time": "2022-03-07T16:30:55.616Z"
   },
   {
    "duration": 48,
    "start_time": "2022-03-07T16:30:55.630Z"
   },
   {
    "duration": 13,
    "start_time": "2022-03-07T16:30:55.682Z"
   },
   {
    "duration": 32,
    "start_time": "2022-03-07T16:30:55.698Z"
   },
   {
    "duration": 18,
    "start_time": "2022-03-07T16:30:55.732Z"
   },
   {
    "duration": 36,
    "start_time": "2022-03-07T16:30:55.751Z"
   },
   {
    "duration": 26,
    "start_time": "2022-03-07T16:30:55.789Z"
   },
   {
    "duration": 22,
    "start_time": "2022-03-07T16:30:55.818Z"
   },
   {
    "duration": 48,
    "start_time": "2022-03-07T16:30:55.842Z"
   },
   {
    "duration": 21,
    "start_time": "2022-03-07T16:30:55.893Z"
   },
   {
    "duration": 17,
    "start_time": "2022-03-07T16:30:55.916Z"
   },
   {
    "duration": 12,
    "start_time": "2022-03-07T16:30:55.935Z"
   },
   {
    "duration": 22,
    "start_time": "2022-03-07T16:30:55.978Z"
   },
   {
    "duration": 13,
    "start_time": "2022-03-07T16:30:56.002Z"
   },
   {
    "duration": 12,
    "start_time": "2022-03-07T16:30:56.017Z"
   },
   {
    "duration": 16,
    "start_time": "2022-03-07T16:30:56.031Z"
   },
   {
    "duration": 42,
    "start_time": "2022-03-07T16:30:56.049Z"
   },
   {
    "duration": 13,
    "start_time": "2022-03-07T16:30:56.093Z"
   },
   {
    "duration": 12,
    "start_time": "2022-03-07T16:30:56.108Z"
   },
   {
    "duration": 12,
    "start_time": "2022-03-07T16:30:56.121Z"
   },
   {
    "duration": 55,
    "start_time": "2022-03-07T16:30:56.134Z"
   },
   {
    "duration": 10,
    "start_time": "2022-03-07T16:30:56.191Z"
   },
   {
    "duration": 7,
    "start_time": "2022-03-07T16:30:56.204Z"
   },
   {
    "duration": 7,
    "start_time": "2022-03-07T16:30:56.213Z"
   },
   {
    "duration": 16,
    "start_time": "2022-03-07T16:30:56.222Z"
   },
   {
    "duration": 6,
    "start_time": "2022-03-07T16:30:56.240Z"
   },
   {
    "duration": 31,
    "start_time": "2022-03-07T16:30:56.248Z"
   },
   {
    "duration": 28,
    "start_time": "2022-03-07T16:30:56.282Z"
   },
   {
    "duration": 22,
    "start_time": "2022-03-07T16:30:56.312Z"
   },
   {
    "duration": 5,
    "start_time": "2022-03-07T16:30:56.335Z"
   },
   {
    "duration": 5,
    "start_time": "2022-03-07T16:30:56.341Z"
   },
   {
    "duration": 30,
    "start_time": "2022-03-07T16:30:56.348Z"
   },
   {
    "duration": 19,
    "start_time": "2022-03-07T16:30:56.381Z"
   },
   {
    "duration": 6,
    "start_time": "2022-03-07T16:30:56.402Z"
   },
   {
    "duration": 19,
    "start_time": "2022-03-07T16:30:56.409Z"
   },
   {
    "duration": 14,
    "start_time": "2022-03-07T16:30:56.430Z"
   },
   {
    "duration": 47,
    "start_time": "2022-03-07T16:30:56.446Z"
   },
   {
    "duration": 13,
    "start_time": "2022-03-07T16:30:56.495Z"
   },
   {
    "duration": 14,
    "start_time": "2022-03-07T16:30:56.513Z"
   },
   {
    "duration": 13,
    "start_time": "2022-03-07T16:30:56.529Z"
   },
   {
    "duration": 38,
    "start_time": "2022-03-07T16:30:56.543Z"
   },
   {
    "duration": 23,
    "start_time": "2022-03-07T16:30:56.584Z"
   },
   {
    "duration": 14,
    "start_time": "2022-03-07T16:30:56.609Z"
   },
   {
    "duration": 15,
    "start_time": "2022-03-07T16:30:56.625Z"
   },
   {
    "duration": 5,
    "start_time": "2022-03-07T16:54:52.855Z"
   },
   {
    "duration": 18,
    "start_time": "2022-03-07T16:55:18.714Z"
   },
   {
    "duration": 18,
    "start_time": "2022-03-07T16:55:29.465Z"
   },
   {
    "duration": 18,
    "start_time": "2022-03-07T16:55:42.162Z"
   },
   {
    "duration": 19,
    "start_time": "2022-03-07T16:55:47.722Z"
   },
   {
    "duration": 22,
    "start_time": "2022-03-07T16:56:01.971Z"
   },
   {
    "duration": 21,
    "start_time": "2022-03-07T17:02:46.414Z"
   },
   {
    "duration": 20,
    "start_time": "2022-03-07T17:03:02.213Z"
   },
   {
    "duration": 20,
    "start_time": "2022-03-07T17:03:18.886Z"
   },
   {
    "duration": 4,
    "start_time": "2022-03-07T17:09:25.585Z"
   },
   {
    "duration": 5,
    "start_time": "2022-03-07T17:09:28.537Z"
   },
   {
    "duration": 4,
    "start_time": "2022-03-07T17:09:32.306Z"
   },
   {
    "duration": 4,
    "start_time": "2022-03-07T17:09:46.090Z"
   },
   {
    "duration": 4,
    "start_time": "2022-03-07T17:09:50.858Z"
   },
   {
    "duration": 4,
    "start_time": "2022-03-07T17:10:06.051Z"
   },
   {
    "duration": 6,
    "start_time": "2022-03-07T17:12:43.649Z"
   },
   {
    "duration": 3,
    "start_time": "2022-03-07T17:12:52.752Z"
   },
   {
    "duration": 3,
    "start_time": "2022-03-07T17:14:43.859Z"
   },
   {
    "duration": 56,
    "start_time": "2022-03-07T17:14:43.864Z"
   },
   {
    "duration": 14,
    "start_time": "2022-03-07T17:14:43.922Z"
   },
   {
    "duration": 14,
    "start_time": "2022-03-07T17:14:43.938Z"
   },
   {
    "duration": 13,
    "start_time": "2022-03-07T17:14:43.977Z"
   },
   {
    "duration": 7,
    "start_time": "2022-03-07T17:14:43.992Z"
   },
   {
    "duration": 8,
    "start_time": "2022-03-07T17:14:44.003Z"
   },
   {
    "duration": 14,
    "start_time": "2022-03-07T17:14:44.013Z"
   },
   {
    "duration": 63,
    "start_time": "2022-03-07T17:14:44.028Z"
   },
   {
    "duration": 6,
    "start_time": "2022-03-07T17:14:44.093Z"
   },
   {
    "duration": 6,
    "start_time": "2022-03-07T17:14:44.101Z"
   },
   {
    "duration": 4,
    "start_time": "2022-03-07T17:14:44.109Z"
   },
   {
    "duration": 17,
    "start_time": "2022-03-07T17:14:44.114Z"
   },
   {
    "duration": 15,
    "start_time": "2022-03-07T17:14:44.132Z"
   },
   {
    "duration": 39,
    "start_time": "2022-03-07T17:14:44.149Z"
   },
   {
    "duration": 13,
    "start_time": "2022-03-07T17:14:44.190Z"
   },
   {
    "duration": 12,
    "start_time": "2022-03-07T17:14:44.204Z"
   },
   {
    "duration": 16,
    "start_time": "2022-03-07T17:14:44.218Z"
   },
   {
    "duration": 39,
    "start_time": "2022-03-07T17:14:44.238Z"
   },
   {
    "duration": 41,
    "start_time": "2022-03-07T17:14:44.281Z"
   },
   {
    "duration": 18,
    "start_time": "2022-03-07T17:14:44.323Z"
   },
   {
    "duration": 36,
    "start_time": "2022-03-07T17:14:44.342Z"
   },
   {
    "duration": 30,
    "start_time": "2022-03-07T17:14:44.380Z"
   },
   {
    "duration": 23,
    "start_time": "2022-03-07T17:14:44.413Z"
   },
   {
    "duration": 41,
    "start_time": "2022-03-07T17:14:44.438Z"
   },
   {
    "duration": 21,
    "start_time": "2022-03-07T17:14:44.481Z"
   },
   {
    "duration": 18,
    "start_time": "2022-03-07T17:14:44.504Z"
   },
   {
    "duration": 11,
    "start_time": "2022-03-07T17:14:44.524Z"
   },
   {
    "duration": 53,
    "start_time": "2022-03-07T17:14:44.538Z"
   },
   {
    "duration": 14,
    "start_time": "2022-03-07T17:14:44.593Z"
   },
   {
    "duration": 10,
    "start_time": "2022-03-07T17:14:44.609Z"
   },
   {
    "duration": 21,
    "start_time": "2022-03-07T17:14:44.620Z"
   },
   {
    "duration": 44,
    "start_time": "2022-03-07T17:14:44.643Z"
   },
   {
    "duration": 18,
    "start_time": "2022-03-07T17:14:44.689Z"
   },
   {
    "duration": 11,
    "start_time": "2022-03-07T17:14:44.709Z"
   },
   {
    "duration": 11,
    "start_time": "2022-03-07T17:14:44.722Z"
   },
   {
    "duration": 51,
    "start_time": "2022-03-07T17:14:44.735Z"
   },
   {
    "duration": 9,
    "start_time": "2022-03-07T17:14:44.788Z"
   },
   {
    "duration": 8,
    "start_time": "2022-03-07T17:14:44.798Z"
   },
   {
    "duration": 7,
    "start_time": "2022-03-07T17:14:44.807Z"
   },
   {
    "duration": 8,
    "start_time": "2022-03-07T17:14:44.816Z"
   },
   {
    "duration": 8,
    "start_time": "2022-03-07T17:14:44.826Z"
   },
   {
    "duration": 9,
    "start_time": "2022-03-07T17:14:44.836Z"
   },
   {
    "duration": 21,
    "start_time": "2022-03-07T17:14:44.878Z"
   },
   {
    "duration": 20,
    "start_time": "2022-03-07T17:14:44.901Z"
   },
   {
    "duration": 23,
    "start_time": "2022-03-07T17:14:44.922Z"
   },
   {
    "duration": 35,
    "start_time": "2022-03-07T17:14:44.948Z"
   },
   {
    "duration": 5,
    "start_time": "2022-03-07T17:14:44.986Z"
   },
   {
    "duration": 12,
    "start_time": "2022-03-07T17:14:44.993Z"
   },
   {
    "duration": 4,
    "start_time": "2022-03-07T17:14:45.007Z"
   },
   {
    "duration": 28,
    "start_time": "2022-03-07T17:14:45.013Z"
   },
   {
    "duration": 34,
    "start_time": "2022-03-07T17:14:45.043Z"
   },
   {
    "duration": 16,
    "start_time": "2022-03-07T17:14:45.079Z"
   },
   {
    "duration": 14,
    "start_time": "2022-03-07T17:14:45.097Z"
   },
   {
    "duration": 13,
    "start_time": "2022-03-07T17:14:45.117Z"
   },
   {
    "duration": 48,
    "start_time": "2022-03-07T17:14:45.132Z"
   },
   {
    "duration": 19,
    "start_time": "2022-03-07T17:14:45.182Z"
   },
   {
    "duration": 15,
    "start_time": "2022-03-07T17:14:45.203Z"
   },
   {
    "duration": 8,
    "start_time": "2022-03-07T17:14:45.220Z"
   },
   {
    "duration": 14,
    "start_time": "2022-03-07T17:14:45.230Z"
   },
   {
    "duration": 23,
    "start_time": "2022-03-07T17:14:45.279Z"
   },
   {
    "duration": 22,
    "start_time": "2022-03-07T17:14:45.304Z"
   },
   {
    "duration": 4,
    "start_time": "2022-03-07T17:15:04.765Z"
   },
   {
    "duration": 68,
    "start_time": "2022-03-07T17:15:19.797Z"
   },
   {
    "duration": 4,
    "start_time": "2022-03-07T17:15:22.941Z"
   },
   {
    "duration": 4,
    "start_time": "2022-03-07T17:15:30.053Z"
   },
   {
    "duration": 4,
    "start_time": "2022-03-07T17:15:37.734Z"
   },
   {
    "duration": 4,
    "start_time": "2022-03-07T17:16:23.280Z"
   },
   {
    "duration": 4,
    "start_time": "2022-03-07T17:16:29.647Z"
   },
   {
    "duration": 4,
    "start_time": "2022-03-07T17:16:34.711Z"
   },
   {
    "duration": 3,
    "start_time": "2022-03-07T17:17:00.173Z"
   },
   {
    "duration": 63,
    "start_time": "2022-03-07T17:17:00.178Z"
   },
   {
    "duration": 14,
    "start_time": "2022-03-07T17:17:00.243Z"
   },
   {
    "duration": 28,
    "start_time": "2022-03-07T17:17:00.259Z"
   },
   {
    "duration": 26,
    "start_time": "2022-03-07T17:17:00.289Z"
   },
   {
    "duration": 28,
    "start_time": "2022-03-07T17:17:00.317Z"
   },
   {
    "duration": 19,
    "start_time": "2022-03-07T17:17:00.348Z"
   },
   {
    "duration": 32,
    "start_time": "2022-03-07T17:17:00.369Z"
   },
   {
    "duration": 31,
    "start_time": "2022-03-07T17:17:00.402Z"
   },
   {
    "duration": 16,
    "start_time": "2022-03-07T17:17:00.434Z"
   },
   {
    "duration": 19,
    "start_time": "2022-03-07T17:17:00.452Z"
   },
   {
    "duration": 21,
    "start_time": "2022-03-07T17:17:00.473Z"
   },
   {
    "duration": 18,
    "start_time": "2022-03-07T17:17:00.496Z"
   },
   {
    "duration": 33,
    "start_time": "2022-03-07T17:17:00.516Z"
   },
   {
    "duration": 25,
    "start_time": "2022-03-07T17:17:00.551Z"
   },
   {
    "duration": 30,
    "start_time": "2022-03-07T17:17:00.577Z"
   },
   {
    "duration": 22,
    "start_time": "2022-03-07T17:17:00.609Z"
   },
   {
    "duration": 24,
    "start_time": "2022-03-07T17:17:00.633Z"
   },
   {
    "duration": 22,
    "start_time": "2022-03-07T17:17:00.661Z"
   },
   {
    "duration": 43,
    "start_time": "2022-03-07T17:17:00.686Z"
   },
   {
    "duration": 20,
    "start_time": "2022-03-07T17:17:00.731Z"
   },
   {
    "duration": 35,
    "start_time": "2022-03-07T17:17:00.753Z"
   },
   {
    "duration": 45,
    "start_time": "2022-03-07T17:17:00.791Z"
   },
   {
    "duration": 47,
    "start_time": "2022-03-07T17:17:00.839Z"
   },
   {
    "duration": 35,
    "start_time": "2022-03-07T17:17:00.888Z"
   },
   {
    "duration": 49,
    "start_time": "2022-03-07T17:17:00.926Z"
   },
   {
    "duration": 29,
    "start_time": "2022-03-07T17:17:00.977Z"
   },
   {
    "duration": 16,
    "start_time": "2022-03-07T17:17:01.007Z"
   },
   {
    "duration": 30,
    "start_time": "2022-03-07T17:17:01.025Z"
   },
   {
    "duration": 27,
    "start_time": "2022-03-07T17:17:01.057Z"
   },
   {
    "duration": 36,
    "start_time": "2022-03-07T17:17:01.086Z"
   },
   {
    "duration": 17,
    "start_time": "2022-03-07T17:17:01.124Z"
   },
   {
    "duration": 15,
    "start_time": "2022-03-07T17:17:01.143Z"
   },
   {
    "duration": 16,
    "start_time": "2022-03-07T17:17:01.160Z"
   },
   {
    "duration": 19,
    "start_time": "2022-03-07T17:17:01.178Z"
   },
   {
    "duration": 26,
    "start_time": "2022-03-07T17:17:01.199Z"
   },
   {
    "duration": 23,
    "start_time": "2022-03-07T17:17:01.227Z"
   },
   {
    "duration": 32,
    "start_time": "2022-03-07T17:17:01.252Z"
   },
   {
    "duration": 11,
    "start_time": "2022-03-07T17:17:01.286Z"
   },
   {
    "duration": 12,
    "start_time": "2022-03-07T17:17:01.299Z"
   },
   {
    "duration": 29,
    "start_time": "2022-03-07T17:17:01.313Z"
   },
   {
    "duration": 18,
    "start_time": "2022-03-07T17:17:01.343Z"
   },
   {
    "duration": 36,
    "start_time": "2022-03-07T17:17:01.363Z"
   },
   {
    "duration": 50,
    "start_time": "2022-03-07T17:17:01.401Z"
   },
   {
    "duration": 41,
    "start_time": "2022-03-07T17:17:01.453Z"
   },
   {
    "duration": 60,
    "start_time": "2022-03-07T17:17:01.496Z"
   },
   {
    "duration": 23,
    "start_time": "2022-03-07T17:17:01.558Z"
   },
   {
    "duration": 31,
    "start_time": "2022-03-07T17:17:01.583Z"
   },
   {
    "duration": 32,
    "start_time": "2022-03-07T17:17:01.616Z"
   },
   {
    "duration": 28,
    "start_time": "2022-03-07T17:17:01.650Z"
   },
   {
    "duration": 29,
    "start_time": "2022-03-07T17:17:01.680Z"
   },
   {
    "duration": 24,
    "start_time": "2022-03-07T17:17:01.711Z"
   },
   {
    "duration": 18,
    "start_time": "2022-03-07T17:17:01.736Z"
   },
   {
    "duration": 31,
    "start_time": "2022-03-07T17:17:01.756Z"
   },
   {
    "duration": 20,
    "start_time": "2022-03-07T17:17:01.793Z"
   },
   {
    "duration": 16,
    "start_time": "2022-03-07T17:17:01.816Z"
   },
   {
    "duration": 22,
    "start_time": "2022-03-07T17:17:01.834Z"
   },
   {
    "duration": 26,
    "start_time": "2022-03-07T17:17:01.858Z"
   },
   {
    "duration": 61,
    "start_time": "2022-03-07T17:17:01.886Z"
   },
   {
    "duration": 35,
    "start_time": "2022-03-07T17:17:01.949Z"
   },
   {
    "duration": 32,
    "start_time": "2022-03-07T17:17:01.986Z"
   },
   {
    "duration": 16,
    "start_time": "2022-03-08T09:35:57.459Z"
   },
   {
    "duration": 5,
    "start_time": "2022-03-08T09:36:45.205Z"
   },
   {
    "duration": 5,
    "start_time": "2022-03-08T09:36:56.828Z"
   },
   {
    "duration": 81,
    "start_time": "2022-03-08T09:37:12.241Z"
   },
   {
    "duration": 6,
    "start_time": "2022-03-08T09:37:21.979Z"
   },
   {
    "duration": 4,
    "start_time": "2022-03-08T09:37:43.114Z"
   },
   {
    "duration": 3,
    "start_time": "2022-03-08T09:37:46.363Z"
   },
   {
    "duration": 5,
    "start_time": "2022-03-08T09:37:50.353Z"
   },
   {
    "duration": 6,
    "start_time": "2022-03-08T09:37:59.439Z"
   },
   {
    "duration": 6,
    "start_time": "2022-03-08T09:42:24.271Z"
   },
   {
    "duration": 5,
    "start_time": "2022-03-08T09:42:33.890Z"
   },
   {
    "duration": 5,
    "start_time": "2022-03-08T09:42:35.763Z"
   },
   {
    "duration": 77,
    "start_time": "2022-03-08T09:42:42.596Z"
   },
   {
    "duration": 5,
    "start_time": "2022-03-08T09:42:45.197Z"
   },
   {
    "duration": 6,
    "start_time": "2022-03-08T09:43:08.459Z"
   },
   {
    "duration": 7,
    "start_time": "2022-03-08T09:43:47.756Z"
   },
   {
    "duration": 5,
    "start_time": "2022-03-08T09:43:48.360Z"
   },
   {
    "duration": 5,
    "start_time": "2022-03-08T09:43:50.024Z"
   },
   {
    "duration": 5,
    "start_time": "2022-03-08T09:43:50.894Z"
   },
   {
    "duration": 5,
    "start_time": "2022-03-08T09:44:04.036Z"
   },
   {
    "duration": 6,
    "start_time": "2022-03-08T09:44:06.809Z"
   },
   {
    "duration": 6,
    "start_time": "2022-03-08T09:44:21.685Z"
   },
   {
    "duration": 5,
    "start_time": "2022-03-08T09:44:22.114Z"
   },
   {
    "duration": 5,
    "start_time": "2022-03-08T09:44:50.474Z"
   },
   {
    "duration": 5,
    "start_time": "2022-03-08T09:44:50.797Z"
   },
   {
    "duration": 6,
    "start_time": "2022-03-08T09:44:51.388Z"
   },
   {
    "duration": 7,
    "start_time": "2022-03-08T09:47:30.729Z"
   }
  ],
  "kernelspec": {
   "display_name": "Python 3 (ipykernel)",
   "language": "python",
   "name": "python3"
  },
  "language_info": {
   "codemirror_mode": {
    "name": "ipython",
    "version": 3
   },
   "file_extension": ".py",
   "mimetype": "text/x-python",
   "name": "python",
   "nbconvert_exporter": "python",
   "pygments_lexer": "ipython3",
   "version": "3.9.15"
  },
  "toc": {
   "base_numbering": 1,
   "nav_menu": {},
   "number_sections": true,
   "sideBar": true,
   "skip_h1_title": true,
   "title_cell": "Table of Contents",
   "title_sidebar": "Contents",
   "toc_cell": false,
   "toc_position": {
    "height": "calc(100% - 180px)",
    "left": "10px",
    "top": "150px",
    "width": "303px"
   },
   "toc_section_display": true,
   "toc_window_display": false
  }
 },
 "nbformat": 4,
 "nbformat_minor": 5
}
