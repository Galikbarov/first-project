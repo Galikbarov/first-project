{
 "cells": [
  {
   "cell_type": "markdown",
   "metadata": {},
   "source": [
    "# Рекомендация тарифов"
   ]
  },
  {
   "cell_type": "markdown",
   "metadata": {},
   "source": [
    "В нашем распоряжении данные о поведении клиентов, которые уже перешли на эти тарифы (из проекта курса «Статистический анализ данных»). Построим модель для задачи классификации, которая выберет подходящий тариф. \n",
    "\n",
    "\n",
    "**Цель исследования:**\n",
    "\n",
    "Построим модель с максимально большим значением *accuracy*.\n",
    "\n",
    "**Ход исследования:** \n",
    "\n",
    "Данные о поведении клиентов получим из файлов `users_behavior.csv`. О качестве данных известно, что предобработка данных не понадобится — мы её уже сделали. Проверим *accuracy* на тестовой выборке самостоятельно.\n",
    "\n",
    "Таким образом, исследование пройдёт в шесть этапов:\n",
    " 1. Откроем и изучим файл.\n",
    " 2. Разобьём данные на выборки.\n",
    " 3. Исследуем модели.\n",
    " 4. Проверим модель на тестовой выборке.\n",
    " 5. Проверим модели на адекватность.\n",
    " 6. Общий вывод.\n",
    "\n",
    "*Примечание:\n",
    "Чтобы сдать проект успешно, нужно довести долю правильных ответов по крайней мере до 0.75*\n"
   ]
  },
  {
   "cell_type": "markdown",
   "metadata": {},
   "source": [
    "## Откроем и изучим файл"
   ]
  },
  {
   "cell_type": "code",
   "execution_count": 1,
   "metadata": {},
   "outputs": [],
   "source": [
    "import pandas as pd\n",
    "import matplotlib.pyplot as plt  \n",
    "import seaborn as sns  \n",
    "from sklearn.tree import DecisionTreeClassifier\n",
    "from sklearn.ensemble import RandomForestClassifier\n",
    "from sklearn.linear_model import LogisticRegression\n",
    "from sklearn.model_selection import train_test_split\n",
    "from sklearn.metrics import accuracy_score"
   ]
  },
  {
   "cell_type": "code",
   "execution_count": 2,
   "metadata": {},
   "outputs": [],
   "source": [
    "df = pd.read_csv('/datasets/users_behavior.csv')"
   ]
  },
  {
   "cell_type": "code",
   "execution_count": 3,
   "metadata": {},
   "outputs": [
    {
     "name": "stdout",
     "output_type": "stream",
     "text": [
      "<class 'pandas.core.frame.DataFrame'>\n",
      "RangeIndex: 3214 entries, 0 to 3213\n",
      "Data columns (total 5 columns):\n",
      " #   Column    Non-Null Count  Dtype  \n",
      "---  ------    --------------  -----  \n",
      " 0   calls     3214 non-null   float64\n",
      " 1   minutes   3214 non-null   float64\n",
      " 2   messages  3214 non-null   float64\n",
      " 3   mb_used   3214 non-null   float64\n",
      " 4   is_ultra  3214 non-null   int64  \n",
      "dtypes: float64(4), int64(1)\n",
      "memory usage: 125.7 KB\n"
     ]
    }
   ],
   "source": [
    "df.info()"
   ]
  },
  {
   "cell_type": "code",
   "execution_count": 4,
   "metadata": {},
   "outputs": [
    {
     "data": {
      "text/html": [
       "<div>\n",
       "<style scoped>\n",
       "    .dataframe tbody tr th:only-of-type {\n",
       "        vertical-align: middle;\n",
       "    }\n",
       "\n",
       "    .dataframe tbody tr th {\n",
       "        vertical-align: top;\n",
       "    }\n",
       "\n",
       "    .dataframe thead th {\n",
       "        text-align: right;\n",
       "    }\n",
       "</style>\n",
       "<table border=\"1\" class=\"dataframe\">\n",
       "  <thead>\n",
       "    <tr style=\"text-align: right;\">\n",
       "      <th></th>\n",
       "      <th>calls</th>\n",
       "      <th>minutes</th>\n",
       "      <th>messages</th>\n",
       "      <th>mb_used</th>\n",
       "      <th>is_ultra</th>\n",
       "    </tr>\n",
       "  </thead>\n",
       "  <tbody>\n",
       "    <tr>\n",
       "      <th>0</th>\n",
       "      <td>40.0</td>\n",
       "      <td>311.90</td>\n",
       "      <td>83.0</td>\n",
       "      <td>19915.42</td>\n",
       "      <td>0</td>\n",
       "    </tr>\n",
       "    <tr>\n",
       "      <th>1</th>\n",
       "      <td>85.0</td>\n",
       "      <td>516.75</td>\n",
       "      <td>56.0</td>\n",
       "      <td>22696.96</td>\n",
       "      <td>0</td>\n",
       "    </tr>\n",
       "    <tr>\n",
       "      <th>2</th>\n",
       "      <td>77.0</td>\n",
       "      <td>467.66</td>\n",
       "      <td>86.0</td>\n",
       "      <td>21060.45</td>\n",
       "      <td>0</td>\n",
       "    </tr>\n",
       "    <tr>\n",
       "      <th>3</th>\n",
       "      <td>106.0</td>\n",
       "      <td>745.53</td>\n",
       "      <td>81.0</td>\n",
       "      <td>8437.39</td>\n",
       "      <td>1</td>\n",
       "    </tr>\n",
       "    <tr>\n",
       "      <th>4</th>\n",
       "      <td>66.0</td>\n",
       "      <td>418.74</td>\n",
       "      <td>1.0</td>\n",
       "      <td>14502.75</td>\n",
       "      <td>0</td>\n",
       "    </tr>\n",
       "    <tr>\n",
       "      <th>...</th>\n",
       "      <td>...</td>\n",
       "      <td>...</td>\n",
       "      <td>...</td>\n",
       "      <td>...</td>\n",
       "      <td>...</td>\n",
       "    </tr>\n",
       "    <tr>\n",
       "      <th>3209</th>\n",
       "      <td>122.0</td>\n",
       "      <td>910.98</td>\n",
       "      <td>20.0</td>\n",
       "      <td>35124.90</td>\n",
       "      <td>1</td>\n",
       "    </tr>\n",
       "    <tr>\n",
       "      <th>3210</th>\n",
       "      <td>25.0</td>\n",
       "      <td>190.36</td>\n",
       "      <td>0.0</td>\n",
       "      <td>3275.61</td>\n",
       "      <td>0</td>\n",
       "    </tr>\n",
       "    <tr>\n",
       "      <th>3211</th>\n",
       "      <td>97.0</td>\n",
       "      <td>634.44</td>\n",
       "      <td>70.0</td>\n",
       "      <td>13974.06</td>\n",
       "      <td>0</td>\n",
       "    </tr>\n",
       "    <tr>\n",
       "      <th>3212</th>\n",
       "      <td>64.0</td>\n",
       "      <td>462.32</td>\n",
       "      <td>90.0</td>\n",
       "      <td>31239.78</td>\n",
       "      <td>0</td>\n",
       "    </tr>\n",
       "    <tr>\n",
       "      <th>3213</th>\n",
       "      <td>80.0</td>\n",
       "      <td>566.09</td>\n",
       "      <td>6.0</td>\n",
       "      <td>29480.52</td>\n",
       "      <td>1</td>\n",
       "    </tr>\n",
       "  </tbody>\n",
       "</table>\n",
       "<p>3214 rows × 5 columns</p>\n",
       "</div>"
      ],
      "text/plain": [
       "      calls  minutes  messages   mb_used  is_ultra\n",
       "0      40.0   311.90      83.0  19915.42         0\n",
       "1      85.0   516.75      56.0  22696.96         0\n",
       "2      77.0   467.66      86.0  21060.45         0\n",
       "3     106.0   745.53      81.0   8437.39         1\n",
       "4      66.0   418.74       1.0  14502.75         0\n",
       "...     ...      ...       ...       ...       ...\n",
       "3209  122.0   910.98      20.0  35124.90         1\n",
       "3210   25.0   190.36       0.0   3275.61         0\n",
       "3211   97.0   634.44      70.0  13974.06         0\n",
       "3212   64.0   462.32      90.0  31239.78         0\n",
       "3213   80.0   566.09       6.0  29480.52         1\n",
       "\n",
       "[3214 rows x 5 columns]"
      ]
     },
     "execution_count": 4,
     "metadata": {},
     "output_type": "execute_result"
    }
   ],
   "source": [
    "df"
   ]
  },
  {
   "cell_type": "markdown",
   "metadata": {},
   "source": [
    "Каждый объект в наборе данных — это информация о поведении одного пользователя за месяц. Известно:\n",
    "\n",
    "* `сalls` — количество звонков,\n",
    "* `minutes` — суммарная длительность звонков в минутах,\n",
    "* `messages` — количество sms-сообщений,\n",
    "* `mb_used` — израсходованный интернет-трафик в Мб,\n",
    "* `is_ultra` — каким тарифом пользовался в течение месяца («Ультра» — 1, «Смарт» — 0)."
   ]
  },
  {
   "cell_type": "code",
   "execution_count": 5,
   "metadata": {},
   "outputs": [
    {
     "data": {
      "text/plain": [
       "0    2229\n",
       "1     985\n",
       "Name: is_ultra, dtype: int64"
      ]
     },
     "execution_count": 5,
     "metadata": {},
     "output_type": "execute_result"
    }
   ],
   "source": [
    "df.is_ultra.value_counts()"
   ]
  },
  {
   "cell_type": "code",
   "execution_count": 6,
   "metadata": {},
   "outputs": [
    {
     "data": {
      "text/html": [
       "<div>\n",
       "<style scoped>\n",
       "    .dataframe tbody tr th:only-of-type {\n",
       "        vertical-align: middle;\n",
       "    }\n",
       "\n",
       "    .dataframe tbody tr th {\n",
       "        vertical-align: top;\n",
       "    }\n",
       "\n",
       "    .dataframe thead th {\n",
       "        text-align: right;\n",
       "    }\n",
       "</style>\n",
       "<table border=\"1\" class=\"dataframe\">\n",
       "  <thead>\n",
       "    <tr style=\"text-align: right;\">\n",
       "      <th></th>\n",
       "      <th>calls</th>\n",
       "      <th>minutes</th>\n",
       "      <th>messages</th>\n",
       "      <th>mb_used</th>\n",
       "      <th>is_ultra</th>\n",
       "    </tr>\n",
       "  </thead>\n",
       "  <tbody>\n",
       "    <tr>\n",
       "      <th>calls</th>\n",
       "      <td>1.000000</td>\n",
       "      <td>0.982083</td>\n",
       "      <td>0.177385</td>\n",
       "      <td>0.286442</td>\n",
       "      <td>0.207122</td>\n",
       "    </tr>\n",
       "    <tr>\n",
       "      <th>minutes</th>\n",
       "      <td>0.982083</td>\n",
       "      <td>1.000000</td>\n",
       "      <td>0.173110</td>\n",
       "      <td>0.280967</td>\n",
       "      <td>0.206955</td>\n",
       "    </tr>\n",
       "    <tr>\n",
       "      <th>messages</th>\n",
       "      <td>0.177385</td>\n",
       "      <td>0.173110</td>\n",
       "      <td>1.000000</td>\n",
       "      <td>0.195721</td>\n",
       "      <td>0.203830</td>\n",
       "    </tr>\n",
       "    <tr>\n",
       "      <th>mb_used</th>\n",
       "      <td>0.286442</td>\n",
       "      <td>0.280967</td>\n",
       "      <td>0.195721</td>\n",
       "      <td>1.000000</td>\n",
       "      <td>0.198568</td>\n",
       "    </tr>\n",
       "    <tr>\n",
       "      <th>is_ultra</th>\n",
       "      <td>0.207122</td>\n",
       "      <td>0.206955</td>\n",
       "      <td>0.203830</td>\n",
       "      <td>0.198568</td>\n",
       "      <td>1.000000</td>\n",
       "    </tr>\n",
       "  </tbody>\n",
       "</table>\n",
       "</div>"
      ],
      "text/plain": [
       "             calls   minutes  messages   mb_used  is_ultra\n",
       "calls     1.000000  0.982083  0.177385  0.286442  0.207122\n",
       "minutes   0.982083  1.000000  0.173110  0.280967  0.206955\n",
       "messages  0.177385  0.173110  1.000000  0.195721  0.203830\n",
       "mb_used   0.286442  0.280967  0.195721  1.000000  0.198568\n",
       "is_ultra  0.207122  0.206955  0.203830  0.198568  1.000000"
      ]
     },
     "metadata": {},
     "output_type": "display_data"
    },
    {
     "data": {
      "image/png": "[encoded data removed]",
      "text/plain": [
       "<Figure size 432x288 with 2 Axes>"
      ]
     },
     "metadata": {
      "needs_background": "light"
     },
     "output_type": "display_data"
    }
   ],
   "source": [
    "display(df.corr())\n",
    "df_plot = sns.heatmap(df.corr(), cmap=\"YlGnBu\", annot=True)  \n",
    "\n",
    "\n",
    "plt.show()"
   ]
  },
  {
   "cell_type": "markdown",
   "metadata": {},
   "source": [
    "## Разобьём данные на выборки"
   ]
  },
  {
   "cell_type": "markdown",
   "metadata": {},
   "source": [
    "Разделим исходные данные на обучающую, валидационную и тестовую выборки:"
   ]
  },
  {
   "cell_type": "code",
   "execution_count": 7,
   "metadata": {},
   "outputs": [],
   "source": [
    "features = df.drop('is_ultra', axis=1)\n",
    "target = df['is_ultra']\n",
    "\n",
    "features_train, features_valid, target_train, target_valid = train_test_split(features, target, test_size=0.4, random_state=12345, stratify=target)\n",
    "\n",
    "features_valid, features_test, target_valid, target_test = train_test_split(features_valid, target_valid, test_size=0.5, random_state=12345, stratify=target_valid)"
   ]
  },
  {
   "cell_type": "markdown",
   "metadata": {},
   "source": [
    "## Исследуем качество разных моделей, меняя гиперпараметры. Кратко напишем выводы исследования:"
   ]
  },
  {
   "cell_type": "markdown",
   "metadata": {},
   "source": [
    "Первой моделью будет `Дерево решений`."
   ]
  },
  {
   "cell_type": "code",
   "execution_count": 8,
   "metadata": {},
   "outputs": [
    {
     "name": "stdout",
     "output_type": "stream",
     "text": [
      "Accuracy лучшей модели Дерева решений: 0.7962674961119751 , глубина дерева:  8\n"
     ]
    }
   ],
   "source": [
    "best_model_tree = None\n",
    "best_result_tree = 0\n",
    "best_depth_tree = 0\n",
    "for depth in range(1, 10):\n",
    "    model_tree = DecisionTreeClassifier(random_state=7, max_depth=depth)\n",
    "    model_tree.fit(features_train, target_train)\n",
    "    predictions_tree = model_tree.predict(features_valid)\n",
    "    result_tree = accuracy_score(target_valid, predictions_tree)\n",
    "    if result_tree > best_result_tree:\n",
    "        best_depth_tree = depth\n",
    "        best_model_tree = model_tree\n",
    "        best_result_tree = result_tree\n",
    "        \n",
    "print(\"Accuracy лучшей модели Дерева решений:\", best_result_tree, \", глубина дерева: \", best_depth_tree)"
   ]
  },
  {
   "cell_type": "markdown",
   "metadata": {},
   "source": [
    "Вторая модель - `Случайный лес`."
   ]
  },
  {
   "cell_type": "code",
   "execution_count": 9,
   "metadata": {},
   "outputs": [
    {
     "name": "stdout",
     "output_type": "stream",
     "text": [
      "Accuracy лучшей модели Случайного леса: 0.8195956454121306 , количество деревьев:  50 , глубина:  8\n",
      "CPU times: user 40.3 s, sys: 275 ms, total: 40.5 s\n",
      "Wall time: 40.6 s\n"
     ]
    }
   ],
   "source": [
    "%%time\n",
    "\n",
    "\n",
    "best_model_forest = None\n",
    "best_result_forest = 0\n",
    "best_n_estimators = 0\n",
    "best_depth = 0\n",
    "\n",
    "for depth in range(2, 22, 2):\n",
    "    for est in range(50, 351, 50):\n",
    "        model_forest = RandomForestClassifier(random_state=7, n_estimators=est, max_depth=depth)\n",
    "        model_forest.fit(features_train, target_train)\n",
    "        result_forest = model_forest.score(features_valid, target_valid)\n",
    "        if result_forest > best_result_forest:\n",
    "            best_model_forest = model_forest\n",
    "            best_result_forest = result_forest\n",
    "            best_n_estimators = est\n",
    "            best_depth = depth\n",
    "         \n",
    "            \n",
    "print(\"Accuracy лучшей модели Случайного леса:\", best_result_forest, \", количество деревьев: \", best_n_estimators, \", глубина: \", best_depth)"
   ]
  },
  {
   "cell_type": "markdown",
   "metadata": {},
   "source": [
    "Третья модель - `Логическая регрессия`."
   ]
  },
  {
   "cell_type": "code",
   "execution_count": 10,
   "metadata": {},
   "outputs": [
    {
     "name": "stdout",
     "output_type": "stream",
     "text": [
      "Accuracy лучшей модели Логической регрессии: 0.7387247278382582\n"
     ]
    }
   ],
   "source": [
    "model_logistic = LogisticRegression(random_state=7, solver='lbfgs', max_iter=1000)\n",
    "model_logistic.fit(features_train, target_train)\n",
    "result_logistic = model_logistic.score(features_valid,target_valid)\n",
    "print(\"Accuracy лучшей модели Логической регрессии:\", result_logistic)"
   ]
  },
  {
   "cell_type": "markdown",
   "metadata": {},
   "source": [
    "**Вывод:** скорость работы каждой модели прямопропорциональна её точности. Самая быстрая и неточаная - `Логическая регрессия`, самая медленная и точная - `Случайный лес`. `Дерево решений` имеет высокую скорость и при этом относительно неплохую точность."
   ]
  },
  {
   "cell_type": "markdown",
   "metadata": {},
   "source": [
    "## Проверим модель на тестовой выборке"
   ]
  },
  {
   "cell_type": "markdown",
   "metadata": {},
   "source": [
    "Проверьте качество модели на тестовой выборке:"
   ]
  },
  {
   "cell_type": "markdown",
   "metadata": {},
   "source": [
    "Проверим лучшую модель `Случайный лес`."
   ]
  },
  {
   "cell_type": "code",
   "execution_count": 11,
   "metadata": {},
   "outputs": [
    {
     "name": "stdout",
     "output_type": "stream",
     "text": [
      "Accuracy лучшей модели Случайного леса: 0.8133748055987559\n",
      "CPU times: user 149 ms, sys: 0 ns, total: 149 ms\n",
      "Wall time: 156 ms\n"
     ]
    }
   ],
   "source": [
    "%%time\n",
    "\n",
    "model_forest = RandomForestClassifier(random_state=7, n_estimators=50, max_depth=8)\n",
    "model_forest.fit(features_train, target_train)\n",
    "result_forest = model_forest.score(features_test, target_test)       \n",
    "            \n",
    "print(\"Accuracy лучшей модели Случайного леса:\", result_forest)"
   ]
  },
  {
   "cell_type": "markdown",
   "metadata": {},
   "source": [
    "**Вывод:** на тестовой выборки точность модели немного упала, но близка к валидной. Можно сделать вывод, что модель работает стабильно."
   ]
  },
  {
   "cell_type": "markdown",
   "metadata": {},
   "source": [
    "## Проверим модели на адекватность"
   ]
  },
  {
   "cell_type": "markdown",
   "metadata": {},
   "source": [
    "Поскольку точность моделей выше 0.5 - случайной вероятности, то можно судить о том, что модель адекватная и приносит результат."
   ]
  },
  {
   "cell_type": "markdown",
   "metadata": {},
   "source": [
    "Константная модель Случайного леса:"
   ]
  },
  {
   "cell_type": "code",
   "execution_count": 13,
   "metadata": {},
   "outputs": [
    {
     "name": "stdout",
     "output_type": "stream",
     "text": [
      "Accuracy константной модели: 0.6936236391912908\n",
      "Accuracy нашей лучшей модели: 0.8133748055987559\n",
      "Вывод: наша модель адекватна\n"
     ]
    }
   ],
   "source": [
    "target_constant = pd.Series(0, index=target_train.index)\n",
    "\n",
    "\n",
    "model_constant = RandomForestClassifier(random_state=7, n_estimators=50, max_depth=8)\n",
    "model_constant.fit(features_train, target_constant)\n",
    "result_constant = model_constant.score(features_test, target_test)       \n",
    "            \n",
    "print(\"Accuracy константной модели:\", result_constant)\n",
    "print(\"Accuracy нашей лучшей модели:\", result_forest)\n",
    "\n",
    "if result_forest > result_constant:\n",
    "    print('Вывод: наша модель адекватна')\n",
    "else:\n",
    "    print('Вывод: наша модель неадекватна')"
   ]
  },
  {
   "cell_type": "markdown",
   "metadata": {},
   "source": [
    "## Общий вывод"
   ]
  },
  {
   "cell_type": "markdown",
   "metadata": {},
   "source": [
    "Мы построили модель `Случайного леса` с наиболее оптимальными гиперпараметрами количества деревьев равное 50 и глубной равной 8, что позволило достичь максимально высого значениея accuracy - 0.813 среди всех трёх моделей. Данный результат превышает устанную планку поставленной задачи accuracy в 0.75, что говорит о выполнении поставленных задач.\n",
    "Наша модель так же прошла проверку на адекватность."
   ]
  }
 ],
 "metadata": {
  "ExecuteTimeLog": [
   {
    "duration": 1429,
    "start_time": "2022-09-13T10:44:48.358Z"
   },
   {
    "duration": 60,
    "start_time": "2022-09-13T11:00:27.166Z"
   },
   {
    "duration": 18,
    "start_time": "2022-09-13T11:00:30.205Z"
   },
   {
    "duration": 12,
    "start_time": "2022-09-13T11:01:20.879Z"
   },
   {
    "duration": 10,
    "start_time": "2022-09-13T11:02:39.184Z"
   },
   {
    "duration": 4,
    "start_time": "2022-09-13T11:27:41.011Z"
   },
   {
    "duration": 7,
    "start_time": "2022-09-13T11:52:07.400Z"
   },
   {
    "duration": 107,
    "start_time": "2022-09-13T11:52:31.047Z"
   },
   {
    "duration": 5,
    "start_time": "2022-09-13T11:52:46.814Z"
   },
   {
    "duration": 46,
    "start_time": "2022-09-17T12:38:10.052Z"
   },
   {
    "duration": 1681,
    "start_time": "2022-09-17T12:38:22.130Z"
   },
   {
    "duration": 121,
    "start_time": "2022-09-17T12:38:23.813Z"
   },
   {
    "duration": 12,
    "start_time": "2022-09-17T12:38:23.936Z"
   },
   {
    "duration": 44,
    "start_time": "2022-09-17T12:38:23.950Z"
   },
   {
    "duration": 22,
    "start_time": "2022-09-17T12:38:23.996Z"
   },
   {
    "duration": 147,
    "start_time": "2022-09-17T12:38:24.019Z"
   },
   {
    "duration": 14,
    "start_time": "2022-09-17T12:38:54.502Z"
   },
   {
    "duration": 18,
    "start_time": "2022-09-17T12:39:25.743Z"
   },
   {
    "duration": 16,
    "start_time": "2022-09-17T12:41:37.841Z"
   },
   {
    "duration": 1394,
    "start_time": "2022-09-17T12:41:42.977Z"
   },
   {
    "duration": 30,
    "start_time": "2022-09-17T12:41:44.373Z"
   },
   {
    "duration": 10,
    "start_time": "2022-09-17T12:41:44.404Z"
   },
   {
    "duration": 14,
    "start_time": "2022-09-17T12:41:44.415Z"
   },
   {
    "duration": 6,
    "start_time": "2022-09-17T12:41:44.430Z"
   },
   {
    "duration": 122,
    "start_time": "2022-09-17T12:41:44.437Z"
   },
   {
    "duration": 14,
    "start_time": "2022-09-17T12:41:54.230Z"
   },
   {
    "duration": 24,
    "start_time": "2022-09-17T12:45:41.859Z"
   },
   {
    "duration": 14,
    "start_time": "2022-09-17T12:45:45.171Z"
   },
   {
    "duration": 25,
    "start_time": "2022-09-17T12:47:41.503Z"
   },
   {
    "duration": 14,
    "start_time": "2022-09-17T12:47:44.703Z"
   },
   {
    "duration": 14,
    "start_time": "2022-09-17T12:48:24.406Z"
   },
   {
    "duration": 15,
    "start_time": "2022-09-17T12:48:29.117Z"
   },
   {
    "duration": 6,
    "start_time": "2022-09-17T12:49:03.486Z"
   },
   {
    "duration": 47,
    "start_time": "2022-09-17T12:49:06.438Z"
   },
   {
    "duration": 7,
    "start_time": "2022-09-17T12:50:11.376Z"
   },
   {
    "duration": 18,
    "start_time": "2022-09-17T12:50:14.320Z"
   },
   {
    "duration": 28,
    "start_time": "2022-09-17T12:50:27.936Z"
   },
   {
    "duration": 21,
    "start_time": "2022-09-17T12:51:48.619Z"
   },
   {
    "duration": 1542,
    "start_time": "2022-09-17T12:51:54.229Z"
   },
   {
    "duration": 31,
    "start_time": "2022-09-17T12:51:55.773Z"
   },
   {
    "duration": 12,
    "start_time": "2022-09-17T12:51:55.805Z"
   },
   {
    "duration": 17,
    "start_time": "2022-09-17T12:51:55.819Z"
   },
   {
    "duration": 6,
    "start_time": "2022-09-17T12:51:55.838Z"
   },
   {
    "duration": 138,
    "start_time": "2022-09-17T12:51:55.846Z"
   },
   {
    "duration": 12,
    "start_time": "2022-09-17T12:53:06.459Z"
   },
   {
    "duration": 10,
    "start_time": "2022-09-17T12:54:35.572Z"
   },
   {
    "duration": 3,
    "start_time": "2022-09-17T12:55:07.092Z"
   },
   {
    "duration": 35,
    "start_time": "2022-09-17T12:56:28.022Z"
   },
   {
    "duration": 34,
    "start_time": "2022-09-17T12:56:39.205Z"
   },
   {
    "duration": 298,
    "start_time": "2022-09-17T12:56:43.846Z"
   },
   {
    "duration": 35,
    "start_time": "2022-09-17T12:56:51.287Z"
   },
   {
    "duration": 87,
    "start_time": "2022-09-17T12:56:56.423Z"
   },
   {
    "duration": 39,
    "start_time": "2022-09-17T12:57:00.055Z"
   },
   {
    "duration": 1222,
    "start_time": "2022-09-17T13:08:27.245Z"
   },
   {
    "duration": 1558,
    "start_time": "2022-09-17T13:16:29.780Z"
   },
   {
    "duration": 36,
    "start_time": "2022-09-17T13:16:38.539Z"
   },
   {
    "duration": 74,
    "start_time": "2022-09-17T13:16:44.276Z"
   },
   {
    "duration": 218,
    "start_time": "2022-09-17T13:16:48.620Z"
   },
   {
    "duration": 91,
    "start_time": "2022-09-17T13:16:54.635Z"
   },
   {
    "duration": 86,
    "start_time": "2022-09-17T14:05:53.370Z"
   },
   {
    "duration": 4,
    "start_time": "2022-09-17T14:07:11.628Z"
   },
   {
    "duration": 82,
    "start_time": "2022-09-17T14:09:17.157Z"
   },
   {
    "duration": 84,
    "start_time": "2022-09-17T14:09:27.918Z"
   },
   {
    "duration": 118,
    "start_time": "2022-09-17T14:11:16.209Z"
   },
   {
    "duration": 79,
    "start_time": "2022-09-17T14:11:22.328Z"
   },
   {
    "duration": 78,
    "start_time": "2022-09-17T14:11:34.216Z"
   },
   {
    "duration": 1583,
    "start_time": "2022-09-17T14:11:44.398Z"
   },
   {
    "duration": 42,
    "start_time": "2022-09-17T14:11:45.983Z"
   },
   {
    "duration": 15,
    "start_time": "2022-09-17T14:11:46.028Z"
   },
   {
    "duration": 32,
    "start_time": "2022-09-17T14:11:46.046Z"
   },
   {
    "duration": 15,
    "start_time": "2022-09-17T14:11:46.080Z"
   },
   {
    "duration": 186,
    "start_time": "2022-09-17T14:11:46.098Z"
   },
   {
    "duration": 0,
    "start_time": "2022-09-17T14:11:46.288Z"
   },
   {
    "duration": 83,
    "start_time": "2022-09-17T14:12:07.005Z"
   },
   {
    "duration": 84,
    "start_time": "2022-09-17T14:14:37.507Z"
   },
   {
    "duration": 76,
    "start_time": "2022-09-17T14:14:40.750Z"
   },
   {
    "duration": 75,
    "start_time": "2022-09-17T14:16:02.547Z"
   },
   {
    "duration": 1514,
    "start_time": "2022-09-17T14:16:08.435Z"
   },
   {
    "duration": 32,
    "start_time": "2022-09-17T14:16:09.951Z"
   },
   {
    "duration": 44,
    "start_time": "2022-09-17T14:16:09.984Z"
   },
   {
    "duration": 16,
    "start_time": "2022-09-17T14:16:10.030Z"
   },
   {
    "duration": 14,
    "start_time": "2022-09-17T14:16:10.047Z"
   },
   {
    "duration": 123,
    "start_time": "2022-09-17T14:16:10.062Z"
   },
   {
    "duration": 0,
    "start_time": "2022-09-17T14:16:10.187Z"
   },
   {
    "duration": 74,
    "start_time": "2022-09-17T14:16:28.039Z"
   },
   {
    "duration": 276,
    "start_time": "2022-09-17T14:30:48.255Z"
   },
   {
    "duration": 272,
    "start_time": "2022-09-17T14:37:53.622Z"
   },
   {
    "duration": 364,
    "start_time": "2022-09-17T14:38:12.854Z"
   },
   {
    "duration": 3,
    "start_time": "2022-09-17T14:41:25.929Z"
   },
   {
    "duration": 3,
    "start_time": "2022-09-17T14:45:43.718Z"
   },
   {
    "duration": 3,
    "start_time": "2022-09-17T14:46:08.238Z"
   },
   {
    "duration": 668,
    "start_time": "2022-09-17T14:47:30.856Z"
   },
   {
    "duration": 500,
    "start_time": "2022-09-17T14:47:37.247Z"
   },
   {
    "duration": 664,
    "start_time": "2022-09-17T14:47:40.168Z"
   },
   {
    "duration": 666,
    "start_time": "2022-09-17T14:47:56.225Z"
   },
   {
    "duration": 750,
    "start_time": "2022-09-17T14:48:00.559Z"
   },
   {
    "duration": 505,
    "start_time": "2022-09-17T14:48:35.569Z"
   },
   {
    "duration": 375,
    "start_time": "2022-09-17T14:48:37.850Z"
   },
   {
    "duration": 354,
    "start_time": "2022-09-17T14:49:19.397Z"
   },
   {
    "duration": 553,
    "start_time": "2022-09-17T14:49:23.114Z"
   },
   {
    "duration": 437,
    "start_time": "2022-09-17T14:49:28.618Z"
   },
   {
    "duration": 73,
    "start_time": "2022-09-17T14:49:59.658Z"
   },
   {
    "duration": 378,
    "start_time": "2022-09-17T14:50:05.699Z"
   },
   {
    "duration": 308,
    "start_time": "2022-09-17T14:50:28.139Z"
   },
   {
    "duration": 5,
    "start_time": "2022-09-17T16:00:51.167Z"
   },
   {
    "duration": 6,
    "start_time": "2022-09-17T16:01:32.646Z"
   },
   {
    "duration": 6,
    "start_time": "2022-09-17T16:02:20.013Z"
   },
   {
    "duration": 7,
    "start_time": "2022-09-17T16:03:04.326Z"
   },
   {
    "duration": 17,
    "start_time": "2022-09-17T16:05:51.988Z"
   },
   {
    "duration": 10,
    "start_time": "2022-09-17T16:06:06.724Z"
   },
   {
    "duration": 1106,
    "start_time": "2022-09-17T16:06:20.979Z"
   },
   {
    "duration": 32,
    "start_time": "2022-09-17T16:06:22.087Z"
   },
   {
    "duration": 11,
    "start_time": "2022-09-17T16:06:22.122Z"
   },
   {
    "duration": 29,
    "start_time": "2022-09-17T16:06:22.135Z"
   },
   {
    "duration": 13,
    "start_time": "2022-09-17T16:06:22.165Z"
   },
   {
    "duration": 114,
    "start_time": "2022-09-17T16:06:22.180Z"
   },
   {
    "duration": 0,
    "start_time": "2022-09-17T16:06:22.296Z"
   },
   {
    "duration": 0,
    "start_time": "2022-09-17T16:06:22.297Z"
   },
   {
    "duration": 66,
    "start_time": "2022-09-17T16:14:02.317Z"
   },
   {
    "duration": 60,
    "start_time": "2022-09-17T16:16:11.862Z"
   },
   {
    "duration": 265,
    "start_time": "2022-09-17T16:48:15.531Z"
   },
   {
    "duration": 31,
    "start_time": "2022-09-17T16:49:09.885Z"
   },
   {
    "duration": 60,
    "start_time": "2022-09-17T16:49:22.429Z"
   },
   {
    "duration": 70,
    "start_time": "2022-09-17T16:49:29.477Z"
   },
   {
    "duration": 29,
    "start_time": "2022-09-17T16:50:17.799Z"
   },
   {
    "duration": 114,
    "start_time": "2022-09-17T16:50:25.375Z"
   },
   {
    "duration": 211,
    "start_time": "2022-09-17T16:50:31.903Z"
   },
   {
    "duration": 77,
    "start_time": "2022-09-17T16:50:36.346Z"
   },
   {
    "duration": 214,
    "start_time": "2022-09-17T16:50:42.335Z"
   },
   {
    "duration": 27,
    "start_time": "2022-09-17T16:50:50.383Z"
   },
   {
    "duration": 31,
    "start_time": "2022-09-17T16:50:53.167Z"
   },
   {
    "duration": 43,
    "start_time": "2022-09-17T16:50:56.039Z"
   },
   {
    "duration": 1046,
    "start_time": "2022-09-17T16:51:08.937Z"
   },
   {
    "duration": 31,
    "start_time": "2022-09-17T16:51:09.985Z"
   },
   {
    "duration": 11,
    "start_time": "2022-09-17T16:51:10.018Z"
   },
   {
    "duration": 26,
    "start_time": "2022-09-17T16:51:10.030Z"
   },
   {
    "duration": 10,
    "start_time": "2022-09-17T16:51:10.058Z"
   },
   {
    "duration": 57,
    "start_time": "2022-09-17T16:51:10.069Z"
   },
   {
    "duration": 229,
    "start_time": "2022-09-17T16:51:10.128Z"
   },
   {
    "duration": 33,
    "start_time": "2022-09-17T16:51:10.359Z"
   },
   {
    "duration": 58,
    "start_time": "2022-09-17T17:00:46.162Z"
   },
   {
    "duration": 45,
    "start_time": "2022-09-17T17:03:02.549Z"
   },
   {
    "duration": 1176,
    "start_time": "2022-09-17T17:03:20.345Z"
   },
   {
    "duration": 33,
    "start_time": "2022-09-17T17:03:21.524Z"
   },
   {
    "duration": 14,
    "start_time": "2022-09-17T17:03:21.559Z"
   },
   {
    "duration": 19,
    "start_time": "2022-09-17T17:03:21.575Z"
   },
   {
    "duration": 9,
    "start_time": "2022-09-17T17:03:21.596Z"
   },
   {
    "duration": 79,
    "start_time": "2022-09-17T17:03:21.606Z"
   },
   {
    "duration": 233,
    "start_time": "2022-09-17T17:03:21.687Z"
   },
   {
    "duration": 46,
    "start_time": "2022-09-17T17:03:21.921Z"
   },
   {
    "duration": 59,
    "start_time": "2022-09-17T17:03:21.969Z"
   },
   {
    "duration": 133,
    "start_time": "2022-09-17T17:03:22.030Z"
   },
   {
    "duration": 0,
    "start_time": "2022-09-17T17:03:22.165Z"
   },
   {
    "duration": 19,
    "start_time": "2022-09-17T17:04:16.278Z"
   },
   {
    "duration": 1179,
    "start_time": "2022-09-17T17:04:25.580Z"
   },
   {
    "duration": 31,
    "start_time": "2022-09-17T17:04:26.761Z"
   },
   {
    "duration": 10,
    "start_time": "2022-09-17T17:04:26.793Z"
   },
   {
    "duration": 31,
    "start_time": "2022-09-17T17:04:26.804Z"
   },
   {
    "duration": 8,
    "start_time": "2022-09-17T17:04:26.837Z"
   },
   {
    "duration": 72,
    "start_time": "2022-09-17T17:04:26.846Z"
   },
   {
    "duration": 222,
    "start_time": "2022-09-17T17:04:26.919Z"
   },
   {
    "duration": 32,
    "start_time": "2022-09-17T17:04:27.143Z"
   },
   {
    "duration": 71,
    "start_time": "2022-09-17T17:04:27.177Z"
   },
   {
    "duration": 155,
    "start_time": "2022-09-17T17:04:27.250Z"
   },
   {
    "duration": 0,
    "start_time": "2022-09-17T17:04:27.407Z"
   },
   {
    "duration": 225,
    "start_time": "2022-09-17T17:04:38.867Z"
   },
   {
    "duration": 46,
    "start_time": "2022-09-17T17:04:41.462Z"
   },
   {
    "duration": 1101,
    "start_time": "2022-09-17T17:06:07.390Z"
   },
   {
    "duration": 32,
    "start_time": "2022-09-17T17:06:08.493Z"
   },
   {
    "duration": 11,
    "start_time": "2022-09-17T17:06:08.527Z"
   },
   {
    "duration": 43,
    "start_time": "2022-09-17T17:06:08.540Z"
   },
   {
    "duration": 9,
    "start_time": "2022-09-17T17:06:08.585Z"
   },
   {
    "duration": 60,
    "start_time": "2022-09-17T17:06:08.596Z"
   },
   {
    "duration": 229,
    "start_time": "2022-09-17T17:06:08.658Z"
   },
   {
    "duration": 35,
    "start_time": "2022-09-17T17:06:08.889Z"
   },
   {
    "duration": 85,
    "start_time": "2022-09-17T17:06:08.926Z"
   },
   {
    "duration": 238,
    "start_time": "2022-09-17T17:06:09.014Z"
   },
   {
    "duration": 34,
    "start_time": "2022-09-17T17:06:09.254Z"
   },
   {
    "duration": 56,
    "start_time": "2022-09-17T17:09:34.950Z"
   },
   {
    "duration": 1079,
    "start_time": "2022-09-17T17:13:13.058Z"
   },
   {
    "duration": 31,
    "start_time": "2022-09-17T17:13:14.139Z"
   },
   {
    "duration": 10,
    "start_time": "2022-09-17T17:13:14.172Z"
   },
   {
    "duration": 19,
    "start_time": "2022-09-17T17:13:14.183Z"
   },
   {
    "duration": 10,
    "start_time": "2022-09-17T17:13:14.205Z"
   },
   {
    "duration": 56,
    "start_time": "2022-09-17T17:13:14.216Z"
   },
   {
    "duration": 210,
    "start_time": "2022-09-17T17:13:14.274Z"
   },
   {
    "duration": 26,
    "start_time": "2022-09-17T17:13:14.486Z"
   },
   {
    "duration": 76,
    "start_time": "2022-09-17T17:13:14.514Z"
   },
   {
    "duration": 225,
    "start_time": "2022-09-17T17:13:14.592Z"
   },
   {
    "duration": 41,
    "start_time": "2022-09-17T17:13:14.818Z"
   },
   {
    "duration": 49,
    "start_time": "2022-11-11T09:34:27.227Z"
   },
   {
    "duration": 1048,
    "start_time": "2022-11-11T09:34:40.244Z"
   },
   {
    "duration": 129,
    "start_time": "2022-11-11T09:34:41.293Z"
   },
   {
    "duration": 12,
    "start_time": "2022-11-11T09:34:41.424Z"
   },
   {
    "duration": 19,
    "start_time": "2022-11-11T09:34:41.438Z"
   },
   {
    "duration": 119,
    "start_time": "2022-11-11T09:34:41.460Z"
   },
   {
    "duration": 0,
    "start_time": "2022-11-11T09:34:41.581Z"
   },
   {
    "duration": 0,
    "start_time": "2022-11-11T09:34:41.582Z"
   },
   {
    "duration": 0,
    "start_time": "2022-11-11T09:34:41.583Z"
   },
   {
    "duration": 0,
    "start_time": "2022-11-11T09:34:41.584Z"
   },
   {
    "duration": 0,
    "start_time": "2022-11-11T09:34:41.586Z"
   },
   {
    "duration": 0,
    "start_time": "2022-11-11T09:34:41.587Z"
   },
   {
    "duration": 0,
    "start_time": "2022-11-11T09:34:41.588Z"
   },
   {
    "duration": 5,
    "start_time": "2022-11-11T09:35:15.132Z"
   },
   {
    "duration": 8,
    "start_time": "2022-11-11T09:37:05.550Z"
   },
   {
    "duration": 11,
    "start_time": "2022-11-11T09:38:32.731Z"
   },
   {
    "duration": 483,
    "start_time": "2022-11-11T09:40:04.070Z"
   },
   {
    "duration": 414,
    "start_time": "2022-11-11T09:40:34.723Z"
   },
   {
    "duration": 355,
    "start_time": "2022-11-11T09:40:50.488Z"
   },
   {
    "duration": 355,
    "start_time": "2022-11-11T09:42:09.066Z"
   },
   {
    "duration": 477,
    "start_time": "2022-11-11T09:42:13.895Z"
   },
   {
    "duration": 391,
    "start_time": "2022-11-11T09:42:19.607Z"
   },
   {
    "duration": 126,
    "start_time": "2022-11-11T09:42:42.231Z"
   },
   {
    "duration": 354,
    "start_time": "2022-11-11T09:42:47.981Z"
   },
   {
    "duration": 345,
    "start_time": "2022-11-11T09:43:49.036Z"
   },
   {
    "duration": 393,
    "start_time": "2022-11-11T09:44:21.136Z"
   },
   {
    "duration": 393,
    "start_time": "2022-11-11T09:44:30.548Z"
   },
   {
    "duration": 398,
    "start_time": "2022-11-11T09:44:34.851Z"
   },
   {
    "duration": 383,
    "start_time": "2022-11-11T09:44:40.186Z"
   },
   {
    "duration": 374,
    "start_time": "2022-11-11T09:44:47.662Z"
   },
   {
    "duration": 370,
    "start_time": "2022-11-11T09:44:51.346Z"
   },
   {
    "duration": 479,
    "start_time": "2022-11-11T09:44:53.960Z"
   },
   {
    "duration": 415,
    "start_time": "2022-11-11T09:44:56.702Z"
   },
   {
    "duration": 422,
    "start_time": "2022-11-11T09:45:33.317Z"
   },
   {
    "duration": 371,
    "start_time": "2022-11-11T09:45:38.169Z"
   },
   {
    "duration": 414,
    "start_time": "2022-11-11T09:45:47.331Z"
   },
   {
    "duration": 377,
    "start_time": "2022-11-11T09:46:05.761Z"
   },
   {
    "duration": 1356,
    "start_time": "2022-11-11T09:46:15.915Z"
   },
   {
    "duration": 29,
    "start_time": "2022-11-11T09:46:17.274Z"
   },
   {
    "duration": 10,
    "start_time": "2022-11-11T09:46:17.305Z"
   },
   {
    "duration": 18,
    "start_time": "2022-11-11T09:46:17.317Z"
   },
   {
    "duration": 4,
    "start_time": "2022-11-11T09:46:17.339Z"
   },
   {
    "duration": 378,
    "start_time": "2022-11-11T09:46:17.345Z"
   },
   {
    "duration": 12,
    "start_time": "2022-11-11T09:46:17.724Z"
   },
   {
    "duration": 62,
    "start_time": "2022-11-11T09:46:17.737Z"
   },
   {
    "duration": 248,
    "start_time": "2022-11-11T09:46:17.801Z"
   },
   {
    "duration": 32,
    "start_time": "2022-11-11T09:46:18.051Z"
   },
   {
    "duration": 79,
    "start_time": "2022-11-11T09:46:18.085Z"
   },
   {
    "duration": 244,
    "start_time": "2022-11-11T09:46:18.166Z"
   },
   {
    "duration": 35,
    "start_time": "2022-11-11T09:46:18.412Z"
   },
   {
    "duration": 364,
    "start_time": "2022-11-11T09:46:27.038Z"
   },
   {
    "duration": 428,
    "start_time": "2022-11-11T09:46:37.675Z"
   },
   {
    "duration": 1314,
    "start_time": "2022-11-11T10:42:50.823Z"
   },
   {
    "duration": 29,
    "start_time": "2022-11-11T10:42:52.139Z"
   },
   {
    "duration": 13,
    "start_time": "2022-11-11T10:42:52.169Z"
   },
   {
    "duration": 19,
    "start_time": "2022-11-11T10:42:52.184Z"
   },
   {
    "duration": 19,
    "start_time": "2022-11-11T10:42:52.207Z"
   },
   {
    "duration": 376,
    "start_time": "2022-11-11T10:42:52.227Z"
   },
   {
    "duration": 113,
    "start_time": "2022-11-11T10:42:52.605Z"
   },
   {
    "duration": 0,
    "start_time": "2022-11-11T10:42:52.719Z"
   },
   {
    "duration": 0,
    "start_time": "2022-11-11T10:42:52.720Z"
   },
   {
    "duration": 0,
    "start_time": "2022-11-11T10:42:52.722Z"
   },
   {
    "duration": 0,
    "start_time": "2022-11-11T10:42:52.723Z"
   },
   {
    "duration": 0,
    "start_time": "2022-11-11T10:42:52.729Z"
   },
   {
    "duration": 0,
    "start_time": "2022-11-11T10:42:52.730Z"
   },
   {
    "duration": 0,
    "start_time": "2022-11-11T10:42:52.731Z"
   },
   {
    "duration": 9,
    "start_time": "2022-11-11T10:44:22.699Z"
   },
   {
    "duration": 10,
    "start_time": "2022-11-11T10:44:46.831Z"
   },
   {
    "duration": 10,
    "start_time": "2022-11-11T10:44:55.119Z"
   },
   {
    "duration": 1305,
    "start_time": "2022-11-11T10:45:08.578Z"
   },
   {
    "duration": 27,
    "start_time": "2022-11-11T10:45:09.885Z"
   },
   {
    "duration": 10,
    "start_time": "2022-11-11T10:45:09.914Z"
   },
   {
    "duration": 16,
    "start_time": "2022-11-11T10:45:09.926Z"
   },
   {
    "duration": 5,
    "start_time": "2022-11-11T10:45:09.945Z"
   },
   {
    "duration": 344,
    "start_time": "2022-11-11T10:45:09.952Z"
   },
   {
    "duration": 9,
    "start_time": "2022-11-11T10:45:10.297Z"
   },
   {
    "duration": 118,
    "start_time": "2022-11-11T10:45:10.307Z"
   },
   {
    "duration": 0,
    "start_time": "2022-11-11T10:45:10.427Z"
   },
   {
    "duration": 0,
    "start_time": "2022-11-11T10:45:10.428Z"
   },
   {
    "duration": 0,
    "start_time": "2022-11-11T10:45:10.429Z"
   },
   {
    "duration": 0,
    "start_time": "2022-11-11T10:45:10.430Z"
   },
   {
    "duration": 0,
    "start_time": "2022-11-11T10:45:10.431Z"
   },
   {
    "duration": 0,
    "start_time": "2022-11-11T10:45:10.432Z"
   },
   {
    "duration": 10,
    "start_time": "2022-11-11T10:45:34.372Z"
   },
   {
    "duration": 3,
    "start_time": "2022-11-11T10:45:37.981Z"
   },
   {
    "duration": 27,
    "start_time": "2022-11-11T10:45:37.994Z"
   },
   {
    "duration": 10,
    "start_time": "2022-11-11T10:45:38.022Z"
   },
   {
    "duration": 12,
    "start_time": "2022-11-11T10:45:38.034Z"
   },
   {
    "duration": 6,
    "start_time": "2022-11-11T10:45:38.048Z"
   },
   {
    "duration": 353,
    "start_time": "2022-11-11T10:45:38.056Z"
   },
   {
    "duration": 8,
    "start_time": "2022-11-11T10:45:38.411Z"
   },
   {
    "duration": 16,
    "start_time": "2022-11-11T10:45:38.420Z"
   },
   {
    "duration": 52,
    "start_time": "2022-11-11T10:45:38.438Z"
   },
   {
    "duration": 216,
    "start_time": "2022-11-11T10:45:38.491Z"
   },
   {
    "duration": 42,
    "start_time": "2022-11-11T10:45:38.708Z"
   },
   {
    "duration": 53,
    "start_time": "2022-11-11T10:45:38.752Z"
   },
   {
    "duration": 210,
    "start_time": "2022-11-11T10:45:38.807Z"
   },
   {
    "duration": 38,
    "start_time": "2022-11-11T10:45:39.018Z"
   },
   {
    "duration": 47,
    "start_time": "2022-11-11T11:02:38.679Z"
   },
   {
    "duration": 336,
    "start_time": "2022-11-11T11:04:02.603Z"
   },
   {
    "duration": 9,
    "start_time": "2022-11-11T11:04:19.040Z"
   },
   {
    "duration": 1853,
    "start_time": "2022-11-11T11:10:03.872Z"
   },
   {
    "duration": 44590,
    "start_time": "2022-11-11T11:14:02.023Z"
   },
   {
    "duration": 163,
    "start_time": "2022-11-11T11:20:54.324Z"
   },
   {
    "duration": 164,
    "start_time": "2022-11-11T11:21:05.836Z"
   },
   {
    "duration": 43085,
    "start_time": "2022-11-11T11:21:27.953Z"
   },
   {
    "duration": 146,
    "start_time": "2022-11-11T11:24:09.032Z"
   },
   {
    "duration": 54,
    "start_time": "2022-11-11T11:24:42.595Z"
   },
   {
    "duration": 3,
    "start_time": "2022-11-11T12:01:45.243Z"
   },
   {
    "duration": 16,
    "start_time": "2022-11-11T12:04:31.741Z"
   },
   {
    "duration": 14,
    "start_time": "2022-11-11T12:04:48.380Z"
   },
   {
    "duration": 14,
    "start_time": "2022-11-11T12:04:51.030Z"
   },
   {
    "duration": 13,
    "start_time": "2022-11-11T12:04:57.914Z"
   },
   {
    "duration": 17,
    "start_time": "2022-11-11T12:05:38.466Z"
   },
   {
    "duration": 19,
    "start_time": "2022-11-11T12:06:41.554Z"
   },
   {
    "duration": 16,
    "start_time": "2022-11-11T12:07:12.832Z"
   },
   {
    "duration": 15,
    "start_time": "2022-11-11T12:07:36.581Z"
   },
   {
    "duration": 15,
    "start_time": "2022-11-11T12:07:40.184Z"
   },
   {
    "duration": 15,
    "start_time": "2022-11-11T12:07:49.991Z"
   },
   {
    "duration": 15,
    "start_time": "2022-11-11T12:14:14.455Z"
   },
   {
    "duration": 67,
    "start_time": "2022-11-11T12:14:40.930Z"
   },
   {
    "duration": 73,
    "start_time": "2022-11-11T12:15:03.021Z"
   },
   {
    "duration": 70,
    "start_time": "2022-11-11T12:15:45.283Z"
   },
   {
    "duration": 68,
    "start_time": "2022-11-11T12:17:32.215Z"
   },
   {
    "duration": 68,
    "start_time": "2022-11-11T12:17:42.777Z"
   },
   {
    "duration": 80,
    "start_time": "2022-11-11T12:18:12.759Z"
   },
   {
    "duration": 43,
    "start_time": "2022-11-11T12:18:38.867Z"
   },
   {
    "duration": 1286,
    "start_time": "2022-11-11T12:21:05.491Z"
   },
   {
    "duration": 28,
    "start_time": "2022-11-11T12:21:06.779Z"
   },
   {
    "duration": 9,
    "start_time": "2022-11-11T12:21:06.809Z"
   },
   {
    "duration": 15,
    "start_time": "2022-11-11T12:21:06.819Z"
   },
   {
    "duration": 6,
    "start_time": "2022-11-11T12:21:06.835Z"
   },
   {
    "duration": 336,
    "start_time": "2022-11-11T12:21:06.842Z"
   },
   {
    "duration": 9,
    "start_time": "2022-11-11T12:21:07.179Z"
   },
   {
    "duration": 63,
    "start_time": "2022-11-11T12:21:07.189Z"
   },
   {
    "duration": 40635,
    "start_time": "2022-11-11T12:21:07.254Z"
   },
   {
    "duration": 49,
    "start_time": "2022-11-11T12:21:47.891Z"
   },
   {
    "duration": 159,
    "start_time": "2022-11-11T12:21:47.942Z"
   },
   {
    "duration": 73,
    "start_time": "2022-11-11T12:21:48.103Z"
   },
   {
    "duration": 64,
    "start_time": "2022-11-11T12:22:45.653Z"
   }
  ],
  "kernelspec": {
   "display_name": "Python 3 (ipykernel)",
   "language": "python",
   "name": "python3"
  },
  "language_info": {
   "codemirror_mode": {
    "name": "ipython",
    "version": 3
   },
   "file_extension": ".py",
   "mimetype": "text/x-python",
   "name": "python",
   "nbconvert_exporter": "python",
   "pygments_lexer": "ipython3",
   "version": "3.9.15"
  },
  "toc": {
   "base_numbering": 1,
   "nav_menu": {},
   "number_sections": true,
   "sideBar": true,
   "skip_h1_title": true,
   "title_cell": "Table of Contents",
   "title_sidebar": "Contents",
   "toc_cell": false,
   "toc_position": {},
   "toc_section_display": true,
   "toc_window_display": false
  }
 },
 "nbformat": 4,
 "nbformat_minor": 2
}
