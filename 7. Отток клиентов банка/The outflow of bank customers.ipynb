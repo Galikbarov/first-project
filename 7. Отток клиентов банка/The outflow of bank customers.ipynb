{
 "cells": [
  {
   "cell_type": "markdown",
   "metadata": {},
   "source": [
    "<div style=\"padding: 30px 25px; border: 2px #6495ed solid\">\n",
    "    \n",
    "<b>Привет, Роман!</b>\n",
    "\n",
    "Меня зовут Алексей Косенко, и я буду проверять твой проект.\n",
    "    \n",
    "Предлагаю общаться на «<b>ты</b>», но если это неудобно — обязательно сообщи об этом.\n",
    "    \n",
    "Ниже ты увидишь мои комментарии, выделенные разным цветом:\n",
    "    \n",
    "<div class=\"alert alert-success\">\n",
    "<h2>Комментарий ревьюера<a class=\"tocSkip\"></a></h2>\n",
    "\n",
    "<b>Отлично!</b> ✔️: все ок, продолжай в том же духе :)\n",
    "\n",
    "</div>\n",
    "<div class=\"alert alert-warning\">\n",
    "<h2>Комментарий ревьюера<a class=\"tocSkip\"></a></h2>\n",
    "    \n",
    "<b>Есть совет</b> ⚠️: так выделены некритичные замечания или советы, которые смогут улучшить твой проект.\n",
    "\n",
    "</div>\n",
    "<div class=\"alert alert-danger\">\n",
    "<h2>Комментарий ревьюера<a class=\"tocSkip\"></a></h2>\n",
    "\n",
    "<b>Нужно доработать</b> ❌: так выделены важные замечания — без их исправления проект не может быть принят.\n",
    "    \n",
    "</div>\n",
    "\n",
    "Будет здорово, если ты будешь участвовать в диалоге, а свои вопросы, комментарии и изменения в проекте тоже будешь выделять, например, вот так:\n",
    "    \n",
    "<div class=\"alert alert-info\">\n",
    "    <b>Комментарий студента:</b> твой комментарий\n",
    "</div>\n",
    "    \n",
    "Пожалуйста, не перемещай и не удаляй мои комментарии, это усложнит повторную проверку.\n",
    "    \n",
    "</div>"
   ]
  },
  {
   "cell_type": "markdown",
   "metadata": {},
   "source": [
    "<div style=\"padding: 30px 25px; border: 2px #6495ed solid\">\n",
    "    \n",
    "<b>Еще раз привет!</b>\n",
    "\n",
    "Спасибо, что доделал работу, оформление комментариев остается тем же, только обозначим номер итерации: v2\n",
    "    \n",
    "</div>"
   ]
  },
  {
   "cell_type": "markdown",
   "metadata": {
    "toc": true
   },
   "source": [
    "<h1>Содержание<span class=\"tocSkip\"></span></h1>\n",
    "<div class=\"toc\"><ul class=\"toc-item\"><li><span><a href=\"#Подготовка-данных\" data-toc-modified-id=\"Подготовка-данных-1\"><span class=\"toc-item-num\">1&nbsp;&nbsp;</span>Подготовка данных</a></span></li><li><span><a href=\"#Исследование-задачи\" data-toc-modified-id=\"Исследование-задачи-2\"><span class=\"toc-item-num\">2&nbsp;&nbsp;</span>Исследование задачи</a></span></li><li><span><a href=\"#Борьба-с-дисбалансом\" data-toc-modified-id=\"Борьба-с-дисбалансом-3\"><span class=\"toc-item-num\">3&nbsp;&nbsp;</span>Борьба с дисбалансом</a></span></li><li><span><a href=\"#Тестирование-модели\" data-toc-modified-id=\"Тестирование-модели-4\"><span class=\"toc-item-num\">4&nbsp;&nbsp;</span>Тестирование модели</a></span></li><li><span><a href=\"#Общий-вывод\" data-toc-modified-id=\"Общий-вывод-5\"><span class=\"toc-item-num\">5&nbsp;&nbsp;</span>Общий вывод</a></span></li><li><span><a href=\"#Чек-лист-готовности-проекта\" data-toc-modified-id=\"Чек-лист-готовности-проекта-6\"><span class=\"toc-item-num\">6&nbsp;&nbsp;</span>Чек-лист готовности проекта</a></span></li></ul></div>"
   ]
  },
  {
   "cell_type": "markdown",
   "metadata": {},
   "source": [
    "# Отток клиентов"
   ]
  },
  {
   "cell_type": "markdown",
   "metadata": {},
   "source": [
    "Из «Бета-Банка» каждый месяц стали уходить клиенты. Банковские маркетологи посчитали: сохранять текущих клиентов дешевле, чем привлекать новых. Нам нужно спрогнозировать, уйдёт клиент из банка в ближайшее время или нет. Нам предоставлены исторические данные о поведении клиентов и расторжении договоров с банком. \n",
    "\n",
    "**Цель исследования:**\n",
    "\n",
    "Построить модель с предельно большим значением *F1*-меры.\n",
    "\n",
    "**Ход исследования:** \n",
    "\n",
    "Данные о поведении клиентов получим из файлов `Churn.csv`. О качестве данных ничего не известно. Чтобы сдать проект успешно, нужно довести метрику до 0.59. Проверим *F1*-меру на тестовой выборке самостоятельно. Дополнительно измерим *AUC-ROC*, сравним её значение с *F1*-мерой.\n",
    "\n",
    "Таким образом, исследование пройдёт в шесть этапов:\n",
    " 1. Подготовка данных.\n",
    " 2. Исследование задачи.\n",
    " 3. Борьба с дисбалансом.\n",
    " 4. Тестирование модели.\n",
    " 5. Общий вывод.\n",
    "\n",
    "\n",
    "\n",
    "Источник данных: [https://www.kaggle.com/barelydedicated/bank-customer-churn-modeling](https://www.kaggle.com/barelydedicated/bank-customer-churn-modeling)"
   ]
  },
  {
   "cell_type": "markdown",
   "metadata": {},
   "source": [
    "## Подготовка данных"
   ]
  },
  {
   "cell_type": "markdown",
   "metadata": {},
   "source": [
    "Загрузим и подготовьте данные. Поясним порядок действий:"
   ]
  },
  {
   "cell_type": "code",
   "execution_count": 1,
   "metadata": {},
   "outputs": [],
   "source": [
    "import pandas as pd\n",
    "import matplotlib.pyplot as plt  \n",
    "import seaborn as sns  \n",
    "from sklearn.tree import DecisionTreeClassifier\n",
    "from sklearn.ensemble import RandomForestClassifier\n",
    "from sklearn.model_selection import train_test_split\n",
    "from sklearn.metrics import accuracy_score\n",
    "from sklearn.preprocessing import OrdinalEncoder\n",
    "from sklearn.preprocessing import StandardScaler\n",
    "from sklearn.metrics import f1_score\n",
    "from sklearn.metrics import roc_curve\n",
    "from sklearn.metrics import roc_auc_score\n",
    "from sklearn.utils import shuffle"
   ]
  },
  {
   "cell_type": "markdown",
   "metadata": {},
   "source": [
    "<div class=\"alert alert-success\">\n",
    "<h2>Комментарий ревьюера<a class=\"tocSkip\"></a></h2>\n",
    "    \n",
    "**Отлично!** ✔️: все импорты в одном месте, удобно :)</div>"
   ]
  },
  {
   "cell_type": "code",
   "execution_count": 2,
   "metadata": {},
   "outputs": [
    {
     "data": {
      "text/html": [
       "<div>\n",
       "<style scoped>\n",
       "    .dataframe tbody tr th:only-of-type {\n",
       "        vertical-align: middle;\n",
       "    }\n",
       "\n",
       "    .dataframe tbody tr th {\n",
       "        vertical-align: top;\n",
       "    }\n",
       "\n",
       "    .dataframe thead th {\n",
       "        text-align: right;\n",
       "    }\n",
       "</style>\n",
       "<table border=\"1\" class=\"dataframe\">\n",
       "  <thead>\n",
       "    <tr style=\"text-align: right;\">\n",
       "      <th></th>\n",
       "      <th>RowNumber</th>\n",
       "      <th>CustomerId</th>\n",
       "      <th>Surname</th>\n",
       "      <th>CreditScore</th>\n",
       "      <th>Geography</th>\n",
       "      <th>Gender</th>\n",
       "      <th>Age</th>\n",
       "      <th>Tenure</th>\n",
       "      <th>Balance</th>\n",
       "      <th>NumOfProducts</th>\n",
       "      <th>HasCrCard</th>\n",
       "      <th>IsActiveMember</th>\n",
       "      <th>EstimatedSalary</th>\n",
       "      <th>Exited</th>\n",
       "    </tr>\n",
       "  </thead>\n",
       "  <tbody>\n",
       "    <tr>\n",
       "      <th>0</th>\n",
       "      <td>1</td>\n",
       "      <td>15634602</td>\n",
       "      <td>Hargrave</td>\n",
       "      <td>619</td>\n",
       "      <td>France</td>\n",
       "      <td>Female</td>\n",
       "      <td>42</td>\n",
       "      <td>2.0</td>\n",
       "      <td>0.00</td>\n",
       "      <td>1</td>\n",
       "      <td>1</td>\n",
       "      <td>1</td>\n",
       "      <td>101348.88</td>\n",
       "      <td>1</td>\n",
       "    </tr>\n",
       "    <tr>\n",
       "      <th>1</th>\n",
       "      <td>2</td>\n",
       "      <td>15647311</td>\n",
       "      <td>Hill</td>\n",
       "      <td>608</td>\n",
       "      <td>Spain</td>\n",
       "      <td>Female</td>\n",
       "      <td>41</td>\n",
       "      <td>1.0</td>\n",
       "      <td>83807.86</td>\n",
       "      <td>1</td>\n",
       "      <td>0</td>\n",
       "      <td>1</td>\n",
       "      <td>112542.58</td>\n",
       "      <td>0</td>\n",
       "    </tr>\n",
       "    <tr>\n",
       "      <th>2</th>\n",
       "      <td>3</td>\n",
       "      <td>15619304</td>\n",
       "      <td>Onio</td>\n",
       "      <td>502</td>\n",
       "      <td>France</td>\n",
       "      <td>Female</td>\n",
       "      <td>42</td>\n",
       "      <td>8.0</td>\n",
       "      <td>159660.80</td>\n",
       "      <td>3</td>\n",
       "      <td>1</td>\n",
       "      <td>0</td>\n",
       "      <td>113931.57</td>\n",
       "      <td>1</td>\n",
       "    </tr>\n",
       "    <tr>\n",
       "      <th>3</th>\n",
       "      <td>4</td>\n",
       "      <td>15701354</td>\n",
       "      <td>Boni</td>\n",
       "      <td>699</td>\n",
       "      <td>France</td>\n",
       "      <td>Female</td>\n",
       "      <td>39</td>\n",
       "      <td>1.0</td>\n",
       "      <td>0.00</td>\n",
       "      <td>2</td>\n",
       "      <td>0</td>\n",
       "      <td>0</td>\n",
       "      <td>93826.63</td>\n",
       "      <td>0</td>\n",
       "    </tr>\n",
       "    <tr>\n",
       "      <th>4</th>\n",
       "      <td>5</td>\n",
       "      <td>15737888</td>\n",
       "      <td>Mitchell</td>\n",
       "      <td>850</td>\n",
       "      <td>Spain</td>\n",
       "      <td>Female</td>\n",
       "      <td>43</td>\n",
       "      <td>2.0</td>\n",
       "      <td>125510.82</td>\n",
       "      <td>1</td>\n",
       "      <td>1</td>\n",
       "      <td>1</td>\n",
       "      <td>79084.10</td>\n",
       "      <td>0</td>\n",
       "    </tr>\n",
       "    <tr>\n",
       "      <th>5</th>\n",
       "      <td>6</td>\n",
       "      <td>15574012</td>\n",
       "      <td>Chu</td>\n",
       "      <td>645</td>\n",
       "      <td>Spain</td>\n",
       "      <td>Male</td>\n",
       "      <td>44</td>\n",
       "      <td>8.0</td>\n",
       "      <td>113755.78</td>\n",
       "      <td>2</td>\n",
       "      <td>1</td>\n",
       "      <td>0</td>\n",
       "      <td>149756.71</td>\n",
       "      <td>1</td>\n",
       "    </tr>\n",
       "    <tr>\n",
       "      <th>6</th>\n",
       "      <td>7</td>\n",
       "      <td>15592531</td>\n",
       "      <td>Bartlett</td>\n",
       "      <td>822</td>\n",
       "      <td>France</td>\n",
       "      <td>Male</td>\n",
       "      <td>50</td>\n",
       "      <td>7.0</td>\n",
       "      <td>0.00</td>\n",
       "      <td>2</td>\n",
       "      <td>1</td>\n",
       "      <td>1</td>\n",
       "      <td>10062.80</td>\n",
       "      <td>0</td>\n",
       "    </tr>\n",
       "    <tr>\n",
       "      <th>7</th>\n",
       "      <td>8</td>\n",
       "      <td>15656148</td>\n",
       "      <td>Obinna</td>\n",
       "      <td>376</td>\n",
       "      <td>Germany</td>\n",
       "      <td>Female</td>\n",
       "      <td>29</td>\n",
       "      <td>4.0</td>\n",
       "      <td>115046.74</td>\n",
       "      <td>4</td>\n",
       "      <td>1</td>\n",
       "      <td>0</td>\n",
       "      <td>119346.88</td>\n",
       "      <td>1</td>\n",
       "    </tr>\n",
       "    <tr>\n",
       "      <th>8</th>\n",
       "      <td>9</td>\n",
       "      <td>15792365</td>\n",
       "      <td>He</td>\n",
       "      <td>501</td>\n",
       "      <td>France</td>\n",
       "      <td>Male</td>\n",
       "      <td>44</td>\n",
       "      <td>4.0</td>\n",
       "      <td>142051.07</td>\n",
       "      <td>2</td>\n",
       "      <td>0</td>\n",
       "      <td>1</td>\n",
       "      <td>74940.50</td>\n",
       "      <td>0</td>\n",
       "    </tr>\n",
       "    <tr>\n",
       "      <th>9</th>\n",
       "      <td>10</td>\n",
       "      <td>15592389</td>\n",
       "      <td>H?</td>\n",
       "      <td>684</td>\n",
       "      <td>France</td>\n",
       "      <td>Male</td>\n",
       "      <td>27</td>\n",
       "      <td>2.0</td>\n",
       "      <td>134603.88</td>\n",
       "      <td>1</td>\n",
       "      <td>1</td>\n",
       "      <td>1</td>\n",
       "      <td>71725.73</td>\n",
       "      <td>0</td>\n",
       "    </tr>\n",
       "  </tbody>\n",
       "</table>\n",
       "</div>"
      ],
      "text/plain": [
       "   RowNumber  CustomerId   Surname  CreditScore Geography  Gender  Age  \\\n",
       "0          1    15634602  Hargrave          619    France  Female   42   \n",
       "1          2    15647311      Hill          608     Spain  Female   41   \n",
       "2          3    15619304      Onio          502    France  Female   42   \n",
       "3          4    15701354      Boni          699    France  Female   39   \n",
       "4          5    15737888  Mitchell          850     Spain  Female   43   \n",
       "5          6    15574012       Chu          645     Spain    Male   44   \n",
       "6          7    15592531  Bartlett          822    France    Male   50   \n",
       "7          8    15656148    Obinna          376   Germany  Female   29   \n",
       "8          9    15792365        He          501    France    Male   44   \n",
       "9         10    15592389        H?          684    France    Male   27   \n",
       "\n",
       "   Tenure    Balance  NumOfProducts  HasCrCard  IsActiveMember  \\\n",
       "0     2.0       0.00              1          1               1   \n",
       "1     1.0   83807.86              1          0               1   \n",
       "2     8.0  159660.80              3          1               0   \n",
       "3     1.0       0.00              2          0               0   \n",
       "4     2.0  125510.82              1          1               1   \n",
       "5     8.0  113755.78              2          1               0   \n",
       "6     7.0       0.00              2          1               1   \n",
       "7     4.0  115046.74              4          1               0   \n",
       "8     4.0  142051.07              2          0               1   \n",
       "9     2.0  134603.88              1          1               1   \n",
       "\n",
       "   EstimatedSalary  Exited  \n",
       "0        101348.88       1  \n",
       "1        112542.58       0  \n",
       "2        113931.57       1  \n",
       "3         93826.63       0  \n",
       "4         79084.10       0  \n",
       "5        149756.71       1  \n",
       "6         10062.80       0  \n",
       "7        119346.88       1  \n",
       "8         74940.50       0  \n",
       "9         71725.73       0  "
      ]
     },
     "execution_count": 2,
     "metadata": {},
     "output_type": "execute_result"
    }
   ],
   "source": [
    "data = pd.read_csv('/datasets/Churn.csv')\n",
    "\n",
    "data.head(10)"
   ]
  },
  {
   "cell_type": "code",
   "execution_count": 3,
   "metadata": {},
   "outputs": [
    {
     "data": {
      "text/plain": [
       "0"
      ]
     },
     "execution_count": 3,
     "metadata": {},
     "output_type": "execute_result"
    }
   ],
   "source": [
    "data.duplicated().sum()"
   ]
  },
  {
   "cell_type": "code",
   "execution_count": 4,
   "metadata": {},
   "outputs": [
    {
     "name": "stdout",
     "output_type": "stream",
     "text": [
      "<class 'pandas.core.frame.DataFrame'>\n",
      "RangeIndex: 10000 entries, 0 to 9999\n",
      "Data columns (total 14 columns):\n",
      " #   Column           Non-Null Count  Dtype  \n",
      "---  ------           --------------  -----  \n",
      " 0   RowNumber        10000 non-null  int64  \n",
      " 1   CustomerId       10000 non-null  int64  \n",
      " 2   Surname          10000 non-null  object \n",
      " 3   CreditScore      10000 non-null  int64  \n",
      " 4   Geography        10000 non-null  object \n",
      " 5   Gender           10000 non-null  object \n",
      " 6   Age              10000 non-null  int64  \n",
      " 7   Tenure           9091 non-null   float64\n",
      " 8   Balance          10000 non-null  float64\n",
      " 9   NumOfProducts    10000 non-null  int64  \n",
      " 10  HasCrCard        10000 non-null  int64  \n",
      " 11  IsActiveMember   10000 non-null  int64  \n",
      " 12  EstimatedSalary  10000 non-null  float64\n",
      " 13  Exited           10000 non-null  int64  \n",
      "dtypes: float64(3), int64(8), object(3)\n",
      "memory usage: 1.1+ MB\n"
     ]
    }
   ],
   "source": [
    "data.info()"
   ]
  },
  {
   "cell_type": "markdown",
   "metadata": {},
   "source": [
    "* `RowNumber` — индекс строки в данных\n",
    "* `CustomerId` — уникальный идентификатор клиента\n",
    "* `Surname` — фамилия\n",
    "* `CreditScore` — кредитный рейтинг\n",
    "* `Geography` — страна проживания\n",
    "* `Gender` — пол\n",
    "* `Age` — возраст\n",
    "* `Tenure` — сколько лет человек является клиентом банка\n",
    "* `Balance` — баланс на счёте\n",
    "* `NumOfProducts` — количество продуктов банка, используемых клиентом\n",
    "* `HasCrCard` — наличие кредитной карты\n",
    "* `IsActiveMember` — активность клиента\n",
    "* `EstimatedSalary` — предполагаемая зарплата"
   ]
  },
  {
   "cell_type": "code",
   "execution_count": 5,
   "metadata": {},
   "outputs": [],
   "source": [
    "data.columns = data.columns.str.lower()"
   ]
  },
  {
   "cell_type": "code",
   "execution_count": 6,
   "metadata": {},
   "outputs": [
    {
     "data": {
      "text/plain": [
       "rownumber            0\n",
       "customerid           0\n",
       "surname              0\n",
       "creditscore          0\n",
       "geography            0\n",
       "gender               0\n",
       "age                  0\n",
       "tenure             909\n",
       "balance              0\n",
       "numofproducts        0\n",
       "hascrcard            0\n",
       "isactivemember       0\n",
       "estimatedsalary      0\n",
       "exited               0\n",
       "dtype: int64"
      ]
     },
     "execution_count": 6,
     "metadata": {},
     "output_type": "execute_result"
    }
   ],
   "source": [
    "data.isna().sum()"
   ]
  },
  {
   "cell_type": "markdown",
   "metadata": {},
   "source": [
    "Посчитаем процент пропуска данных в столбцах:"
   ]
  },
  {
   "cell_type": "code",
   "execution_count": 7,
   "metadata": {},
   "outputs": [
    {
     "data": {
      "text/html": [
       "<style  type=\"text/css\" >\n",
       "#T_608d4_row0_col0{\n",
       "            background-color:  #b40426;\n",
       "            color:  #f1f1f1;\n",
       "        }#T_608d4_row1_col0,#T_608d4_row2_col0,#T_608d4_row3_col0,#T_608d4_row4_col0,#T_608d4_row5_col0,#T_608d4_row6_col0,#T_608d4_row7_col0,#T_608d4_row8_col0,#T_608d4_row9_col0,#T_608d4_row10_col0,#T_608d4_row11_col0,#T_608d4_row12_col0,#T_608d4_row13_col0{\n",
       "            background-color:  #3b4cc0;\n",
       "            color:  #f1f1f1;\n",
       "        }</style><table id=\"T_608d4_\" ><thead>    <tr>        <th class=\"blank level0\" ></th>        <th class=\"col_heading level0 col0\" >0</th>    </tr></thead><tbody>\n",
       "                <tr>\n",
       "                        <th id=\"T_608d4_level0_row0\" class=\"row_heading level0 row0\" >tenure</th>\n",
       "                        <td id=\"T_608d4_row0_col0\" class=\"data row0 col0\" >9.090000</td>\n",
       "            </tr>\n",
       "            <tr>\n",
       "                        <th id=\"T_608d4_level0_row1\" class=\"row_heading level0 row1\" >exited</th>\n",
       "                        <td id=\"T_608d4_row1_col0\" class=\"data row1 col0\" >0.000000</td>\n",
       "            </tr>\n",
       "            <tr>\n",
       "                        <th id=\"T_608d4_level0_row2\" class=\"row_heading level0 row2\" >estimatedsalary</th>\n",
       "                        <td id=\"T_608d4_row2_col0\" class=\"data row2 col0\" >0.000000</td>\n",
       "            </tr>\n",
       "            <tr>\n",
       "                        <th id=\"T_608d4_level0_row3\" class=\"row_heading level0 row3\" >isactivemember</th>\n",
       "                        <td id=\"T_608d4_row3_col0\" class=\"data row3 col0\" >0.000000</td>\n",
       "            </tr>\n",
       "            <tr>\n",
       "                        <th id=\"T_608d4_level0_row4\" class=\"row_heading level0 row4\" >hascrcard</th>\n",
       "                        <td id=\"T_608d4_row4_col0\" class=\"data row4 col0\" >0.000000</td>\n",
       "            </tr>\n",
       "            <tr>\n",
       "                        <th id=\"T_608d4_level0_row5\" class=\"row_heading level0 row5\" >numofproducts</th>\n",
       "                        <td id=\"T_608d4_row5_col0\" class=\"data row5 col0\" >0.000000</td>\n",
       "            </tr>\n",
       "            <tr>\n",
       "                        <th id=\"T_608d4_level0_row6\" class=\"row_heading level0 row6\" >balance</th>\n",
       "                        <td id=\"T_608d4_row6_col0\" class=\"data row6 col0\" >0.000000</td>\n",
       "            </tr>\n",
       "            <tr>\n",
       "                        <th id=\"T_608d4_level0_row7\" class=\"row_heading level0 row7\" >age</th>\n",
       "                        <td id=\"T_608d4_row7_col0\" class=\"data row7 col0\" >0.000000</td>\n",
       "            </tr>\n",
       "            <tr>\n",
       "                        <th id=\"T_608d4_level0_row8\" class=\"row_heading level0 row8\" >gender</th>\n",
       "                        <td id=\"T_608d4_row8_col0\" class=\"data row8 col0\" >0.000000</td>\n",
       "            </tr>\n",
       "            <tr>\n",
       "                        <th id=\"T_608d4_level0_row9\" class=\"row_heading level0 row9\" >geography</th>\n",
       "                        <td id=\"T_608d4_row9_col0\" class=\"data row9 col0\" >0.000000</td>\n",
       "            </tr>\n",
       "            <tr>\n",
       "                        <th id=\"T_608d4_level0_row10\" class=\"row_heading level0 row10\" >creditscore</th>\n",
       "                        <td id=\"T_608d4_row10_col0\" class=\"data row10 col0\" >0.000000</td>\n",
       "            </tr>\n",
       "            <tr>\n",
       "                        <th id=\"T_608d4_level0_row11\" class=\"row_heading level0 row11\" >surname</th>\n",
       "                        <td id=\"T_608d4_row11_col0\" class=\"data row11 col0\" >0.000000</td>\n",
       "            </tr>\n",
       "            <tr>\n",
       "                        <th id=\"T_608d4_level0_row12\" class=\"row_heading level0 row12\" >customerid</th>\n",
       "                        <td id=\"T_608d4_row12_col0\" class=\"data row12 col0\" >0.000000</td>\n",
       "            </tr>\n",
       "            <tr>\n",
       "                        <th id=\"T_608d4_level0_row13\" class=\"row_heading level0 row13\" >rownumber</th>\n",
       "                        <td id=\"T_608d4_row13_col0\" class=\"data row13 col0\" >0.000000</td>\n",
       "            </tr>\n",
       "    </tbody></table>"
      ],
      "text/plain": [
       "<pandas.io.formats.style.Styler at 0x7fa37fe42dc0>"
      ]
     },
     "execution_count": 7,
     "metadata": {},
     "output_type": "execute_result"
    }
   ],
   "source": [
    "\n",
    "pd.DataFrame(data.isna().mean().round(4)*100).sort_values(by=0)[::-1].style.background_gradient('coolwarm')"
   ]
  },
  {
   "cell_type": "code",
   "execution_count": 8,
   "metadata": {},
   "outputs": [
    {
     "data": {
      "text/plain": [
       "array([ 2.,  1.,  8.,  7.,  4.,  6.,  3., 10.,  5.,  9.,  0., nan])"
      ]
     },
     "execution_count": 8,
     "metadata": {},
     "output_type": "execute_result"
    }
   ],
   "source": [
    "data['tenure'].unique()"
   ]
  },
  {
   "cell_type": "code",
   "execution_count": 9,
   "metadata": {},
   "outputs": [
    {
     "data": {
      "text/html": [
       "<div>\n",
       "<style scoped>\n",
       "    .dataframe tbody tr th:only-of-type {\n",
       "        vertical-align: middle;\n",
       "    }\n",
       "\n",
       "    .dataframe tbody tr th {\n",
       "        vertical-align: top;\n",
       "    }\n",
       "\n",
       "    .dataframe thead th {\n",
       "        text-align: right;\n",
       "    }\n",
       "</style>\n",
       "<table border=\"1\" class=\"dataframe\">\n",
       "  <thead>\n",
       "    <tr style=\"text-align: right;\">\n",
       "      <th></th>\n",
       "      <th>rownumber</th>\n",
       "      <th>customerid</th>\n",
       "      <th>surname</th>\n",
       "      <th>creditscore</th>\n",
       "      <th>geography</th>\n",
       "      <th>gender</th>\n",
       "      <th>age</th>\n",
       "      <th>tenure</th>\n",
       "      <th>balance</th>\n",
       "      <th>numofproducts</th>\n",
       "      <th>hascrcard</th>\n",
       "      <th>isactivemember</th>\n",
       "      <th>estimatedsalary</th>\n",
       "      <th>exited</th>\n",
       "    </tr>\n",
       "  </thead>\n",
       "  <tbody>\n",
       "    <tr>\n",
       "      <th>29</th>\n",
       "      <td>30</td>\n",
       "      <td>15656300</td>\n",
       "      <td>Lucciano</td>\n",
       "      <td>411</td>\n",
       "      <td>France</td>\n",
       "      <td>Male</td>\n",
       "      <td>29</td>\n",
       "      <td>0.0</td>\n",
       "      <td>59697.17</td>\n",
       "      <td>2</td>\n",
       "      <td>1</td>\n",
       "      <td>1</td>\n",
       "      <td>53483.21</td>\n",
       "      <td>0</td>\n",
       "    </tr>\n",
       "    <tr>\n",
       "      <th>35</th>\n",
       "      <td>36</td>\n",
       "      <td>15794171</td>\n",
       "      <td>Lombardo</td>\n",
       "      <td>475</td>\n",
       "      <td>France</td>\n",
       "      <td>Female</td>\n",
       "      <td>45</td>\n",
       "      <td>0.0</td>\n",
       "      <td>134264.04</td>\n",
       "      <td>1</td>\n",
       "      <td>1</td>\n",
       "      <td>0</td>\n",
       "      <td>27822.99</td>\n",
       "      <td>1</td>\n",
       "    </tr>\n",
       "    <tr>\n",
       "      <th>57</th>\n",
       "      <td>58</td>\n",
       "      <td>15647091</td>\n",
       "      <td>Endrizzi</td>\n",
       "      <td>725</td>\n",
       "      <td>Germany</td>\n",
       "      <td>Male</td>\n",
       "      <td>19</td>\n",
       "      <td>0.0</td>\n",
       "      <td>75888.20</td>\n",
       "      <td>1</td>\n",
       "      <td>0</td>\n",
       "      <td>0</td>\n",
       "      <td>45613.75</td>\n",
       "      <td>0</td>\n",
       "    </tr>\n",
       "    <tr>\n",
       "      <th>72</th>\n",
       "      <td>73</td>\n",
       "      <td>15812518</td>\n",
       "      <td>Palermo</td>\n",
       "      <td>657</td>\n",
       "      <td>Spain</td>\n",
       "      <td>Female</td>\n",
       "      <td>37</td>\n",
       "      <td>0.0</td>\n",
       "      <td>163607.18</td>\n",
       "      <td>1</td>\n",
       "      <td>0</td>\n",
       "      <td>1</td>\n",
       "      <td>44203.55</td>\n",
       "      <td>0</td>\n",
       "    </tr>\n",
       "    <tr>\n",
       "      <th>127</th>\n",
       "      <td>128</td>\n",
       "      <td>15782688</td>\n",
       "      <td>Piccio</td>\n",
       "      <td>625</td>\n",
       "      <td>Germany</td>\n",
       "      <td>Male</td>\n",
       "      <td>56</td>\n",
       "      <td>0.0</td>\n",
       "      <td>148507.24</td>\n",
       "      <td>1</td>\n",
       "      <td>1</td>\n",
       "      <td>0</td>\n",
       "      <td>46824.08</td>\n",
       "      <td>1</td>\n",
       "    </tr>\n",
       "    <tr>\n",
       "      <th>...</th>\n",
       "      <td>...</td>\n",
       "      <td>...</td>\n",
       "      <td>...</td>\n",
       "      <td>...</td>\n",
       "      <td>...</td>\n",
       "      <td>...</td>\n",
       "      <td>...</td>\n",
       "      <td>...</td>\n",
       "      <td>...</td>\n",
       "      <td>...</td>\n",
       "      <td>...</td>\n",
       "      <td>...</td>\n",
       "      <td>...</td>\n",
       "      <td>...</td>\n",
       "    </tr>\n",
       "    <tr>\n",
       "      <th>9793</th>\n",
       "      <td>9794</td>\n",
       "      <td>15772363</td>\n",
       "      <td>Hilton</td>\n",
       "      <td>772</td>\n",
       "      <td>Germany</td>\n",
       "      <td>Female</td>\n",
       "      <td>42</td>\n",
       "      <td>0.0</td>\n",
       "      <td>101979.16</td>\n",
       "      <td>1</td>\n",
       "      <td>1</td>\n",
       "      <td>0</td>\n",
       "      <td>90928.48</td>\n",
       "      <td>0</td>\n",
       "    </tr>\n",
       "    <tr>\n",
       "      <th>9799</th>\n",
       "      <td>9800</td>\n",
       "      <td>15722731</td>\n",
       "      <td>Manna</td>\n",
       "      <td>653</td>\n",
       "      <td>France</td>\n",
       "      <td>Male</td>\n",
       "      <td>46</td>\n",
       "      <td>0.0</td>\n",
       "      <td>119556.10</td>\n",
       "      <td>1</td>\n",
       "      <td>1</td>\n",
       "      <td>0</td>\n",
       "      <td>78250.13</td>\n",
       "      <td>1</td>\n",
       "    </tr>\n",
       "    <tr>\n",
       "      <th>9843</th>\n",
       "      <td>9844</td>\n",
       "      <td>15778304</td>\n",
       "      <td>Fan</td>\n",
       "      <td>646</td>\n",
       "      <td>Germany</td>\n",
       "      <td>Male</td>\n",
       "      <td>24</td>\n",
       "      <td>0.0</td>\n",
       "      <td>92398.08</td>\n",
       "      <td>1</td>\n",
       "      <td>1</td>\n",
       "      <td>1</td>\n",
       "      <td>18897.29</td>\n",
       "      <td>0</td>\n",
       "    </tr>\n",
       "    <tr>\n",
       "      <th>9868</th>\n",
       "      <td>9869</td>\n",
       "      <td>15587640</td>\n",
       "      <td>Rowntree</td>\n",
       "      <td>718</td>\n",
       "      <td>France</td>\n",
       "      <td>Female</td>\n",
       "      <td>43</td>\n",
       "      <td>0.0</td>\n",
       "      <td>93143.39</td>\n",
       "      <td>1</td>\n",
       "      <td>1</td>\n",
       "      <td>0</td>\n",
       "      <td>167554.86</td>\n",
       "      <td>0</td>\n",
       "    </tr>\n",
       "    <tr>\n",
       "      <th>9919</th>\n",
       "      <td>9920</td>\n",
       "      <td>15798084</td>\n",
       "      <td>Murray</td>\n",
       "      <td>688</td>\n",
       "      <td>France</td>\n",
       "      <td>Male</td>\n",
       "      <td>26</td>\n",
       "      <td>0.0</td>\n",
       "      <td>0.00</td>\n",
       "      <td>2</td>\n",
       "      <td>1</td>\n",
       "      <td>0</td>\n",
       "      <td>105784.85</td>\n",
       "      <td>0</td>\n",
       "    </tr>\n",
       "  </tbody>\n",
       "</table>\n",
       "<p>382 rows × 14 columns</p>\n",
       "</div>"
      ],
      "text/plain": [
       "      rownumber  customerid   surname  creditscore geography  gender  age  \\\n",
       "29           30    15656300  Lucciano          411    France    Male   29   \n",
       "35           36    15794171  Lombardo          475    France  Female   45   \n",
       "57           58    15647091  Endrizzi          725   Germany    Male   19   \n",
       "72           73    15812518   Palermo          657     Spain  Female   37   \n",
       "127         128    15782688    Piccio          625   Germany    Male   56   \n",
       "...         ...         ...       ...          ...       ...     ...  ...   \n",
       "9793       9794    15772363    Hilton          772   Germany  Female   42   \n",
       "9799       9800    15722731     Manna          653    France    Male   46   \n",
       "9843       9844    15778304       Fan          646   Germany    Male   24   \n",
       "9868       9869    15587640  Rowntree          718    France  Female   43   \n",
       "9919       9920    15798084    Murray          688    France    Male   26   \n",
       "\n",
       "      tenure    balance  numofproducts  hascrcard  isactivemember  \\\n",
       "29       0.0   59697.17              2          1               1   \n",
       "35       0.0  134264.04              1          1               0   \n",
       "57       0.0   75888.20              1          0               0   \n",
       "72       0.0  163607.18              1          0               1   \n",
       "127      0.0  148507.24              1          1               0   \n",
       "...      ...        ...            ...        ...             ...   \n",
       "9793     0.0  101979.16              1          1               0   \n",
       "9799     0.0  119556.10              1          1               0   \n",
       "9843     0.0   92398.08              1          1               1   \n",
       "9868     0.0   93143.39              1          1               0   \n",
       "9919     0.0       0.00              2          1               0   \n",
       "\n",
       "      estimatedsalary  exited  \n",
       "29           53483.21       0  \n",
       "35           27822.99       1  \n",
       "57           45613.75       0  \n",
       "72           44203.55       0  \n",
       "127          46824.08       1  \n",
       "...               ...     ...  \n",
       "9793         90928.48       0  \n",
       "9799         78250.13       1  \n",
       "9843         18897.29       0  \n",
       "9868        167554.86       0  \n",
       "9919        105784.85       0  \n",
       "\n",
       "[382 rows x 14 columns]"
      ]
     },
     "execution_count": 9,
     "metadata": {},
     "output_type": "execute_result"
    }
   ],
   "source": [
    "data.query('tenure < 1')"
   ]
  },
  {
   "cell_type": "markdown",
   "metadata": {},
   "source": [
    "Заменять сколько лет человек является клиентом банка средним числом будет неправильным решением. Поэтому dummy признак - \"11\"."
   ]
  },
  {
   "cell_type": "code",
   "execution_count": 10,
   "metadata": {},
   "outputs": [],
   "source": [
    "data['tenure'].fillna(11, inplace=True)"
   ]
  },
  {
   "cell_type": "markdown",
   "metadata": {},
   "source": [
    "Проверим значения с заглушкой \"11\", возможно получится найти закономерность отсутствия данных:"
   ]
  },
  {
   "cell_type": "code",
   "execution_count": 11,
   "metadata": {},
   "outputs": [
    {
     "data": {
      "text/html": [
       "<div>\n",
       "<style scoped>\n",
       "    .dataframe tbody tr th:only-of-type {\n",
       "        vertical-align: middle;\n",
       "    }\n",
       "\n",
       "    .dataframe tbody tr th {\n",
       "        vertical-align: top;\n",
       "    }\n",
       "\n",
       "    .dataframe thead th {\n",
       "        text-align: right;\n",
       "    }\n",
       "</style>\n",
       "<table border=\"1\" class=\"dataframe\">\n",
       "  <thead>\n",
       "    <tr style=\"text-align: right;\">\n",
       "      <th></th>\n",
       "      <th>rownumber</th>\n",
       "      <th>customerid</th>\n",
       "      <th>surname</th>\n",
       "      <th>creditscore</th>\n",
       "      <th>geography</th>\n",
       "      <th>gender</th>\n",
       "      <th>age</th>\n",
       "      <th>tenure</th>\n",
       "      <th>balance</th>\n",
       "      <th>numofproducts</th>\n",
       "      <th>hascrcard</th>\n",
       "      <th>isactivemember</th>\n",
       "      <th>estimatedsalary</th>\n",
       "      <th>exited</th>\n",
       "    </tr>\n",
       "  </thead>\n",
       "  <tbody>\n",
       "    <tr>\n",
       "      <th>30</th>\n",
       "      <td>31</td>\n",
       "      <td>15589475</td>\n",
       "      <td>Azikiwe</td>\n",
       "      <td>591</td>\n",
       "      <td>Spain</td>\n",
       "      <td>Female</td>\n",
       "      <td>39</td>\n",
       "      <td>11.0</td>\n",
       "      <td>0.00</td>\n",
       "      <td>3</td>\n",
       "      <td>1</td>\n",
       "      <td>0</td>\n",
       "      <td>140469.38</td>\n",
       "      <td>1</td>\n",
       "    </tr>\n",
       "    <tr>\n",
       "      <th>48</th>\n",
       "      <td>49</td>\n",
       "      <td>15766205</td>\n",
       "      <td>Yin</td>\n",
       "      <td>550</td>\n",
       "      <td>Germany</td>\n",
       "      <td>Male</td>\n",
       "      <td>38</td>\n",
       "      <td>11.0</td>\n",
       "      <td>103391.38</td>\n",
       "      <td>1</td>\n",
       "      <td>0</td>\n",
       "      <td>1</td>\n",
       "      <td>90878.13</td>\n",
       "      <td>0</td>\n",
       "    </tr>\n",
       "    <tr>\n",
       "      <th>51</th>\n",
       "      <td>52</td>\n",
       "      <td>15768193</td>\n",
       "      <td>Trevisani</td>\n",
       "      <td>585</td>\n",
       "      <td>Germany</td>\n",
       "      <td>Male</td>\n",
       "      <td>36</td>\n",
       "      <td>11.0</td>\n",
       "      <td>146050.97</td>\n",
       "      <td>2</td>\n",
       "      <td>0</td>\n",
       "      <td>0</td>\n",
       "      <td>86424.57</td>\n",
       "      <td>0</td>\n",
       "    </tr>\n",
       "    <tr>\n",
       "      <th>53</th>\n",
       "      <td>54</td>\n",
       "      <td>15702298</td>\n",
       "      <td>Parkhill</td>\n",
       "      <td>655</td>\n",
       "      <td>Germany</td>\n",
       "      <td>Male</td>\n",
       "      <td>41</td>\n",
       "      <td>11.0</td>\n",
       "      <td>125561.97</td>\n",
       "      <td>1</td>\n",
       "      <td>0</td>\n",
       "      <td>0</td>\n",
       "      <td>164040.94</td>\n",
       "      <td>1</td>\n",
       "    </tr>\n",
       "    <tr>\n",
       "      <th>60</th>\n",
       "      <td>61</td>\n",
       "      <td>15651280</td>\n",
       "      <td>Hunter</td>\n",
       "      <td>742</td>\n",
       "      <td>Germany</td>\n",
       "      <td>Male</td>\n",
       "      <td>35</td>\n",
       "      <td>11.0</td>\n",
       "      <td>136857.00</td>\n",
       "      <td>1</td>\n",
       "      <td>0</td>\n",
       "      <td>0</td>\n",
       "      <td>84509.57</td>\n",
       "      <td>0</td>\n",
       "    </tr>\n",
       "    <tr>\n",
       "      <th>82</th>\n",
       "      <td>83</td>\n",
       "      <td>15641732</td>\n",
       "      <td>Mills</td>\n",
       "      <td>543</td>\n",
       "      <td>France</td>\n",
       "      <td>Female</td>\n",
       "      <td>36</td>\n",
       "      <td>11.0</td>\n",
       "      <td>0.00</td>\n",
       "      <td>2</td>\n",
       "      <td>0</td>\n",
       "      <td>0</td>\n",
       "      <td>26019.59</td>\n",
       "      <td>0</td>\n",
       "    </tr>\n",
       "    <tr>\n",
       "      <th>85</th>\n",
       "      <td>86</td>\n",
       "      <td>15805254</td>\n",
       "      <td>Ndukaku</td>\n",
       "      <td>652</td>\n",
       "      <td>Spain</td>\n",
       "      <td>Female</td>\n",
       "      <td>75</td>\n",
       "      <td>11.0</td>\n",
       "      <td>0.00</td>\n",
       "      <td>2</td>\n",
       "      <td>1</td>\n",
       "      <td>1</td>\n",
       "      <td>114675.75</td>\n",
       "      <td>0</td>\n",
       "    </tr>\n",
       "    <tr>\n",
       "      <th>94</th>\n",
       "      <td>95</td>\n",
       "      <td>15676966</td>\n",
       "      <td>Capon</td>\n",
       "      <td>730</td>\n",
       "      <td>Spain</td>\n",
       "      <td>Male</td>\n",
       "      <td>42</td>\n",
       "      <td>11.0</td>\n",
       "      <td>0.00</td>\n",
       "      <td>2</td>\n",
       "      <td>0</td>\n",
       "      <td>1</td>\n",
       "      <td>85982.47</td>\n",
       "      <td>0</td>\n",
       "    </tr>\n",
       "    <tr>\n",
       "      <th>99</th>\n",
       "      <td>100</td>\n",
       "      <td>15633059</td>\n",
       "      <td>Fanucci</td>\n",
       "      <td>413</td>\n",
       "      <td>France</td>\n",
       "      <td>Male</td>\n",
       "      <td>34</td>\n",
       "      <td>11.0</td>\n",
       "      <td>0.00</td>\n",
       "      <td>2</td>\n",
       "      <td>0</td>\n",
       "      <td>0</td>\n",
       "      <td>6534.18</td>\n",
       "      <td>0</td>\n",
       "    </tr>\n",
       "    <tr>\n",
       "      <th>111</th>\n",
       "      <td>112</td>\n",
       "      <td>15665790</td>\n",
       "      <td>Rowntree</td>\n",
       "      <td>538</td>\n",
       "      <td>Germany</td>\n",
       "      <td>Male</td>\n",
       "      <td>39</td>\n",
       "      <td>11.0</td>\n",
       "      <td>108055.10</td>\n",
       "      <td>2</td>\n",
       "      <td>1</td>\n",
       "      <td>0</td>\n",
       "      <td>27231.26</td>\n",
       "      <td>0</td>\n",
       "    </tr>\n",
       "    <tr>\n",
       "      <th>123</th>\n",
       "      <td>124</td>\n",
       "      <td>15760085</td>\n",
       "      <td>Calabresi</td>\n",
       "      <td>684</td>\n",
       "      <td>Germany</td>\n",
       "      <td>Female</td>\n",
       "      <td>48</td>\n",
       "      <td>11.0</td>\n",
       "      <td>126384.42</td>\n",
       "      <td>1</td>\n",
       "      <td>1</td>\n",
       "      <td>1</td>\n",
       "      <td>198129.36</td>\n",
       "      <td>0</td>\n",
       "    </tr>\n",
       "    <tr>\n",
       "      <th>125</th>\n",
       "      <td>126</td>\n",
       "      <td>15627360</td>\n",
       "      <td>Fuller</td>\n",
       "      <td>432</td>\n",
       "      <td>France</td>\n",
       "      <td>Male</td>\n",
       "      <td>42</td>\n",
       "      <td>11.0</td>\n",
       "      <td>152603.45</td>\n",
       "      <td>1</td>\n",
       "      <td>1</td>\n",
       "      <td>0</td>\n",
       "      <td>110265.24</td>\n",
       "      <td>1</td>\n",
       "    </tr>\n",
       "    <tr>\n",
       "      <th>146</th>\n",
       "      <td>147</td>\n",
       "      <td>15705707</td>\n",
       "      <td>Bennelong</td>\n",
       "      <td>635</td>\n",
       "      <td>Spain</td>\n",
       "      <td>Female</td>\n",
       "      <td>29</td>\n",
       "      <td>11.0</td>\n",
       "      <td>138296.94</td>\n",
       "      <td>2</td>\n",
       "      <td>1</td>\n",
       "      <td>0</td>\n",
       "      <td>141075.51</td>\n",
       "      <td>0</td>\n",
       "    </tr>\n",
       "    <tr>\n",
       "      <th>162</th>\n",
       "      <td>163</td>\n",
       "      <td>15630910</td>\n",
       "      <td>Treacy</td>\n",
       "      <td>800</td>\n",
       "      <td>France</td>\n",
       "      <td>Female</td>\n",
       "      <td>49</td>\n",
       "      <td>11.0</td>\n",
       "      <td>108007.36</td>\n",
       "      <td>1</td>\n",
       "      <td>0</td>\n",
       "      <td>0</td>\n",
       "      <td>47125.11</td>\n",
       "      <td>0</td>\n",
       "    </tr>\n",
       "    <tr>\n",
       "      <th>173</th>\n",
       "      <td>174</td>\n",
       "      <td>15586310</td>\n",
       "      <td>Ting</td>\n",
       "      <td>578</td>\n",
       "      <td>France</td>\n",
       "      <td>Male</td>\n",
       "      <td>30</td>\n",
       "      <td>11.0</td>\n",
       "      <td>169462.09</td>\n",
       "      <td>1</td>\n",
       "      <td>1</td>\n",
       "      <td>0</td>\n",
       "      <td>112187.11</td>\n",
       "      <td>0</td>\n",
       "    </tr>\n",
       "  </tbody>\n",
       "</table>\n",
       "</div>"
      ],
      "text/plain": [
       "     rownumber  customerid    surname  creditscore geography  gender  age  \\\n",
       "30          31    15589475    Azikiwe          591     Spain  Female   39   \n",
       "48          49    15766205        Yin          550   Germany    Male   38   \n",
       "51          52    15768193  Trevisani          585   Germany    Male   36   \n",
       "53          54    15702298   Parkhill          655   Germany    Male   41   \n",
       "60          61    15651280     Hunter          742   Germany    Male   35   \n",
       "82          83    15641732      Mills          543    France  Female   36   \n",
       "85          86    15805254    Ndukaku          652     Spain  Female   75   \n",
       "94          95    15676966      Capon          730     Spain    Male   42   \n",
       "99         100    15633059    Fanucci          413    France    Male   34   \n",
       "111        112    15665790   Rowntree          538   Germany    Male   39   \n",
       "123        124    15760085  Calabresi          684   Germany  Female   48   \n",
       "125        126    15627360     Fuller          432    France    Male   42   \n",
       "146        147    15705707  Bennelong          635     Spain  Female   29   \n",
       "162        163    15630910     Treacy          800    France  Female   49   \n",
       "173        174    15586310       Ting          578    France    Male   30   \n",
       "\n",
       "     tenure    balance  numofproducts  hascrcard  isactivemember  \\\n",
       "30     11.0       0.00              3          1               0   \n",
       "48     11.0  103391.38              1          0               1   \n",
       "51     11.0  146050.97              2          0               0   \n",
       "53     11.0  125561.97              1          0               0   \n",
       "60     11.0  136857.00              1          0               0   \n",
       "82     11.0       0.00              2          0               0   \n",
       "85     11.0       0.00              2          1               1   \n",
       "94     11.0       0.00              2          0               1   \n",
       "99     11.0       0.00              2          0               0   \n",
       "111    11.0  108055.10              2          1               0   \n",
       "123    11.0  126384.42              1          1               1   \n",
       "125    11.0  152603.45              1          1               0   \n",
       "146    11.0  138296.94              2          1               0   \n",
       "162    11.0  108007.36              1          0               0   \n",
       "173    11.0  169462.09              1          1               0   \n",
       "\n",
       "     estimatedsalary  exited  \n",
       "30         140469.38       1  \n",
       "48          90878.13       0  \n",
       "51          86424.57       0  \n",
       "53         164040.94       1  \n",
       "60          84509.57       0  \n",
       "82          26019.59       0  \n",
       "85         114675.75       0  \n",
       "94          85982.47       0  \n",
       "99           6534.18       0  \n",
       "111         27231.26       0  \n",
       "123        198129.36       0  \n",
       "125        110265.24       1  \n",
       "146        141075.51       0  \n",
       "162         47125.11       0  \n",
       "173        112187.11       0  "
      ]
     },
     "execution_count": 11,
     "metadata": {},
     "output_type": "execute_result"
    }
   ],
   "source": [
    "data.query(\"tenure > 10\").head(15)"
   ]
  },
  {
   "cell_type": "markdown",
   "metadata": {},
   "source": [
    "Очевидной связи всех данных датасета и отсутствия данных в колонке `tenure` не наблюдается. Поэтому включим заглушку, потеряв около 9% общих данных. Необходимо обратиться к заказчику, чтобы по возможности восполнить данные пропуски."
   ]
  },
  {
   "cell_type": "code",
   "execution_count": 12,
   "metadata": {},
   "outputs": [
    {
     "data": {
      "text/html": [
       "<div>\n",
       "<style scoped>\n",
       "    .dataframe tbody tr th:only-of-type {\n",
       "        vertical-align: middle;\n",
       "    }\n",
       "\n",
       "    .dataframe tbody tr th {\n",
       "        vertical-align: top;\n",
       "    }\n",
       "\n",
       "    .dataframe thead th {\n",
       "        text-align: right;\n",
       "    }\n",
       "</style>\n",
       "<table border=\"1\" class=\"dataframe\">\n",
       "  <thead>\n",
       "    <tr style=\"text-align: right;\">\n",
       "      <th></th>\n",
       "      <th>rownumber</th>\n",
       "      <th>customerid</th>\n",
       "      <th>surname</th>\n",
       "      <th>creditscore</th>\n",
       "      <th>geography</th>\n",
       "      <th>gender</th>\n",
       "      <th>age</th>\n",
       "      <th>tenure</th>\n",
       "      <th>balance</th>\n",
       "      <th>numofproducts</th>\n",
       "      <th>hascrcard</th>\n",
       "      <th>isactivemember</th>\n",
       "      <th>estimatedsalary</th>\n",
       "      <th>exited</th>\n",
       "    </tr>\n",
       "  </thead>\n",
       "  <tbody>\n",
       "    <tr>\n",
       "      <th>0</th>\n",
       "      <td>1</td>\n",
       "      <td>15634602</td>\n",
       "      <td>Hargrave</td>\n",
       "      <td>619</td>\n",
       "      <td>France</td>\n",
       "      <td>Female</td>\n",
       "      <td>42</td>\n",
       "      <td>2.0</td>\n",
       "      <td>0.00</td>\n",
       "      <td>1</td>\n",
       "      <td>1</td>\n",
       "      <td>1</td>\n",
       "      <td>101348.88</td>\n",
       "      <td>1</td>\n",
       "    </tr>\n",
       "    <tr>\n",
       "      <th>1</th>\n",
       "      <td>2</td>\n",
       "      <td>15647311</td>\n",
       "      <td>Hill</td>\n",
       "      <td>608</td>\n",
       "      <td>Spain</td>\n",
       "      <td>Female</td>\n",
       "      <td>41</td>\n",
       "      <td>1.0</td>\n",
       "      <td>83807.86</td>\n",
       "      <td>1</td>\n",
       "      <td>0</td>\n",
       "      <td>1</td>\n",
       "      <td>112542.58</td>\n",
       "      <td>0</td>\n",
       "    </tr>\n",
       "    <tr>\n",
       "      <th>2</th>\n",
       "      <td>3</td>\n",
       "      <td>15619304</td>\n",
       "      <td>Onio</td>\n",
       "      <td>502</td>\n",
       "      <td>France</td>\n",
       "      <td>Female</td>\n",
       "      <td>42</td>\n",
       "      <td>8.0</td>\n",
       "      <td>159660.80</td>\n",
       "      <td>3</td>\n",
       "      <td>1</td>\n",
       "      <td>0</td>\n",
       "      <td>113931.57</td>\n",
       "      <td>1</td>\n",
       "    </tr>\n",
       "    <tr>\n",
       "      <th>3</th>\n",
       "      <td>4</td>\n",
       "      <td>15701354</td>\n",
       "      <td>Boni</td>\n",
       "      <td>699</td>\n",
       "      <td>France</td>\n",
       "      <td>Female</td>\n",
       "      <td>39</td>\n",
       "      <td>1.0</td>\n",
       "      <td>0.00</td>\n",
       "      <td>2</td>\n",
       "      <td>0</td>\n",
       "      <td>0</td>\n",
       "      <td>93826.63</td>\n",
       "      <td>0</td>\n",
       "    </tr>\n",
       "    <tr>\n",
       "      <th>4</th>\n",
       "      <td>5</td>\n",
       "      <td>15737888</td>\n",
       "      <td>Mitchell</td>\n",
       "      <td>850</td>\n",
       "      <td>Spain</td>\n",
       "      <td>Female</td>\n",
       "      <td>43</td>\n",
       "      <td>2.0</td>\n",
       "      <td>125510.82</td>\n",
       "      <td>1</td>\n",
       "      <td>1</td>\n",
       "      <td>1</td>\n",
       "      <td>79084.10</td>\n",
       "      <td>0</td>\n",
       "    </tr>\n",
       "    <tr>\n",
       "      <th>...</th>\n",
       "      <td>...</td>\n",
       "      <td>...</td>\n",
       "      <td>...</td>\n",
       "      <td>...</td>\n",
       "      <td>...</td>\n",
       "      <td>...</td>\n",
       "      <td>...</td>\n",
       "      <td>...</td>\n",
       "      <td>...</td>\n",
       "      <td>...</td>\n",
       "      <td>...</td>\n",
       "      <td>...</td>\n",
       "      <td>...</td>\n",
       "      <td>...</td>\n",
       "    </tr>\n",
       "    <tr>\n",
       "      <th>9086</th>\n",
       "      <td>9995</td>\n",
       "      <td>15719294</td>\n",
       "      <td>Wood</td>\n",
       "      <td>800</td>\n",
       "      <td>France</td>\n",
       "      <td>Female</td>\n",
       "      <td>29</td>\n",
       "      <td>2.0</td>\n",
       "      <td>0.00</td>\n",
       "      <td>2</td>\n",
       "      <td>0</td>\n",
       "      <td>0</td>\n",
       "      <td>167773.55</td>\n",
       "      <td>0</td>\n",
       "    </tr>\n",
       "    <tr>\n",
       "      <th>9087</th>\n",
       "      <td>9996</td>\n",
       "      <td>15606229</td>\n",
       "      <td>Obijiaku</td>\n",
       "      <td>771</td>\n",
       "      <td>France</td>\n",
       "      <td>Male</td>\n",
       "      <td>39</td>\n",
       "      <td>5.0</td>\n",
       "      <td>0.00</td>\n",
       "      <td>2</td>\n",
       "      <td>1</td>\n",
       "      <td>0</td>\n",
       "      <td>96270.64</td>\n",
       "      <td>0</td>\n",
       "    </tr>\n",
       "    <tr>\n",
       "      <th>9088</th>\n",
       "      <td>9997</td>\n",
       "      <td>15569892</td>\n",
       "      <td>Johnstone</td>\n",
       "      <td>516</td>\n",
       "      <td>France</td>\n",
       "      <td>Male</td>\n",
       "      <td>35</td>\n",
       "      <td>10.0</td>\n",
       "      <td>57369.61</td>\n",
       "      <td>1</td>\n",
       "      <td>1</td>\n",
       "      <td>1</td>\n",
       "      <td>101699.77</td>\n",
       "      <td>0</td>\n",
       "    </tr>\n",
       "    <tr>\n",
       "      <th>9089</th>\n",
       "      <td>9998</td>\n",
       "      <td>15584532</td>\n",
       "      <td>Liu</td>\n",
       "      <td>709</td>\n",
       "      <td>France</td>\n",
       "      <td>Female</td>\n",
       "      <td>36</td>\n",
       "      <td>7.0</td>\n",
       "      <td>0.00</td>\n",
       "      <td>1</td>\n",
       "      <td>0</td>\n",
       "      <td>1</td>\n",
       "      <td>42085.58</td>\n",
       "      <td>1</td>\n",
       "    </tr>\n",
       "    <tr>\n",
       "      <th>9090</th>\n",
       "      <td>9999</td>\n",
       "      <td>15682355</td>\n",
       "      <td>Sabbatini</td>\n",
       "      <td>772</td>\n",
       "      <td>Germany</td>\n",
       "      <td>Male</td>\n",
       "      <td>42</td>\n",
       "      <td>3.0</td>\n",
       "      <td>75075.31</td>\n",
       "      <td>2</td>\n",
       "      <td>1</td>\n",
       "      <td>0</td>\n",
       "      <td>92888.52</td>\n",
       "      <td>1</td>\n",
       "    </tr>\n",
       "  </tbody>\n",
       "</table>\n",
       "<p>9091 rows × 14 columns</p>\n",
       "</div>"
      ],
      "text/plain": [
       "      rownumber  customerid    surname  creditscore geography  gender  age  \\\n",
       "0             1    15634602   Hargrave          619    France  Female   42   \n",
       "1             2    15647311       Hill          608     Spain  Female   41   \n",
       "2             3    15619304       Onio          502    France  Female   42   \n",
       "3             4    15701354       Boni          699    France  Female   39   \n",
       "4             5    15737888   Mitchell          850     Spain  Female   43   \n",
       "...         ...         ...        ...          ...       ...     ...  ...   \n",
       "9086       9995    15719294       Wood          800    France  Female   29   \n",
       "9087       9996    15606229   Obijiaku          771    France    Male   39   \n",
       "9088       9997    15569892  Johnstone          516    France    Male   35   \n",
       "9089       9998    15584532        Liu          709    France  Female   36   \n",
       "9090       9999    15682355  Sabbatini          772   Germany    Male   42   \n",
       "\n",
       "      tenure    balance  numofproducts  hascrcard  isactivemember  \\\n",
       "0        2.0       0.00              1          1               1   \n",
       "1        1.0   83807.86              1          0               1   \n",
       "2        8.0  159660.80              3          1               0   \n",
       "3        1.0       0.00              2          0               0   \n",
       "4        2.0  125510.82              1          1               1   \n",
       "...      ...        ...            ...        ...             ...   \n",
       "9086     2.0       0.00              2          0               0   \n",
       "9087     5.0       0.00              2          1               0   \n",
       "9088    10.0   57369.61              1          1               1   \n",
       "9089     7.0       0.00              1          0               1   \n",
       "9090     3.0   75075.31              2          1               0   \n",
       "\n",
       "      estimatedsalary  exited  \n",
       "0           101348.88       1  \n",
       "1           112542.58       0  \n",
       "2           113931.57       1  \n",
       "3            93826.63       0  \n",
       "4            79084.10       0  \n",
       "...               ...     ...  \n",
       "9086        167773.55       0  \n",
       "9087         96270.64       0  \n",
       "9088        101699.77       0  \n",
       "9089         42085.58       1  \n",
       "9090         92888.52       1  \n",
       "\n",
       "[9091 rows x 14 columns]"
      ]
     },
     "execution_count": 12,
     "metadata": {},
     "output_type": "execute_result"
    }
   ],
   "source": [
    "data = data.query('tenure < 11')\n",
    "data.reset_index(drop=True)"
   ]
  },
  {
   "cell_type": "markdown",
   "metadata": {},
   "source": [
    "<div class=\"alert alert-success\">\n",
    "<h2>Комментарий ревьюера<a class=\"tocSkip\"></a></h2>\n",
    "    \n",
    "**Отлично!** ✔️: окей, хоть мы и теряем ощутимую часть данных, заполнение может исказить распределение признака</div>"
   ]
  },
  {
   "cell_type": "code",
   "execution_count": 13,
   "metadata": {},
   "outputs": [
    {
     "name": "stdout",
     "output_type": "stream",
     "text": [
      "<class 'pandas.core.frame.DataFrame'>\n",
      "Int64Index: 9091 entries, 0 to 9998\n",
      "Data columns (total 14 columns):\n",
      " #   Column           Non-Null Count  Dtype  \n",
      "---  ------           --------------  -----  \n",
      " 0   rownumber        9091 non-null   int64  \n",
      " 1   customerid       9091 non-null   int64  \n",
      " 2   surname          9091 non-null   object \n",
      " 3   creditscore      9091 non-null   int64  \n",
      " 4   geography        9091 non-null   object \n",
      " 5   gender           9091 non-null   object \n",
      " 6   age              9091 non-null   int64  \n",
      " 7   tenure           9091 non-null   float64\n",
      " 8   balance          9091 non-null   float64\n",
      " 9   numofproducts    9091 non-null   int64  \n",
      " 10  hascrcard        9091 non-null   int64  \n",
      " 11  isactivemember   9091 non-null   int64  \n",
      " 12  estimatedsalary  9091 non-null   float64\n",
      " 13  exited           9091 non-null   int64  \n",
      "dtypes: float64(3), int64(8), object(3)\n",
      "memory usage: 1.0+ MB\n"
     ]
    }
   ],
   "source": [
    "data.info()"
   ]
  },
  {
   "cell_type": "markdown",
   "metadata": {},
   "source": [
    "Избавимся от лишней информации в датасете. Удалим столбцы `rownumber`, `surname`, `customerid`."
   ]
  },
  {
   "cell_type": "code",
   "execution_count": 14,
   "metadata": {},
   "outputs": [
    {
     "data": {
      "text/html": [
       "<div>\n",
       "<style scoped>\n",
       "    .dataframe tbody tr th:only-of-type {\n",
       "        vertical-align: middle;\n",
       "    }\n",
       "\n",
       "    .dataframe tbody tr th {\n",
       "        vertical-align: top;\n",
       "    }\n",
       "\n",
       "    .dataframe thead th {\n",
       "        text-align: right;\n",
       "    }\n",
       "</style>\n",
       "<table border=\"1\" class=\"dataframe\">\n",
       "  <thead>\n",
       "    <tr style=\"text-align: right;\">\n",
       "      <th></th>\n",
       "      <th>creditscore</th>\n",
       "      <th>geography</th>\n",
       "      <th>gender</th>\n",
       "      <th>age</th>\n",
       "      <th>tenure</th>\n",
       "      <th>balance</th>\n",
       "      <th>numofproducts</th>\n",
       "      <th>hascrcard</th>\n",
       "      <th>isactivemember</th>\n",
       "      <th>estimatedsalary</th>\n",
       "      <th>exited</th>\n",
       "    </tr>\n",
       "  </thead>\n",
       "  <tbody>\n",
       "    <tr>\n",
       "      <th>0</th>\n",
       "      <td>619</td>\n",
       "      <td>France</td>\n",
       "      <td>Female</td>\n",
       "      <td>42</td>\n",
       "      <td>2.0</td>\n",
       "      <td>0.00</td>\n",
       "      <td>1</td>\n",
       "      <td>1</td>\n",
       "      <td>1</td>\n",
       "      <td>101348.88</td>\n",
       "      <td>1</td>\n",
       "    </tr>\n",
       "    <tr>\n",
       "      <th>1</th>\n",
       "      <td>608</td>\n",
       "      <td>Spain</td>\n",
       "      <td>Female</td>\n",
       "      <td>41</td>\n",
       "      <td>1.0</td>\n",
       "      <td>83807.86</td>\n",
       "      <td>1</td>\n",
       "      <td>0</td>\n",
       "      <td>1</td>\n",
       "      <td>112542.58</td>\n",
       "      <td>0</td>\n",
       "    </tr>\n",
       "    <tr>\n",
       "      <th>2</th>\n",
       "      <td>502</td>\n",
       "      <td>France</td>\n",
       "      <td>Female</td>\n",
       "      <td>42</td>\n",
       "      <td>8.0</td>\n",
       "      <td>159660.80</td>\n",
       "      <td>3</td>\n",
       "      <td>1</td>\n",
       "      <td>0</td>\n",
       "      <td>113931.57</td>\n",
       "      <td>1</td>\n",
       "    </tr>\n",
       "    <tr>\n",
       "      <th>3</th>\n",
       "      <td>699</td>\n",
       "      <td>France</td>\n",
       "      <td>Female</td>\n",
       "      <td>39</td>\n",
       "      <td>1.0</td>\n",
       "      <td>0.00</td>\n",
       "      <td>2</td>\n",
       "      <td>0</td>\n",
       "      <td>0</td>\n",
       "      <td>93826.63</td>\n",
       "      <td>0</td>\n",
       "    </tr>\n",
       "    <tr>\n",
       "      <th>4</th>\n",
       "      <td>850</td>\n",
       "      <td>Spain</td>\n",
       "      <td>Female</td>\n",
       "      <td>43</td>\n",
       "      <td>2.0</td>\n",
       "      <td>125510.82</td>\n",
       "      <td>1</td>\n",
       "      <td>1</td>\n",
       "      <td>1</td>\n",
       "      <td>79084.10</td>\n",
       "      <td>0</td>\n",
       "    </tr>\n",
       "    <tr>\n",
       "      <th>5</th>\n",
       "      <td>645</td>\n",
       "      <td>Spain</td>\n",
       "      <td>Male</td>\n",
       "      <td>44</td>\n",
       "      <td>8.0</td>\n",
       "      <td>113755.78</td>\n",
       "      <td>2</td>\n",
       "      <td>1</td>\n",
       "      <td>0</td>\n",
       "      <td>149756.71</td>\n",
       "      <td>1</td>\n",
       "    </tr>\n",
       "    <tr>\n",
       "      <th>6</th>\n",
       "      <td>822</td>\n",
       "      <td>France</td>\n",
       "      <td>Male</td>\n",
       "      <td>50</td>\n",
       "      <td>7.0</td>\n",
       "      <td>0.00</td>\n",
       "      <td>2</td>\n",
       "      <td>1</td>\n",
       "      <td>1</td>\n",
       "      <td>10062.80</td>\n",
       "      <td>0</td>\n",
       "    </tr>\n",
       "    <tr>\n",
       "      <th>7</th>\n",
       "      <td>376</td>\n",
       "      <td>Germany</td>\n",
       "      <td>Female</td>\n",
       "      <td>29</td>\n",
       "      <td>4.0</td>\n",
       "      <td>115046.74</td>\n",
       "      <td>4</td>\n",
       "      <td>1</td>\n",
       "      <td>0</td>\n",
       "      <td>119346.88</td>\n",
       "      <td>1</td>\n",
       "    </tr>\n",
       "    <tr>\n",
       "      <th>8</th>\n",
       "      <td>501</td>\n",
       "      <td>France</td>\n",
       "      <td>Male</td>\n",
       "      <td>44</td>\n",
       "      <td>4.0</td>\n",
       "      <td>142051.07</td>\n",
       "      <td>2</td>\n",
       "      <td>0</td>\n",
       "      <td>1</td>\n",
       "      <td>74940.50</td>\n",
       "      <td>0</td>\n",
       "    </tr>\n",
       "    <tr>\n",
       "      <th>9</th>\n",
       "      <td>684</td>\n",
       "      <td>France</td>\n",
       "      <td>Male</td>\n",
       "      <td>27</td>\n",
       "      <td>2.0</td>\n",
       "      <td>134603.88</td>\n",
       "      <td>1</td>\n",
       "      <td>1</td>\n",
       "      <td>1</td>\n",
       "      <td>71725.73</td>\n",
       "      <td>0</td>\n",
       "    </tr>\n",
       "  </tbody>\n",
       "</table>\n",
       "</div>"
      ],
      "text/plain": [
       "   creditscore geography  gender  age  tenure    balance  numofproducts  \\\n",
       "0          619    France  Female   42     2.0       0.00              1   \n",
       "1          608     Spain  Female   41     1.0   83807.86              1   \n",
       "2          502    France  Female   42     8.0  159660.80              3   \n",
       "3          699    France  Female   39     1.0       0.00              2   \n",
       "4          850     Spain  Female   43     2.0  125510.82              1   \n",
       "5          645     Spain    Male   44     8.0  113755.78              2   \n",
       "6          822    France    Male   50     7.0       0.00              2   \n",
       "7          376   Germany  Female   29     4.0  115046.74              4   \n",
       "8          501    France    Male   44     4.0  142051.07              2   \n",
       "9          684    France    Male   27     2.0  134603.88              1   \n",
       "\n",
       "   hascrcard  isactivemember  estimatedsalary  exited  \n",
       "0          1               1        101348.88       1  \n",
       "1          0               1        112542.58       0  \n",
       "2          1               0        113931.57       1  \n",
       "3          0               0         93826.63       0  \n",
       "4          1               1         79084.10       0  \n",
       "5          1               0        149756.71       1  \n",
       "6          1               1         10062.80       0  \n",
       "7          1               0        119346.88       1  \n",
       "8          0               1         74940.50       0  \n",
       "9          1               1         71725.73       0  "
      ]
     },
     "execution_count": 14,
     "metadata": {},
     "output_type": "execute_result"
    }
   ],
   "source": [
    "data = data.drop(['rownumber', 'surname', 'customerid'], axis=1)\n",
    "data.head(10)"
   ]
  },
  {
   "cell_type": "markdown",
   "metadata": {},
   "source": [
    "<div class=\"alert alert-success\">\n",
    "<h2>Комментарий ревьюера<a class=\"tocSkip\"></a></h2>\n",
    "    \n",
    "**Отлично!** ✔️: согласен, эти признаки для моделей не информативны</div>"
   ]
  },
  {
   "cell_type": "markdown",
   "metadata": {},
   "source": [
    "Применим порядковое кодирование к категориальным признакам `geography`, `gender`:"
   ]
  },
  {
   "cell_type": "code",
   "execution_count": 15,
   "metadata": {},
   "outputs": [],
   "source": [
    "category = ['geography', 'gender']"
   ]
  },
  {
   "cell_type": "code",
   "execution_count": 16,
   "metadata": {},
   "outputs": [],
   "source": [
    "encoder = OrdinalEncoder()\n",
    "encoder.fit(data[category])\n",
    "data[category] = encoder.transform(data[category])"
   ]
  },
  {
   "cell_type": "markdown",
   "metadata": {},
   "source": [
    "<div class=\"alert alert-success\">\n",
    "<h2>Комментарий ревьюера<a class=\"tocSkip\"></a></h2>\n",
    "    \n",
    "**Отлично!** ✔️: верно, порядковое кодирование здесь вполне подходит</div>"
   ]
  },
  {
   "cell_type": "code",
   "execution_count": 17,
   "metadata": {
    "scrolled": false
   },
   "outputs": [
    {
     "data": {
      "text/html": [
       "<div>\n",
       "<style scoped>\n",
       "    .dataframe tbody tr th:only-of-type {\n",
       "        vertical-align: middle;\n",
       "    }\n",
       "\n",
       "    .dataframe tbody tr th {\n",
       "        vertical-align: top;\n",
       "    }\n",
       "\n",
       "    .dataframe thead th {\n",
       "        text-align: right;\n",
       "    }\n",
       "</style>\n",
       "<table border=\"1\" class=\"dataframe\">\n",
       "  <thead>\n",
       "    <tr style=\"text-align: right;\">\n",
       "      <th></th>\n",
       "      <th>creditscore</th>\n",
       "      <th>geography</th>\n",
       "      <th>gender</th>\n",
       "      <th>age</th>\n",
       "      <th>tenure</th>\n",
       "      <th>balance</th>\n",
       "      <th>numofproducts</th>\n",
       "      <th>hascrcard</th>\n",
       "      <th>isactivemember</th>\n",
       "      <th>estimatedsalary</th>\n",
       "      <th>exited</th>\n",
       "    </tr>\n",
       "  </thead>\n",
       "  <tbody>\n",
       "    <tr>\n",
       "      <th>0</th>\n",
       "      <td>619</td>\n",
       "      <td>0.0</td>\n",
       "      <td>0.0</td>\n",
       "      <td>42</td>\n",
       "      <td>2.0</td>\n",
       "      <td>0.00</td>\n",
       "      <td>1</td>\n",
       "      <td>1</td>\n",
       "      <td>1</td>\n",
       "      <td>101348.88</td>\n",
       "      <td>1</td>\n",
       "    </tr>\n",
       "    <tr>\n",
       "      <th>1</th>\n",
       "      <td>608</td>\n",
       "      <td>2.0</td>\n",
       "      <td>0.0</td>\n",
       "      <td>41</td>\n",
       "      <td>1.0</td>\n",
       "      <td>83807.86</td>\n",
       "      <td>1</td>\n",
       "      <td>0</td>\n",
       "      <td>1</td>\n",
       "      <td>112542.58</td>\n",
       "      <td>0</td>\n",
       "    </tr>\n",
       "    <tr>\n",
       "      <th>2</th>\n",
       "      <td>502</td>\n",
       "      <td>0.0</td>\n",
       "      <td>0.0</td>\n",
       "      <td>42</td>\n",
       "      <td>8.0</td>\n",
       "      <td>159660.80</td>\n",
       "      <td>3</td>\n",
       "      <td>1</td>\n",
       "      <td>0</td>\n",
       "      <td>113931.57</td>\n",
       "      <td>1</td>\n",
       "    </tr>\n",
       "    <tr>\n",
       "      <th>3</th>\n",
       "      <td>699</td>\n",
       "      <td>0.0</td>\n",
       "      <td>0.0</td>\n",
       "      <td>39</td>\n",
       "      <td>1.0</td>\n",
       "      <td>0.00</td>\n",
       "      <td>2</td>\n",
       "      <td>0</td>\n",
       "      <td>0</td>\n",
       "      <td>93826.63</td>\n",
       "      <td>0</td>\n",
       "    </tr>\n",
       "    <tr>\n",
       "      <th>4</th>\n",
       "      <td>850</td>\n",
       "      <td>2.0</td>\n",
       "      <td>0.0</td>\n",
       "      <td>43</td>\n",
       "      <td>2.0</td>\n",
       "      <td>125510.82</td>\n",
       "      <td>1</td>\n",
       "      <td>1</td>\n",
       "      <td>1</td>\n",
       "      <td>79084.10</td>\n",
       "      <td>0</td>\n",
       "    </tr>\n",
       "  </tbody>\n",
       "</table>\n",
       "</div>"
      ],
      "text/plain": [
       "   creditscore  geography  gender  age  tenure    balance  numofproducts  \\\n",
       "0          619        0.0     0.0   42     2.0       0.00              1   \n",
       "1          608        2.0     0.0   41     1.0   83807.86              1   \n",
       "2          502        0.0     0.0   42     8.0  159660.80              3   \n",
       "3          699        0.0     0.0   39     1.0       0.00              2   \n",
       "4          850        2.0     0.0   43     2.0  125510.82              1   \n",
       "\n",
       "   hascrcard  isactivemember  estimatedsalary  exited  \n",
       "0          1               1        101348.88       1  \n",
       "1          0               1        112542.58       0  \n",
       "2          1               0        113931.57       1  \n",
       "3          0               0         93826.63       0  \n",
       "4          1               1         79084.10       0  "
      ]
     },
     "execution_count": 17,
     "metadata": {},
     "output_type": "execute_result"
    }
   ],
   "source": [
    "data.head(5)"
   ]
  },
  {
   "cell_type": "markdown",
   "metadata": {},
   "source": [
    "## Исследование задачи"
   ]
  },
  {
   "cell_type": "markdown",
   "metadata": {},
   "source": [
    "Исследуем баланс классов, обучиим модель без учёта дисбаланса. Кратко опишем выводы."
   ]
  },
  {
   "cell_type": "markdown",
   "metadata": {},
   "source": [
    "Посмотрим на соотношение классов в выборке:"
   ]
  },
  {
   "cell_type": "markdown",
   "metadata": {},
   "source": [
    "Есть дисбаланс."
   ]
  },
  {
   "cell_type": "code",
   "execution_count": 18,
   "metadata": {},
   "outputs": [
    {
     "data": {
      "image/png": "[encoded data removed]",
      "text/plain": [
       "<Figure size 1368x504 with 1 Axes>"
      ]
     },
     "metadata": {},
     "output_type": "display_data"
    }
   ],
   "source": [
    "plt.figure(figsize=(19, 7))\n",
    "labels = ['Класс 0','Класс 1']\n",
    "values = data.exited.value_counts(normalize=True)\n",
    "colors = ['red','green']\n",
    "explode = [0.15,0]\n",
    "plt.title('Соотношение классов', size=20)\n",
    "plt.pie(values,labels=labels,colors=colors,explode=explode,shadow=True,autopct='%1.1f%%',startangle=180)\n",
    "plt.axis('equal')\n",
    "plt.show()"
   ]
  },
  {
   "cell_type": "markdown",
   "metadata": {},
   "source": [
    "<div class=\"alert alert-success\">\n",
    "<h2>Комментарий ревьюера<a class=\"tocSkip\"></a></h2>\n",
    "    \n",
    "**Отлично!** ✔️: все так, жуткий дисбаланс</div>"
   ]
  },
  {
   "cell_type": "markdown",
   "metadata": {},
   "source": [
    "<div class=\"alert alert-warning\">\n",
    "<h2>Комментарий ревьюера<a class=\"tocSkip\"></a></h2>\n",
    "    \n",
    "**Есть совет** ⚠️: для наглядности стоит добавить график: например, столбчатую или круговую диаграмму. Также методу <a href=\"https://pandas.pydata.org/docs/reference/api/pandas.Series.value_counts.html\">value_counts</a> можно передать параметр `normalize=True`, чтобы отобразить не количество объектов, а их относительную долю</div>"
   ]
  },
  {
   "cell_type": "markdown",
   "metadata": {},
   "source": [
    "<div class=\"alert alert-info\">\n",
    "    <b>Комментарий студента:</b> Привет! Спасибо за проверку работы, исправил\n",
    "</div>"
   ]
  },
  {
   "cell_type": "markdown",
   "metadata": {},
   "source": [
    "<div class=\"alert alert-success\">\n",
    "<h2>Комментарий ревьюера v2<a class=\"tocSkip\"></a></h2>\n",
    "    \n",
    "**Отлично!** ✔️: 👍</div>"
   ]
  },
  {
   "cell_type": "markdown",
   "metadata": {},
   "source": [
    "Проверим данные на наличие сильно-скоррелированных (мультиколлинеарных признаков превышающих порог в 0.95):"
   ]
  },
  {
   "cell_type": "code",
   "execution_count": 19,
   "metadata": {},
   "outputs": [
    {
     "data": {
      "text/html": [
       "<div>\n",
       "<style scoped>\n",
       "    .dataframe tbody tr th:only-of-type {\n",
       "        vertical-align: middle;\n",
       "    }\n",
       "\n",
       "    .dataframe tbody tr th {\n",
       "        vertical-align: top;\n",
       "    }\n",
       "\n",
       "    .dataframe thead th {\n",
       "        text-align: right;\n",
       "    }\n",
       "</style>\n",
       "<table border=\"1\" class=\"dataframe\">\n",
       "  <thead>\n",
       "    <tr style=\"text-align: right;\">\n",
       "      <th></th>\n",
       "      <th>creditscore</th>\n",
       "      <th>geography</th>\n",
       "      <th>gender</th>\n",
       "      <th>age</th>\n",
       "      <th>tenure</th>\n",
       "      <th>balance</th>\n",
       "      <th>numofproducts</th>\n",
       "      <th>hascrcard</th>\n",
       "      <th>isactivemember</th>\n",
       "      <th>estimatedsalary</th>\n",
       "      <th>exited</th>\n",
       "    </tr>\n",
       "  </thead>\n",
       "  <tbody>\n",
       "    <tr>\n",
       "      <th>creditscore</th>\n",
       "      <td>1.000000</td>\n",
       "      <td>0.002025</td>\n",
       "      <td>-0.008547</td>\n",
       "      <td>-0.004504</td>\n",
       "      <td>-0.000062</td>\n",
       "      <td>0.002804</td>\n",
       "      <td>0.011090</td>\n",
       "      <td>-0.003937</td>\n",
       "      <td>0.030947</td>\n",
       "      <td>0.005182</td>\n",
       "      <td>-0.023950</td>\n",
       "    </tr>\n",
       "    <tr>\n",
       "      <th>geography</th>\n",
       "      <td>0.002025</td>\n",
       "      <td>1.000000</td>\n",
       "      <td>0.003609</td>\n",
       "      <td>0.019889</td>\n",
       "      <td>-0.000888</td>\n",
       "      <td>0.068037</td>\n",
       "      <td>0.007444</td>\n",
       "      <td>-0.013748</td>\n",
       "      <td>0.006610</td>\n",
       "      <td>-0.005410</td>\n",
       "      <td>0.035152</td>\n",
       "    </tr>\n",
       "    <tr>\n",
       "      <th>gender</th>\n",
       "      <td>-0.008547</td>\n",
       "      <td>0.003609</td>\n",
       "      <td>1.000000</td>\n",
       "      <td>-0.025631</td>\n",
       "      <td>0.012634</td>\n",
       "      <td>0.018030</td>\n",
       "      <td>-0.025176</td>\n",
       "      <td>0.006016</td>\n",
       "      <td>0.025019</td>\n",
       "      <td>-0.002658</td>\n",
       "      <td>-0.110450</td>\n",
       "    </tr>\n",
       "    <tr>\n",
       "      <th>age</th>\n",
       "      <td>-0.004504</td>\n",
       "      <td>0.019889</td>\n",
       "      <td>-0.025631</td>\n",
       "      <td>1.000000</td>\n",
       "      <td>-0.013134</td>\n",
       "      <td>0.031481</td>\n",
       "      <td>-0.031877</td>\n",
       "      <td>-0.014129</td>\n",
       "      <td>0.082269</td>\n",
       "      <td>-0.007037</td>\n",
       "      <td>0.283017</td>\n",
       "    </tr>\n",
       "    <tr>\n",
       "      <th>tenure</th>\n",
       "      <td>-0.000062</td>\n",
       "      <td>-0.000888</td>\n",
       "      <td>0.012634</td>\n",
       "      <td>-0.013134</td>\n",
       "      <td>1.000000</td>\n",
       "      <td>-0.007911</td>\n",
       "      <td>0.011979</td>\n",
       "      <td>0.027232</td>\n",
       "      <td>-0.032178</td>\n",
       "      <td>0.010520</td>\n",
       "      <td>-0.016761</td>\n",
       "    </tr>\n",
       "    <tr>\n",
       "      <th>balance</th>\n",
       "      <td>0.002804</td>\n",
       "      <td>0.068037</td>\n",
       "      <td>0.018030</td>\n",
       "      <td>0.031481</td>\n",
       "      <td>-0.007911</td>\n",
       "      <td>1.000000</td>\n",
       "      <td>-0.301858</td>\n",
       "      <td>-0.019055</td>\n",
       "      <td>-0.003285</td>\n",
       "      <td>0.014351</td>\n",
       "      <td>0.117218</td>\n",
       "    </tr>\n",
       "    <tr>\n",
       "      <th>numofproducts</th>\n",
       "      <td>0.011090</td>\n",
       "      <td>0.007444</td>\n",
       "      <td>-0.025176</td>\n",
       "      <td>-0.031877</td>\n",
       "      <td>0.011979</td>\n",
       "      <td>-0.301858</td>\n",
       "      <td>1.000000</td>\n",
       "      <td>0.005805</td>\n",
       "      <td>0.009084</td>\n",
       "      <td>0.013990</td>\n",
       "      <td>-0.050271</td>\n",
       "    </tr>\n",
       "    <tr>\n",
       "      <th>hascrcard</th>\n",
       "      <td>-0.003937</td>\n",
       "      <td>-0.013748</td>\n",
       "      <td>0.006016</td>\n",
       "      <td>-0.014129</td>\n",
       "      <td>0.027232</td>\n",
       "      <td>-0.019055</td>\n",
       "      <td>0.005805</td>\n",
       "      <td>1.000000</td>\n",
       "      <td>-0.008810</td>\n",
       "      <td>-0.006136</td>\n",
       "      <td>-0.005411</td>\n",
       "    </tr>\n",
       "    <tr>\n",
       "      <th>isactivemember</th>\n",
       "      <td>0.030947</td>\n",
       "      <td>0.006610</td>\n",
       "      <td>0.025019</td>\n",
       "      <td>0.082269</td>\n",
       "      <td>-0.032178</td>\n",
       "      <td>-0.003285</td>\n",
       "      <td>0.009084</td>\n",
       "      <td>-0.008810</td>\n",
       "      <td>1.000000</td>\n",
       "      <td>-0.020049</td>\n",
       "      <td>-0.155062</td>\n",
       "    </tr>\n",
       "    <tr>\n",
       "      <th>estimatedsalary</th>\n",
       "      <td>0.005182</td>\n",
       "      <td>-0.005410</td>\n",
       "      <td>-0.002658</td>\n",
       "      <td>-0.007037</td>\n",
       "      <td>0.010520</td>\n",
       "      <td>0.014351</td>\n",
       "      <td>0.013990</td>\n",
       "      <td>-0.006136</td>\n",
       "      <td>-0.020049</td>\n",
       "      <td>1.000000</td>\n",
       "      <td>0.016029</td>\n",
       "    </tr>\n",
       "    <tr>\n",
       "      <th>exited</th>\n",
       "      <td>-0.023950</td>\n",
       "      <td>0.035152</td>\n",
       "      <td>-0.110450</td>\n",
       "      <td>0.283017</td>\n",
       "      <td>-0.016761</td>\n",
       "      <td>0.117218</td>\n",
       "      <td>-0.050271</td>\n",
       "      <td>-0.005411</td>\n",
       "      <td>-0.155062</td>\n",
       "      <td>0.016029</td>\n",
       "      <td>1.000000</td>\n",
       "    </tr>\n",
       "  </tbody>\n",
       "</table>\n",
       "</div>"
      ],
      "text/plain": [
       "                 creditscore  geography    gender       age    tenure  \\\n",
       "creditscore         1.000000   0.002025 -0.008547 -0.004504 -0.000062   \n",
       "geography           0.002025   1.000000  0.003609  0.019889 -0.000888   \n",
       "gender             -0.008547   0.003609  1.000000 -0.025631  0.012634   \n",
       "age                -0.004504   0.019889 -0.025631  1.000000 -0.013134   \n",
       "tenure             -0.000062  -0.000888  0.012634 -0.013134  1.000000   \n",
       "balance             0.002804   0.068037  0.018030  0.031481 -0.007911   \n",
       "numofproducts       0.011090   0.007444 -0.025176 -0.031877  0.011979   \n",
       "hascrcard          -0.003937  -0.013748  0.006016 -0.014129  0.027232   \n",
       "isactivemember      0.030947   0.006610  0.025019  0.082269 -0.032178   \n",
       "estimatedsalary     0.005182  -0.005410 -0.002658 -0.007037  0.010520   \n",
       "exited             -0.023950   0.035152 -0.110450  0.283017 -0.016761   \n",
       "\n",
       "                  balance  numofproducts  hascrcard  isactivemember  \\\n",
       "creditscore      0.002804       0.011090  -0.003937        0.030947   \n",
       "geography        0.068037       0.007444  -0.013748        0.006610   \n",
       "gender           0.018030      -0.025176   0.006016        0.025019   \n",
       "age              0.031481      -0.031877  -0.014129        0.082269   \n",
       "tenure          -0.007911       0.011979   0.027232       -0.032178   \n",
       "balance          1.000000      -0.301858  -0.019055       -0.003285   \n",
       "numofproducts   -0.301858       1.000000   0.005805        0.009084   \n",
       "hascrcard       -0.019055       0.005805   1.000000       -0.008810   \n",
       "isactivemember  -0.003285       0.009084  -0.008810        1.000000   \n",
       "estimatedsalary  0.014351       0.013990  -0.006136       -0.020049   \n",
       "exited           0.117218      -0.050271  -0.005411       -0.155062   \n",
       "\n",
       "                 estimatedsalary    exited  \n",
       "creditscore             0.005182 -0.023950  \n",
       "geography              -0.005410  0.035152  \n",
       "gender                 -0.002658 -0.110450  \n",
       "age                    -0.007037  0.283017  \n",
       "tenure                  0.010520 -0.016761  \n",
       "balance                 0.014351  0.117218  \n",
       "numofproducts           0.013990 -0.050271  \n",
       "hascrcard              -0.006136 -0.005411  \n",
       "isactivemember         -0.020049 -0.155062  \n",
       "estimatedsalary         1.000000  0.016029  \n",
       "exited                  0.016029  1.000000  "
      ]
     },
     "metadata": {},
     "output_type": "display_data"
    },
    {
     "data": {
      "image/png": "[encoded data removed]",
      "text/plain": [
       "<Figure size 1368x504 with 2 Axes>"
      ]
     },
     "metadata": {
      "needs_background": "light"
     },
     "output_type": "display_data"
    }
   ],
   "source": [
    "plt.figure(figsize=(19, 7))\n",
    "data_plot = sns.heatmap(data.corr(), cmap=\"YlGnBu\", annot=False)  \n",
    "\n",
    "\n",
    "plt.show()"
   ]
  },
  {
   "cell_type": "markdown",
   "metadata": {},
   "source": [
    "Сильно-скоррелированных не обнаружено."
   ]
  },
  {
   "cell_type": "markdown",
   "metadata": {},
   "source": [
    "<div class=\"alert alert-success\">\n",
    "<h2>Комментарий ревьюера<a class=\"tocSkip\"></a></h2>\n",
    "    \n",
    "**Отлично!** ✔️: молодец, что изучаешь матрицу корреляций!</div>"
   ]
  },
  {
   "cell_type": "markdown",
   "metadata": {},
   "source": [
    "Разобьём датафрейм на две выборки с обычными признаками и целевым."
   ]
  },
  {
   "cell_type": "code",
   "execution_count": 20,
   "metadata": {},
   "outputs": [],
   "source": [
    "target = data['exited']\n",
    "features = data.drop('exited', axis=1)"
   ]
  },
  {
   "cell_type": "markdown",
   "metadata": {},
   "source": [
    "Раздели выборки на обучающую, валидационную и тестовую в процентном соотношении 60/20/20 соответсвенно, сохранив при этом дисбаланс классов."
   ]
  },
  {
   "cell_type": "markdown",
   "metadata": {},
   "source": [
    "Используем параметр `stratify`, чтобы решить проблему несбалансированных классов:"
   ]
  },
  {
   "cell_type": "code",
   "execution_count": 21,
   "metadata": {},
   "outputs": [],
   "source": [
    "features_train, features_valid, target_train, target_valid = train_test_split(\n",
    "    features, target, test_size=0.4, random_state=12345, stratify=target)\n",
    "\n",
    "features_valid, features_test, target_valid, target_test = train_test_split(\n",
    "    features_valid, target_valid, test_size=0.5, random_state=12345, stratify=target_valid)"
   ]
  },
  {
   "cell_type": "markdown",
   "metadata": {},
   "source": [
    "<div class=\"alert alert-success\">\n",
    "<h2>Комментарий ревьюера<a class=\"tocSkip\"></a></h2>\n",
    "    \n",
    "**Отлично!** ✔️: с размерами выборок все окей :) Круто, что знаешь про stratify!</div>"
   ]
  },
  {
   "cell_type": "markdown",
   "metadata": {},
   "source": [
    "<div class=\"alert alert-warning\">\n",
    "<h2>Комментарий ревьюера v2<a class=\"tocSkip\"></a></h2>\n",
    "    \n",
    "**Есть совет** ⚠️: значение random_state лучше вынести в константу, например, RANDOM_STATE. Это общее правило код-стайла не только в Практикуме, а в большинстве языков программирования: мы выносим все константные значения в переменные/константы с читаемым названием и именуем, согласно стандартам PEP-8, заглавными буквами. Так проще читать и дебажить код. Это не обязательное условие, просто полезная привычка на будущее</div>"
   ]
  },
  {
   "cell_type": "markdown",
   "metadata": {},
   "source": [
    "Проведём численные признаки в трёх  выборках к одному масштабу:"
   ]
  },
  {
   "cell_type": "code",
   "execution_count": 22,
   "metadata": {
    "scrolled": true
   },
   "outputs": [
    {
     "name": "stderr",
     "output_type": "stream",
     "text": [
      "/tmp/ipykernel_48/576761850.py:6: SettingWithCopyWarning: \n",
      "A value is trying to be set on a copy of a slice from a DataFrame.\n",
      "Try using .loc[row_indexer,col_indexer] = value instead\n",
      "\n",
      "See the caveats in the documentation: https://pandas.pydata.org/pandas-docs/stable/user_guide/indexing.html#returning-a-view-versus-a-copy\n",
      "  features_train[numeric] = scaler.transform(features_train[numeric])\n",
      "/opt/conda/lib/python3.9/site-packages/pandas/core/indexing.py:1738: SettingWithCopyWarning: \n",
      "A value is trying to be set on a copy of a slice from a DataFrame.\n",
      "Try using .loc[row_indexer,col_indexer] = value instead\n",
      "\n",
      "See the caveats in the documentation: https://pandas.pydata.org/pandas-docs/stable/user_guide/indexing.html#returning-a-view-versus-a-copy\n",
      "  self._setitem_single_column(loc, value[:, i].tolist(), pi)\n"
     ]
    },
    {
     "data": {
      "text/plain": [
       "(5454, 10)"
      ]
     },
     "metadata": {},
     "output_type": "display_data"
    }
   ],
   "source": [
    "numeric = ['creditscore', 'balance', 'estimatedsalary']\n",
    "\n",
    "scaler = StandardScaler()\n",
    "scaler.fit(features_train[numeric])\n",
    "\n",
    "features_train[numeric] = scaler.transform(features_train[numeric])\n",
    "features_valid[numeric] = scaler.transform(features_valid[numeric])\n",
    "features_test[numeric] = scaler.transform(features_test[numeric])\n",
    "\n",
    "display(features_train.shape)"
   ]
  },
  {
   "cell_type": "markdown",
   "metadata": {},
   "source": [
    "<div class=\"alert alert-success\">\n",
    "<h2>Комментарий ревьюера<a class=\"tocSkip\"></a></h2>\n",
    "    \n",
    "**Отлично!** ✔️: хорошо, что не забываешь про масштабирование!</div>"
   ]
  },
  {
   "cell_type": "markdown",
   "metadata": {},
   "source": [
    "<div class=\"alert alert-warning\">\n",
    "<h2>Комментарий ревьюера<a class=\"tocSkip\"></a></h2>\n",
    "    \n",
    "**Есть совет** ⚠️: но вообще для «деревянных» классификаторов масштабирование совсем не обязательно, <a href=\"https://towardsdatascience.com/how-data-normalization-affects-your-random-forest-algorithm-fbc6753b4ddf\" target=\"blank_\">тут</a> можно почитать про это подробнее. А вот для линейных моделей наоборот, может заметно улучшить метрики.</div>"
   ]
  },
  {
   "cell_type": "markdown",
   "metadata": {},
   "source": [
    "<div class=\"alert alert-info\">\n",
    "    <b>Комментарий студента:</b> Класс, спасибо за полезную информацию!\n",
    "</div>"
   ]
  },
  {
   "cell_type": "markdown",
   "metadata": {},
   "source": [
    "<div class=\"alert alert-success\">\n",
    "<h2>Комментарий ревьюера v2<a class=\"tocSkip\"></a></h2>\n",
    "    \n",
    "**Отлично!** ✔️: 👍</div>"
   ]
  },
  {
   "cell_type": "markdown",
   "metadata": {},
   "source": [
    "Дисбаланс классов выборках сохранён:"
   ]
  },
  {
   "cell_type": "code",
   "execution_count": 23,
   "metadata": {},
   "outputs": [
    {
     "data": {
      "image/png": "[encoded data removed]",
      "text/plain": [
       "<Figure size 1368x504 with 1 Axes>"
      ]
     },
     "metadata": {},
     "output_type": "display_data"
    },
    {
     "data": {
      "image/png": "[encoded data removed]",
      "text/plain": [
       "<Figure size 1368x504 with 1 Axes>"
      ]
     },
     "metadata": {},
     "output_type": "display_data"
    },
    {
     "data": {
      "image/png": "[encoded data removed]",
      "text/plain": [
       "<Figure size 1368x504 with 1 Axes>"
      ]
     },
     "metadata": {},
     "output_type": "display_data"
    }
   ],
   "source": [
    "plt.figure(figsize=(19, 7))\n",
    "labels = ['Класс 0','Класс 1']\n",
    "values = target_train.value_counts(normalize=True)\n",
    "colors = ['red','green']\n",
    "explode = [0.15,0]\n",
    "plt.title('Соотношение классов тренеровочной выборки', size=20)\n",
    "plt.pie(values,labels=labels,colors=colors,explode=explode,shadow=True,autopct='%1.1f%%',startangle=180)\n",
    "plt.axis('equal')\n",
    "plt.show()\n",
    "\n",
    "plt.figure(figsize=(19, 7))\n",
    "labels = ['Класс 0','Класс 1']\n",
    "values = target_valid.value_counts(normalize=True)\n",
    "colors = ['red','green']\n",
    "explode = [0.15,0]\n",
    "plt.title('Соотношение классов валидацинной выборки', size=20)\n",
    "plt.pie(values,labels=labels,colors=colors,explode=explode,shadow=True,autopct='%1.1f%%',startangle=180)\n",
    "plt.axis('equal')\n",
    "plt.show()\n",
    "\n",
    "plt.figure(figsize=(19, 7))\n",
    "labels = ['Класс 0','Класс 1']\n",
    "values = target_test.value_counts(normalize=True)\n",
    "colors = ['red','green']\n",
    "explode = [0.15,0]\n",
    "plt.title('Соотношение классов тестовой выборки', size=20)\n",
    "plt.pie(values,labels=labels,colors=colors,explode=explode,shadow=True,autopct='%1.1f%%',startangle=180)\n",
    "plt.axis('equal')\n",
    "plt.show()"
   ]
  },
  {
   "cell_type": "markdown",
   "metadata": {},
   "source": [
    "Обучим модель случайного леса."
   ]
  },
  {
   "cell_type": "code",
   "execution_count": 24,
   "metadata": {},
   "outputs": [
    {
     "data": {
      "image/png": "[encoded data removed]",
      "text/plain": [
       "<Figure size 864x504 with 1 Axes>"
      ]
     },
     "metadata": {
      "needs_background": "light"
     },
     "output_type": "display_data"
    },
    {
     "name": "stdout",
     "output_type": "stream",
     "text": [
      "Accuracy: 0.8712871287128713 , количество деревьев:  50 , глубина:  16\n",
      "Площадь под кривой (AUC-ROC): 0.8696513094291191\n",
      "Значение лучшей метрики F1: 0.6176470588235294\n",
      "CPU times: user 1min 18s, sys: 465 ms, total: 1min 19s\n",
      "Wall time: 1min 19s\n"
     ]
    }
   ],
   "source": [
    "%%time\n",
    "\n",
    "\n",
    "best_model_forest = None\n",
    "best_result_m1 = 0\n",
    "best_n_estimators = 0\n",
    "best_depth = 0\n",
    "\n",
    "\n",
    "for depth in range(2, 22, 2):\n",
    "    for est in range(50, 351, 50):\n",
    "        model_forest = RandomForestClassifier(random_state=12345, n_estimators=est, max_depth=depth)\n",
    "        model_forest.fit(features_train, target_train)\n",
    "        predicted_valid = model_forest.predict(features_valid)\n",
    "        probabilities_valid = model_forest.predict_proba(features_valid)\n",
    "        probabilities_one_valid = probabilities_valid[:, 1]\n",
    "        result_m1 = f1_score(predicted_valid, target_valid)\n",
    "        if result_m1 > best_result_m1:\n",
    "            best_model_forest = model_forest\n",
    "            best_result_m1 = result_m1\n",
    "            best_n_estimators = est\n",
    "            best_depth = depth\n",
    "            \n",
    "\n",
    "fpr, tpr, thresholds = roc_curve(target_valid, probabilities_one_valid) \n",
    "\n",
    "plt.figure(figsize=(12, 7))\n",
    "plt.plot(fpr, tpr)\n",
    "plt.plot([0, 1], [0, 1], linestyle='--')\n",
    "plt.xlim([0.0 ,1.0])\n",
    "plt.ylim([0.0 ,1.0])\n",
    "plt.xlabel('False Positive Rate')\n",
    "plt.ylabel('True Positive Rate')\n",
    "plt.title('ROC-кривая')\n",
    "plt.show()\n",
    "\n",
    "accuracy_m1 = best_model_forest.score(features_valid, target_valid)\n",
    "roc_model_1 = roc_auc_score(target_valid, probabilities_one_valid)\n",
    "\n",
    "print(\"Accuracy:\", accuracy_m1, \", количество деревьев: \",\n",
    "      best_n_estimators, \", глубина: \", best_depth)\n",
    "print('Площадь под кривой (AUC-ROC):', roc_model_1)\n",
    "print('Значение лучшей метрики F1:', best_result_m1)"
   ]
  },
  {
   "cell_type": "markdown",
   "metadata": {},
   "source": [
    "<div class=\"alert alert-danger\">\n",
    "<h2>Комментарий ревьюера<a class=\"tocSkip\"></a></h2>\n",
    "\n",
    "**Нужно доработать** ❌: так как основная метрика в этом проекте — F1-мера, то и лучшие гиперпараметры нужно подбирать на основании F1, а не accuracy</div>"
   ]
  },
  {
   "cell_type": "markdown",
   "metadata": {},
   "source": [
    "<div class=\"alert alert-info\">\n",
    "    <b>Комментарий студента:</b> Точно, спасибо! Исправил\n",
    "</div>"
   ]
  },
  {
   "cell_type": "markdown",
   "metadata": {},
   "source": [
    "<div class=\"alert alert-warning\">\n",
    "<h2>Комментарий ревьюера v2<a class=\"tocSkip\"></a></h2>\n",
    "    \n",
    "**Есть совет** ⚠️: окей, но обрати внимание, что при расчете метрик важно запомнить, что первым аргументом всегда передается целевой признак, а вторым — предсказания, иначе некоторые метрики будут рассчитаны некорректно, а ошибку найти будет не так уж и просто</div>"
   ]
  },
  {
   "cell_type": "markdown",
   "metadata": {},
   "source": [
    "<div class=\"alert alert-success\">\n",
    "<h2>Комментарий ревьюера<a class=\"tocSkip\"></a></h2>\n",
    "    \n",
    "**Отлично!** ✔️: классный график!</div>"
   ]
  },
  {
   "cell_type": "markdown",
   "metadata": {},
   "source": [
    "<div class=\"alert alert-warning\">\n",
    "<h2>Комментарий ревьюера<a class=\"tocSkip\"></a></h2>\n",
    "    \n",
    "**Есть совет** ⚠️: но для честного эксперимента стоит проверить все выбранные тобой модели на каждом этапе, в том числе до борьбы с дисбалансом</div>"
   ]
  },
  {
   "cell_type": "markdown",
   "metadata": {},
   "source": [
    "Обучим модель решающего дерева."
   ]
  },
  {
   "cell_type": "code",
   "execution_count": 25,
   "metadata": {},
   "outputs": [
    {
     "data": {
      "image/png": "[encoded data removed]",
      "text/plain": [
       "<Figure size 864x504 with 1 Axes>"
      ]
     },
     "metadata": {
      "needs_background": "light"
     },
     "output_type": "display_data"
    },
    {
     "name": "stdout",
     "output_type": "stream",
     "text": [
      "Accuracy: 0.8476347634763476 , глубина:  9\n",
      "Площадь под кривой (AUC-ROC): 0.6933836527661097\n",
      "Значение лучшей метрики F1: 0.5436573311367381\n",
      "CPU times: user 1.5 s, sys: 0 ns, total: 1.5 s\n",
      "Wall time: 1.52 s\n"
     ]
    }
   ],
   "source": [
    "%%time\n",
    "\n",
    "\n",
    "best_model_tree = None\n",
    "best_result_m2 = 0\n",
    "best_depth = 0\n",
    "\n",
    "\n",
    "for depth in range(1, 100, 2):\n",
    "    model_tree = DecisionTreeClassifier(random_state=12345, max_depth=depth)\n",
    "    model_tree.fit(features_train, target_train)\n",
    "    predicted_valid = model_tree.predict(features_valid)\n",
    "    probabilities_valid = model_tree.predict_proba(features_valid)\n",
    "    probabilities_one_valid = probabilities_valid[:, 1]\n",
    "    result_m2 = f1_score(predicted_valid, target_valid)\n",
    "    if result_m2 > best_result_m2:\n",
    "        best_model_tree = model_tree\n",
    "        best_result_m2 = result_m2\n",
    "        best_depth = depth\n",
    "            \n",
    "\n",
    "fpr, tpr, thresholds = roc_curve(target_valid, probabilities_one_valid) \n",
    "\n",
    "plt.figure(figsize=(12, 7))\n",
    "plt.plot(fpr, tpr)\n",
    "plt.plot([0, 1], [0, 1], linestyle='--')\n",
    "plt.xlim([0.0 ,1.0])\n",
    "plt.ylim([0.0 ,1.0])\n",
    "plt.xlabel('False Positive Rate')\n",
    "plt.ylabel('True Positive Rate')\n",
    "plt.title('ROC-кривая')\n",
    "plt.show()\n",
    "\n",
    "accuracy_m2 = best_model_tree.score(features_valid, target_valid)\n",
    "roc_model_2 = roc_auc_score(target_valid, probabilities_one_valid)\n",
    "\n",
    "print(\"Accuracy:\", accuracy_m2, \", глубина: \", best_depth)\n",
    "print('Площадь под кривой (AUC-ROC):', roc_model_2)\n",
    "print('Значение лучшей метрики F1:', best_result_m2)"
   ]
  },
  {
   "cell_type": "markdown",
   "metadata": {},
   "source": [
    "## Борьба с дисбалансом"
   ]
  },
  {
   "cell_type": "markdown",
   "metadata": {},
   "source": [
    "Улучшим качество модели, учитывая дисбаланс классов. Обучим разные модели и найдём лучшую. Кратко опишите выводы."
   ]
  },
  {
   "cell_type": "markdown",
   "metadata": {},
   "source": [
    "<div class=\"alert alert-danger\">\n",
    "<h2>Комментарий ревьюера<a class=\"tocSkip\"></a></h2>\n",
    "\n",
    "**Нужно доработать** ❌: не совсем понятно, почему ты повторно разбиваешь выборки, нужно пояснить</div>"
   ]
  },
  {
   "cell_type": "markdown",
   "metadata": {},
   "source": [
    "<div class=\"alert alert-info\">\n",
    "    <b>Комментарий студента:</b> Да лишнее действие, стало не актуальным после изменения методов решения задачи. Исправил\n",
    "</div>"
   ]
  },
  {
   "cell_type": "markdown",
   "metadata": {},
   "source": [
    "<div class=\"alert alert-success\">\n",
    "<h2>Комментарий ревьюера v2<a class=\"tocSkip\"></a></h2>\n",
    "    \n",
    "**Отлично!** ✔️: 👍</div>"
   ]
  },
  {
   "cell_type": "code",
   "execution_count": 26,
   "metadata": {},
   "outputs": [
    {
     "data": {
      "image/png": "[encoded data removed]",
      "text/plain": [
       "<Figure size 1368x504 with 1 Axes>"
      ]
     },
     "metadata": {},
     "output_type": "display_data"
    }
   ],
   "source": [
    "plt.figure(figsize=(19, 7))\n",
    "labels = ['Класс 0','Класс 1']\n",
    "values = target_train.value_counts(normalize=True)\n",
    "colors = ['red','green']\n",
    "explode = [0.04,0]\n",
    "plt.title('Соотношение классов', size=20)\n",
    "plt.pie(values,labels=labels,colors=colors,explode=explode,shadow=True,autopct='%1.1f%%',startangle=90)\n",
    "plt.axis('equal')\n",
    "plt.show()"
   ]
  },
  {
   "cell_type": "markdown",
   "metadata": {},
   "source": [
    "Решим проблему дисбаланса классов увеличением выборки меньшего класса."
   ]
  },
  {
   "cell_type": "code",
   "execution_count": 27,
   "metadata": {},
   "outputs": [],
   "source": [
    "def upsample(features, target, repeat):\n",
    "    features_zeros = features[target == 0]\n",
    "    features_ones = features[target == 1]\n",
    "    target_zeros = target[target == 0]\n",
    "    target_ones = target[target == 1]\n",
    "\n",
    "    features_upsampled = pd.concat([features_zeros] + [features_ones] * repeat)\n",
    "    target_upsampled = pd.concat([target_zeros] + [target_ones] * repeat)\n",
    "    \n",
    "    features_upsampled, target_upsampled = shuffle(\n",
    "        features_upsampled, target_upsampled, random_state=12345)\n",
    "    \n",
    "    return features_upsampled, target_upsampled\n",
    "\n",
    "features_upsampled, target_upsampled = upsample(features_train, target_train, 4)"
   ]
  },
  {
   "cell_type": "markdown",
   "metadata": {},
   "source": [
    "Дислабанс решён:"
   ]
  },
  {
   "cell_type": "code",
   "execution_count": 28,
   "metadata": {},
   "outputs": [
    {
     "data": {
      "image/png": "[encoded data removed]",
      "text/plain": [
       "<Figure size 1368x504 with 1 Axes>"
      ]
     },
     "metadata": {},
     "output_type": "display_data"
    }
   ],
   "source": [
    "plt.figure(figsize=(19, 7))\n",
    "labels = ['Класс 0','Класс 1']\n",
    "values = target_upsampled.value_counts(normalize=True)\n",
    "colors = ['red','green']\n",
    "explode = [0.04,0]\n",
    "plt.title('Соотношение классов', size=20)\n",
    "plt.pie(values,labels=labels,colors=colors,explode=explode,shadow=True,autopct='%1.1f%%',startangle=90)\n",
    "plt.axis('equal')\n",
    "plt.show()"
   ]
  },
  {
   "cell_type": "markdown",
   "metadata": {},
   "source": [
    "<div class=\"alert alert-success\">\n",
    "<h2>Комментарий ревьюера<a class=\"tocSkip\"></a></h2>\n",
    "    \n",
    "**Отлично!** ✔️: коэффициент увеличения выборки подобран верно!</div>"
   ]
  },
  {
   "cell_type": "markdown",
   "metadata": {},
   "source": [
    "Обучим две модели дерева решений с разными методами баланса класса, первую с увелечением выборки меньшего класса:"
   ]
  },
  {
   "cell_type": "code",
   "execution_count": 29,
   "metadata": {},
   "outputs": [
    {
     "data": {
      "image/png": "[encoded data removed]",
      "text/plain": [
       "<Figure size 864x504 with 1 Axes>"
      ]
     },
     "metadata": {
      "needs_background": "light"
     },
     "output_type": "display_data"
    },
    {
     "name": "stdout",
     "output_type": "stream",
     "text": [
      "Accuracy: 0.8157315731573157 , глубина:  5\n",
      "Площадь под кривой (AUC-ROC): 0.6742391079601443\n",
      "Значение лучшей метрики F1: 0.6035502958579881\n",
      "CPU times: user 1.73 s, sys: 7.91 ms, total: 1.74 s\n",
      "Wall time: 1.75 s\n"
     ]
    }
   ],
   "source": [
    "%%time\n",
    "\n",
    "\n",
    "best_model_tree = None\n",
    "best_result_m3 = 0\n",
    "best_depth = 0\n",
    "\n",
    "\n",
    "for depth in range(1, 100, 2):\n",
    "    model_tree = DecisionTreeClassifier(random_state=12345, max_depth=depth)\n",
    "    model_tree.fit(features_upsampled, target_upsampled)\n",
    "    predicted_valid = model_tree.predict(features_valid)\n",
    "    probabilities_valid = model_tree.predict_proba(features_valid)\n",
    "    probabilities_one_valid = probabilities_valid[:, 1]\n",
    "    result_m3 = f1_score(predicted_valid, target_valid)\n",
    "    if result_m3 > best_result_m3:\n",
    "        best_model_tree = model_tree\n",
    "        best_result_m3 = result_m3\n",
    "        best_depth = depth\n",
    "            \n",
    "\n",
    "fpr, tpr, thresholds = roc_curve(target_valid, probabilities_one_valid) \n",
    "\n",
    "plt.figure(figsize=(12, 7))\n",
    "plt.plot(fpr, tpr)\n",
    "plt.plot([0, 1], [0, 1], linestyle='--')\n",
    "plt.xlim([0.0 ,1.0])\n",
    "plt.ylim([0.0 ,1.0])\n",
    "plt.xlabel('False Positive Rate')\n",
    "plt.ylabel('True Positive Rate')\n",
    "plt.title('ROC-кривая')\n",
    "plt.show()\n",
    "\n",
    "accuracy_m3 = best_model_tree.score(features_valid, target_valid)\n",
    "roc_model_3 = roc_auc_score(target_valid, probabilities_one_valid)\n",
    "\n",
    "print(\"Accuracy:\", accuracy_m3, \", глубина: \", best_depth)\n",
    "print('Площадь под кривой (AUC-ROC):', roc_model_3)\n",
    "print('Значение лучшей метрики F1:', best_result_m3)"
   ]
  },
  {
   "cell_type": "code",
   "execution_count": 30,
   "metadata": {},
   "outputs": [
    {
     "data": {
      "image/png": "[encoded data removed]",
      "text/plain": [
       "<Figure size 864x504 with 1 Axes>"
      ]
     },
     "metadata": {
      "needs_background": "light"
     },
     "output_type": "display_data"
    },
    {
     "name": "stdout",
     "output_type": "stream",
     "text": [
      "Accuracy: 0.8157315731573157 , глубина:  5\n",
      "Площадь под кривой (AUC-ROC): 0.6907226960883844\n",
      "Значение лучшей метрики F1: 0.6035502958579881\n",
      "CPU times: user 1.46 s, sys: 15.9 ms, total: 1.48 s\n",
      "Wall time: 1.48 s\n"
     ]
    }
   ],
   "source": [
    "%%time\n",
    "\n",
    "\n",
    "best_model_tree = None\n",
    "best_result_m4 = 0\n",
    "best_depth = 0\n",
    "\n",
    "\n",
    "for depth in range(1, 100, 2):\n",
    "    model_tree = DecisionTreeClassifier(random_state=12345, max_depth=depth, class_weight='balanced')\n",
    "    model_tree.fit(features_train, target_train)\n",
    "    predicted_valid = model_tree.predict(features_valid)\n",
    "    probabilities_valid = model_tree.predict_proba(features_valid)\n",
    "    probabilities_one_valid = probabilities_valid[:, 1]\n",
    "    result_m4 = f1_score(predicted_valid, target_valid)\n",
    "    if result_m4 > best_result_m4:\n",
    "        best_model_tree = model_tree\n",
    "        best_result_m4 = result_m4\n",
    "        best_depth = depth\n",
    "            \n",
    "\n",
    "fpr, tpr, thresholds = roc_curve(target_valid, probabilities_one_valid) \n",
    "\n",
    "plt.figure(figsize=(12, 7))\n",
    "plt.plot(fpr, tpr)\n",
    "plt.plot([0, 1], [0, 1], linestyle='--')\n",
    "plt.xlim([0.0 ,1.0])\n",
    "plt.ylim([0.0 ,1.0])\n",
    "plt.xlabel('False Positive Rate')\n",
    "plt.ylabel('True Positive Rate')\n",
    "plt.title('ROC-кривая')\n",
    "plt.show()\n",
    "\n",
    "accuracy_m4 = best_model_tree.score(features_valid, target_valid)\n",
    "roc_model_4 = roc_auc_score(target_valid, probabilities_one_valid)\n",
    "\n",
    "print(\"Accuracy:\", accuracy_m4, \", глубина: \", best_depth)\n",
    "print('Площадь под кривой (AUC-ROC):', roc_model_4)\n",
    "print('Значение лучшей метрики F1:', best_result_m4)"
   ]
  },
  {
   "cell_type": "markdown",
   "metadata": {},
   "source": [
    "Проделаем тоже самое для модели случайного леса:"
   ]
  },
  {
   "cell_type": "code",
   "execution_count": 31,
   "metadata": {},
   "outputs": [
    {
     "data": {
      "image/png": "[encoded data removed]",
      "text/plain": [
       "<Figure size 864x504 with 1 Axes>"
      ]
     },
     "metadata": {
      "needs_background": "light"
     },
     "output_type": "display_data"
    },
    {
     "name": "stdout",
     "output_type": "stream",
     "text": [
      "Accuracy: 0.834983498349835 , количество деревьев:  350 , глубина:  10\n",
      "Площадь под кривой (AUC-ROC): 0.8626082032348739\n",
      "Значение лучшей метрики F1: 0.6376811594202898\n",
      "CPU times: user 1min 45s, sys: 360 ms, total: 1min 45s\n",
      "Wall time: 1min 45s\n"
     ]
    }
   ],
   "source": [
    "%%time\n",
    "\n",
    "\n",
    "best_model_forest = None\n",
    "best_result_m5 = 0\n",
    "best_n_estimators = 0\n",
    "best_depth = 0\n",
    "\n",
    "\n",
    "for depth in range(2, 22, 2):\n",
    "    for est in range(50, 351, 50):\n",
    "        model_forest = RandomForestClassifier(random_state=12345, n_estimators=est, max_depth=depth)\n",
    "        model_forest.fit(features_upsampled, target_upsampled)\n",
    "        predicted_valid = model_forest.predict(features_valid)\n",
    "        probabilities_valid = model_forest.predict_proba(features_valid)\n",
    "        probabilities_one_valid = probabilities_valid[:, 1]\n",
    "        result_m5 = f1_score(predicted_valid, target_valid)\n",
    "        if result_m5 > best_result_m5:\n",
    "            best_model_forest = model_forest\n",
    "            best_result_m5 = result_m5\n",
    "            best_n_estimators = est\n",
    "            best_depth = depth\n",
    "            \n",
    "\n",
    "fpr, tpr, thresholds = roc_curve(target_valid, probabilities_one_valid) \n",
    "\n",
    "plt.figure(figsize=(12, 7))\n",
    "plt.plot(fpr, tpr)\n",
    "plt.plot([0, 1], [0, 1], linestyle='--')\n",
    "plt.xlim([0.0 ,1.0])\n",
    "plt.ylim([0.0 ,1.0])\n",
    "plt.xlabel('False Positive Rate')\n",
    "plt.ylabel('True Positive Rate')\n",
    "plt.title('ROC-кривая')\n",
    "plt.show()\n",
    "\n",
    "accuracy_m5 = best_model_forest.score(features_valid, target_valid)\n",
    "roc_model_5 = roc_auc_score(target_valid, probabilities_one_valid)\n",
    "\n",
    "print(\"Accuracy:\", accuracy_m5, \", количество деревьев: \",\n",
    "      best_n_estimators, \", глубина: \", best_depth)\n",
    "print('Площадь под кривой (AUC-ROC):', roc_model_5)\n",
    "print('Значение лучшей метрики F1:', best_result_m5)"
   ]
  },
  {
   "cell_type": "code",
   "execution_count": 32,
   "metadata": {},
   "outputs": [
    {
     "data": {
      "image/png": "[encoded data removed]",
      "text/plain": [
       "<Figure size 864x504 with 1 Axes>"
      ]
     },
     "metadata": {
      "needs_background": "light"
     },
     "output_type": "display_data"
    },
    {
     "name": "stdout",
     "output_type": "stream",
     "text": [
      "Accuracy: 0.8371837183718371 , количество деревьев:  350 , глубина:  8\n",
      "Площадь под кривой (AUC-ROC): 0.8706655837805516\n",
      "Значение лучшей метрики F1: 0.6318407960199004\n",
      "CPU times: user 1min 16s, sys: 268 ms, total: 1min 17s\n",
      "Wall time: 1min 17s\n"
     ]
    }
   ],
   "source": [
    "%%time\n",
    "\n",
    "\n",
    "best_model_forest = None\n",
    "best_result_m6 = 0\n",
    "best_n_estimators = 0\n",
    "best_depth = 0\n",
    "\n",
    "\n",
    "for depth in range(2, 22, 2):\n",
    "    for est in range(50, 351, 50):\n",
    "        model_forest = RandomForestClassifier(random_state=12345, n_estimators=est, max_depth=depth, class_weight='balanced')\n",
    "        model_forest.fit(features_train, target_train)\n",
    "        predicted_valid = model_forest.predict(features_valid)\n",
    "        probabilities_valid = model_forest.predict_proba(features_valid)\n",
    "        probabilities_one_valid = probabilities_valid[:, 1]\n",
    "        result_m6 = f1_score(predicted_valid, target_valid)\n",
    "        if result_m6 > best_result_m6:\n",
    "            best_model_forest = model_forest\n",
    "            best_result_m6 = result_m6\n",
    "            best_n_estimators = est\n",
    "            best_depth = depth\n",
    "            \n",
    "\n",
    "fpr, tpr, thresholds = roc_curve(target_valid, probabilities_one_valid) \n",
    "\n",
    "plt.figure(figsize=(12, 7))\n",
    "plt.plot(fpr, tpr)\n",
    "plt.plot([0, 1], [0, 1], linestyle='--')\n",
    "plt.xlim([0.0 ,1.0])\n",
    "plt.ylim([0.0 ,1.0])\n",
    "plt.xlabel('False Positive Rate')\n",
    "plt.ylabel('True Positive Rate')\n",
    "plt.title('ROC-кривая')\n",
    "plt.show()\n",
    "\n",
    "accuracy_m6 = best_model_forest.score(features_valid, target_valid)\n",
    "roc_model_6 = roc_auc_score(target_valid, probabilities_one_valid)\n",
    "\n",
    "print(\"Accuracy:\", accuracy_m6, \", количество деревьев: \",\n",
    "      best_n_estimators, \", глубина: \", best_depth)\n",
    "print('Площадь под кривой (AUC-ROC):', roc_model_6)\n",
    "print('Значение лучшей метрики F1:', best_result_m6)"
   ]
  },
  {
   "cell_type": "markdown",
   "metadata": {},
   "source": [
    "Тестирование на модели линейной регресси проводить не будем, поскольку для к датасету было применено порядковое кодирование. Двух моделей будет достаточно для решения данной задачи."
   ]
  },
  {
   "cell_type": "markdown",
   "metadata": {},
   "source": [
    "<div class=\"alert alert-warning\">\n",
    "<h2>Комментарий ревьюера<a class=\"tocSkip\"></a></h2>\n",
    "    \n",
    "**Есть совет** ⚠️: окей, только не хватает таблички с результатами, где будет название модели, примененный способ борьбы с дисбалансом, подобранные гиперпараметры и значения метрик F1 и AUC-ROC</div>"
   ]
  },
  {
   "cell_type": "markdown",
   "metadata": {},
   "source": [
    "<div class=\"alert alert-info\">\n",
    "    <b>Комментарий студента:</b> Подскажи пожаулуйста как можно было общие результаты красивее и информативнее визуализировать. Очень интересно, возьму на вооружение себе, а то это как-то топорно выглядит))\n",
    "\n",
    "</div>"
   ]
  },
  {
   "cell_type": "code",
   "execution_count": 33,
   "metadata": {},
   "outputs": [
    {
     "data": {
      "text/html": [
       "<div>\n",
       "<style scoped>\n",
       "    .dataframe tbody tr th:only-of-type {\n",
       "        vertical-align: middle;\n",
       "    }\n",
       "\n",
       "    .dataframe tbody tr th {\n",
       "        vertical-align: top;\n",
       "    }\n",
       "\n",
       "    .dataframe thead th {\n",
       "        text-align: right;\n",
       "    }\n",
       "</style>\n",
       "<table border=\"1\" class=\"dataframe\">\n",
       "  <thead>\n",
       "    <tr style=\"text-align: right;\">\n",
       "      <th></th>\n",
       "      <th>model_name</th>\n",
       "      <th>f1</th>\n",
       "      <th>roc_aoc</th>\n",
       "      <th>accuracy</th>\n",
       "    </tr>\n",
       "  </thead>\n",
       "  <tbody>\n",
       "    <tr>\n",
       "      <th>4</th>\n",
       "      <td>forest_balance_up</td>\n",
       "      <td>0.638</td>\n",
       "      <td>0.863</td>\n",
       "      <td>0.835</td>\n",
       "    </tr>\n",
       "    <tr>\n",
       "      <th>5</th>\n",
       "      <td>forest_balance_weight</td>\n",
       "      <td>0.632</td>\n",
       "      <td>0.871</td>\n",
       "      <td>0.837</td>\n",
       "    </tr>\n",
       "    <tr>\n",
       "      <th>0</th>\n",
       "      <td>forest_disbalance</td>\n",
       "      <td>0.618</td>\n",
       "      <td>0.870</td>\n",
       "      <td>0.871</td>\n",
       "    </tr>\n",
       "    <tr>\n",
       "      <th>2</th>\n",
       "      <td>tree_balance_up</td>\n",
       "      <td>0.604</td>\n",
       "      <td>0.674</td>\n",
       "      <td>0.816</td>\n",
       "    </tr>\n",
       "    <tr>\n",
       "      <th>3</th>\n",
       "      <td>tree_balance_weight</td>\n",
       "      <td>0.604</td>\n",
       "      <td>0.691</td>\n",
       "      <td>0.816</td>\n",
       "    </tr>\n",
       "    <tr>\n",
       "      <th>1</th>\n",
       "      <td>tree_disbalance</td>\n",
       "      <td>0.544</td>\n",
       "      <td>0.693</td>\n",
       "      <td>0.848</td>\n",
       "    </tr>\n",
       "  </tbody>\n",
       "</table>\n",
       "</div>"
      ],
      "text/plain": [
       "              model_name     f1  roc_aoc  accuracy\n",
       "4      forest_balance_up  0.638    0.863     0.835\n",
       "5  forest_balance_weight  0.632    0.871     0.837\n",
       "0      forest_disbalance  0.618    0.870     0.871\n",
       "2        tree_balance_up  0.604    0.674     0.816\n",
       "3    tree_balance_weight  0.604    0.691     0.816\n",
       "1        tree_disbalance  0.544    0.693     0.848"
      ]
     },
     "metadata": {},
     "output_type": "display_data"
    }
   ],
   "source": [
    "accuracy_results = [accuracy_m1, accuracy_m2, accuracy_m3,\n",
    "                   accuracy_m4, accuracy_m5, accuracy_m6]\n",
    "\n",
    "roc_aoc_results = [roc_model_1, roc_model_2, roc_model_3,\n",
    "                   roc_model_4, roc_model_5, roc_model_6]\n",
    "\n",
    "f1_results = [best_result_m1, best_result_m2, best_result_m3,\n",
    "              best_result_m4, best_result_m5, best_result_m6]\n",
    "\n",
    "columns = ['forest_disbalance', 'tree_disbalance', 'tree_balance_up', \n",
    "           'tree_balance_weight', 'forest_balance_up', 'forest_balance_weight']\n",
    "\n",
    "all_results =  pd.DataFrame({'model_name': columns,\n",
    "                             'f1': f1_results,\n",
    "                             'roc_aoc' : roc_aoc_results,\n",
    "                             'accuracy' : accuracy_results})\n",
    "\n",
    "display(all_results.round(3).sort_values(by = 'f1', ascending=False))"
   ]
  },
  {
   "cell_type": "markdown",
   "metadata": {},
   "source": [
    "**Вывод**: лучшей моделью для метрики F1 себя показал случайный лес c увеличением выборки. Худшей - лес без баланса классов. С ростом метрики F1 растёт площадь под ROC-кривой."
   ]
  },
  {
   "cell_type": "markdown",
   "metadata": {},
   "source": [
    "<div class=\"alert alert-success\">\n",
    "<h2>Комментарий ревьюера v2<a class=\"tocSkip\"></a></h2>\n",
    "    \n",
    "**Отлично!** ✔️: да вроде здорово получилось :) Но можно еще попробовать составлять ее автоматически. Самый простой вариант — это создать новый датафрейм перед обучением модели и написать функцию, которая будет добавлять в него указанные параметры. Получить название модели можно, например, так: `type(model).__name__` а гиперпараметры модели методом `get_params()`. Метрики ты уже считаешь, так что вручную останется передавать в эту функцию только название метода борьбы с дисбалансом\n",
    "\n",
    "Еще можно попробовать выделить максимальное значение в каждой колонке, тут поможет метод <a href=\"https://pandas.pydata.org/docs/reference/api/pandas.io.formats.style.Styler.highlight_max.html\" target=\"blank_\">highlight_max</a>, например:\n",
    "    \n",
    "    df.style.highlight_max(color='yellow', axis = 0)\n",
    "</div>"
   ]
  },
  {
   "cell_type": "markdown",
   "metadata": {},
   "source": [
    "## Тестирование модели"
   ]
  },
  {
   "cell_type": "markdown",
   "metadata": {},
   "source": [
    "Проведём финальное тестирование лучшей модели с учётом выявленных гиперпараметров."
   ]
  },
  {
   "cell_type": "code",
   "execution_count": 34,
   "metadata": {},
   "outputs": [
    {
     "data": {
      "image/png": "[encoded data removed]",
      "text/plain": [
       "<Figure size 864x504 with 1 Axes>"
      ]
     },
     "metadata": {
      "needs_background": "light"
     },
     "output_type": "display_data"
    },
    {
     "name": "stdout",
     "output_type": "stream",
     "text": [
      "Accuracy: 0.8602860286028603\n",
      "Площадь под кривой (AUC-ROC): 0.8704280815219517\n",
      "Значение лучшей метрики F1: 0.6242603550295859\n",
      "CPU times: user 2.43 s, sys: 4 ms, total: 2.43 s\n",
      "Wall time: 2.43 s\n"
     ]
    }
   ],
   "source": [
    "%%time\n",
    "\n",
    "\n",
    "model_forest = RandomForestClassifier(random_state=12345, n_estimators=350, max_depth=12, class_weight='balanced')\n",
    "model_forest.fit(features_train, target_train)\n",
    "predicted_valid = model_forest.predict(features_valid)\n",
    "probabilities_valid = model_forest.predict_proba(features_valid)\n",
    "probabilities_one_valid = probabilities_valid[:, 1]\n",
    "result_final = f1_score(predicted_valid, target_valid)\n",
    "           \n",
    "\n",
    "fpr, tpr, thresholds = roc_curve(target_valid, probabilities_one_valid) \n",
    "\n",
    "plt.figure(figsize=(12, 7))\n",
    "plt.plot(fpr, tpr)\n",
    "plt.plot([0, 1], [0, 1], linestyle='--')\n",
    "plt.xlim([0.0 ,1.0])\n",
    "plt.ylim([0.0 ,1.0])\n",
    "plt.xlabel('False Positive Rate')\n",
    "plt.ylabel('True Positive Rate')\n",
    "plt.title('ROC-кривая')\n",
    "plt.show()\n",
    "\n",
    "accuracy_final = model_forest.score(features_valid, target_valid)\n",
    "roc_model_final = roc_auc_score(target_valid, probabilities_one_valid)\n",
    "\n",
    "print(\"Accuracy:\", accuracy_final)\n",
    "print('Площадь под кривой (AUC-ROC):', roc_model_final)\n",
    "print('Значение лучшей метрики F1:', result_final)"
   ]
  },
  {
   "cell_type": "markdown",
   "metadata": {},
   "source": [
    "Проверим стабильноcть модели на тестовой выборке:"
   ]
  },
  {
   "cell_type": "code",
   "execution_count": 35,
   "metadata": {},
   "outputs": [
    {
     "data": {
      "image/png": "[encoded data removed]",
      "text/plain": [
       "<Figure size 864x504 with 1 Axes>"
      ]
     },
     "metadata": {
      "needs_background": "light"
     },
     "output_type": "display_data"
    },
    {
     "name": "stdout",
     "output_type": "stream",
     "text": [
      "Accuracy: 0.8537658053875756\n",
      "Площадь под кривой (AUC-ROC): 0.84767911125672\n",
      "Значение лучшей метрики F1: 0.5945121951219512\n",
      "CPU times: user 532 ms, sys: 3.97 ms, total: 536 ms\n",
      "Wall time: 543 ms\n"
     ]
    }
   ],
   "source": [
    "%%time\n",
    "\n",
    "\n",
    "predicted_test = model_forest.predict(features_test)\n",
    "probabilities_test = model_forest.predict_proba(features_test)\n",
    "probabilities_one_test = probabilities_test[:, 1]\n",
    "result_test = f1_score(predicted_test, target_test)\n",
    "            \n",
    "\n",
    "fpr, tpr, thresholds = roc_curve(target_test, probabilities_one_test) \n",
    "\n",
    "plt.figure(figsize=(12, 7))\n",
    "plt.plot(fpr, tpr)\n",
    "plt.plot([0, 1], [0, 1], linestyle='--')\n",
    "plt.xlim([0.0 ,1.0])\n",
    "plt.ylim([0.0 ,1.0])\n",
    "plt.xlabel('False Positive Rate')\n",
    "plt.ylabel('True Positive Rate')\n",
    "plt.title('ROC-кривая')\n",
    "plt.show()\n",
    "\n",
    "accuracy_test = model_forest.score(features_test, target_test)\n",
    "roc_model_test = roc_auc_score(target_test, probabilities_one_test)\n",
    "\n",
    "print(\"Accuracy:\", accuracy_test)\n",
    "print('Площадь под кривой (AUC-ROC):', roc_model_test)\n",
    "print('Значение лучшей метрики F1:', result_test)"
   ]
  },
  {
   "cell_type": "code",
   "execution_count": 36,
   "metadata": {},
   "outputs": [
    {
     "name": "stdout",
     "output_type": "stream",
     "text": [
      "Accuracy валидационной выборки: 0.8602860286028603\n",
      "Accuracy тестовой выборки: 0.8537658053875756\n"
     ]
    }
   ],
   "source": [
    "print('Accuracy валидационной выборки:', accuracy_final)\n",
    "print('Accuracy тестовой выборки:', accuracy_test)"
   ]
  },
  {
   "cell_type": "markdown",
   "metadata": {},
   "source": [
    "Значение метрик `Accuracy` близки по значению, что свидетельствует о стабильности нашей модели."
   ]
  },
  {
   "cell_type": "markdown",
   "metadata": {},
   "source": [
    "Теперь проверим нашу модель на адекватность сравнив её с константной моделью:"
   ]
  },
  {
   "cell_type": "code",
   "execution_count": 37,
   "metadata": {},
   "outputs": [
    {
     "name": "stdout",
     "output_type": "stream",
     "text": [
      "Accuracy константной модели: 0.7960417811984607\n",
      "Accuracy нашей лучшей модели: 0.8537658053875756\n",
      "Вывод: наша модель адекватна\n"
     ]
    }
   ],
   "source": [
    "target_constant = pd.Series(0, index=features_train.index)\n",
    "\n",
    "\n",
    "model_constant = RandomForestClassifier(random_state=12345, n_estimators=350, max_depth=12, class_weight='balanced')\n",
    "model_constant.fit(features_train, target_constant)\n",
    "constant_results = model_constant.score(features_test, target_test)       \n",
    "            \n",
    "print(\"Accuracy константной модели:\", constant_results)\n",
    "print(\"Accuracy нашей лучшей модели:\", accuracy_test)\n",
    "\n",
    "if accuracy_test > constant_results:\n",
    "    print('Вывод: наша модель адекватна')\n",
    "else:\n",
    "    print('Вывод: наша модель неадекватна')"
   ]
  },
  {
   "cell_type": "markdown",
   "metadata": {},
   "source": [
    "<div class=\"alert alert-info\">\n",
    "    <b>Комментарий студента:</b> нужно ли в константной модели задавать гиперпараметры как на нашей модели? Ещё вопрос логический, ведь проверка на адекватность не всегда объективна, например если как у нас число ответов класса 1 почти 79 % в выборке, следовательно иногда может попасть так что модель константная будет слишком высокую точность показывать..\n",
    "\n",
    "</div>"
   ]
  },
  {
   "cell_type": "markdown",
   "metadata": {},
   "source": [
    "<div class=\"alert alert-success\">\n",
    "<h2>Комментарий ревьюера v2<a class=\"tocSkip\"></a></h2>\n",
    "    \n",
    "**Отлично!** ✔️: как правило, проверяют на адекватность лучшую модель, поэтому гиперпараметры указывать точно стоит. А по поводу высокой точности у константной модели — именно так, а проблема как раз в accuracy, ровно по этой причине она и не используется для оценки моделей при дисбалансе. Поэтому здесь можно проверить не ее, а актуальные для нас в этом случае метрики, то есть F1 и AUC-ROC</div>"
   ]
  },
  {
   "cell_type": "markdown",
   "metadata": {},
   "source": [
    "Вывод: мы построили модель с предельно большим значением F1-меры, учитвая при этом баланс классов в тренеровочной выборке. Мы выполнили условия поставленной задачи и довели метрику до значений превышающих 0.59. Наша модель выдаёт успешное значение 0.5945 на тестовой выборке."
   ]
  },
  {
   "cell_type": "markdown",
   "metadata": {},
   "source": [
    "<div class=\"alert alert-success\">\n",
    "<h2>Комментарий ревьюера<a class=\"tocSkip\"></a></h2>\n",
    "    \n",
    "**Отлично!** ✔️: лайк за проверку на адекватность!</div>"
   ]
  },
  {
   "cell_type": "markdown",
   "metadata": {},
   "source": [
    "<div class=\"alert alert-danger\">\n",
    "<h2>Комментарий ревьюера<a class=\"tocSkip\"></a></h2>\n",
    "\n",
    "**Нужно доработать** ❌: но здесь ячейка падает с ошибкой, перед следующей отправкой убедись, что проект полностью запускается в окружении Практикума, а ячейки расположены в порядке запуска</div>"
   ]
  },
  {
   "cell_type": "markdown",
   "metadata": {},
   "source": [
    "<div class=\"alert alert-danger\">\n",
    "<h2>Комментарий ревьюера<a class=\"tocSkip\"></a></h2>\n",
    "\n",
    "**Нужно доработать** ❌: на тестовой выборке нельзя подбирать гиперпараметры(как и сравнивать модели или способы борьбы с дисбалансом), иначе она просто перестанет быть тестовой. Она нужна только для проверки лучшей модели по метрикам на валидационной выборке с уже подобранными гиперпараметрами и примененным способом борьбы с дисбалансом</div>"
   ]
  },
  {
   "cell_type": "markdown",
   "metadata": {},
   "source": [
    "<div class=\"alert alert-info\">\n",
    "    <b>Комментарий студента:</b> Все исправил. Можешь пожалуйста посоветовать от себя что-то полезное или развивающее, может какие-то полезные сайти, книги, каналы, советы или на что обратить внимание начинающему специалисту чтобы повысить свою эффективность?\n",
    "\n",
    "</div>"
   ]
  },
  {
   "cell_type": "markdown",
   "metadata": {},
   "source": [
    "<div class=\"alert alert-success\">\n",
    "<h2>Комментарий ревьюера v2<a class=\"tocSkip\"></a></h2>\n",
    "    \n",
    "**Отлично!** ✔️: тут зависит от того, что тебе кажется более нужным сейчас. Например, если хочется глубже разобраться с DS, то я всегда активно советую соревнования на <a href=\"https://www.kaggle.com/competitions\">Kaggle</a>: помимо расширения кругозора, драгоценного опыта и наполнения своего портфолио, активность на Kaggle также часто ценится работодателями\n",
    "\n",
    "А если хочется улучшить навыки написания кода, то есть два моих любимых ресурса для этого:\n",
    "    \n",
    "* https://www.codewars.com/ — платформа с задачами разного уровня сложности на десятках языках программирования. После отправки своего решения можно посмотреть на решения других пользователей и понять, что есть куда расти :)\n",
    "* https://leetcode.com/ — похожая платформа, но здесь упор сделан на задачи с технических собеседований, в том числе задачи по алгоритмам и структурам данных\n",
    "    \n",
    "Подобные задачи развивают мышление программиста и неплохо тренируют навыки кодинга</div>"
   ]
  },
  {
   "cell_type": "markdown",
   "metadata": {},
   "source": [
    "## Общий вывод"
   ]
  },
  {
   "cell_type": "markdown",
   "metadata": {},
   "source": [
    "Мы смогли достичь успешного значения F1 > 0.59 на тестовой выборке, меняя гиперпараметры случайного леса. При этом можно увидеть прямопропорциональную зависимость метрики F1 от прощади под кривой AUC-ROC. Так же можно отметить, что баланс соотношения классов тренеровочной выборки влияет на значения ключевых метрик и повышает эффективность модели. Лучшим методом баланса класса показало себя увеличение меньшего класса выборки до соотношения 1:1."
   ]
  },
  {
   "cell_type": "markdown",
   "metadata": {},
   "source": [
    "<div style=\"padding: 20px 25px; border: 2px #6495ed solid\">\n",
    "    \n",
    "<h2 style=\"color: #87187D\">Итоговый комментарий ревьюера<a class=\"tocSkip\"></a></h2>\n",
    "\n",
    "Чистый и структурированный проект, спасибо, такие всегда приятно проверять!\n",
    "\n",
    "Но тебе обязательно нужно обратить внимание на следующее:\n",
    "* для подбора гиперпараметров нужно использовать основную метрику, в нашем случае это F1-мера;\n",
    "* перепроверь наличие выводов и пояснений на каждом этапе;\n",
    "* убедись, что проект полностью запускается в окружении Практикума;\n",
    "* не используй тестовую выборку для подбора гиперпараметров;\n",
    "\n",
    "Остальные комментарии можно найти в проекте. Готов ответить на любые вопросы :)\n",
    "\n",
    "<b>Жду доработанный проект на повторное ревью! Удачи!</b>\n",
    "        \n",
    "</div>"
   ]
  },
  {
   "cell_type": "markdown",
   "metadata": {},
   "source": [
    "<div style=\"padding: 20px 25px; border: 2px #6495ed solid\">\n",
    "    \n",
    "<h2 style=\"color: #87187D\">Итоговый комментарий ревьюера v2<a class=\"tocSkip\"></a></h2>\n",
    "\n",
    "Теперь то, что нужно, молодец!\n",
    "\n",
    "Все критичные замечания исправлены, и теперь я могу принять твою работу :)\n",
    "\n",
    "<b>Успехов в обучении!</b>\n",
    "        \n",
    "</div>"
   ]
  },
  {
   "cell_type": "markdown",
   "metadata": {},
   "source": [
    "## Чек-лист готовности проекта"
   ]
  },
  {
   "cell_type": "markdown",
   "metadata": {},
   "source": [
    "- [x]  Jupyter Notebook открыт\n",
    "- [x]  Весь код выполняется без ошибок\n",
    "- [x]  Ячейки с кодом расположены в порядке исполнения\n",
    "- [x]  Выполнен шаг 1: данные подготовлены\n",
    "- [x]  Выполнен шаг 2: задача исследована\n",
    "    - [x]  Исследован баланс классов\n",
    "    - [x]  Изучены модели без учёта дисбаланса\n",
    "    - [x]  Написаны выводы по результатам исследования\n",
    "- [x]  Выполнен шаг 3: учтён дисбаланс\n",
    "    - [x]  Применено несколько способов борьбы с дисбалансом\n",
    "    - [x]  Написаны выводы по результатам исследования\n",
    "- [x]  Выполнен шаг 4: проведено тестирование\n",
    "- [x]  Удалось достичь *F1*-меры не менее 0.59\n",
    "- [x]  Исследована метрика *AUC-ROC*"
   ]
  }
 ],
 "metadata": {
  "ExecuteTimeLog": [
   {
    "duration": 1525,
    "start_time": "2022-11-13T15:03:05.303Z"
   },
   {
    "duration": 83,
    "start_time": "2022-11-13T15:04:04.497Z"
   },
   {
    "duration": 42,
    "start_time": "2022-11-13T15:04:25.507Z"
   },
   {
    "duration": 46,
    "start_time": "2022-11-13T15:04:50.978Z"
   },
   {
    "duration": 13,
    "start_time": "2022-11-13T15:04:53.760Z"
   },
   {
    "duration": 48,
    "start_time": "2022-11-21T07:46:09.696Z"
   },
   {
    "duration": 9,
    "start_time": "2022-11-21T07:46:16.785Z"
   },
   {
    "duration": 1590,
    "start_time": "2022-11-21T07:46:21.524Z"
   },
   {
    "duration": 100,
    "start_time": "2022-11-21T07:46:23.116Z"
   },
   {
    "duration": 13,
    "start_time": "2022-11-21T07:46:23.218Z"
   },
   {
    "duration": 11,
    "start_time": "2022-11-21T07:46:23.232Z"
   },
   {
    "duration": 1384,
    "start_time": "2022-11-21T07:46:40.510Z"
   },
   {
    "duration": 57,
    "start_time": "2022-11-21T07:46:41.896Z"
   },
   {
    "duration": 13,
    "start_time": "2022-11-21T07:46:41.955Z"
   },
   {
    "duration": 13,
    "start_time": "2022-11-21T07:46:41.970Z"
   },
   {
    "duration": 4,
    "start_time": "2022-11-21T07:54:21.020Z"
   },
   {
    "duration": 114,
    "start_time": "2022-11-21T08:01:04.334Z"
   },
   {
    "duration": 9,
    "start_time": "2022-11-21T08:01:08.380Z"
   },
   {
    "duration": 55,
    "start_time": "2022-11-21T08:07:40.586Z"
   },
   {
    "duration": 11,
    "start_time": "2022-11-21T08:13:51.056Z"
   },
   {
    "duration": 12,
    "start_time": "2022-11-21T08:14:01.643Z"
   },
   {
    "duration": 5,
    "start_time": "2022-11-21T08:14:26.068Z"
   },
   {
    "duration": 11,
    "start_time": "2022-11-21T08:18:07.876Z"
   },
   {
    "duration": 8,
    "start_time": "2022-11-21T08:19:03.895Z"
   },
   {
    "duration": 14,
    "start_time": "2022-11-21T08:19:10.453Z"
   },
   {
    "duration": 2,
    "start_time": "2022-11-21T08:19:16.940Z"
   },
   {
    "duration": 6,
    "start_time": "2022-11-21T08:19:39.643Z"
   },
   {
    "duration": 20,
    "start_time": "2022-11-21T08:21:21.608Z"
   },
   {
    "duration": 28,
    "start_time": "2022-11-21T08:21:32.032Z"
   },
   {
    "duration": 28,
    "start_time": "2022-11-21T08:22:05.565Z"
   },
   {
    "duration": 19,
    "start_time": "2022-11-21T08:22:08.202Z"
   },
   {
    "duration": 17,
    "start_time": "2022-11-21T08:22:13.172Z"
   },
   {
    "duration": 18,
    "start_time": "2022-11-21T08:22:51.450Z"
   },
   {
    "duration": 17,
    "start_time": "2022-11-21T08:22:55.707Z"
   },
   {
    "duration": 27,
    "start_time": "2022-11-21T08:23:14.106Z"
   },
   {
    "duration": 18,
    "start_time": "2022-11-21T08:23:24.425Z"
   },
   {
    "duration": 9,
    "start_time": "2022-11-21T08:24:43.332Z"
   },
   {
    "duration": 3,
    "start_time": "2022-11-21T08:24:51.420Z"
   },
   {
    "duration": 8,
    "start_time": "2022-11-21T08:24:54.280Z"
   },
   {
    "duration": 4,
    "start_time": "2022-11-21T08:25:06.587Z"
   },
   {
    "duration": 8,
    "start_time": "2022-11-21T08:25:09.743Z"
   },
   {
    "duration": 10,
    "start_time": "2022-11-21T08:25:14.803Z"
   },
   {
    "duration": 8,
    "start_time": "2022-11-21T08:25:16.851Z"
   },
   {
    "duration": 4,
    "start_time": "2022-11-21T08:25:22.748Z"
   },
   {
    "duration": 23,
    "start_time": "2022-11-21T08:25:30.299Z"
   },
   {
    "duration": 10,
    "start_time": "2022-11-21T08:25:38.124Z"
   },
   {
    "duration": 10,
    "start_time": "2022-11-21T08:25:45.277Z"
   },
   {
    "duration": 9,
    "start_time": "2022-11-21T08:25:50.527Z"
   },
   {
    "duration": 28,
    "start_time": "2022-11-21T08:27:37.759Z"
   },
   {
    "duration": 18,
    "start_time": "2022-11-21T08:27:47.022Z"
   },
   {
    "duration": 20,
    "start_time": "2022-11-21T08:42:11.542Z"
   },
   {
    "duration": 5,
    "start_time": "2022-11-21T08:42:24.752Z"
   },
   {
    "duration": 18,
    "start_time": "2022-11-21T08:42:30.234Z"
   },
   {
    "duration": 4,
    "start_time": "2022-11-21T08:42:54.604Z"
   },
   {
    "duration": 8,
    "start_time": "2022-11-21T08:42:57.124Z"
   },
   {
    "duration": 16,
    "start_time": "2022-11-21T08:43:13.744Z"
   },
   {
    "duration": 4,
    "start_time": "2022-11-21T09:05:57.172Z"
   },
   {
    "duration": 12,
    "start_time": "2022-11-21T09:05:59.567Z"
   },
   {
    "duration": 5,
    "start_time": "2022-11-21T09:12:48.245Z"
   },
   {
    "duration": 13,
    "start_time": "2022-11-21T09:15:09.201Z"
   },
   {
    "duration": 23,
    "start_time": "2022-11-21T09:15:28.878Z"
   },
   {
    "duration": 17,
    "start_time": "2022-11-21T09:15:40.577Z"
   },
   {
    "duration": 20,
    "start_time": "2022-11-21T10:07:24.614Z"
   },
   {
    "duration": 6,
    "start_time": "2022-11-21T10:08:04.406Z"
   },
   {
    "duration": 24,
    "start_time": "2022-11-21T10:08:06.671Z"
   },
   {
    "duration": 12,
    "start_time": "2022-11-21T10:08:14.654Z"
   },
   {
    "duration": 28,
    "start_time": "2022-11-21T12:38:10.206Z"
   },
   {
    "duration": 29,
    "start_time": "2022-11-21T12:38:39.397Z"
   },
   {
    "duration": 1470,
    "start_time": "2022-11-21T12:39:09.071Z"
   },
   {
    "duration": 56,
    "start_time": "2022-11-21T12:39:10.543Z"
   },
   {
    "duration": 24,
    "start_time": "2022-11-21T12:39:10.600Z"
   },
   {
    "duration": 16,
    "start_time": "2022-11-21T12:39:10.627Z"
   },
   {
    "duration": 4,
    "start_time": "2022-11-21T12:39:10.645Z"
   },
   {
    "duration": 20,
    "start_time": "2022-11-21T12:39:10.651Z"
   },
   {
    "duration": 72,
    "start_time": "2022-11-21T12:39:10.673Z"
   },
   {
    "duration": 7,
    "start_time": "2022-11-21T12:39:10.747Z"
   },
   {
    "duration": 32,
    "start_time": "2022-11-21T12:39:10.755Z"
   },
   {
    "duration": 7,
    "start_time": "2022-11-21T12:39:10.818Z"
   },
   {
    "duration": 22,
    "start_time": "2022-11-21T12:39:10.827Z"
   },
   {
    "duration": 39,
    "start_time": "2022-11-21T12:39:10.851Z"
   },
   {
    "duration": 15,
    "start_time": "2022-11-21T12:39:10.892Z"
   },
   {
    "duration": 33,
    "start_time": "2022-11-21T12:39:10.909Z"
   },
   {
    "duration": 29,
    "start_time": "2022-11-21T12:39:10.943Z"
   },
   {
    "duration": 23,
    "start_time": "2022-11-21T12:39:44.121Z"
   },
   {
    "duration": 120,
    "start_time": "2022-11-21T12:40:12.685Z"
   },
   {
    "duration": 10,
    "start_time": "2022-11-21T12:40:23.275Z"
   },
   {
    "duration": 27,
    "start_time": "2022-11-21T12:41:15.800Z"
   },
   {
    "duration": 24,
    "start_time": "2022-11-21T12:41:26.800Z"
   },
   {
    "duration": 11,
    "start_time": "2022-11-21T12:41:41.603Z"
   },
   {
    "duration": 15,
    "start_time": "2022-11-21T12:41:46.764Z"
   },
   {
    "duration": 1459,
    "start_time": "2022-11-21T12:42:04.783Z"
   },
   {
    "duration": 59,
    "start_time": "2022-11-21T12:42:06.244Z"
   },
   {
    "duration": 20,
    "start_time": "2022-11-21T12:42:06.304Z"
   },
   {
    "duration": 40,
    "start_time": "2022-11-21T12:42:06.326Z"
   },
   {
    "duration": 19,
    "start_time": "2022-11-21T12:42:06.368Z"
   },
   {
    "duration": 36,
    "start_time": "2022-11-21T12:42:06.388Z"
   },
   {
    "duration": 70,
    "start_time": "2022-11-21T12:42:06.426Z"
   },
   {
    "duration": 6,
    "start_time": "2022-11-21T12:42:06.498Z"
   },
   {
    "duration": 60,
    "start_time": "2022-11-21T12:42:06.506Z"
   },
   {
    "duration": 5,
    "start_time": "2022-11-21T12:42:06.569Z"
   },
   {
    "duration": 15,
    "start_time": "2022-11-21T12:42:06.575Z"
   },
   {
    "duration": 35,
    "start_time": "2022-11-21T12:42:06.592Z"
   },
   {
    "duration": 32,
    "start_time": "2022-11-21T12:42:06.630Z"
   },
   {
    "duration": 29,
    "start_time": "2022-11-21T12:42:06.665Z"
   },
   {
    "duration": 54,
    "start_time": "2022-11-21T12:42:06.696Z"
   },
   {
    "duration": 116,
    "start_time": "2022-11-21T13:14:37.837Z"
   },
   {
    "duration": 1382,
    "start_time": "2022-11-21T13:15:15.568Z"
   },
   {
    "duration": 65,
    "start_time": "2022-11-21T13:15:16.952Z"
   },
   {
    "duration": 14,
    "start_time": "2022-11-21T13:15:17.019Z"
   },
   {
    "duration": 32,
    "start_time": "2022-11-21T13:15:17.035Z"
   },
   {
    "duration": 21,
    "start_time": "2022-11-21T13:15:17.069Z"
   },
   {
    "duration": 25,
    "start_time": "2022-11-21T13:15:17.092Z"
   },
   {
    "duration": 91,
    "start_time": "2022-11-21T13:15:17.119Z"
   },
   {
    "duration": 5,
    "start_time": "2022-11-21T13:15:17.211Z"
   },
   {
    "duration": 41,
    "start_time": "2022-11-21T13:15:17.217Z"
   },
   {
    "duration": 10,
    "start_time": "2022-11-21T13:15:17.261Z"
   },
   {
    "duration": 13,
    "start_time": "2022-11-21T13:15:17.273Z"
   },
   {
    "duration": 46,
    "start_time": "2022-11-21T13:15:17.288Z"
   },
   {
    "duration": 48,
    "start_time": "2022-11-21T13:15:17.335Z"
   },
   {
    "duration": 14,
    "start_time": "2022-11-21T13:15:17.385Z"
   },
   {
    "duration": 23,
    "start_time": "2022-11-21T13:15:17.401Z"
   },
   {
    "duration": 55,
    "start_time": "2022-11-21T13:15:17.425Z"
   },
   {
    "duration": 23,
    "start_time": "2022-11-21T13:15:26.972Z"
   },
   {
    "duration": 19,
    "start_time": "2022-11-21T13:15:45.405Z"
   },
   {
    "duration": 1354,
    "start_time": "2022-11-21T13:24:44.255Z"
   },
   {
    "duration": 59,
    "start_time": "2022-11-21T13:24:45.612Z"
   },
   {
    "duration": 13,
    "start_time": "2022-11-21T13:24:45.673Z"
   },
   {
    "duration": 13,
    "start_time": "2022-11-21T13:24:45.688Z"
   },
   {
    "duration": 5,
    "start_time": "2022-11-21T13:24:45.703Z"
   },
   {
    "duration": 11,
    "start_time": "2022-11-21T13:24:45.711Z"
   },
   {
    "duration": 54,
    "start_time": "2022-11-21T13:24:45.724Z"
   },
   {
    "duration": 7,
    "start_time": "2022-11-21T13:24:45.780Z"
   },
   {
    "duration": 41,
    "start_time": "2022-11-21T13:24:45.788Z"
   },
   {
    "duration": 3,
    "start_time": "2022-11-21T13:24:45.831Z"
   },
   {
    "duration": 7,
    "start_time": "2022-11-21T13:24:45.836Z"
   },
   {
    "duration": 20,
    "start_time": "2022-11-21T13:24:45.845Z"
   },
   {
    "duration": 46,
    "start_time": "2022-11-21T13:24:45.867Z"
   },
   {
    "duration": 12,
    "start_time": "2022-11-21T13:24:45.916Z"
   },
   {
    "duration": 14,
    "start_time": "2022-11-21T13:24:45.930Z"
   },
   {
    "duration": 25,
    "start_time": "2022-11-21T13:24:45.945Z"
   },
   {
    "duration": 44,
    "start_time": "2022-11-21T13:24:45.972Z"
   },
   {
    "duration": 19,
    "start_time": "2022-11-21T13:24:46.019Z"
   },
   {
    "duration": 114,
    "start_time": "2022-11-21T13:25:21.843Z"
   },
   {
    "duration": 1442,
    "start_time": "2022-11-21T13:25:30.795Z"
   },
   {
    "duration": 59,
    "start_time": "2022-11-21T13:25:32.240Z"
   },
   {
    "duration": 14,
    "start_time": "2022-11-21T13:25:32.300Z"
   },
   {
    "duration": 19,
    "start_time": "2022-11-21T13:25:32.317Z"
   },
   {
    "duration": 4,
    "start_time": "2022-11-21T13:25:32.338Z"
   },
   {
    "duration": 15,
    "start_time": "2022-11-21T13:25:32.344Z"
   },
   {
    "duration": 70,
    "start_time": "2022-11-21T13:25:32.362Z"
   },
   {
    "duration": 5,
    "start_time": "2022-11-21T13:25:32.434Z"
   },
   {
    "duration": 28,
    "start_time": "2022-11-21T13:25:32.440Z"
   },
   {
    "duration": 4,
    "start_time": "2022-11-21T13:25:32.470Z"
   },
   {
    "duration": 7,
    "start_time": "2022-11-21T13:25:32.475Z"
   },
   {
    "duration": 43,
    "start_time": "2022-11-21T13:25:32.484Z"
   },
   {
    "duration": 24,
    "start_time": "2022-11-21T13:25:32.529Z"
   },
   {
    "duration": 13,
    "start_time": "2022-11-21T13:25:32.554Z"
   },
   {
    "duration": 15,
    "start_time": "2022-11-21T13:25:32.569Z"
   },
   {
    "duration": 48,
    "start_time": "2022-11-21T13:25:32.586Z"
   },
   {
    "duration": 23,
    "start_time": "2022-11-21T13:25:32.636Z"
   },
   {
    "duration": 20,
    "start_time": "2022-11-21T13:25:32.661Z"
   },
   {
    "duration": 145,
    "start_time": "2022-11-21T13:28:57.780Z"
   },
   {
    "duration": 898,
    "start_time": "2022-11-21T13:29:11.457Z"
   },
   {
    "duration": 32,
    "start_time": "2022-11-21T13:29:25.902Z"
   },
   {
    "duration": 1519,
    "start_time": "2022-11-21T13:29:35.796Z"
   },
   {
    "duration": 59,
    "start_time": "2022-11-21T13:29:37.317Z"
   },
   {
    "duration": 14,
    "start_time": "2022-11-21T13:29:37.378Z"
   },
   {
    "duration": 14,
    "start_time": "2022-11-21T13:29:37.394Z"
   },
   {
    "duration": 3,
    "start_time": "2022-11-21T13:29:37.409Z"
   },
   {
    "duration": 16,
    "start_time": "2022-11-21T13:29:37.414Z"
   },
   {
    "duration": 56,
    "start_time": "2022-11-21T13:29:37.431Z"
   },
   {
    "duration": 5,
    "start_time": "2022-11-21T13:29:37.489Z"
   },
   {
    "duration": 42,
    "start_time": "2022-11-21T13:29:37.495Z"
   },
   {
    "duration": 4,
    "start_time": "2022-11-21T13:29:37.539Z"
   },
   {
    "duration": 5,
    "start_time": "2022-11-21T13:29:37.545Z"
   },
   {
    "duration": 23,
    "start_time": "2022-11-21T13:29:37.551Z"
   },
   {
    "duration": 48,
    "start_time": "2022-11-21T13:29:37.575Z"
   },
   {
    "duration": 13,
    "start_time": "2022-11-21T13:29:37.624Z"
   },
   {
    "duration": 14,
    "start_time": "2022-11-21T13:29:37.639Z"
   },
   {
    "duration": 168,
    "start_time": "2022-11-21T13:29:37.655Z"
   },
   {
    "duration": 0,
    "start_time": "2022-11-21T13:29:37.825Z"
   },
   {
    "duration": 0,
    "start_time": "2022-11-21T13:29:37.826Z"
   },
   {
    "duration": 31,
    "start_time": "2022-11-21T13:29:56.359Z"
   },
   {
    "duration": 25,
    "start_time": "2022-11-21T13:30:00.175Z"
   },
   {
    "duration": 22,
    "start_time": "2022-11-21T13:30:04.038Z"
   },
   {
    "duration": 17,
    "start_time": "2022-11-21T13:30:07.509Z"
   },
   {
    "duration": 18,
    "start_time": "2022-11-21T13:32:07.001Z"
   },
   {
    "duration": 33,
    "start_time": "2022-11-21T13:32:38.926Z"
   },
   {
    "duration": 36,
    "start_time": "2022-11-21T13:33:24.660Z"
   },
   {
    "duration": 31,
    "start_time": "2022-11-21T13:33:34.930Z"
   },
   {
    "duration": 21,
    "start_time": "2022-11-21T13:33:39.427Z"
   },
   {
    "duration": 33,
    "start_time": "2022-11-21T13:33:48.379Z"
   },
   {
    "duration": 34,
    "start_time": "2022-11-21T13:33:57.579Z"
   },
   {
    "duration": 16,
    "start_time": "2022-11-21T13:34:13.809Z"
   },
   {
    "duration": 45,
    "start_time": "2022-11-21T13:34:47.043Z"
   },
   {
    "duration": 34,
    "start_time": "2022-11-21T13:34:53.572Z"
   },
   {
    "duration": 21,
    "start_time": "2022-11-21T13:37:31.225Z"
   },
   {
    "duration": 4,
    "start_time": "2022-11-21T13:37:33.032Z"
   },
   {
    "duration": 35,
    "start_time": "2022-11-21T13:37:50.118Z"
   },
   {
    "duration": 23,
    "start_time": "2022-11-21T13:37:51.851Z"
   },
   {
    "duration": 34,
    "start_time": "2022-11-21T13:38:00.705Z"
   },
   {
    "duration": 23,
    "start_time": "2022-11-21T13:38:02.804Z"
   },
   {
    "duration": 37,
    "start_time": "2022-11-21T13:38:41.200Z"
   },
   {
    "duration": 35,
    "start_time": "2022-11-21T13:39:10.202Z"
   },
   {
    "duration": 22,
    "start_time": "2022-11-21T13:39:11.985Z"
   },
   {
    "duration": 18,
    "start_time": "2022-11-21T13:39:25.898Z"
   },
   {
    "duration": 46,
    "start_time": "2022-11-21T13:41:41.677Z"
   },
   {
    "duration": 15,
    "start_time": "2022-11-21T13:43:59.231Z"
   },
   {
    "duration": 17,
    "start_time": "2022-11-21T13:44:06.332Z"
   },
   {
    "duration": 18,
    "start_time": "2022-11-21T13:44:15.758Z"
   },
   {
    "duration": 18,
    "start_time": "2022-11-21T13:44:26.561Z"
   },
   {
    "duration": 15,
    "start_time": "2022-11-21T13:44:33.839Z"
   },
   {
    "duration": 15,
    "start_time": "2022-11-21T13:44:44.711Z"
   },
   {
    "duration": 14,
    "start_time": "2022-11-21T13:44:50.824Z"
   },
   {
    "duration": 35,
    "start_time": "2022-11-21T13:45:00.255Z"
   },
   {
    "duration": 33,
    "start_time": "2022-11-21T13:52:41.748Z"
   },
   {
    "duration": 50,
    "start_time": "2022-11-21T13:53:40.279Z"
   },
   {
    "duration": 55,
    "start_time": "2022-11-21T13:53:49.533Z"
   },
   {
    "duration": 34,
    "start_time": "2022-11-21T13:54:07.425Z"
   },
   {
    "duration": 1230,
    "start_time": "2022-11-21T14:04:07.846Z"
   },
   {
    "duration": 3,
    "start_time": "2022-11-21T14:04:45.317Z"
   },
   {
    "duration": 5,
    "start_time": "2022-11-21T14:04:50.621Z"
   },
   {
    "duration": 10,
    "start_time": "2022-11-21T14:04:55.837Z"
   },
   {
    "duration": 4,
    "start_time": "2022-11-21T14:05:03.854Z"
   },
   {
    "duration": 13,
    "start_time": "2022-11-21T14:12:41.367Z"
   },
   {
    "duration": 11,
    "start_time": "2022-11-21T14:12:43.167Z"
   },
   {
    "duration": 18,
    "start_time": "2022-11-21T14:16:46.011Z"
   },
   {
    "duration": 4,
    "start_time": "2022-11-21T14:17:08.070Z"
   },
   {
    "duration": 18,
    "start_time": "2022-11-21T14:17:10.599Z"
   },
   {
    "duration": 14,
    "start_time": "2022-11-21T14:20:17.152Z"
   },
   {
    "duration": 1495,
    "start_time": "2022-11-21T14:20:34.298Z"
   },
   {
    "duration": 59,
    "start_time": "2022-11-21T14:20:35.795Z"
   },
   {
    "duration": 13,
    "start_time": "2022-11-21T14:20:35.855Z"
   },
   {
    "duration": 15,
    "start_time": "2022-11-21T14:20:35.870Z"
   },
   {
    "duration": 3,
    "start_time": "2022-11-21T14:20:35.887Z"
   },
   {
    "duration": 23,
    "start_time": "2022-11-21T14:20:35.892Z"
   },
   {
    "duration": 53,
    "start_time": "2022-11-21T14:20:35.917Z"
   },
   {
    "duration": 5,
    "start_time": "2022-11-21T14:20:35.971Z"
   },
   {
    "duration": 49,
    "start_time": "2022-11-21T14:20:35.977Z"
   },
   {
    "duration": 3,
    "start_time": "2022-11-21T14:20:36.029Z"
   },
   {
    "duration": 6,
    "start_time": "2022-11-21T14:20:36.034Z"
   },
   {
    "duration": 25,
    "start_time": "2022-11-21T14:20:36.042Z"
   },
   {
    "duration": 49,
    "start_time": "2022-11-21T14:20:36.070Z"
   },
   {
    "duration": 12,
    "start_time": "2022-11-21T14:20:36.121Z"
   },
   {
    "duration": 14,
    "start_time": "2022-11-21T14:20:36.134Z"
   },
   {
    "duration": 7,
    "start_time": "2022-11-21T14:20:36.150Z"
   },
   {
    "duration": 22,
    "start_time": "2022-11-21T14:20:36.159Z"
   },
   {
    "duration": 8,
    "start_time": "2022-11-21T14:20:36.183Z"
   },
   {
    "duration": 35,
    "start_time": "2022-11-21T14:20:36.193Z"
   },
   {
    "duration": 5,
    "start_time": "2022-11-21T14:21:35.650Z"
   },
   {
    "duration": 8,
    "start_time": "2022-11-21T14:21:46.394Z"
   },
   {
    "duration": 19,
    "start_time": "2022-11-21T14:21:48.050Z"
   },
   {
    "duration": 1484,
    "start_time": "2022-11-21T14:22:20.021Z"
   },
   {
    "duration": 59,
    "start_time": "2022-11-21T14:22:21.507Z"
   },
   {
    "duration": 13,
    "start_time": "2022-11-21T14:22:21.568Z"
   },
   {
    "duration": 14,
    "start_time": "2022-11-21T14:22:21.584Z"
   },
   {
    "duration": 3,
    "start_time": "2022-11-21T14:22:21.600Z"
   },
   {
    "duration": 18,
    "start_time": "2022-11-21T14:22:21.605Z"
   },
   {
    "duration": 61,
    "start_time": "2022-11-21T14:22:21.625Z"
   },
   {
    "duration": 6,
    "start_time": "2022-11-21T14:22:21.688Z"
   },
   {
    "duration": 40,
    "start_time": "2022-11-21T14:22:21.695Z"
   },
   {
    "duration": 4,
    "start_time": "2022-11-21T14:22:21.739Z"
   },
   {
    "duration": 6,
    "start_time": "2022-11-21T14:22:21.745Z"
   },
   {
    "duration": 23,
    "start_time": "2022-11-21T14:22:21.753Z"
   },
   {
    "duration": 46,
    "start_time": "2022-11-21T14:22:21.778Z"
   },
   {
    "duration": 13,
    "start_time": "2022-11-21T14:22:21.826Z"
   },
   {
    "duration": 15,
    "start_time": "2022-11-21T14:22:21.840Z"
   },
   {
    "duration": 9,
    "start_time": "2022-11-21T14:22:21.857Z"
   },
   {
    "duration": 17,
    "start_time": "2022-11-21T14:22:21.868Z"
   },
   {
    "duration": 25,
    "start_time": "2022-11-21T14:22:21.887Z"
   },
   {
    "duration": 9,
    "start_time": "2022-11-21T14:22:21.914Z"
   },
   {
    "duration": 20,
    "start_time": "2022-11-21T14:22:21.925Z"
   },
   {
    "duration": 1454,
    "start_time": "2022-11-21T14:23:52.727Z"
   },
   {
    "duration": 61,
    "start_time": "2022-11-21T14:23:54.183Z"
   },
   {
    "duration": 12,
    "start_time": "2022-11-21T14:23:54.246Z"
   },
   {
    "duration": 14,
    "start_time": "2022-11-21T14:23:54.260Z"
   },
   {
    "duration": 4,
    "start_time": "2022-11-21T14:23:54.276Z"
   },
   {
    "duration": 31,
    "start_time": "2022-11-21T14:23:54.282Z"
   },
   {
    "duration": 53,
    "start_time": "2022-11-21T14:23:54.315Z"
   },
   {
    "duration": 5,
    "start_time": "2022-11-21T14:23:54.370Z"
   },
   {
    "duration": 50,
    "start_time": "2022-11-21T14:23:54.377Z"
   },
   {
    "duration": 3,
    "start_time": "2022-11-21T14:23:54.430Z"
   },
   {
    "duration": 8,
    "start_time": "2022-11-21T14:23:54.435Z"
   },
   {
    "duration": 21,
    "start_time": "2022-11-21T14:23:54.444Z"
   },
   {
    "duration": 46,
    "start_time": "2022-11-21T14:23:54.467Z"
   },
   {
    "duration": 14,
    "start_time": "2022-11-21T14:23:54.515Z"
   },
   {
    "duration": 14,
    "start_time": "2022-11-21T14:23:54.531Z"
   },
   {
    "duration": 4,
    "start_time": "2022-11-21T14:23:54.547Z"
   },
   {
    "duration": 16,
    "start_time": "2022-11-21T14:23:54.553Z"
   },
   {
    "duration": 4,
    "start_time": "2022-11-21T14:23:54.571Z"
   },
   {
    "duration": 38,
    "start_time": "2022-11-21T14:23:54.576Z"
   },
   {
    "duration": 10,
    "start_time": "2022-11-21T14:23:54.617Z"
   },
   {
    "duration": 6,
    "start_time": "2022-11-21T14:23:54.629Z"
   },
   {
    "duration": 19,
    "start_time": "2022-11-21T14:23:54.637Z"
   },
   {
    "duration": 20,
    "start_time": "2022-11-21T14:24:47.483Z"
   },
   {
    "duration": 124,
    "start_time": "2022-11-21T14:27:39.761Z"
   },
   {
    "duration": 17,
    "start_time": "2022-11-21T14:28:03.851Z"
   },
   {
    "duration": 17,
    "start_time": "2022-11-21T14:28:06.558Z"
   },
   {
    "duration": 1467,
    "start_time": "2022-11-21T14:28:16.746Z"
   },
   {
    "duration": 60,
    "start_time": "2022-11-21T14:28:18.215Z"
   },
   {
    "duration": 13,
    "start_time": "2022-11-21T14:28:18.277Z"
   },
   {
    "duration": 14,
    "start_time": "2022-11-21T14:28:18.292Z"
   },
   {
    "duration": 5,
    "start_time": "2022-11-21T14:28:18.308Z"
   },
   {
    "duration": 13,
    "start_time": "2022-11-21T14:28:18.314Z"
   },
   {
    "duration": 57,
    "start_time": "2022-11-21T14:28:18.328Z"
   },
   {
    "duration": 5,
    "start_time": "2022-11-21T14:28:18.387Z"
   },
   {
    "duration": 40,
    "start_time": "2022-11-21T14:28:18.393Z"
   },
   {
    "duration": 7,
    "start_time": "2022-11-21T14:28:18.435Z"
   },
   {
    "duration": 11,
    "start_time": "2022-11-21T14:28:18.444Z"
   },
   {
    "duration": 36,
    "start_time": "2022-11-21T14:28:18.457Z"
   },
   {
    "duration": 30,
    "start_time": "2022-11-21T14:28:18.494Z"
   },
   {
    "duration": 12,
    "start_time": "2022-11-21T14:28:18.527Z"
   },
   {
    "duration": 29,
    "start_time": "2022-11-21T14:28:18.540Z"
   },
   {
    "duration": 10,
    "start_time": "2022-11-21T14:28:18.571Z"
   },
   {
    "duration": 24,
    "start_time": "2022-11-21T14:28:18.583Z"
   },
   {
    "duration": 129,
    "start_time": "2022-11-21T14:28:18.609Z"
   },
   {
    "duration": 0,
    "start_time": "2022-11-21T14:28:18.740Z"
   },
   {
    "duration": 0,
    "start_time": "2022-11-21T14:28:18.741Z"
   },
   {
    "duration": 0,
    "start_time": "2022-11-21T14:28:18.743Z"
   },
   {
    "duration": 0,
    "start_time": "2022-11-21T14:28:18.744Z"
   },
   {
    "duration": 18,
    "start_time": "2022-11-21T14:28:36.834Z"
   },
   {
    "duration": 1544,
    "start_time": "2022-11-21T14:29:12.092Z"
   },
   {
    "duration": 58,
    "start_time": "2022-11-21T14:29:13.639Z"
   },
   {
    "duration": 13,
    "start_time": "2022-11-21T14:29:13.698Z"
   },
   {
    "duration": 13,
    "start_time": "2022-11-21T14:29:13.712Z"
   },
   {
    "duration": 4,
    "start_time": "2022-11-21T14:29:13.727Z"
   },
   {
    "duration": 14,
    "start_time": "2022-11-21T14:29:13.732Z"
   },
   {
    "duration": 69,
    "start_time": "2022-11-21T14:29:13.747Z"
   },
   {
    "duration": 4,
    "start_time": "2022-11-21T14:29:13.818Z"
   },
   {
    "duration": 30,
    "start_time": "2022-11-21T14:29:13.824Z"
   },
   {
    "duration": 4,
    "start_time": "2022-11-21T14:29:13.855Z"
   },
   {
    "duration": 9,
    "start_time": "2022-11-21T14:29:13.860Z"
   },
   {
    "duration": 41,
    "start_time": "2022-11-21T14:29:13.871Z"
   },
   {
    "duration": 24,
    "start_time": "2022-11-21T14:29:13.915Z"
   },
   {
    "duration": 14,
    "start_time": "2022-11-21T14:29:13.942Z"
   },
   {
    "duration": 15,
    "start_time": "2022-11-21T14:29:13.957Z"
   },
   {
    "duration": 5,
    "start_time": "2022-11-21T14:29:13.974Z"
   },
   {
    "duration": 44,
    "start_time": "2022-11-21T14:29:13.981Z"
   },
   {
    "duration": 4,
    "start_time": "2022-11-21T14:29:14.027Z"
   },
   {
    "duration": 9,
    "start_time": "2022-11-21T14:29:14.033Z"
   },
   {
    "duration": 8,
    "start_time": "2022-11-21T14:29:14.043Z"
   },
   {
    "duration": 7,
    "start_time": "2022-11-21T14:29:14.053Z"
   },
   {
    "duration": 20,
    "start_time": "2022-11-21T14:29:14.062Z"
   },
   {
    "duration": 23,
    "start_time": "2022-11-21T14:29:26.740Z"
   },
   {
    "duration": 116,
    "start_time": "2022-11-21T14:29:30.719Z"
   },
   {
    "duration": 10,
    "start_time": "2022-11-21T14:29:33.106Z"
   },
   {
    "duration": 19,
    "start_time": "2022-11-21T14:29:35.511Z"
   },
   {
    "duration": 1474,
    "start_time": "2022-11-21T14:30:03.756Z"
   },
   {
    "duration": 61,
    "start_time": "2022-11-21T14:30:05.232Z"
   },
   {
    "duration": 14,
    "start_time": "2022-11-21T14:30:05.295Z"
   },
   {
    "duration": 13,
    "start_time": "2022-11-21T14:30:05.312Z"
   },
   {
    "duration": 3,
    "start_time": "2022-11-21T14:30:05.327Z"
   },
   {
    "duration": 12,
    "start_time": "2022-11-21T14:30:05.332Z"
   },
   {
    "duration": 73,
    "start_time": "2022-11-21T14:30:05.346Z"
   },
   {
    "duration": 5,
    "start_time": "2022-11-21T14:30:05.420Z"
   },
   {
    "duration": 28,
    "start_time": "2022-11-21T14:30:05.427Z"
   },
   {
    "duration": 4,
    "start_time": "2022-11-21T14:30:05.458Z"
   },
   {
    "duration": 18,
    "start_time": "2022-11-21T14:30:05.464Z"
   },
   {
    "duration": 35,
    "start_time": "2022-11-21T14:30:05.484Z"
   },
   {
    "duration": 26,
    "start_time": "2022-11-21T14:30:05.521Z"
   },
   {
    "duration": 13,
    "start_time": "2022-11-21T14:30:05.549Z"
   },
   {
    "duration": 16,
    "start_time": "2022-11-21T14:30:05.564Z"
   },
   {
    "duration": 4,
    "start_time": "2022-11-21T14:30:05.613Z"
   },
   {
    "duration": 17,
    "start_time": "2022-11-21T14:30:05.619Z"
   },
   {
    "duration": 7,
    "start_time": "2022-11-21T14:30:05.637Z"
   },
   {
    "duration": 22,
    "start_time": "2022-11-21T14:30:05.645Z"
   },
   {
    "duration": 13,
    "start_time": "2022-11-21T14:30:05.669Z"
   },
   {
    "duration": 15,
    "start_time": "2022-11-21T14:30:05.683Z"
   },
   {
    "duration": 13,
    "start_time": "2022-11-21T14:30:05.699Z"
   },
   {
    "duration": 24,
    "start_time": "2022-11-21T14:30:05.714Z"
   },
   {
    "duration": 1458,
    "start_time": "2022-11-21T14:30:34.623Z"
   },
   {
    "duration": 62,
    "start_time": "2022-11-21T14:30:36.083Z"
   },
   {
    "duration": 14,
    "start_time": "2022-11-21T14:30:36.146Z"
   },
   {
    "duration": 18,
    "start_time": "2022-11-21T14:30:36.162Z"
   },
   {
    "duration": 4,
    "start_time": "2022-11-21T14:30:36.182Z"
   },
   {
    "duration": 11,
    "start_time": "2022-11-21T14:30:36.211Z"
   },
   {
    "duration": 56,
    "start_time": "2022-11-21T14:30:36.224Z"
   },
   {
    "duration": 5,
    "start_time": "2022-11-21T14:30:36.282Z"
   },
   {
    "duration": 50,
    "start_time": "2022-11-21T14:30:36.288Z"
   },
   {
    "duration": 4,
    "start_time": "2022-11-21T14:30:36.341Z"
   },
   {
    "duration": 7,
    "start_time": "2022-11-21T14:30:36.346Z"
   },
   {
    "duration": 20,
    "start_time": "2022-11-21T14:30:36.354Z"
   },
   {
    "duration": 55,
    "start_time": "2022-11-21T14:30:36.376Z"
   },
   {
    "duration": 12,
    "start_time": "2022-11-21T14:30:36.433Z"
   },
   {
    "duration": 18,
    "start_time": "2022-11-21T14:30:36.446Z"
   },
   {
    "duration": 7,
    "start_time": "2022-11-21T14:30:36.466Z"
   },
   {
    "duration": 17,
    "start_time": "2022-11-21T14:30:36.474Z"
   },
   {
    "duration": 34,
    "start_time": "2022-11-21T14:30:36.492Z"
   },
   {
    "duration": 13,
    "start_time": "2022-11-21T14:30:36.527Z"
   },
   {
    "duration": 35,
    "start_time": "2022-11-21T14:30:36.542Z"
   },
   {
    "duration": 18,
    "start_time": "2022-11-21T14:30:36.578Z"
   },
   {
    "duration": 11,
    "start_time": "2022-11-21T14:30:36.597Z"
   },
   {
    "duration": 20,
    "start_time": "2022-11-21T14:30:36.610Z"
   },
   {
    "duration": 31,
    "start_time": "2022-11-21T14:30:36.632Z"
   },
   {
    "duration": 10,
    "start_time": "2022-11-21T14:31:10.971Z"
   },
   {
    "duration": 122,
    "start_time": "2022-11-21T14:33:04.256Z"
   },
   {
    "duration": 14,
    "start_time": "2022-11-21T14:33:22.554Z"
   },
   {
    "duration": 1476,
    "start_time": "2022-11-21T14:50:50.459Z"
   },
   {
    "duration": 59,
    "start_time": "2022-11-21T14:50:51.937Z"
   },
   {
    "duration": 15,
    "start_time": "2022-11-21T14:50:51.998Z"
   },
   {
    "duration": 15,
    "start_time": "2022-11-21T14:50:52.016Z"
   },
   {
    "duration": 14,
    "start_time": "2022-11-21T14:50:52.034Z"
   },
   {
    "duration": 14,
    "start_time": "2022-11-21T14:50:52.050Z"
   },
   {
    "duration": 87,
    "start_time": "2022-11-21T14:50:52.065Z"
   },
   {
    "duration": 5,
    "start_time": "2022-11-21T14:50:52.154Z"
   },
   {
    "duration": 44,
    "start_time": "2022-11-21T14:50:52.161Z"
   },
   {
    "duration": 5,
    "start_time": "2022-11-21T14:50:52.208Z"
   },
   {
    "duration": 43,
    "start_time": "2022-11-21T14:50:52.215Z"
   },
   {
    "duration": 46,
    "start_time": "2022-11-21T14:50:52.260Z"
   },
   {
    "duration": 62,
    "start_time": "2022-11-21T14:50:52.307Z"
   },
   {
    "duration": 50,
    "start_time": "2022-11-21T14:50:52.371Z"
   },
   {
    "duration": 36,
    "start_time": "2022-11-21T14:50:52.423Z"
   },
   {
    "duration": 44,
    "start_time": "2022-11-21T14:50:52.461Z"
   },
   {
    "duration": 76,
    "start_time": "2022-11-21T14:50:52.507Z"
   },
   {
    "duration": 20,
    "start_time": "2022-11-21T14:50:52.586Z"
   },
   {
    "duration": 14,
    "start_time": "2022-11-21T14:50:52.607Z"
   },
   {
    "duration": 45,
    "start_time": "2022-11-21T14:50:52.623Z"
   },
   {
    "duration": 10,
    "start_time": "2022-11-21T14:50:52.670Z"
   },
   {
    "duration": 42,
    "start_time": "2022-11-21T14:50:52.682Z"
   },
   {
    "duration": 22,
    "start_time": "2022-11-21T14:51:37.766Z"
   },
   {
    "duration": 123,
    "start_time": "2022-11-21T14:52:06.173Z"
   },
   {
    "duration": 21,
    "start_time": "2022-11-21T14:52:14.082Z"
   },
   {
    "duration": 1546,
    "start_time": "2022-11-21T14:52:25.643Z"
   },
   {
    "duration": 60,
    "start_time": "2022-11-21T14:52:27.191Z"
   },
   {
    "duration": 15,
    "start_time": "2022-11-21T14:52:27.252Z"
   },
   {
    "duration": 13,
    "start_time": "2022-11-21T14:52:27.269Z"
   },
   {
    "duration": 11,
    "start_time": "2022-11-21T14:52:27.284Z"
   },
   {
    "duration": 22,
    "start_time": "2022-11-21T14:52:27.297Z"
   },
   {
    "duration": 60,
    "start_time": "2022-11-21T14:52:27.321Z"
   },
   {
    "duration": 5,
    "start_time": "2022-11-21T14:52:27.383Z"
   },
   {
    "duration": 53,
    "start_time": "2022-11-21T14:52:27.390Z"
   },
   {
    "duration": 4,
    "start_time": "2022-11-21T14:52:27.445Z"
   },
   {
    "duration": 14,
    "start_time": "2022-11-21T14:52:27.451Z"
   },
   {
    "duration": 26,
    "start_time": "2022-11-21T14:52:27.467Z"
   },
   {
    "duration": 24,
    "start_time": "2022-11-21T14:52:27.496Z"
   },
   {
    "duration": 14,
    "start_time": "2022-11-21T14:52:27.522Z"
   },
   {
    "duration": 15,
    "start_time": "2022-11-21T14:52:27.538Z"
   },
   {
    "duration": 7,
    "start_time": "2022-11-21T14:52:27.555Z"
   },
   {
    "duration": 26,
    "start_time": "2022-11-21T14:52:27.564Z"
   },
   {
    "duration": 29,
    "start_time": "2022-11-21T14:52:27.592Z"
   },
   {
    "duration": 1457,
    "start_time": "2022-11-21T14:53:04.539Z"
   },
   {
    "duration": 57,
    "start_time": "2022-11-21T14:53:05.999Z"
   },
   {
    "duration": 14,
    "start_time": "2022-11-21T14:53:06.057Z"
   },
   {
    "duration": 14,
    "start_time": "2022-11-21T14:53:06.073Z"
   },
   {
    "duration": 4,
    "start_time": "2022-11-21T14:53:06.089Z"
   },
   {
    "duration": 20,
    "start_time": "2022-11-21T14:53:06.095Z"
   },
   {
    "duration": 55,
    "start_time": "2022-11-21T14:53:06.117Z"
   },
   {
    "duration": 5,
    "start_time": "2022-11-21T14:53:06.174Z"
   },
   {
    "duration": 45,
    "start_time": "2022-11-21T14:53:06.181Z"
   },
   {
    "duration": 4,
    "start_time": "2022-11-21T14:53:06.228Z"
   },
   {
    "duration": 9,
    "start_time": "2022-11-21T14:53:06.234Z"
   },
   {
    "duration": 23,
    "start_time": "2022-11-21T14:53:06.245Z"
   },
   {
    "duration": 44,
    "start_time": "2022-11-21T14:53:06.270Z"
   },
   {
    "duration": 15,
    "start_time": "2022-11-21T14:53:06.316Z"
   },
   {
    "duration": 19,
    "start_time": "2022-11-21T14:53:06.333Z"
   },
   {
    "duration": 7,
    "start_time": "2022-11-21T14:53:06.353Z"
   },
   {
    "duration": 20,
    "start_time": "2022-11-21T14:53:06.362Z"
   },
   {
    "duration": 29,
    "start_time": "2022-11-21T14:53:06.384Z"
   },
   {
    "duration": 17,
    "start_time": "2022-11-21T15:00:38.939Z"
   },
   {
    "duration": 11,
    "start_time": "2022-11-21T15:00:41.087Z"
   },
   {
    "duration": 1507,
    "start_time": "2022-11-21T15:03:07.522Z"
   },
   {
    "duration": 60,
    "start_time": "2022-11-21T15:03:09.031Z"
   },
   {
    "duration": 13,
    "start_time": "2022-11-21T15:03:09.093Z"
   },
   {
    "duration": 14,
    "start_time": "2022-11-21T15:03:09.109Z"
   },
   {
    "duration": 8,
    "start_time": "2022-11-21T15:03:09.125Z"
   },
   {
    "duration": 11,
    "start_time": "2022-11-21T15:03:09.134Z"
   },
   {
    "duration": 76,
    "start_time": "2022-11-21T15:03:09.147Z"
   },
   {
    "duration": 4,
    "start_time": "2022-11-21T15:03:09.225Z"
   },
   {
    "duration": 42,
    "start_time": "2022-11-21T15:03:09.231Z"
   },
   {
    "duration": 4,
    "start_time": "2022-11-21T15:03:09.276Z"
   },
   {
    "duration": 22,
    "start_time": "2022-11-21T15:03:09.282Z"
   },
   {
    "duration": 22,
    "start_time": "2022-11-21T15:03:09.306Z"
   },
   {
    "duration": 33,
    "start_time": "2022-11-21T15:03:09.330Z"
   },
   {
    "duration": 13,
    "start_time": "2022-11-21T15:03:09.365Z"
   },
   {
    "duration": 39,
    "start_time": "2022-11-21T15:03:09.380Z"
   },
   {
    "duration": 7,
    "start_time": "2022-11-21T15:03:09.420Z"
   },
   {
    "duration": 18,
    "start_time": "2022-11-21T15:03:09.429Z"
   },
   {
    "duration": 139,
    "start_time": "2022-11-21T15:03:09.448Z"
   },
   {
    "duration": 22,
    "start_time": "2022-11-21T15:03:26.221Z"
   },
   {
    "duration": 11,
    "start_time": "2022-11-21T15:04:17.416Z"
   },
   {
    "duration": 85,
    "start_time": "2022-11-21T15:11:08.547Z"
   },
   {
    "duration": 55,
    "start_time": "2022-11-21T15:11:29.048Z"
   },
   {
    "duration": 94,
    "start_time": "2022-11-21T15:11:33.939Z"
   },
   {
    "duration": 19,
    "start_time": "2022-11-21T15:11:40.298Z"
   },
   {
    "duration": 1470,
    "start_time": "2022-11-21T15:11:56.639Z"
   },
   {
    "duration": 58,
    "start_time": "2022-11-21T15:11:58.111Z"
   },
   {
    "duration": 14,
    "start_time": "2022-11-21T15:11:58.171Z"
   },
   {
    "duration": 16,
    "start_time": "2022-11-21T15:11:58.188Z"
   },
   {
    "duration": 6,
    "start_time": "2022-11-21T15:11:58.206Z"
   },
   {
    "duration": 19,
    "start_time": "2022-11-21T15:11:58.214Z"
   },
   {
    "duration": 56,
    "start_time": "2022-11-21T15:11:58.234Z"
   },
   {
    "duration": 4,
    "start_time": "2022-11-21T15:11:58.292Z"
   },
   {
    "duration": 40,
    "start_time": "2022-11-21T15:11:58.298Z"
   },
   {
    "duration": 4,
    "start_time": "2022-11-21T15:11:58.340Z"
   },
   {
    "duration": 6,
    "start_time": "2022-11-21T15:11:58.346Z"
   },
   {
    "duration": 23,
    "start_time": "2022-11-21T15:11:58.354Z"
   },
   {
    "duration": 50,
    "start_time": "2022-11-21T15:11:58.378Z"
   },
   {
    "duration": 12,
    "start_time": "2022-11-21T15:11:58.430Z"
   },
   {
    "duration": 15,
    "start_time": "2022-11-21T15:11:58.444Z"
   },
   {
    "duration": 4,
    "start_time": "2022-11-21T15:11:58.461Z"
   },
   {
    "duration": 43,
    "start_time": "2022-11-21T15:11:58.466Z"
   },
   {
    "duration": 0,
    "start_time": "2022-11-21T15:11:58.511Z"
   },
   {
    "duration": 0,
    "start_time": "2022-11-21T15:11:58.512Z"
   },
   {
    "duration": 51,
    "start_time": "2022-11-21T15:13:08.680Z"
   },
   {
    "duration": 15,
    "start_time": "2022-11-21T15:13:21.682Z"
   },
   {
    "duration": 21,
    "start_time": "2022-11-21T15:13:23.365Z"
   },
   {
    "duration": 12,
    "start_time": "2022-11-21T15:15:47.733Z"
   },
   {
    "duration": 45,
    "start_time": "2022-11-22T10:14:33.732Z"
   },
   {
    "duration": 1675,
    "start_time": "2022-11-22T10:14:56.946Z"
   },
   {
    "duration": 96,
    "start_time": "2022-11-22T10:14:58.623Z"
   },
   {
    "duration": 11,
    "start_time": "2022-11-22T10:14:58.720Z"
   },
   {
    "duration": 12,
    "start_time": "2022-11-22T10:14:58.733Z"
   },
   {
    "duration": 3,
    "start_time": "2022-11-22T10:14:58.746Z"
   },
   {
    "duration": 8,
    "start_time": "2022-11-22T10:14:58.750Z"
   },
   {
    "duration": 64,
    "start_time": "2022-11-22T10:14:58.760Z"
   },
   {
    "duration": 5,
    "start_time": "2022-11-22T10:14:58.825Z"
   },
   {
    "duration": 23,
    "start_time": "2022-11-22T10:14:58.832Z"
   },
   {
    "duration": 3,
    "start_time": "2022-11-22T10:14:58.857Z"
   },
   {
    "duration": 5,
    "start_time": "2022-11-22T10:14:58.861Z"
   },
   {
    "duration": 18,
    "start_time": "2022-11-22T10:14:58.868Z"
   },
   {
    "duration": 40,
    "start_time": "2022-11-22T10:14:58.888Z"
   },
   {
    "duration": 10,
    "start_time": "2022-11-22T10:14:58.930Z"
   },
   {
    "duration": 13,
    "start_time": "2022-11-22T10:14:58.942Z"
   },
   {
    "duration": 6,
    "start_time": "2022-11-22T10:14:58.956Z"
   },
   {
    "duration": 14,
    "start_time": "2022-11-22T10:14:58.964Z"
   },
   {
    "duration": 42,
    "start_time": "2022-11-22T10:14:58.980Z"
   },
   {
    "duration": 3,
    "start_time": "2022-11-22T10:14:59.023Z"
   },
   {
    "duration": 16,
    "start_time": "2022-11-22T10:14:59.028Z"
   },
   {
    "duration": 19,
    "start_time": "2022-11-22T10:15:05.224Z"
   },
   {
    "duration": 12,
    "start_time": "2022-11-22T10:15:42.335Z"
   },
   {
    "duration": 11,
    "start_time": "2022-11-22T10:15:58.758Z"
   },
   {
    "duration": 1283,
    "start_time": "2022-11-22T10:16:06.828Z"
   },
   {
    "duration": 53,
    "start_time": "2022-11-22T10:16:08.113Z"
   },
   {
    "duration": 11,
    "start_time": "2022-11-22T10:16:08.167Z"
   },
   {
    "duration": 12,
    "start_time": "2022-11-22T10:16:08.180Z"
   },
   {
    "duration": 3,
    "start_time": "2022-11-22T10:16:08.193Z"
   },
   {
    "duration": 7,
    "start_time": "2022-11-22T10:16:08.198Z"
   },
   {
    "duration": 54,
    "start_time": "2022-11-22T10:16:08.207Z"
   },
   {
    "duration": 5,
    "start_time": "2022-11-22T10:16:08.262Z"
   },
   {
    "duration": 24,
    "start_time": "2022-11-22T10:16:08.268Z"
   },
   {
    "duration": 3,
    "start_time": "2022-11-22T10:16:08.294Z"
   },
   {
    "duration": 5,
    "start_time": "2022-11-22T10:16:08.298Z"
   },
   {
    "duration": 16,
    "start_time": "2022-11-22T10:16:08.321Z"
   },
   {
    "duration": 19,
    "start_time": "2022-11-22T10:16:08.338Z"
   },
   {
    "duration": 10,
    "start_time": "2022-11-22T10:16:08.358Z"
   },
   {
    "duration": 11,
    "start_time": "2022-11-22T10:16:08.370Z"
   },
   {
    "duration": 7,
    "start_time": "2022-11-22T10:16:08.383Z"
   },
   {
    "duration": 38,
    "start_time": "2022-11-22T10:16:08.391Z"
   },
   {
    "duration": 10,
    "start_time": "2022-11-22T10:16:08.430Z"
   },
   {
    "duration": 3,
    "start_time": "2022-11-22T10:16:08.442Z"
   },
   {
    "duration": 16,
    "start_time": "2022-11-22T10:16:08.446Z"
   },
   {
    "duration": 12,
    "start_time": "2022-11-22T10:16:08.463Z"
   },
   {
    "duration": 110,
    "start_time": "2022-11-22T10:51:51.823Z"
   },
   {
    "duration": 5,
    "start_time": "2022-11-22T10:52:02.046Z"
   },
   {
    "duration": 1243,
    "start_time": "2022-11-22T11:01:05.976Z"
   },
   {
    "duration": 54,
    "start_time": "2022-11-22T11:01:07.220Z"
   },
   {
    "duration": 11,
    "start_time": "2022-11-22T11:01:07.276Z"
   },
   {
    "duration": 12,
    "start_time": "2022-11-22T11:01:07.289Z"
   },
   {
    "duration": 3,
    "start_time": "2022-11-22T11:01:07.303Z"
   },
   {
    "duration": 13,
    "start_time": "2022-11-22T11:01:07.308Z"
   },
   {
    "duration": 49,
    "start_time": "2022-11-22T11:01:07.322Z"
   },
   {
    "duration": 3,
    "start_time": "2022-11-22T11:01:07.373Z"
   },
   {
    "duration": 32,
    "start_time": "2022-11-22T11:01:07.377Z"
   },
   {
    "duration": 9,
    "start_time": "2022-11-22T11:01:07.412Z"
   },
   {
    "duration": 8,
    "start_time": "2022-11-22T11:01:07.422Z"
   },
   {
    "duration": 18,
    "start_time": "2022-11-22T11:01:07.431Z"
   },
   {
    "duration": 19,
    "start_time": "2022-11-22T11:01:07.450Z"
   },
   {
    "duration": 10,
    "start_time": "2022-11-22T11:01:07.471Z"
   },
   {
    "duration": 12,
    "start_time": "2022-11-22T11:01:07.483Z"
   },
   {
    "duration": 3,
    "start_time": "2022-11-22T11:01:07.521Z"
   },
   {
    "duration": 19,
    "start_time": "2022-11-22T11:01:07.525Z"
   },
   {
    "duration": 10,
    "start_time": "2022-11-22T11:01:07.546Z"
   },
   {
    "duration": 5,
    "start_time": "2022-11-22T11:01:07.558Z"
   },
   {
    "duration": 6,
    "start_time": "2022-11-22T11:01:07.564Z"
   },
   {
    "duration": 15,
    "start_time": "2022-11-22T11:01:07.571Z"
   },
   {
    "duration": 9,
    "start_time": "2022-11-22T11:01:07.587Z"
   },
   {
    "duration": 105,
    "start_time": "2022-11-22T11:10:06.411Z"
   },
   {
    "duration": 5,
    "start_time": "2022-11-22T11:12:00.488Z"
   },
   {
    "duration": 942,
    "start_time": "2022-11-22T11:13:48.154Z"
   },
   {
    "duration": 448,
    "start_time": "2022-11-22T11:14:47.096Z"
   },
   {
    "duration": 1291,
    "start_time": "2022-11-22T13:08:26.949Z"
   },
   {
    "duration": 53,
    "start_time": "2022-11-22T13:08:28.242Z"
   },
   {
    "duration": 12,
    "start_time": "2022-11-22T13:08:28.296Z"
   },
   {
    "duration": 12,
    "start_time": "2022-11-22T13:08:28.310Z"
   },
   {
    "duration": 3,
    "start_time": "2022-11-22T13:08:28.323Z"
   },
   {
    "duration": 8,
    "start_time": "2022-11-22T13:08:28.327Z"
   },
   {
    "duration": 46,
    "start_time": "2022-11-22T13:08:28.336Z"
   },
   {
    "duration": 5,
    "start_time": "2022-11-22T13:08:28.384Z"
   },
   {
    "duration": 43,
    "start_time": "2022-11-22T13:08:28.391Z"
   },
   {
    "duration": 2,
    "start_time": "2022-11-22T13:08:28.437Z"
   },
   {
    "duration": 6,
    "start_time": "2022-11-22T13:08:28.441Z"
   },
   {
    "duration": 18,
    "start_time": "2022-11-22T13:08:28.448Z"
   },
   {
    "duration": 20,
    "start_time": "2022-11-22T13:08:28.467Z"
   },
   {
    "duration": 38,
    "start_time": "2022-11-22T13:08:28.488Z"
   },
   {
    "duration": 13,
    "start_time": "2022-11-22T13:08:28.528Z"
   },
   {
    "duration": 6,
    "start_time": "2022-11-22T13:08:28.543Z"
   },
   {
    "duration": 17,
    "start_time": "2022-11-22T13:08:28.550Z"
   },
   {
    "duration": 13,
    "start_time": "2022-11-22T13:08:28.569Z"
   },
   {
    "duration": 4,
    "start_time": "2022-11-22T13:08:28.584Z"
   },
   {
    "duration": 43,
    "start_time": "2022-11-22T13:08:28.590Z"
   },
   {
    "duration": 13,
    "start_time": "2022-11-22T13:08:28.635Z"
   },
   {
    "duration": 8,
    "start_time": "2022-11-22T13:08:28.650Z"
   },
   {
    "duration": 419,
    "start_time": "2022-11-22T13:08:28.659Z"
   },
   {
    "duration": 4,
    "start_time": "2022-11-22T13:08:29.080Z"
   },
   {
    "duration": 8,
    "start_time": "2022-11-22T13:16:34.283Z"
   },
   {
    "duration": 1405,
    "start_time": "2022-11-22T13:22:29.921Z"
   },
   {
    "duration": 54,
    "start_time": "2022-11-22T13:22:31.327Z"
   },
   {
    "duration": 11,
    "start_time": "2022-11-22T13:22:31.382Z"
   },
   {
    "duration": 12,
    "start_time": "2022-11-22T13:22:31.394Z"
   },
   {
    "duration": 9,
    "start_time": "2022-11-22T13:22:31.407Z"
   },
   {
    "duration": 10,
    "start_time": "2022-11-22T13:22:31.417Z"
   },
   {
    "duration": 58,
    "start_time": "2022-11-22T13:22:31.428Z"
   },
   {
    "duration": 5,
    "start_time": "2022-11-22T13:22:31.487Z"
   },
   {
    "duration": 33,
    "start_time": "2022-11-22T13:22:31.493Z"
   },
   {
    "duration": 4,
    "start_time": "2022-11-22T13:22:31.528Z"
   },
   {
    "duration": 13,
    "start_time": "2022-11-22T13:22:31.534Z"
   },
   {
    "duration": 26,
    "start_time": "2022-11-22T13:22:31.550Z"
   },
   {
    "duration": 21,
    "start_time": "2022-11-22T13:22:31.578Z"
   },
   {
    "duration": 26,
    "start_time": "2022-11-22T13:22:31.601Z"
   },
   {
    "duration": 27,
    "start_time": "2022-11-22T13:22:31.629Z"
   },
   {
    "duration": 13,
    "start_time": "2022-11-22T13:22:31.658Z"
   },
   {
    "duration": 15,
    "start_time": "2022-11-22T13:22:31.672Z"
   },
   {
    "duration": 10,
    "start_time": "2022-11-22T13:22:31.689Z"
   },
   {
    "duration": 18,
    "start_time": "2022-11-22T13:22:31.701Z"
   },
   {
    "duration": 362,
    "start_time": "2022-11-22T13:22:31.720Z"
   },
   {
    "duration": 4,
    "start_time": "2022-11-22T13:22:32.084Z"
   },
   {
    "duration": 13,
    "start_time": "2022-11-22T13:22:32.089Z"
   },
   {
    "duration": 34,
    "start_time": "2022-11-22T13:22:32.103Z"
   },
   {
    "duration": 15,
    "start_time": "2022-11-22T13:22:51.672Z"
   },
   {
    "duration": 102,
    "start_time": "2022-11-22T13:23:11.646Z"
   },
   {
    "duration": 4,
    "start_time": "2022-11-22T13:23:14.365Z"
   },
   {
    "duration": 3,
    "start_time": "2022-11-22T13:23:27.165Z"
   },
   {
    "duration": 7,
    "start_time": "2022-11-22T13:23:55.953Z"
   },
   {
    "duration": 7,
    "start_time": "2022-11-22T13:25:26.383Z"
   },
   {
    "duration": 6,
    "start_time": "2022-11-22T13:25:30.321Z"
   },
   {
    "duration": 1341,
    "start_time": "2022-11-22T13:25:38.692Z"
   },
   {
    "duration": 54,
    "start_time": "2022-11-22T13:25:40.035Z"
   },
   {
    "duration": 14,
    "start_time": "2022-11-22T13:25:40.091Z"
   },
   {
    "duration": 20,
    "start_time": "2022-11-22T13:25:40.108Z"
   },
   {
    "duration": 4,
    "start_time": "2022-11-22T13:25:40.130Z"
   },
   {
    "duration": 14,
    "start_time": "2022-11-22T13:25:40.135Z"
   },
   {
    "duration": 49,
    "start_time": "2022-11-22T13:25:40.151Z"
   },
   {
    "duration": 21,
    "start_time": "2022-11-22T13:25:40.202Z"
   },
   {
    "duration": 27,
    "start_time": "2022-11-22T13:25:40.226Z"
   },
   {
    "duration": 5,
    "start_time": "2022-11-22T13:25:40.255Z"
   },
   {
    "duration": 7,
    "start_time": "2022-11-22T13:25:40.262Z"
   },
   {
    "duration": 20,
    "start_time": "2022-11-22T13:25:40.270Z"
   },
   {
    "duration": 35,
    "start_time": "2022-11-22T13:25:40.291Z"
   },
   {
    "duration": 11,
    "start_time": "2022-11-22T13:25:40.328Z"
   },
   {
    "duration": 14,
    "start_time": "2022-11-22T13:25:40.340Z"
   },
   {
    "duration": 5,
    "start_time": "2022-11-22T13:25:40.355Z"
   },
   {
    "duration": 13,
    "start_time": "2022-11-22T13:25:40.361Z"
   },
   {
    "duration": 11,
    "start_time": "2022-11-22T13:25:40.376Z"
   },
   {
    "duration": 33,
    "start_time": "2022-11-22T13:25:40.389Z"
   },
   {
    "duration": 377,
    "start_time": "2022-11-22T13:25:40.424Z"
   },
   {
    "duration": 4,
    "start_time": "2022-11-22T13:25:40.803Z"
   },
   {
    "duration": 17,
    "start_time": "2022-11-22T13:25:40.808Z"
   },
   {
    "duration": 24,
    "start_time": "2022-11-22T13:25:40.826Z"
   },
   {
    "duration": 6,
    "start_time": "2022-11-22T13:25:40.851Z"
   },
   {
    "duration": 1359,
    "start_time": "2022-11-22T13:27:04.580Z"
   },
   {
    "duration": 54,
    "start_time": "2022-11-22T13:27:05.941Z"
   },
   {
    "duration": 11,
    "start_time": "2022-11-22T13:27:05.997Z"
   },
   {
    "duration": 12,
    "start_time": "2022-11-22T13:27:06.009Z"
   },
   {
    "duration": 2,
    "start_time": "2022-11-22T13:27:06.023Z"
   },
   {
    "duration": 7,
    "start_time": "2022-11-22T13:27:06.027Z"
   },
   {
    "duration": 47,
    "start_time": "2022-11-22T13:27:06.035Z"
   },
   {
    "duration": 5,
    "start_time": "2022-11-22T13:27:06.084Z"
   },
   {
    "duration": 38,
    "start_time": "2022-11-22T13:27:06.090Z"
   },
   {
    "duration": 2,
    "start_time": "2022-11-22T13:27:06.131Z"
   },
   {
    "duration": 8,
    "start_time": "2022-11-22T13:27:06.135Z"
   },
   {
    "duration": 21,
    "start_time": "2022-11-22T13:27:06.144Z"
   },
   {
    "duration": 19,
    "start_time": "2022-11-22T13:27:06.167Z"
   },
   {
    "duration": 10,
    "start_time": "2022-11-22T13:27:06.188Z"
   },
   {
    "duration": 11,
    "start_time": "2022-11-22T13:27:06.222Z"
   },
   {
    "duration": 4,
    "start_time": "2022-11-22T13:27:06.235Z"
   },
   {
    "duration": 14,
    "start_time": "2022-11-22T13:27:06.240Z"
   },
   {
    "duration": 10,
    "start_time": "2022-11-22T13:27:06.255Z"
   },
   {
    "duration": 6,
    "start_time": "2022-11-22T13:27:06.267Z"
   },
   {
    "duration": 418,
    "start_time": "2022-11-22T13:27:06.274Z"
   },
   {
    "duration": 4,
    "start_time": "2022-11-22T13:27:06.693Z"
   },
   {
    "duration": 11,
    "start_time": "2022-11-22T13:27:06.698Z"
   },
   {
    "duration": 30,
    "start_time": "2022-11-22T13:27:06.710Z"
   },
   {
    "duration": 7,
    "start_time": "2022-11-22T13:27:06.741Z"
   },
   {
    "duration": 23,
    "start_time": "2022-11-22T13:27:30.730Z"
   },
   {
    "duration": 10,
    "start_time": "2022-11-22T13:28:13.611Z"
   },
   {
    "duration": 14,
    "start_time": "2022-11-22T13:28:24.396Z"
   },
   {
    "duration": 11,
    "start_time": "2022-11-22T13:28:34.221Z"
   },
   {
    "duration": 22,
    "start_time": "2022-11-22T13:29:01.635Z"
   },
   {
    "duration": 24,
    "start_time": "2022-11-22T13:29:08.014Z"
   },
   {
    "duration": 23,
    "start_time": "2022-11-22T13:29:15.406Z"
   },
   {
    "duration": 105,
    "start_time": "2022-11-22T13:31:56.726Z"
   },
   {
    "duration": 5,
    "start_time": "2022-11-22T13:32:11.402Z"
   },
   {
    "duration": 10,
    "start_time": "2022-11-22T13:32:22.456Z"
   },
   {
    "duration": 11,
    "start_time": "2022-11-22T13:32:47.434Z"
   },
   {
    "duration": 9,
    "start_time": "2022-11-22T13:33:03.616Z"
   },
   {
    "duration": 5,
    "start_time": "2022-11-22T13:33:07.250Z"
   },
   {
    "duration": 5,
    "start_time": "2022-11-22T13:33:34.789Z"
   },
   {
    "duration": 9,
    "start_time": "2022-11-22T13:33:50.884Z"
   },
   {
    "duration": 1301,
    "start_time": "2022-11-22T13:35:03.342Z"
   },
   {
    "duration": 54,
    "start_time": "2022-11-22T13:35:04.645Z"
   },
   {
    "duration": 11,
    "start_time": "2022-11-22T13:35:04.701Z"
   },
   {
    "duration": 13,
    "start_time": "2022-11-22T13:35:04.714Z"
   },
   {
    "duration": 3,
    "start_time": "2022-11-22T13:35:04.728Z"
   },
   {
    "duration": 11,
    "start_time": "2022-11-22T13:35:04.733Z"
   },
   {
    "duration": 47,
    "start_time": "2022-11-22T13:35:04.745Z"
   },
   {
    "duration": 4,
    "start_time": "2022-11-22T13:35:04.794Z"
   },
   {
    "duration": 46,
    "start_time": "2022-11-22T13:35:04.799Z"
   },
   {
    "duration": 3,
    "start_time": "2022-11-22T13:35:04.848Z"
   },
   {
    "duration": 6,
    "start_time": "2022-11-22T13:35:04.852Z"
   },
   {
    "duration": 24,
    "start_time": "2022-11-22T13:35:04.859Z"
   },
   {
    "duration": 19,
    "start_time": "2022-11-22T13:35:04.885Z"
   },
   {
    "duration": 25,
    "start_time": "2022-11-22T13:35:04.906Z"
   },
   {
    "duration": 17,
    "start_time": "2022-11-22T13:35:04.933Z"
   },
   {
    "duration": 8,
    "start_time": "2022-11-22T13:35:04.952Z"
   },
   {
    "duration": 15,
    "start_time": "2022-11-22T13:35:04.962Z"
   },
   {
    "duration": 11,
    "start_time": "2022-11-22T13:35:04.978Z"
   },
   {
    "duration": 6,
    "start_time": "2022-11-22T13:35:04.991Z"
   },
   {
    "duration": 409,
    "start_time": "2022-11-22T13:35:04.998Z"
   },
   {
    "duration": 4,
    "start_time": "2022-11-22T13:35:05.409Z"
   },
   {
    "duration": 15,
    "start_time": "2022-11-22T13:35:05.421Z"
   },
   {
    "duration": 39,
    "start_time": "2022-11-22T13:35:05.438Z"
   },
   {
    "duration": 11,
    "start_time": "2022-11-22T13:35:05.481Z"
   },
   {
    "duration": 68792,
    "start_time": "2022-11-22T14:41:49.790Z"
   },
   {
    "duration": 3,
    "start_time": "2022-11-22T14:45:49.919Z"
   },
   {
    "duration": 154,
    "start_time": "2022-11-22T14:47:58.074Z"
   },
   {
    "duration": 183,
    "start_time": "2022-11-22T14:48:15.428Z"
   },
   {
    "duration": 168,
    "start_time": "2022-11-22T14:48:23.817Z"
   },
   {
    "duration": 36,
    "start_time": "2022-11-22T14:48:54.398Z"
   },
   {
    "duration": 155,
    "start_time": "2022-11-22T14:48:57.593Z"
   },
   {
    "duration": 149,
    "start_time": "2022-11-22T14:51:14.381Z"
   },
   {
    "duration": 39,
    "start_time": "2022-11-22T14:51:29.858Z"
   },
   {
    "duration": 3,
    "start_time": "2022-11-22T14:54:11.787Z"
   },
   {
    "duration": 30,
    "start_time": "2022-11-22T15:00:03.884Z"
   },
   {
    "duration": 136,
    "start_time": "2022-11-22T15:00:49.983Z"
   },
   {
    "duration": 4,
    "start_time": "2022-11-22T15:01:11.003Z"
   },
   {
    "duration": 135,
    "start_time": "2022-11-22T15:01:16.748Z"
   },
   {
    "duration": 126,
    "start_time": "2022-11-22T15:01:47.139Z"
   },
   {
    "duration": 132,
    "start_time": "2022-11-22T15:01:54.650Z"
   },
   {
    "duration": 132,
    "start_time": "2022-11-22T15:02:02.166Z"
   },
   {
    "duration": 134,
    "start_time": "2022-11-22T15:02:11.800Z"
   },
   {
    "duration": 131,
    "start_time": "2022-11-22T15:02:59.505Z"
   },
   {
    "duration": 142,
    "start_time": "2022-11-22T15:03:09.688Z"
   },
   {
    "duration": 172,
    "start_time": "2022-11-22T15:03:26.360Z"
   },
   {
    "duration": 137,
    "start_time": "2022-11-22T15:03:34.849Z"
   },
   {
    "duration": 178,
    "start_time": "2022-11-22T15:03:45.450Z"
   },
   {
    "duration": 178,
    "start_time": "2022-11-22T15:03:52.171Z"
   },
   {
    "duration": 231,
    "start_time": "2022-11-22T15:03:57.270Z"
   },
   {
    "duration": 194,
    "start_time": "2022-11-22T15:04:13.014Z"
   },
   {
    "duration": 162,
    "start_time": "2022-11-22T15:04:40.899Z"
   },
   {
    "duration": 149,
    "start_time": "2022-11-22T15:04:53.524Z"
   },
   {
    "duration": 167,
    "start_time": "2022-11-22T15:05:04.015Z"
   },
   {
    "duration": 168,
    "start_time": "2022-11-22T15:05:11.519Z"
   },
   {
    "duration": 159,
    "start_time": "2022-11-22T15:10:16.774Z"
   },
   {
    "duration": 156,
    "start_time": "2022-11-22T15:10:59.793Z"
   },
   {
    "duration": 161,
    "start_time": "2022-11-22T15:11:08.921Z"
   },
   {
    "duration": 159,
    "start_time": "2022-11-22T15:11:52.325Z"
   },
   {
    "duration": 198,
    "start_time": "2022-11-22T15:12:01.303Z"
   },
   {
    "duration": 188,
    "start_time": "2022-11-22T15:12:04.074Z"
   },
   {
    "duration": 185,
    "start_time": "2022-11-22T15:12:31.114Z"
   },
   {
    "duration": 199,
    "start_time": "2022-11-22T15:16:42.201Z"
   },
   {
    "duration": 188,
    "start_time": "2022-11-22T15:16:51.296Z"
   },
   {
    "duration": 13,
    "start_time": "2022-11-22T15:26:22.890Z"
   },
   {
    "duration": 14,
    "start_time": "2022-11-22T15:27:41.230Z"
   },
   {
    "duration": 12,
    "start_time": "2022-11-22T15:28:38.146Z"
   },
   {
    "duration": 1299,
    "start_time": "2022-11-22T15:58:19.483Z"
   },
   {
    "duration": 55,
    "start_time": "2022-11-22T15:58:20.784Z"
   },
   {
    "duration": 11,
    "start_time": "2022-11-22T15:58:20.840Z"
   },
   {
    "duration": 12,
    "start_time": "2022-11-22T15:58:20.853Z"
   },
   {
    "duration": 4,
    "start_time": "2022-11-22T15:58:20.866Z"
   },
   {
    "duration": 23,
    "start_time": "2022-11-22T15:58:20.872Z"
   },
   {
    "duration": 48,
    "start_time": "2022-11-22T15:58:20.897Z"
   },
   {
    "duration": 4,
    "start_time": "2022-11-22T15:58:20.947Z"
   },
   {
    "duration": 27,
    "start_time": "2022-11-22T15:58:20.952Z"
   },
   {
    "duration": 3,
    "start_time": "2022-11-22T15:58:20.981Z"
   },
   {
    "duration": 6,
    "start_time": "2022-11-22T15:58:20.985Z"
   },
   {
    "duration": 35,
    "start_time": "2022-11-22T15:58:20.992Z"
   },
   {
    "duration": 22,
    "start_time": "2022-11-22T15:58:21.029Z"
   },
   {
    "duration": 11,
    "start_time": "2022-11-22T15:58:21.053Z"
   },
   {
    "duration": 13,
    "start_time": "2022-11-22T15:58:21.066Z"
   },
   {
    "duration": 6,
    "start_time": "2022-11-22T15:58:21.081Z"
   },
   {
    "duration": 41,
    "start_time": "2022-11-22T15:58:21.089Z"
   },
   {
    "duration": 13,
    "start_time": "2022-11-22T15:58:21.132Z"
   },
   {
    "duration": 11,
    "start_time": "2022-11-22T15:58:21.146Z"
   },
   {
    "duration": 418,
    "start_time": "2022-11-22T15:58:21.159Z"
   },
   {
    "duration": 4,
    "start_time": "2022-11-22T15:58:21.579Z"
   },
   {
    "duration": 8,
    "start_time": "2022-11-22T15:58:21.584Z"
   },
   {
    "duration": 37,
    "start_time": "2022-11-22T15:58:21.594Z"
   },
   {
    "duration": 8,
    "start_time": "2022-11-22T15:58:21.633Z"
   },
   {
    "duration": 68365,
    "start_time": "2022-11-22T15:58:21.643Z"
   },
   {
    "duration": 302,
    "start_time": "2022-11-22T15:59:30.009Z"
   },
   {
    "duration": 0,
    "start_time": "2022-11-22T15:59:30.312Z"
   },
   {
    "duration": 0,
    "start_time": "2022-11-22T15:59:30.313Z"
   },
   {
    "duration": 0,
    "start_time": "2022-11-22T15:59:30.314Z"
   },
   {
    "duration": 254,
    "start_time": "2022-11-22T16:02:21.240Z"
   },
   {
    "duration": 12,
    "start_time": "2022-11-22T16:02:25.207Z"
   },
   {
    "duration": 122,
    "start_time": "2022-11-22T16:02:27.280Z"
   },
   {
    "duration": 184,
    "start_time": "2022-11-22T16:02:32.792Z"
   },
   {
    "duration": 25,
    "start_time": "2022-11-22T16:06:41.719Z"
   },
   {
    "duration": 35,
    "start_time": "2022-11-22T16:07:18.307Z"
   },
   {
    "duration": 38,
    "start_time": "2022-11-22T16:07:28.613Z"
   },
   {
    "duration": 10,
    "start_time": "2022-11-22T16:08:00.600Z"
   },
   {
    "duration": 31,
    "start_time": "2022-11-22T16:08:02.080Z"
   },
   {
    "duration": 1400,
    "start_time": "2022-11-22T16:09:21.507Z"
   },
   {
    "duration": 60,
    "start_time": "2022-11-22T16:09:22.909Z"
   },
   {
    "duration": 12,
    "start_time": "2022-11-22T16:09:22.971Z"
   },
   {
    "duration": 13,
    "start_time": "2022-11-22T16:09:22.985Z"
   },
   {
    "duration": 12,
    "start_time": "2022-11-22T16:09:23.000Z"
   },
   {
    "duration": 19,
    "start_time": "2022-11-22T16:09:23.014Z"
   },
   {
    "duration": 55,
    "start_time": "2022-11-22T16:09:23.036Z"
   },
   {
    "duration": 5,
    "start_time": "2022-11-22T16:09:23.092Z"
   },
   {
    "duration": 45,
    "start_time": "2022-11-22T16:09:23.098Z"
   },
   {
    "duration": 4,
    "start_time": "2022-11-22T16:09:23.146Z"
   },
   {
    "duration": 12,
    "start_time": "2022-11-22T16:09:23.152Z"
   },
   {
    "duration": 26,
    "start_time": "2022-11-22T16:09:23.165Z"
   },
   {
    "duration": 42,
    "start_time": "2022-11-22T16:09:23.192Z"
   },
   {
    "duration": 14,
    "start_time": "2022-11-22T16:09:23.238Z"
   },
   {
    "duration": 19,
    "start_time": "2022-11-22T16:09:23.254Z"
   },
   {
    "duration": 11,
    "start_time": "2022-11-22T16:09:23.274Z"
   },
   {
    "duration": 15,
    "start_time": "2022-11-22T16:09:23.287Z"
   },
   {
    "duration": 20,
    "start_time": "2022-11-22T16:09:23.303Z"
   },
   {
    "duration": 14,
    "start_time": "2022-11-22T16:09:23.325Z"
   },
   {
    "duration": 409,
    "start_time": "2022-11-22T16:09:23.341Z"
   },
   {
    "duration": 5,
    "start_time": "2022-11-22T16:09:23.751Z"
   },
   {
    "duration": 14,
    "start_time": "2022-11-22T16:09:23.758Z"
   },
   {
    "duration": 45,
    "start_time": "2022-11-22T16:09:23.774Z"
   },
   {
    "duration": 15,
    "start_time": "2022-11-22T16:09:23.820Z"
   },
   {
    "duration": 71992,
    "start_time": "2022-11-22T16:09:23.837Z"
   },
   {
    "duration": 249,
    "start_time": "2022-11-22T16:10:35.831Z"
   },
   {
    "duration": 9,
    "start_time": "2022-11-22T16:10:36.082Z"
   },
   {
    "duration": 44,
    "start_time": "2022-11-22T16:10:36.094Z"
   },
   {
    "duration": 130,
    "start_time": "2022-11-22T16:10:36.140Z"
   },
   {
    "duration": 173,
    "start_time": "2022-11-22T16:10:36.272Z"
   },
   {
    "duration": 1603,
    "start_time": "2022-11-23T08:41:54.602Z"
   },
   {
    "duration": 97,
    "start_time": "2022-11-23T08:41:56.207Z"
   },
   {
    "duration": 13,
    "start_time": "2022-11-23T08:41:56.306Z"
   },
   {
    "duration": 13,
    "start_time": "2022-11-23T08:41:56.321Z"
   },
   {
    "duration": 3,
    "start_time": "2022-11-23T08:41:56.336Z"
   },
   {
    "duration": 12,
    "start_time": "2022-11-23T08:41:56.341Z"
   },
   {
    "duration": 70,
    "start_time": "2022-11-23T08:41:56.354Z"
   },
   {
    "duration": 5,
    "start_time": "2022-11-23T08:41:56.426Z"
   },
   {
    "duration": 44,
    "start_time": "2022-11-23T08:41:56.433Z"
   },
   {
    "duration": 4,
    "start_time": "2022-11-23T08:41:56.480Z"
   },
   {
    "duration": 26,
    "start_time": "2022-11-23T08:41:56.486Z"
   },
   {
    "duration": 29,
    "start_time": "2022-11-23T08:41:56.515Z"
   },
   {
    "duration": 36,
    "start_time": "2022-11-23T08:41:56.546Z"
   },
   {
    "duration": 39,
    "start_time": "2022-11-23T08:41:56.584Z"
   },
   {
    "duration": 28,
    "start_time": "2022-11-23T08:41:56.626Z"
   },
   {
    "duration": 9,
    "start_time": "2022-11-23T08:41:56.656Z"
   },
   {
    "duration": 27,
    "start_time": "2022-11-23T08:41:56.667Z"
   },
   {
    "duration": 43,
    "start_time": "2022-11-23T08:41:56.696Z"
   },
   {
    "duration": 11,
    "start_time": "2022-11-23T08:41:56.741Z"
   },
   {
    "duration": 513,
    "start_time": "2022-11-23T08:41:56.754Z"
   },
   {
    "duration": 5,
    "start_time": "2022-11-23T08:41:57.268Z"
   },
   {
    "duration": 15,
    "start_time": "2022-11-23T08:41:57.275Z"
   },
   {
    "duration": 41,
    "start_time": "2022-11-23T08:41:57.292Z"
   },
   {
    "duration": 10,
    "start_time": "2022-11-23T08:41:57.334Z"
   },
   {
    "duration": 78090,
    "start_time": "2022-11-23T08:41:57.346Z"
   },
   {
    "duration": 221,
    "start_time": "2022-11-23T08:43:15.437Z"
   },
   {
    "duration": 12,
    "start_time": "2022-11-23T08:43:15.660Z"
   },
   {
    "duration": 54,
    "start_time": "2022-11-23T08:43:15.676Z"
   },
   {
    "duration": 1404,
    "start_time": "2022-11-23T08:43:15.732Z"
   },
   {
    "duration": 205,
    "start_time": "2022-11-23T08:43:17.138Z"
   },
   {
    "duration": 77248,
    "start_time": "2022-11-23T08:43:17.345Z"
   },
   {
    "duration": 202,
    "start_time": "2022-11-23T08:44:34.594Z"
   },
   {
    "duration": 13,
    "start_time": "2022-11-23T09:12:52.374Z"
   },
   {
    "duration": 151,
    "start_time": "2022-11-23T09:37:54.794Z"
   },
   {
    "duration": 5,
    "start_time": "2022-11-23T09:38:19.874Z"
   },
   {
    "duration": 19,
    "start_time": "2022-11-23T09:38:30.932Z"
   },
   {
    "duration": 23,
    "start_time": "2022-11-23T09:38:45.154Z"
   },
   {
    "duration": 12,
    "start_time": "2022-11-23T09:39:18.688Z"
   },
   {
    "duration": 23,
    "start_time": "2022-11-23T09:39:20.337Z"
   },
   {
    "duration": 13,
    "start_time": "2022-11-23T09:39:49.812Z"
   },
   {
    "duration": 22,
    "start_time": "2022-11-23T09:39:52.909Z"
   },
   {
    "duration": 19,
    "start_time": "2022-11-23T09:40:04.474Z"
   },
   {
    "duration": 25,
    "start_time": "2022-11-23T09:40:09.494Z"
   },
   {
    "duration": 14,
    "start_time": "2022-11-23T09:40:12.148Z"
   },
   {
    "duration": 22,
    "start_time": "2022-11-23T09:40:14.983Z"
   },
   {
    "duration": 24,
    "start_time": "2022-11-23T09:40:45.357Z"
   },
   {
    "duration": 13,
    "start_time": "2022-11-23T09:40:51.124Z"
   },
   {
    "duration": 22,
    "start_time": "2022-11-23T09:40:53.371Z"
   },
   {
    "duration": 6,
    "start_time": "2022-11-23T09:42:22.115Z"
   },
   {
    "duration": 19,
    "start_time": "2022-11-23T09:42:32.061Z"
   },
   {
    "duration": 11,
    "start_time": "2022-11-23T09:42:50.007Z"
   },
   {
    "duration": 23,
    "start_time": "2022-11-23T09:42:55.325Z"
   },
   {
    "duration": 5,
    "start_time": "2022-11-23T09:44:54.675Z"
   },
   {
    "duration": 10,
    "start_time": "2022-11-23T09:44:57.130Z"
   },
   {
    "duration": 6,
    "start_time": "2022-11-23T09:44:59.218Z"
   },
   {
    "duration": 16,
    "start_time": "2022-11-23T09:45:02.668Z"
   },
   {
    "duration": 5,
    "start_time": "2022-11-23T09:45:04.417Z"
   },
   {
    "duration": 7,
    "start_time": "2022-11-23T09:45:08.456Z"
   },
   {
    "duration": 14,
    "start_time": "2022-11-23T09:45:10.035Z"
   },
   {
    "duration": 5,
    "start_time": "2022-11-23T09:45:12.092Z"
   },
   {
    "duration": 17,
    "start_time": "2022-11-23T09:50:06.617Z"
   },
   {
    "duration": 6,
    "start_time": "2022-11-23T09:50:08.134Z"
   },
   {
    "duration": 14,
    "start_time": "2022-11-23T09:50:14.813Z"
   },
   {
    "duration": 6,
    "start_time": "2022-11-23T09:50:16.637Z"
   },
   {
    "duration": 1455,
    "start_time": "2022-11-23T10:03:38.449Z"
   },
   {
    "duration": 57,
    "start_time": "2022-11-23T10:03:39.907Z"
   },
   {
    "duration": 13,
    "start_time": "2022-11-23T10:03:39.966Z"
   },
   {
    "duration": 13,
    "start_time": "2022-11-23T10:03:39.981Z"
   },
   {
    "duration": 3,
    "start_time": "2022-11-23T10:03:39.995Z"
   },
   {
    "duration": 11,
    "start_time": "2022-11-23T10:03:40.000Z"
   },
   {
    "duration": 53,
    "start_time": "2022-11-23T10:03:40.013Z"
   },
   {
    "duration": 5,
    "start_time": "2022-11-23T10:03:40.067Z"
   },
   {
    "duration": 41,
    "start_time": "2022-11-23T10:03:40.073Z"
   },
   {
    "duration": 4,
    "start_time": "2022-11-23T10:03:40.117Z"
   },
   {
    "duration": 8,
    "start_time": "2022-11-23T10:03:40.122Z"
   },
   {
    "duration": 19,
    "start_time": "2022-11-23T10:03:40.132Z"
   },
   {
    "duration": 24,
    "start_time": "2022-11-23T10:03:40.153Z"
   },
   {
    "duration": 41,
    "start_time": "2022-11-23T10:03:40.178Z"
   },
   {
    "duration": 15,
    "start_time": "2022-11-23T10:03:40.220Z"
   },
   {
    "duration": 7,
    "start_time": "2022-11-23T10:03:40.236Z"
   },
   {
    "duration": 18,
    "start_time": "2022-11-23T10:03:40.244Z"
   },
   {
    "duration": 12,
    "start_time": "2022-11-23T10:03:40.264Z"
   },
   {
    "duration": 35,
    "start_time": "2022-11-23T10:03:40.278Z"
   },
   {
    "duration": 403,
    "start_time": "2022-11-23T10:03:40.315Z"
   },
   {
    "duration": 6,
    "start_time": "2022-11-23T10:03:40.720Z"
   },
   {
    "duration": 26,
    "start_time": "2022-11-23T10:03:40.728Z"
   },
   {
    "duration": 24,
    "start_time": "2022-11-23T10:03:40.756Z"
   },
   {
    "duration": 9,
    "start_time": "2022-11-23T10:03:40.782Z"
   },
   {
    "duration": 76597,
    "start_time": "2022-11-23T10:03:40.813Z"
   },
   {
    "duration": 210,
    "start_time": "2022-11-23T10:04:57.411Z"
   },
   {
    "duration": 10,
    "start_time": "2022-11-23T10:04:57.623Z"
   },
   {
    "duration": 27,
    "start_time": "2022-11-23T10:04:57.636Z"
   },
   {
    "duration": 13,
    "start_time": "2022-11-23T10:04:57.664Z"
   },
   {
    "duration": 35,
    "start_time": "2022-11-23T10:04:57.678Z"
   },
   {
    "duration": 1585,
    "start_time": "2022-11-23T10:04:57.715Z"
   },
   {
    "duration": 190,
    "start_time": "2022-11-23T10:04:59.302Z"
   },
   {
    "duration": 1364,
    "start_time": "2022-11-23T10:04:59.494Z"
   },
   {
    "duration": 198,
    "start_time": "2022-11-23T10:05:00.860Z"
   },
   {
    "duration": 106134,
    "start_time": "2022-11-23T10:05:01.060Z"
   },
   {
    "duration": 333,
    "start_time": "2022-11-23T10:06:47.196Z"
   },
   {
    "duration": 76501,
    "start_time": "2022-11-23T10:06:47.531Z"
   },
   {
    "duration": 280,
    "start_time": "2022-11-23T10:08:04.034Z"
   },
   {
    "duration": 346,
    "start_time": "2022-11-23T10:12:58.699Z"
   },
   {
    "duration": 254,
    "start_time": "2022-11-23T10:13:20.733Z"
   },
   {
    "duration": 185,
    "start_time": "2022-11-23T10:13:41.727Z"
   },
   {
    "duration": 203,
    "start_time": "2022-11-23T10:13:56.295Z"
   },
   {
    "duration": 194,
    "start_time": "2022-11-23T10:14:55.487Z"
   },
   {
    "duration": 1502,
    "start_time": "2022-11-23T10:15:49.016Z"
   },
   {
    "duration": 58,
    "start_time": "2022-11-23T10:15:50.521Z"
   },
   {
    "duration": 13,
    "start_time": "2022-11-23T10:15:50.581Z"
   },
   {
    "duration": 14,
    "start_time": "2022-11-23T10:15:50.596Z"
   },
   {
    "duration": 3,
    "start_time": "2022-11-23T10:15:50.612Z"
   },
   {
    "duration": 11,
    "start_time": "2022-11-23T10:15:50.616Z"
   },
   {
    "duration": 55,
    "start_time": "2022-11-23T10:15:50.628Z"
   },
   {
    "duration": 5,
    "start_time": "2022-11-23T10:15:50.684Z"
   },
   {
    "duration": 27,
    "start_time": "2022-11-23T10:15:50.713Z"
   },
   {
    "duration": 3,
    "start_time": "2022-11-23T10:15:50.743Z"
   },
   {
    "duration": 5,
    "start_time": "2022-11-23T10:15:50.748Z"
   },
   {
    "duration": 23,
    "start_time": "2022-11-23T10:15:50.755Z"
   },
   {
    "duration": 45,
    "start_time": "2022-11-23T10:15:50.780Z"
   },
   {
    "duration": 12,
    "start_time": "2022-11-23T10:15:50.827Z"
   },
   {
    "duration": 15,
    "start_time": "2022-11-23T10:15:50.841Z"
   },
   {
    "duration": 8,
    "start_time": "2022-11-23T10:15:50.858Z"
   },
   {
    "duration": 27,
    "start_time": "2022-11-23T10:15:50.867Z"
   },
   {
    "duration": 13,
    "start_time": "2022-11-23T10:15:50.913Z"
   },
   {
    "duration": 24,
    "start_time": "2022-11-23T10:15:50.928Z"
   },
   {
    "duration": 434,
    "start_time": "2022-11-23T10:15:50.954Z"
   },
   {
    "duration": 5,
    "start_time": "2022-11-23T10:15:51.390Z"
   },
   {
    "duration": 21,
    "start_time": "2022-11-23T10:15:51.396Z"
   },
   {
    "duration": 23,
    "start_time": "2022-11-23T10:15:51.418Z"
   },
   {
    "duration": 10,
    "start_time": "2022-11-23T10:15:51.442Z"
   },
   {
    "duration": 77703,
    "start_time": "2022-11-23T10:15:51.453Z"
   },
   {
    "duration": 230,
    "start_time": "2022-11-23T10:17:09.158Z"
   },
   {
    "duration": 26,
    "start_time": "2022-11-23T10:17:09.390Z"
   },
   {
    "duration": 27,
    "start_time": "2022-11-23T10:17:09.419Z"
   },
   {
    "duration": 13,
    "start_time": "2022-11-23T10:17:09.448Z"
   },
   {
    "duration": 5,
    "start_time": "2022-11-23T10:17:09.463Z"
   },
   {
    "duration": 1633,
    "start_time": "2022-11-23T10:17:09.469Z"
   },
   {
    "duration": 201,
    "start_time": "2022-11-23T10:17:11.104Z"
   },
   {
    "duration": 1321,
    "start_time": "2022-11-23T10:17:11.311Z"
   },
   {
    "duration": 189,
    "start_time": "2022-11-23T10:17:12.634Z"
   },
   {
    "duration": 106453,
    "start_time": "2022-11-23T10:17:12.825Z"
   },
   {
    "duration": 321,
    "start_time": "2022-11-23T10:18:59.280Z"
   },
   {
    "duration": 77907,
    "start_time": "2022-11-23T10:18:59.603Z"
   },
   {
    "duration": 262,
    "start_time": "2022-11-23T10:20:17.512Z"
   },
   {
    "duration": 319,
    "start_time": "2022-11-23T10:28:58.967Z"
   },
   {
    "duration": 1434,
    "start_time": "2022-11-23T10:29:13.324Z"
   },
   {
    "duration": 59,
    "start_time": "2022-11-23T10:29:14.760Z"
   },
   {
    "duration": 14,
    "start_time": "2022-11-23T10:29:14.822Z"
   },
   {
    "duration": 14,
    "start_time": "2022-11-23T10:29:14.838Z"
   },
   {
    "duration": 3,
    "start_time": "2022-11-23T10:29:14.854Z"
   },
   {
    "duration": 13,
    "start_time": "2022-11-23T10:29:14.859Z"
   },
   {
    "duration": 92,
    "start_time": "2022-11-23T10:29:14.874Z"
   },
   {
    "duration": 5,
    "start_time": "2022-11-23T10:29:14.968Z"
   },
   {
    "duration": 38,
    "start_time": "2022-11-23T10:29:14.975Z"
   },
   {
    "duration": 3,
    "start_time": "2022-11-23T10:29:15.016Z"
   },
   {
    "duration": 9,
    "start_time": "2022-11-23T10:29:15.021Z"
   },
   {
    "duration": 20,
    "start_time": "2022-11-23T10:29:15.032Z"
   },
   {
    "duration": 22,
    "start_time": "2022-11-23T10:29:15.054Z"
   },
   {
    "duration": 38,
    "start_time": "2022-11-23T10:29:15.078Z"
   },
   {
    "duration": 17,
    "start_time": "2022-11-23T10:29:15.117Z"
   },
   {
    "duration": 6,
    "start_time": "2022-11-23T10:29:15.135Z"
   },
   {
    "duration": 15,
    "start_time": "2022-11-23T10:29:15.143Z"
   },
   {
    "duration": 12,
    "start_time": "2022-11-23T10:29:15.159Z"
   },
   {
    "duration": 6,
    "start_time": "2022-11-23T10:29:15.173Z"
   },
   {
    "duration": 420,
    "start_time": "2022-11-23T10:29:15.180Z"
   },
   {
    "duration": 10,
    "start_time": "2022-11-23T10:29:15.602Z"
   },
   {
    "duration": 14,
    "start_time": "2022-11-23T10:29:15.614Z"
   },
   {
    "duration": 23,
    "start_time": "2022-11-23T10:29:15.629Z"
   },
   {
    "duration": 12,
    "start_time": "2022-11-23T10:29:15.654Z"
   },
   {
    "duration": 75415,
    "start_time": "2022-11-23T10:29:15.668Z"
   },
   {
    "duration": 212,
    "start_time": "2022-11-23T10:30:31.084Z"
   },
   {
    "duration": 20,
    "start_time": "2022-11-23T10:30:31.298Z"
   },
   {
    "duration": 31,
    "start_time": "2022-11-23T10:30:31.321Z"
   },
   {
    "duration": 15,
    "start_time": "2022-11-23T10:30:31.353Z"
   },
   {
    "duration": 7,
    "start_time": "2022-11-23T10:30:31.370Z"
   },
   {
    "duration": 1553,
    "start_time": "2022-11-23T10:30:31.379Z"
   },
   {
    "duration": 182,
    "start_time": "2022-11-23T10:30:32.934Z"
   },
   {
    "duration": 1306,
    "start_time": "2022-11-23T10:30:33.118Z"
   },
   {
    "duration": 206,
    "start_time": "2022-11-23T10:30:34.426Z"
   },
   {
    "duration": 105499,
    "start_time": "2022-11-23T10:30:34.633Z"
   },
   {
    "duration": 322,
    "start_time": "2022-11-23T10:32:20.134Z"
   },
   {
    "duration": 76552,
    "start_time": "2022-11-23T10:32:20.457Z"
   },
   {
    "duration": 255,
    "start_time": "2022-11-23T10:33:37.012Z"
   },
   {
    "duration": 1862,
    "start_time": "2022-11-23T10:47:35.679Z"
   },
   {
    "duration": 1629,
    "start_time": "2022-11-23T10:49:03.879Z"
   },
   {
    "duration": 1604,
    "start_time": "2022-11-23T10:50:16.278Z"
   },
   {
    "duration": 1504,
    "start_time": "2022-11-23T10:50:38.175Z"
   },
   {
    "duration": 105696,
    "start_time": "2022-11-23T10:52:04.395Z"
   },
   {
    "duration": 1718,
    "start_time": "2022-11-23T10:53:51.858Z"
   },
   {
    "duration": 291,
    "start_time": "2022-11-23T11:01:35.616Z"
   },
   {
    "duration": 79,
    "start_time": "2022-11-23T11:02:11.281Z"
   },
   {
    "duration": 84,
    "start_time": "2022-11-23T11:02:22.620Z"
   },
   {
    "duration": 244,
    "start_time": "2022-11-23T11:02:35.281Z"
   },
   {
    "duration": 443,
    "start_time": "2022-11-23T11:04:07.709Z"
   },
   {
    "duration": 381,
    "start_time": "2022-11-23T11:04:30.100Z"
   },
   {
    "duration": 385,
    "start_time": "2022-11-23T11:05:21.527Z"
   },
   {
    "duration": 299,
    "start_time": "2022-11-23T11:13:45.380Z"
   },
   {
    "duration": 332,
    "start_time": "2022-11-23T11:14:36.181Z"
   },
   {
    "duration": 3,
    "start_time": "2022-11-23T11:33:11.579Z"
   },
   {
    "duration": 1502,
    "start_time": "2022-11-23T11:33:14.845Z"
   },
   {
    "duration": 541,
    "start_time": "2022-11-23T11:37:47.248Z"
   },
   {
    "duration": 542,
    "start_time": "2022-11-23T11:40:42.071Z"
   },
   {
    "duration": 1279,
    "start_time": "2022-11-23T11:41:07.271Z"
   },
   {
    "duration": 1750,
    "start_time": "2022-11-24T07:40:17.665Z"
   },
   {
    "duration": 58,
    "start_time": "2022-11-24T07:40:19.417Z"
   },
   {
    "duration": 12,
    "start_time": "2022-11-24T07:40:19.476Z"
   },
   {
    "duration": 14,
    "start_time": "2022-11-24T07:40:19.489Z"
   },
   {
    "duration": 5,
    "start_time": "2022-11-24T07:40:19.505Z"
   },
   {
    "duration": 28,
    "start_time": "2022-11-24T07:40:19.512Z"
   },
   {
    "duration": 74,
    "start_time": "2022-11-24T07:40:19.542Z"
   },
   {
    "duration": 5,
    "start_time": "2022-11-24T07:40:19.618Z"
   },
   {
    "duration": 27,
    "start_time": "2022-11-24T07:40:19.624Z"
   },
   {
    "duration": 4,
    "start_time": "2022-11-24T07:40:19.652Z"
   },
   {
    "duration": 20,
    "start_time": "2022-11-24T07:40:19.657Z"
   },
   {
    "duration": 20,
    "start_time": "2022-11-24T07:40:19.678Z"
   },
   {
    "duration": 42,
    "start_time": "2022-11-24T07:40:19.699Z"
   },
   {
    "duration": 15,
    "start_time": "2022-11-24T07:40:19.744Z"
   },
   {
    "duration": 4,
    "start_time": "2022-11-24T07:40:19.760Z"
   },
   {
    "duration": 12,
    "start_time": "2022-11-24T07:40:19.765Z"
   },
   {
    "duration": 11,
    "start_time": "2022-11-24T07:40:19.778Z"
   },
   {
    "duration": 6,
    "start_time": "2022-11-24T07:40:19.791Z"
   },
   {
    "duration": 511,
    "start_time": "2022-11-24T07:40:19.799Z"
   },
   {
    "duration": 4,
    "start_time": "2022-11-24T07:40:20.312Z"
   },
   {
    "duration": 27,
    "start_time": "2022-11-24T07:40:20.318Z"
   },
   {
    "duration": 17,
    "start_time": "2022-11-24T07:40:20.347Z"
   },
   {
    "duration": 10,
    "start_time": "2022-11-24T07:40:20.366Z"
   },
   {
    "duration": 70748,
    "start_time": "2022-11-24T07:40:20.378Z"
   },
   {
    "duration": 191,
    "start_time": "2022-11-24T07:41:31.128Z"
   },
   {
    "duration": 23,
    "start_time": "2022-11-24T07:41:31.320Z"
   },
   {
    "duration": 19,
    "start_time": "2022-11-24T07:41:31.345Z"
   },
   {
    "duration": 29,
    "start_time": "2022-11-24T07:41:31.366Z"
   },
   {
    "duration": 16,
    "start_time": "2022-11-24T07:41:31.396Z"
   },
   {
    "duration": 1456,
    "start_time": "2022-11-24T07:41:31.414Z"
   },
   {
    "duration": 172,
    "start_time": "2022-11-24T07:41:32.872Z"
   },
   {
    "duration": 1209,
    "start_time": "2022-11-24T07:41:33.045Z"
   },
   {
    "duration": 169,
    "start_time": "2022-11-24T07:41:34.256Z"
   },
   {
    "duration": 96076,
    "start_time": "2022-11-24T07:41:34.426Z"
   },
   {
    "duration": 282,
    "start_time": "2022-11-24T07:43:10.503Z"
   },
   {
    "duration": 70018,
    "start_time": "2022-11-24T07:43:10.787Z"
   },
   {
    "duration": 239,
    "start_time": "2022-11-24T07:44:20.807Z"
   },
   {
    "duration": 1674,
    "start_time": "2022-11-24T07:44:21.047Z"
   },
   {
    "duration": 361,
    "start_time": "2022-11-24T07:44:22.722Z"
   },
   {
    "duration": 409,
    "start_time": "2022-11-24T07:44:23.085Z"
   },
   {
    "duration": 0,
    "start_time": "2022-11-24T07:44:23.495Z"
   },
   {
    "duration": 44,
    "start_time": "2022-11-24T11:27:47.604Z"
   },
   {
    "duration": 7,
    "start_time": "2022-11-24T11:28:01.520Z"
   },
   {
    "duration": 1557,
    "start_time": "2022-11-24T11:28:06.285Z"
   },
   {
    "duration": 175,
    "start_time": "2022-11-24T11:28:08.319Z"
   },
   {
    "duration": 81,
    "start_time": "2022-11-24T11:28:16.078Z"
   },
   {
    "duration": 1462,
    "start_time": "2022-11-24T11:28:35.791Z"
   },
   {
    "duration": 66,
    "start_time": "2022-11-24T11:28:37.255Z"
   },
   {
    "duration": 15,
    "start_time": "2022-11-24T11:28:37.323Z"
   },
   {
    "duration": 16,
    "start_time": "2022-11-24T11:28:37.340Z"
   },
   {
    "duration": 4,
    "start_time": "2022-11-24T11:28:37.357Z"
   },
   {
    "duration": 23,
    "start_time": "2022-11-24T11:28:37.363Z"
   },
   {
    "duration": 47,
    "start_time": "2022-11-24T11:28:37.388Z"
   },
   {
    "duration": 5,
    "start_time": "2022-11-24T11:28:37.436Z"
   },
   {
    "duration": 44,
    "start_time": "2022-11-24T11:28:37.442Z"
   },
   {
    "duration": 4,
    "start_time": "2022-11-24T11:28:37.488Z"
   },
   {
    "duration": 19,
    "start_time": "2022-11-24T11:28:37.493Z"
   },
   {
    "duration": 21,
    "start_time": "2022-11-24T11:28:37.514Z"
   },
   {
    "duration": 42,
    "start_time": "2022-11-24T11:28:37.537Z"
   },
   {
    "duration": 15,
    "start_time": "2022-11-24T11:28:37.581Z"
   },
   {
    "duration": 7,
    "start_time": "2022-11-24T11:28:37.597Z"
   },
   {
    "duration": 15,
    "start_time": "2022-11-24T11:28:37.605Z"
   },
   {
    "duration": 11,
    "start_time": "2022-11-24T11:28:37.621Z"
   },
   {
    "duration": 8,
    "start_time": "2022-11-24T11:28:37.633Z"
   },
   {
    "duration": 8,
    "start_time": "2022-11-24T11:28:37.643Z"
   },
   {
    "duration": 379,
    "start_time": "2022-11-24T11:28:37.678Z"
   },
   {
    "duration": 19,
    "start_time": "2022-11-24T11:28:38.059Z"
   },
   {
    "duration": 11,
    "start_time": "2022-11-24T11:28:38.080Z"
   },
   {
    "duration": 21,
    "start_time": "2022-11-24T11:28:38.092Z"
   },
   {
    "duration": 9,
    "start_time": "2022-11-24T11:28:38.114Z"
   },
   {
    "duration": 71929,
    "start_time": "2022-11-24T11:28:38.124Z"
   },
   {
    "duration": 209,
    "start_time": "2022-11-24T11:29:50.054Z"
   },
   {
    "duration": 23,
    "start_time": "2022-11-24T11:29:50.265Z"
   },
   {
    "duration": 27,
    "start_time": "2022-11-24T11:29:50.291Z"
   },
   {
    "duration": 13,
    "start_time": "2022-11-24T11:29:50.319Z"
   },
   {
    "duration": 5,
    "start_time": "2022-11-24T11:29:50.333Z"
   },
   {
    "duration": 1462,
    "start_time": "2022-11-24T11:29:50.340Z"
   },
   {
    "duration": 179,
    "start_time": "2022-11-24T11:29:51.804Z"
   },
   {
    "duration": 1203,
    "start_time": "2022-11-24T11:29:51.985Z"
   },
   {
    "duration": 176,
    "start_time": "2022-11-24T11:29:53.189Z"
   },
   {
    "duration": 97248,
    "start_time": "2022-11-24T11:29:53.367Z"
   },
   {
    "duration": 285,
    "start_time": "2022-11-24T11:31:30.617Z"
   },
   {
    "duration": 71420,
    "start_time": "2022-11-24T11:31:30.904Z"
   },
   {
    "duration": 238,
    "start_time": "2022-11-24T11:32:42.326Z"
   },
   {
    "duration": 1619,
    "start_time": "2022-11-24T11:32:42.565Z"
   },
   {
    "duration": 441,
    "start_time": "2022-11-24T11:32:44.186Z"
   },
   {
    "duration": 396,
    "start_time": "2022-11-24T11:32:44.628Z"
   },
   {
    "duration": 0,
    "start_time": "2022-11-24T11:32:45.026Z"
   },
   {
    "duration": 0,
    "start_time": "2022-11-24T11:32:45.027Z"
   },
   {
    "duration": 116,
    "start_time": "2022-11-24T11:35:32.101Z"
   },
   {
    "duration": 110,
    "start_time": "2022-11-24T11:35:45.580Z"
   },
   {
    "duration": 99,
    "start_time": "2022-11-24T11:36:14.607Z"
   },
   {
    "duration": 104,
    "start_time": "2022-11-24T11:36:20.997Z"
   },
   {
    "duration": 89,
    "start_time": "2022-11-24T11:36:25.261Z"
   },
   {
    "duration": 91,
    "start_time": "2022-11-24T11:36:28.649Z"
   },
   {
    "duration": 107,
    "start_time": "2022-11-24T11:36:32.009Z"
   },
   {
    "duration": 100,
    "start_time": "2022-11-24T11:37:03.757Z"
   },
   {
    "duration": 99,
    "start_time": "2022-11-24T11:37:11.081Z"
   },
   {
    "duration": 106,
    "start_time": "2022-11-24T11:37:14.889Z"
   },
   {
    "duration": 95,
    "start_time": "2022-11-24T11:38:13.557Z"
   },
   {
    "duration": 202,
    "start_time": "2022-11-24T11:38:22.481Z"
   },
   {
    "duration": 90,
    "start_time": "2022-11-24T11:38:31.557Z"
   },
   {
    "duration": 115,
    "start_time": "2022-11-24T11:38:39.794Z"
   },
   {
    "duration": 108,
    "start_time": "2022-11-24T11:38:45.910Z"
   },
   {
    "duration": 209,
    "start_time": "2022-11-24T11:38:47.641Z"
   },
   {
    "duration": 65,
    "start_time": "2022-11-24T11:39:09.212Z"
   },
   {
    "duration": 109,
    "start_time": "2022-11-24T11:40:24.613Z"
   },
   {
    "duration": 237,
    "start_time": "2022-11-24T11:40:38.761Z"
   },
   {
    "duration": 105,
    "start_time": "2022-11-24T11:40:43.521Z"
   },
   {
    "duration": 77,
    "start_time": "2022-11-24T11:41:27.625Z"
   },
   {
    "duration": 100,
    "start_time": "2022-11-24T11:41:30.066Z"
   },
   {
    "duration": 113,
    "start_time": "2022-11-24T11:41:36.200Z"
   },
   {
    "duration": 99,
    "start_time": "2022-11-24T12:13:28.856Z"
   },
   {
    "duration": 216,
    "start_time": "2022-11-24T12:14:10.469Z"
   },
   {
    "duration": 99,
    "start_time": "2022-11-24T12:14:21.907Z"
   },
   {
    "duration": 98,
    "start_time": "2022-11-24T12:14:29.457Z"
   },
   {
    "duration": 147,
    "start_time": "2022-11-24T12:14:36.551Z"
   },
   {
    "duration": 137,
    "start_time": "2022-11-24T12:14:43.585Z"
   },
   {
    "duration": 157,
    "start_time": "2022-11-24T12:17:09.690Z"
   },
   {
    "duration": 139,
    "start_time": "2022-11-24T12:17:18.353Z"
   },
   {
    "duration": 156,
    "start_time": "2022-11-24T12:17:57.075Z"
   },
   {
    "duration": 140,
    "start_time": "2022-11-24T12:18:00.441Z"
   },
   {
    "duration": 85,
    "start_time": "2022-11-24T12:18:15.086Z"
   },
   {
    "duration": 130,
    "start_time": "2022-11-24T12:18:22.908Z"
   },
   {
    "duration": 70,
    "start_time": "2022-11-24T12:18:29.055Z"
   },
   {
    "duration": 131,
    "start_time": "2022-11-24T12:18:35.297Z"
   },
   {
    "duration": 143,
    "start_time": "2022-11-24T12:18:51.764Z"
   },
   {
    "duration": 250,
    "start_time": "2022-11-24T12:18:56.890Z"
   },
   {
    "duration": 72,
    "start_time": "2022-11-24T12:19:14.533Z"
   },
   {
    "duration": 138,
    "start_time": "2022-11-24T12:19:18.031Z"
   },
   {
    "duration": 120,
    "start_time": "2022-11-24T12:19:26.094Z"
   },
   {
    "duration": 133,
    "start_time": "2022-11-24T12:19:31.802Z"
   },
   {
    "duration": 158,
    "start_time": "2022-11-24T12:19:55.887Z"
   },
   {
    "duration": 131,
    "start_time": "2022-11-24T12:20:03.175Z"
   },
   {
    "duration": 126,
    "start_time": "2022-11-24T12:20:53.346Z"
   },
   {
    "duration": 133,
    "start_time": "2022-11-24T12:21:03.277Z"
   },
   {
    "duration": 122,
    "start_time": "2022-11-24T12:21:07.957Z"
   },
   {
    "duration": 125,
    "start_time": "2022-11-24T12:21:15.093Z"
   },
   {
    "duration": 128,
    "start_time": "2022-11-24T12:21:19.761Z"
   },
   {
    "duration": 118,
    "start_time": "2022-11-24T12:21:24.197Z"
   },
   {
    "duration": 127,
    "start_time": "2022-11-24T12:21:28.156Z"
   },
   {
    "duration": 119,
    "start_time": "2022-11-24T12:21:32.704Z"
   },
   {
    "duration": 118,
    "start_time": "2022-11-24T12:22:13.314Z"
   },
   {
    "duration": 70,
    "start_time": "2022-11-24T12:22:43.520Z"
   },
   {
    "duration": 128,
    "start_time": "2022-11-24T12:22:50.231Z"
   },
   {
    "duration": 71,
    "start_time": "2022-11-24T12:22:57.757Z"
   },
   {
    "duration": 125,
    "start_time": "2022-11-24T12:23:00.198Z"
   },
   {
    "duration": 230,
    "start_time": "2022-11-24T12:23:41.936Z"
   },
   {
    "duration": 12,
    "start_time": "2022-11-24T12:26:07.871Z"
   },
   {
    "duration": 11,
    "start_time": "2022-11-24T12:26:10.413Z"
   },
   {
    "duration": 14,
    "start_time": "2022-11-24T12:26:13.598Z"
   },
   {
    "duration": 449,
    "start_time": "2022-11-24T12:26:37.234Z"
   },
   {
    "duration": 392,
    "start_time": "2022-11-24T12:29:38.067Z"
   },
   {
    "duration": 423,
    "start_time": "2022-11-24T12:30:30.685Z"
   },
   {
    "duration": 430,
    "start_time": "2022-11-24T12:30:50.720Z"
   },
   {
    "duration": 396,
    "start_time": "2022-11-24T12:31:09.116Z"
   },
   {
    "duration": 545,
    "start_time": "2022-11-24T12:31:16.447Z"
   },
   {
    "duration": 387,
    "start_time": "2022-11-24T12:31:42.530Z"
   },
   {
    "duration": 204,
    "start_time": "2022-11-24T13:47:03.574Z"
   },
   {
    "duration": 131,
    "start_time": "2022-11-24T13:47:14.191Z"
   },
   {
    "duration": 145,
    "start_time": "2022-11-24T13:49:07.110Z"
   },
   {
    "duration": 76225,
    "start_time": "2022-11-24T13:49:26.068Z"
   },
   {
    "duration": 75866,
    "start_time": "2022-11-24T13:51:05.040Z"
   },
   {
    "duration": 78019,
    "start_time": "2022-11-24T13:53:43.830Z"
   },
   {
    "duration": 1663,
    "start_time": "2022-11-24T14:03:37.289Z"
   },
   {
    "duration": 1421,
    "start_time": "2022-11-24T14:04:26.784Z"
   },
   {
    "duration": 1470,
    "start_time": "2022-11-24T14:05:22.095Z"
   },
   {
    "duration": 1482,
    "start_time": "2022-11-24T14:13:22.848Z"
   },
   {
    "duration": 57,
    "start_time": "2022-11-24T14:13:24.333Z"
   },
   {
    "duration": 19,
    "start_time": "2022-11-24T14:13:24.393Z"
   },
   {
    "duration": 13,
    "start_time": "2022-11-24T14:13:24.414Z"
   },
   {
    "duration": 3,
    "start_time": "2022-11-24T14:13:24.429Z"
   },
   {
    "duration": 24,
    "start_time": "2022-11-24T14:13:24.434Z"
   },
   {
    "duration": 75,
    "start_time": "2022-11-24T14:13:24.460Z"
   },
   {
    "duration": 4,
    "start_time": "2022-11-24T14:13:24.537Z"
   },
   {
    "duration": 36,
    "start_time": "2022-11-24T14:13:24.543Z"
   },
   {
    "duration": 3,
    "start_time": "2022-11-24T14:13:24.581Z"
   },
   {
    "duration": 20,
    "start_time": "2022-11-24T14:13:24.586Z"
   },
   {
    "duration": 22,
    "start_time": "2022-11-24T14:13:24.608Z"
   },
   {
    "duration": 12,
    "start_time": "2022-11-24T14:13:24.631Z"
   },
   {
    "duration": 41,
    "start_time": "2022-11-24T14:13:24.645Z"
   },
   {
    "duration": 6,
    "start_time": "2022-11-24T14:13:24.688Z"
   },
   {
    "duration": 15,
    "start_time": "2022-11-24T14:13:24.696Z"
   },
   {
    "duration": 25,
    "start_time": "2022-11-24T14:13:24.713Z"
   },
   {
    "duration": 144,
    "start_time": "2022-11-24T14:13:24.739Z"
   },
   {
    "duration": 424,
    "start_time": "2022-11-24T14:13:24.885Z"
   },
   {
    "duration": 4,
    "start_time": "2022-11-24T14:13:25.311Z"
   },
   {
    "duration": 13,
    "start_time": "2022-11-24T14:13:25.317Z"
   },
   {
    "duration": 28,
    "start_time": "2022-11-24T14:13:25.332Z"
   },
   {
    "duration": 548,
    "start_time": "2022-11-24T14:13:25.362Z"
   },
   {
    "duration": 77612,
    "start_time": "2022-11-24T14:13:25.911Z"
   },
   {
    "duration": 1570,
    "start_time": "2022-11-24T14:14:43.524Z"
   },
   {
    "duration": 10,
    "start_time": "2022-11-24T14:14:45.095Z"
   },
   {
    "duration": 41,
    "start_time": "2022-11-24T14:14:45.106Z"
   },
   {
    "duration": 11,
    "start_time": "2022-11-24T14:14:45.150Z"
   },
   {
    "duration": 171,
    "start_time": "2022-11-24T14:14:45.162Z"
   },
   {
    "duration": 1469,
    "start_time": "2022-11-24T14:14:45.335Z"
   },
   {
    "duration": 320,
    "start_time": "2022-11-24T14:14:46.806Z"
   },
   {
    "duration": 0,
    "start_time": "2022-11-24T14:14:47.127Z"
   },
   {
    "duration": 0,
    "start_time": "2022-11-24T14:14:47.129Z"
   },
   {
    "duration": 0,
    "start_time": "2022-11-24T14:14:47.130Z"
   },
   {
    "duration": 0,
    "start_time": "2022-11-24T14:14:47.131Z"
   },
   {
    "duration": 0,
    "start_time": "2022-11-24T14:14:47.132Z"
   },
   {
    "duration": 0,
    "start_time": "2022-11-24T14:14:47.134Z"
   },
   {
    "duration": 0,
    "start_time": "2022-11-24T14:14:47.136Z"
   },
   {
    "duration": 0,
    "start_time": "2022-11-24T14:14:47.139Z"
   },
   {
    "duration": 0,
    "start_time": "2022-11-24T14:14:47.140Z"
   },
   {
    "duration": 0,
    "start_time": "2022-11-24T14:14:47.141Z"
   },
   {
    "duration": 156,
    "start_time": "2022-11-24T14:17:48.449Z"
   },
   {
    "duration": 1846,
    "start_time": "2022-11-24T14:20:28.174Z"
   },
   {
    "duration": 1815,
    "start_time": "2022-11-24T14:22:00.770Z"
   },
   {
    "duration": 1570,
    "start_time": "2022-11-24T14:22:25.860Z"
   },
   {
    "duration": 1972,
    "start_time": "2022-11-24T14:26:08.496Z"
   },
   {
    "duration": 1842,
    "start_time": "2022-11-24T14:26:24.405Z"
   },
   {
    "duration": 1655,
    "start_time": "2022-11-24T14:27:20.670Z"
   },
   {
    "duration": 1298,
    "start_time": "2022-11-24T14:29:02.419Z"
   },
   {
    "duration": 54,
    "start_time": "2022-11-24T14:29:03.718Z"
   },
   {
    "duration": 11,
    "start_time": "2022-11-24T14:29:03.774Z"
   },
   {
    "duration": 12,
    "start_time": "2022-11-24T14:29:03.787Z"
   },
   {
    "duration": 3,
    "start_time": "2022-11-24T14:29:03.801Z"
   },
   {
    "duration": 10,
    "start_time": "2022-11-24T14:29:03.805Z"
   },
   {
    "duration": 70,
    "start_time": "2022-11-24T14:29:03.816Z"
   },
   {
    "duration": 6,
    "start_time": "2022-11-24T14:29:03.888Z"
   },
   {
    "duration": 39,
    "start_time": "2022-11-24T14:29:03.896Z"
   },
   {
    "duration": 4,
    "start_time": "2022-11-24T14:29:03.939Z"
   },
   {
    "duration": 44,
    "start_time": "2022-11-24T14:29:03.944Z"
   },
   {
    "duration": 32,
    "start_time": "2022-11-24T14:29:03.990Z"
   },
   {
    "duration": 17,
    "start_time": "2022-11-24T14:29:04.024Z"
   },
   {
    "duration": 42,
    "start_time": "2022-11-24T14:29:04.044Z"
   },
   {
    "duration": 4,
    "start_time": "2022-11-24T14:29:04.088Z"
   },
   {
    "duration": 18,
    "start_time": "2022-11-24T14:29:04.095Z"
   },
   {
    "duration": 17,
    "start_time": "2022-11-24T14:29:04.115Z"
   },
   {
    "duration": 181,
    "start_time": "2022-11-24T14:29:04.134Z"
   },
   {
    "duration": 471,
    "start_time": "2022-11-24T14:29:04.317Z"
   },
   {
    "duration": 4,
    "start_time": "2022-11-24T14:29:04.790Z"
   },
   {
    "duration": 19,
    "start_time": "2022-11-24T14:29:04.796Z"
   },
   {
    "duration": 24,
    "start_time": "2022-11-24T14:29:04.818Z"
   },
   {
    "duration": 557,
    "start_time": "2022-11-24T14:29:04.843Z"
   },
   {
    "duration": 76118,
    "start_time": "2022-11-24T14:29:05.402Z"
   },
   {
    "duration": 1424,
    "start_time": "2022-11-24T14:30:21.522Z"
   },
   {
    "duration": 12,
    "start_time": "2022-11-24T14:30:22.948Z"
   },
   {
    "duration": 178,
    "start_time": "2022-11-24T14:30:22.961Z"
   },
   {
    "duration": 12,
    "start_time": "2022-11-24T14:30:23.143Z"
   },
   {
    "duration": 140,
    "start_time": "2022-11-24T14:30:23.157Z"
   },
   {
    "duration": 1720,
    "start_time": "2022-11-24T14:30:23.298Z"
   },
   {
    "duration": 1917,
    "start_time": "2022-11-24T14:30:25.019Z"
   },
   {
    "duration": 0,
    "start_time": "2022-11-24T14:30:26.938Z"
   },
   {
    "duration": 0,
    "start_time": "2022-11-24T14:30:26.939Z"
   },
   {
    "duration": 0,
    "start_time": "2022-11-24T14:30:26.940Z"
   },
   {
    "duration": 0,
    "start_time": "2022-11-24T14:30:26.941Z"
   },
   {
    "duration": 0,
    "start_time": "2022-11-24T14:30:26.943Z"
   },
   {
    "duration": 0,
    "start_time": "2022-11-24T14:30:26.947Z"
   },
   {
    "duration": 0,
    "start_time": "2022-11-24T14:30:26.949Z"
   },
   {
    "duration": 0,
    "start_time": "2022-11-24T14:30:26.950Z"
   },
   {
    "duration": 1712,
    "start_time": "2022-11-24T14:32:06.138Z"
   },
   {
    "duration": 1720,
    "start_time": "2022-11-24T14:32:27.786Z"
   },
   {
    "duration": 1894,
    "start_time": "2022-11-24T14:34:02.793Z"
   },
   {
    "duration": 103319,
    "start_time": "2022-11-24T14:37:06.478Z"
   },
   {
    "duration": 101244,
    "start_time": "2022-11-24T14:45:47.990Z"
   },
   {
    "duration": 95336,
    "start_time": "2022-11-24T14:47:29.236Z"
   },
   {
    "duration": 11,
    "start_time": "2022-11-24T15:06:58.429Z"
   },
   {
    "duration": 10,
    "start_time": "2022-11-24T15:12:07.984Z"
   },
   {
    "duration": 1310,
    "start_time": "2022-11-24T15:12:48.479Z"
   },
   {
    "duration": 53,
    "start_time": "2022-11-24T15:12:49.791Z"
   },
   {
    "duration": 11,
    "start_time": "2022-11-24T15:12:49.845Z"
   },
   {
    "duration": 14,
    "start_time": "2022-11-24T15:12:49.857Z"
   },
   {
    "duration": 3,
    "start_time": "2022-11-24T15:12:49.873Z"
   },
   {
    "duration": 10,
    "start_time": "2022-11-24T15:12:49.877Z"
   },
   {
    "duration": 52,
    "start_time": "2022-11-24T15:12:49.888Z"
   },
   {
    "duration": 4,
    "start_time": "2022-11-24T15:12:49.942Z"
   },
   {
    "duration": 34,
    "start_time": "2022-11-24T15:12:49.947Z"
   },
   {
    "duration": 2,
    "start_time": "2022-11-24T15:12:49.984Z"
   },
   {
    "duration": 20,
    "start_time": "2022-11-24T15:12:49.988Z"
   },
   {
    "duration": 20,
    "start_time": "2022-11-24T15:12:50.009Z"
   },
   {
    "duration": 10,
    "start_time": "2022-11-24T15:12:50.031Z"
   },
   {
    "duration": 41,
    "start_time": "2022-11-24T15:12:50.043Z"
   },
   {
    "duration": 24,
    "start_time": "2022-11-24T15:12:50.085Z"
   },
   {
    "duration": 16,
    "start_time": "2022-11-24T15:12:50.111Z"
   },
   {
    "duration": 12,
    "start_time": "2022-11-24T15:12:50.128Z"
   },
   {
    "duration": 143,
    "start_time": "2022-11-24T15:12:50.142Z"
   },
   {
    "duration": 408,
    "start_time": "2022-11-24T15:12:50.286Z"
   },
   {
    "duration": 5,
    "start_time": "2022-11-24T15:12:50.696Z"
   },
   {
    "duration": 15,
    "start_time": "2022-11-24T15:12:50.702Z"
   },
   {
    "duration": 19,
    "start_time": "2022-11-24T15:12:50.718Z"
   },
   {
    "duration": 477,
    "start_time": "2022-11-24T15:12:50.739Z"
   },
   {
    "duration": 71162,
    "start_time": "2022-11-24T15:12:51.217Z"
   },
   {
    "duration": 1347,
    "start_time": "2022-11-24T15:14:02.381Z"
   },
   {
    "duration": 9,
    "start_time": "2022-11-24T15:14:03.730Z"
   },
   {
    "duration": 165,
    "start_time": "2022-11-24T15:14:03.740Z"
   },
   {
    "duration": 13,
    "start_time": "2022-11-24T15:14:03.908Z"
   },
   {
    "duration": 166,
    "start_time": "2022-11-24T15:14:03.923Z"
   },
   {
    "duration": 1596,
    "start_time": "2022-11-24T15:14:04.091Z"
   },
   {
    "duration": 1694,
    "start_time": "2022-11-24T15:14:05.689Z"
   },
   {
    "duration": 94815,
    "start_time": "2022-11-24T15:14:07.384Z"
   },
   {
    "duration": 96257,
    "start_time": "2022-11-24T15:15:42.200Z"
   },
   {
    "duration": 99,
    "start_time": "2022-11-24T15:17:18.459Z"
   },
   {
    "duration": 0,
    "start_time": "2022-11-24T15:17:18.560Z"
   },
   {
    "duration": 0,
    "start_time": "2022-11-24T15:17:18.561Z"
   },
   {
    "duration": 0,
    "start_time": "2022-11-24T15:17:18.562Z"
   },
   {
    "duration": 0,
    "start_time": "2022-11-24T15:17:18.564Z"
   },
   {
    "duration": 12,
    "start_time": "2022-11-24T15:18:17.058Z"
   },
   {
    "duration": 13,
    "start_time": "2022-11-24T15:19:40.629Z"
   },
   {
    "duration": 13,
    "start_time": "2022-11-24T15:19:44.001Z"
   },
   {
    "duration": 12,
    "start_time": "2022-11-24T15:19:46.787Z"
   },
   {
    "duration": 11,
    "start_time": "2022-11-24T15:19:49.343Z"
   },
   {
    "duration": 11,
    "start_time": "2022-11-24T15:20:00.339Z"
   },
   {
    "duration": 12,
    "start_time": "2022-11-24T15:20:05.277Z"
   },
   {
    "duration": 13,
    "start_time": "2022-11-24T15:21:17.138Z"
   },
   {
    "duration": 15,
    "start_time": "2022-11-24T15:21:46.971Z"
   },
   {
    "duration": 13,
    "start_time": "2022-11-24T15:22:20.031Z"
   },
   {
    "duration": 14,
    "start_time": "2022-11-24T15:22:36.297Z"
   },
   {
    "duration": 13,
    "start_time": "2022-11-24T15:23:04.613Z"
   },
   {
    "duration": 13,
    "start_time": "2022-11-24T15:23:24.372Z"
   },
   {
    "duration": 12,
    "start_time": "2022-11-24T15:23:30.483Z"
   },
   {
    "duration": 13,
    "start_time": "2022-11-24T15:23:35.869Z"
   },
   {
    "duration": 14,
    "start_time": "2022-11-24T15:23:41.968Z"
   },
   {
    "duration": 45,
    "start_time": "2022-11-24T15:38:24.161Z"
   },
   {
    "duration": 3138,
    "start_time": "2022-11-24T15:38:45.057Z"
   },
   {
    "duration": 2956,
    "start_time": "2022-11-24T15:40:45.761Z"
   },
   {
    "duration": 3049,
    "start_time": "2022-11-24T15:41:17.585Z"
   },
   {
    "duration": 3194,
    "start_time": "2022-11-24T15:42:37.860Z"
   },
   {
    "duration": 5,
    "start_time": "2022-11-24T15:43:55.972Z"
   },
   {
    "duration": 3244,
    "start_time": "2022-11-24T15:45:35.468Z"
   },
   {
    "duration": 3602,
    "start_time": "2022-11-24T15:46:15.531Z"
   },
   {
    "duration": 652,
    "start_time": "2022-11-24T15:47:36.352Z"
   },
   {
    "duration": 4,
    "start_time": "2022-11-24T15:47:42.226Z"
   },
   {
    "duration": 3664,
    "start_time": "2022-11-24T15:48:56.520Z"
   },
   {
    "duration": 566,
    "start_time": "2022-11-24T15:49:03.074Z"
   },
   {
    "duration": 5,
    "start_time": "2022-11-24T15:49:08.003Z"
   },
   {
    "duration": 667,
    "start_time": "2022-11-24T15:50:39.753Z"
   },
   {
    "duration": 750,
    "start_time": "2022-11-24T15:50:57.160Z"
   },
   {
    "duration": 673,
    "start_time": "2022-11-24T15:51:31.684Z"
   },
   {
    "duration": 704,
    "start_time": "2022-11-24T15:51:42.934Z"
   },
   {
    "duration": 740,
    "start_time": "2022-11-24T15:53:17.731Z"
   },
   {
    "duration": 89,
    "start_time": "2022-11-24T15:54:22.449Z"
   },
   {
    "duration": 604,
    "start_time": "2022-11-24T15:55:06.588Z"
   },
   {
    "duration": 621,
    "start_time": "2022-11-24T15:55:14.718Z"
   },
   {
    "duration": 653,
    "start_time": "2022-11-24T15:56:54.110Z"
   },
   {
    "duration": 622,
    "start_time": "2022-11-24T15:57:01.398Z"
   },
   {
    "duration": 21,
    "start_time": "2022-11-24T15:59:48.753Z"
   },
   {
    "duration": 507,
    "start_time": "2022-11-24T16:00:05.942Z"
   },
   {
    "duration": 1340,
    "start_time": "2022-11-24T16:00:32.061Z"
   },
   {
    "duration": 51,
    "start_time": "2022-11-24T16:00:33.403Z"
   },
   {
    "duration": 11,
    "start_time": "2022-11-24T16:00:33.455Z"
   },
   {
    "duration": 25,
    "start_time": "2022-11-24T16:00:33.467Z"
   },
   {
    "duration": 9,
    "start_time": "2022-11-24T16:00:33.493Z"
   },
   {
    "duration": 24,
    "start_time": "2022-11-24T16:00:33.503Z"
   },
   {
    "duration": 57,
    "start_time": "2022-11-24T16:00:33.528Z"
   },
   {
    "duration": 4,
    "start_time": "2022-11-24T16:00:33.587Z"
   },
   {
    "duration": 40,
    "start_time": "2022-11-24T16:00:33.592Z"
   },
   {
    "duration": 3,
    "start_time": "2022-11-24T16:00:33.634Z"
   },
   {
    "duration": 29,
    "start_time": "2022-11-24T16:00:33.638Z"
   },
   {
    "duration": 34,
    "start_time": "2022-11-24T16:00:33.668Z"
   },
   {
    "duration": 17,
    "start_time": "2022-11-24T16:00:33.703Z"
   },
   {
    "duration": 15,
    "start_time": "2022-11-24T16:00:33.721Z"
   },
   {
    "duration": 16,
    "start_time": "2022-11-24T16:00:33.738Z"
   },
   {
    "duration": 30,
    "start_time": "2022-11-24T16:00:33.755Z"
   },
   {
    "duration": 18,
    "start_time": "2022-11-24T16:00:33.787Z"
   },
   {
    "duration": 169,
    "start_time": "2022-11-24T16:00:33.806Z"
   },
   {
    "duration": 434,
    "start_time": "2022-11-24T16:00:33.976Z"
   },
   {
    "duration": 4,
    "start_time": "2022-11-24T16:00:34.411Z"
   },
   {
    "duration": 38,
    "start_time": "2022-11-24T16:00:34.417Z"
   },
   {
    "duration": 38,
    "start_time": "2022-11-24T16:00:34.457Z"
   },
   {
    "duration": 460,
    "start_time": "2022-11-24T16:00:34.497Z"
   },
   {
    "duration": 73605,
    "start_time": "2022-11-24T16:00:34.959Z"
   },
   {
    "duration": 1436,
    "start_time": "2022-11-24T16:01:48.566Z"
   },
   {
    "duration": 10,
    "start_time": "2022-11-24T16:01:50.004Z"
   },
   {
    "duration": 181,
    "start_time": "2022-11-24T16:01:50.016Z"
   },
   {
    "duration": 11,
    "start_time": "2022-11-24T16:01:50.202Z"
   },
   {
    "duration": 128,
    "start_time": "2022-11-24T16:01:50.215Z"
   },
   {
    "duration": 1672,
    "start_time": "2022-11-24T16:01:50.344Z"
   },
   {
    "duration": 1384,
    "start_time": "2022-11-24T16:01:52.018Z"
   },
   {
    "duration": 99941,
    "start_time": "2022-11-24T16:01:53.403Z"
   },
   {
    "duration": 74306,
    "start_time": "2022-11-24T16:03:33.345Z"
   },
   {
    "duration": 14,
    "start_time": "2022-11-24T16:04:47.652Z"
   },
   {
    "duration": 2395,
    "start_time": "2022-11-24T16:04:47.667Z"
   },
   {
    "duration": 531,
    "start_time": "2022-11-24T16:04:50.064Z"
   },
   {
    "duration": 3,
    "start_time": "2022-11-24T16:04:50.597Z"
   },
   {
    "duration": 535,
    "start_time": "2022-11-24T16:04:50.601Z"
   },
   {
    "duration": 978,
    "start_time": "2022-11-24T16:04:51.138Z"
   },
   {
    "duration": 1293,
    "start_time": "2022-11-24T16:16:12.384Z"
   },
   {
    "duration": 49,
    "start_time": "2022-11-24T16:16:13.679Z"
   },
   {
    "duration": 13,
    "start_time": "2022-11-24T16:16:13.730Z"
   },
   {
    "duration": 12,
    "start_time": "2022-11-24T16:16:13.745Z"
   },
   {
    "duration": 3,
    "start_time": "2022-11-24T16:16:13.759Z"
   },
   {
    "duration": 10,
    "start_time": "2022-11-24T16:16:13.763Z"
   },
   {
    "duration": 50,
    "start_time": "2022-11-24T16:16:13.774Z"
   },
   {
    "duration": 4,
    "start_time": "2022-11-24T16:16:13.825Z"
   },
   {
    "duration": 26,
    "start_time": "2022-11-24T16:16:13.830Z"
   },
   {
    "duration": 21,
    "start_time": "2022-11-24T16:16:13.858Z"
   },
   {
    "duration": 32,
    "start_time": "2022-11-24T16:16:13.880Z"
   },
   {
    "duration": 30,
    "start_time": "2022-11-24T16:16:13.914Z"
   },
   {
    "duration": 14,
    "start_time": "2022-11-24T16:16:13.946Z"
   },
   {
    "duration": 32,
    "start_time": "2022-11-24T16:16:13.962Z"
   },
   {
    "duration": 8,
    "start_time": "2022-11-24T16:16:13.996Z"
   },
   {
    "duration": 20,
    "start_time": "2022-11-24T16:16:14.006Z"
   },
   {
    "duration": 18,
    "start_time": "2022-11-24T16:16:14.028Z"
   },
   {
    "duration": 170,
    "start_time": "2022-11-24T16:16:14.049Z"
   },
   {
    "duration": 447,
    "start_time": "2022-11-24T16:16:14.220Z"
   },
   {
    "duration": 11,
    "start_time": "2022-11-24T16:16:14.668Z"
   },
   {
    "duration": 18,
    "start_time": "2022-11-24T16:16:14.680Z"
   },
   {
    "duration": 19,
    "start_time": "2022-11-24T16:16:14.700Z"
   },
   {
    "duration": 475,
    "start_time": "2022-11-24T16:16:14.720Z"
   },
   {
    "duration": 72157,
    "start_time": "2022-11-24T16:16:15.197Z"
   },
   {
    "duration": 1372,
    "start_time": "2022-11-24T16:17:27.355Z"
   },
   {
    "duration": 10,
    "start_time": "2022-11-24T16:17:28.728Z"
   },
   {
    "duration": 160,
    "start_time": "2022-11-24T16:17:28.739Z"
   },
   {
    "duration": 11,
    "start_time": "2022-11-24T16:17:28.902Z"
   },
   {
    "duration": 135,
    "start_time": "2022-11-24T16:17:28.914Z"
   },
   {
    "duration": 1669,
    "start_time": "2022-11-24T16:17:29.051Z"
   },
   {
    "duration": 1317,
    "start_time": "2022-11-24T16:17:30.722Z"
   },
   {
    "duration": 96646,
    "start_time": "2022-11-24T16:17:32.041Z"
   },
   {
    "duration": 72090,
    "start_time": "2022-11-24T16:19:08.689Z"
   },
   {
    "duration": 12,
    "start_time": "2022-11-24T16:20:20.781Z"
   },
   {
    "duration": 2226,
    "start_time": "2022-11-24T16:20:20.794Z"
   },
   {
    "duration": 535,
    "start_time": "2022-11-24T16:20:23.021Z"
   },
   {
    "duration": 4,
    "start_time": "2022-11-24T16:20:23.557Z"
   },
   {
    "duration": 563,
    "start_time": "2022-11-24T16:20:23.563Z"
   },
   {
    "duration": 1425,
    "start_time": "2022-11-24T16:25:14.609Z"
   },
   {
    "duration": 57,
    "start_time": "2022-11-24T16:25:16.037Z"
   },
   {
    "duration": 14,
    "start_time": "2022-11-24T16:25:16.096Z"
   },
   {
    "duration": 14,
    "start_time": "2022-11-24T16:25:16.113Z"
   },
   {
    "duration": 4,
    "start_time": "2022-11-24T16:25:16.129Z"
   },
   {
    "duration": 19,
    "start_time": "2022-11-24T16:25:16.135Z"
   },
   {
    "duration": 72,
    "start_time": "2022-11-24T16:25:16.156Z"
   },
   {
    "duration": 6,
    "start_time": "2022-11-24T16:25:16.230Z"
   },
   {
    "duration": 41,
    "start_time": "2022-11-24T16:25:16.238Z"
   },
   {
    "duration": 4,
    "start_time": "2022-11-24T16:25:16.283Z"
   },
   {
    "duration": 19,
    "start_time": "2022-11-24T16:25:16.289Z"
   },
   {
    "duration": 36,
    "start_time": "2022-11-24T16:25:16.311Z"
   },
   {
    "duration": 45,
    "start_time": "2022-11-24T16:25:16.350Z"
   },
   {
    "duration": 20,
    "start_time": "2022-11-24T16:25:16.398Z"
   },
   {
    "duration": 5,
    "start_time": "2022-11-24T16:25:16.419Z"
   },
   {
    "duration": 19,
    "start_time": "2022-11-24T16:25:16.425Z"
   },
   {
    "duration": 33,
    "start_time": "2022-11-24T16:25:16.445Z"
   },
   {
    "duration": 171,
    "start_time": "2022-11-24T16:25:16.480Z"
   },
   {
    "duration": 470,
    "start_time": "2022-11-24T16:25:16.653Z"
   },
   {
    "duration": 5,
    "start_time": "2022-11-24T16:25:17.124Z"
   },
   {
    "duration": 17,
    "start_time": "2022-11-24T16:25:17.130Z"
   },
   {
    "duration": 31,
    "start_time": "2022-11-24T16:25:17.148Z"
   },
   {
    "duration": 549,
    "start_time": "2022-11-24T16:25:17.181Z"
   },
   {
    "duration": 72657,
    "start_time": "2022-11-24T16:25:17.732Z"
   },
   {
    "duration": 1390,
    "start_time": "2022-11-24T16:26:30.391Z"
   },
   {
    "duration": 135,
    "start_time": "2022-11-24T16:26:31.783Z"
   },
   {
    "duration": 12,
    "start_time": "2022-11-24T16:26:31.920Z"
   },
   {
    "duration": 135,
    "start_time": "2022-11-24T16:26:31.935Z"
   },
   {
    "duration": 1627,
    "start_time": "2022-11-24T16:26:32.077Z"
   },
   {
    "duration": 1480,
    "start_time": "2022-11-24T16:26:33.707Z"
   },
   {
    "duration": 96532,
    "start_time": "2022-11-24T16:26:35.189Z"
   },
   {
    "duration": 71989,
    "start_time": "2022-11-24T16:28:11.723Z"
   },
   {
    "duration": 13,
    "start_time": "2022-11-24T16:29:23.713Z"
   },
   {
    "duration": 2315,
    "start_time": "2022-11-24T16:29:23.728Z"
   },
   {
    "duration": 516,
    "start_time": "2022-11-24T16:29:26.044Z"
   },
   {
    "duration": 3,
    "start_time": "2022-11-24T16:29:26.562Z"
   },
   {
    "duration": 538,
    "start_time": "2022-11-24T16:29:26.567Z"
   },
   {
    "duration": 77,
    "start_time": "2022-11-25T09:03:16.819Z"
   },
   {
    "duration": 1625,
    "start_time": "2022-11-28T07:47:14.437Z"
   },
   {
    "duration": 178,
    "start_time": "2022-11-28T07:47:16.064Z"
   },
   {
    "duration": 12,
    "start_time": "2022-11-28T07:47:16.244Z"
   },
   {
    "duration": 15,
    "start_time": "2022-11-28T07:47:16.259Z"
   },
   {
    "duration": 14,
    "start_time": "2022-11-28T07:47:16.275Z"
   },
   {
    "duration": 10,
    "start_time": "2022-11-28T07:47:16.291Z"
   },
   {
    "duration": 69,
    "start_time": "2022-11-28T07:47:16.302Z"
   },
   {
    "duration": 5,
    "start_time": "2022-11-28T07:47:16.373Z"
   },
   {
    "duration": 28,
    "start_time": "2022-11-28T07:47:16.380Z"
   },
   {
    "duration": 5,
    "start_time": "2022-11-28T07:47:16.424Z"
   },
   {
    "duration": 29,
    "start_time": "2022-11-28T07:47:16.432Z"
   },
   {
    "duration": 24,
    "start_time": "2022-11-28T07:47:16.463Z"
   },
   {
    "duration": 36,
    "start_time": "2022-11-28T07:47:16.488Z"
   },
   {
    "duration": 15,
    "start_time": "2022-11-28T07:47:16.525Z"
   },
   {
    "duration": 6,
    "start_time": "2022-11-28T07:47:16.541Z"
   },
   {
    "duration": 17,
    "start_time": "2022-11-28T07:47:16.548Z"
   },
   {
    "duration": 12,
    "start_time": "2022-11-28T07:47:16.566Z"
   },
   {
    "duration": 242,
    "start_time": "2022-11-28T07:47:16.580Z"
   },
   {
    "duration": 523,
    "start_time": "2022-11-28T07:47:16.824Z"
   },
   {
    "duration": 5,
    "start_time": "2022-11-28T07:47:17.349Z"
   },
   {
    "duration": 26,
    "start_time": "2022-11-28T07:47:17.356Z"
   },
   {
    "duration": 29,
    "start_time": "2022-11-28T07:47:17.384Z"
   },
   {
    "duration": 514,
    "start_time": "2022-11-28T07:47:17.422Z"
   },
   {
    "duration": 79459,
    "start_time": "2022-11-28T07:47:17.937Z"
   },
   {
    "duration": 1525,
    "start_time": "2022-11-28T07:48:37.398Z"
   },
   {
    "duration": 145,
    "start_time": "2022-11-28T07:48:38.924Z"
   },
   {
    "duration": 13,
    "start_time": "2022-11-28T07:48:39.070Z"
   },
   {
    "duration": 143,
    "start_time": "2022-11-28T07:48:39.087Z"
   },
   {
    "duration": 1754,
    "start_time": "2022-11-28T07:48:39.231Z"
   },
   {
    "duration": 1489,
    "start_time": "2022-11-28T07:48:40.986Z"
   },
   {
    "duration": 105938,
    "start_time": "2022-11-28T07:48:42.477Z"
   },
   {
    "duration": 77235,
    "start_time": "2022-11-28T07:50:28.421Z"
   },
   {
    "duration": 14,
    "start_time": "2022-11-28T07:51:45.657Z"
   },
   {
    "duration": 2456,
    "start_time": "2022-11-28T07:51:45.672Z"
   },
   {
    "duration": 549,
    "start_time": "2022-11-28T07:51:48.130Z"
   },
   {
    "duration": 3,
    "start_time": "2022-11-28T07:51:48.680Z"
   },
   {
    "duration": 574,
    "start_time": "2022-11-28T07:51:48.685Z"
   }
  ],
  "kernelspec": {
   "display_name": "Python 3 (ipykernel)",
   "language": "python",
   "name": "python3"
  },
  "language_info": {
   "codemirror_mode": {
    "name": "ipython",
    "version": 3
   },
   "file_extension": ".py",
   "mimetype": "text/x-python",
   "name": "python",
   "nbconvert_exporter": "python",
   "pygments_lexer": "ipython3",
   "version": "3.9.15"
  },
  "toc": {
   "base_numbering": 1,
   "nav_menu": {},
   "number_sections": true,
   "sideBar": true,
   "skip_h1_title": true,
   "title_cell": "Содержание",
   "title_sidebar": "Contents",
   "toc_cell": true,
   "toc_position": {
    "height": "calc(100% - 180px)",
    "left": "10px",
    "top": "150px",
    "width": "165px"
   },
   "toc_section_display": true,
   "toc_window_display": false
  }
 },
 "nbformat": 4,
 "nbformat_minor": 2
}
