{
 "cells": [
  {
   "cell_type": "markdown",
   "metadata": {
    "id": "E0vqbgi9ay0H"
   },
   "source": [
    "# Яндекс.Музыка"
   ]
  },
  {
   "cell_type": "markdown",
   "metadata": {
    "id": "VUC88oWjTJw2"
   },
   "source": [
    "Сравнение Москвы и Петербурга окружено мифами. Например:\n",
    " * Москва — мегаполис, подчинённый жёсткому ритму рабочей недели;\n",
    " * Петербург — культурная столица, со своими вкусами.\n",
    "\n",
    "На данных Яндекс.Музыки мы сравним поведение пользователей двух столиц.\n",
    "\n",
    "**Цель исследования** — проверим три гипотезы:\n",
    "1. Активность пользователей зависит от дня недели. Причём в Москве и Петербурге это проявляется по-разному.\n",
    "2. В понедельник утром в Москве преобладают одни жанры, а в Петербурге — другие. Так же и вечером пятницы преобладают разные жанры — в зависимости от города. \n",
    "3. Москва и Петербург предпочитают разные жанры музыки. В Москве чаще слушают поп-музыку, в Петербурге — русский рэп.\n",
    "\n",
    "**Ход исследования**\n",
    "\n",
    "Данные о поведении пользователей мы получим из файла `yandex_music_project.csv`. О качестве данных ничего не известно. Поэтому перед проверкой гипотез понадобится обзор данных. \n",
    "\n",
    "Мы проверим данные на ошибки и оценим их влияние на исследование. Затем, на этапе предобработки мы поищем возможность исправить самые критичные ошибки данных.\n",
    " \n",
    "Таким образом, исследование пройдёт в три этапа:\n",
    " 1. Обзор данных.\n",
    " 2. Предобработка данных.\n",
    " 3. Проверка гипотез.\n",
    "\n"
   ]
  },
  {
   "cell_type": "markdown",
   "metadata": {
    "id": "Ml1hmfXC_Zcs"
   },
   "source": [
    "## Обзор данных\n",
    "\n",
    "Составим первое представление о данных Яндекс.Музыки.\n",
    "\n",
    "\n"
   ]
  },
  {
   "cell_type": "markdown",
   "metadata": {
    "id": "57eAOGIz_Zcs"
   },
   "source": [
    "Основной инструмент аналитика — `pandas`. Импортируем эту библиотеку командой `import`. Сохраним библиотеку в переменной, через которую можно вызвать её методы. Такую переменную принято называть `pd`."
   ]
  },
  {
   "cell_type": "code",
   "execution_count": 1,
   "metadata": {
    "id": "AXN7PHPN_Zcs"
   },
   "outputs": [],
   "source": [
    "import pandas as pd"
   ]
  },
  {
   "cell_type": "markdown",
   "metadata": {
    "id": "SG23P8tt_Zcs"
   },
   "source": [
    " Прочитаем файл `yandex_music_project.csv` из папки `/datasets`, с помощью метода `read_csv`, используя в качестве аргумента абсолютный путь к файлу и сохраним его в переменной `df`:"
   ]
  },
  {
   "cell_type": "code",
   "execution_count": 2,
   "metadata": {
    "id": "fFVu7vqh_Zct"
   },
   "outputs": [],
   "source": [
    "df = pd.read_csv('/datasets/yandex_music_project.csv')"
   ]
  },
  {
   "cell_type": "markdown",
   "metadata": {
    "id": "rDoOMd3uTqnZ"
   },
   "source": [
    "Выведем с помощью функции `display` на экран первые десять строк таблицы, приминив для этого метод `head`:"
   ]
  },
  {
   "cell_type": "code",
   "execution_count": 3,
   "metadata": {
    "id": "oWTVX3gW_Zct"
   },
   "outputs": [
    {
     "data": {
      "text/html": [
       "<div>\n",
       "<style scoped>\n",
       "    .dataframe tbody tr th:only-of-type {\n",
       "        vertical-align: middle;\n",
       "    }\n",
       "\n",
       "    .dataframe tbody tr th {\n",
       "        vertical-align: top;\n",
       "    }\n",
       "\n",
       "    .dataframe thead th {\n",
       "        text-align: right;\n",
       "    }\n",
       "</style>\n",
       "<table border=\"1\" class=\"dataframe\">\n",
       "  <thead>\n",
       "    <tr style=\"text-align: right;\">\n",
       "      <th></th>\n",
       "      <th>userID</th>\n",
       "      <th>Track</th>\n",
       "      <th>artist</th>\n",
       "      <th>genre</th>\n",
       "      <th>City</th>\n",
       "      <th>time</th>\n",
       "      <th>Day</th>\n",
       "    </tr>\n",
       "  </thead>\n",
       "  <tbody>\n",
       "    <tr>\n",
       "      <td>0</td>\n",
       "      <td>FFB692EC</td>\n",
       "      <td>Kamigata To Boots</td>\n",
       "      <td>The Mass Missile</td>\n",
       "      <td>rock</td>\n",
       "      <td>Saint-Petersburg</td>\n",
       "      <td>20:28:33</td>\n",
       "      <td>Wednesday</td>\n",
       "    </tr>\n",
       "    <tr>\n",
       "      <td>1</td>\n",
       "      <td>55204538</td>\n",
       "      <td>Delayed Because of Accident</td>\n",
       "      <td>Andreas Rönnberg</td>\n",
       "      <td>rock</td>\n",
       "      <td>Moscow</td>\n",
       "      <td>14:07:09</td>\n",
       "      <td>Friday</td>\n",
       "    </tr>\n",
       "    <tr>\n",
       "      <td>2</td>\n",
       "      <td>20EC38</td>\n",
       "      <td>Funiculì funiculà</td>\n",
       "      <td>Mario Lanza</td>\n",
       "      <td>pop</td>\n",
       "      <td>Saint-Petersburg</td>\n",
       "      <td>20:58:07</td>\n",
       "      <td>Wednesday</td>\n",
       "    </tr>\n",
       "    <tr>\n",
       "      <td>3</td>\n",
       "      <td>A3DD03C9</td>\n",
       "      <td>Dragons in the Sunset</td>\n",
       "      <td>Fire + Ice</td>\n",
       "      <td>folk</td>\n",
       "      <td>Saint-Petersburg</td>\n",
       "      <td>08:37:09</td>\n",
       "      <td>Monday</td>\n",
       "    </tr>\n",
       "    <tr>\n",
       "      <td>4</td>\n",
       "      <td>E2DC1FAE</td>\n",
       "      <td>Soul People</td>\n",
       "      <td>Space Echo</td>\n",
       "      <td>dance</td>\n",
       "      <td>Moscow</td>\n",
       "      <td>08:34:34</td>\n",
       "      <td>Monday</td>\n",
       "    </tr>\n",
       "    <tr>\n",
       "      <td>5</td>\n",
       "      <td>842029A1</td>\n",
       "      <td>Преданная</td>\n",
       "      <td>IMPERVTOR</td>\n",
       "      <td>rusrap</td>\n",
       "      <td>Saint-Petersburg</td>\n",
       "      <td>13:09:41</td>\n",
       "      <td>Friday</td>\n",
       "    </tr>\n",
       "    <tr>\n",
       "      <td>6</td>\n",
       "      <td>4CB90AA5</td>\n",
       "      <td>True</td>\n",
       "      <td>Roman Messer</td>\n",
       "      <td>dance</td>\n",
       "      <td>Moscow</td>\n",
       "      <td>13:00:07</td>\n",
       "      <td>Wednesday</td>\n",
       "    </tr>\n",
       "    <tr>\n",
       "      <td>7</td>\n",
       "      <td>F03E1C1F</td>\n",
       "      <td>Feeling This Way</td>\n",
       "      <td>Polina Griffith</td>\n",
       "      <td>dance</td>\n",
       "      <td>Moscow</td>\n",
       "      <td>20:47:49</td>\n",
       "      <td>Wednesday</td>\n",
       "    </tr>\n",
       "    <tr>\n",
       "      <td>8</td>\n",
       "      <td>8FA1D3BE</td>\n",
       "      <td>И вновь продолжается бой</td>\n",
       "      <td>NaN</td>\n",
       "      <td>ruspop</td>\n",
       "      <td>Moscow</td>\n",
       "      <td>09:17:40</td>\n",
       "      <td>Friday</td>\n",
       "    </tr>\n",
       "    <tr>\n",
       "      <td>9</td>\n",
       "      <td>E772D5C0</td>\n",
       "      <td>Pessimist</td>\n",
       "      <td>NaN</td>\n",
       "      <td>dance</td>\n",
       "      <td>Saint-Petersburg</td>\n",
       "      <td>21:20:49</td>\n",
       "      <td>Wednesday</td>\n",
       "    </tr>\n",
       "  </tbody>\n",
       "</table>\n",
       "</div>"
      ],
      "text/plain": [
       "     userID                        Track            artist   genre  \\\n",
       "0  FFB692EC            Kamigata To Boots  The Mass Missile    rock   \n",
       "1  55204538  Delayed Because of Accident  Andreas Rönnberg    rock   \n",
       "2    20EC38            Funiculì funiculà       Mario Lanza     pop   \n",
       "3  A3DD03C9        Dragons in the Sunset        Fire + Ice    folk   \n",
       "4  E2DC1FAE                  Soul People        Space Echo   dance   \n",
       "5  842029A1                    Преданная         IMPERVTOR  rusrap   \n",
       "6  4CB90AA5                         True      Roman Messer   dance   \n",
       "7  F03E1C1F             Feeling This Way   Polina Griffith   dance   \n",
       "8  8FA1D3BE     И вновь продолжается бой               NaN  ruspop   \n",
       "9  E772D5C0                    Pessimist               NaN   dance   \n",
       "\n",
       "             City        time        Day  \n",
       "0  Saint-Petersburg  20:28:33  Wednesday  \n",
       "1            Moscow  14:07:09     Friday  \n",
       "2  Saint-Petersburg  20:58:07  Wednesday  \n",
       "3  Saint-Petersburg  08:37:09     Monday  \n",
       "4            Moscow  08:34:34     Monday  \n",
       "5  Saint-Petersburg  13:09:41     Friday  \n",
       "6            Moscow  13:00:07  Wednesday  \n",
       "7            Moscow  20:47:49  Wednesday  \n",
       "8            Moscow  09:17:40     Friday  \n",
       "9  Saint-Petersburg  21:20:49  Wednesday  "
      ]
     },
     "metadata": {},
     "output_type": "display_data"
    }
   ],
   "source": [
    "display(df.head(10))"
   ]
  },
  {
   "cell_type": "markdown",
   "metadata": {
    "id": "EO73Kwic_Zct"
   },
   "source": [
    "Используя метод `.info()`, одной командой получим общую информацию о таблице:"
   ]
  },
  {
   "cell_type": "code",
   "execution_count": 4,
   "metadata": {
    "id": "DSf2kIb-_Zct"
   },
   "outputs": [
    {
     "name": "stdout",
     "output_type": "stream",
     "text": [
      "<class 'pandas.core.frame.DataFrame'>\n",
      "RangeIndex: 65079 entries, 0 to 65078\n",
      "Data columns (total 7 columns):\n",
      "  userID    65079 non-null object\n",
      "Track       63848 non-null object\n",
      "artist      57876 non-null object\n",
      "genre       63881 non-null object\n",
      "  City      65079 non-null object\n",
      "time        65079 non-null object\n",
      "Day         65079 non-null object\n",
      "dtypes: object(7)\n",
      "memory usage: 3.5+ MB\n"
     ]
    }
   ],
   "source": [
    "df.info()"
   ]
  },
  {
   "cell_type": "markdown",
   "metadata": {
    "id": "TaQ2Iwbr_Zct"
   },
   "source": [
    "Итак, в таблице семь столбцов. Тип данных во всех столбцах — `object`.\n",
    "\n",
    "Согласно документации к данным:\n",
    "* `userID` — идентификатор пользователя;\n",
    "* `Track` — название трека;  \n",
    "* `artist` — имя исполнителя;\n",
    "* `genre` — название жанра;\n",
    "* `City` — город пользователя;\n",
    "* `time` — время начала прослушивания;\n",
    "* `Day` — день недели.\n",
    "\n",
    "В названиях колонок видны три нарушения стиля:\n",
    "1. Строчные буквы сочетаются с прописными.\n",
    "2. Встречаются пробелы.\n",
    "3. Не все слова приведены к \"змеиному_регистру\".\n",
    "\n",
    "\n",
    "\n",
    "Количество значений в столбцах различается. Значит, в данных есть пропущенные значения.\n"
   ]
  },
  {
   "cell_type": "markdown",
   "metadata": {
    "id": "MCB6-dXG_Zct"
   },
   "source": [
    "**Выводы**\n",
    "\n",
    "В каждой строке таблицы — данные о прослушанном треке. Часть колонок описывает саму композицию: название, исполнителя и жанр. Остальные данные рассказывают о пользователе: из какого он города, когда он слушал музыку. \n",
    "\n",
    "Предварительно можно утверждать, что, данных достаточно для проверки гипотез. Но встречаются пропуски в данных, а в названиях колонок — расхождения с хорошим стилем.\n",
    "\n",
    "Чтобы двигаться дальше, нужно устранить проблемы в данных."
   ]
  },
  {
   "cell_type": "markdown",
   "metadata": {
    "id": "SjYF6Ub9_Zct"
   },
   "source": [
    "## Предобработка данных\n",
    "Исправим стиль в заголовках столбцов, исключим пропуски. Затем проверим данные на дубликаты."
   ]
  },
  {
   "cell_type": "markdown",
   "metadata": {
    "id": "dIaKXr29_Zct"
   },
   "source": [
    "### Стиль заголовков\n",
    "Выведим на экран названия столбцов с помощью функции `print`, используя атрибут `columns`:"
   ]
  },
  {
   "cell_type": "code",
   "execution_count": 6,
   "metadata": {
    "id": "oKOTdF_Q_Zct"
   },
   "outputs": [
    {
     "data": {
      "text/plain": [
       "Index(['  userID', 'Track', 'artist', 'genre', '  City  ', 'time', 'Day'], dtype='object')"
      ]
     },
     "execution_count": 6,
     "metadata": {},
     "output_type": "execute_result"
    }
   ],
   "source": [
    "df.columns"
   ]
  },
  {
   "cell_type": "markdown",
   "metadata": {
    "id": "zj5534cv_Zct"
   },
   "source": [
    "Приведём названия в соответствие с хорошим стилем:\n",
    "* несколько слов в названии запишем в «змеином_регистре»,\n",
    "* все символы сделаем строчными,\n",
    "* устраним пробелы.\n",
    "\n",
    "Для этого переименуем колонки так:\n",
    "* `'  userID'` → `'user_id'`;\n",
    "* `'Track'` → `'track'`;\n",
    "* `'  City  '` → `'city'`;\n",
    "* `'Day'` → `'day'`.\n",
    "\n",
    "Для переименования столбцов вызовем метод датафреймов `rename()`. У него один параметр, `columns`. Это словарь, в котором ключи — старые названия столбцов, а значения — новые."
   ]
  },
  {
   "cell_type": "code",
   "execution_count": 105,
   "metadata": {
    "id": "ISlFqs5y_Zct"
   },
   "outputs": [],
   "source": [
    "df = df.rename(columns={'  userID': 'user_id', 'Track': 'track', '  City  ': 'city', 'Day': 'day'})"
   ]
  },
  {
   "cell_type": "markdown",
   "metadata": {
    "id": "1dqbh00J_Zct"
   },
   "source": [
    "Проверим результат. Для этого ещё раз выведем на экран названия столбцов:"
   ]
  },
  {
   "cell_type": "code",
   "execution_count": 106,
   "metadata": {
    "id": "d4NOAmTW_Zct"
   },
   "outputs": [
    {
     "data": {
      "text/plain": [
       "Index(['user_id', 'track', 'artist', 'genre', 'city', 'time', 'day'], dtype='object')"
      ]
     },
     "execution_count": 106,
     "metadata": {},
     "output_type": "execute_result"
    }
   ],
   "source": [
    "df.columns"
   ]
  },
  {
   "cell_type": "markdown",
   "metadata": {
    "id": "5ISfbcfY_Zct"
   },
   "source": [
    "### Пропуски значений\n",
    "Сначала посчитаем, сколько в таблице пропущенных значений. Для этого достаточно двух методов `pandas`. Метод `.isna()` найдёт все пропуски в таблице, а метод `sum()` посчитает их количество:"
   ]
  },
  {
   "cell_type": "code",
   "execution_count": 107,
   "metadata": {
    "id": "RskX29qr_Zct"
   },
   "outputs": [
    {
     "data": {
      "text/plain": [
       "user_id       0\n",
       "track      1231\n",
       "artist     7203\n",
       "genre      1198\n",
       "city          0\n",
       "time          0\n",
       "day           0\n",
       "dtype: int64"
      ]
     },
     "execution_count": 107,
     "metadata": {},
     "output_type": "execute_result"
    }
   ],
   "source": [
    "df.isna().sum()"
   ]
  },
  {
   "cell_type": "markdown",
   "metadata": {
    "id": "qubhgnlO_Zct"
   },
   "source": [
    "Не все пропущенные значения влияют на исследование. Так в `track` и `artist` пропуски не важны для нашей работы. Достаточно заменить их явными обозначениями.\n",
    "\n",
    "Но пропуски в `genre` могут помешать сравнению музыкальных вкусов в Москве и Санкт-Петербурге. На практике было бы правильно установить причину пропусков и восстановить данные. Такой возможности нет в учебном проекте. Придётся:\n",
    "* заполнить и эти пропуски явными обозначениями,\n",
    "* оценить, насколько они повредят расчётам. "
   ]
  },
  {
   "cell_type": "markdown",
   "metadata": {
    "id": "fSv2laPA_Zct"
   },
   "source": [
    "Заменим пропущенные значения в столбцах `track`, `artist` и `genre` на строку `'unknown'`. Для этого созадим список `columns_to_replace`, переберём его элементы циклом `for` и для каждого столбца выполним замену пропущенных значений. Для этого вызывают специальный метод `fillna()`. Он вернёт копию исходного столбца, заменяя все пропущенные значения на значение из аргумента:"
   ]
  },
  {
   "cell_type": "code",
   "execution_count": 108,
   "metadata": {
    "id": "KplB5qWs_Zct"
   },
   "outputs": [],
   "source": [
    "columns_to_replace = ['track', 'artist', 'genre']\n",
    "\n",
    "for columns in columns_to_replace:\n",
    "    df[columns] = df[columns].fillna('unknown')"
   ]
  },
  {
   "cell_type": "markdown",
   "metadata": {
    "id": "Ilsm-MZo_Zct"
   },
   "source": [
    "Убедимся, что в таблице не осталось пропусков. Для этого ещё раз посчитайте пропущенные значения."
   ]
  },
  {
   "cell_type": "code",
   "execution_count": 109,
   "metadata": {
    "id": "Tq4nYRX4_Zct"
   },
   "outputs": [
    {
     "data": {
      "text/plain": [
       "user_id    0\n",
       "track      0\n",
       "artist     0\n",
       "genre      0\n",
       "city       0\n",
       "time       0\n",
       "day        0\n",
       "dtype: int64"
      ]
     },
     "execution_count": 109,
     "metadata": {},
     "output_type": "execute_result"
    }
   ],
   "source": [
    "df.isna().sum()"
   ]
  },
  {
   "cell_type": "markdown",
   "metadata": {
    "id": "BWKRtBJ3_Zct"
   },
   "source": [
    "### Дубликаты\n",
    "Посчитаем явные дубликаты в таблице одной командой. В `pandas` для этого есть специальный метод `duplicated()`:"
   ]
  },
  {
   "cell_type": "code",
   "execution_count": 110,
   "metadata": {
    "id": "36eES_S0_Zct"
   },
   "outputs": [
    {
     "data": {
      "text/plain": [
       "3826"
      ]
     },
     "execution_count": 110,
     "metadata": {},
     "output_type": "execute_result"
    }
   ],
   "source": [
    "df.duplicated().sum()"
   ]
  },
  {
   "cell_type": "markdown",
   "metadata": {
    "id": "Ot25h6XR_Zct"
   },
   "source": [
    "Вызовем специальный метод `drop_duplicates()` в `pandas`, чтобы удалить явные дубликаты.Так же используем метод `reset_index()` c аргументом `drop=True` для того, чтобы удалить старые индексы и сфомировать новые:"
   ]
  },
  {
   "cell_type": "code",
   "execution_count": 111,
   "metadata": {
    "id": "exFHq6tt_Zct"
   },
   "outputs": [],
   "source": [
    "df = df.drop_duplicates().reset_index(drop=True)"
   ]
  },
  {
   "cell_type": "markdown",
   "metadata": {
    "id": "Im2YwBEG_Zct"
   },
   "source": [
    "Ещё раз посчитаем явные дубликаты в таблице — убедимся, что полностью от них избавились:"
   ]
  },
  {
   "cell_type": "code",
   "execution_count": 112,
   "metadata": {
    "id": "-8PuNWQ0_Zct"
   },
   "outputs": [
    {
     "name": "stdout",
     "output_type": "stream",
     "text": [
      "0\n"
     ]
    }
   ],
   "source": [
    "print(df.duplicated().sum())"
   ]
  },
  {
   "cell_type": "markdown",
   "metadata": {
    "id": "QlFBsxAr_Zct"
   },
   "source": [
    "Теперь избавимся от неявных дубликатов в колонке `genre`, для этого используем метод `unique()`. Например, название одного и того же жанра может быть записано немного по-разному. Такие ошибки тоже повлияют на результат исследования."
   ]
  },
  {
   "cell_type": "markdown",
   "metadata": {
    "id": "eSjWwsOh_Zct"
   },
   "source": [
    "Выведим на экран список уникальных названий жанров, отсортированный в алфавитном порядке. Для этого:\n",
    "* извлечём нужный столбец датафрейма, \n",
    "* применим к нему метод сортировки,\n",
    "* для отсортированного столбца вызовем метод, который вернёт уникальные значения из столбца."
   ]
  },
  {
   "cell_type": "code",
   "execution_count": 113,
   "metadata": {
    "id": "JIUcqzZN_Zct",
    "scrolled": true
   },
   "outputs": [
    {
     "data": {
      "text/plain": [
       "array(['acid', 'acoustic', 'action', 'adult', 'africa', 'afrikaans',\n",
       "       'alternative', 'alternativepunk', 'ambient', 'americana',\n",
       "       'animated', 'anime', 'arabesk', 'arabic', 'arena',\n",
       "       'argentinetango', 'art', 'audiobook', 'author', 'avantgarde',\n",
       "       'axé', 'baile', 'balkan', 'beats', 'bigroom', 'black', 'bluegrass',\n",
       "       'blues', 'bollywood', 'bossa', 'brazilian', 'breakbeat', 'breaks',\n",
       "       'broadway', 'cantautori', 'cantopop', 'canzone', 'caribbean',\n",
       "       'caucasian', 'celtic', 'chamber', 'chanson', 'children', 'chill',\n",
       "       'chinese', 'choral', 'christian', 'christmas', 'classical',\n",
       "       'classicmetal', 'club', 'colombian', 'comedy', 'conjazz',\n",
       "       'contemporary', 'country', 'cuban', 'dance', 'dancehall',\n",
       "       'dancepop', 'dark', 'death', 'deep', 'deutschrock', 'deutschspr',\n",
       "       'dirty', 'disco', 'dnb', 'documentary', 'downbeat', 'downtempo',\n",
       "       'drum', 'dub', 'dubstep', 'eastern', 'easy', 'electronic',\n",
       "       'electropop', 'emo', 'entehno', 'epicmetal', 'estrada', 'ethnic',\n",
       "       'eurofolk', 'european', 'experimental', 'extrememetal', 'fado',\n",
       "       'fairytail', 'film', 'fitness', 'flamenco', 'folk', 'folklore',\n",
       "       'folkmetal', 'folkrock', 'folktronica', 'forró', 'frankreich',\n",
       "       'französisch', 'french', 'funk', 'future', 'gangsta', 'garage',\n",
       "       'german', 'ghazal', 'gitarre', 'glitch', 'gospel', 'gothic',\n",
       "       'grime', 'grunge', 'gypsy', 'handsup', \"hard'n'heavy\", 'hardcore',\n",
       "       'hardstyle', 'hardtechno', 'hip', 'hip-hop', 'hiphop',\n",
       "       'historisch', 'holiday', 'hop', 'horror', 'house', 'hymn', 'idm',\n",
       "       'independent', 'indian', 'indie', 'indipop', 'industrial',\n",
       "       'inspirational', 'instrumental', 'international', 'irish', 'jam',\n",
       "       'japanese', 'jazz', 'jewish', 'jpop', 'jungle', 'k-pop',\n",
       "       'karadeniz', 'karaoke', 'kayokyoku', 'korean', 'laiko', 'latin',\n",
       "       'latino', 'leftfield', 'local', 'lounge', 'loungeelectronic',\n",
       "       'lovers', 'malaysian', 'mandopop', 'marschmusik', 'meditative',\n",
       "       'mediterranean', 'melodic', 'metal', 'metalcore', 'mexican',\n",
       "       'middle', 'minimal', 'miscellaneous', 'modern', 'mood', 'mpb',\n",
       "       'muslim', 'native', 'neoklassik', 'neue', 'new', 'newage',\n",
       "       'newwave', 'nu', 'nujazz', 'numetal', 'oceania', 'old', 'opera',\n",
       "       'orchestral', 'other', 'piano', 'podcasts', 'pop', 'popdance',\n",
       "       'popelectronic', 'popeurodance', 'poprussian', 'post',\n",
       "       'posthardcore', 'postrock', 'power', 'progmetal', 'progressive',\n",
       "       'psychedelic', 'punjabi', 'punk', 'quebecois', 'ragga', 'ram',\n",
       "       'rancheras', 'rap', 'rave', 'reggae', 'reggaeton', 'regional',\n",
       "       'relax', 'religious', 'retro', 'rhythm', 'rnb', 'rnr', 'rock',\n",
       "       'rockabilly', 'rockalternative', 'rockindie', 'rockother',\n",
       "       'romance', 'roots', 'ruspop', 'rusrap', 'rusrock', 'russian',\n",
       "       'salsa', 'samba', 'scenic', 'schlager', 'self', 'sertanejo',\n",
       "       'shanson', 'shoegazing', 'showtunes', 'singer', 'ska', 'skarock',\n",
       "       'slow', 'smooth', 'soft', 'soul', 'soulful', 'sound', 'soundtrack',\n",
       "       'southern', 'specialty', 'speech', 'spiritual', 'sport',\n",
       "       'stonerrock', 'surf', 'swing', 'synthpop', 'synthrock',\n",
       "       'sängerportrait', 'tango', 'tanzorchester', 'taraftar', 'tatar',\n",
       "       'tech', 'techno', 'teen', 'thrash', 'top', 'traditional',\n",
       "       'tradjazz', 'trance', 'tribal', 'trip', 'triphop', 'tropical',\n",
       "       'türk', 'türkçe', 'ukrrock', 'unknown', 'urban', 'uzbek',\n",
       "       'variété', 'vi', 'videogame', 'vocal', 'western', 'world',\n",
       "       'worldbeat', 'ïîï', 'электроника'], dtype=object)"
      ]
     },
     "execution_count": 113,
     "metadata": {},
     "output_type": "execute_result"
    }
   ],
   "source": [
    "df.sort_values(by='genre')['genre'].unique()"
   ]
  },
  {
   "cell_type": "markdown",
   "metadata": {
    "id": "qej-Qmuo_Zct"
   },
   "source": [
    "Просмотрим список и найдём неявные дубликаты названия `hiphop`. Это могут быть названия с ошибками или альтернативные названия того же жанра.\n",
    "\n",
    "Мы увидим следующие неявные дубликаты:\n",
    "* *hip*,\n",
    "* *hop*,\n",
    "* *hip-hop*.\n",
    "\n",
    "Чтобы очистить от них таблицу, напишем функцию `replace_wrong_genres()` с двумя параметрами: \n",
    "* `wrong_genres` — список дубликатов,\n",
    "* `correct_genre` — строка с правильным значением.\n",
    "\n",
    "Функция должна исправить колонку `genre` в таблице `df`: заменить каждое значение из списка `wrong_genres` на значение из `correct_genre` при помощи метода `replace()`."
   ]
  },
  {
   "cell_type": "code",
   "execution_count": 114,
   "metadata": {
    "id": "ErNDkmns_Zct"
   },
   "outputs": [],
   "source": [
    "def replace_wrong_genres(wrong_genres, correct_genre):\n",
    "    for wrong_value in wrong_genres:\n",
    "        df['genre'] = df['genre'].replace(wrong_genres, correct_genre)"
   ]
  },
  {
   "cell_type": "markdown",
   "metadata": {
    "id": "aDoBJxbA_Zct"
   },
   "source": [
    "Вызовем `replace_wrong_genres()` и передадим ей такие аргументы, чтобы она устранила неявные дубликаты: вместо `hip`, `hop` и `hip-hop` в таблице должно быть значение `hiphop`:"
   ]
  },
  {
   "cell_type": "code",
   "execution_count": 115,
   "metadata": {
    "id": "YN5i2hpmSo09"
   },
   "outputs": [],
   "source": [
    "duplicates = ['hip', 'hop', 'hip-hop']\n",
    "correct_name = 'hiphop'\n",
    "replace_wrong_genres(duplicates, correct_name)"
   ]
  },
  {
   "cell_type": "markdown",
   "metadata": {
    "id": "zQKF16_RG15m"
   },
   "source": [
    "Проверим, что заменили неправильные названия:\n",
    "\n",
    "*   hip\n",
    "*   hop\n",
    "*   hip-hop\n",
    "\n",
    "Выведем отсортированный список уникальных значений столбца `genre`:"
   ]
  },
  {
   "cell_type": "code",
   "execution_count": 116,
   "metadata": {
    "id": "wvixALnFG15m"
   },
   "outputs": [
    {
     "data": {
      "text/plain": [
       "array(['acid', 'acoustic', 'action', 'adult', 'africa', 'afrikaans',\n",
       "       'alternative', 'alternativepunk', 'ambient', 'americana',\n",
       "       'animated', 'anime', 'arabesk', 'arabic', 'arena',\n",
       "       'argentinetango', 'art', 'audiobook', 'author', 'avantgarde',\n",
       "       'axé', 'baile', 'balkan', 'beats', 'bigroom', 'black', 'bluegrass',\n",
       "       'blues', 'bollywood', 'bossa', 'brazilian', 'breakbeat', 'breaks',\n",
       "       'broadway', 'cantautori', 'cantopop', 'canzone', 'caribbean',\n",
       "       'caucasian', 'celtic', 'chamber', 'chanson', 'children', 'chill',\n",
       "       'chinese', 'choral', 'christian', 'christmas', 'classical',\n",
       "       'classicmetal', 'club', 'colombian', 'comedy', 'conjazz',\n",
       "       'contemporary', 'country', 'cuban', 'dance', 'dancehall',\n",
       "       'dancepop', 'dark', 'death', 'deep', 'deutschrock', 'deutschspr',\n",
       "       'dirty', 'disco', 'dnb', 'documentary', 'downbeat', 'downtempo',\n",
       "       'drum', 'dub', 'dubstep', 'eastern', 'easy', 'electronic',\n",
       "       'electropop', 'emo', 'entehno', 'epicmetal', 'estrada', 'ethnic',\n",
       "       'eurofolk', 'european', 'experimental', 'extrememetal', 'fado',\n",
       "       'fairytail', 'film', 'fitness', 'flamenco', 'folk', 'folklore',\n",
       "       'folkmetal', 'folkrock', 'folktronica', 'forró', 'frankreich',\n",
       "       'französisch', 'french', 'funk', 'future', 'gangsta', 'garage',\n",
       "       'german', 'ghazal', 'gitarre', 'glitch', 'gospel', 'gothic',\n",
       "       'grime', 'grunge', 'gypsy', 'handsup', \"hard'n'heavy\", 'hardcore',\n",
       "       'hardstyle', 'hardtechno', 'hiphop', 'historisch', 'holiday',\n",
       "       'horror', 'house', 'hymn', 'idm', 'independent', 'indian', 'indie',\n",
       "       'indipop', 'industrial', 'inspirational', 'instrumental',\n",
       "       'international', 'irish', 'jam', 'japanese', 'jazz', 'jewish',\n",
       "       'jpop', 'jungle', 'k-pop', 'karadeniz', 'karaoke', 'kayokyoku',\n",
       "       'korean', 'laiko', 'latin', 'latino', 'leftfield', 'local',\n",
       "       'lounge', 'loungeelectronic', 'lovers', 'malaysian', 'mandopop',\n",
       "       'marschmusik', 'meditative', 'mediterranean', 'melodic', 'metal',\n",
       "       'metalcore', 'mexican', 'middle', 'minimal', 'miscellaneous',\n",
       "       'modern', 'mood', 'mpb', 'muslim', 'native', 'neoklassik', 'neue',\n",
       "       'new', 'newage', 'newwave', 'nu', 'nujazz', 'numetal', 'oceania',\n",
       "       'old', 'opera', 'orchestral', 'other', 'piano', 'podcasts', 'pop',\n",
       "       'popdance', 'popelectronic', 'popeurodance', 'poprussian', 'post',\n",
       "       'posthardcore', 'postrock', 'power', 'progmetal', 'progressive',\n",
       "       'psychedelic', 'punjabi', 'punk', 'quebecois', 'ragga', 'ram',\n",
       "       'rancheras', 'rap', 'rave', 'reggae', 'reggaeton', 'regional',\n",
       "       'relax', 'religious', 'retro', 'rhythm', 'rnb', 'rnr', 'rock',\n",
       "       'rockabilly', 'rockalternative', 'rockindie', 'rockother',\n",
       "       'romance', 'roots', 'ruspop', 'rusrap', 'rusrock', 'russian',\n",
       "       'salsa', 'samba', 'scenic', 'schlager', 'self', 'sertanejo',\n",
       "       'shanson', 'shoegazing', 'showtunes', 'singer', 'ska', 'skarock',\n",
       "       'slow', 'smooth', 'soft', 'soul', 'soulful', 'sound', 'soundtrack',\n",
       "       'southern', 'specialty', 'speech', 'spiritual', 'sport',\n",
       "       'stonerrock', 'surf', 'swing', 'synthpop', 'synthrock',\n",
       "       'sängerportrait', 'tango', 'tanzorchester', 'taraftar', 'tatar',\n",
       "       'tech', 'techno', 'teen', 'thrash', 'top', 'traditional',\n",
       "       'tradjazz', 'trance', 'tribal', 'trip', 'triphop', 'tropical',\n",
       "       'türk', 'türkçe', 'ukrrock', 'unknown', 'urban', 'uzbek',\n",
       "       'variété', 'vi', 'videogame', 'vocal', 'western', 'world',\n",
       "       'worldbeat', 'ïîï', 'электроника'], dtype=object)"
      ]
     },
     "execution_count": 116,
     "metadata": {},
     "output_type": "execute_result"
    }
   ],
   "source": [
    "df.sort_values(by='genre')['genre'].unique()"
   ]
  },
  {
   "cell_type": "markdown",
   "metadata": {
    "id": "jz6a9-7HQUDd"
   },
   "source": [
    "**Выводы**\n",
    "\n",
    "Предобработка обнаружила три проблемы в данных:\n",
    "\n",
    "- нарушения в стиле заголовков,\n",
    "- пропущенные значения,\n",
    "- дубликаты — явные и неявные.\n",
    "\n",
    "Мы исправили заголовки, чтобы упростить работу с таблицей. Без дубликатов исследование станет более точным.\n",
    "\n",
    "Пропущенные значения мы заменили на `'unknown'`. Ещё предстоит увидеть, не повредят ли исследованию пропуски в колонке `genre`.\n",
    "\n",
    "Теперь можно перейти к проверке гипотез. "
   ]
  },
  {
   "cell_type": "markdown",
   "metadata": {
    "id": "WttZHXH0SqKk"
   },
   "source": [
    "## Проверка гипотез"
   ]
  },
  {
   "cell_type": "markdown",
   "metadata": {
    "id": "Im936VVi_Zcu"
   },
   "source": [
    "### Сравнение поведения пользователей двух столиц"
   ]
  },
  {
   "cell_type": "markdown",
   "metadata": {
    "id": "nwt_MuaL_Zcu"
   },
   "source": [
    "Первая гипотеза утверждает, что пользователи по-разному слушают музыку в Москве и Санкт-Петербурге. Проверьте это предположение по данным о трёх днях недели — понедельнике, среде и пятнице. Для этого:\n",
    "\n",
    "* Разделим пользователей Москвы и Санкт-Петербурга\n",
    "* Сравним, сколько треков послушала каждая группа пользователей в понедельник, среду и пятницу.\n"
   ]
  },
  {
   "cell_type": "markdown",
   "metadata": {
    "id": "8Dw_YMmT_Zcu"
   },
   "source": [
    "Для тренировки сначала выполним каждый из расчётов по отдельности. \n",
    "\n",
    "Оценим активность пользователей в каждом городе. Сгруппируем данные по городу и посчитаем прослушивания в каждой группе. В `pandas` данные группируют методом `groupby()`."
   ]
  },
  {
   "cell_type": "code",
   "execution_count": 117,
   "metadata": {
    "id": "0_Qs96oh_Zcu"
   },
   "outputs": [
    {
     "data": {
      "text/plain": [
       "city\n",
       "Moscow              42741\n",
       "Saint-Petersburg    18512\n",
       "Name: user_id, dtype: int64"
      ]
     },
     "execution_count": 117,
     "metadata": {},
     "output_type": "execute_result"
    }
   ],
   "source": [
    "df.groupby('city')['user_id'].count()"
   ]
  },
  {
   "cell_type": "markdown",
   "metadata": {
    "id": "dzli3w8o_Zcu"
   },
   "source": [
    "В Москве прослушиваний больше, чем в Петербурге. Из этого не следует, что московские пользователи чаще слушают музыку. Просто самих пользователей в Москве больше.\n",
    "\n",
    "Теперь сгруппируем данные по дню недели и подсчитаем прослушивания в понедельник, среду и пятницу. Учтём, что в данных есть информация о прослушиваниях только за эти дни."
   ]
  },
  {
   "cell_type": "code",
   "execution_count": 118,
   "metadata": {
    "id": "uZMKjiJz_Zcu"
   },
   "outputs": [
    {
     "data": {
      "text/plain": [
       "day\n",
       "Friday       21840\n",
       "Monday       21354\n",
       "Wednesday    18059\n",
       "Name: user_id, dtype: int64"
      ]
     },
     "execution_count": 118,
     "metadata": {},
     "output_type": "execute_result"
    }
   ],
   "source": [
    "df.groupby('day')['user_id'].count()"
   ]
  },
  {
   "cell_type": "markdown",
   "metadata": {
    "id": "cC2tNrlL_Zcu"
   },
   "source": [
    "В среднем пользователи из двух городов менее активны по средам. Но картина может измениться, если рассмотреть каждый город в отдельности."
   ]
  },
  {
   "cell_type": "markdown",
   "metadata": {
    "id": "POzs8bGa_Zcu"
   },
   "source": [
    "Мы видели, как работает группировка по городу и по дням недели. Теперь напишем функцию, которая объединит два эти расчёта.\n",
    "\n",
    "Создим функцию `number_tracks()`, которая посчитает прослушивания для заданного дня и города. Ей понадобятся два параметра:\n",
    "* день недели,\n",
    "* название города.\n",
    "\n",
    "В функции сохраним в переменную строки исходной таблицы, у которых значение:\n",
    "  * в колонке `day` равно параметру `day`,\n",
    "  * в колонке `city` равно параметру `city`.\n",
    "\n",
    "Для этого применим последовательную фильтрацию с логической индексацией.\n",
    "\n",
    "Затем посчитаем значения в столбце `user_id` получившейся таблицы. Результат сохраним в новую переменную. Вернём эту переменную из функции."
   ]
  },
  {
   "cell_type": "code",
   "execution_count": 119,
   "metadata": {
    "id": "Nz3GdQB1_Zcu"
   },
   "outputs": [],
   "source": [
    "def number_tracks(day, city):\n",
    "    track_list = df[df['day'] == day]\n",
    "    track_list_count = track_list[track_list['city'] == city]['user_id'].count()\n",
    "    return track_list_count           "
   ]
  },
  {
   "cell_type": "markdown",
   "metadata": {
    "id": "ytf7xFrFJQ2r"
   },
   "source": [
    "Вызовем `number_tracks()` шесть раз, меняя значение параметров — так, чтобы получить данные для каждого города в каждый из трёх дней."
   ]
  },
  {
   "cell_type": "markdown",
   "metadata": {},
   "source": [
    "Количество прослушиваний в Москве по понедельникам:"
   ]
  },
  {
   "cell_type": "code",
   "execution_count": 120,
   "metadata": {},
   "outputs": [
    {
     "data": {
      "text/plain": [
       "15740"
      ]
     },
     "execution_count": 120,
     "metadata": {},
     "output_type": "execute_result"
    }
   ],
   "source": [
    "number_tracks('Monday', 'Moscow')"
   ]
  },
  {
   "cell_type": "markdown",
   "metadata": {},
   "source": [
    "Количество прослушиваний в Санкт-Петербурге по понедельникам:"
   ]
  },
  {
   "cell_type": "code",
   "execution_count": 121,
   "metadata": {},
   "outputs": [
    {
     "data": {
      "text/plain": [
       "5614"
      ]
     },
     "execution_count": 121,
     "metadata": {},
     "output_type": "execute_result"
    }
   ],
   "source": [
    "number_tracks('Monday', 'Saint-Petersburg')"
   ]
  },
  {
   "cell_type": "markdown",
   "metadata": {},
   "source": [
    "Количество прослушиваний в Москве по средам:"
   ]
  },
  {
   "cell_type": "code",
   "execution_count": 122,
   "metadata": {},
   "outputs": [
    {
     "data": {
      "text/plain": [
       "11056"
      ]
     },
     "execution_count": 122,
     "metadata": {},
     "output_type": "execute_result"
    }
   ],
   "source": [
    "number_tracks('Wednesday', 'Moscow')"
   ]
  },
  {
   "cell_type": "markdown",
   "metadata": {},
   "source": [
    "Количество прослушиваний в Санкт-Петербурге по средам:"
   ]
  },
  {
   "cell_type": "code",
   "execution_count": 123,
   "metadata": {},
   "outputs": [
    {
     "data": {
      "text/plain": [
       "7003"
      ]
     },
     "execution_count": 123,
     "metadata": {},
     "output_type": "execute_result"
    }
   ],
   "source": [
    "number_tracks('Wednesday', 'Saint-Petersburg')"
   ]
  },
  {
   "cell_type": "markdown",
   "metadata": {},
   "source": [
    "Количество прослушиваний в Москве по пятницам:"
   ]
  },
  {
   "cell_type": "code",
   "execution_count": 124,
   "metadata": {},
   "outputs": [
    {
     "data": {
      "text/plain": [
       "15945"
      ]
     },
     "execution_count": 124,
     "metadata": {},
     "output_type": "execute_result"
    }
   ],
   "source": [
    "number_tracks('Friday', 'Moscow')"
   ]
  },
  {
   "cell_type": "markdown",
   "metadata": {},
   "source": [
    "Количество прослушиваний в Санкт-Петербурге по пятницам:"
   ]
  },
  {
   "cell_type": "code",
   "execution_count": 125,
   "metadata": {},
   "outputs": [
    {
     "data": {
      "text/plain": [
       "5895"
      ]
     },
     "execution_count": 125,
     "metadata": {},
     "output_type": "execute_result"
    }
   ],
   "source": [
    "number_tracks('Friday', 'Saint-Petersburg')"
   ]
  },
  {
   "cell_type": "markdown",
   "metadata": {
    "id": "7QXffbO-_Zcu"
   },
   "source": [
    "Создадим c помощью конструктора `pd.DataFrame` таблицу, где\n",
    "* названия колонок — `['city', 'monday', 'wednesday', 'friday']`;\n",
    "* данные — результаты, которые вы получили с помощью `number_tracks`."
   ]
  },
  {
   "cell_type": "code",
   "execution_count": 126,
   "metadata": {
    "id": "APAcLpOr_Zcu"
   },
   "outputs": [
    {
     "data": {
      "text/html": [
       "<div>\n",
       "<style scoped>\n",
       "    .dataframe tbody tr th:only-of-type {\n",
       "        vertical-align: middle;\n",
       "    }\n",
       "\n",
       "    .dataframe tbody tr th {\n",
       "        vertical-align: top;\n",
       "    }\n",
       "\n",
       "    .dataframe thead th {\n",
       "        text-align: right;\n",
       "    }\n",
       "</style>\n",
       "<table border=\"1\" class=\"dataframe\">\n",
       "  <thead>\n",
       "    <tr style=\"text-align: right;\">\n",
       "      <th></th>\n",
       "      <th>city</th>\n",
       "      <th>monday</th>\n",
       "      <th>wednesday</th>\n",
       "      <th>friday</th>\n",
       "    </tr>\n",
       "  </thead>\n",
       "  <tbody>\n",
       "    <tr>\n",
       "      <td>0</td>\n",
       "      <td>Moscow</td>\n",
       "      <td>15740</td>\n",
       "      <td>11056</td>\n",
       "      <td>15945</td>\n",
       "    </tr>\n",
       "    <tr>\n",
       "      <td>1</td>\n",
       "      <td>Saint-Petersburg</td>\n",
       "      <td>5614</td>\n",
       "      <td>7003</td>\n",
       "      <td>5895</td>\n",
       "    </tr>\n",
       "  </tbody>\n",
       "</table>\n",
       "</div>"
      ],
      "text/plain": [
       "               city  monday  wednesday  friday\n",
       "0            Moscow   15740      11056   15945\n",
       "1  Saint-Petersburg    5614       7003    5895"
      ]
     },
     "metadata": {},
     "output_type": "display_data"
    }
   ],
   "source": [
    "data = [['Moscow', 15740, 11056, 15945],\n",
    "       ['Saint-Petersburg', 5614, 7003, 5895]]\n",
    "columns = ['city', 'monday', 'wednesday', 'friday']\n",
    " \n",
    "research_result = pd.DataFrame(data=data, columns=columns)\n",
    "display(research_result)"
   ]
  },
  {
   "cell_type": "markdown",
   "metadata": {
    "id": "-EgPIHYu_Zcu"
   },
   "source": [
    "**Выводы**\n",
    "\n",
    "Данные показывают разницу поведения пользователей:\n",
    "\n",
    "- В Москве пик прослушиваний приходится на понедельник и пятницу, а в среду заметен спад.\n",
    "- В Петербурге, наоборот, больше слушают музыку по средам. Активность в понедельник и пятницу здесь почти в равной мере уступает среде.\n",
    "\n",
    "Значит, данные говорят в пользу первой гипотезы."
   ]
  },
  {
   "cell_type": "markdown",
   "metadata": {
    "id": "atZAxtq4_Zcu"
   },
   "source": [
    "### Музыка в начале и в конце недели"
   ]
  },
  {
   "cell_type": "markdown",
   "metadata": {
    "id": "eXrQqXFH_Zcu"
   },
   "source": [
    "Согласно второй гипотезе, утром в понедельник в Москве преобладают одни жанры, а в Петербурге — другие. Так же и вечером пятницы преобладают разные жанры — в зависимости от города."
   ]
  },
  {
   "cell_type": "markdown",
   "metadata": {
    "id": "S8UcW6Hw_Zcu"
   },
   "source": [
    "Сохраним таблицы с данными в две переменные:\n",
    "* по Москве — в `moscow_general`;\n",
    "* по Санкт-Петербургу — в `spb_general`."
   ]
  },
  {
   "cell_type": "code",
   "execution_count": 127,
   "metadata": {
    "id": "qeaFfM_P_Zcu"
   },
   "outputs": [],
   "source": [
    "moscow_general = df[df['city'] == 'Moscow']"
   ]
  },
  {
   "cell_type": "code",
   "execution_count": 128,
   "metadata": {
    "id": "ORaVRKto_Zcu"
   },
   "outputs": [],
   "source": [
    "spb_general = df[df['city'] == 'Saint-Petersburg']"
   ]
  },
  {
   "cell_type": "markdown",
   "metadata": {
    "id": "MEJV-CX2_Zcu"
   },
   "source": [
    "Создадим функцию `genre_weekday()` с четырьмя параметрами:\n",
    "* таблица (датафрейм) с данными,\n",
    "* день недели,\n",
    "* начальная временная метка в формате 'hh:mm', \n",
    "* последняя временная метка в формате 'hh:mm'.\n",
    "\n",
    "Функция должна вернуть информацию о топ-10 жанров тех треков, которые прослушивали в указанный день, в промежутке между двумя отметками времени."
   ]
  },
  {
   "cell_type": "code",
   "execution_count": 129,
   "metadata": {
    "id": "laJT9BYl_Zcu"
   },
   "outputs": [],
   "source": [
    "def genre_weekday(table, day, time1, time2):\n",
    "    genre_df = table[table['day'] == day]\n",
    "    genre_df = genre_df[genre_df['time'] > time1]\n",
    "    genre_df = genre_df[genre_df['time'] < time2]    \n",
    "    genre_df_count = genre_df.groupby('genre')['user_id'].count()\n",
    "    genre_df_sorted = genre_df_count.sort_values(ascending=False)\n",
    "    return print(genre_df_sorted.head(10))"
   ]
  },
  {
   "cell_type": "markdown",
   "metadata": {
    "id": "la2s2_PF_Zcu"
   },
   "source": [
    "Cравним результаты функции `genre_weekday()` для Москвы и Санкт-Петербурга в понедельник утром (с 7:00 до 11:00) и в пятницу вечером (с 17:00 до 23:00):"
   ]
  },
  {
   "cell_type": "markdown",
   "metadata": {},
   "source": [
    "Топ 10 жанров утра понедельника в Москве:"
   ]
  },
  {
   "cell_type": "code",
   "execution_count": 130,
   "metadata": {
    "id": "yz7itPUQ_Zcu",
    "scrolled": true
   },
   "outputs": [
    {
     "name": "stdout",
     "output_type": "stream",
     "text": [
      "genre\n",
      "pop            781\n",
      "dance          549\n",
      "electronic     480\n",
      "rock           474\n",
      "hiphop         286\n",
      "ruspop         186\n",
      "world          181\n",
      "rusrap         175\n",
      "alternative    164\n",
      "unknown        161\n",
      "Name: user_id, dtype: int64\n"
     ]
    }
   ],
   "source": [
    "genre_weekday(moscow_general, 'Monday', '07:00', '11:00')"
   ]
  },
  {
   "cell_type": "markdown",
   "metadata": {},
   "source": [
    "Топ 10 жанров утра понедельника в Санкт-Петербурге:"
   ]
  },
  {
   "cell_type": "code",
   "execution_count": 131,
   "metadata": {
    "id": "kwUcHPdy_Zcu"
   },
   "outputs": [
    {
     "name": "stdout",
     "output_type": "stream",
     "text": [
      "genre\n",
      "pop            218\n",
      "dance          182\n",
      "rock           162\n",
      "electronic     147\n",
      "hiphop          80\n",
      "ruspop          64\n",
      "alternative     58\n",
      "rusrap          55\n",
      "jazz            44\n",
      "classical       40\n",
      "Name: user_id, dtype: int64\n"
     ]
    }
   ],
   "source": [
    "genre_weekday(spb_general, 'Monday', '07:00', '11:00')"
   ]
  },
  {
   "cell_type": "markdown",
   "metadata": {},
   "source": [
    "Топ 10 жанров вечера пятницы в Москве:"
   ]
  },
  {
   "cell_type": "code",
   "execution_count": 132,
   "metadata": {
    "id": "EzXVRE1o_Zcu"
   },
   "outputs": [
    {
     "name": "stdout",
     "output_type": "stream",
     "text": [
      "genre\n",
      "pop            713\n",
      "rock           517\n",
      "dance          495\n",
      "electronic     482\n",
      "hiphop         273\n",
      "world          208\n",
      "ruspop         170\n",
      "alternative    163\n",
      "classical      163\n",
      "rusrap         142\n",
      "Name: user_id, dtype: int64\n"
     ]
    }
   ],
   "source": [
    "genre_weekday(moscow_general, 'Friday', '17:00', '23:00')"
   ]
  },
  {
   "cell_type": "markdown",
   "metadata": {},
   "source": [
    "Топ 10 жанров вечера пятницы в Санкт-Петербурге:"
   ]
  },
  {
   "cell_type": "code",
   "execution_count": 133,
   "metadata": {
    "id": "JZaEKu5v_Zcu"
   },
   "outputs": [
    {
     "name": "stdout",
     "output_type": "stream",
     "text": [
      "genre\n",
      "pop            256\n",
      "rock           216\n",
      "electronic     216\n",
      "dance          210\n",
      "hiphop          97\n",
      "alternative     63\n",
      "jazz            61\n",
      "classical       60\n",
      "rusrap          59\n",
      "world           54\n",
      "Name: user_id, dtype: int64\n"
     ]
    }
   ],
   "source": [
    "genre_weekday(spb_general, 'Friday', '17:00', '23:00')"
   ]
  },
  {
   "cell_type": "markdown",
   "metadata": {
    "id": "wrCe4MNX_Zcu"
   },
   "source": [
    "**Выводы**\n",
    "\n",
    "Если сравнить топ-10 жанров в понедельник утром, можно сделать такие выводы:\n",
    "\n",
    "1. В Москве и Петербурге слушают похожую музыку. Единственное отличие — в московский рейтинг вошёл жанр “world”, а в петербургский — джаз и классика.\n",
    "\n",
    "2. В Москве пропущенных значений оказалось так много, что значение `'unknown'` заняло десятое место среди самых популярных жанров. Значит, пропущенные значения занимают существенную долю в данных и угрожают достоверности исследования.\n",
    "\n",
    "Вечер пятницы не меняет эту картину. Некоторые жанры поднимаются немного выше, другие спускаются, но в целом топ-10 остаётся тем же самым.\n",
    "\n",
    "Таким образом, вторая гипотеза подтвердилась лишь частично:\n",
    "* Пользователи слушают похожую музыку в начале недели и в конце.\n",
    "* Разница между Москвой и Петербургом не слишком выражена. В Москве чаще слушают русскую популярную музыку, в Петербурге — джаз.\n",
    "\n",
    "Однако пропуски в данных ставят под сомнение этот результат. В Москве их так много, что рейтинг топ-10 мог бы выглядеть иначе, если бы не утерянные  данные о жанрах."
   ]
  },
  {
   "cell_type": "markdown",
   "metadata": {
    "id": "JolODAqr_Zcu"
   },
   "source": [
    "### Жанровые предпочтения в Москве и Петербурге\n",
    "\n",
    "Гипотеза: Петербург — столица рэпа, музыку этого жанра там слушают чаще, чем в Москве.  А Москва — город контрастов, в котором, тем не менее, преобладает поп-музыка."
   ]
  },
  {
   "cell_type": "markdown",
   "metadata": {
    "id": "DlegSvaT_Zcu"
   },
   "source": [
    "Сгруппируем таблицу `moscow_general` по жанру и посчитаем прослушивания треков каждого жанра методом `count()`. Затем отсортируем результат в порядке убывания и сохраним его в таблице `moscow_genres`."
   ]
  },
  {
   "cell_type": "code",
   "execution_count": 134,
   "metadata": {
    "id": "r19lIPke_Zcu"
   },
   "outputs": [],
   "source": [
    "moscow_genres = moscow_general.groupby('genre')['user_id'].count().sort_values(ascending=False)"
   ]
  },
  {
   "cell_type": "markdown",
   "metadata": {
    "id": "6kMuomxTiIr8"
   },
   "source": [
    "Выведем на экран первые десять строк `moscow_genres`:"
   ]
  },
  {
   "cell_type": "code",
   "execution_count": 135,
   "metadata": {
    "id": "WhCSooF8_Zcv"
   },
   "outputs": [
    {
     "data": {
      "text/plain": [
       "genre\n",
       "pop            5892\n",
       "dance          4435\n",
       "rock           3965\n",
       "electronic     3786\n",
       "hiphop         2096\n",
       "classical      1616\n",
       "world          1432\n",
       "alternative    1379\n",
       "ruspop         1372\n",
       "rusrap         1161\n",
       "Name: user_id, dtype: int64"
      ]
     },
     "execution_count": 135,
     "metadata": {},
     "output_type": "execute_result"
    }
   ],
   "source": [
    "moscow_genres.head(10)"
   ]
  },
  {
   "cell_type": "markdown",
   "metadata": {
    "id": "cnPG2vnN_Zcv"
   },
   "source": [
    "Теперь повторим то же и для Петербурга.\n",
    "\n",
    "Сгруппируем таблицу `spb_general` по жанру. Посчитаем прослушивания треков каждого жанра. Результат отсортируем в порядке убывания и сохраним в таблице `spb_genres`:\n"
   ]
  },
  {
   "cell_type": "code",
   "execution_count": 136,
   "metadata": {
    "id": "gluLIpE7_Zcv"
   },
   "outputs": [],
   "source": [
    "spb_genres = spb_general.groupby('genre')['user_id'].count().sort_values(ascending=False)"
   ]
  },
  {
   "cell_type": "markdown",
   "metadata": {
    "id": "5Doha_ODgyQ8"
   },
   "source": [
    "Выведем на экран первые десять строк `spb_genres`:"
   ]
  },
  {
   "cell_type": "code",
   "execution_count": 137,
   "metadata": {
    "id": "uaGJHjVU_Zcv",
    "scrolled": true
   },
   "outputs": [
    {
     "data": {
      "text/plain": [
       "genre\n",
       "pop            2431\n",
       "dance          1932\n",
       "rock           1879\n",
       "electronic     1736\n",
       "hiphop          960\n",
       "alternative     649\n",
       "classical       646\n",
       "rusrap          564\n",
       "ruspop          538\n",
       "world           515\n",
       "Name: user_id, dtype: int64"
      ]
     },
     "execution_count": 137,
     "metadata": {},
     "output_type": "execute_result"
    }
   ],
   "source": [
    "spb_genres.head(10)"
   ]
  },
  {
   "cell_type": "markdown",
   "metadata": {
    "id": "RY51YJYu_Zcv"
   },
   "source": [
    "**Выводы**"
   ]
  },
  {
   "cell_type": "markdown",
   "metadata": {
    "id": "nVhnJEm__Zcv"
   },
   "source": [
    "Гипотеза частично подтвердилась:\n",
    "* Поп-музыка — самый популярный жанр в Москве, как и предполагала гипотеза. Более того, в топ-10 жанров встречается близкий жанр — русская популярная музыка.\n",
    "* Вопреки ожиданиям, рэп одинаково популярен в Москве и Петербурге. \n"
   ]
  },
  {
   "cell_type": "markdown",
   "metadata": {
    "id": "ykKQ0N65_Zcv"
   },
   "source": [
    "## Итоги исследования"
   ]
  },
  {
   "cell_type": "markdown",
   "metadata": {
    "id": "tjUwbHb3_Zcv"
   },
   "source": [
    "Мы проверили три гипотезы и установили:\n",
    "\n",
    "1. День недели по-разному влияет на активность пользователей в Москве и Петербурге. \n",
    "\n",
    "Первая гипотеза полностью подтвердилась.\n",
    "\n",
    "2. Музыкальные предпочтения не сильно меняются в течение недели — будь то Москва или Петербург. Небольшие различия заметны в начале недели, по понедельникам:\n",
    "* в Москве слушают музыку жанра “world”,\n",
    "* в Петербурге — джаз и классику.\n",
    "\n",
    "Таким образом, вторая гипотеза подтвердилась лишь отчасти. Этот результат мог оказаться иным, если бы не пропуски в данных.\n",
    "\n",
    "3. Во вкусах пользователей Москвы и Петербурга больше общего чем различий. Вопреки ожиданиям, предпочтения жанров в Петербурге напоминают московские.\n",
    "\n",
    "Третья гипотеза не подтвердилась. Если различия в предпочтениях и существуют, на основной массе пользователей они незаметны.\n",
    "\n",
    "**На практике исследования содержат проверки статистических гипотез.**\n",
    "Из данных одного сервиса не всегда можно сделать вывод о всех жителях города.\n",
    "Проверки статистических гипотез покажут, насколько они достоверны, исходя из имеющихся данных. "
   ]
  }
 ],
 "metadata": {
  "ExecuteTimeLog": [
   {
    "duration": 3,
    "start_time": "2022-02-06T18:20:35.362Z"
   },
   {
    "duration": 646,
    "start_time": "2022-02-06T18:24:10.397Z"
   },
   {
    "duration": 3,
    "start_time": "2022-02-06T18:24:13.838Z"
   },
   {
    "duration": 85,
    "start_time": "2022-02-06T18:24:49.127Z"
   },
   {
    "duration": 125,
    "start_time": "2022-02-06T18:25:03.159Z"
   },
   {
    "duration": 16,
    "start_time": "2022-02-06T18:25:36.808Z"
   },
   {
    "duration": 7,
    "start_time": "2022-02-06T18:25:45.376Z"
   },
   {
    "duration": 9,
    "start_time": "2022-02-06T18:25:53.320Z"
   },
   {
    "duration": 9,
    "start_time": "2022-02-06T18:26:14.184Z"
   },
   {
    "duration": 552,
    "start_time": "2022-02-07T05:55:47.044Z"
   },
   {
    "duration": 138,
    "start_time": "2022-02-07T05:55:47.684Z"
   },
   {
    "duration": 18,
    "start_time": "2022-02-07T05:55:55.796Z"
   },
   {
    "duration": 5,
    "start_time": "2022-02-07T05:56:25.374Z"
   },
   {
    "duration": 24,
    "start_time": "2022-02-07T05:56:57.614Z"
   },
   {
    "duration": 166,
    "start_time": "2022-02-07T06:27:40.681Z"
   },
   {
    "duration": 10,
    "start_time": "2022-02-07T06:29:56.862Z"
   },
   {
    "duration": 12,
    "start_time": "2022-02-07T06:30:00.005Z"
   },
   {
    "duration": 11,
    "start_time": "2022-02-07T06:30:02.573Z"
   },
   {
    "duration": 12,
    "start_time": "2022-02-07T06:30:06.501Z"
   },
   {
    "duration": 4,
    "start_time": "2022-02-07T07:09:25.899Z"
   },
   {
    "duration": 4,
    "start_time": "2022-02-07T07:09:35.643Z"
   },
   {
    "duration": 5,
    "start_time": "2022-02-07T07:09:41.827Z"
   },
   {
    "duration": 3,
    "start_time": "2022-02-07T07:09:47.820Z"
   },
   {
    "duration": 4,
    "start_time": "2022-02-07T07:09:53.548Z"
   },
   {
    "duration": 326,
    "start_time": "2022-02-07T07:25:40.158Z"
   },
   {
    "duration": 26,
    "start_time": "2022-02-07T07:26:26.159Z"
   },
   {
    "duration": 25,
    "start_time": "2022-02-07T07:28:55.972Z"
   },
   {
    "duration": 4,
    "start_time": "2022-02-07T07:31:00.366Z"
   },
   {
    "duration": 29,
    "start_time": "2022-02-07T07:38:46.790Z"
   },
   {
    "duration": 26,
    "start_time": "2022-02-07T07:40:16.176Z"
   },
   {
    "duration": 23,
    "start_time": "2022-02-07T07:41:05.609Z"
   },
   {
    "duration": 22,
    "start_time": "2022-02-07T07:41:09.841Z"
   },
   {
    "duration": 24,
    "start_time": "2022-02-07T07:45:12.534Z"
   },
   {
    "duration": 3,
    "start_time": "2022-02-07T13:18:51.584Z"
   },
   {
    "duration": 3,
    "start_time": "2022-02-07T13:32:43.017Z"
   },
   {
    "duration": 466,
    "start_time": "2022-02-07T13:37:55.053Z"
   },
   {
    "duration": 371,
    "start_time": "2022-02-07T13:38:06.133Z"
   },
   {
    "duration": 331,
    "start_time": "2022-02-07T13:38:48.542Z"
   },
   {
    "duration": 731,
    "start_time": "2022-02-07T13:38:54.781Z"
   },
   {
    "duration": 180,
    "start_time": "2022-02-07T13:38:56.846Z"
   },
   {
    "duration": 29,
    "start_time": "2022-02-07T13:38:58.974Z"
   },
   {
    "duration": 15,
    "start_time": "2022-02-07T13:39:11.231Z"
   },
   {
    "duration": 32,
    "start_time": "2022-02-07T13:39:14.841Z"
   },
   {
    "duration": 5,
    "start_time": "2022-02-07T13:39:17.766Z"
   },
   {
    "duration": 27,
    "start_time": "2022-02-07T13:39:20.630Z"
   },
   {
    "duration": 5,
    "start_time": "2022-02-07T13:39:22.870Z"
   },
   {
    "duration": 28,
    "start_time": "2022-02-07T13:39:26.615Z"
   },
   {
    "duration": 8736,
    "start_time": "2022-02-07T13:58:35.397Z"
   },
   {
    "duration": 23,
    "start_time": "2022-02-07T14:01:14.696Z"
   },
   {
    "duration": 26,
    "start_time": "2022-02-07T14:01:44.043Z"
   },
   {
    "duration": 82,
    "start_time": "2022-02-07T14:20:20.870Z"
   },
   {
    "duration": 77,
    "start_time": "2022-02-07T14:20:26.350Z"
   },
   {
    "duration": 78,
    "start_time": "2022-02-07T14:20:47.143Z"
   },
   {
    "duration": 81,
    "start_time": "2022-02-07T14:20:51.927Z"
   },
   {
    "duration": 75,
    "start_time": "2022-02-07T14:26:55.054Z"
   },
   {
    "duration": 98,
    "start_time": "2022-02-07T14:32:11.115Z"
   },
   {
    "duration": 75,
    "start_time": "2022-02-07T14:32:20.908Z"
   },
   {
    "duration": 9,
    "start_time": "2022-02-07T14:37:18.538Z"
   },
   {
    "duration": 3,
    "start_time": "2022-02-07T15:00:03.477Z"
   },
   {
    "duration": 4,
    "start_time": "2022-02-07T15:00:12.517Z"
   },
   {
    "duration": 14,
    "start_time": "2022-02-07T15:16:48.088Z"
   },
   {
    "duration": 9,
    "start_time": "2022-02-07T15:43:42.000Z"
   },
   {
    "duration": 13,
    "start_time": "2022-02-07T15:53:15.051Z"
   },
   {
    "duration": 8,
    "start_time": "2022-02-07T15:53:20.267Z"
   },
   {
    "duration": 9,
    "start_time": "2022-02-07T16:01:36.605Z"
   },
   {
    "duration": 9,
    "start_time": "2022-02-07T16:02:13.021Z"
   },
   {
    "duration": 7,
    "start_time": "2022-02-07T16:02:26.542Z"
   },
   {
    "duration": 8,
    "start_time": "2022-02-07T16:02:29.942Z"
   },
   {
    "duration": 11,
    "start_time": "2022-02-07T16:03:57.025Z"
   },
   {
    "duration": 9,
    "start_time": "2022-02-07T16:03:59.784Z"
   },
   {
    "duration": 4,
    "start_time": "2022-02-07T16:04:36.633Z"
   },
   {
    "duration": 20,
    "start_time": "2022-02-07T16:04:42.489Z"
   },
   {
    "duration": 9,
    "start_time": "2022-02-07T16:04:46.393Z"
   },
   {
    "duration": 10,
    "start_time": "2022-02-07T16:21:30.228Z"
   },
   {
    "duration": 3,
    "start_time": "2022-02-07T16:27:08.860Z"
   },
   {
    "duration": 23,
    "start_time": "2022-02-07T16:28:51.078Z"
   },
   {
    "duration": 23,
    "start_time": "2022-02-07T16:31:17.914Z"
   },
   {
    "duration": 19,
    "start_time": "2022-02-07T16:33:41.476Z"
   },
   {
    "duration": 23,
    "start_time": "2022-02-07T16:34:07.469Z"
   },
   {
    "duration": 18,
    "start_time": "2022-02-07T16:34:40.309Z"
   },
   {
    "duration": 29,
    "start_time": "2022-02-07T16:35:40.032Z"
   },
   {
    "duration": 159,
    "start_time": "2022-02-07T16:36:41.303Z"
   },
   {
    "duration": 26,
    "start_time": "2022-02-07T16:36:50.576Z"
   },
   {
    "duration": 33,
    "start_time": "2022-02-07T16:37:10.864Z"
   },
   {
    "duration": 41,
    "start_time": "2022-02-07T16:37:18.080Z"
   },
   {
    "duration": 17,
    "start_time": "2022-02-07T16:38:34.617Z"
   },
   {
    "duration": 34,
    "start_time": "2022-02-07T16:39:05.225Z"
   },
   {
    "duration": 31,
    "start_time": "2022-02-07T16:39:22.090Z"
   },
   {
    "duration": 33,
    "start_time": "2022-02-07T16:39:30.146Z"
   },
   {
    "duration": 29,
    "start_time": "2022-02-07T16:42:22.367Z"
   },
   {
    "duration": 28,
    "start_time": "2022-02-07T16:44:08.911Z"
   },
   {
    "duration": 27,
    "start_time": "2022-02-07T16:44:18.064Z"
   },
   {
    "duration": 384,
    "start_time": "2022-02-07T16:57:15.614Z"
   },
   {
    "duration": 354,
    "start_time": "2022-02-07T16:57:41.240Z"
   },
   {
    "duration": 424,
    "start_time": "2022-02-07T16:58:03.311Z"
   },
   {
    "duration": 349,
    "start_time": "2022-02-07T16:59:43.515Z"
   },
   {
    "duration": 41,
    "start_time": "2022-02-07T17:00:00.803Z"
   },
   {
    "duration": 14,
    "start_time": "2022-02-07T17:00:47.108Z"
   },
   {
    "duration": 14,
    "start_time": "2022-02-07T17:04:03.575Z"
   },
   {
    "duration": 13,
    "start_time": "2022-02-07T17:04:14.855Z"
   },
   {
    "duration": 32,
    "start_time": "2022-02-07T17:11:58.145Z"
   },
   {
    "duration": 81,
    "start_time": "2022-02-07T17:15:17.092Z"
   },
   {
    "duration": 353,
    "start_time": "2022-02-07T17:15:31.420Z"
   },
   {
    "duration": 37,
    "start_time": "2022-02-07T17:15:37.154Z"
   },
   {
    "duration": 14,
    "start_time": "2022-02-07T17:15:43.654Z"
   },
   {
    "duration": 14,
    "start_time": "2022-02-07T17:18:39.256Z"
   },
   {
    "duration": 238,
    "start_time": "2022-02-08T04:05:41.579Z"
   },
   {
    "duration": 563,
    "start_time": "2022-02-08T04:06:00.857Z"
   },
   {
    "duration": 2,
    "start_time": "2022-02-08T04:06:12.796Z"
   },
   {
    "duration": 133,
    "start_time": "2022-02-08T04:06:12.800Z"
   },
   {
    "duration": 15,
    "start_time": "2022-02-08T04:06:12.935Z"
   },
   {
    "duration": 23,
    "start_time": "2022-02-08T04:06:12.959Z"
   },
   {
    "duration": 3,
    "start_time": "2022-02-08T04:06:12.983Z"
   },
   {
    "duration": 26,
    "start_time": "2022-02-08T04:06:12.987Z"
   },
   {
    "duration": 3,
    "start_time": "2022-02-08T04:06:13.015Z"
   },
   {
    "duration": 39,
    "start_time": "2022-02-08T04:06:13.020Z"
   },
   {
    "duration": 16,
    "start_time": "2022-02-08T04:06:13.060Z"
   },
   {
    "duration": 19,
    "start_time": "2022-02-08T04:06:13.077Z"
   },
   {
    "duration": 74,
    "start_time": "2022-02-08T04:06:13.098Z"
   },
   {
    "duration": 66,
    "start_time": "2022-02-08T04:06:13.173Z"
   },
   {
    "duration": 55,
    "start_time": "2022-02-08T04:06:13.240Z"
   },
   {
    "duration": 5,
    "start_time": "2022-02-08T04:06:13.297Z"
   },
   {
    "duration": 8,
    "start_time": "2022-02-08T04:06:13.303Z"
   },
   {
    "duration": 16,
    "start_time": "2022-02-08T04:06:13.312Z"
   },
   {
    "duration": 10,
    "start_time": "2022-02-08T04:06:13.329Z"
   },
   {
    "duration": 23,
    "start_time": "2022-02-08T04:06:13.341Z"
   },
   {
    "duration": 18,
    "start_time": "2022-02-08T04:06:13.366Z"
   },
   {
    "duration": 47,
    "start_time": "2022-02-08T04:06:13.386Z"
   },
   {
    "duration": -172,
    "start_time": "2022-02-08T04:06:13.607Z"
   },
   {
    "duration": -175,
    "start_time": "2022-02-08T04:06:13.611Z"
   },
   {
    "duration": -178,
    "start_time": "2022-02-08T04:06:13.614Z"
   },
   {
    "duration": -180,
    "start_time": "2022-02-08T04:06:13.617Z"
   },
   {
    "duration": -190,
    "start_time": "2022-02-08T04:06:13.628Z"
   },
   {
    "duration": -191,
    "start_time": "2022-02-08T04:06:13.631Z"
   },
   {
    "duration": -193,
    "start_time": "2022-02-08T04:06:13.633Z"
   },
   {
    "duration": -195,
    "start_time": "2022-02-08T04:06:13.636Z"
   },
   {
    "duration": -196,
    "start_time": "2022-02-08T04:06:13.638Z"
   },
   {
    "duration": -198,
    "start_time": "2022-02-08T04:06:13.641Z"
   },
   {
    "duration": -200,
    "start_time": "2022-02-08T04:06:13.644Z"
   },
   {
    "duration": -202,
    "start_time": "2022-02-08T04:06:13.647Z"
   },
   {
    "duration": -204,
    "start_time": "2022-02-08T04:06:13.650Z"
   },
   {
    "duration": -205,
    "start_time": "2022-02-08T04:06:13.652Z"
   },
   {
    "duration": -207,
    "start_time": "2022-02-08T04:06:13.655Z"
   },
   {
    "duration": -208,
    "start_time": "2022-02-08T04:06:13.657Z"
   },
   {
    "duration": -217,
    "start_time": "2022-02-08T04:06:13.667Z"
   },
   {
    "duration": -219,
    "start_time": "2022-02-08T04:06:13.670Z"
   },
   {
    "duration": 21,
    "start_time": "2022-02-08T04:06:49.514Z"
   },
   {
    "duration": 24,
    "start_time": "2022-02-08T04:07:16.364Z"
   },
   {
    "duration": 17,
    "start_time": "2022-02-08T04:07:26.669Z"
   },
   {
    "duration": 22,
    "start_time": "2022-02-08T04:07:38.382Z"
   },
   {
    "duration": 19,
    "start_time": "2022-02-08T04:08:12.489Z"
   },
   {
    "duration": 19,
    "start_time": "2022-02-08T04:08:15.881Z"
   },
   {
    "duration": 23,
    "start_time": "2022-02-08T04:08:20.217Z"
   },
   {
    "duration": 20,
    "start_time": "2022-02-08T04:09:43.736Z"
   },
   {
    "duration": 21,
    "start_time": "2022-02-08T04:10:09.032Z"
   },
   {
    "duration": 183,
    "start_time": "2022-02-08T04:12:01.366Z"
   },
   {
    "duration": 189,
    "start_time": "2022-02-08T04:12:29.895Z"
   },
   {
    "duration": 42,
    "start_time": "2022-02-08T04:13:22.650Z"
   },
   {
    "duration": 26,
    "start_time": "2022-02-08T04:13:42.114Z"
   },
   {
    "duration": 172,
    "start_time": "2022-02-08T04:14:34.661Z"
   },
   {
    "duration": 35,
    "start_time": "2022-02-08T04:14:54.510Z"
   },
   {
    "duration": 153,
    "start_time": "2022-02-08T04:16:06.680Z"
   },
   {
    "duration": 38,
    "start_time": "2022-02-08T04:16:12.520Z"
   },
   {
    "duration": 24,
    "start_time": "2022-02-08T04:17:49.786Z"
   },
   {
    "duration": 24,
    "start_time": "2022-02-08T04:18:08.674Z"
   },
   {
    "duration": 24,
    "start_time": "2022-02-08T04:22:13.847Z"
   },
   {
    "duration": 24,
    "start_time": "2022-02-08T04:22:23.112Z"
   },
   {
    "duration": 25,
    "start_time": "2022-02-08T04:22:34.319Z"
   },
   {
    "duration": 26,
    "start_time": "2022-02-08T04:22:38.863Z"
   },
   {
    "duration": 31,
    "start_time": "2022-02-08T04:24:46.921Z"
   },
   {
    "duration": 10,
    "start_time": "2022-02-08T04:25:04.929Z"
   },
   {
    "duration": 19,
    "start_time": "2022-02-08T04:27:40.036Z"
   },
   {
    "duration": 14,
    "start_time": "2022-02-08T04:28:28.300Z"
   },
   {
    "duration": 16,
    "start_time": "2022-02-08T04:29:29.932Z"
   },
   {
    "duration": 17,
    "start_time": "2022-02-08T04:29:44.965Z"
   },
   {
    "duration": 15,
    "start_time": "2022-02-08T04:37:45.320Z"
   },
   {
    "duration": 3103,
    "start_time": "2022-02-08T04:37:54.521Z"
   },
   {
    "duration": 15,
    "start_time": "2022-02-08T04:38:16.867Z"
   },
   {
    "duration": 22,
    "start_time": "2022-02-08T04:39:57.689Z"
   },
   {
    "duration": 19,
    "start_time": "2022-02-08T04:40:40.788Z"
   },
   {
    "duration": 20,
    "start_time": "2022-02-08T04:41:00.533Z"
   },
   {
    "duration": 18,
    "start_time": "2022-02-08T04:42:29.729Z"
   },
   {
    "duration": 21,
    "start_time": "2022-02-08T04:42:46.946Z"
   },
   {
    "duration": 19,
    "start_time": "2022-02-08T04:43:07.131Z"
   },
   {
    "duration": 3,
    "start_time": "2022-02-08T04:44:22.527Z"
   },
   {
    "duration": 25,
    "start_time": "2022-02-08T04:44:41.454Z"
   },
   {
    "duration": 142,
    "start_time": "2022-02-08T04:44:54.591Z"
   },
   {
    "duration": 6,
    "start_time": "2022-02-08T04:52:04.908Z"
   },
   {
    "duration": 18,
    "start_time": "2022-02-08T04:55:41.553Z"
   },
   {
    "duration": 148,
    "start_time": "2022-02-08T04:55:49.968Z"
   },
   {
    "duration": 19,
    "start_time": "2022-02-08T04:55:58.969Z"
   },
   {
    "duration": 17,
    "start_time": "2022-02-08T04:56:34.866Z"
   },
   {
    "duration": 16,
    "start_time": "2022-02-08T04:57:48.795Z"
   },
   {
    "duration": 16,
    "start_time": "2022-02-08T04:57:51.116Z"
   },
   {
    "duration": 19,
    "start_time": "2022-02-08T04:57:53.307Z"
   },
   {
    "duration": 18,
    "start_time": "2022-02-08T04:57:55.331Z"
   },
   {
    "duration": 18,
    "start_time": "2022-02-08T04:59:05.044Z"
   },
   {
    "duration": 27,
    "start_time": "2022-02-08T04:59:22.780Z"
   },
   {
    "duration": 137,
    "start_time": "2022-02-08T04:59:47.437Z"
   },
   {
    "duration": 176,
    "start_time": "2022-02-08T04:59:57.789Z"
   },
   {
    "duration": 28,
    "start_time": "2022-02-08T05:00:04.869Z"
   },
   {
    "duration": 32,
    "start_time": "2022-02-08T05:00:11.333Z"
   },
   {
    "duration": 24,
    "start_time": "2022-02-08T05:01:26.606Z"
   },
   {
    "duration": 27,
    "start_time": "2022-02-08T05:02:21.463Z"
   },
   {
    "duration": 15,
    "start_time": "2022-02-08T05:02:26.119Z"
   },
   {
    "duration": 14,
    "start_time": "2022-02-08T05:02:33.752Z"
   },
   {
    "duration": 16,
    "start_time": "2022-02-08T05:02:37.231Z"
   },
   {
    "duration": 17,
    "start_time": "2022-02-08T05:04:27.025Z"
   },
   {
    "duration": 53,
    "start_time": "2022-02-08T05:11:16.670Z"
   },
   {
    "duration": 69,
    "start_time": "2022-02-08T05:11:35.894Z"
   },
   {
    "duration": 69,
    "start_time": "2022-02-08T05:11:44.310Z"
   },
   {
    "duration": 44,
    "start_time": "2022-02-08T05:14:09.117Z"
   },
   {
    "duration": 49,
    "start_time": "2022-02-08T05:16:31.451Z"
   },
   {
    "duration": 65,
    "start_time": "2022-02-08T05:16:58.867Z"
   },
   {
    "duration": 65,
    "start_time": "2022-02-08T05:26:12.730Z"
   },
   {
    "duration": 4,
    "start_time": "2022-02-08T05:32:25.386Z"
   },
   {
    "duration": 10,
    "start_time": "2022-02-08T05:32:41.202Z"
   },
   {
    "duration": 260,
    "start_time": "2022-02-10T06:00:26.556Z"
   },
   {
    "duration": 579,
    "start_time": "2022-02-10T06:00:41.840Z"
   },
   {
    "duration": 146,
    "start_time": "2022-02-10T06:00:42.421Z"
   },
   {
    "duration": 18,
    "start_time": "2022-02-10T06:00:42.569Z"
   },
   {
    "duration": 35,
    "start_time": "2022-02-10T06:00:42.589Z"
   },
   {
    "duration": 3,
    "start_time": "2022-02-10T06:00:42.626Z"
   },
   {
    "duration": 30,
    "start_time": "2022-02-10T06:00:42.631Z"
   },
   {
    "duration": 7,
    "start_time": "2022-02-10T06:00:42.663Z"
   },
   {
    "duration": 45,
    "start_time": "2022-02-10T06:00:42.673Z"
   },
   {
    "duration": 20,
    "start_time": "2022-02-10T06:00:42.720Z"
   },
   {
    "duration": 23,
    "start_time": "2022-02-10T06:00:42.742Z"
   },
   {
    "duration": 85,
    "start_time": "2022-02-10T06:00:42.767Z"
   },
   {
    "duration": 86,
    "start_time": "2022-02-10T06:00:42.855Z"
   },
   {
    "duration": 64,
    "start_time": "2022-02-10T06:00:42.943Z"
   },
   {
    "duration": 6,
    "start_time": "2022-02-10T06:00:43.010Z"
   },
   {
    "duration": 9,
    "start_time": "2022-02-10T06:00:43.018Z"
   },
   {
    "duration": 33,
    "start_time": "2022-02-10T06:00:43.029Z"
   },
   {
    "duration": 14,
    "start_time": "2022-02-10T06:00:43.064Z"
   },
   {
    "duration": 18,
    "start_time": "2022-02-10T06:00:43.080Z"
   },
   {
    "duration": 17,
    "start_time": "2022-02-10T06:00:43.100Z"
   },
   {
    "duration": 13,
    "start_time": "2022-02-10T06:00:43.119Z"
   },
   {
    "duration": 106,
    "start_time": "2022-02-10T06:00:43.134Z"
   },
   {
    "duration": 9,
    "start_time": "2022-02-10T06:00:43.242Z"
   },
   {
    "duration": 13,
    "start_time": "2022-02-10T06:00:43.254Z"
   },
   {
    "duration": 3,
    "start_time": "2022-02-10T06:00:43.269Z"
   },
   {
    "duration": 8,
    "start_time": "2022-02-10T06:00:43.273Z"
   },
   {
    "duration": 11,
    "start_time": "2022-02-10T06:00:43.309Z"
   },
   {
    "duration": 6,
    "start_time": "2022-02-10T06:00:43.322Z"
   },
   {
    "duration": 11,
    "start_time": "2022-02-10T06:00:43.329Z"
   },
   {
    "duration": 11,
    "start_time": "2022-02-10T06:00:43.341Z"
   },
   {
    "duration": 8,
    "start_time": "2022-02-10T06:00:43.354Z"
   },
   {
    "duration": 10,
    "start_time": "2022-02-10T06:00:43.364Z"
   },
   {
    "duration": 9,
    "start_time": "2022-02-10T06:00:43.376Z"
   },
   {
    "duration": 11,
    "start_time": "2022-02-10T06:00:43.387Z"
   },
   {
    "duration": 19,
    "start_time": "2022-02-10T06:00:59.669Z"
   },
   {
    "duration": 14,
    "start_time": "2022-02-10T06:01:51.862Z"
   },
   {
    "duration": 5,
    "start_time": "2022-02-10T06:49:24.910Z"
   },
   {
    "duration": 444,
    "start_time": "2022-02-10T06:52:36.712Z"
   },
   {
    "duration": 4,
    "start_time": "2022-02-10T06:59:35.360Z"
   },
   {
    "duration": 423,
    "start_time": "2022-02-10T06:59:39.217Z"
   },
   {
    "duration": 16,
    "start_time": "2022-02-10T07:03:30.822Z"
   },
   {
    "duration": 22,
    "start_time": "2022-02-10T07:04:07.318Z"
   },
   {
    "duration": 15,
    "start_time": "2022-02-10T07:04:15.695Z"
   },
   {
    "duration": 20,
    "start_time": "2022-02-10T07:04:34.423Z"
   },
   {
    "duration": 77,
    "start_time": "2022-02-10T07:04:46.391Z"
   },
   {
    "duration": 22,
    "start_time": "2022-02-10T07:04:53.471Z"
   },
   {
    "duration": 224,
    "start_time": "2022-02-10T07:05:23.021Z"
   },
   {
    "duration": 12,
    "start_time": "2022-02-10T07:05:27.912Z"
   },
   {
    "duration": 16,
    "start_time": "2022-02-10T07:05:34.895Z"
   },
   {
    "duration": 256,
    "start_time": "2022-02-10T07:06:12.856Z"
   },
   {
    "duration": 24,
    "start_time": "2022-02-10T07:06:23.777Z"
   },
   {
    "duration": 24,
    "start_time": "2022-02-10T07:06:42.081Z"
   },
   {
    "duration": 21,
    "start_time": "2022-02-10T07:06:50.089Z"
   },
   {
    "duration": 21,
    "start_time": "2022-02-10T07:06:59.489Z"
   },
   {
    "duration": 22,
    "start_time": "2022-02-10T07:07:19.849Z"
   },
   {
    "duration": 26,
    "start_time": "2022-02-10T07:07:56.810Z"
   },
   {
    "duration": 24,
    "start_time": "2022-02-10T07:08:06.186Z"
   },
   {
    "duration": 24,
    "start_time": "2022-02-10T07:09:16.036Z"
   },
   {
    "duration": 23,
    "start_time": "2022-02-10T07:10:22.862Z"
   },
   {
    "duration": 3,
    "start_time": "2022-02-10T07:10:32.397Z"
   },
   {
    "duration": 169,
    "start_time": "2022-02-10T07:10:32.402Z"
   },
   {
    "duration": 12,
    "start_time": "2022-02-10T07:10:32.573Z"
   },
   {
    "duration": 40,
    "start_time": "2022-02-10T07:10:32.587Z"
   },
   {
    "duration": 10,
    "start_time": "2022-02-10T07:10:32.629Z"
   },
   {
    "duration": 38,
    "start_time": "2022-02-10T07:10:32.641Z"
   },
   {
    "duration": 5,
    "start_time": "2022-02-10T07:10:32.681Z"
   },
   {
    "duration": 48,
    "start_time": "2022-02-10T07:10:32.688Z"
   },
   {
    "duration": 20,
    "start_time": "2022-02-10T07:10:32.739Z"
   },
   {
    "duration": 29,
    "start_time": "2022-02-10T07:10:32.761Z"
   },
   {
    "duration": 61,
    "start_time": "2022-02-10T07:10:32.792Z"
   },
   {
    "duration": 80,
    "start_time": "2022-02-10T07:10:32.855Z"
   },
   {
    "duration": 55,
    "start_time": "2022-02-10T07:10:32.937Z"
   },
   {
    "duration": 16,
    "start_time": "2022-02-10T07:10:32.994Z"
   },
   {
    "duration": 3,
    "start_time": "2022-02-10T07:10:33.011Z"
   },
   {
    "duration": 21,
    "start_time": "2022-02-10T07:10:33.016Z"
   },
   {
    "duration": 7,
    "start_time": "2022-02-10T07:10:33.038Z"
   },
   {
    "duration": 14,
    "start_time": "2022-02-10T07:10:33.047Z"
   },
   {
    "duration": 11,
    "start_time": "2022-02-10T07:10:33.063Z"
   },
   {
    "duration": 4,
    "start_time": "2022-02-10T07:10:33.107Z"
   },
   {
    "duration": 97,
    "start_time": "2022-02-10T07:10:33.112Z"
   },
   {
    "duration": 9,
    "start_time": "2022-02-10T07:10:33.211Z"
   },
   {
    "duration": 14,
    "start_time": "2022-02-10T07:10:33.223Z"
   },
   {
    "duration": 13,
    "start_time": "2022-02-10T07:10:33.239Z"
   },
   {
    "duration": 55,
    "start_time": "2022-02-10T07:10:33.253Z"
   },
   {
    "duration": 419,
    "start_time": "2022-02-10T07:10:33.310Z"
   },
   {
    "duration": 226,
    "start_time": "2022-02-10T07:10:33.505Z"
   },
   {
    "duration": 225,
    "start_time": "2022-02-10T07:10:33.508Z"
   },
   {
    "duration": 224,
    "start_time": "2022-02-10T07:10:33.510Z"
   },
   {
    "duration": 224,
    "start_time": "2022-02-10T07:10:33.512Z"
   },
   {
    "duration": 223,
    "start_time": "2022-02-10T07:10:33.514Z"
   },
   {
    "duration": 222,
    "start_time": "2022-02-10T07:10:33.517Z"
   },
   {
    "duration": 221,
    "start_time": "2022-02-10T07:10:33.519Z"
   },
   {
    "duration": 24,
    "start_time": "2022-02-10T07:11:00.078Z"
   },
   {
    "duration": 28,
    "start_time": "2022-02-10T07:11:31.391Z"
   },
   {
    "duration": 24,
    "start_time": "2022-02-10T07:13:18.872Z"
   },
   {
    "duration": 20,
    "start_time": "2022-02-10T07:13:26.968Z"
   },
   {
    "duration": 18,
    "start_time": "2022-02-10T07:13:37.977Z"
   },
   {
    "duration": 18,
    "start_time": "2022-02-10T07:14:10.017Z"
   },
   {
    "duration": 19,
    "start_time": "2022-02-10T07:14:15.377Z"
   },
   {
    "duration": 25,
    "start_time": "2022-02-10T07:14:22.034Z"
   },
   {
    "duration": 21,
    "start_time": "2022-02-10T07:15:07.067Z"
   },
   {
    "duration": 22,
    "start_time": "2022-02-10T07:15:47.419Z"
   },
   {
    "duration": 222,
    "start_time": "2022-02-10T07:22:22.403Z"
   },
   {
    "duration": 234,
    "start_time": "2022-02-10T07:22:51.220Z"
   },
   {
    "duration": 25,
    "start_time": "2022-02-10T07:24:32.765Z"
   },
   {
    "duration": 219,
    "start_time": "2022-02-10T07:25:06.606Z"
   },
   {
    "duration": 210,
    "start_time": "2022-02-10T07:25:13.558Z"
   },
   {
    "duration": 25,
    "start_time": "2022-02-10T07:25:18.982Z"
   },
   {
    "duration": 36,
    "start_time": "2022-02-10T07:26:37.696Z"
   },
   {
    "duration": 50,
    "start_time": "2022-02-10T07:29:05.955Z"
   },
   {
    "duration": 6,
    "start_time": "2022-02-10T07:29:52.812Z"
   },
   {
    "duration": 21,
    "start_time": "2022-02-10T07:29:56.172Z"
   },
   {
    "duration": 36,
    "start_time": "2022-02-10T07:40:10.942Z"
   },
   {
    "duration": 4,
    "start_time": "2022-02-10T07:41:56.562Z"
   },
   {
    "duration": 3,
    "start_time": "2022-02-10T07:42:14.994Z"
   },
   {
    "duration": 21,
    "start_time": "2022-02-10T07:42:32.739Z"
   },
   {
    "duration": 22,
    "start_time": "2022-02-10T07:42:49.923Z"
   },
   {
    "duration": 20,
    "start_time": "2022-02-10T07:44:11.229Z"
   },
   {
    "duration": 15,
    "start_time": "2022-02-10T07:45:29.798Z"
   },
   {
    "duration": 17,
    "start_time": "2022-02-10T07:49:38.499Z"
   },
   {
    "duration": 13,
    "start_time": "2022-02-10T07:49:40.762Z"
   },
   {
    "duration": 12,
    "start_time": "2022-02-10T07:57:29.237Z"
   },
   {
    "duration": 13,
    "start_time": "2022-02-10T07:58:40.342Z"
   },
   {
    "duration": 9,
    "start_time": "2022-02-10T07:59:19.886Z"
   },
   {
    "duration": 6,
    "start_time": "2022-02-10T07:59:35.343Z"
   },
   {
    "duration": 4,
    "start_time": "2022-02-10T07:59:44.559Z"
   },
   {
    "duration": 8,
    "start_time": "2022-02-10T08:02:35.402Z"
   },
   {
    "duration": 4,
    "start_time": "2022-02-10T08:02:58.067Z"
   },
   {
    "duration": 23,
    "start_time": "2022-02-10T08:04:38.861Z"
   },
   {
    "duration": 13,
    "start_time": "2022-02-10T08:04:43.157Z"
   },
   {
    "duration": 13,
    "start_time": "2022-02-10T08:06:05.654Z"
   },
   {
    "duration": 20,
    "start_time": "2022-02-10T08:11:41.925Z"
   },
   {
    "duration": 19,
    "start_time": "2022-02-10T08:12:08.238Z"
   },
   {
    "duration": 19,
    "start_time": "2022-02-10T08:12:15.158Z"
   },
   {
    "duration": 3,
    "start_time": "2022-02-10T08:14:30.423Z"
   },
   {
    "duration": 18,
    "start_time": "2022-02-10T08:14:32.472Z"
   },
   {
    "duration": 16,
    "start_time": "2022-02-10T08:14:38.992Z"
   },
   {
    "duration": 19,
    "start_time": "2022-02-10T08:14:47.952Z"
   },
   {
    "duration": 84,
    "start_time": "2022-02-10T08:14:52.824Z"
   },
   {
    "duration": 16,
    "start_time": "2022-02-10T08:14:58.872Z"
   },
   {
    "duration": 19,
    "start_time": "2022-02-10T08:15:04.136Z"
   },
   {
    "duration": 17,
    "start_time": "2022-02-10T08:15:10.657Z"
   },
   {
    "duration": 4,
    "start_time": "2022-02-10T08:16:02.145Z"
   },
   {
    "duration": 236,
    "start_time": "2022-02-10T08:16:02.151Z"
   },
   {
    "duration": 19,
    "start_time": "2022-02-10T08:16:02.390Z"
   },
   {
    "duration": 37,
    "start_time": "2022-02-10T08:16:02.411Z"
   },
   {
    "duration": 7,
    "start_time": "2022-02-10T08:16:02.450Z"
   },
   {
    "duration": 28,
    "start_time": "2022-02-10T08:16:02.459Z"
   },
   {
    "duration": 28,
    "start_time": "2022-02-10T08:16:02.489Z"
   },
   {
    "duration": 36,
    "start_time": "2022-02-10T08:16:02.521Z"
   },
   {
    "duration": 35,
    "start_time": "2022-02-10T08:16:02.560Z"
   },
   {
    "duration": 47,
    "start_time": "2022-02-10T08:16:02.597Z"
   },
   {
    "duration": 99,
    "start_time": "2022-02-10T08:16:02.647Z"
   },
   {
    "duration": 125,
    "start_time": "2022-02-10T08:16:02.748Z"
   },
   {
    "duration": 93,
    "start_time": "2022-02-10T08:16:02.876Z"
   },
   {
    "duration": 10,
    "start_time": "2022-02-10T08:16:02.971Z"
   },
   {
    "duration": 32,
    "start_time": "2022-02-10T08:16:02.984Z"
   },
   {
    "duration": 31,
    "start_time": "2022-02-10T08:16:03.018Z"
   },
   {
    "duration": 10,
    "start_time": "2022-02-10T08:16:03.052Z"
   },
   {
    "duration": 28,
    "start_time": "2022-02-10T08:16:03.064Z"
   },
   {
    "duration": 30,
    "start_time": "2022-02-10T08:16:03.095Z"
   },
   {
    "duration": 4,
    "start_time": "2022-02-10T08:16:03.128Z"
   },
   {
    "duration": 39,
    "start_time": "2022-02-10T08:16:03.134Z"
   },
   {
    "duration": 35,
    "start_time": "2022-02-10T08:16:03.176Z"
   },
   {
    "duration": 26,
    "start_time": "2022-02-10T08:16:03.216Z"
   },
   {
    "duration": 36,
    "start_time": "2022-02-10T08:16:03.245Z"
   },
   {
    "duration": 35,
    "start_time": "2022-02-10T08:16:03.283Z"
   },
   {
    "duration": 21,
    "start_time": "2022-02-10T08:16:03.321Z"
   },
   {
    "duration": 15,
    "start_time": "2022-02-10T08:16:03.344Z"
   },
   {
    "duration": 59,
    "start_time": "2022-02-10T08:16:03.360Z"
   },
   {
    "duration": 15,
    "start_time": "2022-02-10T08:16:03.422Z"
   },
   {
    "duration": 6,
    "start_time": "2022-02-10T08:16:03.439Z"
   },
   {
    "duration": 42,
    "start_time": "2022-02-10T08:16:03.447Z"
   },
   {
    "duration": 25,
    "start_time": "2022-02-10T08:16:03.492Z"
   },
   {
    "duration": 27,
    "start_time": "2022-02-10T08:16:03.520Z"
   },
   {
    "duration": 15,
    "start_time": "2022-02-10T08:16:03.550Z"
   },
   {
    "duration": 46,
    "start_time": "2022-02-10T08:16:03.567Z"
   },
   {
    "duration": 6,
    "start_time": "2022-02-10T08:16:03.615Z"
   },
   {
    "duration": 20,
    "start_time": "2022-02-10T08:16:03.623Z"
   },
   {
    "duration": 12,
    "start_time": "2022-02-10T08:16:03.645Z"
   },
   {
    "duration": 729,
    "start_time": "2022-02-15T16:07:51.990Z"
   },
   {
    "duration": 196,
    "start_time": "2022-02-15T16:07:52.722Z"
   },
   {
    "duration": 42,
    "start_time": "2022-02-15T16:07:52.922Z"
   },
   {
    "duration": 32,
    "start_time": "2022-02-15T16:07:52.967Z"
   },
   {
    "duration": 5,
    "start_time": "2022-02-15T16:07:53.001Z"
   },
   {
    "duration": 57,
    "start_time": "2022-02-15T16:07:53.009Z"
   },
   {
    "duration": 5,
    "start_time": "2022-02-15T16:07:53.069Z"
   },
   {
    "duration": 29,
    "start_time": "2022-02-15T16:07:53.077Z"
   },
   {
    "duration": 45,
    "start_time": "2022-02-15T16:07:53.110Z"
   },
   {
    "duration": 27,
    "start_time": "2022-02-15T16:07:53.158Z"
   },
   {
    "duration": 96,
    "start_time": "2022-02-15T16:07:53.188Z"
   },
   {
    "duration": 112,
    "start_time": "2022-02-15T16:07:53.286Z"
   },
   {
    "duration": 81,
    "start_time": "2022-02-15T16:07:53.401Z"
   },
   {
    "duration": 9,
    "start_time": "2022-02-15T16:07:53.484Z"
   },
   {
    "duration": 5,
    "start_time": "2022-02-15T16:07:53.496Z"
   },
   {
    "duration": 55,
    "start_time": "2022-02-15T16:07:53.504Z"
   },
   {
    "duration": 11,
    "start_time": "2022-02-15T16:07:53.561Z"
   },
   {
    "duration": 16,
    "start_time": "2022-02-15T16:07:53.575Z"
   },
   {
    "duration": 15,
    "start_time": "2022-02-15T16:07:53.594Z"
   },
   {
    "duration": 4,
    "start_time": "2022-02-15T16:07:53.649Z"
   },
   {
    "duration": 27,
    "start_time": "2022-02-15T16:07:53.656Z"
   },
   {
    "duration": 24,
    "start_time": "2022-02-15T16:07:53.685Z"
   },
   {
    "duration": 45,
    "start_time": "2022-02-15T16:07:53.712Z"
   },
   {
    "duration": 17,
    "start_time": "2022-02-15T16:07:53.760Z"
   },
   {
    "duration": 18,
    "start_time": "2022-02-15T16:07:53.779Z"
   },
   {
    "duration": 48,
    "start_time": "2022-02-15T16:07:53.800Z"
   },
   {
    "duration": 14,
    "start_time": "2022-02-15T16:07:53.854Z"
   },
   {
    "duration": 22,
    "start_time": "2022-02-15T16:07:53.871Z"
   },
   {
    "duration": 13,
    "start_time": "2022-02-15T16:07:53.895Z"
   },
   {
    "duration": 5,
    "start_time": "2022-02-15T16:07:53.910Z"
   },
   {
    "duration": 29,
    "start_time": "2022-02-15T16:07:53.948Z"
   },
   {
    "duration": 18,
    "start_time": "2022-02-15T16:07:53.980Z"
   },
   {
    "duration": 57,
    "start_time": "2022-02-15T16:07:54.001Z"
   },
   {
    "duration": 16,
    "start_time": "2022-02-15T16:07:54.061Z"
   },
   {
    "duration": 13,
    "start_time": "2022-02-15T16:07:54.080Z"
   },
   {
    "duration": 8,
    "start_time": "2022-02-15T16:07:54.096Z"
   },
   {
    "duration": 50,
    "start_time": "2022-02-15T16:07:54.106Z"
   },
   {
    "duration": 6,
    "start_time": "2022-02-15T16:07:54.159Z"
   },
   {
    "duration": 263,
    "start_time": "2022-02-16T15:00:13.293Z"
   },
   {
    "duration": 631,
    "start_time": "2022-02-16T15:00:33.951Z"
   },
   {
    "duration": 152,
    "start_time": "2022-02-16T15:00:34.584Z"
   },
   {
    "duration": 16,
    "start_time": "2022-02-16T15:00:34.738Z"
   },
   {
    "duration": 36,
    "start_time": "2022-02-16T15:00:34.756Z"
   },
   {
    "duration": 20,
    "start_time": "2022-02-16T15:00:34.794Z"
   },
   {
    "duration": 45,
    "start_time": "2022-02-16T15:00:34.816Z"
   },
   {
    "duration": 13,
    "start_time": "2022-02-16T15:00:34.863Z"
   },
   {
    "duration": 34,
    "start_time": "2022-02-16T15:00:34.879Z"
   },
   {
    "duration": 27,
    "start_time": "2022-02-16T15:00:34.915Z"
   },
   {
    "duration": 34,
    "start_time": "2022-02-16T15:00:34.944Z"
   },
   {
    "duration": 91,
    "start_time": "2022-02-16T15:00:34.980Z"
   },
   {
    "duration": 73,
    "start_time": "2022-02-16T15:00:35.073Z"
   },
   {
    "duration": 68,
    "start_time": "2022-02-16T15:00:35.148Z"
   },
   {
    "duration": 6,
    "start_time": "2022-02-16T15:00:35.218Z"
   },
   {
    "duration": 15,
    "start_time": "2022-02-16T15:00:35.226Z"
   },
   {
    "duration": 63,
    "start_time": "2022-02-16T15:00:35.242Z"
   },
   {
    "duration": 26,
    "start_time": "2022-02-16T15:00:35.307Z"
   },
   {
    "duration": 32,
    "start_time": "2022-02-16T15:00:35.335Z"
   },
   {
    "duration": 15,
    "start_time": "2022-02-16T15:00:35.369Z"
   },
   {
    "duration": 12,
    "start_time": "2022-02-16T15:00:35.387Z"
   },
   {
    "duration": 38,
    "start_time": "2022-02-16T15:00:35.401Z"
   },
   {
    "duration": 29,
    "start_time": "2022-02-16T15:00:35.441Z"
   },
   {
    "duration": 22,
    "start_time": "2022-02-16T15:00:35.473Z"
   },
   {
    "duration": 15,
    "start_time": "2022-02-16T15:00:35.497Z"
   },
   {
    "duration": 22,
    "start_time": "2022-02-16T15:00:35.514Z"
   },
   {
    "duration": 35,
    "start_time": "2022-02-16T15:00:35.538Z"
   },
   {
    "duration": 9,
    "start_time": "2022-02-16T15:00:35.575Z"
   },
   {
    "duration": 28,
    "start_time": "2022-02-16T15:00:35.585Z"
   },
   {
    "duration": 24,
    "start_time": "2022-02-16T15:00:35.615Z"
   },
   {
    "duration": 11,
    "start_time": "2022-02-16T15:00:35.640Z"
   },
   {
    "duration": 50,
    "start_time": "2022-02-16T15:00:35.653Z"
   },
   {
    "duration": 27,
    "start_time": "2022-02-16T15:00:35.705Z"
   },
   {
    "duration": 24,
    "start_time": "2022-02-16T15:00:35.734Z"
   },
   {
    "duration": 11,
    "start_time": "2022-02-16T15:00:35.760Z"
   },
   {
    "duration": 16,
    "start_time": "2022-02-16T15:00:35.773Z"
   },
   {
    "duration": 14,
    "start_time": "2022-02-16T15:00:35.790Z"
   },
   {
    "duration": 20,
    "start_time": "2022-02-16T15:00:35.806Z"
   },
   {
    "duration": 34,
    "start_time": "2022-02-16T15:00:35.828Z"
   },
   {
    "duration": 22,
    "start_time": "2022-02-16T15:04:23.647Z"
   },
   {
    "duration": 24,
    "start_time": "2022-02-16T15:05:42.133Z"
   },
   {
    "duration": 57,
    "start_time": "2022-02-16T15:05:52.101Z"
   },
   {
    "duration": 7,
    "start_time": "2022-02-16T15:07:45.025Z"
   },
   {
    "duration": 253,
    "start_time": "2022-02-16T15:11:00.808Z"
   },
   {
    "duration": 283,
    "start_time": "2022-02-16T15:12:52.891Z"
   },
   {
    "duration": 273,
    "start_time": "2022-02-16T15:12:57.249Z"
   },
   {
    "duration": 60,
    "start_time": "2022-02-16T15:13:01.377Z"
   },
   {
    "duration": 48,
    "start_time": "2022-02-16T15:14:55.564Z"
   },
   {
    "duration": 51,
    "start_time": "2022-02-16T15:14:58.678Z"
   },
   {
    "duration": 58,
    "start_time": "2022-02-16T15:15:30.721Z"
   },
   {
    "duration": 56,
    "start_time": "2022-02-16T15:16:45.395Z"
   },
   {
    "duration": 56,
    "start_time": "2022-02-16T15:16:52.071Z"
   },
   {
    "duration": 54,
    "start_time": "2022-02-16T15:17:02.153Z"
   },
   {
    "duration": 53,
    "start_time": "2022-02-16T15:28:00.357Z"
   },
   {
    "duration": 11,
    "start_time": "2022-02-16T15:28:50.439Z"
   },
   {
    "duration": 4,
    "start_time": "2022-02-16T15:30:14.721Z"
   },
   {
    "duration": 18,
    "start_time": "2022-02-16T15:30:22.518Z"
   },
   {
    "duration": 9,
    "start_time": "2022-02-16T15:31:12.322Z"
   },
   {
    "duration": 3,
    "start_time": "2022-02-16T15:32:07.809Z"
   },
   {
    "duration": 165,
    "start_time": "2022-02-16T15:32:07.816Z"
   },
   {
    "duration": 10,
    "start_time": "2022-02-16T15:32:07.983Z"
   },
   {
    "duration": 29,
    "start_time": "2022-02-16T15:32:07.995Z"
   },
   {
    "duration": 12,
    "start_time": "2022-02-16T15:32:08.026Z"
   },
   {
    "duration": 35,
    "start_time": "2022-02-16T15:32:08.039Z"
   },
   {
    "duration": 3,
    "start_time": "2022-02-16T15:32:08.076Z"
   },
   {
    "duration": 27,
    "start_time": "2022-02-16T15:32:08.080Z"
   },
   {
    "duration": 20,
    "start_time": "2022-02-16T15:32:08.109Z"
   },
   {
    "duration": 41,
    "start_time": "2022-02-16T15:32:08.132Z"
   },
   {
    "duration": 58,
    "start_time": "2022-02-16T15:32:08.176Z"
   },
   {
    "duration": 81,
    "start_time": "2022-02-16T15:32:08.235Z"
   },
   {
    "duration": 60,
    "start_time": "2022-02-16T15:32:08.318Z"
   },
   {
    "duration": 57,
    "start_time": "2022-02-16T15:32:08.380Z"
   },
   {
    "duration": 3,
    "start_time": "2022-02-16T15:32:08.439Z"
   },
   {
    "duration": 39,
    "start_time": "2022-02-16T15:32:08.444Z"
   },
   {
    "duration": 53,
    "start_time": "2022-02-16T15:32:08.485Z"
   },
   {
    "duration": 13,
    "start_time": "2022-02-16T15:32:08.539Z"
   },
   {
    "duration": 11,
    "start_time": "2022-02-16T15:32:08.570Z"
   },
   {
    "duration": 3,
    "start_time": "2022-02-16T15:32:08.583Z"
   },
   {
    "duration": 22,
    "start_time": "2022-02-16T15:32:08.588Z"
   },
   {
    "duration": 16,
    "start_time": "2022-02-16T15:32:08.611Z"
   },
   {
    "duration": 45,
    "start_time": "2022-02-16T15:32:08.629Z"
   },
   {
    "duration": 15,
    "start_time": "2022-02-16T15:32:08.676Z"
   },
   {
    "duration": 18,
    "start_time": "2022-02-16T15:32:08.692Z"
   },
   {
    "duration": 15,
    "start_time": "2022-02-16T15:32:08.712Z"
   },
   {
    "duration": 40,
    "start_time": "2022-02-16T15:32:08.729Z"
   },
   {
    "duration": 13,
    "start_time": "2022-02-16T15:32:08.773Z"
   },
   {
    "duration": 10,
    "start_time": "2022-02-16T15:32:08.788Z"
   },
   {
    "duration": 6,
    "start_time": "2022-02-16T15:32:08.800Z"
   },
   {
    "duration": 30,
    "start_time": "2022-02-16T15:32:08.807Z"
   },
   {
    "duration": 30,
    "start_time": "2022-02-16T15:32:08.839Z"
   },
   {
    "duration": 17,
    "start_time": "2022-02-16T15:32:08.871Z"
   },
   {
    "duration": 12,
    "start_time": "2022-02-16T15:32:08.890Z"
   },
   {
    "duration": 9,
    "start_time": "2022-02-16T15:32:08.904Z"
   },
   {
    "duration": 4,
    "start_time": "2022-02-16T15:32:08.915Z"
   },
   {
    "duration": 8,
    "start_time": "2022-02-16T15:32:08.921Z"
   },
   {
    "duration": 39,
    "start_time": "2022-02-16T15:32:08.931Z"
   },
   {
    "duration": 5,
    "start_time": "2022-02-16T15:34:16.983Z"
   },
   {
    "duration": 70,
    "start_time": "2022-02-16T15:34:47.040Z"
   },
   {
    "duration": 13,
    "start_time": "2022-02-16T15:34:53.023Z"
   },
   {
    "duration": 3,
    "start_time": "2022-02-16T15:35:20.224Z"
   },
   {
    "duration": 183,
    "start_time": "2022-02-16T15:35:20.230Z"
   },
   {
    "duration": 10,
    "start_time": "2022-02-16T15:35:20.415Z"
   },
   {
    "duration": 42,
    "start_time": "2022-02-16T15:35:20.427Z"
   },
   {
    "duration": 5,
    "start_time": "2022-02-16T15:35:20.471Z"
   },
   {
    "duration": 23,
    "start_time": "2022-02-16T15:35:20.477Z"
   },
   {
    "duration": 5,
    "start_time": "2022-02-16T15:35:20.502Z"
   },
   {
    "duration": 29,
    "start_time": "2022-02-16T15:35:20.509Z"
   },
   {
    "duration": 43,
    "start_time": "2022-02-16T15:35:20.543Z"
   },
   {
    "duration": 26,
    "start_time": "2022-02-16T15:35:20.589Z"
   },
   {
    "duration": 84,
    "start_time": "2022-02-16T15:35:20.617Z"
   },
   {
    "duration": 76,
    "start_time": "2022-02-16T15:35:20.703Z"
   },
   {
    "duration": 58,
    "start_time": "2022-02-16T15:35:20.781Z"
   },
   {
    "duration": 70,
    "start_time": "2022-02-16T15:35:20.840Z"
   },
   {
    "duration": 4,
    "start_time": "2022-02-16T15:35:20.913Z"
   },
   {
    "duration": 103,
    "start_time": "2022-02-16T15:35:20.919Z"
   },
   {
    "duration": 64,
    "start_time": "2022-02-16T15:35:21.025Z"
   },
   {
    "duration": 14,
    "start_time": "2022-02-16T15:35:21.091Z"
   },
   {
    "duration": 14,
    "start_time": "2022-02-16T15:35:21.107Z"
   },
   {
    "duration": 4,
    "start_time": "2022-02-16T15:35:21.123Z"
   },
   {
    "duration": 47,
    "start_time": "2022-02-16T15:35:21.129Z"
   },
   {
    "duration": 17,
    "start_time": "2022-02-16T15:35:21.179Z"
   },
   {
    "duration": 20,
    "start_time": "2022-02-16T15:35:21.198Z"
   },
   {
    "duration": 17,
    "start_time": "2022-02-16T15:35:21.222Z"
   },
   {
    "duration": 45,
    "start_time": "2022-02-16T15:35:21.241Z"
   },
   {
    "duration": 17,
    "start_time": "2022-02-16T15:35:21.287Z"
   },
   {
    "duration": 8,
    "start_time": "2022-02-16T15:35:21.306Z"
   },
   {
    "duration": 21,
    "start_time": "2022-02-16T15:35:21.316Z"
   },
   {
    "duration": 38,
    "start_time": "2022-02-16T15:35:21.338Z"
   },
   {
    "duration": 4,
    "start_time": "2022-02-16T15:35:21.378Z"
   },
   {
    "duration": 25,
    "start_time": "2022-02-16T15:35:21.384Z"
   },
   {
    "duration": 11,
    "start_time": "2022-02-16T15:35:21.411Z"
   },
   {
    "duration": 17,
    "start_time": "2022-02-16T15:35:21.424Z"
   },
   {
    "duration": 13,
    "start_time": "2022-02-16T15:35:21.469Z"
   },
   {
    "duration": 9,
    "start_time": "2022-02-16T15:35:21.483Z"
   },
   {
    "duration": 5,
    "start_time": "2022-02-16T15:35:21.494Z"
   },
   {
    "duration": 10,
    "start_time": "2022-02-16T15:35:21.501Z"
   },
   {
    "duration": 9,
    "start_time": "2022-02-16T15:35:21.513Z"
   },
   {
    "duration": 776,
    "start_time": "2022-02-16T15:49:55.874Z"
   },
   {
    "duration": 170,
    "start_time": "2022-02-16T15:49:56.820Z"
   },
   {
    "duration": 25,
    "start_time": "2022-02-16T15:49:57.553Z"
   },
   {
    "duration": 31,
    "start_time": "2022-02-16T15:49:59.014Z"
   },
   {
    "duration": 5,
    "start_time": "2022-02-16T15:50:06.156Z"
   },
   {
    "duration": 5,
    "start_time": "2022-02-16T15:50:08.599Z"
   }
  ],
  "colab": {
   "collapsed_sections": [
    "E0vqbgi9ay0H",
    "VUC88oWjTJw2"
   ],
   "name": "yandex_music_project_2021.2.ipynb",
   "provenance": []
  },
  "kernelspec": {
   "display_name": "Python 3 (ipykernel)",
   "language": "python",
   "name": "python3"
  },
  "language_info": {
   "codemirror_mode": {
    "name": "ipython",
    "version": 3
   },
   "file_extension": ".py",
   "mimetype": "text/x-python",
   "name": "python",
   "nbconvert_exporter": "python",
   "pygments_lexer": "ipython3",
   "version": "3.9.15"
  },
  "toc": {
   "base_numbering": 1,
   "nav_menu": {},
   "number_sections": true,
   "sideBar": true,
   "skip_h1_title": true,
   "title_cell": "Table of Contents",
   "title_sidebar": "Contents",
   "toc_cell": false,
   "toc_position": {
    "height": "calc(100% - 180px)",
    "left": "10px",
    "top": "150px",
    "width": "165px"
   },
   "toc_section_display": true,
   "toc_window_display": true
  }
 },
 "nbformat": 4,
 "nbformat_minor": 1
}
