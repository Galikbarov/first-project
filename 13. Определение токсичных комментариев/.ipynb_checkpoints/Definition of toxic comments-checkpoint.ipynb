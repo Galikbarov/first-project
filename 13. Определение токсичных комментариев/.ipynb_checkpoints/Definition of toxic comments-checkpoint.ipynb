{
 "cells": [
  {
   "cell_type": "markdown",
   "metadata": {},
   "source": [
    "<div class=\"alert alert-info\">\n",
    "<font size=\"5\"><b>Комментарий ревьюера</b></font>\n",
    "\n",
    "Привет Роман! Меня зовут Марат, и я буду твоим ревьюером. Спешу сообщить что все ключевые этапы в работе выполнены,  с задачей тебе удалось справиться. По поводу обращения - в IT сфере принято общаться на «ты» :) Но, если привычней на «вы», дай знать. Как ревьюера моя задача помочь тебе в развитии, дав хорошие советы. Я внимательно посмотрю твой код, ознакомлюсь с твоими выводами и оставлю комментарии. Где то могу предложить небольшие исправление в коде, но ненавязчиво. Где потребуются уточнения, я оставлю много наводящих вопросов. Они помогут тебя с поиском верного решения.\n",
    "\n",
    "Все мои комментарии размечены по цветам, для лучшего восприятия. \n",
    "    \n",
    "<div class=\"alert alert-success\">Зеленым цветом и словом «Успех» отмечены особо удачные и элегантные решения, которыми ты можешь гордиться. </div>\n",
    "        \n",
    "<div class=\"alert alert-warning\">Желтым и значком словом «Совет», помечены решения у которых есть альтернативные решения, более оптимальные. Ты можешь найти их сразу и доработать проект, или отложить это на потом, для будущих проектах. Проект будет принят и без их доработки. </div>\n",
    "        \n",
    "<div class=\"alert alert-danger\"> Красным цветом и значком словом «Ошибка» помечу твои решения, на которые стоит обратить внимание прежде всего. После их доработки проект будет принят. </div>\n",
    "        \n",
    "Залог успеха - работа сообща, взаимное уважение и работа в диалоге. Поэтому, помечай свои ответные комментарии на мои реплики заметным цветом или курсивом, так мне будет легче их отслеживать. Пожалуйста, не изменяй и не удаляй мои комментарии. Все это поможет выполнить повторную проверку быстрей.\n",
    "\n",
    "</div>"
   ]
  },
  {
   "cell_type": "markdown",
   "metadata": {
    "id": "M1B56QkInTur",
    "toc": true
   },
   "source": [
    "<h1>Содержание<span class=\"tocSkip\"></span></h1>\n",
    "<div class=\"toc\"><ul class=\"toc-item\"><li><span><a href=\"#Подготовка\" data-toc-modified-id=\"Подготовка-1\"><span class=\"toc-item-num\">1&nbsp;&nbsp;</span>Подготовка</a></span></li><li><span><a href=\"#Обучение\" data-toc-modified-id=\"Обучение-2\"><span class=\"toc-item-num\">2&nbsp;&nbsp;</span>Обучение</a></span><ul class=\"toc-item\"><li><span><a href=\"#Логистическая-регрессия\" data-toc-modified-id=\"Логистическая-регрессия-2.1\"><span class=\"toc-item-num\">2.1&nbsp;&nbsp;</span>Логистическая регрессия</a></span></li><li><span><a href=\"#Решающее-дерево\" data-toc-modified-id=\"Решающее-дерево-2.2\"><span class=\"toc-item-num\">2.2&nbsp;&nbsp;</span>Решающее дерево</a></span></li><li><span><a href=\"#Случайный-лес\" data-toc-modified-id=\"Случайный-лес-2.3\"><span class=\"toc-item-num\">2.3&nbsp;&nbsp;</span>Случайный лес</a></span></li><li><span><a href=\"#Проверка-лучшей-модели-(Логистической-регрессии)-на-тестовой-выборке\" data-toc-modified-id=\"Проверка-лучшей-модели-(Логистической-регрессии)-на-тестовой-выборке-2.4\"><span class=\"toc-item-num\">2.4&nbsp;&nbsp;</span>Проверка лучшей модели (Логистической регрессии) на тестовой выборке</a></span></li></ul></li><li><span><a href=\"#Выводы\" data-toc-modified-id=\"Выводы-3\"><span class=\"toc-item-num\">3&nbsp;&nbsp;</span>Выводы</a></span></li></ul></div>"
   ]
  },
  {
   "cell_type": "markdown",
   "metadata": {
    "id": "gSTWT27ZU143"
   },
   "source": [
    "# Проект для «Викишоп»"
   ]
  },
  {
   "cell_type": "markdown",
   "metadata": {
    "id": "ldnB-l9mU144"
   },
   "source": [
    "Интернет-магазин «Викишоп» запускает новый сервис. Теперь пользователи могут редактировать и дополнять описания товаров, как в вики-сообществах. То есть клиенты предлагают свои правки и комментируют изменения других. Магазину нужен инструмент, который будет искать токсичные комментарии и отправлять их на модерацию. \n",
    "\n",
    "\n",
    "**Цель исследования:**\n",
    "\n",
    "Обучим модель классифицировать комментарии на позитивные и негативные. В нашем распоряжении набор данных с разметкой о токсичности правок.\n",
    "\n",
    "**Описание данных:**\n",
    "\n",
    "\n",
    "Данные находятся в файле `toxic_comments.csv`.\n",
    "\n",
    "Столбец `text` в нём содержит текст комментария, а `toxic` — целевой признак.\n",
    "\n",
    "\n",
    "**Ход исследования:** \n",
    "\n",
    "Таким образом, исследование пройдёт несколько этапов:\n",
    "1. Загрузим и подготовим данные.\n",
    "2. Обучим разные модели. \n",
    "3. Сделаем выводы.\n",
    " \n",
    "*Построим модель со значением метрики качества F1 не меньше 0.75.*"
   ]
  },
  {
   "cell_type": "markdown",
   "metadata": {},
   "source": [
    "<div class=\"alert alert-success\">\n",
    "<font size=\"5\"><b>Комментарий ревьюера</b></font>\n",
    "\n",
    "Успех:\n",
    "\n",
    "Вступление в работу очень важно, так человек, который смотрит твой проект (и на работе в том числе) будет сразу введен в курс дела. \n",
    "     \n",
    "    \n",
    " \n",
    "\n",
    "<div class=\"alert alert-warning\">\n",
    "\n",
    "\n",
    "Совет: \n",
    "   \n",
    "Вопросик, при желании можешь ответить )\n",
    "    \n",
    "    \n",
    "- а почему по твоему была выбрана метрика f1? \n",
    "    \n",
    "    \n",
    "- а что если бы нам было нужно найти как можно больше токсичных комментариев, в этом случаи на какую метрику мы бы ориентировались?\n",
    "    \n",
    "    \n",
    "- каким образом мы можем изменить функцию ошибки в модели, чтобы она максимизировала интересующую нас метрику (accuracy, f1, precision, roc-auc итп)?    \n",
    "\n",
    "\n",
    "\n",
    "</div>"
   ]
  },
  {
   "cell_type": "markdown",
   "metadata": {},
   "source": [
    "<div class=\"alert alert-info\">\n",
    "<h2> Комментарий студента (ревью №1)<a class=\"tocSkip\"> </h2>\n",
    "\n",
    "Постараюсь)\n",
    "    \n",
    "1. Потому что она показывает среднюю картину между точностью и плотностью. Этакая золотая середина. Правда плотность мне тяжеловато понимается  - это отношение истинно положительных предсказаний ко всем положительным, насколько я помню.  \n",
    "\n",
    "2. Мне кажется, что на точность. Смотрели бы отношение верно предсказанных значений ко всем значениям.\n",
    "    \n",
    "3. Затрудняюсь с ответом, не сталкивался с таким. Можно пожалуйста подробнее про это рассказать, интересно очень.\n",
    "    \n",
    "</div>"
   ]
  },
  {
   "cell_type": "markdown",
   "metadata": {},
   "source": [
    "<div class=\"alert alert-success\">\n",
    "<font size=\"5\"><b>Комментарий ревьюераV2</b></font>\n",
    "\n",
    "Успех:\n",
    "\n",
    "- Верно.  А ещё если сравнить метрику f1 и accuracy, их достоинства и недостатки, то первое что бросается в глаза - accuracy \"привирает\" в случаи дисбаланса классов в таргете, а это как раз наш случай. а f1 это среднее гармоническое между precision и recall, адекватно оценивающие качество модели и в случаи дисбаланса. \n",
    "\n",
    "\n",
    "\n",
    "\n",
    "- тут бы ориентировались на recall для токсичных комментариев\n",
    "\n",
    "По поводу precision и recall метрик, на примере:\n",
    "    \n",
    "Всего единичек (положительный класс) 200 случаев\n",
    "Ты предсказал 150 единичек, из которых 100 угадал\n",
    "    \n",
    "precision_score = 100/150 (150 раз предсказал единичку, из которых реальными оказалсь 100, 0,66 - точность)\n",
    "recall_score = 100/200 (из всех единичек - 200, ты смог правильно найти 100. 0,50 - полнота)\n",
    "\n",
    "Еще так можно понять смысл -  recall это про больных раком (нам нужно всех больных найти, если при этом среди подозреваемых окажется много здоровых, это не страшно),  precision это про котировки акций (нам не нужно поймать все движения вверх, но когда мы проогнозируем рост мы должны быть уверенны что точность высокая, потому что каждая ошиюка это убыток). То есть они с разных сторон оценивают качество прогноза, в каких-то задачах важнее будет поднять precision, каких-то в других recall. Вот поэтому так много метрик. Какой-то одной универсальной нет\n",
    "\n",
    "\n",
    "- тут подвох ) мы никак не можем изменить функцию ошибки, чтобы в процессе обучения, двигаясь по антиградиенту, минимизировались какие то конкретные метрики качества (precision или recall или roc-auc)\n",
    "\n",
    "</div>"
   ]
  },
  {
   "cell_type": "markdown",
   "metadata": {
    "id": "a10XtXq8rrMk"
   },
   "source": [
    "<div class=\"alert alert-info\">\n",
    "<h2> Комментарий студента <a class=\"tocSkip\"> </h2>\n",
    "\n",
    "Привет! Спасибо за проверку. У нас 11 февраля в этот раз объявили, что дедлайн будет в полной мере (нужно закрыть все проекты, включая последний). Я беспокоюсь, так как уже имею за плечами один академ. Будет здорово, если у тебя с учётом текущей нагрузки есть возможность не затягивать с проверкой, в свою очередь я буду мониторить и быстро реагировать на все твои ревью.\n",
    "    \n",
    "    \n",
    "</div>"
   ]
  },
  {
   "cell_type": "markdown",
   "metadata": {},
   "source": [
    "<div class=\"alert alert-warning\">\n",
    "<font size=\"5\"><b>Комментарий ревьюераV2</b></font>\n",
    "\n",
    "\n",
    "\n",
    "Совет 🤔:\n",
    "\n",
    "\n",
    "Буду проверять максимально быстро.  Но тут больше зависит от тебя - Не будут ошибок не будет затягивания в принятие проекта\n",
    "</div>\n"
   ]
  },
  {
   "cell_type": "markdown",
   "metadata": {},
   "source": [
    "<div class=\"alert alert-info\">\n",
    "<h2> Комментарий студента (ревью №1)<a class=\"tocSkip\"> </h2>\n",
    "\n",
    "Отлично!\n",
    "    \n",
    "    \n",
    "</div>"
   ]
  },
  {
   "cell_type": "markdown",
   "metadata": {
    "id": "alVVPAVRU145"
   },
   "source": [
    "## Подготовка"
   ]
  },
  {
   "cell_type": "code",
   "execution_count": 6,
   "metadata": {
    "colab": {
     "base_uri": "https://localhost:8080/"
    },
    "id": "fB78i69LU145",
    "outputId": "d4316b38-7064-4008-ff4e-7b5d3a66115b"
   },
   "outputs": [
    {
     "name": "stdout",
     "output_type": "stream",
     "text": [
      "Mounted at /content/drive\n"
     ]
    }
   ],
   "source": [
    "#from google.colab import drive  \n",
    "#drive.mount('/content/drive')"
   ]
  },
  {
   "cell_type": "code",
   "execution_count": 7,
   "metadata": {
    "colab": {
     "base_uri": "https://localhost:8080/"
    },
    "id": "SE7G1xBaVTyN",
    "outputId": "5229f439-29ac-43a6-8264-8932aff25fbf"
   },
   "outputs": [
    {
     "name": "stderr",
     "output_type": "stream",
     "text": [
      "[nltk_data] Downloading package wordnet to /root/nltk_data...\n",
      "[nltk_data]   Package wordnet is already up-to-date!\n",
      "[nltk_data] Downloading package punkt to /root/nltk_data...\n",
      "[nltk_data]   Package punkt is already up-to-date!\n",
      "[nltk_data] Downloading package omw-1.4 to /root/nltk_data...\n",
      "[nltk_data]   Package omw-1.4 is already up-to-date!\n",
      "[nltk_data] Downloading package averaged_perceptron_tagger to\n",
      "[nltk_data]     /root/nltk_data...\n",
      "[nltk_data]   Package averaged_perceptron_tagger is already up-to-\n",
      "[nltk_data]       date!\n",
      "[nltk_data] Downloading package stopwords to /root/nltk_data...\n",
      "[nltk_data]   Package stopwords is already up-to-date!\n"
     ]
    }
   ],
   "source": [
    "import os\n",
    "import pandas as pd\n",
    "import numpy as np\n",
    "import re\n",
    "import matplotlib.pyplot as plt\n",
    "import string\n",
    "import requests\n",
    "\n",
    "import nltk\n",
    "nltk.download('wordnet')\n",
    "nltk.download('punkt')\n",
    "nltk.download('omw-1.4')\n",
    "nltk.download('averaged_perceptron_tagger')\n",
    "nltk.download('stopwords')\n",
    "from nltk.stem import WordNetLemmatizer\n",
    "from nltk.corpus import wordnet\n",
    "from nltk.corpus import stopwords as nltk_stopwords\n",
    "from nltk import word_tokenize, sent_tokenize, FreqDist\n",
    "\n",
    "from sklearn.feature_extraction.text import TfidfVectorizer\n",
    "from sklearn.feature_extraction.text import CountVectorizer\n",
    "from sklearn.model_selection import train_test_split\n",
    "from sklearn.tree import DecisionTreeClassifier\n",
    "from sklearn.ensemble import RandomForestClassifier\n",
    "from sklearn.linear_model import LogisticRegression \n",
    "from sklearn.metrics import f1_score\n",
    "\n",
    "from collections import defaultdict, Counter"
   ]
  },
  {
   "cell_type": "markdown",
   "metadata": {},
   "source": [
    "\n",
    "<div class=\"alert alert-warning\">\n",
    "<font size=\"5\"><b>Комментарий ревьюера</b></font>\n",
    "\n",
    "Совет:\n",
    "\n",
    "    \n",
    "\n",
    "    \n",
    "- есть рекомендации PEP-8 при написании кода, в том числе и для импортов. Если интересно можешь почитать [тут](https://pythonworld.ru/osnovy/pep-8-rukovodstvo-po-napisaniyu-koda-na-python.html). Есть что поправить \n",
    "\n"
   ]
  },
  {
   "cell_type": "code",
   "execution_count": 8,
   "metadata": {
    "id": "Q3_npFkZH9R9"
   },
   "outputs": [],
   "source": [
    "#!ls /content/drive/MyDrive/Colab_Notebooks"
   ]
  },
  {
   "cell_type": "code",
   "execution_count": 9,
   "metadata": {
    "id": "t6JMtLZwVlS0"
   },
   "outputs": [],
   "source": [
    "pth1 = '/content/drive/MyDrive/Colab_Notebooks/toxic_comments.csv'\n",
    "pth2 = '/Users/roman/Desktop/Data Scientist/Practicum/Projects/4_text/toxic_comments.csv'\n",
    "\n",
    "data = pd.read_csv('/datasets/toxic_comments.csv') \n",
    "\n",
    "if os.path.exists(pth1):\n",
    "    data = pd.read_csv(pth1)\n",
    "elif os.path.exists(pth2):\n",
    "    data = pd.read_csv(pth2)\n",
    "else:\n",
    "    print('Что-то пошло не так')"
   ]
  },
  {
   "cell_type": "markdown",
   "metadata": {},
   "source": [
    "<div class=\"alert alert-danger\">\n",
    "<font size=\"5\"><b>Комментарий ревьюера</b></font>\n",
    "\n",
    "Ошибка:\n",
    "    \n",
    "Мне пришлось подправить твой код чтобы запустилось. Для некоторых особо строгих ревьюеров это основание завернуть работу без проверки, так что будь внимательней в следующий раз )\n",
    "    \n",
    "\n",
    "Добавь\n",
    "    \n",
    "    \n",
    "\tdata = pd.read_csv('/datasets/toxic_comments.csv')    \n",
    "</div>"
   ]
  },
  {
   "cell_type": "markdown",
   "metadata": {},
   "source": [
    "<div class=\"alert alert-info\">\n",
    "<h2> Комментарий студента (ревью №1)<a class=\"tocSkip\"> </h2>\n",
    "\n",
    "Добавил. Хочу уточнить, эта строчка специально для ревьюера/заказчика, чтобы он без падения кода мог его весь скомпелировать?\n",
    "    \n",
    "    \n",
    "</div>"
   ]
  },
  {
   "cell_type": "markdown",
   "metadata": {},
   "source": [
    "<div class=\"alert alert-warning\">\n",
    "<font size=\"5\"><b>Комментарий ревьюераV2</b></font>\n",
    "\n",
    "\n",
    "\n",
    "Совет 🤔:\n",
    "\n",
    "Это путь чтобы запускался в jupyterhub \n",
    "\n",
    "</div>\n"
   ]
  },
  {
   "cell_type": "code",
   "execution_count": 10,
   "metadata": {
    "colab": {
     "base_uri": "https://localhost:8080/",
     "height": 204
    },
    "id": "eWQ36C7WWICk",
    "outputId": "d8dfbfaf-46f7-47f2-c638-feb34f1db46d"
   },
   "outputs": [
    {
     "data": {
      "text/html": [
       "\n",
       "  <div id=\"df-06f0adc1-84da-4e62-953c-5c65d600cdea\">\n",
       "    <div class=\"colab-df-container\">\n",
       "      <div>\n",
       "<style scoped>\n",
       "    .dataframe tbody tr th:only-of-type {\n",
       "        vertical-align: middle;\n",
       "    }\n",
       "\n",
       "    .dataframe tbody tr th {\n",
       "        vertical-align: top;\n",
       "    }\n",
       "\n",
       "    .dataframe thead th {\n",
       "        text-align: right;\n",
       "    }\n",
       "</style>\n",
       "<table border=\"1\" class=\"dataframe\">\n",
       "  <thead>\n",
       "    <tr style=\"text-align: right;\">\n",
       "      <th></th>\n",
       "      <th>Unnamed: 0</th>\n",
       "      <th>text</th>\n",
       "      <th>toxic</th>\n",
       "    </tr>\n",
       "  </thead>\n",
       "  <tbody>\n",
       "    <tr>\n",
       "      <th>0</th>\n",
       "      <td>0</td>\n",
       "      <td>Explanation\\nWhy the edits made under my usern...</td>\n",
       "      <td>0</td>\n",
       "    </tr>\n",
       "    <tr>\n",
       "      <th>1</th>\n",
       "      <td>1</td>\n",
       "      <td>D'aww! He matches this background colour I'm s...</td>\n",
       "      <td>0</td>\n",
       "    </tr>\n",
       "    <tr>\n",
       "      <th>2</th>\n",
       "      <td>2</td>\n",
       "      <td>Hey man, I'm really not trying to edit war. It...</td>\n",
       "      <td>0</td>\n",
       "    </tr>\n",
       "    <tr>\n",
       "      <th>3</th>\n",
       "      <td>3</td>\n",
       "      <td>\"\\nMore\\nI can't make any real suggestions on ...</td>\n",
       "      <td>0</td>\n",
       "    </tr>\n",
       "    <tr>\n",
       "      <th>4</th>\n",
       "      <td>4</td>\n",
       "      <td>You, sir, are my hero. Any chance you remember...</td>\n",
       "      <td>0</td>\n",
       "    </tr>\n",
       "  </tbody>\n",
       "</table>\n",
       "</div>\n",
       "      <button class=\"colab-df-convert\" onclick=\"convertToInteractive('df-06f0adc1-84da-4e62-953c-5c65d600cdea')\"\n",
       "              title=\"Convert this dataframe to an interactive table.\"\n",
       "              style=\"display:none;\">\n",
       "        \n",
       "  <svg xmlns=\"http://www.w3.org/2000/svg\" height=\"24px\"viewBox=\"0 0 24 24\"\n",
       "       width=\"24px\">\n",
       "    <path d=\"M0 0h24v24H0V0z\" fill=\"none\"/>\n",
       "    <path d=\"M18.56 5.44l.94 2.06.94-2.06 2.06-.94-2.06-.94-.94-2.06-.94 2.06-2.06.94zm-11 1L8.5 8.5l.94-2.06 2.06-.94-2.06-.94L8.5 2.5l-.94 2.06-2.06.94zm10 10l.94 2.06.94-2.06 2.06-.94-2.06-.94-.94-2.06-.94 2.06-2.06.94z\"/><path d=\"M17.41 7.96l-1.37-1.37c-.4-.4-.92-.59-1.43-.59-.52 0-1.04.2-1.43.59L10.3 9.45l-7.72 7.72c-.78.78-.78 2.05 0 2.83L4 21.41c.39.39.9.59 1.41.59.51 0 1.02-.2 1.41-.59l7.78-7.78 2.81-2.81c.8-.78.8-2.07 0-2.86zM5.41 20L4 18.59l7.72-7.72 1.47 1.35L5.41 20z\"/>\n",
       "  </svg>\n",
       "      </button>\n",
       "      \n",
       "  <style>\n",
       "    .colab-df-container {\n",
       "      display:flex;\n",
       "      flex-wrap:wrap;\n",
       "      gap: 12px;\n",
       "    }\n",
       "\n",
       "    .colab-df-convert {\n",
       "      background-color: #E8F0FE;\n",
       "      border: none;\n",
       "      border-radius: 50%;\n",
       "      cursor: pointer;\n",
       "      display: none;\n",
       "      fill: #1967D2;\n",
       "      height: 32px;\n",
       "      padding: 0 0 0 0;\n",
       "      width: 32px;\n",
       "    }\n",
       "\n",
       "    .colab-df-convert:hover {\n",
       "      background-color: #E2EBFA;\n",
       "      box-shadow: 0px 1px 2px rgba(60, 64, 67, 0.3), 0px 1px 3px 1px rgba(60, 64, 67, 0.15);\n",
       "      fill: #174EA6;\n",
       "    }\n",
       "\n",
       "    [theme=dark] .colab-df-convert {\n",
       "      background-color: #3B4455;\n",
       "      fill: #D2E3FC;\n",
       "    }\n",
       "\n",
       "    [theme=dark] .colab-df-convert:hover {\n",
       "      background-color: #434B5C;\n",
       "      box-shadow: 0px 1px 3px 1px rgba(0, 0, 0, 0.15);\n",
       "      filter: drop-shadow(0px 1px 2px rgba(0, 0, 0, 0.3));\n",
       "      fill: #FFFFFF;\n",
       "    }\n",
       "  </style>\n",
       "\n",
       "      <script>\n",
       "        const buttonEl =\n",
       "          document.querySelector('#df-06f0adc1-84da-4e62-953c-5c65d600cdea button.colab-df-convert');\n",
       "        buttonEl.style.display =\n",
       "          google.colab.kernel.accessAllowed ? 'block' : 'none';\n",
       "\n",
       "        async function convertToInteractive(key) {\n",
       "          const element = document.querySelector('#df-06f0adc1-84da-4e62-953c-5c65d600cdea');\n",
       "          const dataTable =\n",
       "            await google.colab.kernel.invokeFunction('convertToInteractive',\n",
       "                                                     [key], {});\n",
       "          if (!dataTable) return;\n",
       "\n",
       "          const docLinkHtml = 'Like what you see? Visit the ' +\n",
       "            '<a target=\"_blank\" href=https://colab.research.google.com/notebooks/data_table.ipynb>data table notebook</a>'\n",
       "            + ' to learn more about interactive tables.';\n",
       "          element.innerHTML = '';\n",
       "          dataTable['output_type'] = 'display_data';\n",
       "          await google.colab.output.renderOutput(dataTable, element);\n",
       "          const docLink = document.createElement('div');\n",
       "          docLink.innerHTML = docLinkHtml;\n",
       "          element.appendChild(docLink);\n",
       "        }\n",
       "      </script>\n",
       "    </div>\n",
       "  </div>\n",
       "  "
      ],
      "text/plain": [
       "   Unnamed: 0                                               text  toxic\n",
       "0           0  Explanation\\nWhy the edits made under my usern...      0\n",
       "1           1  D'aww! He matches this background colour I'm s...      0\n",
       "2           2  Hey man, I'm really not trying to edit war. It...      0\n",
       "3           3  \"\\nMore\\nI can't make any real suggestions on ...      0\n",
       "4           4  You, sir, are my hero. Any chance you remember...      0"
      ]
     },
     "execution_count": 10,
     "metadata": {},
     "output_type": "execute_result"
    }
   ],
   "source": [
    "data.sample()"
   ]
  },
  {
   "cell_type": "code",
   "execution_count": 11,
   "metadata": {
    "id": "YJNVCvEjGRea"
   },
   "outputs": [],
   "source": [
    "data = data.drop('Unnamed: 0', axis=1)"
   ]
  },
  {
   "cell_type": "markdown",
   "metadata": {},
   "source": [
    "<div class=\"alert alert-warning\">\n",
    "<font size=\"5\"><b>Комментарий ревьюера</b></font>\n",
    "\n",
    "Совет: \n",
    "\n",
    "\n",
    "Если не знаешь - чтобы не было столбца  `Unnamed: 0` при чтении файла можно так:\n",
    "\n",
    "\n",
    "    pd.read_csv(..., index_col=0)\n",
    "\n",
    "    \n",
    "(`Unnamed: 0` появляется при не совсем корректном сохранении файла)    \n",
    "\n",
    "<div>"
   ]
  },
  {
   "cell_type": "markdown",
   "metadata": {},
   "source": [
    "<div class=\"alert alert-info\">\n",
    "<h2> Комментарий студента (ревью №1)<a class=\"tocSkip\"> </h2>\n",
    "\n",
    "Понял, спасибо.\n",
    "    \n",
    "    \n",
    "</div>"
   ]
  },
  {
   "cell_type": "code",
   "execution_count": 12,
   "metadata": {
    "colab": {
     "base_uri": "https://localhost:8080/"
    },
    "id": "vx_ou8iUGRea",
    "outputId": "ad52acee-26c1-4701-91c4-7f120509fca0"
   },
   "outputs": [
    {
     "name": "stdout",
     "output_type": "stream",
     "text": [
      "<class 'pandas.core.frame.DataFrame'>\n",
      "RangeIndex: 159292 entries, 0 to 159291\n",
      "Data columns (total 2 columns):\n",
      " #   Column  Non-Null Count   Dtype \n",
      "---  ------  --------------   ----- \n",
      " 0   text    159292 non-null  object\n",
      " 1   toxic   159292 non-null  int64 \n",
      "dtypes: int64(1), object(1)\n",
      "memory usage: 2.4+ MB\n"
     ]
    }
   ],
   "source": [
    "data.info()"
   ]
  },
  {
   "cell_type": "code",
   "execution_count": 13,
   "metadata": {
    "colab": {
     "base_uri": "https://localhost:8080/"
    },
    "id": "cDHYvLYzBXKd",
    "outputId": "65640cbc-7a3c-449c-86d8-9e61653709d5"
   },
   "outputs": [
    {
     "data": {
      "text/plain": [
       "0    143106\n",
       "1     16186\n",
       "Name: toxic, dtype: int64"
      ]
     },
     "execution_count": 13,
     "metadata": {},
     "output_type": "execute_result"
    }
   ],
   "source": [
    "data.toxic.value_counts()"
   ]
  },
  {
   "cell_type": "markdown",
   "metadata": {
    "id": "TNhnJnT3CCXm"
   },
   "source": [
    "Обнаружен дисбаланс классов."
   ]
  },
  {
   "cell_type": "markdown",
   "metadata": {},
   "source": [
    "<div class=\"alert alert-success\">\n",
    "<font size=\"5\"><b>Комментарий ревьюера</b></font>\n",
    "\n",
    "Успех:\n",
    "\n",
    "Данные изучены. Небольшой EDA не помешает, так как это аналитический проект. \n",
    "\n",
    "\n",
    "Плюс за\n",
    "\n",
    "    \n",
    "\n",
    "    \n",
    "-  проверку на сбалансированность \n",
    "\n",
    "\n",
    "\n",
    "- промужуточный вывод в конце раздела\n",
    "\n",
    "\n",
    "<div class=\"alert alert-warning\">\n",
    "\n",
    "Совет: \n",
    "\n",
    "\n",
    "\n",
    "    \n",
    "- .sample вместо .head, ведь если данные каким то образом упорядоченны, то шансы увидеть что то разнообразное через .sample чуть выше чем через .head (или .tail)     \n",
    "   \n",
    "\n",
    "\n",
    "\n",
    "\n",
    "\n",
    "</div>\n",
    "\n",
    "\n"
   ]
  },
  {
   "cell_type": "markdown",
   "metadata": {},
   "source": [
    "<div class=\"alert alert-info\">\n",
    "<h2> Комментарий студента (ревью №1)<a class=\"tocSkip\"> </h2>\n",
    "\n",
    "Спасибо, буду знать.\n",
    "    \n",
    "    \n",
    "</div>"
   ]
  },
  {
   "cell_type": "code",
   "execution_count": 14,
   "metadata": {
    "id": "r5bmkeT4x-tB"
   },
   "outputs": [],
   "source": [
    "df = pd.DataFrame(data)"
   ]
  },
  {
   "cell_type": "markdown",
   "metadata": {
    "id": "1jtUAOtknTu1"
   },
   "source": [
    "Приведем текст к нижнему регистру:"
   ]
  },
  {
   "cell_type": "code",
   "execution_count": 15,
   "metadata": {
    "id": "WKEESPyxytXa"
   },
   "outputs": [],
   "source": [
    "df['text'] = df['text'].str.lower()"
   ]
  },
  {
   "cell_type": "code",
   "execution_count": 16,
   "metadata": {
    "id": "xdQcOcLqGRec"
   },
   "outputs": [],
   "source": [
    "df['length'] = df['text'].apply(len)"
   ]
  },
  {
   "cell_type": "code",
   "execution_count": 17,
   "metadata": {
    "colab": {
     "base_uri": "https://localhost:8080/",
     "height": 204
    },
    "id": "gFGFIzz3GRec",
    "outputId": "2eb0302b-65aa-4b1d-e1fc-8719573c0e7b"
   },
   "outputs": [
    {
     "data": {
      "text/html": [
       "\n",
       "  <div id=\"df-629beaea-b0ef-46ff-8155-ea7a59f943dd\">\n",
       "    <div class=\"colab-df-container\">\n",
       "      <div>\n",
       "<style scoped>\n",
       "    .dataframe tbody tr th:only-of-type {\n",
       "        vertical-align: middle;\n",
       "    }\n",
       "\n",
       "    .dataframe tbody tr th {\n",
       "        vertical-align: top;\n",
       "    }\n",
       "\n",
       "    .dataframe thead th {\n",
       "        text-align: right;\n",
       "    }\n",
       "</style>\n",
       "<table border=\"1\" class=\"dataframe\">\n",
       "  <thead>\n",
       "    <tr style=\"text-align: right;\">\n",
       "      <th></th>\n",
       "      <th>text</th>\n",
       "      <th>toxic</th>\n",
       "      <th>length</th>\n",
       "    </tr>\n",
       "  </thead>\n",
       "  <tbody>\n",
       "    <tr>\n",
       "      <th>0</th>\n",
       "      <td>explanation\\nwhy the edits made under my usern...</td>\n",
       "      <td>0</td>\n",
       "      <td>264</td>\n",
       "    </tr>\n",
       "    <tr>\n",
       "      <th>1</th>\n",
       "      <td>d'aww! he matches this background colour i'm s...</td>\n",
       "      <td>0</td>\n",
       "      <td>112</td>\n",
       "    </tr>\n",
       "    <tr>\n",
       "      <th>2</th>\n",
       "      <td>hey man, i'm really not trying to edit war. it...</td>\n",
       "      <td>0</td>\n",
       "      <td>233</td>\n",
       "    </tr>\n",
       "    <tr>\n",
       "      <th>3</th>\n",
       "      <td>\"\\nmore\\ni can't make any real suggestions on ...</td>\n",
       "      <td>0</td>\n",
       "      <td>622</td>\n",
       "    </tr>\n",
       "    <tr>\n",
       "      <th>4</th>\n",
       "      <td>you, sir, are my hero. any chance you remember...</td>\n",
       "      <td>0</td>\n",
       "      <td>67</td>\n",
       "    </tr>\n",
       "  </tbody>\n",
       "</table>\n",
       "</div>\n",
       "      <button class=\"colab-df-convert\" onclick=\"convertToInteractive('df-629beaea-b0ef-46ff-8155-ea7a59f943dd')\"\n",
       "              title=\"Convert this dataframe to an interactive table.\"\n",
       "              style=\"display:none;\">\n",
       "        \n",
       "  <svg xmlns=\"http://www.w3.org/2000/svg\" height=\"24px\"viewBox=\"0 0 24 24\"\n",
       "       width=\"24px\">\n",
       "    <path d=\"M0 0h24v24H0V0z\" fill=\"none\"/>\n",
       "    <path d=\"M18.56 5.44l.94 2.06.94-2.06 2.06-.94-2.06-.94-.94-2.06-.94 2.06-2.06.94zm-11 1L8.5 8.5l.94-2.06 2.06-.94-2.06-.94L8.5 2.5l-.94 2.06-2.06.94zm10 10l.94 2.06.94-2.06 2.06-.94-2.06-.94-.94-2.06-.94 2.06-2.06.94z\"/><path d=\"M17.41 7.96l-1.37-1.37c-.4-.4-.92-.59-1.43-.59-.52 0-1.04.2-1.43.59L10.3 9.45l-7.72 7.72c-.78.78-.78 2.05 0 2.83L4 21.41c.39.39.9.59 1.41.59.51 0 1.02-.2 1.41-.59l7.78-7.78 2.81-2.81c.8-.78.8-2.07 0-2.86zM5.41 20L4 18.59l7.72-7.72 1.47 1.35L5.41 20z\"/>\n",
       "  </svg>\n",
       "      </button>\n",
       "      \n",
       "  <style>\n",
       "    .colab-df-container {\n",
       "      display:flex;\n",
       "      flex-wrap:wrap;\n",
       "      gap: 12px;\n",
       "    }\n",
       "\n",
       "    .colab-df-convert {\n",
       "      background-color: #E8F0FE;\n",
       "      border: none;\n",
       "      border-radius: 50%;\n",
       "      cursor: pointer;\n",
       "      display: none;\n",
       "      fill: #1967D2;\n",
       "      height: 32px;\n",
       "      padding: 0 0 0 0;\n",
       "      width: 32px;\n",
       "    }\n",
       "\n",
       "    .colab-df-convert:hover {\n",
       "      background-color: #E2EBFA;\n",
       "      box-shadow: 0px 1px 2px rgba(60, 64, 67, 0.3), 0px 1px 3px 1px rgba(60, 64, 67, 0.15);\n",
       "      fill: #174EA6;\n",
       "    }\n",
       "\n",
       "    [theme=dark] .colab-df-convert {\n",
       "      background-color: #3B4455;\n",
       "      fill: #D2E3FC;\n",
       "    }\n",
       "\n",
       "    [theme=dark] .colab-df-convert:hover {\n",
       "      background-color: #434B5C;\n",
       "      box-shadow: 0px 1px 3px 1px rgba(0, 0, 0, 0.15);\n",
       "      filter: drop-shadow(0px 1px 2px rgba(0, 0, 0, 0.3));\n",
       "      fill: #FFFFFF;\n",
       "    }\n",
       "  </style>\n",
       "\n",
       "      <script>\n",
       "        const buttonEl =\n",
       "          document.querySelector('#df-629beaea-b0ef-46ff-8155-ea7a59f943dd button.colab-df-convert');\n",
       "        buttonEl.style.display =\n",
       "          google.colab.kernel.accessAllowed ? 'block' : 'none';\n",
       "\n",
       "        async function convertToInteractive(key) {\n",
       "          const element = document.querySelector('#df-629beaea-b0ef-46ff-8155-ea7a59f943dd');\n",
       "          const dataTable =\n",
       "            await google.colab.kernel.invokeFunction('convertToInteractive',\n",
       "                                                     [key], {});\n",
       "          if (!dataTable) return;\n",
       "\n",
       "          const docLinkHtml = 'Like what you see? Visit the ' +\n",
       "            '<a target=\"_blank\" href=https://colab.research.google.com/notebooks/data_table.ipynb>data table notebook</a>'\n",
       "            + ' to learn more about interactive tables.';\n",
       "          element.innerHTML = '';\n",
       "          dataTable['output_type'] = 'display_data';\n",
       "          await google.colab.output.renderOutput(dataTable, element);\n",
       "          const docLink = document.createElement('div');\n",
       "          docLink.innerHTML = docLinkHtml;\n",
       "          element.appendChild(docLink);\n",
       "        }\n",
       "      </script>\n",
       "    </div>\n",
       "  </div>\n",
       "  "
      ],
      "text/plain": [
       "                                                text  toxic  length\n",
       "0  explanation\\nwhy the edits made under my usern...      0     264\n",
       "1  d'aww! he matches this background colour i'm s...      0     112\n",
       "2  hey man, i'm really not trying to edit war. it...      0     233\n",
       "3  \"\\nmore\\ni can't make any real suggestions on ...      0     622\n",
       "4  you, sir, are my hero. any chance you remember...      0      67"
      ]
     },
     "execution_count": 17,
     "metadata": {},
     "output_type": "execute_result"
    }
   ],
   "source": [
    "df.head()"
   ]
  },
  {
   "cell_type": "markdown",
   "metadata": {
    "id": "H4Yfd9xGPIhl"
   },
   "source": [
    "Cделаем срезы по токсичным и нетоксичным комментариям и построим гистограммы:"
   ]
  },
  {
   "cell_type": "code",
   "execution_count": 18,
   "metadata": {
    "id": "qAij0vGwGRec"
   },
   "outputs": [],
   "source": [
    "toxic = df[df['toxic'] == 1]\n",
    "nontoxic = df[df['toxic'] != 1]"
   ]
  },
  {
   "cell_type": "code",
   "execution_count": 19,
   "metadata": {
    "colab": {
     "base_uri": "https://localhost:8080/",
     "height": 301
    },
    "id": "eXu19SQ5GRec",
    "outputId": "fd458fe2-3f37-4adc-a99f-d449d7d390ce"
   },
   "outputs": [
    {
     "data": {
      "image/png": "[encoded data removed]",
      "text/plain": [
       "<Figure size 432x288 with 1 Axes>"
      ]
     },
     "metadata": {
      "needs_background": "light"
     },
     "output_type": "display_data"
    }
   ],
   "source": [
    "toxic.length.hist()\n",
    "plt.xlabel('Количество символов', fontsize=14)\n",
    "plt.ylabel('Количество сообщений', fontsize=14)\n",
    "plt.title('Токсичные сообщения', fontsize=16)\n",
    "plt.show()"
   ]
  },
  {
   "cell_type": "code",
   "execution_count": 20,
   "metadata": {
    "colab": {
     "base_uri": "https://localhost:8080/",
     "height": 204
    },
    "id": "g3sLQguiGRec",
    "outputId": "b9e0fbad-68ab-447f-f7bd-7e4a3cbf8673"
   },
   "outputs": [
    {
     "data": {
      "text/html": [
       "\n",
       "  <div id=\"df-eb268a5b-6345-4abe-b687-e8ad4ca8389f\">\n",
       "    <div class=\"colab-df-container\">\n",
       "      <div>\n",
       "<style scoped>\n",
       "    .dataframe tbody tr th:only-of-type {\n",
       "        vertical-align: middle;\n",
       "    }\n",
       "\n",
       "    .dataframe tbody tr th {\n",
       "        vertical-align: top;\n",
       "    }\n",
       "\n",
       "    .dataframe thead th {\n",
       "        text-align: right;\n",
       "    }\n",
       "</style>\n",
       "<table border=\"1\" class=\"dataframe\">\n",
       "  <thead>\n",
       "    <tr style=\"text-align: right;\">\n",
       "      <th></th>\n",
       "      <th>text</th>\n",
       "      <th>toxic</th>\n",
       "      <th>length</th>\n",
       "    </tr>\n",
       "  </thead>\n",
       "  <tbody>\n",
       "    <tr>\n",
       "      <th>6</th>\n",
       "      <td>cocksucker before you piss around on my work</td>\n",
       "      <td>1</td>\n",
       "      <td>44</td>\n",
       "    </tr>\n",
       "    <tr>\n",
       "      <th>12</th>\n",
       "      <td>hey... what is it..\\n@ | talk .\\nwhat is it......</td>\n",
       "      <td>1</td>\n",
       "      <td>319</td>\n",
       "    </tr>\n",
       "    <tr>\n",
       "      <th>16</th>\n",
       "      <td>bye! \\n\\ndon't look, come or think of comming ...</td>\n",
       "      <td>1</td>\n",
       "      <td>57</td>\n",
       "    </tr>\n",
       "    <tr>\n",
       "      <th>42</th>\n",
       "      <td>you are gay or antisemmitian? \\n\\narchangel wh...</td>\n",
       "      <td>1</td>\n",
       "      <td>648</td>\n",
       "    </tr>\n",
       "    <tr>\n",
       "      <th>43</th>\n",
       "      <td>fuck your filthy mother in the ass, dry!</td>\n",
       "      <td>1</td>\n",
       "      <td>40</td>\n",
       "    </tr>\n",
       "  </tbody>\n",
       "</table>\n",
       "</div>\n",
       "      <button class=\"colab-df-convert\" onclick=\"convertToInteractive('df-eb268a5b-6345-4abe-b687-e8ad4ca8389f')\"\n",
       "              title=\"Convert this dataframe to an interactive table.\"\n",
       "              style=\"display:none;\">\n",
       "        \n",
       "  <svg xmlns=\"http://www.w3.org/2000/svg\" height=\"24px\"viewBox=\"0 0 24 24\"\n",
       "       width=\"24px\">\n",
       "    <path d=\"M0 0h24v24H0V0z\" fill=\"none\"/>\n",
       "    <path d=\"M18.56 5.44l.94 2.06.94-2.06 2.06-.94-2.06-.94-.94-2.06-.94 2.06-2.06.94zm-11 1L8.5 8.5l.94-2.06 2.06-.94-2.06-.94L8.5 2.5l-.94 2.06-2.06.94zm10 10l.94 2.06.94-2.06 2.06-.94-2.06-.94-.94-2.06-.94 2.06-2.06.94z\"/><path d=\"M17.41 7.96l-1.37-1.37c-.4-.4-.92-.59-1.43-.59-.52 0-1.04.2-1.43.59L10.3 9.45l-7.72 7.72c-.78.78-.78 2.05 0 2.83L4 21.41c.39.39.9.59 1.41.59.51 0 1.02-.2 1.41-.59l7.78-7.78 2.81-2.81c.8-.78.8-2.07 0-2.86zM5.41 20L4 18.59l7.72-7.72 1.47 1.35L5.41 20z\"/>\n",
       "  </svg>\n",
       "      </button>\n",
       "      \n",
       "  <style>\n",
       "    .colab-df-container {\n",
       "      display:flex;\n",
       "      flex-wrap:wrap;\n",
       "      gap: 12px;\n",
       "    }\n",
       "\n",
       "    .colab-df-convert {\n",
       "      background-color: #E8F0FE;\n",
       "      border: none;\n",
       "      border-radius: 50%;\n",
       "      cursor: pointer;\n",
       "      display: none;\n",
       "      fill: #1967D2;\n",
       "      height: 32px;\n",
       "      padding: 0 0 0 0;\n",
       "      width: 32px;\n",
       "    }\n",
       "\n",
       "    .colab-df-convert:hover {\n",
       "      background-color: #E2EBFA;\n",
       "      box-shadow: 0px 1px 2px rgba(60, 64, 67, 0.3), 0px 1px 3px 1px rgba(60, 64, 67, 0.15);\n",
       "      fill: #174EA6;\n",
       "    }\n",
       "\n",
       "    [theme=dark] .colab-df-convert {\n",
       "      background-color: #3B4455;\n",
       "      fill: #D2E3FC;\n",
       "    }\n",
       "\n",
       "    [theme=dark] .colab-df-convert:hover {\n",
       "      background-color: #434B5C;\n",
       "      box-shadow: 0px 1px 3px 1px rgba(0, 0, 0, 0.15);\n",
       "      filter: drop-shadow(0px 1px 2px rgba(0, 0, 0, 0.3));\n",
       "      fill: #FFFFFF;\n",
       "    }\n",
       "  </style>\n",
       "\n",
       "      <script>\n",
       "        const buttonEl =\n",
       "          document.querySelector('#df-eb268a5b-6345-4abe-b687-e8ad4ca8389f button.colab-df-convert');\n",
       "        buttonEl.style.display =\n",
       "          google.colab.kernel.accessAllowed ? 'block' : 'none';\n",
       "\n",
       "        async function convertToInteractive(key) {\n",
       "          const element = document.querySelector('#df-eb268a5b-6345-4abe-b687-e8ad4ca8389f');\n",
       "          const dataTable =\n",
       "            await google.colab.kernel.invokeFunction('convertToInteractive',\n",
       "                                                     [key], {});\n",
       "          if (!dataTable) return;\n",
       "\n",
       "          const docLinkHtml = 'Like what you see? Visit the ' +\n",
       "            '<a target=\"_blank\" href=https://colab.research.google.com/notebooks/data_table.ipynb>data table notebook</a>'\n",
       "            + ' to learn more about interactive tables.';\n",
       "          element.innerHTML = '';\n",
       "          dataTable['output_type'] = 'display_data';\n",
       "          await google.colab.output.renderOutput(dataTable, element);\n",
       "          const docLink = document.createElement('div');\n",
       "          docLink.innerHTML = docLinkHtml;\n",
       "          element.appendChild(docLink);\n",
       "        }\n",
       "      </script>\n",
       "    </div>\n",
       "  </div>\n",
       "  "
      ],
      "text/plain": [
       "                                                 text  toxic  length\n",
       "6        cocksucker before you piss around on my work      1      44\n",
       "12  hey... what is it..\\n@ | talk .\\nwhat is it......      1     319\n",
       "16  bye! \\n\\ndon't look, come or think of comming ...      1      57\n",
       "42  you are gay or antisemmitian? \\n\\narchangel wh...      1     648\n",
       "43           fuck your filthy mother in the ass, dry!      1      40"
      ]
     },
     "execution_count": 20,
     "metadata": {},
     "output_type": "execute_result"
    }
   ],
   "source": [
    "toxic.head()"
   ]
  },
  {
   "cell_type": "code",
   "execution_count": 21,
   "metadata": {
    "colab": {
     "base_uri": "https://localhost:8080/",
     "height": 301
    },
    "id": "aT_Lng-UGRed",
    "outputId": "e9818857-25df-4019-f8e8-032b1599b3f6"
   },
   "outputs": [
    {
     "data": {
      "image/png": "[encoded data removed]",
      "text/plain": [
       "<Figure size 432x288 with 1 Axes>"
      ]
     },
     "metadata": {
      "needs_background": "light"
     },
     "output_type": "display_data"
    }
   ],
   "source": [
    "nontoxic.length.hist()\n",
    "plt.xlabel('Количество символов', fontsize=14)\n",
    "plt.ylabel('Количество сообщений', fontsize=14)\n",
    "plt.title('Нетоксичные сообщения', fontsize=16)\n",
    "plt.show()"
   ]
  },
  {
   "cell_type": "markdown",
   "metadata": {
    "id": "FKGp0uIHGRed"
   },
   "source": [
    "Вывод: Скрытых признаков не обнаружено. Распределение токсичных и нетоксичных комментариев равно соотносится по длине."
   ]
  },
  {
   "cell_type": "markdown",
   "metadata": {},
   "source": [
    "<div class=\"alert alert-warning\">\n",
    "<font size=\"5\"><b>Комментарий ревьюера</b></font>\n",
    "\n",
    "\n",
    "\n",
    "Совет 🤔:\n",
    "\n",
    "\n",
    "Отлично.  Хотя помню что некоторые студенты находили что ругательные комментарии покороче )\n",
    "</div>\n"
   ]
  },
  {
   "cell_type": "code",
   "execution_count": 22,
   "metadata": {
    "id": "OrhFLN2yTyVJ"
   },
   "outputs": [],
   "source": [
    "df = df.drop('length', axis=1)"
   ]
  },
  {
   "cell_type": "markdown",
   "metadata": {
    "id": "tBHNnzH4nTu3"
   },
   "source": [
    "Лемматизируем текст c помощью WordNetLemmatizer:"
   ]
  },
  {
   "cell_type": "code",
   "execution_count": 23,
   "metadata": {
    "id": "Gjj7-gssLn8g"
   },
   "outputs": [],
   "source": [
    "lemmatizer = WordNetLemmatizer()"
   ]
  },
  {
   "cell_type": "markdown",
   "metadata": {
    "id": "UgZ-1KkZnTu3"
   },
   "source": [
    "Напишем функцию для pos-тегов - маркировки частей речи:"
   ]
  },
  {
   "cell_type": "code",
   "execution_count": 24,
   "metadata": {
    "id": "vZuJC8ucaCIn"
   },
   "outputs": [],
   "source": [
    "def get_wordnet_pos(word):\n",
    "    tag = nltk.pos_tag([word])[0][1][0].upper()\n",
    "    tag_dict = {\"J\": wordnet.ADJ,\n",
    "                \"N\": wordnet.NOUN,\n",
    "                \"V\": wordnet.VERB,\n",
    "                \"R\": wordnet.ADV}\n",
    "    return tag_dict.get(tag, wordnet.NOUN)"
   ]
  },
  {
   "cell_type": "markdown",
   "metadata": {
    "id": "IvsMz2N3nTu4"
   },
   "source": [
    "Напишем функцию для очистки и лемматизации текста с маркированными частями речи:"
   ]
  },
  {
   "cell_type": "code",
   "execution_count": 25,
   "metadata": {
    "id": "_iEXaq8E22Vm"
   },
   "outputs": [],
   "source": [
    "def clear_text(text):\n",
    "    reg = re.sub(r'[^a-zA-Z]', ' ', text)\n",
    "    clear = reg.split() \n",
    "    lemm = []\n",
    "    for i in range(len(clear)):\n",
    "      lemm.append(lemmatizer.lemmatize(clear[i], get_wordnet_pos(clear[i])))\n",
    "    return \" \".join(lemm)"
   ]
  },
  {
   "cell_type": "code",
   "execution_count": 26,
   "metadata": {
    "id": "1IoDReHP22dN"
   },
   "outputs": [],
   "source": [
    "df['lemmatized_text'] = df['text'].apply(clear_text)"
   ]
  },
  {
   "cell_type": "code",
   "execution_count": 27,
   "metadata": {
    "colab": {
     "base_uri": "https://localhost:8080/",
     "height": 204
    },
    "id": "kY_3GxKg5Lls",
    "outputId": "11d46cfd-efc5-4282-c088-b5c6f2f7a75d"
   },
   "outputs": [
    {
     "data": {
      "text/html": [
       "\n",
       "  <div id=\"df-0a2bd1d9-749d-4262-97c0-2279941ca1ab\">\n",
       "    <div class=\"colab-df-container\">\n",
       "      <div>\n",
       "<style scoped>\n",
       "    .dataframe tbody tr th:only-of-type {\n",
       "        vertical-align: middle;\n",
       "    }\n",
       "\n",
       "    .dataframe tbody tr th {\n",
       "        vertical-align: top;\n",
       "    }\n",
       "\n",
       "    .dataframe thead th {\n",
       "        text-align: right;\n",
       "    }\n",
       "</style>\n",
       "<table border=\"1\" class=\"dataframe\">\n",
       "  <thead>\n",
       "    <tr style=\"text-align: right;\">\n",
       "      <th></th>\n",
       "      <th>text</th>\n",
       "      <th>toxic</th>\n",
       "      <th>lemmatized_text</th>\n",
       "    </tr>\n",
       "  </thead>\n",
       "  <tbody>\n",
       "    <tr>\n",
       "      <th>0</th>\n",
       "      <td>explanation\\nwhy the edits made under my usern...</td>\n",
       "      <td>0</td>\n",
       "      <td>explanation why the edits make under my userna...</td>\n",
       "    </tr>\n",
       "    <tr>\n",
       "      <th>1</th>\n",
       "      <td>d'aww! he matches this background colour i'm s...</td>\n",
       "      <td>0</td>\n",
       "      <td>d aww he match this background colour i m seem...</td>\n",
       "    </tr>\n",
       "    <tr>\n",
       "      <th>2</th>\n",
       "      <td>hey man, i'm really not trying to edit war. it...</td>\n",
       "      <td>0</td>\n",
       "      <td>hey man i m really not try to edit war it s ju...</td>\n",
       "    </tr>\n",
       "    <tr>\n",
       "      <th>3</th>\n",
       "      <td>\"\\nmore\\ni can't make any real suggestions on ...</td>\n",
       "      <td>0</td>\n",
       "      <td>more i can t make any real suggestion on impro...</td>\n",
       "    </tr>\n",
       "    <tr>\n",
       "      <th>4</th>\n",
       "      <td>you, sir, are my hero. any chance you remember...</td>\n",
       "      <td>0</td>\n",
       "      <td>you sir be my hero any chance you remember wha...</td>\n",
       "    </tr>\n",
       "  </tbody>\n",
       "</table>\n",
       "</div>\n",
       "      <button class=\"colab-df-convert\" onclick=\"convertToInteractive('df-0a2bd1d9-749d-4262-97c0-2279941ca1ab')\"\n",
       "              title=\"Convert this dataframe to an interactive table.\"\n",
       "              style=\"display:none;\">\n",
       "        \n",
       "  <svg xmlns=\"http://www.w3.org/2000/svg\" height=\"24px\"viewBox=\"0 0 24 24\"\n",
       "       width=\"24px\">\n",
       "    <path d=\"M0 0h24v24H0V0z\" fill=\"none\"/>\n",
       "    <path d=\"M18.56 5.44l.94 2.06.94-2.06 2.06-.94-2.06-.94-.94-2.06-.94 2.06-2.06.94zm-11 1L8.5 8.5l.94-2.06 2.06-.94-2.06-.94L8.5 2.5l-.94 2.06-2.06.94zm10 10l.94 2.06.94-2.06 2.06-.94-2.06-.94-.94-2.06-.94 2.06-2.06.94z\"/><path d=\"M17.41 7.96l-1.37-1.37c-.4-.4-.92-.59-1.43-.59-.52 0-1.04.2-1.43.59L10.3 9.45l-7.72 7.72c-.78.78-.78 2.05 0 2.83L4 21.41c.39.39.9.59 1.41.59.51 0 1.02-.2 1.41-.59l7.78-7.78 2.81-2.81c.8-.78.8-2.07 0-2.86zM5.41 20L4 18.59l7.72-7.72 1.47 1.35L5.41 20z\"/>\n",
       "  </svg>\n",
       "      </button>\n",
       "      \n",
       "  <style>\n",
       "    .colab-df-container {\n",
       "      display:flex;\n",
       "      flex-wrap:wrap;\n",
       "      gap: 12px;\n",
       "    }\n",
       "\n",
       "    .colab-df-convert {\n",
       "      background-color: #E8F0FE;\n",
       "      border: none;\n",
       "      border-radius: 50%;\n",
       "      cursor: pointer;\n",
       "      display: none;\n",
       "      fill: #1967D2;\n",
       "      height: 32px;\n",
       "      padding: 0 0 0 0;\n",
       "      width: 32px;\n",
       "    }\n",
       "\n",
       "    .colab-df-convert:hover {\n",
       "      background-color: #E2EBFA;\n",
       "      box-shadow: 0px 1px 2px rgba(60, 64, 67, 0.3), 0px 1px 3px 1px rgba(60, 64, 67, 0.15);\n",
       "      fill: #174EA6;\n",
       "    }\n",
       "\n",
       "    [theme=dark] .colab-df-convert {\n",
       "      background-color: #3B4455;\n",
       "      fill: #D2E3FC;\n",
       "    }\n",
       "\n",
       "    [theme=dark] .colab-df-convert:hover {\n",
       "      background-color: #434B5C;\n",
       "      box-shadow: 0px 1px 3px 1px rgba(0, 0, 0, 0.15);\n",
       "      filter: drop-shadow(0px 1px 2px rgba(0, 0, 0, 0.3));\n",
       "      fill: #FFFFFF;\n",
       "    }\n",
       "  </style>\n",
       "\n",
       "      <script>\n",
       "        const buttonEl =\n",
       "          document.querySelector('#df-0a2bd1d9-749d-4262-97c0-2279941ca1ab button.colab-df-convert');\n",
       "        buttonEl.style.display =\n",
       "          google.colab.kernel.accessAllowed ? 'block' : 'none';\n",
       "\n",
       "        async function convertToInteractive(key) {\n",
       "          const element = document.querySelector('#df-0a2bd1d9-749d-4262-97c0-2279941ca1ab');\n",
       "          const dataTable =\n",
       "            await google.colab.kernel.invokeFunction('convertToInteractive',\n",
       "                                                     [key], {});\n",
       "          if (!dataTable) return;\n",
       "\n",
       "          const docLinkHtml = 'Like what you see? Visit the ' +\n",
       "            '<a target=\"_blank\" href=https://colab.research.google.com/notebooks/data_table.ipynb>data table notebook</a>'\n",
       "            + ' to learn more about interactive tables.';\n",
       "          element.innerHTML = '';\n",
       "          dataTable['output_type'] = 'display_data';\n",
       "          await google.colab.output.renderOutput(dataTable, element);\n",
       "          const docLink = document.createElement('div');\n",
       "          docLink.innerHTML = docLinkHtml;\n",
       "          element.appendChild(docLink);\n",
       "        }\n",
       "      </script>\n",
       "    </div>\n",
       "  </div>\n",
       "  "
      ],
      "text/plain": [
       "                                                text  toxic  \\\n",
       "0  explanation\\nwhy the edits made under my usern...      0   \n",
       "1  d'aww! he matches this background colour i'm s...      0   \n",
       "2  hey man, i'm really not trying to edit war. it...      0   \n",
       "3  \"\\nmore\\ni can't make any real suggestions on ...      0   \n",
       "4  you, sir, are my hero. any chance you remember...      0   \n",
       "\n",
       "                                     lemmatized_text  \n",
       "0  explanation why the edits make under my userna...  \n",
       "1  d aww he match this background colour i m seem...  \n",
       "2  hey man i m really not try to edit war it s ju...  \n",
       "3  more i can t make any real suggestion on impro...  \n",
       "4  you sir be my hero any chance you remember wha...  "
      ]
     },
     "execution_count": 27,
     "metadata": {},
     "output_type": "execute_result"
    }
   ],
   "source": [
    "df.head()"
   ]
  },
  {
   "cell_type": "markdown",
   "metadata": {},
   "source": [
    "<div class=\"alert alert-success\">\n",
    "<font size=\"5\"><b>Комментарий ревьюера</b></font>\n",
    "\n",
    "Успех:\n",
    "\n",
    "- Тобой найдены хорошие функции для лемитизации, не забыто о особенности WordNetLemmatizer (POS-теги) и применено корректно\n",
    "\n",
    "\n",
    "- Плюс за использование apply, неэффективные циклы нам ни к чему.\n",
    "\n",
    "\n",
    "- Да, всегда лучше проверить что получилось  в итоге, так всегда будет возможность поправить ошбку\n",
    "\n",
    "<div class=\"alert alert-warning\">\n",
    "\n",
    "\n",
    "Совет: \n",
    "\n",
    "\n",
    "- попробуй .progress_apply, делает что .apply, но еще и показывает на какой итерации находится процесс\n",
    "\n",
    "\n",
    "\n",
    "    \n",
    "- после очистки и лемитизации можно провести частотный анализ текста/[облако слов](https://habr.com/ru/post/517410/) - чтобы получить общее представление о тематике и о наиболее часто встерчаемых словах Кроме того графики, рисунки делают проект визуально интересней\n",
    "    \n",
    "    \n",
    "\n",
    "- все это можно было сделать с помощью SpaCy лемматизатором и прямо скажем как инстурмент он более удобен и универсален, можно [почитать](https://habr.com/ru/post/531940/)  \n",
    "\n",
    " \n",
    "\n",
    "    \n",
    "- токенизацию можно было сделать проще:\n",
    "    \n",
    "    word_list = nltk.word_tokenize(text)\n",
    "    lemmatized_text = ' '.join([lemmatizer.lemmatize(w, get_wordnet_pos(w)) for w in word_list])\n",
    "    "
   ]
  },
  {
   "cell_type": "markdown",
   "metadata": {},
   "source": [
    "<div class=\"alert alert-info\">\n",
    "<h2> Комментарий студента (ревью №1)<a class=\"tocSkip\"> </h2>\n",
    "\n",
    "Интересно, возьму на заметку. Спасибо!\n",
    "    \n",
    "    \n",
    "</div>"
   ]
  },
  {
   "cell_type": "markdown",
   "metadata": {
    "id": "vy05XDunGRee"
   },
   "source": [
    "Построим мешок слов по классам и определим наиболее характерные слова для каждого класса:"
   ]
  },
  {
   "cell_type": "markdown",
   "metadata": {
    "id": "202WP1H3nTu6"
   },
   "source": [
    "Cделаем срез токсичных комментариев:"
   ]
  },
  {
   "cell_type": "code",
   "execution_count": 28,
   "metadata": {
    "id": "4Ji78UHOGRee"
   },
   "outputs": [],
   "source": [
    "toxic_lem = df[df['toxic'] ==1]"
   ]
  },
  {
   "cell_type": "code",
   "execution_count": 29,
   "metadata": {
    "colab": {
     "base_uri": "https://localhost:8080/",
     "height": 204
    },
    "id": "D-jRoX_2GRee",
    "outputId": "2428e032-f7a3-4685-8f2f-047062ccb210"
   },
   "outputs": [
    {
     "data": {
      "text/html": [
       "\n",
       "  <div id=\"df-099e89e2-f476-4160-9ebd-2cf33993adbf\">\n",
       "    <div class=\"colab-df-container\">\n",
       "      <div>\n",
       "<style scoped>\n",
       "    .dataframe tbody tr th:only-of-type {\n",
       "        vertical-align: middle;\n",
       "    }\n",
       "\n",
       "    .dataframe tbody tr th {\n",
       "        vertical-align: top;\n",
       "    }\n",
       "\n",
       "    .dataframe thead th {\n",
       "        text-align: right;\n",
       "    }\n",
       "</style>\n",
       "<table border=\"1\" class=\"dataframe\">\n",
       "  <thead>\n",
       "    <tr style=\"text-align: right;\">\n",
       "      <th></th>\n",
       "      <th>text</th>\n",
       "      <th>toxic</th>\n",
       "      <th>lemmatized_text</th>\n",
       "    </tr>\n",
       "  </thead>\n",
       "  <tbody>\n",
       "    <tr>\n",
       "      <th>6</th>\n",
       "      <td>cocksucker before you piss around on my work</td>\n",
       "      <td>1</td>\n",
       "      <td>cocksucker before you piss around on my work</td>\n",
       "    </tr>\n",
       "    <tr>\n",
       "      <th>12</th>\n",
       "      <td>hey... what is it..\\n@ | talk .\\nwhat is it......</td>\n",
       "      <td>1</td>\n",
       "      <td>hey what be it talk what be it an exclusive gr...</td>\n",
       "    </tr>\n",
       "    <tr>\n",
       "      <th>16</th>\n",
       "      <td>bye! \\n\\ndon't look, come or think of comming ...</td>\n",
       "      <td>1</td>\n",
       "      <td>bye don t look come or think of comming back t...</td>\n",
       "    </tr>\n",
       "    <tr>\n",
       "      <th>42</th>\n",
       "      <td>you are gay or antisemmitian? \\n\\narchangel wh...</td>\n",
       "      <td>1</td>\n",
       "      <td>you be gay or antisemmitian archangel white ti...</td>\n",
       "    </tr>\n",
       "    <tr>\n",
       "      <th>43</th>\n",
       "      <td>fuck your filthy mother in the ass, dry!</td>\n",
       "      <td>1</td>\n",
       "      <td>fuck your filthy mother in the as dry</td>\n",
       "    </tr>\n",
       "  </tbody>\n",
       "</table>\n",
       "</div>\n",
       "      <button class=\"colab-df-convert\" onclick=\"convertToInteractive('df-099e89e2-f476-4160-9ebd-2cf33993adbf')\"\n",
       "              title=\"Convert this dataframe to an interactive table.\"\n",
       "              style=\"display:none;\">\n",
       "        \n",
       "  <svg xmlns=\"http://www.w3.org/2000/svg\" height=\"24px\"viewBox=\"0 0 24 24\"\n",
       "       width=\"24px\">\n",
       "    <path d=\"M0 0h24v24H0V0z\" fill=\"none\"/>\n",
       "    <path d=\"M18.56 5.44l.94 2.06.94-2.06 2.06-.94-2.06-.94-.94-2.06-.94 2.06-2.06.94zm-11 1L8.5 8.5l.94-2.06 2.06-.94-2.06-.94L8.5 2.5l-.94 2.06-2.06.94zm10 10l.94 2.06.94-2.06 2.06-.94-2.06-.94-.94-2.06-.94 2.06-2.06.94z\"/><path d=\"M17.41 7.96l-1.37-1.37c-.4-.4-.92-.59-1.43-.59-.52 0-1.04.2-1.43.59L10.3 9.45l-7.72 7.72c-.78.78-.78 2.05 0 2.83L4 21.41c.39.39.9.59 1.41.59.51 0 1.02-.2 1.41-.59l7.78-7.78 2.81-2.81c.8-.78.8-2.07 0-2.86zM5.41 20L4 18.59l7.72-7.72 1.47 1.35L5.41 20z\"/>\n",
       "  </svg>\n",
       "      </button>\n",
       "      \n",
       "  <style>\n",
       "    .colab-df-container {\n",
       "      display:flex;\n",
       "      flex-wrap:wrap;\n",
       "      gap: 12px;\n",
       "    }\n",
       "\n",
       "    .colab-df-convert {\n",
       "      background-color: #E8F0FE;\n",
       "      border: none;\n",
       "      border-radius: 50%;\n",
       "      cursor: pointer;\n",
       "      display: none;\n",
       "      fill: #1967D2;\n",
       "      height: 32px;\n",
       "      padding: 0 0 0 0;\n",
       "      width: 32px;\n",
       "    }\n",
       "\n",
       "    .colab-df-convert:hover {\n",
       "      background-color: #E2EBFA;\n",
       "      box-shadow: 0px 1px 2px rgba(60, 64, 67, 0.3), 0px 1px 3px 1px rgba(60, 64, 67, 0.15);\n",
       "      fill: #174EA6;\n",
       "    }\n",
       "\n",
       "    [theme=dark] .colab-df-convert {\n",
       "      background-color: #3B4455;\n",
       "      fill: #D2E3FC;\n",
       "    }\n",
       "\n",
       "    [theme=dark] .colab-df-convert:hover {\n",
       "      background-color: #434B5C;\n",
       "      box-shadow: 0px 1px 3px 1px rgba(0, 0, 0, 0.15);\n",
       "      filter: drop-shadow(0px 1px 2px rgba(0, 0, 0, 0.3));\n",
       "      fill: #FFFFFF;\n",
       "    }\n",
       "  </style>\n",
       "\n",
       "      <script>\n",
       "        const buttonEl =\n",
       "          document.querySelector('#df-099e89e2-f476-4160-9ebd-2cf33993adbf button.colab-df-convert');\n",
       "        buttonEl.style.display =\n",
       "          google.colab.kernel.accessAllowed ? 'block' : 'none';\n",
       "\n",
       "        async function convertToInteractive(key) {\n",
       "          const element = document.querySelector('#df-099e89e2-f476-4160-9ebd-2cf33993adbf');\n",
       "          const dataTable =\n",
       "            await google.colab.kernel.invokeFunction('convertToInteractive',\n",
       "                                                     [key], {});\n",
       "          if (!dataTable) return;\n",
       "\n",
       "          const docLinkHtml = 'Like what you see? Visit the ' +\n",
       "            '<a target=\"_blank\" href=https://colab.research.google.com/notebooks/data_table.ipynb>data table notebook</a>'\n",
       "            + ' to learn more about interactive tables.';\n",
       "          element.innerHTML = '';\n",
       "          dataTable['output_type'] = 'display_data';\n",
       "          await google.colab.output.renderOutput(dataTable, element);\n",
       "          const docLink = document.createElement('div');\n",
       "          docLink.innerHTML = docLinkHtml;\n",
       "          element.appendChild(docLink);\n",
       "        }\n",
       "      </script>\n",
       "    </div>\n",
       "  </div>\n",
       "  "
      ],
      "text/plain": [
       "                                                 text  toxic  \\\n",
       "6        cocksucker before you piss around on my work      1   \n",
       "12  hey... what is it..\\n@ | talk .\\nwhat is it......      1   \n",
       "16  bye! \\n\\ndon't look, come or think of comming ...      1   \n",
       "42  you are gay or antisemmitian? \\n\\narchangel wh...      1   \n",
       "43           fuck your filthy mother in the ass, dry!      1   \n",
       "\n",
       "                                      lemmatized_text  \n",
       "6        cocksucker before you piss around on my work  \n",
       "12  hey what be it talk what be it an exclusive gr...  \n",
       "16  bye don t look come or think of comming back t...  \n",
       "42  you be gay or antisemmitian archangel white ti...  \n",
       "43              fuck your filthy mother in the as dry  "
      ]
     },
     "execution_count": 29,
     "metadata": {},
     "output_type": "execute_result"
    }
   ],
   "source": [
    "toxic_lem.head()"
   ]
  },
  {
   "cell_type": "code",
   "execution_count": 30,
   "metadata": {
    "id": "7Kr27TmXGRee"
   },
   "outputs": [],
   "source": [
    "corpus = list(toxic_lem['lemmatized_text'])\n",
    "stop_words = set(nltk_stopwords.words('english'))\n",
    "count_vect = CountVectorizer(max_features=20, stop_words=stop_words)\n",
    "bow = count_vect.fit_transform(corpus)"
   ]
  },
  {
   "cell_type": "markdown",
   "metadata": {
    "id": "2IWVVHCcnTu7"
   },
   "source": [
    "Вывод: Мы нашли стоп слова и преобразовали корпус текстов в мешок слов. Создали счётчик которые выделит из корпуска уникалные слова и посчитает количество их вложений в каждом тексте корпуса."
   ]
  },
  {
   "cell_type": "markdown",
   "metadata": {
    "id": "aZhiaLPnnTu7"
   },
   "source": [
    "Вызовем словарь:"
   ]
  },
  {
   "cell_type": "code",
   "execution_count": 31,
   "metadata": {
    "colab": {
     "base_uri": "https://localhost:8080/"
    },
    "id": "fN6uEMnTGRee",
    "outputId": "86db1fbc-76c6-4c96-fc4d-727777ff2115"
   },
   "outputs": [
    {
     "name": "stderr",
     "output_type": "stream",
     "text": [
      "/usr/local/lib/python3.8/dist-packages/sklearn/utils/deprecation.py:87: FutureWarning: Function get_feature_names is deprecated; get_feature_names is deprecated in 1.0 and will be removed in 1.2. Please use get_feature_names_out instead.\n",
      "  warnings.warn(msg, category=FutureWarning)\n"
     ]
    },
    {
     "data": {
      "text/plain": [
       "['article',\n",
       " 'bitch',\n",
       " 'block',\n",
       " 'die',\n",
       " 'faggot',\n",
       " 'fuck',\n",
       " 'gay',\n",
       " 'get',\n",
       " 'go',\n",
       " 'hate',\n",
       " 'know',\n",
       " 'like',\n",
       " 'make',\n",
       " 'nigger',\n",
       " 'page',\n",
       " 'people',\n",
       " 'say',\n",
       " 'shit',\n",
       " 'suck',\n",
       " 'wikipedia']"
      ]
     },
     "execution_count": 31,
     "metadata": {},
     "output_type": "execute_result"
    }
   ],
   "source": [
    "count_vect.get_feature_names() "
   ]
  },
  {
   "cell_type": "markdown",
   "metadata": {
    "id": "GxIAiChpnTu8"
   },
   "source": [
    "Теперь выполним срез по нетоксичным комментариям:"
   ]
  },
  {
   "cell_type": "code",
   "execution_count": 32,
   "metadata": {
    "id": "NObdWijmGRef"
   },
   "outputs": [],
   "source": [
    "nontoxic_lem = df[df['toxic'] == 0]"
   ]
  },
  {
   "cell_type": "code",
   "execution_count": 33,
   "metadata": {
    "colab": {
     "base_uri": "https://localhost:8080/",
     "height": 204
    },
    "id": "0jEA1CknGRef",
    "outputId": "9a1f9dc2-9a1e-4891-c8fb-c0a8f598cf5b"
   },
   "outputs": [
    {
     "data": {
      "text/html": [
       "\n",
       "  <div id=\"df-48ab4948-e72b-490a-b043-b5fe9dc73c0e\">\n",
       "    <div class=\"colab-df-container\">\n",
       "      <div>\n",
       "<style scoped>\n",
       "    .dataframe tbody tr th:only-of-type {\n",
       "        vertical-align: middle;\n",
       "    }\n",
       "\n",
       "    .dataframe tbody tr th {\n",
       "        vertical-align: top;\n",
       "    }\n",
       "\n",
       "    .dataframe thead th {\n",
       "        text-align: right;\n",
       "    }\n",
       "</style>\n",
       "<table border=\"1\" class=\"dataframe\">\n",
       "  <thead>\n",
       "    <tr style=\"text-align: right;\">\n",
       "      <th></th>\n",
       "      <th>text</th>\n",
       "      <th>toxic</th>\n",
       "      <th>lemmatized_text</th>\n",
       "    </tr>\n",
       "  </thead>\n",
       "  <tbody>\n",
       "    <tr>\n",
       "      <th>0</th>\n",
       "      <td>explanation\\nwhy the edits made under my usern...</td>\n",
       "      <td>0</td>\n",
       "      <td>explanation why the edits make under my userna...</td>\n",
       "    </tr>\n",
       "    <tr>\n",
       "      <th>1</th>\n",
       "      <td>d'aww! he matches this background colour i'm s...</td>\n",
       "      <td>0</td>\n",
       "      <td>d aww he match this background colour i m seem...</td>\n",
       "    </tr>\n",
       "    <tr>\n",
       "      <th>2</th>\n",
       "      <td>hey man, i'm really not trying to edit war. it...</td>\n",
       "      <td>0</td>\n",
       "      <td>hey man i m really not try to edit war it s ju...</td>\n",
       "    </tr>\n",
       "    <tr>\n",
       "      <th>3</th>\n",
       "      <td>\"\\nmore\\ni can't make any real suggestions on ...</td>\n",
       "      <td>0</td>\n",
       "      <td>more i can t make any real suggestion on impro...</td>\n",
       "    </tr>\n",
       "    <tr>\n",
       "      <th>4</th>\n",
       "      <td>you, sir, are my hero. any chance you remember...</td>\n",
       "      <td>0</td>\n",
       "      <td>you sir be my hero any chance you remember wha...</td>\n",
       "    </tr>\n",
       "  </tbody>\n",
       "</table>\n",
       "</div>\n",
       "      <button class=\"colab-df-convert\" onclick=\"convertToInteractive('df-48ab4948-e72b-490a-b043-b5fe9dc73c0e')\"\n",
       "              title=\"Convert this dataframe to an interactive table.\"\n",
       "              style=\"display:none;\">\n",
       "        \n",
       "  <svg xmlns=\"http://www.w3.org/2000/svg\" height=\"24px\"viewBox=\"0 0 24 24\"\n",
       "       width=\"24px\">\n",
       "    <path d=\"M0 0h24v24H0V0z\" fill=\"none\"/>\n",
       "    <path d=\"M18.56 5.44l.94 2.06.94-2.06 2.06-.94-2.06-.94-.94-2.06-.94 2.06-2.06.94zm-11 1L8.5 8.5l.94-2.06 2.06-.94-2.06-.94L8.5 2.5l-.94 2.06-2.06.94zm10 10l.94 2.06.94-2.06 2.06-.94-2.06-.94-.94-2.06-.94 2.06-2.06.94z\"/><path d=\"M17.41 7.96l-1.37-1.37c-.4-.4-.92-.59-1.43-.59-.52 0-1.04.2-1.43.59L10.3 9.45l-7.72 7.72c-.78.78-.78 2.05 0 2.83L4 21.41c.39.39.9.59 1.41.59.51 0 1.02-.2 1.41-.59l7.78-7.78 2.81-2.81c.8-.78.8-2.07 0-2.86zM5.41 20L4 18.59l7.72-7.72 1.47 1.35L5.41 20z\"/>\n",
       "  </svg>\n",
       "      </button>\n",
       "      \n",
       "  <style>\n",
       "    .colab-df-container {\n",
       "      display:flex;\n",
       "      flex-wrap:wrap;\n",
       "      gap: 12px;\n",
       "    }\n",
       "\n",
       "    .colab-df-convert {\n",
       "      background-color: #E8F0FE;\n",
       "      border: none;\n",
       "      border-radius: 50%;\n",
       "      cursor: pointer;\n",
       "      display: none;\n",
       "      fill: #1967D2;\n",
       "      height: 32px;\n",
       "      padding: 0 0 0 0;\n",
       "      width: 32px;\n",
       "    }\n",
       "\n",
       "    .colab-df-convert:hover {\n",
       "      background-color: #E2EBFA;\n",
       "      box-shadow: 0px 1px 2px rgba(60, 64, 67, 0.3), 0px 1px 3px 1px rgba(60, 64, 67, 0.15);\n",
       "      fill: #174EA6;\n",
       "    }\n",
       "\n",
       "    [theme=dark] .colab-df-convert {\n",
       "      background-color: #3B4455;\n",
       "      fill: #D2E3FC;\n",
       "    }\n",
       "\n",
       "    [theme=dark] .colab-df-convert:hover {\n",
       "      background-color: #434B5C;\n",
       "      box-shadow: 0px 1px 3px 1px rgba(0, 0, 0, 0.15);\n",
       "      filter: drop-shadow(0px 1px 2px rgba(0, 0, 0, 0.3));\n",
       "      fill: #FFFFFF;\n",
       "    }\n",
       "  </style>\n",
       "\n",
       "      <script>\n",
       "        const buttonEl =\n",
       "          document.querySelector('#df-48ab4948-e72b-490a-b043-b5fe9dc73c0e button.colab-df-convert');\n",
       "        buttonEl.style.display =\n",
       "          google.colab.kernel.accessAllowed ? 'block' : 'none';\n",
       "\n",
       "        async function convertToInteractive(key) {\n",
       "          const element = document.querySelector('#df-48ab4948-e72b-490a-b043-b5fe9dc73c0e');\n",
       "          const dataTable =\n",
       "            await google.colab.kernel.invokeFunction('convertToInteractive',\n",
       "                                                     [key], {});\n",
       "          if (!dataTable) return;\n",
       "\n",
       "          const docLinkHtml = 'Like what you see? Visit the ' +\n",
       "            '<a target=\"_blank\" href=https://colab.research.google.com/notebooks/data_table.ipynb>data table notebook</a>'\n",
       "            + ' to learn more about interactive tables.';\n",
       "          element.innerHTML = '';\n",
       "          dataTable['output_type'] = 'display_data';\n",
       "          await google.colab.output.renderOutput(dataTable, element);\n",
       "          const docLink = document.createElement('div');\n",
       "          docLink.innerHTML = docLinkHtml;\n",
       "          element.appendChild(docLink);\n",
       "        }\n",
       "      </script>\n",
       "    </div>\n",
       "  </div>\n",
       "  "
      ],
      "text/plain": [
       "                                                text  toxic  \\\n",
       "0  explanation\\nwhy the edits made under my usern...      0   \n",
       "1  d'aww! he matches this background colour i'm s...      0   \n",
       "2  hey man, i'm really not trying to edit war. it...      0   \n",
       "3  \"\\nmore\\ni can't make any real suggestions on ...      0   \n",
       "4  you, sir, are my hero. any chance you remember...      0   \n",
       "\n",
       "                                     lemmatized_text  \n",
       "0  explanation why the edits make under my userna...  \n",
       "1  d aww he match this background colour i m seem...  \n",
       "2  hey man i m really not try to edit war it s ju...  \n",
       "3  more i can t make any real suggestion on impro...  \n",
       "4  you sir be my hero any chance you remember wha...  "
      ]
     },
     "execution_count": 33,
     "metadata": {},
     "output_type": "execute_result"
    }
   ],
   "source": [
    "nontoxic_lem.head()"
   ]
  },
  {
   "cell_type": "code",
   "execution_count": 34,
   "metadata": {
    "id": "7eAcNcMyGRef"
   },
   "outputs": [],
   "source": [
    "corpus = list(nontoxic_lem['lemmatized_text'])\n",
    "stop_words = set(nltk_stopwords.words('english'))\n",
    "count_vect = CountVectorizer(max_features=20, stop_words=stop_words)\n",
    "bow = count_vect.fit_transform(corpus)"
   ]
  },
  {
   "cell_type": "code",
   "execution_count": 35,
   "metadata": {
    "colab": {
     "base_uri": "https://localhost:8080/"
    },
    "id": "uWY5zT3BGRef",
    "outputId": "04f89a27-85de-4a17-f354-1c9a6fb32194"
   },
   "outputs": [
    {
     "name": "stderr",
     "output_type": "stream",
     "text": [
      "/usr/local/lib/python3.8/dist-packages/sklearn/utils/deprecation.py:87: FutureWarning: Function get_feature_names is deprecated; get_feature_names is deprecated in 1.0 and will be removed in 1.2. Please use get_feature_names_out instead.\n",
      "  warnings.warn(msg, category=FutureWarning)\n"
     ]
    },
    {
     "data": {
      "text/plain": [
       "['add',\n",
       " 'also',\n",
       " 'article',\n",
       " 'edit',\n",
       " 'get',\n",
       " 'know',\n",
       " 'like',\n",
       " 'make',\n",
       " 'one',\n",
       " 'page',\n",
       " 'please',\n",
       " 'say',\n",
       " 'see',\n",
       " 'source',\n",
       " 'talk',\n",
       " 'think',\n",
       " 'time',\n",
       " 'use',\n",
       " 'wikipedia',\n",
       " 'would']"
      ]
     },
     "execution_count": 35,
     "metadata": {},
     "output_type": "execute_result"
    }
   ],
   "source": [
    "count_vect.get_feature_names() "
   ]
  },
  {
   "cell_type": "markdown",
   "metadata": {
    "id": "0_TCmaYZuKQt"
   },
   "source": [
    "Вывод:\n",
    "\n",
    "Мы очистили датасет, разметили части речи и привели слова к начальным формам с помощью лемматизации. Проверили датасет на соотношение длины комментариев двух классов, зависимости не обнаружили. Добавили столбец с лемматизированным текстом. Построили мешок слов по классам и выявили часто употребимые слова. Проверили целевой признак на дисбаланс классов и обнаружили дисбаланс. При обучении моделей будем это учитывать."
   ]
  },
  {
   "cell_type": "markdown",
   "metadata": {
    "id": "JEsRip20U146"
   },
   "source": [
    "## Обучение"
   ]
  },
  {
   "cell_type": "markdown",
   "metadata": {
    "id": "rt90bhwknTu9"
   },
   "source": [
    "Разделим выборки на обучающую, валидационную и тестовую в пропорции 60/20/20:"
   ]
  },
  {
   "cell_type": "code",
   "execution_count": 36,
   "metadata": {
    "id": "ZDO5IL0o6Noh"
   },
   "outputs": [],
   "source": [
    "target = df['toxic']\n",
    "features = df['lemmatized_text']\n",
    "\n",
    "features_train, features_test, target_train, target_test = train_test_split(\n",
    "    features, target, test_size=0.4, random_state=12345, stratify=target) \n",
    "\n",
    "features_valid, features_test, target_valid, target_test = train_test_split(\n",
    "    features_test, target_test, test_size=0.50, random_state=12345, stratify=target_test)"
   ]
  },
  {
   "cell_type": "code",
   "execution_count": 37,
   "metadata": {
    "colab": {
     "base_uri": "https://localhost:8080/",
     "height": 119
    },
    "id": "gbY5P4-ZRWcn",
    "outputId": "b2f51c6c-7697-4053-ceb7-fa7410ebb6b2"
   },
   "outputs": [
    {
     "data": {
      "text/plain": [
       "(95575,)"
      ]
     },
     "metadata": {},
     "output_type": "display_data"
    },
    {
     "data": {
      "text/plain": [
       "(95575,)"
      ]
     },
     "metadata": {},
     "output_type": "display_data"
    },
    {
     "data": {
      "text/plain": [
       "(31858,)"
      ]
     },
     "metadata": {},
     "output_type": "display_data"
    },
    {
     "data": {
      "text/plain": [
       "(31858,)"
      ]
     },
     "metadata": {},
     "output_type": "display_data"
    },
    {
     "data": {
      "text/plain": [
       "(31859,)"
      ]
     },
     "metadata": {},
     "output_type": "display_data"
    },
    {
     "data": {
      "text/plain": [
       "(31859,)"
      ]
     },
     "metadata": {},
     "output_type": "display_data"
    }
   ],
   "source": [
    "display(features_train.shape)\n",
    "display(target_train.shape)\n",
    "display(features_valid.shape)\n",
    "display(target_valid.shape)\n",
    "display(features_test.shape)\n",
    "display(target_test.shape)"
   ]
  },
  {
   "cell_type": "markdown",
   "metadata": {
    "id": "en-WuhaynTu-"
   },
   "source": [
    "Проверим выборки на дисбаланс классов:"
   ]
  },
  {
   "cell_type": "code",
   "execution_count": 38,
   "metadata": {
    "colab": {
     "base_uri": "https://localhost:8080/"
    },
    "id": "aJqhLaCrAcpZ",
    "outputId": "6c2b9814-9eb3-453d-8c0b-b2b5d88284e2"
   },
   "outputs": [
    {
     "name": "stdout",
     "output_type": "stream",
     "text": [
      "0    89.8%\n",
      "1    10.2%\n",
      "Name: toxic, dtype: object\n",
      "0    89.8%\n",
      "1    10.2%\n",
      "Name: toxic, dtype: object\n",
      "0    89.8%\n",
      "1    10.2%\n",
      "Name: toxic, dtype: object\n"
     ]
    }
   ],
   "source": [
    "print(target_train.value_counts(\n",
    "    normalize=True).mul(100).round(1).astype(str) + '%')\n",
    "print(target_valid.value_counts(\n",
    "    normalize=True).mul(100).round(1).astype(str) + '%')\n",
    "print(target_test.value_counts(\n",
    "    normalize=True).mul(100).round(1).astype(str) + '%')"
   ]
  },
  {
   "cell_type": "markdown",
   "metadata": {},
   "source": [
    "<div class=\"alert alert-success\">\n",
    "<font size=\"5\"><b>Комментарий ревьюера</b></font>\n",
    "\n",
    "Успех:\n",
    "\n",
    "\n",
    "- random_state на месте\n",
    "\n",
    "\n",
    "    \n",
    "- плюс за  проверку\n",
    "    \n",
    "    \n",
    "- здорово что используешь stratify    \n",
    "\n",
    "\n"
   ]
  },
  {
   "cell_type": "markdown",
   "metadata": {
    "id": "zY1GorsznTu-"
   },
   "source": [
    "Найдём стоп-слова:"
   ]
  },
  {
   "cell_type": "code",
   "execution_count": 39,
   "metadata": {
    "id": "1S8P58uV21Q6"
   },
   "outputs": [],
   "source": [
    "stopwords = set(nltk_stopwords.words('english'))\n",
    "\n",
    "count_tf_idf = TfidfVectorizer(stop_words=stopwords)"
   ]
  },
  {
   "cell_type": "markdown",
   "metadata": {
    "id": "3rDdw5uXnTu-"
   },
   "source": [
    "Переведем слова в векторы и посчитаем оценку важности слова tf_idf:"
   ]
  },
  {
   "cell_type": "markdown",
   "metadata": {},
   "source": [
    "<div class=\"alert alert-success\">\n",
    "<font size=\"5\"><b>Комментарий ревьюера</b></font>\n",
    "\n",
    "Успех:\n",
    "\n",
    "\n",
    "Не забыли о стопсловах, они ни к чему и код побежит быстрей\n",
    "\n",
    "    \n",
    "<div class=\"alert alert-warning\">\n",
    "\n",
    "\n",
    "Совет:     \n",
    "\n",
    "Вопросик:\n",
    "\n",
    "А стопслова важней убирать  когда мы используем TF-IDF, или когда используе обычный CountVectorizer? \n",
    "\n"
   ]
  },
  {
   "cell_type": "markdown",
   "metadata": {},
   "source": [
    "<div class=\"alert alert-info\">\n",
    "<h2> Комментарий студента (ревью №1)<a class=\"tocSkip\"> </h2>\n",
    "\n",
    "Думаю, что важнее когда используем TF-IDF, поскольку стоп-слова имеют частое употрелбление, что увеличит их TF-IDF, следовательно они могут запутать машину и испортить качество предсказаний\n",
    "    \n",
    "    \n",
    "</div>"
   ]
  },
  {
   "cell_type": "markdown",
   "metadata": {},
   "source": [
    "<div class=\"alert alert-warning\">\n",
    "<font size=\"5\"><b>Комментарий ревьюераV2</b></font>\n",
    "\n",
    "Совет: \n",
    "\n",
    "\n",
    "Стоп слова это частые и \"бессмысленные\" слова, а TF-IDF делает вес частых слов НИЖЕ (а не выше), то есть он и так стопслова \"обесценивает\". Вот и получается что для CountVectorizer убрать стопслова важней чем для  TF-IDF\n",
    "</div>"
   ]
  },
  {
   "cell_type": "code",
   "execution_count": 40,
   "metadata": {
    "id": "y5Z-4kGyU146"
   },
   "outputs": [],
   "source": [
    "train_tf_idf = count_tf_idf.fit_transform(features_train)\n",
    "valid_tf_idf = count_tf_idf.transform(features_valid)\n",
    "test_tf_idf = count_tf_idf.transform(features_test)"
   ]
  },
  {
   "cell_type": "code",
   "execution_count": 41,
   "metadata": {
    "colab": {
     "base_uri": "https://localhost:8080/"
    },
    "id": "saz-vcclAZaR",
    "outputId": "a0d26403-d8cc-4045-f162-61d02822b8e6"
   },
   "outputs": [
    {
     "name": "stdout",
     "output_type": "stream",
     "text": [
      "Размер матрицы: (95575, 111735)\n",
      "Размер матрицы: (31858, 111735)\n",
      "Размер матрицы: (31859, 111735)\n"
     ]
    }
   ],
   "source": [
    "print(\"Размер матрицы:\", train_tf_idf.shape)\n",
    "print(\"Размер матрицы:\", valid_tf_idf.shape)\n",
    "print(\"Размер матрицы:\", test_tf_idf.shape)"
   ]
  },
  {
   "cell_type": "markdown",
   "metadata": {
    "id": "bOSvhiFyy7oR"
   },
   "source": [
    "Для определения тональности мы применим величины TF-IDF как признаки.\n",
    "\n",
    "Оценить тональность — значит отметить текст как позитивный или негативный. То есть мы решаем задачу классификации, где целевой признак равен «1» для положительного текста и «0» для отрицательного. Признаки — это слова из корпуса и их величины TF-IDF для каждого текста."
   ]
  },
  {
   "cell_type": "markdown",
   "metadata": {
    "id": "9GoW-SpTxqg_"
   },
   "source": [
    "### Логистическая регрессия"
   ]
  },
  {
   "cell_type": "code",
   "execution_count": 42,
   "metadata": {
    "colab": {
     "base_uri": "https://localhost:8080/"
    },
    "id": "KembLHr2wheh",
    "outputId": "be617a76-1381-4806-fcf4-a9cb3601e68e"
   },
   "outputs": [
    {
     "name": "stdout",
     "output_type": "stream",
     "text": [
      "Значение С: 1\n",
      "F1_score: 0.7498640565524742\n",
      "\n",
      "Значение С: 2\n",
      "F1_score: 0.7589359933499584\n",
      "\n",
      "Значение С: 3\n",
      "F1_score: 0.7587363712608332\n",
      "\n",
      "Значение С: 4\n",
      "F1_score: 0.7594259988745077\n",
      "\n",
      "Значение С: 5\n",
      "F1_score: 0.7599943494843905\n",
      "\n",
      "Значение С: 6\n",
      "F1_score: 0.7623917057236188\n",
      "\n",
      "Значение С: 7\n",
      "F1_score: 0.7631278538812786\n",
      "\n",
      "Значение С: 8\n",
      "F1_score: 0.7632559472628261\n",
      "\n",
      "Значение С: 9\n",
      "F1_score: 0.7626291618828933\n",
      "\n",
      "\n"
     ]
    }
   ],
   "source": [
    "for c in range(1, 10):\n",
    "    model = LogisticRegression(class_weight='balanced', \n",
    "                          random_state=12345, \n",
    "                          max_iter=1000, \n",
    "                          solver='lbfgs', \n",
    "                               C=c)\n",
    "    model.fit(train_tf_idf, target_train)\n",
    "    predicted_valid = model.predict(valid_tf_idf)\n",
    "    print (\"Значение С:\", c)\n",
    "    print(\"F1_score:\", f1_score(target_valid, predicted_valid))\n",
    "    print('')\n",
    "print()"
   ]
  },
  {
   "cell_type": "markdown",
   "metadata": {
    "id": "DfnmyEKvGReh"
   },
   "source": [
    "Лучший гиперпараметр С=8. Значения F1 соответствуют условию задачи."
   ]
  },
  {
   "cell_type": "markdown",
   "metadata": {},
   "source": [
    "<div class=\"alert alert-danger\">\n",
    "<font size=\"5\"><b>Комментарий ревьюера</b></font>\n",
    "\n",
    "\n",
    "\n",
    "Ошибка ❌:\n",
    "\n",
    "\n",
    "\n",
    "Я вижу что не при С=5 лучшая Метрика\n",
    "\n",
    "</div>"
   ]
  },
  {
   "cell_type": "markdown",
   "metadata": {},
   "source": [
    "<div class=\"alert alert-info\">\n",
    "<h2> Комментарий студента (ревью №1)<a class=\"tocSkip\"> </h2>\n",
    "\n",
    "Точно, забыл исправить. В модель подставлял 8\n",
    "    \n",
    "    \n",
    "</div>"
   ]
  },
  {
   "cell_type": "markdown",
   "metadata": {},
   "source": [
    "<div class=\"alert alert-success\">\n",
    "<font size=\"5\"><b>Комментарий ревьюера</b></font>\n",
    "\n",
    "Успех:\n",
    " \n",
    "Работа выполнена в соответствии с критериями: обучаем на train, оцениваем на валидационной, подбор гиперпараметров осуществляется в цикле (или с помощью GreedSearch)    \n",
    "\n",
    " - модель обучена на обучающем наборе\n",
    " - получена оценка качества на валидационном наборе\n",
    " - перебор гиперпараметров осуществляется в цикле\n",
    "\n",
    "<div class=\"alert alert-warning\">\n",
    "\n",
    "Совет: \n",
    "\n",
    "\n",
    "Можно вместо цикла использовать sklearn-ий встроенный функционал GridSearch. В случаи использования GridSearch, не нужно будет заранее делать валидационную выборку, лучшую метрику автоматом сохранят в best_score_, а лучшую модель (переобученная уже на полном наборе данных) будет хранить в best_estimator_, данные обучения положит в cv_restult_. А главное  он сделает несколько разбиений на train / validation выборки (кросс-валидация), тем самым поборется с рандомом, когда на валидации получен хороший результат только изза удачного сплита. \n",
    "\n",
    "А еще лучше использовать связку GridSearchCV + pipeline. \n",
    "\n",
    "[Pipeline](https://scikit-learn.org/stable/modules/generated/sklearn.pipeline.Pipeline.html), это тема которая сразу затрагивает кроссвалидацию, тюнинг \"векторайз\", подбор гиперпараметров модели и о том что код стоит делать компактным.\n",
    "    \n",
    "    \n",
    "- у тебя ngram_range=(1, 1), тут можно подбирать разное число n - грамм, максимизируя метрику, но как объединить перебор по ngram_range с обучением моделей, а не делать это по отдельности или с использованием цикла?! pipeline! Готовый [пример для работы с текстами](https://scikit-learn.org/stable/auto_examples/model_selection/grid_search_text_feature_extraction.html)\n",
    "    \n",
    "    \n",
    "- как избежать ошибки подглядывания в будущее, когда мы предварительно работаем с данными (шкалирование, нормализация, TfidfVectorizer итп итд)? pipeline! особенно это важно, когда мы используем кроссвалидацию. Для TfidfVectorizer делаеь .fit (обучаемся) на train, а transform на test, точно также нужно сделать для валидационной выборки. Но GS делает валидационные внутри себя, спрашивается как добраться до них и избежать подглядывания в будущее? Казалось бы никак, но нет! Pipeline! ) \n",
    "    \n",
    "    \n",
    "- pipeline позволяет делать наш код компактней и читабельней, это большой плюс, когда код будет раздуваться   \n",
    "\n",
    "\n",
    "\n",
    "В общем если сделать GS+pieline будет вообще хорошо )  "
   ]
  },
  {
   "cell_type": "markdown",
   "metadata": {},
   "source": [
    "<div class=\"alert alert-info\">\n",
    "<h2> Комментарий студента (ревью №1)<a class=\"tocSkip\"> </h2>\n",
    "\n",
    "Здорово, очень полезная информация! Возьму на вооружение в будущих проектах. Только вот ссылка \"пример для работы с текстами\" не работает - error 404, к сожалению. Можешь её проверить, пожалуйста.\n",
    "    \n",
    "    \n",
    "</div>"
   ]
  },
  {
   "cell_type": "markdown",
   "metadata": {},
   "source": [
    "<div class=\"alert alert-warning\">\n",
    "<font size=\"5\"><b>Комментарий ревьюераV2</b></font>\n",
    "\n",
    "\n",
    "\n",
    "Совет 🤔:\n",
    "\n",
    "\n",
    "Да уже битая.  Хорошая была ссылка ) [Но скорую руку нашёл](https://medium.com/@yoni.levine/how-to-grid-search-with-a-pipeline-93147835d916). Всё что нужно там есть, хотя очень лаконично. Можешь погуглить по:\n",
    "    \n",
    "    pipeline nlp gridsearchcv \n",
    "\n",
    "\n",
    "\n",
    "</div>\n"
   ]
  },
  {
   "cell_type": "markdown",
   "metadata": {
    "id": "lLbXv8dnzWhY"
   },
   "source": [
    "### Решающее дерево"
   ]
  },
  {
   "cell_type": "code",
   "execution_count": 43,
   "metadata": {
    "colab": {
     "base_uri": "https://localhost:8080/"
    },
    "id": "DHaxp7Ag5NUa",
    "outputId": "3e507c12-1658-4202-85cb-400939f5b26b"
   },
   "outputs": [
    {
     "name": "stdout",
     "output_type": "stream",
     "text": [
      "Глубина: 2\n",
      "F1_score: 0.38987217305801375\n",
      "\n",
      "Глубина: 4\n",
      "F1_score: 0.47954802259887\n",
      "\n",
      "Глубина: 6\n",
      "F1_score: 0.5434691306173877\n",
      "\n",
      "Глубина: 8\n",
      "F1_score: 0.5595510288921222\n",
      "\n",
      "Глубина: 10\n",
      "F1_score: 0.5765054294175717\n",
      "\n",
      "Глубина: 12\n",
      "F1_score: 0.5924624096856083\n",
      "\n",
      "Глубина: 14\n",
      "F1_score: 0.6075464470407969\n",
      "\n",
      "Глубина: 16\n",
      "F1_score: 0.6103124400996741\n",
      "\n",
      "Глубина: 18\n",
      "F1_score: 0.5963938973647712\n",
      "\n",
      "\n"
     ]
    }
   ],
   "source": [
    "for depth in range(2, 20, 2):\n",
    "    model = DecisionTreeClassifier(random_state=12345, \n",
    "                                  max_depth=depth,\n",
    "                                  class_weight='balanced')\n",
    "    model.fit(train_tf_idf, target_train)\n",
    "    predicted_valid = model.predict(valid_tf_idf)\n",
    "    print('Глубина:', depth)\n",
    "    print(\"F1_score:\", f1_score(target_valid, predicted_valid))    \n",
    "    print('')\n",
    "print()"
   ]
  },
  {
   "cell_type": "markdown",
   "metadata": {
    "id": "bn6aBNQnnTu_"
   },
   "source": [
    "Лучший параметр Глубина: 16. Значения F1 не соответствуют условию задачи."
   ]
  },
  {
   "cell_type": "markdown",
   "metadata": {
    "id": "HM5yqGus0qAG"
   },
   "source": [
    "### Случайный лес"
   ]
  },
  {
   "cell_type": "code",
   "execution_count": 44,
   "metadata": {
    "colab": {
     "base_uri": "https://localhost:8080/"
    },
    "id": "aQUCjBBwSg3H",
    "outputId": "99c7627b-01d8-4fe6-9250-69b49d954bb5"
   },
   "outputs": [
    {
     "name": "stdout",
     "output_type": "stream",
     "text": [
      "Глубина: 3\n",
      "F1_score: 0.3275575599335391\n",
      "\n",
      "Глубина: 6\n",
      "F1_score: 0.3862271266936723\n",
      "\n",
      "Глубина: 9\n",
      "F1_score: 0.3900444193753085\n",
      "\n",
      "Глубина: 12\n",
      "F1_score: 0.3895975755867221\n",
      "\n",
      "Глубина: 15\n",
      "F1_score: 0.39093924211417685\n",
      "\n",
      "Глубина: 18\n",
      "F1_score: 0.40640921509266775\n",
      "\n",
      "\n"
     ]
    }
   ],
   "source": [
    "for depth in range(3, 20, 3):\n",
    "    model = RandomForestClassifier(random_state=12345, \n",
    "                                   max_depth = depth, \n",
    "                                   class_weight='balanced')\n",
    "    model.fit(train_tf_idf, target_train)\n",
    "    predicted_valid = model.predict(valid_tf_idf)\n",
    "    print('Глубина:', depth)\n",
    "    print(\"F1_score:\", f1_score(target_valid, predicted_valid))    \n",
    "    print('')\n",
    "print()"
   ]
  },
  {
   "cell_type": "markdown",
   "metadata": {
    "id": "CMxsRwDz1HbC"
   },
   "source": [
    "Ограничим глубину дерева - 9, так как модель склонна к переобучению. Значения F1 не соответствуют условию задачи."
   ]
  },
  {
   "cell_type": "code",
   "execution_count": 45,
   "metadata": {
    "colab": {
     "base_uri": "https://localhost:8080/"
    },
    "id": "oo_Ct9a63z8t",
    "outputId": "0461bae9-e540-4e24-e332-2ac04c25edd6"
   },
   "outputs": [
    {
     "name": "stdout",
     "output_type": "stream",
     "text": [
      "Количество деревьев: 100\n",
      "F1_score: 0.3900444193753085\n",
      "\n",
      "Количество деревьев: 500\n",
      "F1_score: 0.37496695744118425\n",
      "\n",
      "Количество деревьев: 1000\n",
      "F1_score: 0.3734543541173376\n",
      "\n",
      "\n"
     ]
    }
   ],
   "source": [
    "for est in [100, 500, 1000]:\n",
    "    model = RandomForestClassifier(random_state=12345, \n",
    "                                   n_estimators=est, \n",
    "                                   max_depth=9,\n",
    "                                   class_weight='balanced')\n",
    "    model.fit(train_tf_idf, target_train)\n",
    "    predicted_valid = model.predict(valid_tf_idf)\n",
    "    print('Количество деревьев:', est)\n",
    "    print(\"F1_score:\", f1_score(target_valid, predicted_valid))    \n",
    "    print('')\n",
    "print()"
   ]
  },
  {
   "cell_type": "markdown",
   "metadata": {
    "id": "dmXVggdGnTvA"
   },
   "source": [
    "Лучший параметр Количество деревьев: 100. Значения F1 не соответствуют условию задачи."
   ]
  },
  {
   "cell_type": "markdown",
   "metadata": {
    "id": "to5HshVU1Qr2"
   },
   "source": [
    "Вывод: Лучший результат метрики F1 **0.763** на валидацинной выборке показала модель **логистической регрессии**."
   ]
  },
  {
   "cell_type": "markdown",
   "metadata": {
    "id": "yLhhojVC1dD1"
   },
   "source": [
    "### Проверка лучшей модели (Логистической регрессии) на тестовой выборке "
   ]
  },
  {
   "cell_type": "code",
   "execution_count": 47,
   "metadata": {
    "colab": {
     "base_uri": "https://localhost:8080/"
    },
    "id": "c7IF9K3K6QNJ",
    "outputId": "fe2a9c6f-b2d5-430b-95e0-c55049538601"
   },
   "outputs": [
    {
     "name": "stdout",
     "output_type": "stream",
     "text": [
      "F1_score: 0.7503186517490441\n"
     ]
    }
   ],
   "source": [
    "model = LogisticRegression(class_weight='balanced', \n",
    "                          random_state=12345, \n",
    "                          max_iter=1000, \n",
    "                          solver='lbfgs',\n",
    "                          C=8)\n",
    "\n",
    "features_train_lr = pd.concat([features_train, features_valid])\n",
    "target_train_lr = pd.concat([target_train, target_valid])\n",
    "\n",
    "features_train_tf_idf = count_tf_idf.fit_transform(features_train_lr)\n",
    "features_test_tf_idf = count_tf_idf.transform(features_test)\n",
    "\n",
    "model.fit(features_train_tf_idf, target_train_lr)\n",
    "predicted_test = model.predict(features_test_tf_idf)\n",
    "\n",
    "\n",
    "print(\"F1_score:\", f1_score(target_test, predicted_test))"
   ]
  },
  {
   "cell_type": "markdown",
   "metadata": {
    "id": "raC0Xmn-2Mh7"
   },
   "source": [
    "**Вывод**: \n",
    "\n",
    "При обучении моделей наилучший результат показала модель логистической регрессии. **Значение F1-меры на тестовой выборке > 0,75, что соответсвует условиям задачи.**"
   ]
  },
  {
   "cell_type": "markdown",
   "metadata": {},
   "source": [
    "<div class=\"alert alert-success\">\n",
    "<font size=\"5\"><b>Комментарий ревьюера</b></font>\n",
    "\n",
    "Успех: \n",
    "\n",
    "- Все верно, логика моделирования не нарушена, тут тестируем только лучшую модель отобранную на валидации, или парочку лучших, если на валидации результаты близки\n",
    "\n",
    "\n",
    "- Если студент получил на тесте f1 выше 0,75, это считается приемлемым результатом.\n",
    "\n",
    "\n",
    "<div class=\"alert alert-warning\">\n",
    "\n",
    "\n",
    "Совет: \n",
    "\n",
    "Что может помочь добиться лучшего результата (от простого)? \n",
    "\n",
    "    \n",
    "    \n",
    "- использовать stratify. Done!\n",
    "    \n",
    "\n",
    "\n",
    "- можно поиграться порогом\n",
    "   \n",
    "\n",
    "- учесть дисбаланс класов в таргете. (но не oversampling, это скользкая дорожка, через class_weight) Done!\n",
    "\n",
    "\n",
    "    \n",
    "\n",
    "- полезно настраивать векторайзеры (тут пригодится pipeline)\n",
    "\n",
    "\n",
    "  \n",
    "    \n",
    "- подобрать лучшие гиперпараметры с использованием кроссвалидации (тут пригодится GridSearchCV) \n",
    "    \n",
    "    \n",
    "    \n",
    "\n",
    "\n",
    "- попробовать другие модели. проект своеобразный выбор между вычислительными ограничениями (много примеров, расчеты могут затянуться) и задачей получить хорошую метрику (как это и бывает на практике), поэтому советовать \"тяжелые\", но мощные модели, чтобы у тебя все окончательно не повисло не буду (хотя есть вариант попробовать сделать на GPU).  А вот попробовать простые модели: SVC, NBC, логистическая регрессия, которые хорошо отработают с разряженными матрицами, могу. Простые модели - зато используем весь датасет. \n",
    "\n",
    "\n",
    "- Использование предбученной модели Берта, выбрав соответствующую модель и используя полученные эмбединги, даже на небольшом тренировочном датасете можно обучить модель, которая на test покажет хорошую метрику\n",
    "\n",
    "</div>\n"
   ]
  },
  {
   "cell_type": "markdown",
   "metadata": {},
   "source": [
    "<div class=\"alert alert-info\">\n",
    "<h2> Комментарий студента (ревью №1)<a class=\"tocSkip\"> </h2>\n",
    "\n",
    "Про тестирование близких по значениям моделей - точно. Такие две фаворитные модели мы будем уже оценивать строго по тесту, или значения в процессе анализа на валидационной выборке тоже будут влиять на решение?\n",
    "    \n",
    "Спасибо! Очень много полезой и практичной информации!\n",
    "</div>"
   ]
  },
  {
   "cell_type": "markdown",
   "metadata": {},
   "source": [
    "<div class=\"alert alert-warning\">\n",
    "<font size=\"5\"><b>Комментарий ревьюераV2</b></font>\n",
    "\n",
    "\n",
    "\n",
    "Совет 🤔:\n",
    "\n",
    "\n",
    "    Такие две фаворитные модели мы будем уже оценивать строго по тесту, или значения в процессе анализа на валидационной выборке тоже будут влиять на решение?\n",
    "    \n",
    "    \n",
    "Можно попробовать применять их одновременно, если обе показали хороший результат на тест.  Есть даже такой подход стекинг    \n",
    "    \n",
    "</div>\n"
   ]
  },
  {
   "cell_type": "markdown",
   "metadata": {
    "id": "IxNS0bBFU147"
   },
   "source": [
    "## Выводы"
   ]
  },
  {
   "cell_type": "markdown",
   "metadata": {
    "id": "DOIpR2konTvA"
   },
   "source": [
    "Что мы сделали:\n",
    "\n",
    "- Проверили распределение токсичных и нетоксичных комментариев по длине - они оказались примерно равны, следовательно длина сообщения не может служить дополнительным признаком, который можно использовать для классификации.\n",
    "- Очистили датасет, разметили части речи и лемматизировали. Создали столбец с лемматизированным текстом.\n",
    "- Построили мешок слов по классам и нашли часто используемые слова для двух классов.\n",
    "- Проверили целевой признак и обнаружили дисбаланс, который учли при обучении моделей.\n",
    "- Провели подбор параметров и анализ 3-ех различных моделей: логистической регресии, решающего дерева и случайного леса.\n",
    "\n",
    "Лучший результат на тестовой выборке показала **модель логистической регрессии, F1-мера на тестовой выборке > 0,75**. В качестве инструмента который будет искать токсичные комментарии и отправлять их на модерацию мы рекомендуем модель логистической регрессии."
   ]
  },
  {
   "cell_type": "markdown",
   "metadata": {},
   "source": [
    "<div class=\"alert alert-success\">\n",
    "<font size=\"5\"><b>Комментарий ревьюераV2</b></font>\n",
    "\n",
    "Успех 👍:\n",
    "\n",
    "Общий вывод расписан"
   ]
  },
  {
   "cell_type": "markdown",
   "metadata": {},
   "source": [
    "<div class=\"alert alert-danger\">\n",
    "<font size=\"5\"><b>Комментарий ревьюера</b></font>\n",
    "\n",
    "Ошибка:\n",
    "\n",
    "В конце проекта принято кратко описывать все проделанные шаги и полученные результаты. Зачем это нужно - когда проект захочет посмотреть будущий работодатель, у него может не быть времени на подробный разбор кода. Вероятнее всего он бегло просмотрит код, но захочет изучить результат, который будет в общем выводе. Поэтому все же советую написать общий вывод пообьемней: добавить пару слов о данных, работе с ними, о моделях, метриках,"
   ]
  },
  {
   "cell_type": "markdown",
   "metadata": {},
   "source": [
    "<div class=\"alert alert-info\">\n",
    "<h2> Комментарий студента (ревью №1)<a class=\"tocSkip\"> </h2>\n",
    "\n",
    "Исправил.\n",
    "</div>"
   ]
  },
  {
   "cell_type": "markdown",
   "metadata": {},
   "source": [
    "\n",
    "<div class=\"alert alert-info\">\n",
    "<font size=\"5\"><b>Комментарий ревьюера</b></font>\n",
    "\n",
    "\n",
    "\n",
    "Роман, у тебя старательно выполненная работа, все четко, осмысленно. Логика моделирования не нарушена.\n",
    "\n",
    "\n",
    "Если хочешь прокачать свой скилл попробуй использовать GS+pipeline. А ещё можешь попробовать очень современный и модный сейчас подход с использованием эмбедингов от Берт\n",
    "\n",
    "    \n",
    "    \n",
    "\n",
    "Я оставил небольшие советы и вопросики (если есть время и желание можешь воспользоваться/ответить).\n",
    "    \n",
    "\n",
    "\n",
    "\n",
    "Обязательное к исправлению:\n",
    "\n",
    "\n",
    "\n",
    "- неверно указан путь к файлу\n",
    "    \n",
    "    \n",
    "- неверно указан гиперпараметр    \n",
    "    \n",
    "\n",
    "- общий вывод - лицо проекта стоит сделать пообьемней   \n",
    "\n",
    "    \n",
    "    \n",
    "    \n",
    "Жду исправлений, для принятия проекта. Если какие то вопросы, то сразу спрашивай ) \n",
    "\n",
    "\n",
    "</div>\n"
   ]
  },
  {
   "cell_type": "markdown",
   "metadata": {},
   "source": [
    "<div class=\"alert alert-info\">\n",
    "<h2> Комментарий студента (ревью №1)<a class=\"tocSkip\"> </h2>\n",
    "\n",
    "Что подразумевается под \"лицом\" проекта? Описание задачи?\n",
    "</div>"
   ]
  },
  {
   "cell_type": "markdown",
   "metadata": {},
   "source": [
    "<div class=\"alert alert-warning\">\n",
    "<font size=\"5\"><b>Комментарий ревьюераV2</b></font>\n",
    "\n",
    "\n",
    "\n",
    "Совет 🤔:\n",
    "\n",
    "Лицо проекта - это общий вывод\n",
    "\n",
    "</div>\n"
   ]
  },
  {
   "cell_type": "markdown",
   "metadata": {},
   "source": [
    "\n",
    "<div class=\"alert alert-info\">\n",
    "<font size=\"5\"><b>Комментарий ревьюераV2</b></font>\n",
    "\n",
    "Спасибо за работу!  Очень быстрая получилась проверка )  \n",
    "\n",
    "    \n",
    "Красное исправлено, на  вопросы есть ответы  (это все было по желанию), значит стремишься развиваться, а желание и интерес это главное. Надеюсь мои советы и вопросики были полезны и в копилочку знаний упало что то новое, а проект стал лучше, и симпатичней.\n",
    "\n",
    "\n",
    "Отличная работа Роман. Желаю успехов в дальнейшей учебе!\n",
    "\n"
   ]
  },
  {
   "cell_type": "code",
   "execution_count": null,
   "metadata": {},
   "outputs": [],
   "source": []
  }
 ],
 "metadata": {
  "ExecuteTimeLog": [
   {
    "duration": 52,
    "start_time": "2022-07-26T06:13:51.496Z"
   },
   {
    "duration": 0,
    "start_time": "2022-07-26T06:13:51.550Z"
   },
   {
    "duration": 0,
    "start_time": "2022-07-26T06:13:51.551Z"
   },
   {
    "duration": 0,
    "start_time": "2022-07-26T06:13:51.552Z"
   },
   {
    "duration": 0,
    "start_time": "2022-07-26T06:13:51.553Z"
   },
   {
    "duration": 0,
    "start_time": "2022-07-26T06:13:51.555Z"
   },
   {
    "duration": 0,
    "start_time": "2022-07-26T06:13:51.555Z"
   },
   {
    "duration": 0,
    "start_time": "2022-07-26T06:13:51.557Z"
   },
   {
    "duration": 0,
    "start_time": "2022-07-26T06:13:51.558Z"
   },
   {
    "duration": 6,
    "start_time": "2022-07-26T06:13:51.561Z"
   },
   {
    "duration": 41,
    "start_time": "2022-07-26T06:13:51.569Z"
   },
   {
    "duration": 4,
    "start_time": "2022-07-26T06:13:51.613Z"
   },
   {
    "duration": 0,
    "start_time": "2022-07-26T06:13:51.620Z"
   },
   {
    "duration": 0,
    "start_time": "2022-07-26T06:13:51.622Z"
   },
   {
    "duration": 0,
    "start_time": "2022-07-26T06:13:51.623Z"
   },
   {
    "duration": 0,
    "start_time": "2022-07-26T06:13:51.625Z"
   },
   {
    "duration": 0,
    "start_time": "2022-07-26T06:13:51.626Z"
   },
   {
    "duration": 0,
    "start_time": "2022-07-26T06:13:51.627Z"
   },
   {
    "duration": 0,
    "start_time": "2022-07-26T06:13:51.628Z"
   },
   {
    "duration": 0,
    "start_time": "2022-07-26T06:13:51.629Z"
   },
   {
    "duration": 0,
    "start_time": "2022-07-26T06:13:51.630Z"
   },
   {
    "duration": 0,
    "start_time": "2022-07-26T06:13:51.632Z"
   },
   {
    "duration": 0,
    "start_time": "2022-07-26T06:13:51.632Z"
   },
   {
    "duration": 5,
    "start_time": "2022-07-26T06:13:51.640Z"
   },
   {
    "duration": 0,
    "start_time": "2022-07-26T06:13:51.647Z"
   },
   {
    "duration": 0,
    "start_time": "2022-07-26T06:13:51.648Z"
   },
   {
    "duration": 5474,
    "start_time": "2022-07-26T06:16:11.945Z"
   },
   {
    "duration": 3282,
    "start_time": "2022-07-26T06:16:17.421Z"
   },
   {
    "duration": 10,
    "start_time": "2022-07-26T06:16:20.705Z"
   },
   {
    "duration": 35,
    "start_time": "2022-07-26T06:16:20.717Z"
   },
   {
    "duration": 6,
    "start_time": "2022-07-26T06:16:20.755Z"
   },
   {
    "duration": 3,
    "start_time": "2022-07-26T06:16:20.763Z"
   },
   {
    "duration": 324,
    "start_time": "2022-07-26T06:16:20.768Z"
   },
   {
    "duration": 2,
    "start_time": "2022-07-26T06:16:21.094Z"
   },
   {
    "duration": 13,
    "start_time": "2022-07-26T06:16:21.097Z"
   },
   {
    "duration": 10,
    "start_time": "2022-07-26T06:16:21.112Z"
   },
   {
    "duration": 6,
    "start_time": "2022-07-26T06:16:21.124Z"
   },
   {
    "duration": 0,
    "start_time": "2022-07-26T06:16:21.132Z"
   },
   {
    "duration": 0,
    "start_time": "2022-07-26T06:16:21.134Z"
   },
   {
    "duration": 0,
    "start_time": "2022-07-26T06:16:21.136Z"
   },
   {
    "duration": 0,
    "start_time": "2022-07-26T06:16:21.137Z"
   },
   {
    "duration": 0,
    "start_time": "2022-07-26T06:16:21.139Z"
   },
   {
    "duration": 0,
    "start_time": "2022-07-26T06:16:21.140Z"
   },
   {
    "duration": 0,
    "start_time": "2022-07-26T06:16:21.142Z"
   },
   {
    "duration": 0,
    "start_time": "2022-07-26T06:16:21.144Z"
   },
   {
    "duration": 0,
    "start_time": "2022-07-26T06:16:21.145Z"
   },
   {
    "duration": 0,
    "start_time": "2022-07-26T06:16:21.147Z"
   },
   {
    "duration": 0,
    "start_time": "2022-07-26T06:16:21.148Z"
   },
   {
    "duration": 0,
    "start_time": "2022-07-26T06:16:21.149Z"
   },
   {
    "duration": 0,
    "start_time": "2022-07-26T06:16:21.151Z"
   },
   {
    "duration": 0,
    "start_time": "2022-07-26T06:16:21.153Z"
   },
   {
    "duration": 1187329,
    "start_time": "2022-07-26T06:16:47.320Z"
   },
   {
    "duration": 8,
    "start_time": "2022-07-26T06:36:34.651Z"
   },
   {
    "duration": 98,
    "start_time": "2022-07-26T06:36:34.660Z"
   },
   {
    "duration": 10,
    "start_time": "2022-07-26T06:36:34.761Z"
   },
   {
    "duration": 12,
    "start_time": "2022-07-26T06:36:34.773Z"
   },
   {
    "duration": 5,
    "start_time": "2022-07-26T06:36:34.810Z"
   },
   {
    "duration": 12313,
    "start_time": "2022-07-26T06:36:34.816Z"
   },
   {
    "duration": 4,
    "start_time": "2022-07-26T06:36:47.131Z"
   },
   {
    "duration": 8,
    "start_time": "2022-07-26T06:36:47.137Z"
   },
   {
    "duration": 44864,
    "start_time": "2022-07-26T06:36:47.148Z"
   },
   {
    "duration": 68329,
    "start_time": "2022-07-26T06:37:32.014Z"
   },
   {
    "duration": 34468,
    "start_time": "2022-07-26T06:38:40.345Z"
   },
   {
    "duration": 0,
    "start_time": "2022-07-26T06:53:08.816Z"
   },
   {
    "duration": 0,
    "start_time": "2022-07-26T06:53:08.818Z"
   },
   {
    "duration": 0,
    "start_time": "2022-07-26T06:53:08.819Z"
   },
   {
    "duration": 0,
    "start_time": "2022-07-26T06:53:08.820Z"
   },
   {
    "duration": 0,
    "start_time": "2022-07-26T06:53:08.821Z"
   },
   {
    "duration": 7,
    "start_time": "2022-07-26T06:53:08.826Z"
   },
   {
    "duration": 0,
    "start_time": "2022-07-26T06:53:08.835Z"
   },
   {
    "duration": 0,
    "start_time": "2022-07-26T06:53:08.836Z"
   },
   {
    "duration": 0,
    "start_time": "2022-07-26T06:53:08.838Z"
   },
   {
    "duration": 0,
    "start_time": "2022-07-26T06:53:08.839Z"
   },
   {
    "duration": 0,
    "start_time": "2022-07-26T06:53:08.840Z"
   },
   {
    "duration": 6,
    "start_time": "2022-07-26T06:53:08.842Z"
   },
   {
    "duration": 9,
    "start_time": "2022-07-26T06:53:08.853Z"
   },
   {
    "duration": 0,
    "start_time": "2022-07-26T06:53:08.863Z"
   },
   {
    "duration": 55,
    "start_time": "2022-07-26T06:53:08.869Z"
   },
   {
    "duration": 0,
    "start_time": "2022-07-26T06:53:08.927Z"
   },
   {
    "duration": 0,
    "start_time": "2022-07-26T06:53:08.928Z"
   },
   {
    "duration": 0,
    "start_time": "2022-07-26T06:53:08.929Z"
   },
   {
    "duration": 12,
    "start_time": "2022-07-26T06:53:08.931Z"
   },
   {
    "duration": 0,
    "start_time": "2022-07-26T06:53:08.945Z"
   },
   {
    "duration": 0,
    "start_time": "2022-07-26T06:53:08.946Z"
   },
   {
    "duration": 1,
    "start_time": "2022-07-26T06:53:08.947Z"
   },
   {
    "duration": 0,
    "start_time": "2022-07-26T06:53:08.949Z"
   },
   {
    "duration": 0,
    "start_time": "2022-07-26T06:53:08.951Z"
   },
   {
    "duration": 4188,
    "start_time": "2022-07-26T06:53:17.190Z"
   },
   {
    "duration": 2367,
    "start_time": "2022-07-26T06:53:21.501Z"
   },
   {
    "duration": 9,
    "start_time": "2022-07-26T06:53:23.870Z"
   },
   {
    "duration": 31,
    "start_time": "2022-07-26T06:53:23.880Z"
   },
   {
    "duration": 11,
    "start_time": "2022-07-26T06:53:23.913Z"
   },
   {
    "duration": 3,
    "start_time": "2022-07-26T06:53:23.971Z"
   },
   {
    "duration": 272,
    "start_time": "2022-07-26T06:53:25.899Z"
   },
   {
    "duration": 3,
    "start_time": "2022-07-26T06:53:27.070Z"
   },
   {
    "duration": 3,
    "start_time": "2022-07-26T06:53:27.710Z"
   },
   {
    "duration": 3,
    "start_time": "2022-07-26T06:53:28.490Z"
   },
   {
    "duration": 1137937,
    "start_time": "2022-07-26T06:53:31.210Z"
   },
   {
    "duration": 10,
    "start_time": "2022-07-26T07:12:29.149Z"
   },
   {
    "duration": 184,
    "start_time": "2022-07-26T07:12:29.161Z"
   },
   {
    "duration": 13,
    "start_time": "2022-07-26T07:12:29.348Z"
   },
   {
    "duration": 17,
    "start_time": "2022-07-26T07:12:29.424Z"
   },
   {
    "duration": 5,
    "start_time": "2022-07-26T07:12:29.445Z"
   },
   {
    "duration": 22006,
    "start_time": "2022-07-26T07:12:29.452Z"
   },
   {
    "duration": 5,
    "start_time": "2022-07-26T07:12:51.459Z"
   },
   {
    "duration": 51201,
    "start_time": "2022-07-26T07:12:51.524Z"
   },
   {
    "duration": 129603,
    "start_time": "2022-07-26T07:13:42.728Z"
   },
   {
    "duration": 81468,
    "start_time": "2022-07-26T07:15:52.334Z"
   },
   {
    "duration": 6596,
    "start_time": "2022-07-26T09:36:14.857Z"
   },
   {
    "duration": 2614,
    "start_time": "2022-07-26T09:36:21.456Z"
   },
   {
    "duration": 9,
    "start_time": "2022-07-26T09:36:37.975Z"
   },
   {
    "duration": 32,
    "start_time": "2022-07-26T09:36:38.871Z"
   },
   {
    "duration": 8,
    "start_time": "2022-07-26T09:36:39.947Z"
   },
   {
    "duration": 3,
    "start_time": "2022-07-26T09:36:42.068Z"
   },
   {
    "duration": 287,
    "start_time": "2022-07-26T09:36:43.072Z"
   },
   {
    "duration": 4,
    "start_time": "2022-07-26T09:36:46.037Z"
   },
   {
    "duration": 4,
    "start_time": "2022-07-26T09:36:47.070Z"
   },
   {
    "duration": 4,
    "start_time": "2022-07-26T09:36:47.935Z"
   },
   {
    "duration": 4,
    "start_time": "2022-07-26T09:36:49.804Z"
   },
   {
    "duration": 1182838,
    "start_time": "2022-07-26T09:37:02.671Z"
   },
   {
    "duration": 8,
    "start_time": "2022-07-26T10:06:42.036Z"
   },
   {
    "duration": 96,
    "start_time": "2022-07-26T10:06:50.355Z"
   },
   {
    "duration": 60,
    "start_time": "2022-07-26T10:08:00.555Z"
   },
   {
    "duration": 57,
    "start_time": "2022-07-26T10:08:34.701Z"
   },
   {
    "duration": 66,
    "start_time": "2022-07-26T10:08:56.914Z"
   },
   {
    "duration": 10,
    "start_time": "2022-07-26T10:09:27.959Z"
   },
   {
    "duration": 23,
    "start_time": "2022-07-26T10:09:32.138Z"
   },
   {
    "duration": 4,
    "start_time": "2022-07-26T10:09:37.101Z"
   },
   {
    "duration": 126,
    "start_time": "2022-07-26T10:09:45.347Z"
   },
   {
    "duration": 7800,
    "start_time": "2022-07-26T10:11:03.523Z"
   },
   {
    "duration": 3,
    "start_time": "2022-07-26T10:11:17.342Z"
   },
   {
    "duration": 620706,
    "start_time": "2022-07-26T10:36:13.636Z"
   },
   {
    "duration": 5,
    "start_time": "2022-07-26T10:49:18.589Z"
   },
   {
    "duration": 44681,
    "start_time": "2022-07-26T10:49:26.035Z"
   },
   {
    "duration": 7,
    "start_time": "2022-07-26T10:52:40.770Z"
   },
   {
    "duration": 25084,
    "start_time": "2022-07-26T10:52:47.187Z"
   },
   {
    "duration": 6,
    "start_time": "2022-07-26T10:53:12.274Z"
   },
   {
    "duration": 50908,
    "start_time": "2022-07-26T10:53:23.968Z"
   },
   {
    "duration": 19,
    "start_time": "2022-07-26T10:55:34.495Z"
   },
   {
    "duration": 106858,
    "start_time": "2022-07-26T11:06:31.166Z"
   },
   {
    "duration": 4,
    "start_time": "2022-07-26T11:09:53.977Z"
   },
   {
    "duration": 6,
    "start_time": "2022-07-26T11:10:17.108Z"
   },
   {
    "duration": 104633,
    "start_time": "2022-07-26T11:11:42.498Z"
   },
   {
    "duration": 5,
    "start_time": "2022-07-26T11:13:32.763Z"
   },
   {
    "duration": 105458,
    "start_time": "2022-07-26T11:21:39.866Z"
   },
   {
    "duration": 6,
    "start_time": "2022-07-26T11:23:25.326Z"
   },
   {
    "duration": 10,
    "start_time": "2022-07-26T11:30:05.193Z"
   },
   {
    "duration": 2528,
    "start_time": "2022-07-26T18:21:57.542Z"
   },
   {
    "duration": 1031,
    "start_time": "2022-07-26T18:22:42.248Z"
   },
   {
    "duration": 2242,
    "start_time": "2022-07-26T18:22:48.987Z"
   },
   {
    "duration": 8,
    "start_time": "2022-07-26T18:22:51.231Z"
   },
   {
    "duration": 34,
    "start_time": "2022-07-26T18:23:00.805Z"
   },
   {
    "duration": 6,
    "start_time": "2022-07-26T18:23:02.272Z"
   },
   {
    "duration": 3,
    "start_time": "2022-07-26T18:23:07.560Z"
   },
   {
    "duration": 283,
    "start_time": "2022-07-26T18:23:09.738Z"
   },
   {
    "duration": 62,
    "start_time": "2022-07-26T18:23:16.247Z"
   },
   {
    "duration": 9,
    "start_time": "2022-07-26T18:23:29.016Z"
   },
   {
    "duration": 21,
    "start_time": "2022-07-26T18:25:12.444Z"
   },
   {
    "duration": 358,
    "start_time": "2022-07-26T18:25:25.701Z"
   },
   {
    "duration": 155,
    "start_time": "2022-07-26T18:26:02.794Z"
   },
   {
    "duration": 17,
    "start_time": "2022-07-26T18:26:35.381Z"
   },
   {
    "duration": 152,
    "start_time": "2022-07-26T18:26:44.303Z"
   },
   {
    "duration": 5124,
    "start_time": "2022-07-27T10:23:14.941Z"
   },
   {
    "duration": 2833,
    "start_time": "2022-07-27T10:23:27.242Z"
   },
   {
    "duration": 10,
    "start_time": "2022-07-27T10:23:31.945Z"
   },
   {
    "duration": 38,
    "start_time": "2022-07-27T10:23:34.203Z"
   },
   {
    "duration": 8,
    "start_time": "2022-07-27T10:23:35.357Z"
   },
   {
    "duration": 4,
    "start_time": "2022-07-27T10:23:38.009Z"
   },
   {
    "duration": 354,
    "start_time": "2022-07-27T10:23:38.959Z"
   },
   {
    "duration": 66,
    "start_time": "2022-07-27T10:24:01.773Z"
   },
   {
    "duration": 7,
    "start_time": "2022-07-27T10:24:15.497Z"
   },
   {
    "duration": 19,
    "start_time": "2022-07-27T10:24:32.947Z"
   },
   {
    "duration": 315,
    "start_time": "2022-07-27T10:27:06.988Z"
   },
   {
    "duration": 189,
    "start_time": "2022-07-27T10:27:19.258Z"
   },
   {
    "duration": 157,
    "start_time": "2022-07-27T10:27:27.591Z"
   },
   {
    "duration": 176,
    "start_time": "2022-07-27T10:28:01.857Z"
   },
   {
    "duration": 160,
    "start_time": "2022-07-27T10:28:47.042Z"
   },
   {
    "duration": 180,
    "start_time": "2022-07-27T10:33:11.181Z"
   },
   {
    "duration": 158,
    "start_time": "2022-07-27T10:33:26.394Z"
   },
   {
    "duration": 8,
    "start_time": "2022-07-27T10:47:53.295Z"
   },
   {
    "duration": 168,
    "start_time": "2022-07-27T10:50:15.366Z"
   },
   {
    "duration": 63,
    "start_time": "2022-07-27T11:12:47.226Z"
   },
   {
    "duration": 22,
    "start_time": "2022-07-27T11:15:04.524Z"
   },
   {
    "duration": 270,
    "start_time": "2022-07-27T11:26:23.150Z"
   },
   {
    "duration": 133,
    "start_time": "2022-07-27T11:26:36.306Z"
   },
   {
    "duration": 17,
    "start_time": "2022-07-27T11:27:59.388Z"
   },
   {
    "duration": 11,
    "start_time": "2022-07-27T11:33:03.256Z"
   },
   {
    "duration": 7,
    "start_time": "2022-07-27T11:33:36.401Z"
   },
   {
    "duration": 8288,
    "start_time": "2022-07-27T11:33:54.932Z"
   },
   {
    "duration": 8213,
    "start_time": "2022-07-27T11:34:45.115Z"
   },
   {
    "duration": 15765,
    "start_time": "2022-07-27T11:35:21.984Z"
   },
   {
    "duration": 239,
    "start_time": "2022-07-27T11:38:05.751Z"
   },
   {
    "duration": 1389,
    "start_time": "2022-07-27T11:38:41.768Z"
   },
   {
    "duration": 38,
    "start_time": "2022-07-27T11:38:47.754Z"
   },
   {
    "duration": 1218,
    "start_time": "2022-07-27T11:41:44.594Z"
   },
   {
    "duration": 38,
    "start_time": "2022-07-27T11:41:48.589Z"
   },
   {
    "duration": 10,
    "start_time": "2022-07-27T11:46:23.657Z"
   },
   {
    "duration": 3,
    "start_time": "2022-07-27T11:49:04.375Z"
   },
   {
    "duration": 3,
    "start_time": "2022-07-27T11:49:13.538Z"
   },
   {
    "duration": 30,
    "start_time": "2022-07-27T11:49:43.088Z"
   },
   {
    "duration": 19,
    "start_time": "2022-07-27T11:49:57.529Z"
   },
   {
    "duration": 15,
    "start_time": "2022-07-27T11:49:59.872Z"
   },
   {
    "duration": 3,
    "start_time": "2022-07-27T11:51:23.692Z"
   },
   {
    "duration": 19,
    "start_time": "2022-07-27T11:51:29.979Z"
   },
   {
    "duration": 10,
    "start_time": "2022-07-27T11:52:23.112Z"
   },
   {
    "duration": 676,
    "start_time": "2022-07-27T11:52:46.655Z"
   },
   {
    "duration": 1339,
    "start_time": "2022-07-27T11:52:58.102Z"
   },
   {
    "duration": 11,
    "start_time": "2022-07-27T11:53:53.903Z"
   },
   {
    "duration": 43,
    "start_time": "2022-07-27T11:54:03.002Z"
   },
   {
    "duration": 15,
    "start_time": "2022-07-27T12:00:04.056Z"
   },
   {
    "duration": 13,
    "start_time": "2022-07-27T12:00:13.093Z"
   },
   {
    "duration": 3,
    "start_time": "2022-07-27T12:03:45.855Z"
   },
   {
    "duration": 4,
    "start_time": "2022-07-27T12:03:49.130Z"
   },
   {
    "duration": 4,
    "start_time": "2022-07-27T12:03:52.601Z"
   },
   {
    "duration": 1150530,
    "start_time": "2022-07-27T12:03:56.344Z"
   },
   {
    "duration": 8,
    "start_time": "2022-07-27T12:27:12.858Z"
   },
   {
    "duration": 44,
    "start_time": "2022-07-27T12:28:20.240Z"
   },
   {
    "duration": 9,
    "start_time": "2022-07-27T12:28:29.068Z"
   },
   {
    "duration": 34,
    "start_time": "2022-07-27T12:29:21.216Z"
   },
   {
    "duration": 33,
    "start_time": "2022-07-27T12:29:37.337Z"
   },
   {
    "duration": 12,
    "start_time": "2022-07-27T12:29:45.184Z"
   },
   {
    "duration": 58,
    "start_time": "2022-07-27T12:29:58.525Z"
   },
   {
    "duration": 12,
    "start_time": "2022-07-27T12:30:03.651Z"
   },
   {
    "duration": 4,
    "start_time": "2022-07-27T12:30:38.776Z"
   },
   {
    "duration": 11,
    "start_time": "2022-07-27T12:30:59.970Z"
   },
   {
    "duration": 22,
    "start_time": "2022-07-27T12:33:33.679Z"
   },
   {
    "duration": 50,
    "start_time": "2022-07-27T12:34:15.678Z"
   },
   {
    "duration": 7,
    "start_time": "2022-07-27T12:34:18.818Z"
   },
   {
    "duration": 31,
    "start_time": "2022-07-27T12:34:51.430Z"
   },
   {
    "duration": 1876,
    "start_time": "2022-07-27T12:56:35.552Z"
   },
   {
    "duration": 763,
    "start_time": "2022-07-27T12:56:37.430Z"
   },
   {
    "duration": 11,
    "start_time": "2022-07-27T12:56:38.194Z"
   },
   {
    "duration": 41,
    "start_time": "2022-07-27T12:56:38.207Z"
   },
   {
    "duration": 9,
    "start_time": "2022-07-27T12:56:38.250Z"
   },
   {
    "duration": 3,
    "start_time": "2022-07-27T12:56:38.260Z"
   },
   {
    "duration": 306,
    "start_time": "2022-07-27T12:56:38.265Z"
   },
   {
    "duration": 72,
    "start_time": "2022-07-27T12:56:39.034Z"
   },
   {
    "duration": 7,
    "start_time": "2022-07-27T12:56:39.252Z"
   },
   {
    "duration": 18,
    "start_time": "2022-07-27T12:56:39.443Z"
   },
   {
    "duration": 181,
    "start_time": "2022-07-27T12:56:39.636Z"
   },
   {
    "duration": 7,
    "start_time": "2022-07-27T12:56:40.023Z"
   },
   {
    "duration": 150,
    "start_time": "2022-07-27T12:56:40.473Z"
   },
   {
    "duration": 1174,
    "start_time": "2022-07-27T12:56:40.940Z"
   },
   {
    "duration": 45,
    "start_time": "2022-07-27T12:56:50.887Z"
   },
   {
    "duration": 137,
    "start_time": "2022-07-27T12:56:51.733Z"
   },
   {
    "duration": 2,
    "start_time": "2022-07-27T12:56:54.044Z"
   },
   {
    "duration": 3,
    "start_time": "2022-07-27T12:56:55.220Z"
   },
   {
    "duration": 4,
    "start_time": "2022-07-27T12:56:56.486Z"
   },
   {
    "duration": 3,
    "start_time": "2022-07-27T12:56:56.985Z"
   },
   {
    "duration": 1123012,
    "start_time": "2022-07-27T12:56:58.637Z"
   },
   {
    "duration": 8,
    "start_time": "2022-07-27T13:15:41.652Z"
   },
   {
    "duration": 38,
    "start_time": "2022-07-27T13:15:41.661Z"
   },
   {
    "duration": 9,
    "start_time": "2022-07-27T13:15:41.701Z"
   },
   {
    "duration": 4168,
    "start_time": "2022-07-28T16:22:58.013Z"
   },
   {
    "duration": 2176,
    "start_time": "2022-07-28T16:23:02.184Z"
   },
   {
    "duration": 10,
    "start_time": "2022-07-28T16:23:04.363Z"
   },
   {
    "duration": 36,
    "start_time": "2022-07-28T16:23:04.375Z"
   },
   {
    "duration": 6,
    "start_time": "2022-07-28T16:23:05.719Z"
   },
   {
    "duration": 4,
    "start_time": "2022-07-28T16:23:08.380Z"
   },
   {
    "duration": 302,
    "start_time": "2022-07-28T16:23:09.875Z"
   },
   {
    "duration": 60,
    "start_time": "2022-07-28T16:23:11.903Z"
   },
   {
    "duration": 7,
    "start_time": "2022-07-28T16:23:12.391Z"
   },
   {
    "duration": 18,
    "start_time": "2022-07-28T16:23:12.792Z"
   },
   {
    "duration": 171,
    "start_time": "2022-07-28T16:23:13.259Z"
   },
   {
    "duration": 8,
    "start_time": "2022-07-28T16:23:13.628Z"
   },
   {
    "duration": 168,
    "start_time": "2022-07-28T16:23:14.881Z"
   },
   {
    "duration": 2,
    "start_time": "2022-07-28T16:23:33.868Z"
   },
   {
    "duration": 4,
    "start_time": "2022-07-28T16:23:35.699Z"
   },
   {
    "duration": 3,
    "start_time": "2022-07-28T16:23:37.369Z"
   },
   {
    "duration": 1170170,
    "start_time": "2022-07-28T16:23:38.943Z"
   },
   {
    "duration": 9,
    "start_time": "2022-07-28T16:47:08.487Z"
   },
   {
    "duration": 31,
    "start_time": "2022-07-28T16:47:19.998Z"
   },
   {
    "duration": 9,
    "start_time": "2022-07-28T16:47:36.067Z"
   },
   {
    "duration": 141,
    "start_time": "2022-07-28T16:54:28.576Z"
   },
   {
    "duration": 17,
    "start_time": "2022-07-28T16:54:53.351Z"
   },
   {
    "duration": 560,
    "start_time": "2022-07-28T16:56:22.907Z"
   },
   {
    "duration": 9,
    "start_time": "2022-07-28T16:56:50.111Z"
   },
   {
    "duration": 31,
    "start_time": "2022-07-28T16:56:55.030Z"
   },
   {
    "duration": 4,
    "start_time": "2022-07-28T16:58:18.533Z"
   },
   {
    "duration": 26,
    "start_time": "2022-07-28T16:58:30.083Z"
   },
   {
    "duration": 11,
    "start_time": "2022-07-28T17:01:33.963Z"
   },
   {
    "duration": 618,
    "start_time": "2022-07-28T17:01:57.539Z"
   },
   {
    "duration": 5,
    "start_time": "2022-07-28T17:02:00.363Z"
   },
   {
    "duration": 583,
    "start_time": "2022-07-28T17:02:30.286Z"
   },
   {
    "duration": 5,
    "start_time": "2022-07-28T17:02:31.370Z"
   },
   {
    "duration": 681,
    "start_time": "2022-07-28T17:03:34.420Z"
   },
   {
    "duration": 5,
    "start_time": "2022-07-28T17:03:36.601Z"
   },
   {
    "duration": 6,
    "start_time": "2022-07-28T17:04:39.739Z"
   },
   {
    "duration": 4,
    "start_time": "2022-07-28T17:04:43.599Z"
   },
   {
    "duration": 16,
    "start_time": "2022-07-28T17:07:43.001Z"
   },
   {
    "duration": 5,
    "start_time": "2022-07-28T17:08:21.811Z"
   },
   {
    "duration": 11,
    "start_time": "2022-07-28T17:08:59.738Z"
   },
   {
    "duration": 21,
    "start_time": "2022-07-28T17:09:22.853Z"
   },
   {
    "duration": 9,
    "start_time": "2022-07-28T17:09:24.554Z"
   },
   {
    "duration": 7606,
    "start_time": "2022-07-28T17:09:45.527Z"
   },
   {
    "duration": 6,
    "start_time": "2022-07-28T17:09:54.890Z"
   },
   {
    "duration": 618,
    "start_time": "2022-07-28T17:12:49.846Z"
   },
   {
    "duration": 5,
    "start_time": "2022-07-28T17:12:53.573Z"
   },
   {
    "duration": 6650,
    "start_time": "2022-07-28T17:13:25.293Z"
   },
   {
    "duration": 5,
    "start_time": "2022-07-28T17:13:33.350Z"
   },
   {
    "duration": 112,
    "start_time": "2022-07-28T17:30:43.964Z"
   },
   {
    "duration": 9,
    "start_time": "2022-07-28T17:30:47.088Z"
   },
   {
    "duration": 16,
    "start_time": "2022-07-28T17:30:48.360Z"
   },
   {
    "duration": 4,
    "start_time": "2022-07-28T17:30:48.986Z"
   },
   {
    "duration": 8161,
    "start_time": "2022-07-28T17:30:51.170Z"
   },
   {
    "duration": 6,
    "start_time": "2022-07-28T17:31:04.161Z"
   },
   {
    "duration": 5,
    "start_time": "2022-07-28T17:31:04.856Z"
   },
   {
    "duration": 651454,
    "start_time": "2022-07-28T17:31:08.671Z"
   },
   {
    "duration": 44862,
    "start_time": "2022-07-28T17:42:00.127Z"
   },
   {
    "duration": 25013,
    "start_time": "2022-07-28T17:42:44.991Z"
   },
   {
    "duration": 50461,
    "start_time": "2022-07-28T17:43:10.007Z"
   },
   {
    "duration": 109062,
    "start_time": "2022-07-28T17:44:00.470Z"
   },
   {
    "duration": 11,
    "start_time": "2022-07-28T17:45:49.536Z"
   },
   {
    "duration": 38,
    "start_time": "2022-07-28T17:45:49.549Z"
   },
   {
    "duration": 414,
    "start_time": "2022-07-29T08:40:20.493Z"
   },
   {
    "duration": 12,
    "start_time": "2022-07-29T08:40:26.446Z"
   },
   {
    "duration": 12,
    "start_time": "2022-07-29T08:40:31.807Z"
   },
   {
    "duration": 76,
    "start_time": "2022-07-29T08:40:49.402Z"
   },
   {
    "duration": 24,
    "start_time": "2022-07-29T08:40:59.885Z"
   },
   {
    "duration": 8,
    "start_time": "2022-07-29T08:41:06.158Z"
   },
   {
    "duration": 4,
    "start_time": "2022-07-29T08:41:11.872Z"
   },
   {
    "duration": 4,
    "start_time": "2022-07-29T08:41:15.185Z"
   },
   {
    "duration": 5,
    "start_time": "2022-07-29T08:41:20.105Z"
   },
   {
    "duration": 5,
    "start_time": "2022-07-29T08:41:35.757Z"
   },
   {
    "duration": 7,
    "start_time": "2022-07-29T08:41:36.938Z"
   },
   {
    "duration": 4,
    "start_time": "2022-07-29T08:41:38.925Z"
   },
   {
    "duration": 7,
    "start_time": "2022-07-29T08:41:41.747Z"
   },
   {
    "duration": 7,
    "start_time": "2022-07-29T08:41:46.645Z"
   },
   {
    "duration": 4,
    "start_time": "2022-07-29T08:41:51.285Z"
   },
   {
    "duration": 6,
    "start_time": "2022-07-29T08:41:51.757Z"
   },
   {
    "duration": 10,
    "start_time": "2022-07-29T08:42:06.445Z"
   },
   {
    "duration": 14,
    "start_time": "2022-07-29T08:42:13.597Z"
   },
   {
    "duration": 9,
    "start_time": "2022-07-29T08:42:17.126Z"
   },
   {
    "duration": 11,
    "start_time": "2022-07-29T08:42:21.299Z"
   },
   {
    "duration": 9,
    "start_time": "2022-07-29T08:42:26.566Z"
   },
   {
    "duration": 9,
    "start_time": "2022-07-29T08:46:15.345Z"
   },
   {
    "duration": 13,
    "start_time": "2022-07-29T08:46:22.754Z"
   },
   {
    "duration": 13,
    "start_time": "2022-07-29T08:46:25.963Z"
   },
   {
    "duration": 76,
    "start_time": "2022-07-29T08:46:46.126Z"
   }
  ],
  "colab": {
   "provenance": []
  },
  "kernelspec": {
   "display_name": "Python 3 (ipykernel)",
   "language": "python",
   "name": "python3"
  },
  "language_info": {
   "codemirror_mode": {
    "name": "ipython",
    "version": 3
   },
   "file_extension": ".py",
   "mimetype": "text/x-python",
   "name": "python",
   "nbconvert_exporter": "python",
   "pygments_lexer": "ipython3",
   "version": "3.9.15"
  },
  "toc": {
   "base_numbering": 1,
   "nav_menu": {},
   "number_sections": true,
   "sideBar": true,
   "skip_h1_title": true,
   "title_cell": "Содержание",
   "title_sidebar": "Contents",
   "toc_cell": true,
   "toc_position": {
    "height": "calc(100% - 180px)",
    "left": "10px",
    "top": "150px",
    "width": "302.391px"
   },
   "toc_section_display": true,
   "toc_window_display": false
  }
 },
 "nbformat": 4,
 "nbformat_minor": 1
}
