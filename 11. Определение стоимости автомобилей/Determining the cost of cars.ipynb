{
 "cells": [
  {
   "cell_type": "markdown",
   "metadata": {},
   "source": [
    "<div style=\"border:solid Chocolate 2px; padding: 40px\">\n",
    "    \n",
    " <b>Добрый день, Роман!</b>\n",
    "    \n",
    "Меня зовут Ксения Цыганова, и я буду комментировать твою работу и помогать тебе сделать ее сильнее. В Практикуме мы общаемся на «ты», но если тебе это будет некомфортно, пожалуйста, скажи, и мы будем обращаться друг к другу на «вы».\n",
    "    \n",
    "Все мои комментарии делятся на три вида:\n",
    "\n",
    "    \n",
    "👍 Здесь все отлично, идем дальше! - <font color='green'> зеленый цвет </font>\n",
    "    \n",
    "💡 Все хорошо, однако, можно оптимизировать или рассмотреть другие способы (необязательно для исполнения, чтобы пройти дальше) - <font color='gold'>желтый цвет</font>\n",
    "    \n",
    "🤔 Необходимо внести исправления, без которых я не смогу принять проект - <font color='red'>красный цвет</font>\n",
    "    \n",
    "    \n",
    "Свои комментарии я буду выделять заголовком «комментарий ревьюера». Пожалуйста, не удаляй их, это поможет сократить время проверки на повторных ревью.Ты также можешь писать свои комментарии к моим и выделять их любым понравившимся способом, отличным от моего. Если у тебя будут возникать вопросы в течение нашей работы, я с радостью на них отвечу.\n",
    "\n",
    "Цель моего ревью не критика и не возможность дать тебе готовые ответы, это способ привести тебя в нужное русло, чтобы ты смог развить собственные идеи и решения. Твой будущий работодатель будет поступать похожим образом. \n",
    "        \n",
    "   <b>У тебя все получится!</b>"
   ]
  },
  {
   "cell_type": "markdown",
   "metadata": {},
   "source": [
    "# Определение стоимости автомобилей"
   ]
  },
  {
   "cell_type": "markdown",
   "metadata": {},
   "source": [
    "Cервис по продаже автомобилей с пробегом «Не бит, не крашен» разрабатывает приложение, чтобы привлечь новых клиентов. В нём можно будет узнать рыночную стоимость своего автомобиля. \n",
    "\n",
    "**Цель исследования:**\n",
    "\n",
    "Построим модель, которая умеет определять рыночную стоимость автомобиля. В вашем распоряжении данные о технических характеристиках, комплектации и ценах других автомобилей.\n",
    "\n",
    "Критерии, которые важны заказчику:\n",
    "* качество предсказания;\n",
    "* время обучения модели;\n",
    "* время предсказания модели.\n",
    "\n",
    "**Описание данных:**\n",
    "\n",
    "Набор данных находится в файле `/datasets/autos.csv`. О качестве данных ничего не известно.\n",
    "\n",
    "Признаки:\n",
    "* `DateCrawled` — дата скачивания анкеты из базы\n",
    "* `VehicleType` — тип автомобильного кузова\n",
    "* `RegistrationYear` — год регистрации автомобиля\n",
    "* `Gearbox` — тип коробки передач\n",
    "* `Power` — мощность (л. с.)\n",
    "* `Model` — модель автомобиля\n",
    "* `Kilometer` — пробег (км)\n",
    "* `RegistrationMonth` — месяц регистрации автомобиля\n",
    "* `FuelType` — тип топлива\n",
    "* `Brand` — марка автомобиля\n",
    "* `Repaired` — была машина в ремонте или нет\n",
    "* `DateCreated` — дата создания анкеты\n",
    "* `NumberOfPictures` — количество фотографий автомобиля\n",
    "* `PostalCode` — почтовый индекс владельца анкеты (пользователя)\n",
    "* `LastSeen` — дата последней активности пользователя\n",
    "    \n",
    "Целевой признак:\n",
    "* `Price` — цена (евро)\n",
    "\n",
    "**Ход исследования:** \n",
    "\n",
    "\tЗагрузим данные, путь к файлу:  /datasets/autos.csv.\n",
    "\tИзучим данные. Заполним пропущенные значения и обработаем аномалии в столбцах. Если среди признаков имеются неинформативные, удалим их.\n",
    "\tПодготовим выборки для обучения моделей.\n",
    "\tОбучим разные модели, одна из которых — LightGBM, как минимум одна — не бустинг. Для каждой модели попробуем разные гиперпараметры.\n",
    "\tПроанализируем время обучения, время предсказания и качество моделей.\n",
    "\tОпираясь на критерии заказчика, выберем лучшую модель, проверим её качество на тестовой выборке.\n",
    "\n",
    "Таким образом, исследование пройдёт несколько этапов:\n",
    " 1. Загрузка и подготовка данных.\n",
    " 2. Обучение моделей.\n",
    " 3. Анализ моделей.\n",
    " 4. Общий вывод.\n",
    " \n",
    "**Примечания:**\n",
    "\n",
    "\tДля оценки качества моделей применяйте метрику RMSE.\n",
    "\tЗначение метрики RMSE должно быть меньше 2500.\n",
    "\tСамостоятельно освойте библиотеку LightGBM и её средствами постройте модели градиентного бустинга.\n",
    "\tВремя выполнения ячейки кода Jupyter Notebook можно получить специальной командой. Найдите её.\n",
    "\tМодель градиентного бустинга может долго обучаться, поэтому измените у неё только два-три параметра.\n",
    "\tЕсли перестанет работать Jupyter Notebook, удалите лишние переменные оператором del.\n",
    "    \n",
    "    Чтобы усилить исследование, не будем ограничиваться градиентным бустингом. Попробуем более простые модели — иногда они работают лучше. Эти редкие случаи легко пропустить, если всегда применять только бустинг. \n",
    "*Поэкспериментируем и сравним характеристики моделей: время обучения, время предсказания, точность результата.*"
   ]
  },
  {
   "cell_type": "markdown",
   "metadata": {},
   "source": [
    "<div class=\"alert alert-success\">\n",
    "<h2> Комментарий ревьюера <a class=\"tocSkip\"> </h2>\n",
    "\n",
    "<b>Все отлично!👍:</b> \n",
    "    \n",
    "Отлично, что есть вступительный комментарий"
   ]
  },
  {
   "cell_type": "markdown",
   "metadata": {},
   "source": [
    "## Подготовка данных"
   ]
  },
  {
   "cell_type": "code",
   "execution_count": 1,
   "metadata": {},
   "outputs": [
    {
     "data": {
      "text/plain": [
       "'!pip install lightgbm'"
      ]
     },
     "execution_count": 1,
     "metadata": {},
     "output_type": "execute_result"
    }
   ],
   "source": [
    "\"!pip install lightgbm\""
   ]
  },
  {
   "cell_type": "code",
   "execution_count": 2,
   "metadata": {},
   "outputs": [],
   "source": [
    "import warnings\n",
    "\n",
    "import pandas as pd\n",
    "import numpy as np\n",
    "import matplotlib.pyplot as plt\n",
    "import seaborn as sns\n",
    "import lightgbm as lgb\n",
    "\n",
    "from sklearn.linear_model import LinearRegression\n",
    "from sklearn.ensemble import RandomForestRegressor\n",
    "from sklearn.dummy import DummyRegressor\n",
    "from sklearn.model_selection import train_test_split\n",
    "from sklearn.preprocessing import StandardScaler\n",
    "from sklearn.metrics import mean_squared_error\n",
    "from sklearn.preprocessing import OrdinalEncoder\n",
    "from sklearn.tree import DecisionTreeRegressor\n",
    "from sklearn.ensemble import RandomForestRegressor\n",
    "from sklearn.model_selection import GridSearchCV\n",
    "from sklearn.model_selection import cross_val_score\n",
    "from sklearn.compose import make_column_transformer\n",
    "\n",
    "from scipy.stats import spearmanr\n",
    "\n",
    "from sklearn.preprocessing import (\n",
    "    OneHotEncoder,\n",
    "    OrdinalEncoder,\n",
    "    StandardScaler\n",
    ")\n",
    "\n",
    "warnings.filterwarnings(\"ignore\")"
   ]
  },
  {
   "cell_type": "markdown",
   "metadata": {},
   "source": [
    "<div class=\"alert alert-success\">\n",
    "<h2> Комментарий ревьюера <a class=\"tocSkip\"> </h2>\n",
    "\n",
    "<b>Все отлично!👍:</b> \n",
    "    \n",
    "Отлично, что все импорты собраны в одном месте в начале проекта. Это поможет в случае чего сразу увидеть, какие библиотеки следует доустановить."
   ]
  },
  {
   "cell_type": "markdown",
   "metadata": {},
   "source": [
    "Константа:"
   ]
  },
  {
   "cell_type": "code",
   "execution_count": 3,
   "metadata": {},
   "outputs": [],
   "source": [
    "RANDOM_STATE = 12345"
   ]
  },
  {
   "cell_type": "code",
   "execution_count": 4,
   "metadata": {},
   "outputs": [
    {
     "name": "stdout",
     "output_type": "stream",
     "text": [
      "что-то пошло не так\n"
     ]
    }
   ],
   "source": [
    "try:\n",
    "    df = pd.read_csv('/Users/roman/Desktop/Data Scientist/Practicum/Projects/2_numerical_methods/autos.csv',\n",
    "                parse_dates=[0, 12, 15])\n",
    "except:\n",
    "    print('что-то пошло не так')\n",
    "\n",
    "try:\n",
    "    df = pd.read_csv('/datasets/autos.csv',\n",
    "                     parse_dates=[0, 12, 15])\n",
    "except:\n",
    "    print('что-то пошло не так')"
   ]
  },
  {
   "cell_type": "markdown",
   "metadata": {},
   "source": [
    "<div class=\"alert alert-warning\">\n",
    "    <h2> Комментарий ревьюера <a class=\"tocSkip\"> </h2>\n",
    "    \n",
    "<b>Некоторые замечания и рекомендации💡:</b> \n",
    "        \n",
    "Для загрузки данных можно использовать библиотеку os или констукцию try/except. Это поможет работать с проектом как локально, так и через Jupyter Hub, не внося дополнительных правок."
   ]
  },
  {
   "cell_type": "markdown",
   "metadata": {},
   "source": [
    "<div class=\"alert alert-info\">\n",
    "<h1> Комментарий студента №2</h1>\n",
    "\n",
    "Исправил\n",
    "</div>"
   ]
  },
  {
   "cell_type": "markdown",
   "metadata": {},
   "source": [
    "<div class=\"alert alert-success\">\n",
    "<h2> Комментарий ревьюера №2<a class=\"tocSkip\"> </h2>\n",
    "\n",
    "<b>Все отлично!👍</b> "
   ]
  },
  {
   "cell_type": "code",
   "execution_count": 5,
   "metadata": {},
   "outputs": [
    {
     "name": "stdout",
     "output_type": "stream",
     "text": [
      "<class 'pandas.core.frame.DataFrame'>\n",
      "RangeIndex: 354369 entries, 0 to 354368\n",
      "Data columns (total 16 columns):\n",
      " #   Column             Non-Null Count   Dtype         \n",
      "---  ------             --------------   -----         \n",
      " 0   DateCrawled        354369 non-null  datetime64[ns]\n",
      " 1   Price              354369 non-null  int64         \n",
      " 2   VehicleType        316879 non-null  object        \n",
      " 3   RegistrationYear   354369 non-null  int64         \n",
      " 4   Gearbox            334536 non-null  object        \n",
      " 5   Power              354369 non-null  int64         \n",
      " 6   Model              334664 non-null  object        \n",
      " 7   Kilometer          354369 non-null  int64         \n",
      " 8   RegistrationMonth  354369 non-null  int64         \n",
      " 9   FuelType           321474 non-null  object        \n",
      " 10  Brand              354369 non-null  object        \n",
      " 11  Repaired           283215 non-null  object        \n",
      " 12  DateCreated        354369 non-null  datetime64[ns]\n",
      " 13  NumberOfPictures   354369 non-null  int64         \n",
      " 14  PostalCode         354369 non-null  int64         \n",
      " 15  LastSeen           354369 non-null  datetime64[ns]\n",
      "dtypes: datetime64[ns](3), int64(7), object(6)\n",
      "memory usage: 43.3+ MB\n"
     ]
    }
   ],
   "source": [
    "df.info()"
   ]
  },
  {
   "cell_type": "code",
   "execution_count": 6,
   "metadata": {},
   "outputs": [
    {
     "data": {
      "text/html": [
       "<div>\n",
       "<style scoped>\n",
       "    .dataframe tbody tr th:only-of-type {\n",
       "        vertical-align: middle;\n",
       "    }\n",
       "\n",
       "    .dataframe tbody tr th {\n",
       "        vertical-align: top;\n",
       "    }\n",
       "\n",
       "    .dataframe thead th {\n",
       "        text-align: right;\n",
       "    }\n",
       "</style>\n",
       "<table border=\"1\" class=\"dataframe\">\n",
       "  <thead>\n",
       "    <tr style=\"text-align: right;\">\n",
       "      <th></th>\n",
       "      <th>DateCrawled</th>\n",
       "      <th>Price</th>\n",
       "      <th>VehicleType</th>\n",
       "      <th>RegistrationYear</th>\n",
       "      <th>Gearbox</th>\n",
       "      <th>Power</th>\n",
       "      <th>Model</th>\n",
       "      <th>Kilometer</th>\n",
       "      <th>RegistrationMonth</th>\n",
       "      <th>FuelType</th>\n",
       "      <th>Brand</th>\n",
       "      <th>Repaired</th>\n",
       "      <th>DateCreated</th>\n",
       "      <th>NumberOfPictures</th>\n",
       "      <th>PostalCode</th>\n",
       "      <th>LastSeen</th>\n",
       "    </tr>\n",
       "  </thead>\n",
       "  <tbody>\n",
       "    <tr>\n",
       "      <th>0</th>\n",
       "      <td>2016-03-24 11:52:17</td>\n",
       "      <td>480</td>\n",
       "      <td>NaN</td>\n",
       "      <td>1993</td>\n",
       "      <td>manual</td>\n",
       "      <td>0</td>\n",
       "      <td>golf</td>\n",
       "      <td>150000</td>\n",
       "      <td>0</td>\n",
       "      <td>petrol</td>\n",
       "      <td>volkswagen</td>\n",
       "      <td>NaN</td>\n",
       "      <td>2016-03-24</td>\n",
       "      <td>0</td>\n",
       "      <td>70435</td>\n",
       "      <td>2016-04-07 03:16:57</td>\n",
       "    </tr>\n",
       "    <tr>\n",
       "      <th>1</th>\n",
       "      <td>2016-03-24 10:58:45</td>\n",
       "      <td>18300</td>\n",
       "      <td>coupe</td>\n",
       "      <td>2011</td>\n",
       "      <td>manual</td>\n",
       "      <td>190</td>\n",
       "      <td>NaN</td>\n",
       "      <td>125000</td>\n",
       "      <td>5</td>\n",
       "      <td>gasoline</td>\n",
       "      <td>audi</td>\n",
       "      <td>yes</td>\n",
       "      <td>2016-03-24</td>\n",
       "      <td>0</td>\n",
       "      <td>66954</td>\n",
       "      <td>2016-04-07 01:46:50</td>\n",
       "    </tr>\n",
       "    <tr>\n",
       "      <th>2</th>\n",
       "      <td>2016-03-14 12:52:21</td>\n",
       "      <td>9800</td>\n",
       "      <td>suv</td>\n",
       "      <td>2004</td>\n",
       "      <td>auto</td>\n",
       "      <td>163</td>\n",
       "      <td>grand</td>\n",
       "      <td>125000</td>\n",
       "      <td>8</td>\n",
       "      <td>gasoline</td>\n",
       "      <td>jeep</td>\n",
       "      <td>NaN</td>\n",
       "      <td>2016-03-14</td>\n",
       "      <td>0</td>\n",
       "      <td>90480</td>\n",
       "      <td>2016-04-05 12:47:46</td>\n",
       "    </tr>\n",
       "    <tr>\n",
       "      <th>3</th>\n",
       "      <td>2016-03-17 16:54:04</td>\n",
       "      <td>1500</td>\n",
       "      <td>small</td>\n",
       "      <td>2001</td>\n",
       "      <td>manual</td>\n",
       "      <td>75</td>\n",
       "      <td>golf</td>\n",
       "      <td>150000</td>\n",
       "      <td>6</td>\n",
       "      <td>petrol</td>\n",
       "      <td>volkswagen</td>\n",
       "      <td>no</td>\n",
       "      <td>2016-03-17</td>\n",
       "      <td>0</td>\n",
       "      <td>91074</td>\n",
       "      <td>2016-03-17 17:40:17</td>\n",
       "    </tr>\n",
       "    <tr>\n",
       "      <th>4</th>\n",
       "      <td>2016-03-31 17:25:20</td>\n",
       "      <td>3600</td>\n",
       "      <td>small</td>\n",
       "      <td>2008</td>\n",
       "      <td>manual</td>\n",
       "      <td>69</td>\n",
       "      <td>fabia</td>\n",
       "      <td>90000</td>\n",
       "      <td>7</td>\n",
       "      <td>gasoline</td>\n",
       "      <td>skoda</td>\n",
       "      <td>no</td>\n",
       "      <td>2016-03-31</td>\n",
       "      <td>0</td>\n",
       "      <td>60437</td>\n",
       "      <td>2016-04-06 10:17:21</td>\n",
       "    </tr>\n",
       "  </tbody>\n",
       "</table>\n",
       "</div>"
      ],
      "text/plain": [
       "          DateCrawled  Price VehicleType  RegistrationYear Gearbox  Power  \\\n",
       "0 2016-03-24 11:52:17    480         NaN              1993  manual      0   \n",
       "1 2016-03-24 10:58:45  18300       coupe              2011  manual    190   \n",
       "2 2016-03-14 12:52:21   9800         suv              2004    auto    163   \n",
       "3 2016-03-17 16:54:04   1500       small              2001  manual     75   \n",
       "4 2016-03-31 17:25:20   3600       small              2008  manual     69   \n",
       "\n",
       "   Model  Kilometer  RegistrationMonth  FuelType       Brand Repaired  \\\n",
       "0   golf     150000                  0    petrol  volkswagen      NaN   \n",
       "1    NaN     125000                  5  gasoline        audi      yes   \n",
       "2  grand     125000                  8  gasoline        jeep      NaN   \n",
       "3   golf     150000                  6    petrol  volkswagen       no   \n",
       "4  fabia      90000                  7  gasoline       skoda       no   \n",
       "\n",
       "  DateCreated  NumberOfPictures  PostalCode            LastSeen  \n",
       "0  2016-03-24                 0       70435 2016-04-07 03:16:57  \n",
       "1  2016-03-24                 0       66954 2016-04-07 01:46:50  \n",
       "2  2016-03-14                 0       90480 2016-04-05 12:47:46  \n",
       "3  2016-03-17                 0       91074 2016-03-17 17:40:17  \n",
       "4  2016-03-31                 0       60437 2016-04-06 10:17:21  "
      ]
     },
     "execution_count": 6,
     "metadata": {},
     "output_type": "execute_result"
    }
   ],
   "source": [
    "df.head(5)"
   ]
  },
  {
   "cell_type": "markdown",
   "metadata": {},
   "source": [
    "Приведем название столбцов к единому_регистру:"
   ]
  },
  {
   "cell_type": "code",
   "execution_count": 7,
   "metadata": {},
   "outputs": [
    {
     "data": {
      "text/html": [
       "<div>\n",
       "<style scoped>\n",
       "    .dataframe tbody tr th:only-of-type {\n",
       "        vertical-align: middle;\n",
       "    }\n",
       "\n",
       "    .dataframe tbody tr th {\n",
       "        vertical-align: top;\n",
       "    }\n",
       "\n",
       "    .dataframe thead th {\n",
       "        text-align: right;\n",
       "    }\n",
       "</style>\n",
       "<table border=\"1\" class=\"dataframe\">\n",
       "  <thead>\n",
       "    <tr style=\"text-align: right;\">\n",
       "      <th></th>\n",
       "      <th>date_crawled</th>\n",
       "      <th>price</th>\n",
       "      <th>vehicle_type</th>\n",
       "      <th>registration_year</th>\n",
       "      <th>gearbox</th>\n",
       "      <th>power</th>\n",
       "      <th>model</th>\n",
       "      <th>kilometer</th>\n",
       "      <th>registration_month</th>\n",
       "      <th>fuel_type</th>\n",
       "      <th>brand</th>\n",
       "      <th>repaired</th>\n",
       "      <th>date_created</th>\n",
       "      <th>number_of_pictures</th>\n",
       "      <th>postal_code</th>\n",
       "      <th>last_seen</th>\n",
       "    </tr>\n",
       "  </thead>\n",
       "  <tbody>\n",
       "    <tr>\n",
       "      <th>0</th>\n",
       "      <td>2016-03-24 11:52:17</td>\n",
       "      <td>480</td>\n",
       "      <td>NaN</td>\n",
       "      <td>1993</td>\n",
       "      <td>manual</td>\n",
       "      <td>0</td>\n",
       "      <td>golf</td>\n",
       "      <td>150000</td>\n",
       "      <td>0</td>\n",
       "      <td>petrol</td>\n",
       "      <td>volkswagen</td>\n",
       "      <td>NaN</td>\n",
       "      <td>2016-03-24</td>\n",
       "      <td>0</td>\n",
       "      <td>70435</td>\n",
       "      <td>2016-04-07 03:16:57</td>\n",
       "    </tr>\n",
       "    <tr>\n",
       "      <th>1</th>\n",
       "      <td>2016-03-24 10:58:45</td>\n",
       "      <td>18300</td>\n",
       "      <td>coupe</td>\n",
       "      <td>2011</td>\n",
       "      <td>manual</td>\n",
       "      <td>190</td>\n",
       "      <td>NaN</td>\n",
       "      <td>125000</td>\n",
       "      <td>5</td>\n",
       "      <td>gasoline</td>\n",
       "      <td>audi</td>\n",
       "      <td>yes</td>\n",
       "      <td>2016-03-24</td>\n",
       "      <td>0</td>\n",
       "      <td>66954</td>\n",
       "      <td>2016-04-07 01:46:50</td>\n",
       "    </tr>\n",
       "    <tr>\n",
       "      <th>2</th>\n",
       "      <td>2016-03-14 12:52:21</td>\n",
       "      <td>9800</td>\n",
       "      <td>suv</td>\n",
       "      <td>2004</td>\n",
       "      <td>auto</td>\n",
       "      <td>163</td>\n",
       "      <td>grand</td>\n",
       "      <td>125000</td>\n",
       "      <td>8</td>\n",
       "      <td>gasoline</td>\n",
       "      <td>jeep</td>\n",
       "      <td>NaN</td>\n",
       "      <td>2016-03-14</td>\n",
       "      <td>0</td>\n",
       "      <td>90480</td>\n",
       "      <td>2016-04-05 12:47:46</td>\n",
       "    </tr>\n",
       "    <tr>\n",
       "      <th>3</th>\n",
       "      <td>2016-03-17 16:54:04</td>\n",
       "      <td>1500</td>\n",
       "      <td>small</td>\n",
       "      <td>2001</td>\n",
       "      <td>manual</td>\n",
       "      <td>75</td>\n",
       "      <td>golf</td>\n",
       "      <td>150000</td>\n",
       "      <td>6</td>\n",
       "      <td>petrol</td>\n",
       "      <td>volkswagen</td>\n",
       "      <td>no</td>\n",
       "      <td>2016-03-17</td>\n",
       "      <td>0</td>\n",
       "      <td>91074</td>\n",
       "      <td>2016-03-17 17:40:17</td>\n",
       "    </tr>\n",
       "    <tr>\n",
       "      <th>4</th>\n",
       "      <td>2016-03-31 17:25:20</td>\n",
       "      <td>3600</td>\n",
       "      <td>small</td>\n",
       "      <td>2008</td>\n",
       "      <td>manual</td>\n",
       "      <td>69</td>\n",
       "      <td>fabia</td>\n",
       "      <td>90000</td>\n",
       "      <td>7</td>\n",
       "      <td>gasoline</td>\n",
       "      <td>skoda</td>\n",
       "      <td>no</td>\n",
       "      <td>2016-03-31</td>\n",
       "      <td>0</td>\n",
       "      <td>60437</td>\n",
       "      <td>2016-04-06 10:17:21</td>\n",
       "    </tr>\n",
       "  </tbody>\n",
       "</table>\n",
       "</div>"
      ],
      "text/plain": [
       "         date_crawled  price vehicle_type  registration_year gearbox  power  \\\n",
       "0 2016-03-24 11:52:17    480          NaN               1993  manual      0   \n",
       "1 2016-03-24 10:58:45  18300        coupe               2011  manual    190   \n",
       "2 2016-03-14 12:52:21   9800          suv               2004    auto    163   \n",
       "3 2016-03-17 16:54:04   1500        small               2001  manual     75   \n",
       "4 2016-03-31 17:25:20   3600        small               2008  manual     69   \n",
       "\n",
       "   model  kilometer  registration_month fuel_type       brand repaired  \\\n",
       "0   golf     150000                   0    petrol  volkswagen      NaN   \n",
       "1    NaN     125000                   5  gasoline        audi      yes   \n",
       "2  grand     125000                   8  gasoline        jeep      NaN   \n",
       "3   golf     150000                   6    petrol  volkswagen       no   \n",
       "4  fabia      90000                   7  gasoline       skoda       no   \n",
       "\n",
       "  date_created  number_of_pictures  postal_code           last_seen  \n",
       "0   2016-03-24                   0        70435 2016-04-07 03:16:57  \n",
       "1   2016-03-24                   0        66954 2016-04-07 01:46:50  \n",
       "2   2016-03-14                   0        90480 2016-04-05 12:47:46  \n",
       "3   2016-03-17                   0        91074 2016-03-17 17:40:17  \n",
       "4   2016-03-31                   0        60437 2016-04-06 10:17:21  "
      ]
     },
     "execution_count": 7,
     "metadata": {},
     "output_type": "execute_result"
    }
   ],
   "source": [
    "df.columns = df.columns.str.lower()\n",
    "\n",
    "df = df.rename(columns={'datecrawled':'date_crawled', \n",
    "                        'vehicletype':'vehicle_type', \n",
    "                        'registrationyear':'registration_year', \n",
    "                        'registrationmonth':'registration_month', \n",
    "                        'fueltype':'fuel_type', \n",
    "                        'notrepaired':'not_repaired', \n",
    "                        'datecreated':'date_created',\n",
    "                        'numberofpictures': 'number_of_pictures',\n",
    "                        'postalcode':'postal_code',\n",
    "                        'lastseen':'last_seen'})\n",
    "\n",
    "df.head(5)"
   ]
  },
  {
   "cell_type": "code",
   "execution_count": 8,
   "metadata": {},
   "outputs": [
    {
     "data": {
      "text/html": [
       "<div>\n",
       "<style scoped>\n",
       "    .dataframe tbody tr th:only-of-type {\n",
       "        vertical-align: middle;\n",
       "    }\n",
       "\n",
       "    .dataframe tbody tr th {\n",
       "        vertical-align: top;\n",
       "    }\n",
       "\n",
       "    .dataframe thead th {\n",
       "        text-align: right;\n",
       "    }\n",
       "</style>\n",
       "<table border=\"1\" class=\"dataframe\">\n",
       "  <thead>\n",
       "    <tr style=\"text-align: right;\">\n",
       "      <th></th>\n",
       "      <th>date_crawled</th>\n",
       "      <th>price</th>\n",
       "      <th>vehicle_type</th>\n",
       "      <th>registration_year</th>\n",
       "      <th>gearbox</th>\n",
       "      <th>power</th>\n",
       "      <th>model</th>\n",
       "      <th>kilometer</th>\n",
       "      <th>registration_month</th>\n",
       "      <th>fuel_type</th>\n",
       "      <th>brand</th>\n",
       "      <th>repaired</th>\n",
       "      <th>date_created</th>\n",
       "      <th>number_of_pictures</th>\n",
       "      <th>postal_code</th>\n",
       "      <th>last_seen</th>\n",
       "    </tr>\n",
       "  </thead>\n",
       "  <tbody>\n",
       "    <tr>\n",
       "      <th>0</th>\n",
       "      <td>2016-03-24 11:52:17</td>\n",
       "      <td>480</td>\n",
       "      <td>NaN</td>\n",
       "      <td>1993</td>\n",
       "      <td>manual</td>\n",
       "      <td>0</td>\n",
       "      <td>golf</td>\n",
       "      <td>150000</td>\n",
       "      <td>0</td>\n",
       "      <td>petrol</td>\n",
       "      <td>volkswagen</td>\n",
       "      <td>NaN</td>\n",
       "      <td>2016-03-24</td>\n",
       "      <td>0</td>\n",
       "      <td>70435</td>\n",
       "      <td>2016-04-07 03:16:57</td>\n",
       "    </tr>\n",
       "    <tr>\n",
       "      <th>1</th>\n",
       "      <td>2016-03-24 10:58:45</td>\n",
       "      <td>18300</td>\n",
       "      <td>coupe</td>\n",
       "      <td>2011</td>\n",
       "      <td>manual</td>\n",
       "      <td>190</td>\n",
       "      <td>NaN</td>\n",
       "      <td>125000</td>\n",
       "      <td>5</td>\n",
       "      <td>gasoline</td>\n",
       "      <td>audi</td>\n",
       "      <td>yes</td>\n",
       "      <td>2016-03-24</td>\n",
       "      <td>0</td>\n",
       "      <td>66954</td>\n",
       "      <td>2016-04-07 01:46:50</td>\n",
       "    </tr>\n",
       "    <tr>\n",
       "      <th>2</th>\n",
       "      <td>2016-03-14 12:52:21</td>\n",
       "      <td>9800</td>\n",
       "      <td>suv</td>\n",
       "      <td>2004</td>\n",
       "      <td>auto</td>\n",
       "      <td>163</td>\n",
       "      <td>grand</td>\n",
       "      <td>125000</td>\n",
       "      <td>8</td>\n",
       "      <td>gasoline</td>\n",
       "      <td>jeep</td>\n",
       "      <td>NaN</td>\n",
       "      <td>2016-03-14</td>\n",
       "      <td>0</td>\n",
       "      <td>90480</td>\n",
       "      <td>2016-04-05 12:47:46</td>\n",
       "    </tr>\n",
       "    <tr>\n",
       "      <th>3</th>\n",
       "      <td>2016-03-17 16:54:04</td>\n",
       "      <td>1500</td>\n",
       "      <td>small</td>\n",
       "      <td>2001</td>\n",
       "      <td>manual</td>\n",
       "      <td>75</td>\n",
       "      <td>golf</td>\n",
       "      <td>150000</td>\n",
       "      <td>6</td>\n",
       "      <td>petrol</td>\n",
       "      <td>volkswagen</td>\n",
       "      <td>no</td>\n",
       "      <td>2016-03-17</td>\n",
       "      <td>0</td>\n",
       "      <td>91074</td>\n",
       "      <td>2016-03-17 17:40:17</td>\n",
       "    </tr>\n",
       "    <tr>\n",
       "      <th>4</th>\n",
       "      <td>2016-03-31 17:25:20</td>\n",
       "      <td>3600</td>\n",
       "      <td>small</td>\n",
       "      <td>2008</td>\n",
       "      <td>manual</td>\n",
       "      <td>69</td>\n",
       "      <td>fabia</td>\n",
       "      <td>90000</td>\n",
       "      <td>7</td>\n",
       "      <td>gasoline</td>\n",
       "      <td>skoda</td>\n",
       "      <td>no</td>\n",
       "      <td>2016-03-31</td>\n",
       "      <td>0</td>\n",
       "      <td>60437</td>\n",
       "      <td>2016-04-06 10:17:21</td>\n",
       "    </tr>\n",
       "  </tbody>\n",
       "</table>\n",
       "</div>"
      ],
      "text/plain": [
       "         date_crawled  price vehicle_type  registration_year gearbox  power  \\\n",
       "0 2016-03-24 11:52:17    480          NaN               1993  manual      0   \n",
       "1 2016-03-24 10:58:45  18300        coupe               2011  manual    190   \n",
       "2 2016-03-14 12:52:21   9800          suv               2004    auto    163   \n",
       "3 2016-03-17 16:54:04   1500        small               2001  manual     75   \n",
       "4 2016-03-31 17:25:20   3600        small               2008  manual     69   \n",
       "\n",
       "   model  kilometer  registration_month fuel_type       brand repaired  \\\n",
       "0   golf     150000                   0    petrol  volkswagen      NaN   \n",
       "1    NaN     125000                   5  gasoline        audi      yes   \n",
       "2  grand     125000                   8  gasoline        jeep      NaN   \n",
       "3   golf     150000                   6    petrol  volkswagen       no   \n",
       "4  fabia      90000                   7  gasoline       skoda       no   \n",
       "\n",
       "  date_created  number_of_pictures  postal_code           last_seen  \n",
       "0   2016-03-24                   0        70435 2016-04-07 03:16:57  \n",
       "1   2016-03-24                   0        66954 2016-04-07 01:46:50  \n",
       "2   2016-03-14                   0        90480 2016-04-05 12:47:46  \n",
       "3   2016-03-17                   0        91074 2016-03-17 17:40:17  \n",
       "4   2016-03-31                   0        60437 2016-04-06 10:17:21  "
      ]
     },
     "execution_count": 8,
     "metadata": {},
     "output_type": "execute_result"
    }
   ],
   "source": [
    "df.head(5)"
   ]
  },
  {
   "cell_type": "markdown",
   "metadata": {},
   "source": [
    "Удалим аномалию, когда дата регистрации авто превышает дату создания объявления:"
   ]
  },
  {
   "cell_type": "code",
   "execution_count": 9,
   "metadata": {},
   "outputs": [],
   "source": [
    "df = df.query(\"registration_year < date_crawled.dt.year\")"
   ]
  },
  {
   "cell_type": "markdown",
   "metadata": {},
   "source": [
    "Удалим лишние признаки:"
   ]
  },
  {
   "cell_type": "code",
   "execution_count": 10,
   "metadata": {},
   "outputs": [],
   "source": [
    "df = df.drop(['number_of_pictures',\n",
    "                'postal_code',\n",
    "                'date_created',\n",
    "                'last_seen',\n",
    "                'registration_month',\n",
    "                'date_crawled'], axis=1)"
   ]
  },
  {
   "cell_type": "markdown",
   "metadata": {},
   "source": [
    "<div class=\"alert alert-success\">\n",
    "<h2> Комментарий ревьюера <a class=\"tocSkip\"> </h2>\n",
    "\n",
    "<b>Все отлично!👍:</b> \n",
    "    \n",
    "Отлично, что удаляешь неинформативные признаки."
   ]
  },
  {
   "cell_type": "markdown",
   "metadata": {},
   "source": [
    "Проверим на дубликаты:"
   ]
  },
  {
   "cell_type": "code",
   "execution_count": 11,
   "metadata": {},
   "outputs": [
    {
     "data": {
      "text/plain": [
       "43510"
      ]
     },
     "execution_count": 11,
     "metadata": {},
     "output_type": "execute_result"
    }
   ],
   "source": [
    "df.duplicated().sum()"
   ]
  },
  {
   "cell_type": "code",
   "execution_count": 12,
   "metadata": {},
   "outputs": [],
   "source": [
    "df = df.drop_duplicates().reset_index(drop=True)"
   ]
  },
  {
   "cell_type": "markdown",
   "metadata": {},
   "source": [
    "<div class=\"alert alert-success\">\n",
    "<h2> Комментарий ревьюера <a class=\"tocSkip\"> </h2>\n",
    "\n",
    "<b>Все отлично!👍</b> \n",
    "    "
   ]
  },
  {
   "cell_type": "markdown",
   "metadata": {},
   "source": [
    "Посмотрим выбросы в столбцах:"
   ]
  },
  {
   "cell_type": "code",
   "execution_count": 13,
   "metadata": {
    "scrolled": false
   },
   "outputs": [
    {
     "data": {
      "image/png": "[encoded data removed]",
      "text/plain": [
       "<Figure size 432x288 with 1 Axes>"
      ]
     },
     "metadata": {
      "needs_background": "light"
     },
     "output_type": "display_data"
    },
    {
     "data": {
      "image/png": "[encoded data removed]",
      "text/plain": [
       "<Figure size 432x288 with 1 Axes>"
      ]
     },
     "metadata": {
      "needs_background": "light"
     },
     "output_type": "display_data"
    },
    {
     "data": {
      "image/png": "[encoded data removed]",
      "text/plain": [
       "<Figure size 432x288 with 1 Axes>"
      ]
     },
     "metadata": {
      "needs_background": "light"
     },
     "output_type": "display_data"
    },
    {
     "data": {
      "image/png": "[encoded data removed]",
      "text/plain": [
       "<Figure size 432x288 with 1 Axes>"
      ]
     },
     "metadata": {
      "needs_background": "light"
     },
     "output_type": "display_data"
    }
   ],
   "source": [
    "plt.ylim(0, 21000)\n",
    "df.boxplot(column=['price'])\n",
    "plt.show()\n",
    "\n",
    "plt.ylim(950, 2100)\n",
    "df.boxplot(column=['registration_year'])\n",
    "plt.show()\n",
    "\n",
    "plt.ylim(0, 5000)\n",
    "df.boxplot(column=['power'])\n",
    "plt.show()\n",
    "\n",
    "plt.ylim(0, 200_000)\n",
    "df.boxplot(column=['kilometer'])\n",
    "plt.show()"
   ]
  },
  {
   "cell_type": "markdown",
   "metadata": {},
   "source": [
    "**Вывод:**\n",
    "\n",
    "* в столбце `registrationyear` были обнаружены объявления из будущего и автомобили загрестированные до 1768 года (дата создания первого автомобиля) - избавимся от них.\n",
    "* столбец `numberofpictures` содержит одно нулевое значение и неинформативен - удалим его.\n",
    "* есть объявления с л.с. `Power` равным 0. Наиболее вероятно, что речь идёт об электротранспорте. Спецтехника может иметь около 2000 л.с., удалим из выборки выбросы более 2000 л.с."
   ]
  },
  {
   "cell_type": "code",
   "execution_count": 14,
   "metadata": {},
   "outputs": [],
   "source": [
    "df = df.query(\"2001 > power\")\n",
    "df.reset_index(drop=True, inplace=True)"
   ]
  },
  {
   "cell_type": "code",
   "execution_count": 15,
   "metadata": {},
   "outputs": [],
   "source": [
    "df = df.query(\"2024 > registration_year > 1768\")\n",
    "df.reset_index(drop=True, inplace=True)"
   ]
  },
  {
   "cell_type": "markdown",
   "metadata": {},
   "source": [
    "<div class=\"alert alert-success\">\n",
    "<h2> Комментарий ревьюера <a class=\"tocSkip\"> </h2>\n",
    "\n",
    "<b>Все отлично!👍:</b> \n",
    "    \n",
    "Отлично, что обрабатываешь аномалии."
   ]
  },
  {
   "cell_type": "markdown",
   "metadata": {},
   "source": [
    "<div class=\"alert alert-block alert-danger\">\n",
    "<h2> Комментарий ревьюера <a class=\"tocSkip\"></h2>\n",
    "\n",
    "    \n",
    "<b>На доработку🤔:</b>\n",
    "    \n",
    "Здесь стоит обратить внимание на даты, которые есть в датасете, чтобы выбрать верхнюю границу года регистрации. Год регистрации автомобиля не может быть больше даты создания объявления, например."
   ]
  },
  {
   "cell_type": "code",
   "execution_count": 16,
   "metadata": {},
   "outputs": [],
   "source": [
    "df = df.query(\"2020 > registration_year > 1768\")\n",
    "df.reset_index(drop=True, inplace=True)"
   ]
  },
  {
   "cell_type": "markdown",
   "metadata": {},
   "source": [
    "<div class=\"alert alert-info\">\n",
    "<h1> Комментарий студента №2</h1>\n",
    "\n",
    "Исправил выше, до удаления лишних столбцов\n",
    "</div>"
   ]
  },
  {
   "cell_type": "markdown",
   "metadata": {},
   "source": [
    "<div class=\"alert alert-success\">\n",
    "<h2> Комментарий ревьюера №2<a class=\"tocSkip\"> </h2>\n",
    "\n",
    "<b>Все отлично!👍</b> "
   ]
  },
  {
   "cell_type": "code",
   "execution_count": 17,
   "metadata": {},
   "outputs": [
    {
     "name": "stdout",
     "output_type": "stream",
     "text": [
      "Минимальный год регистрации авто: 1800\n",
      "Максимальный год регистрации авто: 2015\n"
     ]
    }
   ],
   "source": [
    "print('Минимальный год регистрации авто:', df['registration_year'].min())\n",
    "print('Максимальный год регистрации авто:', df['registration_year'].max())"
   ]
  },
  {
   "cell_type": "code",
   "execution_count": 18,
   "metadata": {},
   "outputs": [
    {
     "data": {
      "text/plain": [
       "166982    1800\n",
       "284585    1800\n",
       "184571    1800\n",
       "31211     1800\n",
       "52994     1910\n",
       "          ... \n",
       "88579     2015\n",
       "223363    2015\n",
       "49059     2015\n",
       "158031    2015\n",
       "150591    2015\n",
       "Name: registration_year, Length: 286571, dtype: int64"
      ]
     },
     "execution_count": 18,
     "metadata": {},
     "output_type": "execute_result"
    }
   ],
   "source": [
    "df['registration_year'].sort_values()"
   ]
  },
  {
   "cell_type": "markdown",
   "metadata": {},
   "source": [
    "<div class=\"alert alert-block alert-danger\">\n",
    "<h2> Комментарий ревьюера <a class=\"tocSkip\"></h2>\n",
    "\n",
    "    \n",
    "<b>На доработку🤔:</b>\n",
    "    \n",
    "Кроме того много значений с нулевой ценой, стоит их также обработать, так как это может влиять на ответ модели."
   ]
  },
  {
   "cell_type": "markdown",
   "metadata": {},
   "source": [
    "Удалим аномалии с нулевой и крайне низкой ценой:"
   ]
  },
  {
   "cell_type": "code",
   "execution_count": 19,
   "metadata": {},
   "outputs": [],
   "source": [
    "df = df.query('price > 50')"
   ]
  },
  {
   "cell_type": "markdown",
   "metadata": {},
   "source": [
    "<div class=\"alert alert-info\">\n",
    "<h1> Комментарий студента №2</h1>\n",
    "\n",
    "Исправил\n",
    "</div>"
   ]
  },
  {
   "cell_type": "markdown",
   "metadata": {},
   "source": [
    "<div class=\"alert alert-success\">\n",
    "<h2> Комментарий ревьюера №2<a class=\"tocSkip\"> </h2>\n",
    "\n",
    "<b>Все отлично!👍</b> "
   ]
  },
  {
   "cell_type": "markdown",
   "metadata": {},
   "source": [
    "Посмотрим процент пропусков в столбцах:"
   ]
  },
  {
   "cell_type": "code",
   "execution_count": 20,
   "metadata": {},
   "outputs": [
    {
     "data": {
      "text/html": [
       "<style  type=\"text/css\" >\n",
       "#T_d9343_row0_col0{\n",
       "            background-color:  #b40426;\n",
       "            color:  #f1f1f1;\n",
       "        }#T_d9343_row1_col0{\n",
       "            background-color:  #bad0f8;\n",
       "            color:  #000000;\n",
       "        }#T_d9343_row2_col0{\n",
       "            background-color:  #93b5fe;\n",
       "            color:  #000000;\n",
       "        }#T_d9343_row3_col0{\n",
       "            background-color:  #89acfd;\n",
       "            color:  #000000;\n",
       "        }#T_d9343_row4_col0{\n",
       "            background-color:  #7a9df8;\n",
       "            color:  #000000;\n",
       "        }#T_d9343_row5_col0,#T_d9343_row6_col0,#T_d9343_row7_col0,#T_d9343_row8_col0,#T_d9343_row9_col0{\n",
       "            background-color:  #3b4cc0;\n",
       "            color:  #f1f1f1;\n",
       "        }</style><table id=\"T_d9343_\" ><thead>    <tr>        <th class=\"blank level0\" ></th>        <th class=\"col_heading level0 col0\" >0</th>    </tr></thead><tbody>\n",
       "                <tr>\n",
       "                        <th id=\"T_d9343_level0_row0\" class=\"row_heading level0 row0\" >repaired</th>\n",
       "                        <td id=\"T_d9343_row0_col0\" class=\"data row0 col0\" >17.980000</td>\n",
       "            </tr>\n",
       "            <tr>\n",
       "                        <th id=\"T_d9343_level0_row1\" class=\"row_heading level0 row1\" >fuel_type</th>\n",
       "                        <td id=\"T_d9343_row1_col0\" class=\"data row1 col0\" >6.880000</td>\n",
       "            </tr>\n",
       "            <tr>\n",
       "                        <th id=\"T_d9343_level0_row2\" class=\"row_heading level0 row2\" >model</th>\n",
       "                        <td id=\"T_d9343_row2_col0\" class=\"data row2 col0\" >4.820000</td>\n",
       "            </tr>\n",
       "            <tr>\n",
       "                        <th id=\"T_d9343_level0_row3\" class=\"row_heading level0 row3\" >gearbox</th>\n",
       "                        <td id=\"T_d9343_row3_col0\" class=\"data row3 col0\" >4.300000</td>\n",
       "            </tr>\n",
       "            <tr>\n",
       "                        <th id=\"T_d9343_level0_row4\" class=\"row_heading level0 row4\" >vehicle_type</th>\n",
       "                        <td id=\"T_d9343_row4_col0\" class=\"data row4 col0\" >3.520000</td>\n",
       "            </tr>\n",
       "            <tr>\n",
       "                        <th id=\"T_d9343_level0_row5\" class=\"row_heading level0 row5\" >brand</th>\n",
       "                        <td id=\"T_d9343_row5_col0\" class=\"data row5 col0\" >0.000000</td>\n",
       "            </tr>\n",
       "            <tr>\n",
       "                        <th id=\"T_d9343_level0_row6\" class=\"row_heading level0 row6\" >kilometer</th>\n",
       "                        <td id=\"T_d9343_row6_col0\" class=\"data row6 col0\" >0.000000</td>\n",
       "            </tr>\n",
       "            <tr>\n",
       "                        <th id=\"T_d9343_level0_row7\" class=\"row_heading level0 row7\" >power</th>\n",
       "                        <td id=\"T_d9343_row7_col0\" class=\"data row7 col0\" >0.000000</td>\n",
       "            </tr>\n",
       "            <tr>\n",
       "                        <th id=\"T_d9343_level0_row8\" class=\"row_heading level0 row8\" >registration_year</th>\n",
       "                        <td id=\"T_d9343_row8_col0\" class=\"data row8 col0\" >0.000000</td>\n",
       "            </tr>\n",
       "            <tr>\n",
       "                        <th id=\"T_d9343_level0_row9\" class=\"row_heading level0 row9\" >price</th>\n",
       "                        <td id=\"T_d9343_row9_col0\" class=\"data row9 col0\" >0.000000</td>\n",
       "            </tr>\n",
       "    </tbody></table>"
      ],
      "text/plain": [
       "<pandas.io.formats.style.Styler at 0x7f881a3dfe20>"
      ]
     },
     "execution_count": 20,
     "metadata": {},
     "output_type": "execute_result"
    }
   ],
   "source": [
    "pd.DataFrame(df.isna().mean().round(\n",
    "             4)*100).sort_values(by=0)[::-1].style.background_gradient('coolwarm')"
   ]
  },
  {
   "cell_type": "markdown",
   "metadata": {},
   "source": [
    "**Вывод:** \n",
    "* множество пропусков данных в столце `repaired`. В качестве решения можем заполнить часть пропусков, учитывая пробег и возраст автомобиля. Наиболее вероятно, что автомобиль с пробегом более 100_000 км или возрастом более 10 лет хотя раз был в ремонте. И наоборот автомобиль с пробегом до 10_000 км и возрастом до 1 года, наиболее вероятно не ремонтировался. В рамкой данной задачи упростим ситуацию и заменим пропуски на \"unknown\".\n",
    "\n",
    "* пропуски в модели `model` cоставляют 5.9%. Для их восплонения нужно обратиться к заказчику. Удалим их.\n",
    "\n",
    "* пропуски в типе коробке `gearbox` - 5.5%, типе автомобильного кузова `vehicle_type` cоставляют около 11.1%, в типе топлива `fuel_type` - 9.9%. Данные параметры c большой вероятностью одинаковы в одинаковых моделях автомобилей. Заполним пропуски в данных признаках наиболее частым значением той же модели."
   ]
  },
  {
   "cell_type": "markdown",
   "metadata": {},
   "source": [
    "<div class=\"alert alert-info\">\n",
    "<h1> Комментарий студента</h1>\n",
    "\n",
    "Привет! спасибо за проверку.\n",
    "    \n",
    "    1. Насколько эффективно в 1-ом пункте вывода обучить машину, чтобы она сама заполнила пропуски на основне всех признаков?\n",
    "</div>"
   ]
  },
  {
   "cell_type": "markdown",
   "metadata": {},
   "source": [
    "<div class=\"alert alert-warning\">\n",
    "    <h2> Комментарий ревьюера <a class=\"tocSkip\"> </h2>\n",
    "    \n",
    "<b>Некоторые замечания и рекомендации💡:</b> \n",
    "        \n",
    "Привет! Да, такой вариант есть. Можно сделать таким образом. Можно заполнить пропуски заглушкой типа unknown, это тоже приемлемо."
   ]
  },
  {
   "cell_type": "code",
   "execution_count": 21,
   "metadata": {},
   "outputs": [],
   "source": [
    "df['repaired'].fillna('unknown', inplace=True)"
   ]
  },
  {
   "cell_type": "markdown",
   "metadata": {},
   "source": [
    "<div class=\"alert alert-info\">\n",
    "<h1> Комментарий студента №2</h1>\n",
    "\n",
    "Исправил\n",
    "</div>"
   ]
  },
  {
   "cell_type": "code",
   "execution_count": 22,
   "metadata": {},
   "outputs": [
    {
     "data": {
      "text/html": [
       "<div>\n",
       "<style scoped>\n",
       "    .dataframe tbody tr th:only-of-type {\n",
       "        vertical-align: middle;\n",
       "    }\n",
       "\n",
       "    .dataframe tbody tr th {\n",
       "        vertical-align: top;\n",
       "    }\n",
       "\n",
       "    .dataframe thead th {\n",
       "        text-align: right;\n",
       "    }\n",
       "</style>\n",
       "<table border=\"1\" class=\"dataframe\">\n",
       "  <thead>\n",
       "    <tr style=\"text-align: right;\">\n",
       "      <th></th>\n",
       "      <th>price</th>\n",
       "      <th>vehicle_type</th>\n",
       "      <th>registration_year</th>\n",
       "      <th>gearbox</th>\n",
       "      <th>power</th>\n",
       "      <th>model</th>\n",
       "      <th>kilometer</th>\n",
       "      <th>fuel_type</th>\n",
       "      <th>brand</th>\n",
       "      <th>repaired</th>\n",
       "    </tr>\n",
       "  </thead>\n",
       "  <tbody>\n",
       "    <tr>\n",
       "      <th>0</th>\n",
       "      <td>480</td>\n",
       "      <td>NaN</td>\n",
       "      <td>1993</td>\n",
       "      <td>manual</td>\n",
       "      <td>0</td>\n",
       "      <td>golf</td>\n",
       "      <td>150000</td>\n",
       "      <td>petrol</td>\n",
       "      <td>volkswagen</td>\n",
       "      <td>unknown</td>\n",
       "    </tr>\n",
       "    <tr>\n",
       "      <th>1</th>\n",
       "      <td>9800</td>\n",
       "      <td>suv</td>\n",
       "      <td>2004</td>\n",
       "      <td>auto</td>\n",
       "      <td>163</td>\n",
       "      <td>grand</td>\n",
       "      <td>125000</td>\n",
       "      <td>gasoline</td>\n",
       "      <td>jeep</td>\n",
       "      <td>unknown</td>\n",
       "    </tr>\n",
       "    <tr>\n",
       "      <th>2</th>\n",
       "      <td>1500</td>\n",
       "      <td>small</td>\n",
       "      <td>2001</td>\n",
       "      <td>manual</td>\n",
       "      <td>75</td>\n",
       "      <td>golf</td>\n",
       "      <td>150000</td>\n",
       "      <td>petrol</td>\n",
       "      <td>volkswagen</td>\n",
       "      <td>no</td>\n",
       "    </tr>\n",
       "    <tr>\n",
       "      <th>3</th>\n",
       "      <td>3600</td>\n",
       "      <td>small</td>\n",
       "      <td>2008</td>\n",
       "      <td>manual</td>\n",
       "      <td>69</td>\n",
       "      <td>fabia</td>\n",
       "      <td>90000</td>\n",
       "      <td>gasoline</td>\n",
       "      <td>skoda</td>\n",
       "      <td>no</td>\n",
       "    </tr>\n",
       "    <tr>\n",
       "      <th>4</th>\n",
       "      <td>650</td>\n",
       "      <td>sedan</td>\n",
       "      <td>1995</td>\n",
       "      <td>manual</td>\n",
       "      <td>102</td>\n",
       "      <td>3er</td>\n",
       "      <td>150000</td>\n",
       "      <td>petrol</td>\n",
       "      <td>bmw</td>\n",
       "      <td>yes</td>\n",
       "    </tr>\n",
       "    <tr>\n",
       "      <th>...</th>\n",
       "      <td>...</td>\n",
       "      <td>...</td>\n",
       "      <td>...</td>\n",
       "      <td>...</td>\n",
       "      <td>...</td>\n",
       "      <td>...</td>\n",
       "      <td>...</td>\n",
       "      <td>...</td>\n",
       "      <td>...</td>\n",
       "      <td>...</td>\n",
       "    </tr>\n",
       "    <tr>\n",
       "      <th>263872</th>\n",
       "      <td>3999</td>\n",
       "      <td>wagon</td>\n",
       "      <td>2005</td>\n",
       "      <td>manual</td>\n",
       "      <td>3</td>\n",
       "      <td>3er</td>\n",
       "      <td>150000</td>\n",
       "      <td>gasoline</td>\n",
       "      <td>bmw</td>\n",
       "      <td>no</td>\n",
       "    </tr>\n",
       "    <tr>\n",
       "      <th>263873</th>\n",
       "      <td>3200</td>\n",
       "      <td>sedan</td>\n",
       "      <td>2004</td>\n",
       "      <td>manual</td>\n",
       "      <td>225</td>\n",
       "      <td>leon</td>\n",
       "      <td>150000</td>\n",
       "      <td>petrol</td>\n",
       "      <td>seat</td>\n",
       "      <td>yes</td>\n",
       "    </tr>\n",
       "    <tr>\n",
       "      <th>263874</th>\n",
       "      <td>1199</td>\n",
       "      <td>convertible</td>\n",
       "      <td>2000</td>\n",
       "      <td>auto</td>\n",
       "      <td>101</td>\n",
       "      <td>fortwo</td>\n",
       "      <td>125000</td>\n",
       "      <td>petrol</td>\n",
       "      <td>smart</td>\n",
       "      <td>no</td>\n",
       "    </tr>\n",
       "    <tr>\n",
       "      <th>263875</th>\n",
       "      <td>9200</td>\n",
       "      <td>bus</td>\n",
       "      <td>1996</td>\n",
       "      <td>manual</td>\n",
       "      <td>102</td>\n",
       "      <td>transporter</td>\n",
       "      <td>150000</td>\n",
       "      <td>gasoline</td>\n",
       "      <td>volkswagen</td>\n",
       "      <td>no</td>\n",
       "    </tr>\n",
       "    <tr>\n",
       "      <th>263876</th>\n",
       "      <td>3400</td>\n",
       "      <td>wagon</td>\n",
       "      <td>2002</td>\n",
       "      <td>manual</td>\n",
       "      <td>100</td>\n",
       "      <td>golf</td>\n",
       "      <td>150000</td>\n",
       "      <td>gasoline</td>\n",
       "      <td>volkswagen</td>\n",
       "      <td>unknown</td>\n",
       "    </tr>\n",
       "  </tbody>\n",
       "</table>\n",
       "<p>263877 rows × 10 columns</p>\n",
       "</div>"
      ],
      "text/plain": [
       "        price vehicle_type  registration_year gearbox  power        model  \\\n",
       "0         480          NaN               1993  manual      0         golf   \n",
       "1        9800          suv               2004    auto    163        grand   \n",
       "2        1500        small               2001  manual     75         golf   \n",
       "3        3600        small               2008  manual     69        fabia   \n",
       "4         650        sedan               1995  manual    102          3er   \n",
       "...       ...          ...                ...     ...    ...          ...   \n",
       "263872   3999        wagon               2005  manual      3          3er   \n",
       "263873   3200        sedan               2004  manual    225         leon   \n",
       "263874   1199  convertible               2000    auto    101       fortwo   \n",
       "263875   9200          bus               1996  manual    102  transporter   \n",
       "263876   3400        wagon               2002  manual    100         golf   \n",
       "\n",
       "        kilometer fuel_type       brand repaired  \n",
       "0          150000    petrol  volkswagen  unknown  \n",
       "1          125000  gasoline        jeep  unknown  \n",
       "2          150000    petrol  volkswagen       no  \n",
       "3           90000  gasoline       skoda       no  \n",
       "4          150000    petrol         bmw      yes  \n",
       "...           ...       ...         ...      ...  \n",
       "263872     150000  gasoline         bmw       no  \n",
       "263873     150000    petrol        seat      yes  \n",
       "263874     125000    petrol       smart       no  \n",
       "263875     150000  gasoline  volkswagen       no  \n",
       "263876     150000  gasoline  volkswagen  unknown  \n",
       "\n",
       "[263877 rows x 10 columns]"
      ]
     },
     "execution_count": 22,
     "metadata": {},
     "output_type": "execute_result"
    }
   ],
   "source": [
    "df.dropna(subset=['model'], inplace=True)\n",
    "df.reset_index(drop=True)"
   ]
  },
  {
   "cell_type": "markdown",
   "metadata": {},
   "source": [
    "Заполним пропуски в признаках `gearbox`, `vehicle_type`, `fuel_type` наиболее частым значением той же модели:"
   ]
  },
  {
   "cell_type": "code",
   "execution_count": 23,
   "metadata": {},
   "outputs": [],
   "source": [
    "for sing in ['vehicle_type', 'gearbox', 'fuel_type']:\n",
    "    df[sing] = df[sing].fillna(df\n",
    "                                .groupby('model')['vehicle_type']\n",
    "                                .transform(lambda x: x.value_counts().idxmax())\n",
    "                                        )"
   ]
  },
  {
   "cell_type": "code",
   "execution_count": 24,
   "metadata": {},
   "outputs": [
    {
     "name": "stdout",
     "output_type": "stream",
     "text": [
      "<class 'pandas.core.frame.DataFrame'>\n",
      "Int64Index: 263877 entries, 0 to 286570\n",
      "Data columns (total 10 columns):\n",
      " #   Column             Non-Null Count   Dtype \n",
      "---  ------             --------------   ----- \n",
      " 0   price              263877 non-null  int64 \n",
      " 1   vehicle_type       263877 non-null  object\n",
      " 2   registration_year  263877 non-null  int64 \n",
      " 3   gearbox            263877 non-null  object\n",
      " 4   power              263877 non-null  int64 \n",
      " 5   model              263877 non-null  object\n",
      " 6   kilometer          263877 non-null  int64 \n",
      " 7   fuel_type          263877 non-null  object\n",
      " 8   brand              263877 non-null  object\n",
      " 9   repaired           263877 non-null  object\n",
      "dtypes: int64(4), object(6)\n",
      "memory usage: 22.1+ MB\n"
     ]
    }
   ],
   "source": [
    "df.info()"
   ]
  },
  {
   "cell_type": "markdown",
   "metadata": {},
   "source": [
    "<div class=\"alert alert-block alert-danger\">\n",
    "<h2> Комментарий ревьюера <a class=\"tocSkip\"></h2>\n",
    "\n",
    "    \n",
    "<b>На доработку🤔:</b>\n",
    "    \n",
    "Посмотри, пожалуйста, если ты посчитаешь, то у тебя остается только 66% от первоначального датафрейма, то есть ты удаляешь более 30% данных. Это очень много. Стоит придумать какой-то способ заполнения пропусков, а не их удаления."
   ]
  },
  {
   "cell_type": "markdown",
   "metadata": {},
   "source": [
    "<div class=\"alert alert-info\">\n",
    "<h1> Комментарий студента №2</h1>\n",
    "\n",
    "Исправил\n",
    "</div>"
   ]
  },
  {
   "cell_type": "markdown",
   "metadata": {},
   "source": [
    "<div class=\"alert alert-success\">\n",
    "<h2> Комментарий ревьюера №2<a class=\"tocSkip\"> </h2>\n",
    "\n",
    "<b>Все отлично!👍</b> "
   ]
  },
  {
   "cell_type": "code",
   "execution_count": 25,
   "metadata": {},
   "outputs": [
    {
     "data": {
      "text/html": [
       "<div>\n",
       "<style scoped>\n",
       "    .dataframe tbody tr th:only-of-type {\n",
       "        vertical-align: middle;\n",
       "    }\n",
       "\n",
       "    .dataframe tbody tr th {\n",
       "        vertical-align: top;\n",
       "    }\n",
       "\n",
       "    .dataframe thead th {\n",
       "        text-align: right;\n",
       "    }\n",
       "</style>\n",
       "<table border=\"1\" class=\"dataframe\">\n",
       "  <thead>\n",
       "    <tr style=\"text-align: right;\">\n",
       "      <th></th>\n",
       "      <th>price</th>\n",
       "      <th>vehicle_type</th>\n",
       "      <th>registration_year</th>\n",
       "      <th>gearbox</th>\n",
       "      <th>power</th>\n",
       "      <th>model</th>\n",
       "      <th>kilometer</th>\n",
       "      <th>fuel_type</th>\n",
       "      <th>brand</th>\n",
       "      <th>repaired</th>\n",
       "    </tr>\n",
       "  </thead>\n",
       "  <tbody>\n",
       "    <tr>\n",
       "      <th>0</th>\n",
       "      <td>480</td>\n",
       "      <td>sedan</td>\n",
       "      <td>1993</td>\n",
       "      <td>manual</td>\n",
       "      <td>0</td>\n",
       "      <td>golf</td>\n",
       "      <td>150000</td>\n",
       "      <td>petrol</td>\n",
       "      <td>volkswagen</td>\n",
       "      <td>unknown</td>\n",
       "    </tr>\n",
       "    <tr>\n",
       "      <th>2</th>\n",
       "      <td>9800</td>\n",
       "      <td>suv</td>\n",
       "      <td>2004</td>\n",
       "      <td>auto</td>\n",
       "      <td>163</td>\n",
       "      <td>grand</td>\n",
       "      <td>125000</td>\n",
       "      <td>gasoline</td>\n",
       "      <td>jeep</td>\n",
       "      <td>unknown</td>\n",
       "    </tr>\n",
       "    <tr>\n",
       "      <th>3</th>\n",
       "      <td>1500</td>\n",
       "      <td>small</td>\n",
       "      <td>2001</td>\n",
       "      <td>manual</td>\n",
       "      <td>75</td>\n",
       "      <td>golf</td>\n",
       "      <td>150000</td>\n",
       "      <td>petrol</td>\n",
       "      <td>volkswagen</td>\n",
       "      <td>no</td>\n",
       "    </tr>\n",
       "    <tr>\n",
       "      <th>4</th>\n",
       "      <td>3600</td>\n",
       "      <td>small</td>\n",
       "      <td>2008</td>\n",
       "      <td>manual</td>\n",
       "      <td>69</td>\n",
       "      <td>fabia</td>\n",
       "      <td>90000</td>\n",
       "      <td>gasoline</td>\n",
       "      <td>skoda</td>\n",
       "      <td>no</td>\n",
       "    </tr>\n",
       "    <tr>\n",
       "      <th>5</th>\n",
       "      <td>650</td>\n",
       "      <td>sedan</td>\n",
       "      <td>1995</td>\n",
       "      <td>manual</td>\n",
       "      <td>102</td>\n",
       "      <td>3er</td>\n",
       "      <td>150000</td>\n",
       "      <td>petrol</td>\n",
       "      <td>bmw</td>\n",
       "      <td>yes</td>\n",
       "    </tr>\n",
       "  </tbody>\n",
       "</table>\n",
       "</div>"
      ],
      "text/plain": [
       "   price vehicle_type  registration_year gearbox  power  model  kilometer  \\\n",
       "0    480        sedan               1993  manual      0   golf     150000   \n",
       "2   9800          suv               2004    auto    163  grand     125000   \n",
       "3   1500        small               2001  manual     75   golf     150000   \n",
       "4   3600        small               2008  manual     69  fabia      90000   \n",
       "5    650        sedan               1995  manual    102    3er     150000   \n",
       "\n",
       "  fuel_type       brand repaired  \n",
       "0    petrol  volkswagen  unknown  \n",
       "2  gasoline        jeep  unknown  \n",
       "3    petrol  volkswagen       no  \n",
       "4  gasoline       skoda       no  \n",
       "5    petrol         bmw      yes  "
      ]
     },
     "execution_count": 25,
     "metadata": {},
     "output_type": "execute_result"
    }
   ],
   "source": [
    "df.head(5)"
   ]
  },
  {
   "cell_type": "code",
   "execution_count": 26,
   "metadata": {},
   "outputs": [],
   "source": [
    "#Пример для комментария ниже\n",
    "\n",
    "#for i in range(len(df)):\n",
    "#    if pd.isnull(df.loc[i]['repaired']) == True:\n",
    "#        if df.loc[i][7] >= 75_000:\n",
    "#            df.loc[i, 'repaired'] = 1\n",
    "#        else:\n",
    "#            df.loc[i, 'repaired'] = 0"
   ]
  },
  {
   "cell_type": "markdown",
   "metadata": {},
   "source": [
    "<div class=\"alert alert-info\">\n",
    "<h1> Комментарий студента</h1>\n",
    "\n",
    "Написал решение по замене пропусков по ремонту в зависимости от пробега, но вносить в проект не стал, поскольку компеляция занимает очень много времени. \n",
    "    \n",
    "    1. Есть ли другой способ, который быстрее намного это сделает?\n",
    "    2. Можно ли в юпитере как-то зафиксировать компеляции, условно выполнив сложное вычисление выше, сделать так чтобы оно не сбрасывалось, если нижне что-то не так пойдет можно было вернутся к этой точке без компеляции всего проекта с самого начала. Я ещё привык просто обычно через \"Kernel - Restart & run all\" делать все. А то бывает заходишь, хочешь продожлить и он как будто сначала все начинает компелировать - условно ругается что некоторые значения не найдены.\n",
    "</div>"
   ]
  },
  {
   "cell_type": "markdown",
   "metadata": {},
   "source": [
    "<div class=\"alert alert-warning\">\n",
    "    <h2> Комментарий ревьюера <a class=\"tocSkip\"> </h2>\n",
    "    \n",
    "<b>Некоторые замечания и рекомендации💡:</b> \n",
    "        \n",
    "1. Да, есть. Ты можешь использовать lambda-функции или написать обычную функцию с помощью def и применить ее к датафрейму.\n",
    "        \n",
    "Вообще не рекомендуется использовать циклы для прохождения по датафрейму, во-первых, потому что это долго, во-вторых, потому что так не используются возможности, заложенные в pandas.\n",
    "        \n",
    "2. Ты можешь просто записать полученный датафрейм через to_csv, а затем в определеннм месте проекта загружать именно его.\n",
    "        \n",
    "Да, все верно интерпретатор идет по коду последовательно, как и ревьюер)"
   ]
  },
  {
   "cell_type": "markdown",
   "metadata": {},
   "source": [
    "<div class=\"alert alert-info\">\n",
    "<h1> Комментарий студента №2</h1>\n",
    "\n",
    "Обычная функция def ведь тоже будет использовать циклы? Я вижу решения только через циклы по каждой строчке) 🤷🏻\n",
    "</div>"
   ]
  },
  {
   "cell_type": "markdown",
   "metadata": {},
   "source": [
    "<div class=\"alert alert-warning\">\n",
    "    <h2> Комментарий ревьюера №2<a class=\"tocSkip\"> </h2>\n",
    "    \n",
    "<b>Некоторые замечания и рекомендации💡:</b> \n",
    "     \n",
    "Нет не будет. Если применять ее через apply."
   ]
  },
  {
   "cell_type": "markdown",
   "metadata": {},
   "source": [
    "Пропусков нет:"
   ]
  },
  {
   "cell_type": "code",
   "execution_count": 27,
   "metadata": {
    "scrolled": false
   },
   "outputs": [
    {
     "data": {
      "text/html": [
       "<style  type=\"text/css\" >\n",
       "#T_c0c1c_row0_col0,#T_c0c1c_row1_col0,#T_c0c1c_row2_col0,#T_c0c1c_row3_col0,#T_c0c1c_row4_col0,#T_c0c1c_row5_col0,#T_c0c1c_row6_col0,#T_c0c1c_row7_col0,#T_c0c1c_row8_col0,#T_c0c1c_row9_col0{\n",
       "            background-color:  #3b4cc0;\n",
       "            color:  #f1f1f1;\n",
       "        }</style><table id=\"T_c0c1c_\" ><thead>    <tr>        <th class=\"blank level0\" ></th>        <th class=\"col_heading level0 col0\" >0</th>    </tr></thead><tbody>\n",
       "                <tr>\n",
       "                        <th id=\"T_c0c1c_level0_row0\" class=\"row_heading level0 row0\" >repaired</th>\n",
       "                        <td id=\"T_c0c1c_row0_col0\" class=\"data row0 col0\" >0.000000</td>\n",
       "            </tr>\n",
       "            <tr>\n",
       "                        <th id=\"T_c0c1c_level0_row1\" class=\"row_heading level0 row1\" >brand</th>\n",
       "                        <td id=\"T_c0c1c_row1_col0\" class=\"data row1 col0\" >0.000000</td>\n",
       "            </tr>\n",
       "            <tr>\n",
       "                        <th id=\"T_c0c1c_level0_row2\" class=\"row_heading level0 row2\" >fuel_type</th>\n",
       "                        <td id=\"T_c0c1c_row2_col0\" class=\"data row2 col0\" >0.000000</td>\n",
       "            </tr>\n",
       "            <tr>\n",
       "                        <th id=\"T_c0c1c_level0_row3\" class=\"row_heading level0 row3\" >kilometer</th>\n",
       "                        <td id=\"T_c0c1c_row3_col0\" class=\"data row3 col0\" >0.000000</td>\n",
       "            </tr>\n",
       "            <tr>\n",
       "                        <th id=\"T_c0c1c_level0_row4\" class=\"row_heading level0 row4\" >model</th>\n",
       "                        <td id=\"T_c0c1c_row4_col0\" class=\"data row4 col0\" >0.000000</td>\n",
       "            </tr>\n",
       "            <tr>\n",
       "                        <th id=\"T_c0c1c_level0_row5\" class=\"row_heading level0 row5\" >power</th>\n",
       "                        <td id=\"T_c0c1c_row5_col0\" class=\"data row5 col0\" >0.000000</td>\n",
       "            </tr>\n",
       "            <tr>\n",
       "                        <th id=\"T_c0c1c_level0_row6\" class=\"row_heading level0 row6\" >gearbox</th>\n",
       "                        <td id=\"T_c0c1c_row6_col0\" class=\"data row6 col0\" >0.000000</td>\n",
       "            </tr>\n",
       "            <tr>\n",
       "                        <th id=\"T_c0c1c_level0_row7\" class=\"row_heading level0 row7\" >registration_year</th>\n",
       "                        <td id=\"T_c0c1c_row7_col0\" class=\"data row7 col0\" >0.000000</td>\n",
       "            </tr>\n",
       "            <tr>\n",
       "                        <th id=\"T_c0c1c_level0_row8\" class=\"row_heading level0 row8\" >vehicle_type</th>\n",
       "                        <td id=\"T_c0c1c_row8_col0\" class=\"data row8 col0\" >0.000000</td>\n",
       "            </tr>\n",
       "            <tr>\n",
       "                        <th id=\"T_c0c1c_level0_row9\" class=\"row_heading level0 row9\" >price</th>\n",
       "                        <td id=\"T_c0c1c_row9_col0\" class=\"data row9 col0\" >0.000000</td>\n",
       "            </tr>\n",
       "    </tbody></table>"
      ],
      "text/plain": [
       "<pandas.io.formats.style.Styler at 0x7f881a306790>"
      ]
     },
     "execution_count": 27,
     "metadata": {},
     "output_type": "execute_result"
    }
   ],
   "source": [
    "pd.DataFrame(df.isna().mean().round(\n",
    "             4)*100).sort_values(by=0)[::-1].style.background_gradient('coolwarm')"
   ]
  },
  {
   "cell_type": "code",
   "execution_count": 28,
   "metadata": {},
   "outputs": [],
   "source": [
    "df['power'] = df['power'].astype('int64')"
   ]
  },
  {
   "cell_type": "markdown",
   "metadata": {},
   "source": [
    "Проверим данные с помощью корреляции Пирсона на наличие сильно-скоррелированных признаков:"
   ]
  },
  {
   "cell_type": "code",
   "execution_count": 29,
   "metadata": {
    "scrolled": false
   },
   "outputs": [
    {
     "data": {
      "image/png": "[encoded data removed]",
      "text/plain": [
       "<Figure size 1368x504 with 2 Axes>"
      ]
     },
     "metadata": {
      "needs_background": "light"
     },
     "output_type": "display_data"
    }
   ],
   "source": [
    "plt.figure(figsize=(19, 7))\n",
    "df_0_plot = sns.heatmap(df[['price', 'power', 'kilometer']].corr(),\n",
    "                          cmap=\"YlGnBu\",\n",
    "                          annot=True)\n",
    "\n",
    "plt.show()"
   ]
  },
  {
   "cell_type": "markdown",
   "metadata": {},
   "source": [
    "**Вывод:**\n",
    "\n",
    "Из корелляции Пирсона можно сделать вывод об отсутсвии сильно-скоррелированных признаков, а так же отметить значительную зависимость между пробегом и ремонтом автомобиля, как и предполагалось ранее. Так же видна логичная весомая зависимость между годом регистрации и стоимостью автомобиля."
   ]
  },
  {
   "cell_type": "markdown",
   "metadata": {},
   "source": [
    "<div class=\"alert alert-warning\">\n",
    "    <h2> Комментарий ревьюера <a class=\"tocSkip\"> </h2>\n",
    "    \n",
    "<b>Некоторые замечания и рекомендации💡:</b> \n",
    "        \n",
    "\n",
    "1. Корреляция  - это мера взаимосвязи двух численных переменных (или ранговых). Поэтому некорректно включать в матрицу корреляций категориальные переменные.\n",
    "    \n",
    "2. Коэффициент корреляции Пирсона (который по дефолту рассчитывается в методе corr), имеет определенные требования к данным:\n",
    "    \n",
    "- характер взаимосвязи двух переменных должен быть линейным и монотонным (коэффициент корреляции Пирсона не может уловить нелинейные зависимости). Поэтому, чтобы проконтроллировать корректность применения коэффициента корреляции Пирсона стоит сначала построить диаграммы рассеяния для переменных. \n",
    "    \n",
    "- распределения обоих переменных, для которых рассчитывается коэффициент должны быть распределены нормально. То есть стоит построить графики распределений для переменных прежде чем изучать корреляцию. Также выбросы, ассиметрия, бимодальность негативно сказываются на адекватности использования среднего значения в качестве некоторого показателя, характеризующего нашу выборку (а коэффициент коррелиции Пирсона основан на среднем значении). Формулу можно посмотреть здесь:\n",
    "    \n",
    "https://studfile.net/preview/2966946/page:34/\n",
    "    \n",
    "Чтобы уменьшить негативное влияние выбросов можно перейти от коэффициента корреляции Пирсона к непараметрическому критерию корреляции - коэффициенту корреляции Спирмена, который уходит от реальных значенийи переходит к рангам.\n",
    "    "
   ]
  },
  {
   "cell_type": "markdown",
   "metadata": {},
   "source": [
    "Построим матрицу корреляций Спирмена для числовых признаков без учёта объектов-выбросов:"
   ]
  },
  {
   "cell_type": "code",
   "execution_count": 30,
   "metadata": {},
   "outputs": [
    {
     "data": {
      "text/plain": [
       "<seaborn.axisgrid.PairGrid at 0x7f881a306070>"
      ]
     },
     "execution_count": 30,
     "metadata": {},
     "output_type": "execute_result"
    },
    {
     "data": {
      "image/png": "[encoded data removed]",
      "text/plain": [
       "<Figure size 540x540 with 12 Axes>"
      ]
     },
     "metadata": {
      "needs_background": "light"
     },
     "output_type": "display_data"
    }
   ],
   "source": [
    "numeric = ['price', 'power', 'kilometer']\n",
    "\n",
    "sns.pairplot(df[numeric])"
   ]
  },
  {
   "cell_type": "code",
   "execution_count": 31,
   "metadata": {},
   "outputs": [
    {
     "data": {
      "text/html": [
       "<div>\n",
       "<style scoped>\n",
       "    .dataframe tbody tr th:only-of-type {\n",
       "        vertical-align: middle;\n",
       "    }\n",
       "\n",
       "    .dataframe tbody tr th {\n",
       "        vertical-align: top;\n",
       "    }\n",
       "\n",
       "    .dataframe thead th {\n",
       "        text-align: right;\n",
       "    }\n",
       "</style>\n",
       "<table border=\"1\" class=\"dataframe\">\n",
       "  <thead>\n",
       "    <tr style=\"text-align: right;\">\n",
       "      <th></th>\n",
       "      <th>price</th>\n",
       "      <th>power</th>\n",
       "      <th>kilometer</th>\n",
       "    </tr>\n",
       "  </thead>\n",
       "  <tbody>\n",
       "    <tr>\n",
       "      <th>price</th>\n",
       "      <td>1.000000</td>\n",
       "      <td>0.510347</td>\n",
       "      <td>-0.346629</td>\n",
       "    </tr>\n",
       "    <tr>\n",
       "      <th>power</th>\n",
       "      <td>0.510347</td>\n",
       "      <td>1.000000</td>\n",
       "      <td>0.106898</td>\n",
       "    </tr>\n",
       "    <tr>\n",
       "      <th>kilometer</th>\n",
       "      <td>-0.346629</td>\n",
       "      <td>0.106898</td>\n",
       "      <td>1.000000</td>\n",
       "    </tr>\n",
       "  </tbody>\n",
       "</table>\n",
       "</div>"
      ],
      "text/plain": [
       "              price     power  kilometer\n",
       "price      1.000000  0.510347  -0.346629\n",
       "power      0.510347  1.000000   0.106898\n",
       "kilometer -0.346629  0.106898   1.000000"
      ]
     },
     "execution_count": 31,
     "metadata": {},
     "output_type": "execute_result"
    }
   ],
   "source": [
    "df[numeric].corr(method='spearman')"
   ]
  },
  {
   "cell_type": "markdown",
   "metadata": {},
   "source": [
    "Функция heatmap библиотеки Seaborn предоставляет удобный способ визуализации таких матриц:"
   ]
  },
  {
   "cell_type": "code",
   "execution_count": 32,
   "metadata": {},
   "outputs": [
    {
     "data": {
      "text/plain": [
       "<AxesSubplot:>"
      ]
     },
     "execution_count": 32,
     "metadata": {},
     "output_type": "execute_result"
    },
    {
     "data": {
      "image/png": "[encoded data removed]",
      "text/plain": [
       "<Figure size 432x288 with 2 Axes>"
      ]
     },
     "metadata": {
      "needs_background": "light"
     },
     "output_type": "display_data"
    }
   ],
   "source": [
    "sns.heatmap(df[numeric].corr(method='spearman'))"
   ]
  },
  {
   "cell_type": "markdown",
   "metadata": {},
   "source": [
    "**Вывод:**\n",
    "\n",
    "Наибольшая коррцеляция наблюдается между признаками `price` и `power`."
   ]
  },
  {
   "cell_type": "markdown",
   "metadata": {},
   "source": [
    "Проведём статистические тесты:"
   ]
  },
  {
   "cell_type": "code",
   "execution_count": 33,
   "metadata": {},
   "outputs": [
    {
     "name": "stdout",
     "output_type": "stream",
     "text": [
      "Spearman correlation: 0.5103474543949347 p-value: 0.0\n"
     ]
    }
   ],
   "source": [
    "r0 = spearmanr(df['price'], df['power'])\n",
    "print('Spearman correlation:', r0[0], 'p-value:', r0[1])"
   ]
  },
  {
   "cell_type": "code",
   "execution_count": 34,
   "metadata": {},
   "outputs": [
    {
     "name": "stdout",
     "output_type": "stream",
     "text": [
      "Spearman correlation: -0.3466294618805373 p-value: 0.0\n"
     ]
    }
   ],
   "source": [
    "r1 = spearmanr(df['price'], df['kilometer'])\n",
    "print('Spearman correlation:', r1[0], 'p-value:', r1[1])"
   ]
  },
  {
   "cell_type": "markdown",
   "metadata": {},
   "source": [
    "**Вывод:**\n",
    "\n",
    "Так как p-value < 0.05 (типичное пороговое значение), то делаем вывод о том, что взаимосвязь (корреляция) между ценой и мощностью/километражем **статистически значима**."
   ]
  },
  {
   "cell_type": "markdown",
   "metadata": {},
   "source": [
    "<div class=\"alert alert-info\">\n",
    "<h1> Комментарий студента №2</h1>\n",
    "\n",
    "1. Исправил, насколько понял. Верно ли что, корреляцию Пирсона можно полностью заменить корреляцие Спирмена? По сути нам все численные признаки нужно будет сравнивать с целевым (price - в нашем случае)?\n",
    "2. Выше я прочитал, что для корреляции мы не используем категориальные признаки. Но вот, например, модель машины - это категориальный признак. Учитывая его в корреляции, мы, в терории, могли бы увидеть статистическую значимость между ценой и определнной моделью - условно Bentley/Ferrafi. Хм. Или тут как раз суть в том, чтобы уловить статистическую значимость между неочевидными численными признаками?\n",
    "3. Меня смущает, что p-value везде 0.0 получается.\n",
    "</div>"
   ]
  },
  {
   "cell_type": "markdown",
   "metadata": {},
   "source": [
    "<div class=\"alert alert-warning\">\n",
    "    <h2> Комментарий ревьюера №2<a class=\"tocSkip\"> </h2>\n",
    "    \n",
    "<b>Некоторые замечания и рекомендации💡:</b> \n",
    "        \n",
    "Да, верно. Это просто выбор коэффициента, по которому мы оцениваем. Они по-разному считаются.\n",
    "        \n",
    "Да, есть инструменты, которые учитывают и категориальные признаки.\n",
    "        \n",
    "Но вообще, если представить ось x, например, и на ней отложить price и ось y и на ней категории машин, то категории можно расположить, как угодно. Это нарушает логику того что корреляция улавливает как бы законы, если одна переменная увеличивается, то и вторая увеличивается. или наоборот: если первая увеличивается, то вторая уменьшается. Отсюда и требование к линейности связи двух переменных."
   ]
  },
  {
   "cell_type": "markdown",
   "metadata": {},
   "source": [
    "<div class=\"alert alert-info\">\n",
    "<h1> Комментарий студента №3</h1>\n",
    "\n",
    "Понял. Спасибо, по поводу \"p-value везде 0.0 получается\" это нормально?\n",
    "</div>"
   ]
  },
  {
   "cell_type": "markdown",
   "metadata": {},
   "source": [
    "<div class=\"alert alert-warning\">\n",
    "    <h2> Комментарий ревьюера №3<a class=\"tocSkip\"> </h2>\n",
    "    \n",
    "<b>Некоторые замечания и рекомендации💡:</b>\n",
    "        \n",
    "Is it possible to have a 0.000 p-value?\n",
    "Technically, p values cannot equal 0. Some statistical programs do give you p values of . 000 in their output, but this is likely due to automatic rounding off or truncation to a preset number of digits after the decimal point\n",
    "        \n",
    "То есть мы можем сделать вывод, что P-value не 0, но близок и поэтому округляется до 0."
   ]
  },
  {
   "cell_type": "code",
   "execution_count": 35,
   "metadata": {
    "scrolled": false
   },
   "outputs": [
    {
     "data": {
      "image/png": "[encoded data removed]",
      "text/plain": [
       "<Figure size 720x432 with 1 Axes>"
      ]
     },
     "metadata": {
      "needs_background": "light"
     },
     "output_type": "display_data"
    },
    {
     "data": {
      "image/png": "[encoded data removed]",
      "text/plain": [
       "<Figure size 720x432 with 1 Axes>"
      ]
     },
     "metadata": {
      "needs_background": "light"
     },
     "output_type": "display_data"
    },
    {
     "data": {
      "image/png": "[encoded data removed]",
      "text/plain": [
       "<Figure size 720x432 with 1 Axes>"
      ]
     },
     "metadata": {
      "needs_background": "light"
     },
     "output_type": "display_data"
    },
    {
     "data": {
      "image/png": "[encoded data removed]",
      "text/plain": [
       "<Figure size 720x432 with 1 Axes>"
      ]
     },
     "metadata": {
      "needs_background": "light"
     },
     "output_type": "display_data"
    },
    {
     "data": {
      "image/png": "[encoded data removed]",
      "text/plain": [
       "<Figure size 720x432 with 1 Axes>"
      ]
     },
     "metadata": {
      "needs_background": "light"
     },
     "output_type": "display_data"
    }
   ],
   "source": [
    "columns = ['fuel_type',\n",
    "           'kilometer',\n",
    "           'gearbox',\n",
    "           'registration_year',\n",
    "           'vehicle_type']\n",
    "\n",
    "for name in columns:\n",
    "    plt.figure(figsize=(10,6))\n",
    "    sns.histplot(df[name],\n",
    "                 color='green',\n",
    "                 kde=True)\n",
    "    plt.title(f'График для параметра {name}')\n",
    "\n",
    "    plt.show()\n"
   ]
  },
  {
   "cell_type": "markdown",
   "metadata": {},
   "source": [
    "<div class=\"alert alert-warning\">\n",
    "    <h2> Комментарий ревьюера <a class=\"tocSkip\"> </h2>\n",
    "    \n",
    "<b>Некоторые замечания и рекомендации💡:</b> \n",
    "        \n",
    "        \n",
    "Для категориальных признаков больше подходит по смыслу столбчатая диаграмма, а не гистограмма.\n",
    "        \n",
    "В matplotlib она реализована в bar\n",
    "        \n",
    "https://matplotlib.org/stable/api/_as_gen/matplotlib.pyplot.bar.html\n",
    "        \n",
    "        \n",
    "Также можно отобразить распределение Price."
   ]
  },
  {
   "cell_type": "code",
   "execution_count": 36,
   "metadata": {},
   "outputs": [],
   "source": [
    "#x = list(df['vehicle_type'])\n",
    "#y = \n",
    "#\n",
    "#plt.bar(x, y)\n",
    "#plt.show()"
   ]
  },
  {
   "cell_type": "markdown",
   "metadata": {},
   "source": [
    "<div class=\"alert alert-info\">\n",
    "<h1> Комментарий студента №2</h1>\n",
    "\n",
    "Что-то запутался. Не могу вспонмить как построить, если х категории, то у нужно их распределение количественное..\n",
    "</div>"
   ]
  },
  {
   "cell_type": "markdown",
   "metadata": {},
   "source": [
    "<div class=\"alert alert-warning\">\n",
    "    <h2> Комментарий ревьюера №2<a class=\"tocSkip\"> </h2>\n",
    "    \n",
    "<b>Некоторые замечания и рекомендации💡:</b> \n",
    "        \n",
    "Можно это сделать через value_counts.\n",
    "        \n",
    "в x передать индексы\n",
    "        \n",
    "в y сами значения\n",
    "        "
   ]
  },
  {
   "cell_type": "code",
   "execution_count": 37,
   "metadata": {},
   "outputs": [
    {
     "data": {
      "text/plain": [
       "price                3587\n",
       "vehicle_type            8\n",
       "registration_year      87\n",
       "gearbox                 9\n",
       "power                 563\n",
       "model                 250\n",
       "kilometer              13\n",
       "fuel_type              14\n",
       "brand                  39\n",
       "repaired                3\n",
       "dtype: int64"
      ]
     },
     "execution_count": 37,
     "metadata": {},
     "output_type": "execute_result"
    }
   ],
   "source": [
    "df.nunique()"
   ]
  },
  {
   "cell_type": "markdown",
   "metadata": {},
   "source": [
    "**Вывод:**\n",
    "\n",
    "Проанализиурем распределение данных в нашей выборке:\n",
    "\n",
    "* в выборке представлены 39 брендов и 250 различных моделей транспорта;\n",
    "* самый популярный тип двигателя - бензиновый;\n",
    "* медиана распределения года авто по выборке ~ 2005 год;\n",
    "* больше всего автомобилей с пробегом 150 тыс. км. **Вероятно, что в данных это была максимальная отметка для автомобиля.** По факту распределение пробега может оказаться другим;\n",
    "* самая популярная трансмиссия - ручаня коробка передач. По количеству она во много раз превышает автоматическую;\n",
    "* самый популярный кузов - седан."
   ]
  },
  {
   "cell_type": "code",
   "execution_count": 38,
   "metadata": {},
   "outputs": [
    {
     "data": {
      "text/html": [
       "<div>\n",
       "<style scoped>\n",
       "    .dataframe tbody tr th:only-of-type {\n",
       "        vertical-align: middle;\n",
       "    }\n",
       "\n",
       "    .dataframe tbody tr th {\n",
       "        vertical-align: top;\n",
       "    }\n",
       "\n",
       "    .dataframe thead th {\n",
       "        text-align: right;\n",
       "    }\n",
       "</style>\n",
       "<table border=\"1\" class=\"dataframe\">\n",
       "  <thead>\n",
       "    <tr style=\"text-align: right;\">\n",
       "      <th></th>\n",
       "      <th>price</th>\n",
       "      <th>vehicle_type</th>\n",
       "      <th>registration_year</th>\n",
       "      <th>gearbox</th>\n",
       "      <th>power</th>\n",
       "      <th>model</th>\n",
       "      <th>kilometer</th>\n",
       "      <th>fuel_type</th>\n",
       "      <th>brand</th>\n",
       "      <th>repaired</th>\n",
       "    </tr>\n",
       "  </thead>\n",
       "  <tbody>\n",
       "    <tr>\n",
       "      <th>0</th>\n",
       "      <td>480</td>\n",
       "      <td>sedan</td>\n",
       "      <td>1993</td>\n",
       "      <td>manual</td>\n",
       "      <td>0</td>\n",
       "      <td>golf</td>\n",
       "      <td>150000</td>\n",
       "      <td>petrol</td>\n",
       "      <td>volkswagen</td>\n",
       "      <td>unknown</td>\n",
       "    </tr>\n",
       "    <tr>\n",
       "      <th>2</th>\n",
       "      <td>9800</td>\n",
       "      <td>suv</td>\n",
       "      <td>2004</td>\n",
       "      <td>auto</td>\n",
       "      <td>163</td>\n",
       "      <td>grand</td>\n",
       "      <td>125000</td>\n",
       "      <td>gasoline</td>\n",
       "      <td>jeep</td>\n",
       "      <td>unknown</td>\n",
       "    </tr>\n",
       "    <tr>\n",
       "      <th>3</th>\n",
       "      <td>1500</td>\n",
       "      <td>small</td>\n",
       "      <td>2001</td>\n",
       "      <td>manual</td>\n",
       "      <td>75</td>\n",
       "      <td>golf</td>\n",
       "      <td>150000</td>\n",
       "      <td>petrol</td>\n",
       "      <td>volkswagen</td>\n",
       "      <td>no</td>\n",
       "    </tr>\n",
       "    <tr>\n",
       "      <th>4</th>\n",
       "      <td>3600</td>\n",
       "      <td>small</td>\n",
       "      <td>2008</td>\n",
       "      <td>manual</td>\n",
       "      <td>69</td>\n",
       "      <td>fabia</td>\n",
       "      <td>90000</td>\n",
       "      <td>gasoline</td>\n",
       "      <td>skoda</td>\n",
       "      <td>no</td>\n",
       "    </tr>\n",
       "    <tr>\n",
       "      <th>5</th>\n",
       "      <td>650</td>\n",
       "      <td>sedan</td>\n",
       "      <td>1995</td>\n",
       "      <td>manual</td>\n",
       "      <td>102</td>\n",
       "      <td>3er</td>\n",
       "      <td>150000</td>\n",
       "      <td>petrol</td>\n",
       "      <td>bmw</td>\n",
       "      <td>yes</td>\n",
       "    </tr>\n",
       "  </tbody>\n",
       "</table>\n",
       "</div>"
      ],
      "text/plain": [
       "   price vehicle_type  registration_year gearbox  power  model  kilometer  \\\n",
       "0    480        sedan               1993  manual      0   golf     150000   \n",
       "2   9800          suv               2004    auto    163  grand     125000   \n",
       "3   1500        small               2001  manual     75   golf     150000   \n",
       "4   3600        small               2008  manual     69  fabia      90000   \n",
       "5    650        sedan               1995  manual    102    3er     150000   \n",
       "\n",
       "  fuel_type       brand repaired  \n",
       "0    petrol  volkswagen  unknown  \n",
       "2  gasoline        jeep  unknown  \n",
       "3    petrol  volkswagen       no  \n",
       "4  gasoline       skoda       no  \n",
       "5    petrol         bmw      yes  "
      ]
     },
     "execution_count": 38,
     "metadata": {},
     "output_type": "execute_result"
    }
   ],
   "source": [
    "df.head(5)"
   ]
  },
  {
   "cell_type": "markdown",
   "metadata": {},
   "source": [
    "Категориальные признаки закодируем one-hot encoding:"
   ]
  },
  {
   "cell_type": "code",
   "execution_count": 39,
   "metadata": {},
   "outputs": [
    {
     "data": {
      "text/html": [
       "<div>\n",
       "<style scoped>\n",
       "    .dataframe tbody tr th:only-of-type {\n",
       "        vertical-align: middle;\n",
       "    }\n",
       "\n",
       "    .dataframe tbody tr th {\n",
       "        vertical-align: top;\n",
       "    }\n",
       "\n",
       "    .dataframe thead th {\n",
       "        text-align: right;\n",
       "    }\n",
       "</style>\n",
       "<table border=\"1\" class=\"dataframe\">\n",
       "  <thead>\n",
       "    <tr style=\"text-align: right;\">\n",
       "      <th></th>\n",
       "      <th>price</th>\n",
       "      <th>registration_year</th>\n",
       "      <th>power</th>\n",
       "      <th>kilometer</th>\n",
       "      <th>vehicle_type_convertible</th>\n",
       "      <th>vehicle_type_coupe</th>\n",
       "      <th>vehicle_type_other</th>\n",
       "      <th>vehicle_type_sedan</th>\n",
       "      <th>vehicle_type_small</th>\n",
       "      <th>vehicle_type_suv</th>\n",
       "      <th>...</th>\n",
       "      <th>brand_skoda</th>\n",
       "      <th>brand_smart</th>\n",
       "      <th>brand_subaru</th>\n",
       "      <th>brand_suzuki</th>\n",
       "      <th>brand_toyota</th>\n",
       "      <th>brand_trabant</th>\n",
       "      <th>brand_volkswagen</th>\n",
       "      <th>brand_volvo</th>\n",
       "      <th>repaired_unknown</th>\n",
       "      <th>repaired_yes</th>\n",
       "    </tr>\n",
       "  </thead>\n",
       "  <tbody>\n",
       "    <tr>\n",
       "      <th>0</th>\n",
       "      <td>480</td>\n",
       "      <td>1993</td>\n",
       "      <td>0</td>\n",
       "      <td>150000</td>\n",
       "      <td>0</td>\n",
       "      <td>0</td>\n",
       "      <td>0</td>\n",
       "      <td>1</td>\n",
       "      <td>0</td>\n",
       "      <td>0</td>\n",
       "      <td>...</td>\n",
       "      <td>0</td>\n",
       "      <td>0</td>\n",
       "      <td>0</td>\n",
       "      <td>0</td>\n",
       "      <td>0</td>\n",
       "      <td>0</td>\n",
       "      <td>1</td>\n",
       "      <td>0</td>\n",
       "      <td>1</td>\n",
       "      <td>0</td>\n",
       "    </tr>\n",
       "    <tr>\n",
       "      <th>2</th>\n",
       "      <td>9800</td>\n",
       "      <td>2004</td>\n",
       "      <td>163</td>\n",
       "      <td>125000</td>\n",
       "      <td>0</td>\n",
       "      <td>0</td>\n",
       "      <td>0</td>\n",
       "      <td>0</td>\n",
       "      <td>0</td>\n",
       "      <td>1</td>\n",
       "      <td>...</td>\n",
       "      <td>0</td>\n",
       "      <td>0</td>\n",
       "      <td>0</td>\n",
       "      <td>0</td>\n",
       "      <td>0</td>\n",
       "      <td>0</td>\n",
       "      <td>0</td>\n",
       "      <td>0</td>\n",
       "      <td>1</td>\n",
       "      <td>0</td>\n",
       "    </tr>\n",
       "    <tr>\n",
       "      <th>3</th>\n",
       "      <td>1500</td>\n",
       "      <td>2001</td>\n",
       "      <td>75</td>\n",
       "      <td>150000</td>\n",
       "      <td>0</td>\n",
       "      <td>0</td>\n",
       "      <td>0</td>\n",
       "      <td>0</td>\n",
       "      <td>1</td>\n",
       "      <td>0</td>\n",
       "      <td>...</td>\n",
       "      <td>0</td>\n",
       "      <td>0</td>\n",
       "      <td>0</td>\n",
       "      <td>0</td>\n",
       "      <td>0</td>\n",
       "      <td>0</td>\n",
       "      <td>1</td>\n",
       "      <td>0</td>\n",
       "      <td>0</td>\n",
       "      <td>0</td>\n",
       "    </tr>\n",
       "    <tr>\n",
       "      <th>4</th>\n",
       "      <td>3600</td>\n",
       "      <td>2008</td>\n",
       "      <td>69</td>\n",
       "      <td>90000</td>\n",
       "      <td>0</td>\n",
       "      <td>0</td>\n",
       "      <td>0</td>\n",
       "      <td>0</td>\n",
       "      <td>1</td>\n",
       "      <td>0</td>\n",
       "      <td>...</td>\n",
       "      <td>1</td>\n",
       "      <td>0</td>\n",
       "      <td>0</td>\n",
       "      <td>0</td>\n",
       "      <td>0</td>\n",
       "      <td>0</td>\n",
       "      <td>0</td>\n",
       "      <td>0</td>\n",
       "      <td>0</td>\n",
       "      <td>0</td>\n",
       "    </tr>\n",
       "    <tr>\n",
       "      <th>5</th>\n",
       "      <td>650</td>\n",
       "      <td>1995</td>\n",
       "      <td>102</td>\n",
       "      <td>150000</td>\n",
       "      <td>0</td>\n",
       "      <td>0</td>\n",
       "      <td>0</td>\n",
       "      <td>1</td>\n",
       "      <td>0</td>\n",
       "      <td>0</td>\n",
       "      <td>...</td>\n",
       "      <td>0</td>\n",
       "      <td>0</td>\n",
       "      <td>0</td>\n",
       "      <td>0</td>\n",
       "      <td>0</td>\n",
       "      <td>0</td>\n",
       "      <td>0</td>\n",
       "      <td>0</td>\n",
       "      <td>0</td>\n",
       "      <td>1</td>\n",
       "    </tr>\n",
       "  </tbody>\n",
       "</table>\n",
       "<p>5 rows × 321 columns</p>\n",
       "</div>"
      ],
      "text/plain": [
       "   price  registration_year  power  kilometer  vehicle_type_convertible  \\\n",
       "0    480               1993      0     150000                         0   \n",
       "2   9800               2004    163     125000                         0   \n",
       "3   1500               2001     75     150000                         0   \n",
       "4   3600               2008     69      90000                         0   \n",
       "5    650               1995    102     150000                         0   \n",
       "\n",
       "   vehicle_type_coupe  vehicle_type_other  vehicle_type_sedan  \\\n",
       "0                   0                   0                   1   \n",
       "2                   0                   0                   0   \n",
       "3                   0                   0                   0   \n",
       "4                   0                   0                   0   \n",
       "5                   0                   0                   1   \n",
       "\n",
       "   vehicle_type_small  vehicle_type_suv  ...  brand_skoda  brand_smart  \\\n",
       "0                   0                 0  ...            0            0   \n",
       "2                   0                 1  ...            0            0   \n",
       "3                   1                 0  ...            0            0   \n",
       "4                   1                 0  ...            1            0   \n",
       "5                   0                 0  ...            0            0   \n",
       "\n",
       "   brand_subaru  brand_suzuki  brand_toyota  brand_trabant  brand_volkswagen  \\\n",
       "0             0             0             0              0                 1   \n",
       "2             0             0             0              0                 0   \n",
       "3             0             0             0              0                 1   \n",
       "4             0             0             0              0                 0   \n",
       "5             0             0             0              0                 0   \n",
       "\n",
       "   brand_volvo  repaired_unknown  repaired_yes  \n",
       "0            0                 1             0  \n",
       "2            0                 1             0  \n",
       "3            0                 0             0  \n",
       "4            0                 0             0  \n",
       "5            0                 0             1  \n",
       "\n",
       "[5 rows x 321 columns]"
      ]
     },
     "execution_count": 39,
     "metadata": {},
     "output_type": "execute_result"
    }
   ],
   "source": [
    "data_ohe = pd.get_dummies(df, drop_first=True)\n",
    "data_ohe.head(5)"
   ]
  },
  {
   "cell_type": "markdown",
   "metadata": {},
   "source": [
    "<div class=\"alert alert-warning\">\n",
    "    <h2> Комментарий ревьюера <a class=\"tocSkip\"> </h2>\n",
    "    \n",
    "<b>Некоторые замечания и рекомендации💡:</b> \n",
    "        \n",
    "В теории тренажера в данный момент предлагается использовать get_dummies, однако, это впоследствии приводит к сложностям поэтому стоит использовать класс <a href=\"https://scikit-learn.org/stable/modules/generated/sklearn.preprocessing.OneHotEncoder.html\">OHE из sklearn</a>. По аналогии с масштабированием делать fit только на трейне, а transform на всех выборках.\n",
    "<hr>\n",
    "get_dummies подходит для анализа данных, а для машинного обучения более предпочтителен OHE, т.к. он позоволяет избежать ряд ошибок при обучении моделей, в том числе может работать с неизвестными ранее уровнями категорий, которых не было изначально (например, если появится еще одна модель машины).\n",
    "        \n",
    "get_dummies также нельзя использовать вместе с pipeline, column_transformer, ecли появляется новая выборка и ее нужно кодировать, то обязательно стоит выполнить проверку, чтобы получившиеся фичи были такие же.\n",
    "        \n",
    "Посмотреть более подробно, как использовать OneHotEncoder можно здесь:\n",
    "\n",
    "https://colab.research.google.com/drive/1_gAMXcQKoCShB_l8FNtYEejMnosm9mvt?usp=sharing"
   ]
  },
  {
   "cell_type": "markdown",
   "metadata": {},
   "source": [
    "Разделим выборки на обучающую и тестовую:"
   ]
  },
  {
   "cell_type": "code",
   "execution_count": 40,
   "metadata": {},
   "outputs": [
    {
     "name": "stdout",
     "output_type": "stream",
     "text": [
      "(197907, 320)\n",
      "(65970, 320)\n"
     ]
    }
   ],
   "source": [
    "target_ohe = data_ohe['price']\n",
    "features_ohe = data_ohe.drop('price', axis=1)\n",
    "features_train_ohe, features_test_ohe, target_train_ohe, target_test_ohe = train_test_split(features_ohe,\n",
    "                                                                                            target_ohe,\n",
    "                                                                                            test_size=0.25,\n",
    "                                                                                            random_state=RANDOM_STATE) \n",
    "\n",
    "\n",
    "print(features_train_ohe.shape)\n",
    "print(features_test_ohe.shape)"
   ]
  },
  {
   "cell_type": "code",
   "execution_count": 41,
   "metadata": {},
   "outputs": [
    {
     "name": "stdout",
     "output_type": "stream",
     "text": [
      "['registration_year', 'power', 'kilometer', 'vehicle_type_convertible', 'vehicle_type_coupe', 'vehicle_type_other', 'vehicle_type_sedan', 'vehicle_type_small', 'vehicle_type_suv', 'vehicle_type_wagon', 'gearbox_bus', 'gearbox_convertible', 'gearbox_coupe', 'gearbox_manual', 'gearbox_sedan', 'gearbox_small', 'gearbox_suv', 'gearbox_wagon', 'model_145', 'model_147', 'model_156', 'model_159', 'model_1_reihe', 'model_1er', 'model_200', 'model_2_reihe', 'model_300c', 'model_3_reihe', 'model_3er', 'model_4_reihe', 'model_500', 'model_5_reihe', 'model_5er', 'model_601', 'model_6_reihe', 'model_6er', 'model_7er', 'model_80', 'model_850', 'model_90', 'model_900', 'model_9000', 'model_911', 'model_a1', 'model_a2', 'model_a3', 'model_a4', 'model_a5', 'model_a6', 'model_a8', 'model_a_klasse', 'model_accord', 'model_agila', 'model_alhambra', 'model_almera', 'model_altea', 'model_amarok', 'model_antara', 'model_arosa', 'model_astra', 'model_auris', 'model_avensis', 'model_aveo', 'model_aygo', 'model_b_klasse', 'model_b_max', 'model_beetle', 'model_berlingo', 'model_bora', 'model_boxster', 'model_bravo', 'model_c1', 'model_c2', 'model_c3', 'model_c4', 'model_c5', 'model_c_klasse', 'model_c_max', 'model_c_reihe', 'model_caddy', 'model_calibra', 'model_captiva', 'model_carisma', 'model_carnival', 'model_cayenne', 'model_cc', 'model_ceed', 'model_charade', 'model_cherokee', 'model_citigo', 'model_civic', 'model_cl', 'model_clio', 'model_clk', 'model_clubman', 'model_colt', 'model_combo', 'model_cooper', 'model_cordoba', 'model_corolla', 'model_corsa', 'model_cr_reihe', 'model_croma', 'model_crossfire', 'model_cuore', 'model_cx_reihe', 'model_defender', 'model_delta', 'model_discovery', 'model_doblo', 'model_ducato', 'model_duster', 'model_e_klasse', 'model_elefantino', 'model_eos', 'model_escort', 'model_espace', 'model_exeo', 'model_fabia', 'model_fiesta', 'model_focus', 'model_forester', 'model_forfour', 'model_fortwo', 'model_fox', 'model_freelander', 'model_fusion', 'model_g_klasse', 'model_galant', 'model_galaxy', 'model_getz', 'model_gl', 'model_glk', 'model_golf', 'model_grand', 'model_i3', 'model_i_reihe', 'model_ibiza', 'model_impreza', 'model_insignia', 'model_jazz', 'model_jetta', 'model_jimny', 'model_juke', 'model_justy', 'model_ka', 'model_kadett', 'model_kaefer', 'model_kalina', 'model_kalos', 'model_kangoo', 'model_kappa', 'model_kuga', 'model_laguna', 'model_lancer', 'model_lanos', 'model_legacy', 'model_leon', 'model_lodgy', 'model_logan', 'model_lupo', 'model_lybra', 'model_m_klasse', 'model_m_reihe', 'model_materia', 'model_matiz', 'model_megane', 'model_meriva', 'model_micra', 'model_mii', 'model_modus', 'model_mondeo', 'model_move', 'model_musa', 'model_mustang', 'model_mx_reihe', 'model_navara', 'model_niva', 'model_note', 'model_nubira', 'model_octavia', 'model_omega', 'model_one', 'model_other', 'model_outlander', 'model_pajero', 'model_panda', 'model_passat', 'model_phaeton', 'model_picanto', 'model_polo', 'model_primera', 'model_ptcruiser', 'model_punto', 'model_q3', 'model_q5', 'model_q7', 'model_qashqai', 'model_r19', 'model_range_rover', 'model_range_rover_evoque', 'model_range_rover_sport', 'model_rangerover', 'model_rav', 'model_rio', 'model_roadster', 'model_roomster', 'model_rx_reihe', 'model_s60', 'model_s_klasse', 'model_s_max', 'model_s_type', 'model_samara', 'model_sandero', 'model_santa', 'model_scenic', 'model_scirocco', 'model_seicento', 'model_serie_1', 'model_serie_2', 'model_serie_3', 'model_sharan', 'model_signum', 'model_sirion', 'model_sl', 'model_slk', 'model_sorento', 'model_spark', 'model_spider', 'model_sportage', 'model_sprinter', 'model_stilo', 'model_superb', 'model_swift', 'model_terios', 'model_tigra', 'model_tiguan', 'model_toledo', 'model_touareg', 'model_touran', 'model_transit', 'model_transporter', 'model_tt', 'model_tucson', 'model_twingo', 'model_up', 'model_v40', 'model_v50', 'model_v60', 'model_v70', 'model_v_klasse', 'model_vectra', 'model_verso', 'model_viano', 'model_vito', 'model_vivaro', 'model_voyager', 'model_wrangler', 'model_x_reihe', 'model_x_trail', 'model_x_type', 'model_xc_reihe', 'model_yaris', 'model_yeti', 'model_ypsilon', 'model_z_reihe', 'model_zafira', 'fuel_type_cng', 'fuel_type_convertible', 'fuel_type_coupe', 'fuel_type_electric', 'fuel_type_gasoline', 'fuel_type_hybrid', 'fuel_type_lpg', 'fuel_type_other', 'fuel_type_petrol', 'fuel_type_sedan', 'fuel_type_small', 'fuel_type_suv', 'fuel_type_wagon', 'brand_audi', 'brand_bmw', 'brand_chevrolet', 'brand_chrysler', 'brand_citroen', 'brand_dacia', 'brand_daewoo', 'brand_daihatsu', 'brand_fiat', 'brand_ford', 'brand_honda', 'brand_hyundai', 'brand_jaguar', 'brand_jeep', 'brand_kia', 'brand_lada', 'brand_lancia', 'brand_land_rover', 'brand_mazda', 'brand_mercedes_benz', 'brand_mini', 'brand_mitsubishi', 'brand_nissan', 'brand_opel', 'brand_peugeot', 'brand_porsche', 'brand_renault', 'brand_rover', 'brand_saab', 'brand_seat', 'brand_skoda', 'brand_smart', 'brand_subaru', 'brand_suzuki', 'brand_toyota', 'brand_trabant', 'brand_volkswagen', 'brand_volvo', 'repaired_unknown', 'repaired_yes']\n"
     ]
    }
   ],
   "source": [
    "numeric = list(data_ohe)\n",
    "numeric.remove('price')\n",
    "print (numeric)"
   ]
  },
  {
   "cell_type": "markdown",
   "metadata": {},
   "source": [
    "<div class=\"alert alert-warning\">\n",
    "    <h2> Комментарий ревьюера <a class=\"tocSkip\"> </h2>\n",
    "    \n",
    "<b>Некоторые замечания и рекомендации💡:</b> \n",
    "        \n",
    "В список численных признаков попадают не только численные признаки."
   ]
  },
  {
   "cell_type": "markdown",
   "metadata": {},
   "source": [
    "<div class=\"alert alert-info\">\n",
    "<h1> Комментарий студента №3</h1>\n",
    "\n",
    "Речь про кодировку one-hot encoding?\n",
    "</div>"
   ]
  },
  {
   "cell_type": "markdown",
   "metadata": {},
   "source": [
    "<div class=\"alert alert-warning\">\n",
    "    <h2> Комментарий ревьюера №3<a class=\"tocSkip\"> </h2>\n",
    "    \n",
    "<b>Некоторые замечания и рекомендации💡:</b> \n",
    "     \n",
    "Речь о том, что в список численных переменных у тебя попадают закодированные категориальные. Этого можно избежать, если подавать в скейлер только численные признаки ('registration_year', 'power', 'kilometer')        "
   ]
  },
  {
   "cell_type": "markdown",
   "metadata": {},
   "source": [
    "Масштабируем признаки:"
   ]
  },
  {
   "cell_type": "code",
   "execution_count": null,
   "metadata": {},
   "outputs": [],
   "source": [
    "scaler = StandardScaler()\n",
    "scaler.fit(features_train_ohe[numeric])\n",
    "features_train_ohe[numeric] = scaler.transform(features_train_ohe[numeric])\n",
    "features_test_ohe[numeric] = scaler.transform(features_test_ohe[numeric])"
   ]
  },
  {
   "cell_type": "markdown",
   "metadata": {},
   "source": [
    "<div class=\"alert alert-success\">\n",
    "<h2> Комментарий ревьюера <a class=\"tocSkip\"> </h2>\n",
    "\n",
    "<b>Все отлично!👍:</b> \n",
    "    \n",
    "Молодец, что масштабируешь после разделения на выборки."
   ]
  },
  {
   "cell_type": "code",
   "execution_count": null,
   "metadata": {},
   "outputs": [],
   "source": [
    "features_train_ohe.head()"
   ]
  },
  {
   "cell_type": "code",
   "execution_count": null,
   "metadata": {},
   "outputs": [],
   "source": [
    "data_ohe.info()"
   ]
  },
  {
   "cell_type": "markdown",
   "metadata": {},
   "source": [
    "**Вывод по разделу:**\n",
    "\n",
    "В этом разделе мы произвели предобработку данных. Мы перевели названия столбцов в более удобочитаемый нижний и змеиный регистр, удалили неинформативные столбцы, заполнили пропуски, избавились от аномалий, проверили корреляцию Пирсона и сделали визулизацию распределения ключевых признаков. Удалили дубликаты и перевели категориальные значения столбцов в количественные. В итоге у нас образовалась таблица в 263 тыс. строк и 319 столбцов размером 89.8 МВ."
   ]
  },
  {
   "cell_type": "markdown",
   "metadata": {},
   "source": [
    "<div class=\"alert alert-success\">\n",
    "<h2> Комментарий ревьюера <a class=\"tocSkip\"> </h2>\n",
    "\n",
    "<b>Все отлично!👍:</b> \n",
    "    \n",
    "Молодец, что пишешь промежуточные выводы."
   ]
  },
  {
   "cell_type": "markdown",
   "metadata": {},
   "source": [
    "## Обучение моделей"
   ]
  },
  {
   "cell_type": "markdown",
   "metadata": {},
   "source": [
    "### Модель линейной регрессии:"
   ]
  },
  {
   "cell_type": "code",
   "execution_count": null,
   "metadata": {},
   "outputs": [],
   "source": [
    "'''model = LinearRegression()\n",
    "model.fit(features_train_ohe, target_train_ohe)\n",
    "\n",
    "predictions_train_ohe = model.predict(features_train_ohe)\n",
    "\n",
    "rmse = mean_squared_error(target_train_ohe, predictions_train_ohe)**0.5\n",
    "print('RMSE:', rmse)\n",
    "\n",
    "scores = cross_val_score(model,\n",
    "                         features_train_ohe,\n",
    "                         target_train_ohe,\n",
    "                         cv=5)\n",
    "\n",
    "final_score = sum(scores) / len(scores)\n",
    "print('Средняя оценка качества модели:', final_score) '''"
   ]
  },
  {
   "cell_type": "markdown",
   "metadata": {},
   "source": [
    "<div class=\"alert alert-info\">\n",
    "<h1> Комментарий студента №5</h1>\n",
    "\n",
    "Исправил.   \n",
    "</div>"
   ]
  },
  {
   "cell_type": "markdown",
   "metadata": {},
   "source": [
    "<div class=\"alert alert-block alert-danger\">\n",
    "<h2> Комментарий ревьюера №4<a class=\"tocSkip\"></h2>\n",
    "\n",
    "    \n",
    "<b>На доработку🤔:</b>\n",
    "    \n",
    " \n",
    "Пожалуйста, исключи использование тестовой выборки в процессе анализа для всех моделей."
   ]
  },
  {
   "cell_type": "markdown",
   "metadata": {},
   "source": [
    "<div class=\"alert alert-info\">\n",
    "<h1> Комментарий студента №4</h1>\n",
    "\n",
    "Спасибо за развернутый ответ!    \n",
    "</div>"
   ]
  },
  {
   "cell_type": "markdown",
   "metadata": {},
   "source": [
    "<div class=\"alert alert-block alert-danger\">\n",
    "<h2> Комментарий ревьюера №3<a class=\"tocSkip\"></h2>\n",
    "\n",
    "    \n",
    "<b>На доработку🤔:</b>\n",
    "    \n",
    "    \n",
    "Кросс-валидацию мы проводим на тренировочной выборке.\n",
    "    \n",
    "Тестовая выборка - это иммитация реальных данных, отложенная выборка.\n",
    "        \n",
    "Если выбирать модель на тестовой выборке (особенно при подборе гиперпараметров), то получается мы подстраиваем модель под один набор данных (тестовый), и поэтому не можем судить в полной мере об обобщающей способности модели. \n",
    "        \n",
    "Как работает кросс-валидация можно прочитать вот здесь, например:\n",
    "        \n",
    "https://towardsdatascience.com/cross-validation-and-grid-search-efa64b127c1b\n",
    "        \n",
    "\"When conducting a normal train/validation/test split for model training and testing, the model trains on a specific randomly\n",
    "        \n",
    "selected portion of the data, validates on a separate set of data, then finally tests on a holdout dataset. In practice this\n",
    "        \n",
    "could lead to some issues, especially when the size of the dataset is relatively small, because you could be eliminating a \n",
    "        \n",
    "portion of observations that would be key to training an optimal model. Keeping a percentage of data out of the training phase,\n",
    "        \n",
    "even if its 15–25% still holds plenty of information that would otherwise help our model train more effectively.\n",
    "\n",
    "In comes a solution to our problem — Cross Validation. Cross validation works by splitting our dataset into random groups, \n",
    "        \n",
    "holding one group out as the test, and training the model on the remaining groups. This process is repeated for each group \n",
    "        \n",
    "being held as the test group, then the average of the models is used for the resulting model.\"\n",
    "        \n",
    "Также хорошая статья о кросс-валидации:\n",
    "        \n",
    "https://www.mygreatlearning.com/blog/cross-validation/\n",
    "        \n",
    "По поводу предназначения выборок можно прочитать здесь:\n",
    "        \n",
    "\n",
    "Что такое обучающая, валидационная и тестовая выборки?\n",
    "        \n",
    "«Обучающая выборка» — это набор данных, который используется для разработки модели машинного обучения.\n",
    "\n",
    "«Валидационная выборка» — это набор данных, который используется в процессе разработки модели машинного обучения для подбора \n",
    "        \n",
    "оптимального набора гиперпараметров.\n",
    "\n",
    "«Тестовая выборка» — это набор данных, который не используется непосредственно в процессе обучения модели или для подбора \n",
    "        \n",
    "гиперпараметров, однако позволяет протестировать модель и является контрольным.\n",
    "        \n",
    "Cсылка на статью:\n",
    "        \n",
    "https://ai.influenza.spb.ru/faq\n",
    "        \n",
    "Тестовая выборка - данные, на которых идет проверка качества работы ранее обученной модели."
   ]
  },
  {
   "cell_type": "markdown",
   "metadata": {},
   "source": [
    "<div class=\"alert alert-info\">\n",
    "<h1> Комментарий студента №3</h1>\n",
    "\n",
    "Решил проверку попробовать через кросс-валидации сделать.\n",
    "\n",
    "Я не до конца понял, как нам валидационная выборка помогает в определении качества модели. Вот есть у нас 3 выборки. Трейн, валид и тест. Обучил на трейне, проверил на валид. А тест зачем тогда, если есть валид - суть же одна.    \n",
    "</div>"
   ]
  },
  {
   "cell_type": "markdown",
   "metadata": {},
   "source": [
    "<div class=\"alert alert-block alert-danger\">\n",
    "<h2> Комментарий ревьюера <a class=\"tocSkip\"></h2>\n",
    "\n",
    "    \n",
    "<b>На доработку🤔:</b>\n",
    "    \n",
    "Качество на тренировочной выборке непоказательно, по нему мы не можем судить об обобщающей способности модели.\n",
    "    \n",
    "Есть 2 варинта работы:\n",
    "    \n",
    "1. Либо разделить данные на 3 выборки (трейн, валидация и тест) и в процессе анализа качество проверять на валидационной выборке. В этом случае время на предикт также измеряем на валидационной выборке.\n",
    "    \n",
    "2. Либо разделять на 2 выборки (трейн и тест), и тогдакачество мы смотрим на кросс-валидации, которая проводится на тренировочной выборке. А время на предикт измеряем на тренировочной также.\n",
    "    \n",
    "В обоих случаях тестовая выборка - контрольная. Нужна чтобы проконтролировать качество выбранной лучшей модели на отложенных данных.\n",
    "    \n"
   ]
  },
  {
   "cell_type": "markdown",
   "metadata": {},
   "source": [
    "<div class=\"alert alert-info\">\n",
    "<h1> Комментарий студента №2</h1>\n",
    "\n",
    "Точно)\n",
    "</div>"
   ]
  },
  {
   "cell_type": "markdown",
   "metadata": {},
   "source": [
    "<div class=\"alert alert-block alert-danger\">\n",
    "<h2> Комментарий ревьюера №2<a class=\"tocSkip\"></h2>\n",
    "\n",
    "    \n",
    "<b>На доработку🤔:</b>\n",
    "    \n",
    "Когда есть только 2 выборки: тренировочная и тестовая (отложенная), то качество мы смотрим в процессе анализа на кросс-валидации, а тестовая выборка нужна только для контроля качества лучшей модели.\n",
    "    \n",
    "Либо надо выделять еще валидационную выборку и проверять на ней."
   ]
  },
  {
   "cell_type": "markdown",
   "metadata": {},
   "source": [
    "**Вывод:**\n",
    "\n",
    "\n",
    "Значения RMSE высоки и не вписываются в лимит задачи."
   ]
  },
  {
   "cell_type": "markdown",
   "metadata": {},
   "source": [
    "### Модель решающего дерева:"
   ]
  },
  {
   "cell_type": "markdown",
   "metadata": {},
   "source": [
    "Закодируем признаки с помощью порядкового кодирования, которая предпочтительнее для моделей решающего дерева:"
   ]
  },
  {
   "cell_type": "markdown",
   "metadata": {},
   "source": [
    "<div class=\"alert alert-success\">\n",
    "<h2> Комментарий ревьюера <a class=\"tocSkip\"> </h2>\n",
    "\n",
    "<b>Все отлично!👍:</b> \n",
    "    \n",
    "Молодец, что используешь порядковое кодирование для моделей на основе деревьев решений."
   ]
  },
  {
   "cell_type": "markdown",
   "metadata": {},
   "source": [
    "Разделим выборки на обучающую и тестовую:"
   ]
  },
  {
   "cell_type": "code",
   "execution_count": null,
   "metadata": {},
   "outputs": [],
   "source": [
    "target_oe = df['price']\n",
    "features_oe = df.drop('price', axis=1)\n",
    "features_train_oe, features_test_oe, target_train_oe, target_test_oe = train_test_split(features_oe,\n",
    "                                                                                        target_oe,\n",
    "                                                                                        test_size=0.25,\n",
    "                                                                                        random_state=RANDOM_STATE) \n",
    "\n",
    "\n",
    "print(features_train_oe.shape)\n",
    "print(features_test_oe.shape)"
   ]
  },
  {
   "cell_type": "code",
   "execution_count": null,
   "metadata": {},
   "outputs": [],
   "source": [
    "features_oe.head(5)"
   ]
  },
  {
   "cell_type": "code",
   "execution_count": null,
   "metadata": {},
   "outputs": [],
   "source": [
    "enc = OrdinalEncoder(handle_unknown='use_encoded_value', unknown_value=-1)\n",
    "enc.fit(features_train_oe[['vehicle_type','registration_year', 'gearbox', 'power', \n",
    "            'model', 'kilometer','fuel_type',\n",
    "            'brand', 'repaired']])\n",
    "\n",
    "features_train_oe[['vehicle_type','registration_year', 'gearbox', 'power', \n",
    "            'model', 'kilometer','fuel_type',\n",
    "            'brand', 'repaired']] = enc.transform(features_train_oe[['vehicle_type','registration_year', 'gearbox', 'power', \n",
    "            'model', 'kilometer','fuel_type',\n",
    "            'brand', 'repaired']])\n",
    "\n",
    "features_test_oe[['vehicle_type','registration_year', 'gearbox', 'power', \n",
    "            'model', 'kilometer','fuel_type',\n",
    "            'brand', 'repaired']] = enc.transform(features_test_oe[['vehicle_type','registration_year', 'gearbox', 'power', \n",
    "            'model', 'kilometer','fuel_type',\n",
    "            'brand', 'repaired']])"
   ]
  },
  {
   "cell_type": "code",
   "execution_count": null,
   "metadata": {},
   "outputs": [],
   "source": [
    "features_train_oe.head(5)"
   ]
  },
  {
   "cell_type": "markdown",
   "metadata": {},
   "source": [
    "<div class=\"alert alert-block alert-danger\">\n",
    "<h2> Комментарий ревьюера <a class=\"tocSkip\"></h2>\n",
    "\n",
    "    \n",
    "<b>На доработку🤔:</b>\n",
    "    \n",
    "Роман, обрати, пожалуйста, внимание:\n",
    "    \n",
    "если ты проводишь кодирование с помощью кодировщиков типа OrdinalEncoder и OneHotEncoder, то стоит это делать после разделения на выборки. То есть по аналогии со StandardScaler: обучаем кодер только на тренировочной выборки, а  трансформируем все 3 с помощью него.\n",
    "    \n",
    "Это нам помогает иммитировать работу с реальными данными. В тренировочной выборке могут оказаться не все категории, которые есть в валидации или в трейне у некоторых фичей, поэтому если не настроить кодер на обработку незнакомых категорий, код будет выдавать ошибку.\n",
    "    \n",
    "За обработку незнакомых категорий в OrdinalEncoder отвечают параметры handle_unknown и unknown_value.\n",
    "    \n",
    "С применением можно ознакомиться в документации:\n",
    "    \n",
    "https://scikit-learn.org/stable/modules/generated/sklearn.preprocessing.OrdinalEncoder.html"
   ]
  },
  {
   "cell_type": "markdown",
   "metadata": {},
   "source": [
    "<div class=\"alert alert-info\">\n",
    "<h1> Комментарий студента №2</h1>\n",
    "\n",
    "Постарался исправить и настроить замену, но кроме как на 1 не понял на что ещё в данном случае заменить можно.., но RMSE куда-то в космос улетает. Посмотри пожалуйста\n",
    "</div>"
   ]
  },
  {
   "cell_type": "markdown",
   "metadata": {},
   "source": [
    "Построим модель для решающего дерева и найдем наилучшие гиперпараметры."
   ]
  },
  {
   "cell_type": "code",
   "execution_count": null,
   "metadata": {},
   "outputs": [],
   "source": [
    "'''for depth in range(3, 20, 3):\n",
    "    model = DecisionTreeRegressor(random_state=RANDOM_STATE, max_depth = depth)\n",
    "    model.fit(features_train_oe, target_train_oe)\n",
    "    predictions_train_oe = model.predict(features_train_oe)\n",
    "    rmse = mean_squared_error(target_train_oe, predictions_train_oe)**0.5\n",
    "    print('Глубина:', depth)\n",
    "    print('RMSE для решающего дерева:', rmse)\n",
    "    print('')\n",
    "print()\n",
    "\n",
    "scores = cross_val_score(model,\n",
    "                         features_train_oe,\n",
    "                         target_train_oe,\n",
    "                         cv=5)\n",
    "\n",
    "final_score = sum(scores) / len(scores)\n",
    "print('Средняя оценка качества модели:', final_score)'''"
   ]
  },
  {
   "cell_type": "markdown",
   "metadata": {},
   "source": [
    "<div class=\"alert alert-block alert-danger\">\n",
    "<h2> Комментарий ревьюера №4<a class=\"tocSkip\"></h2>\n",
    "\n",
    "    \n",
    "<b>На доработку🤔:</b>\n",
    "    \n",
    "Здесь также есть использование тестовой выборки.\n",
    "    \n",
    "Ее стоит использовать только для тестирования лучшей модели."
   ]
  },
  {
   "cell_type": "markdown",
   "metadata": {},
   "source": [
    "<div class=\"alert alert-info\">\n",
    "<h1> Комментарий студента №5</h1>\n",
    "\n",
    "Исправил.   \n",
    "</div>"
   ]
  },
  {
   "cell_type": "markdown",
   "metadata": {},
   "source": [
    "**Вывод:**\n",
    "\n",
    "\n",
    "Модель склонна к переобучению. Стоит ограничить глубину дерева до 9."
   ]
  },
  {
   "cell_type": "markdown",
   "metadata": {},
   "source": [
    "### Модель случайного леса:"
   ]
  },
  {
   "cell_type": "code",
   "execution_count": null,
   "metadata": {},
   "outputs": [],
   "source": [
    "'''%%time\n",
    "for est in [100, 500]:\n",
    "    model = RandomForestRegressor(random_state=RANDOM_STATE, \n",
    "                                   n_estimators=est, \n",
    "                                   max_depth=9)\n",
    "    model.fit(features_train_oe, target_train_oe)\n",
    "    predictions_train_oe = model.predict(features_train_oe)\n",
    "    rmse = mean_squared_error(target_train_oe, predictions_train_oe)**0.5\n",
    "    print('Количество деревьев:', est)\n",
    "    print('RMSE для случайного леса:', rmse)\n",
    "    print('')\n",
    "print()\n",
    "\n",
    "scores = cross_val_score(model,\n",
    "                         features_train_oe,\n",
    "                         target_train_oe,\n",
    "                         cv=5)\n",
    "\n",
    "final_score = sum(scores) / len(scores)\n",
    "print('Средняя оценка качества модели:', final_score)'''"
   ]
  },
  {
   "cell_type": "markdown",
   "metadata": {},
   "source": [
    "<div class=\"alert alert-block alert-danger\">\n",
    "<h2> Комментарий ревьюера №4<a class=\"tocSkip\"></h2>\n",
    "\n",
    "    \n",
    "<b>На доработку🤔:</b>\n",
    "    \n",
    "Здесь также вычисляется rmse на тестовой выборке."
   ]
  },
  {
   "cell_type": "markdown",
   "metadata": {},
   "source": [
    "<div class=\"alert alert-info\">\n",
    "<h1> Комментарий студента №5</h1>\n",
    "\n",
    "Исправил.   \n",
    "</div>"
   ]
  },
  {
   "cell_type": "markdown",
   "metadata": {},
   "source": [
    "**Вывод:**\n",
    "\n",
    "\n",
    "Разница в установленных значения количества деревьев оказало незначительное вленияие на RMSE."
   ]
  },
  {
   "cell_type": "markdown",
   "metadata": {},
   "source": [
    "### LightGBM"
   ]
  },
  {
   "cell_type": "markdown",
   "metadata": {},
   "source": [
    "Проверим версию:"
   ]
  },
  {
   "cell_type": "code",
   "execution_count": null,
   "metadata": {},
   "outputs": [],
   "source": [
    "import lightgbm\n",
    "print(lightgbm.__version__)"
   ]
  },
  {
   "cell_type": "code",
   "execution_count": null,
   "metadata": {},
   "outputs": [],
   "source": [
    "target = df['price']\n",
    "features = df.drop('price', axis=1)\n",
    "\n",
    "\n",
    "for c in features.columns:\n",
    "  col_type = features[c].dtype\n",
    "  if col_type == 'object':\n",
    "    features[c] = features[c].astype('category')\n",
    "\n",
    "\n",
    "features_train, features_test, target_train, target_test = train_test_split(features,\n",
    "                                                                            target,\n",
    "                                                                            test_size=0.25,\n",
    "                                                                            random_state=RANDOM_STATE) \n",
    "\n",
    "\n",
    "print(features_train.shape)\n",
    "print(features_test.shape)"
   ]
  },
  {
   "cell_type": "code",
   "execution_count": null,
   "metadata": {},
   "outputs": [],
   "source": [
    "#категориальные признаки для OHE\n",
    "#ohe_features_ridge = features_train.select_dtypes(include='object').columns.to_list()\n",
    "#print(ohe_features_ridge)"
   ]
  },
  {
   "cell_type": "code",
   "execution_count": null,
   "metadata": {},
   "outputs": [],
   "source": [
    "#численные признаки\n",
    "#num_features = features_train.select_dtypes(exclude='object').columns.to_list()\n",
    "#num_features"
   ]
  },
  {
   "cell_type": "code",
   "execution_count": null,
   "metadata": {},
   "outputs": [],
   "source": [
    "#X_train_light = features_train.copy()\n",
    "#X_test_light = features_test.copy()"
   ]
  },
  {
   "cell_type": "code",
   "execution_count": null,
   "metadata": {},
   "outputs": [],
   "source": [
    "#col_transformer_light = make_column_transformer(\n",
    "#    (\n",
    "#        OneHotEncoder(drop='first', handle_unknown='ignore'),\n",
    "#        ohe_features_ridge\n",
    "#    ),\n",
    "#    (\n",
    "#        StandardScaler(), \n",
    "#        num_features\n",
    "#    ),\n",
    "#    remainder='passthrough',\n",
    "#    verbose_feature_names_out=False\n",
    "#)\n",
    "#\n",
    "#X_train_light = pd.DataFrame.sparse.from_spmatrix(\n",
    "#    col_transformer_light.fit_transform(X_train_light),\n",
    "#    columns=col_transformer_light.get_feature_names_out()\n",
    "#)\n",
    "#\n",
    "#X_train_light.head()"
   ]
  },
  {
   "cell_type": "code",
   "execution_count": null,
   "metadata": {},
   "outputs": [],
   "source": [
    "## трансформируем тестовую выборку\n",
    "#X_test_light = pd.DataFrame.sparse.from_spmatrix(\n",
    "#    col_transformer_light.transform(X_test_light),\n",
    "#    columns=col_transformer_light.get_feature_names_out()\n",
    "#)\n",
    "#\n",
    "## смотрим на результат\n",
    "#X_test_light.head()"
   ]
  },
  {
   "cell_type": "markdown",
   "metadata": {},
   "source": [
    "Построим модель без подбора гиперпараметров:"
   ]
  },
  {
   "cell_type": "code",
   "execution_count": null,
   "metadata": {},
   "outputs": [],
   "source": [
    "model = lgb.LGBMRegressor(random_state=RANDOM_STATE)\n",
    "model.fit(features_train, target_train)\n",
    "predictions_train_light = model.predict(features_train)\n",
    "rmse = mean_squared_error(target_train, predictions_train_light)**0.5\n",
    "print('LightGBM RMSE:', rmse)\n",
    "\n",
    "scores = cross_val_score(model,\n",
    "                         features_train,\n",
    "                         target_train,\n",
    "                         cv=5)\n",
    "\n",
    "final_score = sum(scores) / len(scores)\n",
    "print('Средняя оценка качества модели:', final_score)"
   ]
  },
  {
   "cell_type": "markdown",
   "metadata": {},
   "source": [
    "<div class=\"alert alert-block alert-danger\">\n",
    "<h2> Комментарий ревьюера №4<a class=\"tocSkip\"></h2>\n",
    "\n",
    "    \n",
    "<b>На доработку🤔:</b>\n",
    "    \n",
    "Здесь также используется тестовая выборка для вычисления rmse.\n",
    "    \n",
    "Также стоит определиться, какой способ кодирования используется для LightGBM. На кросс-валидации не используются выборки, которые ты готовишь для внутреннего алгоритма кодирования LightGBM."
   ]
  },
  {
   "cell_type": "markdown",
   "metadata": {},
   "source": [
    "<div class=\"alert alert-info\">\n",
    "<h1> Комментарий студента №5</h1>\n",
    "\n",
    "1. Исправил.\n",
    "2. Добавил кодирование по примеру из твоей ссылки. Второе предложение не очень понял)\n",
    "</div>"
   ]
  },
  {
   "cell_type": "markdown",
   "metadata": {},
   "source": [
    "<div class=\"alert alert-block alert-danger\">\n",
    "<h2> Комментарий ревьюера №5<a class=\"tocSkip\"></h2>\n",
    "\n",
    "    \n",
    "<b>На доработку🤔:</b>\n",
    "    \n",
    "Ты все верно обработал ( я имею в виду масштабирование и кодирование), но вот только до этого исправления выбор метода кодирования категориальных признаков был более правильный для LightGBM.\n",
    "    \n",
    "Суть в том, что в данном проекте мы подбираем более подходящие методы кодирования категориальных переменных для разных моделей. То есть готовим разные выборки для разных моделей (если они используют отличающиеся методы кодирования).\n",
    "    \n",
    "Например:\n",
    "    \n",
    "1. Для линейной регресии импользуем one-hot кодирование категориальных переменных (OneHotEncoder  или get_dummies). И также масштабирование численных признаков.\n",
    "    \n",
    "2. Для моделей на основе деревьев решений подходит порядковое кодирование (OrdinalEncoder), но one-hot encoding также допускается.\n",
    "    \n",
    "3. У бустингов LightGBM и CatBoost есть свои внутренние алгоритмы кодирования категориальных переменных (у каждого свой). У тебя в этом плане все было сделано правильно, когда ты меняешь тип на category у категориальных фичей, то LightGBM понимает, какие фичи ему стоит закодировать самостоятельно.\n",
    "    \n",
    "Прочитать про это можно здесь:\n",
    "    \n",
    "https://www.kaggle.com/getting-started/203471\n",
    "    \n",
    "Пример:\n",
    "\n",
    "https://www.kaggle.com/code/mlisovyi/beware-of-categorical-features-in-lgbm\n",
    "    \n",
    "Также можно использовать порядковое кодирование для бустингов. One-hot кодирование в данном проекте мы не используем с LightGBM.\n",
    "    \n"
   ]
  },
  {
   "cell_type": "markdown",
   "metadata": {},
   "source": [
    "<div class=\"alert alert-info\">\n",
    "<h1> Комментарий студента №6</h1>\n",
    "\n",
    "Твое сообщение выше: \"1.Также стоит определиться, какой способ кодирования используется для LightGBM. 2.На кросс-валидации не используются выборки, которые ты готовишь для внутреннего алгоритма кодирования LightGBM.\"\n",
    "    \n",
    "1. Мы использовали способ кодирования в виде изменения типа на category у категориальных фичей\n",
    "2. Не очень понял, у нас не используются (а надо) или в целом не используются. Если в целом, то какие тогда используются? Нам надо было копии выборок сделать до кодирования и их в валидации использовать, если да, то надо было их скалировать и кодировать?\n",
    "\n",
    "П.С. можешь пожалуйста разжевать все и то что где исправить, у меня дедлайн горит уже сильно, надо скорее сдавать проект уже...)\n",
    "    \n",
    "</div>"
   ]
  },
  {
   "cell_type": "markdown",
   "metadata": {},
   "source": [
    "<div class=\"alert alert-success\">\n",
    "<h2> Комментарий ревьюера №6<a class=\"tocSkip\"> </h2>\n",
    "\n",
    "<b>Все отлично!👍:</b> \n",
    "    \n",
    "Роман, сейчас все верно. Ты используешь и на кросс-валидации и для тестирования выборки с category.\n",
    "    \n",
    "Мое сообщение относилось вот к такому коду (срин ниже), если обратишь внимание: для кросс-валидации ты использовал порядковое кодирование LightGBM, а тестировал в итоге на выборке с category. То есть было расхождение.\n",
    "    \n",
    "    \n"
   ]
  },
  {
   "cell_type": "markdown",
   "metadata": {},
   "source": [
    "![Снимок экрана 2023-02-05 133951.png](data:image/png;base64,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)"
   ]
  },
  {
   "cell_type": "markdown",
   "metadata": {},
   "source": [
    "![Снимок экрана 2023-02-05 134049.png](data:image/png;base64,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)"
   ]
  },
  {
   "cell_type": "markdown",
   "metadata": {},
   "source": [
    "**Вывод:**\n",
    "\n",
    "У LightGBM самая высокая средняя оценка качества модели: 0.86."
   ]
  },
  {
   "cell_type": "markdown",
   "metadata": {},
   "source": [
    "Найдем наилучшие гиперпараметры для LightGBM:"
   ]
  },
  {
   "cell_type": "code",
   "execution_count": null,
   "metadata": {},
   "outputs": [],
   "source": [
    "param_grid = {'n_estimators': [100, 200, 500],\n",
    "              'num_leaves': [n for n in range(0, 200, 20)]}"
   ]
  },
  {
   "cell_type": "markdown",
   "metadata": {},
   "source": [
    "<div class=\"alert alert-success\">\n",
    "<h2> Комментарий ревьюера <a class=\"tocSkip\"> </h2>\n",
    "\n",
    "<b>Все отлично!👍:</b> \n",
    "    \n",
    "Молодец, что подбираешь гиперпараметры. И хорошо, что используешь внутренний алгоритм кодирования для LightGBM."
   ]
  },
  {
   "cell_type": "markdown",
   "metadata": {},
   "source": [
    "<div class=\"alert alert-block alert-danger\">\n",
    "<h2> Комментарий ревьюера <a class=\"tocSkip\"></h2>\n",
    "\n",
    "    \n",
    "<b>На доработку🤔:</b>\n",
    "    \n",
    "Хотя бы для 1 одной модели стоит добавить подбор еще одного гиперпараметра (чтобы было 2).\n",
    "    "
   ]
  },
  {
   "cell_type": "markdown",
   "metadata": {},
   "source": [
    "<div class=\"alert alert-info\">\n",
    "<h1> Комментарий студента №2</h1>\n",
    "\n",
    "Добавил\n",
    "</div>"
   ]
  },
  {
   "cell_type": "markdown",
   "metadata": {},
   "source": [
    "<div class=\"alert alert-info\">\n",
    "<h1> Комментарий студента</h1>\n",
    "\n",
    "Сначала я решил взять 3 разных варината количества деревьев, 100, 500 и 1000. Но компеляция происходила чрезмерно долго (по 20 минут одну строчку) и я решил оставноиться на среднем варианте.\n",
    "    \n",
    "UPD комм.№2: после запуска на локальной машине все быстро заработало.\n",
    "</div>"
   ]
  },
  {
   "cell_type": "code",
   "execution_count": null,
   "metadata": {},
   "outputs": [],
   "source": [
    "model = lgb.LGBMRegressor(random_state=RANDOM_STATE)\n",
    "\n",
    "tuning_model=GridSearchCV(estimator=model,\n",
    "                          param_grid=param_grid,\n",
    "                          scoring='neg_root_mean_squared_error',\n",
    "                          cv=3,\n",
    "                          verbose=3)\n",
    "\n",
    "tuning_model.fit(features_train, target_train)\n",
    "display(tuning_model.best_params_)\n",
    "display(tuning_model.best_score_*-1)"
   ]
  },
  {
   "cell_type": "markdown",
   "metadata": {},
   "source": [
    "<div class=\"alert alert-info\">\n",
    "<h1> Комментарий студента</h1>\n",
    "\n",
    "Один раз скомпелировалось, после чего юпитер заглючил и проишлось все снова компелировать, и уже у меня не хватило терпения, поэтому не стал повторно это делать, а записал лучший результат\n",
    "</div>"
   ]
  },
  {
   "cell_type": "markdown",
   "metadata": {},
   "source": [
    "**Вывод:**\n",
    "\n",
    "\n",
    "Мы обучили разные модели, подобрали гиперпараметры для них и обнаружили, что модель LightGBM с гиперпараметрами 'n_estimators': 200, 'num_leaves': 180 дает наименьшее значение RMSE: 1567.25"
   ]
  },
  {
   "cell_type": "markdown",
   "metadata": {},
   "source": [
    "**Выводы по разделу:**\n",
    "\n",
    "Мы обучили 4 модели и посмотрели их RMSE:\n",
    "\n",
    "Итоги:\n",
    "\n",
    "* Линеная регрессия - RMSE: 2702.06\n",
    "* Решающее дерево RMSE: 2143.24\n",
    "* Случайны лес RMSE: 2050.46\n",
    "* LightGBM RMSE: 1567.25"
   ]
  },
  {
   "cell_type": "markdown",
   "metadata": {},
   "source": [
    "## Анализ моделей"
   ]
  },
  {
   "cell_type": "markdown",
   "metadata": {},
   "source": [
    "### Модель линейной регрессии"
   ]
  },
  {
   "cell_type": "markdown",
   "metadata": {},
   "source": [
    "Найдем время обучения модели линейной регрессии:"
   ]
  },
  {
   "cell_type": "code",
   "execution_count": null,
   "metadata": {},
   "outputs": [],
   "source": [
    "%%time\n",
    "\n",
    "model = LinearRegression()\n",
    "model.fit(features_train_ohe, target_train_ohe)"
   ]
  },
  {
   "cell_type": "code",
   "execution_count": null,
   "metadata": {},
   "outputs": [],
   "source": [
    "%%time\n",
    "\n",
    "predictions_train_ohe = model.predict(features_train_ohe)"
   ]
  },
  {
   "cell_type": "markdown",
   "metadata": {},
   "source": [
    "<div class=\"alert alert-block alert-danger\">\n",
    "<h2> Комментарий ревьюера №4<a class=\"tocSkip\"></h2>\n",
    "\n",
    "    \n",
    "<b>На доработку🤔:</b>\n",
    "    \n",
    "Здесь также используется тестовая выборка для измерения времени на predict, стоит заменить на тренировочную."
   ]
  },
  {
   "cell_type": "markdown",
   "metadata": {},
   "source": [
    "<div class=\"alert alert-info\">\n",
    "<h1> Комментарий студента №5</h1>\n",
    "\n",
    "Исправил.   \n",
    "</div>"
   ]
  },
  {
   "cell_type": "markdown",
   "metadata": {},
   "source": [
    "### Модель решающего дерева"
   ]
  },
  {
   "cell_type": "markdown",
   "metadata": {},
   "source": [
    "Найдем время обучения модели решающего дерева:"
   ]
  },
  {
   "cell_type": "code",
   "execution_count": null,
   "metadata": {},
   "outputs": [],
   "source": [
    "%%time\n",
    "\n",
    "model = DecisionTreeRegressor(random_state=RANDOM_STATE, max_depth=9)\n",
    "model.fit(features_train_oe, target_train_oe)"
   ]
  },
  {
   "cell_type": "code",
   "execution_count": null,
   "metadata": {},
   "outputs": [],
   "source": [
    "%%time\n",
    "\n",
    "predictions_train_oe = model.predict(features_train_oe)"
   ]
  },
  {
   "cell_type": "markdown",
   "metadata": {},
   "source": [
    "### Модель случайного леса"
   ]
  },
  {
   "cell_type": "markdown",
   "metadata": {},
   "source": [
    "Обучим модель случайного леса:"
   ]
  },
  {
   "cell_type": "code",
   "execution_count": null,
   "metadata": {},
   "outputs": [],
   "source": [
    "%%time\n",
    "\n",
    "model = RandomForestRegressor(random_state=RANDOM_STATE, max_depth=9, n_estimators=1000)\n",
    "model.fit(features_train_oe, target_train_oe)"
   ]
  },
  {
   "cell_type": "code",
   "execution_count": null,
   "metadata": {},
   "outputs": [],
   "source": [
    "%%time\n",
    "\n",
    "predictions_train_oe = model.predict(features_train_oe)"
   ]
  },
  {
   "cell_type": "markdown",
   "metadata": {},
   "source": [
    "### Модель LightGBM"
   ]
  },
  {
   "cell_type": "markdown",
   "metadata": {},
   "source": [
    "Найдем время обучения LightGBM:"
   ]
  },
  {
   "cell_type": "code",
   "execution_count": null,
   "metadata": {},
   "outputs": [],
   "source": [
    "%%time\n",
    "model = lgb.LGBMRegressor(random_state=RANDOM_STATE,\n",
    "                          n_estimators=200,\n",
    "                          num_leaves=180)\n",
    "model.fit(features_train, target_train)"
   ]
  },
  {
   "cell_type": "code",
   "execution_count": null,
   "metadata": {},
   "outputs": [],
   "source": [
    "%%time\n",
    "\n",
    "predictions_train = model.predict(features_train)"
   ]
  },
  {
   "cell_type": "code",
   "execution_count": null,
   "metadata": {},
   "outputs": [],
   "source": [
    "predictions_test = model.predict(features_test)\n",
    "rmse = mean_squared_error(target_test, predictions_test)**0.5\n",
    "print('RMSE', rmse)"
   ]
  },
  {
   "cell_type": "markdown",
   "metadata": {},
   "source": [
    "<div class=\"alert alert-success\">\n",
    "<h2> Комментарий ревьюера <a class=\"tocSkip\"> </h2>\n",
    "\n",
    "<b>Все отлично!👍:</b> \n",
    "    \n",
    "Молодец, что измеряешь время на fit и на predict отдельно для каждой модели.\n",
    "    \n",
    "Молодец, что проверяешь на тестовой выборке только лучшую модель.\n",
    "    "
   ]
  },
  {
   "cell_type": "markdown",
   "metadata": {},
   "source": [
    "Посмотрим на самые значимые признаки:"
   ]
  },
  {
   "cell_type": "code",
   "execution_count": null,
   "metadata": {},
   "outputs": [],
   "source": [
    "lgb.plot_importance(model, height=.5)"
   ]
  },
  {
   "cell_type": "code",
   "execution_count": null,
   "metadata": {},
   "outputs": [],
   "source": [
    "x_ax = range(len(target_test))\n",
    "plt.figure(figsize=(12, 6))\n",
    "plt.plot(x_ax, target_test, label=\"original\")\n",
    "plt.plot(x_ax, predictions_test, label=\"predicted\")\n",
    "plt.title(\"Определение стоимости автомобилей: тестовые и предсказанные данные\")\n",
    "plt.xlabel('features')\n",
    "plt.ylabel('Price')\n",
    "plt.legend(loc='best',fancybox=True, shadow=True)\n",
    "plt.grid(True)\n",
    "plt.show()  "
   ]
  },
  {
   "cell_type": "markdown",
   "metadata": {},
   "source": [
    "**Общий вывод по разделу:**\n",
    "\n",
    "\n",
    "Дольше всего учится модель случайного леса: 3 мин 22 сек. Модель LightGBM имеет приемлемую скорость обучения и предсказания 12.4 сек и при этом самую низкую RMSE из всех моделей: на тестовой выборке результат 1567.25"
   ]
  },
  {
   "cell_type": "markdown",
   "metadata": {},
   "source": [
    "<div class=\"alert alert-success\">\n",
    "<h2> Комментарий ревьюера <a class=\"tocSkip\"> </h2>\n",
    "\n",
    "<b>Все отлично!👍:</b> \n",
    "    \n",
    "Отлично, что оцениваешь важность признаков для модели."
   ]
  },
  {
   "cell_type": "markdown",
   "metadata": {},
   "source": [
    "## Общий вывод"
   ]
  },
  {
   "cell_type": "markdown",
   "metadata": {},
   "source": [
    "На входе мы получили таблицу с более чем 264 тыс. строк и 321 столбцов размером 89 МВ. Мы перевели названия столбцов в более читаемый нижний и змеиный регистр, удалили неинформативные столбцы, заполнили пропуски и предложили варианты их заполнения, избавились от аномалий, удалили дубликаты.\n",
    "\n",
    "Для модели линейной регрессии перевели категориальные значения столбцов в количественные. Для моделей решающего дерева и случайного леса применили порядковое кодирование, в итоге подбор гиперпараметров стал быстрее. Мы обучили 4 разные модели, подобрали гиперпараметры для них и обнаружили, что модель LightGBM с гиперпараметрами 'n_estimators': 200, 'num_leaves': 180 дает наименьшее значение rmse: 1567.25\n",
    "\n",
    "Мы проанализировали 4 модели и обнаружили, что дольше всего учится модель случайного леса: 2 мин 24 сек. Модель LightGBM имеет приемлемую скорость обучения и предсказания 12.4 сек и при этом самую низкую RMSE из всех моделей: на тестовой выборке результат 1567.25\n",
    "\n",
    "**Итог:**\n",
    "\n",
    "Исходя из требований заказчика мы рекомендуем модель LightGBM, которая показала лучшие результаты по всем параметрам."
   ]
  },
  {
   "cell_type": "markdown",
   "metadata": {},
   "source": [
    "<div class=\"alert alert-success\">\n",
    "<h2> Комментарий ревьюера <a class=\"tocSkip\"> </h2>\n",
    "\n",
    "<b>Все отлично!👍</b> "
   ]
  },
  {
   "cell_type": "markdown",
   "metadata": {},
   "source": [
    "<div class=\"alert alert-warning\">\n",
    "    <h2> Комментарий ревьюера <a class=\"tocSkip\"> </h2>\n",
    "    \n",
    "<b>Некоторые замечания и рекомендации💡:</b> \n",
    "        \n",
    "Здесь я оставлю несколько интересных и полезных ссылок по теме:\n",
    "        \n",
    "        \n",
    "1. \"XGBoost, LightGBM or CatBoost — which boosting algorithm should I use?\"\n",
    "\n",
    "https://medium.com/riskified-technology/xgboost-lightgbm-or-catboost-which-boosting-algorithm-should-i-use-e7fda7bb36bc\n",
    "        \n",
    "        \n",
    "2. \"Transforming categorical features to numerical features\"\n",
    "        \n",
    "https://catboost.ai/en/docs/concepts/algorithm-main-stages_cat-to-numberic\n",
    "        \n",
    "        \n",
    "3. \"Градиентный Бустинг: самый частый вопрос на собеседовании на дата саентиста\"\n",
    "        \n",
    "https://www.youtube.com/watch?v=ZNJ3lKyI-EY\n",
    "        \n",
    "4. \"Tutorial: CatBoost Overview\"\n",
    "        \n",
    "https://www.kaggle.com/code/mitribunskiy/tutorial-catboost-overview/notebook\n",
    "        \n",
    "5. \"Gradient Boosting from scratch\"\n",
    "        \n",
    "https://blog.mlreview.com/gradient-boosting-from-scratch-1e317ae4587d"
   ]
  },
  {
   "cell_type": "markdown",
   "metadata": {},
   "source": [
    "<div style=\"border:solid Chocolate 2px; padding: 40px\">\n",
    "    \n",
    "<b>Общий вывод по проекту</b>\n",
    "\n",
    "Роман, спасибо за работу! Проект отличный, продуманный, структурно выдержанный и аккуратный. Видно, что ты вдумчиво подходишь к работе. Однако стоит внести некоторые исправления, чтобы можно было считать проект завершенным.\n",
    "\n",
    "**Положительные моменты проекта, которые хочу еще раз подчеркнуть:**\n",
    "\n",
    "1. Удалены все лишние признаки и константный признак\n",
    "2. Есть промежуточные выводы по ходу анализа признаков\n",
    "3. Есть обработка некорректных и пропущенных значений\n",
    "4. Кодирование категориальных признаков осуществляется.\n",
    "5. Есть анализ времени предсказания и обучения моделей, а также их качества\n",
    "6. Предложена модель с учетом времени обучения и предсказания, а также качества работы\n",
    "7. Аккуратность кода на высоком уровне.\n",
    "8. Масштабирование численных призаков осуществляется \n",
    "9. Использованы разные методы кодирования категориальных переменных.\n",
    "    \n",
    "**Замечания, на которые стоит обратить внимание при будущей работе:**\n",
    "    \n",
    "    1. Кодировать с помощью OrdinalEncoder после разделения на выборки\n",
    "    2. Модели выбирать по результатам кросс-валидации (если есть только трейн и тест)\n",
    "    3. Придумать способ заполнения пропусков\n",
    "    4. Обработать аномалии в Price\n",
    "    5. Пересмотреть верхнюю границу года регистрации.\n",
    "    6. Добавить подбор еще одного параметра хотя бы еще для одной модели.\n",
    "\n",
    "    \n",
    "    \n",
    "Остальные комментарии ты найдешь выше.\n",
    "\n",
    "**Желаю удачи и жду твой проект на повторное ревью!**"
   ]
  },
  {
   "cell_type": "markdown",
   "metadata": {},
   "source": [
    "<div style=\"border:solid Chocolate 2px; padding: 40px\">\n",
    "    \n",
    "<b>Общий вывод по проекту №2</b>\n",
    "\n",
    "Роман, спасибо за работу! \n",
    "    \n",
    "Что осталось поправить:\n",
    "    \n",
    "    1. Если есть только 2 выборки (трейн и тест), то качество в процессе анализа стоит смотреть на кросс-валидации. Либо дополнительно выделить валидационную (третью выборку)\n",
    "    \n",
    "**Жду твой проект на следующее ревью**\n",
    "    "
   ]
  },
  {
   "cell_type": "markdown",
   "metadata": {},
   "source": [
    "<div style=\"border:solid Chocolate 2px; padding: 40px\">\n",
    "    \n",
    "<b>Общий вывод по проекту №3</b>\n",
    "\n",
    "Роман, спасибо за работу! \n",
    "    \n",
    "Кросс-валидация проводится на тренировочной выборке.\n",
    "    \n",
    "Тестовая выборка нужна для контроля качества лучшей модели.\n",
    "    \n",
    "**Жду твой проект на следующее ревью**"
   ]
  },
  {
   "cell_type": "markdown",
   "metadata": {},
   "source": [
    "<div style=\"border:solid Chocolate 2px; padding: 40px\">\n",
    "    \n",
    "<b>Общий вывод по проекту №4</b>\n",
    "\n",
    "Роман, спасибо за работу! \n",
    "    \n",
    "Пожалуйста, исключи использование тестовой выборки вплоть до момента тестирования лучшей модели (которое у тебя проведено корректно). Выше я указала места, где стоит это сделать.\n",
    "    \n",
    "Также для LightGBM стоит определиться с методом кодирования. Правильнее для тестирования использовать тот метод кодирования, который ты используешь для кросс-валидации (потому что выбор ты делаешь именно исходя из этого результата).\n",
    "    \n",
    "**Жду твой проект на следующее ревью**\n",
    "    \n"
   ]
  },
  {
   "cell_type": "markdown",
   "metadata": {},
   "source": [
    "<div class=\"alert alert-info\">\n",
    "<h1> Комментарий студента №6</h1>\n",
    "\n",
    "Спасибо за проверку! Я все перепроверил несколько раз, но я ещё в прошлое ревью исключил везде тестовую выборку при аналезе моделей. Она у меня используется только для тестирования лучшей модели. Если нет, можно пожалуйста указать место, а то не могу найти ошибку свою, к сожалению. \n",
    "    \n",
    "    \n",
    "С методом кодирования определился. Во время финального тестирования я использую тестовую выборку, которая была так же закодирована как обучающая, не понимаю, что не так. Для кросс-валидации я использую обучающую выборку, которая тем же методом закодирвана. Кажется, все исправил, либо я просто не понимаю о чем речь...\n",
    "</div>"
   ]
  },
  {
   "cell_type": "markdown",
   "metadata": {},
   "source": [
    "<div style=\"border:solid Chocolate 2px; padding: 40px\">\n",
    "    \n",
    "<b>Общий вывод по проекту №6</b>\n",
    "    \n",
    "Роман, спасибо за работу!\n",
    "    \n",
    "Прости, в прошлый раз я не оставила вывод, поспешила, поэтому этот вывод относится к позапрошлой итерации. То что ты все сделал еще в прошлый раз, я все видела. Но также поменял метод кодирования для LightGBM, так что в прошлый раз вопрос был только к этому.\n",
    "    \n",
    "Какое расхождение у выборок было на 4 итерации, я приложила скрины, надеюсь, немного распутается клубок из итераций и станет яснее)\n",
    "    \n",
    "Конечно, работу принимаю, сейчас уже все отлично, ты молодец.\n",
    "    \n",
    "**Проект принимаю и желаю успехов в дальнейшем!**"
   ]
  }
 ],
 "metadata": {
  "ExecuteTimeLog": [
   {
    "duration": 3663,
    "start_time": "2023-01-27T09:53:02.219Z"
   },
   {
    "duration": 2048,
    "start_time": "2023-01-27T10:00:11.810Z"
   },
   {
    "duration": 1648,
    "start_time": "2023-01-27T10:00:13.860Z"
   },
   {
    "duration": 3,
    "start_time": "2023-01-27T10:00:15.511Z"
   },
   {
    "duration": 163,
    "start_time": "2023-01-27T10:00:15.516Z"
   },
   {
    "duration": 0,
    "start_time": "2023-01-27T10:00:15.683Z"
   },
   {
    "duration": 0,
    "start_time": "2023-01-27T10:00:15.685Z"
   },
   {
    "duration": 0,
    "start_time": "2023-01-27T10:00:15.686Z"
   },
   {
    "duration": 0,
    "start_time": "2023-01-27T10:00:15.688Z"
   },
   {
    "duration": 0,
    "start_time": "2023-01-27T10:00:15.689Z"
   },
   {
    "duration": 0,
    "start_time": "2023-01-27T10:00:15.690Z"
   },
   {
    "duration": 0,
    "start_time": "2023-01-27T10:00:15.692Z"
   },
   {
    "duration": 0,
    "start_time": "2023-01-27T10:00:15.693Z"
   },
   {
    "duration": 0,
    "start_time": "2023-01-27T10:00:15.694Z"
   },
   {
    "duration": 0,
    "start_time": "2023-01-27T10:00:15.695Z"
   },
   {
    "duration": 0,
    "start_time": "2023-01-27T10:00:15.696Z"
   },
   {
    "duration": 0,
    "start_time": "2023-01-27T10:00:15.697Z"
   },
   {
    "duration": 0,
    "start_time": "2023-01-27T10:00:15.698Z"
   },
   {
    "duration": 0,
    "start_time": "2023-01-27T10:00:15.699Z"
   },
   {
    "duration": 0,
    "start_time": "2023-01-27T10:00:15.701Z"
   },
   {
    "duration": 0,
    "start_time": "2023-01-27T10:00:15.702Z"
   },
   {
    "duration": 0,
    "start_time": "2023-01-27T10:00:15.703Z"
   },
   {
    "duration": 0,
    "start_time": "2023-01-27T10:00:15.704Z"
   },
   {
    "duration": 0,
    "start_time": "2023-01-27T10:00:15.705Z"
   },
   {
    "duration": 0,
    "start_time": "2023-01-27T10:00:15.706Z"
   },
   {
    "duration": 0,
    "start_time": "2023-01-27T10:00:15.707Z"
   },
   {
    "duration": 0,
    "start_time": "2023-01-27T10:00:15.708Z"
   },
   {
    "duration": 0,
    "start_time": "2023-01-27T10:00:15.710Z"
   },
   {
    "duration": 0,
    "start_time": "2023-01-27T10:00:15.711Z"
   },
   {
    "duration": 0,
    "start_time": "2023-01-27T10:00:15.712Z"
   },
   {
    "duration": 0,
    "start_time": "2023-01-27T10:00:15.713Z"
   },
   {
    "duration": 0,
    "start_time": "2023-01-27T10:00:15.715Z"
   },
   {
    "duration": 0,
    "start_time": "2023-01-27T10:00:15.716Z"
   },
   {
    "duration": 0,
    "start_time": "2023-01-27T10:00:15.717Z"
   },
   {
    "duration": 0,
    "start_time": "2023-01-27T10:00:15.719Z"
   },
   {
    "duration": 0,
    "start_time": "2023-01-27T10:00:15.720Z"
   },
   {
    "duration": 0,
    "start_time": "2023-01-27T10:00:15.782Z"
   },
   {
    "duration": 0,
    "start_time": "2023-01-27T10:00:15.784Z"
   },
   {
    "duration": 0,
    "start_time": "2023-01-27T10:00:15.785Z"
   },
   {
    "duration": 0,
    "start_time": "2023-01-27T10:00:15.786Z"
   },
   {
    "duration": 0,
    "start_time": "2023-01-27T10:00:15.787Z"
   },
   {
    "duration": 0,
    "start_time": "2023-01-27T10:00:15.788Z"
   },
   {
    "duration": 0,
    "start_time": "2023-01-27T10:00:15.790Z"
   },
   {
    "duration": 0,
    "start_time": "2023-01-27T10:00:15.791Z"
   },
   {
    "duration": 0,
    "start_time": "2023-01-27T10:00:15.793Z"
   },
   {
    "duration": 0,
    "start_time": "2023-01-27T10:00:15.794Z"
   },
   {
    "duration": 0,
    "start_time": "2023-01-27T10:00:15.795Z"
   },
   {
    "duration": 0,
    "start_time": "2023-01-27T10:00:15.796Z"
   },
   {
    "duration": 0,
    "start_time": "2023-01-27T10:00:15.797Z"
   },
   {
    "duration": 0,
    "start_time": "2023-01-27T10:00:15.798Z"
   },
   {
    "duration": 0,
    "start_time": "2023-01-27T10:00:15.799Z"
   },
   {
    "duration": 0,
    "start_time": "2023-01-27T10:00:15.800Z"
   },
   {
    "duration": 0,
    "start_time": "2023-01-27T10:00:15.802Z"
   },
   {
    "duration": 0,
    "start_time": "2023-01-27T10:00:15.803Z"
   },
   {
    "duration": 0,
    "start_time": "2023-01-27T10:00:15.804Z"
   },
   {
    "duration": 0,
    "start_time": "2023-01-27T10:00:15.806Z"
   },
   {
    "duration": 2142,
    "start_time": "2023-01-27T10:02:10.584Z"
   },
   {
    "duration": 1512,
    "start_time": "2023-01-27T10:02:12.728Z"
   },
   {
    "duration": 3,
    "start_time": "2023-01-27T10:02:14.241Z"
   },
   {
    "duration": 3178,
    "start_time": "2023-01-27T10:02:14.246Z"
   },
   {
    "duration": 96,
    "start_time": "2023-01-27T10:02:17.427Z"
   },
   {
    "duration": 22,
    "start_time": "2023-01-27T10:02:17.525Z"
   },
   {
    "duration": 67,
    "start_time": "2023-01-27T10:02:17.549Z"
   },
   {
    "duration": 26,
    "start_time": "2023-01-27T10:02:17.618Z"
   },
   {
    "duration": 203,
    "start_time": "2023-01-27T10:02:17.645Z"
   },
   {
    "duration": 240,
    "start_time": "2023-01-27T10:02:17.851Z"
   },
   {
    "duration": 1457,
    "start_time": "2023-01-27T10:02:18.093Z"
   },
   {
    "duration": 44,
    "start_time": "2023-01-27T10:02:19.552Z"
   },
   {
    "duration": 33,
    "start_time": "2023-01-27T10:02:19.598Z"
   },
   {
    "duration": 5,
    "start_time": "2023-01-27T10:02:19.633Z"
   },
   {
    "duration": 43,
    "start_time": "2023-01-27T10:02:19.640Z"
   },
   {
    "duration": 143,
    "start_time": "2023-01-27T10:02:19.685Z"
   },
   {
    "duration": 76,
    "start_time": "2023-01-27T10:02:19.830Z"
   },
   {
    "duration": 662,
    "start_time": "2023-01-27T10:02:19.908Z"
   },
   {
    "duration": 35,
    "start_time": "2023-01-27T10:02:20.571Z"
   },
   {
    "duration": 62,
    "start_time": "2023-01-27T10:02:20.608Z"
   },
   {
    "duration": 12,
    "start_time": "2023-01-27T10:02:20.682Z"
   },
   {
    "duration": 9,
    "start_time": "2023-01-27T10:02:20.696Z"
   },
   {
    "duration": 65,
    "start_time": "2023-01-27T10:02:20.707Z"
   },
   {
    "duration": 18,
    "start_time": "2023-01-27T10:02:20.780Z"
   },
   {
    "duration": 428,
    "start_time": "2023-01-27T10:02:20.800Z"
   },
   {
    "duration": 6748,
    "start_time": "2023-01-27T10:02:21.230Z"
   },
   {
    "duration": 122,
    "start_time": "2023-01-27T10:02:27.981Z"
   },
   {
    "duration": 11,
    "start_time": "2023-01-27T10:02:28.107Z"
   },
   {
    "duration": 480,
    "start_time": "2023-01-27T10:02:28.120Z"
   },
   {
    "duration": 389,
    "start_time": "2023-01-27T10:02:28.601Z"
   },
   {
    "duration": 3,
    "start_time": "2023-01-27T10:02:28.992Z"
   },
   {
    "duration": 15982,
    "start_time": "2023-01-27T10:02:28.997Z"
   },
   {
    "duration": 29,
    "start_time": "2023-01-27T10:02:44.981Z"
   },
   {
    "duration": 49,
    "start_time": "2023-01-27T10:02:45.012Z"
   },
   {
    "duration": 17427,
    "start_time": "2023-01-27T10:02:45.063Z"
   },
   {
    "duration": 218,
    "start_time": "2023-01-27T10:03:02.583Z"
   },
   {
    "duration": 0,
    "start_time": "2023-01-27T10:03:02.803Z"
   },
   {
    "duration": 0,
    "start_time": "2023-01-27T10:03:02.805Z"
   },
   {
    "duration": 0,
    "start_time": "2023-01-27T10:03:02.806Z"
   },
   {
    "duration": 0,
    "start_time": "2023-01-27T10:03:02.807Z"
   },
   {
    "duration": 0,
    "start_time": "2023-01-27T10:03:02.808Z"
   },
   {
    "duration": 0,
    "start_time": "2023-01-27T10:03:02.810Z"
   },
   {
    "duration": 0,
    "start_time": "2023-01-27T10:03:02.811Z"
   },
   {
    "duration": 0,
    "start_time": "2023-01-27T10:03:02.813Z"
   },
   {
    "duration": 0,
    "start_time": "2023-01-27T10:03:02.814Z"
   },
   {
    "duration": 0,
    "start_time": "2023-01-27T10:03:02.815Z"
   },
   {
    "duration": 0,
    "start_time": "2023-01-27T10:03:02.817Z"
   },
   {
    "duration": 1,
    "start_time": "2023-01-27T10:03:02.817Z"
   },
   {
    "duration": 0,
    "start_time": "2023-01-27T10:03:02.819Z"
   },
   {
    "duration": 0,
    "start_time": "2023-01-27T10:03:02.820Z"
   },
   {
    "duration": 0,
    "start_time": "2023-01-27T10:03:02.821Z"
   },
   {
    "duration": 0,
    "start_time": "2023-01-27T10:03:02.822Z"
   },
   {
    "duration": 0,
    "start_time": "2023-01-27T10:03:02.823Z"
   },
   {
    "duration": 0,
    "start_time": "2023-01-27T10:03:02.824Z"
   },
   {
    "duration": 0,
    "start_time": "2023-01-27T10:03:02.826Z"
   },
   {
    "duration": 99,
    "start_time": "2023-01-27T10:03:19.661Z"
   },
   {
    "duration": 95,
    "start_time": "2023-01-27T10:03:55.378Z"
   },
   {
    "duration": 1019,
    "start_time": "2023-01-27T10:04:02.289Z"
   },
   {
    "duration": 68,
    "start_time": "2023-01-27T10:05:29.336Z"
   },
   {
    "duration": 45,
    "start_time": "2023-01-27T10:06:44.358Z"
   },
   {
    "duration": 335940,
    "start_time": "2023-01-27T10:07:26.633Z"
   },
   {
    "duration": 2047,
    "start_time": "2023-01-27T10:14:14.503Z"
   },
   {
    "duration": 15232,
    "start_time": "2023-01-27T10:15:24.652Z"
   },
   {
    "duration": 9,
    "start_time": "2023-01-27T10:21:58.202Z"
   },
   {
    "duration": 4,
    "start_time": "2023-01-27T10:22:31.902Z"
   },
   {
    "duration": 39,
    "start_time": "2023-01-27T10:23:54.016Z"
   },
   {
    "duration": 33256,
    "start_time": "2023-01-27T10:27:05.238Z"
   },
   {
    "duration": 4,
    "start_time": "2023-01-27T10:28:14.886Z"
   },
   {
    "duration": 2272,
    "start_time": "2023-01-27T11:54:24.545Z"
   },
   {
    "duration": 1512,
    "start_time": "2023-01-27T11:54:26.819Z"
   },
   {
    "duration": 2,
    "start_time": "2023-01-27T11:54:28.333Z"
   },
   {
    "duration": 1134,
    "start_time": "2023-01-27T11:54:28.337Z"
   },
   {
    "duration": 136,
    "start_time": "2023-01-27T11:54:29.473Z"
   },
   {
    "duration": 20,
    "start_time": "2023-01-27T11:54:29.611Z"
   },
   {
    "duration": 73,
    "start_time": "2023-01-27T11:54:29.633Z"
   },
   {
    "duration": 32,
    "start_time": "2023-01-27T11:54:29.708Z"
   },
   {
    "duration": 233,
    "start_time": "2023-01-27T11:54:29.742Z"
   },
   {
    "duration": 288,
    "start_time": "2023-01-27T11:54:29.983Z"
   },
   {
    "duration": 1705,
    "start_time": "2023-01-27T11:54:30.273Z"
   },
   {
    "duration": 34,
    "start_time": "2023-01-27T11:54:31.981Z"
   },
   {
    "duration": 35,
    "start_time": "2023-01-27T11:54:32.017Z"
   },
   {
    "duration": 5,
    "start_time": "2023-01-27T11:54:32.053Z"
   },
   {
    "duration": 65,
    "start_time": "2023-01-27T11:54:32.060Z"
   },
   {
    "duration": 132,
    "start_time": "2023-01-27T11:54:32.126Z"
   },
   {
    "duration": 78,
    "start_time": "2023-01-27T11:54:32.260Z"
   },
   {
    "duration": 712,
    "start_time": "2023-01-27T11:54:32.339Z"
   },
   {
    "duration": 47,
    "start_time": "2023-01-27T11:54:33.053Z"
   },
   {
    "duration": 56,
    "start_time": "2023-01-27T11:54:33.102Z"
   },
   {
    "duration": 12,
    "start_time": "2023-01-27T11:54:33.159Z"
   },
   {
    "duration": 25,
    "start_time": "2023-01-27T11:54:33.182Z"
   },
   {
    "duration": 70,
    "start_time": "2023-01-27T11:54:33.208Z"
   },
   {
    "duration": 33,
    "start_time": "2023-01-27T11:54:33.280Z"
   },
   {
    "duration": 461,
    "start_time": "2023-01-27T11:54:33.314Z"
   },
   {
    "duration": 7245,
    "start_time": "2023-01-27T11:54:33.776Z"
   },
   {
    "duration": 124,
    "start_time": "2023-01-27T11:54:41.023Z"
   },
   {
    "duration": 13,
    "start_time": "2023-01-27T11:54:41.151Z"
   },
   {
    "duration": 531,
    "start_time": "2023-01-27T11:54:41.166Z"
   },
   {
    "duration": 376,
    "start_time": "2023-01-27T11:54:41.699Z"
   },
   {
    "duration": 7,
    "start_time": "2023-01-27T11:54:42.077Z"
   },
   {
    "duration": 15971,
    "start_time": "2023-01-27T11:54:42.088Z"
   },
   {
    "duration": 36,
    "start_time": "2023-01-27T11:54:58.061Z"
   },
   {
    "duration": 18,
    "start_time": "2023-01-27T11:54:58.099Z"
   },
   {
    "duration": 37671,
    "start_time": "2023-01-27T11:54:58.119Z"
   },
   {
    "duration": 1243,
    "start_time": "2023-01-27T11:55:35.792Z"
   },
   {
    "duration": 56,
    "start_time": "2023-01-27T11:55:37.037Z"
   },
   {
    "duration": 2158,
    "start_time": "2023-01-27T11:55:37.095Z"
   },
   {
    "duration": 367843,
    "start_time": "2023-01-27T11:55:39.255Z"
   },
   {
    "duration": 3,
    "start_time": "2023-01-27T12:01:47.100Z"
   },
   {
    "duration": 44,
    "start_time": "2023-01-27T12:01:47.105Z"
   },
   {
    "duration": 390645,
    "start_time": "2023-01-27T12:01:47.151Z"
   },
   {
    "duration": 3,
    "start_time": "2023-01-27T12:08:17.798Z"
   },
   {
    "duration": 164181,
    "start_time": "2023-01-27T12:08:17.803Z"
   },
   {
    "duration": 0,
    "start_time": "2023-01-27T12:11:01.986Z"
   },
   {
    "duration": 0,
    "start_time": "2023-01-27T12:11:01.986Z"
   },
   {
    "duration": 0,
    "start_time": "2023-01-27T12:11:01.987Z"
   },
   {
    "duration": 0,
    "start_time": "2023-01-27T12:11:01.988Z"
   },
   {
    "duration": 0,
    "start_time": "2023-01-27T12:11:01.990Z"
   },
   {
    "duration": 0,
    "start_time": "2023-01-27T12:11:01.990Z"
   },
   {
    "duration": 0,
    "start_time": "2023-01-27T12:11:01.991Z"
   },
   {
    "duration": 0,
    "start_time": "2023-01-27T12:11:01.992Z"
   },
   {
    "duration": 0,
    "start_time": "2023-01-27T12:11:01.993Z"
   },
   {
    "duration": 0,
    "start_time": "2023-01-27T12:11:01.994Z"
   },
   {
    "duration": 0,
    "start_time": "2023-01-27T12:11:01.995Z"
   },
   {
    "duration": 0,
    "start_time": "2023-01-27T12:11:01.997Z"
   },
   {
    "duration": 0,
    "start_time": "2023-01-27T12:11:01.999Z"
   },
   {
    "duration": 3,
    "start_time": "2023-01-27T12:11:23.509Z"
   },
   {
    "duration": 3,
    "start_time": "2023-01-27T13:32:27.068Z"
   },
   {
    "duration": 667409,
    "start_time": "2023-01-27T13:32:28.991Z"
   },
   {
    "duration": 2165,
    "start_time": "2023-01-27T13:47:13.889Z"
   },
   {
    "duration": 5,
    "start_time": "2023-01-27T13:47:16.057Z"
   },
   {
    "duration": 10,
    "start_time": "2023-01-27T13:47:16.065Z"
   },
   {
    "duration": 1012,
    "start_time": "2023-01-27T13:47:16.077Z"
   },
   {
    "duration": 81,
    "start_time": "2023-01-27T13:47:17.090Z"
   },
   {
    "duration": 15,
    "start_time": "2023-01-27T13:47:17.182Z"
   },
   {
    "duration": 55,
    "start_time": "2023-01-27T13:47:17.198Z"
   },
   {
    "duration": 44,
    "start_time": "2023-01-27T13:47:17.255Z"
   },
   {
    "duration": 164,
    "start_time": "2023-01-27T13:47:17.303Z"
   },
   {
    "duration": 212,
    "start_time": "2023-01-27T13:47:17.469Z"
   },
   {
    "duration": 1446,
    "start_time": "2023-01-27T13:47:17.683Z"
   },
   {
    "duration": 24,
    "start_time": "2023-01-27T13:47:19.130Z"
   },
   {
    "duration": 40,
    "start_time": "2023-01-27T13:47:19.155Z"
   },
   {
    "duration": 5,
    "start_time": "2023-01-27T13:47:19.196Z"
   },
   {
    "duration": 32,
    "start_time": "2023-01-27T13:47:19.202Z"
   },
   {
    "duration": 75,
    "start_time": "2023-01-27T13:47:19.236Z"
   },
   {
    "duration": 75,
    "start_time": "2023-01-27T13:47:19.312Z"
   },
   {
    "duration": 697,
    "start_time": "2023-01-27T13:47:19.388Z"
   },
   {
    "duration": 34,
    "start_time": "2023-01-27T13:47:20.088Z"
   },
   {
    "duration": 69,
    "start_time": "2023-01-27T13:47:20.124Z"
   },
   {
    "duration": 14,
    "start_time": "2023-01-27T13:47:20.196Z"
   },
   {
    "duration": 15,
    "start_time": "2023-01-27T13:47:20.212Z"
   },
   {
    "duration": 85,
    "start_time": "2023-01-27T13:47:20.229Z"
   },
   {
    "duration": 28,
    "start_time": "2023-01-27T13:47:20.316Z"
   },
   {
    "duration": 534,
    "start_time": "2023-01-27T13:47:20.347Z"
   },
   {
    "duration": 6646,
    "start_time": "2023-01-27T13:47:20.883Z"
   },
   {
    "duration": 123,
    "start_time": "2023-01-27T13:47:27.533Z"
   },
   {
    "duration": 12,
    "start_time": "2023-01-27T13:47:27.657Z"
   },
   {
    "duration": 447,
    "start_time": "2023-01-27T13:47:27.670Z"
   },
   {
    "duration": 380,
    "start_time": "2023-01-27T13:47:28.119Z"
   },
   {
    "duration": 4,
    "start_time": "2023-01-27T13:47:28.501Z"
   },
   {
    "duration": 2074,
    "start_time": "2023-01-27T13:47:59.294Z"
   },
   {
    "duration": 1445,
    "start_time": "2023-01-27T13:48:01.371Z"
   },
   {
    "duration": 2,
    "start_time": "2023-01-27T13:48:02.818Z"
   },
   {
    "duration": 3040,
    "start_time": "2023-01-27T13:48:02.822Z"
   },
   {
    "duration": 74,
    "start_time": "2023-01-27T13:48:05.864Z"
   },
   {
    "duration": 17,
    "start_time": "2023-01-27T13:48:05.941Z"
   },
   {
    "duration": 63,
    "start_time": "2023-01-27T13:48:05.959Z"
   },
   {
    "duration": 25,
    "start_time": "2023-01-27T13:48:06.023Z"
   },
   {
    "duration": 202,
    "start_time": "2023-01-27T13:48:06.049Z"
   },
   {
    "duration": 281,
    "start_time": "2023-01-27T13:48:06.254Z"
   },
   {
    "duration": 1345,
    "start_time": "2023-01-27T13:48:06.537Z"
   },
   {
    "duration": 32,
    "start_time": "2023-01-27T13:48:07.884Z"
   },
   {
    "duration": 30,
    "start_time": "2023-01-27T13:48:07.917Z"
   },
   {
    "duration": 5,
    "start_time": "2023-01-27T13:48:07.949Z"
   },
   {
    "duration": 41,
    "start_time": "2023-01-27T13:48:07.955Z"
   },
   {
    "duration": 111,
    "start_time": "2023-01-27T13:48:07.997Z"
   },
   {
    "duration": 73,
    "start_time": "2023-01-27T13:48:08.109Z"
   },
   {
    "duration": 649,
    "start_time": "2023-01-27T13:48:08.184Z"
   },
   {
    "duration": 31,
    "start_time": "2023-01-27T13:48:08.834Z"
   },
   {
    "duration": 53,
    "start_time": "2023-01-27T13:48:08.866Z"
   },
   {
    "duration": 15,
    "start_time": "2023-01-27T13:48:08.921Z"
   },
   {
    "duration": 20,
    "start_time": "2023-01-27T13:48:08.937Z"
   },
   {
    "duration": 59,
    "start_time": "2023-01-27T13:48:08.959Z"
   },
   {
    "duration": 17,
    "start_time": "2023-01-27T13:48:09.020Z"
   },
   {
    "duration": 424,
    "start_time": "2023-01-27T13:48:09.039Z"
   },
   {
    "duration": 6622,
    "start_time": "2023-01-27T13:48:09.465Z"
   },
   {
    "duration": 126,
    "start_time": "2023-01-27T13:48:16.089Z"
   },
   {
    "duration": 13,
    "start_time": "2023-01-27T13:48:16.219Z"
   },
   {
    "duration": 544,
    "start_time": "2023-01-27T13:48:16.234Z"
   },
   {
    "duration": 382,
    "start_time": "2023-01-27T13:48:16.781Z"
   },
   {
    "duration": 4,
    "start_time": "2023-01-27T13:48:17.165Z"
   },
   {
    "duration": 15128,
    "start_time": "2023-01-27T13:48:17.171Z"
   },
   {
    "duration": 28,
    "start_time": "2023-01-27T13:48:32.300Z"
   },
   {
    "duration": 18,
    "start_time": "2023-01-27T13:48:32.329Z"
   },
   {
    "duration": 18535,
    "start_time": "2023-01-27T13:48:32.349Z"
   },
   {
    "duration": 1060,
    "start_time": "2023-01-27T13:48:50.886Z"
   },
   {
    "duration": 52,
    "start_time": "2023-01-27T13:48:51.947Z"
   },
   {
    "duration": 1945,
    "start_time": "2023-01-27T13:48:52.000Z"
   },
   {
    "duration": 91,
    "start_time": "2023-01-28T09:28:17.933Z"
   },
   {
    "duration": 2324,
    "start_time": "2023-01-28T09:28:24.993Z"
   },
   {
    "duration": 1619,
    "start_time": "2023-01-28T09:28:27.319Z"
   },
   {
    "duration": 3,
    "start_time": "2023-01-28T09:28:28.940Z"
   },
   {
    "duration": 1304,
    "start_time": "2023-01-28T09:28:28.945Z"
   },
   {
    "duration": 79,
    "start_time": "2023-01-28T09:28:30.252Z"
   },
   {
    "duration": 17,
    "start_time": "2023-01-28T09:28:30.333Z"
   },
   {
    "duration": 91,
    "start_time": "2023-01-28T09:28:30.352Z"
   },
   {
    "duration": 27,
    "start_time": "2023-01-28T09:28:30.445Z"
   },
   {
    "duration": 213,
    "start_time": "2023-01-28T09:28:30.473Z"
   },
   {
    "duration": 254,
    "start_time": "2023-01-28T09:28:30.688Z"
   },
   {
    "duration": 1477,
    "start_time": "2023-01-28T09:28:30.944Z"
   },
   {
    "duration": 35,
    "start_time": "2023-01-28T09:28:32.422Z"
   },
   {
    "duration": 44,
    "start_time": "2023-01-28T09:28:32.459Z"
   },
   {
    "duration": 4,
    "start_time": "2023-01-28T09:28:32.506Z"
   },
   {
    "duration": 44,
    "start_time": "2023-01-28T09:28:32.512Z"
   },
   {
    "duration": 103,
    "start_time": "2023-01-28T09:28:32.558Z"
   },
   {
    "duration": 81,
    "start_time": "2023-01-28T09:28:32.663Z"
   },
   {
    "duration": 659,
    "start_time": "2023-01-28T09:28:32.745Z"
   },
   {
    "duration": 32,
    "start_time": "2023-01-28T09:28:33.406Z"
   },
   {
    "duration": 63,
    "start_time": "2023-01-28T09:28:33.440Z"
   },
   {
    "duration": 19,
    "start_time": "2023-01-28T09:28:33.505Z"
   },
   {
    "duration": 18,
    "start_time": "2023-01-28T09:28:33.526Z"
   },
   {
    "duration": 58,
    "start_time": "2023-01-28T09:28:33.546Z"
   },
   {
    "duration": 18,
    "start_time": "2023-01-28T09:28:33.606Z"
   },
   {
    "duration": 513,
    "start_time": "2023-01-28T09:28:33.626Z"
   },
   {
    "duration": 6514,
    "start_time": "2023-01-28T09:28:34.141Z"
   },
   {
    "duration": 121,
    "start_time": "2023-01-28T09:28:40.657Z"
   },
   {
    "duration": 24,
    "start_time": "2023-01-28T09:28:40.780Z"
   },
   {
    "duration": 487,
    "start_time": "2023-01-28T09:28:40.806Z"
   },
   {
    "duration": 397,
    "start_time": "2023-01-28T09:28:41.302Z"
   },
   {
    "duration": 4,
    "start_time": "2023-01-28T09:28:41.702Z"
   },
   {
    "duration": 15745,
    "start_time": "2023-01-28T09:28:41.708Z"
   },
   {
    "duration": 26,
    "start_time": "2023-01-28T09:28:57.454Z"
   },
   {
    "duration": 30,
    "start_time": "2023-01-28T09:28:57.482Z"
   },
   {
    "duration": 18590,
    "start_time": "2023-01-28T09:28:57.514Z"
   },
   {
    "duration": 1161,
    "start_time": "2023-01-28T09:29:16.106Z"
   },
   {
    "duration": 51,
    "start_time": "2023-01-28T09:29:17.268Z"
   },
   {
    "duration": 2094,
    "start_time": "2023-01-28T09:29:17.321Z"
   },
   {
    "duration": 356588,
    "start_time": "2023-01-28T09:29:19.417Z"
   },
   {
    "duration": 4,
    "start_time": "2023-01-28T09:35:16.006Z"
   },
   {
    "duration": 45,
    "start_time": "2023-01-28T09:35:16.014Z"
   },
   {
    "duration": 374860,
    "start_time": "2023-01-28T09:35:16.061Z"
   },
   {
    "duration": 3,
    "start_time": "2023-01-28T09:41:30.922Z"
   },
   {
    "duration": 1210104,
    "start_time": "2023-01-28T09:41:30.927Z"
   },
   {
    "duration": 0,
    "start_time": "2023-01-28T10:01:41.034Z"
   },
   {
    "duration": 0,
    "start_time": "2023-01-28T10:01:41.036Z"
   },
   {
    "duration": 0,
    "start_time": "2023-01-28T10:01:41.037Z"
   },
   {
    "duration": 0,
    "start_time": "2023-01-28T10:01:41.039Z"
   },
   {
    "duration": 0,
    "start_time": "2023-01-28T10:01:41.042Z"
   },
   {
    "duration": 0,
    "start_time": "2023-01-28T10:01:41.044Z"
   },
   {
    "duration": 0,
    "start_time": "2023-01-28T10:01:41.045Z"
   },
   {
    "duration": 0,
    "start_time": "2023-01-28T10:01:41.047Z"
   },
   {
    "duration": 0,
    "start_time": "2023-01-28T10:01:41.048Z"
   },
   {
    "duration": 0,
    "start_time": "2023-01-28T10:01:41.049Z"
   },
   {
    "duration": 0,
    "start_time": "2023-01-28T10:01:41.050Z"
   },
   {
    "duration": 0,
    "start_time": "2023-01-28T10:01:41.052Z"
   },
   {
    "duration": 0,
    "start_time": "2023-01-28T10:01:41.053Z"
   },
   {
    "duration": 20071,
    "start_time": "2023-01-28T10:03:38.945Z"
   },
   {
    "duration": 73,
    "start_time": "2023-01-28T10:04:03.540Z"
   },
   {
    "duration": 55,
    "start_time": "2023-01-28T10:04:06.943Z"
   },
   {
    "duration": 312,
    "start_time": "2023-01-28T10:04:16.643Z"
   },
   {
    "duration": 21,
    "start_time": "2023-01-28T10:04:38.720Z"
   },
   {
    "duration": 203546,
    "start_time": "2023-01-28T10:04:38.743Z"
   },
   {
    "duration": 12976,
    "start_time": "2023-01-28T10:08:02.290Z"
   },
   {
    "duration": 18698,
    "start_time": "2023-01-28T10:09:08.708Z"
   },
   {
    "duration": 6438,
    "start_time": "2023-01-28T10:09:27.408Z"
   },
   {
    "duration": 240,
    "start_time": "2023-01-28T10:09:33.848Z"
   },
   {
    "duration": 2037,
    "start_time": "2023-01-28T10:09:34.090Z"
   },
   {
    "duration": 12,
    "start_time": "2023-01-28T10:09:36.128Z"
   },
   {
    "duration": 52181,
    "start_time": "2023-01-28T10:09:36.141Z"
   },
   {
    "duration": 2079,
    "start_time": "2023-01-28T22:28:02.285Z"
   },
   {
    "duration": 1444,
    "start_time": "2023-01-28T22:28:04.366Z"
   },
   {
    "duration": 3,
    "start_time": "2023-01-28T22:28:05.811Z"
   },
   {
    "duration": 1197,
    "start_time": "2023-01-28T22:28:05.816Z"
   },
   {
    "duration": 81,
    "start_time": "2023-01-28T22:28:07.015Z"
   },
   {
    "duration": 18,
    "start_time": "2023-01-28T22:28:07.098Z"
   },
   {
    "duration": 42,
    "start_time": "2023-01-28T22:28:07.118Z"
   },
   {
    "duration": 23,
    "start_time": "2023-01-28T22:28:07.162Z"
   },
   {
    "duration": 188,
    "start_time": "2023-01-28T22:28:07.210Z"
   },
   {
    "duration": 243,
    "start_time": "2023-01-28T22:28:07.401Z"
   },
   {
    "duration": 1376,
    "start_time": "2023-01-28T22:28:07.645Z"
   },
   {
    "duration": 31,
    "start_time": "2023-01-28T22:28:09.023Z"
   },
   {
    "duration": 31,
    "start_time": "2023-01-28T22:28:09.055Z"
   },
   {
    "duration": 23,
    "start_time": "2023-01-28T22:28:09.088Z"
   },
   {
    "duration": 24,
    "start_time": "2023-01-28T22:28:09.113Z"
   },
   {
    "duration": 128,
    "start_time": "2023-01-28T22:28:09.139Z"
   },
   {
    "duration": 78,
    "start_time": "2023-01-28T22:28:09.269Z"
   },
   {
    "duration": 598,
    "start_time": "2023-01-28T22:28:09.349Z"
   },
   {
    "duration": 36,
    "start_time": "2023-01-28T22:28:09.948Z"
   },
   {
    "duration": 65,
    "start_time": "2023-01-28T22:28:09.986Z"
   },
   {
    "duration": 10,
    "start_time": "2023-01-28T22:28:10.053Z"
   },
   {
    "duration": 12,
    "start_time": "2023-01-28T22:28:10.065Z"
   },
   {
    "duration": 68,
    "start_time": "2023-01-28T22:28:10.079Z"
   },
   {
    "duration": 16,
    "start_time": "2023-01-28T22:28:10.149Z"
   },
   {
    "duration": 405,
    "start_time": "2023-01-28T22:28:10.167Z"
   },
   {
    "duration": 6832,
    "start_time": "2023-01-28T22:28:10.574Z"
   },
   {
    "duration": 133,
    "start_time": "2023-01-28T22:28:17.407Z"
   },
   {
    "duration": 9,
    "start_time": "2023-01-28T22:28:17.544Z"
   },
   {
    "duration": 356,
    "start_time": "2023-01-28T22:28:17.555Z"
   },
   {
    "duration": 273,
    "start_time": "2023-01-28T22:28:17.913Z"
   },
   {
    "duration": 3,
    "start_time": "2023-01-28T22:28:18.187Z"
   },
   {
    "duration": 2654,
    "start_time": "2023-01-31T09:47:07.828Z"
   },
   {
    "duration": 1685,
    "start_time": "2023-01-31T09:47:10.484Z"
   },
   {
    "duration": 3,
    "start_time": "2023-01-31T09:47:12.170Z"
   },
   {
    "duration": 3050,
    "start_time": "2023-01-31T09:47:12.175Z"
   },
   {
    "duration": 103,
    "start_time": "2023-01-31T09:47:15.226Z"
   },
   {
    "duration": 18,
    "start_time": "2023-01-31T09:47:15.331Z"
   },
   {
    "duration": 71,
    "start_time": "2023-01-31T09:47:15.351Z"
   },
   {
    "duration": 27,
    "start_time": "2023-01-31T09:47:15.424Z"
   },
   {
    "duration": 211,
    "start_time": "2023-01-31T09:47:15.453Z"
   },
   {
    "duration": 271,
    "start_time": "2023-01-31T09:47:15.666Z"
   },
   {
    "duration": 1648,
    "start_time": "2023-01-31T09:47:15.939Z"
   },
   {
    "duration": 40,
    "start_time": "2023-01-31T09:47:17.588Z"
   },
   {
    "duration": 35,
    "start_time": "2023-01-31T09:47:17.630Z"
   },
   {
    "duration": 26,
    "start_time": "2023-01-31T09:47:33.871Z"
   },
   {
    "duration": 3027,
    "start_time": "2023-01-31T09:49:23.806Z"
   },
   {
    "duration": 2378,
    "start_time": "2023-01-31T09:50:06.794Z"
   },
   {
    "duration": 5,
    "start_time": "2023-01-31T09:50:09.176Z"
   },
   {
    "duration": 7,
    "start_time": "2023-01-31T09:50:09.183Z"
   },
   {
    "duration": 1031,
    "start_time": "2023-01-31T09:50:09.192Z"
   },
   {
    "duration": 120,
    "start_time": "2023-01-31T09:50:10.225Z"
   },
   {
    "duration": 20,
    "start_time": "2023-01-31T09:50:10.350Z"
   },
   {
    "duration": 41,
    "start_time": "2023-01-31T09:50:10.372Z"
   },
   {
    "duration": 18,
    "start_time": "2023-01-31T09:50:21.070Z"
   },
   {
    "duration": 11,
    "start_time": "2023-01-31T09:52:41.096Z"
   },
   {
    "duration": 10,
    "start_time": "2023-01-31T09:53:05.004Z"
   },
   {
    "duration": 11,
    "start_time": "2023-01-31T09:53:11.033Z"
   },
   {
    "duration": 10,
    "start_time": "2023-01-31T09:53:24.088Z"
   },
   {
    "duration": 1255,
    "start_time": "2023-01-31T09:54:28.383Z"
   },
   {
    "duration": 1207,
    "start_time": "2023-01-31T09:54:41.411Z"
   },
   {
    "duration": 1267,
    "start_time": "2023-01-31T09:55:40.505Z"
   },
   {
    "duration": 1163,
    "start_time": "2023-01-31T09:55:46.348Z"
   },
   {
    "duration": 13,
    "start_time": "2023-01-31T09:56:59.476Z"
   },
   {
    "duration": 11,
    "start_time": "2023-01-31T09:57:54.304Z"
   },
   {
    "duration": 11,
    "start_time": "2023-01-31T09:59:15.074Z"
   },
   {
    "duration": 13,
    "start_time": "2023-01-31T09:59:27.160Z"
   },
   {
    "duration": 38,
    "start_time": "2023-01-31T09:59:39.694Z"
   },
   {
    "duration": 15,
    "start_time": "2023-01-31T09:59:41.571Z"
   },
   {
    "duration": 33,
    "start_time": "2023-01-31T10:01:02.756Z"
   },
   {
    "duration": 48,
    "start_time": "2023-01-31T10:01:35.494Z"
   },
   {
    "duration": 43,
    "start_time": "2023-01-31T10:02:41.305Z"
   },
   {
    "duration": 29,
    "start_time": "2023-01-31T10:02:47.621Z"
   },
   {
    "duration": 25,
    "start_time": "2023-01-31T10:02:52.421Z"
   },
   {
    "duration": 32,
    "start_time": "2023-01-31T10:02:57.061Z"
   },
   {
    "duration": 25,
    "start_time": "2023-01-31T10:03:04.413Z"
   },
   {
    "duration": 13,
    "start_time": "2023-01-31T10:03:44.939Z"
   },
   {
    "duration": 13,
    "start_time": "2023-01-31T10:03:49.244Z"
   },
   {
    "duration": 36,
    "start_time": "2023-01-31T10:06:11.864Z"
   },
   {
    "duration": 15,
    "start_time": "2023-01-31T10:06:28.208Z"
   },
   {
    "duration": 90,
    "start_time": "2023-01-31T10:06:39.189Z"
   },
   {
    "duration": 2308,
    "start_time": "2023-01-31T10:06:55.767Z"
   },
   {
    "duration": 5,
    "start_time": "2023-01-31T10:06:58.077Z"
   },
   {
    "duration": 26,
    "start_time": "2023-01-31T10:06:58.083Z"
   },
   {
    "duration": 1061,
    "start_time": "2023-01-31T10:06:58.112Z"
   },
   {
    "duration": 103,
    "start_time": "2023-01-31T10:06:59.176Z"
   },
   {
    "duration": 16,
    "start_time": "2023-01-31T10:06:59.281Z"
   },
   {
    "duration": 52,
    "start_time": "2023-01-31T10:06:59.299Z"
   },
   {
    "duration": 3,
    "start_time": "2023-01-31T10:06:59.353Z"
   },
   {
    "duration": 27,
    "start_time": "2023-01-31T10:06:59.358Z"
   },
   {
    "duration": 82,
    "start_time": "2023-01-31T10:06:59.387Z"
   },
   {
    "duration": 102,
    "start_time": "2023-01-31T10:06:59.471Z"
   },
   {
    "duration": 2292,
    "start_time": "2023-01-31T10:11:35.924Z"
   },
   {
    "duration": 5,
    "start_time": "2023-01-31T10:11:38.219Z"
   },
   {
    "duration": 18,
    "start_time": "2023-01-31T10:11:38.226Z"
   },
   {
    "duration": 1025,
    "start_time": "2023-01-31T10:11:38.246Z"
   },
   {
    "duration": 106,
    "start_time": "2023-01-31T10:11:39.273Z"
   },
   {
    "duration": 15,
    "start_time": "2023-01-31T10:11:39.381Z"
   },
   {
    "duration": 65,
    "start_time": "2023-01-31T10:11:39.399Z"
   },
   {
    "duration": 16,
    "start_time": "2023-01-31T10:11:39.466Z"
   },
   {
    "duration": 83,
    "start_time": "2023-01-31T10:11:39.484Z"
   },
   {
    "duration": 25,
    "start_time": "2023-01-31T10:11:39.569Z"
   },
   {
    "duration": 175,
    "start_time": "2023-01-31T10:11:39.595Z"
   },
   {
    "duration": 188,
    "start_time": "2023-01-31T10:11:39.772Z"
   },
   {
    "duration": 1455,
    "start_time": "2023-01-31T10:11:39.962Z"
   },
   {
    "duration": 23,
    "start_time": "2023-01-31T10:11:41.420Z"
   },
   {
    "duration": 31,
    "start_time": "2023-01-31T10:11:41.445Z"
   },
   {
    "duration": 52,
    "start_time": "2023-01-31T10:11:41.477Z"
   },
   {
    "duration": 6,
    "start_time": "2023-01-31T10:11:41.531Z"
   },
   {
    "duration": 55,
    "start_time": "2023-01-31T10:11:41.538Z"
   },
   {
    "duration": 22,
    "start_time": "2023-01-31T10:12:32.110Z"
   },
   {
    "duration": 80,
    "start_time": "2023-01-31T10:16:55.646Z"
   },
   {
    "duration": 24,
    "start_time": "2023-01-31T10:19:07.178Z"
   },
   {
    "duration": 17,
    "start_time": "2023-01-31T10:20:20.519Z"
   },
   {
    "duration": 2473,
    "start_time": "2023-01-31T10:38:28.521Z"
   },
   {
    "duration": 5,
    "start_time": "2023-01-31T10:38:30.997Z"
   },
   {
    "duration": 43,
    "start_time": "2023-01-31T10:38:31.004Z"
   },
   {
    "duration": 1101,
    "start_time": "2023-01-31T10:38:31.050Z"
   },
   {
    "duration": 105,
    "start_time": "2023-01-31T10:38:32.153Z"
   },
   {
    "duration": 16,
    "start_time": "2023-01-31T10:38:32.261Z"
   },
   {
    "duration": 72,
    "start_time": "2023-01-31T10:38:32.278Z"
   },
   {
    "duration": 16,
    "start_time": "2023-01-31T10:38:32.352Z"
   },
   {
    "duration": 102,
    "start_time": "2023-01-31T10:38:32.370Z"
   },
   {
    "duration": 29,
    "start_time": "2023-01-31T10:38:32.475Z"
   },
   {
    "duration": 178,
    "start_time": "2023-01-31T10:38:32.506Z"
   },
   {
    "duration": 220,
    "start_time": "2023-01-31T10:38:32.686Z"
   },
   {
    "duration": 1610,
    "start_time": "2023-01-31T10:38:32.908Z"
   },
   {
    "duration": 30,
    "start_time": "2023-01-31T10:38:34.521Z"
   },
   {
    "duration": 35,
    "start_time": "2023-01-31T10:38:34.554Z"
   },
   {
    "duration": 52,
    "start_time": "2023-01-31T10:38:34.592Z"
   },
   {
    "duration": 7,
    "start_time": "2023-01-31T10:38:34.646Z"
   },
   {
    "duration": 37,
    "start_time": "2023-01-31T10:38:34.655Z"
   },
   {
    "duration": 50,
    "start_time": "2023-01-31T10:38:34.694Z"
   },
   {
    "duration": 150,
    "start_time": "2023-01-31T10:38:34.746Z"
   },
   {
    "duration": 31,
    "start_time": "2023-01-31T10:38:34.898Z"
   },
   {
    "duration": 58,
    "start_time": "2023-01-31T10:38:34.931Z"
   },
   {
    "duration": 794,
    "start_time": "2023-01-31T10:38:34.992Z"
   },
   {
    "duration": 75,
    "start_time": "2023-01-31T10:38:35.788Z"
   },
   {
    "duration": 12,
    "start_time": "2023-01-31T10:38:35.864Z"
   },
   {
    "duration": 8,
    "start_time": "2023-01-31T10:38:35.877Z"
   },
   {
    "duration": 96,
    "start_time": "2023-01-31T10:38:35.887Z"
   },
   {
    "duration": 304,
    "start_time": "2023-01-31T10:38:35.986Z"
   },
   {
    "duration": 0,
    "start_time": "2023-01-31T10:38:36.292Z"
   },
   {
    "duration": 4,
    "start_time": "2023-01-31T10:39:08.133Z"
   },
   {
    "duration": 457,
    "start_time": "2023-01-31T10:39:11.267Z"
   },
   {
    "duration": 1233,
    "start_time": "2023-01-31T10:42:41.990Z"
   },
   {
    "duration": 457,
    "start_time": "2023-01-31T10:42:58.294Z"
   },
   {
    "duration": 5,
    "start_time": "2023-01-31T11:51:29.286Z"
   },
   {
    "duration": 2166,
    "start_time": "2023-01-31T11:53:34.759Z"
   },
   {
    "duration": 2120,
    "start_time": "2023-01-31T11:53:49.231Z"
   },
   {
    "duration": 2020,
    "start_time": "2023-01-31T11:54:31.827Z"
   },
   {
    "duration": 2069,
    "start_time": "2023-01-31T11:54:41.004Z"
   },
   {
    "duration": 2130,
    "start_time": "2023-01-31T11:54:59.465Z"
   },
   {
    "duration": 1132,
    "start_time": "2023-01-31T11:55:20.083Z"
   },
   {
    "duration": 78,
    "start_time": "2023-01-31T11:55:26.490Z"
   },
   {
    "duration": 12,
    "start_time": "2023-01-31T11:57:08.767Z"
   },
   {
    "duration": 12,
    "start_time": "2023-01-31T11:57:56.542Z"
   },
   {
    "duration": 61,
    "start_time": "2023-01-31T11:58:10.912Z"
   },
   {
    "duration": 55,
    "start_time": "2023-01-31T11:58:20.261Z"
   },
   {
    "duration": 49,
    "start_time": "2023-01-31T11:58:48.471Z"
   },
   {
    "duration": 45,
    "start_time": "2023-01-31T11:58:56.555Z"
   },
   {
    "duration": 39,
    "start_time": "2023-01-31T11:59:00.337Z"
   },
   {
    "duration": 54,
    "start_time": "2023-01-31T12:02:10.516Z"
   },
   {
    "duration": 54,
    "start_time": "2023-01-31T12:02:38.093Z"
   },
   {
    "duration": 44,
    "start_time": "2023-01-31T12:03:03.666Z"
   },
   {
    "duration": 61,
    "start_time": "2023-01-31T12:03:24.835Z"
   },
   {
    "duration": 48,
    "start_time": "2023-01-31T12:03:27.621Z"
   },
   {
    "duration": 50,
    "start_time": "2023-01-31T12:03:29.454Z"
   },
   {
    "duration": 6542,
    "start_time": "2023-01-31T12:11:19.418Z"
   },
   {
    "duration": 106,
    "start_time": "2023-01-31T12:11:27.773Z"
   },
   {
    "duration": 396,
    "start_time": "2023-01-31T12:14:18.307Z"
   },
   {
    "duration": 54,
    "start_time": "2023-01-31T12:24:52.679Z"
   },
   {
    "duration": 49,
    "start_time": "2023-01-31T12:24:56.366Z"
   },
   {
    "duration": 44,
    "start_time": "2023-01-31T12:25:48.128Z"
   },
   {
    "duration": 10,
    "start_time": "2023-01-31T12:33:29.135Z"
   },
   {
    "duration": 18,
    "start_time": "2023-01-31T12:36:09.136Z"
   },
   {
    "duration": 15,
    "start_time": "2023-01-31T12:36:35.644Z"
   },
   {
    "duration": 16,
    "start_time": "2023-01-31T12:41:47.419Z"
   },
   {
    "duration": 51,
    "start_time": "2023-01-31T12:47:05.252Z"
   },
   {
    "duration": 2319,
    "start_time": "2023-01-31T12:47:10.396Z"
   },
   {
    "duration": 1556,
    "start_time": "2023-01-31T12:47:12.717Z"
   },
   {
    "duration": 3,
    "start_time": "2023-01-31T12:47:14.275Z"
   },
   {
    "duration": 3220,
    "start_time": "2023-01-31T12:47:14.281Z"
   },
   {
    "duration": 99,
    "start_time": "2023-01-31T12:47:17.503Z"
   },
   {
    "duration": 24,
    "start_time": "2023-01-31T12:47:17.604Z"
   },
   {
    "duration": 49,
    "start_time": "2023-01-31T12:47:17.630Z"
   },
   {
    "duration": 15,
    "start_time": "2023-01-31T12:47:17.681Z"
   },
   {
    "duration": 104,
    "start_time": "2023-01-31T12:47:17.698Z"
   },
   {
    "duration": 36,
    "start_time": "2023-01-31T12:47:17.805Z"
   },
   {
    "duration": 203,
    "start_time": "2023-01-31T12:47:17.842Z"
   },
   {
    "duration": 267,
    "start_time": "2023-01-31T12:47:18.047Z"
   },
   {
    "duration": 1645,
    "start_time": "2023-01-31T12:47:18.316Z"
   },
   {
    "duration": 29,
    "start_time": "2023-01-31T12:47:19.963Z"
   },
   {
    "duration": 37,
    "start_time": "2023-01-31T12:47:19.994Z"
   },
   {
    "duration": 25,
    "start_time": "2023-01-31T12:47:20.033Z"
   },
   {
    "duration": 5,
    "start_time": "2023-01-31T12:47:20.060Z"
   },
   {
    "duration": 34,
    "start_time": "2023-01-31T12:47:20.067Z"
   },
   {
    "duration": 23,
    "start_time": "2023-01-31T12:47:20.120Z"
   },
   {
    "duration": 129,
    "start_time": "2023-01-31T12:47:20.145Z"
   },
   {
    "duration": 18,
    "start_time": "2023-01-31T12:47:20.275Z"
   },
   {
    "duration": 80,
    "start_time": "2023-01-31T12:47:20.296Z"
   },
   {
    "duration": 755,
    "start_time": "2023-01-31T12:47:20.377Z"
   },
   {
    "duration": 71,
    "start_time": "2023-01-31T12:47:21.134Z"
   },
   {
    "duration": 22,
    "start_time": "2023-01-31T12:47:21.207Z"
   },
   {
    "duration": 11,
    "start_time": "2023-01-31T12:47:21.230Z"
   },
   {
    "duration": 81,
    "start_time": "2023-01-31T12:47:21.243Z"
   },
   {
    "duration": 5,
    "start_time": "2023-01-31T12:47:21.327Z"
   },
   {
    "duration": 353,
    "start_time": "2023-01-31T12:47:21.334Z"
   },
   {
    "duration": 6526,
    "start_time": "2023-01-31T12:47:21.690Z"
   },
   {
    "duration": 107,
    "start_time": "2023-01-31T12:47:28.218Z"
   },
   {
    "duration": 398,
    "start_time": "2023-01-31T12:47:28.326Z"
   },
   {
    "duration": 58,
    "start_time": "2023-01-31T12:47:28.726Z"
   },
   {
    "duration": 64,
    "start_time": "2023-01-31T12:47:28.786Z"
   },
   {
    "duration": 8818,
    "start_time": "2023-01-31T12:47:28.852Z"
   },
   {
    "duration": 1443,
    "start_time": "2023-01-31T12:47:37.672Z"
   },
   {
    "duration": 49044,
    "start_time": "2023-01-31T12:47:51.160Z"
   },
   {
    "duration": 60088,
    "start_time": "2023-01-31T12:50:51.060Z"
   },
   {
    "duration": 228768,
    "start_time": "2023-01-31T12:52:38.567Z"
   },
   {
    "duration": 0,
    "start_time": "2023-01-31T12:56:27.339Z"
   },
   {
    "duration": 180,
    "start_time": "2023-01-31T13:01:02.883Z"
   },
   {
    "duration": 2241,
    "start_time": "2023-02-01T07:55:19.598Z"
   },
   {
    "duration": 1757,
    "start_time": "2023-02-01T07:55:21.842Z"
   },
   {
    "duration": 3,
    "start_time": "2023-02-01T07:55:23.600Z"
   },
   {
    "duration": 9,
    "start_time": "2023-02-01T07:55:23.605Z"
   },
   {
    "duration": 121,
    "start_time": "2023-02-01T07:55:23.615Z"
   },
   {
    "duration": 0,
    "start_time": "2023-02-01T07:55:23.740Z"
   },
   {
    "duration": 0,
    "start_time": "2023-02-01T07:55:23.742Z"
   },
   {
    "duration": 0,
    "start_time": "2023-02-01T07:55:23.743Z"
   },
   {
    "duration": 0,
    "start_time": "2023-02-01T07:55:23.743Z"
   },
   {
    "duration": 0,
    "start_time": "2023-02-01T07:55:23.745Z"
   },
   {
    "duration": 0,
    "start_time": "2023-02-01T07:55:23.746Z"
   },
   {
    "duration": 0,
    "start_time": "2023-02-01T07:55:23.749Z"
   },
   {
    "duration": 0,
    "start_time": "2023-02-01T07:55:23.751Z"
   },
   {
    "duration": 0,
    "start_time": "2023-02-01T07:55:23.752Z"
   },
   {
    "duration": 0,
    "start_time": "2023-02-01T07:55:23.754Z"
   },
   {
    "duration": 0,
    "start_time": "2023-02-01T07:55:23.756Z"
   },
   {
    "duration": 0,
    "start_time": "2023-02-01T07:55:23.757Z"
   },
   {
    "duration": 0,
    "start_time": "2023-02-01T07:55:23.759Z"
   },
   {
    "duration": 0,
    "start_time": "2023-02-01T07:55:23.760Z"
   },
   {
    "duration": 0,
    "start_time": "2023-02-01T07:55:23.762Z"
   },
   {
    "duration": 0,
    "start_time": "2023-02-01T07:55:23.763Z"
   },
   {
    "duration": 0,
    "start_time": "2023-02-01T07:55:23.765Z"
   },
   {
    "duration": 0,
    "start_time": "2023-02-01T07:55:23.766Z"
   },
   {
    "duration": 0,
    "start_time": "2023-02-01T07:55:23.768Z"
   },
   {
    "duration": 0,
    "start_time": "2023-02-01T07:55:23.769Z"
   },
   {
    "duration": 0,
    "start_time": "2023-02-01T07:55:23.771Z"
   },
   {
    "duration": 0,
    "start_time": "2023-02-01T07:55:23.772Z"
   },
   {
    "duration": 0,
    "start_time": "2023-02-01T07:55:23.774Z"
   },
   {
    "duration": 0,
    "start_time": "2023-02-01T07:55:23.775Z"
   },
   {
    "duration": 0,
    "start_time": "2023-02-01T07:55:23.777Z"
   },
   {
    "duration": 0,
    "start_time": "2023-02-01T07:55:23.778Z"
   },
   {
    "duration": 0,
    "start_time": "2023-02-01T07:55:23.837Z"
   },
   {
    "duration": 0,
    "start_time": "2023-02-01T07:55:23.838Z"
   },
   {
    "duration": 0,
    "start_time": "2023-02-01T07:55:23.840Z"
   },
   {
    "duration": 0,
    "start_time": "2023-02-01T07:55:23.841Z"
   },
   {
    "duration": 0,
    "start_time": "2023-02-01T07:55:23.843Z"
   },
   {
    "duration": 0,
    "start_time": "2023-02-01T07:55:23.845Z"
   },
   {
    "duration": 0,
    "start_time": "2023-02-01T07:55:23.846Z"
   },
   {
    "duration": 0,
    "start_time": "2023-02-01T07:55:23.847Z"
   },
   {
    "duration": 0,
    "start_time": "2023-02-01T07:55:23.849Z"
   },
   {
    "duration": 0,
    "start_time": "2023-02-01T07:55:23.850Z"
   },
   {
    "duration": 0,
    "start_time": "2023-02-01T07:55:23.852Z"
   },
   {
    "duration": 0,
    "start_time": "2023-02-01T07:55:23.853Z"
   },
   {
    "duration": 0,
    "start_time": "2023-02-01T07:55:23.854Z"
   },
   {
    "duration": 0,
    "start_time": "2023-02-01T07:55:23.856Z"
   },
   {
    "duration": 0,
    "start_time": "2023-02-01T07:55:23.857Z"
   },
   {
    "duration": 0,
    "start_time": "2023-02-01T07:55:23.859Z"
   },
   {
    "duration": 0,
    "start_time": "2023-02-01T07:55:23.860Z"
   },
   {
    "duration": 0,
    "start_time": "2023-02-01T07:55:23.862Z"
   },
   {
    "duration": 0,
    "start_time": "2023-02-01T07:55:23.864Z"
   },
   {
    "duration": 0,
    "start_time": "2023-02-01T07:55:23.865Z"
   },
   {
    "duration": 0,
    "start_time": "2023-02-01T07:55:23.866Z"
   },
   {
    "duration": 0,
    "start_time": "2023-02-01T07:55:23.868Z"
   },
   {
    "duration": 0,
    "start_time": "2023-02-01T07:55:23.870Z"
   },
   {
    "duration": 0,
    "start_time": "2023-02-01T07:55:23.871Z"
   },
   {
    "duration": 0,
    "start_time": "2023-02-01T07:55:23.873Z"
   },
   {
    "duration": 0,
    "start_time": "2023-02-01T07:55:23.874Z"
   },
   {
    "duration": 0,
    "start_time": "2023-02-01T07:55:23.875Z"
   },
   {
    "duration": 0,
    "start_time": "2023-02-01T07:55:23.876Z"
   },
   {
    "duration": 1,
    "start_time": "2023-02-01T07:55:23.876Z"
   },
   {
    "duration": 0,
    "start_time": "2023-02-01T07:55:23.877Z"
   },
   {
    "duration": 0,
    "start_time": "2023-02-01T07:55:23.938Z"
   },
   {
    "duration": 0,
    "start_time": "2023-02-01T07:55:23.940Z"
   },
   {
    "duration": 0,
    "start_time": "2023-02-01T07:55:23.941Z"
   },
   {
    "duration": 0,
    "start_time": "2023-02-01T07:55:23.942Z"
   },
   {
    "duration": 0,
    "start_time": "2023-02-01T07:55:23.944Z"
   },
   {
    "duration": 0,
    "start_time": "2023-02-01T07:55:23.946Z"
   },
   {
    "duration": 3214,
    "start_time": "2023-02-01T07:59:34.886Z"
   },
   {
    "duration": 2020,
    "start_time": "2023-02-01T07:59:58.069Z"
   },
   {
    "duration": 1521,
    "start_time": "2023-02-01T08:00:00.091Z"
   },
   {
    "duration": 3,
    "start_time": "2023-02-01T08:00:01.614Z"
   },
   {
    "duration": 1110,
    "start_time": "2023-02-01T08:00:01.619Z"
   },
   {
    "duration": 80,
    "start_time": "2023-02-01T08:00:02.730Z"
   },
   {
    "duration": 27,
    "start_time": "2023-02-01T08:00:02.812Z"
   },
   {
    "duration": 49,
    "start_time": "2023-02-01T08:00:02.841Z"
   },
   {
    "duration": 14,
    "start_time": "2023-02-01T08:00:02.891Z"
   },
   {
    "duration": 120,
    "start_time": "2023-02-01T08:00:02.907Z"
   },
   {
    "duration": 28,
    "start_time": "2023-02-01T08:00:03.030Z"
   },
   {
    "duration": 195,
    "start_time": "2023-02-01T08:00:03.060Z"
   },
   {
    "duration": 262,
    "start_time": "2023-02-01T08:00:03.256Z"
   },
   {
    "duration": 1409,
    "start_time": "2023-02-01T08:00:03.520Z"
   },
   {
    "duration": 32,
    "start_time": "2023-02-01T08:00:04.937Z"
   },
   {
    "duration": 25,
    "start_time": "2023-02-01T08:00:04.971Z"
   },
   {
    "duration": 43,
    "start_time": "2023-02-01T08:00:04.998Z"
   },
   {
    "duration": 5,
    "start_time": "2023-02-01T08:00:05.043Z"
   },
   {
    "duration": 60,
    "start_time": "2023-02-01T08:00:05.050Z"
   },
   {
    "duration": 22,
    "start_time": "2023-02-01T08:00:05.112Z"
   },
   {
    "duration": 116,
    "start_time": "2023-02-01T08:00:05.135Z"
   },
   {
    "duration": 16,
    "start_time": "2023-02-01T08:00:05.253Z"
   },
   {
    "duration": 75,
    "start_time": "2023-02-01T08:00:05.271Z"
   },
   {
    "duration": 757,
    "start_time": "2023-02-01T08:00:05.349Z"
   },
   {
    "duration": 67,
    "start_time": "2023-02-01T08:00:06.108Z"
   },
   {
    "duration": 54,
    "start_time": "2023-02-01T08:00:06.177Z"
   },
   {
    "duration": 14,
    "start_time": "2023-02-01T08:00:06.233Z"
   },
   {
    "duration": 71,
    "start_time": "2023-02-01T08:00:06.248Z"
   },
   {
    "duration": 5,
    "start_time": "2023-02-01T08:00:06.325Z"
   },
   {
    "duration": 336,
    "start_time": "2023-02-01T08:00:06.331Z"
   },
   {
    "duration": 6204,
    "start_time": "2023-02-01T08:00:06.668Z"
   },
   {
    "duration": 100,
    "start_time": "2023-02-01T08:00:12.873Z"
   },
   {
    "duration": 369,
    "start_time": "2023-02-01T08:00:12.976Z"
   },
   {
    "duration": 60,
    "start_time": "2023-02-01T08:00:13.347Z"
   },
   {
    "duration": 65,
    "start_time": "2023-02-01T08:00:13.409Z"
   },
   {
    "duration": 8410,
    "start_time": "2023-02-01T08:00:13.477Z"
   },
   {
    "duration": 3,
    "start_time": "2023-02-01T08:00:21.888Z"
   },
   {
    "duration": 161,
    "start_time": "2023-02-01T08:00:21.892Z"
   },
   {
    "duration": 10,
    "start_time": "2023-02-01T08:00:22.055Z"
   },
   {
    "duration": 610,
    "start_time": "2023-02-01T08:00:22.068Z"
   },
   {
    "duration": 440,
    "start_time": "2023-02-01T08:00:22.679Z"
   },
   {
    "duration": 4,
    "start_time": "2023-02-01T08:00:23.121Z"
   },
   {
    "duration": 48,
    "start_time": "2023-02-01T08:19:59.194Z"
   },
   {
    "duration": 6,
    "start_time": "2023-02-01T08:20:42.010Z"
   },
   {
    "duration": 2092,
    "start_time": "2023-02-01T08:20:46.685Z"
   },
   {
    "duration": 1816,
    "start_time": "2023-02-01T08:20:48.780Z"
   },
   {
    "duration": 3,
    "start_time": "2023-02-01T08:20:50.598Z"
   },
   {
    "duration": 3095,
    "start_time": "2023-02-01T08:20:50.603Z"
   },
   {
    "duration": 82,
    "start_time": "2023-02-01T08:20:53.700Z"
   },
   {
    "duration": 17,
    "start_time": "2023-02-01T08:20:53.784Z"
   },
   {
    "duration": 64,
    "start_time": "2023-02-01T08:20:53.803Z"
   },
   {
    "duration": 13,
    "start_time": "2023-02-01T08:20:53.869Z"
   },
   {
    "duration": 87,
    "start_time": "2023-02-01T08:20:53.884Z"
   },
   {
    "duration": 29,
    "start_time": "2023-02-01T08:20:53.975Z"
   },
   {
    "duration": 194,
    "start_time": "2023-02-01T08:20:54.006Z"
   },
   {
    "duration": 234,
    "start_time": "2023-02-01T08:20:54.202Z"
   },
   {
    "duration": 1415,
    "start_time": "2023-02-01T08:20:54.439Z"
   },
   {
    "duration": 28,
    "start_time": "2023-02-01T08:20:55.855Z"
   },
   {
    "duration": 24,
    "start_time": "2023-02-01T08:20:55.885Z"
   },
   {
    "duration": 41,
    "start_time": "2023-02-01T08:20:55.911Z"
   },
   {
    "duration": 5,
    "start_time": "2023-02-01T08:20:55.954Z"
   },
   {
    "duration": 35,
    "start_time": "2023-02-01T08:20:55.960Z"
   },
   {
    "duration": 22,
    "start_time": "2023-02-01T08:20:55.997Z"
   },
   {
    "duration": 120,
    "start_time": "2023-02-01T08:20:56.022Z"
   },
   {
    "duration": 14,
    "start_time": "2023-02-01T08:20:56.144Z"
   },
   {
    "duration": 67,
    "start_time": "2023-02-01T08:20:56.160Z"
   },
   {
    "duration": 719,
    "start_time": "2023-02-01T08:20:56.228Z"
   },
   {
    "duration": 88,
    "start_time": "2023-02-01T08:20:56.949Z"
   },
   {
    "duration": 11,
    "start_time": "2023-02-01T08:20:57.039Z"
   },
   {
    "duration": 4,
    "start_time": "2023-02-01T08:20:57.052Z"
   },
   {
    "duration": 60,
    "start_time": "2023-02-01T08:20:57.058Z"
   },
   {
    "duration": 20,
    "start_time": "2023-02-01T08:20:57.120Z"
   },
   {
    "duration": 332,
    "start_time": "2023-02-01T08:20:57.142Z"
   },
   {
    "duration": 6247,
    "start_time": "2023-02-01T08:20:57.476Z"
   },
   {
    "duration": 91,
    "start_time": "2023-02-01T08:21:03.725Z"
   },
   {
    "duration": 379,
    "start_time": "2023-02-01T08:21:03.818Z"
   },
   {
    "duration": 58,
    "start_time": "2023-02-01T08:21:04.199Z"
   },
   {
    "duration": 44,
    "start_time": "2023-02-01T08:21:04.258Z"
   },
   {
    "duration": 8059,
    "start_time": "2023-02-01T08:21:04.304Z"
   },
   {
    "duration": 2,
    "start_time": "2023-02-01T08:21:12.365Z"
   },
   {
    "duration": 41,
    "start_time": "2023-02-01T08:21:14.915Z"
   },
   {
    "duration": 140,
    "start_time": "2023-02-01T08:21:32.335Z"
   },
   {
    "duration": 2411,
    "start_time": "2023-02-02T10:21:53.526Z"
   },
   {
    "duration": 1402,
    "start_time": "2023-02-02T10:21:55.940Z"
   },
   {
    "duration": 3,
    "start_time": "2023-02-02T10:21:57.344Z"
   },
   {
    "duration": 1107,
    "start_time": "2023-02-02T10:21:57.350Z"
   },
   {
    "duration": 101,
    "start_time": "2023-02-02T10:21:58.460Z"
   },
   {
    "duration": 25,
    "start_time": "2023-02-02T10:21:58.562Z"
   },
   {
    "duration": 50,
    "start_time": "2023-02-02T10:21:58.589Z"
   },
   {
    "duration": 14,
    "start_time": "2023-02-02T10:21:58.641Z"
   },
   {
    "duration": 104,
    "start_time": "2023-02-02T10:21:58.657Z"
   },
   {
    "duration": 37,
    "start_time": "2023-02-02T10:21:58.763Z"
   },
   {
    "duration": 199,
    "start_time": "2023-02-02T10:21:58.802Z"
   },
   {
    "duration": 251,
    "start_time": "2023-02-02T10:21:59.003Z"
   },
   {
    "duration": 1854,
    "start_time": "2023-02-02T10:21:59.256Z"
   },
   {
    "duration": 30,
    "start_time": "2023-02-02T10:22:01.114Z"
   },
   {
    "duration": 84,
    "start_time": "2023-02-02T10:22:01.146Z"
   },
   {
    "duration": 71,
    "start_time": "2023-02-02T10:22:01.231Z"
   },
   {
    "duration": 58,
    "start_time": "2023-02-02T10:22:01.304Z"
   },
   {
    "duration": 61,
    "start_time": "2023-02-02T10:22:01.364Z"
   },
   {
    "duration": 53,
    "start_time": "2023-02-02T10:22:01.427Z"
   },
   {
    "duration": 250,
    "start_time": "2023-02-02T10:22:01.482Z"
   },
   {
    "duration": 18,
    "start_time": "2023-02-02T10:22:01.734Z"
   },
   {
    "duration": 81,
    "start_time": "2023-02-02T10:22:01.755Z"
   },
   {
    "duration": 784,
    "start_time": "2023-02-02T10:22:01.838Z"
   },
   {
    "duration": 82,
    "start_time": "2023-02-02T10:22:02.624Z"
   },
   {
    "duration": 33,
    "start_time": "2023-02-02T10:22:02.708Z"
   },
   {
    "duration": 23,
    "start_time": "2023-02-02T10:22:02.744Z"
   },
   {
    "duration": 122,
    "start_time": "2023-02-02T10:22:02.769Z"
   },
   {
    "duration": 23,
    "start_time": "2023-02-02T10:22:02.895Z"
   },
   {
    "duration": 376,
    "start_time": "2023-02-02T10:22:02.920Z"
   },
   {
    "duration": 6200,
    "start_time": "2023-02-02T10:22:03.298Z"
   },
   {
    "duration": 93,
    "start_time": "2023-02-02T10:22:09.500Z"
   },
   {
    "duration": 577,
    "start_time": "2023-02-02T10:22:09.595Z"
   },
   {
    "duration": 55,
    "start_time": "2023-02-02T10:22:10.184Z"
   },
   {
    "duration": 63,
    "start_time": "2023-02-02T10:22:10.240Z"
   },
   {
    "duration": 8460,
    "start_time": "2023-02-02T10:22:10.305Z"
   },
   {
    "duration": 2,
    "start_time": "2023-02-02T10:22:18.768Z"
   },
   {
    "duration": 245,
    "start_time": "2023-02-02T10:22:18.772Z"
   },
   {
    "duration": 12,
    "start_time": "2023-02-02T10:22:19.019Z"
   },
   {
    "duration": 729,
    "start_time": "2023-02-02T10:22:19.033Z"
   },
   {
    "duration": 495,
    "start_time": "2023-02-02T10:22:19.764Z"
   },
   {
    "duration": 5,
    "start_time": "2023-02-02T10:22:20.261Z"
   },
   {
    "duration": 2437,
    "start_time": "2023-02-03T10:38:27.062Z"
   },
   {
    "duration": 1608,
    "start_time": "2023-02-03T10:38:29.502Z"
   },
   {
    "duration": 2,
    "start_time": "2023-02-03T10:38:31.112Z"
   },
   {
    "duration": 987,
    "start_time": "2023-02-03T10:38:31.116Z"
   },
   {
    "duration": 96,
    "start_time": "2023-02-03T10:38:32.105Z"
   },
   {
    "duration": 16,
    "start_time": "2023-02-03T10:38:32.203Z"
   },
   {
    "duration": 68,
    "start_time": "2023-02-03T10:38:32.221Z"
   },
   {
    "duration": 14,
    "start_time": "2023-02-03T10:38:32.291Z"
   },
   {
    "duration": 88,
    "start_time": "2023-02-03T10:38:32.306Z"
   },
   {
    "duration": 26,
    "start_time": "2023-02-03T10:38:32.397Z"
   },
   {
    "duration": 189,
    "start_time": "2023-02-03T10:38:32.424Z"
   },
   {
    "duration": 234,
    "start_time": "2023-02-03T10:38:32.614Z"
   },
   {
    "duration": 1410,
    "start_time": "2023-02-03T10:38:32.850Z"
   },
   {
    "duration": 26,
    "start_time": "2023-02-03T10:38:34.261Z"
   },
   {
    "duration": 21,
    "start_time": "2023-02-03T10:38:34.289Z"
   },
   {
    "duration": 39,
    "start_time": "2023-02-03T10:38:34.312Z"
   },
   {
    "duration": 4,
    "start_time": "2023-02-03T10:38:34.353Z"
   },
   {
    "duration": 30,
    "start_time": "2023-02-03T10:38:34.359Z"
   },
   {
    "duration": 21,
    "start_time": "2023-02-03T10:38:34.391Z"
   },
   {
    "duration": 119,
    "start_time": "2023-02-03T10:38:34.413Z"
   },
   {
    "duration": 29,
    "start_time": "2023-02-03T10:38:34.534Z"
   },
   {
    "duration": 52,
    "start_time": "2023-02-03T10:38:34.565Z"
   },
   {
    "duration": 686,
    "start_time": "2023-02-03T10:38:34.619Z"
   },
   {
    "duration": 72,
    "start_time": "2023-02-03T10:38:35.307Z"
   },
   {
    "duration": 15,
    "start_time": "2023-02-03T10:38:35.381Z"
   },
   {
    "duration": 17,
    "start_time": "2023-02-03T10:38:35.398Z"
   },
   {
    "duration": 77,
    "start_time": "2023-02-03T10:38:35.417Z"
   },
   {
    "duration": 4,
    "start_time": "2023-02-03T10:38:35.499Z"
   },
   {
    "duration": 393,
    "start_time": "2023-02-03T10:38:35.505Z"
   },
   {
    "duration": 5957,
    "start_time": "2023-02-03T10:38:35.900Z"
   },
   {
    "duration": 91,
    "start_time": "2023-02-03T10:38:41.858Z"
   },
   {
    "duration": 370,
    "start_time": "2023-02-03T10:38:41.951Z"
   },
   {
    "duration": 63,
    "start_time": "2023-02-03T10:38:42.323Z"
   },
   {
    "duration": 43,
    "start_time": "2023-02-03T10:38:42.388Z"
   },
   {
    "duration": 8582,
    "start_time": "2023-02-03T10:38:42.433Z"
   },
   {
    "duration": 3,
    "start_time": "2023-02-03T10:38:51.017Z"
   },
   {
    "duration": 192,
    "start_time": "2023-02-03T10:38:51.022Z"
   },
   {
    "duration": 11,
    "start_time": "2023-02-03T10:38:51.216Z"
   },
   {
    "duration": 522,
    "start_time": "2023-02-03T10:38:51.229Z"
   },
   {
    "duration": 413,
    "start_time": "2023-02-03T10:38:51.753Z"
   },
   {
    "duration": 4,
    "start_time": "2023-02-03T10:38:52.168Z"
   },
   {
    "duration": 13,
    "start_time": "2023-02-04T12:08:06.731Z"
   },
   {
    "duration": 1530,
    "start_time": "2023-02-04T12:08:06.746Z"
   },
   {
    "duration": 3,
    "start_time": "2023-02-04T12:08:08.277Z"
   },
   {
    "duration": 3059,
    "start_time": "2023-02-04T12:08:08.282Z"
   },
   {
    "duration": 102,
    "start_time": "2023-02-04T12:08:11.342Z"
   },
   {
    "duration": 17,
    "start_time": "2023-02-04T12:08:11.446Z"
   },
   {
    "duration": 68,
    "start_time": "2023-02-04T12:08:11.465Z"
   },
   {
    "duration": 13,
    "start_time": "2023-02-04T12:08:11.535Z"
   },
   {
    "duration": 103,
    "start_time": "2023-02-04T12:08:11.551Z"
   },
   {
    "duration": 37,
    "start_time": "2023-02-04T12:08:11.656Z"
   },
   {
    "duration": 191,
    "start_time": "2023-02-04T12:08:11.695Z"
   },
   {
    "duration": 190,
    "start_time": "2023-02-04T12:08:11.888Z"
   },
   {
    "duration": 1275,
    "start_time": "2023-02-04T12:08:12.080Z"
   },
   {
    "duration": 34,
    "start_time": "2023-02-04T12:08:13.357Z"
   },
   {
    "duration": 22,
    "start_time": "2023-02-04T12:08:13.393Z"
   },
   {
    "duration": 21,
    "start_time": "2023-02-04T12:08:13.417Z"
   },
   {
    "duration": 6,
    "start_time": "2023-02-04T12:08:13.440Z"
   },
   {
    "duration": 48,
    "start_time": "2023-02-04T12:08:13.448Z"
   },
   {
    "duration": 23,
    "start_time": "2023-02-04T12:08:13.498Z"
   },
   {
    "duration": 125,
    "start_time": "2023-02-04T12:08:13.523Z"
   },
   {
    "duration": 21,
    "start_time": "2023-02-04T12:08:13.650Z"
   },
   {
    "duration": 61,
    "start_time": "2023-02-04T12:08:13.673Z"
   },
   {
    "duration": 660,
    "start_time": "2023-02-04T12:08:13.736Z"
   },
   {
    "duration": 64,
    "start_time": "2023-02-04T12:08:14.397Z"
   },
   {
    "duration": 9,
    "start_time": "2023-02-04T12:08:14.463Z"
   },
   {
    "duration": 2,
    "start_time": "2023-02-04T12:08:14.491Z"
   },
   {
    "duration": 66,
    "start_time": "2023-02-04T12:08:14.494Z"
   },
   {
    "duration": 4,
    "start_time": "2023-02-04T12:08:14.564Z"
   },
   {
    "duration": 365,
    "start_time": "2023-02-04T12:08:14.570Z"
   },
   {
    "duration": 5644,
    "start_time": "2023-02-04T12:08:14.936Z"
   },
   {
    "duration": 83,
    "start_time": "2023-02-04T12:08:20.581Z"
   },
   {
    "duration": 333,
    "start_time": "2023-02-04T12:08:20.666Z"
   },
   {
    "duration": 45,
    "start_time": "2023-02-04T12:08:21.001Z"
   },
   {
    "duration": 50,
    "start_time": "2023-02-04T12:08:21.048Z"
   },
   {
    "duration": 7775,
    "start_time": "2023-02-04T12:08:21.100Z"
   },
   {
    "duration": 3,
    "start_time": "2023-02-04T12:08:28.876Z"
   },
   {
    "duration": 160,
    "start_time": "2023-02-04T12:08:28.880Z"
   },
   {
    "duration": 10,
    "start_time": "2023-02-04T12:08:29.042Z"
   },
   {
    "duration": 521,
    "start_time": "2023-02-04T12:08:29.053Z"
   },
   {
    "duration": 422,
    "start_time": "2023-02-04T12:08:29.576Z"
   },
   {
    "duration": 4,
    "start_time": "2023-02-04T12:08:29.999Z"
   },
   {
    "duration": 17,
    "start_time": "2023-02-04T12:35:56.523Z"
   },
   {
    "duration": 1723,
    "start_time": "2023-02-04T12:35:56.543Z"
   },
   {
    "duration": 3,
    "start_time": "2023-02-04T12:35:58.267Z"
   },
   {
    "duration": 3821,
    "start_time": "2023-02-04T12:35:58.271Z"
   },
   {
    "duration": 149,
    "start_time": "2023-02-04T12:36:02.096Z"
   },
   {
    "duration": 14,
    "start_time": "2023-02-04T12:36:02.246Z"
   },
   {
    "duration": 79,
    "start_time": "2023-02-04T12:36:02.262Z"
   },
   {
    "duration": 12,
    "start_time": "2023-02-04T12:36:02.343Z"
   },
   {
    "duration": 92,
    "start_time": "2023-02-04T12:36:02.357Z"
   },
   {
    "duration": 27,
    "start_time": "2023-02-04T12:36:02.451Z"
   },
   {
    "duration": 212,
    "start_time": "2023-02-04T12:36:02.479Z"
   },
   {
    "duration": 230,
    "start_time": "2023-02-04T12:36:02.693Z"
   },
   {
    "duration": 153,
    "start_time": "2023-02-04T12:36:02.925Z"
   },
   {
    "duration": 0,
    "start_time": "2023-02-04T12:36:03.082Z"
   },
   {
    "duration": 0,
    "start_time": "2023-02-04T12:36:03.084Z"
   },
   {
    "duration": 0,
    "start_time": "2023-02-04T12:36:03.084Z"
   },
   {
    "duration": 1,
    "start_time": "2023-02-04T12:36:03.085Z"
   },
   {
    "duration": 0,
    "start_time": "2023-02-04T12:36:03.086Z"
   },
   {
    "duration": 0,
    "start_time": "2023-02-04T12:36:03.088Z"
   },
   {
    "duration": 0,
    "start_time": "2023-02-04T12:36:03.095Z"
   },
   {
    "duration": 0,
    "start_time": "2023-02-04T12:36:03.099Z"
   },
   {
    "duration": 0,
    "start_time": "2023-02-04T12:36:03.101Z"
   },
   {
    "duration": 0,
    "start_time": "2023-02-04T12:36:03.107Z"
   },
   {
    "duration": 0,
    "start_time": "2023-02-04T12:36:03.108Z"
   },
   {
    "duration": 0,
    "start_time": "2023-02-04T12:36:03.110Z"
   },
   {
    "duration": 0,
    "start_time": "2023-02-04T12:36:03.111Z"
   },
   {
    "duration": 1,
    "start_time": "2023-02-04T12:36:03.117Z"
   },
   {
    "duration": 0,
    "start_time": "2023-02-04T12:36:03.119Z"
   },
   {
    "duration": 0,
    "start_time": "2023-02-04T12:36:03.120Z"
   },
   {
    "duration": 0,
    "start_time": "2023-02-04T12:36:03.121Z"
   },
   {
    "duration": 0,
    "start_time": "2023-02-04T12:36:03.122Z"
   },
   {
    "duration": 0,
    "start_time": "2023-02-04T12:36:03.124Z"
   },
   {
    "duration": 0,
    "start_time": "2023-02-04T12:36:03.125Z"
   },
   {
    "duration": 0,
    "start_time": "2023-02-04T12:36:03.127Z"
   },
   {
    "duration": 0,
    "start_time": "2023-02-04T12:36:03.128Z"
   },
   {
    "duration": 0,
    "start_time": "2023-02-04T12:36:03.129Z"
   },
   {
    "duration": 0,
    "start_time": "2023-02-04T12:36:03.131Z"
   },
   {
    "duration": 0,
    "start_time": "2023-02-04T12:36:03.132Z"
   },
   {
    "duration": 0,
    "start_time": "2023-02-04T12:36:03.133Z"
   },
   {
    "duration": 0,
    "start_time": "2023-02-04T12:36:03.134Z"
   },
   {
    "duration": 0,
    "start_time": "2023-02-04T12:36:03.136Z"
   },
   {
    "duration": 0,
    "start_time": "2023-02-04T12:36:03.137Z"
   },
   {
    "duration": 0,
    "start_time": "2023-02-04T12:36:03.138Z"
   },
   {
    "duration": 0,
    "start_time": "2023-02-04T12:36:03.141Z"
   },
   {
    "duration": 0,
    "start_time": "2023-02-04T12:36:03.142Z"
   },
   {
    "duration": 0,
    "start_time": "2023-02-04T12:36:03.143Z"
   },
   {
    "duration": 0,
    "start_time": "2023-02-04T12:36:03.144Z"
   },
   {
    "duration": 0,
    "start_time": "2023-02-04T12:36:03.192Z"
   },
   {
    "duration": 0,
    "start_time": "2023-02-04T12:36:03.193Z"
   },
   {
    "duration": 0,
    "start_time": "2023-02-04T12:36:03.196Z"
   },
   {
    "duration": 0,
    "start_time": "2023-02-04T12:36:03.197Z"
   },
   {
    "duration": 0,
    "start_time": "2023-02-04T12:36:03.199Z"
   },
   {
    "duration": 0,
    "start_time": "2023-02-04T12:36:03.200Z"
   },
   {
    "duration": 0,
    "start_time": "2023-02-04T12:36:03.202Z"
   },
   {
    "duration": 0,
    "start_time": "2023-02-04T12:36:03.203Z"
   },
   {
    "duration": 0,
    "start_time": "2023-02-04T12:36:03.205Z"
   },
   {
    "duration": 0,
    "start_time": "2023-02-04T12:36:03.206Z"
   },
   {
    "duration": 0,
    "start_time": "2023-02-04T12:36:03.208Z"
   },
   {
    "duration": 0,
    "start_time": "2023-02-04T12:36:03.210Z"
   },
   {
    "duration": 0,
    "start_time": "2023-02-04T12:36:03.211Z"
   },
   {
    "duration": 0,
    "start_time": "2023-02-04T12:36:03.213Z"
   },
   {
    "duration": 0,
    "start_time": "2023-02-04T12:36:03.215Z"
   },
   {
    "duration": 0,
    "start_time": "2023-02-04T12:36:03.216Z"
   },
   {
    "duration": 0,
    "start_time": "2023-02-04T12:36:03.217Z"
   },
   {
    "duration": 0,
    "start_time": "2023-02-04T12:36:03.218Z"
   },
   {
    "duration": 0,
    "start_time": "2023-02-04T12:36:03.219Z"
   },
   {
    "duration": 0,
    "start_time": "2023-02-04T12:36:03.222Z"
   },
   {
    "duration": 0,
    "start_time": "2023-02-04T12:36:03.223Z"
   },
   {
    "duration": 0,
    "start_time": "2023-02-04T12:36:03.225Z"
   },
   {
    "duration": 0,
    "start_time": "2023-02-04T12:36:03.227Z"
   },
   {
    "duration": 0,
    "start_time": "2023-02-04T12:36:03.228Z"
   },
   {
    "duration": 0,
    "start_time": "2023-02-04T12:36:03.229Z"
   },
   {
    "duration": 0,
    "start_time": "2023-02-04T12:36:03.230Z"
   },
   {
    "duration": 14,
    "start_time": "2023-02-04T17:58:39.954Z"
   },
   {
    "duration": 1915,
    "start_time": "2023-02-04T17:58:39.970Z"
   },
   {
    "duration": 3,
    "start_time": "2023-02-04T17:58:41.887Z"
   },
   {
    "duration": 2276,
    "start_time": "2023-02-04T17:58:41.892Z"
   },
   {
    "duration": 131,
    "start_time": "2023-02-04T17:58:44.171Z"
   },
   {
    "duration": 26,
    "start_time": "2023-02-04T17:58:44.305Z"
   },
   {
    "duration": 139,
    "start_time": "2023-02-04T17:58:44.333Z"
   },
   {
    "duration": 47,
    "start_time": "2023-02-04T17:58:44.474Z"
   },
   {
    "duration": 189,
    "start_time": "2023-02-04T17:58:44.524Z"
   },
   {
    "duration": 39,
    "start_time": "2023-02-04T17:58:44.715Z"
   },
   {
    "duration": 320,
    "start_time": "2023-02-04T17:58:44.757Z"
   },
   {
    "duration": 279,
    "start_time": "2023-02-04T17:58:45.082Z"
   },
   {
    "duration": 1899,
    "start_time": "2023-02-04T17:58:45.364Z"
   },
   {
    "duration": 52,
    "start_time": "2023-02-04T17:58:47.267Z"
   },
   {
    "duration": 39,
    "start_time": "2023-02-04T17:58:47.324Z"
   },
   {
    "duration": 39,
    "start_time": "2023-02-04T17:58:47.365Z"
   },
   {
    "duration": 62,
    "start_time": "2023-02-04T17:58:47.406Z"
   },
   {
    "duration": 27,
    "start_time": "2023-02-04T17:58:47.470Z"
   },
   {
    "duration": 61,
    "start_time": "2023-02-04T17:58:47.500Z"
   },
   {
    "duration": 141,
    "start_time": "2023-02-04T17:58:47.563Z"
   },
   {
    "duration": 33,
    "start_time": "2023-02-04T17:58:47.706Z"
   },
   {
    "duration": 89,
    "start_time": "2023-02-04T17:58:47.751Z"
   },
   {
    "duration": 889,
    "start_time": "2023-02-04T17:58:47.842Z"
   },
   {
    "duration": 68,
    "start_time": "2023-02-04T17:58:48.734Z"
   },
   {
    "duration": 14,
    "start_time": "2023-02-04T17:58:48.821Z"
   },
   {
    "duration": 34,
    "start_time": "2023-02-04T17:58:48.840Z"
   },
   {
    "duration": 94,
    "start_time": "2023-02-04T17:58:48.876Z"
   },
   {
    "duration": 7,
    "start_time": "2023-02-04T17:58:48.972Z"
   },
   {
    "duration": 429,
    "start_time": "2023-02-04T17:58:48.981Z"
   },
   {
    "duration": 7055,
    "start_time": "2023-02-04T17:58:49.413Z"
   },
   {
    "duration": 120,
    "start_time": "2023-02-04T17:58:56.470Z"
   },
   {
    "duration": 394,
    "start_time": "2023-02-04T17:58:56.592Z"
   },
   {
    "duration": 67,
    "start_time": "2023-02-04T17:58:56.988Z"
   },
   {
    "duration": 50,
    "start_time": "2023-02-04T17:58:57.061Z"
   },
   {
    "duration": 10206,
    "start_time": "2023-02-04T17:58:57.113Z"
   },
   {
    "duration": 9,
    "start_time": "2023-02-04T17:59:07.321Z"
   },
   {
    "duration": 251,
    "start_time": "2023-02-04T17:59:07.335Z"
   },
   {
    "duration": 18,
    "start_time": "2023-02-04T17:59:07.588Z"
   },
   {
    "duration": 729,
    "start_time": "2023-02-04T17:59:07.612Z"
   },
   {
    "duration": 471,
    "start_time": "2023-02-04T17:59:08.345Z"
   },
   {
    "duration": 6,
    "start_time": "2023-02-04T17:59:08.823Z"
   },
   {
    "duration": 13,
    "start_time": "2023-02-05T10:33:25.107Z"
   },
   {
    "duration": 1569,
    "start_time": "2023-02-05T10:33:25.122Z"
   },
   {
    "duration": 3,
    "start_time": "2023-02-05T10:33:26.693Z"
   },
   {
    "duration": 1017,
    "start_time": "2023-02-05T10:33:26.698Z"
   },
   {
    "duration": 101,
    "start_time": "2023-02-05T10:33:27.717Z"
   },
   {
    "duration": 23,
    "start_time": "2023-02-05T10:33:27.820Z"
   },
   {
    "duration": 53,
    "start_time": "2023-02-05T10:33:27.845Z"
   },
   {
    "duration": 15,
    "start_time": "2023-02-05T10:33:27.900Z"
   },
   {
    "duration": 71,
    "start_time": "2023-02-05T10:33:27.938Z"
   },
   {
    "duration": 36,
    "start_time": "2023-02-05T10:33:28.012Z"
   },
   {
    "duration": 219,
    "start_time": "2023-02-05T10:33:28.050Z"
   },
   {
    "duration": 242,
    "start_time": "2023-02-05T10:33:28.271Z"
   },
   {
    "duration": 1456,
    "start_time": "2023-02-05T10:33:28.514Z"
   },
   {
    "duration": 21,
    "start_time": "2023-02-05T10:33:29.972Z"
   },
   {
    "duration": 46,
    "start_time": "2023-02-05T10:33:29.995Z"
   },
   {
    "duration": 28,
    "start_time": "2023-02-05T10:33:30.042Z"
   },
   {
    "duration": 7,
    "start_time": "2023-02-05T10:33:30.072Z"
   },
   {
    "duration": 76,
    "start_time": "2023-02-05T10:33:30.080Z"
   },
   {
    "duration": 53,
    "start_time": "2023-02-05T10:33:30.158Z"
   },
   {
    "duration": 137,
    "start_time": "2023-02-05T10:33:30.213Z"
   },
   {
    "duration": 15,
    "start_time": "2023-02-05T10:33:30.352Z"
   },
   {
    "duration": 94,
    "start_time": "2023-02-05T10:33:30.369Z"
   },
   {
    "duration": 710,
    "start_time": "2023-02-05T10:33:30.465Z"
   },
   {
    "duration": 76,
    "start_time": "2023-02-05T10:33:31.177Z"
   },
   {
    "duration": 15,
    "start_time": "2023-02-05T10:33:31.255Z"
   },
   {
    "duration": 39,
    "start_time": "2023-02-05T10:33:31.272Z"
   },
   {
    "duration": 79,
    "start_time": "2023-02-05T10:33:31.313Z"
   },
   {
    "duration": 30,
    "start_time": "2023-02-05T10:33:31.398Z"
   },
   {
    "duration": 343,
    "start_time": "2023-02-05T10:33:31.430Z"
   },
   {
    "duration": 6217,
    "start_time": "2023-02-05T10:33:31.775Z"
   },
   {
    "duration": 102,
    "start_time": "2023-02-05T10:33:38.033Z"
   },
   {
    "duration": 384,
    "start_time": "2023-02-05T10:33:38.138Z"
   },
   {
    "duration": 64,
    "start_time": "2023-02-05T10:33:38.524Z"
   },
   {
    "duration": 62,
    "start_time": "2023-02-05T10:33:38.589Z"
   },
   {
    "duration": 8454,
    "start_time": "2023-02-05T10:33:38.653Z"
   },
   {
    "duration": 3,
    "start_time": "2023-02-05T10:33:47.109Z"
   },
   {
    "duration": 209,
    "start_time": "2023-02-05T10:33:47.114Z"
   },
   {
    "duration": 15,
    "start_time": "2023-02-05T10:33:47.324Z"
   },
   {
    "duration": 611,
    "start_time": "2023-02-05T10:33:47.341Z"
   },
   {
    "duration": 442,
    "start_time": "2023-02-05T10:33:47.953Z"
   },
   {
    "duration": 4,
    "start_time": "2023-02-05T10:33:48.398Z"
   }
  ],
  "kernelspec": {
   "display_name": "Python 3 (ipykernel)",
   "language": "python",
   "name": "python3"
  },
  "language_info": {
   "codemirror_mode": {
    "name": "ipython",
    "version": 3
   },
   "file_extension": ".py",
   "mimetype": "text/x-python",
   "name": "python",
   "nbconvert_exporter": "python",
   "pygments_lexer": "ipython3",
   "version": "3.9.5"
  },
  "toc": {
   "base_numbering": 1,
   "nav_menu": {},
   "number_sections": true,
   "sideBar": true,
   "skip_h1_title": true,
   "title_cell": "Table of Contents",
   "title_sidebar": "Contents",
   "toc_cell": false,
   "toc_position": {},
   "toc_section_display": true,
   "toc_window_display": false
  }
 },
 "nbformat": 4,
 "nbformat_minor": 2
}
