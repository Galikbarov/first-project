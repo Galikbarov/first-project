{
 "cells": [
  {
   "cell_type": "markdown",
   "metadata": {},
   "source": [
    "<div style=\"border:solid Chocolate 2px; padding: 40px\">\n",
    "\n",
    "<b>Привет, Роман!👋</b>\n",
    "\n",
    "Меня зовут Зуева Юлия, можно просто Юля 😏 Я буду ревьюером твоего проекта. Предлагаю обращаться на \"ты\", но если это неудобно, пожалуйста, скажи об этом!\n",
    "    \n",
    "Моя основная цель - помочь тебе стать компетентным Data Scientist'ом: вместе преодолеть трудности и еще больше развить твои сильные навыки 💪 В твоей работе я оставила комментарии, которые должны в этом помочь. Для твоего удобства комментарии раскрашены разными цветами: \n",
    "<br/>\n",
    "<div class=\"alert alert-success\">\n",
    "<h3> Комментарий ревьюера <a class=\"tocSkip\"> </h3>\n",
    "    \n",
    "<b>Все отлично!👍:</b> Решение полностью правильное, или я посчитала нужным тебя за что-то похвалить :) На такие решения можно опираться в будущих проектах.\n",
    "</div>\n",
    "\n",
    "<div class=\"alert alert-warning\">\n",
    "<h3> Комментарий ревьюера <a class=\"tocSkip\"> </h3>\n",
    "    \n",
    "<b>Некоторые замечания и рекомендации💡:</b> Решение станет еще лучше, если внести небольшие коррективы. Ты можешь учесть эти комментарии при выполнении будущих заданий или доработать проект сейчас (но это не обязательно).\n",
    "</div>\n",
    "<div class=\"alert alert-block alert-danger\">\n",
    "<h3> Комментарий ревьюера <a class=\"tocSkip\"></h3>\n",
    " \n",
    "<b>На доработку🤔:</b> Решение требует существенной переработки. Напомню, что проект не может быть принят с первого раза, если ревью содержит комментарии, рекомендующие доработать шаги.\n",
    "</div>\n",
    "<br/>\n",
    "Чтобы наша с тобой работа была еще эффективнее, ты точно так же можешь оставлять комментарии и задавать мне вопросы. Для таких случаев, пожалуйста, выбери собственное оформление комментариев, которое будет отличаться от моего, чтобы не создавалась путаница. По этой же причине попрошу тебя не удалять и не изменять мои комментарии. Все это позволит лучше ориентироваться в нашем с тобой диалоге, а повторную проверку (в случае ее необходимости) выполнять оперативнее 🚀\n",
    "\n",
    "Не спеши расстраиваться, если что-то не удалось с первого раза. Вместе мы обязательно разберемся со всеми трудностями! 🤓 "
   ]
  },
  {
   "cell_type": "markdown",
   "metadata": {},
   "source": [
    "# Выбор локации для скважины"
   ]
  },
  {
   "cell_type": "markdown",
   "metadata": {},
   "source": [
    "Необходимо решить, где бурить новую скважину для компании «ГлавРосГосНефть».\n",
    "Нам предоставлены пробы нефти в трёх регионах: в каждом 10 000 месторождений, где измерили качество нефти и объём её запасов.\n",
    "\n",
    "Шаги для выбора локации:\n",
    "- В избранном регионе ищут месторождения, для каждого определяют значения признаков;\n",
    "- Строят модель и оценивают объём запасов;\n",
    "- Выбирают месторождения с самым высокими оценками значений. Количество месторождений зависит от бюджета компании и стоимости разработки одной скважины;\n",
    "- Прибыль равна суммарной прибыли отобранных месторождений.\n",
    "\n",
    "**Цель исследования:**\n",
    "\n",
    "Построим модель машинного обучения, которая поможет определить регион, где добыча принесёт наибольшую прибыль. Проанализируем возможную прибыль и риски техникой *Bootstrap.*\n",
    "\n",
    "**Условия исследования:**\n",
    "\n",
    "- Для обучения модели подходит только линейная регрессия (остальные — недостаточно предсказуемые).\n",
    "- При разведке региона исследуют 500 точек, из которых с помощью машинного обучения выбирают 200 лучших для разработки.\n",
    "- Бюджет на разработку скважин в регионе — 10 млрд рублей.\n",
    "- При нынешних ценах один баррель сырья приносит 450 рублей дохода. Доход с каждой единицы продукта составляет 450 тыс. рублей, поскольку объём указан в тысячах баррелей.\n",
    "- После оценки рисков нужно оставить лишь те регионы, в которых вероятность убытков меньше 2.5%. Среди них выбирают регион с наибольшей средней прибылью.\n",
    "\n",
    "*Данные синтетические: детали контрактов и характеристики месторождений не разглашаются.*\n",
    "\n",
    "**Ход исследования:** \n",
    "\n",
    "Данные геологоразведки трёх регионов находятся в файлах: `geo_data_0.csv`, `geo_data_1.csv`, `geo_data_2.csv`. О качестве данных ничего не известно.\n",
    "\n",
    "Таким образом, исследование пройдёт в шесть этапов:\n",
    " 1. Загрузка и подготовка данных.\n",
    " 2. Обучение и проверка модели.\n",
    " 3. Подготовка к расчёту прибыли.\n",
    " 4. Напишем функцию для расчёта прибыли.\n",
    " 5. Расчёт прибыли и рисков.\n",
    " 6. Общий вывод.\n"
   ]
  },
  {
   "cell_type": "markdown",
   "metadata": {},
   "source": [
    "<div class=\"alert alert-success\">\n",
    "<h3> Комментарий ревьюера <a class=\"tocSkip\"> </h3> \n",
    "    \n",
    "<b>Все отлично! 👍:</b> Очень хорошо, что оставляешь в начале проекта его описание! Любой, кто захочет взглянуть на работу, сможет сразу погрузиться в суть задачи :)"
   ]
  },
  {
   "cell_type": "markdown",
   "metadata": {},
   "source": [
    "## Загрузим и подготовим данных"
   ]
  },
  {
   "cell_type": "code",
   "execution_count": 1,
   "metadata": {},
   "outputs": [],
   "source": [
    "import pandas as pd\n",
    "\n",
    "import numpy as np\n",
    "\n",
    "import matplotlib.pyplot as plt  \n",
    "\n",
    "import seaborn as sns  \n",
    "\n",
    "from sklearn.model_selection import train_test_split\n",
    "from sklearn.preprocessing import StandardScaler\n",
    "from sklearn.utils import shuffle\n",
    "from sklearn.linear_model import LinearRegression\n",
    "from sklearn.metrics import mean_squared_error"
   ]
  },
  {
   "cell_type": "markdown",
   "metadata": {},
   "source": [
    "<div class=\"alert alert-warning\">\n",
    "<h3> Комментарий ревьюера <a class=\"tocSkip\"> </h3>\n",
    "    \n",
    "<b>Некоторые замечания и рекомендации💡:</b> Ты сейчас загружаешь несколько функций, которые в данном проекте не используются. Так лучше не далать, это съедает ценные ресурсы оперативной памяти.\n",
    "    \n",
    "Также здесь могу еще немного рассказать про стандарты оформления и наведение красоты. Существует некий свод общих рекомендаций по оформлению кода PEP-8, где среди всего прочего есть <a href=\"https://pythonworld.ru/osnovy/pep-8-rukovodstvo-po-napisaniyu-koda-na-python.html#section-8\">раздел</a> про оформление импортов. Данные рекомендации (не строгие правила) направлены на то, чтобы сделать код более единообразным и удобочитаемым. Всегда необходимо учитывать, что код читается гораздо чаще чем пишется. Поэтому в отношении импортов помимо общих рекомендаций можно еще взять себе за правило делить их на тематические группы (например, обработка, графики, модели, метрики и т.д.) и сортировать по алфавиту. Это особенно помогает, когда импортов набирается достаточно много.\n",
    "    \n",
    "Для того, чтобы не заморачиваться с форматированием кода сомостоятельно, существуют специальные алгоритмы-линетры, например, flake8, pylint, autopep8, autoflake, isort, black, YAPF и многие другие (информацию по ним найти не сложно). Если ты преимущественно работаешь прямо здесь в тетрадке, а не локально, то можно подключить <a href = 'https://stackoverflow.com/questions/26126853/verifying-pep8-in-ipython-notebook-code'>flake8</a> или <a href = 'https://stackoverflow.com/questions/50358327/using-pylint-in-ipython-jupyter-notebook'>pylint</a>, но нужно учитывать, что оценивать они будут каждую ячейку по отдельно, а не весь проект целиком."
   ]
  },
  {
   "cell_type": "markdown",
   "metadata": {},
   "source": [
    "<div class=\"alert alert-info\">\n",
    "    <b>Комментарий студента:</b> Привет! Спасибо за проверку работы и за новые знания!\n",
    "</div>"
   ]
  },
  {
   "cell_type": "markdown",
   "metadata": {},
   "source": [
    "<div class=\"alert alert-success\">\n",
    "<b>Комментарий ревьюера 2:</b> Рада была помочь :)"
   ]
  },
  {
   "cell_type": "code",
   "execution_count": 2,
   "metadata": {},
   "outputs": [],
   "source": [
    "RANDOM_STATE = 12345\n",
    "BUDGET = 10_000\n",
    "INCOM_PER_UNIT = 0.45 \n",
    "WELLS = 500\n",
    "BEST_WELLS = 200"
   ]
  },
  {
   "cell_type": "code",
   "execution_count": 3,
   "metadata": {},
   "outputs": [
    {
     "name": "stdout",
     "output_type": "stream",
     "text": [
      "Бюджет на исследование: 10000 млн руб.\n",
      "Стоимость 1 единцы продукта: 0 млн руб.\n",
      "Количество исследуемых точек 500 ед.\n",
      "Количество лучших точек 200 ед.\n"
     ]
    }
   ],
   "source": [
    "print(f'Бюджет на исследование: {BUDGET:.0f} млн руб.')\n",
    "print(f'Стоимость 1 единцы продукта: {INCOM_PER_UNIT:.0f} млн руб.')\n",
    "print(f'Количество исследуемых точек {WELLS:.0f} ед.')\n",
    "print(f'Количество лучших точек {BEST_WELLS:.0f} ед.')"
   ]
  },
  {
   "cell_type": "code",
   "execution_count": 4,
   "metadata": {},
   "outputs": [
    {
     "data": {
      "text/html": [
       "<div>\n",
       "<style scoped>\n",
       "    .dataframe tbody tr th:only-of-type {\n",
       "        vertical-align: middle;\n",
       "    }\n",
       "\n",
       "    .dataframe tbody tr th {\n",
       "        vertical-align: top;\n",
       "    }\n",
       "\n",
       "    .dataframe thead th {\n",
       "        text-align: right;\n",
       "    }\n",
       "</style>\n",
       "<table border=\"1\" class=\"dataframe\">\n",
       "  <thead>\n",
       "    <tr style=\"text-align: right;\">\n",
       "      <th></th>\n",
       "      <th>id</th>\n",
       "      <th>f0</th>\n",
       "      <th>f1</th>\n",
       "      <th>f2</th>\n",
       "      <th>product</th>\n",
       "    </tr>\n",
       "  </thead>\n",
       "  <tbody>\n",
       "    <tr>\n",
       "      <th>0</th>\n",
       "      <td>txEyH</td>\n",
       "      <td>0.705745</td>\n",
       "      <td>-0.497823</td>\n",
       "      <td>1.221170</td>\n",
       "      <td>105.280062</td>\n",
       "    </tr>\n",
       "    <tr>\n",
       "      <th>1</th>\n",
       "      <td>2acmU</td>\n",
       "      <td>1.334711</td>\n",
       "      <td>-0.340164</td>\n",
       "      <td>4.365080</td>\n",
       "      <td>73.037750</td>\n",
       "    </tr>\n",
       "    <tr>\n",
       "      <th>2</th>\n",
       "      <td>409Wp</td>\n",
       "      <td>1.022732</td>\n",
       "      <td>0.151990</td>\n",
       "      <td>1.419926</td>\n",
       "      <td>85.265647</td>\n",
       "    </tr>\n",
       "    <tr>\n",
       "      <th>3</th>\n",
       "      <td>iJLyR</td>\n",
       "      <td>-0.032172</td>\n",
       "      <td>0.139033</td>\n",
       "      <td>2.978566</td>\n",
       "      <td>168.620776</td>\n",
       "    </tr>\n",
       "    <tr>\n",
       "      <th>4</th>\n",
       "      <td>Xdl7t</td>\n",
       "      <td>1.988431</td>\n",
       "      <td>0.155413</td>\n",
       "      <td>4.751769</td>\n",
       "      <td>154.036647</td>\n",
       "    </tr>\n",
       "    <tr>\n",
       "      <th>5</th>\n",
       "      <td>wX4Hy</td>\n",
       "      <td>0.969570</td>\n",
       "      <td>0.489775</td>\n",
       "      <td>-0.735383</td>\n",
       "      <td>64.741541</td>\n",
       "    </tr>\n",
       "    <tr>\n",
       "      <th>6</th>\n",
       "      <td>tL6pL</td>\n",
       "      <td>0.645075</td>\n",
       "      <td>0.530656</td>\n",
       "      <td>1.780266</td>\n",
       "      <td>49.055285</td>\n",
       "    </tr>\n",
       "    <tr>\n",
       "      <th>7</th>\n",
       "      <td>BYPU6</td>\n",
       "      <td>-0.400648</td>\n",
       "      <td>0.808337</td>\n",
       "      <td>-5.624670</td>\n",
       "      <td>72.943292</td>\n",
       "    </tr>\n",
       "    <tr>\n",
       "      <th>8</th>\n",
       "      <td>j9Oui</td>\n",
       "      <td>0.643105</td>\n",
       "      <td>-0.551583</td>\n",
       "      <td>2.372141</td>\n",
       "      <td>113.356160</td>\n",
       "    </tr>\n",
       "    <tr>\n",
       "      <th>9</th>\n",
       "      <td>OLuZU</td>\n",
       "      <td>2.173381</td>\n",
       "      <td>0.563698</td>\n",
       "      <td>9.441852</td>\n",
       "      <td>127.910945</td>\n",
       "    </tr>\n",
       "  </tbody>\n",
       "</table>\n",
       "</div>"
      ],
      "text/plain": [
       "      id        f0        f1        f2     product\n",
       "0  txEyH  0.705745 -0.497823  1.221170  105.280062\n",
       "1  2acmU  1.334711 -0.340164  4.365080   73.037750\n",
       "2  409Wp  1.022732  0.151990  1.419926   85.265647\n",
       "3  iJLyR -0.032172  0.139033  2.978566  168.620776\n",
       "4  Xdl7t  1.988431  0.155413  4.751769  154.036647\n",
       "5  wX4Hy  0.969570  0.489775 -0.735383   64.741541\n",
       "6  tL6pL  0.645075  0.530656  1.780266   49.055285\n",
       "7  BYPU6 -0.400648  0.808337 -5.624670   72.943292\n",
       "8  j9Oui  0.643105 -0.551583  2.372141  113.356160\n",
       "9  OLuZU  2.173381  0.563698  9.441852  127.910945"
      ]
     },
     "execution_count": 4,
     "metadata": {},
     "output_type": "execute_result"
    }
   ],
   "source": [
    "data_0 = pd.read_csv('/datasets/geo_data_0.csv')\n",
    "data_1 = pd.read_csv('/datasets/geo_data_1.csv')\n",
    "data_2 = pd.read_csv('/datasets/geo_data_2.csv')\n",
    "\n",
    "data_0.head(10)"
   ]
  },
  {
   "cell_type": "code",
   "execution_count": 5,
   "metadata": {},
   "outputs": [
    {
     "name": "stdout",
     "output_type": "stream",
     "text": [
      "<class 'pandas.core.frame.DataFrame'>\n",
      "RangeIndex: 100000 entries, 0 to 99999\n",
      "Data columns (total 5 columns):\n",
      " #   Column   Non-Null Count   Dtype  \n",
      "---  ------   --------------   -----  \n",
      " 0   id       100000 non-null  object \n",
      " 1   f0       100000 non-null  float64\n",
      " 2   f1       100000 non-null  float64\n",
      " 3   f2       100000 non-null  float64\n",
      " 4   product  100000 non-null  float64\n",
      "dtypes: float64(4), object(1)\n",
      "memory usage: 3.8+ MB\n",
      "<class 'pandas.core.frame.DataFrame'>\n",
      "RangeIndex: 100000 entries, 0 to 99999\n",
      "Data columns (total 5 columns):\n",
      " #   Column   Non-Null Count   Dtype  \n",
      "---  ------   --------------   -----  \n",
      " 0   id       100000 non-null  object \n",
      " 1   f0       100000 non-null  float64\n",
      " 2   f1       100000 non-null  float64\n",
      " 3   f2       100000 non-null  float64\n",
      " 4   product  100000 non-null  float64\n",
      "dtypes: float64(4), object(1)\n",
      "memory usage: 3.8+ MB\n",
      "<class 'pandas.core.frame.DataFrame'>\n",
      "RangeIndex: 100000 entries, 0 to 99999\n",
      "Data columns (total 5 columns):\n",
      " #   Column   Non-Null Count   Dtype  \n",
      "---  ------   --------------   -----  \n",
      " 0   id       100000 non-null  object \n",
      " 1   f0       100000 non-null  float64\n",
      " 2   f1       100000 non-null  float64\n",
      " 3   f2       100000 non-null  float64\n",
      " 4   product  100000 non-null  float64\n",
      "dtypes: float64(4), object(1)\n",
      "memory usage: 3.8+ MB\n"
     ]
    }
   ],
   "source": [
    "data_0.info()\n",
    "data_1.info()\n",
    "data_2.info()"
   ]
  },
  {
   "cell_type": "markdown",
   "metadata": {},
   "source": [
    "* `id` — уникальный идентификатор скважины;\n",
    "* `f0, f1, f2` — три признака точек (неважно, что они означают, но сами признаки значимы);\n",
    "* `product` — объём запасов в скважине (тыс. баррелей)."
   ]
  },
  {
   "cell_type": "code",
   "execution_count": 6,
   "metadata": {},
   "outputs": [
    {
     "data": {
      "text/plain": [
       "0"
      ]
     },
     "metadata": {},
     "output_type": "display_data"
    },
    {
     "data": {
      "text/plain": [
       "0"
      ]
     },
     "metadata": {},
     "output_type": "display_data"
    },
    {
     "data": {
      "text/plain": [
       "0"
      ]
     },
     "metadata": {},
     "output_type": "display_data"
    }
   ],
   "source": [
    "display(data_0.duplicated().sum())\n",
    "display(data_0.duplicated().sum())\n",
    "display(data_0.duplicated().sum())"
   ]
  },
  {
   "cell_type": "markdown",
   "metadata": {},
   "source": [
    "Избавимся от лишней информации:"
   ]
  },
  {
   "cell_type": "code",
   "execution_count": 7,
   "metadata": {},
   "outputs": [],
   "source": [
    "data_0 = data_0.drop(['id'], axis=1)\n",
    "data_1 = data_1.drop(['id'], axis=1)\n",
    "data_2 = data_2.drop(['id'], axis=1)"
   ]
  },
  {
   "cell_type": "code",
   "execution_count": 8,
   "metadata": {},
   "outputs": [
    {
     "data": {
      "text/html": [
       "<div>\n",
       "<style scoped>\n",
       "    .dataframe tbody tr th:only-of-type {\n",
       "        vertical-align: middle;\n",
       "    }\n",
       "\n",
       "    .dataframe tbody tr th {\n",
       "        vertical-align: top;\n",
       "    }\n",
       "\n",
       "    .dataframe thead th {\n",
       "        text-align: right;\n",
       "    }\n",
       "</style>\n",
       "<table border=\"1\" class=\"dataframe\">\n",
       "  <thead>\n",
       "    <tr style=\"text-align: right;\">\n",
       "      <th></th>\n",
       "      <th>f0</th>\n",
       "      <th>f1</th>\n",
       "      <th>f2</th>\n",
       "      <th>product</th>\n",
       "    </tr>\n",
       "  </thead>\n",
       "  <tbody>\n",
       "    <tr>\n",
       "      <th>0</th>\n",
       "      <td>0.705745</td>\n",
       "      <td>-0.497823</td>\n",
       "      <td>1.221170</td>\n",
       "      <td>105.280062</td>\n",
       "    </tr>\n",
       "    <tr>\n",
       "      <th>1</th>\n",
       "      <td>1.334711</td>\n",
       "      <td>-0.340164</td>\n",
       "      <td>4.365080</td>\n",
       "      <td>73.037750</td>\n",
       "    </tr>\n",
       "    <tr>\n",
       "      <th>2</th>\n",
       "      <td>1.022732</td>\n",
       "      <td>0.151990</td>\n",
       "      <td>1.419926</td>\n",
       "      <td>85.265647</td>\n",
       "    </tr>\n",
       "    <tr>\n",
       "      <th>3</th>\n",
       "      <td>-0.032172</td>\n",
       "      <td>0.139033</td>\n",
       "      <td>2.978566</td>\n",
       "      <td>168.620776</td>\n",
       "    </tr>\n",
       "    <tr>\n",
       "      <th>4</th>\n",
       "      <td>1.988431</td>\n",
       "      <td>0.155413</td>\n",
       "      <td>4.751769</td>\n",
       "      <td>154.036647</td>\n",
       "    </tr>\n",
       "  </tbody>\n",
       "</table>\n",
       "</div>"
      ],
      "text/plain": [
       "         f0        f1        f2     product\n",
       "0  0.705745 -0.497823  1.221170  105.280062\n",
       "1  1.334711 -0.340164  4.365080   73.037750\n",
       "2  1.022732  0.151990  1.419926   85.265647\n",
       "3 -0.032172  0.139033  2.978566  168.620776\n",
       "4  1.988431  0.155413  4.751769  154.036647"
      ]
     },
     "execution_count": 8,
     "metadata": {},
     "output_type": "execute_result"
    }
   ],
   "source": [
    "data_0.head(5)"
   ]
  },
  {
   "cell_type": "code",
   "execution_count": 9,
   "metadata": {},
   "outputs": [
    {
     "data": {
      "text/html": [
       "<div>\n",
       "<style scoped>\n",
       "    .dataframe tbody tr th:only-of-type {\n",
       "        vertical-align: middle;\n",
       "    }\n",
       "\n",
       "    .dataframe tbody tr th {\n",
       "        vertical-align: top;\n",
       "    }\n",
       "\n",
       "    .dataframe thead th {\n",
       "        text-align: right;\n",
       "    }\n",
       "</style>\n",
       "<table border=\"1\" class=\"dataframe\">\n",
       "  <thead>\n",
       "    <tr style=\"text-align: right;\">\n",
       "      <th></th>\n",
       "      <th>f0</th>\n",
       "      <th>f1</th>\n",
       "      <th>f2</th>\n",
       "      <th>product</th>\n",
       "    </tr>\n",
       "  </thead>\n",
       "  <tbody>\n",
       "    <tr>\n",
       "      <th>count</th>\n",
       "      <td>100000.000000</td>\n",
       "      <td>100000.000000</td>\n",
       "      <td>100000.000000</td>\n",
       "      <td>100000.000000</td>\n",
       "    </tr>\n",
       "    <tr>\n",
       "      <th>mean</th>\n",
       "      <td>0.500419</td>\n",
       "      <td>0.250143</td>\n",
       "      <td>2.502647</td>\n",
       "      <td>92.500000</td>\n",
       "    </tr>\n",
       "    <tr>\n",
       "      <th>std</th>\n",
       "      <td>0.871832</td>\n",
       "      <td>0.504433</td>\n",
       "      <td>3.248248</td>\n",
       "      <td>44.288691</td>\n",
       "    </tr>\n",
       "    <tr>\n",
       "      <th>min</th>\n",
       "      <td>-1.408605</td>\n",
       "      <td>-0.848218</td>\n",
       "      <td>-12.088328</td>\n",
       "      <td>0.000000</td>\n",
       "    </tr>\n",
       "    <tr>\n",
       "      <th>25%</th>\n",
       "      <td>-0.072580</td>\n",
       "      <td>-0.200881</td>\n",
       "      <td>0.287748</td>\n",
       "      <td>56.497507</td>\n",
       "    </tr>\n",
       "    <tr>\n",
       "      <th>50%</th>\n",
       "      <td>0.502360</td>\n",
       "      <td>0.250252</td>\n",
       "      <td>2.515969</td>\n",
       "      <td>91.849972</td>\n",
       "    </tr>\n",
       "    <tr>\n",
       "      <th>75%</th>\n",
       "      <td>1.073581</td>\n",
       "      <td>0.700646</td>\n",
       "      <td>4.715088</td>\n",
       "      <td>128.564089</td>\n",
       "    </tr>\n",
       "    <tr>\n",
       "      <th>max</th>\n",
       "      <td>2.362331</td>\n",
       "      <td>1.343769</td>\n",
       "      <td>16.003790</td>\n",
       "      <td>185.364347</td>\n",
       "    </tr>\n",
       "  </tbody>\n",
       "</table>\n",
       "</div>"
      ],
      "text/plain": [
       "                  f0             f1             f2        product\n",
       "count  100000.000000  100000.000000  100000.000000  100000.000000\n",
       "mean        0.500419       0.250143       2.502647      92.500000\n",
       "std         0.871832       0.504433       3.248248      44.288691\n",
       "min        -1.408605      -0.848218     -12.088328       0.000000\n",
       "25%        -0.072580      -0.200881       0.287748      56.497507\n",
       "50%         0.502360       0.250252       2.515969      91.849972\n",
       "75%         1.073581       0.700646       4.715088     128.564089\n",
       "max         2.362331       1.343769      16.003790     185.364347"
      ]
     },
     "execution_count": 9,
     "metadata": {},
     "output_type": "execute_result"
    }
   ],
   "source": [
    "data_0.describe()"
   ]
  },
  {
   "cell_type": "code",
   "execution_count": 10,
   "metadata": {},
   "outputs": [
    {
     "data": {
      "text/html": [
       "<div>\n",
       "<style scoped>\n",
       "    .dataframe tbody tr th:only-of-type {\n",
       "        vertical-align: middle;\n",
       "    }\n",
       "\n",
       "    .dataframe tbody tr th {\n",
       "        vertical-align: top;\n",
       "    }\n",
       "\n",
       "    .dataframe thead th {\n",
       "        text-align: right;\n",
       "    }\n",
       "</style>\n",
       "<table border=\"1\" class=\"dataframe\">\n",
       "  <thead>\n",
       "    <tr style=\"text-align: right;\">\n",
       "      <th></th>\n",
       "      <th>f0</th>\n",
       "      <th>f1</th>\n",
       "      <th>f2</th>\n",
       "      <th>product</th>\n",
       "    </tr>\n",
       "  </thead>\n",
       "  <tbody>\n",
       "    <tr>\n",
       "      <th>count</th>\n",
       "      <td>100000.000000</td>\n",
       "      <td>100000.000000</td>\n",
       "      <td>100000.000000</td>\n",
       "      <td>100000.000000</td>\n",
       "    </tr>\n",
       "    <tr>\n",
       "      <th>mean</th>\n",
       "      <td>1.141296</td>\n",
       "      <td>-4.796579</td>\n",
       "      <td>2.494541</td>\n",
       "      <td>68.825000</td>\n",
       "    </tr>\n",
       "    <tr>\n",
       "      <th>std</th>\n",
       "      <td>8.965932</td>\n",
       "      <td>5.119872</td>\n",
       "      <td>1.703572</td>\n",
       "      <td>45.944423</td>\n",
       "    </tr>\n",
       "    <tr>\n",
       "      <th>min</th>\n",
       "      <td>-31.609576</td>\n",
       "      <td>-26.358598</td>\n",
       "      <td>-0.018144</td>\n",
       "      <td>0.000000</td>\n",
       "    </tr>\n",
       "    <tr>\n",
       "      <th>25%</th>\n",
       "      <td>-6.298551</td>\n",
       "      <td>-8.267985</td>\n",
       "      <td>1.000021</td>\n",
       "      <td>26.953261</td>\n",
       "    </tr>\n",
       "    <tr>\n",
       "      <th>50%</th>\n",
       "      <td>1.153055</td>\n",
       "      <td>-4.813172</td>\n",
       "      <td>2.011479</td>\n",
       "      <td>57.085625</td>\n",
       "    </tr>\n",
       "    <tr>\n",
       "      <th>75%</th>\n",
       "      <td>8.621015</td>\n",
       "      <td>-1.332816</td>\n",
       "      <td>3.999904</td>\n",
       "      <td>107.813044</td>\n",
       "    </tr>\n",
       "    <tr>\n",
       "      <th>max</th>\n",
       "      <td>29.421755</td>\n",
       "      <td>18.734063</td>\n",
       "      <td>5.019721</td>\n",
       "      <td>137.945408</td>\n",
       "    </tr>\n",
       "  </tbody>\n",
       "</table>\n",
       "</div>"
      ],
      "text/plain": [
       "                  f0             f1             f2        product\n",
       "count  100000.000000  100000.000000  100000.000000  100000.000000\n",
       "mean        1.141296      -4.796579       2.494541      68.825000\n",
       "std         8.965932       5.119872       1.703572      45.944423\n",
       "min       -31.609576     -26.358598      -0.018144       0.000000\n",
       "25%        -6.298551      -8.267985       1.000021      26.953261\n",
       "50%         1.153055      -4.813172       2.011479      57.085625\n",
       "75%         8.621015      -1.332816       3.999904     107.813044\n",
       "max        29.421755      18.734063       5.019721     137.945408"
      ]
     },
     "execution_count": 10,
     "metadata": {},
     "output_type": "execute_result"
    }
   ],
   "source": [
    "data_1.describe()"
   ]
  },
  {
   "cell_type": "code",
   "execution_count": 11,
   "metadata": {},
   "outputs": [
    {
     "data": {
      "text/html": [
       "<div>\n",
       "<style scoped>\n",
       "    .dataframe tbody tr th:only-of-type {\n",
       "        vertical-align: middle;\n",
       "    }\n",
       "\n",
       "    .dataframe tbody tr th {\n",
       "        vertical-align: top;\n",
       "    }\n",
       "\n",
       "    .dataframe thead th {\n",
       "        text-align: right;\n",
       "    }\n",
       "</style>\n",
       "<table border=\"1\" class=\"dataframe\">\n",
       "  <thead>\n",
       "    <tr style=\"text-align: right;\">\n",
       "      <th></th>\n",
       "      <th>f0</th>\n",
       "      <th>f1</th>\n",
       "      <th>f2</th>\n",
       "      <th>product</th>\n",
       "    </tr>\n",
       "  </thead>\n",
       "  <tbody>\n",
       "    <tr>\n",
       "      <th>count</th>\n",
       "      <td>100000.000000</td>\n",
       "      <td>100000.000000</td>\n",
       "      <td>100000.000000</td>\n",
       "      <td>100000.000000</td>\n",
       "    </tr>\n",
       "    <tr>\n",
       "      <th>mean</th>\n",
       "      <td>0.002023</td>\n",
       "      <td>-0.002081</td>\n",
       "      <td>2.495128</td>\n",
       "      <td>95.000000</td>\n",
       "    </tr>\n",
       "    <tr>\n",
       "      <th>std</th>\n",
       "      <td>1.732045</td>\n",
       "      <td>1.730417</td>\n",
       "      <td>3.473445</td>\n",
       "      <td>44.749921</td>\n",
       "    </tr>\n",
       "    <tr>\n",
       "      <th>min</th>\n",
       "      <td>-8.760004</td>\n",
       "      <td>-7.084020</td>\n",
       "      <td>-11.970335</td>\n",
       "      <td>0.000000</td>\n",
       "    </tr>\n",
       "    <tr>\n",
       "      <th>25%</th>\n",
       "      <td>-1.162288</td>\n",
       "      <td>-1.174820</td>\n",
       "      <td>0.130359</td>\n",
       "      <td>59.450441</td>\n",
       "    </tr>\n",
       "    <tr>\n",
       "      <th>50%</th>\n",
       "      <td>0.009424</td>\n",
       "      <td>-0.009482</td>\n",
       "      <td>2.484236</td>\n",
       "      <td>94.925613</td>\n",
       "    </tr>\n",
       "    <tr>\n",
       "      <th>75%</th>\n",
       "      <td>1.158535</td>\n",
       "      <td>1.163678</td>\n",
       "      <td>4.858794</td>\n",
       "      <td>130.595027</td>\n",
       "    </tr>\n",
       "    <tr>\n",
       "      <th>max</th>\n",
       "      <td>7.238262</td>\n",
       "      <td>7.844801</td>\n",
       "      <td>16.739402</td>\n",
       "      <td>190.029838</td>\n",
       "    </tr>\n",
       "  </tbody>\n",
       "</table>\n",
       "</div>"
      ],
      "text/plain": [
       "                  f0             f1             f2        product\n",
       "count  100000.000000  100000.000000  100000.000000  100000.000000\n",
       "mean        0.002023      -0.002081       2.495128      95.000000\n",
       "std         1.732045       1.730417       3.473445      44.749921\n",
       "min        -8.760004      -7.084020     -11.970335       0.000000\n",
       "25%        -1.162288      -1.174820       0.130359      59.450441\n",
       "50%         0.009424      -0.009482       2.484236      94.925613\n",
       "75%         1.158535       1.163678       4.858794     130.595027\n",
       "max         7.238262       7.844801      16.739402     190.029838"
      ]
     },
     "execution_count": 11,
     "metadata": {},
     "output_type": "execute_result"
    }
   ],
   "source": [
    "data_2.describe()"
   ]
  },
  {
   "cell_type": "markdown",
   "metadata": {},
   "source": [
    "Вывод: данные подготовлены к работе."
   ]
  },
  {
   "cell_type": "markdown",
   "metadata": {},
   "source": [
    "<div class=\"alert alert-success\">\n",
    "<h3> Комментарий ревьюера <a class=\"tocSkip\"> </h3> \n",
    "    \n",
    "<b>Все отлично! 👍:</b> Супер, с данными немного познакомились, можем двигаться дальше! Молодец, что отбрасываешь `id`: в разного рода задачах уникальный идентификатор нам нужен в таких случаях, как, например, проверка дубликатов или объединение таблиц между собой, но для обучения моделей этот признак никакой дополнительной информации не принесет."
   ]
  },
  {
   "cell_type": "markdown",
   "metadata": {},
   "source": [
    "<div class=\"alert alert-warning\">\n",
    "<h3> Комментарий ревьюера <a class=\"tocSkip\"> </h3>\n",
    "    \n",
    "<b>Некоторые замечания и рекомендации💡:</b> По нескольким строкам достаточно сложно понять, что происходит внутри всего датасета, вдруг там какие-то прям очевидные силбно выделяющиеся аномалии, которые будут мешать процессу обучения. Чтобы это проверить, важно изучать распределения переменных или хотя бы воспользоваться методом describe."
   ]
  },
  {
   "cell_type": "markdown",
   "metadata": {},
   "source": [
    "<div class=\"alert alert-info\">\n",
    "    <b>Комментарий студента:</b> Исправил)\n",
    "</div>"
   ]
  },
  {
   "cell_type": "markdown",
   "metadata": {},
   "source": [
    "<div class=\"alert alert-success\">\n",
    "<b>Комментарий ревьюера 2:</b> Класс!"
   ]
  },
  {
   "cell_type": "markdown",
   "metadata": {},
   "source": [
    "## Обучим и проверим модель для каждого региона:"
   ]
  },
  {
   "cell_type": "markdown",
   "metadata": {},
   "source": [
    "### Разобъём данные на обучающую и валидационную выборки в соотношении 75:25."
   ]
  },
  {
   "cell_type": "markdown",
   "metadata": {},
   "source": [
    "Проверим данные с помощью корреляции Пирсона на наличие сильно-скоррелированных (мультиколлинеарных признаков превышающих порог в 0.95):"
   ]
  },
  {
   "cell_type": "code",
   "execution_count": 12,
   "metadata": {},
   "outputs": [
    {
     "data": {
      "text/html": [
       "<div>\n",
       "<style scoped>\n",
       "    .dataframe tbody tr th:only-of-type {\n",
       "        vertical-align: middle;\n",
       "    }\n",
       "\n",
       "    .dataframe tbody tr th {\n",
       "        vertical-align: top;\n",
       "    }\n",
       "\n",
       "    .dataframe thead th {\n",
       "        text-align: right;\n",
       "    }\n",
       "</style>\n",
       "<table border=\"1\" class=\"dataframe\">\n",
       "  <thead>\n",
       "    <tr style=\"text-align: right;\">\n",
       "      <th></th>\n",
       "      <th>f0</th>\n",
       "      <th>f1</th>\n",
       "      <th>f2</th>\n",
       "      <th>product</th>\n",
       "    </tr>\n",
       "  </thead>\n",
       "  <tbody>\n",
       "    <tr>\n",
       "      <th>f0</th>\n",
       "      <td>1.000000</td>\n",
       "      <td>-0.440723</td>\n",
       "      <td>-0.003153</td>\n",
       "      <td>0.143536</td>\n",
       "    </tr>\n",
       "    <tr>\n",
       "      <th>f1</th>\n",
       "      <td>-0.440723</td>\n",
       "      <td>1.000000</td>\n",
       "      <td>0.001724</td>\n",
       "      <td>-0.192356</td>\n",
       "    </tr>\n",
       "    <tr>\n",
       "      <th>f2</th>\n",
       "      <td>-0.003153</td>\n",
       "      <td>0.001724</td>\n",
       "      <td>1.000000</td>\n",
       "      <td>0.483663</td>\n",
       "    </tr>\n",
       "    <tr>\n",
       "      <th>product</th>\n",
       "      <td>0.143536</td>\n",
       "      <td>-0.192356</td>\n",
       "      <td>0.483663</td>\n",
       "      <td>1.000000</td>\n",
       "    </tr>\n",
       "  </tbody>\n",
       "</table>\n",
       "</div>"
      ],
      "text/plain": [
       "               f0        f1        f2   product\n",
       "f0       1.000000 -0.440723 -0.003153  0.143536\n",
       "f1      -0.440723  1.000000  0.001724 -0.192356\n",
       "f2      -0.003153  0.001724  1.000000  0.483663\n",
       "product  0.143536 -0.192356  0.483663  1.000000"
      ]
     },
     "metadata": {},
     "output_type": "display_data"
    },
    {
     "data": {
      "image/png": "[encoded data removed]",
      "text/plain": [
       "<Figure size 1368x504 with 2 Axes>"
      ]
     },
     "metadata": {
      "needs_background": "light"
     },
     "output_type": "display_data"
    },
    {
     "data": {
      "text/html": [
       "<div>\n",
       "<style scoped>\n",
       "    .dataframe tbody tr th:only-of-type {\n",
       "        vertical-align: middle;\n",
       "    }\n",
       "\n",
       "    .dataframe tbody tr th {\n",
       "        vertical-align: top;\n",
       "    }\n",
       "\n",
       "    .dataframe thead th {\n",
       "        text-align: right;\n",
       "    }\n",
       "</style>\n",
       "<table border=\"1\" class=\"dataframe\">\n",
       "  <thead>\n",
       "    <tr style=\"text-align: right;\">\n",
       "      <th></th>\n",
       "      <th>f0</th>\n",
       "      <th>f1</th>\n",
       "      <th>f2</th>\n",
       "      <th>product</th>\n",
       "    </tr>\n",
       "  </thead>\n",
       "  <tbody>\n",
       "    <tr>\n",
       "      <th>f0</th>\n",
       "      <td>1.000000</td>\n",
       "      <td>0.182287</td>\n",
       "      <td>-0.001777</td>\n",
       "      <td>-0.030491</td>\n",
       "    </tr>\n",
       "    <tr>\n",
       "      <th>f1</th>\n",
       "      <td>0.182287</td>\n",
       "      <td>1.000000</td>\n",
       "      <td>-0.002595</td>\n",
       "      <td>-0.010155</td>\n",
       "    </tr>\n",
       "    <tr>\n",
       "      <th>f2</th>\n",
       "      <td>-0.001777</td>\n",
       "      <td>-0.002595</td>\n",
       "      <td>1.000000</td>\n",
       "      <td>0.999397</td>\n",
       "    </tr>\n",
       "    <tr>\n",
       "      <th>product</th>\n",
       "      <td>-0.030491</td>\n",
       "      <td>-0.010155</td>\n",
       "      <td>0.999397</td>\n",
       "      <td>1.000000</td>\n",
       "    </tr>\n",
       "  </tbody>\n",
       "</table>\n",
       "</div>"
      ],
      "text/plain": [
       "               f0        f1        f2   product\n",
       "f0       1.000000  0.182287 -0.001777 -0.030491\n",
       "f1       0.182287  1.000000 -0.002595 -0.010155\n",
       "f2      -0.001777 -0.002595  1.000000  0.999397\n",
       "product -0.030491 -0.010155  0.999397  1.000000"
      ]
     },
     "metadata": {},
     "output_type": "display_data"
    },
    {
     "data": {
      "image/png": "[encoded data removed]",
      "text/plain": [
       "<Figure size 1368x504 with 2 Axes>"
      ]
     },
     "metadata": {
      "needs_background": "light"
     },
     "output_type": "display_data"
    },
    {
     "data": {
      "text/html": [
       "<div>\n",
       "<style scoped>\n",
       "    .dataframe tbody tr th:only-of-type {\n",
       "        vertical-align: middle;\n",
       "    }\n",
       "\n",
       "    .dataframe tbody tr th {\n",
       "        vertical-align: top;\n",
       "    }\n",
       "\n",
       "    .dataframe thead th {\n",
       "        text-align: right;\n",
       "    }\n",
       "</style>\n",
       "<table border=\"1\" class=\"dataframe\">\n",
       "  <thead>\n",
       "    <tr style=\"text-align: right;\">\n",
       "      <th></th>\n",
       "      <th>f0</th>\n",
       "      <th>f1</th>\n",
       "      <th>f2</th>\n",
       "      <th>product</th>\n",
       "    </tr>\n",
       "  </thead>\n",
       "  <tbody>\n",
       "    <tr>\n",
       "      <th>f0</th>\n",
       "      <td>1.000000</td>\n",
       "      <td>0.000528</td>\n",
       "      <td>-0.000448</td>\n",
       "      <td>-0.001987</td>\n",
       "    </tr>\n",
       "    <tr>\n",
       "      <th>f1</th>\n",
       "      <td>0.000528</td>\n",
       "      <td>1.000000</td>\n",
       "      <td>0.000779</td>\n",
       "      <td>-0.001012</td>\n",
       "    </tr>\n",
       "    <tr>\n",
       "      <th>f2</th>\n",
       "      <td>-0.000448</td>\n",
       "      <td>0.000779</td>\n",
       "      <td>1.000000</td>\n",
       "      <td>0.445871</td>\n",
       "    </tr>\n",
       "    <tr>\n",
       "      <th>product</th>\n",
       "      <td>-0.001987</td>\n",
       "      <td>-0.001012</td>\n",
       "      <td>0.445871</td>\n",
       "      <td>1.000000</td>\n",
       "    </tr>\n",
       "  </tbody>\n",
       "</table>\n",
       "</div>"
      ],
      "text/plain": [
       "               f0        f1        f2   product\n",
       "f0       1.000000  0.000528 -0.000448 -0.001987\n",
       "f1       0.000528  1.000000  0.000779 -0.001012\n",
       "f2      -0.000448  0.000779  1.000000  0.445871\n",
       "product -0.001987 -0.001012  0.445871  1.000000"
      ]
     },
     "metadata": {},
     "output_type": "display_data"
    },
    {
     "data": {
      "image/png": "[encoded data removed]",
      "text/plain": [
       "<Figure size 1368x504 with 2 Axes>"
      ]
     },
     "metadata": {
      "needs_background": "light"
     },
     "output_type": "display_data"
    }
   ],
   "source": [
    "display(data_0.corr())\n",
    "plt.figure(figsize=(19, 7))\n",
    "data_0_plot = sns.heatmap(data_0.corr(), cmap=\"YlGnBu\", annot=True)  \n",
    "plt.show()\n",
    "\n",
    "display(data_1.corr())\n",
    "plt.figure(figsize=(19, 7))\n",
    "data_1_plot = sns.heatmap(data_1.corr(), cmap=\"YlGnBu\", annot=True)  \n",
    "plt.show()\n",
    "\n",
    "\n",
    "display(data_2.corr())\n",
    "plt.figure(figsize=(19, 7))\n",
    "data_2_plot = sns.heatmap(data_2.corr(), cmap=\"YlGnBu\", annot=True)  \n",
    "plt.show()"
   ]
  },
  {
   "cell_type": "markdown",
   "metadata": {},
   "source": [
    "В датасете региона `geo_data_1.csv` сильно-скоррелирован признак `f2` c таргетом `product`, что указывает на то, что данный признак является сильнейшим предиктором в данной выборке."
   ]
  },
  {
   "cell_type": "markdown",
   "metadata": {},
   "source": [
    "<div class=\"alert alert-block alert-danger\">\n",
    "<h3> Комментарий ревьюера<a class=\"tocSkip\"></h3>\n",
    " \n",
    "<b>На доработку🤔:</b> Обрати внимание, что данные признак скоррелировван с **таргетом**, а не другими признаками. Это говорит о том, что он является самым сильным предиктором. Наличие корреляции является проблемой, только когда эта корреляция между предикторами. \n",
    "    \n",
    "    \n",
    "Причем на будущее для общего развития отмечу, что на самом деле и мультиколлинеарность не так страшна. Она не отражается на качестве предсказаний, если обучающая и тестовая выборки похожи (имеют схожие корреляционные матрицы, то есть смещение коэффициентов себя не проявит). Мультиколлинеарность создает проблему\n",
    "    \n",
    "1. когда эти выборки начинают отличаться,\n",
    "    \n",
    "2. когда нам необходимо проинтерпретировать коэффициенты линейной регрессии (для скоррелированных признаков они оказываются смещенными, а значит, непоказательными),\n",
    "    \n",
    "3. когда мы хотим оценить важность признаков любой модели (из-за того, что скоррелированные признаки начинают очень сильно конкурировать между собой, оценка важности тоже оказывается непоказательной).\n",
    "    \n",
    "    \n",
    "    \n",
    "Также отмечу, что удаление скоррелированного признака - не единственный способ борьбы с мультиколлинеарностью. Вместо этого можно либо применить PCA к скоррелированным признакам, либо при возможности создать какую-то линейную комбинацию скоррелированных признаков, либо воспользоваться линейными регрессиями с регуляризацией (ридж, лассо, эластик нет). А для выявления мультиколлинеарности часто прибегают к методу VIF. Подробнее про все это можно почитать <a href = 'https://statisticsbyjim.com/regression/multicollinearity-in-regression-analysis/'>тут</a>."
   ]
  },
  {
   "cell_type": "markdown",
   "metadata": {},
   "source": [
    "<div class=\"alert alert-info\">\n",
    "    <b>Комментарий студента:</b> Спасибо! Ты очень здорово подробно объясняешь - класс, спасибо тебе большое за это. Исправил, но не очень понял как мне запустить VIF проверку, если тебе не сложно, можешь показать её на моём примере, мне было бы очень интересно посмотреть\n",
    "</div>"
   ]
  },
  {
   "cell_type": "markdown",
   "metadata": {},
   "source": [
    "<div class=\"alert alert-success\">\n",
    "<b>Комментарий ревьюера 2:</b> <a href = 'https://www.codecamp.ru/blog/how-to-calculate-vif-in-python/'>Пример</a> с расчетом VIF."
   ]
  },
  {
   "cell_type": "markdown",
   "metadata": {},
   "source": [
    "<div class=\"alert alert-warning\">\n",
    "<h3> Комментарий ревьюера <a class=\"tocSkip\"> </h3>\n",
    "    \n",
    "<b>Некоторые замечания и рекомендации💡:</b> \n",
    "    \n",
    "* Если есть тепловая карта, то, кажется, в матрице корреляций уже нет необходимости.\n",
    "\n",
    "     \n",
    "* Если остановишься на варианте с матрицей (без тепловой карты), то для наглядности ее удобно выводить в виде pandas таблицы с добавлением <a href = 'https://pandas.pydata.org/docs/user_guide/style.html'>расцветки</a>.\n",
    "        \n",
    "        \n",
    "* Функция corr() по дефолту считает корреляцию Пирсона. Но данный вид корреляции, во-первых, способен улавливать только линейные взаимосвязи, во-вторых, основан на предположениях, что переменные распределены нормально и однородны (представляют одну генеральную совокупность, не имеют выбросов), что далеко не всегда выполняется. Нарушение данных предположений может приводить к некорректной оценке степени корреляции, что может вводить нас в заблуждение. \n",
    "        \n",
    "    Помимо корреляции Пирсона интересно также проверять <a href = 'https://towardsdatascience.com/phik-k-get-familiar-with-the-latest-correlation-coefficient-9ba0032b37e7#:~:text=Phik%20(%F0%9D%9C%99k)%20is%20a%20new,a%20bivariate%20normal%20input%20distribution.'>Phik корреляцию</a>, у которой нет таких строгих предположений, и к тому же она способно улавливать нелинейные взаимосвязи, которые будут моделироваться в линейной регрессии немного иначе в зависимости от хараетера взаимосвязи (то есть ели phik обнаруживает какую-то более сильную взаимосвязь, чем линейный corr, значит есть смысл изучить характер взаимосвязи подробнее и постараться его учесть при моделировании)."
   ]
  },
  {
   "cell_type": "markdown",
   "metadata": {},
   "source": [
    "<div class=\"alert alert-info\">\n",
    "    <b>Комментарий студента:</b> Как много полезной информации, я в востроге! Спасибо. А что предпочтительнее, тепловая карта или матрица?\n",
    "    Phik выдаёт ошибку при импорте - \"\"No module named 'phik'\", что не так? Хочется увидеть пример Phik в своей работе :( ниже код оставлю, при котором ошибку выдаёт. - скомпелировал его последним, для наглядности\n",
    "    \n",
    "    \n",
    "</div>"
   ]
  },
  {
   "cell_type": "markdown",
   "metadata": {},
   "source": [
    "<div class=\"alert alert-success\">\n",
    "<b>Комментарий ревьюера 2:</b> Карта или матрица - на твой вкус :) \n",
    "    \n",
    "Phik не предустановлен на платформе, поэтому нужно сначала выполнить `!pip install phik`."
   ]
  },
  {
   "cell_type": "markdown",
   "metadata": {},
   "source": [
    "import phik\n",
    "from phik.report import plot_correlation_matrix\n",
    "from phik import report"
   ]
  },
  {
   "cell_type": "markdown",
   "metadata": {},
   "source": [
    "<div class=\"alert alert-warning\">\n",
    "<h3> Комментарий ревьюера <a class=\"tocSkip\"> </h3>\n",
    "    \n",
    "<b>Некоторые замечания и рекомендации💡:</b> Кажется, изучение корреляции и describe уместнее было бы разместить в разделе со знакомством с данными, а не с моделированием."
   ]
  },
  {
   "cell_type": "markdown",
   "metadata": {},
   "source": [
    "<div class=\"alert alert-info\">\n",
    "    <b>Комментарий студента:</b> Согласен, логично!:)\n",
    "</div>"
   ]
  },
  {
   "cell_type": "markdown",
   "metadata": {},
   "source": [
    "<div class=\"alert alert-success\">\n",
    "<b>Комментарий ревьюера 2:</b> 😉"
   ]
  },
  {
   "cell_type": "markdown",
   "metadata": {},
   "source": [
    "Разобьем датасет на признаки `features` и целевой признак `target`."
   ]
  },
  {
   "cell_type": "code",
   "execution_count": 13,
   "metadata": {},
   "outputs": [],
   "source": [
    "target_0 = data_0['product']\n",
    "features_0 = data_0.drop('product', axis=1)\n",
    "\n",
    "target_1 = data_1['product']\n",
    "features_1 = data_1.drop('product', axis=1)\n",
    "\n",
    "target_2 = data_2['product']\n",
    "features_2 = data_2.drop('product', axis=1)"
   ]
  },
  {
   "cell_type": "markdown",
   "metadata": {},
   "source": [
    "Разобрём выборки на обучающую и валидационную для каждой модели."
   ]
  },
  {
   "cell_type": "code",
   "execution_count": 14,
   "metadata": {},
   "outputs": [],
   "source": [
    "features_train_0, features_valid_0, target_train_0, target_valid_0 = train_test_split(\n",
    "    features_0, target_0, test_size=0.25, random_state=RANDOM_STATE)\n",
    "\n",
    "features_train_1, features_valid_1, target_train_1, target_valid_1 = train_test_split(\n",
    "    features_1, target_1, test_size=0.25, random_state=RANDOM_STATE)\n",
    "\n",
    "features_train_2, features_valid_2, target_train_2, target_valid_2 = train_test_split(\n",
    "    features_2, target_2, test_size=0.25, random_state=RANDOM_STATE)"
   ]
  },
  {
   "cell_type": "markdown",
   "metadata": {},
   "source": [
    "### Обучим модель и сделаем предсказания на валидационной выборке."
   ]
  },
  {
   "cell_type": "code",
   "execution_count": 15,
   "metadata": {},
   "outputs": [],
   "source": [
    "model_0 = LinearRegression()\n",
    "model_0.fit(features_train_0, target_train_0)\n",
    "predictions_valid_0 = model_0.predict(features_valid_0)\n",
    "\n",
    "result_0 = mean_squared_error(target_valid_0, predictions_valid_0)**0.5"
   ]
  },
  {
   "cell_type": "code",
   "execution_count": 16,
   "metadata": {},
   "outputs": [],
   "source": [
    "model_1 = LinearRegression()\n",
    "model_1.fit(features_train_1, target_train_1)\n",
    "predictions_valid_1 = model_1.predict(features_valid_1)\n",
    "\n",
    "result_1 = mean_squared_error(target_valid_1, predictions_valid_1)**0.5"
   ]
  },
  {
   "cell_type": "code",
   "execution_count": 17,
   "metadata": {},
   "outputs": [],
   "source": [
    "model_2 = LinearRegression()\n",
    "model_2.fit(features_train_2, target_train_2)\n",
    "predictions_valid_2 = model_2.predict(features_valid_2)\n",
    "\n",
    "result_2 = mean_squared_error(target_valid_2, predictions_valid_2)**0.5"
   ]
  },
  {
   "cell_type": "markdown",
   "metadata": {},
   "source": [
    "### Сохраним предсказания и правильные ответы на валидационной выборке."
   ]
  },
  {
   "cell_type": "code",
   "execution_count": 18,
   "metadata": {},
   "outputs": [
    {
     "data": {
      "text/html": [
       "<div>\n",
       "<style scoped>\n",
       "    .dataframe tbody tr th:only-of-type {\n",
       "        vertical-align: middle;\n",
       "    }\n",
       "\n",
       "    .dataframe tbody tr th {\n",
       "        vertical-align: top;\n",
       "    }\n",
       "\n",
       "    .dataframe thead th {\n",
       "        text-align: right;\n",
       "    }\n",
       "</style>\n",
       "<table border=\"1\" class=\"dataframe\">\n",
       "  <thead>\n",
       "    <tr style=\"text-align: right;\">\n",
       "      <th></th>\n",
       "      <th>target</th>\n",
       "      <th>predictions</th>\n",
       "    </tr>\n",
       "  </thead>\n",
       "  <tbody>\n",
       "    <tr>\n",
       "      <th>1</th>\n",
       "      <td>73.037750</td>\n",
       "      <td>116.227394</td>\n",
       "    </tr>\n",
       "    <tr>\n",
       "      <th>2</th>\n",
       "      <td>85.265647</td>\n",
       "      <td>88.750254</td>\n",
       "    </tr>\n",
       "    <tr>\n",
       "      <th>3</th>\n",
       "      <td>168.620776</td>\n",
       "      <td>95.419237</td>\n",
       "    </tr>\n",
       "    <tr>\n",
       "      <th>8</th>\n",
       "      <td>113.356160</td>\n",
       "      <td>103.583377</td>\n",
       "    </tr>\n",
       "    <tr>\n",
       "      <th>10</th>\n",
       "      <td>70.326617</td>\n",
       "      <td>79.766364</td>\n",
       "    </tr>\n",
       "    <tr>\n",
       "      <th>12</th>\n",
       "      <td>89.158678</td>\n",
       "      <td>64.454895</td>\n",
       "    </tr>\n",
       "    <tr>\n",
       "      <th>18</th>\n",
       "      <td>113.793566</td>\n",
       "      <td>117.620688</td>\n",
       "    </tr>\n",
       "    <tr>\n",
       "      <th>30</th>\n",
       "      <td>87.078211</td>\n",
       "      <td>69.375123</td>\n",
       "    </tr>\n",
       "    <tr>\n",
       "      <th>39</th>\n",
       "      <td>114.335445</td>\n",
       "      <td>107.666598</td>\n",
       "    </tr>\n",
       "    <tr>\n",
       "      <th>40</th>\n",
       "      <td>104.653180</td>\n",
       "      <td>101.423911</td>\n",
       "    </tr>\n",
       "  </tbody>\n",
       "</table>\n",
       "</div>"
      ],
      "text/plain": [
       "        target  predictions\n",
       "1    73.037750   116.227394\n",
       "2    85.265647    88.750254\n",
       "3   168.620776    95.419237\n",
       "8   113.356160   103.583377\n",
       "10   70.326617    79.766364\n",
       "12   89.158678    64.454895\n",
       "18  113.793566   117.620688\n",
       "30   87.078211    69.375123\n",
       "39  114.335445   107.666598\n",
       "40  104.653180   101.423911"
      ]
     },
     "metadata": {},
     "output_type": "display_data"
    }
   ],
   "source": [
    "valid_results_0 = pd.DataFrame({'target': target_valid_0,\n",
    "                                'predictions': predictions_valid_0}).sort_index()\n",
    "display(valid_results_0.head(10))"
   ]
  },
  {
   "cell_type": "code",
   "execution_count": 19,
   "metadata": {},
   "outputs": [
    {
     "data": {
      "text/html": [
       "<div>\n",
       "<style scoped>\n",
       "    .dataframe tbody tr th:only-of-type {\n",
       "        vertical-align: middle;\n",
       "    }\n",
       "\n",
       "    .dataframe tbody tr th {\n",
       "        vertical-align: top;\n",
       "    }\n",
       "\n",
       "    .dataframe thead th {\n",
       "        text-align: right;\n",
       "    }\n",
       "</style>\n",
       "<table border=\"1\" class=\"dataframe\">\n",
       "  <thead>\n",
       "    <tr style=\"text-align: right;\">\n",
       "      <th></th>\n",
       "      <th>target</th>\n",
       "      <th>predictions</th>\n",
       "    </tr>\n",
       "  </thead>\n",
       "  <tbody>\n",
       "    <tr>\n",
       "      <th>1</th>\n",
       "      <td>26.953261</td>\n",
       "      <td>26.592376</td>\n",
       "    </tr>\n",
       "    <tr>\n",
       "      <th>2</th>\n",
       "      <td>134.766305</td>\n",
       "      <td>135.665691</td>\n",
       "    </tr>\n",
       "    <tr>\n",
       "      <th>3</th>\n",
       "      <td>137.945408</td>\n",
       "      <td>138.544872</td>\n",
       "    </tr>\n",
       "    <tr>\n",
       "      <th>8</th>\n",
       "      <td>134.766305</td>\n",
       "      <td>134.446331</td>\n",
       "    </tr>\n",
       "    <tr>\n",
       "      <th>10</th>\n",
       "      <td>53.906522</td>\n",
       "      <td>54.049913</td>\n",
       "    </tr>\n",
       "    <tr>\n",
       "      <th>12</th>\n",
       "      <td>107.813044</td>\n",
       "      <td>108.002101</td>\n",
       "    </tr>\n",
       "    <tr>\n",
       "      <th>18</th>\n",
       "      <td>84.038886</td>\n",
       "      <td>84.519070</td>\n",
       "    </tr>\n",
       "    <tr>\n",
       "      <th>30</th>\n",
       "      <td>26.953261</td>\n",
       "      <td>27.096751</td>\n",
       "    </tr>\n",
       "    <tr>\n",
       "      <th>39</th>\n",
       "      <td>53.906522</td>\n",
       "      <td>54.667666</td>\n",
       "    </tr>\n",
       "    <tr>\n",
       "      <th>40</th>\n",
       "      <td>134.766305</td>\n",
       "      <td>135.250748</td>\n",
       "    </tr>\n",
       "  </tbody>\n",
       "</table>\n",
       "</div>"
      ],
      "text/plain": [
       "        target  predictions\n",
       "1    26.953261    26.592376\n",
       "2   134.766305   135.665691\n",
       "3   137.945408   138.544872\n",
       "8   134.766305   134.446331\n",
       "10   53.906522    54.049913\n",
       "12  107.813044   108.002101\n",
       "18   84.038886    84.519070\n",
       "30   26.953261    27.096751\n",
       "39   53.906522    54.667666\n",
       "40  134.766305   135.250748"
      ]
     },
     "metadata": {},
     "output_type": "display_data"
    }
   ],
   "source": [
    "valid_results_1 = pd.DataFrame({'target': target_valid_1,\n",
    "                                'predictions': predictions_valid_1}).sort_index()\n",
    "display(valid_results_1.head(10))"
   ]
  },
  {
   "cell_type": "code",
   "execution_count": 20,
   "metadata": {},
   "outputs": [
    {
     "data": {
      "text/html": [
       "<div>\n",
       "<style scoped>\n",
       "    .dataframe tbody tr th:only-of-type {\n",
       "        vertical-align: middle;\n",
       "    }\n",
       "\n",
       "    .dataframe tbody tr th {\n",
       "        vertical-align: top;\n",
       "    }\n",
       "\n",
       "    .dataframe thead th {\n",
       "        text-align: right;\n",
       "    }\n",
       "</style>\n",
       "<table border=\"1\" class=\"dataframe\">\n",
       "  <thead>\n",
       "    <tr style=\"text-align: right;\">\n",
       "      <th></th>\n",
       "      <th>target</th>\n",
       "      <th>predictions</th>\n",
       "    </tr>\n",
       "  </thead>\n",
       "  <tbody>\n",
       "    <tr>\n",
       "      <th>1</th>\n",
       "      <td>56.069697</td>\n",
       "      <td>66.329664</td>\n",
       "    </tr>\n",
       "    <tr>\n",
       "      <th>2</th>\n",
       "      <td>62.871910</td>\n",
       "      <td>48.880039</td>\n",
       "    </tr>\n",
       "    <tr>\n",
       "      <th>3</th>\n",
       "      <td>114.572842</td>\n",
       "      <td>86.178035</td>\n",
       "    </tr>\n",
       "    <tr>\n",
       "      <th>8</th>\n",
       "      <td>106.616832</td>\n",
       "      <td>97.992516</td>\n",
       "    </tr>\n",
       "    <tr>\n",
       "      <th>10</th>\n",
       "      <td>166.799132</td>\n",
       "      <td>111.496443</td>\n",
       "    </tr>\n",
       "    <tr>\n",
       "      <th>12</th>\n",
       "      <td>96.910855</td>\n",
       "      <td>125.077434</td>\n",
       "    </tr>\n",
       "    <tr>\n",
       "      <th>18</th>\n",
       "      <td>48.052268</td>\n",
       "      <td>98.853739</td>\n",
       "    </tr>\n",
       "    <tr>\n",
       "      <th>30</th>\n",
       "      <td>145.730271</td>\n",
       "      <td>90.205022</td>\n",
       "    </tr>\n",
       "    <tr>\n",
       "      <th>39</th>\n",
       "      <td>109.513921</td>\n",
       "      <td>86.087440</td>\n",
       "    </tr>\n",
       "    <tr>\n",
       "      <th>40</th>\n",
       "      <td>168.284897</td>\n",
       "      <td>118.865348</td>\n",
       "    </tr>\n",
       "  </tbody>\n",
       "</table>\n",
       "</div>"
      ],
      "text/plain": [
       "        target  predictions\n",
       "1    56.069697    66.329664\n",
       "2    62.871910    48.880039\n",
       "3   114.572842    86.178035\n",
       "8   106.616832    97.992516\n",
       "10  166.799132   111.496443\n",
       "12   96.910855   125.077434\n",
       "18   48.052268    98.853739\n",
       "30  145.730271    90.205022\n",
       "39  109.513921    86.087440\n",
       "40  168.284897   118.865348"
      ]
     },
     "metadata": {},
     "output_type": "display_data"
    }
   ],
   "source": [
    "valid_results_2 = pd.DataFrame({'target': target_valid_2,\n",
    "                                'predictions': predictions_valid_2}).sort_index()\n",
    "display(valid_results_2.head(10))"
   ]
  },
  {
   "cell_type": "markdown",
   "metadata": {},
   "source": [
    "<div class=\"alert alert-info\">\n",
    "    <b>Комментарий студента:</b> А почему model_1 делает такие точные предсказания в отличии от других моделей? Это связано с высокими придиктором признака `f2`? А можно ли использовать модель_1 для предсказаний на других регинах или она будет только свой регион так хорошо предсказывать? ну по логике можно..\n",
    "    \n",
    "    \n",
    "</div>\n"
   ]
  },
  {
   "cell_type": "markdown",
   "metadata": {},
   "source": [
    "<div class=\"alert alert-success\">\n",
    "<b>Комментарий ревьюера 2:</b> \n",
    "    \n",
    "Высокое качество модели для региона 1 обусловлено высокой **корреляцией** одного из предикторов (признаков) с таргетом, то есть нам удается хорошо объяснить вариацию таргета за счет других признаков. Для остальных регионов данная модель не подойдет, поскольку данные слишком **отличаются** между регионами, поэтому нужны индивидуально обученные алгоритмы."
   ]
  },
  {
   "cell_type": "markdown",
   "metadata": {},
   "source": [
    "### Напечатаем на экране средний запас предсказанного сырья и RMSE модели."
   ]
  },
  {
   "cell_type": "code",
   "execution_count": 21,
   "metadata": {},
   "outputs": [
    {
     "name": "stdout",
     "output_type": "stream",
     "text": [
      "Среднее предсказание product в geo_0: 92.59 ед.\n",
      "RMSE модели линейной регрессии на валидационной выборке geo_0: 37.579\n",
      "Среднее предсказание product в geo_1: 68.73 ед.\n",
      "RMSE модели линейной регрессии на валидационной выборке geo_1: 0.893\n",
      "Среднее предсказание product в geo_2: 94.97 ед.\n",
      "RMSE модели линейной регрессии на валидационной выборке geo_2: 40.030\n"
     ]
    }
   ],
   "source": [
    "print(f\"Среднее предсказание product в geo_0: {predictions_valid_0.mean():.2f} ед.\")\n",
    "print(f\"RMSE модели линейной регрессии на валидационной выборке geo_0: {result_0:.3f}\")\n",
    "\n",
    "print(f\"Среднее предсказание product в geo_1: {predictions_valid_1.mean():.2f} ед.\")\n",
    "print(f\"RMSE модели линейной регрессии на валидационной выборке geo_1: {result_1:.3f}\")\n",
    "\n",
    "print(f\"Среднее предсказание product в geo_2: {predictions_valid_2.mean():.2f} ед.\")\n",
    "print(f\"RMSE модели линейной регрессии на валидационной выборке geo_2: {result_2:.3f}\")"
   ]
  },
  {
   "cell_type": "markdown",
   "metadata": {},
   "source": [
    "### Проанализируем результаты."
   ]
  },
  {
   "cell_type": "markdown",
   "metadata": {},
   "source": [
    "Регионы geo_0 и geo_2 показывают схожие результаты. Предсказания на geo_1 хуже других."
   ]
  },
  {
   "cell_type": "markdown",
   "metadata": {},
   "source": [
    "<div class=\"alert alert-success\">\n",
    "<h3> Комментарий ревьюера <a class=\"tocSkip\"> </h3> \n",
    "    \n",
    "<b>Все отлично! 👍:</b> Обучение и валидацию проводишь верно! С этого момента бывают подводные камни. Мы получили валидационные подвыборки с помощью `train_test_split`, индексы при этом будут хаотичны в них (соответсвовать исходному датасету), а предсказания у нас упорядочены. За этим надо следить в данном проекте, чтобы потом правильно ставилось соответствие таргета и предсказания, именно для одной и той же скважины, поэтому здорово, что ты с этим сразу разобрался :)"
   ]
  },
  {
   "cell_type": "markdown",
   "metadata": {},
   "source": [
    "<div class=\"alert alert-warning\">\n",
    "<h3> Комментарий ревьюера <a class=\"tocSkip\"> </h3>\n",
    "    \n",
    "<b>Некоторые замечания и рекомендации💡:</b> \n",
    " \n",
    "* После возвращения скоррелированного признака результаты изменятся, не забудь скорректировать выводы.\n",
    "    \n",
    "    \n",
    "* Хочу обратить твое внимание на то, что у тебя сейчас встречается достаточно много повторяющихся строчек кода, что немного нагромождает работу и повышает риск ошибок/опечаток. Чтобы повысить эффективность кода, мы можем, например, зациклить выполнение повторяющихся действий или создать для этого специальную функцию с шаблоном."
   ]
  },
  {
   "cell_type": "markdown",
   "metadata": {},
   "source": [
    "<div class=\"alert alert-info\">\n",
    "    <b>Комментарий студента:</b> Да, это точно, обращу на это внимание в будущем, спасибо! Насчёт функции понял, а что значит \"зациклить выполнение\"?\n",
    "    \n",
    "    \n",
    "</div>"
   ]
  },
  {
   "cell_type": "markdown",
   "metadata": {},
   "source": [
    "<div class=\"alert alert-success\">\n",
    "<b>Комментарий ревьюера 2:</b> С помощью цикла for перебирать регионы и выполнять для каждого определенный набор действий."
   ]
  },
  {
   "cell_type": "markdown",
   "metadata": {},
   "source": [
    "## Подготовимся к расчёту прибыли:"
   ]
  },
  {
   "cell_type": "markdown",
   "metadata": {},
   "source": [
    "<div class=\"alert alert-warning\">\n",
    "<h3> Комментарий ревьюера <a class=\"tocSkip\"> </h3>\n",
    "    \n",
    "<b>Некоторые замечания и рекомендации💡:</b> Согласно стандартам оформления <a href = 'https://pythonworld.ru/osnovy/pep-8-rukovodstvo-po-napisaniyu-koda-na-python.html#section-29'>PEP-8</a> названия констант принято задавать заглавными буквами (например, BUDGET). Также на будущее скажу, что стандарты разработки рекомендуют объявлять их в начале пректа: сначала идут импорты, затем константы, потом пользовательские функции и классы (с комментариями, для чего каждый из созданных объектов предназначен). К исследовательским проектам это применяется реже, но в некоторых случаях действительно оказывается полезным."
   ]
  },
  {
   "cell_type": "markdown",
   "metadata": {},
   "source": [
    "<div class=\"alert alert-info\">\n",
    "    <b>Комментарий студента:</b> Исправил\n",
    "    \n",
    "    \n",
    "</div>"
   ]
  },
  {
   "cell_type": "markdown",
   "metadata": {},
   "source": [
    "<div class=\"alert alert-success\">\n",
    "<b>Комментарий ревьюера 2:</b> 😉"
   ]
  },
  {
   "cell_type": "markdown",
   "metadata": {},
   "source": [
    "### Рассчитаем достаточный объём сырья для безубыточной разработки новой скважины. Сравним полученный объём сырья со средним запасом в каждом регионе."
   ]
  },
  {
   "cell_type": "code",
   "execution_count": 22,
   "metadata": {},
   "outputs": [
    {
     "name": "stdout",
     "output_type": "stream",
     "text": [
      "Достаточный объём сырья для безубыточной разработки новой скважины: 111.11 ед.\n",
      "Среднее предсказание product в geo_0: 92.59 ед.\n",
      "Среднее предсказание product в geo_1: 68.73 ед.\n",
      "Среднее предсказание product в geo_2: 94.97 ед.\n"
     ]
    }
   ],
   "source": [
    "sufficient_volum = BUDGET / (BEST_WELLS*INCOM_PER_UNIT)\n",
    "print(f'Достаточный объём сырья для безубыточной разработки новой скважины: {sufficient_volum:.2f} ед.')\n",
    "print(f\"Среднее предсказание product в geo_0: {predictions_valid_0.mean():.2f} ед.\")\n",
    "print(f\"Среднее предсказание product в geo_1: {predictions_valid_1.mean():.2f} ед.\")\n",
    "print(f\"Среднее предсказание product в geo_2: {predictions_valid_2.mean():.2f} ед.\")"
   ]
  },
  {
   "cell_type": "markdown",
   "metadata": {},
   "source": [
    "### Напишим выводы по этапу подготовки расчёта прибыли."
   ]
  },
  {
   "cell_type": "markdown",
   "metadata": {},
   "source": [
    "Среднее предсказание в регионах значительно ниже достаточного объема для покрытия расходов на разработку скважин, особенно в регионе geo_1."
   ]
  },
  {
   "cell_type": "markdown",
   "metadata": {},
   "source": [
    "<div class=\"alert alert-success\">\n",
    "<h3> Комментарий ревьюера <a class=\"tocSkip\"> </h3> \n",
    "    \n",
    "<b>Все отлично! 👍:</b> Все верно! Во всех регионах средняя концентрация продукта слишком низкая, чтобы выбирать точки случайно, поэтому нужен хороший механизм для отбора."
   ]
  },
  {
   "cell_type": "markdown",
   "metadata": {},
   "source": [
    "<div class=\"alert alert-warning\">\n",
    "<h3> Комментарий ревьюера <a class=\"tocSkip\"> </h3>\n",
    "    \n",
    "<b>Некоторые замечания и рекомендации💡:</b> Большие числа и числа с длинной дробной частью опять же воспринимаются не очень хорошо. Сумму, кажется, удобнее для восприятия выводить в миллионах (указывая единицу измерения), или использовать <a href = 'https://queirozf.com/entries/python-number-formatting-examples'>форматирование</a> выводимых чисел, чтобы задачть какой-то разделитель для лучшего восприятия разрядов. Дробную часть лучше округлять до нескольких знаков, можно с помощью того же форматирования."
   ]
  },
  {
   "cell_type": "markdown",
   "metadata": {},
   "source": [
    "<div class=\"alert alert-info\">\n",
    "    <b>Комментарий студента:</b> Исправил\n",
    "    \n",
    "    \n",
    "</div>"
   ]
  },
  {
   "cell_type": "markdown",
   "metadata": {},
   "source": [
    "<div class=\"alert alert-success\">\n",
    "<b>Комментарий ревьюера 2:</b> Кажется, выше длинная дробная часть еще осталась."
   ]
  },
  {
   "cell_type": "markdown",
   "metadata": {},
   "source": [
    "<div class=\"alert alert-info\">\n",
    "    <b>Комментарий студента:</b> ой) исправил\n",
    "    \n",
    "    \n",
    "</div>"
   ]
  },
  {
   "cell_type": "markdown",
   "metadata": {},
   "source": [
    "<div class=\"alert alert-success\">\n",
    "<b>Комментарий ревьюера 3:</b> 😉"
   ]
  },
  {
   "cell_type": "markdown",
   "metadata": {},
   "source": [
    "## Напишем функцию для расчёта прибыли по выбранным скважинам и предсказаниям модели: "
   ]
  },
  {
   "cell_type": "markdown",
   "metadata": {},
   "source": [
    "### Выберем скважины с максимальными значениями предсказаний."
   ]
  },
  {
   "cell_type": "code",
   "execution_count": 23,
   "metadata": {},
   "outputs": [
    {
     "name": "stdout",
     "output_type": "stream",
     "text": [
      "0    180.180713\n",
      "1    176.252213\n",
      "2    175.850623\n",
      "3    175.658429\n",
      "4    173.299686\n",
      "5    172.627972\n",
      "6    172.501678\n",
      "7    169.124234\n",
      "8    168.787602\n",
      "9    168.206015\n",
      "Name: predictions, dtype: float64\n",
      "count    200.000000\n",
      "mean     155.511654\n",
      "std        6.351371\n",
      "min      148.365941\n",
      "25%      150.739383\n",
      "50%      153.783724\n",
      "75%      158.576864\n",
      "max      180.180713\n",
      "Name: predictions, dtype: float64\n"
     ]
    }
   ],
   "source": [
    "max_geo_0 = valid_results_0['predictions'].sort_values(ascending=False).reset_index(drop=True)\n",
    "max_200_geo_0 = max_geo_0[0:BEST_WELLS]\n",
    "print(max_200_geo_0.head(10))\n",
    "print(max_200_geo_0.describe())"
   ]
  },
  {
   "cell_type": "code",
   "execution_count": 24,
   "metadata": {},
   "outputs": [
    {
     "name": "stdout",
     "output_type": "stream",
     "text": [
      "0    139.818970\n",
      "1    139.773423\n",
      "2    139.703330\n",
      "3    139.560938\n",
      "4    139.516754\n",
      "5    139.472944\n",
      "6    139.472059\n",
      "7    139.446501\n",
      "8    139.431653\n",
      "9    139.424526\n",
      "Name: predictions, dtype: float64\n",
      "count    200.000000\n",
      "mean     138.730134\n",
      "std        0.284710\n",
      "min      138.410697\n",
      "25%      138.520536\n",
      "50%      138.651960\n",
      "75%      138.873154\n",
      "max      139.818970\n",
      "Name: predictions, dtype: float64\n"
     ]
    }
   ],
   "source": [
    "max_geo_1 = valid_results_1['predictions'].sort_values(ascending=False).reset_index(drop=True)\n",
    "max_200_geo_1 = max_geo_1[0:BEST_WELLS]\n",
    "print(max_200_geo_1.head(10))\n",
    "print(max_200_geo_1.describe())"
   ]
  },
  {
   "cell_type": "code",
   "execution_count": 25,
   "metadata": {},
   "outputs": [
    {
     "name": "stdout",
     "output_type": "stream",
     "text": [
      "0    165.856833\n",
      "1    165.679685\n",
      "2    163.439962\n",
      "3    162.062589\n",
      "4    161.797476\n",
      "5    161.632730\n",
      "6    160.907143\n",
      "7    160.791070\n",
      "8    160.478896\n",
      "9    159.990540\n",
      "Name: predictions, dtype: float64\n",
      "count    200.000000\n",
      "mean     148.019493\n",
      "std        5.335498\n",
      "min      142.408851\n",
      "25%      144.057740\n",
      "50%      146.318628\n",
      "75%      150.416165\n",
      "max      165.856833\n",
      "Name: predictions, dtype: float64\n"
     ]
    }
   ],
   "source": [
    "max_geo_2 = valid_results_2['predictions'].sort_values(ascending=False).reset_index(drop=True)\n",
    "max_200_geo_2 = max_geo_2[0:BEST_WELLS]\n",
    "print(max_200_geo_2.head(10))\n",
    "print(max_200_geo_2.describe())"
   ]
  },
  {
   "cell_type": "markdown",
   "metadata": {},
   "source": [
    "### Просуммируем целевое значение объёма сырья, соответствующее этим предсказаниям."
   ]
  },
  {
   "cell_type": "code",
   "execution_count": 26,
   "metadata": {},
   "outputs": [
    {
     "name": "stdout",
     "output_type": "stream",
     "text": [
      "Суммарный объем предсказаний продукта для 200 лучших скважин geo_0: 31102.33 тысяч баралей\n",
      "\n",
      "Суммарный объем предсказаний продукта для 200 лучших скважин geo_1: 27746.03 тысяч баралей\n",
      "\n",
      "Суммарный объем предсказаний продукта для 200 лучших скважин geo_2: 29603.90 тысяч баралей\n"
     ]
    }
   ],
   "source": [
    "print(f'Суммарный объем предсказаний продукта для 200 лучших скважин geo_0: \\\n",
    "{max_200_geo_0.sum():.2f} тысяч баралей')\n",
    "print()\n",
    "\n",
    "print(f'Суммарный объем предсказаний продукта для 200 лучших скважин geo_1: \\\n",
    "{max_200_geo_1.sum():.2f} тысяч баралей')\n",
    "print()\n",
    "\n",
    "print(f'Суммарный объем предсказаний продукта для 200 лучших скважин geo_2: \\\n",
    "{max_200_geo_2.sum():.2f} тысяч баралей') "
   ]
  },
  {
   "cell_type": "markdown",
   "metadata": {},
   "source": [
    "### Рассчитаем прибыль для полученного объёма сырья."
   ]
  },
  {
   "cell_type": "code",
   "execution_count": 27,
   "metadata": {},
   "outputs": [
    {
     "name": "stdout",
     "output_type": "stream",
     "text": [
      "Прогнозируемая прибыль для geo_0: 3996.05 млн рублей\n",
      "\n",
      "Прогнозируемая прибыль для geo_1: 2485.71 млн рублей\n",
      "\n",
      "Прогнозируемая прибыль для geo_2: 3321.75 млн рублей\n"
     ]
    }
   ],
   "source": [
    "profit_geo_0 = max_200_geo_0.sum()*INCOM_PER_UNIT - BUDGET\n",
    "profit_geo_1 = max_200_geo_1.sum()*INCOM_PER_UNIT - BUDGET\n",
    "profit_geo_2 = max_200_geo_2.sum()*INCOM_PER_UNIT - BUDGET\n",
    "\n",
    "print(f'Прогнозируемая прибыль для geo_0: {profit_geo_0:.2f} млн рублей')\n",
    "print()\n",
    "print(f'Прогнозируемая прибыль для geo_1: {profit_geo_1:.2f} млн рублей')\n",
    "print()\n",
    "print(f'Прогнозируемая прибыль для geo_2: {profit_geo_2:.2f} млн рублей')"
   ]
  },
  {
   "cell_type": "markdown",
   "metadata": {},
   "source": [
    "Напишем функцию для расчёта прибыли:"
   ]
  },
  {
   "cell_type": "code",
   "execution_count": 28,
   "metadata": {},
   "outputs": [],
   "source": [
    "def profit(prediction):\n",
    "    profit_geo = prediction.sum()*INCOM_PER_UNIT - BUDGET\n",
    "    return profit_geo"
   ]
  },
  {
   "cell_type": "markdown",
   "metadata": {},
   "source": [
    "<div class=\"alert alert-block alert-danger\">\n",
    "<h3> Комментарий ревьюера <a class=\"tocSkip\"></h3>\n",
    " \n",
    "<b>На доработку🤔:</b> При подсчете прибыли важно использовать фактические значения запасов, поскольку на момент подсчета прибыли они нам уже достоверно известны, и нет смысла считать приблизительную прибыль по предсказанным значениям, которые содержат элемент ошибки. Но при этом определять топ 200 следует по предсказаниям, так как в момент выбора точек для добычи мы еще не знаем, сколько там точно окажется нефти."
   ]
  },
  {
   "cell_type": "markdown",
   "metadata": {},
   "source": [
    "<div class=\"alert alert-info\">\n",
    "    <b>Комментарий студента:</b> Исправил в функции ниже, проверь пожалуйста, правильно ли\n",
    "    \n",
    "</div>"
   ]
  },
  {
   "cell_type": "markdown",
   "metadata": {},
   "source": [
    "<div class=\"alert alert-info\">\n",
    "    <b>Комментарий студента:</b> 1.Ааа, ну да, теперь все понятно стало для чего нам нужны два значения и таргета, и предикшина в данной задачи. Только не понял для чего нам вообще нужны предсказания, если у нас есть фактические значения, которые лучше? Не понимаю как эту задачу на практике применить можно,  для чего нам предсказания здесь, если мы их не используем...\n",
    "    2. Немного путает, что предсказываем лучшие скважины моделью, а считаем их историческими данными - что это как-то неприменимо на реальной практике. Вот например, посчитали f1 и f2 у абсолютно новых потенциальных скважин какого-то региона, определи моделью 200 лучших - я же их \"product\" буду моделью считать, а не \"target\" - его ведь не будет на реальной практике в это выборке. Или это в условия задачи специально так сделано потому что модель у нас \"условная\" и плохо предсказывает, в реальной жизни такая модель была бы сложнее и лучше работала?\n",
    "    \n",
    "</div>"
   ]
  },
  {
   "cell_type": "markdown",
   "metadata": {},
   "source": [
    "<div class=\"alert alert-block alert-danger\">\n",
    "<h3> Комментарий ревьюера 2<a class=\"tocSkip\"></h3>\n",
    " \n",
    "<b>На доработку🤔:</b> Предсказания нужны для **выбора** лучших скважин, то есть мы имитируем реальную ситуацию, когда у нас есть только обученный по историческим данным алгоритм и новые потенциальные скважины, где известны только характеристики, но не известны запасы продукта. Мы используем алгорим для получения предсказаний и выбора топ 200 скважин, потом начинается добыча, и только после ее окончания мы узнаем, сколько там на самом деле оказалось продукта и сколько мы заработали. Сейчас мы хотим такую ситуацию имитировать 1000 раз, и посмотреть, в каком регионе у нас меньше шансов прогадать с выбором по предсказаниям."
   ]
  },
  {
   "cell_type": "markdown",
   "metadata": {},
   "source": [
    "<div class=\"alert alert-info\">\n",
    "    <b>Комментарий студента:</b> Исправил функции ниже и выше\n",
    "    \n",
    "</div>"
   ]
  },
  {
   "cell_type": "markdown",
   "metadata": {},
   "source": [
    "<div class=\"alert alert-success\">\n",
    "<b>Комментарий ревьюера 3:</b> Отлично, теперь все верно!\n",
    "    \n",
    "Благодаря тому, что ты не формируешь предварительный сабсемпл с истинниыми значениями, тебе удалось избежать завышения прибыли из-за отбора таргета по топ 200 значениям предсказания, индексы которых дублируются из-за необходимости формировать семплы с возвращением.\n",
    "\n",
    "Чтобы лучше понять, какой прблемы нам удалось избежать, попробуй выполнить такой код:\n",
    "\n",
    "```python\n",
    "a = pd.Series([2, 2, 2, 3], index = [1, 1, 1, 2])\n",
    "print(a[1])\n",
    "print(a[a.index])\n",
    "a = a.reset_index(drop = True)\n",
    "print(a[1])\n",
    "print(a[a.index])\n",
    "```\n",
    "Здесь у нас в векторе `а` изначально несколько значений с одинаковыми индексами. Потом мы пробуем достать значения по индексам, и замечаем, что при единоразовом обращении по индексу у нас достаются сразу все строки с этим индексом, из-за чего финальный вектор сильно разрастается (в нашем случае это могло привести к завышению суммарной прибыли, если бы мы значения доставали из сабсемпла таргета с повторениями)."
   ]
  },
  {
   "cell_type": "markdown",
   "metadata": {},
   "source": [
    "## Посчитаем риски и прибыль для каждого региона:"
   ]
  },
  {
   "cell_type": "markdown",
   "metadata": {},
   "source": [
    "### Применим технику Bootstrap с 1000 выборок, чтобы найти распределение прибыли."
   ]
  },
  {
   "cell_type": "code",
   "execution_count": 29,
   "metadata": {},
   "outputs": [],
   "source": [
    "state = np.random.RandomState(RANDOM_STATE)\n",
    "\n",
    "def profit_distribution(prediction):\n",
    "    values = []\n",
    "    for i in range(1000):\n",
    "        prediction_subsample = prediction['predictions'].sample(n=WELLS,\n",
    "                                                replace=True, \n",
    "                                                random_state=state)\n",
    "        prediction_subsample = prediction_subsample.sort_values(ascending=False)[0:BEST_WELLS]\n",
    "        selected = prediction['target'][prediction_subsample.index]\n",
    "        values.append(profit(selected))\n",
    "    values = pd.Series(values)\n",
    "    lower = values.quantile(q=0.025)\n",
    "    upper = values.quantile(q=0.975)\n",
    "    values_mean = values.mean()\n",
    "    return lower, upper, values, values_mean"
   ]
  },
  {
   "cell_type": "markdown",
   "metadata": {},
   "source": [
    "<div class=\"alert alert-info\">\n",
    "    <b>Комментарий студента:</b> А \"state = np.random.RandomState(RANDOM_STATE)\" обязательно нужно в графе с функцией прописывать? а то инчае каждый раз результаты разные...\n",
    "    \n",
    "</div>"
   ]
  },
  {
   "cell_type": "markdown",
   "metadata": {},
   "source": [
    "<div class=\"alert alert-success\">\n",
    "<b>Комментарий ревьюера 2:</b> Сторонние функции с фиксацией состояний создают некоторый предопределенный поток случайностей, если ты к нему обращаешься раз за разом, то берется следующая по очереди случайность. Чтобы вернуться к исходной точке потока, нужно \"обнулить\", перезадать random state заново. "
   ]
  },
  {
   "cell_type": "markdown",
   "metadata": {},
   "source": [
    "<div class=\"alert alert-success\">\n",
    "<h3> Комментарий ревьюера <a class=\"tocSkip\"> </h3> \n",
    "    \n",
    "<b>Все отлично! 👍:</b> \n",
    "    \n",
    "Ты верно делаешь, что при семплировании данных устанавливаешь параметр **replace = True**. Особенностью техники бутстреп является семплирование с возвратом, то есть наблюдение в выборку может попасть несколько раз. Это необходимо для того, чтобы добиться независимости при каждом выборе, иначе вероятность достать элемент из выборки будет с каждым разом увеличиваться. Причем чем больше размер подвыборки, тем выраженнее будет зависимость. Для подвыборки размера 1, например, в крайнем случае, мы возрат можем не делать, так уж и быть, а вот для подвыборки размером с семплируемую, без возврата ну никак не получится получить разнообразные варианты, а подвыборку большего размера вообще — не получить.\n",
    "    \n",
    "Все это может показаться немного странным для понимания: как будто одна скважина может буриться несколько раз. Но давай вспомним, что выборка - это лишь некоторое представление о генеральной совокупности. Вполне возможно, что где-то в регионе существуют и другие потенциальные точки добычи, о которых мы даже не подозреваем, но они являются частью генеральной сововкупности. В таком случае повторяющиеся наблюдения можно рассматривать как разные точки добычи из всей генеральной совокупности, просто они имеют близкие характеристики.  "
   ]
  },
  {
   "cell_type": "markdown",
   "metadata": {},
   "source": [
    "<div class=\"alert alert-info\">\n",
    "    <b>Комментарий студента:</b> Вот это как раз мне понятно и логично :D\n",
    "    \n",
    "</div>"
   ]
  },
  {
   "cell_type": "markdown",
   "metadata": {},
   "source": [
    "<div class=\"alert alert-success\">\n",
    "<b>Комментарий ревьюера 2:</b> 😉"
   ]
  },
  {
   "cell_type": "markdown",
   "metadata": {},
   "source": [
    "<div class=\"alert alert-warning\">\n",
    "<h3> Комментарий ревьюера <a class=\"tocSkip\"> </h3>\n",
    "    \n",
    "<b>Некоторые замечания и рекомендации💡:</b> Согласно рекомендациям по оформлению <a href = 'https://pythonworld.ru/osnovy/pep-8-rukovodstvo-po-napisaniyu-koda-na-python.html#section-18'>PEP-8</a> названия всех функций и переменных должны быть интуитивно понятны всем и отражать основной смысл. Revenue не отражает основной смысл данной функции, поскольку переводится, как выручка."
   ]
  },
  {
   "cell_type": "markdown",
   "metadata": {},
   "source": [
    "<div class=\"alert alert-info\">\n",
    "    <b>Комментарий студента:</b> Исправил ^.^   только у меня не получилось настроить \"flake8\", ошибку выдавало :(\n",
    "    \n",
    "</div>"
   ]
  },
  {
   "cell_type": "markdown",
   "metadata": {},
   "source": [
    "<div class=\"alert alert-success\">\n",
    "<b>Комментарий ревьюера 2:</b> А pylint тоже не получилось?"
   ]
  },
  {
   "cell_type": "markdown",
   "metadata": {},
   "source": [
    "<div class=\"alert alert-info\">\n",
    "    <b>Комментарий студента:</b> неа, делаю по сайту, но на втором этапе ошибку выдаёт. Но я уже в следубщем проекте разобраться попробую, а то сроки поджимают.\n",
    "    \n",
    "</div>"
   ]
  },
  {
   "cell_type": "code",
   "execution_count": 30,
   "metadata": {},
   "outputs": [
    {
     "name": "stdout",
     "output_type": "stream",
     "text": [
      "Requirement already satisfied: flake8 in /opt/conda/lib/python3.9/site-packages (6.0.0)\r\n",
      "Requirement already satisfied: pycodestyle_magic in /opt/conda/lib/python3.9/site-packages (0.5)\r\n",
      "Requirement already satisfied: mccabe<0.8.0,>=0.7.0 in /opt/conda/lib/python3.9/site-packages (from flake8) (0.7.0)\r\n",
      "Requirement already satisfied: pycodestyle<2.11.0,>=2.10.0 in /opt/conda/lib/python3.9/site-packages (from flake8) (2.10.0)\r\n",
      "Requirement already satisfied: pyflakes<3.1.0,>=3.0.0 in /opt/conda/lib/python3.9/site-packages (from flake8) (3.0.1)\r\n"
     ]
    }
   ],
   "source": [
    "!pip install flake8 pycodestyle_magic\n",
    "%load_ext pycodestyle_magic\n",
    "%pycodestyle_on"
   ]
  },
  {
   "cell_type": "code",
   "execution_count": 31,
   "metadata": {},
   "outputs": [
    {
     "name": "stderr",
     "output_type": "stream",
     "text": [
      "1:2: E225 missing whitespace around operator\n"
     ]
    }
   ],
   "source": [
    "a=1"
   ]
  },
  {
   "cell_type": "markdown",
   "metadata": {},
   "source": [
    "<div class=\"alert alert-success\">\n",
    "<b>Комментарий ревьюера 3:</b> Возможно, ты снова забыл выполнить установку :) потому что у меня в двух ячейках выше все сработало. Но на всякий случай предупрежу, это небольшой вспомогательный иснтрумент чисто для тебя, то есть сдавать проект с такими комментариями не следует, нужно их изучить, исправить, и перед отправкой заново запустить проект, отключив данный инструмент."
   ]
  },
  {
   "cell_type": "code",
   "execution_count": 32,
   "metadata": {},
   "outputs": [
    {
     "name": "stderr",
     "output_type": "stream",
     "text": [
      "1:80: E501 line too long (80 > 79 characters)\n",
      "2:80: E501 line too long (80 > 79 characters)\n",
      "3:80: E501 line too long (80 > 79 characters)\n"
     ]
    }
   ],
   "source": [
    "lower_0, upper_0, values_0, values_mean_0 = profit_distribution(valid_results_0)\n",
    "lower_1, upper_1, values_1, values_mean_1 = profit_distribution(valid_results_1)\n",
    "lower_2, upper_2, values_2, values_mean_2 = profit_distribution(valid_results_2)"
   ]
  },
  {
   "cell_type": "markdown",
   "metadata": {},
   "source": [
    "Посчитаем риск:"
   ]
  },
  {
   "cell_type": "markdown",
   "metadata": {},
   "source": [
    "<div class=\"alert alert-warning\">\n",
    "<h3> Комментарий ревьюера <a class=\"tocSkip\"> </h3>\n",
    "    \n",
    "<b>Некоторые замечания и рекомендации💡:</b> Поскольку значения прибыли у нас хранятся в объекте типа pandas Series, мы можем посчитать риски через функцию mean(). Для этого нам нужно сравнить вектор с 0, после чего мы получим вектор, состоящий из True False, что эквивалентно 1 и 0, а затем считаем среднее данного вектора: `(values < 0).mean()`. Получается всего 2 действия, что в разы эффективнее цикличного перебора элементов."
   ]
  },
  {
   "cell_type": "code",
   "execution_count": 33,
   "metadata": {},
   "outputs": [],
   "source": [
    "risk_0 = (values_0 < 0).mean()"
   ]
  },
  {
   "cell_type": "code",
   "execution_count": 34,
   "metadata": {},
   "outputs": [],
   "source": [
    "risk_1 = (values_1 < 0).mean()"
   ]
  },
  {
   "cell_type": "code",
   "execution_count": 35,
   "metadata": {},
   "outputs": [],
   "source": [
    "risk_2 = (values_2 < 0).mean()"
   ]
  },
  {
   "cell_type": "markdown",
   "metadata": {},
   "source": [
    "<div class=\"alert alert-info\">\n",
    "    <b>Комментарий студента:</b> Не очень понял как это работает, но вроде сработало. Почему это показывает процент риска, если это просто показывает % отрицательных....а ну да, понятно :D\n",
    "    \n",
    "</div>"
   ]
  },
  {
   "cell_type": "markdown",
   "metadata": {},
   "source": [
    "<div class=\"alert alert-success\">\n",
    "<b>Комментарий ревьюера 2:</b> 😉"
   ]
  },
  {
   "cell_type": "markdown",
   "metadata": {},
   "source": [
    "### Найдём среднюю прибыль, 95%-й доверительный интервал и риск убытков. Убыток — это отрицательная прибыль."
   ]
  },
  {
   "cell_type": "code",
   "execution_count": 36,
   "metadata": {},
   "outputs": [
    {
     "name": "stderr",
     "output_type": "stream",
     "text": [
      "1:80: E501 line too long (103 > 79 characters)\n",
      "4:80: E501 line too long (103 > 79 characters)\n",
      "7:80: E501 line too long (103 > 79 characters)\n"
     ]
    },
    {
     "name": "stdout",
     "output_type": "stream",
     "text": [
      "ГЕО_0: Начало 95% интервала: -100.13 млн руб., конец интервала: 904.11 млн руб., риск убытка: 7.30%, средняя прибыль: 399.51 млн руб.\n",
      "\n",
      "ГЕО_1: Начало 95% интервала: 50.97 млн руб., конец интервала: 853.70 млн руб., риск убытка: 1.10%, средняя прибыль: 456.26 млн руб.\n",
      "\n",
      "ГЕО_2: Начало 95% интервала: -110.11 млн руб., конец интервала: 941.84 млн руб., риск убытка: 6.60%, средняя прибыль: 399.68 млн руб.\n"
     ]
    }
   ],
   "source": [
    "print(f'ГЕО_0: Начало 95% интервала: {lower_0:.2f} млн руб., конец интервала: {upper_0:.2f} млн руб., \\\n",
    "риск убытка: {risk_0*100:.2f}%, средняя прибыль: {values_mean_0:.2f} млн руб.')\n",
    "print()\n",
    "print(f'ГЕО_1: Начало 95% интервала: {lower_1:.2f} млн руб., конец интервала: {upper_1:.2f} млн руб., \\\n",
    "риск убытка: {risk_1*100:.2f}%, средняя прибыль: {values_mean_1:.2f} млн руб.')\n",
    "print()\n",
    "print(f'ГЕО_2: Начало 95% интервала: {lower_2:.2f} млн руб., конец интервала: {upper_2:.2f} млн руб., \\\n",
    "риск убытка: {risk_2*100:.2f}%, средняя прибыль: {values_mean_2:.2f} млн руб.')"
   ]
  },
  {
   "cell_type": "markdown",
   "metadata": {},
   "source": [
    "<div class=\"alert alert-warning\">\n",
    "<h3> Комментарий ревьюера <a class=\"tocSkip\"> </h3>\n",
    "    \n",
    "<b>Некоторые замечания и рекомендации💡:</b> \n",
    "    \n",
    "* Большие числа опять же было бы лучше перевести в миллионы или миллиарды.\n",
    "    \n",
    "    \n",
    "* Еще кстати очень удобно можно визуализировать результаты: строить распределения прибыли и добавлять на них вертикальные линии - границы доверительного интервала и границу безубыточности."
   ]
  },
  {
   "cell_type": "markdown",
   "metadata": {},
   "source": [
    "<div class=\"alert alert-info\">\n",
    "    <b>Комментарий студента:</b> Исправил) вот только с визуализацией очень бы хотелось наглядый красивый пример, с тем как границы добавлять и т.д., чтобы на будущее взять на вооружение..\n",
    "    \n",
    "</div>"
   ]
  },
  {
   "cell_type": "markdown",
   "metadata": {},
   "source": [
    "<div class=\"alert alert-success\">\n",
    "<b>Комментарий ревьюера 2:</b> Про вертикальные линии <a href = 'https://www.geeksforgeeks.org/plot-a-vertical-line-in-matplotlib/'>тут</a>."
   ]
  },
  {
   "cell_type": "markdown",
   "metadata": {},
   "source": [
    "### Напишим выводы: предложим регион для разработки скважин и обоснуем выбор."
   ]
  },
  {
   "cell_type": "markdown",
   "metadata": {},
   "source": [
    "Регион ГЕО_1 из датасета `/datasets/geo_data_1.csv` показал наилучшие результаты, с вероятностью 95% доход будет составлять от 50.97 млн руб. до 853.70 млн руб. c нулевым риском убытка в 1.1%."
   ]
  },
  {
   "cell_type": "markdown",
   "metadata": {},
   "source": [
    "## Общий вывод "
   ]
  },
  {
   "cell_type": "markdown",
   "metadata": {},
   "source": [
    "Мы составили модель линейной регрессии, которая предсказывает добычу объем добычи сырья из скважины. Далее применили технику Bootstrap и составили 1000 выборок на основе которых определили 95% доверительный интвервал и риск убытка. Проанализировав полученные данные, было принято решение начать исследование в регионе ГЕО_1 из датасета `/datasets/geo_data_1.csv`, который показал 1.1% процент убытка и лучшую среднюю прибыль в размере 456.26 млн руб."
   ]
  },
  {
   "cell_type": "markdown",
   "metadata": {},
   "source": [
    "<div class=\"alert alert-warning\">\n",
    "<h3> Комментарий ревьюера <a class=\"tocSkip\"> </h3>\n",
    "    \n",
    "<b>Некоторые замечания и рекомендации💡:</b> После исправления неполадок результаты изменятся, не забудь скорректировать выводы."
   ]
  },
  {
   "cell_type": "markdown",
   "metadata": {},
   "source": [
    "<div class=\"alert alert-info\">\n",
    "    <b>Комментарий студента:</b> Скорректировал! Спасибо большое за проверку! Классные замечания и советы, классно было исправлять! Одно удовольствие когда такие крутые проверки!\n",
    "    \n",
    "</div>"
   ]
  },
  {
   "cell_type": "markdown",
   "metadata": {},
   "source": [
    "<div class=\"alert alert-success\">\n",
    "<b>Комментарий ревьюера 2:</b> Рада, что тебе понравилось :) Но кое-что еще предстоит поправить!"
   ]
  },
  {
   "cell_type": "markdown",
   "metadata": {},
   "source": [
    "## Чек-лист готовности проекта"
   ]
  },
  {
   "cell_type": "markdown",
   "metadata": {},
   "source": [
    "Поставьте 'x' в выполненных пунктах. Далее нажмите Shift+Enter."
   ]
  },
  {
   "cell_type": "markdown",
   "metadata": {},
   "source": [
    "<div style=\"border:solid Chocolate 2px; padding: 40px\">\n",
    "\n",
    "**Общий вывод по проекту**\n",
    "\n",
    "Роман, спасибо за твой проект! У тебя замечательная работа! В тебе виден будущий профессионал своего дела :) \n",
    "    \n",
    "Кратко пройдусь по впечатлениям. \n",
    "\n",
    "**Отмечу отдельные положительные моменты проекта🙂**:\n",
    " \n",
    "* Прекрасное владение инструментами обработки данных!\n",
    "* Умелое проведение машинного обучения!\n",
    "* Работа имеет четкую структуру и выполнена аккуратно, проверять - одно удовольствие!\n",
    "\n",
    "    \n",
    "**На что стоит обратить внимание🤓**:\n",
    "   \n",
    "* Скоррелированность таргета с предикторами спутана с мультиколлинеарностью.\n",
    "* Подсчет прибыли необходимо производить по фактическим значениям продукта.\n",
    "* Оставила для тебя также некоторые рекомендаций по улучшению оформления и эффективности кода.\n",
    "\n",
    "\n",
    "**Желаю удачи и жду твой проект на повторное ревью!**😉\n",
    "    \n",
    "<img src=\"https://99px.ru/sstorage/86/2015/12/image_86271215043043632690.gif\" />"
   ]
  },
  {
   "cell_type": "markdown",
   "metadata": {},
   "source": [
    "<div class=\"alert alert-info\">\n",
    "    <b>Комментарий студента:</b> Можешь, пожалуйста, от себя добавить какие-нибудь плюшки полезные для развития в DS, может книжки или сайтики :)\n",
    "    \n",
    "</div>"
   ]
  },
  {
   "cell_type": "markdown",
   "metadata": {},
   "source": [
    "<div class=\"alert alert-success\">\n",
    "<b>Комментарий ревьюера 2:</b> \n",
    "    \n",
    "В целом по ML:\n",
    "1. <a href = 'https://stepik.org/course/4852/promo '>Интересно и понятно поданная база</a>\n",
    "2. <a href = ''></a><a href = 'https://habr.com/ru/company/ods/blog/322626/'>Курс от ODS, очень хвалят</a>\n",
    "3. <a href = 'https://academy.yandex.ru/dataschool/book'>Небольшой учебник от ШАД Яндекса</a>\n",
    "4. <a href = 'https://qudata.com/ml/ru/'>Тоже основы уже более математизированным языком</a>\n",
    "5. <a href = 'https://datahacker.rs/machine-learning/'>На английском, но наглядно</a> \n",
    "    \n",
    "    \n",
    "Не ML, но <a href = 'https://stepik.org/course/63054/promo'>крутой курс по SQL</a>, тоже пригодится для трудоустройства.\n",
    "    \n",
    "    \n",
    "К следующей проверке, может, еще что вспомню :)"
   ]
  },
  {
   "cell_type": "markdown",
   "metadata": {},
   "source": [
    "<div class=\"alert alert-info\">\n",
    "    <b>Комментарий студента:</b> Спасибо!\n",
    "    \n",
    "</div>"
   ]
  },
  {
   "cell_type": "markdown",
   "metadata": {},
   "source": [
    "<div class=\"alert alert-success\">\n",
    "<b>Комментарий ревьюера 3:</b> Проект полностью готов! Было очень приятно с тобой поработать :) Желаю огромных успехов в дальнейшем обучении и карьерных достижений! 🍀"
   ]
  },
  {
   "cell_type": "code",
   "execution_count": null,
   "metadata": {},
   "outputs": [],
   "source": []
  }
 ],
 "metadata": {
  "ExecuteTimeLog": [
   {
    "duration": 1433,
    "start_time": "2022-11-28T10:36:28.874Z"
   },
   {
    "duration": 107,
    "start_time": "2022-11-28T10:38:52.380Z"
   },
   {
    "duration": 1563,
    "start_time": "2022-11-28T10:39:08.510Z"
   },
   {
    "duration": 367,
    "start_time": "2022-11-28T10:39:19.509Z"
   },
   {
    "duration": 363,
    "start_time": "2022-11-28T10:39:36.305Z"
   },
   {
    "duration": 9,
    "start_time": "2022-11-28T11:46:42.741Z"
   },
   {
    "duration": 14,
    "start_time": "2022-11-28T11:46:46.605Z"
   },
   {
    "duration": 34,
    "start_time": "2022-11-28T11:46:59.944Z"
   },
   {
    "duration": 11,
    "start_time": "2022-11-28T11:51:09.514Z"
   },
   {
    "duration": 119,
    "start_time": "2022-11-28T11:52:14.795Z"
   },
   {
    "duration": 64,
    "start_time": "2022-11-28T11:52:26.007Z"
   },
   {
    "duration": 49,
    "start_time": "2022-11-28T11:52:29.841Z"
   },
   {
    "duration": 42,
    "start_time": "2022-11-28T11:52:34.576Z"
   },
   {
    "duration": 141,
    "start_time": "2022-11-28T11:52:59.252Z"
   },
   {
    "duration": 43,
    "start_time": "2022-11-28T11:53:06.317Z"
   },
   {
    "duration": 135,
    "start_time": "2022-11-28T12:01:16.172Z"
   },
   {
    "duration": 14,
    "start_time": "2022-11-28T12:01:42.144Z"
   },
   {
    "duration": 3,
    "start_time": "2022-11-28T12:03:23.036Z"
   },
   {
    "duration": 30,
    "start_time": "2022-11-28T12:09:10.270Z"
   },
   {
    "duration": 9,
    "start_time": "2022-11-28T12:09:23.984Z"
   },
   {
    "duration": 5,
    "start_time": "2022-11-28T12:09:41.302Z"
   },
   {
    "duration": 10,
    "start_time": "2022-11-28T12:11:40.241Z"
   },
   {
    "duration": 22,
    "start_time": "2022-11-28T12:17:47.201Z"
   },
   {
    "duration": 5,
    "start_time": "2022-11-28T12:17:49.978Z"
   },
   {
    "duration": 15,
    "start_time": "2022-11-28T12:18:47.933Z"
   },
   {
    "duration": 5,
    "start_time": "2022-11-28T12:18:49.636Z"
   },
   {
    "duration": 10,
    "start_time": "2022-11-28T12:19:03.151Z"
   },
   {
    "duration": 5,
    "start_time": "2022-11-28T12:19:08.608Z"
   },
   {
    "duration": 10,
    "start_time": "2022-11-28T12:19:24.303Z"
   },
   {
    "duration": 4,
    "start_time": "2022-11-28T12:19:27.269Z"
   },
   {
    "duration": 15,
    "start_time": "2022-11-28T12:20:06.915Z"
   },
   {
    "duration": 12,
    "start_time": "2022-11-28T12:20:14.167Z"
   },
   {
    "duration": 10,
    "start_time": "2022-11-28T12:21:09.991Z"
   },
   {
    "duration": 1469,
    "start_time": "2022-11-28T12:22:03.006Z"
   },
   {
    "duration": 380,
    "start_time": "2022-11-28T12:22:04.476Z"
   },
   {
    "duration": 37,
    "start_time": "2022-11-28T12:22:04.857Z"
   },
   {
    "duration": 172,
    "start_time": "2022-11-28T12:22:04.897Z"
   },
   {
    "duration": 15,
    "start_time": "2022-11-28T12:22:05.071Z"
   },
   {
    "duration": 54,
    "start_time": "2022-11-28T12:22:05.088Z"
   },
   {
    "duration": 12,
    "start_time": "2022-11-28T12:22:05.144Z"
   },
   {
    "duration": 8,
    "start_time": "2022-11-28T12:23:08.361Z"
   },
   {
    "duration": 136,
    "start_time": "2022-11-28T13:17:45.311Z"
   },
   {
    "duration": 958,
    "start_time": "2022-11-28T13:17:58.271Z"
   },
   {
    "duration": 1107,
    "start_time": "2022-11-28T13:18:18.436Z"
   },
   {
    "duration": 1115,
    "start_time": "2022-11-28T13:20:18.860Z"
   },
   {
    "duration": 1069,
    "start_time": "2022-11-28T13:20:39.256Z"
   },
   {
    "duration": 1177,
    "start_time": "2022-11-28T13:27:34.382Z"
   },
   {
    "duration": 292,
    "start_time": "2022-11-28T13:28:00.570Z"
   },
   {
    "duration": 1066,
    "start_time": "2022-11-28T13:28:09.689Z"
   },
   {
    "duration": 5,
    "start_time": "2022-11-28T13:28:46.666Z"
   },
   {
    "duration": 1077,
    "start_time": "2022-11-28T13:29:04.091Z"
   },
   {
    "duration": 17,
    "start_time": "2022-11-28T13:30:28.000Z"
   },
   {
    "duration": 1380,
    "start_time": "2022-11-28T13:30:35.574Z"
   },
   {
    "duration": 377,
    "start_time": "2022-11-28T13:30:36.956Z"
   },
   {
    "duration": 35,
    "start_time": "2022-11-28T13:30:37.335Z"
   },
   {
    "duration": 160,
    "start_time": "2022-11-28T13:30:37.372Z"
   },
   {
    "duration": 16,
    "start_time": "2022-11-28T13:30:37.534Z"
   },
   {
    "duration": 13,
    "start_time": "2022-11-28T13:30:37.551Z"
   },
   {
    "duration": 1101,
    "start_time": "2022-11-28T13:30:37.566Z"
   },
   {
    "duration": 4,
    "start_time": "2022-11-28T13:30:38.669Z"
   },
   {
    "duration": 136,
    "start_time": "2022-11-28T13:30:38.675Z"
   },
   {
    "duration": 3,
    "start_time": "2022-11-28T15:15:42.268Z"
   },
   {
    "duration": 10,
    "start_time": "2022-11-28T15:16:05.981Z"
   },
   {
    "duration": 7,
    "start_time": "2022-11-28T15:28:28.788Z"
   },
   {
    "duration": 54,
    "start_time": "2022-11-28T15:28:32.820Z"
   },
   {
    "duration": 1522,
    "start_time": "2022-11-28T15:30:00.255Z"
   },
   {
    "duration": 3,
    "start_time": "2022-11-28T15:30:01.779Z"
   },
   {
    "duration": 464,
    "start_time": "2022-11-28T15:30:01.783Z"
   },
   {
    "duration": 36,
    "start_time": "2022-11-28T15:30:02.251Z"
   },
   {
    "duration": 185,
    "start_time": "2022-11-28T15:30:02.288Z"
   },
   {
    "duration": 16,
    "start_time": "2022-11-28T15:30:02.475Z"
   },
   {
    "duration": 15,
    "start_time": "2022-11-28T15:30:02.492Z"
   },
   {
    "duration": 1154,
    "start_time": "2022-11-28T15:30:02.508Z"
   },
   {
    "duration": 4,
    "start_time": "2022-11-28T15:30:03.664Z"
   },
   {
    "duration": 116,
    "start_time": "2022-11-28T15:30:03.671Z"
   },
   {
    "duration": 0,
    "start_time": "2022-11-28T15:30:03.788Z"
   },
   {
    "duration": 0,
    "start_time": "2022-11-28T15:30:03.790Z"
   },
   {
    "duration": 3,
    "start_time": "2022-11-28T15:30:38.689Z"
   },
   {
    "duration": 41,
    "start_time": "2022-11-28T15:30:40.631Z"
   },
   {
    "duration": 41,
    "start_time": "2022-11-28T15:31:18.987Z"
   },
   {
    "duration": 53,
    "start_time": "2022-11-29T08:39:16.991Z"
   },
   {
    "duration": 6,
    "start_time": "2022-11-29T08:40:02.565Z"
   },
   {
    "duration": 1553,
    "start_time": "2022-11-29T08:40:41.729Z"
   },
   {
    "duration": 2,
    "start_time": "2022-11-29T08:40:43.285Z"
   },
   {
    "duration": 1641,
    "start_time": "2022-11-29T08:40:43.289Z"
   },
   {
    "duration": 39,
    "start_time": "2022-11-29T08:40:44.933Z"
   },
   {
    "duration": 158,
    "start_time": "2022-11-29T08:40:44.974Z"
   },
   {
    "duration": 14,
    "start_time": "2022-11-29T08:40:45.133Z"
   },
   {
    "duration": 36,
    "start_time": "2022-11-29T08:40:45.149Z"
   },
   {
    "duration": 1159,
    "start_time": "2022-11-29T08:40:45.187Z"
   },
   {
    "duration": 4,
    "start_time": "2022-11-29T08:40:46.348Z"
   },
   {
    "duration": 57,
    "start_time": "2022-11-29T08:40:46.355Z"
   },
   {
    "duration": 29,
    "start_time": "2022-11-29T08:40:46.413Z"
   },
   {
    "duration": 53,
    "start_time": "2022-11-29T08:40:46.444Z"
   },
   {
    "duration": 119,
    "start_time": "2022-11-29T08:40:46.499Z"
   },
   {
    "duration": 0,
    "start_time": "2022-11-29T08:40:46.619Z"
   },
   {
    "duration": 0,
    "start_time": "2022-11-29T08:40:46.620Z"
   },
   {
    "duration": 5,
    "start_time": "2022-11-29T08:41:30.996Z"
   },
   {
    "duration": 33,
    "start_time": "2022-11-29T08:41:52.617Z"
   },
   {
    "duration": 6,
    "start_time": "2022-11-29T08:42:09.719Z"
   },
   {
    "duration": 10,
    "start_time": "2022-11-29T08:42:33.494Z"
   },
   {
    "duration": 7,
    "start_time": "2022-11-29T08:42:52.546Z"
   },
   {
    "duration": 1366,
    "start_time": "2022-11-29T08:44:08.837Z"
   },
   {
    "duration": 3,
    "start_time": "2022-11-29T08:44:10.205Z"
   },
   {
    "duration": 426,
    "start_time": "2022-11-29T08:44:10.210Z"
   },
   {
    "duration": 48,
    "start_time": "2022-11-29T08:44:10.638Z"
   },
   {
    "duration": 163,
    "start_time": "2022-11-29T08:44:10.688Z"
   },
   {
    "duration": 14,
    "start_time": "2022-11-29T08:44:10.852Z"
   },
   {
    "duration": 9,
    "start_time": "2022-11-29T08:44:10.878Z"
   },
   {
    "duration": 1044,
    "start_time": "2022-11-29T08:44:10.889Z"
   },
   {
    "duration": 6,
    "start_time": "2022-11-29T08:44:11.936Z"
   },
   {
    "duration": 52,
    "start_time": "2022-11-29T08:44:11.944Z"
   },
   {
    "duration": 29,
    "start_time": "2022-11-29T08:44:11.998Z"
   },
   {
    "duration": 56,
    "start_time": "2022-11-29T08:44:12.029Z"
   },
   {
    "duration": 5,
    "start_time": "2022-11-29T08:44:12.087Z"
   },
   {
    "duration": 9,
    "start_time": "2022-11-29T08:44:12.093Z"
   },
   {
    "duration": 135,
    "start_time": "2022-11-29T08:44:12.104Z"
   },
   {
    "duration": 0,
    "start_time": "2022-11-29T08:44:12.240Z"
   },
   {
    "duration": 27,
    "start_time": "2022-11-29T08:46:15.834Z"
   },
   {
    "duration": 1398,
    "start_time": "2022-11-29T08:47:27.095Z"
   },
   {
    "duration": 3,
    "start_time": "2022-11-29T08:47:28.495Z"
   },
   {
    "duration": 357,
    "start_time": "2022-11-29T08:47:28.500Z"
   },
   {
    "duration": 41,
    "start_time": "2022-11-29T08:47:28.859Z"
   },
   {
    "duration": 167,
    "start_time": "2022-11-29T08:47:28.902Z"
   },
   {
    "duration": 15,
    "start_time": "2022-11-29T08:47:29.077Z"
   },
   {
    "duration": 24,
    "start_time": "2022-11-29T08:47:29.093Z"
   },
   {
    "duration": 1120,
    "start_time": "2022-11-29T08:47:29.119Z"
   },
   {
    "duration": 5,
    "start_time": "2022-11-29T08:47:30.241Z"
   },
   {
    "duration": 65,
    "start_time": "2022-11-29T08:47:30.249Z"
   },
   {
    "duration": 69,
    "start_time": "2022-11-29T08:47:30.316Z"
   },
   {
    "duration": 44,
    "start_time": "2022-11-29T08:47:30.387Z"
   },
   {
    "duration": 7,
    "start_time": "2022-11-29T08:47:30.434Z"
   },
   {
    "duration": 32,
    "start_time": "2022-11-29T08:47:30.443Z"
   },
   {
    "duration": 171,
    "start_time": "2022-11-29T08:47:30.477Z"
   },
   {
    "duration": 0,
    "start_time": "2022-11-29T08:47:30.650Z"
   },
   {
    "duration": 13,
    "start_time": "2022-11-29T08:48:43.315Z"
   },
   {
    "duration": 35,
    "start_time": "2022-11-29T08:48:46.755Z"
   },
   {
    "duration": 12,
    "start_time": "2022-11-29T08:57:20.196Z"
   },
   {
    "duration": 10,
    "start_time": "2022-11-29T09:09:03.084Z"
   },
   {
    "duration": 32,
    "start_time": "2022-11-29T11:18:30.345Z"
   },
   {
    "duration": 27,
    "start_time": "2022-11-29T15:59:45.523Z"
   },
   {
    "duration": 17,
    "start_time": "2022-11-29T16:00:16.273Z"
   },
   {
    "duration": 1453,
    "start_time": "2022-11-29T16:00:23.489Z"
   },
   {
    "duration": 3,
    "start_time": "2022-11-29T16:00:24.944Z"
   },
   {
    "duration": 412,
    "start_time": "2022-11-29T16:00:24.949Z"
   },
   {
    "duration": 46,
    "start_time": "2022-11-29T16:00:25.364Z"
   },
   {
    "duration": 177,
    "start_time": "2022-11-29T16:00:25.411Z"
   },
   {
    "duration": 17,
    "start_time": "2022-11-29T16:00:25.590Z"
   },
   {
    "duration": 17,
    "start_time": "2022-11-29T16:00:25.610Z"
   },
   {
    "duration": 1134,
    "start_time": "2022-11-29T16:00:25.629Z"
   },
   {
    "duration": 4,
    "start_time": "2022-11-29T16:00:26.765Z"
   },
   {
    "duration": 42,
    "start_time": "2022-11-29T16:00:26.780Z"
   },
   {
    "duration": 31,
    "start_time": "2022-11-29T16:00:26.824Z"
   },
   {
    "duration": 57,
    "start_time": "2022-11-29T16:00:26.857Z"
   },
   {
    "duration": 8,
    "start_time": "2022-11-29T16:00:26.916Z"
   },
   {
    "duration": 52,
    "start_time": "2022-11-29T16:00:26.926Z"
   },
   {
    "duration": 120,
    "start_time": "2022-11-29T16:00:26.980Z"
   },
   {
    "duration": 0,
    "start_time": "2022-11-29T16:00:27.102Z"
   },
   {
    "duration": 11,
    "start_time": "2022-11-29T16:02:33.121Z"
   },
   {
    "duration": 13,
    "start_time": "2022-11-29T16:03:34.201Z"
   },
   {
    "duration": 14,
    "start_time": "2022-11-29T16:04:04.869Z"
   },
   {
    "duration": 19,
    "start_time": "2022-11-29T16:04:21.797Z"
   },
   {
    "duration": 19,
    "start_time": "2022-11-29T16:05:00.370Z"
   },
   {
    "duration": 13,
    "start_time": "2022-11-29T16:08:03.529Z"
   },
   {
    "duration": 1506,
    "start_time": "2022-11-29T16:09:03.752Z"
   },
   {
    "duration": 5,
    "start_time": "2022-11-29T16:09:05.260Z"
   },
   {
    "duration": 433,
    "start_time": "2022-11-29T16:09:05.267Z"
   },
   {
    "duration": 45,
    "start_time": "2022-11-29T16:09:05.703Z"
   },
   {
    "duration": 191,
    "start_time": "2022-11-29T16:09:05.750Z"
   },
   {
    "duration": 17,
    "start_time": "2022-11-29T16:09:05.943Z"
   },
   {
    "duration": 31,
    "start_time": "2022-11-29T16:09:05.962Z"
   },
   {
    "duration": 1167,
    "start_time": "2022-11-29T16:09:05.994Z"
   },
   {
    "duration": 3,
    "start_time": "2022-11-29T16:09:07.162Z"
   },
   {
    "duration": 50,
    "start_time": "2022-11-29T16:09:07.167Z"
   },
   {
    "duration": 39,
    "start_time": "2022-11-29T16:09:07.219Z"
   },
   {
    "duration": 43,
    "start_time": "2022-11-29T16:09:07.277Z"
   },
   {
    "duration": 10,
    "start_time": "2022-11-29T16:09:07.322Z"
   },
   {
    "duration": 61,
    "start_time": "2022-11-29T16:09:07.333Z"
   },
   {
    "duration": 18,
    "start_time": "2022-11-29T16:09:07.396Z"
   },
   {
    "duration": 124,
    "start_time": "2022-11-29T16:09:07.416Z"
   },
   {
    "duration": 0,
    "start_time": "2022-11-29T16:09:07.541Z"
   },
   {
    "duration": 9,
    "start_time": "2022-11-29T16:09:35.248Z"
   },
   {
    "duration": 1415,
    "start_time": "2022-11-29T16:11:15.498Z"
   },
   {
    "duration": 3,
    "start_time": "2022-11-29T16:11:16.915Z"
   },
   {
    "duration": 368,
    "start_time": "2022-11-29T16:11:16.919Z"
   },
   {
    "duration": 34,
    "start_time": "2022-11-29T16:11:17.289Z"
   },
   {
    "duration": 163,
    "start_time": "2022-11-29T16:11:17.325Z"
   },
   {
    "duration": 15,
    "start_time": "2022-11-29T16:11:17.490Z"
   },
   {
    "duration": 14,
    "start_time": "2022-11-29T16:11:17.507Z"
   },
   {
    "duration": 1107,
    "start_time": "2022-11-29T16:11:17.523Z"
   },
   {
    "duration": 5,
    "start_time": "2022-11-29T16:11:18.633Z"
   },
   {
    "duration": 60,
    "start_time": "2022-11-29T16:11:18.640Z"
   },
   {
    "duration": 29,
    "start_time": "2022-11-29T16:11:18.702Z"
   },
   {
    "duration": 53,
    "start_time": "2022-11-29T16:11:18.733Z"
   },
   {
    "duration": 8,
    "start_time": "2022-11-29T16:11:18.787Z"
   },
   {
    "duration": 61,
    "start_time": "2022-11-29T16:11:18.797Z"
   },
   {
    "duration": 98,
    "start_time": "2022-11-29T17:35:12.159Z"
   },
   {
    "duration": 1281,
    "start_time": "2022-11-29T17:35:58.019Z"
   },
   {
    "duration": 3,
    "start_time": "2022-11-29T17:35:59.301Z"
   },
   {
    "duration": 444,
    "start_time": "2022-11-29T17:35:59.306Z"
   },
   {
    "duration": 39,
    "start_time": "2022-11-29T17:35:59.752Z"
   },
   {
    "duration": 149,
    "start_time": "2022-11-29T17:35:59.792Z"
   },
   {
    "duration": 16,
    "start_time": "2022-11-29T17:35:59.943Z"
   },
   {
    "duration": 22,
    "start_time": "2022-11-29T17:35:59.961Z"
   },
   {
    "duration": 1078,
    "start_time": "2022-11-29T17:35:59.985Z"
   },
   {
    "duration": 4,
    "start_time": "2022-11-29T17:36:01.066Z"
   },
   {
    "duration": 47,
    "start_time": "2022-11-29T17:36:01.079Z"
   },
   {
    "duration": 32,
    "start_time": "2022-11-29T17:36:01.128Z"
   },
   {
    "duration": 54,
    "start_time": "2022-11-29T17:36:01.162Z"
   },
   {
    "duration": 8,
    "start_time": "2022-11-29T17:36:01.218Z"
   },
   {
    "duration": 72,
    "start_time": "2022-11-29T17:36:01.228Z"
   },
   {
    "duration": 124,
    "start_time": "2022-11-29T17:36:01.302Z"
   },
   {
    "duration": 19,
    "start_time": "2022-11-29T17:53:52.761Z"
   },
   {
    "duration": 19,
    "start_time": "2022-11-29T17:54:01.883Z"
   },
   {
    "duration": 14,
    "start_time": "2022-11-29T17:54:07.024Z"
   },
   {
    "duration": 18,
    "start_time": "2022-11-29T17:56:57.738Z"
   },
   {
    "duration": 16,
    "start_time": "2022-11-29T17:57:06.793Z"
   },
   {
    "duration": 14,
    "start_time": "2022-11-29T17:57:21.649Z"
   },
   {
    "duration": 12,
    "start_time": "2022-11-29T17:58:31.563Z"
   },
   {
    "duration": 26,
    "start_time": "2022-11-29T17:58:33.884Z"
   },
   {
    "duration": 48,
    "start_time": "2022-11-30T09:51:40.308Z"
   },
   {
    "duration": 6,
    "start_time": "2022-11-30T09:59:57.025Z"
   },
   {
    "duration": 1655,
    "start_time": "2022-11-30T10:00:04.171Z"
   },
   {
    "duration": 2,
    "start_time": "2022-11-30T10:00:05.828Z"
   },
   {
    "duration": 863,
    "start_time": "2022-11-30T10:00:05.832Z"
   },
   {
    "duration": 34,
    "start_time": "2022-11-30T10:00:06.697Z"
   },
   {
    "duration": 148,
    "start_time": "2022-11-30T10:00:06.733Z"
   },
   {
    "duration": 15,
    "start_time": "2022-11-30T10:00:06.882Z"
   },
   {
    "duration": 20,
    "start_time": "2022-11-30T10:00:06.899Z"
   },
   {
    "duration": 1169,
    "start_time": "2022-11-30T10:00:06.921Z"
   },
   {
    "duration": 4,
    "start_time": "2022-11-30T10:00:08.092Z"
   },
   {
    "duration": 61,
    "start_time": "2022-11-30T10:00:08.099Z"
   },
   {
    "duration": 29,
    "start_time": "2022-11-30T10:00:08.162Z"
   },
   {
    "duration": 37,
    "start_time": "2022-11-30T10:00:08.193Z"
   },
   {
    "duration": 8,
    "start_time": "2022-11-30T10:00:08.231Z"
   },
   {
    "duration": 74,
    "start_time": "2022-11-30T10:00:08.240Z"
   },
   {
    "duration": 25,
    "start_time": "2022-11-30T10:00:08.316Z"
   },
   {
    "duration": 117,
    "start_time": "2022-11-30T10:00:08.375Z"
   },
   {
    "duration": 198,
    "start_time": "2022-11-30T10:00:08.495Z"
   },
   {
    "duration": 193,
    "start_time": "2022-11-30T10:00:08.695Z"
   },
   {
    "duration": 16,
    "start_time": "2022-11-30T10:00:08.890Z"
   },
   {
    "duration": 29,
    "start_time": "2022-11-30T10:00:08.908Z"
   },
   {
    "duration": 11,
    "start_time": "2022-11-30T10:00:24.482Z"
   },
   {
    "duration": 10,
    "start_time": "2022-11-30T10:00:50.054Z"
   },
   {
    "duration": 11,
    "start_time": "2022-11-30T10:01:03.594Z"
   },
   {
    "duration": 9,
    "start_time": "2022-11-30T10:01:53.042Z"
   },
   {
    "duration": 7,
    "start_time": "2022-11-30T10:02:24.306Z"
   },
   {
    "duration": 10,
    "start_time": "2022-11-30T10:02:34.177Z"
   },
   {
    "duration": 7,
    "start_time": "2022-11-30T10:02:40.539Z"
   },
   {
    "duration": 13,
    "start_time": "2022-11-30T10:02:59.279Z"
   },
   {
    "duration": 12,
    "start_time": "2022-11-30T10:03:26.479Z"
   },
   {
    "duration": 11,
    "start_time": "2022-11-30T10:03:29.925Z"
   },
   {
    "duration": 11,
    "start_time": "2022-11-30T10:05:27.367Z"
   },
   {
    "duration": 12,
    "start_time": "2022-11-30T10:06:05.299Z"
   },
   {
    "duration": 12,
    "start_time": "2022-11-30T10:06:07.509Z"
   },
   {
    "duration": 5,
    "start_time": "2022-11-30T10:07:33.659Z"
   },
   {
    "duration": 5,
    "start_time": "2022-11-30T10:07:58.400Z"
   },
   {
    "duration": 64,
    "start_time": "2022-11-30T10:28:47.852Z"
   },
   {
    "duration": 81,
    "start_time": "2022-11-30T10:29:06.292Z"
   },
   {
    "duration": 3,
    "start_time": "2022-11-30T10:29:14.321Z"
   },
   {
    "duration": 2,
    "start_time": "2022-11-30T10:36:35.224Z"
   },
   {
    "duration": 3,
    "start_time": "2022-11-30T10:37:11.348Z"
   },
   {
    "duration": 45,
    "start_time": "2022-11-30T14:23:19.452Z"
   },
   {
    "duration": 1587,
    "start_time": "2022-11-30T14:23:32.215Z"
   },
   {
    "duration": 3,
    "start_time": "2022-11-30T14:23:33.804Z"
   },
   {
    "duration": 1721,
    "start_time": "2022-11-30T14:23:33.809Z"
   },
   {
    "duration": 38,
    "start_time": "2022-11-30T14:23:35.532Z"
   },
   {
    "duration": 147,
    "start_time": "2022-11-30T14:23:35.573Z"
   },
   {
    "duration": 14,
    "start_time": "2022-11-30T14:23:35.722Z"
   },
   {
    "duration": 12,
    "start_time": "2022-11-30T14:23:35.738Z"
   },
   {
    "duration": 1106,
    "start_time": "2022-11-30T14:23:35.752Z"
   },
   {
    "duration": 5,
    "start_time": "2022-11-30T14:23:36.860Z"
   },
   {
    "duration": 53,
    "start_time": "2022-11-30T14:23:36.866Z"
   },
   {
    "duration": 44,
    "start_time": "2022-11-30T14:23:36.922Z"
   },
   {
    "duration": 69,
    "start_time": "2022-11-30T14:23:36.969Z"
   },
   {
    "duration": 8,
    "start_time": "2022-11-30T14:23:37.040Z"
   },
   {
    "duration": 38,
    "start_time": "2022-11-30T14:23:37.050Z"
   },
   {
    "duration": 29,
    "start_time": "2022-11-30T14:23:37.089Z"
   },
   {
    "duration": 94,
    "start_time": "2022-11-30T14:23:37.120Z"
   },
   {
    "duration": 103,
    "start_time": "2022-11-30T14:23:37.216Z"
   },
   {
    "duration": 94,
    "start_time": "2022-11-30T14:23:37.321Z"
   },
   {
    "duration": 104,
    "start_time": "2022-11-30T14:23:37.417Z"
   },
   {
    "duration": 11,
    "start_time": "2022-11-30T14:23:37.523Z"
   },
   {
    "duration": 7,
    "start_time": "2022-11-30T14:23:37.535Z"
   },
   {
    "duration": 8,
    "start_time": "2022-11-30T14:23:37.544Z"
   },
   {
    "duration": 6,
    "start_time": "2022-11-30T14:23:37.554Z"
   },
   {
    "duration": 7,
    "start_time": "2022-11-30T14:26:05.701Z"
   },
   {
    "duration": 4,
    "start_time": "2022-11-30T14:28:32.141Z"
   },
   {
    "duration": 4,
    "start_time": "2022-11-30T14:30:58.890Z"
   },
   {
    "duration": 4,
    "start_time": "2022-11-30T14:31:10.619Z"
   },
   {
    "duration": 3,
    "start_time": "2022-11-30T14:40:24.245Z"
   },
   {
    "duration": 2,
    "start_time": "2022-11-30T14:42:18.640Z"
   },
   {
    "duration": 3,
    "start_time": "2022-11-30T14:42:33.055Z"
   },
   {
    "duration": 2,
    "start_time": "2022-11-30T14:42:37.746Z"
   },
   {
    "duration": 3,
    "start_time": "2022-11-30T14:42:41.206Z"
   },
   {
    "duration": 7,
    "start_time": "2022-11-30T14:53:34.362Z"
   },
   {
    "duration": 103,
    "start_time": "2022-11-30T15:02:36.575Z"
   },
   {
    "duration": 13,
    "start_time": "2022-11-30T15:02:49.265Z"
   },
   {
    "duration": 10,
    "start_time": "2022-11-30T15:03:10.391Z"
   },
   {
    "duration": 9,
    "start_time": "2022-11-30T15:05:32.983Z"
   },
   {
    "duration": 10,
    "start_time": "2022-11-30T15:05:40.398Z"
   },
   {
    "duration": 14,
    "start_time": "2022-11-30T15:10:15.906Z"
   },
   {
    "duration": 15,
    "start_time": "2022-11-30T15:10:46.963Z"
   },
   {
    "duration": 13,
    "start_time": "2022-11-30T15:11:14.491Z"
   },
   {
    "duration": 7,
    "start_time": "2022-11-30T15:15:40.667Z"
   },
   {
    "duration": 10,
    "start_time": "2022-11-30T15:16:31.093Z"
   },
   {
    "duration": 10,
    "start_time": "2022-11-30T15:16:38.118Z"
   },
   {
    "duration": 10,
    "start_time": "2022-11-30T15:16:59.573Z"
   },
   {
    "duration": 9,
    "start_time": "2022-11-30T15:17:22.215Z"
   },
   {
    "duration": 10,
    "start_time": "2022-11-30T15:17:36.539Z"
   },
   {
    "duration": 67,
    "start_time": "2022-11-30T15:18:02.654Z"
   },
   {
    "duration": 105,
    "start_time": "2022-11-30T15:18:07.003Z"
   },
   {
    "duration": 183,
    "start_time": "2022-11-30T15:18:10.569Z"
   },
   {
    "duration": 75,
    "start_time": "2022-11-30T15:18:39.961Z"
   },
   {
    "duration": 126,
    "start_time": "2022-11-30T15:18:50.872Z"
   },
   {
    "duration": 10,
    "start_time": "2022-11-30T15:19:26.055Z"
   },
   {
    "duration": 8,
    "start_time": "2022-11-30T15:24:39.798Z"
   },
   {
    "duration": 10,
    "start_time": "2022-11-30T15:25:16.495Z"
   },
   {
    "duration": 9,
    "start_time": "2022-11-30T15:30:28.450Z"
   },
   {
    "duration": 9,
    "start_time": "2022-11-30T15:30:32.959Z"
   },
   {
    "duration": 14,
    "start_time": "2022-11-30T15:32:00.288Z"
   },
   {
    "duration": 10,
    "start_time": "2022-11-30T15:32:04.421Z"
   },
   {
    "duration": 12,
    "start_time": "2022-11-30T15:32:51.071Z"
   },
   {
    "duration": 13,
    "start_time": "2022-11-30T15:33:00.262Z"
   },
   {
    "duration": 1320,
    "start_time": "2022-11-30T15:33:19.470Z"
   },
   {
    "duration": 2,
    "start_time": "2022-11-30T15:33:20.792Z"
   },
   {
    "duration": 385,
    "start_time": "2022-11-30T15:33:20.796Z"
   },
   {
    "duration": 32,
    "start_time": "2022-11-30T15:33:21.183Z"
   },
   {
    "duration": 148,
    "start_time": "2022-11-30T15:33:21.217Z"
   },
   {
    "duration": 15,
    "start_time": "2022-11-30T15:33:21.366Z"
   },
   {
    "duration": 30,
    "start_time": "2022-11-30T15:33:21.383Z"
   },
   {
    "duration": 8,
    "start_time": "2022-11-30T15:33:21.415Z"
   },
   {
    "duration": 1030,
    "start_time": "2022-11-30T15:33:21.425Z"
   },
   {
    "duration": 4,
    "start_time": "2022-11-30T15:33:22.457Z"
   },
   {
    "duration": 65,
    "start_time": "2022-11-30T15:33:22.464Z"
   },
   {
    "duration": 27,
    "start_time": "2022-11-30T15:33:22.530Z"
   },
   {
    "duration": 33,
    "start_time": "2022-11-30T15:33:22.559Z"
   },
   {
    "duration": 21,
    "start_time": "2022-11-30T15:33:22.593Z"
   },
   {
    "duration": 44,
    "start_time": "2022-11-30T15:33:22.616Z"
   },
   {
    "duration": 51,
    "start_time": "2022-11-30T15:33:22.662Z"
   },
   {
    "duration": 100,
    "start_time": "2022-11-30T15:33:22.716Z"
   },
   {
    "duration": 211,
    "start_time": "2022-11-30T15:33:22.818Z"
   },
   {
    "duration": 84,
    "start_time": "2022-11-30T15:33:23.031Z"
   },
   {
    "duration": 98,
    "start_time": "2022-11-30T15:33:23.117Z"
   },
   {
    "duration": 12,
    "start_time": "2022-11-30T15:33:23.217Z"
   },
   {
    "duration": 6,
    "start_time": "2022-11-30T15:33:23.231Z"
   },
   {
    "duration": 5,
    "start_time": "2022-11-30T15:33:23.239Z"
   },
   {
    "duration": 9,
    "start_time": "2022-11-30T15:33:23.245Z"
   },
   {
    "duration": 13,
    "start_time": "2022-11-30T15:33:23.255Z"
   },
   {
    "duration": 47,
    "start_time": "2022-11-30T15:33:23.269Z"
   },
   {
    "duration": 9,
    "start_time": "2022-11-30T15:33:23.318Z"
   },
   {
    "duration": 4,
    "start_time": "2022-11-30T15:44:14.906Z"
   },
   {
    "duration": 4,
    "start_time": "2022-11-30T15:47:13.564Z"
   },
   {
    "duration": 4,
    "start_time": "2022-11-30T15:47:19.090Z"
   },
   {
    "duration": 4,
    "start_time": "2022-11-30T15:48:09.286Z"
   },
   {
    "duration": 4,
    "start_time": "2022-11-30T15:49:00.644Z"
   },
   {
    "duration": 3,
    "start_time": "2022-11-30T15:49:02.483Z"
   },
   {
    "duration": 4,
    "start_time": "2022-11-30T15:49:05.156Z"
   },
   {
    "duration": 9,
    "start_time": "2022-11-30T16:30:22.189Z"
   },
   {
    "duration": 5,
    "start_time": "2022-11-30T16:30:52.365Z"
   },
   {
    "duration": 4,
    "start_time": "2022-11-30T16:33:23.973Z"
   },
   {
    "duration": 48,
    "start_time": "2022-12-01T10:12:05.231Z"
   },
   {
    "duration": 1493,
    "start_time": "2022-12-01T10:12:14.995Z"
   },
   {
    "duration": 2,
    "start_time": "2022-12-01T10:12:16.490Z"
   },
   {
    "duration": 603,
    "start_time": "2022-12-01T10:12:16.494Z"
   },
   {
    "duration": 32,
    "start_time": "2022-12-01T10:12:17.099Z"
   },
   {
    "duration": 127,
    "start_time": "2022-12-01T10:12:17.133Z"
   },
   {
    "duration": 13,
    "start_time": "2022-12-01T10:12:17.262Z"
   },
   {
    "duration": 11,
    "start_time": "2022-12-01T10:12:17.276Z"
   },
   {
    "duration": 1026,
    "start_time": "2022-12-01T10:12:17.298Z"
   },
   {
    "duration": 5,
    "start_time": "2022-12-01T10:12:18.325Z"
   },
   {
    "duration": 42,
    "start_time": "2022-12-01T10:12:18.333Z"
   },
   {
    "duration": 39,
    "start_time": "2022-12-01T10:12:18.376Z"
   },
   {
    "duration": 33,
    "start_time": "2022-12-01T10:12:18.416Z"
   },
   {
    "duration": 7,
    "start_time": "2022-12-01T10:12:18.451Z"
   },
   {
    "duration": 46,
    "start_time": "2022-12-01T10:12:18.459Z"
   },
   {
    "duration": 13,
    "start_time": "2022-12-01T10:12:18.507Z"
   },
   {
    "duration": 81,
    "start_time": "2022-12-01T10:12:18.523Z"
   },
   {
    "duration": 199,
    "start_time": "2022-12-01T10:12:18.606Z"
   },
   {
    "duration": 200,
    "start_time": "2022-12-01T10:12:18.807Z"
   },
   {
    "duration": 11,
    "start_time": "2022-12-01T10:12:19.010Z"
   },
   {
    "duration": 12,
    "start_time": "2022-12-01T10:12:19.023Z"
   },
   {
    "duration": 6,
    "start_time": "2022-12-01T10:12:19.037Z"
   },
   {
    "duration": 20,
    "start_time": "2022-12-01T10:12:19.044Z"
   },
   {
    "duration": 10,
    "start_time": "2022-12-01T10:12:19.065Z"
   },
   {
    "duration": 24,
    "start_time": "2022-12-01T10:12:19.077Z"
   },
   {
    "duration": 11,
    "start_time": "2022-12-01T10:12:19.103Z"
   },
   {
    "duration": 10,
    "start_time": "2022-12-01T10:12:19.115Z"
   },
   {
    "duration": 5,
    "start_time": "2022-12-01T10:12:19.127Z"
   },
   {
    "duration": 20,
    "start_time": "2022-12-01T10:12:19.136Z"
   },
   {
    "duration": 8,
    "start_time": "2022-12-01T10:12:19.157Z"
   },
   {
    "duration": 15,
    "start_time": "2022-12-01T10:12:19.166Z"
   },
   {
    "duration": 4,
    "start_time": "2022-12-01T11:00:57.774Z"
   },
   {
    "duration": 19,
    "start_time": "2022-12-01T11:00:57.779Z"
   },
   {
    "duration": 389,
    "start_time": "2022-12-01T11:00:57.799Z"
   },
   {
    "duration": 38,
    "start_time": "2022-12-01T11:00:58.190Z"
   },
   {
    "duration": 130,
    "start_time": "2022-12-01T11:00:58.231Z"
   },
   {
    "duration": 11,
    "start_time": "2022-12-01T11:00:58.363Z"
   },
   {
    "duration": 23,
    "start_time": "2022-12-01T11:00:58.375Z"
   },
   {
    "duration": 1023,
    "start_time": "2022-12-01T11:00:58.399Z"
   },
   {
    "duration": 4,
    "start_time": "2022-12-01T11:00:59.424Z"
   },
   {
    "duration": 36,
    "start_time": "2022-12-01T11:00:59.429Z"
   },
   {
    "duration": 34,
    "start_time": "2022-12-01T11:00:59.467Z"
   },
   {
    "duration": 32,
    "start_time": "2022-12-01T11:00:59.502Z"
   },
   {
    "duration": 6,
    "start_time": "2022-12-01T11:00:59.536Z"
   },
   {
    "duration": 26,
    "start_time": "2022-12-01T11:00:59.543Z"
   },
   {
    "duration": 32,
    "start_time": "2022-12-01T11:00:59.571Z"
   },
   {
    "duration": 192,
    "start_time": "2022-12-01T11:00:59.606Z"
   },
   {
    "duration": 103,
    "start_time": "2022-12-01T11:00:59.800Z"
   },
   {
    "duration": 190,
    "start_time": "2022-12-01T11:00:59.909Z"
   },
   {
    "duration": 30,
    "start_time": "2022-12-01T11:01:00.101Z"
   },
   {
    "duration": 14,
    "start_time": "2022-12-01T11:01:00.133Z"
   },
   {
    "duration": 8,
    "start_time": "2022-12-01T11:01:00.148Z"
   },
   {
    "duration": 23,
    "start_time": "2022-12-01T11:01:00.158Z"
   },
   {
    "duration": 25,
    "start_time": "2022-12-01T11:01:00.182Z"
   },
   {
    "duration": 23,
    "start_time": "2022-12-01T11:01:00.208Z"
   },
   {
    "duration": 13,
    "start_time": "2022-12-01T11:01:00.232Z"
   },
   {
    "duration": 26,
    "start_time": "2022-12-01T11:01:00.246Z"
   },
   {
    "duration": 11,
    "start_time": "2022-12-01T11:01:00.274Z"
   },
   {
    "duration": 25,
    "start_time": "2022-12-01T11:01:00.287Z"
   },
   {
    "duration": 24,
    "start_time": "2022-12-01T11:01:00.315Z"
   },
   {
    "duration": 17,
    "start_time": "2022-12-01T11:01:00.340Z"
   },
   {
    "duration": 1668,
    "start_time": "2022-12-01T11:01:03.288Z"
   },
   {
    "duration": 3,
    "start_time": "2022-12-01T11:01:04.958Z"
   },
   {
    "duration": 400,
    "start_time": "2022-12-01T11:01:04.963Z"
   },
   {
    "duration": 37,
    "start_time": "2022-12-01T11:01:05.366Z"
   },
   {
    "duration": 139,
    "start_time": "2022-12-01T11:01:05.405Z"
   },
   {
    "duration": 17,
    "start_time": "2022-12-01T11:01:05.546Z"
   },
   {
    "duration": 32,
    "start_time": "2022-12-01T11:01:05.565Z"
   },
   {
    "duration": 1028,
    "start_time": "2022-12-01T11:01:05.598Z"
   },
   {
    "duration": 5,
    "start_time": "2022-12-01T11:01:06.628Z"
   },
   {
    "duration": 37,
    "start_time": "2022-12-01T11:01:06.636Z"
   },
   {
    "duration": 44,
    "start_time": "2022-12-01T11:01:06.674Z"
   },
   {
    "duration": 34,
    "start_time": "2022-12-01T11:01:06.720Z"
   },
   {
    "duration": 8,
    "start_time": "2022-12-01T11:01:06.756Z"
   },
   {
    "duration": 50,
    "start_time": "2022-12-01T11:01:06.765Z"
   },
   {
    "duration": 80,
    "start_time": "2022-12-01T11:01:06.817Z"
   },
   {
    "duration": 103,
    "start_time": "2022-12-01T11:01:06.899Z"
   },
   {
    "duration": 203,
    "start_time": "2022-12-01T11:01:07.005Z"
   },
   {
    "duration": 186,
    "start_time": "2022-12-01T11:01:07.211Z"
   },
   {
    "duration": 15,
    "start_time": "2022-12-01T11:01:07.399Z"
   },
   {
    "duration": 10,
    "start_time": "2022-12-01T11:01:07.415Z"
   },
   {
    "duration": 4,
    "start_time": "2022-12-01T11:01:07.427Z"
   },
   {
    "duration": 5,
    "start_time": "2022-12-01T11:01:07.433Z"
   },
   {
    "duration": 15,
    "start_time": "2022-12-01T11:01:07.440Z"
   },
   {
    "duration": 22,
    "start_time": "2022-12-01T11:01:07.457Z"
   },
   {
    "duration": 18,
    "start_time": "2022-12-01T11:01:07.481Z"
   },
   {
    "duration": 11,
    "start_time": "2022-12-01T11:01:07.501Z"
   },
   {
    "duration": 7,
    "start_time": "2022-12-01T11:01:07.513Z"
   },
   {
    "duration": 6,
    "start_time": "2022-12-01T11:01:07.523Z"
   },
   {
    "duration": 9,
    "start_time": "2022-12-01T11:01:07.530Z"
   },
   {
    "duration": 8,
    "start_time": "2022-12-01T11:01:07.540Z"
   },
   {
    "duration": 50,
    "start_time": "2022-12-01T11:21:33.975Z"
   },
   {
    "duration": 3,
    "start_time": "2022-12-01T11:21:39.737Z"
   },
   {
    "duration": 53,
    "start_time": "2022-12-01T11:31:37.233Z"
   },
   {
    "duration": 3,
    "start_time": "2022-12-01T11:31:52.281Z"
   },
   {
    "duration": 1348,
    "start_time": "2022-12-01T11:42:33.623Z"
   },
   {
    "duration": 2,
    "start_time": "2022-12-01T11:42:34.973Z"
   },
   {
    "duration": 381,
    "start_time": "2022-12-01T11:42:34.977Z"
   },
   {
    "duration": 43,
    "start_time": "2022-12-01T11:42:35.360Z"
   },
   {
    "duration": 147,
    "start_time": "2022-12-01T11:42:35.405Z"
   },
   {
    "duration": 13,
    "start_time": "2022-12-01T11:42:35.554Z"
   },
   {
    "duration": 12,
    "start_time": "2022-12-01T11:42:35.569Z"
   },
   {
    "duration": 1029,
    "start_time": "2022-12-01T11:42:35.583Z"
   },
   {
    "duration": 5,
    "start_time": "2022-12-01T11:42:36.614Z"
   },
   {
    "duration": 40,
    "start_time": "2022-12-01T11:42:36.621Z"
   },
   {
    "duration": 37,
    "start_time": "2022-12-01T11:42:36.663Z"
   },
   {
    "duration": 30,
    "start_time": "2022-12-01T11:42:36.702Z"
   },
   {
    "duration": 8,
    "start_time": "2022-12-01T11:42:36.734Z"
   },
   {
    "duration": 38,
    "start_time": "2022-12-01T11:42:36.743Z"
   },
   {
    "duration": 32,
    "start_time": "2022-12-01T11:42:36.783Z"
   },
   {
    "duration": 190,
    "start_time": "2022-12-01T11:42:36.818Z"
   },
   {
    "duration": 193,
    "start_time": "2022-12-01T11:42:37.010Z"
   },
   {
    "duration": 102,
    "start_time": "2022-12-01T11:42:37.206Z"
   },
   {
    "duration": 91,
    "start_time": "2022-12-01T11:42:37.310Z"
   },
   {
    "duration": 15,
    "start_time": "2022-12-01T11:42:37.403Z"
   },
   {
    "duration": 6,
    "start_time": "2022-12-01T11:42:37.420Z"
   },
   {
    "duration": 14,
    "start_time": "2022-12-01T11:42:37.428Z"
   },
   {
    "duration": 19,
    "start_time": "2022-12-01T11:42:37.443Z"
   },
   {
    "duration": 884,
    "start_time": "2022-12-01T11:42:37.464Z"
   },
   {
    "duration": 0,
    "start_time": "2022-12-01T11:42:38.349Z"
   },
   {
    "duration": 0,
    "start_time": "2022-12-01T11:42:38.350Z"
   },
   {
    "duration": 0,
    "start_time": "2022-12-01T11:42:38.351Z"
   },
   {
    "duration": 0,
    "start_time": "2022-12-01T11:42:38.352Z"
   },
   {
    "duration": 0,
    "start_time": "2022-12-01T11:42:38.353Z"
   },
   {
    "duration": 0,
    "start_time": "2022-12-01T11:42:38.354Z"
   },
   {
    "duration": 0,
    "start_time": "2022-12-01T11:42:38.355Z"
   },
   {
    "duration": 11,
    "start_time": "2022-12-01T11:42:45.676Z"
   },
   {
    "duration": 11,
    "start_time": "2022-12-01T11:42:52.587Z"
   },
   {
    "duration": 11,
    "start_time": "2022-12-01T11:42:54.133Z"
   },
   {
    "duration": 14,
    "start_time": "2022-12-01T11:43:16.393Z"
   },
   {
    "duration": 7,
    "start_time": "2022-12-01T11:43:38.891Z"
   },
   {
    "duration": 7,
    "start_time": "2022-12-01T11:43:43.422Z"
   },
   {
    "duration": 5,
    "start_time": "2022-12-01T11:43:50.648Z"
   },
   {
    "duration": 7,
    "start_time": "2022-12-01T11:43:57.110Z"
   },
   {
    "duration": 8,
    "start_time": "2022-12-01T11:44:00.075Z"
   },
   {
    "duration": 7,
    "start_time": "2022-12-01T11:44:15.404Z"
   },
   {
    "duration": 66,
    "start_time": "2022-12-01T12:14:45.662Z"
   },
   {
    "duration": 8,
    "start_time": "2022-12-01T12:15:11.471Z"
   },
   {
    "duration": 8,
    "start_time": "2022-12-01T12:15:20.647Z"
   },
   {
    "duration": 9,
    "start_time": "2022-12-01T12:15:25.517Z"
   },
   {
    "duration": 9,
    "start_time": "2022-12-01T12:15:37.559Z"
   },
   {
    "duration": 48,
    "start_time": "2022-12-01T12:49:47.271Z"
   },
   {
    "duration": 10,
    "start_time": "2022-12-01T12:49:52.337Z"
   },
   {
    "duration": 1275,
    "start_time": "2022-12-01T12:59:17.617Z"
   },
   {
    "duration": 2,
    "start_time": "2022-12-01T12:59:18.894Z"
   },
   {
    "duration": 374,
    "start_time": "2022-12-01T12:59:18.898Z"
   },
   {
    "duration": 40,
    "start_time": "2022-12-01T12:59:19.274Z"
   },
   {
    "duration": 120,
    "start_time": "2022-12-01T12:59:19.315Z"
   },
   {
    "duration": 17,
    "start_time": "2022-12-01T12:59:19.437Z"
   },
   {
    "duration": 13,
    "start_time": "2022-12-01T12:59:19.455Z"
   },
   {
    "duration": 1030,
    "start_time": "2022-12-01T12:59:19.470Z"
   },
   {
    "duration": 5,
    "start_time": "2022-12-01T12:59:20.502Z"
   },
   {
    "duration": 39,
    "start_time": "2022-12-01T12:59:20.509Z"
   },
   {
    "duration": 25,
    "start_time": "2022-12-01T12:59:20.549Z"
   },
   {
    "duration": 47,
    "start_time": "2022-12-01T12:59:20.575Z"
   },
   {
    "duration": 7,
    "start_time": "2022-12-01T12:59:20.624Z"
   },
   {
    "duration": 50,
    "start_time": "2022-12-01T12:59:20.632Z"
   },
   {
    "duration": 22,
    "start_time": "2022-12-01T12:59:20.684Z"
   },
   {
    "duration": 194,
    "start_time": "2022-12-01T12:59:20.708Z"
   },
   {
    "duration": 107,
    "start_time": "2022-12-01T12:59:20.904Z"
   },
   {
    "duration": 186,
    "start_time": "2022-12-01T12:59:21.014Z"
   },
   {
    "duration": 11,
    "start_time": "2022-12-01T12:59:21.202Z"
   },
   {
    "duration": 9,
    "start_time": "2022-12-01T12:59:21.215Z"
   },
   {
    "duration": 6,
    "start_time": "2022-12-01T12:59:21.225Z"
   },
   {
    "duration": 4,
    "start_time": "2022-12-01T12:59:21.232Z"
   },
   {
    "duration": 9,
    "start_time": "2022-12-01T12:59:21.238Z"
   },
   {
    "duration": 13,
    "start_time": "2022-12-01T12:59:21.248Z"
   },
   {
    "duration": 44,
    "start_time": "2022-12-01T12:59:21.262Z"
   },
   {
    "duration": 9,
    "start_time": "2022-12-01T12:59:21.307Z"
   },
   {
    "duration": 3,
    "start_time": "2022-12-01T12:59:21.318Z"
   },
   {
    "duration": 5,
    "start_time": "2022-12-01T12:59:21.323Z"
   },
   {
    "duration": 7,
    "start_time": "2022-12-01T12:59:21.329Z"
   },
   {
    "duration": 7,
    "start_time": "2022-12-01T12:59:21.337Z"
   },
   {
    "duration": 10,
    "start_time": "2022-12-01T12:59:21.346Z"
   },
   {
    "duration": 40,
    "start_time": "2022-12-01T12:59:21.358Z"
   },
   {
    "duration": 7,
    "start_time": "2022-12-01T13:01:01.681Z"
   },
   {
    "duration": 7,
    "start_time": "2022-12-01T13:01:13.788Z"
   },
   {
    "duration": 7,
    "start_time": "2022-12-01T13:01:56.261Z"
   },
   {
    "duration": 7,
    "start_time": "2022-12-01T13:01:59.090Z"
   },
   {
    "duration": 6,
    "start_time": "2022-12-01T13:03:51.489Z"
   },
   {
    "duration": 5,
    "start_time": "2022-12-01T13:03:53.004Z"
   },
   {
    "duration": 10,
    "start_time": "2022-12-01T13:03:54.806Z"
   },
   {
    "duration": 5,
    "start_time": "2022-12-01T13:04:34.759Z"
   },
   {
    "duration": 7,
    "start_time": "2022-12-01T13:04:37.774Z"
   },
   {
    "duration": 5,
    "start_time": "2022-12-01T13:05:07.275Z"
   },
   {
    "duration": 4,
    "start_time": "2022-12-01T13:05:09.234Z"
   },
   {
    "duration": 4,
    "start_time": "2022-12-01T13:05:11.335Z"
   },
   {
    "duration": 10,
    "start_time": "2022-12-01T13:05:43.897Z"
   },
   {
    "duration": 4,
    "start_time": "2022-12-01T13:05:53.835Z"
   },
   {
    "duration": 11,
    "start_time": "2022-12-01T13:05:55.770Z"
   },
   {
    "duration": 4,
    "start_time": "2022-12-01T13:06:27.918Z"
   },
   {
    "duration": 10,
    "start_time": "2022-12-01T13:06:29.478Z"
   },
   {
    "duration": 10,
    "start_time": "2022-12-01T13:06:34.756Z"
   },
   {
    "duration": 107,
    "start_time": "2022-12-01T13:09:42.424Z"
   },
   {
    "duration": 11,
    "start_time": "2022-12-01T13:09:46.731Z"
   },
   {
    "duration": 4,
    "start_time": "2022-12-01T13:09:48.214Z"
   },
   {
    "duration": 12,
    "start_time": "2022-12-01T13:10:32.642Z"
   },
   {
    "duration": 3,
    "start_time": "2022-12-01T13:10:33.965Z"
   },
   {
    "duration": 11,
    "start_time": "2022-12-01T13:12:31.589Z"
   },
   {
    "duration": 4,
    "start_time": "2022-12-01T13:12:33.570Z"
   },
   {
    "duration": 13,
    "start_time": "2022-12-01T13:12:46.094Z"
   },
   {
    "duration": 16,
    "start_time": "2022-12-01T13:12:51.926Z"
   },
   {
    "duration": 8,
    "start_time": "2022-12-01T13:12:54.896Z"
   },
   {
    "duration": 4,
    "start_time": "2022-12-01T13:13:11.146Z"
   },
   {
    "duration": 7,
    "start_time": "2022-12-01T13:13:18.654Z"
   },
   {
    "duration": 4,
    "start_time": "2022-12-01T13:13:20.383Z"
   },
   {
    "duration": 3,
    "start_time": "2022-12-01T13:13:23.080Z"
   },
   {
    "duration": 8,
    "start_time": "2022-12-01T13:13:25.419Z"
   },
   {
    "duration": 3,
    "start_time": "2022-12-01T13:13:26.911Z"
   },
   {
    "duration": 7,
    "start_time": "2022-12-01T13:13:49.092Z"
   },
   {
    "duration": 3,
    "start_time": "2022-12-01T13:13:50.568Z"
   },
   {
    "duration": 7,
    "start_time": "2022-12-01T13:13:55.605Z"
   },
   {
    "duration": 3,
    "start_time": "2022-12-01T13:13:57.146Z"
   },
   {
    "duration": 8,
    "start_time": "2022-12-01T13:14:24.705Z"
   },
   {
    "duration": 3,
    "start_time": "2022-12-01T13:14:26.015Z"
   },
   {
    "duration": 1314,
    "start_time": "2022-12-01T13:15:47.681Z"
   },
   {
    "duration": 2,
    "start_time": "2022-12-01T13:15:48.997Z"
   },
   {
    "duration": 391,
    "start_time": "2022-12-01T13:15:49.001Z"
   },
   {
    "duration": 34,
    "start_time": "2022-12-01T13:15:49.393Z"
   },
   {
    "duration": 138,
    "start_time": "2022-12-01T13:15:49.428Z"
   },
   {
    "duration": 16,
    "start_time": "2022-12-01T13:15:49.568Z"
   },
   {
    "duration": 8,
    "start_time": "2022-12-01T13:15:49.598Z"
   },
   {
    "duration": 1044,
    "start_time": "2022-12-01T13:15:49.608Z"
   },
   {
    "duration": 4,
    "start_time": "2022-12-01T13:15:50.653Z"
   },
   {
    "duration": 46,
    "start_time": "2022-12-01T13:15:50.659Z"
   },
   {
    "duration": 25,
    "start_time": "2022-12-01T13:15:50.707Z"
   },
   {
    "duration": 31,
    "start_time": "2022-12-01T13:15:50.734Z"
   },
   {
    "duration": 7,
    "start_time": "2022-12-01T13:15:50.766Z"
   },
   {
    "duration": 50,
    "start_time": "2022-12-01T13:15:50.775Z"
   },
   {
    "duration": 15,
    "start_time": "2022-12-01T13:15:50.827Z"
   },
   {
    "duration": 168,
    "start_time": "2022-12-01T13:15:50.843Z"
   },
   {
    "duration": 95,
    "start_time": "2022-12-01T13:15:51.013Z"
   },
   {
    "duration": 113,
    "start_time": "2022-12-01T13:15:51.198Z"
   },
   {
    "duration": 12,
    "start_time": "2022-12-01T13:15:51.312Z"
   },
   {
    "duration": 23,
    "start_time": "2022-12-01T13:15:51.326Z"
   },
   {
    "duration": 8,
    "start_time": "2022-12-01T13:15:51.351Z"
   },
   {
    "duration": 9,
    "start_time": "2022-12-01T13:15:51.360Z"
   },
   {
    "duration": 7,
    "start_time": "2022-12-01T13:15:51.371Z"
   },
   {
    "duration": 16,
    "start_time": "2022-12-01T13:15:51.379Z"
   },
   {
    "duration": 8,
    "start_time": "2022-12-01T13:15:51.397Z"
   },
   {
    "duration": 10,
    "start_time": "2022-12-01T13:15:51.407Z"
   },
   {
    "duration": 3,
    "start_time": "2022-12-01T13:15:51.419Z"
   },
   {
    "duration": 5,
    "start_time": "2022-12-01T13:15:51.424Z"
   },
   {
    "duration": 7,
    "start_time": "2022-12-01T13:15:51.430Z"
   },
   {
    "duration": 13,
    "start_time": "2022-12-01T13:15:51.438Z"
   },
   {
    "duration": 15,
    "start_time": "2022-12-01T13:15:51.452Z"
   },
   {
    "duration": 9,
    "start_time": "2022-12-01T13:15:51.468Z"
   },
   {
    "duration": 4,
    "start_time": "2022-12-01T13:15:51.478Z"
   },
   {
    "duration": 8,
    "start_time": "2022-12-01T13:16:21.438Z"
   },
   {
    "duration": 3,
    "start_time": "2022-12-01T13:16:23.280Z"
   },
   {
    "duration": 7,
    "start_time": "2022-12-01T13:16:27.038Z"
   },
   {
    "duration": 10,
    "start_time": "2022-12-01T13:17:07.935Z"
   },
   {
    "duration": 4,
    "start_time": "2022-12-01T13:17:09.530Z"
   },
   {
    "duration": 8,
    "start_time": "2022-12-01T13:17:13.097Z"
   },
   {
    "duration": 4,
    "start_time": "2022-12-01T13:17:14.713Z"
   },
   {
    "duration": 7,
    "start_time": "2022-12-01T13:17:31.089Z"
   },
   {
    "duration": 3,
    "start_time": "2022-12-01T13:17:33.063Z"
   },
   {
    "duration": 7,
    "start_time": "2022-12-01T13:17:46.144Z"
   },
   {
    "duration": 3,
    "start_time": "2022-12-01T13:17:47.697Z"
   },
   {
    "duration": 8,
    "start_time": "2022-12-01T13:17:57.957Z"
   },
   {
    "duration": 3,
    "start_time": "2022-12-01T13:17:59.495Z"
   },
   {
    "duration": 113,
    "start_time": "2022-12-01T13:19:08.602Z"
   },
   {
    "duration": 11,
    "start_time": "2022-12-01T13:19:33.300Z"
   },
   {
    "duration": 1380,
    "start_time": "2022-12-01T13:19:52.003Z"
   },
   {
    "duration": 1262,
    "start_time": "2022-12-01T13:20:09.237Z"
   },
   {
    "duration": 1352,
    "start_time": "2022-12-01T13:21:30.667Z"
   },
   {
    "duration": 1310,
    "start_time": "2022-12-01T13:21:41.372Z"
   },
   {
    "duration": 1320,
    "start_time": "2022-12-01T13:21:46.417Z"
   },
   {
    "duration": 1333,
    "start_time": "2022-12-01T13:21:50.891Z"
   },
   {
    "duration": 1238,
    "start_time": "2022-12-01T13:21:55.697Z"
   },
   {
    "duration": 1274,
    "start_time": "2022-12-01T13:22:41.613Z"
   },
   {
    "duration": 1271,
    "start_time": "2022-12-01T13:22:48.478Z"
   },
   {
    "duration": 3,
    "start_time": "2022-12-01T13:23:37.087Z"
   },
   {
    "duration": 1285,
    "start_time": "2022-12-01T13:24:02.149Z"
   },
   {
    "duration": 1228,
    "start_time": "2022-12-01T13:24:11.511Z"
   },
   {
    "duration": 9,
    "start_time": "2022-12-01T13:24:40.851Z"
   },
   {
    "duration": 14,
    "start_time": "2022-12-01T13:24:42.827Z"
   },
   {
    "duration": 14,
    "start_time": "2022-12-01T13:24:50.726Z"
   },
   {
    "duration": 6,
    "start_time": "2022-12-01T13:24:54.359Z"
   },
   {
    "duration": 3,
    "start_time": "2022-12-01T13:24:56.763Z"
   },
   {
    "duration": 8,
    "start_time": "2022-12-01T13:25:10.047Z"
   },
   {
    "duration": 2,
    "start_time": "2022-12-01T13:25:12.469Z"
   },
   {
    "duration": 8,
    "start_time": "2022-12-01T13:25:30.247Z"
   },
   {
    "duration": 4,
    "start_time": "2022-12-01T13:25:31.983Z"
   },
   {
    "duration": 63,
    "start_time": "2022-12-01T13:30:47.502Z"
   },
   {
    "duration": 7,
    "start_time": "2022-12-01T13:30:49.744Z"
   },
   {
    "duration": 7,
    "start_time": "2022-12-01T13:30:59.329Z"
   },
   {
    "duration": 3,
    "start_time": "2022-12-01T13:31:01.216Z"
   },
   {
    "duration": 3,
    "start_time": "2022-12-01T13:31:08.251Z"
   },
   {
    "duration": 1287,
    "start_time": "2022-12-01T13:31:12.859Z"
   },
   {
    "duration": 780,
    "start_time": "2022-12-01T13:31:35.556Z"
   },
   {
    "duration": 7,
    "start_time": "2022-12-01T13:31:38.795Z"
   },
   {
    "duration": 4,
    "start_time": "2022-12-01T13:32:01.011Z"
   },
   {
    "duration": 7,
    "start_time": "2022-12-01T13:32:16.222Z"
   },
   {
    "duration": 21,
    "start_time": "2022-12-01T13:32:22.067Z"
   },
   {
    "duration": 7,
    "start_time": "2022-12-01T13:32:46.109Z"
   },
   {
    "duration": 1267,
    "start_time": "2022-12-01T13:33:18.037Z"
   },
   {
    "duration": 3,
    "start_time": "2022-12-01T13:33:19.306Z"
   },
   {
    "duration": 400,
    "start_time": "2022-12-01T13:33:19.310Z"
   },
   {
    "duration": 33,
    "start_time": "2022-12-01T13:33:19.711Z"
   },
   {
    "duration": 139,
    "start_time": "2022-12-01T13:33:19.746Z"
   },
   {
    "duration": 23,
    "start_time": "2022-12-01T13:33:19.887Z"
   },
   {
    "duration": 11,
    "start_time": "2022-12-01T13:33:19.911Z"
   },
   {
    "duration": 1106,
    "start_time": "2022-12-01T13:33:19.923Z"
   },
   {
    "duration": 5,
    "start_time": "2022-12-01T13:33:21.031Z"
   },
   {
    "duration": 40,
    "start_time": "2022-12-01T13:33:21.037Z"
   },
   {
    "duration": 38,
    "start_time": "2022-12-01T13:33:21.078Z"
   },
   {
    "duration": 33,
    "start_time": "2022-12-01T13:33:21.118Z"
   },
   {
    "duration": 8,
    "start_time": "2022-12-01T13:33:21.153Z"
   },
   {
    "duration": 59,
    "start_time": "2022-12-01T13:33:21.165Z"
   },
   {
    "duration": 74,
    "start_time": "2022-12-01T13:33:21.226Z"
   },
   {
    "duration": 103,
    "start_time": "2022-12-01T13:33:21.302Z"
   },
   {
    "duration": 98,
    "start_time": "2022-12-01T13:33:21.407Z"
   },
   {
    "duration": 201,
    "start_time": "2022-12-01T13:33:21.507Z"
   },
   {
    "duration": 12,
    "start_time": "2022-12-01T13:33:21.710Z"
   },
   {
    "duration": 10,
    "start_time": "2022-12-01T13:33:21.723Z"
   },
   {
    "duration": 7,
    "start_time": "2022-12-01T13:33:21.734Z"
   },
   {
    "duration": 12,
    "start_time": "2022-12-01T13:33:21.743Z"
   },
   {
    "duration": 8,
    "start_time": "2022-12-01T13:33:21.757Z"
   },
   {
    "duration": 33,
    "start_time": "2022-12-01T13:33:21.767Z"
   },
   {
    "duration": 10,
    "start_time": "2022-12-01T13:33:21.801Z"
   },
   {
    "duration": 9,
    "start_time": "2022-12-01T13:33:21.813Z"
   },
   {
    "duration": 3,
    "start_time": "2022-12-01T13:33:21.824Z"
   },
   {
    "duration": 6,
    "start_time": "2022-12-01T13:33:21.829Z"
   },
   {
    "duration": 6,
    "start_time": "2022-12-01T13:33:21.836Z"
   },
   {
    "duration": 6,
    "start_time": "2022-12-01T13:33:21.844Z"
   },
   {
    "duration": 14,
    "start_time": "2022-12-01T13:33:21.851Z"
   },
   {
    "duration": 138,
    "start_time": "2022-12-01T13:33:21.867Z"
   },
   {
    "duration": 0,
    "start_time": "2022-12-01T13:33:22.007Z"
   },
   {
    "duration": 0,
    "start_time": "2022-12-01T13:33:22.008Z"
   },
   {
    "duration": 10,
    "start_time": "2022-12-01T13:58:35.679Z"
   },
   {
    "duration": 1571,
    "start_time": "2022-12-01T13:58:40.724Z"
   },
   {
    "duration": 3,
    "start_time": "2022-12-01T13:58:42.298Z"
   },
   {
    "duration": 1620,
    "start_time": "2022-12-01T13:58:42.303Z"
   },
   {
    "duration": 32,
    "start_time": "2022-12-01T13:58:43.925Z"
   },
   {
    "duration": 169,
    "start_time": "2022-12-01T13:58:43.959Z"
   },
   {
    "duration": 18,
    "start_time": "2022-12-01T13:58:44.130Z"
   },
   {
    "duration": 16,
    "start_time": "2022-12-01T13:58:44.150Z"
   },
   {
    "duration": 1113,
    "start_time": "2022-12-01T13:58:44.168Z"
   },
   {
    "duration": 4,
    "start_time": "2022-12-01T13:58:45.283Z"
   },
   {
    "duration": 48,
    "start_time": "2022-12-01T13:58:45.290Z"
   },
   {
    "duration": 29,
    "start_time": "2022-12-01T13:58:45.340Z"
   },
   {
    "duration": 52,
    "start_time": "2022-12-01T13:58:45.371Z"
   },
   {
    "duration": 8,
    "start_time": "2022-12-01T13:58:45.425Z"
   },
   {
    "duration": 37,
    "start_time": "2022-12-01T13:58:45.434Z"
   },
   {
    "duration": 49,
    "start_time": "2022-12-01T13:58:45.473Z"
   },
   {
    "duration": 100,
    "start_time": "2022-12-01T13:58:45.524Z"
   },
   {
    "duration": 111,
    "start_time": "2022-12-01T13:58:45.626Z"
   },
   {
    "duration": 182,
    "start_time": "2022-12-01T13:58:45.741Z"
   },
   {
    "duration": 13,
    "start_time": "2022-12-01T13:58:45.925Z"
   },
   {
    "duration": 10,
    "start_time": "2022-12-01T13:58:45.939Z"
   },
   {
    "duration": 4,
    "start_time": "2022-12-01T13:58:45.951Z"
   },
   {
    "duration": 7,
    "start_time": "2022-12-01T13:58:45.957Z"
   },
   {
    "duration": 6,
    "start_time": "2022-12-01T13:58:45.966Z"
   },
   {
    "duration": 18,
    "start_time": "2022-12-01T13:58:45.974Z"
   },
   {
    "duration": 12,
    "start_time": "2022-12-01T13:58:46.023Z"
   },
   {
    "duration": 10,
    "start_time": "2022-12-01T13:58:46.037Z"
   },
   {
    "duration": 9,
    "start_time": "2022-12-01T13:58:46.049Z"
   },
   {
    "duration": 7,
    "start_time": "2022-12-01T13:58:46.060Z"
   },
   {
    "duration": 6,
    "start_time": "2022-12-01T13:58:46.069Z"
   },
   {
    "duration": 10,
    "start_time": "2022-12-01T13:58:46.076Z"
   },
   {
    "duration": 9,
    "start_time": "2022-12-01T13:58:46.087Z"
   },
   {
    "duration": 4,
    "start_time": "2022-12-01T13:58:46.123Z"
   },
   {
    "duration": 115,
    "start_time": "2022-12-01T13:58:46.128Z"
   },
   {
    "duration": 0,
    "start_time": "2022-12-01T13:58:46.244Z"
   },
   {
    "duration": 6,
    "start_time": "2022-12-01T13:59:31.457Z"
   },
   {
    "duration": 1414,
    "start_time": "2022-12-01T13:59:43.678Z"
   },
   {
    "duration": 4,
    "start_time": "2022-12-01T14:00:12.382Z"
   },
   {
    "duration": 18,
    "start_time": "2022-12-01T14:00:14.057Z"
   },
   {
    "duration": 17,
    "start_time": "2022-12-01T14:00:27.729Z"
   },
   {
    "duration": 7,
    "start_time": "2022-12-01T14:02:04.098Z"
   },
   {
    "duration": 8,
    "start_time": "2022-12-01T14:02:31.468Z"
   },
   {
    "duration": 1357,
    "start_time": "2022-12-01T14:02:39.775Z"
   },
   {
    "duration": 21,
    "start_time": "2022-12-01T14:09:07.344Z"
   },
   {
    "duration": 1452,
    "start_time": "2022-12-01T14:09:30.527Z"
   },
   {
    "duration": 3,
    "start_time": "2022-12-01T14:09:31.981Z"
   },
   {
    "duration": 377,
    "start_time": "2022-12-01T14:09:31.986Z"
   },
   {
    "duration": 33,
    "start_time": "2022-12-01T14:09:32.366Z"
   },
   {
    "duration": 157,
    "start_time": "2022-12-01T14:09:32.401Z"
   },
   {
    "duration": 16,
    "start_time": "2022-12-01T14:09:32.560Z"
   },
   {
    "duration": 28,
    "start_time": "2022-12-01T14:09:32.577Z"
   },
   {
    "duration": 1102,
    "start_time": "2022-12-01T14:09:32.607Z"
   },
   {
    "duration": 12,
    "start_time": "2022-12-01T14:09:33.710Z"
   },
   {
    "duration": 41,
    "start_time": "2022-12-01T14:09:33.725Z"
   },
   {
    "duration": 29,
    "start_time": "2022-12-01T14:09:33.767Z"
   },
   {
    "duration": 56,
    "start_time": "2022-12-01T14:09:33.798Z"
   },
   {
    "duration": 8,
    "start_time": "2022-12-01T14:09:33.856Z"
   },
   {
    "duration": 33,
    "start_time": "2022-12-01T14:09:33.866Z"
   },
   {
    "duration": 31,
    "start_time": "2022-12-01T14:09:33.900Z"
   },
   {
    "duration": 94,
    "start_time": "2022-12-01T14:09:33.932Z"
   },
   {
    "duration": 110,
    "start_time": "2022-12-01T14:09:34.028Z"
   },
   {
    "duration": 117,
    "start_time": "2022-12-01T14:09:34.222Z"
   },
   {
    "duration": 14,
    "start_time": "2022-12-01T14:09:34.341Z"
   },
   {
    "duration": 14,
    "start_time": "2022-12-01T14:09:34.357Z"
   },
   {
    "duration": 10,
    "start_time": "2022-12-01T14:09:34.373Z"
   },
   {
    "duration": 7,
    "start_time": "2022-12-01T14:09:34.385Z"
   },
   {
    "duration": 28,
    "start_time": "2022-12-01T14:09:34.394Z"
   },
   {
    "duration": 13,
    "start_time": "2022-12-01T14:09:34.424Z"
   },
   {
    "duration": 12,
    "start_time": "2022-12-01T14:09:34.438Z"
   },
   {
    "duration": 19,
    "start_time": "2022-12-01T14:09:34.451Z"
   },
   {
    "duration": 4,
    "start_time": "2022-12-01T14:09:34.472Z"
   },
   {
    "duration": 9,
    "start_time": "2022-12-01T14:09:34.479Z"
   },
   {
    "duration": 6,
    "start_time": "2022-12-01T14:09:34.490Z"
   },
   {
    "duration": 27,
    "start_time": "2022-12-01T14:09:34.498Z"
   },
   {
    "duration": 11,
    "start_time": "2022-12-01T14:09:34.527Z"
   },
   {
    "duration": 139,
    "start_time": "2022-12-01T14:09:34.540Z"
   },
   {
    "duration": 0,
    "start_time": "2022-12-01T14:09:34.680Z"
   },
   {
    "duration": 4,
    "start_time": "2022-12-01T14:10:05.018Z"
   },
   {
    "duration": 20,
    "start_time": "2022-12-01T14:10:08.872Z"
   },
   {
    "duration": 4,
    "start_time": "2022-12-01T14:10:44.593Z"
   },
   {
    "duration": 5,
    "start_time": "2022-12-01T14:10:50.331Z"
   },
   {
    "duration": 3,
    "start_time": "2022-12-01T14:10:53.259Z"
   },
   {
    "duration": 72,
    "start_time": "2022-12-01T14:10:55.304Z"
   },
   {
    "duration": 4,
    "start_time": "2022-12-01T14:10:59.438Z"
   },
   {
    "duration": 77,
    "start_time": "2022-12-01T14:11:03.190Z"
   },
   {
    "duration": 19,
    "start_time": "2022-12-01T14:11:13.769Z"
   },
   {
    "duration": 5,
    "start_time": "2022-12-01T14:11:21.419Z"
   },
   {
    "duration": 3,
    "start_time": "2022-12-01T14:11:45.289Z"
   },
   {
    "duration": 4,
    "start_time": "2022-12-01T14:11:53.934Z"
   },
   {
    "duration": 4,
    "start_time": "2022-12-01T14:12:06.399Z"
   },
   {
    "duration": 432,
    "start_time": "2022-12-01T14:12:08.348Z"
   },
   {
    "duration": 102,
    "start_time": "2022-12-01T14:12:23.811Z"
   },
   {
    "duration": 71,
    "start_time": "2022-12-01T14:12:33.236Z"
   },
   {
    "duration": 17,
    "start_time": "2022-12-01T14:13:45.508Z"
   },
   {
    "duration": 1406,
    "start_time": "2022-12-01T14:13:52.702Z"
   },
   {
    "duration": 6,
    "start_time": "2022-12-01T14:13:54.111Z"
   },
   {
    "duration": 396,
    "start_time": "2022-12-01T14:13:54.120Z"
   },
   {
    "duration": 34,
    "start_time": "2022-12-01T14:13:54.518Z"
   },
   {
    "duration": 145,
    "start_time": "2022-12-01T14:13:54.554Z"
   },
   {
    "duration": 22,
    "start_time": "2022-12-01T14:13:54.701Z"
   },
   {
    "duration": 14,
    "start_time": "2022-12-01T14:13:54.725Z"
   },
   {
    "duration": 1106,
    "start_time": "2022-12-01T14:13:54.741Z"
   },
   {
    "duration": 5,
    "start_time": "2022-12-01T14:13:55.849Z"
   },
   {
    "duration": 49,
    "start_time": "2022-12-01T14:13:55.857Z"
   },
   {
    "duration": 32,
    "start_time": "2022-12-01T14:13:55.921Z"
   },
   {
    "duration": 38,
    "start_time": "2022-12-01T14:13:55.955Z"
   },
   {
    "duration": 29,
    "start_time": "2022-12-01T14:13:55.995Z"
   },
   {
    "duration": 38,
    "start_time": "2022-12-01T14:13:56.026Z"
   },
   {
    "duration": 56,
    "start_time": "2022-12-01T14:13:56.066Z"
   },
   {
    "duration": 107,
    "start_time": "2022-12-01T14:13:56.124Z"
   },
   {
    "duration": 95,
    "start_time": "2022-12-01T14:13:56.233Z"
   },
   {
    "duration": 193,
    "start_time": "2022-12-01T14:13:56.330Z"
   },
   {
    "duration": 13,
    "start_time": "2022-12-01T14:13:56.525Z"
   },
   {
    "duration": 10,
    "start_time": "2022-12-01T14:13:56.540Z"
   },
   {
    "duration": 5,
    "start_time": "2022-12-01T14:13:56.552Z"
   },
   {
    "duration": 7,
    "start_time": "2022-12-01T14:13:56.558Z"
   },
   {
    "duration": 132,
    "start_time": "2022-12-01T14:13:56.567Z"
   },
   {
    "duration": 0,
    "start_time": "2022-12-01T14:13:56.700Z"
   },
   {
    "duration": 0,
    "start_time": "2022-12-01T14:13:56.701Z"
   },
   {
    "duration": 0,
    "start_time": "2022-12-01T14:13:56.702Z"
   },
   {
    "duration": 0,
    "start_time": "2022-12-01T14:13:56.703Z"
   },
   {
    "duration": 0,
    "start_time": "2022-12-01T14:13:56.705Z"
   },
   {
    "duration": 0,
    "start_time": "2022-12-01T14:13:56.705Z"
   },
   {
    "duration": 0,
    "start_time": "2022-12-01T14:13:56.707Z"
   },
   {
    "duration": 0,
    "start_time": "2022-12-01T14:13:56.722Z"
   },
   {
    "duration": 0,
    "start_time": "2022-12-01T14:13:56.723Z"
   },
   {
    "duration": 0,
    "start_time": "2022-12-01T14:13:56.724Z"
   },
   {
    "duration": 5,
    "start_time": "2022-12-01T14:14:14.897Z"
   },
   {
    "duration": 1496,
    "start_time": "2022-12-01T14:14:19.916Z"
   },
   {
    "duration": 3,
    "start_time": "2022-12-01T14:14:21.415Z"
   },
   {
    "duration": 439,
    "start_time": "2022-12-01T14:14:21.420Z"
   },
   {
    "duration": 38,
    "start_time": "2022-12-01T14:14:21.861Z"
   },
   {
    "duration": 159,
    "start_time": "2022-12-01T14:14:21.900Z"
   },
   {
    "duration": 15,
    "start_time": "2022-12-01T14:14:22.061Z"
   },
   {
    "duration": 14,
    "start_time": "2022-12-01T14:14:22.078Z"
   },
   {
    "duration": 1093,
    "start_time": "2022-12-01T14:14:22.094Z"
   },
   {
    "duration": 5,
    "start_time": "2022-12-01T14:14:23.188Z"
   },
   {
    "duration": 50,
    "start_time": "2022-12-01T14:14:23.196Z"
   },
   {
    "duration": 27,
    "start_time": "2022-12-01T14:14:23.248Z"
   },
   {
    "duration": 48,
    "start_time": "2022-12-01T14:14:23.277Z"
   },
   {
    "duration": 8,
    "start_time": "2022-12-01T14:14:23.327Z"
   },
   {
    "duration": 33,
    "start_time": "2022-12-01T14:14:23.336Z"
   },
   {
    "duration": 52,
    "start_time": "2022-12-01T14:14:23.370Z"
   },
   {
    "duration": 101,
    "start_time": "2022-12-01T14:14:23.429Z"
   },
   {
    "duration": 93,
    "start_time": "2022-12-01T14:14:23.531Z"
   },
   {
    "duration": 197,
    "start_time": "2022-12-01T14:14:23.626Z"
   },
   {
    "duration": 14,
    "start_time": "2022-12-01T14:14:23.826Z"
   },
   {
    "duration": 17,
    "start_time": "2022-12-01T14:14:23.842Z"
   },
   {
    "duration": 7,
    "start_time": "2022-12-01T14:14:23.861Z"
   },
   {
    "duration": 13,
    "start_time": "2022-12-01T14:14:23.869Z"
   },
   {
    "duration": 23,
    "start_time": "2022-12-01T14:14:23.884Z"
   },
   {
    "duration": 23,
    "start_time": "2022-12-01T14:14:23.909Z"
   },
   {
    "duration": 11,
    "start_time": "2022-12-01T14:14:23.933Z"
   },
   {
    "duration": 10,
    "start_time": "2022-12-01T14:14:23.945Z"
   },
   {
    "duration": 4,
    "start_time": "2022-12-01T14:14:23.956Z"
   },
   {
    "duration": 5,
    "start_time": "2022-12-01T14:14:23.963Z"
   },
   {
    "duration": 5,
    "start_time": "2022-12-01T14:14:23.969Z"
   },
   {
    "duration": 7,
    "start_time": "2022-12-01T14:14:23.976Z"
   },
   {
    "duration": 45,
    "start_time": "2022-12-01T14:14:23.984Z"
   },
   {
    "duration": 8,
    "start_time": "2022-12-01T14:14:24.031Z"
   },
   {
    "duration": 981,
    "start_time": "2022-12-01T14:14:24.041Z"
   },
   {
    "duration": 846,
    "start_time": "2022-12-01T14:15:22.496Z"
   },
   {
    "duration": 847,
    "start_time": "2022-12-01T14:15:56.943Z"
   },
   {
    "duration": 5,
    "start_time": "2022-12-01T14:16:12.789Z"
   },
   {
    "duration": 426354,
    "start_time": "2022-12-01T14:16:15.178Z"
   },
   {
    "duration": 5,
    "start_time": "2022-12-01T14:46:31.188Z"
   },
   {
    "duration": 4,
    "start_time": "2022-12-01T14:51:30.413Z"
   },
   {
    "duration": 4,
    "start_time": "2022-12-01T14:55:40.189Z"
   },
   {
    "duration": 4,
    "start_time": "2022-12-01T15:16:43.280Z"
   },
   {
    "duration": 8,
    "start_time": "2022-12-01T15:17:14.375Z"
   },
   {
    "duration": 92,
    "start_time": "2022-12-01T15:17:21.393Z"
   },
   {
    "duration": 12,
    "start_time": "2022-12-01T15:17:31.183Z"
   },
   {
    "duration": 6,
    "start_time": "2022-12-01T15:17:37.376Z"
   },
   {
    "duration": 2,
    "start_time": "2022-12-01T15:17:52.931Z"
   },
   {
    "duration": 6,
    "start_time": "2022-12-01T15:17:55.715Z"
   },
   {
    "duration": 12,
    "start_time": "2022-12-01T15:18:17.543Z"
   },
   {
    "duration": 3,
    "start_time": "2022-12-01T15:18:54.429Z"
   },
   {
    "duration": 7,
    "start_time": "2022-12-01T15:18:55.911Z"
   },
   {
    "duration": 13,
    "start_time": "2022-12-01T15:19:07.066Z"
   },
   {
    "duration": 86,
    "start_time": "2022-12-01T15:37:38.220Z"
   },
   {
    "duration": 7,
    "start_time": "2022-12-01T15:37:42.225Z"
   },
   {
    "duration": 2188,
    "start_time": "2022-12-01T15:37:50.208Z"
   },
   {
    "duration": 4,
    "start_time": "2022-12-01T15:37:52.398Z"
   },
   {
    "duration": 858,
    "start_time": "2022-12-01T15:37:52.404Z"
   },
   {
    "duration": 36,
    "start_time": "2022-12-01T15:37:53.265Z"
   },
   {
    "duration": 115,
    "start_time": "2022-12-01T15:37:53.303Z"
   },
   {
    "duration": 14,
    "start_time": "2022-12-01T15:37:53.420Z"
   },
   {
    "duration": 12,
    "start_time": "2022-12-01T15:37:53.436Z"
   },
   {
    "duration": 1235,
    "start_time": "2022-12-01T15:37:53.450Z"
   },
   {
    "duration": 5,
    "start_time": "2022-12-01T15:37:54.687Z"
   },
   {
    "duration": 139,
    "start_time": "2022-12-01T15:37:54.696Z"
   },
   {
    "duration": 30,
    "start_time": "2022-12-01T15:37:54.836Z"
   },
   {
    "duration": 34,
    "start_time": "2022-12-01T15:37:54.867Z"
   },
   {
    "duration": 8,
    "start_time": "2022-12-01T15:37:54.921Z"
   },
   {
    "duration": 36,
    "start_time": "2022-12-01T15:37:54.931Z"
   },
   {
    "duration": 54,
    "start_time": "2022-12-01T15:37:54.969Z"
   },
   {
    "duration": 97,
    "start_time": "2022-12-01T15:37:55.026Z"
   },
   {
    "duration": 122,
    "start_time": "2022-12-01T15:37:55.125Z"
   },
   {
    "duration": 198,
    "start_time": "2022-12-01T15:37:55.249Z"
   },
   {
    "duration": 55,
    "start_time": "2022-12-01T15:37:55.450Z"
   },
   {
    "duration": 24,
    "start_time": "2022-12-01T15:37:55.507Z"
   },
   {
    "duration": 24,
    "start_time": "2022-12-01T15:37:55.534Z"
   },
   {
    "duration": 28,
    "start_time": "2022-12-01T15:37:55.560Z"
   },
   {
    "duration": 31,
    "start_time": "2022-12-01T15:37:55.590Z"
   },
   {
    "duration": 16,
    "start_time": "2022-12-01T15:37:55.623Z"
   },
   {
    "duration": 11,
    "start_time": "2022-12-01T15:37:55.641Z"
   },
   {
    "duration": 11,
    "start_time": "2022-12-01T15:37:55.653Z"
   },
   {
    "duration": 4,
    "start_time": "2022-12-01T15:37:55.666Z"
   },
   {
    "duration": 18,
    "start_time": "2022-12-01T15:37:55.674Z"
   },
   {
    "duration": 7,
    "start_time": "2022-12-01T15:37:55.694Z"
   },
   {
    "duration": 22,
    "start_time": "2022-12-01T15:37:55.702Z"
   },
   {
    "duration": 144,
    "start_time": "2022-12-01T15:37:55.725Z"
   },
   {
    "duration": 0,
    "start_time": "2022-12-01T15:37:55.870Z"
   },
   {
    "duration": 0,
    "start_time": "2022-12-01T15:37:55.871Z"
   },
   {
    "duration": 0,
    "start_time": "2022-12-01T15:37:55.873Z"
   },
   {
    "duration": 8,
    "start_time": "2022-12-01T15:41:36.471Z"
   },
   {
    "duration": 4,
    "start_time": "2022-12-01T15:41:42.108Z"
   },
   {
    "duration": 2,
    "start_time": "2022-12-01T15:41:43.675Z"
   },
   {
    "duration": 646,
    "start_time": "2022-12-01T15:41:45.194Z"
   },
   {
    "duration": 2,
    "start_time": "2022-12-01T15:42:07.728Z"
   },
   {
    "duration": 6,
    "start_time": "2022-12-01T15:42:09.853Z"
   },
   {
    "duration": 5,
    "start_time": "2022-12-01T15:42:12.175Z"
   },
   {
    "duration": 5,
    "start_time": "2022-12-01T15:42:18.281Z"
   },
   {
    "duration": 7,
    "start_time": "2022-12-01T15:42:19.956Z"
   },
   {
    "duration": 5,
    "start_time": "2022-12-01T15:42:21.613Z"
   },
   {
    "duration": 2,
    "start_time": "2022-12-01T15:42:27.584Z"
   },
   {
    "duration": 4,
    "start_time": "2022-12-01T15:42:29.039Z"
   },
   {
    "duration": 10,
    "start_time": "2022-12-01T15:42:30.436Z"
   },
   {
    "duration": 6,
    "start_time": "2022-12-01T15:44:13.414Z"
   },
   {
    "duration": 5,
    "start_time": "2022-12-01T15:45:14.066Z"
   },
   {
    "duration": 5,
    "start_time": "2022-12-01T15:50:55.860Z"
   },
   {
    "duration": 943,
    "start_time": "2022-12-01T15:51:42.602Z"
   },
   {
    "duration": 1070,
    "start_time": "2022-12-01T15:53:16.004Z"
   },
   {
    "duration": 4,
    "start_time": "2022-12-01T15:53:18.454Z"
   },
   {
    "duration": 1104,
    "start_time": "2022-12-01T15:53:20.652Z"
   },
   {
    "duration": 10,
    "start_time": "2022-12-01T15:55:14.478Z"
   },
   {
    "duration": 6,
    "start_time": "2022-12-01T15:55:18.088Z"
   },
   {
    "duration": 6,
    "start_time": "2022-12-01T15:55:24.138Z"
   },
   {
    "duration": 14,
    "start_time": "2022-12-01T15:55:35.673Z"
   },
   {
    "duration": 1183,
    "start_time": "2022-12-01T15:56:16.544Z"
   },
   {
    "duration": 6,
    "start_time": "2022-12-01T15:56:48.521Z"
   },
   {
    "duration": 1129,
    "start_time": "2022-12-01T15:56:54.961Z"
   },
   {
    "duration": 14,
    "start_time": "2022-12-01T15:58:17.359Z"
   },
   {
    "duration": 5,
    "start_time": "2022-12-01T15:58:39.899Z"
   },
   {
    "duration": 10,
    "start_time": "2022-12-01T15:58:43.952Z"
   },
   {
    "duration": 4,
    "start_time": "2022-12-01T15:58:47.612Z"
   },
   {
    "duration": 1152,
    "start_time": "2022-12-01T15:58:49.796Z"
   },
   {
    "duration": 5,
    "start_time": "2022-12-01T15:59:28.439Z"
   },
   {
    "duration": 1343,
    "start_time": "2022-12-01T15:59:33.164Z"
   },
   {
    "duration": 3,
    "start_time": "2022-12-01T15:59:34.509Z"
   },
   {
    "duration": 406,
    "start_time": "2022-12-01T15:59:34.514Z"
   },
   {
    "duration": 39,
    "start_time": "2022-12-01T15:59:34.922Z"
   },
   {
    "duration": 153,
    "start_time": "2022-12-01T15:59:34.963Z"
   },
   {
    "duration": 15,
    "start_time": "2022-12-01T15:59:35.121Z"
   },
   {
    "duration": 49,
    "start_time": "2022-12-01T15:59:35.137Z"
   },
   {
    "duration": 1084,
    "start_time": "2022-12-01T15:59:35.188Z"
   },
   {
    "duration": 4,
    "start_time": "2022-12-01T15:59:36.274Z"
   },
   {
    "duration": 60,
    "start_time": "2022-12-01T15:59:36.280Z"
   },
   {
    "duration": 26,
    "start_time": "2022-12-01T15:59:36.342Z"
   },
   {
    "duration": 32,
    "start_time": "2022-12-01T15:59:36.369Z"
   },
   {
    "duration": 22,
    "start_time": "2022-12-01T15:59:36.403Z"
   },
   {
    "duration": 42,
    "start_time": "2022-12-01T15:59:36.428Z"
   },
   {
    "duration": 61,
    "start_time": "2022-12-01T15:59:36.472Z"
   },
   {
    "duration": 93,
    "start_time": "2022-12-01T15:59:36.537Z"
   },
   {
    "duration": 99,
    "start_time": "2022-12-01T15:59:36.634Z"
   },
   {
    "duration": 95,
    "start_time": "2022-12-01T15:59:36.736Z"
   },
   {
    "duration": 104,
    "start_time": "2022-12-01T15:59:36.834Z"
   },
   {
    "duration": 23,
    "start_time": "2022-12-01T15:59:36.940Z"
   },
   {
    "duration": 7,
    "start_time": "2022-12-01T15:59:36.965Z"
   },
   {
    "duration": 25,
    "start_time": "2022-12-01T15:59:36.973Z"
   },
   {
    "duration": 10,
    "start_time": "2022-12-01T15:59:37.000Z"
   },
   {
    "duration": 13,
    "start_time": "2022-12-01T15:59:37.012Z"
   },
   {
    "duration": 12,
    "start_time": "2022-12-01T15:59:37.027Z"
   },
   {
    "duration": 12,
    "start_time": "2022-12-01T15:59:37.042Z"
   },
   {
    "duration": 14,
    "start_time": "2022-12-01T15:59:37.056Z"
   },
   {
    "duration": 16,
    "start_time": "2022-12-01T15:59:37.071Z"
   },
   {
    "duration": 14,
    "start_time": "2022-12-01T15:59:37.088Z"
   },
   {
    "duration": 6,
    "start_time": "2022-12-01T15:59:37.103Z"
   },
   {
    "duration": 13,
    "start_time": "2022-12-01T15:59:37.111Z"
   },
   {
    "duration": 22,
    "start_time": "2022-12-01T15:59:37.126Z"
   },
   {
    "duration": 1252,
    "start_time": "2022-12-01T15:59:37.149Z"
   },
   {
    "duration": 7,
    "start_time": "2022-12-01T16:01:31.064Z"
   },
   {
    "duration": 994,
    "start_time": "2022-12-01T16:01:33.161Z"
   },
   {
    "duration": 5,
    "start_time": "2022-12-01T16:01:49.459Z"
   },
   {
    "duration": 1278,
    "start_time": "2022-12-01T16:01:51.365Z"
   },
   {
    "duration": 4,
    "start_time": "2022-12-01T16:02:58.777Z"
   },
   {
    "duration": 18,
    "start_time": "2022-12-01T16:03:01.046Z"
   },
   {
    "duration": 17,
    "start_time": "2022-12-01T16:03:27.592Z"
   },
   {
    "duration": 3,
    "start_time": "2022-12-01T16:03:29.537Z"
   },
   {
    "duration": 9,
    "start_time": "2022-12-01T16:03:40.996Z"
   },
   {
    "duration": 6,
    "start_time": "2022-12-01T16:03:43.623Z"
   },
   {
    "duration": 12,
    "start_time": "2022-12-01T16:03:45.161Z"
   },
   {
    "duration": 1127,
    "start_time": "2022-12-01T16:03:55.618Z"
   },
   {
    "duration": 4,
    "start_time": "2022-12-01T16:21:56.545Z"
   },
   {
    "duration": 12,
    "start_time": "2022-12-01T16:21:58.805Z"
   },
   {
    "duration": 5,
    "start_time": "2022-12-01T16:22:44.525Z"
   },
   {
    "duration": 1052,
    "start_time": "2022-12-01T16:22:46.315Z"
   },
   {
    "duration": 8,
    "start_time": "2022-12-01T16:24:26.710Z"
   },
   {
    "duration": 584,
    "start_time": "2022-12-01T16:24:28.858Z"
   },
   {
    "duration": 15,
    "start_time": "2022-12-01T16:27:45.580Z"
   },
   {
    "duration": 15,
    "start_time": "2022-12-01T16:28:03.174Z"
   },
   {
    "duration": 1329,
    "start_time": "2022-12-01T16:28:15.516Z"
   },
   {
    "duration": 4,
    "start_time": "2022-12-01T16:28:16.847Z"
   },
   {
    "duration": 407,
    "start_time": "2022-12-01T16:28:16.852Z"
   },
   {
    "duration": 34,
    "start_time": "2022-12-01T16:28:17.261Z"
   },
   {
    "duration": 132,
    "start_time": "2022-12-01T16:28:17.296Z"
   },
   {
    "duration": 14,
    "start_time": "2022-12-01T16:28:17.430Z"
   },
   {
    "duration": 13,
    "start_time": "2022-12-01T16:28:17.446Z"
   },
   {
    "duration": 1084,
    "start_time": "2022-12-01T16:28:17.461Z"
   },
   {
    "duration": 6,
    "start_time": "2022-12-01T16:28:18.547Z"
   },
   {
    "duration": 60,
    "start_time": "2022-12-01T16:28:18.556Z"
   },
   {
    "duration": 36,
    "start_time": "2022-12-01T16:28:18.618Z"
   },
   {
    "duration": 42,
    "start_time": "2022-12-01T16:28:18.656Z"
   },
   {
    "duration": 23,
    "start_time": "2022-12-01T16:28:18.700Z"
   },
   {
    "duration": 53,
    "start_time": "2022-12-01T16:28:18.724Z"
   },
   {
    "duration": 49,
    "start_time": "2022-12-01T16:28:18.779Z"
   },
   {
    "duration": 108,
    "start_time": "2022-12-01T16:28:18.830Z"
   },
   {
    "duration": 197,
    "start_time": "2022-12-01T16:28:18.941Z"
   },
   {
    "duration": 180,
    "start_time": "2022-12-01T16:28:19.141Z"
   },
   {
    "duration": 16,
    "start_time": "2022-12-01T16:28:19.323Z"
   },
   {
    "duration": 15,
    "start_time": "2022-12-01T16:28:19.341Z"
   },
   {
    "duration": 10,
    "start_time": "2022-12-01T16:28:19.357Z"
   },
   {
    "duration": 6,
    "start_time": "2022-12-01T16:28:19.368Z"
   },
   {
    "duration": 14,
    "start_time": "2022-12-01T16:28:19.376Z"
   },
   {
    "duration": 34,
    "start_time": "2022-12-01T16:28:19.392Z"
   },
   {
    "duration": 14,
    "start_time": "2022-12-01T16:28:19.428Z"
   },
   {
    "duration": 10,
    "start_time": "2022-12-01T16:28:19.444Z"
   },
   {
    "duration": 20,
    "start_time": "2022-12-01T16:28:19.456Z"
   },
   {
    "duration": 7,
    "start_time": "2022-12-01T16:28:19.480Z"
   },
   {
    "duration": 9,
    "start_time": "2022-12-01T16:28:19.489Z"
   },
   {
    "duration": 23,
    "start_time": "2022-12-01T16:28:19.500Z"
   },
   {
    "duration": 22,
    "start_time": "2022-12-01T16:28:19.525Z"
   },
   {
    "duration": 3,
    "start_time": "2022-12-01T16:28:19.549Z"
   },
   {
    "duration": 32,
    "start_time": "2022-12-01T16:28:19.554Z"
   },
   {
    "duration": 9,
    "start_time": "2022-12-01T16:28:19.587Z"
   },
   {
    "duration": 617,
    "start_time": "2022-12-01T16:28:19.597Z"
   },
   {
    "duration": 6,
    "start_time": "2022-12-01T16:29:29.138Z"
   },
   {
    "duration": 7,
    "start_time": "2022-12-01T16:29:36.091Z"
   },
   {
    "duration": 6,
    "start_time": "2022-12-01T16:29:43.051Z"
   },
   {
    "duration": 7,
    "start_time": "2022-12-01T16:29:47.780Z"
   },
   {
    "duration": 7,
    "start_time": "2022-12-01T16:30:22.156Z"
   },
   {
    "duration": 797,
    "start_time": "2022-12-01T16:30:24.208Z"
   },
   {
    "duration": 4,
    "start_time": "2022-12-01T16:30:56.084Z"
   },
   {
    "duration": 657,
    "start_time": "2022-12-01T16:30:58.720Z"
   },
   {
    "duration": 693,
    "start_time": "2022-12-01T16:31:19.261Z"
   },
   {
    "duration": 930,
    "start_time": "2022-12-01T16:31:24.788Z"
   },
   {
    "duration": 1513,
    "start_time": "2022-12-01T16:32:18.097Z"
   },
   {
    "duration": 4,
    "start_time": "2022-12-01T16:32:19.612Z"
   },
   {
    "duration": 408,
    "start_time": "2022-12-01T16:32:19.618Z"
   },
   {
    "duration": 37,
    "start_time": "2022-12-01T16:32:20.028Z"
   },
   {
    "duration": 156,
    "start_time": "2022-12-01T16:32:20.068Z"
   },
   {
    "duration": 15,
    "start_time": "2022-12-01T16:32:20.226Z"
   },
   {
    "duration": 15,
    "start_time": "2022-12-01T16:32:20.243Z"
   },
   {
    "duration": 1204,
    "start_time": "2022-12-01T16:32:20.260Z"
   },
   {
    "duration": 6,
    "start_time": "2022-12-01T16:32:21.467Z"
   },
   {
    "duration": 57,
    "start_time": "2022-12-01T16:32:21.475Z"
   },
   {
    "duration": 30,
    "start_time": "2022-12-01T16:32:21.534Z"
   },
   {
    "duration": 63,
    "start_time": "2022-12-01T16:32:21.566Z"
   },
   {
    "duration": 10,
    "start_time": "2022-12-01T16:32:21.631Z"
   },
   {
    "duration": 64,
    "start_time": "2022-12-01T16:32:21.644Z"
   },
   {
    "duration": 125,
    "start_time": "2022-12-01T16:32:21.710Z"
   },
   {
    "duration": 93,
    "start_time": "2022-12-01T16:32:21.840Z"
   },
   {
    "duration": 100,
    "start_time": "2022-12-01T16:32:21.935Z"
   },
   {
    "duration": 211,
    "start_time": "2022-12-01T16:32:22.037Z"
   },
   {
    "duration": 38,
    "start_time": "2022-12-01T16:32:22.250Z"
   },
   {
    "duration": 29,
    "start_time": "2022-12-01T16:32:22.290Z"
   },
   {
    "duration": 7,
    "start_time": "2022-12-01T16:32:22.321Z"
   },
   {
    "duration": 7,
    "start_time": "2022-12-01T16:32:22.329Z"
   },
   {
    "duration": 11,
    "start_time": "2022-12-01T16:32:22.338Z"
   },
   {
    "duration": 16,
    "start_time": "2022-12-01T16:32:22.351Z"
   },
   {
    "duration": 11,
    "start_time": "2022-12-01T16:32:22.369Z"
   },
   {
    "duration": 43,
    "start_time": "2022-12-01T16:32:22.382Z"
   },
   {
    "duration": 4,
    "start_time": "2022-12-01T16:32:22.427Z"
   },
   {
    "duration": 15,
    "start_time": "2022-12-01T16:32:22.432Z"
   },
   {
    "duration": 27,
    "start_time": "2022-12-01T16:32:22.449Z"
   },
   {
    "duration": 23,
    "start_time": "2022-12-01T16:32:22.478Z"
   },
   {
    "duration": 15,
    "start_time": "2022-12-01T16:32:22.503Z"
   },
   {
    "duration": 10,
    "start_time": "2022-12-01T16:32:22.519Z"
   },
   {
    "duration": 9,
    "start_time": "2022-12-01T16:32:22.531Z"
   },
   {
    "duration": 766,
    "start_time": "2022-12-01T16:32:22.541Z"
   },
   {
    "duration": 4,
    "start_time": "2022-12-01T16:32:40.086Z"
   },
   {
    "duration": 669,
    "start_time": "2022-12-01T16:32:42.320Z"
   },
   {
    "duration": 731,
    "start_time": "2022-12-01T16:33:44.370Z"
   },
   {
    "duration": 1226,
    "start_time": "2022-12-01T16:33:54.800Z"
   },
   {
    "duration": 642,
    "start_time": "2022-12-01T16:34:00.694Z"
   },
   {
    "duration": 652,
    "start_time": "2022-12-01T16:34:23.037Z"
   },
   {
    "duration": 676,
    "start_time": "2022-12-01T16:34:26.349Z"
   },
   {
    "duration": 666,
    "start_time": "2022-12-01T16:34:29.148Z"
   },
   {
    "duration": 692,
    "start_time": "2022-12-01T16:34:35.907Z"
   },
   {
    "duration": 984,
    "start_time": "2022-12-01T16:35:15.543Z"
   },
   {
    "duration": 630,
    "start_time": "2022-12-01T16:35:30.639Z"
   },
   {
    "duration": 8,
    "start_time": "2022-12-01T16:35:40.099Z"
   },
   {
    "duration": 4,
    "start_time": "2022-12-01T16:35:42.189Z"
   },
   {
    "duration": 627,
    "start_time": "2022-12-01T16:35:45.649Z"
   },
   {
    "duration": 19,
    "start_time": "2022-12-01T16:37:08.177Z"
   },
   {
    "duration": 1301,
    "start_time": "2022-12-01T16:37:14.463Z"
   },
   {
    "duration": 3,
    "start_time": "2022-12-01T16:37:15.766Z"
   },
   {
    "duration": 377,
    "start_time": "2022-12-01T16:37:15.770Z"
   },
   {
    "duration": 33,
    "start_time": "2022-12-01T16:37:16.148Z"
   },
   {
    "duration": 141,
    "start_time": "2022-12-01T16:37:16.183Z"
   },
   {
    "duration": 15,
    "start_time": "2022-12-01T16:37:16.326Z"
   },
   {
    "duration": 11,
    "start_time": "2022-12-01T16:37:16.344Z"
   },
   {
    "duration": 1077,
    "start_time": "2022-12-01T16:37:16.357Z"
   },
   {
    "duration": 6,
    "start_time": "2022-12-01T16:37:17.436Z"
   },
   {
    "duration": 61,
    "start_time": "2022-12-01T16:37:17.443Z"
   },
   {
    "duration": 31,
    "start_time": "2022-12-01T16:37:17.505Z"
   },
   {
    "duration": 32,
    "start_time": "2022-12-01T16:37:17.538Z"
   },
   {
    "duration": 27,
    "start_time": "2022-12-01T16:37:17.573Z"
   },
   {
    "duration": 36,
    "start_time": "2022-12-01T16:37:17.603Z"
   },
   {
    "duration": 17,
    "start_time": "2022-12-01T16:37:17.641Z"
   },
   {
    "duration": 100,
    "start_time": "2022-12-01T16:37:17.723Z"
   },
   {
    "duration": 111,
    "start_time": "2022-12-01T16:37:17.825Z"
   },
   {
    "duration": 183,
    "start_time": "2022-12-01T16:37:17.941Z"
   },
   {
    "duration": 13,
    "start_time": "2022-12-01T16:37:18.126Z"
   },
   {
    "duration": 12,
    "start_time": "2022-12-01T16:37:18.140Z"
   },
   {
    "duration": 6,
    "start_time": "2022-12-01T16:37:18.153Z"
   },
   {
    "duration": 8,
    "start_time": "2022-12-01T16:37:18.160Z"
   },
   {
    "duration": 14,
    "start_time": "2022-12-01T16:37:18.169Z"
   },
   {
    "duration": 24,
    "start_time": "2022-12-01T16:37:18.184Z"
   },
   {
    "duration": 23,
    "start_time": "2022-12-01T16:37:18.209Z"
   },
   {
    "duration": 11,
    "start_time": "2022-12-01T16:37:18.234Z"
   },
   {
    "duration": 16,
    "start_time": "2022-12-01T16:37:18.247Z"
   },
   {
    "duration": 10,
    "start_time": "2022-12-01T16:37:18.265Z"
   },
   {
    "duration": 17,
    "start_time": "2022-12-01T16:37:18.277Z"
   },
   {
    "duration": 12,
    "start_time": "2022-12-01T16:37:18.296Z"
   },
   {
    "duration": 117,
    "start_time": "2022-12-01T16:37:18.310Z"
   },
   {
    "duration": 0,
    "start_time": "2022-12-01T16:37:18.429Z"
   },
   {
    "duration": 0,
    "start_time": "2022-12-01T16:37:18.430Z"
   },
   {
    "duration": 0,
    "start_time": "2022-12-01T16:37:18.431Z"
   },
   {
    "duration": 7,
    "start_time": "2022-12-01T16:37:47.394Z"
   },
   {
    "duration": 4,
    "start_time": "2022-12-01T16:37:55.909Z"
   },
   {
    "duration": 2,
    "start_time": "2022-12-01T16:37:59.683Z"
   },
   {
    "duration": 4,
    "start_time": "2022-12-01T16:38:00.966Z"
   },
   {
    "duration": 26,
    "start_time": "2022-12-01T16:38:04.457Z"
   },
   {
    "duration": 487,
    "start_time": "2022-12-01T16:38:10.356Z"
   },
   {
    "duration": 493,
    "start_time": "2022-12-01T16:38:46.267Z"
   },
   {
    "duration": 7,
    "start_time": "2022-12-01T16:39:32.341Z"
   },
   {
    "duration": 1344,
    "start_time": "2022-12-01T16:39:40.684Z"
   },
   {
    "duration": 3,
    "start_time": "2022-12-01T16:39:42.030Z"
   },
   {
    "duration": 391,
    "start_time": "2022-12-01T16:39:42.035Z"
   },
   {
    "duration": 34,
    "start_time": "2022-12-01T16:39:42.428Z"
   },
   {
    "duration": 158,
    "start_time": "2022-12-01T16:39:42.464Z"
   },
   {
    "duration": 17,
    "start_time": "2022-12-01T16:39:42.624Z"
   },
   {
    "duration": 31,
    "start_time": "2022-12-01T16:39:42.643Z"
   },
   {
    "duration": 1116,
    "start_time": "2022-12-01T16:39:42.676Z"
   },
   {
    "duration": 5,
    "start_time": "2022-12-01T16:39:43.793Z"
   },
   {
    "duration": 45,
    "start_time": "2022-12-01T16:39:43.799Z"
   },
   {
    "duration": 27,
    "start_time": "2022-12-01T16:39:43.846Z"
   },
   {
    "duration": 51,
    "start_time": "2022-12-01T16:39:43.875Z"
   },
   {
    "duration": 8,
    "start_time": "2022-12-01T16:39:43.928Z"
   },
   {
    "duration": 34,
    "start_time": "2022-12-01T16:39:43.940Z"
   },
   {
    "duration": 53,
    "start_time": "2022-12-01T16:39:43.976Z"
   },
   {
    "duration": 97,
    "start_time": "2022-12-01T16:39:44.031Z"
   },
   {
    "duration": 215,
    "start_time": "2022-12-01T16:39:44.131Z"
   },
   {
    "duration": 186,
    "start_time": "2022-12-01T16:39:44.348Z"
   },
   {
    "duration": 11,
    "start_time": "2022-12-01T16:39:44.535Z"
   },
   {
    "duration": 14,
    "start_time": "2022-12-01T16:39:44.547Z"
   },
   {
    "duration": 6,
    "start_time": "2022-12-01T16:39:44.563Z"
   },
   {
    "duration": 23,
    "start_time": "2022-12-01T16:39:44.570Z"
   },
   {
    "duration": 14,
    "start_time": "2022-12-01T16:39:44.595Z"
   },
   {
    "duration": 19,
    "start_time": "2022-12-01T16:39:44.610Z"
   },
   {
    "duration": 18,
    "start_time": "2022-12-01T16:39:44.631Z"
   },
   {
    "duration": 10,
    "start_time": "2022-12-01T16:39:44.650Z"
   },
   {
    "duration": 3,
    "start_time": "2022-12-01T16:39:44.662Z"
   },
   {
    "duration": 15,
    "start_time": "2022-12-01T16:39:44.666Z"
   },
   {
    "duration": 15,
    "start_time": "2022-12-01T16:39:44.682Z"
   },
   {
    "duration": 47,
    "start_time": "2022-12-01T16:39:44.700Z"
   },
   {
    "duration": 6,
    "start_time": "2022-12-01T16:39:44.748Z"
   },
   {
    "duration": 16,
    "start_time": "2022-12-01T16:39:44.755Z"
   },
   {
    "duration": 4,
    "start_time": "2022-12-01T16:39:44.772Z"
   },
   {
    "duration": 10,
    "start_time": "2022-12-01T16:39:44.777Z"
   },
   {
    "duration": 545,
    "start_time": "2022-12-01T16:39:44.788Z"
   },
   {
    "duration": 5,
    "start_time": "2022-12-01T16:40:07.346Z"
   },
   {
    "duration": 574,
    "start_time": "2022-12-01T16:40:08.803Z"
   },
   {
    "duration": 5,
    "start_time": "2022-12-01T16:40:14.901Z"
   },
   {
    "duration": 479,
    "start_time": "2022-12-01T16:40:16.216Z"
   },
   {
    "duration": 446,
    "start_time": "2022-12-01T16:40:20.854Z"
   },
   {
    "duration": 471,
    "start_time": "2022-12-01T16:40:22.938Z"
   },
   {
    "duration": 529,
    "start_time": "2022-12-01T16:40:24.875Z"
   },
   {
    "duration": 481,
    "start_time": "2022-12-01T16:40:27.464Z"
   },
   {
    "duration": 520,
    "start_time": "2022-12-01T16:40:30.290Z"
   },
   {
    "duration": 4,
    "start_time": "2022-12-01T16:40:55.110Z"
   },
   {
    "duration": 468,
    "start_time": "2022-12-01T16:40:57.341Z"
   },
   {
    "duration": 481,
    "start_time": "2022-12-01T16:41:00.171Z"
   },
   {
    "duration": 474,
    "start_time": "2022-12-01T16:41:01.853Z"
   },
   {
    "duration": 480,
    "start_time": "2022-12-01T16:41:04.362Z"
   },
   {
    "duration": 458,
    "start_time": "2022-12-01T16:41:06.277Z"
   },
   {
    "duration": 9,
    "start_time": "2022-12-01T16:41:20.306Z"
   },
   {
    "duration": 483,
    "start_time": "2022-12-01T16:41:22.307Z"
   },
   {
    "duration": 6,
    "start_time": "2022-12-01T16:41:59.773Z"
   },
   {
    "duration": 482,
    "start_time": "2022-12-01T16:42:01.648Z"
   },
   {
    "duration": 490,
    "start_time": "2022-12-01T16:42:04.592Z"
   },
   {
    "duration": 489,
    "start_time": "2022-12-01T16:42:06.357Z"
   },
   {
    "duration": 5,
    "start_time": "2022-12-01T16:42:09.337Z"
   },
   {
    "duration": 473,
    "start_time": "2022-12-01T16:42:11.189Z"
   },
   {
    "duration": 7,
    "start_time": "2022-12-01T16:42:14.499Z"
   },
   {
    "duration": 499,
    "start_time": "2022-12-01T16:42:16.203Z"
   },
   {
    "duration": 4,
    "start_time": "2022-12-01T16:42:23.447Z"
   },
   {
    "duration": 451,
    "start_time": "2022-12-01T16:42:25.387Z"
   },
   {
    "duration": 5,
    "start_time": "2022-12-01T16:43:17.509Z"
   },
   {
    "duration": 17,
    "start_time": "2022-12-01T16:43:19.500Z"
   },
   {
    "duration": 6,
    "start_time": "2022-12-01T16:43:32.095Z"
   },
   {
    "duration": 448,
    "start_time": "2022-12-01T16:43:33.625Z"
   },
   {
    "duration": 1394,
    "start_time": "2022-12-01T16:44:49.926Z"
   },
   {
    "duration": 3,
    "start_time": "2022-12-01T16:44:51.322Z"
   },
   {
    "duration": 430,
    "start_time": "2022-12-01T16:44:51.328Z"
   },
   {
    "duration": 39,
    "start_time": "2022-12-01T16:44:51.760Z"
   },
   {
    "duration": 157,
    "start_time": "2022-12-01T16:44:51.802Z"
   },
   {
    "duration": 14,
    "start_time": "2022-12-01T16:44:51.961Z"
   },
   {
    "duration": 18,
    "start_time": "2022-12-01T16:44:51.977Z"
   },
   {
    "duration": 1350,
    "start_time": "2022-12-01T16:44:51.997Z"
   },
   {
    "duration": 4,
    "start_time": "2022-12-01T16:44:53.349Z"
   },
   {
    "duration": 66,
    "start_time": "2022-12-01T16:44:53.355Z"
   },
   {
    "duration": 36,
    "start_time": "2022-12-01T16:44:53.424Z"
   },
   {
    "duration": 61,
    "start_time": "2022-12-01T16:44:53.462Z"
   },
   {
    "duration": 11,
    "start_time": "2022-12-01T16:44:53.525Z"
   },
   {
    "duration": 47,
    "start_time": "2022-12-01T16:44:53.540Z"
   },
   {
    "duration": 55,
    "start_time": "2022-12-01T16:44:53.589Z"
   },
   {
    "duration": 177,
    "start_time": "2022-12-01T16:44:53.646Z"
   },
   {
    "duration": 96,
    "start_time": "2022-12-01T16:44:53.825Z"
   },
   {
    "duration": 104,
    "start_time": "2022-12-01T16:44:53.924Z"
   },
   {
    "duration": 11,
    "start_time": "2022-12-01T16:44:54.030Z"
   },
   {
    "duration": 16,
    "start_time": "2022-12-01T16:44:54.043Z"
   },
   {
    "duration": 9,
    "start_time": "2022-12-01T16:44:54.061Z"
   },
   {
    "duration": 21,
    "start_time": "2022-12-01T16:44:54.072Z"
   },
   {
    "duration": 11,
    "start_time": "2022-12-01T16:44:54.095Z"
   },
   {
    "duration": 18,
    "start_time": "2022-12-01T16:44:54.108Z"
   },
   {
    "duration": 13,
    "start_time": "2022-12-01T16:44:54.128Z"
   },
   {
    "duration": 13,
    "start_time": "2022-12-01T16:44:54.144Z"
   },
   {
    "duration": 8,
    "start_time": "2022-12-01T16:44:54.159Z"
   },
   {
    "duration": 14,
    "start_time": "2022-12-01T16:44:54.168Z"
   },
   {
    "duration": 7,
    "start_time": "2022-12-01T16:44:54.184Z"
   },
   {
    "duration": 32,
    "start_time": "2022-12-01T16:44:54.193Z"
   },
   {
    "duration": 13,
    "start_time": "2022-12-01T16:44:54.227Z"
   },
   {
    "duration": 13,
    "start_time": "2022-12-01T16:44:54.242Z"
   },
   {
    "duration": 19,
    "start_time": "2022-12-01T16:44:54.256Z"
   },
   {
    "duration": 15,
    "start_time": "2022-12-01T16:44:54.277Z"
   },
   {
    "duration": 746,
    "start_time": "2022-12-01T16:44:54.293Z"
   },
   {
    "duration": 748,
    "start_time": "2022-12-01T16:45:00.613Z"
   },
   {
    "duration": 698,
    "start_time": "2022-12-01T16:45:03.283Z"
   },
   {
    "duration": 783,
    "start_time": "2022-12-01T16:45:05.093Z"
   },
   {
    "duration": 745,
    "start_time": "2022-12-01T16:45:10.219Z"
   },
   {
    "duration": 6,
    "start_time": "2022-12-01T16:45:13.272Z"
   },
   {
    "duration": 685,
    "start_time": "2022-12-01T16:45:15.744Z"
   },
   {
    "duration": 2118,
    "start_time": "2022-12-01T16:47:48.537Z"
   },
   {
    "duration": 4,
    "start_time": "2022-12-01T16:49:53.327Z"
   },
   {
    "duration": 17,
    "start_time": "2022-12-01T16:49:53.334Z"
   },
   {
    "duration": 429,
    "start_time": "2022-12-01T16:49:53.353Z"
   },
   {
    "duration": 43,
    "start_time": "2022-12-01T16:49:53.788Z"
   },
   {
    "duration": 137,
    "start_time": "2022-12-01T16:49:53.835Z"
   },
   {
    "duration": 12,
    "start_time": "2022-12-01T16:49:53.974Z"
   },
   {
    "duration": 18,
    "start_time": "2022-12-01T16:49:53.988Z"
   },
   {
    "duration": 1304,
    "start_time": "2022-12-01T16:49:54.008Z"
   },
   {
    "duration": 11,
    "start_time": "2022-12-01T16:49:55.314Z"
   },
   {
    "duration": 56,
    "start_time": "2022-12-01T16:49:55.327Z"
   },
   {
    "duration": 45,
    "start_time": "2022-12-01T16:49:55.385Z"
   },
   {
    "duration": 46,
    "start_time": "2022-12-01T16:49:55.433Z"
   },
   {
    "duration": 8,
    "start_time": "2022-12-01T16:49:55.482Z"
   },
   {
    "duration": 46,
    "start_time": "2022-12-01T16:49:55.494Z"
   },
   {
    "duration": 21,
    "start_time": "2022-12-01T16:49:55.542Z"
   },
   {
    "duration": 14,
    "start_time": "2022-12-01T16:49:55.622Z"
   },
   {
    "duration": 102,
    "start_time": "2022-12-01T16:49:55.638Z"
   },
   {
    "duration": 102,
    "start_time": "2022-12-01T16:49:55.822Z"
   },
   {
    "duration": 17,
    "start_time": "2022-12-01T16:49:55.926Z"
   },
   {
    "duration": 13,
    "start_time": "2022-12-01T16:49:55.945Z"
   },
   {
    "duration": 8,
    "start_time": "2022-12-01T16:49:55.960Z"
   },
   {
    "duration": 13,
    "start_time": "2022-12-01T16:49:55.970Z"
   },
   {
    "duration": 15,
    "start_time": "2022-12-01T16:49:55.985Z"
   },
   {
    "duration": 13,
    "start_time": "2022-12-01T16:49:56.021Z"
   },
   {
    "duration": 15,
    "start_time": "2022-12-01T16:49:56.036Z"
   },
   {
    "duration": 11,
    "start_time": "2022-12-01T16:49:56.053Z"
   },
   {
    "duration": 5,
    "start_time": "2022-12-01T16:49:56.066Z"
   },
   {
    "duration": 14,
    "start_time": "2022-12-01T16:49:56.073Z"
   },
   {
    "duration": 34,
    "start_time": "2022-12-01T16:49:56.088Z"
   },
   {
    "duration": 5,
    "start_time": "2022-12-01T16:49:56.124Z"
   },
   {
    "duration": 9,
    "start_time": "2022-12-01T16:49:56.131Z"
   },
   {
    "duration": 16,
    "start_time": "2022-12-01T16:49:56.141Z"
   },
   {
    "duration": 3,
    "start_time": "2022-12-01T16:49:56.159Z"
   },
   {
    "duration": 1322,
    "start_time": "2022-12-01T16:49:58.565Z"
   },
   {
    "duration": 4,
    "start_time": "2022-12-01T16:49:59.889Z"
   },
   {
    "duration": 527,
    "start_time": "2022-12-01T16:49:59.895Z"
   },
   {
    "duration": 44,
    "start_time": "2022-12-01T16:50:00.425Z"
   },
   {
    "duration": 201,
    "start_time": "2022-12-01T16:50:00.471Z"
   },
   {
    "duration": 17,
    "start_time": "2022-12-01T16:50:00.675Z"
   },
   {
    "duration": 70,
    "start_time": "2022-12-01T16:50:00.696Z"
   },
   {
    "duration": 1186,
    "start_time": "2022-12-01T16:50:00.768Z"
   },
   {
    "duration": 6,
    "start_time": "2022-12-01T16:50:01.956Z"
   },
   {
    "duration": 78,
    "start_time": "2022-12-01T16:50:01.965Z"
   },
   {
    "duration": 39,
    "start_time": "2022-12-01T16:50:02.044Z"
   },
   {
    "duration": 84,
    "start_time": "2022-12-01T16:50:02.085Z"
   },
   {
    "duration": 9,
    "start_time": "2022-12-01T16:50:02.171Z"
   },
   {
    "duration": 45,
    "start_time": "2022-12-01T16:50:02.183Z"
   },
   {
    "duration": 110,
    "start_time": "2022-12-01T16:50:02.229Z"
   },
   {
    "duration": 96,
    "start_time": "2022-12-01T16:50:02.341Z"
   },
   {
    "duration": 133,
    "start_time": "2022-12-01T16:50:02.522Z"
   },
   {
    "duration": 206,
    "start_time": "2022-12-01T16:50:02.662Z"
   },
   {
    "duration": 27,
    "start_time": "2022-12-01T16:50:02.869Z"
   },
   {
    "duration": 36,
    "start_time": "2022-12-01T16:50:02.899Z"
   },
   {
    "duration": 9,
    "start_time": "2022-12-01T16:50:02.937Z"
   },
   {
    "duration": 6,
    "start_time": "2022-12-01T16:50:02.950Z"
   },
   {
    "duration": 18,
    "start_time": "2022-12-01T16:50:02.958Z"
   },
   {
    "duration": 31,
    "start_time": "2022-12-01T16:50:02.979Z"
   },
   {
    "duration": 13,
    "start_time": "2022-12-01T16:50:03.012Z"
   },
   {
    "duration": 13,
    "start_time": "2022-12-01T16:50:03.027Z"
   },
   {
    "duration": 7,
    "start_time": "2022-12-01T16:50:03.043Z"
   },
   {
    "duration": 22,
    "start_time": "2022-12-01T16:50:03.055Z"
   },
   {
    "duration": 14,
    "start_time": "2022-12-01T16:50:03.079Z"
   },
   {
    "duration": 32,
    "start_time": "2022-12-01T16:50:03.095Z"
   },
   {
    "duration": 22,
    "start_time": "2022-12-01T16:50:03.130Z"
   },
   {
    "duration": 29,
    "start_time": "2022-12-01T16:50:03.155Z"
   },
   {
    "duration": 18,
    "start_time": "2022-12-01T16:50:03.186Z"
   },
   {
    "duration": 14,
    "start_time": "2022-12-01T16:50:03.206Z"
   },
   {
    "duration": 126,
    "start_time": "2022-12-01T16:50:03.222Z"
   },
   {
    "duration": 0,
    "start_time": "2022-12-01T16:50:03.350Z"
   },
   {
    "duration": 5,
    "start_time": "2022-12-01T16:50:33.421Z"
   },
   {
    "duration": 24,
    "start_time": "2022-12-01T16:50:35.354Z"
   },
   {
    "duration": 6,
    "start_time": "2022-12-01T16:51:15.264Z"
   },
   {
    "duration": 19,
    "start_time": "2022-12-01T16:51:18.805Z"
   },
   {
    "duration": 5,
    "start_time": "2022-12-01T16:51:27.295Z"
   },
   {
    "duration": 1366,
    "start_time": "2022-12-01T16:51:28.697Z"
   },
   {
    "duration": 3,
    "start_time": "2022-12-01T16:54:26.616Z"
   },
   {
    "duration": 4,
    "start_time": "2022-12-01T16:54:51.798Z"
   },
   {
    "duration": 3,
    "start_time": "2022-12-01T16:55:02.924Z"
   },
   {
    "duration": 4,
    "start_time": "2022-12-01T16:55:18.507Z"
   },
   {
    "duration": 4,
    "start_time": "2022-12-01T16:55:38.824Z"
   },
   {
    "duration": 4,
    "start_time": "2022-12-01T16:55:50.571Z"
   },
   {
    "duration": 5,
    "start_time": "2022-12-01T16:56:10.317Z"
   },
   {
    "duration": 4,
    "start_time": "2022-12-01T16:56:53.417Z"
   },
   {
    "duration": 5,
    "start_time": "2022-12-01T16:59:40.616Z"
   },
   {
    "duration": 5,
    "start_time": "2022-12-01T16:59:57.958Z"
   },
   {
    "duration": 4,
    "start_time": "2022-12-01T17:00:32.078Z"
   },
   {
    "duration": 85,
    "start_time": "2022-12-01T17:00:49.836Z"
   },
   {
    "duration": 6,
    "start_time": "2022-12-01T17:00:52.736Z"
   },
   {
    "duration": 4,
    "start_time": "2022-12-01T17:02:16.599Z"
   },
   {
    "duration": 5,
    "start_time": "2022-12-01T17:02:51.096Z"
   },
   {
    "duration": 1354,
    "start_time": "2022-12-01T17:04:14.403Z"
   },
   {
    "duration": 4,
    "start_time": "2022-12-01T17:04:15.759Z"
   },
   {
    "duration": 382,
    "start_time": "2022-12-01T17:04:15.765Z"
   },
   {
    "duration": 47,
    "start_time": "2022-12-01T17:04:16.149Z"
   },
   {
    "duration": 144,
    "start_time": "2022-12-01T17:04:16.198Z"
   },
   {
    "duration": 15,
    "start_time": "2022-12-01T17:04:16.344Z"
   },
   {
    "duration": 16,
    "start_time": "2022-12-01T17:04:16.361Z"
   },
   {
    "duration": 1057,
    "start_time": "2022-12-01T17:04:16.378Z"
   },
   {
    "duration": 5,
    "start_time": "2022-12-01T17:04:17.436Z"
   },
   {
    "duration": 60,
    "start_time": "2022-12-01T17:04:17.443Z"
   },
   {
    "duration": 36,
    "start_time": "2022-12-01T17:04:17.505Z"
   },
   {
    "duration": 37,
    "start_time": "2022-12-01T17:04:17.543Z"
   },
   {
    "duration": 7,
    "start_time": "2022-12-01T17:04:17.582Z"
   },
   {
    "duration": 58,
    "start_time": "2022-12-01T17:04:17.593Z"
   },
   {
    "duration": 15,
    "start_time": "2022-12-01T17:04:17.653Z"
   },
   {
    "duration": 64,
    "start_time": "2022-12-01T17:04:17.670Z"
   },
   {
    "duration": 188,
    "start_time": "2022-12-01T17:04:17.736Z"
   },
   {
    "duration": 206,
    "start_time": "2022-12-01T17:04:17.927Z"
   },
   {
    "duration": 12,
    "start_time": "2022-12-01T17:04:18.136Z"
   },
   {
    "duration": 15,
    "start_time": "2022-12-01T17:04:18.150Z"
   },
   {
    "duration": 5,
    "start_time": "2022-12-01T17:04:18.167Z"
   },
   {
    "duration": 6,
    "start_time": "2022-12-01T17:04:18.174Z"
   },
   {
    "duration": 13,
    "start_time": "2022-12-01T17:04:18.182Z"
   },
   {
    "duration": 48,
    "start_time": "2022-12-01T17:04:18.197Z"
   },
   {
    "duration": 12,
    "start_time": "2022-12-01T17:04:18.247Z"
   },
   {
    "duration": 11,
    "start_time": "2022-12-01T17:04:18.261Z"
   },
   {
    "duration": 10,
    "start_time": "2022-12-01T17:04:18.273Z"
   },
   {
    "duration": 12,
    "start_time": "2022-12-01T17:04:18.285Z"
   },
   {
    "duration": 7,
    "start_time": "2022-12-01T17:04:18.299Z"
   },
   {
    "duration": 6,
    "start_time": "2022-12-01T17:04:18.321Z"
   },
   {
    "duration": 10,
    "start_time": "2022-12-01T17:04:18.329Z"
   },
   {
    "duration": 11,
    "start_time": "2022-12-01T17:04:18.340Z"
   },
   {
    "duration": 4,
    "start_time": "2022-12-01T17:04:18.353Z"
   },
   {
    "duration": 10,
    "start_time": "2022-12-01T17:04:18.358Z"
   },
   {
    "duration": 1470,
    "start_time": "2022-12-01T17:04:18.369Z"
   },
   {
    "duration": 5,
    "start_time": "2022-12-01T17:04:19.840Z"
   },
   {
    "duration": 5,
    "start_time": "2022-12-01T17:04:41.637Z"
   },
   {
    "duration": 4,
    "start_time": "2022-12-01T17:05:36.358Z"
   },
   {
    "duration": 166,
    "start_time": "2022-12-01T17:05:38.078Z"
   },
   {
    "duration": 8,
    "start_time": "2022-12-01T17:17:45.607Z"
   },
   {
    "duration": 5,
    "start_time": "2022-12-01T17:17:53.827Z"
   },
   {
    "duration": 9,
    "start_time": "2022-12-01T17:17:56.407Z"
   },
   {
    "duration": 1377,
    "start_time": "2022-12-01T17:18:02.687Z"
   },
   {
    "duration": 3,
    "start_time": "2022-12-01T17:18:04.067Z"
   },
   {
    "duration": 414,
    "start_time": "2022-12-01T17:18:04.071Z"
   },
   {
    "duration": 52,
    "start_time": "2022-12-01T17:18:04.486Z"
   },
   {
    "duration": 160,
    "start_time": "2022-12-01T17:18:04.541Z"
   },
   {
    "duration": 33,
    "start_time": "2022-12-01T17:18:04.703Z"
   },
   {
    "duration": 16,
    "start_time": "2022-12-01T17:18:04.738Z"
   },
   {
    "duration": 1287,
    "start_time": "2022-12-01T17:18:04.755Z"
   },
   {
    "duration": 4,
    "start_time": "2022-12-01T17:18:06.044Z"
   },
   {
    "duration": 63,
    "start_time": "2022-12-01T17:18:06.050Z"
   },
   {
    "duration": 28,
    "start_time": "2022-12-01T17:18:06.115Z"
   },
   {
    "duration": 37,
    "start_time": "2022-12-01T17:18:06.145Z"
   },
   {
    "duration": 8,
    "start_time": "2022-12-01T17:18:06.184Z"
   },
   {
    "duration": 57,
    "start_time": "2022-12-01T17:18:06.196Z"
   },
   {
    "duration": 71,
    "start_time": "2022-12-01T17:18:06.256Z"
   },
   {
    "duration": 110,
    "start_time": "2022-12-01T17:18:06.329Z"
   },
   {
    "duration": 107,
    "start_time": "2022-12-01T17:18:06.520Z"
   },
   {
    "duration": 213,
    "start_time": "2022-12-01T17:18:06.629Z"
   },
   {
    "duration": 31,
    "start_time": "2022-12-01T17:18:06.844Z"
   },
   {
    "duration": 17,
    "start_time": "2022-12-01T17:18:06.876Z"
   },
   {
    "duration": 5,
    "start_time": "2022-12-01T17:18:06.895Z"
   },
   {
    "duration": 25,
    "start_time": "2022-12-01T17:18:06.901Z"
   },
   {
    "duration": 15,
    "start_time": "2022-12-01T17:18:06.927Z"
   },
   {
    "duration": 32,
    "start_time": "2022-12-01T17:18:06.944Z"
   },
   {
    "duration": 22,
    "start_time": "2022-12-01T17:18:06.977Z"
   },
   {
    "duration": 12,
    "start_time": "2022-12-01T17:18:07.000Z"
   },
   {
    "duration": 3,
    "start_time": "2022-12-01T17:18:07.014Z"
   },
   {
    "duration": 27,
    "start_time": "2022-12-01T17:18:07.019Z"
   },
   {
    "duration": 20,
    "start_time": "2022-12-01T17:18:07.048Z"
   },
   {
    "duration": 24,
    "start_time": "2022-12-01T17:18:07.070Z"
   },
   {
    "duration": 32,
    "start_time": "2022-12-01T17:18:07.097Z"
   },
   {
    "duration": 26,
    "start_time": "2022-12-01T17:18:07.131Z"
   },
   {
    "duration": 13,
    "start_time": "2022-12-01T17:18:07.159Z"
   },
   {
    "duration": 6,
    "start_time": "2022-12-01T17:18:07.174Z"
   },
   {
    "duration": 123,
    "start_time": "2022-12-01T17:18:07.181Z"
   },
   {
    "duration": 0,
    "start_time": "2022-12-01T17:18:07.305Z"
   },
   {
    "duration": 0,
    "start_time": "2022-12-01T17:18:07.306Z"
   },
   {
    "duration": 4,
    "start_time": "2022-12-01T17:18:31.220Z"
   },
   {
    "duration": 9,
    "start_time": "2022-12-01T17:18:32.914Z"
   },
   {
    "duration": 6,
    "start_time": "2022-12-01T17:19:07.658Z"
   },
   {
    "duration": 510,
    "start_time": "2022-12-01T17:19:09.114Z"
   },
   {
    "duration": 460,
    "start_time": "2022-12-01T17:19:19.961Z"
   },
   {
    "duration": 512,
    "start_time": "2022-12-01T17:20:00.184Z"
   },
   {
    "duration": 500,
    "start_time": "2022-12-01T17:20:06.777Z"
   },
   {
    "duration": 476,
    "start_time": "2022-12-01T17:20:17.231Z"
   },
   {
    "duration": 482,
    "start_time": "2022-12-01T17:20:20.595Z"
   },
   {
    "duration": 502,
    "start_time": "2022-12-01T17:20:23.467Z"
   },
   {
    "duration": 468,
    "start_time": "2022-12-01T17:20:25.714Z"
   },
   {
    "duration": 544,
    "start_time": "2022-12-01T17:20:28.643Z"
   },
   {
    "duration": 510,
    "start_time": "2022-12-01T17:20:35.438Z"
   },
   {
    "duration": 476,
    "start_time": "2022-12-01T17:21:12.837Z"
   },
   {
    "duration": 583,
    "start_time": "2022-12-01T17:21:14.779Z"
   },
   {
    "duration": 540,
    "start_time": "2022-12-01T17:21:16.465Z"
   },
   {
    "duration": 504,
    "start_time": "2022-12-01T17:21:34.617Z"
   },
   {
    "duration": 484,
    "start_time": "2022-12-01T17:21:35.859Z"
   },
   {
    "duration": 475,
    "start_time": "2022-12-01T17:21:37.958Z"
   },
   {
    "duration": 108,
    "start_time": "2022-12-01T17:22:05.148Z"
   },
   {
    "duration": 73,
    "start_time": "2022-12-01T17:22:28.671Z"
   },
   {
    "duration": 6,
    "start_time": "2022-12-01T17:22:36.244Z"
   },
   {
    "duration": 495,
    "start_time": "2022-12-01T17:22:44.719Z"
   },
   {
    "duration": 7,
    "start_time": "2022-12-01T17:22:58.928Z"
   },
   {
    "duration": 15,
    "start_time": "2022-12-01T17:23:01.355Z"
   },
   {
    "duration": 6,
    "start_time": "2022-12-01T17:23:30.086Z"
   },
   {
    "duration": 16,
    "start_time": "2022-12-01T17:23:31.646Z"
   },
   {
    "duration": 6,
    "start_time": "2022-12-01T17:23:45.750Z"
   },
   {
    "duration": 15,
    "start_time": "2022-12-01T17:23:47.562Z"
   },
   {
    "duration": 4,
    "start_time": "2022-12-01T17:24:19.206Z"
   },
   {
    "duration": 1631,
    "start_time": "2022-12-01T17:24:21.446Z"
   },
   {
    "duration": 6,
    "start_time": "2022-12-01T17:24:26.176Z"
   },
   {
    "duration": 4,
    "start_time": "2022-12-01T17:25:24.589Z"
   },
   {
    "duration": 1497,
    "start_time": "2022-12-01T17:25:26.639Z"
   },
   {
    "duration": 5,
    "start_time": "2022-12-01T17:25:30.198Z"
   },
   {
    "duration": 5,
    "start_time": "2022-12-01T17:25:33.545Z"
   },
   {
    "duration": 6,
    "start_time": "2022-12-01T17:25:35.239Z"
   },
   {
    "duration": 6,
    "start_time": "2022-12-01T17:25:37.288Z"
   },
   {
    "duration": 6,
    "start_time": "2022-12-01T17:25:44.235Z"
   },
   {
    "duration": 6,
    "start_time": "2022-12-01T17:26:13.375Z"
   },
   {
    "duration": 1691,
    "start_time": "2022-12-01T17:26:15.383Z"
   },
   {
    "duration": 6,
    "start_time": "2022-12-01T17:26:19.147Z"
   },
   {
    "duration": 8,
    "start_time": "2022-12-01T17:28:11.502Z"
   },
   {
    "duration": 20,
    "start_time": "2022-12-01T17:28:13.497Z"
   },
   {
    "duration": 5,
    "start_time": "2022-12-01T17:30:47.632Z"
   },
   {
    "duration": 1484,
    "start_time": "2022-12-01T17:30:49.402Z"
   },
   {
    "duration": 7,
    "start_time": "2022-12-01T17:30:52.573Z"
   },
   {
    "duration": 6,
    "start_time": "2022-12-01T17:31:44.197Z"
   },
   {
    "duration": 729,
    "start_time": "2022-12-01T17:31:45.947Z"
   },
   {
    "duration": 5,
    "start_time": "2022-12-01T17:32:06.295Z"
   },
   {
    "duration": 6,
    "start_time": "2022-12-01T17:32:38.981Z"
   },
   {
    "duration": 16,
    "start_time": "2022-12-01T17:32:40.648Z"
   },
   {
    "duration": 5,
    "start_time": "2022-12-01T17:32:55.790Z"
   },
   {
    "duration": 1452,
    "start_time": "2022-12-01T17:32:58.199Z"
   },
   {
    "duration": 1722,
    "start_time": "2022-12-01T17:33:58.643Z"
   },
   {
    "duration": 3,
    "start_time": "2022-12-01T17:34:00.368Z"
   },
   {
    "duration": 579,
    "start_time": "2022-12-01T17:34:00.373Z"
   },
   {
    "duration": 36,
    "start_time": "2022-12-01T17:34:00.955Z"
   },
   {
    "duration": 169,
    "start_time": "2022-12-01T17:34:00.993Z"
   },
   {
    "duration": 17,
    "start_time": "2022-12-01T17:34:01.164Z"
   },
   {
    "duration": 20,
    "start_time": "2022-12-01T17:34:01.183Z"
   },
   {
    "duration": 1426,
    "start_time": "2022-12-01T17:34:01.205Z"
   },
   {
    "duration": 7,
    "start_time": "2022-12-01T17:34:02.633Z"
   },
   {
    "duration": 52,
    "start_time": "2022-12-01T17:34:02.643Z"
   },
   {
    "duration": 55,
    "start_time": "2022-12-01T17:34:02.697Z"
   },
   {
    "duration": 46,
    "start_time": "2022-12-01T17:34:02.754Z"
   },
   {
    "duration": 25,
    "start_time": "2022-12-01T17:34:02.802Z"
   },
   {
    "duration": 53,
    "start_time": "2022-12-01T17:34:02.830Z"
   },
   {
    "duration": 42,
    "start_time": "2022-12-01T17:34:02.885Z"
   },
   {
    "duration": 13,
    "start_time": "2022-12-01T17:34:02.930Z"
   },
   {
    "duration": 85,
    "start_time": "2022-12-01T17:34:02.945Z"
   },
   {
    "duration": 94,
    "start_time": "2022-12-01T17:34:03.037Z"
   },
   {
    "duration": 96,
    "start_time": "2022-12-01T17:34:03.137Z"
   },
   {
    "duration": 25,
    "start_time": "2022-12-01T17:34:03.236Z"
   },
   {
    "duration": 8,
    "start_time": "2022-12-01T17:34:03.263Z"
   },
   {
    "duration": 10,
    "start_time": "2022-12-01T17:34:03.273Z"
   },
   {
    "duration": 15,
    "start_time": "2022-12-01T17:34:03.285Z"
   },
   {
    "duration": 27,
    "start_time": "2022-12-01T17:34:03.302Z"
   },
   {
    "duration": 13,
    "start_time": "2022-12-01T17:34:03.332Z"
   },
   {
    "duration": 22,
    "start_time": "2022-12-01T17:34:03.348Z"
   },
   {
    "duration": 16,
    "start_time": "2022-12-01T17:34:03.372Z"
   },
   {
    "duration": 11,
    "start_time": "2022-12-01T17:34:03.392Z"
   },
   {
    "duration": 8,
    "start_time": "2022-12-01T17:34:03.405Z"
   },
   {
    "duration": 6,
    "start_time": "2022-12-01T17:34:03.422Z"
   },
   {
    "duration": 18,
    "start_time": "2022-12-01T17:34:03.430Z"
   },
   {
    "duration": 11,
    "start_time": "2022-12-01T17:34:03.451Z"
   },
   {
    "duration": 5,
    "start_time": "2022-12-01T17:34:03.464Z"
   },
   {
    "duration": 12,
    "start_time": "2022-12-01T17:34:03.471Z"
   },
   {
    "duration": 2164,
    "start_time": "2022-12-01T17:34:03.485Z"
   },
   {
    "duration": 8,
    "start_time": "2022-12-01T17:34:05.651Z"
   },
   {
    "duration": 7,
    "start_time": "2022-12-01T17:34:21.949Z"
   },
   {
    "duration": 1960,
    "start_time": "2022-12-01T17:34:24.940Z"
   },
   {
    "duration": 6,
    "start_time": "2022-12-01T17:34:31.192Z"
   },
   {
    "duration": 5,
    "start_time": "2022-12-01T17:34:36.463Z"
   },
   {
    "duration": 1404,
    "start_time": "2022-12-01T17:34:38.579Z"
   },
   {
    "duration": 5,
    "start_time": "2022-12-01T17:34:42.608Z"
   },
   {
    "duration": 7,
    "start_time": "2022-12-01T17:34:46.182Z"
   },
   {
    "duration": 1720,
    "start_time": "2022-12-01T17:34:48.218Z"
   },
   {
    "duration": 6,
    "start_time": "2022-12-01T17:34:51.922Z"
   },
   {
    "duration": 1408,
    "start_time": "2022-12-01T17:35:18.736Z"
   },
   {
    "duration": 3,
    "start_time": "2022-12-01T17:35:20.146Z"
   },
   {
    "duration": 422,
    "start_time": "2022-12-01T17:35:20.151Z"
   },
   {
    "duration": 45,
    "start_time": "2022-12-01T17:35:20.576Z"
   },
   {
    "duration": 185,
    "start_time": "2022-12-01T17:35:20.624Z"
   },
   {
    "duration": 26,
    "start_time": "2022-12-01T17:35:20.810Z"
   },
   {
    "duration": 11,
    "start_time": "2022-12-01T17:35:20.838Z"
   },
   {
    "duration": 1112,
    "start_time": "2022-12-01T17:35:20.851Z"
   },
   {
    "duration": 5,
    "start_time": "2022-12-01T17:35:21.964Z"
   },
   {
    "duration": 51,
    "start_time": "2022-12-01T17:35:21.971Z"
   },
   {
    "duration": 29,
    "start_time": "2022-12-01T17:35:22.024Z"
   },
   {
    "duration": 66,
    "start_time": "2022-12-01T17:35:22.055Z"
   },
   {
    "duration": 11,
    "start_time": "2022-12-01T17:35:22.123Z"
   },
   {
    "duration": 38,
    "start_time": "2022-12-01T17:35:22.138Z"
   },
   {
    "duration": 42,
    "start_time": "2022-12-01T17:35:22.179Z"
   },
   {
    "duration": 15,
    "start_time": "2022-12-01T17:35:22.228Z"
   },
   {
    "duration": 21,
    "start_time": "2022-12-01T17:35:22.321Z"
   },
   {
    "duration": 16,
    "start_time": "2022-12-01T17:35:22.422Z"
   },
   {
    "duration": 89,
    "start_time": "2022-12-01T17:35:22.440Z"
   },
   {
    "duration": 14,
    "start_time": "2022-12-01T17:35:22.532Z"
   },
   {
    "duration": 6,
    "start_time": "2022-12-01T17:35:22.548Z"
   },
   {
    "duration": 20,
    "start_time": "2022-12-01T17:35:22.556Z"
   },
   {
    "duration": 28,
    "start_time": "2022-12-01T17:35:22.578Z"
   },
   {
    "duration": 24,
    "start_time": "2022-12-01T17:35:22.608Z"
   },
   {
    "duration": 13,
    "start_time": "2022-12-01T17:35:22.634Z"
   },
   {
    "duration": 10,
    "start_time": "2022-12-01T17:35:22.649Z"
   },
   {
    "duration": 4,
    "start_time": "2022-12-01T17:35:22.660Z"
   },
   {
    "duration": 8,
    "start_time": "2022-12-01T17:35:22.666Z"
   },
   {
    "duration": 13,
    "start_time": "2022-12-01T17:35:22.676Z"
   },
   {
    "duration": 32,
    "start_time": "2022-12-01T17:35:22.691Z"
   },
   {
    "duration": 7,
    "start_time": "2022-12-01T17:35:22.725Z"
   },
   {
    "duration": 9,
    "start_time": "2022-12-01T17:35:22.734Z"
   },
   {
    "duration": 3,
    "start_time": "2022-12-01T17:35:22.745Z"
   },
   {
    "duration": 8,
    "start_time": "2022-12-01T17:35:22.750Z"
   },
   {
    "duration": 1547,
    "start_time": "2022-12-01T17:35:22.760Z"
   },
   {
    "duration": 6,
    "start_time": "2022-12-01T17:35:24.308Z"
   },
   {
    "duration": 8,
    "start_time": "2022-12-01T17:37:09.726Z"
   },
   {
    "duration": 51,
    "start_time": "2022-12-01T17:43:10.875Z"
   },
   {
    "duration": 7,
    "start_time": "2022-12-01T17:43:18.236Z"
   },
   {
    "duration": 7,
    "start_time": "2022-12-01T17:44:12.550Z"
   },
   {
    "duration": 703,
    "start_time": "2022-12-01T17:45:32.191Z"
   },
   {
    "duration": 8,
    "start_time": "2022-12-01T17:45:35.066Z"
   },
   {
    "duration": 645,
    "start_time": "2022-12-01T17:45:36.757Z"
   },
   {
    "duration": 1500,
    "start_time": "2022-12-01T17:45:51.956Z"
   },
   {
    "duration": 3,
    "start_time": "2022-12-01T17:45:53.459Z"
   },
   {
    "duration": 565,
    "start_time": "2022-12-01T17:45:53.466Z"
   },
   {
    "duration": 58,
    "start_time": "2022-12-01T17:45:54.035Z"
   },
   {
    "duration": 236,
    "start_time": "2022-12-01T17:45:54.095Z"
   },
   {
    "duration": 23,
    "start_time": "2022-12-01T17:45:54.334Z"
   },
   {
    "duration": 13,
    "start_time": "2022-12-01T17:45:54.360Z"
   },
   {
    "duration": 1409,
    "start_time": "2022-12-01T17:45:54.376Z"
   },
   {
    "duration": 5,
    "start_time": "2022-12-01T17:45:55.788Z"
   },
   {
    "duration": 49,
    "start_time": "2022-12-01T17:45:55.796Z"
   },
   {
    "duration": 39,
    "start_time": "2022-12-01T17:45:55.847Z"
   },
   {
    "duration": 64,
    "start_time": "2022-12-01T17:45:55.888Z"
   },
   {
    "duration": 11,
    "start_time": "2022-12-01T17:45:55.954Z"
   },
   {
    "duration": 54,
    "start_time": "2022-12-01T17:45:55.967Z"
   },
   {
    "duration": 103,
    "start_time": "2022-12-01T17:45:56.023Z"
   },
   {
    "duration": 105,
    "start_time": "2022-12-01T17:45:56.132Z"
   },
   {
    "duration": 202,
    "start_time": "2022-12-01T17:45:56.242Z"
   },
   {
    "duration": 75,
    "start_time": "2022-12-01T17:45:56.446Z"
   },
   {
    "duration": 116,
    "start_time": "2022-12-01T17:45:56.524Z"
   },
   {
    "duration": 13,
    "start_time": "2022-12-01T17:45:56.641Z"
   },
   {
    "duration": 15,
    "start_time": "2022-12-01T17:45:56.656Z"
   },
   {
    "duration": 12,
    "start_time": "2022-12-01T17:45:56.673Z"
   },
   {
    "duration": 15,
    "start_time": "2022-12-01T17:45:56.687Z"
   },
   {
    "duration": 30,
    "start_time": "2022-12-01T17:45:56.704Z"
   },
   {
    "duration": 15,
    "start_time": "2022-12-01T17:45:56.736Z"
   },
   {
    "duration": 13,
    "start_time": "2022-12-01T17:45:56.753Z"
   },
   {
    "duration": 9,
    "start_time": "2022-12-01T17:45:56.768Z"
   },
   {
    "duration": 14,
    "start_time": "2022-12-01T17:45:56.781Z"
   },
   {
    "duration": 24,
    "start_time": "2022-12-01T17:45:56.797Z"
   },
   {
    "duration": 16,
    "start_time": "2022-12-01T17:45:56.824Z"
   },
   {
    "duration": 8,
    "start_time": "2022-12-01T17:45:56.842Z"
   },
   {
    "duration": 15,
    "start_time": "2022-12-01T17:45:56.852Z"
   },
   {
    "duration": 6,
    "start_time": "2022-12-01T17:45:56.871Z"
   },
   {
    "duration": 24,
    "start_time": "2022-12-01T17:45:56.878Z"
   },
   {
    "duration": 746,
    "start_time": "2022-12-01T17:45:56.904Z"
   },
   {
    "duration": 0,
    "start_time": "2022-12-01T17:45:57.652Z"
   },
   {
    "duration": 774,
    "start_time": "2022-12-01T17:46:15.359Z"
   },
   {
    "duration": 1777,
    "start_time": "2022-12-01T17:46:29.734Z"
   },
   {
    "duration": 3,
    "start_time": "2022-12-01T17:46:31.513Z"
   },
   {
    "duration": 552,
    "start_time": "2022-12-01T17:46:31.518Z"
   },
   {
    "duration": 62,
    "start_time": "2022-12-01T17:46:32.073Z"
   },
   {
    "duration": 216,
    "start_time": "2022-12-01T17:46:32.137Z"
   },
   {
    "duration": 21,
    "start_time": "2022-12-01T17:46:32.355Z"
   },
   {
    "duration": 24,
    "start_time": "2022-12-01T17:46:32.378Z"
   },
   {
    "duration": 1209,
    "start_time": "2022-12-01T17:46:32.404Z"
   },
   {
    "duration": 7,
    "start_time": "2022-12-01T17:46:33.615Z"
   },
   {
    "duration": 71,
    "start_time": "2022-12-01T17:46:33.626Z"
   },
   {
    "duration": 38,
    "start_time": "2022-12-01T17:46:33.699Z"
   },
   {
    "duration": 57,
    "start_time": "2022-12-01T17:46:33.739Z"
   },
   {
    "duration": 13,
    "start_time": "2022-12-01T17:46:33.798Z"
   },
   {
    "duration": 55,
    "start_time": "2022-12-01T17:46:33.813Z"
   },
   {
    "duration": 65,
    "start_time": "2022-12-01T17:46:33.871Z"
   },
   {
    "duration": 96,
    "start_time": "2022-12-01T17:46:33.939Z"
   },
   {
    "duration": 193,
    "start_time": "2022-12-01T17:46:34.038Z"
   },
   {
    "duration": 218,
    "start_time": "2022-12-01T17:46:34.233Z"
   },
   {
    "duration": 18,
    "start_time": "2022-12-01T17:46:34.453Z"
   },
   {
    "duration": 32,
    "start_time": "2022-12-01T17:46:34.472Z"
   },
   {
    "duration": 13,
    "start_time": "2022-12-01T17:46:34.506Z"
   },
   {
    "duration": 12,
    "start_time": "2022-12-01T17:46:34.521Z"
   },
   {
    "duration": 16,
    "start_time": "2022-12-01T17:46:34.535Z"
   },
   {
    "duration": 45,
    "start_time": "2022-12-01T17:46:34.553Z"
   },
   {
    "duration": 21,
    "start_time": "2022-12-01T17:46:34.599Z"
   },
   {
    "duration": 17,
    "start_time": "2022-12-01T17:46:34.622Z"
   },
   {
    "duration": 25,
    "start_time": "2022-12-01T17:46:34.641Z"
   },
   {
    "duration": 12,
    "start_time": "2022-12-01T17:46:34.671Z"
   },
   {
    "duration": 13,
    "start_time": "2022-12-01T17:46:34.685Z"
   },
   {
    "duration": 10,
    "start_time": "2022-12-01T17:46:34.700Z"
   },
   {
    "duration": 8,
    "start_time": "2022-12-01T17:46:34.713Z"
   },
   {
    "duration": 28,
    "start_time": "2022-12-01T17:46:34.723Z"
   },
   {
    "duration": 15,
    "start_time": "2022-12-01T17:46:34.753Z"
   },
   {
    "duration": 61,
    "start_time": "2022-12-01T17:46:34.770Z"
   },
   {
    "duration": 810,
    "start_time": "2022-12-01T17:46:34.833Z"
   },
   {
    "duration": 0,
    "start_time": "2022-12-01T17:46:35.645Z"
   },
   {
    "duration": 1472,
    "start_time": "2022-12-01T17:46:42.545Z"
   },
   {
    "duration": 3,
    "start_time": "2022-12-01T17:46:44.020Z"
   },
   {
    "duration": 468,
    "start_time": "2022-12-01T17:46:44.025Z"
   },
   {
    "duration": 43,
    "start_time": "2022-12-01T17:46:44.496Z"
   },
   {
    "duration": 210,
    "start_time": "2022-12-01T17:46:44.541Z"
   },
   {
    "duration": 22,
    "start_time": "2022-12-01T17:46:44.753Z"
   },
   {
    "duration": 27,
    "start_time": "2022-12-01T17:46:44.777Z"
   },
   {
    "duration": 1403,
    "start_time": "2022-12-01T17:46:44.805Z"
   },
   {
    "duration": 5,
    "start_time": "2022-12-01T17:46:46.210Z"
   },
   {
    "duration": 47,
    "start_time": "2022-12-01T17:46:46.223Z"
   },
   {
    "duration": 31,
    "start_time": "2022-12-01T17:46:46.272Z"
   },
   {
    "duration": 45,
    "start_time": "2022-12-01T17:46:46.321Z"
   },
   {
    "duration": 11,
    "start_time": "2022-12-01T17:46:46.368Z"
   },
   {
    "duration": 44,
    "start_time": "2022-12-01T17:46:46.381Z"
   },
   {
    "duration": 197,
    "start_time": "2022-12-01T17:46:46.427Z"
   },
   {
    "duration": 13,
    "start_time": "2022-12-01T17:46:46.631Z"
   },
   {
    "duration": 100,
    "start_time": "2022-12-01T17:46:46.646Z"
   },
   {
    "duration": 93,
    "start_time": "2022-12-01T17:46:46.748Z"
   },
   {
    "duration": 90,
    "start_time": "2022-12-01T17:46:46.845Z"
   },
   {
    "duration": 12,
    "start_time": "2022-12-01T17:46:46.938Z"
   },
   {
    "duration": 12,
    "start_time": "2022-12-01T17:46:46.953Z"
   },
   {
    "duration": 14,
    "start_time": "2022-12-01T17:46:46.967Z"
   },
   {
    "duration": 17,
    "start_time": "2022-12-01T17:46:46.983Z"
   },
   {
    "duration": 28,
    "start_time": "2022-12-01T17:46:47.001Z"
   },
   {
    "duration": 17,
    "start_time": "2022-12-01T17:46:47.031Z"
   },
   {
    "duration": 23,
    "start_time": "2022-12-01T17:46:47.049Z"
   },
   {
    "duration": 36,
    "start_time": "2022-12-01T17:46:47.074Z"
   },
   {
    "duration": 22,
    "start_time": "2022-12-01T17:46:47.114Z"
   },
   {
    "duration": 12,
    "start_time": "2022-12-01T17:46:47.138Z"
   },
   {
    "duration": 20,
    "start_time": "2022-12-01T17:46:47.154Z"
   },
   {
    "duration": 6,
    "start_time": "2022-12-01T17:46:47.178Z"
   },
   {
    "duration": 17,
    "start_time": "2022-12-01T17:46:47.187Z"
   },
   {
    "duration": 25,
    "start_time": "2022-12-01T17:46:47.207Z"
   },
   {
    "duration": 57,
    "start_time": "2022-12-01T17:46:47.236Z"
   },
   {
    "duration": 2007,
    "start_time": "2022-12-01T17:46:47.296Z"
   },
   {
    "duration": 168,
    "start_time": "2022-12-01T17:46:49.305Z"
   },
   {
    "duration": 1777,
    "start_time": "2022-12-01T17:48:00.315Z"
   },
   {
    "duration": 9,
    "start_time": "2022-12-01T17:48:02.097Z"
   },
   {
    "duration": 576,
    "start_time": "2022-12-01T17:48:02.113Z"
   },
   {
    "duration": 63,
    "start_time": "2022-12-01T17:48:02.692Z"
   },
   {
    "duration": 216,
    "start_time": "2022-12-01T17:48:02.758Z"
   },
   {
    "duration": 22,
    "start_time": "2022-12-01T17:48:02.977Z"
   },
   {
    "duration": 28,
    "start_time": "2022-12-01T17:48:03.001Z"
   },
   {
    "duration": 1342,
    "start_time": "2022-12-01T17:48:03.031Z"
   },
   {
    "duration": 6,
    "start_time": "2022-12-01T17:48:04.376Z"
   },
   {
    "duration": 96,
    "start_time": "2022-12-01T17:48:04.386Z"
   },
   {
    "duration": 37,
    "start_time": "2022-12-01T17:48:04.484Z"
   },
   {
    "duration": 56,
    "start_time": "2022-12-01T17:48:04.522Z"
   },
   {
    "duration": 28,
    "start_time": "2022-12-01T17:48:04.582Z"
   },
   {
    "duration": 67,
    "start_time": "2022-12-01T17:48:04.612Z"
   },
   {
    "duration": 42,
    "start_time": "2022-12-01T17:48:04.681Z"
   },
   {
    "duration": 108,
    "start_time": "2022-12-01T17:48:04.725Z"
   },
   {
    "duration": 203,
    "start_time": "2022-12-01T17:48:04.835Z"
   },
   {
    "duration": 189,
    "start_time": "2022-12-01T17:48:05.042Z"
   },
   {
    "duration": 49,
    "start_time": "2022-12-01T17:48:05.235Z"
   },
   {
    "duration": 39,
    "start_time": "2022-12-01T17:48:05.289Z"
   },
   {
    "duration": 18,
    "start_time": "2022-12-01T17:48:05.330Z"
   },
   {
    "duration": 33,
    "start_time": "2022-12-01T17:48:05.350Z"
   },
   {
    "duration": 40,
    "start_time": "2022-12-01T17:48:05.387Z"
   },
   {
    "duration": 28,
    "start_time": "2022-12-01T17:48:05.430Z"
   },
   {
    "duration": 45,
    "start_time": "2022-12-01T17:48:05.460Z"
   },
   {
    "duration": 30,
    "start_time": "2022-12-01T17:48:05.508Z"
   },
   {
    "duration": 14,
    "start_time": "2022-12-01T17:48:05.541Z"
   },
   {
    "duration": 29,
    "start_time": "2022-12-01T17:48:05.559Z"
   },
   {
    "duration": 20,
    "start_time": "2022-12-01T17:48:05.590Z"
   },
   {
    "duration": 24,
    "start_time": "2022-12-01T17:48:05.612Z"
   },
   {
    "duration": 50,
    "start_time": "2022-12-01T17:48:05.637Z"
   },
   {
    "duration": 28,
    "start_time": "2022-12-01T17:48:05.690Z"
   },
   {
    "duration": 14,
    "start_time": "2022-12-01T17:48:05.721Z"
   },
   {
    "duration": 16,
    "start_time": "2022-12-01T17:48:05.737Z"
   },
   {
    "duration": 2259,
    "start_time": "2022-12-01T17:48:05.758Z"
   },
   {
    "duration": 181,
    "start_time": "2022-12-01T17:48:08.019Z"
   },
   {
    "duration": 4,
    "start_time": "2022-12-01T17:53:33.165Z"
   },
   {
    "duration": 3,
    "start_time": "2022-12-01T17:54:13.735Z"
   },
   {
    "duration": 1351,
    "start_time": "2022-12-01T18:07:57.879Z"
   },
   {
    "duration": 3,
    "start_time": "2022-12-01T18:07:59.232Z"
   },
   {
    "duration": 373,
    "start_time": "2022-12-01T18:07:59.237Z"
   },
   {
    "duration": 49,
    "start_time": "2022-12-01T18:07:59.612Z"
   },
   {
    "duration": 170,
    "start_time": "2022-12-01T18:07:59.664Z"
   },
   {
    "duration": 14,
    "start_time": "2022-12-01T18:07:59.836Z"
   },
   {
    "duration": 11,
    "start_time": "2022-12-01T18:07:59.852Z"
   },
   {
    "duration": 1188,
    "start_time": "2022-12-01T18:07:59.865Z"
   },
   {
    "duration": 6,
    "start_time": "2022-12-01T18:08:01.055Z"
   },
   {
    "duration": 96,
    "start_time": "2022-12-01T18:08:01.064Z"
   },
   {
    "duration": 39,
    "start_time": "2022-12-01T18:08:01.162Z"
   },
   {
    "duration": 62,
    "start_time": "2022-12-01T18:08:01.204Z"
   },
   {
    "duration": 21,
    "start_time": "2022-12-01T18:08:01.269Z"
   },
   {
    "duration": 67,
    "start_time": "2022-12-01T18:08:01.293Z"
   },
   {
    "duration": 63,
    "start_time": "2022-12-01T18:08:01.362Z"
   },
   {
    "duration": 123,
    "start_time": "2022-12-01T18:08:01.427Z"
   },
   {
    "duration": 171,
    "start_time": "2022-12-01T18:08:01.552Z"
   },
   {
    "duration": 208,
    "start_time": "2022-12-01T18:08:01.725Z"
   },
   {
    "duration": 15,
    "start_time": "2022-12-01T18:08:01.936Z"
   },
   {
    "duration": 28,
    "start_time": "2022-12-01T18:08:01.952Z"
   },
   {
    "duration": 42,
    "start_time": "2022-12-01T18:08:01.983Z"
   },
   {
    "duration": 56,
    "start_time": "2022-12-01T18:08:02.028Z"
   },
   {
    "duration": 12,
    "start_time": "2022-12-01T18:08:02.086Z"
   },
   {
    "duration": 17,
    "start_time": "2022-12-01T18:08:02.100Z"
   },
   {
    "duration": 13,
    "start_time": "2022-12-01T18:08:02.118Z"
   },
   {
    "duration": 13,
    "start_time": "2022-12-01T18:08:02.133Z"
   },
   {
    "duration": 14,
    "start_time": "2022-12-01T18:08:02.148Z"
   },
   {
    "duration": 20,
    "start_time": "2022-12-01T18:08:02.166Z"
   },
   {
    "duration": 14,
    "start_time": "2022-12-01T18:08:02.188Z"
   },
   {
    "duration": 11,
    "start_time": "2022-12-01T18:08:02.204Z"
   },
   {
    "duration": 9,
    "start_time": "2022-12-01T18:08:02.217Z"
   },
   {
    "duration": 163,
    "start_time": "2022-12-01T18:08:02.228Z"
   },
   {
    "duration": 0,
    "start_time": "2022-12-01T18:08:02.393Z"
   },
   {
    "duration": 0,
    "start_time": "2022-12-01T18:08:02.395Z"
   },
   {
    "duration": 0,
    "start_time": "2022-12-01T18:08:02.396Z"
   },
   {
    "duration": 0,
    "start_time": "2022-12-01T18:08:02.397Z"
   },
   {
    "duration": 0,
    "start_time": "2022-12-01T18:08:02.398Z"
   },
   {
    "duration": 0,
    "start_time": "2022-12-01T18:08:02.399Z"
   },
   {
    "duration": 0,
    "start_time": "2022-12-01T18:08:02.400Z"
   },
   {
    "duration": 1521,
    "start_time": "2022-12-01T18:09:55.278Z"
   },
   {
    "duration": 2,
    "start_time": "2022-12-01T18:09:56.802Z"
   },
   {
    "duration": 395,
    "start_time": "2022-12-01T18:09:56.806Z"
   },
   {
    "duration": 45,
    "start_time": "2022-12-01T18:09:57.203Z"
   },
   {
    "duration": 137,
    "start_time": "2022-12-01T18:09:57.249Z"
   },
   {
    "duration": 13,
    "start_time": "2022-12-01T18:09:57.388Z"
   },
   {
    "duration": 23,
    "start_time": "2022-12-01T18:09:57.403Z"
   },
   {
    "duration": 1067,
    "start_time": "2022-12-01T18:09:57.428Z"
   },
   {
    "duration": 5,
    "start_time": "2022-12-01T18:09:58.497Z"
   },
   {
    "duration": 39,
    "start_time": "2022-12-01T18:09:58.520Z"
   },
   {
    "duration": 35,
    "start_time": "2022-12-01T18:09:58.560Z"
   },
   {
    "duration": 55,
    "start_time": "2022-12-01T18:09:58.597Z"
   },
   {
    "duration": 9,
    "start_time": "2022-12-01T18:09:58.654Z"
   },
   {
    "duration": 31,
    "start_time": "2022-12-01T18:09:58.665Z"
   },
   {
    "duration": 35,
    "start_time": "2022-12-01T18:09:58.697Z"
   },
   {
    "duration": 13,
    "start_time": "2022-12-01T18:09:58.734Z"
   },
   {
    "duration": 110,
    "start_time": "2022-12-01T18:09:58.826Z"
   },
   {
    "duration": 190,
    "start_time": "2022-12-01T18:09:58.941Z"
   },
   {
    "duration": 11,
    "start_time": "2022-12-01T18:09:59.133Z"
   },
   {
    "duration": 10,
    "start_time": "2022-12-01T18:09:59.146Z"
   },
   {
    "duration": 6,
    "start_time": "2022-12-01T18:09:59.157Z"
   },
   {
    "duration": 5,
    "start_time": "2022-12-01T18:09:59.165Z"
   },
   {
    "duration": 11,
    "start_time": "2022-12-01T18:09:59.172Z"
   },
   {
    "duration": 55,
    "start_time": "2022-12-01T18:09:59.186Z"
   },
   {
    "duration": 15,
    "start_time": "2022-12-01T18:09:59.243Z"
   },
   {
    "duration": 12,
    "start_time": "2022-12-01T18:09:59.260Z"
   },
   {
    "duration": 4,
    "start_time": "2022-12-01T18:09:59.273Z"
   },
   {
    "duration": 15,
    "start_time": "2022-12-01T18:09:59.281Z"
   },
   {
    "duration": 15,
    "start_time": "2022-12-01T18:09:59.298Z"
   },
   {
    "duration": 11,
    "start_time": "2022-12-01T18:09:59.322Z"
   },
   {
    "duration": 11,
    "start_time": "2022-12-01T18:09:59.335Z"
   },
   {
    "duration": 13,
    "start_time": "2022-12-01T18:09:59.348Z"
   },
   {
    "duration": 11,
    "start_time": "2022-12-01T18:09:59.363Z"
   },
   {
    "duration": 23,
    "start_time": "2022-12-01T18:09:59.375Z"
   },
   {
    "duration": 1453,
    "start_time": "2022-12-01T18:09:59.400Z"
   },
   {
    "duration": 4,
    "start_time": "2022-12-01T18:10:00.855Z"
   },
   {
    "duration": 37,
    "start_time": "2022-12-01T18:10:00.861Z"
   },
   {
    "duration": 194,
    "start_time": "2022-12-01T18:10:00.900Z"
   },
   {
    "duration": 8,
    "start_time": "2022-12-01T18:12:31.274Z"
   },
   {
    "duration": 5,
    "start_time": "2022-12-01T18:12:40.213Z"
   },
   {
    "duration": 4,
    "start_time": "2022-12-01T18:12:42.032Z"
   },
   {
    "duration": 6,
    "start_time": "2022-12-01T18:13:01.737Z"
   },
   {
    "duration": 1507,
    "start_time": "2022-12-01T18:14:01.612Z"
   },
   {
    "duration": 2,
    "start_time": "2022-12-01T18:14:03.122Z"
   },
   {
    "duration": 551,
    "start_time": "2022-12-01T18:14:03.126Z"
   },
   {
    "duration": 63,
    "start_time": "2022-12-01T18:14:03.679Z"
   },
   {
    "duration": 186,
    "start_time": "2022-12-01T18:14:03.744Z"
   },
   {
    "duration": 18,
    "start_time": "2022-12-01T18:14:03.932Z"
   },
   {
    "duration": 25,
    "start_time": "2022-12-01T18:14:03.952Z"
   },
   {
    "duration": 1304,
    "start_time": "2022-12-01T18:14:03.980Z"
   },
   {
    "duration": 5,
    "start_time": "2022-12-01T18:14:05.286Z"
   },
   {
    "duration": 67,
    "start_time": "2022-12-01T18:14:05.295Z"
   },
   {
    "duration": 45,
    "start_time": "2022-12-01T18:14:05.364Z"
   },
   {
    "duration": 46,
    "start_time": "2022-12-01T18:14:05.411Z"
   },
   {
    "duration": 12,
    "start_time": "2022-12-01T18:14:05.459Z"
   },
   {
    "duration": 63,
    "start_time": "2022-12-01T18:14:05.474Z"
   },
   {
    "duration": 43,
    "start_time": "2022-12-01T18:14:05.541Z"
   },
   {
    "duration": 136,
    "start_time": "2022-12-01T18:14:05.587Z"
   },
   {
    "duration": 101,
    "start_time": "2022-12-01T18:14:05.725Z"
   },
   {
    "duration": 148,
    "start_time": "2022-12-01T18:14:05.827Z"
   },
   {
    "duration": 57,
    "start_time": "2022-12-01T18:14:05.978Z"
   },
   {
    "duration": 50,
    "start_time": "2022-12-01T18:14:06.037Z"
   },
   {
    "duration": 8,
    "start_time": "2022-12-01T18:14:06.089Z"
   },
   {
    "duration": 18,
    "start_time": "2022-12-01T18:14:06.099Z"
   },
   {
    "duration": 20,
    "start_time": "2022-12-01T18:14:06.119Z"
   },
   {
    "duration": 17,
    "start_time": "2022-12-01T18:14:06.141Z"
   },
   {
    "duration": 13,
    "start_time": "2022-12-01T18:14:06.160Z"
   },
   {
    "duration": 14,
    "start_time": "2022-12-01T18:14:06.175Z"
   },
   {
    "duration": 5,
    "start_time": "2022-12-01T18:14:06.190Z"
   },
   {
    "duration": 23,
    "start_time": "2022-12-01T18:14:06.199Z"
   },
   {
    "duration": 6,
    "start_time": "2022-12-01T18:14:06.224Z"
   },
   {
    "duration": 16,
    "start_time": "2022-12-01T18:14:06.233Z"
   },
   {
    "duration": 9,
    "start_time": "2022-12-01T18:14:06.251Z"
   },
   {
    "duration": 11,
    "start_time": "2022-12-01T18:14:06.262Z"
   },
   {
    "duration": 5,
    "start_time": "2022-12-01T18:14:06.275Z"
   },
   {
    "duration": 9,
    "start_time": "2022-12-01T18:14:06.283Z"
   },
   {
    "duration": 1725,
    "start_time": "2022-12-01T18:14:06.294Z"
   },
   {
    "duration": 4,
    "start_time": "2022-12-01T18:14:08.021Z"
   },
   {
    "duration": 34,
    "start_time": "2022-12-01T18:14:08.035Z"
   },
   {
    "duration": 34,
    "start_time": "2022-12-01T18:14:08.073Z"
   },
   {
    "duration": 20,
    "start_time": "2022-12-01T18:14:08.108Z"
   },
   {
    "duration": 113,
    "start_time": "2022-12-01T18:14:08.130Z"
   },
   {
    "duration": 52,
    "start_time": "2022-12-01T18:15:34.389Z"
   },
   {
    "duration": 13,
    "start_time": "2022-12-01T18:15:41.903Z"
   },
   {
    "duration": 14,
    "start_time": "2022-12-01T18:15:55.666Z"
   },
   {
    "duration": 14,
    "start_time": "2022-12-01T18:16:11.523Z"
   },
   {
    "duration": 12,
    "start_time": "2022-12-01T18:16:21.757Z"
   },
   {
    "duration": 59,
    "start_time": "2022-12-01T18:17:00.362Z"
   },
   {
    "duration": 5,
    "start_time": "2022-12-01T18:17:03.464Z"
   },
   {
    "duration": 5,
    "start_time": "2022-12-01T18:17:17.054Z"
   },
   {
    "duration": 1361,
    "start_time": "2022-12-01T18:20:12.566Z"
   },
   {
    "duration": 3,
    "start_time": "2022-12-01T18:20:13.929Z"
   },
   {
    "duration": 404,
    "start_time": "2022-12-01T18:20:13.934Z"
   },
   {
    "duration": 40,
    "start_time": "2022-12-01T18:20:14.340Z"
   },
   {
    "duration": 156,
    "start_time": "2022-12-01T18:20:14.382Z"
   },
   {
    "duration": 15,
    "start_time": "2022-12-01T18:20:14.540Z"
   },
   {
    "duration": 21,
    "start_time": "2022-12-01T18:20:14.558Z"
   },
   {
    "duration": 1093,
    "start_time": "2022-12-01T18:20:14.580Z"
   },
   {
    "duration": 4,
    "start_time": "2022-12-01T18:20:15.676Z"
   },
   {
    "duration": 48,
    "start_time": "2022-12-01T18:20:15.683Z"
   },
   {
    "duration": 31,
    "start_time": "2022-12-01T18:20:15.732Z"
   },
   {
    "duration": 33,
    "start_time": "2022-12-01T18:20:15.765Z"
   },
   {
    "duration": 26,
    "start_time": "2022-12-01T18:20:15.800Z"
   },
   {
    "duration": 43,
    "start_time": "2022-12-01T18:20:15.828Z"
   },
   {
    "duration": 52,
    "start_time": "2022-12-01T18:20:15.873Z"
   },
   {
    "duration": 102,
    "start_time": "2022-12-01T18:20:15.927Z"
   },
   {
    "duration": 98,
    "start_time": "2022-12-01T18:20:16.031Z"
   },
   {
    "duration": 193,
    "start_time": "2022-12-01T18:20:16.132Z"
   },
   {
    "duration": 17,
    "start_time": "2022-12-01T18:20:16.327Z"
   },
   {
    "duration": 12,
    "start_time": "2022-12-01T18:20:16.347Z"
   },
   {
    "duration": 7,
    "start_time": "2022-12-01T18:20:16.361Z"
   },
   {
    "duration": 10,
    "start_time": "2022-12-01T18:20:16.369Z"
   },
   {
    "duration": 10,
    "start_time": "2022-12-01T18:20:16.381Z"
   },
   {
    "duration": 45,
    "start_time": "2022-12-01T18:20:16.393Z"
   },
   {
    "duration": 14,
    "start_time": "2022-12-01T18:20:16.440Z"
   },
   {
    "duration": 13,
    "start_time": "2022-12-01T18:20:16.456Z"
   },
   {
    "duration": 13,
    "start_time": "2022-12-01T18:20:16.470Z"
   },
   {
    "duration": 10,
    "start_time": "2022-12-01T18:20:16.486Z"
   },
   {
    "duration": 6,
    "start_time": "2022-12-01T18:20:16.498Z"
   },
   {
    "duration": 16,
    "start_time": "2022-12-01T18:20:16.506Z"
   },
   {
    "duration": 13,
    "start_time": "2022-12-01T18:20:16.524Z"
   },
   {
    "duration": 10,
    "start_time": "2022-12-01T18:20:16.538Z"
   },
   {
    "duration": 13,
    "start_time": "2022-12-01T18:20:16.550Z"
   },
   {
    "duration": 12,
    "start_time": "2022-12-01T18:20:16.565Z"
   },
   {
    "duration": 1501,
    "start_time": "2022-12-01T18:20:16.579Z"
   },
   {
    "duration": 3,
    "start_time": "2022-12-01T18:20:18.082Z"
   },
   {
    "duration": 170,
    "start_time": "2022-12-01T18:20:18.087Z"
   },
   {
    "duration": 4,
    "start_time": "2022-12-01T18:20:18.259Z"
   },
   {
    "duration": 119,
    "start_time": "2022-12-01T18:20:57.653Z"
   },
   {
    "duration": 152,
    "start_time": "2022-12-01T18:21:17.690Z"
   },
   {
    "duration": 9,
    "start_time": "2022-12-01T18:24:52.316Z"
   },
   {
    "duration": 1509,
    "start_time": "2022-12-01T18:29:57.608Z"
   },
   {
    "duration": 3,
    "start_time": "2022-12-01T18:29:59.121Z"
   },
   {
    "duration": 510,
    "start_time": "2022-12-01T18:29:59.126Z"
   },
   {
    "duration": 37,
    "start_time": "2022-12-01T18:29:59.638Z"
   },
   {
    "duration": 152,
    "start_time": "2022-12-01T18:29:59.677Z"
   },
   {
    "duration": 16,
    "start_time": "2022-12-01T18:29:59.830Z"
   },
   {
    "duration": 15,
    "start_time": "2022-12-01T18:29:59.847Z"
   },
   {
    "duration": 1249,
    "start_time": "2022-12-01T18:29:59.864Z"
   },
   {
    "duration": 5,
    "start_time": "2022-12-01T18:30:01.121Z"
   },
   {
    "duration": 142,
    "start_time": "2022-12-01T18:30:01.130Z"
   },
   {
    "duration": 57,
    "start_time": "2022-12-01T18:30:01.274Z"
   },
   {
    "duration": 45,
    "start_time": "2022-12-01T18:30:01.333Z"
   },
   {
    "duration": 19,
    "start_time": "2022-12-01T18:30:01.380Z"
   },
   {
    "duration": 68,
    "start_time": "2022-12-01T18:30:01.401Z"
   },
   {
    "duration": 52,
    "start_time": "2022-12-01T18:30:01.471Z"
   },
   {
    "duration": 114,
    "start_time": "2022-12-01T18:30:01.526Z"
   },
   {
    "duration": 225,
    "start_time": "2022-12-01T18:30:01.642Z"
   },
   {
    "duration": 181,
    "start_time": "2022-12-01T18:30:01.869Z"
   },
   {
    "duration": 61,
    "start_time": "2022-12-01T18:30:02.052Z"
   },
   {
    "duration": 89,
    "start_time": "2022-12-01T18:30:02.115Z"
   },
   {
    "duration": 92,
    "start_time": "2022-12-01T18:30:02.206Z"
   },
   {
    "duration": 71,
    "start_time": "2022-12-01T18:30:02.300Z"
   },
   {
    "duration": 74,
    "start_time": "2022-12-01T18:30:02.373Z"
   },
   {
    "duration": 118,
    "start_time": "2022-12-01T18:30:02.449Z"
   },
   {
    "duration": 60,
    "start_time": "2022-12-01T18:30:02.569Z"
   },
   {
    "duration": 108,
    "start_time": "2022-12-01T18:30:02.631Z"
   },
   {
    "duration": 40,
    "start_time": "2022-12-01T18:30:02.741Z"
   },
   {
    "duration": 34,
    "start_time": "2022-12-01T18:30:02.785Z"
   },
   {
    "duration": 43,
    "start_time": "2022-12-01T18:30:02.821Z"
   },
   {
    "duration": 26,
    "start_time": "2022-12-01T18:30:02.867Z"
   },
   {
    "duration": 20,
    "start_time": "2022-12-01T18:30:02.895Z"
   },
   {
    "duration": 28,
    "start_time": "2022-12-01T18:30:02.917Z"
   },
   {
    "duration": 18,
    "start_time": "2022-12-01T18:30:02.947Z"
   },
   {
    "duration": 23,
    "start_time": "2022-12-01T18:30:02.967Z"
   },
   {
    "duration": 1768,
    "start_time": "2022-12-01T18:30:02.993Z"
   },
   {
    "duration": 7,
    "start_time": "2022-12-01T18:30:04.763Z"
   },
   {
    "duration": 69,
    "start_time": "2022-12-01T18:30:04.772Z"
   },
   {
    "duration": 0,
    "start_time": "2022-12-01T18:30:04.843Z"
   },
   {
    "duration": 54,
    "start_time": "2022-12-01T18:30:19.539Z"
   },
   {
    "duration": 6,
    "start_time": "2022-12-01T18:30:40.759Z"
   },
   {
    "duration": 5,
    "start_time": "2022-12-01T18:30:51.118Z"
   },
   {
    "duration": 8,
    "start_time": "2022-12-01T18:31:20.494Z"
   },
   {
    "duration": 7,
    "start_time": "2022-12-01T18:32:20.797Z"
   },
   {
    "duration": 13,
    "start_time": "2022-12-01T18:33:09.061Z"
   },
   {
    "duration": 5,
    "start_time": "2022-12-01T18:33:24.748Z"
   },
   {
    "duration": 1600,
    "start_time": "2022-12-01T18:33:30.927Z"
   },
   {
    "duration": 4,
    "start_time": "2022-12-01T18:33:32.530Z"
   },
   {
    "duration": 493,
    "start_time": "2022-12-01T18:33:32.536Z"
   },
   {
    "duration": 51,
    "start_time": "2022-12-01T18:33:33.032Z"
   },
   {
    "duration": 218,
    "start_time": "2022-12-01T18:33:33.086Z"
   },
   {
    "duration": 22,
    "start_time": "2022-12-01T18:33:33.305Z"
   },
   {
    "duration": 14,
    "start_time": "2022-12-01T18:33:33.329Z"
   },
   {
    "duration": 1330,
    "start_time": "2022-12-01T18:33:33.345Z"
   },
   {
    "duration": 6,
    "start_time": "2022-12-01T18:33:34.676Z"
   },
   {
    "duration": 51,
    "start_time": "2022-12-01T18:33:34.685Z"
   },
   {
    "duration": 31,
    "start_time": "2022-12-01T18:33:34.740Z"
   },
   {
    "duration": 66,
    "start_time": "2022-12-01T18:33:34.773Z"
   },
   {
    "duration": 11,
    "start_time": "2022-12-01T18:33:34.841Z"
   },
   {
    "duration": 47,
    "start_time": "2022-12-01T18:33:34.855Z"
   },
   {
    "duration": 39,
    "start_time": "2022-12-01T18:33:34.904Z"
   },
   {
    "duration": 98,
    "start_time": "2022-12-01T18:33:34.948Z"
   },
   {
    "duration": 97,
    "start_time": "2022-12-01T18:33:35.049Z"
   },
   {
    "duration": 15,
    "start_time": "2022-12-01T18:33:35.222Z"
   },
   {
    "duration": 129,
    "start_time": "2022-12-01T18:33:35.241Z"
   },
   {
    "duration": 43,
    "start_time": "2022-12-01T18:33:35.373Z"
   },
   {
    "duration": 28,
    "start_time": "2022-12-01T18:33:35.418Z"
   },
   {
    "duration": 63,
    "start_time": "2022-12-01T18:33:35.448Z"
   },
   {
    "duration": 18,
    "start_time": "2022-12-01T18:33:35.516Z"
   },
   {
    "duration": 36,
    "start_time": "2022-12-01T18:33:35.536Z"
   },
   {
    "duration": 17,
    "start_time": "2022-12-01T18:33:35.573Z"
   },
   {
    "duration": 18,
    "start_time": "2022-12-01T18:33:35.592Z"
   },
   {
    "duration": 4,
    "start_time": "2022-12-01T18:33:35.612Z"
   },
   {
    "duration": 13,
    "start_time": "2022-12-01T18:33:35.620Z"
   },
   {
    "duration": 11,
    "start_time": "2022-12-01T18:33:35.635Z"
   },
   {
    "duration": 19,
    "start_time": "2022-12-01T18:33:35.647Z"
   },
   {
    "duration": 9,
    "start_time": "2022-12-01T18:33:35.668Z"
   },
   {
    "duration": 31,
    "start_time": "2022-12-01T18:33:35.678Z"
   },
   {
    "duration": 19,
    "start_time": "2022-12-01T18:33:35.711Z"
   },
   {
    "duration": 26,
    "start_time": "2022-12-01T18:33:35.733Z"
   },
   {
    "duration": 1463,
    "start_time": "2022-12-01T18:33:35.761Z"
   },
   {
    "duration": 4,
    "start_time": "2022-12-01T18:33:37.226Z"
   },
   {
    "duration": 8,
    "start_time": "2022-12-01T18:33:37.232Z"
   },
   {
    "duration": 30,
    "start_time": "2022-12-01T18:33:37.242Z"
   },
   {
    "duration": 1561,
    "start_time": "2022-12-01T18:34:41.517Z"
   },
   {
    "duration": 3,
    "start_time": "2022-12-01T18:34:43.081Z"
   },
   {
    "duration": 529,
    "start_time": "2022-12-01T18:34:43.085Z"
   },
   {
    "duration": 70,
    "start_time": "2022-12-01T18:34:43.617Z"
   },
   {
    "duration": 182,
    "start_time": "2022-12-01T18:34:43.689Z"
   },
   {
    "duration": 22,
    "start_time": "2022-12-01T18:34:43.873Z"
   },
   {
    "duration": 17,
    "start_time": "2022-12-01T18:34:43.897Z"
   },
   {
    "duration": 1401,
    "start_time": "2022-12-01T18:34:43.917Z"
   },
   {
    "duration": 13,
    "start_time": "2022-12-01T18:34:45.321Z"
   },
   {
    "duration": 61,
    "start_time": "2022-12-01T18:34:45.340Z"
   },
   {
    "duration": 94,
    "start_time": "2022-12-01T18:34:45.404Z"
   },
   {
    "duration": 96,
    "start_time": "2022-12-01T18:34:45.500Z"
   },
   {
    "duration": 30,
    "start_time": "2022-12-01T18:34:45.599Z"
   },
   {
    "duration": 103,
    "start_time": "2022-12-01T18:34:45.631Z"
   },
   {
    "duration": 85,
    "start_time": "2022-12-01T18:34:45.739Z"
   },
   {
    "duration": 125,
    "start_time": "2022-12-01T18:34:45.826Z"
   },
   {
    "duration": 197,
    "start_time": "2022-12-01T18:34:45.958Z"
   },
   {
    "duration": 164,
    "start_time": "2022-12-01T18:34:46.162Z"
   },
   {
    "duration": 31,
    "start_time": "2022-12-01T18:34:46.327Z"
   },
   {
    "duration": 13,
    "start_time": "2022-12-01T18:34:46.360Z"
   },
   {
    "duration": 16,
    "start_time": "2022-12-01T18:34:46.376Z"
   },
   {
    "duration": 19,
    "start_time": "2022-12-01T18:34:46.393Z"
   },
   {
    "duration": 30,
    "start_time": "2022-12-01T18:34:46.416Z"
   },
   {
    "duration": 14,
    "start_time": "2022-12-01T18:34:46.448Z"
   },
   {
    "duration": 14,
    "start_time": "2022-12-01T18:34:46.463Z"
   },
   {
    "duration": 13,
    "start_time": "2022-12-01T18:34:46.479Z"
   },
   {
    "duration": 3,
    "start_time": "2022-12-01T18:34:46.495Z"
   },
   {
    "duration": 7,
    "start_time": "2022-12-01T18:34:46.502Z"
   },
   {
    "duration": 19,
    "start_time": "2022-12-01T18:34:46.511Z"
   },
   {
    "duration": 17,
    "start_time": "2022-12-01T18:34:46.537Z"
   },
   {
    "duration": 11,
    "start_time": "2022-12-01T18:34:46.556Z"
   },
   {
    "duration": 33,
    "start_time": "2022-12-01T18:34:46.568Z"
   },
   {
    "duration": 15,
    "start_time": "2022-12-01T18:34:46.603Z"
   },
   {
    "duration": 30,
    "start_time": "2022-12-01T18:34:46.620Z"
   },
   {
    "duration": 1548,
    "start_time": "2022-12-01T18:34:46.652Z"
   },
   {
    "duration": 4,
    "start_time": "2022-12-01T18:34:48.203Z"
   },
   {
    "duration": 37,
    "start_time": "2022-12-01T18:34:48.209Z"
   },
   {
    "duration": 14,
    "start_time": "2022-12-01T18:34:48.248Z"
   },
   {
    "duration": 6,
    "start_time": "2022-12-01T18:45:55.039Z"
   },
   {
    "duration": 5,
    "start_time": "2022-12-01T18:45:59.594Z"
   },
   {
    "duration": 5,
    "start_time": "2022-12-01T18:46:06.272Z"
   },
   {
    "duration": 4,
    "start_time": "2022-12-01T18:46:16.902Z"
   },
   {
    "duration": 8,
    "start_time": "2022-12-01T18:47:58.937Z"
   },
   {
    "duration": 6,
    "start_time": "2022-12-01T18:48:32.999Z"
   },
   {
    "duration": 6,
    "start_time": "2022-12-01T18:48:38.187Z"
   },
   {
    "duration": 7,
    "start_time": "2022-12-01T18:48:49.498Z"
   },
   {
    "duration": 6,
    "start_time": "2022-12-01T18:49:08.668Z"
   },
   {
    "duration": 1942,
    "start_time": "2022-12-01T18:52:04.199Z"
   },
   {
    "duration": 3,
    "start_time": "2022-12-01T18:52:06.143Z"
   },
   {
    "duration": 698,
    "start_time": "2022-12-01T18:52:06.148Z"
   },
   {
    "duration": 57,
    "start_time": "2022-12-01T18:52:06.848Z"
   },
   {
    "duration": 210,
    "start_time": "2022-12-01T18:52:06.907Z"
   },
   {
    "duration": 23,
    "start_time": "2022-12-01T18:52:07.124Z"
   },
   {
    "duration": 39,
    "start_time": "2022-12-01T18:52:07.153Z"
   },
   {
    "duration": 1281,
    "start_time": "2022-12-01T18:52:07.195Z"
   },
   {
    "duration": 9,
    "start_time": "2022-12-01T18:52:08.480Z"
   },
   {
    "duration": 87,
    "start_time": "2022-12-01T18:52:08.492Z"
   },
   {
    "duration": 36,
    "start_time": "2022-12-01T18:52:08.587Z"
   },
   {
    "duration": 44,
    "start_time": "2022-12-01T18:52:08.628Z"
   },
   {
    "duration": 10,
    "start_time": "2022-12-01T18:52:08.677Z"
   },
   {
    "duration": 57,
    "start_time": "2022-12-01T18:52:08.690Z"
   },
   {
    "duration": 36,
    "start_time": "2022-12-01T18:52:08.753Z"
   },
   {
    "duration": 34,
    "start_time": "2022-12-01T18:52:08.821Z"
   },
   {
    "duration": 161,
    "start_time": "2022-12-01T18:52:08.861Z"
   },
   {
    "duration": 96,
    "start_time": "2022-12-01T18:52:09.034Z"
   },
   {
    "duration": 39,
    "start_time": "2022-12-01T18:52:09.136Z"
   },
   {
    "duration": 19,
    "start_time": "2022-12-01T18:52:09.177Z"
   },
   {
    "duration": 9,
    "start_time": "2022-12-01T18:52:09.197Z"
   },
   {
    "duration": 9,
    "start_time": "2022-12-01T18:52:09.208Z"
   },
   {
    "duration": 27,
    "start_time": "2022-12-01T18:52:09.220Z"
   },
   {
    "duration": 25,
    "start_time": "2022-12-01T18:52:09.248Z"
   },
   {
    "duration": 13,
    "start_time": "2022-12-01T18:52:09.276Z"
   },
   {
    "duration": 13,
    "start_time": "2022-12-01T18:52:09.291Z"
   },
   {
    "duration": 17,
    "start_time": "2022-12-01T18:52:09.305Z"
   },
   {
    "duration": 39,
    "start_time": "2022-12-01T18:52:09.327Z"
   },
   {
    "duration": 12,
    "start_time": "2022-12-01T18:52:09.374Z"
   },
   {
    "duration": 16,
    "start_time": "2022-12-01T18:52:09.388Z"
   },
   {
    "duration": 70,
    "start_time": "2022-12-01T18:52:09.407Z"
   },
   {
    "duration": 7,
    "start_time": "2022-12-01T18:52:09.479Z"
   },
   {
    "duration": 9,
    "start_time": "2022-12-01T18:52:09.488Z"
   },
   {
    "duration": 1777,
    "start_time": "2022-12-01T18:52:09.499Z"
   },
   {
    "duration": 8,
    "start_time": "2022-12-01T18:52:11.290Z"
   },
   {
    "duration": 28,
    "start_time": "2022-12-01T18:52:11.305Z"
   },
   {
    "duration": 1595,
    "start_time": "2022-12-01T18:56:52.286Z"
   },
   {
    "duration": 3,
    "start_time": "2022-12-01T18:56:53.884Z"
   },
   {
    "duration": 446,
    "start_time": "2022-12-01T18:56:53.889Z"
   },
   {
    "duration": 47,
    "start_time": "2022-12-01T18:56:54.338Z"
   },
   {
    "duration": 182,
    "start_time": "2022-12-01T18:56:54.386Z"
   },
   {
    "duration": 23,
    "start_time": "2022-12-01T18:56:54.571Z"
   },
   {
    "duration": 33,
    "start_time": "2022-12-01T18:56:54.597Z"
   },
   {
    "duration": 1239,
    "start_time": "2022-12-01T18:56:54.633Z"
   },
   {
    "duration": 5,
    "start_time": "2022-12-01T18:56:55.875Z"
   },
   {
    "duration": 57,
    "start_time": "2022-12-01T18:56:55.884Z"
   },
   {
    "duration": 36,
    "start_time": "2022-12-01T18:56:55.943Z"
   },
   {
    "duration": 56,
    "start_time": "2022-12-01T18:56:55.981Z"
   },
   {
    "duration": 8,
    "start_time": "2022-12-01T18:56:56.038Z"
   },
   {
    "duration": 42,
    "start_time": "2022-12-01T18:56:56.048Z"
   },
   {
    "duration": 43,
    "start_time": "2022-12-01T18:56:56.092Z"
   },
   {
    "duration": 199,
    "start_time": "2022-12-01T18:56:56.137Z"
   },
   {
    "duration": 105,
    "start_time": "2022-12-01T18:56:56.339Z"
   },
   {
    "duration": 207,
    "start_time": "2022-12-01T18:56:56.449Z"
   },
   {
    "duration": 16,
    "start_time": "2022-12-01T18:56:56.657Z"
   },
   {
    "duration": 11,
    "start_time": "2022-12-01T18:56:56.675Z"
   },
   {
    "duration": 6,
    "start_time": "2022-12-01T18:56:56.687Z"
   },
   {
    "duration": 6,
    "start_time": "2022-12-01T18:56:56.695Z"
   },
   {
    "duration": 10,
    "start_time": "2022-12-01T18:56:56.702Z"
   },
   {
    "duration": 11,
    "start_time": "2022-12-01T18:56:56.714Z"
   },
   {
    "duration": 32,
    "start_time": "2022-12-01T18:56:56.727Z"
   },
   {
    "duration": 14,
    "start_time": "2022-12-01T18:56:56.761Z"
   },
   {
    "duration": 13,
    "start_time": "2022-12-01T18:56:56.777Z"
   },
   {
    "duration": 14,
    "start_time": "2022-12-01T18:56:56.794Z"
   },
   {
    "duration": 14,
    "start_time": "2022-12-01T18:56:56.810Z"
   },
   {
    "duration": 20,
    "start_time": "2022-12-01T18:56:56.827Z"
   },
   {
    "duration": 24,
    "start_time": "2022-12-01T18:56:56.849Z"
   },
   {
    "duration": 4,
    "start_time": "2022-12-01T18:56:56.875Z"
   },
   {
    "duration": 9,
    "start_time": "2022-12-01T18:56:56.880Z"
   },
   {
    "duration": 1529,
    "start_time": "2022-12-01T18:56:56.890Z"
   },
   {
    "duration": 14,
    "start_time": "2022-12-01T18:56:58.420Z"
   },
   {
    "duration": 18,
    "start_time": "2022-12-01T18:56:58.441Z"
   },
   {
    "duration": 173,
    "start_time": "2022-12-01T18:58:09.092Z"
   },
   {
    "duration": 5,
    "start_time": "2022-12-01T18:58:14.494Z"
   },
   {
    "duration": 9,
    "start_time": "2022-12-01T19:00:38.116Z"
   },
   {
    "duration": 3722,
    "start_time": "2022-12-04T08:51:08.347Z"
   },
   {
    "duration": 1545,
    "start_time": "2022-12-04T08:51:38.584Z"
   },
   {
    "duration": 3,
    "start_time": "2022-12-04T08:52:16.296Z"
   },
   {
    "duration": 3,
    "start_time": "2022-12-04T08:52:44.301Z"
   },
   {
    "duration": 173,
    "start_time": "2022-12-04T08:52:46.396Z"
   },
   {
    "duration": 1938,
    "start_time": "2022-12-04T08:53:51.968Z"
   },
   {
    "duration": 29,
    "start_time": "2022-12-04T08:53:53.908Z"
   },
   {
    "duration": 3,
    "start_time": "2022-12-04T08:53:53.938Z"
   },
   {
    "duration": 1477,
    "start_time": "2022-12-04T08:53:53.943Z"
   },
   {
    "duration": 146,
    "start_time": "2022-12-04T08:53:55.423Z"
   },
   {
    "duration": 855,
    "start_time": "2022-12-04T08:53:55.571Z"
   },
   {
    "duration": 169,
    "start_time": "2022-12-04T08:53:56.428Z"
   },
   {
    "duration": 340,
    "start_time": "2022-12-04T08:53:56.599Z"
   },
   {
    "duration": 142,
    "start_time": "2022-12-04T08:53:56.941Z"
   },
   {
    "duration": 139,
    "start_time": "2022-12-04T08:53:57.085Z"
   },
   {
    "duration": 1273,
    "start_time": "2022-12-04T08:53:57.226Z"
   },
   {
    "duration": 160,
    "start_time": "2022-12-04T08:53:58.501Z"
   },
   {
    "duration": 179,
    "start_time": "2022-12-04T08:53:58.663Z"
   },
   {
    "duration": 188,
    "start_time": "2022-12-04T08:53:58.845Z"
   },
   {
    "duration": 156,
    "start_time": "2022-12-04T08:53:59.034Z"
   },
   {
    "duration": 131,
    "start_time": "2022-12-04T08:53:59.192Z"
   },
   {
    "duration": 167,
    "start_time": "2022-12-04T08:53:59.325Z"
   },
   {
    "duration": 323,
    "start_time": "2022-12-04T08:53:59.494Z"
   },
   {
    "duration": 273,
    "start_time": "2022-12-04T08:53:59.819Z"
   },
   {
    "duration": 318,
    "start_time": "2022-12-04T08:54:00.093Z"
   },
   {
    "duration": 162,
    "start_time": "2022-12-04T08:54:00.413Z"
   },
   {
    "duration": 163,
    "start_time": "2022-12-04T08:54:00.576Z"
   },
   {
    "duration": 198,
    "start_time": "2022-12-04T08:54:00.741Z"
   },
   {
    "duration": 152,
    "start_time": "2022-12-04T08:54:00.941Z"
   },
   {
    "duration": 137,
    "start_time": "2022-12-04T08:54:01.095Z"
   },
   {
    "duration": 136,
    "start_time": "2022-12-04T08:54:01.234Z"
   },
   {
    "duration": 157,
    "start_time": "2022-12-04T08:54:01.372Z"
   },
   {
    "duration": 159,
    "start_time": "2022-12-04T08:54:01.531Z"
   },
   {
    "duration": 180,
    "start_time": "2022-12-04T08:54:01.692Z"
   },
   {
    "duration": 217,
    "start_time": "2022-12-04T08:54:01.873Z"
   },
   {
    "duration": 168,
    "start_time": "2022-12-04T08:54:02.091Z"
   },
   {
    "duration": 144,
    "start_time": "2022-12-04T08:54:02.261Z"
   },
   {
    "duration": 155,
    "start_time": "2022-12-04T08:54:02.407Z"
   },
   {
    "duration": 159,
    "start_time": "2022-12-04T08:54:02.564Z"
   },
   {
    "duration": 151,
    "start_time": "2022-12-04T08:54:02.725Z"
   },
   {
    "duration": 165,
    "start_time": "2022-12-04T08:54:02.878Z"
   },
   {
    "duration": 1657,
    "start_time": "2022-12-04T08:54:03.045Z"
   },
   {
    "duration": 144,
    "start_time": "2022-12-04T08:54:04.703Z"
   },
   {
    "duration": 145,
    "start_time": "2022-12-04T08:54:04.848Z"
   },
   {
    "duration": 4,
    "start_time": "2022-12-04T08:56:22.692Z"
   },
   {
    "duration": 154,
    "start_time": "2022-12-04T08:56:26.113Z"
   },
   {
    "duration": 3,
    "start_time": "2022-12-04T08:56:38.964Z"
   },
   {
    "duration": 157,
    "start_time": "2022-12-04T08:56:41.068Z"
   },
   {
    "duration": 6,
    "start_time": "2022-12-04T08:56:45.968Z"
   },
   {
    "duration": 46,
    "start_time": "2022-12-04T08:56:54.881Z"
   },
   {
    "duration": 4,
    "start_time": "2022-12-04T08:57:01.781Z"
   },
   {
    "duration": 146,
    "start_time": "2022-12-04T10:01:41.439Z"
   },
   {
    "duration": 163,
    "start_time": "2022-12-04T10:02:01.806Z"
   },
   {
    "duration": 1105,
    "start_time": "2022-12-04T10:07:17.322Z"
   },
   {
    "duration": 3,
    "start_time": "2022-12-04T10:07:18.429Z"
   },
   {
    "duration": 375,
    "start_time": "2022-12-04T10:07:18.433Z"
   },
   {
    "duration": 34,
    "start_time": "2022-12-04T10:07:18.810Z"
   },
   {
    "duration": 171,
    "start_time": "2022-12-04T10:07:18.846Z"
   },
   {
    "duration": 13,
    "start_time": "2022-12-04T10:07:19.019Z"
   },
   {
    "duration": 15,
    "start_time": "2022-12-04T10:07:19.034Z"
   },
   {
    "duration": 155,
    "start_time": "2022-12-04T10:07:19.051Z"
   },
   {
    "duration": 0,
    "start_time": "2022-12-04T10:07:19.209Z"
   },
   {
    "duration": 0,
    "start_time": "2022-12-04T10:07:19.211Z"
   },
   {
    "duration": 0,
    "start_time": "2022-12-04T10:07:19.213Z"
   },
   {
    "duration": 0,
    "start_time": "2022-12-04T10:07:19.214Z"
   },
   {
    "duration": 0,
    "start_time": "2022-12-04T10:07:19.216Z"
   },
   {
    "duration": 0,
    "start_time": "2022-12-04T10:07:19.218Z"
   },
   {
    "duration": 0,
    "start_time": "2022-12-04T10:07:19.219Z"
   },
   {
    "duration": 0,
    "start_time": "2022-12-04T10:07:19.220Z"
   },
   {
    "duration": 0,
    "start_time": "2022-12-04T10:07:19.221Z"
   },
   {
    "duration": 0,
    "start_time": "2022-12-04T10:07:19.222Z"
   },
   {
    "duration": 0,
    "start_time": "2022-12-04T10:07:19.224Z"
   },
   {
    "duration": 0,
    "start_time": "2022-12-04T10:07:19.225Z"
   },
   {
    "duration": 0,
    "start_time": "2022-12-04T10:07:19.227Z"
   },
   {
    "duration": 0,
    "start_time": "2022-12-04T10:07:19.228Z"
   },
   {
    "duration": 0,
    "start_time": "2022-12-04T10:07:19.229Z"
   },
   {
    "duration": 0,
    "start_time": "2022-12-04T10:07:19.230Z"
   },
   {
    "duration": 0,
    "start_time": "2022-12-04T10:07:19.231Z"
   },
   {
    "duration": 0,
    "start_time": "2022-12-04T10:07:19.233Z"
   },
   {
    "duration": 0,
    "start_time": "2022-12-04T10:07:19.234Z"
   },
   {
    "duration": 0,
    "start_time": "2022-12-04T10:07:19.235Z"
   },
   {
    "duration": 0,
    "start_time": "2022-12-04T10:07:19.236Z"
   },
   {
    "duration": 0,
    "start_time": "2022-12-04T10:07:19.238Z"
   },
   {
    "duration": 0,
    "start_time": "2022-12-04T10:07:19.239Z"
   },
   {
    "duration": 0,
    "start_time": "2022-12-04T10:07:19.241Z"
   },
   {
    "duration": 0,
    "start_time": "2022-12-04T10:07:19.242Z"
   },
   {
    "duration": 0,
    "start_time": "2022-12-04T10:07:19.297Z"
   },
   {
    "duration": 0,
    "start_time": "2022-12-04T10:07:19.298Z"
   },
   {
    "duration": 1,
    "start_time": "2022-12-04T10:07:19.298Z"
   },
   {
    "duration": 1354,
    "start_time": "2022-12-04T10:08:31.045Z"
   },
   {
    "duration": 3,
    "start_time": "2022-12-04T10:08:32.401Z"
   },
   {
    "duration": 379,
    "start_time": "2022-12-04T10:08:32.405Z"
   },
   {
    "duration": 38,
    "start_time": "2022-12-04T10:08:32.786Z"
   },
   {
    "duration": 145,
    "start_time": "2022-12-04T10:08:32.826Z"
   },
   {
    "duration": 13,
    "start_time": "2022-12-04T10:08:32.973Z"
   },
   {
    "duration": 32,
    "start_time": "2022-12-04T10:08:32.988Z"
   },
   {
    "duration": 140,
    "start_time": "2022-12-04T10:08:33.022Z"
   },
   {
    "duration": 0,
    "start_time": "2022-12-04T10:08:33.165Z"
   },
   {
    "duration": 0,
    "start_time": "2022-12-04T10:08:33.167Z"
   },
   {
    "duration": 0,
    "start_time": "2022-12-04T10:08:33.168Z"
   },
   {
    "duration": 0,
    "start_time": "2022-12-04T10:08:33.169Z"
   },
   {
    "duration": 0,
    "start_time": "2022-12-04T10:08:33.172Z"
   },
   {
    "duration": 0,
    "start_time": "2022-12-04T10:08:33.174Z"
   },
   {
    "duration": 0,
    "start_time": "2022-12-04T10:08:33.175Z"
   },
   {
    "duration": 0,
    "start_time": "2022-12-04T10:08:33.176Z"
   },
   {
    "duration": 0,
    "start_time": "2022-12-04T10:08:33.177Z"
   },
   {
    "duration": 0,
    "start_time": "2022-12-04T10:08:33.197Z"
   },
   {
    "duration": 0,
    "start_time": "2022-12-04T10:08:33.198Z"
   },
   {
    "duration": 0,
    "start_time": "2022-12-04T10:08:33.199Z"
   },
   {
    "duration": 0,
    "start_time": "2022-12-04T10:08:33.200Z"
   },
   {
    "duration": 0,
    "start_time": "2022-12-04T10:08:33.201Z"
   },
   {
    "duration": 0,
    "start_time": "2022-12-04T10:08:33.202Z"
   },
   {
    "duration": 0,
    "start_time": "2022-12-04T10:08:33.203Z"
   },
   {
    "duration": 0,
    "start_time": "2022-12-04T10:08:33.204Z"
   },
   {
    "duration": 0,
    "start_time": "2022-12-04T10:08:33.205Z"
   },
   {
    "duration": 0,
    "start_time": "2022-12-04T10:08:33.206Z"
   },
   {
    "duration": 0,
    "start_time": "2022-12-04T10:08:33.208Z"
   },
   {
    "duration": 0,
    "start_time": "2022-12-04T10:08:33.209Z"
   },
   {
    "duration": 0,
    "start_time": "2022-12-04T10:08:33.210Z"
   },
   {
    "duration": 0,
    "start_time": "2022-12-04T10:08:33.211Z"
   },
   {
    "duration": 0,
    "start_time": "2022-12-04T10:08:33.213Z"
   },
   {
    "duration": 0,
    "start_time": "2022-12-04T10:08:33.214Z"
   },
   {
    "duration": 0,
    "start_time": "2022-12-04T10:08:33.215Z"
   },
   {
    "duration": 0,
    "start_time": "2022-12-04T10:08:33.216Z"
   },
   {
    "duration": 0,
    "start_time": "2022-12-04T10:08:33.217Z"
   },
   {
    "duration": 1330,
    "start_time": "2022-12-04T10:09:25.005Z"
   },
   {
    "duration": 2,
    "start_time": "2022-12-04T10:09:26.337Z"
   },
   {
    "duration": 376,
    "start_time": "2022-12-04T10:09:26.341Z"
   },
   {
    "duration": 34,
    "start_time": "2022-12-04T10:09:26.719Z"
   },
   {
    "duration": 146,
    "start_time": "2022-12-04T10:09:26.755Z"
   },
   {
    "duration": 16,
    "start_time": "2022-12-04T10:09:26.903Z"
   },
   {
    "duration": 18,
    "start_time": "2022-12-04T10:09:26.921Z"
   },
   {
    "duration": 1125,
    "start_time": "2022-12-04T10:09:26.941Z"
   },
   {
    "duration": 4,
    "start_time": "2022-12-04T10:09:28.069Z"
   },
   {
    "duration": 50,
    "start_time": "2022-12-04T10:09:28.077Z"
   },
   {
    "duration": 29,
    "start_time": "2022-12-04T10:09:28.130Z"
   },
   {
    "duration": 57,
    "start_time": "2022-12-04T10:09:28.161Z"
   },
   {
    "duration": 7,
    "start_time": "2022-12-04T10:09:28.221Z"
   },
   {
    "duration": 32,
    "start_time": "2022-12-04T10:09:28.230Z"
   },
   {
    "duration": 318,
    "start_time": "2022-12-04T10:09:28.264Z"
   },
   {
    "duration": 0,
    "start_time": "2022-12-04T10:09:28.584Z"
   },
   {
    "duration": 0,
    "start_time": "2022-12-04T10:09:28.586Z"
   },
   {
    "duration": 0,
    "start_time": "2022-12-04T10:09:28.587Z"
   },
   {
    "duration": 0,
    "start_time": "2022-12-04T10:09:28.596Z"
   },
   {
    "duration": 0,
    "start_time": "2022-12-04T10:09:28.598Z"
   },
   {
    "duration": 0,
    "start_time": "2022-12-04T10:09:28.599Z"
   },
   {
    "duration": 0,
    "start_time": "2022-12-04T10:09:28.600Z"
   },
   {
    "duration": 0,
    "start_time": "2022-12-04T10:09:28.601Z"
   },
   {
    "duration": 0,
    "start_time": "2022-12-04T10:09:28.602Z"
   },
   {
    "duration": 0,
    "start_time": "2022-12-04T10:09:28.603Z"
   },
   {
    "duration": 0,
    "start_time": "2022-12-04T10:09:28.604Z"
   },
   {
    "duration": 0,
    "start_time": "2022-12-04T10:09:28.605Z"
   },
   {
    "duration": 0,
    "start_time": "2022-12-04T10:09:28.606Z"
   },
   {
    "duration": 0,
    "start_time": "2022-12-04T10:09:28.607Z"
   },
   {
    "duration": 0,
    "start_time": "2022-12-04T10:09:28.608Z"
   },
   {
    "duration": 0,
    "start_time": "2022-12-04T10:09:28.609Z"
   },
   {
    "duration": 0,
    "start_time": "2022-12-04T10:09:28.610Z"
   },
   {
    "duration": 0,
    "start_time": "2022-12-04T10:09:28.611Z"
   },
   {
    "duration": 0,
    "start_time": "2022-12-04T10:09:28.612Z"
   },
   {
    "duration": 0,
    "start_time": "2022-12-04T10:09:28.613Z"
   },
   {
    "duration": 0,
    "start_time": "2022-12-04T10:09:28.614Z"
   },
   {
    "duration": 1375,
    "start_time": "2022-12-04T10:26:40.872Z"
   },
   {
    "duration": 3,
    "start_time": "2022-12-04T10:26:42.249Z"
   },
   {
    "duration": 398,
    "start_time": "2022-12-04T10:26:42.253Z"
   },
   {
    "duration": 33,
    "start_time": "2022-12-04T10:26:42.653Z"
   },
   {
    "duration": 146,
    "start_time": "2022-12-04T10:26:42.688Z"
   },
   {
    "duration": 14,
    "start_time": "2022-12-04T10:26:42.836Z"
   },
   {
    "duration": 18,
    "start_time": "2022-12-04T10:26:42.851Z"
   },
   {
    "duration": 1088,
    "start_time": "2022-12-04T10:26:42.870Z"
   },
   {
    "duration": 5,
    "start_time": "2022-12-04T10:26:43.960Z"
   },
   {
    "duration": 50,
    "start_time": "2022-12-04T10:26:43.967Z"
   },
   {
    "duration": 29,
    "start_time": "2022-12-04T10:26:44.018Z"
   },
   {
    "duration": 49,
    "start_time": "2022-12-04T10:26:44.049Z"
   },
   {
    "duration": 9,
    "start_time": "2022-12-04T10:26:44.100Z"
   },
   {
    "duration": 40,
    "start_time": "2022-12-04T10:26:44.110Z"
   },
   {
    "duration": 48,
    "start_time": "2022-12-04T10:26:44.151Z"
   },
   {
    "duration": 100,
    "start_time": "2022-12-04T10:26:44.201Z"
   },
   {
    "duration": 99,
    "start_time": "2022-12-04T10:26:44.303Z"
   },
   {
    "duration": 202,
    "start_time": "2022-12-04T10:26:44.404Z"
   },
   {
    "duration": 13,
    "start_time": "2022-12-04T10:26:44.608Z"
   },
   {
    "duration": 14,
    "start_time": "2022-12-04T10:26:44.623Z"
   },
   {
    "duration": 6,
    "start_time": "2022-12-04T10:26:44.639Z"
   },
   {
    "duration": 18,
    "start_time": "2022-12-04T10:26:44.647Z"
   },
   {
    "duration": 8,
    "start_time": "2022-12-04T10:26:44.667Z"
   },
   {
    "duration": 19,
    "start_time": "2022-12-04T10:26:44.677Z"
   },
   {
    "duration": 23,
    "start_time": "2022-12-04T10:26:44.698Z"
   },
   {
    "duration": 13,
    "start_time": "2022-12-04T10:26:44.723Z"
   },
   {
    "duration": 16,
    "start_time": "2022-12-04T10:26:44.738Z"
   },
   {
    "duration": 26,
    "start_time": "2022-12-04T10:26:44.757Z"
   },
   {
    "duration": 22,
    "start_time": "2022-12-04T10:26:44.785Z"
   },
   {
    "duration": 25,
    "start_time": "2022-12-04T10:26:44.809Z"
   },
   {
    "duration": 21,
    "start_time": "2022-12-04T10:26:44.836Z"
   },
   {
    "duration": 5,
    "start_time": "2022-12-04T10:26:44.859Z"
   },
   {
    "duration": 10,
    "start_time": "2022-12-04T10:26:44.865Z"
   },
   {
    "duration": 1578,
    "start_time": "2022-12-04T10:26:44.876Z"
   },
   {
    "duration": 5,
    "start_time": "2022-12-04T10:26:46.455Z"
   },
   {
    "duration": 17,
    "start_time": "2022-12-04T10:26:46.461Z"
   },
   {
    "duration": 36,
    "start_time": "2022-12-04T10:42:25.246Z"
   },
   {
    "duration": 30,
    "start_time": "2022-12-04T10:42:48.425Z"
   },
   {
    "duration": 34,
    "start_time": "2022-12-04T10:42:50.805Z"
   },
   {
    "duration": 1461,
    "start_time": "2022-12-04T10:43:05.653Z"
   },
   {
    "duration": 3,
    "start_time": "2022-12-04T10:43:07.115Z"
   },
   {
    "duration": 380,
    "start_time": "2022-12-04T10:43:07.119Z"
   },
   {
    "duration": 35,
    "start_time": "2022-12-04T10:43:07.502Z"
   },
   {
    "duration": 166,
    "start_time": "2022-12-04T10:43:07.540Z"
   },
   {
    "duration": 16,
    "start_time": "2022-12-04T10:43:07.707Z"
   },
   {
    "duration": 20,
    "start_time": "2022-12-04T10:43:07.725Z"
   },
   {
    "duration": 51,
    "start_time": "2022-12-04T10:43:07.748Z"
   },
   {
    "duration": 48,
    "start_time": "2022-12-04T10:43:07.801Z"
   },
   {
    "duration": 43,
    "start_time": "2022-12-04T10:43:07.853Z"
   },
   {
    "duration": 1094,
    "start_time": "2022-12-04T10:43:07.898Z"
   },
   {
    "duration": 4,
    "start_time": "2022-12-04T10:43:08.997Z"
   },
   {
    "duration": 39,
    "start_time": "2022-12-04T10:43:09.003Z"
   },
   {
    "duration": 53,
    "start_time": "2022-12-04T10:43:09.043Z"
   },
   {
    "duration": 23,
    "start_time": "2022-12-04T10:43:09.098Z"
   },
   {
    "duration": 109,
    "start_time": "2022-12-04T10:43:09.198Z"
   },
   {
    "duration": 190,
    "start_time": "2022-12-04T10:43:09.309Z"
   },
   {
    "duration": 103,
    "start_time": "2022-12-04T10:43:09.501Z"
   },
   {
    "duration": 11,
    "start_time": "2022-12-04T10:43:09.606Z"
   },
   {
    "duration": 30,
    "start_time": "2022-12-04T10:43:09.619Z"
   },
   {
    "duration": 19,
    "start_time": "2022-12-04T10:43:09.651Z"
   },
   {
    "duration": 29,
    "start_time": "2022-12-04T10:43:09.672Z"
   },
   {
    "duration": 35,
    "start_time": "2022-12-04T10:43:09.704Z"
   },
   {
    "duration": 29,
    "start_time": "2022-12-04T10:43:09.741Z"
   },
   {
    "duration": 30,
    "start_time": "2022-12-04T10:43:09.771Z"
   },
   {
    "duration": 20,
    "start_time": "2022-12-04T10:43:09.802Z"
   },
   {
    "duration": 15,
    "start_time": "2022-12-04T10:43:09.824Z"
   },
   {
    "duration": 19,
    "start_time": "2022-12-04T10:43:09.843Z"
   },
   {
    "duration": 29,
    "start_time": "2022-12-04T10:43:09.863Z"
   },
   {
    "duration": 21,
    "start_time": "2022-12-04T10:43:09.894Z"
   },
   {
    "duration": 28,
    "start_time": "2022-12-04T10:43:09.917Z"
   },
   {
    "duration": 22,
    "start_time": "2022-12-04T10:43:09.947Z"
   },
   {
    "duration": 30,
    "start_time": "2022-12-04T10:43:09.971Z"
   },
   {
    "duration": 1514,
    "start_time": "2022-12-04T10:43:10.002Z"
   },
   {
    "duration": 5,
    "start_time": "2022-12-04T10:43:11.518Z"
   },
   {
    "duration": 9,
    "start_time": "2022-12-04T10:43:11.525Z"
   },
   {
    "duration": 58,
    "start_time": "2022-12-04T11:45:47.486Z"
   },
   {
    "duration": 53,
    "start_time": "2022-12-04T11:45:55.288Z"
   },
   {
    "duration": 59,
    "start_time": "2022-12-04T11:46:05.194Z"
   },
   {
    "duration": 67,
    "start_time": "2022-12-04T11:46:31.182Z"
   },
   {
    "duration": 1183,
    "start_time": "2022-12-04T11:54:27.272Z"
   },
   {
    "duration": 1143,
    "start_time": "2022-12-04T11:54:33.858Z"
   },
   {
    "duration": 122,
    "start_time": "2022-12-04T12:06:32.254Z"
   },
   {
    "duration": 1538,
    "start_time": "2022-12-04T12:06:46.346Z"
   },
   {
    "duration": 0,
    "start_time": "2022-12-04T12:06:47.888Z"
   },
   {
    "duration": 0,
    "start_time": "2022-12-04T12:06:47.889Z"
   },
   {
    "duration": 0,
    "start_time": "2022-12-04T12:06:47.896Z"
   },
   {
    "duration": 0,
    "start_time": "2022-12-04T12:06:47.897Z"
   },
   {
    "duration": 0,
    "start_time": "2022-12-04T12:06:47.900Z"
   },
   {
    "duration": 0,
    "start_time": "2022-12-04T12:06:47.902Z"
   },
   {
    "duration": 0,
    "start_time": "2022-12-04T12:06:47.903Z"
   },
   {
    "duration": 0,
    "start_time": "2022-12-04T12:06:47.904Z"
   },
   {
    "duration": 0,
    "start_time": "2022-12-04T12:06:47.905Z"
   },
   {
    "duration": 0,
    "start_time": "2022-12-04T12:06:47.906Z"
   },
   {
    "duration": 0,
    "start_time": "2022-12-04T12:06:47.907Z"
   },
   {
    "duration": 0,
    "start_time": "2022-12-04T12:06:47.908Z"
   },
   {
    "duration": 0,
    "start_time": "2022-12-04T12:06:47.909Z"
   },
   {
    "duration": 0,
    "start_time": "2022-12-04T12:06:47.910Z"
   },
   {
    "duration": 0,
    "start_time": "2022-12-04T12:06:47.911Z"
   },
   {
    "duration": 0,
    "start_time": "2022-12-04T12:06:47.912Z"
   },
   {
    "duration": 0,
    "start_time": "2022-12-04T12:06:47.913Z"
   },
   {
    "duration": 0,
    "start_time": "2022-12-04T12:06:47.914Z"
   },
   {
    "duration": 0,
    "start_time": "2022-12-04T12:06:47.915Z"
   },
   {
    "duration": 0,
    "start_time": "2022-12-04T12:06:47.916Z"
   },
   {
    "duration": 0,
    "start_time": "2022-12-04T12:06:47.917Z"
   },
   {
    "duration": 0,
    "start_time": "2022-12-04T12:06:47.918Z"
   },
   {
    "duration": 0,
    "start_time": "2022-12-04T12:06:47.920Z"
   },
   {
    "duration": 0,
    "start_time": "2022-12-04T12:06:47.921Z"
   },
   {
    "duration": 0,
    "start_time": "2022-12-04T12:06:47.922Z"
   },
   {
    "duration": 0,
    "start_time": "2022-12-04T12:06:47.923Z"
   },
   {
    "duration": 0,
    "start_time": "2022-12-04T12:06:47.925Z"
   },
   {
    "duration": 0,
    "start_time": "2022-12-04T12:06:47.926Z"
   },
   {
    "duration": 0,
    "start_time": "2022-12-04T12:06:47.928Z"
   },
   {
    "duration": 0,
    "start_time": "2022-12-04T12:06:47.929Z"
   },
   {
    "duration": 0,
    "start_time": "2022-12-04T12:06:47.931Z"
   },
   {
    "duration": 0,
    "start_time": "2022-12-04T12:06:47.932Z"
   },
   {
    "duration": 0,
    "start_time": "2022-12-04T12:06:47.933Z"
   },
   {
    "duration": 0,
    "start_time": "2022-12-04T12:06:47.934Z"
   },
   {
    "duration": 14,
    "start_time": "2022-12-04T12:07:23.461Z"
   },
   {
    "duration": 21,
    "start_time": "2022-12-04T12:07:26.199Z"
   },
   {
    "duration": 12,
    "start_time": "2022-12-04T12:07:29.718Z"
   },
   {
    "duration": 10,
    "start_time": "2022-12-04T12:07:34.441Z"
   },
   {
    "duration": 13,
    "start_time": "2022-12-04T12:07:38.275Z"
   },
   {
    "duration": 10,
    "start_time": "2022-12-04T12:09:08.062Z"
   },
   {
    "duration": 12,
    "start_time": "2022-12-04T12:09:13.610Z"
   },
   {
    "duration": 5,
    "start_time": "2022-12-04T12:09:44.782Z"
   },
   {
    "duration": 10,
    "start_time": "2022-12-04T12:11:39.129Z"
   },
   {
    "duration": 1514,
    "start_time": "2022-12-04T12:22:41.496Z"
   },
   {
    "duration": 3,
    "start_time": "2022-12-04T12:22:43.015Z"
   },
   {
    "duration": 414,
    "start_time": "2022-12-04T12:22:43.020Z"
   },
   {
    "duration": 36,
    "start_time": "2022-12-04T12:22:43.437Z"
   },
   {
    "duration": 174,
    "start_time": "2022-12-04T12:22:43.474Z"
   },
   {
    "duration": 20,
    "start_time": "2022-12-04T12:22:43.650Z"
   },
   {
    "duration": 26,
    "start_time": "2022-12-04T12:22:43.672Z"
   },
   {
    "duration": 47,
    "start_time": "2022-12-04T12:22:43.701Z"
   },
   {
    "duration": 52,
    "start_time": "2022-12-04T12:22:43.750Z"
   },
   {
    "duration": 38,
    "start_time": "2022-12-04T12:22:43.805Z"
   },
   {
    "duration": 1222,
    "start_time": "2022-12-04T12:22:43.844Z"
   },
   {
    "duration": 10,
    "start_time": "2022-12-04T12:22:45.069Z"
   },
   {
    "duration": 60,
    "start_time": "2022-12-04T12:22:45.081Z"
   },
   {
    "duration": 66,
    "start_time": "2022-12-04T12:22:45.143Z"
   },
   {
    "duration": 124,
    "start_time": "2022-12-04T12:22:45.212Z"
   },
   {
    "duration": 89,
    "start_time": "2022-12-04T12:22:45.338Z"
   },
   {
    "duration": 113,
    "start_time": "2022-12-04T12:22:45.497Z"
   },
   {
    "duration": 21,
    "start_time": "2022-12-04T12:22:45.611Z"
   },
   {
    "duration": 14,
    "start_time": "2022-12-04T12:22:45.634Z"
   },
   {
    "duration": 6,
    "start_time": "2022-12-04T12:22:45.650Z"
   },
   {
    "duration": 7,
    "start_time": "2022-12-04T12:22:45.658Z"
   },
   {
    "duration": 10,
    "start_time": "2022-12-04T12:22:45.667Z"
   },
   {
    "duration": 7,
    "start_time": "2022-12-04T12:22:45.697Z"
   },
   {
    "duration": 30,
    "start_time": "2022-12-04T12:22:45.705Z"
   },
   {
    "duration": 11,
    "start_time": "2022-12-04T12:22:45.737Z"
   },
   {
    "duration": 12,
    "start_time": "2022-12-04T12:22:45.750Z"
   },
   {
    "duration": 6,
    "start_time": "2022-12-04T12:22:45.763Z"
   },
   {
    "duration": 6,
    "start_time": "2022-12-04T12:22:45.796Z"
   },
   {
    "duration": 17,
    "start_time": "2022-12-04T12:22:45.804Z"
   },
   {
    "duration": 11,
    "start_time": "2022-12-04T12:22:45.823Z"
   },
   {
    "duration": 3,
    "start_time": "2022-12-04T12:22:45.836Z"
   },
   {
    "duration": 7,
    "start_time": "2022-12-04T12:22:45.841Z"
   },
   {
    "duration": 1830,
    "start_time": "2022-12-04T12:22:45.850Z"
   },
   {
    "duration": 6,
    "start_time": "2022-12-04T12:22:47.682Z"
   },
   {
    "duration": 5,
    "start_time": "2022-12-04T12:22:47.696Z"
   },
   {
    "duration": 3,
    "start_time": "2022-12-04T12:46:02.163Z"
   },
   {
    "duration": 53,
    "start_time": "2022-12-04T12:47:19.333Z"
   },
   {
    "duration": 3,
    "start_time": "2022-12-04T12:47:48.938Z"
   },
   {
    "duration": 4,
    "start_time": "2022-12-04T12:48:15.745Z"
   },
   {
    "duration": 3,
    "start_time": "2022-12-04T12:48:58.170Z"
   },
   {
    "duration": 5,
    "start_time": "2022-12-04T12:49:29.324Z"
   },
   {
    "duration": 4,
    "start_time": "2022-12-04T12:50:01.225Z"
   },
   {
    "duration": 4,
    "start_time": "2022-12-04T12:50:11.799Z"
   },
   {
    "duration": 3,
    "start_time": "2022-12-04T12:50:37.214Z"
   },
   {
    "duration": 1526,
    "start_time": "2022-12-04T12:51:37.757Z"
   },
   {
    "duration": 3,
    "start_time": "2022-12-04T12:51:39.286Z"
   },
   {
    "duration": 21,
    "start_time": "2022-12-04T12:51:39.291Z"
   },
   {
    "duration": 398,
    "start_time": "2022-12-04T12:51:39.315Z"
   },
   {
    "duration": 52,
    "start_time": "2022-12-04T12:51:39.715Z"
   },
   {
    "duration": 171,
    "start_time": "2022-12-04T12:51:39.769Z"
   },
   {
    "duration": 16,
    "start_time": "2022-12-04T12:51:39.942Z"
   },
   {
    "duration": 24,
    "start_time": "2022-12-04T12:51:39.960Z"
   },
   {
    "duration": 66,
    "start_time": "2022-12-04T12:51:39.987Z"
   },
   {
    "duration": 54,
    "start_time": "2022-12-04T12:51:40.057Z"
   },
   {
    "duration": 36,
    "start_time": "2022-12-04T12:51:40.113Z"
   },
   {
    "duration": 1183,
    "start_time": "2022-12-04T12:51:40.150Z"
   },
   {
    "duration": 9,
    "start_time": "2022-12-04T12:51:41.336Z"
   },
   {
    "duration": 34,
    "start_time": "2022-12-04T12:51:41.347Z"
   },
   {
    "duration": 20,
    "start_time": "2022-12-04T12:51:41.395Z"
   },
   {
    "duration": 85,
    "start_time": "2022-12-04T12:51:41.419Z"
   },
   {
    "duration": 191,
    "start_time": "2022-12-04T12:51:41.506Z"
   },
   {
    "duration": 114,
    "start_time": "2022-12-04T12:51:41.703Z"
   },
   {
    "duration": 13,
    "start_time": "2022-12-04T12:51:41.819Z"
   },
   {
    "duration": 12,
    "start_time": "2022-12-04T12:51:41.834Z"
   },
   {
    "duration": 13,
    "start_time": "2022-12-04T12:51:41.848Z"
   },
   {
    "duration": 171,
    "start_time": "2022-12-04T12:51:41.862Z"
   },
   {
    "duration": 0,
    "start_time": "2022-12-04T12:51:42.035Z"
   },
   {
    "duration": 0,
    "start_time": "2022-12-04T12:51:42.036Z"
   },
   {
    "duration": 0,
    "start_time": "2022-12-04T12:51:42.037Z"
   },
   {
    "duration": 0,
    "start_time": "2022-12-04T12:51:42.038Z"
   },
   {
    "duration": 0,
    "start_time": "2022-12-04T12:51:42.039Z"
   },
   {
    "duration": 0,
    "start_time": "2022-12-04T12:51:42.041Z"
   },
   {
    "duration": 0,
    "start_time": "2022-12-04T12:51:42.041Z"
   },
   {
    "duration": 0,
    "start_time": "2022-12-04T12:51:42.042Z"
   },
   {
    "duration": 0,
    "start_time": "2022-12-04T12:51:42.044Z"
   },
   {
    "duration": 0,
    "start_time": "2022-12-04T12:51:42.045Z"
   },
   {
    "duration": 0,
    "start_time": "2022-12-04T12:51:42.046Z"
   },
   {
    "duration": 0,
    "start_time": "2022-12-04T12:51:42.047Z"
   },
   {
    "duration": 5,
    "start_time": "2022-12-04T12:52:48.679Z"
   },
   {
    "duration": 12,
    "start_time": "2022-12-04T12:56:45.407Z"
   },
   {
    "duration": 11,
    "start_time": "2022-12-04T12:56:47.501Z"
   },
   {
    "duration": 11,
    "start_time": "2022-12-04T12:56:49.276Z"
   },
   {
    "duration": 5,
    "start_time": "2022-12-04T12:56:51.019Z"
   },
   {
    "duration": 6,
    "start_time": "2022-12-04T12:57:02.027Z"
   },
   {
    "duration": 6,
    "start_time": "2022-12-04T12:57:40.376Z"
   },
   {
    "duration": 6,
    "start_time": "2022-12-04T12:57:57.073Z"
   },
   {
    "duration": 4,
    "start_time": "2022-12-04T12:58:54.913Z"
   },
   {
    "duration": 18,
    "start_time": "2022-12-04T13:09:39.301Z"
   },
   {
    "duration": 5,
    "start_time": "2022-12-04T13:10:03.162Z"
   },
   {
    "duration": 21,
    "start_time": "2022-12-04T13:10:05.249Z"
   },
   {
    "duration": 1443,
    "start_time": "2022-12-04T13:10:33.229Z"
   },
   {
    "duration": 3,
    "start_time": "2022-12-04T13:10:34.674Z"
   },
   {
    "duration": 18,
    "start_time": "2022-12-04T13:10:34.679Z"
   },
   {
    "duration": 409,
    "start_time": "2022-12-04T13:10:34.700Z"
   },
   {
    "duration": 42,
    "start_time": "2022-12-04T13:10:35.112Z"
   },
   {
    "duration": 169,
    "start_time": "2022-12-04T13:10:35.156Z"
   },
   {
    "duration": 15,
    "start_time": "2022-12-04T13:10:35.327Z"
   },
   {
    "duration": 12,
    "start_time": "2022-12-04T13:10:35.344Z"
   },
   {
    "duration": 63,
    "start_time": "2022-12-04T13:10:35.358Z"
   },
   {
    "duration": 36,
    "start_time": "2022-12-04T13:10:35.423Z"
   },
   {
    "duration": 55,
    "start_time": "2022-12-04T13:10:35.461Z"
   },
   {
    "duration": 1196,
    "start_time": "2022-12-04T13:10:35.518Z"
   },
   {
    "duration": 9,
    "start_time": "2022-12-04T13:10:36.716Z"
   },
   {
    "duration": 33,
    "start_time": "2022-12-04T13:10:36.729Z"
   },
   {
    "duration": 42,
    "start_time": "2022-12-04T13:10:36.764Z"
   },
   {
    "duration": 94,
    "start_time": "2022-12-04T13:10:36.808Z"
   },
   {
    "duration": 195,
    "start_time": "2022-12-04T13:10:36.904Z"
   },
   {
    "duration": 114,
    "start_time": "2022-12-04T13:10:37.102Z"
   },
   {
    "duration": 16,
    "start_time": "2022-12-04T13:10:37.218Z"
   },
   {
    "duration": 12,
    "start_time": "2022-12-04T13:10:37.237Z"
   },
   {
    "duration": 10,
    "start_time": "2022-12-04T13:10:37.251Z"
   },
   {
    "duration": 37,
    "start_time": "2022-12-04T13:10:37.263Z"
   },
   {
    "duration": 15,
    "start_time": "2022-12-04T13:10:37.302Z"
   },
   {
    "duration": 13,
    "start_time": "2022-12-04T13:10:37.319Z"
   },
   {
    "duration": 12,
    "start_time": "2022-12-04T13:10:37.335Z"
   },
   {
    "duration": 5,
    "start_time": "2022-12-04T13:10:37.349Z"
   },
   {
    "duration": 12,
    "start_time": "2022-12-04T13:10:37.356Z"
   },
   {
    "duration": 5,
    "start_time": "2022-12-04T13:10:37.397Z"
   },
   {
    "duration": 132,
    "start_time": "2022-12-04T13:10:37.403Z"
   },
   {
    "duration": 0,
    "start_time": "2022-12-04T13:10:37.537Z"
   },
   {
    "duration": 0,
    "start_time": "2022-12-04T13:10:37.539Z"
   },
   {
    "duration": 0,
    "start_time": "2022-12-04T13:10:37.541Z"
   },
   {
    "duration": 0,
    "start_time": "2022-12-04T13:10:37.542Z"
   },
   {
    "duration": 0,
    "start_time": "2022-12-04T13:10:37.544Z"
   },
   {
    "duration": 17,
    "start_time": "2022-12-04T13:12:44.005Z"
   },
   {
    "duration": 24,
    "start_time": "2022-12-04T13:13:03.039Z"
   },
   {
    "duration": 1486,
    "start_time": "2022-12-04T13:13:20.485Z"
   },
   {
    "duration": 5,
    "start_time": "2022-12-04T13:13:21.973Z"
   },
   {
    "duration": 7,
    "start_time": "2022-12-04T13:13:21.980Z"
   },
   {
    "duration": 382,
    "start_time": "2022-12-04T13:13:21.997Z"
   },
   {
    "duration": 65,
    "start_time": "2022-12-04T13:13:22.382Z"
   },
   {
    "duration": 151,
    "start_time": "2022-12-04T13:13:22.449Z"
   },
   {
    "duration": 14,
    "start_time": "2022-12-04T13:13:22.602Z"
   },
   {
    "duration": 12,
    "start_time": "2022-12-04T13:13:22.618Z"
   },
   {
    "duration": 42,
    "start_time": "2022-12-04T13:13:22.631Z"
   },
   {
    "duration": 53,
    "start_time": "2022-12-04T13:13:22.674Z"
   },
   {
    "duration": 36,
    "start_time": "2022-12-04T13:13:22.729Z"
   },
   {
    "duration": 1150,
    "start_time": "2022-12-04T13:13:22.767Z"
   },
   {
    "duration": 10,
    "start_time": "2022-12-04T13:13:23.921Z"
   },
   {
    "duration": 40,
    "start_time": "2022-12-04T13:13:23.934Z"
   },
   {
    "duration": 37,
    "start_time": "2022-12-04T13:13:23.975Z"
   },
   {
    "duration": 111,
    "start_time": "2022-12-04T13:13:24.098Z"
   },
   {
    "duration": 200,
    "start_time": "2022-12-04T13:13:24.212Z"
   },
   {
    "duration": 198,
    "start_time": "2022-12-04T13:13:24.414Z"
   },
   {
    "duration": 12,
    "start_time": "2022-12-04T13:13:24.614Z"
   },
   {
    "duration": 25,
    "start_time": "2022-12-04T13:13:24.628Z"
   },
   {
    "duration": 16,
    "start_time": "2022-12-04T13:13:24.655Z"
   },
   {
    "duration": 30,
    "start_time": "2022-12-04T13:13:24.673Z"
   },
   {
    "duration": 29,
    "start_time": "2022-12-04T13:13:24.704Z"
   },
   {
    "duration": 25,
    "start_time": "2022-12-04T13:13:24.735Z"
   },
   {
    "duration": 20,
    "start_time": "2022-12-04T13:13:24.763Z"
   },
   {
    "duration": 19,
    "start_time": "2022-12-04T13:13:24.786Z"
   },
   {
    "duration": 28,
    "start_time": "2022-12-04T13:13:24.807Z"
   },
   {
    "duration": 24,
    "start_time": "2022-12-04T13:13:24.837Z"
   },
   {
    "duration": 216,
    "start_time": "2022-12-04T13:13:24.864Z"
   },
   {
    "duration": 0,
    "start_time": "2022-12-04T13:13:25.082Z"
   },
   {
    "duration": 0,
    "start_time": "2022-12-04T13:13:25.083Z"
   },
   {
    "duration": 0,
    "start_time": "2022-12-04T13:13:25.085Z"
   },
   {
    "duration": 0,
    "start_time": "2022-12-04T13:13:25.086Z"
   },
   {
    "duration": 0,
    "start_time": "2022-12-04T13:13:25.096Z"
   },
   {
    "duration": 3,
    "start_time": "2022-12-04T13:14:15.805Z"
   },
   {
    "duration": 8,
    "start_time": "2022-12-04T13:14:17.822Z"
   },
   {
    "duration": 4,
    "start_time": "2022-12-04T13:14:37.839Z"
   },
   {
    "duration": 8,
    "start_time": "2022-12-04T13:14:39.673Z"
   },
   {
    "duration": 3,
    "start_time": "2022-12-04T13:14:55.011Z"
   },
   {
    "duration": 8,
    "start_time": "2022-12-04T13:14:56.561Z"
   },
   {
    "duration": 7,
    "start_time": "2022-12-04T13:15:02.563Z"
   },
   {
    "duration": 14,
    "start_time": "2022-12-04T13:16:45.451Z"
   },
   {
    "duration": 15,
    "start_time": "2022-12-04T13:16:57.476Z"
   },
   {
    "duration": 3,
    "start_time": "2022-12-04T14:08:32.719Z"
   },
   {
    "duration": 16,
    "start_time": "2022-12-04T14:19:05.900Z"
   },
   {
    "duration": 4,
    "start_time": "2022-12-04T14:19:42.960Z"
   },
   {
    "duration": 5,
    "start_time": "2022-12-04T14:20:20.208Z"
   },
   {
    "duration": 21,
    "start_time": "2022-12-04T14:20:25.294Z"
   },
   {
    "duration": 7,
    "start_time": "2022-12-04T14:20:49.632Z"
   },
   {
    "duration": 1739,
    "start_time": "2022-12-04T14:20:54.763Z"
   },
   {
    "duration": 5,
    "start_time": "2022-12-04T14:20:56.821Z"
   },
   {
    "duration": 6,
    "start_time": "2022-12-04T14:20:59.916Z"
   },
   {
    "duration": 1702,
    "start_time": "2022-12-04T14:24:59.943Z"
   },
   {
    "duration": 3,
    "start_time": "2022-12-04T14:25:01.649Z"
   },
   {
    "duration": 26,
    "start_time": "2022-12-04T14:25:01.655Z"
   },
   {
    "duration": 457,
    "start_time": "2022-12-04T14:25:01.684Z"
   },
   {
    "duration": 59,
    "start_time": "2022-12-04T14:25:02.143Z"
   },
   {
    "duration": 205,
    "start_time": "2022-12-04T14:25:02.205Z"
   },
   {
    "duration": 15,
    "start_time": "2022-12-04T14:25:02.411Z"
   },
   {
    "duration": 14,
    "start_time": "2022-12-04T14:25:02.429Z"
   },
   {
    "duration": 59,
    "start_time": "2022-12-04T14:25:02.445Z"
   },
   {
    "duration": 40,
    "start_time": "2022-12-04T14:25:02.508Z"
   },
   {
    "duration": 70,
    "start_time": "2022-12-04T14:25:02.550Z"
   },
   {
    "duration": 1242,
    "start_time": "2022-12-04T14:25:02.622Z"
   },
   {
    "duration": 9,
    "start_time": "2022-12-04T14:25:03.866Z"
   },
   {
    "duration": 59,
    "start_time": "2022-12-04T14:25:03.878Z"
   },
   {
    "duration": 18,
    "start_time": "2022-12-04T14:25:03.940Z"
   },
   {
    "duration": 137,
    "start_time": "2022-12-04T14:25:03.960Z"
   },
   {
    "duration": 129,
    "start_time": "2022-12-04T14:25:04.102Z"
   },
   {
    "duration": 98,
    "start_time": "2022-12-04T14:25:04.300Z"
   },
   {
    "duration": 21,
    "start_time": "2022-12-04T14:25:04.400Z"
   },
   {
    "duration": 14,
    "start_time": "2022-12-04T14:25:04.423Z"
   },
   {
    "duration": 9,
    "start_time": "2022-12-04T14:25:04.440Z"
   },
   {
    "duration": 47,
    "start_time": "2022-12-04T14:25:04.451Z"
   },
   {
    "duration": 16,
    "start_time": "2022-12-04T14:25:04.500Z"
   },
   {
    "duration": 15,
    "start_time": "2022-12-04T14:25:04.519Z"
   },
   {
    "duration": 15,
    "start_time": "2022-12-04T14:25:04.536Z"
   },
   {
    "duration": 8,
    "start_time": "2022-12-04T14:25:04.553Z"
   },
   {
    "duration": 6,
    "start_time": "2022-12-04T14:25:04.597Z"
   },
   {
    "duration": 5,
    "start_time": "2022-12-04T14:25:04.607Z"
   },
   {
    "duration": 832,
    "start_time": "2022-12-04T14:25:04.614Z"
   },
   {
    "duration": 0,
    "start_time": "2022-12-04T14:25:05.448Z"
   },
   {
    "duration": 0,
    "start_time": "2022-12-04T14:25:05.450Z"
   },
   {
    "duration": 0,
    "start_time": "2022-12-04T14:25:05.452Z"
   },
   {
    "duration": 0,
    "start_time": "2022-12-04T14:25:05.453Z"
   },
   {
    "duration": 0,
    "start_time": "2022-12-04T14:25:05.454Z"
   },
   {
    "duration": 15,
    "start_time": "2022-12-04T14:26:03.867Z"
   },
   {
    "duration": 5,
    "start_time": "2022-12-04T14:26:09.114Z"
   },
   {
    "duration": 11,
    "start_time": "2022-12-04T14:26:13.950Z"
   },
   {
    "duration": 10,
    "start_time": "2022-12-04T14:26:20.765Z"
   },
   {
    "duration": 861,
    "start_time": "2022-12-04T14:26:38.312Z"
   },
   {
    "duration": 10,
    "start_time": "2022-12-04T14:26:40.460Z"
   },
   {
    "duration": 905,
    "start_time": "2022-12-04T14:26:48.069Z"
   },
   {
    "duration": 866,
    "start_time": "2022-12-04T14:28:07.362Z"
   },
   {
    "duration": 1386,
    "start_time": "2022-12-04T14:28:26.343Z"
   },
   {
    "duration": 4,
    "start_time": "2022-12-04T14:28:27.731Z"
   },
   {
    "duration": 10,
    "start_time": "2022-12-04T14:28:27.736Z"
   },
   {
    "duration": 388,
    "start_time": "2022-12-04T14:28:27.748Z"
   },
   {
    "duration": 35,
    "start_time": "2022-12-04T14:28:28.138Z"
   },
   {
    "duration": 171,
    "start_time": "2022-12-04T14:28:28.174Z"
   },
   {
    "duration": 16,
    "start_time": "2022-12-04T14:28:28.348Z"
   },
   {
    "duration": 21,
    "start_time": "2022-12-04T14:28:28.366Z"
   },
   {
    "duration": 42,
    "start_time": "2022-12-04T14:28:28.389Z"
   },
   {
    "duration": 39,
    "start_time": "2022-12-04T14:28:28.434Z"
   },
   {
    "duration": 60,
    "start_time": "2022-12-04T14:28:28.475Z"
   },
   {
    "duration": 1227,
    "start_time": "2022-12-04T14:28:28.537Z"
   },
   {
    "duration": 11,
    "start_time": "2022-12-04T14:28:29.766Z"
   },
   {
    "duration": 44,
    "start_time": "2022-12-04T14:28:29.779Z"
   },
   {
    "duration": 24,
    "start_time": "2022-12-04T14:28:29.825Z"
   },
   {
    "duration": 99,
    "start_time": "2022-12-04T14:28:29.896Z"
   },
   {
    "duration": 124,
    "start_time": "2022-12-04T14:28:29.998Z"
   },
   {
    "duration": 195,
    "start_time": "2022-12-04T14:28:30.128Z"
   },
   {
    "duration": 16,
    "start_time": "2022-12-04T14:28:30.326Z"
   },
   {
    "duration": 43,
    "start_time": "2022-12-04T14:28:30.344Z"
   },
   {
    "duration": 12,
    "start_time": "2022-12-04T14:28:30.389Z"
   },
   {
    "duration": 17,
    "start_time": "2022-12-04T14:28:30.403Z"
   },
   {
    "duration": 26,
    "start_time": "2022-12-04T14:28:30.422Z"
   },
   {
    "duration": 13,
    "start_time": "2022-12-04T14:28:30.450Z"
   },
   {
    "duration": 31,
    "start_time": "2022-12-04T14:28:30.465Z"
   },
   {
    "duration": 6,
    "start_time": "2022-12-04T14:28:30.499Z"
   },
   {
    "duration": 21,
    "start_time": "2022-12-04T14:28:30.507Z"
   },
   {
    "duration": 17,
    "start_time": "2022-12-04T14:28:30.532Z"
   },
   {
    "duration": 29,
    "start_time": "2022-12-04T14:28:30.551Z"
   },
   {
    "duration": 21,
    "start_time": "2022-12-04T14:28:30.586Z"
   },
   {
    "duration": 32,
    "start_time": "2022-12-04T14:28:30.610Z"
   },
   {
    "duration": 1039,
    "start_time": "2022-12-04T14:28:30.644Z"
   },
   {
    "duration": 0,
    "start_time": "2022-12-04T14:28:31.686Z"
   },
   {
    "duration": 0,
    "start_time": "2022-12-04T14:28:31.687Z"
   },
   {
    "duration": 3,
    "start_time": "2022-12-04T14:33:15.193Z"
   },
   {
    "duration": 15,
    "start_time": "2022-12-04T14:33:17.888Z"
   },
   {
    "duration": 5,
    "start_time": "2022-12-04T14:33:21.778Z"
   },
   {
    "duration": 964,
    "start_time": "2022-12-04T14:33:26.495Z"
   },
   {
    "duration": 1381,
    "start_time": "2022-12-04T14:33:41.159Z"
   },
   {
    "duration": 3,
    "start_time": "2022-12-04T14:33:42.543Z"
   },
   {
    "duration": 8,
    "start_time": "2022-12-04T14:33:42.548Z"
   },
   {
    "duration": 390,
    "start_time": "2022-12-04T14:33:42.558Z"
   },
   {
    "duration": 47,
    "start_time": "2022-12-04T14:33:42.950Z"
   },
   {
    "duration": 153,
    "start_time": "2022-12-04T14:33:42.999Z"
   },
   {
    "duration": 14,
    "start_time": "2022-12-04T14:33:43.153Z"
   },
   {
    "duration": 19,
    "start_time": "2022-12-04T14:33:43.168Z"
   },
   {
    "duration": 43,
    "start_time": "2022-12-04T14:33:43.189Z"
   },
   {
    "duration": 35,
    "start_time": "2022-12-04T14:33:43.236Z"
   },
   {
    "duration": 56,
    "start_time": "2022-12-04T14:33:43.273Z"
   },
   {
    "duration": 1158,
    "start_time": "2022-12-04T14:33:43.331Z"
   },
   {
    "duration": 13,
    "start_time": "2022-12-04T14:33:44.491Z"
   },
   {
    "duration": 50,
    "start_time": "2022-12-04T14:33:44.506Z"
   },
   {
    "duration": 40,
    "start_time": "2022-12-04T14:33:44.557Z"
   },
   {
    "duration": 102,
    "start_time": "2022-12-04T14:33:44.603Z"
   },
   {
    "duration": 188,
    "start_time": "2022-12-04T14:33:44.707Z"
   },
   {
    "duration": 110,
    "start_time": "2022-12-04T14:33:44.898Z"
   },
   {
    "duration": 38,
    "start_time": "2022-12-04T14:33:45.011Z"
   },
   {
    "duration": 13,
    "start_time": "2022-12-04T14:33:45.050Z"
   },
   {
    "duration": 7,
    "start_time": "2022-12-04T14:33:45.065Z"
   },
   {
    "duration": 7,
    "start_time": "2022-12-04T14:33:45.074Z"
   },
   {
    "duration": 25,
    "start_time": "2022-12-04T14:33:45.083Z"
   },
   {
    "duration": 15,
    "start_time": "2022-12-04T14:33:45.110Z"
   },
   {
    "duration": 19,
    "start_time": "2022-12-04T14:33:45.127Z"
   },
   {
    "duration": 6,
    "start_time": "2022-12-04T14:33:45.149Z"
   },
   {
    "duration": 11,
    "start_time": "2022-12-04T14:33:45.157Z"
   },
   {
    "duration": 4,
    "start_time": "2022-12-04T14:33:45.196Z"
   },
   {
    "duration": 24,
    "start_time": "2022-12-04T14:33:45.202Z"
   },
   {
    "duration": 3,
    "start_time": "2022-12-04T14:33:45.228Z"
   },
   {
    "duration": 10,
    "start_time": "2022-12-04T14:33:45.232Z"
   },
   {
    "duration": 1030,
    "start_time": "2022-12-04T14:33:45.244Z"
   },
   {
    "duration": 0,
    "start_time": "2022-12-04T14:33:46.276Z"
   },
   {
    "duration": 0,
    "start_time": "2022-12-04T14:33:46.278Z"
   },
   {
    "duration": 8,
    "start_time": "2022-12-04T14:42:27.147Z"
   },
   {
    "duration": 5,
    "start_time": "2022-12-04T14:42:30.995Z"
   },
   {
    "duration": 1686,
    "start_time": "2022-12-04T14:42:36.039Z"
   },
   {
    "duration": 4,
    "start_time": "2022-12-04T14:42:37.728Z"
   },
   {
    "duration": 12,
    "start_time": "2022-12-04T14:42:37.734Z"
   },
   {
    "duration": 556,
    "start_time": "2022-12-04T14:42:37.750Z"
   },
   {
    "duration": 53,
    "start_time": "2022-12-04T14:42:38.308Z"
   },
   {
    "duration": 221,
    "start_time": "2022-12-04T14:42:38.363Z"
   },
   {
    "duration": 27,
    "start_time": "2022-12-04T14:42:38.586Z"
   },
   {
    "duration": 17,
    "start_time": "2022-12-04T14:42:38.615Z"
   },
   {
    "duration": 63,
    "start_time": "2022-12-04T14:42:38.635Z"
   },
   {
    "duration": 51,
    "start_time": "2022-12-04T14:42:38.702Z"
   },
   {
    "duration": 69,
    "start_time": "2022-12-04T14:42:38.755Z"
   },
   {
    "duration": 1414,
    "start_time": "2022-12-04T14:42:38.826Z"
   },
   {
    "duration": 11,
    "start_time": "2022-12-04T14:42:40.243Z"
   },
   {
    "duration": 59,
    "start_time": "2022-12-04T14:42:40.256Z"
   },
   {
    "duration": 104,
    "start_time": "2022-12-04T14:42:40.317Z"
   },
   {
    "duration": 106,
    "start_time": "2022-12-04T14:42:40.496Z"
   },
   {
    "duration": 110,
    "start_time": "2022-12-04T14:42:40.606Z"
   },
   {
    "duration": 191,
    "start_time": "2022-12-04T14:42:40.718Z"
   },
   {
    "duration": 14,
    "start_time": "2022-12-04T14:42:40.912Z"
   },
   {
    "duration": 18,
    "start_time": "2022-12-04T14:42:40.928Z"
   },
   {
    "duration": 8,
    "start_time": "2022-12-04T14:42:40.948Z"
   },
   {
    "duration": 43,
    "start_time": "2022-12-04T14:42:40.959Z"
   },
   {
    "duration": 19,
    "start_time": "2022-12-04T14:42:41.005Z"
   },
   {
    "duration": 15,
    "start_time": "2022-12-04T14:42:41.026Z"
   },
   {
    "duration": 15,
    "start_time": "2022-12-04T14:42:41.043Z"
   },
   {
    "duration": 37,
    "start_time": "2022-12-04T14:42:41.060Z"
   },
   {
    "duration": 7,
    "start_time": "2022-12-04T14:42:41.100Z"
   },
   {
    "duration": 4,
    "start_time": "2022-12-04T14:42:41.113Z"
   },
   {
    "duration": 11,
    "start_time": "2022-12-04T14:42:41.120Z"
   },
   {
    "duration": 3478,
    "start_time": "2022-12-04T14:42:41.134Z"
   },
   {
    "duration": 8,
    "start_time": "2022-12-04T14:42:44.614Z"
   },
   {
    "duration": 27,
    "start_time": "2022-12-04T14:42:44.624Z"
   },
   {
    "duration": 8,
    "start_time": "2022-12-04T14:50:37.339Z"
   },
   {
    "duration": 6,
    "start_time": "2022-12-04T14:50:41.270Z"
   },
   {
    "duration": 7,
    "start_time": "2022-12-04T14:50:43.952Z"
   },
   {
    "duration": 6,
    "start_time": "2022-12-04T14:50:46.557Z"
   },
   {
    "duration": 6,
    "start_time": "2022-12-04T14:51:06.211Z"
   },
   {
    "duration": 5,
    "start_time": "2022-12-04T14:51:07.748Z"
   },
   {
    "duration": 7,
    "start_time": "2022-12-04T14:51:09.314Z"
   },
   {
    "duration": 7,
    "start_time": "2022-12-04T14:53:00.786Z"
   },
   {
    "duration": 6,
    "start_time": "2022-12-04T14:53:06.165Z"
   },
   {
    "duration": 4,
    "start_time": "2022-12-04T14:55:13.214Z"
   },
   {
    "duration": 3,
    "start_time": "2022-12-04T14:55:15.165Z"
   },
   {
    "duration": 4,
    "start_time": "2022-12-04T14:55:16.677Z"
   },
   {
    "duration": 1428,
    "start_time": "2022-12-04T14:55:27.599Z"
   },
   {
    "duration": 2,
    "start_time": "2022-12-04T14:55:29.030Z"
   },
   {
    "duration": 7,
    "start_time": "2022-12-04T14:55:29.034Z"
   },
   {
    "duration": 396,
    "start_time": "2022-12-04T14:55:29.043Z"
   },
   {
    "duration": 35,
    "start_time": "2022-12-04T14:55:29.441Z"
   },
   {
    "duration": 178,
    "start_time": "2022-12-04T14:55:29.478Z"
   },
   {
    "duration": 16,
    "start_time": "2022-12-04T14:55:29.658Z"
   },
   {
    "duration": 27,
    "start_time": "2022-12-04T14:55:29.676Z"
   },
   {
    "duration": 40,
    "start_time": "2022-12-04T14:55:29.705Z"
   },
   {
    "duration": 64,
    "start_time": "2022-12-04T14:55:29.748Z"
   },
   {
    "duration": 40,
    "start_time": "2022-12-04T14:55:29.814Z"
   },
   {
    "duration": 1143,
    "start_time": "2022-12-04T14:55:29.856Z"
   },
   {
    "duration": 10,
    "start_time": "2022-12-04T14:55:31.000Z"
   },
   {
    "duration": 58,
    "start_time": "2022-12-04T14:55:31.012Z"
   },
   {
    "duration": 25,
    "start_time": "2022-12-04T14:55:31.072Z"
   },
   {
    "duration": 199,
    "start_time": "2022-12-04T14:55:31.099Z"
   },
   {
    "duration": 120,
    "start_time": "2022-12-04T14:55:31.300Z"
   },
   {
    "duration": 77,
    "start_time": "2022-12-04T14:55:31.424Z"
   },
   {
    "duration": 116,
    "start_time": "2022-12-04T14:55:31.503Z"
   },
   {
    "duration": 23,
    "start_time": "2022-12-04T14:55:31.621Z"
   },
   {
    "duration": 7,
    "start_time": "2022-12-04T14:55:31.647Z"
   },
   {
    "duration": 16,
    "start_time": "2022-12-04T14:55:31.656Z"
   },
   {
    "duration": 14,
    "start_time": "2022-12-04T14:55:31.673Z"
   },
   {
    "duration": 29,
    "start_time": "2022-12-04T14:55:31.689Z"
   },
   {
    "duration": 12,
    "start_time": "2022-12-04T14:55:31.720Z"
   },
   {
    "duration": 7,
    "start_time": "2022-12-04T14:55:31.734Z"
   },
   {
    "duration": 19,
    "start_time": "2022-12-04T14:55:31.742Z"
   },
   {
    "duration": 8,
    "start_time": "2022-12-04T14:55:31.764Z"
   },
   {
    "duration": 10,
    "start_time": "2022-12-04T14:55:31.774Z"
   },
   {
    "duration": 2455,
    "start_time": "2022-12-04T14:55:31.786Z"
   },
   {
    "duration": 6,
    "start_time": "2022-12-04T14:55:34.243Z"
   },
   {
    "duration": 10,
    "start_time": "2022-12-04T14:55:34.251Z"
   },
   {
    "duration": 6,
    "start_time": "2022-12-04T14:55:34.264Z"
   },
   {
    "duration": 24,
    "start_time": "2022-12-04T14:55:34.272Z"
   },
   {
    "duration": 107,
    "start_time": "2022-12-04T15:05:58.639Z"
   },
   {
    "duration": 43,
    "start_time": "2022-12-05T16:48:01.125Z"
   },
   {
    "duration": 1513,
    "start_time": "2022-12-05T16:49:05.997Z"
   },
   {
    "duration": 3,
    "start_time": "2022-12-05T16:49:07.513Z"
   },
   {
    "duration": 20,
    "start_time": "2022-12-05T16:49:07.517Z"
   },
   {
    "duration": 621,
    "start_time": "2022-12-05T16:49:07.539Z"
   },
   {
    "duration": 34,
    "start_time": "2022-12-05T16:49:08.161Z"
   },
   {
    "duration": 124,
    "start_time": "2022-12-05T16:49:08.197Z"
   },
   {
    "duration": 14,
    "start_time": "2022-12-05T16:49:08.323Z"
   },
   {
    "duration": 11,
    "start_time": "2022-12-05T16:49:08.338Z"
   },
   {
    "duration": 46,
    "start_time": "2022-12-05T16:49:08.351Z"
   },
   {
    "duration": 31,
    "start_time": "2022-12-05T16:49:08.400Z"
   },
   {
    "duration": 46,
    "start_time": "2022-12-05T16:49:08.432Z"
   },
   {
    "duration": 1018,
    "start_time": "2022-12-05T16:49:08.480Z"
   },
   {
    "duration": 8,
    "start_time": "2022-12-05T16:49:09.500Z"
   },
   {
    "duration": 38,
    "start_time": "2022-12-05T16:49:09.509Z"
   },
   {
    "duration": 28,
    "start_time": "2022-12-05T16:49:09.549Z"
   },
   {
    "duration": 250,
    "start_time": "2022-12-05T16:49:09.580Z"
   },
   {
    "duration": 104,
    "start_time": "2022-12-05T16:49:09.876Z"
   },
   {
    "duration": 204,
    "start_time": "2022-12-05T16:49:09.983Z"
   },
   {
    "duration": 11,
    "start_time": "2022-12-05T16:49:10.188Z"
   },
   {
    "duration": 11,
    "start_time": "2022-12-05T16:49:10.200Z"
   },
   {
    "duration": 7,
    "start_time": "2022-12-05T16:49:10.212Z"
   },
   {
    "duration": 110,
    "start_time": "2022-12-05T16:49:10.220Z"
   },
   {
    "duration": 0,
    "start_time": "2022-12-05T16:49:10.332Z"
   },
   {
    "duration": 0,
    "start_time": "2022-12-05T16:49:10.333Z"
   },
   {
    "duration": 0,
    "start_time": "2022-12-05T16:49:10.334Z"
   },
   {
    "duration": 0,
    "start_time": "2022-12-05T16:49:10.334Z"
   },
   {
    "duration": 0,
    "start_time": "2022-12-05T16:49:10.335Z"
   },
   {
    "duration": 0,
    "start_time": "2022-12-05T16:49:10.336Z"
   },
   {
    "duration": 0,
    "start_time": "2022-12-05T16:49:10.337Z"
   },
   {
    "duration": 0,
    "start_time": "2022-12-05T16:49:10.338Z"
   },
   {
    "duration": 0,
    "start_time": "2022-12-05T16:49:10.339Z"
   },
   {
    "duration": 0,
    "start_time": "2022-12-05T16:49:10.340Z"
   },
   {
    "duration": 0,
    "start_time": "2022-12-05T16:49:10.341Z"
   },
   {
    "duration": 0,
    "start_time": "2022-12-05T16:49:10.342Z"
   },
   {
    "duration": 40,
    "start_time": "2022-12-05T16:51:10.320Z"
   },
   {
    "duration": 43,
    "start_time": "2022-12-05T16:51:35.054Z"
   },
   {
    "duration": 45,
    "start_time": "2022-12-05T16:52:18.739Z"
   },
   {
    "duration": 4,
    "start_time": "2022-12-05T16:52:49.368Z"
   },
   {
    "duration": 5,
    "start_time": "2022-12-05T16:53:10.815Z"
   },
   {
    "duration": 1237,
    "start_time": "2022-12-05T16:53:50.836Z"
   },
   {
    "duration": 3,
    "start_time": "2022-12-05T16:53:52.075Z"
   },
   {
    "duration": 7,
    "start_time": "2022-12-05T16:53:52.079Z"
   },
   {
    "duration": 363,
    "start_time": "2022-12-05T16:53:52.088Z"
   },
   {
    "duration": 39,
    "start_time": "2022-12-05T16:53:52.453Z"
   },
   {
    "duration": 124,
    "start_time": "2022-12-05T16:53:52.493Z"
   },
   {
    "duration": 14,
    "start_time": "2022-12-05T16:53:52.618Z"
   },
   {
    "duration": 11,
    "start_time": "2022-12-05T16:53:52.634Z"
   },
   {
    "duration": 53,
    "start_time": "2022-12-05T16:53:52.646Z"
   },
   {
    "duration": 30,
    "start_time": "2022-12-05T16:53:52.701Z"
   },
   {
    "duration": 44,
    "start_time": "2022-12-05T16:53:52.733Z"
   },
   {
    "duration": 1013,
    "start_time": "2022-12-05T16:53:52.779Z"
   },
   {
    "duration": 8,
    "start_time": "2022-12-05T16:53:53.794Z"
   },
   {
    "duration": 33,
    "start_time": "2022-12-05T16:53:53.804Z"
   },
   {
    "duration": 39,
    "start_time": "2022-12-05T16:53:53.838Z"
   },
   {
    "duration": 112,
    "start_time": "2022-12-05T16:53:53.878Z"
   },
   {
    "duration": 91,
    "start_time": "2022-12-05T16:53:53.992Z"
   },
   {
    "duration": 109,
    "start_time": "2022-12-05T16:53:54.176Z"
   },
   {
    "duration": 11,
    "start_time": "2022-12-05T16:53:54.286Z"
   },
   {
    "duration": 9,
    "start_time": "2022-12-05T16:53:54.299Z"
   },
   {
    "duration": 6,
    "start_time": "2022-12-05T16:53:54.310Z"
   },
   {
    "duration": 7,
    "start_time": "2022-12-05T16:53:54.317Z"
   },
   {
    "duration": 10,
    "start_time": "2022-12-05T16:53:54.326Z"
   },
   {
    "duration": 41,
    "start_time": "2022-12-05T16:53:54.338Z"
   },
   {
    "duration": 9,
    "start_time": "2022-12-05T16:53:54.381Z"
   },
   {
    "duration": 4,
    "start_time": "2022-12-05T16:53:54.392Z"
   },
   {
    "duration": 7,
    "start_time": "2022-12-05T16:53:54.397Z"
   },
   {
    "duration": 2,
    "start_time": "2022-12-05T16:53:54.407Z"
   },
   {
    "duration": 6,
    "start_time": "2022-12-05T16:53:54.411Z"
   },
   {
    "duration": 2209,
    "start_time": "2022-12-05T16:53:54.419Z"
   },
   {
    "duration": 4,
    "start_time": "2022-12-05T16:53:56.630Z"
   },
   {
    "duration": 17,
    "start_time": "2022-12-05T16:53:56.636Z"
   },
   {
    "duration": 21,
    "start_time": "2022-12-05T16:53:56.655Z"
   },
   {
    "duration": 8,
    "start_time": "2022-12-05T16:53:56.678Z"
   },
   {
    "duration": 3084,
    "start_time": "2022-12-05T17:13:41.082Z"
   },
   {
    "duration": 517,
    "start_time": "2022-12-05T17:14:04.909Z"
   },
   {
    "duration": 1265,
    "start_time": "2022-12-05T17:15:00.113Z"
   },
   {
    "duration": 3,
    "start_time": "2022-12-05T17:15:01.380Z"
   },
   {
    "duration": 59,
    "start_time": "2022-12-05T17:15:01.384Z"
   },
   {
    "duration": 425,
    "start_time": "2022-12-05T17:15:01.444Z"
   },
   {
    "duration": 30,
    "start_time": "2022-12-05T17:15:01.876Z"
   },
   {
    "duration": 131,
    "start_time": "2022-12-05T17:15:01.907Z"
   },
   {
    "duration": 13,
    "start_time": "2022-12-05T17:15:02.039Z"
   },
   {
    "duration": 35,
    "start_time": "2022-12-05T17:15:02.054Z"
   },
   {
    "duration": 40,
    "start_time": "2022-12-05T17:15:02.090Z"
   },
   {
    "duration": 92,
    "start_time": "2022-12-05T17:15:02.131Z"
   },
   {
    "duration": 41,
    "start_time": "2022-12-05T17:15:02.225Z"
   },
   {
    "duration": 1034,
    "start_time": "2022-12-05T17:15:02.268Z"
   },
   {
    "duration": 9,
    "start_time": "2022-12-05T17:15:03.305Z"
   },
   {
    "duration": 41,
    "start_time": "2022-12-05T17:15:03.316Z"
   },
   {
    "duration": 19,
    "start_time": "2022-12-05T17:15:03.359Z"
   },
   {
    "duration": 195,
    "start_time": "2022-12-05T17:15:03.381Z"
   },
   {
    "duration": 101,
    "start_time": "2022-12-05T17:15:03.578Z"
   },
   {
    "duration": 196,
    "start_time": "2022-12-05T17:15:03.681Z"
   },
   {
    "duration": 21,
    "start_time": "2022-12-05T17:15:03.879Z"
   },
   {
    "duration": 11,
    "start_time": "2022-12-05T17:15:03.901Z"
   },
   {
    "duration": 10,
    "start_time": "2022-12-05T17:15:03.913Z"
   },
   {
    "duration": 11,
    "start_time": "2022-12-05T17:15:03.925Z"
   },
   {
    "duration": 13,
    "start_time": "2022-12-05T17:15:03.938Z"
   },
   {
    "duration": 29,
    "start_time": "2022-12-05T17:15:03.952Z"
   },
   {
    "duration": 11,
    "start_time": "2022-12-05T17:15:03.983Z"
   },
   {
    "duration": 8,
    "start_time": "2022-12-05T17:15:03.996Z"
   },
   {
    "duration": 19,
    "start_time": "2022-12-05T17:15:04.008Z"
   },
   {
    "duration": 10,
    "start_time": "2022-12-05T17:15:04.029Z"
   },
   {
    "duration": 6,
    "start_time": "2022-12-05T17:15:04.041Z"
   },
   {
    "duration": 2191,
    "start_time": "2022-12-05T17:15:04.048Z"
   },
   {
    "duration": 489,
    "start_time": "2022-12-05T17:15:06.241Z"
   },
   {
    "duration": 0,
    "start_time": "2022-12-05T17:15:06.731Z"
   },
   {
    "duration": 0,
    "start_time": "2022-12-05T17:15:06.732Z"
   },
   {
    "duration": 0,
    "start_time": "2022-12-05T17:15:06.733Z"
   },
   {
    "duration": 0,
    "start_time": "2022-12-05T17:15:06.734Z"
   },
   {
    "duration": 0,
    "start_time": "2022-12-05T17:15:06.735Z"
   },
   {
    "duration": 45,
    "start_time": "2022-12-05T17:17:54.189Z"
   },
   {
    "duration": 3,
    "start_time": "2022-12-05T17:31:38.065Z"
   },
   {
    "duration": 1289,
    "start_time": "2022-12-05T17:57:22.221Z"
   },
   {
    "duration": 4,
    "start_time": "2022-12-05T17:57:23.512Z"
   },
   {
    "duration": 10,
    "start_time": "2022-12-05T17:57:23.518Z"
   },
   {
    "duration": 439,
    "start_time": "2022-12-05T17:57:23.530Z"
   },
   {
    "duration": 39,
    "start_time": "2022-12-05T17:57:23.975Z"
   },
   {
    "duration": 137,
    "start_time": "2022-12-05T17:57:24.016Z"
   },
   {
    "duration": 22,
    "start_time": "2022-12-05T17:57:24.155Z"
   },
   {
    "duration": 27,
    "start_time": "2022-12-05T17:57:24.179Z"
   },
   {
    "duration": 75,
    "start_time": "2022-12-05T17:57:24.208Z"
   },
   {
    "duration": 32,
    "start_time": "2022-12-05T17:57:24.286Z"
   },
   {
    "duration": 33,
    "start_time": "2022-12-05T17:57:24.320Z"
   },
   {
    "duration": 1155,
    "start_time": "2022-12-05T17:57:24.355Z"
   },
   {
    "duration": 9,
    "start_time": "2022-12-05T17:57:25.512Z"
   },
   {
    "duration": 41,
    "start_time": "2022-12-05T17:57:25.523Z"
   },
   {
    "duration": 20,
    "start_time": "2022-12-05T17:57:25.566Z"
   },
   {
    "duration": 193,
    "start_time": "2022-12-05T17:57:25.591Z"
   },
   {
    "duration": 106,
    "start_time": "2022-12-05T17:57:25.786Z"
   },
   {
    "duration": 191,
    "start_time": "2022-12-05T17:57:25.895Z"
   },
   {
    "duration": 12,
    "start_time": "2022-12-05T17:57:26.087Z"
   },
   {
    "duration": 24,
    "start_time": "2022-12-05T17:57:26.101Z"
   },
   {
    "duration": 6,
    "start_time": "2022-12-05T17:57:26.127Z"
   },
   {
    "duration": 11,
    "start_time": "2022-12-05T17:57:26.134Z"
   },
   {
    "duration": 32,
    "start_time": "2022-12-05T17:57:26.146Z"
   },
   {
    "duration": 13,
    "start_time": "2022-12-05T17:57:26.180Z"
   },
   {
    "duration": 10,
    "start_time": "2022-12-05T17:57:26.194Z"
   },
   {
    "duration": 14,
    "start_time": "2022-12-05T17:57:26.206Z"
   },
   {
    "duration": 6,
    "start_time": "2022-12-05T17:57:26.222Z"
   },
   {
    "duration": 5,
    "start_time": "2022-12-05T17:57:26.231Z"
   },
   {
    "duration": 6,
    "start_time": "2022-12-05T17:57:26.237Z"
   },
   {
    "duration": 2005,
    "start_time": "2022-12-05T17:57:26.245Z"
   },
   {
    "duration": 5,
    "start_time": "2022-12-05T17:57:28.252Z"
   },
   {
    "duration": 74,
    "start_time": "2022-12-05T17:57:28.258Z"
   },
   {
    "duration": 6,
    "start_time": "2022-12-05T17:57:28.334Z"
   },
   {
    "duration": 8,
    "start_time": "2022-12-05T17:57:28.341Z"
   },
   {
    "duration": 4,
    "start_time": "2022-12-05T17:59:37.660Z"
   },
   {
    "duration": 1295,
    "start_time": "2022-12-05T17:59:48.861Z"
   },
   {
    "duration": 2,
    "start_time": "2022-12-05T17:59:50.158Z"
   },
   {
    "duration": 40,
    "start_time": "2022-12-05T17:59:50.161Z"
   },
   {
    "duration": 380,
    "start_time": "2022-12-05T17:59:50.202Z"
   },
   {
    "duration": 30,
    "start_time": "2022-12-05T17:59:50.583Z"
   },
   {
    "duration": 128,
    "start_time": "2022-12-05T17:59:50.614Z"
   },
   {
    "duration": 13,
    "start_time": "2022-12-05T17:59:50.744Z"
   },
   {
    "duration": 20,
    "start_time": "2022-12-05T17:59:50.759Z"
   },
   {
    "duration": 36,
    "start_time": "2022-12-05T17:59:50.780Z"
   },
   {
    "duration": 31,
    "start_time": "2022-12-05T17:59:50.819Z"
   },
   {
    "duration": 51,
    "start_time": "2022-12-05T17:59:50.852Z"
   },
   {
    "duration": 923,
    "start_time": "2022-12-05T17:59:50.905Z"
   },
   {
    "duration": 8,
    "start_time": "2022-12-05T17:59:51.829Z"
   },
   {
    "duration": 33,
    "start_time": "2022-12-05T17:59:51.838Z"
   },
   {
    "duration": 21,
    "start_time": "2022-12-05T17:59:51.875Z"
   },
   {
    "duration": 192,
    "start_time": "2022-12-05T17:59:51.897Z"
   },
   {
    "duration": 189,
    "start_time": "2022-12-05T17:59:52.091Z"
   },
   {
    "duration": 201,
    "start_time": "2022-12-05T17:59:52.282Z"
   },
   {
    "duration": 19,
    "start_time": "2022-12-05T17:59:52.485Z"
   },
   {
    "duration": 17,
    "start_time": "2022-12-05T17:59:52.506Z"
   },
   {
    "duration": 6,
    "start_time": "2022-12-05T17:59:52.524Z"
   },
   {
    "duration": 27,
    "start_time": "2022-12-05T17:59:52.531Z"
   },
   {
    "duration": 17,
    "start_time": "2022-12-05T17:59:52.560Z"
   },
   {
    "duration": 26,
    "start_time": "2022-12-05T17:59:52.578Z"
   },
   {
    "duration": 10,
    "start_time": "2022-12-05T17:59:52.606Z"
   },
   {
    "duration": 11,
    "start_time": "2022-12-05T17:59:52.617Z"
   },
   {
    "duration": 10,
    "start_time": "2022-12-05T17:59:52.629Z"
   },
   {
    "duration": 7,
    "start_time": "2022-12-05T17:59:52.642Z"
   },
   {
    "duration": 31,
    "start_time": "2022-12-05T17:59:52.650Z"
   },
   {
    "duration": 1780,
    "start_time": "2022-12-05T17:59:52.683Z"
   },
   {
    "duration": 11,
    "start_time": "2022-12-05T17:59:54.465Z"
   },
   {
    "duration": 5,
    "start_time": "2022-12-05T17:59:54.478Z"
   },
   {
    "duration": 10,
    "start_time": "2022-12-05T17:59:54.484Z"
   },
   {
    "duration": 15,
    "start_time": "2022-12-05T17:59:54.495Z"
   },
   {
    "duration": 1205,
    "start_time": "2022-12-05T18:05:35.234Z"
   },
   {
    "duration": 3,
    "start_time": "2022-12-05T18:05:36.441Z"
   },
   {
    "duration": 13,
    "start_time": "2022-12-05T18:05:36.445Z"
   },
   {
    "duration": 355,
    "start_time": "2022-12-05T18:05:36.460Z"
   },
   {
    "duration": 32,
    "start_time": "2022-12-05T18:05:36.816Z"
   },
   {
    "duration": 137,
    "start_time": "2022-12-05T18:05:36.849Z"
   },
   {
    "duration": 13,
    "start_time": "2022-12-05T18:05:36.988Z"
   },
   {
    "duration": 16,
    "start_time": "2022-12-05T18:05:37.002Z"
   },
   {
    "duration": 39,
    "start_time": "2022-12-05T18:05:37.020Z"
   },
   {
    "duration": 43,
    "start_time": "2022-12-05T18:05:37.063Z"
   },
   {
    "duration": 34,
    "start_time": "2022-12-05T18:05:37.108Z"
   },
   {
    "duration": 1064,
    "start_time": "2022-12-05T18:05:37.143Z"
   },
   {
    "duration": 9,
    "start_time": "2022-12-05T18:05:38.209Z"
   },
   {
    "duration": 39,
    "start_time": "2022-12-05T18:05:38.219Z"
   },
   {
    "duration": 25,
    "start_time": "2022-12-05T18:05:38.260Z"
   },
   {
    "duration": 198,
    "start_time": "2022-12-05T18:05:38.288Z"
   },
   {
    "duration": 193,
    "start_time": "2022-12-05T18:05:38.493Z"
   },
   {
    "duration": 184,
    "start_time": "2022-12-05T18:05:38.693Z"
   },
   {
    "duration": 10,
    "start_time": "2022-12-05T18:05:38.879Z"
   },
   {
    "duration": 40,
    "start_time": "2022-12-05T18:05:38.890Z"
   },
   {
    "duration": 6,
    "start_time": "2022-12-05T18:05:38.931Z"
   },
   {
    "duration": 9,
    "start_time": "2022-12-05T18:05:38.938Z"
   },
   {
    "duration": 23,
    "start_time": "2022-12-05T18:05:38.949Z"
   },
   {
    "duration": 9,
    "start_time": "2022-12-05T18:05:38.973Z"
   },
   {
    "duration": 9,
    "start_time": "2022-12-05T18:05:38.984Z"
   },
   {
    "duration": 4,
    "start_time": "2022-12-05T18:05:38.994Z"
   },
   {
    "duration": 20,
    "start_time": "2022-12-05T18:05:38.999Z"
   },
   {
    "duration": 11,
    "start_time": "2022-12-05T18:05:39.021Z"
   },
   {
    "duration": 8,
    "start_time": "2022-12-05T18:05:39.033Z"
   },
   {
    "duration": 1770,
    "start_time": "2022-12-05T18:05:39.042Z"
   },
   {
    "duration": 4,
    "start_time": "2022-12-05T18:05:40.814Z"
   },
   {
    "duration": 5,
    "start_time": "2022-12-05T18:05:40.820Z"
   },
   {
    "duration": 8,
    "start_time": "2022-12-05T18:05:40.826Z"
   },
   {
    "duration": 7,
    "start_time": "2022-12-05T18:05:40.835Z"
   },
   {
    "duration": 3721,
    "start_time": "2022-12-06T14:37:18.113Z"
   },
   {
    "duration": 5,
    "start_time": "2022-12-06T14:37:37.457Z"
   },
   {
    "duration": 51,
    "start_time": "2022-12-06T15:48:17.178Z"
   },
   {
    "duration": 1677,
    "start_time": "2022-12-06T15:48:24.942Z"
   },
   {
    "duration": 3,
    "start_time": "2022-12-06T15:48:26.621Z"
   },
   {
    "duration": 18,
    "start_time": "2022-12-06T15:48:26.626Z"
   },
   {
    "duration": 1640,
    "start_time": "2022-12-06T15:48:26.646Z"
   },
   {
    "duration": 39,
    "start_time": "2022-12-06T15:48:28.289Z"
   },
   {
    "duration": 146,
    "start_time": "2022-12-06T15:48:28.330Z"
   },
   {
    "duration": 15,
    "start_time": "2022-12-06T15:48:28.478Z"
   },
   {
    "duration": 25,
    "start_time": "2022-12-06T15:48:28.495Z"
   },
   {
    "duration": 54,
    "start_time": "2022-12-06T15:48:28.522Z"
   },
   {
    "duration": 35,
    "start_time": "2022-12-06T15:48:28.578Z"
   },
   {
    "duration": 51,
    "start_time": "2022-12-06T15:48:28.615Z"
   },
   {
    "duration": 1222,
    "start_time": "2022-12-06T15:48:28.668Z"
   },
   {
    "duration": 11,
    "start_time": "2022-12-06T15:48:29.894Z"
   },
   {
    "duration": 51,
    "start_time": "2022-12-06T15:48:29.908Z"
   },
   {
    "duration": 89,
    "start_time": "2022-12-06T15:48:29.961Z"
   },
   {
    "duration": 104,
    "start_time": "2022-12-06T15:48:30.053Z"
   },
   {
    "duration": 101,
    "start_time": "2022-12-06T15:48:30.160Z"
   },
   {
    "duration": 189,
    "start_time": "2022-12-06T15:48:30.264Z"
   },
   {
    "duration": 16,
    "start_time": "2022-12-06T15:48:30.454Z"
   },
   {
    "duration": 49,
    "start_time": "2022-12-06T15:48:30.472Z"
   },
   {
    "duration": 26,
    "start_time": "2022-12-06T15:48:30.523Z"
   },
   {
    "duration": 10,
    "start_time": "2022-12-06T15:48:30.551Z"
   },
   {
    "duration": 14,
    "start_time": "2022-12-06T15:48:30.563Z"
   },
   {
    "duration": 26,
    "start_time": "2022-12-06T15:48:30.579Z"
   },
   {
    "duration": 26,
    "start_time": "2022-12-06T15:48:30.607Z"
   },
   {
    "duration": 20,
    "start_time": "2022-12-06T15:48:30.635Z"
   },
   {
    "duration": 34,
    "start_time": "2022-12-06T15:48:30.659Z"
   },
   {
    "duration": 25,
    "start_time": "2022-12-06T15:48:30.694Z"
   },
   {
    "duration": 17,
    "start_time": "2022-12-06T15:48:30.721Z"
   },
   {
    "duration": 4496,
    "start_time": "2022-12-06T15:48:30.740Z"
   },
   {
    "duration": 10,
    "start_time": "2022-12-06T15:48:35.238Z"
   },
   {
    "duration": 2125,
    "start_time": "2022-12-06T15:48:35.249Z"
   },
   {
    "duration": 7,
    "start_time": "2022-12-06T15:48:37.376Z"
   },
   {
    "duration": 8,
    "start_time": "2022-12-06T15:48:37.385Z"
   },
   {
    "duration": 12,
    "start_time": "2022-12-06T15:48:37.394Z"
   },
   {
    "duration": 10,
    "start_time": "2022-12-06T15:48:37.407Z"
   },
   {
    "duration": 13,
    "start_time": "2022-12-06T15:49:27.136Z"
   },
   {
    "duration": 1564,
    "start_time": "2022-12-06T15:49:44.568Z"
   },
   {
    "duration": 4,
    "start_time": "2022-12-06T15:49:46.134Z"
   },
   {
    "duration": 32,
    "start_time": "2022-12-06T15:49:46.140Z"
   },
   {
    "duration": 532,
    "start_time": "2022-12-06T15:49:46.175Z"
   },
   {
    "duration": 58,
    "start_time": "2022-12-06T15:49:46.709Z"
   },
   {
    "duration": 207,
    "start_time": "2022-12-06T15:49:46.769Z"
   },
   {
    "duration": 20,
    "start_time": "2022-12-06T15:49:46.978Z"
   },
   {
    "duration": 23,
    "start_time": "2022-12-06T15:49:47.000Z"
   },
   {
    "duration": 68,
    "start_time": "2022-12-06T15:49:47.026Z"
   },
   {
    "duration": 53,
    "start_time": "2022-12-06T15:49:47.098Z"
   },
   {
    "duration": 45,
    "start_time": "2022-12-06T15:49:47.153Z"
   },
   {
    "duration": 1197,
    "start_time": "2022-12-06T15:49:47.200Z"
   },
   {
    "duration": 9,
    "start_time": "2022-12-06T15:49:48.399Z"
   },
   {
    "duration": 60,
    "start_time": "2022-12-06T15:49:48.410Z"
   },
   {
    "duration": 84,
    "start_time": "2022-12-06T15:49:48.472Z"
   },
   {
    "duration": 113,
    "start_time": "2022-12-06T15:49:48.558Z"
   },
   {
    "duration": 107,
    "start_time": "2022-12-06T15:49:48.753Z"
   },
   {
    "duration": 201,
    "start_time": "2022-12-06T15:49:48.865Z"
   },
   {
    "duration": 15,
    "start_time": "2022-12-06T15:49:49.069Z"
   },
   {
    "duration": 14,
    "start_time": "2022-12-06T15:49:49.086Z"
   },
   {
    "duration": 7,
    "start_time": "2022-12-06T15:49:49.102Z"
   },
   {
    "duration": 41,
    "start_time": "2022-12-06T15:49:49.111Z"
   },
   {
    "duration": 16,
    "start_time": "2022-12-06T15:49:49.154Z"
   },
   {
    "duration": 15,
    "start_time": "2022-12-06T15:49:49.173Z"
   },
   {
    "duration": 17,
    "start_time": "2022-12-06T15:49:49.190Z"
   },
   {
    "duration": 13,
    "start_time": "2022-12-06T15:49:49.209Z"
   },
   {
    "duration": 33,
    "start_time": "2022-12-06T15:49:49.225Z"
   },
   {
    "duration": 6,
    "start_time": "2022-12-06T15:49:49.262Z"
   },
   {
    "duration": 13,
    "start_time": "2022-12-06T15:49:49.270Z"
   },
   {
    "duration": 2470,
    "start_time": "2022-12-06T15:49:49.284Z"
   },
   {
    "duration": 8,
    "start_time": "2022-12-06T15:49:51.756Z"
   },
   {
    "duration": 2190,
    "start_time": "2022-12-06T15:49:51.765Z"
   },
   {
    "duration": 7,
    "start_time": "2022-12-06T15:49:53.956Z"
   },
   {
    "duration": 7,
    "start_time": "2022-12-06T15:49:53.966Z"
   },
   {
    "duration": 32,
    "start_time": "2022-12-06T15:49:53.975Z"
   },
   {
    "duration": 27,
    "start_time": "2022-12-06T15:49:54.009Z"
   },
   {
    "duration": 27,
    "start_time": "2022-12-06T16:48:31.000Z"
   }
  ],
  "kernelspec": {
   "display_name": "Python 3 (ipykernel)",
   "language": "python",
   "name": "python3"
  },
  "language_info": {
   "codemirror_mode": {
    "name": "ipython",
    "version": 3
   },
   "file_extension": ".py",
   "mimetype": "text/x-python",
   "name": "python",
   "nbconvert_exporter": "python",
   "pygments_lexer": "ipython3",
   "version": "3.9.15"
  },
  "toc": {
   "base_numbering": 1,
   "nav_menu": {},
   "number_sections": true,
   "sideBar": true,
   "skip_h1_title": true,
   "title_cell": "Table of Contents",
   "title_sidebar": "Contents",
   "toc_cell": false,
   "toc_position": {},
   "toc_section_display": true,
   "toc_window_display": false
  }
 },
 "nbformat": 4,
 "nbformat_minor": 2
}
